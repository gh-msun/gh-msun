{
 "cells": [
  {
   "cell_type": "code",
   "execution_count": 47,
   "metadata": {},
   "outputs": [
    {
     "data": {
      "text/plain": [
       "DataTransformerRegistry.enable('default')"
      ]
     },
     "execution_count": 47,
     "metadata": {},
     "output_type": "execute_result"
    }
   ],
   "source": [
    "import os\n",
    "import numpy as np\n",
    "import pandas as pd\n",
    "import random\n",
    "import glob\n",
    "import datetime\n",
    "import itertools\n",
    "import altair as alt\n",
    "import seaborn as sns\n",
    "import matplotlib.pyplot as plt\n",
    "import nbformat\n",
    "\n",
    "pd.set_option('display.max_rows', 1000)\n",
    "pd.set_option('display.max_columns', 500)\n",
    "alt.data_transformers.disable_max_rows()"
   ]
  },
  {
   "cell_type": "markdown",
   "metadata": {},
   "source": [
    "### Parameters and File Paths"
   ]
  },
  {
   "cell_type": "code",
   "execution_count": 48,
   "metadata": {},
   "outputs": [],
   "source": [
    "FILTER_COV = 20\n",
    "FILTER_COV_COEFF = 0.5\n",
    "SCORE_VAR = 'frac_alpha_leq_25pct'\n",
    "#--- Local paths\n",
    "ROOT_DIR = '/analysis/'\n",
    "PROJECT_SLUG = '2023_06_15_BCdeconvolution_AS'\n",
    "PROJECT_DIR = ROOT_DIR + '/{}'.format(PROJECT_SLUG)\n",
    "\n",
    "DATA_DIR = ROOT_DIR + '/{}'.format('2023_06_15_BCdeconvolution_AS/stage')\n",
    "\n",
    "# Sample annotations\n",
    "SAMPLE_PATH = DATA_DIR + ''\n",
    "# Methylation data\n",
    "SCORE_PATH = (\n",
    "    PROJECT_DIR + '/output/meth_summaries/buffycoat_meth_summaries_cg_count_geq_3_deconvolution_v2.v23_conv.with_cpg_index.tsv.gz'\n",
    ")\n",
    "# Reference matrix\n",
    "ATLAS_PATH = (\n",
    "    PROJECT_DIR + '/output/ref/deconv_inhouse_v2.atlas.tsv.gz'\n",
    "#    DATA_DIR + '/data/deconv/deconv_inhouse_v2.atlas.tsv.gz'\n",
    ")\n",
    "REGION_PATH = (\n",
    "    PROJECT_DIR + '/output/ref/deconv_inhouse_v2.region_to_ref_celltype.tsv.gz'\n",
    ")\n",
    "# COVERAGE_PATH = (\n",
    "#     PROJECT_DIR + '/data/region_coverage_estimates.deconvolution_v2.v23_conv.tsv'\n",
    "# )\n",
    "# Where to store graphics\n",
    "RESULTS_PATH = PROJECT_DIR + '/output/deconv/deconv_inhouse_v2_blueprint'"
   ]
  },
  {
   "cell_type": "markdown",
   "metadata": {},
   "source": [
    "### ATLAS"
   ]
  },
  {
   "cell_type": "code",
   "execution_count": 125,
   "metadata": {},
   "outputs": [
    {
     "data": {
      "text/plain": [
       "(280, 9)"
      ]
     },
     "execution_count": 125,
     "metadata": {},
     "output_type": "execute_result"
    }
   ],
   "source": [
    "atlas = pd.read_csv(ATLAS_PATH, sep='\\t',index_col=None)\n",
    "atlas = atlas.set_index('region_id')\n",
    "atlas.columns.name = 'ref_celltype'\n",
    "atlas.shape"
   ]
  },
  {
   "cell_type": "code",
   "execution_count": 126,
   "metadata": {},
   "outputs": [
    {
     "data": {
      "text/plain": [
       "280"
      ]
     },
     "execution_count": 126,
     "metadata": {},
     "output_type": "execute_result"
    }
   ],
   "source": [
    "ref_region_df = pd.read_csv(REGION_PATH, sep='\\t')\n",
    "ref_region_df.shape[0]"
   ]
  },
  {
   "cell_type": "code",
   "execution_count": 127,
   "metadata": {},
   "outputs": [
    {
     "data": {
      "text/plain": [
       "(280, 9)"
      ]
     },
     "execution_count": 127,
     "metadata": {},
     "output_type": "execute_result"
    }
   ],
   "source": [
    "atlas = atlas.loc[ref_region_df['region_id'], :].copy()\n",
    "atlas.shape"
   ]
  },
  {
   "cell_type": "markdown",
   "metadata": {},
   "source": [
    "### Methylation Scores"
   ]
  },
  {
   "cell_type": "code",
   "execution_count": 128,
   "metadata": {},
   "outputs": [],
   "source": [
    "SCORE_PATH='/analysis/gh-msun/projects/2023_06_26_SRT_deconvolution_MS/output/methyl_score/test_mixture.tsv.gz'\n",
    "score_df = pd.read_csv(SCORE_PATH, sep='\\t')\n",
    "# score_df['sample_id'].nunique()"
   ]
  },
  {
   "cell_type": "code",
   "execution_count": 129,
   "metadata": {},
   "outputs": [],
   "source": [
    "atlas = atlas[atlas.index.isin(score_df.region_id)]"
   ]
  },
  {
   "cell_type": "code",
   "execution_count": 130,
   "metadata": {},
   "outputs": [
    {
     "data": {
      "text/html": [
       "<div>\n",
       "<style scoped>\n",
       "    .dataframe tbody tr th:only-of-type {\n",
       "        vertical-align: middle;\n",
       "    }\n",
       "\n",
       "    .dataframe tbody tr th {\n",
       "        vertical-align: top;\n",
       "    }\n",
       "\n",
       "    .dataframe thead th {\n",
       "        text-align: right;\n",
       "    }\n",
       "</style>\n",
       "<table border=\"1\" class=\"dataframe\">\n",
       "  <thead>\n",
       "    <tr style=\"text-align: right;\">\n",
       "      <th>ref_celltype</th>\n",
       "      <th>immune_b</th>\n",
       "      <th>immune_t</th>\n",
       "      <th>immune_nk</th>\n",
       "      <th>immune_dend_plus_macro_plus_mono</th>\n",
       "      <th>immune_eosi</th>\n",
       "      <th>immune_neutro</th>\n",
       "      <th>immune_eryth</th>\n",
       "      <th>immune_mega</th>\n",
       "      <th>eryth_prog</th>\n",
       "    </tr>\n",
       "    <tr>\n",
       "      <th>region_id</th>\n",
       "      <th></th>\n",
       "      <th></th>\n",
       "      <th></th>\n",
       "      <th></th>\n",
       "      <th></th>\n",
       "      <th></th>\n",
       "      <th></th>\n",
       "      <th></th>\n",
       "      <th></th>\n",
       "    </tr>\n",
       "  </thead>\n",
       "  <tbody>\n",
       "    <tr>\n",
       "      <th>Immune_Broad_B-chr1:1114772-1114971</th>\n",
       "      <td>0.954541</td>\n",
       "      <td>0.006215</td>\n",
       "      <td>0.000000</td>\n",
       "      <td>0.012992</td>\n",
       "      <td>0.005208</td>\n",
       "      <td>0.002255</td>\n",
       "      <td>0.013889</td>\n",
       "      <td>0.012048</td>\n",
       "      <td>0.030417</td>\n",
       "    </tr>\n",
       "    <tr>\n",
       "      <th>Immune_Broad_B-chr10:45390756-45390847</th>\n",
       "      <td>0.905821</td>\n",
       "      <td>0.008588</td>\n",
       "      <td>0.045092</td>\n",
       "      <td>0.007154</td>\n",
       "      <td>0.000000</td>\n",
       "      <td>0.008713</td>\n",
       "      <td>0.064953</td>\n",
       "      <td>0.021491</td>\n",
       "      <td>0.206392</td>\n",
       "    </tr>\n",
       "    <tr>\n",
       "      <th>Immune_Broad_B-chr10:126289835-126290065</th>\n",
       "      <td>0.947659</td>\n",
       "      <td>0.003568</td>\n",
       "      <td>0.069420</td>\n",
       "      <td>0.009761</td>\n",
       "      <td>0.000000</td>\n",
       "      <td>0.003088</td>\n",
       "      <td>0.000000</td>\n",
       "      <td>0.005155</td>\n",
       "      <td>0.055057</td>\n",
       "    </tr>\n",
       "    <tr>\n",
       "      <th>Immune_Broad_B-chr10:126290368-126290506</th>\n",
       "      <td>0.928200</td>\n",
       "      <td>0.005704</td>\n",
       "      <td>0.000000</td>\n",
       "      <td>0.013708</td>\n",
       "      <td>0.048423</td>\n",
       "      <td>0.001361</td>\n",
       "      <td>0.009259</td>\n",
       "      <td>0.000000</td>\n",
       "      <td>0.031746</td>\n",
       "    </tr>\n",
       "    <tr>\n",
       "      <th>Immune_Broad_B-chr11:75988912-75989088</th>\n",
       "      <td>0.973406</td>\n",
       "      <td>0.006640</td>\n",
       "      <td>0.006439</td>\n",
       "      <td>0.003429</td>\n",
       "      <td>0.000000</td>\n",
       "      <td>0.003071</td>\n",
       "      <td>0.008475</td>\n",
       "      <td>0.007576</td>\n",
       "      <td>0.113996</td>\n",
       "    </tr>\n",
       "  </tbody>\n",
       "</table>\n",
       "</div>"
      ],
      "text/plain": [
       "ref_celltype                              immune_b  immune_t  immune_nk  \\\n",
       "region_id                                                                 \n",
       "Immune_Broad_B-chr1:1114772-1114971       0.954541  0.006215   0.000000   \n",
       "Immune_Broad_B-chr10:45390756-45390847    0.905821  0.008588   0.045092   \n",
       "Immune_Broad_B-chr10:126289835-126290065  0.947659  0.003568   0.069420   \n",
       "Immune_Broad_B-chr10:126290368-126290506  0.928200  0.005704   0.000000   \n",
       "Immune_Broad_B-chr11:75988912-75989088    0.973406  0.006640   0.006439   \n",
       "\n",
       "ref_celltype                              immune_dend_plus_macro_plus_mono  \\\n",
       "region_id                                                                    \n",
       "Immune_Broad_B-chr1:1114772-1114971                               0.012992   \n",
       "Immune_Broad_B-chr10:45390756-45390847                            0.007154   \n",
       "Immune_Broad_B-chr10:126289835-126290065                          0.009761   \n",
       "Immune_Broad_B-chr10:126290368-126290506                          0.013708   \n",
       "Immune_Broad_B-chr11:75988912-75989088                            0.003429   \n",
       "\n",
       "ref_celltype                              immune_eosi  immune_neutro  \\\n",
       "region_id                                                              \n",
       "Immune_Broad_B-chr1:1114772-1114971          0.005208       0.002255   \n",
       "Immune_Broad_B-chr10:45390756-45390847       0.000000       0.008713   \n",
       "Immune_Broad_B-chr10:126289835-126290065     0.000000       0.003088   \n",
       "Immune_Broad_B-chr10:126290368-126290506     0.048423       0.001361   \n",
       "Immune_Broad_B-chr11:75988912-75989088       0.000000       0.003071   \n",
       "\n",
       "ref_celltype                              immune_eryth  immune_mega  \\\n",
       "region_id                                                             \n",
       "Immune_Broad_B-chr1:1114772-1114971           0.013889     0.012048   \n",
       "Immune_Broad_B-chr10:45390756-45390847        0.064953     0.021491   \n",
       "Immune_Broad_B-chr10:126289835-126290065      0.000000     0.005155   \n",
       "Immune_Broad_B-chr10:126290368-126290506      0.009259     0.000000   \n",
       "Immune_Broad_B-chr11:75988912-75989088        0.008475     0.007576   \n",
       "\n",
       "ref_celltype                              eryth_prog  \n",
       "region_id                                             \n",
       "Immune_Broad_B-chr1:1114772-1114971         0.030417  \n",
       "Immune_Broad_B-chr10:45390756-45390847      0.206392  \n",
       "Immune_Broad_B-chr10:126289835-126290065    0.055057  \n",
       "Immune_Broad_B-chr10:126290368-126290506    0.031746  \n",
       "Immune_Broad_B-chr11:75988912-75989088      0.113996  "
      ]
     },
     "execution_count": 130,
     "metadata": {},
     "output_type": "execute_result"
    }
   ],
   "source": [
    "atlas.head()"
   ]
  },
  {
   "cell_type": "code",
   "execution_count": 131,
   "metadata": {},
   "outputs": [],
   "source": [
    "from scipy.optimize import nnls\n",
    "\n",
    "def compute_mixture(b, atlas):\n",
    "    \n",
    "    ridxs = ~b.isna()\n",
    "    b_hat = b[ridxs]\n",
    "    atlas_hat = atlas.loc[b_hat.index, :]\n",
    "    fit = nnls(atlas_hat, b_hat)\n",
    "    rv = pd.Series(fit[0], index=atlas_hat.columns)\n",
    "    \n",
    "    return(rv)"
   ]
  },
  {
   "cell_type": "code",
   "execution_count": null,
   "metadata": {},
   "outputs": [],
   "source": []
  },
  {
   "cell_type": "code",
   "execution_count": 133,
   "metadata": {},
   "outputs": [
    {
     "data": {
      "text/plain": [
       "ref_celltype\n",
       "immune_b                            0.507198\n",
       "immune_t                            0.494235\n",
       "immune_nk                           0.000000\n",
       "immune_dend_plus_macro_plus_mono    0.000000\n",
       "immune_eosi                         0.006003\n",
       "immune_neutro                       0.002169\n",
       "immune_eryth                        0.008058\n",
       "immune_mega                         0.000000\n",
       "eryth_prog                          0.000000\n",
       "dtype: float64"
      ]
     },
     "execution_count": 133,
     "metadata": {},
     "output_type": "execute_result"
    }
   ],
   "source": [
    "compute_mixture(b=score_df, atlas=atlas)"
   ]
  },
  {
   "cell_type": "code",
   "execution_count": null,
   "metadata": {},
   "outputs": [],
   "source": []
  },
  {
   "cell_type": "code",
   "execution_count": null,
   "metadata": {},
   "outputs": [],
   "source": []
  },
  {
   "cell_type": "code",
   "execution_count": null,
   "metadata": {},
   "outputs": [],
   "source": []
  }
 ],
 "metadata": {
  "kernelspec": {
   "display_name": "Python 3",
   "language": "python",
   "name": "python3"
  },
  "language_info": {
   "codemirror_mode": {
    "name": "ipython",
    "version": 3
   },
   "file_extension": ".py",
   "mimetype": "text/x-python",
   "name": "python",
   "nbconvert_exporter": "python",
   "pygments_lexer": "ipython3",
   "version": "3.7.8"
  }
 },
 "nbformat": 4,
 "nbformat_minor": 4
}
