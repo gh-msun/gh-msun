{
 "cells": [
  {
   "cell_type": "code",
   "execution_count": 1,
   "metadata": {},
   "outputs": [
    {
     "name": "stderr",
     "output_type": "stream",
     "text": [
      "/home/ec2-user/mambaforge/envs/2023_06_26_SRT_deconvolution_MS/lib/python3.7/site-packages/pyspark/context.py:317: FutureWarning: Python 3.7 support is deprecated in Spark 3.4.\n",
      "  warnings.warn(\"Python 3.7 support is deprecated in Spark 3.4.\", FutureWarning)\n"
     ]
    }
   ],
   "source": [
    "import pandas as pd\n",
    "import glob\n",
    "import numpy as np\n",
    "import itertools\n",
    "import functools\n",
    "import os\n",
    "import regex as re\n",
    "import random\n",
    "import importlib\n",
    "import sys\n",
    "\n",
    "from pyspark.sql import SparkSession\n",
    "from pyspark import SparkConf, SparkContext\n",
    "from pyspark.sql.types import IntegerType, LongType, ArrayType, StringType, DoubleType\n",
    "from pyspark.sql.functions import udf, explode, broadcast, count, lit, length, col\n",
    "from pyspark.sql import DataFrame\n",
    "from pyspark.sql.types import StructType\n",
    "\n",
    "# UPDATE HOME!\n",
    "os.environ[\"SPARK_HOME\"] = \"/home/ec2-user/mambaforge/envs/2023_06_26_SRT_deconvolution_MS/lib/python3.7/site-packages/pyspark\"\n",
    "# THIS needs to be set-up before running the notebook\n",
    "os.environ[\"SPARK_LOCAL_DIRS\"] = \"/temp\"\n",
    "os.environ[\"PYARROW_IGNORE_TIMEZONE\"] = \"1\"\n",
    "\n",
    "spark_conf = SparkConf()\n",
    "spark_conf.set(\"spark.ui.showConsoleProgress\", \"True\")\n",
    "spark_conf.set(\"spark.executor.instances\", \"2\")\n",
    "spark_conf.set(\"spark.executor.cores\", \"2\")\n",
    "spark_conf.set(\"spark.executor.memory\", \"16g\")\n",
    "spark_conf.set(\"spark.driver.memory\", \"64g\")\n",
    "spark_conf.set(\"spark.driver.maxResultSize\", \"32g\")\n",
    "spark_conf.set(\"spark.parquet.filterPushdown\", \"true\")\n",
    "spark_conf.set(\"spark.local.dir\", \"/temp\")\n",
    "spark_conf.getAll()\n",
    "\n",
    "sc = SparkContext(conf=spark_conf)\n",
    "sc.setLogLevel(\"ERROR\")\n",
    "spark = SparkSession(sc)\n",
    "\n",
    "pd.set_option('display.max_rows', 500)\n",
    "pd.set_option('display.max_columns', 500)\n",
    "pd.set_option('display.width', 1000)"
   ]
  },
  {
   "cell_type": "code",
   "execution_count": 2,
   "metadata": {},
   "outputs": [],
   "source": [
    "# Local paths\n",
    "EXPERIMENT_NAME = 'TESTING'\n",
    "ROOT_DIR = '/analysis/gh-msun/'\n",
    "PROJECT_SLUG = '2023_06_26_SRT_deconvolution_MS'\n",
    "PROJECT_DIR = ROOT_DIR + f'projects/{PROJECT_SLUG}/'\n",
    "EXPERIMENT_DIR = PROJECT_DIR + f'output/experiment/{EXPERIMENT_NAME}/'\n",
    "\n",
    "# Load all custom scripts\n",
    "SCRIPT_DIR = PROJECT_DIR + 'scripts/'\n",
    "SCRIPT_MIXTURE = SCRIPT_DIR + 'create_mixture.py'\n",
    "SCRIPT_SCORE = SCRIPT_DIR + 'score_matrix.py'\n",
    "SCRIPT_DECONVOLUTION = SCRIPT_DIR + 'deconvolution.py'\n",
    "sys.path.append(SCRIPT_DIR)\n",
    "\n",
    "import create_mixture as cm\n",
    "import score_matrix as sm\n",
    "import deconvolution as dcnv\n",
    "\n",
    "pd.set_option('display.max_rows', 500)\n",
    "pd.set_option('display.max_columns', 500)\n",
    "pd.set_option('display.width', 1000)"
   ]
  },
  {
   "cell_type": "code",
   "execution_count": 34,
   "metadata": {},
   "outputs": [
    {
     "data": {
      "text/plain": [
       "<module 'deconvolution' from '/analysis/gh-msun/projects/2023_06_26_SRT_deconvolution_MS/scripts/deconvolution.py'>"
      ]
     },
     "execution_count": 34,
     "metadata": {},
     "output_type": "execute_result"
    }
   ],
   "source": [
    "importlib.reload(cm)\n",
    "importlib.reload(sm)\n",
    "importlib.reload(dcnv)"
   ]
  },
  {
   "cell_type": "markdown",
   "metadata": {},
   "source": [
    "## Create mixture"
   ]
  },
  {
   "cell_type": "code",
   "execution_count": 3,
   "metadata": {},
   "outputs": [],
   "source": [
    "############################\n",
    "#   Parameters and paths   # \n",
    "############################\n",
    "\n",
    "# PARQUET_PATH = EXPERIMENT_DIR + 'mixture_source/'\n",
    "PARQUET_PATH = PROJECT_DIR + 'output/mixture_source/'\n",
    "RESULT_PATH = EXPERIMENT_DIR + 'mixture/'\n",
    "\n",
    "def punif(p, n):\n",
    "    return((1-p)/n)\n",
    "\n",
    "k=5\n",
    "p1, p2, p3 = 0.1, 0.01, 0.001\n",
    "p1_, p2_, p3_ = punif(p1, k), punif(p2, k), punif(p3, k)\n",
    "\n",
    "PROPORTIONS = [np.array([p1, p1_, p1_, p1_, p1_, p1_]),\n",
    "               np.array([p2, p2_, p2_, p2_, p2_, p2_]),\n",
    "               np.array([p3, p3_, p3_, p3_, p3_, p3_])]\n",
    "\n",
    "N=3\n",
    "SEED = 888\n",
    "TOTAL_READS_TO_SAMPLE = 25000\n",
    "CELLTYPES = ['Blueprint-B', 'Blueprint-CD4', 'Blueprint-CD8', 'Blueprint-NK', 'Blueprint-Mono', 'Blueprint-Neutro']\n",
    "CELLTYPES_ABRIDGED_NAME = ['B', 'CD4', 'CD8', 'NK', 'Mono', 'Neutro']"
   ]
  },
  {
   "cell_type": "code",
   "execution_count": 4,
   "metadata": {},
   "outputs": [
    {
     "name": "stdout",
     "output_type": "stream",
     "text": [
      ">>> Load parquet files and count rows... <<<\n",
      "----------> Loading cell type: Blueprint-B\n",
      "----------> Loading cell type: Blueprint-CD4\n",
      "----------> Loading cell type: Blueprint-CD8\n",
      "----------> Loading cell type: Blueprint-NK\n",
      "----------> Loading cell type: Blueprint-Mono\n",
      "----------> Loading cell type: Blueprint-Neutro\n",
      ">>> Complete. <<< \n",
      "\n",
      ">>> Start mixing... <<<\n",
      "--> PROPORTION: [0.1  0.18 0.18 0.18 0.18 0.18]\n",
      "----------> Creating mixture 0... \n",
      "----------> Creating mixture 1... \n",
      "----------> Creating mixture 2... \n",
      "--> PROPORTION: [0.01  0.198 0.198 0.198 0.198 0.198]\n",
      "----------> Creating mixture 0... \n",
      "----------> Creating mixture 1... \n",
      "----------> Creating mixture 2... \n",
      "--> PROPORTION: [0.001  0.1998 0.1998 0.1998 0.1998 0.1998]\n",
      "----------> Creating mixture 0... \n",
      "----------> Creating mixture 1... \n",
      "----------> Creating mixture 2... \n",
      ">>> Complete. <<< \n",
      "\n"
     ]
    }
   ],
   "source": [
    "%%time\n",
    "# load parquet files for each celltype & count rows\n",
    "parquet_df, total_reads_per_celltype = cm.load_parquet_dataframe(parquet_path=PARQUET_PATH,\n",
    "                                                                  cell_types=CELLTYPES,\n",
    "                                                                  spark=spark,\n",
    "                                                                  verbose=True)\n",
    "\n",
    "# mix cell types for each proportion set\n",
    "cm.mix_celltypes_multiple_proportions(parquet_df=parquet_df,\n",
    "                                       total_reads_per_celltype=total_reads_per_celltype,\n",
    "                                       n=N, \n",
    "                                       cell_types=CELLTYPES, \n",
    "                                       cell_type_abridged_name=CELLTYPES_ABRIDGED_NAME, \n",
    "                                       total_reads_to_sample=TOTAL_READS_TO_SAMPLE, \n",
    "                                       list_of_proportions=PROPORTIONS, \n",
    "                                       seed=SEED, \n",
    "                                       result_path=RESULT_PATH, \n",
    "                                       spark=spark,\n",
    "                                       verbose=False, \n",
    "                                       save=True)"
   ]
  },
  {
   "cell_type": "markdown",
   "metadata": {},
   "source": [
    "## Compute score matrix"
   ]
  },
  {
   "cell_type": "code",
   "execution_count": 39,
   "metadata": {},
   "outputs": [],
   "source": [
    "############################\n",
    "#   Parameters and paths   # \n",
    "############################\n",
    "\n",
    "REGIONS = 'deconvolution_v2.v23_conv.with_cpg_index'\n",
    "REGION_BED_COLS = [\n",
    "    'region_chr', 'region_start', 'region_end', \n",
    "    'region_cpg_index_min', 'region_cpg_index_max', 'region_id'\n",
    "]\n",
    "\n",
    "# Regions\n",
    "REGION_PATH = (\n",
    "    PROJECT_DIR + '/stage/panel_data/{regions}.bed'\n",
    ").format(regions=REGIONS)\n",
    "\n",
    "# CpG map; genomic coordinate to CpG index;\n",
    "CPG_MAP_PATH = PROJECT_DIR + '/stage/cpg_loci/cpg_loci_hg19.combined_annot.tsv.gz'\n",
    "\n",
    "#--- Where to store results\n",
    "PATH_TO_MIXTURE_DIR = EXPERIMENT_DIR + 'mixture/'\n",
    "RESULT_PATH = EXPERIMENT_DIR\n"
   ]
  },
  {
   "cell_type": "code",
   "execution_count": 6,
   "metadata": {},
   "outputs": [],
   "source": [
    "cpg_map = pd.read_csv(CPG_MAP_PATH, usecols=['chr', 'start', 'end', 'cpg_index', 'cpg_index_hg38'], sep='\\t')"
   ]
  },
  {
   "cell_type": "code",
   "execution_count": 7,
   "metadata": {},
   "outputs": [
    {
     "name": "stdout",
     "output_type": "stream",
     "text": [
      "CPU times: user 15.9 s, sys: 23.2 s, total: 39.1 s\n",
      "Wall time: 39.5 s\n"
     ]
    }
   ],
   "source": [
    "%%time\n",
    "ridxs = ~cpg_map['cpg_index_hg38'].isna()\n",
    "hg19_hg38_map = dict(itertools.zip_longest(cpg_map[ridxs]['cpg_index'], cpg_map[ridxs]['cpg_index_hg38'].astype(int)))\n",
    "hg38_hg19_map = dict(itertools.zip_longest(cpg_map[ridxs]['cpg_index_hg38'].astype(int), cpg_map[ridxs]['cpg_index']))"
   ]
  },
  {
   "cell_type": "code",
   "execution_count": 8,
   "metadata": {},
   "outputs": [
    {
     "data": {
      "text/plain": [
       "(1658, 1658)"
      ]
     },
     "execution_count": 8,
     "metadata": {},
     "output_type": "execute_result"
    }
   ],
   "source": [
    "region_df = pd.read_csv(REGION_PATH, sep='\\t', usecols=range(0, 6), names=REGION_BED_COLS)\n",
    "\n",
    "region_df['region_cpg_index_max'] -= 1\n",
    "region_df.sort_values('region_cpg_index_min', inplace=True)\n",
    "region_df['region_cpg_index_min_hg38'] = region_df['region_cpg_index_min'].map(hg19_hg38_map)\n",
    "region_df['region_cpg_index_max_hg38'] = region_df['region_cpg_index_max'].map(hg19_hg38_map)\n",
    "\n",
    "region_df.shape[0], region_df['region_id'].nunique()"
   ]
  },
  {
   "cell_type": "code",
   "execution_count": 9,
   "metadata": {},
   "outputs": [
    {
     "data": {
      "text/plain": [
       "(1658, 1658)"
      ]
     },
     "execution_count": 9,
     "metadata": {},
     "output_type": "execute_result"
    }
   ],
   "source": [
    "ridxs = ~region_df['region_cpg_index_min_hg38'].isna()\n",
    "ridxs &= ~region_df['region_cpg_index_max_hg38'].isna()\n",
    "region_df = region_df[ridxs].copy()\n",
    "region_df.shape[0], region_df['region_id'].nunique()"
   ]
  },
  {
   "cell_type": "code",
   "execution_count": 10,
   "metadata": {},
   "outputs": [
    {
     "data": {
      "text/plain": [
       "(1657, 1657)"
      ]
     },
     "execution_count": 10,
     "metadata": {},
     "output_type": "execute_result"
    }
   ],
   "source": [
    "cg_count_hg19 = region_df['region_cpg_index_max']-region_df['region_cpg_index_min'] + 1\n",
    "cg_count_hg38 = region_df['region_cpg_index_max_hg38']-region_df['region_cpg_index_min_hg38'] + 1\n",
    "ridxs = (cg_count_hg19==cg_count_hg38)\n",
    "ridxs &= (cg_count_hg19>=FILTER_CG_COUNT_REGION)\n",
    "region_df = region_df[ridxs].copy()\n",
    "region_df.shape[0], region_df['region_id'].nunique()"
   ]
  },
  {
   "cell_type": "code",
   "execution_count": 11,
   "metadata": {},
   "outputs": [],
   "source": [
    "region_df['region_cpg_index_min_hg38'] = region_df['region_cpg_index_min_hg38'].astype(int)\n",
    "region_df['region_cpg_index_max_hg38'] = region_df['region_cpg_index_max_hg38'].astype(int)"
   ]
  },
  {
   "cell_type": "code",
   "execution_count": 13,
   "metadata": {},
   "outputs": [
    {
     "data": {
      "text/html": [
       "<div>\n",
       "<style scoped>\n",
       "    .dataframe tbody tr th:only-of-type {\n",
       "        vertical-align: middle;\n",
       "    }\n",
       "\n",
       "    .dataframe tbody tr th {\n",
       "        vertical-align: top;\n",
       "    }\n",
       "\n",
       "    .dataframe thead th {\n",
       "        text-align: right;\n",
       "    }\n",
       "</style>\n",
       "<table border=\"1\" class=\"dataframe\">\n",
       "  <thead>\n",
       "    <tr style=\"text-align: right;\">\n",
       "      <th></th>\n",
       "      <th>region_chr</th>\n",
       "      <th>region_start</th>\n",
       "      <th>region_end</th>\n",
       "      <th>region_cpg_index_min</th>\n",
       "      <th>region_cpg_index_max</th>\n",
       "      <th>region_id</th>\n",
       "      <th>region_cpg_index_min_hg38</th>\n",
       "      <th>region_cpg_index_max_hg38</th>\n",
       "    </tr>\n",
       "  </thead>\n",
       "  <tbody>\n",
       "    <tr>\n",
       "      <th>0</th>\n",
       "      <td>chr1</td>\n",
       "      <td>1114771</td>\n",
       "      <td>1114971</td>\n",
       "      <td>20117</td>\n",
       "      <td>20129</td>\n",
       "      <td>Immune_Broad_B-chr1:1114772-1114971</td>\n",
       "      <td>21119</td>\n",
       "      <td>21131</td>\n",
       "    </tr>\n",
       "    <tr>\n",
       "      <th>1</th>\n",
       "      <td>chr1</td>\n",
       "      <td>1157450</td>\n",
       "      <td>1157720</td>\n",
       "      <td>21684</td>\n",
       "      <td>21703</td>\n",
       "      <td>Immune_Broad_NK-chr1:1157451-1157720</td>\n",
       "      <td>22686</td>\n",
       "      <td>22705</td>\n",
       "    </tr>\n",
       "    <tr>\n",
       "      <th>2</th>\n",
       "      <td>chr1</td>\n",
       "      <td>1157879</td>\n",
       "      <td>1158277</td>\n",
       "      <td>21710</td>\n",
       "      <td>21726</td>\n",
       "      <td>Immune_Broad_NK-chr1:1157880-1158277</td>\n",
       "      <td>22712</td>\n",
       "      <td>22728</td>\n",
       "    </tr>\n",
       "    <tr>\n",
       "      <th>14</th>\n",
       "      <td>chr1</td>\n",
       "      <td>6341182</td>\n",
       "      <td>6341377</td>\n",
       "      <td>140667</td>\n",
       "      <td>140681</td>\n",
       "      <td>Immune_Broad_Eosi-chr1:6341183-6341377</td>\n",
       "      <td>142368</td>\n",
       "      <td>142382</td>\n",
       "    </tr>\n",
       "    <tr>\n",
       "      <th>19</th>\n",
       "      <td>chr1</td>\n",
       "      <td>9147788</td>\n",
       "      <td>9147871</td>\n",
       "      <td>188605</td>\n",
       "      <td>188608</td>\n",
       "      <td>Immune_Broad_Neutro-chr1:9147789-9147871</td>\n",
       "      <td>190307</td>\n",
       "      <td>190310</td>\n",
       "    </tr>\n",
       "  </tbody>\n",
       "</table>\n",
       "</div>"
      ],
      "text/plain": [
       "   region_chr  region_start  region_end  region_cpg_index_min  region_cpg_index_max                                 region_id  region_cpg_index_min_hg38  region_cpg_index_max_hg38\n",
       "0        chr1       1114771     1114971                 20117                 20129       Immune_Broad_B-chr1:1114772-1114971                      21119                      21131\n",
       "1        chr1       1157450     1157720                 21684                 21703      Immune_Broad_NK-chr1:1157451-1157720                      22686                      22705\n",
       "2        chr1       1157879     1158277                 21710                 21726      Immune_Broad_NK-chr1:1157880-1158277                      22712                      22728\n",
       "14       chr1       6341182     6341377                140667                140681    Immune_Broad_Eosi-chr1:6341183-6341377                     142368                     142382\n",
       "19       chr1       9147788     9147871                188605                188608  Immune_Broad_Neutro-chr1:9147789-9147871                     190307                     190310"
      ]
     },
     "execution_count": 13,
     "metadata": {},
     "output_type": "execute_result"
    }
   ],
   "source": [
    "### Restrict to immune regions\n",
    "#-------------- CHANGE HERE FOR DIFFERENT REGION SUBSET ----------------------\n",
    "# BLUEPRINT immune regions\n",
    "ATLAS_PATH = PROJECT_DIR + f'/output/reference/deconv_inhouse_v2.atlas.tsv.gz'\n",
    "atlas = pd.read_csv(ATLAS_PATH, sep='\\t')\n",
    "subset_region_set = set(atlas.region_id)\n",
    "#-----------------------------------------------------------------------------\n",
    "\n",
    "# filter regions down to regions of interest\n",
    "region_df = region_df[region_df['region_id'].isin(subset_region_set)]\n",
    "region_df.head()"
   ]
  },
  {
   "cell_type": "code",
   "execution_count": null,
   "metadata": {},
   "outputs": [
    {
     "name": "stdout",
     "output_type": "stream",
     "text": [
      ">>> Start computing score matrices <<< \n",
      "\n",
      "--> E1B_E18CD4_E18CD8_E18NK_E18MONO_E18NEUTRO\n",
      "--------> Computing score matrix for mix0_seed512070\n"
     ]
    }
   ],
   "source": [
    "%%time\n",
    "\n",
    "FILTER_CG_COUNT = 3\n",
    "FILTER_CG_COUNT_REGION = 1\n",
    "\n",
    "PAT_COLS = [\n",
    "    'molecule_id', 'chr', 'number_molecules',\n",
    "    'cpg_index_min', 'cpg_index_max', 'pat_string'\n",
    "]\n",
    "\n",
    "QUANTILES = [0.1, 0.25, 0.75, 0.9]\n",
    "KMERS = [1, 3, 4]\n",
    "RATES_LEQ = [0.25]\n",
    "RATES_GEQ = [0.75]\n",
    "\n",
    "RETURN_SCHEMA = StructType()\\\n",
    "    .add('region_id', 'string')\\\n",
    "    .add('number_molecules', 'integer')\\\n",
    "    .add('meth_k1', 'integer')\\\n",
    "    .add('unmeth_k1', 'integer')\\\n",
    "    .add('total_k1', 'integer')\\\n",
    "    .add('meth_k3', 'integer')\\\n",
    "    .add('unmeth_k3', 'integer')\\\n",
    "    .add('total_k3', 'integer')\\\n",
    "    .add('meth_k4', 'integer')\\\n",
    "    .add('unmeth_k4', 'integer')\\\n",
    "    .add('total_k4', 'integer')\\\n",
    "    .add('frac_alpha_leq_25pct', 'float')\\\n",
    "    .add('frac_alpha_geq_75pct', 'float')\n",
    "\n",
    "compute_frag_scores_udf = sm.compute_frag_scores(cpg_number_cutoff=FILTER_CG_COUNT, schema=RETURN_SCHEMA, kmers=KMERS, rates_leq=RATES_LEQ, rates_geq=RATES_GEQ)\n",
    "\n",
    "\n",
    "# compute methyl score for are parquet files\n",
    "sm.score_matrix_from_mixture_directory(path_to_mixture_dir = PATH_TO_MIXTURE_DIR, \n",
    "                                       result_path = RESULT_PATH, \n",
    "                                       pat_cols = PAT_COLS, \n",
    "                                       region_df = region_df, \n",
    "                                       batch_size = 20, \n",
    "                                       schema = RETURN_SCHEMA, \n",
    "                                       spark=spark,\n",
    "                                       compute_frag_scores_udf=compute_frag_scores_udf,\n",
    "                                       save=True, \n",
    "                                       verbose=False)"
   ]
  },
  {
   "cell_type": "code",
   "execution_count": 36,
   "metadata": {},
   "outputs": [
    {
     "data": {
      "text/plain": [
       "'/analysis/gh-msun/projects/2023_06_26_SRT_deconvolution_MS/output/experiment/BLUEPRINT_B/'"
      ]
     },
     "execution_count": 36,
     "metadata": {},
     "output_type": "execute_result"
    }
   ],
   "source": [
    "RESULT_PATH "
   ]
  },
  {
   "cell_type": "code",
   "execution_count": null,
   "metadata": {},
   "outputs": [],
   "source": []
  },
  {
   "cell_type": "markdown",
   "metadata": {},
   "source": [
    "## Deconvolution"
   ]
  },
  {
   "cell_type": "code",
   "execution_count": null,
   "metadata": {},
   "outputs": [],
   "source": [
    "############################\n",
    "#   Parameters and paths   # \n",
    "############################\n",
    "\n",
    "SCORE_VAR = 'frac_alpha_leq_25pct'\n",
    "\n",
    "# Reference matrix\n",
    "ATLAS_PATH = PROJECT_DIR + 'output/reference/deconv_inhouse_v2.atlas.tsv.gz'\n",
    "REGION_PATH = PROJECT_DIR + 'output/reference/deconv_inhouse_v2.region_to_ref_celltype.tsv.gz'\n",
    "\n",
    "# Methylation score matrix\n",
    "SCORE_DIR = EXPERIMENT_DIR + 'methyl_score/'\n",
    "\n",
    "# SCORE_PATH = (\n",
    "#     SCORE_DIR + \\\n",
    "#     'E1B_E18CD4_E18CD8_E18NK_E18MONO_E18NEUTRO/' + \\\n",
    "#     'mix0_seed512070.tsv.gz'\n",
    "# )"
   ]
  },
  {
   "cell_type": "code",
   "execution_count": null,
   "metadata": {},
   "outputs": [],
   "source": [
    "atlas = pd.read_csv(ATLAS_PATH, sep='\\t',index_col=None)\n",
    "atlas = atlas.set_index('region_id')\n",
    "atlas.columns.name = 'ref_celltype'\n",
    "atlas.shape"
   ]
  },
  {
   "cell_type": "code",
   "execution_count": null,
   "metadata": {},
   "outputs": [],
   "source": [
    "ref_region_df = pd.read_csv(REGION_PATH, sep='\\t')\n",
    "ref_region_df.shape[0]"
   ]
  },
  {
   "cell_type": "code",
   "execution_count": null,
   "metadata": {},
   "outputs": [],
   "source": [
    "atlas = atlas.loc[ref_region_df['region_id'], :].copy()\n",
    "atlas.shape"
   ]
  },
  {
   "cell_type": "code",
   "execution_count": null,
   "metadata": {},
   "outputs": [],
   "source": [
    "%%time\n",
    "testing = dcnv.compute_deconvolution_methyl_score_dir(path_to_methyl_score_dir=SCORE_DIR, \n",
    "                                                      score_type=SCORE_VAR, \n",
    "                                                      atlas=atlas, \n",
    "                                                      match=False)\n"
   ]
  }
 ],
 "metadata": {
  "kernelspec": {
   "display_name": "Python 3",
   "language": "python",
   "name": "python3"
  },
  "language_info": {
   "codemirror_mode": {
    "name": "ipython",
    "version": 3
   },
   "file_extension": ".py",
   "mimetype": "text/x-python",
   "name": "python",
   "nbconvert_exporter": "python",
   "pygments_lexer": "ipython3",
   "version": "3.7.8"
  }
 },
 "nbformat": 4,
 "nbformat_minor": 4
}
