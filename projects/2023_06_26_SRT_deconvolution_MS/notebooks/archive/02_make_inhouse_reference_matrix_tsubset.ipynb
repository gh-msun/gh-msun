{
 "cells": [
  {
   "cell_type": "markdown",
   "metadata": {},
   "source": [
    "# Deconvolution Using In-House V2 Panel\n",
    "\n",
    "Here we will construct reference matrix to estimate standard cell-type proportions using in-house v2 panel. Our focus is on CRC/AA samples. Thus we will only include broad immune cell-types, abundant non-immune cell-types and colon/small-intestine epithelial cells."
   ]
  },
  {
   "cell_type": "markdown",
   "metadata": {},
   "source": [
    "## Initialisation"
   ]
  },
  {
   "cell_type": "code",
   "execution_count": 2,
   "metadata": {},
   "outputs": [],
   "source": [
    "import os\n",
    "import numpy as np\n",
    "import pandas as pd\n",
    "import random\n",
    "import glob\n",
    "import datetime\n",
    "import itertools\n",
    "import seaborn as sns\n",
    "\n",
    "pd.set_option('display.max_rows', 1000)\n",
    "pd.set_option('display.max_columns', 500)"
   ]
  },
  {
   "cell_type": "markdown",
   "metadata": {},
   "source": [
    "### Parameters and File Paths"
   ]
  },
  {
   "cell_type": "code",
   "execution_count": 3,
   "metadata": {},
   "outputs": [],
   "source": [
    "FILTER_COV = 10\n",
    "SCORE_VAR = 'frac_alpha_leq_25pct'\n",
    "#--- Local paths\n",
    "ROOT_DIR = '/analysis/gh-msun/projects'\n",
    "PROJECT_SLUG = '2023_06_26_SRT_deconvolution_MS'\n",
    "PROJECT_DIR = ROOT_DIR + '/{}'.format(PROJECT_SLUG)\n",
    "DATA_DIR = ROOT_DIR + '/{}'.format(PROJECT_SLUG) + '/stage'\n",
    "\n",
    "SAMPLE_PATH = DATA_DIR + '/metadata/samples_wgbs.20230329.tsv'\n",
    "\n",
    "# Methylation scores for reference WGBS samples.\n",
    "SCORE_PATH = (\n",
    "    DATA_DIR + '/ref_methyl_summaries/meth_summaries_cg_count_geq_3_deconvolution_v2.v23_conv.tsv.gz'\n",
    ")\n",
    "# SCORE_PATH = (\n",
    "#     '/analysis/gh-msun/projects/2023_06_26_SRT_deconvolution_MS/output/meth_summaries/blueprint_meth_summaries_cg_count_geq_3_deconvolution_v2.v23_conv.with_cpg_index.tsv.gz'\n",
    "# )\n",
    "\n",
    "# Region annotation\n",
    "REGION_PATH = (\n",
    "    DATA_DIR + '/panel_data/deconvolution_v2.v23_panel_design.tsv.gz'\n",
    ")\n",
    "# Where to store deconvolution results\n",
    "RESULTS_PATH = (\n",
    "    PROJECT_DIR + '/output/deconv_inhouse_v2'\n",
    ")"
   ]
  },
  {
   "cell_type": "markdown",
   "metadata": {},
   "source": [
    "### Sample Metadata"
   ]
  },
  {
   "cell_type": "code",
   "execution_count": 4,
   "metadata": {},
   "outputs": [
    {
     "data": {
      "text/plain": [
       "'/analysis/gh-msun/projects/2023_06_26_SRT_deconvolution_MS/stage/ref_methyl_summaries/meth_summaries_cg_count_geq_3_deconvolution_v2.v23_conv.tsv.gz'"
      ]
     },
     "execution_count": 4,
     "metadata": {},
     "output_type": "execute_result"
    }
   ],
   "source": [
    "SCORE_PATH"
   ]
  },
  {
   "cell_type": "code",
   "execution_count": 5,
   "metadata": {},
   "outputs": [],
   "source": [
    "sample_df = pd.read_csv(SAMPLE_PATH, sep='\\t')\n",
    "ridxs = sample_df['source'].isin(['blueprint_loyfer2022'])\n",
    "sample_df = sample_df[ridxs].copy()"
   ]
  },
  {
   "cell_type": "code",
   "execution_count": 6,
   "metadata": {},
   "outputs": [
    {
     "data": {
      "text/html": [
       "<div>\n",
       "<style scoped>\n",
       "    .dataframe tbody tr th:only-of-type {\n",
       "        vertical-align: middle;\n",
       "    }\n",
       "\n",
       "    .dataframe tbody tr th {\n",
       "        vertical-align: top;\n",
       "    }\n",
       "\n",
       "    .dataframe thead th {\n",
       "        text-align: right;\n",
       "    }\n",
       "</style>\n",
       "<table border=\"1\" class=\"dataframe\">\n",
       "  <thead>\n",
       "    <tr style=\"text-align: right;\">\n",
       "      <th></th>\n",
       "      <th>sample_id</th>\n",
       "      <th>patient_id</th>\n",
       "      <th>cell_type</th>\n",
       "      <th>sample_group</th>\n",
       "      <th>age</th>\n",
       "      <th>source</th>\n",
       "      <th>stage_group</th>\n",
       "      <th>tumor_purity</th>\n",
       "    </tr>\n",
       "  </thead>\n",
       "  <tbody>\n",
       "    <tr>\n",
       "      <th>0</th>\n",
       "      <td>GSM5652176</td>\n",
       "      <td>Z000000T7</td>\n",
       "      <td>Adipocytes</td>\n",
       "      <td>Adipocytes</td>\n",
       "      <td>53.0</td>\n",
       "      <td>blueprint_loyfer2022</td>\n",
       "      <td>NaN</td>\n",
       "      <td>NaN</td>\n",
       "    </tr>\n",
       "    <tr>\n",
       "      <th>1</th>\n",
       "      <td>GSM5652177</td>\n",
       "      <td>Z000000T9</td>\n",
       "      <td>Adipocytes</td>\n",
       "      <td>Adipocytes</td>\n",
       "      <td>35.0</td>\n",
       "      <td>blueprint_loyfer2022</td>\n",
       "      <td>NaN</td>\n",
       "      <td>NaN</td>\n",
       "    </tr>\n",
       "    <tr>\n",
       "      <th>2</th>\n",
       "      <td>GSM5652178</td>\n",
       "      <td>Z000000T5</td>\n",
       "      <td>Adipocytes</td>\n",
       "      <td>Adipocytes</td>\n",
       "      <td>37.0</td>\n",
       "      <td>blueprint_loyfer2022</td>\n",
       "      <td>NaN</td>\n",
       "      <td>NaN</td>\n",
       "    </tr>\n",
       "    <tr>\n",
       "      <th>3</th>\n",
       "      <td>GSM5652179</td>\n",
       "      <td>Endothelium</td>\n",
       "      <td>Endothelium</td>\n",
       "      <td>Endothelium</td>\n",
       "      <td>33.0</td>\n",
       "      <td>blueprint_loyfer2022</td>\n",
       "      <td>NaN</td>\n",
       "      <td>NaN</td>\n",
       "    </tr>\n",
       "    <tr>\n",
       "      <th>4</th>\n",
       "      <td>GSM5652180</td>\n",
       "      <td>Endothelium</td>\n",
       "      <td>Endothelium</td>\n",
       "      <td>Endothelium</td>\n",
       "      <td>62.0</td>\n",
       "      <td>blueprint_loyfer2022</td>\n",
       "      <td>NaN</td>\n",
       "      <td>NaN</td>\n",
       "    </tr>\n",
       "  </tbody>\n",
       "</table>\n",
       "</div>"
      ],
      "text/plain": [
       "    sample_id   patient_id    cell_type sample_group   age  \\\n",
       "0  GSM5652176    Z000000T7   Adipocytes   Adipocytes  53.0   \n",
       "1  GSM5652177    Z000000T9   Adipocytes   Adipocytes  35.0   \n",
       "2  GSM5652178    Z000000T5   Adipocytes   Adipocytes  37.0   \n",
       "3  GSM5652179  Endothelium  Endothelium  Endothelium  33.0   \n",
       "4  GSM5652180  Endothelium  Endothelium  Endothelium  62.0   \n",
       "\n",
       "                 source stage_group  tumor_purity  \n",
       "0  blueprint_loyfer2022         NaN           NaN  \n",
       "1  blueprint_loyfer2022         NaN           NaN  \n",
       "2  blueprint_loyfer2022         NaN           NaN  \n",
       "3  blueprint_loyfer2022         NaN           NaN  \n",
       "4  blueprint_loyfer2022         NaN           NaN  "
      ]
     },
     "execution_count": 6,
     "metadata": {},
     "output_type": "execute_result"
    }
   ],
   "source": [
    "sample_df.head()"
   ]
  },
  {
   "cell_type": "code",
   "execution_count": 9,
   "metadata": {},
   "outputs": [
    {
     "data": {
      "text/plain": [
       "sample_group\n",
       "Adipocytes                3\n",
       "Bladder-Ep                5\n",
       "Blood-B                   5\n",
       "Blood-Granul              3\n",
       "Blood-Mono+Macro         11\n",
       "Blood-NK                  3\n",
       "Blood-T                  22\n",
       "Blueprint-B              17\n",
       "Blueprint-CD4            14\n",
       "Blueprint-CD8            10\n",
       "Blueprint-Dend            2\n",
       "Blueprint-Eosi            2\n",
       "Blueprint-Eryth           2\n",
       "Blueprint-Macro          18\n",
       "Blueprint-Mega            2\n",
       "Blueprint-Mono            8\n",
       "Blueprint-NK              4\n",
       "Blueprint-Neutro         21\n",
       "Bone-Osteob               1\n",
       "Breast-Basal-Ep           4\n",
       "Breast-Luminal-Ep         3\n",
       "Colon-Ep                  8\n",
       "Colon-Fibro               2\n",
       "Dermal-Fibro              1\n",
       "Endothelium              19\n",
       "Epid-Kerat                1\n",
       "Eryth-prog                3\n",
       "Fallopian-Ep              3\n",
       "Gallbladder               1\n",
       "Gastric-Ep               11\n",
       "Head-Neck-Ep             13\n",
       "Heart-Cardio              6\n",
       "Heart-Fibro               4\n",
       "Kidney-Ep                 8\n",
       "Liver-Hep                 6\n",
       "Lung-Ep-Alveo             4\n",
       "Lung-Ep-Bron              3\n",
       "Neuron                   10\n",
       "Oligodend                 4\n",
       "Ovary+Endom-Ep            4\n",
       "Pancreas-Acinar           4\n",
       "Pancreas-Alpha            3\n",
       "Pancreas-Beta             3\n",
       "Pancreas-Delta            3\n",
       "Pancreas-Duct             4\n",
       "Prostate-Ep               4\n",
       "Skeletal-Musc             2\n",
       "Small-Int-Ep              5\n",
       "Smooth-Musc               5\n",
       "Thyroid-Ep                3\n",
       "Umbilical-Endothelium     4\n",
       "dtype: int64"
      ]
     },
     "execution_count": 9,
     "metadata": {},
     "output_type": "execute_result"
    }
   ],
   "source": [
    "summary = sample_df\\\n",
    "    .fillna('none')\\\n",
    "    .groupby(['sample_group'])\\\n",
    "    .size()\n",
    "summary"
   ]
  },
  {
   "cell_type": "code",
   "execution_count": 14,
   "metadata": {
    "tags": []
   },
   "outputs": [],
   "source": [
    "# update sample group with cell type for T cell subset\n",
    "# rest of smaples will be aggregated into Blueprint CD4 or CD8\n",
    "\n",
    "t_subset_list = ['regulatory T cell',\n",
    "                 'effector memory CD8-positive, alpha-beta T cell', \n",
    "                 'effector memory CD8-positive, alpha-beta T cell, terminally differentiated',\n",
    "                 'central memory CD8-positive, alpha-beta T cell']\n",
    "\n",
    "for index, row in sample_df.iterrows():\n",
    "    if row['cell_type'] in t_subset_list:\n",
    "        sample_df.at[index, 'sample_group'] = row['cell_type']"
   ]
  },
  {
   "cell_type": "code",
   "execution_count": 15,
   "metadata": {
    "tags": []
   },
   "outputs": [
    {
     "data": {
      "text/plain": [
       "sample_group\n",
       "Adipocytes                                                                     3\n",
       "Bladder-Ep                                                                     5\n",
       "Blood-B                                                                        5\n",
       "Blood-Granul                                                                   3\n",
       "Blood-Mono+Macro                                                              11\n",
       "Blood-NK                                                                       3\n",
       "Blood-T                                                                       22\n",
       "Blueprint-B                                                                   17\n",
       "Blueprint-CD4                                                                 12\n",
       "Blueprint-CD8                                                                  4\n",
       "Blueprint-Dend                                                                 2\n",
       "Blueprint-Eosi                                                                 2\n",
       "Blueprint-Eryth                                                                2\n",
       "Blueprint-Macro                                                               18\n",
       "Blueprint-Mega                                                                 2\n",
       "Blueprint-Mono                                                                 8\n",
       "Blueprint-NK                                                                   4\n",
       "Blueprint-Neutro                                                              21\n",
       "Bone-Osteob                                                                    1\n",
       "Breast-Basal-Ep                                                                4\n",
       "Breast-Luminal-Ep                                                              3\n",
       "Colon-Ep                                                                       8\n",
       "Colon-Fibro                                                                    2\n",
       "Dermal-Fibro                                                                   1\n",
       "Endothelium                                                                   19\n",
       "Epid-Kerat                                                                     1\n",
       "Eryth-prog                                                                     3\n",
       "Fallopian-Ep                                                                   3\n",
       "Gallbladder                                                                    1\n",
       "Gastric-Ep                                                                    11\n",
       "Head-Neck-Ep                                                                  13\n",
       "Heart-Cardio                                                                   6\n",
       "Heart-Fibro                                                                    4\n",
       "Kidney-Ep                                                                      8\n",
       "Liver-Hep                                                                      6\n",
       "Lung-Ep-Alveo                                                                  4\n",
       "Lung-Ep-Bron                                                                   3\n",
       "Neuron                                                                        10\n",
       "Oligodend                                                                      4\n",
       "Ovary+Endom-Ep                                                                 4\n",
       "Pancreas-Acinar                                                                4\n",
       "Pancreas-Alpha                                                                 3\n",
       "Pancreas-Beta                                                                  3\n",
       "Pancreas-Delta                                                                 3\n",
       "Pancreas-Duct                                                                  4\n",
       "Prostate-Ep                                                                    4\n",
       "Skeletal-Musc                                                                  2\n",
       "Small-Int-Ep                                                                   5\n",
       "Smooth-Musc                                                                    5\n",
       "Thyroid-Ep                                                                     3\n",
       "Umbilical-Endothelium                                                          4\n",
       "central memory CD8-positive, alpha-beta T cell                                 2\n",
       "effector memory CD8-positive, alpha-beta T cell                                2\n",
       "effector memory CD8-positive, alpha-beta T cell, terminally differentiated     2\n",
       "regulatory T cell                                                              2\n",
       "dtype: int64"
      ]
     },
     "execution_count": 15,
     "metadata": {},
     "output_type": "execute_result"
    }
   ],
   "source": [
    "summary = sample_df\\\n",
    "    .fillna('none')\\\n",
    "    .groupby(['sample_group'])\\\n",
    "    .size()\n",
    "summary"
   ]
  },
  {
   "cell_type": "markdown",
   "metadata": {},
   "source": [
    "### Regions"
   ]
  },
  {
   "cell_type": "code",
   "execution_count": 16,
   "metadata": {},
   "outputs": [
    {
     "data": {
      "text/plain": [
       "(1930, 1658)"
      ]
     },
     "execution_count": 16,
     "metadata": {},
     "output_type": "execute_result"
    }
   ],
   "source": [
    "region_df = pd.read_csv(REGION_PATH, sep='\\t')\n",
    "ridxs = (region_df['v23_conv']==1)\n",
    "region_df = region_df[ridxs].copy()\n",
    "region_df.shape[0], region_df['region_id'].nunique()"
   ]
  },
  {
   "cell_type": "code",
   "execution_count": 17,
   "metadata": {
    "tags": []
   },
   "outputs": [
    {
     "data": {
      "text/html": [
       "<div>\n",
       "<style scoped>\n",
       "    .dataframe tbody tr th:only-of-type {\n",
       "        vertical-align: middle;\n",
       "    }\n",
       "\n",
       "    .dataframe tbody tr th {\n",
       "        vertical-align: top;\n",
       "    }\n",
       "\n",
       "    .dataframe thead th {\n",
       "        text-align: right;\n",
       "    }\n",
       "</style>\n",
       "<table border=\"1\" class=\"dataframe\">\n",
       "  <thead>\n",
       "    <tr style=\"text-align: right;\">\n",
       "      <th></th>\n",
       "      <th>region_chr</th>\n",
       "      <th>region_start</th>\n",
       "      <th>region_end</th>\n",
       "      <th>region_id</th>\n",
       "      <th>target_celltype</th>\n",
       "      <th>subpanel</th>\n",
       "      <th>v23_conv</th>\n",
       "      <th>v23_unconv</th>\n",
       "      <th>region_start_original</th>\n",
       "      <th>region_end_original</th>\n",
       "    </tr>\n",
       "  </thead>\n",
       "  <tbody>\n",
       "    <tr>\n",
       "      <th>0</th>\n",
       "      <td>chr1</td>\n",
       "      <td>1114772</td>\n",
       "      <td>1114971</td>\n",
       "      <td>Immune_Broad_B-chr1:1114772-1114971</td>\n",
       "      <td>Immune_Broad_B</td>\n",
       "      <td>immune_broad</td>\n",
       "      <td>1</td>\n",
       "      <td>1</td>\n",
       "      <td>1114772.0</td>\n",
       "      <td>1114971.0</td>\n",
       "    </tr>\n",
       "    <tr>\n",
       "      <th>1</th>\n",
       "      <td>chr1</td>\n",
       "      <td>1157451</td>\n",
       "      <td>1157720</td>\n",
       "      <td>Immune_Broad_NK-chr1:1157451-1157720</td>\n",
       "      <td>Immune_Broad_NK</td>\n",
       "      <td>immune_broad</td>\n",
       "      <td>1</td>\n",
       "      <td>1</td>\n",
       "      <td>1157451.0</td>\n",
       "      <td>1157720.0</td>\n",
       "    </tr>\n",
       "    <tr>\n",
       "      <th>2</th>\n",
       "      <td>chr1</td>\n",
       "      <td>1157880</td>\n",
       "      <td>1158277</td>\n",
       "      <td>Immune_Broad_NK-chr1:1157880-1158277</td>\n",
       "      <td>Immune_Broad_NK</td>\n",
       "      <td>immune_broad</td>\n",
       "      <td>1</td>\n",
       "      <td>1</td>\n",
       "      <td>1157880.0</td>\n",
       "      <td>1158277.0</td>\n",
       "    </tr>\n",
       "    <tr>\n",
       "      <th>3</th>\n",
       "      <td>chr1</td>\n",
       "      <td>1652589</td>\n",
       "      <td>1652708</td>\n",
       "      <td>Loyfer2022_Preprint_Colon-Ep:Gastric-Ep:Small-...</td>\n",
       "      <td>Loyfer2022_Preprint_Colon-Ep:Gastric-Ep:Small-...</td>\n",
       "      <td>external</td>\n",
       "      <td>1</td>\n",
       "      <td>0</td>\n",
       "      <td>1652504.0</td>\n",
       "      <td>1652793.0</td>\n",
       "    </tr>\n",
       "    <tr>\n",
       "      <th>4</th>\n",
       "      <td>chr1</td>\n",
       "      <td>1652673</td>\n",
       "      <td>1652792</td>\n",
       "      <td>Loyfer2022_Preprint_Colon-Ep:Gastric-Ep:Small-...</td>\n",
       "      <td>Loyfer2022_Preprint_Colon-Ep:Gastric-Ep:Small-...</td>\n",
       "      <td>external</td>\n",
       "      <td>1</td>\n",
       "      <td>1</td>\n",
       "      <td>1652504.0</td>\n",
       "      <td>1652793.0</td>\n",
       "    </tr>\n",
       "  </tbody>\n",
       "</table>\n",
       "</div>"
      ],
      "text/plain": [
       "  region_chr  region_start  region_end  \\\n",
       "0       chr1       1114772     1114971   \n",
       "1       chr1       1157451     1157720   \n",
       "2       chr1       1157880     1158277   \n",
       "3       chr1       1652589     1652708   \n",
       "4       chr1       1652673     1652792   \n",
       "\n",
       "                                           region_id  \\\n",
       "0                Immune_Broad_B-chr1:1114772-1114971   \n",
       "1               Immune_Broad_NK-chr1:1157451-1157720   \n",
       "2               Immune_Broad_NK-chr1:1157880-1158277   \n",
       "3  Loyfer2022_Preprint_Colon-Ep:Gastric-Ep:Small-...   \n",
       "4  Loyfer2022_Preprint_Colon-Ep:Gastric-Ep:Small-...   \n",
       "\n",
       "                                     target_celltype      subpanel  v23_conv  \\\n",
       "0                                     Immune_Broad_B  immune_broad         1   \n",
       "1                                    Immune_Broad_NK  immune_broad         1   \n",
       "2                                    Immune_Broad_NK  immune_broad         1   \n",
       "3  Loyfer2022_Preprint_Colon-Ep:Gastric-Ep:Small-...      external         1   \n",
       "4  Loyfer2022_Preprint_Colon-Ep:Gastric-Ep:Small-...      external         1   \n",
       "\n",
       "   v23_unconv  region_start_original  region_end_original  \n",
       "0           1              1114772.0            1114971.0  \n",
       "1           1              1157451.0            1157720.0  \n",
       "2           1              1157880.0            1158277.0  \n",
       "3           0              1652504.0            1652793.0  \n",
       "4           1              1652504.0            1652793.0  "
      ]
     },
     "execution_count": 17,
     "metadata": {},
     "output_type": "execute_result"
    }
   ],
   "source": [
    "region_df.head()"
   ]
  },
  {
   "cell_type": "markdown",
   "metadata": {},
   "source": [
    "Duplication is due to the fact that some regions are spread across several MSRE cut-site clusters."
   ]
  },
  {
   "cell_type": "code",
   "execution_count": 18,
   "metadata": {},
   "outputs": [
    {
     "data": {
      "text/plain": [
       "(1658, 1658)"
      ]
     },
     "execution_count": 18,
     "metadata": {},
     "output_type": "execute_result"
    }
   ],
   "source": [
    "region_df = region_df[['region_id', 'subpanel', 'target_celltype']].drop_duplicates()\n",
    "region_df.shape[0], region_df['region_id'].nunique()"
   ]
  },
  {
   "cell_type": "code",
   "execution_count": 19,
   "metadata": {},
   "outputs": [
    {
     "data": {
      "text/plain": [
       "subpanel            target_celltype                                      \n",
       "external            Literature_Age                                            30\n",
       "                    Literature_Immune                                         30\n",
       "                    Loyfer2022_Preprint_Blood-B                               13\n",
       "                    Loyfer2022_Preprint_Blood-Granul                          13\n",
       "                    Loyfer2022_Preprint_Blood-Mono+Macro                      15\n",
       "                    Loyfer2022_Preprint_Blood-NK                              13\n",
       "                    Loyfer2022_Preprint_Blood-T                               16\n",
       "                    Loyfer2022_Preprint_Breast-Basal-Ep                       25\n",
       "                    Loyfer2022_Preprint_Breast-Basal-Ep:Breast-Luminal-Ep     22\n",
       "                    Loyfer2022_Preprint_Colon-Ep                              13\n",
       "                    Loyfer2022_Preprint_Colon-Ep:Gastric-Ep:Small-Int-Ep      14\n",
       "                    Loyfer2022_Preprint_Colon-Ep:Small-Int-Ep                 10\n",
       "                    Loyfer2022_Preprint_Colon-Fibro:Heart-Fibro               20\n",
       "                    Loyfer2022_Preprint_Gastric-Ep:Small-Int-Ep               10\n",
       "                    Loyfer2022_Preprint_Liver-Hep                             11\n",
       "                    Loyfer2022_Preprint_Lung-Ep-Alveo                         14\n",
       "                    Loyfer2022_Preprint_Lung-Ep-Alveo:Lung-Ep-Bron            11\n",
       "                    Loyfer2022_Preprint_Lung-Ep-Bron                          13\n",
       "                    Loyfer2022_Preprint_Small-Int-Ep                          12\n",
       "                    Loyfer2022_Published_Colon-Ep:Small-Int-Ep               112\n",
       "                    SRY                                                        1\n",
       "immune_broad        Immune_Broad_B                                            49\n",
       "                    Immune_Broad_CD4                                           2\n",
       "                    Immune_Broad_CD4_plus_CD8                                 43\n",
       "                    Immune_Broad_CD8                                           4\n",
       "                    Immune_Broad_Dend                                         21\n",
       "                    Immune_Broad_Dend_plus_Macro_plus_Mono                    13\n",
       "                    Immune_Broad_Eosi                                         38\n",
       "                    Immune_Broad_Macro                                         7\n",
       "                    Immune_Broad_Mono                                          1\n",
       "                    Immune_Broad_NK                                           53\n",
       "                    Immune_Broad_Neutro                                       29\n",
       "immune_refined      Immune_Refined_B_Memory                                   25\n",
       "                    Immune_Refined_B_Memory_Switched                           1\n",
       "                    Immune_Refined_B_Naive1                                    1\n",
       "                    Immune_Refined_B_Naive2                                    1\n",
       "                    Immune_Refined_B_Plasma                                   21\n",
       "                    Immune_Refined_B_Precursor                                17\n",
       "                    Immune_Refined_CD4_Reg                                    30\n",
       "                    Immune_Refined_CD8_Memory_Central                         11\n",
       "                    Immune_Refined_CD8_Memory_Effector2                        6\n",
       "                    Immune_Refined_Eryth                                      25\n",
       "                    Immune_Refined_Macro                                      29\n",
       "                    Immune_Refined_Macro_M2                                   16\n",
       "                    Immune_Refined_Mega                                       29\n",
       "                    Immune_Refined_Mono2                                      21\n",
       "immune_specialised  Immune_Lymph_B_Activated                                  20\n",
       "                    Immune_Lymph_B_Naive                                      31\n",
       "                    Immune_Lymph_CD4_Activated_wo_CM                           3\n",
       "                    Immune_Lymph_CD4_Naive_wo_CM                               5\n",
       "                    Immune_Lymph_CD4_plus_CD8_Activated_wo_CM                 18\n",
       "                    Immune_Lymph_CD4_plus_CD8_Naive_wo_CM                     12\n",
       "                    Immune_Lymph_CD8_Activated_wo_CM                          11\n",
       "                    Immune_Lymph_CD8_Naive_wo_CM                              29\n",
       "                    Immune_Myel_Neutro_Mature                                  8\n",
       "nonimmune           Adipocytes                                                21\n",
       "                    Bladder_Ep                                                12\n",
       "                    Breast_Basal_Ep                                           38\n",
       "                    Breast_Luminal_Ep                                         30\n",
       "                    Colon_Ep                                                  21\n",
       "                    Endothelium                                               35\n",
       "                    Eryth_prog                                                22\n",
       "                    Esophagus_Ep                                              26\n",
       "                    Fibro_Musc                                                24\n",
       "                    Gastric_Ep                                                17\n",
       "                    Head_Neck_Ep                                              22\n",
       "                    Heart_Cardio                                              31\n",
       "                    Kidney_Ep                                                 13\n",
       "                    Liver_Hep                                                 34\n",
       "                    Lung_Ep_Alveo                                             27\n",
       "                    Lung_Ep_Bron                                              24\n",
       "                    Neuron_plus_Oligodend                                     38\n",
       "                    Ovary_Ep                                                  24\n",
       "                    Pancreas                                                  33\n",
       "                    Pancreas_Acinar                                           24\n",
       "                    Pancreas_Duct                                             14\n",
       "                    Prostate_Ep                                               11\n",
       "                    Small_Int_Ep                                              27\n",
       "                    Thyroid_Ep                                                17\n",
       "                    Umbilical_Endothelium                                     25\n",
       "dtype: int64"
      ]
     },
     "execution_count": 19,
     "metadata": {},
     "output_type": "execute_result"
    }
   ],
   "source": [
    "summary = region_df.groupby(['subpanel', 'target_celltype']).size()\n",
    "summary"
   ]
  },
  {
   "cell_type": "code",
   "execution_count": 20,
   "metadata": {},
   "outputs": [],
   "source": [
    "# ridxs = region_df['subpanel'].isin(['external','immune_broad','immune_refined','immune_specialised'])\n",
    "# region_df = region_df[ridxs]\n",
    "# region_df.shape[0], region_df['region_id'].nunique()"
   ]
  },
  {
   "cell_type": "markdown",
   "metadata": {},
   "source": [
    "### Methylation Scores"
   ]
  },
  {
   "cell_type": "code",
   "execution_count": 21,
   "metadata": {},
   "outputs": [
    {
     "data": {
      "text/plain": [
       "(509090, 1648)"
      ]
     },
     "execution_count": 21,
     "metadata": {},
     "output_type": "execute_result"
    }
   ],
   "source": [
    "score_df = pd.read_csv(SCORE_PATH, sep='\\t')\n",
    "ridxs = score_df['sample_id'].isin(sample_df['sample_id'])\n",
    "ridxs &= score_df['region_id'].isin(region_df['region_id'])\n",
    "score_df = score_df[ridxs].copy()\n",
    "score_df.shape[0], score_df['region_id'].nunique()"
   ]
  },
  {
   "cell_type": "code",
   "execution_count": 22,
   "metadata": {},
   "outputs": [
    {
     "data": {
      "text/html": [
       "<div>\n",
       "<style scoped>\n",
       "    .dataframe tbody tr th:only-of-type {\n",
       "        vertical-align: middle;\n",
       "    }\n",
       "\n",
       "    .dataframe tbody tr th {\n",
       "        vertical-align: top;\n",
       "    }\n",
       "\n",
       "    .dataframe thead th {\n",
       "        text-align: right;\n",
       "    }\n",
       "</style>\n",
       "<table border=\"1\" class=\"dataframe\">\n",
       "  <thead>\n",
       "    <tr style=\"text-align: right;\">\n",
       "      <th></th>\n",
       "      <th>sample_id</th>\n",
       "      <th>region_id</th>\n",
       "      <th>number_molecules</th>\n",
       "      <th>meth_k1</th>\n",
       "      <th>unmeth_k1</th>\n",
       "      <th>total_k1</th>\n",
       "      <th>meth_k3</th>\n",
       "      <th>unmeth_k3</th>\n",
       "      <th>total_k3</th>\n",
       "      <th>meth_k4</th>\n",
       "      <th>unmeth_k4</th>\n",
       "      <th>total_k4</th>\n",
       "      <th>frac_alpha_leq_25pct</th>\n",
       "      <th>frac_alpha_geq_75pct</th>\n",
       "    </tr>\n",
       "  </thead>\n",
       "  <tbody>\n",
       "    <tr>\n",
       "      <th>0</th>\n",
       "      <td>GSM5652176</td>\n",
       "      <td>Immune_Broad_Neutro-chr1:9147789-9147871</td>\n",
       "      <td>24</td>\n",
       "      <td>49</td>\n",
       "      <td>39</td>\n",
       "      <td>88</td>\n",
       "      <td>0</td>\n",
       "      <td>3</td>\n",
       "      <td>40</td>\n",
       "      <td>0</td>\n",
       "      <td>1</td>\n",
       "      <td>16</td>\n",
       "      <td>0.125000</td>\n",
       "      <td>0.333333</td>\n",
       "    </tr>\n",
       "    <tr>\n",
       "      <th>1</th>\n",
       "      <td>GSM5652177</td>\n",
       "      <td>Immune_Broad_Neutro-chr1:9147789-9147871</td>\n",
       "      <td>22</td>\n",
       "      <td>68</td>\n",
       "      <td>13</td>\n",
       "      <td>81</td>\n",
       "      <td>27</td>\n",
       "      <td>0</td>\n",
       "      <td>37</td>\n",
       "      <td>11</td>\n",
       "      <td>0</td>\n",
       "      <td>15</td>\n",
       "      <td>0.045455</td>\n",
       "      <td>0.727273</td>\n",
       "    </tr>\n",
       "    <tr>\n",
       "      <th>2</th>\n",
       "      <td>GSM5652178</td>\n",
       "      <td>Immune_Broad_Neutro-chr1:9147789-9147871</td>\n",
       "      <td>15</td>\n",
       "      <td>43</td>\n",
       "      <td>11</td>\n",
       "      <td>54</td>\n",
       "      <td>12</td>\n",
       "      <td>0</td>\n",
       "      <td>24</td>\n",
       "      <td>3</td>\n",
       "      <td>0</td>\n",
       "      <td>9</td>\n",
       "      <td>0.000000</td>\n",
       "      <td>0.733333</td>\n",
       "    </tr>\n",
       "    <tr>\n",
       "      <th>3</th>\n",
       "      <td>GSM5652179</td>\n",
       "      <td>Immune_Broad_Neutro-chr1:9147789-9147871</td>\n",
       "      <td>29</td>\n",
       "      <td>97</td>\n",
       "      <td>12</td>\n",
       "      <td>109</td>\n",
       "      <td>39</td>\n",
       "      <td>0</td>\n",
       "      <td>51</td>\n",
       "      <td>17</td>\n",
       "      <td>0</td>\n",
       "      <td>22</td>\n",
       "      <td>0.034483</td>\n",
       "      <td>0.793103</td>\n",
       "    </tr>\n",
       "    <tr>\n",
       "      <th>4</th>\n",
       "      <td>GSM5652180</td>\n",
       "      <td>Immune_Broad_Neutro-chr1:9147789-9147871</td>\n",
       "      <td>17</td>\n",
       "      <td>43</td>\n",
       "      <td>19</td>\n",
       "      <td>62</td>\n",
       "      <td>9</td>\n",
       "      <td>0</td>\n",
       "      <td>28</td>\n",
       "      <td>2</td>\n",
       "      <td>0</td>\n",
       "      <td>11</td>\n",
       "      <td>0.058824</td>\n",
       "      <td>0.529412</td>\n",
       "    </tr>\n",
       "    <tr>\n",
       "      <th>...</th>\n",
       "      <td>...</td>\n",
       "      <td>...</td>\n",
       "      <td>...</td>\n",
       "      <td>...</td>\n",
       "      <td>...</td>\n",
       "      <td>...</td>\n",
       "      <td>...</td>\n",
       "      <td>...</td>\n",
       "      <td>...</td>\n",
       "      <td>...</td>\n",
       "      <td>...</td>\n",
       "      <td>...</td>\n",
       "      <td>...</td>\n",
       "      <td>...</td>\n",
       "    </tr>\n",
       "    <tr>\n",
       "      <th>632500</th>\n",
       "      <td>ERS985317</td>\n",
       "      <td>Loyfer2022_Preprint_Colon-Fibro:Heart-Fibro_ch...</td>\n",
       "      <td>14</td>\n",
       "      <td>36</td>\n",
       "      <td>13</td>\n",
       "      <td>49</td>\n",
       "      <td>11</td>\n",
       "      <td>2</td>\n",
       "      <td>19</td>\n",
       "      <td>3</td>\n",
       "      <td>0</td>\n",
       "      <td>6</td>\n",
       "      <td>0.142857</td>\n",
       "      <td>0.642857</td>\n",
       "    </tr>\n",
       "    <tr>\n",
       "      <th>632501</th>\n",
       "      <td>ERS985318</td>\n",
       "      <td>Loyfer2022_Preprint_Colon-Fibro:Heart-Fibro_ch...</td>\n",
       "      <td>9</td>\n",
       "      <td>26</td>\n",
       "      <td>3</td>\n",
       "      <td>29</td>\n",
       "      <td>8</td>\n",
       "      <td>0</td>\n",
       "      <td>11</td>\n",
       "      <td>2</td>\n",
       "      <td>0</td>\n",
       "      <td>2</td>\n",
       "      <td>0.000000</td>\n",
       "      <td>0.666667</td>\n",
       "    </tr>\n",
       "    <tr>\n",
       "      <th>632502</th>\n",
       "      <td>ERS985319</td>\n",
       "      <td>Loyfer2022_Preprint_Colon-Fibro:Heart-Fibro_ch...</td>\n",
       "      <td>7</td>\n",
       "      <td>18</td>\n",
       "      <td>5</td>\n",
       "      <td>23</td>\n",
       "      <td>6</td>\n",
       "      <td>1</td>\n",
       "      <td>9</td>\n",
       "      <td>2</td>\n",
       "      <td>0</td>\n",
       "      <td>2</td>\n",
       "      <td>0.142857</td>\n",
       "      <td>0.571429</td>\n",
       "    </tr>\n",
       "    <tr>\n",
       "      <th>632503</th>\n",
       "      <td>ERS985320</td>\n",
       "      <td>Loyfer2022_Preprint_Colon-Fibro:Heart-Fibro_ch...</td>\n",
       "      <td>5</td>\n",
       "      <td>18</td>\n",
       "      <td>1</td>\n",
       "      <td>19</td>\n",
       "      <td>5</td>\n",
       "      <td>0</td>\n",
       "      <td>7</td>\n",
       "      <td>2</td>\n",
       "      <td>0</td>\n",
       "      <td>3</td>\n",
       "      <td>0.000000</td>\n",
       "      <td>1.000000</td>\n",
       "    </tr>\n",
       "    <tr>\n",
       "      <th>632504</th>\n",
       "      <td>ERS985321</td>\n",
       "      <td>Loyfer2022_Preprint_Colon-Fibro:Heart-Fibro_ch...</td>\n",
       "      <td>10</td>\n",
       "      <td>27</td>\n",
       "      <td>3</td>\n",
       "      <td>30</td>\n",
       "      <td>7</td>\n",
       "      <td>0</td>\n",
       "      <td>10</td>\n",
       "      <td>0</td>\n",
       "      <td>0</td>\n",
       "      <td>0</td>\n",
       "      <td>0.000000</td>\n",
       "      <td>0.700000</td>\n",
       "    </tr>\n",
       "  </tbody>\n",
       "</table>\n",
       "<p>632505 rows × 14 columns</p>\n",
       "</div>"
      ],
      "text/plain": [
       "         sample_id                                          region_id  \\\n",
       "0       GSM5652176           Immune_Broad_Neutro-chr1:9147789-9147871   \n",
       "1       GSM5652177           Immune_Broad_Neutro-chr1:9147789-9147871   \n",
       "2       GSM5652178           Immune_Broad_Neutro-chr1:9147789-9147871   \n",
       "3       GSM5652179           Immune_Broad_Neutro-chr1:9147789-9147871   \n",
       "4       GSM5652180           Immune_Broad_Neutro-chr1:9147789-9147871   \n",
       "...            ...                                                ...   \n",
       "632500   ERS985317  Loyfer2022_Preprint_Colon-Fibro:Heart-Fibro_ch...   \n",
       "632501   ERS985318  Loyfer2022_Preprint_Colon-Fibro:Heart-Fibro_ch...   \n",
       "632502   ERS985319  Loyfer2022_Preprint_Colon-Fibro:Heart-Fibro_ch...   \n",
       "632503   ERS985320  Loyfer2022_Preprint_Colon-Fibro:Heart-Fibro_ch...   \n",
       "632504   ERS985321  Loyfer2022_Preprint_Colon-Fibro:Heart-Fibro_ch...   \n",
       "\n",
       "        number_molecules  meth_k1  unmeth_k1  total_k1  meth_k3  unmeth_k3  \\\n",
       "0                     24       49         39        88        0          3   \n",
       "1                     22       68         13        81       27          0   \n",
       "2                     15       43         11        54       12          0   \n",
       "3                     29       97         12       109       39          0   \n",
       "4                     17       43         19        62        9          0   \n",
       "...                  ...      ...        ...       ...      ...        ...   \n",
       "632500                14       36         13        49       11          2   \n",
       "632501                 9       26          3        29        8          0   \n",
       "632502                 7       18          5        23        6          1   \n",
       "632503                 5       18          1        19        5          0   \n",
       "632504                10       27          3        30        7          0   \n",
       "\n",
       "        total_k3  meth_k4  unmeth_k4  total_k4  frac_alpha_leq_25pct  \\\n",
       "0             40        0          1        16              0.125000   \n",
       "1             37       11          0        15              0.045455   \n",
       "2             24        3          0         9              0.000000   \n",
       "3             51       17          0        22              0.034483   \n",
       "4             28        2          0        11              0.058824   \n",
       "...          ...      ...        ...       ...                   ...   \n",
       "632500        19        3          0         6              0.142857   \n",
       "632501        11        2          0         2              0.000000   \n",
       "632502         9        2          0         2              0.142857   \n",
       "632503         7        2          0         3              0.000000   \n",
       "632504        10        0          0         0              0.000000   \n",
       "\n",
       "        frac_alpha_geq_75pct  \n",
       "0                   0.333333  \n",
       "1                   0.727273  \n",
       "2                   0.733333  \n",
       "3                   0.793103  \n",
       "4                   0.529412  \n",
       "...                      ...  \n",
       "632500              0.642857  \n",
       "632501              0.666667  \n",
       "632502              0.571429  \n",
       "632503              1.000000  \n",
       "632504              0.700000  \n",
       "\n",
       "[632505 rows x 14 columns]"
      ]
     },
     "execution_count": 22,
     "metadata": {},
     "output_type": "execute_result"
    }
   ],
   "source": [
    "score_df = pd.read_csv(SCORE_PATH, sep='\\t')\n",
    "score_df"
   ]
  },
  {
   "cell_type": "code",
   "execution_count": 23,
   "metadata": {},
   "outputs": [
    {
     "data": {
      "text/plain": [
       "0          True\n",
       "1          True\n",
       "2          True\n",
       "3          True\n",
       "4          True\n",
       "          ...  \n",
       "632500    False\n",
       "632501    False\n",
       "632502    False\n",
       "632503    False\n",
       "632504    False\n",
       "Name: sample_id, Length: 632505, dtype: bool"
      ]
     },
     "execution_count": 23,
     "metadata": {},
     "output_type": "execute_result"
    }
   ],
   "source": [
    "ridxs = score_df['sample_id'].isin(sample_df['sample_id'])\n",
    "ridxs"
   ]
  },
  {
   "cell_type": "markdown",
   "metadata": {},
   "source": [
    "## Construct Reference Matrix"
   ]
  },
  {
   "cell_type": "markdown",
   "metadata": {},
   "source": [
    "What samples/regions define reference atlas?"
   ]
  },
  {
   "cell_type": "code",
   "execution_count": 83,
   "metadata": {},
   "outputs": [],
   "source": [
    "SAMPLE_TO_REF_CELLTYPE_MAP = {   # blue print\n",
    "    'Blueprint-B': 'immune_b',\n",
    "    'Blueprint-CD4': 'immune_cd4',\n",
    "    'Blueprint-CD8': 'immune_cd8',\n",
    "    'effector memory CD8-positive, alpha-beta T cell' : 'immune_cd8effector' , \n",
    "    'effector memory CD8-positive, alpha-beta T cell, terminally differentiated' : 'immune_cd8effector',\n",
    "    'central memory CD8-positive, alpha-beta T cell' : 'immune_cd8central',\n",
    "    'regulatory T cell' : 'immune_reg',\n",
    "    'Blueprint-NK': 'immune_nk',\n",
    "    'Blueprint-Dend': 'immune_dend_plus_macro_plus_mono',\n",
    "    'Blueprint-Macro': 'immune_dend_plus_macro_plus_mono',\n",
    "    'Blueprint-Mono': 'immune_dend_plus_macro_plus_mono',\n",
    "    'Blueprint-Eosi': 'immune_eosi',\n",
    "    'Blueprint-Neutro': 'immune_neutro',\n",
    "    'Blueprint-Eryth': 'immune_eryth',\n",
    "    'Blueprint-Mega': 'immune_mega',\n",
    "    'Eryth-prog': 'eryth_prog'\n",
    "    \n",
    "}\n",
    "\n",
    "REGION_TO_REF_CELLTYPE_MAP= {  # hypo panel\n",
    "    'Immune_Broad_B': 'immune_b',\n",
    "    'Immune_Broad_CD4_plus_CD8': 'immune_cd8',\n",
    "    'Immune_Broad_CD4_plus_CD8': 'immune_cd4',\n",
    "    'Immune_Broad_CD8': 'immune_cd8',\n",
    "    'Immune_Broad_CD4': 'immune_cd4',\n",
    "        \n",
    "    'Immune_Refined_CD4_Reg':'immune_reg',\n",
    "    'Immune_Broad_CD4': 'immune_reg',\n",
    "    'Immune_Broad_CD4_plus_CD8': 'immune_reg',\n",
    "    \n",
    "    'Immune_Broad_CD8': 'immune_cd8central',\n",
    "    'Immune_Refined_CD8_Memory_Central':'immune_cd8central',\n",
    "    'Immune_Broad_CD4_plus_CD8': 'immune_cd8central',\n",
    "\n",
    "    'Immune_Broad_CD8': 'immune_cd8effector',\n",
    "    'Immune_Refined_CD8_Memory_Effector2':'immune_cd8effector',\n",
    "    'Immune_Broad_CD4_plus_CD8': 'immune_cd8effector',\n",
    "    'Immune_Broad_NK': 'immune_nk',\n",
    "    'Immune_Broad_Dend_plus_Macro_plus_Mono': 'immune_dend_plus_macro_plus_mono',\n",
    "    'Immune_Broad_Eosi': 'immune_eosi',\n",
    "    'Immune_Broad_Neutro': 'immune_neutro',\n",
    "    'Immune_Refined_Eryth': 'immune_eryth',\n",
    "    'Immune_Refined_Mega': 'immune_mega',\n",
    "    'Eryth_prog': 'eryth_prog'\n",
    "\n",
    "} "
   ]
  },
  {
   "cell_type": "code",
   "execution_count": 84,
   "metadata": {},
   "outputs": [
    {
     "data": {
      "text/plain": [
       "(103, 103, 13)"
      ]
     },
     "execution_count": 84,
     "metadata": {},
     "output_type": "execute_result"
    }
   ],
   "source": [
    "ridxs = (sample_df['source']=='blueprint_loyfer2022')\n",
    "ridxs &= sample_df['sample_group'].isin(SAMPLE_TO_REF_CELLTYPE_MAP.keys())\n",
    "ref_sample_df = sample_df[ridxs].copy()\n",
    "ref_sample_df['ref_celltype'] = ref_sample_df['sample_group'].map(SAMPLE_TO_REF_CELLTYPE_MAP)\n",
    "ref_sample_df.shape[0], ref_sample_df['sample_id'].nunique(), ref_sample_df['ref_celltype'].nunique()"
   ]
  },
  {
   "cell_type": "code",
   "execution_count": 85,
   "metadata": {
    "tags": []
   },
   "outputs": [
    {
     "data": {
      "text/plain": [
       "0                                       Immune_Broad_B\n",
       "1                                      Immune_Broad_NK\n",
       "2                                      Immune_Broad_NK\n",
       "3    Loyfer2022_Preprint_Colon-Ep:Gastric-Ep:Small-...\n",
       "5                                      Pancreas_Acinar\n",
       "Name: target_celltype, dtype: object"
      ]
     },
     "execution_count": 85,
     "metadata": {},
     "output_type": "execute_result"
    }
   ],
   "source": [
    "region_df['target_celltype'].head()"
   ]
  },
  {
   "cell_type": "code",
   "execution_count": 86,
   "metadata": {},
   "outputs": [
    {
     "data": {
      "text/plain": [
       "(354, 354, 11)"
      ]
     },
     "execution_count": 86,
     "metadata": {},
     "output_type": "execute_result"
    }
   ],
   "source": [
    "ridxs = region_df['target_celltype'].isin(REGION_TO_REF_CELLTYPE_MAP.keys())\n",
    "ref_region_df = region_df[ridxs][['region_id', 'target_celltype']].drop_duplicates()\n",
    "ref_region_df['ref_celltype'] = ref_region_df['target_celltype'].map(REGION_TO_REF_CELLTYPE_MAP)\n",
    "ref_region_df.shape[0], ref_region_df['region_id'].nunique(), ref_region_df['ref_celltype'].nunique()"
   ]
  },
  {
   "cell_type": "code",
   "execution_count": 87,
   "metadata": {
    "tags": []
   },
   "outputs": [
    {
     "data": {
      "text/plain": [
       "{'Immune_Broad_B': 'immune_b',\n",
       " 'Immune_Broad_CD4_plus_CD8': 'immune_cd8effector',\n",
       " 'Immune_Broad_CD8': 'immune_cd8effector',\n",
       " 'Immune_Broad_CD4': 'immune_reg',\n",
       " 'Immune_Refined_CD4_Reg': 'immune_reg',\n",
       " 'Immune_Refined_CD8_Memory_Central': 'immune_cd8central',\n",
       " 'Immune_Refined_CD8_Memory_Effector2': 'immune_cd8effector',\n",
       " 'Immune_Broad_NK': 'immune_nk',\n",
       " 'Immune_Broad_Dend_plus_Macro_plus_Mono': 'immune_dend_plus_macro_plus_mono',\n",
       " 'Immune_Broad_Eosi': 'immune_eosi',\n",
       " 'Immune_Broad_Neutro': 'immune_neutro',\n",
       " 'Immune_Refined_Eryth': 'immune_eryth',\n",
       " 'Immune_Refined_Mega': 'immune_mega',\n",
       " 'Eryth_prog': 'eryth_prog'}"
      ]
     },
     "execution_count": 87,
     "metadata": {},
     "output_type": "execute_result"
    }
   ],
   "source": [
    "REGION_TO_REF_CELLTYPE_MAP"
   ]
  },
  {
   "cell_type": "code",
   "execution_count": 88,
   "metadata": {},
   "outputs": [
    {
     "data": {
      "text/plain": [
       "ref_celltype\n",
       "eryth_prog                          22\n",
       "immune_b                            49\n",
       "immune_cd8central                   11\n",
       "immune_cd8effector                  53\n",
       "immune_dend_plus_macro_plus_mono    13\n",
       "immune_eosi                         38\n",
       "immune_eryth                        25\n",
       "immune_mega                         29\n",
       "immune_neutro                       29\n",
       "immune_nk                           53\n",
       "immune_reg                          32\n",
       "Name: region_id, dtype: int64"
      ]
     },
     "execution_count": 88,
     "metadata": {},
     "output_type": "execute_result"
    }
   ],
   "source": [
    "# number of regions per cell type\n",
    "ref_region_df.groupby(['ref_celltype'])['region_id'].nunique()"
   ]
  },
  {
   "cell_type": "code",
   "execution_count": 89,
   "metadata": {},
   "outputs": [
    {
     "data": {
      "text/plain": [
       "(354, 13)"
      ]
     },
     "execution_count": 89,
     "metadata": {},
     "output_type": "execute_result"
    }
   ],
   "source": [
    "ridxs = (score_df['number_molecules']>=FILTER_COV)\n",
    "ridxs &= score_df['sample_id'].isin(ref_sample_df['sample_id'])\n",
    "ridxs &= score_df['region_id'].isin(ref_region_df['region_id'])\n",
    "atlas = score_df[ridxs][['sample_id', 'region_id', SCORE_VAR]]\\\n",
    "    .merge(ref_sample_df[['sample_id', 'ref_celltype']])\\\n",
    "    .groupby(['region_id', 'ref_celltype'])\\\n",
    "    [SCORE_VAR].mean()\\\n",
    "    .reset_index()\\\n",
    "    .pivot_table(index='region_id', columns='ref_celltype', values=SCORE_VAR)\n",
    "atlas.shape"
   ]
  },
  {
   "cell_type": "code",
   "execution_count": 90,
   "metadata": {},
   "outputs": [
    {
     "data": {
      "text/plain": [
       "(326, 13)"
      ]
     },
     "execution_count": 90,
     "metadata": {},
     "output_type": "execute_result"
    }
   ],
   "source": [
    "ridxs = (atlas.isna().sum(axis=1)==0)\n",
    "atlas = atlas[ridxs].copy()\n",
    "atlas.shape"
   ]
  },
  {
   "cell_type": "code",
   "execution_count": 91,
   "metadata": {
    "tags": []
   },
   "outputs": [
    {
     "data": {
      "text/plain": [
       "array(['eryth_prog', 'immune_neutro', 'immune_b',\n",
       "       'immune_dend_plus_macro_plus_mono', 'immune_cd8', 'immune_nk',\n",
       "       'immune_eryth', 'immune_mega', 'immune_cd4', 'immune_cd8effector',\n",
       "       'immune_cd8central', 'immune_reg', 'immune_eosi'], dtype=object)"
      ]
     },
     "execution_count": 91,
     "metadata": {},
     "output_type": "execute_result"
    }
   ],
   "source": [
    "ref_sample_df['ref_celltype'].unique()"
   ]
  },
  {
   "cell_type": "code",
   "execution_count": 92,
   "metadata": {
    "tags": []
   },
   "outputs": [
    {
     "data": {
      "text/plain": [
       "dict_values(['immune_b', 'immune_cd8effector', 'immune_cd8effector', 'immune_reg', 'immune_reg', 'immune_cd8central', 'immune_cd8effector', 'immune_nk', 'immune_dend_plus_macro_plus_mono', 'immune_eosi', 'immune_neutro', 'immune_eryth', 'immune_mega', 'eryth_prog'])"
      ]
     },
     "execution_count": 92,
     "metadata": {},
     "output_type": "execute_result"
    }
   ],
   "source": [
    "REGION_TO_REF_CELLTYPE_MAP.values()"
   ]
  },
  {
   "cell_type": "code",
   "execution_count": 93,
   "metadata": {
    "tags": []
   },
   "outputs": [
    {
     "data": {
      "text/plain": [
       "dict_values(['immune_b', 'immune_cd4', 'immune_cd8', 'immune_cd8effector', 'immune_cd8effector', 'immune_cd8central', 'immune_reg', 'immune_nk', 'immune_dend_plus_macro_plus_mono', 'immune_dend_plus_macro_plus_mono', 'immune_dend_plus_macro_plus_mono', 'immune_eosi', 'immune_neutro', 'immune_eryth', 'immune_mega', 'eryth_prog'])"
      ]
     },
     "execution_count": 93,
     "metadata": {},
     "output_type": "execute_result"
    }
   ],
   "source": [
    "SAMPLE_TO_REF_CELLTYPE_MAP.values()"
   ]
  },
  {
   "cell_type": "code",
   "execution_count": 94,
   "metadata": {
    "tags": []
   },
   "outputs": [
    {
     "data": {
      "text/plain": [
       "0                     Immune_Broad_B-chr1:1114772-1114971\n",
       "1                    Immune_Broad_NK-chr1:1157451-1157720\n",
       "2                    Immune_Broad_NK-chr1:1157880-1158277\n",
       "9             Immune_Refined_CD4_Reg-chr1:2515278-2515485\n",
       "16                 Immune_Broad_Eosi-chr1:6341183-6341377\n",
       "18            Immune_Refined_CD4_Reg-chr1:7025932-7026018\n",
       "23               Immune_Broad_Neutro-chr1:9147789-9147871\n",
       "32               Immune_Broad_Eosi-chr1:11786440-11786595\n",
       "35          Immune_Refined_CD4_Reg-chr1:12229063-12229209\n",
       "36          Immune_Refined_CD4_Reg-chr1:12229591-12229713\n",
       "42            Immune_Refined_Eryth-chr1:16569765-16569890\n",
       "43               Immune_Broad_Eosi-chr1:16628654-16628777\n",
       "50                      Eryth_prog-chr1:22212947-22213067\n",
       "100               Immune_Broad_CD4-chr1:55929642-55929758\n",
       "101         Immune_Refined_CD4_Reg-chr1:56681544-56681687\n",
       "105              Immune_Broad_Eosi-chr1:62364283-62364428\n",
       "108                Immune_Broad_NK-chr1:65341334-65341568\n",
       "110              Immune_Broad_Eosi-chr1:68197409-68197538\n",
       "132     Immune_Broad_Dend_plus_Macro_plus_Mono-chr1:11...\n",
       "134     Immune_Broad_CD4_plus_CD8-chr1:117302206-11730...\n",
       "192             Immune_Broad_Neutro-chr10:1088606-1088693\n",
       "201          Immune_Refined_CD4_Reg-chr10:7612261-7612416\n",
       "202     Immune_Refined_CD8_Memory_Central-chr10:810025...\n",
       "203     Immune_Refined_CD8_Memory_Central-chr10:836812...\n",
       "205     Immune_Refined_CD8_Memory_Central-chr10:904683...\n",
       "206     Immune_Refined_CD8_Memory_Central-chr10:905154...\n",
       "221           Immune_Broad_Neutro-chr10:27972308-27972363\n",
       "226     Immune_Broad_CD4_plus_CD8-chr10:31478967-31479031\n",
       "233                Immune_Broad_B-chr10:45390756-45390847\n",
       "234     Immune_Broad_CD4_plus_CD8-chr10:49702186-49702323\n",
       "243               Immune_Broad_NK-chr10:72332251-72332381\n",
       "287        Immune_Refined_Eryth-chr10:111909093-111909226\n",
       "312              Immune_Broad_B-chr10:126289835-126290065\n",
       "313              Immune_Broad_B-chr10:126290368-126290506\n",
       "319             Immune_Broad_NK-chr10:126751928-126752117\n",
       "322     Immune_Broad_CD4_plus_CD8-chr10:128899575-1288...\n",
       "323     Immune_Broad_CD4_plus_CD8-chr10:129131887-1291...\n",
       "326             Immune_Broad_NK-chr10:131965565-131965799\n",
       "327         Immune_Broad_Neutro-chr10:134170497-134170703\n",
       "332             Immune_Broad_NK-chr10:134516342-134516483\n",
       "355                      Eryth_prog-chr11:3712510-3712676\n",
       "373           Immune_Refined_Mega-chr11:36137111-36137210\n",
       "375     Immune_Refined_CD8_Memory_Central-chr11:363447...\n",
       "386     Immune_Broad_CD4_plus_CD8-chr11:60739731-60739948\n",
       "387     Immune_Broad_CD4_plus_CD8-chr11:60740087-60740400\n",
       "388     Immune_Broad_CD4_plus_CD8-chr11:60740593-60740839\n",
       "389     Immune_Broad_CD4_plus_CD8-chr11:60869989-60870314\n",
       "390     Immune_Refined_CD8_Memory_Central-chr11:610763...\n",
       "421           Immune_Broad_Neutro-chr11:68530153-68530285\n",
       "438                Immune_Broad_B-chr11:75988912-75989088\n",
       "444      Immune_Refined_CD4_Reg-chr11:102195288-102195395\n",
       "445         Immune_Broad_Neutro-chr11:104831778-104831957\n",
       "448        Immune_Refined_Eryth-chr11:111599918-111600077\n",
       "450             Immune_Broad_NK-chr11:113936952-113937207\n",
       "460     Immune_Broad_CD4_plus_CD8-chr11:118210017-1182...\n",
       "475         Immune_Refined_Mega-chr11:120468980-120469146\n",
       "476         Immune_Refined_Mega-chr11:120470179-120470235\n",
       "482     Immune_Broad_CD4_plus_CD8-chr11:128335383-1283...\n",
       "483             Immune_Broad_NK-chr11:128670859-128671134\n",
       "484         Immune_Refined_Mega-chr11:128731528-128731682\n",
       "530          Immune_Refined_Eryth-chr12:48227420-48227572\n",
       "531          Immune_Refined_Eryth-chr12:49087486-49087579\n",
       "532           Immune_Refined_Mega-chr12:49152972-49153113\n",
       "540        Immune_Refined_CD4_Reg-chr12:56434861-56434973\n",
       "544           Immune_Broad_Neutro-chr12:57894060-57894297\n",
       "561           Immune_Broad_Eosi-chr12:109559922-109560041\n",
       "565     Immune_Broad_Dend_plus_Macro_plus_Mono-chr12:1...\n",
       "575           Immune_Broad_Eosi-chr12:117423185-117423316\n",
       "597                  Eryth_prog-chr12:122875429-122875559\n",
       "599                  Eryth_prog-chr12:123471883-123472181\n",
       "601             Immune_Broad_NK-chr12:124235512-124235826\n",
       "602         Immune_Broad_Neutro-chr12:124341605-124341826\n",
       "603     Immune_Broad_CD4_plus_CD8-chr12:124416629-1244...\n",
       "604         Immune_Broad_Neutro-chr12:124528551-124528837\n",
       "612             Immune_Broad_NK-chr12:131479768-131479885\n",
       "618        Immune_Refined_Eryth-chr12:132561307-132561486\n",
       "642           Immune_Refined_Mega-chr13:28241239-28241261\n",
       "654                Immune_Broad_B-chr13:31018281-31018486\n",
       "660        Immune_Refined_CD4_Reg-chr13:42631031-42631106\n",
       "675             Immune_Broad_NK-chr13:109864789-109864880\n",
       "676             Immune_Broad_NK-chr13:110386081-110386304\n",
       "687         Immune_Refined_Mega-chr13:113820912-113820959\n",
       "689         Immune_Refined_Mega-chr13:114020234-114020344\n",
       "690     Immune_Broad_Dend_plus_Macro_plus_Mono-chr13:1...\n",
       "696             Immune_Broad_NK-chr13:114869830-114870175\n",
       "698                    Eryth_prog-chr14:20871852-20872002\n",
       "702     Immune_Broad_CD4_plus_CD8-chr14:23010803-23010927\n",
       "728           Immune_Broad_Neutro-chr14:65413529-65413606\n",
       "751     Immune_Broad_CD4_plus_CD8-chr14:99655398-99655748\n",
       "754     Immune_Broad_CD4_plus_CD8-chr14:99717279-99717356\n",
       "758           Immune_Broad_Eosi-chr14:100610354-100610668\n",
       "765           Immune_Broad_Eosi-chr14:103200842-103201128\n",
       "775     Immune_Broad_Dend_plus_Macro_plus_Mono-chr14:1...\n",
       "776             Immune_Broad_NK-chr14:105862330-105862436\n",
       "778                Immune_Broad_B-chr15:26048270-26048449\n",
       "779     Immune_Broad_CD4_plus_CD8-chr15:29211411-29211547\n",
       "786           Immune_Refined_Mega-chr15:39749220-39749385\n",
       "790             Immune_Broad_Eosi-chr15:40093786-40093987\n",
       "816     Immune_Refined_CD8_Memory_Central-chr15:584806...\n",
       "833           Immune_Broad_Neutro-chr15:70096332-70096453\n",
       "840           Immune_Refined_Mega-chr15:75327668-75327898\n",
       "843          Immune_Refined_Eryth-chr15:78555871-78556076\n",
       "847             Immune_Broad_Eosi-chr15:81623165-81623306\n",
       "871           Immune_Broad_Eosi-chr15:101653798-101653905\n",
       "872           Immune_Broad_Eosi-chr15:101761060-101761211\n",
       "875                   Immune_Broad_NK-chr16:358073-358184\n",
       "881         Immune_Broad_CD4_plus_CD8-chr16:771884-772079\n",
       "897             Immune_Broad_Neutro-chr16:2987092-2987230\n",
       "898       Immune_Broad_CD4_plus_CD8-chr16:3117885-3118087\n",
       "901     Immune_Broad_Dend_plus_Macro_plus_Mono-chr16:3...\n",
       "905                      Eryth_prog-chr16:4494669-4494777\n",
       "913            Immune_Refined_Eryth-chr16:8740671-8740719\n",
       "922     Immune_Refined_CD8_Memory_Central-chr16:146632...\n",
       "925                    Eryth_prog-chr16:15790488-15790760\n",
       "929           Immune_Broad_Neutro-chr16:16065174-16065725\n",
       "947     Immune_Broad_CD4_plus_CD8-chr16:28997711-28997795\n",
       "961          Immune_Refined_Eryth-chr16:29655050-29655157\n",
       "1026              Immune_Broad_NK-chr16:81884976-81885080\n",
       "1027          Immune_Broad_Neutro-chr16:84377754-84377878\n",
       "1028    Immune_Broad_CD4_plus_CD8-chr16:84587455-84587578\n",
       "1032               Immune_Broad_B-chr16:85295279-85295484\n",
       "1037    Immune_Refined_CD8_Memory_Central-chr16:872746...\n",
       "1042               Immune_Broad_B-chr16:87735149-87735321\n",
       "1051          Immune_Refined_Mega-chr16:88525545-88525722\n",
       "1052          Immune_Refined_Mega-chr16:88561242-88561377\n",
       "1055              Immune_Broad_NK-chr16:88720176-88720682\n",
       "1080            Immune_Broad_Neutro-chr17:4081029-4081148\n",
       "1084            Immune_Refined_Mega-chr17:4875882-4875984\n",
       "1087                     Eryth_prog-chr17:7385258-7385463\n",
       "1125          Immune_Refined_Mega-chr17:25730535-25730676\n",
       "1128    Immune_Broad_CD4_plus_CD8-chr17:26205905-26205996\n",
       "1142         Immune_Refined_Eryth-chr17:37839880-37840009\n",
       "1159            Immune_Broad_Eosi-chr17:49006617-49006783\n",
       "1161    Immune_Broad_Dend_plus_Macro_plus_Mono-chr17:5...\n",
       "1169            Immune_Broad_Eosi-chr17:56271098-56271206\n",
       "1170            Immune_Broad_Eosi-chr17:56283768-56283962\n",
       "1179            Immune_Broad_Eosi-chr17:58128515-58128625\n",
       "1205               Immune_Broad_B-chr17:73128521-73128658\n",
       "1211          Immune_Broad_Neutro-chr17:74324844-74325038\n",
       "1227    Immune_Refined_CD8_Memory_Effector2-chr17:7868...\n",
       "1237          Immune_Refined_Mega-chr17:80079597-80079730\n",
       "1238    Immune_Broad_CD4_plus_CD8-chr17:80084423-80084620\n",
       "1241    Immune_Broad_CD4_plus_CD8-chr17:80085041-80085251\n",
       "1259         Immune_Refined_Eryth-chr18:13055265-13055399\n",
       "1260       Immune_Refined_CD4_Reg-chr18:13383749-13384079\n",
       "1268                   Eryth_prog-chr18:22804543-22804681\n",
       "1296          Immune_Broad_Neutro-chr18:74219881-74220005\n",
       "1298    Immune_Broad_Dend_plus_Macro_plus_Mono-chr18:7...\n",
       "1302              Immune_Broad_NK-chr18:77391832-77391952\n",
       "1312                 Immune_Broad_B-chr19:1648189-1648439\n",
       "1313                 Immune_Broad_B-chr19:1648503-1648633\n",
       "1314                 Immune_Broad_B-chr19:1648937-1648991\n",
       "1315           Immune_Refined_Eryth-chr19:1834804-1834901\n",
       "1316           Immune_Refined_Eryth-chr19:1837033-1837155\n",
       "1326           Immune_Refined_Eryth-chr19:3194520-3194618\n",
       "1366            Immune_Broad_Eosi-chr19:11687504-11687710\n",
       "1393          Immune_Refined_Mega-chr19:18425427-18425608\n",
       "1405            Immune_Broad_Eosi-chr19:21792762-21792849\n",
       "1406    Immune_Refined_CD8_Memory_Effector2-chr19:2424...\n",
       "1418         Immune_Refined_Eryth-chr19:36595138-36595188\n",
       "1420               Immune_Broad_B-chr19:38540408-38540518\n",
       "1435              Immune_Broad_NK-chr19:45637123-45637257\n",
       "1441              Immune_Broad_NK-chr19:48154130-48154200\n",
       "1454         Immune_Refined_Eryth-chr19:50376109-50376270\n",
       "1458              Immune_Broad_NK-chr19:51892799-51892926\n",
       "1467                   Immune_Broad_NK-chr2:426239-426313\n",
       "1483                  Immune_Broad_B-chr2:9908120-9908241\n",
       "1500               Immune_Broad_NK-chr2:30517023-30517292\n",
       "1526           Immune_Refined_Mega-chr2:48746774-48746919\n",
       "1535          Immune_Refined_Eryth-chr2:63223945-63224104\n",
       "1565              Immune_Broad_CD8-chr2:87012706-87013161\n",
       "1566              Immune_Broad_CD8-chr2:87013657-87013795\n",
       "1567              Immune_Broad_CD8-chr2:87015334-87015678\n",
       "1573              Immune_Broad_CD8-chr2:87048449-87048837\n",
       "1598    Immune_Broad_CD4_plus_CD8-chr2:113753082-11375...\n",
       "1602           Immune_Broad_Eosi-chr2:121816167-121816272\n",
       "1641           Immune_Broad_Eosi-chr2:173378234-173378344\n",
       "1654         Immune_Refined_Mega-chr2:200767744-200767768\n",
       "1659           Immune_Broad_Eosi-chr2:202614334-202614468\n",
       "1664      Immune_Refined_CD4_Reg-chr2:204700541-204700654\n",
       "1665      Immune_Refined_CD4_Reg-chr2:204700842-204701070\n",
       "1666      Immune_Refined_CD4_Reg-chr2:204701188-204701418\n",
       "1667      Immune_Refined_CD4_Reg-chr2:204718898-204719213\n",
       "1670      Immune_Refined_CD4_Reg-chr2:213989241-213989304\n",
       "1672      Immune_Refined_CD4_Reg-chr2:214106614-214106702\n",
       "1685        Immune_Refined_Eryth-chr2:232099978-232100086\n",
       "1693    Immune_Broad_CD4_plus_CD8-chr2:235372933-23537...\n",
       "1701    Immune_Broad_CD4_plus_CD8-chr2:240470456-24047...\n",
       "1712      Immune_Broad_CD4_plus_CD8-chr20:1655121-1655244\n",
       "1719                     Eryth_prog-chr20:4163756-4163873\n",
       "1723               Immune_Broad_B-chr20:17909383-17909702\n",
       "1739    Immune_Broad_CD4_plus_CD8-chr20:35273905-35274018\n",
       "1757            Immune_Broad_Eosi-chr20:47731131-47731316\n",
       "1762          Immune_Refined_Mega-chr20:48653148-48653188\n",
       "1765               Immune_Broad_B-chr20:49435969-49436214\n",
       "1782          Immune_Broad_Neutro-chr20:61361961-61362108\n",
       "1801               Immune_Broad_B-chr21:34668596-34668701\n",
       "1805              Immune_Broad_NK-chr21:38608511-38608602\n",
       "1808    Immune_Broad_CD4_plus_CD8-chr21:43825735-43825933\n",
       "1809                   Eryth_prog-chr21:43999855-44000170\n",
       "1811               Immune_Broad_B-chr21:44081016-44081122\n",
       "1819          Immune_Broad_Neutro-chr21:45747578-45747723\n",
       "1823               Immune_Broad_B-chr21:46419673-46419911\n",
       "1830          Immune_Broad_Neutro-chr21:47786380-47786585\n",
       "1838          Immune_Refined_Mega-chr21:47986017-47986217\n",
       "1840               Immune_Broad_B-chr22:18077350-18077543\n",
       "1846                   Eryth_prog-chr22:18309011-18309185\n",
       "1847                   Eryth_prog-chr22:18348364-18348499\n",
       "1859               Immune_Broad_B-chr22:23550100-23550337\n",
       "1879          Immune_Refined_Mega-chr22:31859809-31859964\n",
       "1916         Immune_Refined_Eryth-chr22:44365225-44365375\n",
       "1928                   Eryth_prog-chr22:49883023-49883294\n",
       "1947               Immune_Broad_NK-chr3:15492635-15492839\n",
       "1949                Immune_Broad_B-chr3:16475319-16475457\n",
       "1951               Immune_Broad_NK-chr3:17196544-17196766\n",
       "1963          Immune_Refined_Eryth-chr3:42208435-42208730\n",
       "1966                Immune_Broad_B-chr3:42705301-42705546\n",
       "1972    Immune_Broad_Dend_plus_Macro_plus_Mono-chr3:45...\n",
       "1975               Immune_Broad_NK-chr3:46966706-46966787\n",
       "1976           Immune_Broad_Neutro-chr3:47122303-47122372\n",
       "1980           Immune_Broad_Neutro-chr3:48330971-48331100\n",
       "1982           Immune_Refined_Mega-chr3:49063351-49063439\n",
       "2007              Immune_Broad_B-chr3:113724488-113724621\n",
       "2010    Immune_Broad_CD4_plus_CD8-chr3:121437180-12143...\n",
       "2021           Immune_Broad_Eosi-chr3:128317562-128317833\n",
       "2041         Immune_Broad_Neutro-chr3:152784951-152785061\n",
       "2043                  Eryth_prog-chr3:159744529-159744665\n",
       "2063              Immune_Broad_B-chr3:195534738-195534898\n",
       "2069         Immune_Broad_Neutro-chr3:197260337-197260527\n",
       "2078    Immune_Broad_Dend_plus_Macro_plus_Mono-chr4:13...\n",
       "2084                  Immune_Broad_B-chr4:2834480-2834691\n",
       "2088               Immune_Broad_Eosi-chr4:5835836-5835930\n",
       "2089    Immune_Refined_CD8_Memory_Effector2-chr4:64450...\n",
       "2091             Immune_Refined_Mega-chr4:6934540-6934736\n",
       "2093                  Immune_Broad_B-chr4:6972120-6972232\n",
       "2095             Immune_Broad_Neutro-chr4:8397427-8397481\n",
       "2099     Immune_Broad_CD4_plus_CD8-chr4:10101468-10101616\n",
       "2103               Immune_Broad_NK-chr4:38120324-38120423\n",
       "2110               Immune_Broad_NK-chr4:48116277-48116464\n",
       "2113    Immune_Refined_CD8_Memory_Central-chr4:5345558...\n",
       "2140         Immune_Refined_Mega-chr4:109901973-109902100\n",
       "2141                  Eryth_prog-chr4:110416754-110416873\n",
       "2142            Immune_Broad_CD4-chr4:118886931-118887065\n",
       "2161           Immune_Broad_Eosi-chr4:185593613-185593737\n",
       "2174               Immune_Broad_Eosi-chr5:5463972-5464055\n",
       "2175                  Immune_Broad_B-chr5:6652251-6652334\n",
       "2177     Immune_Broad_CD4_plus_CD8-chr5:14413937-14414066\n",
       "2185     Immune_Broad_CD4_plus_CD8-chr5:39202357-39202475\n",
       "2186     Immune_Broad_CD4_plus_CD8-chr5:39208591-39208820\n",
       "2205        Immune_Refined_Eryth-chr5:102616775-102616792\n",
       "2229        Immune_Refined_Eryth-chr5:140058415-140058570\n",
       "2253      Immune_Refined_CD4_Reg-chr5:159900959-159901101\n",
       "2254      Immune_Refined_CD4_Reg-chr5:159903076-159903379\n",
       "2255      Immune_Refined_CD4_Reg-chr5:159903919-159903999\n",
       "2257      Immune_Refined_CD4_Reg-chr5:159907175-159907306\n",
       "2258      Immune_Refined_CD4_Reg-chr5:159907508-159907591\n",
       "2263           Immune_Broad_Eosi-chr5:169605797-169605898\n",
       "2278    Immune_Broad_CD4_plus_CD8-chr5:178573465-17857...\n",
       "2281                    Immune_Broad_B-chr6:218294-218556\n",
       "2286    Immune_Refined_CD8_Memory_Effector2-chr6:58613...\n",
       "2294             Immune_Broad_Eosi-chr6:13393705-13393769\n",
       "2302               Immune_Broad_NK-chr6:15505860-15505998\n",
       "2308    Immune_Broad_Dend_plus_Macro_plus_Mono-chr6:20...\n",
       "2309               Immune_Broad_NK-chr6:20415709-20415814\n",
       "2310    Immune_Broad_Dend_plus_Macro_plus_Mono-chr6:21...\n",
       "2314           Immune_Refined_Mega-chr6:34197897-34197968\n",
       "2328        Immune_Refined_CD4_Reg-chr6:38905766-38905958\n",
       "2337     Immune_Broad_CD4_plus_CD8-chr6:43153199-43153266\n",
       "2338        Immune_Refined_CD4_Reg-chr6:43190040-43190149\n",
       "2339        Immune_Refined_CD4_Reg-chr6:43190923-43191176\n",
       "2349             Immune_Broad_NK-chr6:108358030-108358245\n",
       "2352             Immune_Broad_NK-chr6:109276682-109276780\n",
       "2368           Immune_Broad_Eosi-chr6:136681668-136681764\n",
       "2373      Immune_Refined_CD4_Reg-chr6:138198903-138199066\n",
       "2378                  Eryth_prog-chr6:144595689-144595851\n",
       "2379         Immune_Refined_Mega-chr6:145155912-145156069\n",
       "2383              Immune_Broad_B-chr6:148841369-148841604\n",
       "2395              Immune_Broad_B-chr6:157545392-157545770\n",
       "2398    Immune_Broad_CD4_plus_CD8-chr6:159518407-15951...\n",
       "2407              Immune_Broad_B-chr6:167760862-167761004\n",
       "2410             Immune_Broad_NK-chr6:170753300-170753427\n",
       "2411             Immune_Broad_NK-chr6:170771312-170771410\n",
       "2412                    Immune_Broad_B-chr7:403585-403752\n",
       "2413         Immune_Broad_CD4_plus_CD8-chr7:623458-623613\n",
       "2417                  Immune_Broad_B-chr7:1039875-1040140\n",
       "2422       Immune_Broad_CD4_plus_CD8-chr7:1864345-1864475\n",
       "2423                      Eryth_prog-chr7:1949711-1949859\n",
       "2432             Immune_Broad_Neutro-chr7:2116605-2116894\n",
       "2433                 Immune_Broad_NK-chr7:2137257-2137375\n",
       "2434             Immune_Broad_Neutro-chr7:2185546-2185719\n",
       "2468                      Eryth_prog-chr7:6685743-6685855\n",
       "2474          Immune_Refined_CD4_Reg-chr7:8180997-8181130\n",
       "2478             Immune_Broad_Eosi-chr7:21940480-21940750\n",
       "2479           Immune_Refined_Mega-chr7:22846424-22846459\n",
       "2495               Immune_Broad_NK-chr7:45114399-45114718\n",
       "2496          Immune_Refined_Eryth-chr7:47725484-47725602\n",
       "2500                    Eryth_prog-chr7:55559716-55559793\n",
       "2539    Immune_Refined_CD8_Memory_Central-chr7:1058993...\n",
       "2550        Immune_Refined_Eryth-chr7:129390078-129390200\n",
       "2551                  Eryth_prog-chr7:129408857-129408963\n",
       "2553             Immune_Broad_NK-chr7:133380836-133380976\n",
       "2566           Immune_Broad_Eosi-chr7:150654440-150654660\n",
       "2578         Immune_Refined_Mega-chr7:158518548-158518586\n",
       "2579                 Immune_Broad_NK-chr8:2061381-2061500\n",
       "2585           Immune_Refined_Mega-chr8:10197563-10197684\n",
       "2591                Immune_Broad_B-chr8:23279072-23279221\n",
       "2598     Immune_Broad_CD4_plus_CD8-chr8:28918846-28919163\n",
       "2613             Immune_Broad_Eosi-chr8:38002748-38002926\n",
       "2619             Immune_Broad_Eosi-chr8:48848933-48849076\n",
       "2620                    Eryth_prog-chr8:49305369-49305421\n",
       "2628             Immune_Broad_Eosi-chr8:61742923-61743173\n",
       "2629             Immune_Broad_Eosi-chr8:61745574-61745637\n",
       "2659           Immune_Broad_Eosi-chr8:131288107-131288221\n",
       "2661    Immune_Broad_Dend_plus_Macro_plus_Mono-chr8:13...\n",
       "2663    Immune_Refined_CD8_Memory_Effector2-chr8:14133...\n",
       "2675    Immune_Broad_CD4_plus_CD8-chr8:144543431-14454...\n",
       "2678    Immune_Broad_CD4_plus_CD8-chr8:144545009-14454...\n",
       "2679         Immune_Broad_Neutro-chr8:144666059-144666170\n",
       "2686               Immune_Broad_Eosi-chr9:7057836-7057943\n",
       "2697          Immune_Refined_Eryth-chr9:34151418-34151570\n",
       "2700                Immune_Broad_B-chr9:35719096-35719254\n",
       "2730    Immune_Broad_Dend_plus_Macro_plus_Mono-chr9:11...\n",
       "2738             Immune_Broad_NK-chr9:123224120-123224218\n",
       "2776    Immune_Refined_CD8_Memory_Effector2-chr9:13502...\n",
       "2781              Immune_Broad_B-chr9:136833641-136833741\n",
       "2795         Immune_Broad_Neutro-chr9:139812189-139812556\n",
       "2796      Immune_Refined_CD4_Reg-chr9:139990893-139990999\n",
       "2801             Immune_Broad_NK-chr9:140416090-140416310\n",
       "2814        Immune_Refined_CD4_Reg-chrX:49114894-49115103\n",
       "2816        Immune_Refined_CD4_Reg-chrX:49117189-49117333\n",
       "2817        Immune_Refined_CD4_Reg-chrX:49120283-49120673\n",
       "2827               Immune_Broad_NK-chr1:15392254-15392556\n",
       "2828             Immune_Broad_B-chr10:133598478-133598699\n",
       "2829                 Immune_Broad_B-chr11:2414931-2415116\n",
       "2832             Immune_Broad_B-chr12:132255443-132255619\n",
       "2833             Immune_Broad_B-chr12:132407898-132408024\n",
       "2834            Immune_Broad_NK-chr13:114891173-114891427\n",
       "2835    Immune_Broad_CD4_plus_CD8-chr14:22968861-22968939\n",
       "2838              Immune_Broad_NK-chr14:99903887-99904020\n",
       "2839            Immune_Broad_NK-chr14:105862694-105862774\n",
       "2847              Immune_Broad_NK-chr19:19638044-19638237\n",
       "2848               Immune_Broad_B-chr19:36983936-36984006\n",
       "2849                  Immune_Broad_B-chr2:3258156-3258479\n",
       "2850             Immune_Broad_NK-chr2:120692377-120692535\n",
       "2852              Immune_Broad_B-chr2:234111108-234111171\n",
       "2853             Immune_Broad_NK-chr2:239314988-239315113\n",
       "2854              Immune_Broad_NK-chr20:50124752-50125092\n",
       "2855               Immune_Broad_B-chr21:36014865-36015042\n",
       "2856               Immune_Broad_B-chr21:37608659-37608870\n",
       "2857              Immune_Broad_NK-chr22:22035484-22035784\n",
       "2858              Immune_Broad_NK-chr22:39825306-39825433\n",
       "2861                Immune_Broad_B-chr5:79439400-79439503\n",
       "2863             Immune_Broad_NK-chr8:123960051-123960220\n",
       "2864              Immune_Broad_B-chr9:135763623-135763738\n",
       "Name: region_id, dtype: object"
      ]
     },
     "execution_count": 94,
     "metadata": {},
     "output_type": "execute_result"
    }
   ],
   "source": [
    "ref_region_df['region_id']"
   ]
  },
  {
   "cell_type": "markdown",
   "metadata": {},
   "source": [
    "Rearrange columns and rows of atlas matrix to conform to desired order."
   ]
  },
  {
   "cell_type": "code",
   "execution_count": 95,
   "metadata": {},
   "outputs": [
    {
     "data": {
      "text/plain": [
       "(326, 13)"
      ]
     },
     "execution_count": 95,
     "metadata": {},
     "output_type": "execute_result"
    }
   ],
   "source": [
    "ref_region_df = pd.DataFrame({'ref_celltype': list(REGION_TO_REF_CELLTYPE_MAP.values())})\\\n",
    "    .drop_duplicates()\\\n",
    "    .merge(ref_region_df)\n",
    "ridxs = ref_region_df['region_id'].isin(atlas.index)\n",
    "ref_region_df = ref_region_df[ridxs].copy()\n",
    "ref_sample_df = pd.DataFrame({'ref_celltype': list(SAMPLE_TO_REF_CELLTYPE_MAP.values())})\\\n",
    "    .drop_duplicates()\\\n",
    "    .merge(ref_sample_df)\n",
    "atlas = atlas.loc[ref_region_df['region_id'], ref_sample_df['ref_celltype'].unique()]\n",
    "atlas.shape"
   ]
  },
  {
   "cell_type": "markdown",
   "metadata": {},
   "source": [
    "## Reference Matrix Heatmap"
   ]
  },
  {
   "cell_type": "code",
   "execution_count": 96,
   "metadata": {},
   "outputs": [],
   "source": [
    "## Make the heatmap with R - not necessary if R is not installed\n",
    "# %%R -i atlas,ref_region_df,RESULTS_PATH\n",
    "# library(tidyverse)\n",
    "# library(pheatmap)\n",
    "# library(pals)\n",
    "\n",
    "# save_pheatmap_pdf <- function(x, filename, width=12, height=14) {\n",
    "#    stopifnot(!missing(x))\n",
    "#    stopifnot(!missing(filename))\n",
    "#    pdf(filename, width=width, height=height)\n",
    "#    grid::grid.newpage()\n",
    "#    grid::grid.draw(x$gtable)\n",
    "#    dev.off()\n",
    "# }\n",
    "\n",
    "# # Cell-type annotation\n",
    "# col_annot = data.frame(celltype=colnames(atlas))\n",
    "# rownames(col_annot) = colnames(atlas)\n",
    "# celltype_colors = c(stepped(), stepped2())[1:length(colnames(atlas))]\n",
    "# names(celltype_colors) = colnames(atlas)\n",
    "# # Region annotation\n",
    "# row_annot = data.frame(region_celltype=ref_region_df$ref_celltype)\n",
    "# rownames(row_annot) = ref_region_df$region_id\n",
    "# region_celltype_colors = c(stepped(), stepped2())[1:length(unique(ref_region_df$ref_celltype))]\n",
    "# names(region_celltype_colors) = unique(ref_region_df$ref_celltype)\n",
    "# annot_colors = list(celltype=celltype_colors, region_celltype=region_celltype_colors)\n",
    "# # Heatmap\n",
    "# p = pheatmap(\n",
    "#     atlas, \n",
    "#     cluster_rows=FALSE, show_rownames=FALSE, \n",
    "#     cluster_cols=FALSE, show_colnames=FALSE, \n",
    "#     annotation_colors=annot_colors,\n",
    "#     annotation_row=row_annot, annotation_names_row=FALSE,\n",
    "#     annotation_col=col_annot, annotation_names_col=FALSE,\n",
    "#     scale='none', clustering_method='ward.D2',\n",
    "# )\n",
    "# ofile <- sprintf('%s_heatmap_atlas.pdf', RESULTS_PATH)\n",
    "# save_pheatmap_pdf(p, file=ofile)"
   ]
  },
  {
   "cell_type": "code",
   "execution_count": 97,
   "metadata": {},
   "outputs": [
    {
     "data": {
      "text/plain": [
       "(326, 13)"
      ]
     },
     "execution_count": 97,
     "metadata": {},
     "output_type": "execute_result"
    }
   ],
   "source": [
    "atlas.shape"
   ]
  },
  {
   "cell_type": "code",
   "execution_count": 98,
   "metadata": {},
   "outputs": [
    {
     "data": {
      "text/html": [
       "<div>\n",
       "<style scoped>\n",
       "    .dataframe tbody tr th:only-of-type {\n",
       "        vertical-align: middle;\n",
       "    }\n",
       "\n",
       "    .dataframe tbody tr th {\n",
       "        vertical-align: top;\n",
       "    }\n",
       "\n",
       "    .dataframe thead th {\n",
       "        text-align: right;\n",
       "    }\n",
       "</style>\n",
       "<table border=\"1\" class=\"dataframe\">\n",
       "  <thead>\n",
       "    <tr style=\"text-align: right;\">\n",
       "      <th>ref_celltype</th>\n",
       "      <th>immune_b</th>\n",
       "      <th>immune_cd4</th>\n",
       "      <th>immune_cd8</th>\n",
       "      <th>immune_cd8effector</th>\n",
       "      <th>immune_cd8central</th>\n",
       "      <th>immune_reg</th>\n",
       "      <th>immune_nk</th>\n",
       "      <th>immune_dend_plus_macro_plus_mono</th>\n",
       "      <th>immune_eosi</th>\n",
       "      <th>immune_neutro</th>\n",
       "      <th>immune_eryth</th>\n",
       "      <th>immune_mega</th>\n",
       "      <th>eryth_prog</th>\n",
       "    </tr>\n",
       "    <tr>\n",
       "      <th>region_id</th>\n",
       "      <th></th>\n",
       "      <th></th>\n",
       "      <th></th>\n",
       "      <th></th>\n",
       "      <th></th>\n",
       "      <th></th>\n",
       "      <th></th>\n",
       "      <th></th>\n",
       "      <th></th>\n",
       "      <th></th>\n",
       "      <th></th>\n",
       "      <th></th>\n",
       "      <th></th>\n",
       "    </tr>\n",
       "  </thead>\n",
       "  <tbody>\n",
       "    <tr>\n",
       "      <th>Immune_Broad_B-chr1:1114772-1114971</th>\n",
       "      <td>0.954541</td>\n",
       "      <td>0.006012</td>\n",
       "      <td>0.007353</td>\n",
       "      <td>0.009615</td>\n",
       "      <td>0.004167</td>\n",
       "      <td>0.000000</td>\n",
       "      <td>0.000000</td>\n",
       "      <td>0.012992</td>\n",
       "      <td>0.005208</td>\n",
       "      <td>0.002255</td>\n",
       "      <td>0.013889</td>\n",
       "      <td>0.012048</td>\n",
       "      <td>0.030417</td>\n",
       "    </tr>\n",
       "    <tr>\n",
       "      <th>Immune_Broad_B-chr10:45390756-45390847</th>\n",
       "      <td>0.905821</td>\n",
       "      <td>0.005107</td>\n",
       "      <td>0.005556</td>\n",
       "      <td>0.015451</td>\n",
       "      <td>0.003876</td>\n",
       "      <td>0.019568</td>\n",
       "      <td>0.045092</td>\n",
       "      <td>0.007154</td>\n",
       "      <td>0.000000</td>\n",
       "      <td>0.008713</td>\n",
       "      <td>0.064953</td>\n",
       "      <td>0.021491</td>\n",
       "      <td>0.206392</td>\n",
       "    </tr>\n",
       "    <tr>\n",
       "      <th>Immune_Broad_B-chr10:126289835-126290065</th>\n",
       "      <td>0.947659</td>\n",
       "      <td>0.004625</td>\n",
       "      <td>0.002294</td>\n",
       "      <td>0.001471</td>\n",
       "      <td>0.005376</td>\n",
       "      <td>0.004274</td>\n",
       "      <td>0.069420</td>\n",
       "      <td>0.009761</td>\n",
       "      <td>0.000000</td>\n",
       "      <td>0.003088</td>\n",
       "      <td>0.000000</td>\n",
       "      <td>0.005155</td>\n",
       "      <td>0.055057</td>\n",
       "    </tr>\n",
       "    <tr>\n",
       "      <th>Immune_Broad_B-chr10:126290368-126290506</th>\n",
       "      <td>0.928200</td>\n",
       "      <td>0.000000</td>\n",
       "      <td>0.000000</td>\n",
       "      <td>0.025670</td>\n",
       "      <td>0.000000</td>\n",
       "      <td>0.000000</td>\n",
       "      <td>0.000000</td>\n",
       "      <td>0.013708</td>\n",
       "      <td>0.048423</td>\n",
       "      <td>0.001361</td>\n",
       "      <td>0.009259</td>\n",
       "      <td>0.000000</td>\n",
       "      <td>0.031746</td>\n",
       "    </tr>\n",
       "    <tr>\n",
       "      <th>Immune_Broad_B-chr11:75988912-75989088</th>\n",
       "      <td>0.973406</td>\n",
       "      <td>0.001404</td>\n",
       "      <td>0.009790</td>\n",
       "      <td>0.013095</td>\n",
       "      <td>0.003650</td>\n",
       "      <td>0.011364</td>\n",
       "      <td>0.006439</td>\n",
       "      <td>0.003429</td>\n",
       "      <td>0.000000</td>\n",
       "      <td>0.003071</td>\n",
       "      <td>0.008475</td>\n",
       "      <td>0.007576</td>\n",
       "      <td>0.113996</td>\n",
       "    </tr>\n",
       "  </tbody>\n",
       "</table>\n",
       "</div>"
      ],
      "text/plain": [
       "ref_celltype                              immune_b  immune_cd4  immune_cd8  \\\n",
       "region_id                                                                    \n",
       "Immune_Broad_B-chr1:1114772-1114971       0.954541    0.006012    0.007353   \n",
       "Immune_Broad_B-chr10:45390756-45390847    0.905821    0.005107    0.005556   \n",
       "Immune_Broad_B-chr10:126289835-126290065  0.947659    0.004625    0.002294   \n",
       "Immune_Broad_B-chr10:126290368-126290506  0.928200    0.000000    0.000000   \n",
       "Immune_Broad_B-chr11:75988912-75989088    0.973406    0.001404    0.009790   \n",
       "\n",
       "ref_celltype                              immune_cd8effector  \\\n",
       "region_id                                                      \n",
       "Immune_Broad_B-chr1:1114772-1114971                 0.009615   \n",
       "Immune_Broad_B-chr10:45390756-45390847              0.015451   \n",
       "Immune_Broad_B-chr10:126289835-126290065            0.001471   \n",
       "Immune_Broad_B-chr10:126290368-126290506            0.025670   \n",
       "Immune_Broad_B-chr11:75988912-75989088              0.013095   \n",
       "\n",
       "ref_celltype                              immune_cd8central  immune_reg  \\\n",
       "region_id                                                                 \n",
       "Immune_Broad_B-chr1:1114772-1114971                0.004167    0.000000   \n",
       "Immune_Broad_B-chr10:45390756-45390847             0.003876    0.019568   \n",
       "Immune_Broad_B-chr10:126289835-126290065           0.005376    0.004274   \n",
       "Immune_Broad_B-chr10:126290368-126290506           0.000000    0.000000   \n",
       "Immune_Broad_B-chr11:75988912-75989088             0.003650    0.011364   \n",
       "\n",
       "ref_celltype                              immune_nk  \\\n",
       "region_id                                             \n",
       "Immune_Broad_B-chr1:1114772-1114971        0.000000   \n",
       "Immune_Broad_B-chr10:45390756-45390847     0.045092   \n",
       "Immune_Broad_B-chr10:126289835-126290065   0.069420   \n",
       "Immune_Broad_B-chr10:126290368-126290506   0.000000   \n",
       "Immune_Broad_B-chr11:75988912-75989088     0.006439   \n",
       "\n",
       "ref_celltype                              immune_dend_plus_macro_plus_mono  \\\n",
       "region_id                                                                    \n",
       "Immune_Broad_B-chr1:1114772-1114971                               0.012992   \n",
       "Immune_Broad_B-chr10:45390756-45390847                            0.007154   \n",
       "Immune_Broad_B-chr10:126289835-126290065                          0.009761   \n",
       "Immune_Broad_B-chr10:126290368-126290506                          0.013708   \n",
       "Immune_Broad_B-chr11:75988912-75989088                            0.003429   \n",
       "\n",
       "ref_celltype                              immune_eosi  immune_neutro  \\\n",
       "region_id                                                              \n",
       "Immune_Broad_B-chr1:1114772-1114971          0.005208       0.002255   \n",
       "Immune_Broad_B-chr10:45390756-45390847       0.000000       0.008713   \n",
       "Immune_Broad_B-chr10:126289835-126290065     0.000000       0.003088   \n",
       "Immune_Broad_B-chr10:126290368-126290506     0.048423       0.001361   \n",
       "Immune_Broad_B-chr11:75988912-75989088       0.000000       0.003071   \n",
       "\n",
       "ref_celltype                              immune_eryth  immune_mega  \\\n",
       "region_id                                                             \n",
       "Immune_Broad_B-chr1:1114772-1114971           0.013889     0.012048   \n",
       "Immune_Broad_B-chr10:45390756-45390847        0.064953     0.021491   \n",
       "Immune_Broad_B-chr10:126289835-126290065      0.000000     0.005155   \n",
       "Immune_Broad_B-chr10:126290368-126290506      0.009259     0.000000   \n",
       "Immune_Broad_B-chr11:75988912-75989088        0.008475     0.007576   \n",
       "\n",
       "ref_celltype                              eryth_prog  \n",
       "region_id                                             \n",
       "Immune_Broad_B-chr1:1114772-1114971         0.030417  \n",
       "Immune_Broad_B-chr10:45390756-45390847      0.206392  \n",
       "Immune_Broad_B-chr10:126289835-126290065    0.055057  \n",
       "Immune_Broad_B-chr10:126290368-126290506    0.031746  \n",
       "Immune_Broad_B-chr11:75988912-75989088      0.113996  "
      ]
     },
     "execution_count": 98,
     "metadata": {},
     "output_type": "execute_result"
    }
   ],
   "source": [
    "atlas.head()"
   ]
  },
  {
   "cell_type": "code",
   "execution_count": 99,
   "metadata": {
    "tags": []
   },
   "outputs": [
    {
     "data": {
      "text/plain": [
       "Index(['Immune_Broad_B-chr1:1114772-1114971',\n",
       "       'Immune_Broad_B-chr10:45390756-45390847',\n",
       "       'Immune_Broad_B-chr10:126289835-126290065',\n",
       "       'Immune_Broad_B-chr10:126290368-126290506',\n",
       "       'Immune_Broad_B-chr11:75988912-75989088',\n",
       "       'Immune_Broad_B-chr13:31018281-31018486',\n",
       "       'Immune_Broad_B-chr15:26048270-26048449',\n",
       "       'Immune_Broad_B-chr16:85295279-85295484',\n",
       "       'Immune_Broad_B-chr16:87735149-87735321',\n",
       "       'Immune_Broad_B-chr17:73128521-73128658',\n",
       "       ...\n",
       "       'Eryth_prog-chr18:22804543-22804681',\n",
       "       'Eryth_prog-chr20:4163756-4163873',\n",
       "       'Eryth_prog-chr21:43999855-44000170',\n",
       "       'Eryth_prog-chr22:18309011-18309185',\n",
       "       'Eryth_prog-chr22:18348364-18348499',\n",
       "       'Eryth_prog-chr22:49883023-49883294',\n",
       "       'Eryth_prog-chr3:159744529-159744665',\n",
       "       'Eryth_prog-chr7:1949711-1949859', 'Eryth_prog-chr7:55559716-55559793',\n",
       "       'Eryth_prog-chr7:129408857-129408963'],\n",
       "      dtype='object', name='region_id', length=326)"
      ]
     },
     "execution_count": 99,
     "metadata": {},
     "output_type": "execute_result"
    }
   ],
   "source": [
    "atlas.index"
   ]
  },
  {
   "cell_type": "code",
   "execution_count": 100,
   "metadata": {
    "tags": []
   },
   "outputs": [
    {
     "data": {
      "text/plain": [
       "Index(['immune_b', 'immune_cd4', 'immune_cd8', 'immune_cd8effector',\n",
       "       'immune_cd8central', 'immune_reg', 'immune_nk',\n",
       "       'immune_dend_plus_macro_plus_mono', 'immune_eosi', 'immune_neutro',\n",
       "       'immune_eryth', 'immune_mega', 'eryth_prog'],\n",
       "      dtype='object', name='ref_celltype')"
      ]
     },
     "execution_count": 100,
     "metadata": {},
     "output_type": "execute_result"
    }
   ],
   "source": [
    "atlas.columns"
   ]
  },
  {
   "cell_type": "code",
   "execution_count": 101,
   "metadata": {
    "tags": []
   },
   "outputs": [],
   "source": [
    "atlas = atlas[['immune_b', 'immune_cd4', 'immune_cd8', \n",
    "       'immune_cd8effector', 'immune_cd8central', 'immune_reg', 'immune_nk',\n",
    "       'immune_dend_plus_macro_plus_mono', 'immune_eosi', 'immune_neutro',\n",
    "       'immune_eryth', 'immune_mega', 'eryth_prog']]"
   ]
  },
  {
   "cell_type": "code",
   "execution_count": 102,
   "metadata": {},
   "outputs": [
    {
     "data": {
      "text/plain": [
       "<seaborn.matrix.ClusterGrid at 0x7f79cf48c190>"
      ]
     },
     "execution_count": 102,
     "metadata": {},
     "output_type": "execute_result"
    },
    {
     "data": {
      "image/png": "[encoded data removed]",
      "text/plain": [
       "<Figure size 720x720 with 4 Axes>"
      ]
     },
     "metadata": {},
     "output_type": "display_data"
    }
   ],
   "source": [
    "sns.clustermap(atlas, row_cluster=False, col_cluster=False)"
   ]
  },
  {
   "cell_type": "code",
   "execution_count": null,
   "metadata": {},
   "outputs": [],
   "source": []
  },
  {
   "cell_type": "markdown",
   "metadata": {},
   "source": [
    "## SVD Decomposition of Atlas"
   ]
  },
  {
   "cell_type": "code",
   "execution_count": 43,
   "metadata": {},
   "outputs": [
    {
     "data": {
      "text/plain": [
       "array([12.63065495,  7.40823079,  6.31143142,  6.28387245,  5.21221202,\n",
       "        4.52346924,  3.49223858,  3.40158607,  2.4431974 ,  1.97245105,\n",
       "        1.67550515,  1.36535541,  0.82934984])"
      ]
     },
     "execution_count": 43,
     "metadata": {},
     "output_type": "execute_result"
    }
   ],
   "source": [
    "u, s, v = np.linalg.svd(atlas, compute_uv=True, full_matrices=False)\n",
    "s"
   ]
  },
  {
   "cell_type": "markdown",
   "metadata": {},
   "source": [
    "## Write Out"
   ]
  },
  {
   "cell_type": "markdown",
   "metadata": {},
   "source": [
    "Reference atlas."
   ]
  },
  {
   "cell_type": "code",
   "execution_count": 39,
   "metadata": {},
   "outputs": [],
   "source": [
    "# ofile = RESULTS_PATH + '.atlas.tsv.gz'\n",
    "# rv = atlas.reset_index()\n",
    "# rv.to_csv(ofile, sep='\\t', header=True, index=False)"
   ]
  },
  {
   "cell_type": "markdown",
   "metadata": {},
   "source": [
    "Region to reference cell type mapping."
   ]
  },
  {
   "cell_type": "code",
   "execution_count": 40,
   "metadata": {},
   "outputs": [],
   "source": [
    "# ofile = RESULTS_PATH + '.region_to_ref_celltype.tsv.gz'\n",
    "# rv = ref_region_df[['region_id', 'ref_celltype']].copy()\n",
    "# rv.to_csv(ofile, sep='\\t', header=True, index=False)"
   ]
  },
  {
   "cell_type": "markdown",
   "metadata": {},
   "source": [
    "Sample to reference cell type mapping."
   ]
  },
  {
   "cell_type": "code",
   "execution_count": 41,
   "metadata": {},
   "outputs": [],
   "source": [
    "# ofile = RESULTS_PATH + '.sample_to_ref_celltype.tsv.gz'\n",
    "# rv = ref_sample_df[['sample_id', 'ref_celltype']].copy()\n",
    "# rv.to_csv(ofile, sep='\\t', header=True, index=False)"
   ]
  },
  {
   "cell_type": "code",
   "execution_count": null,
   "metadata": {},
   "outputs": [],
   "source": []
  }
 ],
 "metadata": {
  "kernelspec": {
   "display_name": "Python 3",
   "language": "python",
   "name": "python3"
  },
  "language_info": {
   "codemirror_mode": {
    "name": "ipython",
    "version": 3
   },
   "file_extension": ".py",
   "mimetype": "text/x-python",
   "name": "python",
   "nbconvert_exporter": "python",
   "pygments_lexer": "ipython3",
   "version": "3.7.8"
  },
  "toc": {
   "base_numbering": 1,
   "nav_menu": {},
   "number_sections": true,
   "sideBar": true,
   "skip_h1_title": true,
   "title_cell": "Table of Contents",
   "title_sidebar": "Contents",
   "toc_cell": true,
   "toc_position": {
    "height": "calc(100% - 180px)",
    "left": "10px",
    "top": "150px",
    "width": "351.6px"
   },
   "toc_section_display": true,
   "toc_window_display": true
  },
  "toc-autonumbering": true,
  "toc-showtags": false
 },
 "nbformat": 4,
 "nbformat_minor": 4
}
