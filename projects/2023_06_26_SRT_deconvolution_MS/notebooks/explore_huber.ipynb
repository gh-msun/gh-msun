{
 "cells": [
  {
   "cell_type": "code",
   "execution_count": 1,
   "id": "02ce2ecb-8553-48e5-a894-68c514cbfbb6",
   "metadata": {},
   "outputs": [],
   "source": [
    "import pandas as pd\n",
    "pd.set_option('display.max_rows', 1000)\n",
    "pd.set_option('display.max_columns', 500)"
   ]
  },
  {
   "cell_type": "code",
   "execution_count": 2,
   "id": "e23b73d1-21d2-40b4-b145-d8098a0843cd",
   "metadata": {
    "tags": []
   },
   "outputs": [
    {
     "data": {
      "image/png": "[encoded data removed]",
      "text/plain": [
       "<Figure size 432x288 with 1 Axes>"
      ]
     },
     "metadata": {
      "needs_background": "light"
     },
     "output_type": "display_data"
    }
   ],
   "source": [
    "# Authors: Manoj Kumar mks542@nyu.edu\n",
    "# License: BSD 3 clause\n",
    "\n",
    "import matplotlib.pyplot as plt\n",
    "import numpy as np\n",
    "\n",
    "from sklearn.datasets import make_regression\n",
    "from sklearn.linear_model import HuberRegressor, Ridge\n",
    "\n",
    "# Generate toy data.\n",
    "rng = np.random.RandomState(0)\n",
    "X, y = make_regression(\n",
    "    n_samples=20, n_features=1, random_state=0, noise=4.0, bias=100.0\n",
    ")\n",
    "\n",
    "# Add four strong outliers to the dataset.\n",
    "X_outliers = rng.normal(0, 0.5, size=(4, 1))\n",
    "y_outliers = rng.normal(0, 2.0, size=4)\n",
    "X_outliers[:2, :] += X.max() + X.mean() / 4.0\n",
    "X_outliers[2:, :] += X.min() - X.mean() / 4.0\n",
    "y_outliers[:2] += y.min() - y.mean() / 4.0\n",
    "y_outliers[2:] += y.max() + y.mean() / 4.0\n",
    "X = np.vstack((X, X_outliers))\n",
    "y = np.concatenate((y, y_outliers))\n",
    "plt.plot(X, y, \"b.\")\n",
    "\n",
    "# Fit the huber regressor over a series of epsilon values.\n",
    "colors = [\"r-\", \"b-\", \"y-\", \"m-\"]\n",
    "\n",
    "x = np.linspace(X.min(), X.max(), 7)\n",
    "epsilon_values = [1, 1.5, 1.75, 1.9]\n",
    "for k, epsilon in enumerate(epsilon_values):\n",
    "    huber = HuberRegressor(alpha=0.0, epsilon=epsilon)\n",
    "    huber.fit(X, y)\n",
    "    coef_ = huber.coef_ * x + huber.intercept_\n",
    "    plt.plot(x, coef_, colors[k], label=\"huber loss, %s\" % epsilon)\n",
    "\n",
    "# Fit a ridge regressor to compare it to huber regressor.\n",
    "ridge = Ridge(alpha=0.0, random_state=0)\n",
    "ridge.fit(X, y)\n",
    "coef_ridge = ridge.coef_\n",
    "coef_ = ridge.coef_ * x + ridge.intercept_\n",
    "plt.plot(x, coef_, \"g-\", label=\"ridge regression\")\n",
    "\n",
    "plt.title(\"Comparison of HuberRegressor vs Ridge\")\n",
    "plt.xlabel(\"X\")\n",
    "plt.ylabel(\"y\")\n",
    "plt.legend(loc=0)\n",
    "plt.show()"
   ]
  },
  {
   "cell_type": "code",
   "execution_count": 3,
   "id": "37f66051-4a62-4de9-beee-e09919b7aa50",
   "metadata": {
    "tags": []
   },
   "outputs": [
    {
     "data": {
      "text/plain": [
       "array([-3.40390959])"
      ]
     },
     "execution_count": 3,
     "metadata": {},
     "output_type": "execute_result"
    }
   ],
   "source": [
    "huber.coef_ "
   ]
  },
  {
   "cell_type": "code",
   "execution_count": 4,
   "id": "c070e6b2-7a0a-4ce7-b45b-11a0a019398d",
   "metadata": {
    "tags": []
   },
   "outputs": [],
   "source": [
    "import pandas as pd"
   ]
  },
  {
   "cell_type": "code",
   "execution_count": 5,
   "id": "c4a07389-2b09-4590-9198-18c46a070981",
   "metadata": {
    "tags": []
   },
   "outputs": [
    {
     "data": {
      "text/plain": [
       "0   -3.40391\n",
       "dtype: float64"
      ]
     },
     "execution_count": 5,
     "metadata": {},
     "output_type": "execute_result"
    }
   ],
   "source": [
    "pd.Series(huber.coef_)"
   ]
  },
  {
   "cell_type": "code",
   "execution_count": 6,
   "id": "bc1bb69e-2443-4e07-ab2f-e799e4d122c4",
   "metadata": {},
   "outputs": [],
   "source": [
    "# fit_intercept = False <- no need for intercept in deconvolution\n"
   ]
  },
  {
   "cell_type": "code",
   "execution_count": 48,
   "id": "3b7d3d7f-c04d-4955-9f5b-e8a181d79e6f",
   "metadata": {},
   "outputs": [],
   "source": [
    "def compute_deconvolution_huber(score_df_path, score_type, atlas, epsilon, match=True, force_zero=False):\n",
    "    '''\n",
    "    Run nonnegative least squares ||Ax-b||_2. \n",
    "    The solution x is the deconvolution of b.\n",
    "    \n",
    "    Reasoning for match=True:\n",
    "    Note that for lower total read count for a mixture, there be regions that\n",
    "    are missing in score_df. At 1M reads, this not a problem.\n",
    "    \n",
    "    score_df -- methylation score dataframe\n",
    "    score_type -- hypo or hyper score: e.g. 'frac_alpha_leq_25pct'\n",
    "    atlas -- atlas dataframe\n",
    "    '''\n",
    "    # load score df\n",
    "    score_df = pd.read_csv(score_df_path, sep='\\t')\n",
    "    score_df.index = score_df.region_id\n",
    "    \n",
    "    # subset score_df regions to atlas regions\n",
    "    score_df = score_df[score_df.region_id.isin(atlas.index)]\n",
    "    \n",
    "    b = score_df[score_type]\n",
    "    A = atlas\n",
    "    \n",
    "    # match index between A and b\n",
    "    if match:\n",
    "        region_count_before = A.shape[0]\n",
    "        A = A[A.index.isin(b.index)]\n",
    "        region_count_after = A.shape[0]\n",
    "        region_count_diff = region_count_before - region_count_after \n",
    "        print(f'Dropped: {region_count_diff} regions.')\n",
    "    \n",
    "    # sort the indices for A to match b indices\n",
    "    A_sorted = A.loc[b.index, :]\n",
    "    \n",
    "    # alpha = 0 no regularization\n",
    "    huber = HuberRegressor(alpha=0.0, \n",
    "                           epsilon=epsilon, \n",
    "                           fit_intercept = False)\n",
    "    huber.fit(A_sorted, b)\n",
    "    \n",
    "    # run huber\n",
    "    x = pd.Series(huber.coef_, index=A_sorted.columns) \n",
    "    \n",
    "    # if force_zero is set to True then set negative to 0\n",
    "    if force_zero:\n",
    "        x[x < 0] = 0\n",
    "    \n",
    "    return(x)\n",
    "\n",
    "\n",
    "def compute_deconvolution_n_times_huber(mixture_replicates_path, score_type, atlas, epsilon, match=True, force_zero=False):\n",
    "    '''\n",
    "    \n",
    "    mixture_replicates_path -- path to a mixture (proportion) directory of replicates (e.g. ../E1B_E18CD4_E18CD8_E18NK_E18MONO_E18NEUTRO/)\n",
    "    output: pandas df\n",
    "    \n",
    "    '''\n",
    "    # given path to mixture grab all paths to mixture replicates\n",
    "    list_mixture_dir_paths = get_file_paths(mixture_replicates_path)\n",
    "    \n",
    "    # run deconvolution for each replicate\n",
    "    results = []\n",
    "    samples_name = []\n",
    "    for path in list_mixture_dir_paths:\n",
    "        deconv = compute_deconvolution_huber(score_df_path=path, \n",
    "                                           atlas=atlas, \n",
    "                                           score_type=score_type, \n",
    "                                           match=match,\n",
    "                                           force_zero=force_zero)\n",
    "        results.append(deconv)\n",
    "    df = pd.concat(results, axis=1)\n",
    "    \n",
    "    return df \n",
    "\n",
    "\n",
    "def compute_deconvolution_from_methyl_score_dir_huber(path_to_methyl_score_dir, score_type, atlas, epsilon, match=True, force_zero=False):\n",
    "    '''\n",
    "    '''\n",
    "    # grab all file paths in methyl_score directory\n",
    "    list_methyl_score_dir = get_file_paths(path_to_methyl_score_dir)\n",
    "    \n",
    "    # run deconvolution on each mixture proportion\n",
    "    results = []\n",
    "    for path in list_methyl_score_dir:\n",
    "        df = compute_deconvolution_n_times_huber(mixture_replicates_path=path, \n",
    "                                               score_type=score_type, \n",
    "                                               atlas=atlas, \n",
    "                                               epsilon=epsilon,\n",
    "                                               match=match,\n",
    "                                               force_zero=force_zero)\n",
    "        results.append(df)\n",
    "    \n",
    "    return(results)\n"
   ]
  },
  {
   "cell_type": "code",
   "execution_count": 49,
   "id": "d2513692-e719-43e1-b7f6-f311955b00c9",
   "metadata": {
    "tags": []
   },
   "outputs": [],
   "source": [
    "# def compute_deconvolution_huber(score_df_path, score_type, atlas, epsilon, match=True):\n",
    "#     '''\n",
    "#     Run nonnegative least squares ||Ax-b||_2. \n",
    "#     The solution x is the deconvolution of b.\n",
    "    \n",
    "#     Reasoning for match=True:\n",
    "#     Note that for lower total read count for a mixture, there be regions that\n",
    "#     are missing in score_df. At 1M reads, this not a problem.\n",
    "    \n",
    "#     score_df -- methylation score dataframe\n",
    "#     score_type -- hypo or hyper score: e.g. 'frac_alpha_leq_25pct'\n",
    "#     atlas -- atlas dataframe\n",
    "#     '''\n",
    "#     # load score df\n",
    "#     score_df = pd.read_csv(score_df_path, sep='\\t')\n",
    "#     score_df.index = score_df.region_id\n",
    "    \n",
    "#     # subset score_df regions to atlas regions\n",
    "#     score_df = score_df[score_df.region_id.isin(atlas.index)]\n",
    "    \n",
    "#     b = score_df[score_type]\n",
    "#     A = atlas\n",
    "    \n",
    "#     # match index between A and b\n",
    "#     if match:\n",
    "#         region_count_before = A.shape[0]\n",
    "#         A = A[A.index.isin(b.index)]\n",
    "#         region_count_after = A.shape[0]\n",
    "#         region_count_diff = region_count_before - region_count_after \n",
    "#         print(f'Dropped: {region_count_diff} regions.')\n",
    "    \n",
    "#     # sort the indices for A to match b indices\n",
    "#     A_sorted = A.loc[b.index, :]\n",
    "    \n",
    "#     # alpha = 0 no regularization\n",
    "#     huber = HuberRegressor(alpha=0.0, \n",
    "#                            epsilon=epsilon, \n",
    "#                            fit_intercept = False)\n",
    "#     huber.fit(A_sorted, b)\n",
    "    \n",
    "#     # run huber\n",
    "#     x = pd.Series(huber.coef_, index=A_sorted.columns) \n",
    "#     # pd.Series(fit[0], index=A_sorted.columns)\n",
    "    \n",
    "#     return(x)\n",
    "\n"
   ]
  },
  {
   "cell_type": "code",
   "execution_count": 253,
   "id": "c3a954c3-261f-4783-bfe2-fad228df09a5",
   "metadata": {
    "tags": []
   },
   "outputs": [],
   "source": [
    "ROOT_DIR = '/analysis/gh-msun/'\n",
    "PROJECT_SLUG = '2023_06_26_SRT_deconvolution_MS'\n",
    "\n",
    "#---Local paths---#\n",
    "PROJECT_DIR = ROOT_DIR + f'projects/{PROJECT_SLUG}/'\n",
    "\n",
    "# Reference matrix\n",
    "ATLAS_PATH = PROJECT_DIR + 'output/reference/deconv_inhouse_v2.atlas.tsv.gz'\n",
    "REGION_PATH = PROJECT_DIR + 'output/reference/deconv_inhouse_v2.region_to_ref_celltype.tsv.gz'\n",
    "\n",
    "atlas = pd.read_csv(ATLAS_PATH, sep='\\t',index_col=None)\n",
    "atlas = atlas.set_index('region_id')\n",
    "atlas.columns.name = 'ref_celltype'\n",
    "atlas.shape\n",
    "\n",
    "ref_region_df = pd.read_csv(REGION_PATH, sep='\\t')\n",
    "\n",
    "atlas = atlas.loc[ref_region_df['region_id'], :].copy()"
   ]
  },
  {
   "cell_type": "code",
   "execution_count": 254,
   "id": "8a33d3fa-ae6c-40c2-bd62-eb7ca1f357a2",
   "metadata": {
    "tags": []
   },
   "outputs": [
    {
     "name": "stdout",
     "output_type": "stream",
     "text": [
      "Dropped: 0 regions.\n"
     ]
    },
    {
     "data": {
      "text/plain": [
       "ref_celltype\n",
       "immune_b                            0.061178\n",
       "immune_t                            0.220075\n",
       "immune_nk                           0.044837\n",
       "immune_dend_plus_macro_plus_mono    0.100299\n",
       "immune_eosi                         0.001019\n",
       "immune_neutro                       0.563015\n",
       "immune_eryth                        0.002031\n",
       "immune_mega                         0.003478\n",
       "eryth_prog                         -0.003375\n",
       "dtype: float64"
      ]
     },
     "execution_count": 254,
     "metadata": {},
     "output_type": "execute_result"
    }
   ],
   "source": [
    "score_df_path = '/analysis/gh-msun/projects/2023_06_26_SRT_deconvolution_MS/output/experiment/primary_immune/Blueprint-B-wholeblood/methyl_score/E06B_E16CD4_E07CD8_E05NK_E09MONO_E57NEUTRO/mix10_seed928973.tsv.gz'\n",
    "score_type = 'frac_alpha_leq_25pct'\n",
    "epsilon = 1\n",
    "\n",
    "compute_deconvolution_huber(score_df_path=score_df_path, score_type=score_type, atlas=atlas, epsilon=5, match=True, force_zero=False)"
   ]
  },
  {
   "cell_type": "code",
   "execution_count": 248,
   "id": "2651db77-ee28-4b90-8a2f-f62cc4d38521",
   "metadata": {
    "tags": []
   },
   "outputs": [],
   "source": [
    "atlas['eryth_prog'] = 1"
   ]
  },
  {
   "cell_type": "code",
   "execution_count": 249,
   "id": "4b5d8958-522c-434d-9b1d-64f87fc0668d",
   "metadata": {
    "tags": []
   },
   "outputs": [
    {
     "name": "stdout",
     "output_type": "stream",
     "text": [
      "Dropped: 0 regions.\n"
     ]
    },
    {
     "data": {
      "text/plain": [
       "ref_celltype\n",
       "immune_b                            0.071423\n",
       "immune_t                            0.229117\n",
       "immune_nk                           0.054910\n",
       "immune_dend_plus_macro_plus_mono    0.111687\n",
       "immune_eosi                         0.011188\n",
       "immune_neutro                       0.572698\n",
       "immune_eryth                        0.009779\n",
       "immune_mega                         0.013783\n",
       "eryth_prog                         -0.010264\n",
       "dtype: float64"
      ]
     },
     "execution_count": 249,
     "metadata": {},
     "output_type": "execute_result"
    }
   ],
   "source": [
    "compute_deconvolution_ls(score_df_path=score_df_path, score_type=score_type, atlas=atlas, match=True)"
   ]
  },
  {
   "cell_type": "code",
   "execution_count": 250,
   "id": "57b8f437-46c2-4e57-b07d-9cf158626d81",
   "metadata": {
    "tags": []
   },
   "outputs": [
    {
     "data": {
      "text/plain": [
       "<seaborn.matrix.ClusterGrid at 0x7f1d0ace1e90>"
      ]
     },
     "execution_count": 250,
     "metadata": {},
     "output_type": "execute_result"
    },
    {
     "data": {
      "image/png": "[encoded data removed]",
      "text/plain": [
       "<Figure size 720x720 with 4 Axes>"
      ]
     },
     "metadata": {
      "needs_background": "light"
     },
     "output_type": "display_data"
    }
   ],
   "source": [
    "import seaborn as sns\n",
    "sns.clustermap(atlas, row_cluster=False, col_cluster=False)"
   ]
  },
  {
   "cell_type": "code",
   "execution_count": 225,
   "id": "cf35dbea-3496-458d-b4d7-8b07af6287ab",
   "metadata": {},
   "outputs": [
    {
     "name": "stdout",
     "output_type": "stream",
     "text": [
      "Optimal value: 76.30713253583609\n",
      "Optimal x: [-1.64039103 -1.55628622  0.14849272 -0.86008183 -0.0410916  -0.73726563\n",
      " -0.77298445 -0.41831525  0.86579437  0.81893715  0.11954592 -1.03685154\n",
      "  0.70797542  0.6713746   0.21076797 -0.54418703  0.8311723   0.61359754\n",
      " -3.31143925  0.73754109]\n"
     ]
    }
   ],
   "source": [
    "import cvxpy as cp\n",
    "import numpy as np\n",
    "\n",
    "# Generate some mock data for demonstration purposes\n",
    "np.random.seed(0)\n",
    "m, n = 100, 20  # m samples, n features\n",
    "A = np.random.randn(m, n)\n",
    "x_true = np.random.randn(n)\n",
    "noise = np.random.randn(m)\n",
    "b = A @ x_true + noise\n",
    "\n",
    "# Variable to optimize\n",
    "x = cp.Variable(n)\n",
    "\n",
    "# Huber loss with threshold delta\n",
    "delta = 1.0\n",
    "residual = A @ x - b\n",
    "huber_loss = cp.sum(cp.huber(residual, delta))\n",
    "\n",
    "# Objective\n",
    "objective = cp.Minimize(huber_loss)\n",
    "\n",
    "# Nonnegativity constraints\n",
    "# constraints = [x >= 0]\n",
    "\n",
    "# Problem\n",
    "prob = cp.Problem(objective)\n",
    "\n",
    "# Solve\n",
    "prob.solve()\n",
    "\n",
    "print(\"Optimal value:\", prob.value)\n",
    "print(\"Optimal x:\", x.value)"
   ]
  },
  {
   "cell_type": "code",
   "execution_count": 199,
   "id": "5f555e6c-b247-472d-8551-d6c1ca24a000",
   "metadata": {
    "tags": []
   },
   "outputs": [],
   "source": [
    "from scipy.optimize import nnls\n",
    "\n",
    "def compute_deconvolution_nnls(score_df_path, score_type, atlas, match=True):\n",
    "    '''\n",
    "    Run nonnegative least squares ||Ax-b||_2. \n",
    "    The solution x is the deconvolution of b.\n",
    "    \n",
    "    Reasoning for match=True:\n",
    "    Note that for lower total read count for a mixture, there be regions that\n",
    "    are missing in score_df. At 1M reads, this not a problem.\n",
    "    \n",
    "    score_df -- methylation score dataframe\n",
    "    score_type -- hypo or hyper score: e.g. 'frac_alpha_leq_25pct'\n",
    "    atlas -- atlas dataframe\n",
    "    '''\n",
    "    # load score df\n",
    "    score_df = pd.read_csv(score_df_path, sep='\\t')\n",
    "    score_df.index = score_df.region_id\n",
    "    \n",
    "    # subset score_df regions to atlas regions\n",
    "    score_df = score_df[score_df.region_id.isin(atlas.index)]\n",
    "    \n",
    "    b = score_df[score_type]\n",
    "    A = atlas\n",
    "    \n",
    "    # match index between A and b\n",
    "    if match:\n",
    "        region_count_before = A.shape[0]\n",
    "        A = A[A.index.isin(b.index)]\n",
    "        region_count_after = A.shape[0]\n",
    "        region_count_diff = region_count_before - region_count_after \n",
    "        print(f'Dropped: {region_count_diff} regions.')\n",
    "    \n",
    "    # sort the indices for A to match b indices\n",
    "    A_sorted = A.loc[b.index, :]\n",
    "    \n",
    "    # run NNLS\n",
    "    fit = nnls(A_sorted, b)\n",
    "    x = pd.Series(fit[0], index=A_sorted.columns)\n",
    "    \n",
    "    return(x)\n",
    "\n",
    "\n",
    "\n",
    "\n",
    "def compute_deconvolution_ls(score_df_path, score_type, atlas, match=True):\n",
    "    '''\n",
    "    Run nonnegative least squares ||Ax-b||_2. \n",
    "    The solution x is the deconvolution of b.\n",
    "    \n",
    "    Reasoning for match=True:\n",
    "    Note that for lower total read count for a mixture, there be regions that\n",
    "    are missing in score_df. At 1M reads, this not a problem.\n",
    "    \n",
    "    score_df -- methylation score dataframe\n",
    "    score_type -- hypo or hyper score: e.g. 'frac_alpha_leq_25pct'\n",
    "    atlas -- atlas dataframe\n",
    "    '''\n",
    "    def ls(A, b):\n",
    "        \n",
    "        n = A.shape[1]\n",
    "        x = cp.Variable(n)\n",
    "\n",
    "        loss = A @ x - b\n",
    "        ls_loss = cp.sum(loss ** 2)\n",
    "\n",
    "        # Objective\n",
    "        objective = cp.Minimize(ls_loss)\n",
    "\n",
    "        # Problem\n",
    "        prob = cp.Problem(objective)\n",
    "\n",
    "        # Solve\n",
    "        prob.solve()\n",
    "\n",
    "        return(x.value)\n",
    "    \n",
    "    # load score df\n",
    "    score_df = pd.read_csv(score_df_path, sep='\\t')\n",
    "    score_df.index = score_df.region_id\n",
    "    \n",
    "    # subset score_df regions to atlas regions\n",
    "    score_df = score_df[score_df.region_id.isin(atlas.index)]\n",
    "    \n",
    "    b = score_df[score_type]\n",
    "    A = atlas\n",
    "    \n",
    "    # match index between A and b\n",
    "    if match:\n",
    "        region_count_before = A.shape[0]\n",
    "        A = A[A.index.isin(b.index)]\n",
    "        region_count_after = A.shape[0]\n",
    "        region_count_diff = region_count_before - region_count_after \n",
    "        print(f'Dropped: {region_count_diff} regions.')\n",
    "    \n",
    "    # sort the indices for A to match b indices\n",
    "    A_sorted = A.loc[b.index, :]\n",
    "    \n",
    "    # run huber\n",
    "    x = ls(A_sorted.to_numpy(), b)\n",
    "    x = pd.Series(x, index=A_sorted.columns)\n",
    "\n",
    "    \n",
    "    return(x)"
   ]
  },
  {
   "cell_type": "code",
   "execution_count": 12,
   "id": "060437e3-2539-406e-9d76-12e0889adbe5",
   "metadata": {
    "tags": []
   },
   "outputs": [
    {
     "name": "stdout",
     "output_type": "stream",
     "text": [
      "Dropped: 0 regions.\n"
     ]
    },
    {
     "data": {
      "text/plain": [
       "ref_celltype\n",
       "immune_b                            0.060891\n",
       "immune_t                            0.219701\n",
       "immune_nk                           0.044624\n",
       "immune_dend_plus_macro_plus_mono    0.099951\n",
       "immune_eosi                         0.000549\n",
       "immune_neutro                       0.562785\n",
       "immune_eryth                        0.000000\n",
       "immune_mega                         0.001687\n",
       "eryth_prog                          0.000000\n",
       "dtype: float64"
      ]
     },
     "execution_count": 12,
     "metadata": {},
     "output_type": "execute_result"
    }
   ],
   "source": [
    "compute_deconvolution_nnls(score_df_path=score_df_path, score_type=score_type, atlas=atlas, match=True)"
   ]
  },
  {
   "cell_type": "code",
   "execution_count": 13,
   "id": "6e5c37be-2148-4037-a21b-8d55dc053fc7",
   "metadata": {
    "tags": []
   },
   "outputs": [
    {
     "name": "stdout",
     "output_type": "stream",
     "text": [
      "Optimal value: 609.0723266517177\n",
      "Optimal x: [ 4.00737370e-20  2.13780616e-20  4.68978960e-01  2.01450982e-20\n",
      "  7.31787074e-21  1.35573922e-20  5.78988648e-21  6.84941633e-01\n",
      "  1.00810351e+00  1.21062061e+00  6.83818998e-01  2.15311255e-20\n",
      "  1.16319259e+00  1.91580568e-20  2.82240607e-20  1.35544749e-20\n",
      "  1.30003699e+00  2.78413809e-01 -3.45950675e-20  1.93977917e-20]\n"
     ]
    }
   ],
   "source": [
    "import cvxpy as cp\n",
    "import numpy as np\n",
    "\n",
    "# Generate some mock data for demonstration purposes\n",
    "np.random.seed(0)\n",
    "m, n = 100, 20  # m samples, n features\n",
    "A = np.random.randn(m, n)\n",
    "x_true = np.random.randn(n)\n",
    "noise = np.random.randn(m)\n",
    "b = A @ x_true + noise\n",
    "\n",
    "# Variable to optimize\n",
    "x = cp.Variable(n)\n",
    "\n",
    "# Huber loss with threshold delta\n",
    "delta = 1.0\n",
    "residual = A @ x - b\n",
    "huber_loss = cp.sum(cp.huber(residual, delta))\n",
    "\n",
    "# Objective\n",
    "objective = cp.Minimize(huber_loss)\n",
    "\n",
    "# Nonnegativity constraints\n",
    "constraints = [x >= 0]\n",
    "\n",
    "# Problem\n",
    "prob = cp.Problem(objective, constraints)\n",
    "\n",
    "# Solve\n",
    "prob.solve()\n",
    "\n",
    "print(\"Optimal value:\", prob.value)\n",
    "print(\"Optimal x:\", x.value)"
   ]
  },
  {
   "cell_type": "code",
   "execution_count": 190,
   "id": "021fe3d5-c2b0-4d1f-a7e8-e626dc1dc6c4",
   "metadata": {},
   "outputs": [
    {
     "data": {
      "text/plain": [
       "(280, 9)"
      ]
     },
     "execution_count": 190,
     "metadata": {},
     "output_type": "execute_result"
    }
   ],
   "source": [
    "atlas.shape\n",
    "    "
   ]
  },
  {
   "cell_type": "code",
   "execution_count": null,
   "id": "48a3a77f-4e99-4fb7-98ad-ea8010a7c1f9",
   "metadata": {},
   "outputs": [],
   "source": []
  },
  {
   "cell_type": "code",
   "execution_count": 41,
   "id": "ce036041-0ea7-445b-adcc-8525f6468d76",
   "metadata": {
    "tags": []
   },
   "outputs": [],
   "source": [
    "def compute_deconvolution_nnhuber(score_df_path, score_type, atlas, epsilon, match=True):\n",
    "    '''\n",
    "    Run nonnegative least squares ||Ax-b||_2. \n",
    "    The solution x is the deconvolution of b.\n",
    "    \n",
    "    Reasoning for match=True:\n",
    "    Note that for lower total read count for a mixture, there be regions that\n",
    "    are missing in score_df. At 1M reads, this not a problem.\n",
    "    \n",
    "    score_df -- methylation score dataframe\n",
    "    score_type -- hypo or hyper score: e.g. 'frac_alpha_leq_25pct'\n",
    "    atlas -- atlas dataframe\n",
    "    '''\n",
    "    def nnHuber(A, b, delta):\n",
    "        \n",
    "        n = A.shape[1]\n",
    "        x = cp.Variable(n)\n",
    "\n",
    "        loss = A @ x - b\n",
    "        huber_loss = cp.sum(cp.huber(loss, delta))\n",
    "\n",
    "        # Objective\n",
    "        objective = cp.Minimize(huber_loss)\n",
    "\n",
    "        # Nonnegativity constraints\n",
    "        constraints = [x >= 0]\n",
    "\n",
    "        # Problem\n",
    "        prob = cp.Problem(objective, constraints)\n",
    "\n",
    "        # Solve\n",
    "        prob.solve()\n",
    "\n",
    "        return(x.value)\n",
    "    \n",
    "    \n",
    "    # load score df\n",
    "    score_df = pd.read_csv(score_df_path, sep='\\t')\n",
    "    score_df.index = score_df.region_id\n",
    "    \n",
    "    # subset score_df regions to atlas regions\n",
    "    score_df = score_df[score_df.region_id.isin(atlas.index)]\n",
    "    \n",
    "    b = score_df[score_type]\n",
    "    A = atlas\n",
    "    \n",
    "    # match index between A and b\n",
    "    if match:\n",
    "        region_count_before = A.shape[0]\n",
    "        A = A[A.index.isin(b.index)]\n",
    "        region_count_after = A.shape[0]\n",
    "        region_count_diff = region_count_before - region_count_after \n",
    "        print(f'Dropped: {region_count_diff} regions.')\n",
    "    \n",
    "    # sort the indices for A to match b indices\n",
    "    A_sorted = A.loc[b.index, :]\n",
    "    \n",
    "    # run huber\n",
    "    x = nnHuber(A_sorted.to_numpy(), b, delta=epsilon)\n",
    "    x = pd.Series(x, index=A_sorted.columns)\n",
    "    \n",
    "    # extremely small, less than -10^10, just round to 0\n",
    "    threshold = 10 ** -10\n",
    "    abs(x) < threshold\n",
    "    x[abs(x) < threshold] = 0\n",
    "    \n",
    "    return(x)\n",
    "\n",
    "\n",
    "def compute_deconvolution_n_times_nnhuber(mixture_replicates_path, score_type, atlas, epsilon, match=True):\n",
    "    '''\n",
    "    \n",
    "    mixture_replicates_path -- path to a mixture (proportion) directory of replicates (e.g. ../E1B_E18CD4_E18CD8_E18NK_E18MONO_E18NEUTRO/)\n",
    "    output: pandas df\n",
    "    \n",
    "    '''\n",
    "    # given path to mixture grab all paths to mixture replicates\n",
    "    list_mixture_dir_paths = get_file_paths(mixture_replicates_path)\n",
    "    \n",
    "    # run deconvolution for each replicate\n",
    "    results = []\n",
    "    samples_name = []\n",
    "    for path in list_mixture_dir_paths:\n",
    "        deconv = compute_deconvolution_nnhuber(score_df_path=path, \n",
    "                                           atlas=atlas, \n",
    "                                           score_type=score_type, \n",
    "                                           match=match)\n",
    "        results.append(deconv)\n",
    "    df = pd.concat(results, axis=1)\n",
    "    \n",
    "    return df \n",
    "\n",
    "\n",
    "def compute_deconvolution_from_methyl_score_dir_nnhuber(path_to_methyl_score_dir, score_type, atlas, epsilon, match=True):\n",
    "    '''\n",
    "    '''\n",
    "    # grab all file paths in methyl_score directory\n",
    "    list_methyl_score_dir = get_file_paths(path_to_methyl_score_dir)\n",
    "    \n",
    "    # run deconvolution on each mixture proportion\n",
    "    results = []\n",
    "    for path in list_methyl_score_dir:\n",
    "        df = compute_deconvolution_n_times_nnhuber(mixture_replicates_path=path, \n",
    "                                               score_type=score_type, \n",
    "                                               atlas=atlas, \n",
    "                                               epsilon=epsilon,\n",
    "                                               match=match)\n",
    "        results.append(df)\n",
    "    \n",
    "    return(results)\n",
    "\n"
   ]
  },
  {
   "cell_type": "code",
   "execution_count": 42,
   "id": "8f4f57cb-0b54-4d80-b1e4-6ced099a8ae4",
   "metadata": {
    "tags": []
   },
   "outputs": [
    {
     "name": "stdout",
     "output_type": "stream",
     "text": [
      "Dropped: 0 regions.\n"
     ]
    },
    {
     "data": {
      "text/plain": [
       "ref_celltype\n",
       "immune_b                            0.060891\n",
       "immune_t                            0.219701\n",
       "immune_nk                           0.044624\n",
       "immune_dend_plus_macro_plus_mono    0.099951\n",
       "immune_eosi                         0.000549\n",
       "immune_neutro                       0.562785\n",
       "immune_eryth                        0.000000\n",
       "immune_mega                         0.001687\n",
       "eryth_prog                          0.000000\n",
       "dtype: float64"
      ]
     },
     "execution_count": 42,
     "metadata": {},
     "output_type": "execute_result"
    }
   ],
   "source": [
    "score_df_path = '/analysis/gh-msun/projects/2023_06_26_SRT_deconvolution_MS/output/experiment/primary_immune/Blueprint-B-wholeblood/methyl_score/E06B_E16CD4_E07CD8_E05NK_E09MONO_E57NEUTRO/mix10_seed928973.tsv.gz'\n",
    "score_type = 'frac_alpha_leq_25pct'\n",
    "epsilon = 1\n",
    "\n",
    "pred_nnhuber = compute_deconvolution_nnhuber(score_df_path=score_df_path, score_type=score_type, atlas=atlas, epsilon=epsilon, match=True)\n",
    "pred_nnhuber"
   ]
  },
  {
   "cell_type": "code",
   "execution_count": null,
   "id": "4eec5c26-7b81-47b6-a274-97985890e9ac",
   "metadata": {},
   "outputs": [],
   "source": []
  },
  {
   "cell_type": "code",
   "execution_count": 197,
   "id": "3da0c541-3ff3-46d1-a108-7dace226044d",
   "metadata": {
    "tags": []
   },
   "outputs": [],
   "source": [
    "# def nnHuber(A, b, delta):\n",
    "    \n",
    "#     n_celltype = A.shape[1]\n",
    "#     x = cp.Variable(n_celltype)\n",
    "\n",
    "#     loss = A @ x - b\n",
    "#     huber_loss = cp.sum(cp.huber(loss, delta))\n",
    "\n",
    "#     # Objective\n",
    "#     objective = cp.Minimize(huber_loss)\n",
    "\n",
    "#     # Nonnegativity constraints\n",
    "#   #  constraints = [x >= 0]\n",
    "\n",
    "#     # Problem\n",
    "#     prob = cp.Problem(objective) #, constraints)\n",
    "\n",
    "#     # Solve\n",
    "#     prob.solve()\n",
    "\n",
    "#     return(x.value)\n",
    "\n",
    "# def leastsquares(A, b):\n",
    "    \n",
    "#     n_celltype = A.shape[1]\n",
    "#     x = cp.Variable(n_celltype)\n",
    "\n",
    "#     loss = A @ x - b\n",
    "#     ls_loss = cp.sum(loss ** 2)\n",
    "\n",
    "#     # Objective\n",
    "#     objective = cp.Minimize(ls_loss)\n",
    "\n",
    "#     # Nonnegativity constraints\n",
    "#    # constraints = [x >= 0]\n",
    "\n",
    "#     # Problem\n",
    "#     prob = cp.Problem(objective) # constraints)\n",
    "\n",
    "#     # Solve\n",
    "#     prob.solve()\n",
    "\n",
    "#     return(x.value)\n",
    "\n",
    "# score_df_path = '/analysis/gh-msun/projects/2023_06_26_SRT_deconvolution_MS/output/experiment/primary_immune/Blueprint-B-wholeblood/methyl_score/E06B_E16CD4_E07CD8_E05NK_E09MONO_E57NEUTRO/mix10_seed928973.tsv.gz'\n",
    "# score_type = 'frac_alpha_leq_25pct'\n",
    "\n",
    "# score_df = pd.read_csv(score_df_path, sep='\\t')\n",
    "# score_df.index = score_df.region_id\n",
    "\n",
    "# # subset score_df regions to atlas regions\n",
    "# score_df = score_df[score_df.region_id.isin(atlas.index)]\n",
    "\n",
    "\n",
    "\n",
    "# b = score_df[score_type]\n",
    "# A = atlas.to_numpy()\n",
    "\n",
    "# nnHuber(A=A, b=b, delta=1)"
   ]
  },
  {
   "cell_type": "code",
   "execution_count": null,
   "id": "08f9c52d-5a8e-49c1-ae09-ea48809d0b7c",
   "metadata": {},
   "outputs": [],
   "source": []
  },
  {
   "cell_type": "code",
   "execution_count": 135,
   "id": "83f07bd6-8047-4547-ab20-2d328f339fee",
   "metadata": {
    "tags": []
   },
   "outputs": [],
   "source": [
    "A = np.array([[1, 1, 0, 0, 0], \n",
    "              [1, 1, 0, 0, 0],\n",
    "              [1, 1, 1, 0, 0],\n",
    "              [1, 1, 1, 1, 0], \n",
    "              [0, 1, 1, 0, 1]])\n",
    "\n",
    "x_true = np.array([[0.3], [0], [0.3], [0.2], [0.2]])\n",
    "\n",
    "b = A.dot(x_true)#  + np.array([[0.3], [0.6], [0.02], [0.2], [0.1]])"
   ]
  },
  {
   "cell_type": "code",
   "execution_count": 136,
   "id": "fa065c85-f863-489e-82c7-3d25bd70bf5a",
   "metadata": {
    "tags": []
   },
   "outputs": [
    {
     "data": {
      "text/plain": [
       "array([[0.3],\n",
       "       [0.3],\n",
       "       [0.6],\n",
       "       [0.8],\n",
       "       [0.5]])"
      ]
     },
     "execution_count": 136,
     "metadata": {},
     "output_type": "execute_result"
    }
   ],
   "source": [
    "b"
   ]
  },
  {
   "cell_type": "code",
   "execution_count": 137,
   "id": "d7acd7db-0f4e-434a-b76b-614a7d6448e1",
   "metadata": {
    "tags": []
   },
   "outputs": [
    {
     "name": "stdout",
     "output_type": "stream",
     "text": [
      "True x: [[0.3]\n",
      " [0. ]\n",
      " [0.3]\n",
      " [0.2]\n",
      " [0.2]]\n",
      "Fixed x (Scenario 1): [[0.13333333]\n",
      " [0.16666667]\n",
      " [0.3       ]\n",
      " [0.2       ]\n",
      " [0.03333333]]\n",
      "Estimated x (Scenario 2): [[0.23316032]\n",
      " [0.06683968]\n",
      " [0.3       ]\n",
      " [0.2       ]\n",
      " [0.13316032]]\n"
     ]
    }
   ],
   "source": [
    "x1 = cp.Variable((5, 1))\n",
    "objective1 = cp.Minimize(cp.norm(A @ x1 - b, \"fro\"))\n",
    "problem1 = cp.Problem(objective1)\n",
    "problem1.solve()\n",
    "x1_val = x1.value\n",
    "x1_val_fixed = np.copy(x1_val)\n",
    "x1_val_fixed[x1_val_fixed < 0] = 0\n",
    "\n",
    "# Scenario 2: With non-negativity constraints\n",
    "x2 = cp.Variable((5, 1), nonneg=True)\n",
    "objective2 = cp.Minimize(cp.norm(A @ x2 - b, \"fro\"))\n",
    "problem2 = cp.Problem(objective2)\n",
    "problem2.solve()\n",
    "x2_val = x2.value\n",
    "\n",
    "print(\"True x:\", x_true)\n",
    "# print(\"Estimated x (Scenario 1):\", x1_val)\n",
    "print(\"Fixed x (Scenario 1):\", x1_val_fixed)\n",
    "print(\"Estimated x (Scenario 2):\", x2_val)"
   ]
  },
  {
   "cell_type": "code",
   "execution_count": 138,
   "id": "913a6e6b-f280-4083-a6a0-c1dcf10065a4",
   "metadata": {
    "tags": []
   },
   "outputs": [
    {
     "data": {
      "text/plain": [
       "array([0.01666667])"
      ]
     },
     "execution_count": 138,
     "metadata": {},
     "output_type": "execute_result"
    }
   ],
   "source": [
    "sum((x_true - x1_val_fixed) ** 2) / len(x_true)"
   ]
  },
  {
   "cell_type": "code",
   "execution_count": 139,
   "id": "9d7e8e42-fa37-4627-8e2e-bc7d0225a65c",
   "metadata": {
    "tags": []
   },
   "outputs": [
    {
     "data": {
      "text/plain": [
       "array([0.00268053])"
      ]
     },
     "execution_count": 139,
     "metadata": {},
     "output_type": "execute_result"
    }
   ],
   "source": [
    "sum((x_true - x2_val) ** 2) / len(x_true)"
   ]
  },
  {
   "cell_type": "code",
   "execution_count": 140,
   "id": "e75248d4-50bd-4552-a8e9-6eb561acc806",
   "metadata": {
    "tags": []
   },
   "outputs": [
    {
     "data": {
      "text/plain": [
       "array([[0.13333333],\n",
       "       [0.16666667],\n",
       "       [0.3       ],\n",
       "       [0.2       ],\n",
       "       [0.03333333]])"
      ]
     },
     "execution_count": 140,
     "metadata": {},
     "output_type": "execute_result"
    }
   ],
   "source": [
    "x1_val"
   ]
  },
  {
   "cell_type": "code",
   "execution_count": null,
   "id": "fe82c1b0-d679-4725-928b-b7609a9c0725",
   "metadata": {},
   "outputs": [],
   "source": []
  },
  {
   "cell_type": "code",
   "execution_count": 165,
   "id": "06324023-c303-4860-b2a5-fe5eab2731b2",
   "metadata": {
    "tags": []
   },
   "outputs": [
    {
     "name": "stdout",
     "output_type": "stream",
     "text": [
      "True x: [[2]\n",
      " [1]]\n",
      "Estimated x (Scenario 1): [[-3331.26233305]\n",
      " [ 3334.32899971]]\n",
      "Estimated x (Scenario 2): [[8.01678920e-06]\n",
      " [3.05999598e+00]]\n"
     ]
    }
   ],
   "source": [
    "import cvxpy as cp\n",
    "import numpy as np\n",
    "\n",
    "np.random.seed(42)\n",
    "\n",
    "# Create a matrix A where columns are nearly collinear\n",
    "A = np.array([[1, 1 + 1e-5], \n",
    "              [2, 2 - 1e-5]])\n",
    "\n",
    "# Set a true x which doesn't have any negative values\n",
    "x_true = np.array([[2], [1]])\n",
    "\n",
    "# Generate b using the true x and add some noise\n",
    "b = A.dot(x_true) + np.array([[0.1], [0.1]])\n",
    "\n",
    "\n",
    "# Scenario 1: Without non-negativity constraints\n",
    "x1 = cp.Variable((2, 1))\n",
    "objective1 = cp.Minimize(cp.norm(A @ x1 - b, \"fro\"))\n",
    "problem1 = cp.Problem(objective1)\n",
    "problem1.solve()\n",
    "x1_val = x1.value\n",
    "\n",
    "x1_val_fixed = np.copy(x1_val)\n",
    "x1_val_fixed[x1_val_fixed < 0] = 0\n",
    "\n",
    "\n",
    "# Scenario 2: With non-negativity constraints\n",
    "x2 = cp.Variable((2, 1), nonneg=True)\n",
    "objective2 = cp.Minimize(cp.norm(A @ x2 - b, \"fro\"))\n",
    "problem2 = cp.Problem(objective2)\n",
    "problem2.solve()\n",
    "x2_val = x2.value\n",
    "\n",
    "print(\"True x:\", x_true)\n",
    "print(\"Estimated x (Scenario 1):\", x1_val)\n",
    "print(\"Estimated x (Scenario 2):\", x2_val)"
   ]
  },
  {
   "cell_type": "code",
   "execution_count": 166,
   "id": "cfb270ff-5769-4818-bff6-2db93aaf1075",
   "metadata": {
    "tags": []
   },
   "outputs": [
    {
     "data": {
      "text/plain": [
       "array([[1.     , 1.00001],\n",
       "       [2.     , 1.99999]])"
      ]
     },
     "execution_count": 166,
     "metadata": {},
     "output_type": "execute_result"
    }
   ],
   "source": [
    "A"
   ]
  },
  {
   "cell_type": "code",
   "execution_count": 167,
   "id": "a8667fef-1f85-45b1-b00b-da75e9db330b",
   "metadata": {
    "tags": []
   },
   "outputs": [
    {
     "data": {
      "text/plain": [
       "array([[2],\n",
       "       [1]])"
      ]
     },
     "execution_count": 167,
     "metadata": {},
     "output_type": "execute_result"
    }
   ],
   "source": [
    "x_true"
   ]
  },
  {
   "cell_type": "code",
   "execution_count": 168,
   "id": "51cc6141-6d7a-4fd5-b4b4-8ac121f0f253",
   "metadata": {
    "tags": []
   },
   "outputs": [
    {
     "data": {
      "text/plain": [
       "array([[3.10001],\n",
       "       [6.09999]])"
      ]
     },
     "execution_count": 168,
     "metadata": {},
     "output_type": "execute_result"
    }
   ],
   "source": [
    "b"
   ]
  },
  {
   "cell_type": "code",
   "execution_count": 174,
   "id": "bbf8b9f7-69df-4138-b474-8b08552b6e3b",
   "metadata": {
    "tags": []
   },
   "outputs": [
    {
     "data": {
      "text/plain": [
       "array([[-3331.26233305],\n",
       "       [ 3334.32899971]])"
      ]
     },
     "execution_count": 174,
     "metadata": {},
     "output_type": "execute_result"
    }
   ],
   "source": [
    "x1_val"
   ]
  },
  {
   "cell_type": "code",
   "execution_count": 172,
   "id": "557ddf4a-f879-4ac6-8d6e-d04ced7355ee",
   "metadata": {
    "tags": []
   },
   "outputs": [
    {
     "data": {
      "text/plain": [
       "array([5555543.11016071])"
      ]
     },
     "execution_count": 172,
     "metadata": {},
     "output_type": "execute_result"
    }
   ],
   "source": [
    "sum((x_true - x1_val_fixed) ** 2) / len(x_true)"
   ]
  },
  {
   "cell_type": "code",
   "execution_count": 170,
   "id": "9b2400ee-f2f6-4909-9b54-5c4e03c8f961",
   "metadata": {
    "tags": []
   },
   "outputs": [
    {
     "data": {
      "text/plain": [
       "array([4.12177568])"
      ]
     },
     "execution_count": 170,
     "metadata": {},
     "output_type": "execute_result"
    }
   ],
   "source": [
    "sum((x_true - x2_val) ** 2) / len(x_true)"
   ]
  },
  {
   "cell_type": "code",
   "execution_count": null,
   "id": "6aeae6e0-5d98-4415-bb63-4406fd48fe34",
   "metadata": {},
   "outputs": [],
   "source": []
  },
  {
   "cell_type": "code",
   "execution_count": null,
   "id": "4c963617-d1ef-4310-ba84-62ca31bab00e",
   "metadata": {},
   "outputs": [],
   "source": []
  },
  {
   "cell_type": "code",
   "execution_count": 360,
   "id": "0c2619e2-b332-4eec-93c2-57571ed5b791",
   "metadata": {},
   "outputs": [
    {
     "name": "stdout",
     "output_type": "stream",
     "text": [
      "ground truth x:  [0.2 0.  0.  0.4 0.4]\n",
      "solution (w/o constraint):  [ 0.205  -0.035  -0.025   0.4225  0.4225]\n",
      "solution (w/ constraint):  [0.22  0.    0.    0.415 0.415]\n"
     ]
    }
   ],
   "source": [
    "import cvxpy as cp\n",
    "\n",
    "\n",
    "def nnHuber(A:'numpy.ndarray', b:'numpy.ndarray', delta=1, nonnegative=False)->'numpy.ndarray':\n",
    "    '''\n",
    "    Huber regression with the option to include nonnegativity constraint, \n",
    "    i.e. return a nonnegative solution. \n",
    "    \n",
    "    Note: \n",
    "    - Make sure the order of the rows of A and b match\n",
    "    - Intercept is not included in the solution. To fit the model with intercept\n",
    "      concatenate a column of ones to the matrix A. \n",
    "    - In conventional supervised learning notation:\n",
    "        - A: X\n",
    "        - b: y\n",
    "        - x: beta\n",
    "    \n",
    "    Arguments: \n",
    "    A -- numpy array of shape (n, k)\n",
    "    b -- numpy array of shape (n,  )\n",
    "    delta -- determines huber where least squares and absolute value loss meet\n",
    "    nonnegative -- boolean for including nonnegativtiy constraint (x >= 0): \n",
    "    '''\n",
    "    n = A.shape[1]\n",
    "    \n",
    "    if nonnegative:\n",
    "        x = cp.Variable(n, nonneg=True)\n",
    "    else: \n",
    "        x = cp.Variable(n)\n",
    "    \n",
    "    # loss\n",
    "    loss = A @ x - b\n",
    "    huber_loss = cp.sum(cp.huber(loss, delta))\n",
    "    \n",
    "    # objective\n",
    "    objective = cp.Minimize(huber_loss)\n",
    "    \n",
    "    # solve\n",
    "    prob = cp.Problem(objective)\n",
    "    prob.solve()\n",
    "\n",
    "    return(x.value)\n",
    "\n",
    "\n",
    "if __name__ == \"__main__\":\n",
    "    \n",
    "    # Toy example\n",
    "    A = np.array([[1, 0, 0, 1, 1], \n",
    "                  [0, 1, 0, 1, 1],\n",
    "                  [0, 0, 1, 1, 1],\n",
    "                  [0, 0, 0, 1, 1], \n",
    "                  [0, 0, 0, 1, 1]])\n",
    "\n",
    "    x = np.array([0.2, 0, 0, 0.4, 0.4])\n",
    "    b = A.dot(x) + np.array([0.05, 0.01, 0.02, 0.02, 0.07])\n",
    "    \n",
    "    print('ground truth x: ', x)\n",
    "\n",
    "    # solve for x using huber\n",
    "    xhat = nnHuber(A, b, delta=5, nonnegative=False)\n",
    "    print('solution (w/o constraint): ', x_hat)\n",
    " \n",
    "    # solve for x using huber w/ nonnegativity constraint\n",
    "    xhat_nn = nnHuber(A, b, delta=5, nonnegative=True)\n",
    "    print('solution (w/ constraint): ', np.round(xhat_nn, 3))"
   ]
  },
  {
   "cell_type": "code",
   "execution_count": null,
   "id": "1b4f70f7-764f-4c27-9e63-1aab99fd3f66",
   "metadata": {},
   "outputs": [],
   "source": []
  },
  {
   "cell_type": "code",
   "execution_count": null,
   "id": "4fb366c4-da05-43f3-9439-6e61929512f6",
   "metadata": {},
   "outputs": [],
   "source": []
  },
  {
   "cell_type": "code",
   "execution_count": 361,
   "id": "93e85b0e-0d40-4e2e-b1ca-5fe61ab1a37e",
   "metadata": {
    "tags": []
   },
   "outputs": [
    {
     "name": "stdout",
     "output_type": "stream",
     "text": [
      "ground truth x:  [0.2 0.  0.  0.4 0.4]\n",
      "solution (w/o constraint):  [ 0.205  -0.035  -0.025   0.4225  0.4225]\n",
      "solution (w/ constraint):  [0.22  0.    0.    0.415 0.415]\n"
     ]
    }
   ],
   "source": [
    "import cvxpy as cp\n",
    "\n",
    "\n",
    "def nnHuber(A:'numpy.ndarray', b:'numpy.ndarray', delta=1, nonnegative=False)->'numpy.ndarray':\n",
    "    '''\n",
    "    Huber regression with the option to include nonnegativity constraint, \n",
    "    i.e. return a nonnegative solution. \n",
    "    \n",
    "    Note: \n",
    "    - Make sure the order of the rows of A and b match\n",
    "    - Intercept is not included in the solution. To fit the model with intercept\n",
    "      concatenate a column of ones to the matrix A. \n",
    "    - In conventional supervised learning notation:\n",
    "        - A: X\n",
    "        - b: y\n",
    "        - x: beta\n",
    "    \n",
    "    Arguments: \n",
    "    A -- numpy array of shape (n, k)\n",
    "    b -- numpy array of shape (n,  )\n",
    "    delta -- determines huber where least squares and absolute value loss meet\n",
    "    nonnegative -- boolean for including nonnegativtiy constraint (x >= 0): \n",
    "    '''\n",
    "    n = A.shape[1]\n",
    "    \n",
    "    if nonnegative:\n",
    "        x = cp.Variable(n, nonneg=True)\n",
    "    else: \n",
    "        x = cp.Variable(n)\n",
    "    \n",
    "    # loss\n",
    "    loss = A @ x - b\n",
    "    huber_loss = cp.sum(cp.huber(loss, delta))\n",
    "    \n",
    "    # objective\n",
    "    objective = cp.Minimize(huber_loss)\n",
    "    \n",
    "    # solve\n",
    "    prob = cp.Problem(objective)\n",
    "    prob.solve()\n",
    "\n",
    "    return(x.value)\n",
    "\n",
    "\n",
    "if __name__ == \"__main__\":\n",
    "    \n",
    "    # Toy example\n",
    "    A = np.array([[1, 0, 0, 1, 1], \n",
    "                  [0, 1, 0, 1, 1],\n",
    "                  [0, 0, 1, 1, 1],\n",
    "                  [0, 0, 0, 1, 1], \n",
    "                  [0, 0, 0, 1, 1]])\n",
    "\n",
    "    x = np.array([0.2, 0, 0, 0.4, 0.4])\n",
    "    b = A.dot(x) + np.array([0.05, 0.01, 0.02, 0.02, 0.07])\n",
    "    \n",
    "    print('ground truth x: ', x)\n",
    "\n",
    "    # solve for x using huber\n",
    "    xhat = nnHuber(A, b, delta=5, nonnegative=False)\n",
    "    print('solution (w/o constraint): ', x_hat)\n",
    " \n",
    "    # solve for x using huber w/ nonnegativity constraint\n",
    "    xhat_nn = nnHuber(A, b, delta=5, nonnegative=True)\n",
    "    print('solution (w/ constraint): ', np.round(xhat_nn, 3))"
   ]
  },
  {
   "cell_type": "code",
   "execution_count": null,
   "id": "9530f794-25a9-43d6-b6dc-10339f730bd0",
   "metadata": {},
   "outputs": [],
   "source": []
  }
 ],
 "metadata": {
  "kernelspec": {
   "display_name": "Python 3",
   "language": "python",
   "name": "python3"
  },
  "language_info": {
   "codemirror_mode": {
    "name": "ipython",
    "version": 3
   },
   "file_extension": ".py",
   "mimetype": "text/x-python",
   "name": "python",
   "nbconvert_exporter": "python",
   "pygments_lexer": "ipython3",
   "version": "3.7.8"
  }
 },
 "nbformat": 4,
 "nbformat_minor": 5
}
