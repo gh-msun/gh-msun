{
 "cells": [
  {
   "cell_type": "markdown",
   "metadata": {},
   "source": [
    "# Deconvolution Using In-House V2 Panel\n",
    "\n",
    "Here we will construct reference matrix to estimate standard cell-type proportions using in-house v2 panel. Our focus is on CRC/AA samples. Thus we will only include broad immune cell-types, abundant non-immune cell-types and colon/small-intestine epithelial cells."
   ]
  },
  {
   "cell_type": "markdown",
   "metadata": {},
   "source": [
    "## Initialisation"
   ]
  },
  {
   "cell_type": "code",
   "execution_count": 1,
   "metadata": {},
   "outputs": [],
   "source": [
    "import os\n",
    "import numpy as np\n",
    "import pandas as pd\n",
    "import random\n",
    "import glob\n",
    "import datetime\n",
    "import itertools\n",
    "import seaborn as sns\n",
    "\n",
    "pd.set_option('display.max_rows', 1000)\n",
    "pd.set_option('display.max_columns', 500)"
   ]
  },
  {
   "cell_type": "markdown",
   "metadata": {},
   "source": [
    "### Parameters and File Paths"
   ]
  },
  {
   "cell_type": "code",
   "execution_count": 2,
   "metadata": {},
   "outputs": [],
   "source": [
    "FILTER_COV = 10\n",
    "SCORE_VAR = 'frac_alpha_leq_25pct'\n",
    "#--- Local paths\n",
    "ROOT_DIR = '/analysis/gh-msun/projects'\n",
    "PROJECT_SLUG = '2023_06_26_SRT_deconvolution_MS'\n",
    "PROJECT_DIR = ROOT_DIR + '/{}'.format(PROJECT_SLUG)\n",
    "DATA_DIR = ROOT_DIR + '/{}'.format(PROJECT_SLUG) + '/stage'\n",
    "\n",
    "SAMPLE_PATH = DATA_DIR + '/metadata/samples_wgbs.20230329.tsv'\n",
    "\n",
    "# Methylation scores for reference WGBS samples.\n",
    "SCORE_PATH = (\n",
    "    DATA_DIR + '/ref_methyl_summaries/meth_summaries_cg_count_geq_3_deconvolution_v2.v23_conv.tsv.gz'\n",
    ")\n",
    "\n",
    "# Region annotation\n",
    "REGION_PATH = (\n",
    "    DATA_DIR + '/panel_data/deconvolution_v2.v23_panel_design.tsv.gz'\n",
    ")\n",
    "# Where to store deconvolution results\n",
    "RESULTS_PATH = (\n",
    "    PROJECT_DIR + '/output/reference/deconv_inhouse_v2'\n",
    ")"
   ]
  },
  {
   "cell_type": "markdown",
   "metadata": {},
   "source": [
    "### Sample Metadata"
   ]
  },
  {
   "cell_type": "code",
   "execution_count": 3,
   "metadata": {},
   "outputs": [
    {
     "data": {
      "text/plain": [
       "'/analysis/gh-msun/projects/2023_06_26_SRT_deconvolution_MS/stage/ref_methyl_summaries/meth_summaries_cg_count_geq_3_deconvolution_v2.v23_conv.tsv.gz'"
      ]
     },
     "execution_count": 3,
     "metadata": {},
     "output_type": "execute_result"
    }
   ],
   "source": [
    "SCORE_PATH"
   ]
  },
  {
   "cell_type": "code",
   "execution_count": 4,
   "metadata": {},
   "outputs": [],
   "source": [
    "sample_df = pd.read_csv(SAMPLE_PATH, sep='\\t')\n",
    "ridxs = sample_df['source'].isin(['blueprint_loyfer2022'])\n",
    "sample_df = sample_df[ridxs].copy()"
   ]
  },
  {
   "cell_type": "code",
   "execution_count": 5,
   "metadata": {},
   "outputs": [
    {
     "data": {
      "text/html": [
       "<div>\n",
       "<style scoped>\n",
       "    .dataframe tbody tr th:only-of-type {\n",
       "        vertical-align: middle;\n",
       "    }\n",
       "\n",
       "    .dataframe tbody tr th {\n",
       "        vertical-align: top;\n",
       "    }\n",
       "\n",
       "    .dataframe thead th {\n",
       "        text-align: right;\n",
       "    }\n",
       "</style>\n",
       "<table border=\"1\" class=\"dataframe\">\n",
       "  <thead>\n",
       "    <tr style=\"text-align: right;\">\n",
       "      <th></th>\n",
       "      <th>sample_id</th>\n",
       "      <th>patient_id</th>\n",
       "      <th>cell_type</th>\n",
       "      <th>sample_group</th>\n",
       "      <th>age</th>\n",
       "      <th>source</th>\n",
       "      <th>stage_group</th>\n",
       "      <th>tumor_purity</th>\n",
       "    </tr>\n",
       "  </thead>\n",
       "  <tbody>\n",
       "    <tr>\n",
       "      <th>0</th>\n",
       "      <td>GSM5652176</td>\n",
       "      <td>Z000000T7</td>\n",
       "      <td>Adipocytes</td>\n",
       "      <td>Adipocytes</td>\n",
       "      <td>53.0</td>\n",
       "      <td>blueprint_loyfer2022</td>\n",
       "      <td>NaN</td>\n",
       "      <td>NaN</td>\n",
       "    </tr>\n",
       "    <tr>\n",
       "      <th>1</th>\n",
       "      <td>GSM5652177</td>\n",
       "      <td>Z000000T9</td>\n",
       "      <td>Adipocytes</td>\n",
       "      <td>Adipocytes</td>\n",
       "      <td>35.0</td>\n",
       "      <td>blueprint_loyfer2022</td>\n",
       "      <td>NaN</td>\n",
       "      <td>NaN</td>\n",
       "    </tr>\n",
       "    <tr>\n",
       "      <th>2</th>\n",
       "      <td>GSM5652178</td>\n",
       "      <td>Z000000T5</td>\n",
       "      <td>Adipocytes</td>\n",
       "      <td>Adipocytes</td>\n",
       "      <td>37.0</td>\n",
       "      <td>blueprint_loyfer2022</td>\n",
       "      <td>NaN</td>\n",
       "      <td>NaN</td>\n",
       "    </tr>\n",
       "    <tr>\n",
       "      <th>3</th>\n",
       "      <td>GSM5652179</td>\n",
       "      <td>Endothelium</td>\n",
       "      <td>Endothelium</td>\n",
       "      <td>Endothelium</td>\n",
       "      <td>33.0</td>\n",
       "      <td>blueprint_loyfer2022</td>\n",
       "      <td>NaN</td>\n",
       "      <td>NaN</td>\n",
       "    </tr>\n",
       "    <tr>\n",
       "      <th>4</th>\n",
       "      <td>GSM5652180</td>\n",
       "      <td>Endothelium</td>\n",
       "      <td>Endothelium</td>\n",
       "      <td>Endothelium</td>\n",
       "      <td>62.0</td>\n",
       "      <td>blueprint_loyfer2022</td>\n",
       "      <td>NaN</td>\n",
       "      <td>NaN</td>\n",
       "    </tr>\n",
       "  </tbody>\n",
       "</table>\n",
       "</div>"
      ],
      "text/plain": [
       "    sample_id   patient_id    cell_type sample_group   age  \\\n",
       "0  GSM5652176    Z000000T7   Adipocytes   Adipocytes  53.0   \n",
       "1  GSM5652177    Z000000T9   Adipocytes   Adipocytes  35.0   \n",
       "2  GSM5652178    Z000000T5   Adipocytes   Adipocytes  37.0   \n",
       "3  GSM5652179  Endothelium  Endothelium  Endothelium  33.0   \n",
       "4  GSM5652180  Endothelium  Endothelium  Endothelium  62.0   \n",
       "\n",
       "                 source stage_group  tumor_purity  \n",
       "0  blueprint_loyfer2022         NaN           NaN  \n",
       "1  blueprint_loyfer2022         NaN           NaN  \n",
       "2  blueprint_loyfer2022         NaN           NaN  \n",
       "3  blueprint_loyfer2022         NaN           NaN  \n",
       "4  blueprint_loyfer2022         NaN           NaN  "
      ]
     },
     "execution_count": 5,
     "metadata": {},
     "output_type": "execute_result"
    }
   ],
   "source": [
    "sample_df.head()"
   ]
  },
  {
   "cell_type": "code",
   "execution_count": 6,
   "metadata": {},
   "outputs": [
    {
     "data": {
      "text/plain": [
       "sample_group\n",
       "Adipocytes                3\n",
       "Bladder-Ep                5\n",
       "Blood-B                   5\n",
       "Blood-Granul              3\n",
       "Blood-Mono+Macro         11\n",
       "Blood-NK                  3\n",
       "Blood-T                  22\n",
       "Blueprint-B              17\n",
       "Blueprint-CD4            14\n",
       "Blueprint-CD8            10\n",
       "Blueprint-Dend            2\n",
       "Blueprint-Eosi            2\n",
       "Blueprint-Eryth           2\n",
       "Blueprint-Macro          18\n",
       "Blueprint-Mega            2\n",
       "Blueprint-Mono            8\n",
       "Blueprint-NK              4\n",
       "Blueprint-Neutro         21\n",
       "Bone-Osteob               1\n",
       "Breast-Basal-Ep           4\n",
       "Breast-Luminal-Ep         3\n",
       "Colon-Ep                  8\n",
       "Colon-Fibro               2\n",
       "Dermal-Fibro              1\n",
       "Endothelium              19\n",
       "Epid-Kerat                1\n",
       "Eryth-prog                3\n",
       "Fallopian-Ep              3\n",
       "Gallbladder               1\n",
       "Gastric-Ep               11\n",
       "Head-Neck-Ep             13\n",
       "Heart-Cardio              6\n",
       "Heart-Fibro               4\n",
       "Kidney-Ep                 8\n",
       "Liver-Hep                 6\n",
       "Lung-Ep-Alveo             4\n",
       "Lung-Ep-Bron              3\n",
       "Neuron                   10\n",
       "Oligodend                 4\n",
       "Ovary+Endom-Ep            4\n",
       "Pancreas-Acinar           4\n",
       "Pancreas-Alpha            3\n",
       "Pancreas-Beta             3\n",
       "Pancreas-Delta            3\n",
       "Pancreas-Duct             4\n",
       "Prostate-Ep               4\n",
       "Skeletal-Musc             2\n",
       "Small-Int-Ep              5\n",
       "Smooth-Musc               5\n",
       "Thyroid-Ep                3\n",
       "Umbilical-Endothelium     4\n",
       "dtype: int64"
      ]
     },
     "execution_count": 6,
     "metadata": {},
     "output_type": "execute_result"
    }
   ],
   "source": [
    "summary = sample_df\\\n",
    "    .fillna('none')\\\n",
    "    .groupby(['sample_group'])\\\n",
    "    .size()\n",
    "summary"
   ]
  },
  {
   "cell_type": "code",
   "execution_count": 7,
   "metadata": {
    "tags": []
   },
   "outputs": [
    {
     "data": {
      "text/html": [
       "<div>\n",
       "<style scoped>\n",
       "    .dataframe tbody tr th:only-of-type {\n",
       "        vertical-align: middle;\n",
       "    }\n",
       "\n",
       "    .dataframe tbody tr th {\n",
       "        vertical-align: top;\n",
       "    }\n",
       "\n",
       "    .dataframe thead th {\n",
       "        text-align: right;\n",
       "    }\n",
       "</style>\n",
       "<table border=\"1\" class=\"dataframe\">\n",
       "  <thead>\n",
       "    <tr style=\"text-align: right;\">\n",
       "      <th></th>\n",
       "      <th>sample_id</th>\n",
       "      <th>patient_id</th>\n",
       "      <th>cell_type</th>\n",
       "      <th>sample_group</th>\n",
       "      <th>age</th>\n",
       "      <th>source</th>\n",
       "      <th>stage_group</th>\n",
       "      <th>tumor_purity</th>\n",
       "    </tr>\n",
       "  </thead>\n",
       "  <tbody>\n",
       "    <tr>\n",
       "      <th>0</th>\n",
       "      <td>GSM5652176</td>\n",
       "      <td>Z000000T7</td>\n",
       "      <td>Adipocytes</td>\n",
       "      <td>Adipocytes</td>\n",
       "      <td>53.0</td>\n",
       "      <td>blueprint_loyfer2022</td>\n",
       "      <td>NaN</td>\n",
       "      <td>NaN</td>\n",
       "    </tr>\n",
       "    <tr>\n",
       "      <th>1</th>\n",
       "      <td>GSM5652177</td>\n",
       "      <td>Z000000T9</td>\n",
       "      <td>Adipocytes</td>\n",
       "      <td>Adipocytes</td>\n",
       "      <td>35.0</td>\n",
       "      <td>blueprint_loyfer2022</td>\n",
       "      <td>NaN</td>\n",
       "      <td>NaN</td>\n",
       "    </tr>\n",
       "    <tr>\n",
       "      <th>2</th>\n",
       "      <td>GSM5652178</td>\n",
       "      <td>Z000000T5</td>\n",
       "      <td>Adipocytes</td>\n",
       "      <td>Adipocytes</td>\n",
       "      <td>37.0</td>\n",
       "      <td>blueprint_loyfer2022</td>\n",
       "      <td>NaN</td>\n",
       "      <td>NaN</td>\n",
       "    </tr>\n",
       "    <tr>\n",
       "      <th>3</th>\n",
       "      <td>GSM5652179</td>\n",
       "      <td>Endothelium</td>\n",
       "      <td>Endothelium</td>\n",
       "      <td>Endothelium</td>\n",
       "      <td>33.0</td>\n",
       "      <td>blueprint_loyfer2022</td>\n",
       "      <td>NaN</td>\n",
       "      <td>NaN</td>\n",
       "    </tr>\n",
       "    <tr>\n",
       "      <th>4</th>\n",
       "      <td>GSM5652180</td>\n",
       "      <td>Endothelium</td>\n",
       "      <td>Endothelium</td>\n",
       "      <td>Endothelium</td>\n",
       "      <td>62.0</td>\n",
       "      <td>blueprint_loyfer2022</td>\n",
       "      <td>NaN</td>\n",
       "      <td>NaN</td>\n",
       "    </tr>\n",
       "  </tbody>\n",
       "</table>\n",
       "</div>"
      ],
      "text/plain": [
       "    sample_id   patient_id    cell_type sample_group   age  \\\n",
       "0  GSM5652176    Z000000T7   Adipocytes   Adipocytes  53.0   \n",
       "1  GSM5652177    Z000000T9   Adipocytes   Adipocytes  35.0   \n",
       "2  GSM5652178    Z000000T5   Adipocytes   Adipocytes  37.0   \n",
       "3  GSM5652179  Endothelium  Endothelium  Endothelium  33.0   \n",
       "4  GSM5652180  Endothelium  Endothelium  Endothelium  62.0   \n",
       "\n",
       "                 source stage_group  tumor_purity  \n",
       "0  blueprint_loyfer2022         NaN           NaN  \n",
       "1  blueprint_loyfer2022         NaN           NaN  \n",
       "2  blueprint_loyfer2022         NaN           NaN  \n",
       "3  blueprint_loyfer2022         NaN           NaN  \n",
       "4  blueprint_loyfer2022         NaN           NaN  "
      ]
     },
     "execution_count": 7,
     "metadata": {},
     "output_type": "execute_result"
    }
   ],
   "source": [
    "sample_df.head()"
   ]
  },
  {
   "cell_type": "code",
   "execution_count": 8,
   "metadata": {
    "tags": []
   },
   "outputs": [],
   "source": [
    "# update sample group with cell type for T cell subset\n",
    "# rest of smaples will be aggregated into Blueprint CD4 or CD8\n",
    "\n",
    "t_reg_list = ['regulatory T cell']\n",
    "\n",
    "t_naive_list = ['CD4-positive, alpha-beta T cell',\n",
    "                'CD8-positive, alpha-beta T cell' ]\n",
    "\n",
    "t_effector_list = ['effector memory CD8-positive, alpha-beta T cell', \n",
    "                   'effector memory CD8-positive, alpha-beta T cell, terminally differentiated']\n",
    "\n",
    "for index, row in sample_df.iterrows():\n",
    "    \n",
    "    if row['cell_type'] in t_reg_list:\n",
    "        sample_df.at[index, 'sample_group'] = 't_reg'\n",
    "        \n",
    "    if row['cell_type'] in t_naive_list:\n",
    "        sample_df.at[index, 'sample_group'] = 't_naive'\n",
    "        \n",
    "    if row['cell_type'] in t_effector_list:\n",
    "        sample_df.at[index, 'sample_group'] = 't_effector'"
   ]
  },
  {
   "cell_type": "code",
   "execution_count": 9,
   "metadata": {
    "tags": []
   },
   "outputs": [
    {
     "data": {
      "text/plain": [
       "sample_group\n",
       "Adipocytes                3\n",
       "Bladder-Ep                5\n",
       "Blood-B                   5\n",
       "Blood-Granul              3\n",
       "Blood-Mono+Macro         11\n",
       "Blood-NK                  3\n",
       "Blood-T                  22\n",
       "Blueprint-B              17\n",
       "Blueprint-CD4             4\n",
       "Blueprint-CD8             2\n",
       "Blueprint-Dend            2\n",
       "Blueprint-Eosi            2\n",
       "Blueprint-Eryth           2\n",
       "Blueprint-Macro          18\n",
       "Blueprint-Mega            2\n",
       "Blueprint-Mono            8\n",
       "Blueprint-NK              4\n",
       "Blueprint-Neutro         21\n",
       "Bone-Osteob               1\n",
       "Breast-Basal-Ep           4\n",
       "Breast-Luminal-Ep         3\n",
       "Colon-Ep                  8\n",
       "Colon-Fibro               2\n",
       "Dermal-Fibro              1\n",
       "Endothelium              19\n",
       "Epid-Kerat                1\n",
       "Eryth-prog                3\n",
       "Fallopian-Ep              3\n",
       "Gallbladder               1\n",
       "Gastric-Ep               11\n",
       "Head-Neck-Ep             13\n",
       "Heart-Cardio              6\n",
       "Heart-Fibro               4\n",
       "Kidney-Ep                 8\n",
       "Liver-Hep                 6\n",
       "Lung-Ep-Alveo             4\n",
       "Lung-Ep-Bron              3\n",
       "Neuron                   10\n",
       "Oligodend                 4\n",
       "Ovary+Endom-Ep            4\n",
       "Pancreas-Acinar           4\n",
       "Pancreas-Alpha            3\n",
       "Pancreas-Beta             3\n",
       "Pancreas-Delta            3\n",
       "Pancreas-Duct             4\n",
       "Prostate-Ep               4\n",
       "Skeletal-Musc             2\n",
       "Small-Int-Ep              5\n",
       "Smooth-Musc               5\n",
       "Thyroid-Ep                3\n",
       "Umbilical-Endothelium     4\n",
       "t_effector                4\n",
       "t_naive                  12\n",
       "t_reg                     2\n",
       "dtype: int64"
      ]
     },
     "execution_count": 9,
     "metadata": {},
     "output_type": "execute_result"
    }
   ],
   "source": [
    "summary = sample_df\\\n",
    "    .fillna('none')\\\n",
    "    .groupby(['sample_group'])\\\n",
    "    .size()\n",
    "summary"
   ]
  },
  {
   "cell_type": "markdown",
   "metadata": {},
   "source": [
    "### Regions"
   ]
  },
  {
   "cell_type": "code",
   "execution_count": 10,
   "metadata": {},
   "outputs": [
    {
     "data": {
      "text/plain": [
       "(1930, 1658)"
      ]
     },
     "execution_count": 10,
     "metadata": {},
     "output_type": "execute_result"
    }
   ],
   "source": [
    "region_df = pd.read_csv(REGION_PATH, sep='\\t')\n",
    "ridxs = (region_df['v23_conv']==1)\n",
    "region_df = region_df[ridxs].copy()\n",
    "region_df.shape[0], region_df['region_id'].nunique()"
   ]
  },
  {
   "cell_type": "code",
   "execution_count": 11,
   "metadata": {
    "tags": []
   },
   "outputs": [
    {
     "data": {
      "text/html": [
       "<div>\n",
       "<style scoped>\n",
       "    .dataframe tbody tr th:only-of-type {\n",
       "        vertical-align: middle;\n",
       "    }\n",
       "\n",
       "    .dataframe tbody tr th {\n",
       "        vertical-align: top;\n",
       "    }\n",
       "\n",
       "    .dataframe thead th {\n",
       "        text-align: right;\n",
       "    }\n",
       "</style>\n",
       "<table border=\"1\" class=\"dataframe\">\n",
       "  <thead>\n",
       "    <tr style=\"text-align: right;\">\n",
       "      <th></th>\n",
       "      <th>region_chr</th>\n",
       "      <th>region_start</th>\n",
       "      <th>region_end</th>\n",
       "      <th>region_id</th>\n",
       "      <th>target_celltype</th>\n",
       "      <th>subpanel</th>\n",
       "      <th>v23_conv</th>\n",
       "      <th>v23_unconv</th>\n",
       "      <th>region_start_original</th>\n",
       "      <th>region_end_original</th>\n",
       "    </tr>\n",
       "  </thead>\n",
       "  <tbody>\n",
       "    <tr>\n",
       "      <th>0</th>\n",
       "      <td>chr1</td>\n",
       "      <td>1114772</td>\n",
       "      <td>1114971</td>\n",
       "      <td>Immune_Broad_B-chr1:1114772-1114971</td>\n",
       "      <td>Immune_Broad_B</td>\n",
       "      <td>immune_broad</td>\n",
       "      <td>1</td>\n",
       "      <td>1</td>\n",
       "      <td>1114772.0</td>\n",
       "      <td>1114971.0</td>\n",
       "    </tr>\n",
       "    <tr>\n",
       "      <th>1</th>\n",
       "      <td>chr1</td>\n",
       "      <td>1157451</td>\n",
       "      <td>1157720</td>\n",
       "      <td>Immune_Broad_NK-chr1:1157451-1157720</td>\n",
       "      <td>Immune_Broad_NK</td>\n",
       "      <td>immune_broad</td>\n",
       "      <td>1</td>\n",
       "      <td>1</td>\n",
       "      <td>1157451.0</td>\n",
       "      <td>1157720.0</td>\n",
       "    </tr>\n",
       "    <tr>\n",
       "      <th>2</th>\n",
       "      <td>chr1</td>\n",
       "      <td>1157880</td>\n",
       "      <td>1158277</td>\n",
       "      <td>Immune_Broad_NK-chr1:1157880-1158277</td>\n",
       "      <td>Immune_Broad_NK</td>\n",
       "      <td>immune_broad</td>\n",
       "      <td>1</td>\n",
       "      <td>1</td>\n",
       "      <td>1157880.0</td>\n",
       "      <td>1158277.0</td>\n",
       "    </tr>\n",
       "    <tr>\n",
       "      <th>3</th>\n",
       "      <td>chr1</td>\n",
       "      <td>1652589</td>\n",
       "      <td>1652708</td>\n",
       "      <td>Loyfer2022_Preprint_Colon-Ep:Gastric-Ep:Small-...</td>\n",
       "      <td>Loyfer2022_Preprint_Colon-Ep:Gastric-Ep:Small-...</td>\n",
       "      <td>external</td>\n",
       "      <td>1</td>\n",
       "      <td>0</td>\n",
       "      <td>1652504.0</td>\n",
       "      <td>1652793.0</td>\n",
       "    </tr>\n",
       "    <tr>\n",
       "      <th>4</th>\n",
       "      <td>chr1</td>\n",
       "      <td>1652673</td>\n",
       "      <td>1652792</td>\n",
       "      <td>Loyfer2022_Preprint_Colon-Ep:Gastric-Ep:Small-...</td>\n",
       "      <td>Loyfer2022_Preprint_Colon-Ep:Gastric-Ep:Small-...</td>\n",
       "      <td>external</td>\n",
       "      <td>1</td>\n",
       "      <td>1</td>\n",
       "      <td>1652504.0</td>\n",
       "      <td>1652793.0</td>\n",
       "    </tr>\n",
       "  </tbody>\n",
       "</table>\n",
       "</div>"
      ],
      "text/plain": [
       "  region_chr  region_start  region_end  \\\n",
       "0       chr1       1114772     1114971   \n",
       "1       chr1       1157451     1157720   \n",
       "2       chr1       1157880     1158277   \n",
       "3       chr1       1652589     1652708   \n",
       "4       chr1       1652673     1652792   \n",
       "\n",
       "                                           region_id  \\\n",
       "0                Immune_Broad_B-chr1:1114772-1114971   \n",
       "1               Immune_Broad_NK-chr1:1157451-1157720   \n",
       "2               Immune_Broad_NK-chr1:1157880-1158277   \n",
       "3  Loyfer2022_Preprint_Colon-Ep:Gastric-Ep:Small-...   \n",
       "4  Loyfer2022_Preprint_Colon-Ep:Gastric-Ep:Small-...   \n",
       "\n",
       "                                     target_celltype      subpanel  v23_conv  \\\n",
       "0                                     Immune_Broad_B  immune_broad         1   \n",
       "1                                    Immune_Broad_NK  immune_broad         1   \n",
       "2                                    Immune_Broad_NK  immune_broad         1   \n",
       "3  Loyfer2022_Preprint_Colon-Ep:Gastric-Ep:Small-...      external         1   \n",
       "4  Loyfer2022_Preprint_Colon-Ep:Gastric-Ep:Small-...      external         1   \n",
       "\n",
       "   v23_unconv  region_start_original  region_end_original  \n",
       "0           1              1114772.0            1114971.0  \n",
       "1           1              1157451.0            1157720.0  \n",
       "2           1              1157880.0            1158277.0  \n",
       "3           0              1652504.0            1652793.0  \n",
       "4           1              1652504.0            1652793.0  "
      ]
     },
     "execution_count": 11,
     "metadata": {},
     "output_type": "execute_result"
    }
   ],
   "source": [
    "region_df.head()"
   ]
  },
  {
   "cell_type": "markdown",
   "metadata": {},
   "source": [
    "Duplication is due to the fact that some regions are spread across several MSRE cut-site clusters."
   ]
  },
  {
   "cell_type": "code",
   "execution_count": 12,
   "metadata": {},
   "outputs": [
    {
     "data": {
      "text/plain": [
       "(1658, 1658)"
      ]
     },
     "execution_count": 12,
     "metadata": {},
     "output_type": "execute_result"
    }
   ],
   "source": [
    "region_df = region_df[['region_id', 'subpanel', 'target_celltype']].drop_duplicates()\n",
    "region_df.shape[0], region_df['region_id'].nunique()"
   ]
  },
  {
   "cell_type": "code",
   "execution_count": 13,
   "metadata": {},
   "outputs": [
    {
     "data": {
      "text/plain": [
       "subpanel            target_celltype                                      \n",
       "external            Literature_Age                                            30\n",
       "                    Literature_Immune                                         30\n",
       "                    Loyfer2022_Preprint_Blood-B                               13\n",
       "                    Loyfer2022_Preprint_Blood-Granul                          13\n",
       "                    Loyfer2022_Preprint_Blood-Mono+Macro                      15\n",
       "                    Loyfer2022_Preprint_Blood-NK                              13\n",
       "                    Loyfer2022_Preprint_Blood-T                               16\n",
       "                    Loyfer2022_Preprint_Breast-Basal-Ep                       25\n",
       "                    Loyfer2022_Preprint_Breast-Basal-Ep:Breast-Luminal-Ep     22\n",
       "                    Loyfer2022_Preprint_Colon-Ep                              13\n",
       "                    Loyfer2022_Preprint_Colon-Ep:Gastric-Ep:Small-Int-Ep      14\n",
       "                    Loyfer2022_Preprint_Colon-Ep:Small-Int-Ep                 10\n",
       "                    Loyfer2022_Preprint_Colon-Fibro:Heart-Fibro               20\n",
       "                    Loyfer2022_Preprint_Gastric-Ep:Small-Int-Ep               10\n",
       "                    Loyfer2022_Preprint_Liver-Hep                             11\n",
       "                    Loyfer2022_Preprint_Lung-Ep-Alveo                         14\n",
       "                    Loyfer2022_Preprint_Lung-Ep-Alveo:Lung-Ep-Bron            11\n",
       "                    Loyfer2022_Preprint_Lung-Ep-Bron                          13\n",
       "                    Loyfer2022_Preprint_Small-Int-Ep                          12\n",
       "                    Loyfer2022_Published_Colon-Ep:Small-Int-Ep               112\n",
       "                    SRY                                                        1\n",
       "immune_broad        Immune_Broad_B                                            49\n",
       "                    Immune_Broad_CD4                                           2\n",
       "                    Immune_Broad_CD4_plus_CD8                                 43\n",
       "                    Immune_Broad_CD8                                           4\n",
       "                    Immune_Broad_Dend                                         21\n",
       "                    Immune_Broad_Dend_plus_Macro_plus_Mono                    13\n",
       "                    Immune_Broad_Eosi                                         38\n",
       "                    Immune_Broad_Macro                                         7\n",
       "                    Immune_Broad_Mono                                          1\n",
       "                    Immune_Broad_NK                                           53\n",
       "                    Immune_Broad_Neutro                                       29\n",
       "immune_refined      Immune_Refined_B_Memory                                   25\n",
       "                    Immune_Refined_B_Memory_Switched                           1\n",
       "                    Immune_Refined_B_Naive1                                    1\n",
       "                    Immune_Refined_B_Naive2                                    1\n",
       "                    Immune_Refined_B_Plasma                                   21\n",
       "                    Immune_Refined_B_Precursor                                17\n",
       "                    Immune_Refined_CD4_Reg                                    30\n",
       "                    Immune_Refined_CD8_Memory_Central                         11\n",
       "                    Immune_Refined_CD8_Memory_Effector2                        6\n",
       "                    Immune_Refined_Eryth                                      25\n",
       "                    Immune_Refined_Macro                                      29\n",
       "                    Immune_Refined_Macro_M2                                   16\n",
       "                    Immune_Refined_Mega                                       29\n",
       "                    Immune_Refined_Mono2                                      21\n",
       "immune_specialised  Immune_Lymph_B_Activated                                  20\n",
       "                    Immune_Lymph_B_Naive                                      31\n",
       "                    Immune_Lymph_CD4_Activated_wo_CM                           3\n",
       "                    Immune_Lymph_CD4_Naive_wo_CM                               5\n",
       "                    Immune_Lymph_CD4_plus_CD8_Activated_wo_CM                 18\n",
       "                    Immune_Lymph_CD4_plus_CD8_Naive_wo_CM                     12\n",
       "                    Immune_Lymph_CD8_Activated_wo_CM                          11\n",
       "                    Immune_Lymph_CD8_Naive_wo_CM                              29\n",
       "                    Immune_Myel_Neutro_Mature                                  8\n",
       "nonimmune           Adipocytes                                                21\n",
       "                    Bladder_Ep                                                12\n",
       "                    Breast_Basal_Ep                                           38\n",
       "                    Breast_Luminal_Ep                                         30\n",
       "                    Colon_Ep                                                  21\n",
       "                    Endothelium                                               35\n",
       "                    Eryth_prog                                                22\n",
       "                    Esophagus_Ep                                              26\n",
       "                    Fibro_Musc                                                24\n",
       "                    Gastric_Ep                                                17\n",
       "                    Head_Neck_Ep                                              22\n",
       "                    Heart_Cardio                                              31\n",
       "                    Kidney_Ep                                                 13\n",
       "                    Liver_Hep                                                 34\n",
       "                    Lung_Ep_Alveo                                             27\n",
       "                    Lung_Ep_Bron                                              24\n",
       "                    Neuron_plus_Oligodend                                     38\n",
       "                    Ovary_Ep                                                  24\n",
       "                    Pancreas                                                  33\n",
       "                    Pancreas_Acinar                                           24\n",
       "                    Pancreas_Duct                                             14\n",
       "                    Prostate_Ep                                               11\n",
       "                    Small_Int_Ep                                              27\n",
       "                    Thyroid_Ep                                                17\n",
       "                    Umbilical_Endothelium                                     25\n",
       "dtype: int64"
      ]
     },
     "execution_count": 13,
     "metadata": {},
     "output_type": "execute_result"
    }
   ],
   "source": [
    "summary = region_df.groupby(['subpanel', 'target_celltype']).size()\n",
    "summary"
   ]
  },
  {
   "cell_type": "markdown",
   "metadata": {},
   "source": [
    "### Methylation Scores"
   ]
  },
  {
   "cell_type": "code",
   "execution_count": 14,
   "metadata": {},
   "outputs": [
    {
     "data": {
      "text/plain": [
       "(509090, 1648)"
      ]
     },
     "execution_count": 14,
     "metadata": {},
     "output_type": "execute_result"
    }
   ],
   "source": [
    "score_df = pd.read_csv(SCORE_PATH, sep='\\t')\n",
    "ridxs = score_df['sample_id'].isin(sample_df['sample_id'])\n",
    "ridxs &= score_df['region_id'].isin(region_df['region_id'])\n",
    "score_df = score_df[ridxs].copy()\n",
    "score_df.shape[0], score_df['region_id'].nunique()"
   ]
  },
  {
   "cell_type": "code",
   "execution_count": 15,
   "metadata": {},
   "outputs": [
    {
     "data": {
      "text/html": [
       "<div>\n",
       "<style scoped>\n",
       "    .dataframe tbody tr th:only-of-type {\n",
       "        vertical-align: middle;\n",
       "    }\n",
       "\n",
       "    .dataframe tbody tr th {\n",
       "        vertical-align: top;\n",
       "    }\n",
       "\n",
       "    .dataframe thead th {\n",
       "        text-align: right;\n",
       "    }\n",
       "</style>\n",
       "<table border=\"1\" class=\"dataframe\">\n",
       "  <thead>\n",
       "    <tr style=\"text-align: right;\">\n",
       "      <th></th>\n",
       "      <th>sample_id</th>\n",
       "      <th>region_id</th>\n",
       "      <th>number_molecules</th>\n",
       "      <th>meth_k1</th>\n",
       "      <th>unmeth_k1</th>\n",
       "      <th>total_k1</th>\n",
       "      <th>meth_k3</th>\n",
       "      <th>unmeth_k3</th>\n",
       "      <th>total_k3</th>\n",
       "      <th>meth_k4</th>\n",
       "      <th>unmeth_k4</th>\n",
       "      <th>total_k4</th>\n",
       "      <th>frac_alpha_leq_25pct</th>\n",
       "      <th>frac_alpha_geq_75pct</th>\n",
       "    </tr>\n",
       "  </thead>\n",
       "  <tbody>\n",
       "    <tr>\n",
       "      <th>0</th>\n",
       "      <td>GSM5652176</td>\n",
       "      <td>Immune_Broad_Neutro-chr1:9147789-9147871</td>\n",
       "      <td>24</td>\n",
       "      <td>49</td>\n",
       "      <td>39</td>\n",
       "      <td>88</td>\n",
       "      <td>0</td>\n",
       "      <td>3</td>\n",
       "      <td>40</td>\n",
       "      <td>0</td>\n",
       "      <td>1</td>\n",
       "      <td>16</td>\n",
       "      <td>0.125000</td>\n",
       "      <td>0.333333</td>\n",
       "    </tr>\n",
       "    <tr>\n",
       "      <th>1</th>\n",
       "      <td>GSM5652177</td>\n",
       "      <td>Immune_Broad_Neutro-chr1:9147789-9147871</td>\n",
       "      <td>22</td>\n",
       "      <td>68</td>\n",
       "      <td>13</td>\n",
       "      <td>81</td>\n",
       "      <td>27</td>\n",
       "      <td>0</td>\n",
       "      <td>37</td>\n",
       "      <td>11</td>\n",
       "      <td>0</td>\n",
       "      <td>15</td>\n",
       "      <td>0.045455</td>\n",
       "      <td>0.727273</td>\n",
       "    </tr>\n",
       "    <tr>\n",
       "      <th>2</th>\n",
       "      <td>GSM5652178</td>\n",
       "      <td>Immune_Broad_Neutro-chr1:9147789-9147871</td>\n",
       "      <td>15</td>\n",
       "      <td>43</td>\n",
       "      <td>11</td>\n",
       "      <td>54</td>\n",
       "      <td>12</td>\n",
       "      <td>0</td>\n",
       "      <td>24</td>\n",
       "      <td>3</td>\n",
       "      <td>0</td>\n",
       "      <td>9</td>\n",
       "      <td>0.000000</td>\n",
       "      <td>0.733333</td>\n",
       "    </tr>\n",
       "    <tr>\n",
       "      <th>3</th>\n",
       "      <td>GSM5652179</td>\n",
       "      <td>Immune_Broad_Neutro-chr1:9147789-9147871</td>\n",
       "      <td>29</td>\n",
       "      <td>97</td>\n",
       "      <td>12</td>\n",
       "      <td>109</td>\n",
       "      <td>39</td>\n",
       "      <td>0</td>\n",
       "      <td>51</td>\n",
       "      <td>17</td>\n",
       "      <td>0</td>\n",
       "      <td>22</td>\n",
       "      <td>0.034483</td>\n",
       "      <td>0.793103</td>\n",
       "    </tr>\n",
       "    <tr>\n",
       "      <th>4</th>\n",
       "      <td>GSM5652180</td>\n",
       "      <td>Immune_Broad_Neutro-chr1:9147789-9147871</td>\n",
       "      <td>17</td>\n",
       "      <td>43</td>\n",
       "      <td>19</td>\n",
       "      <td>62</td>\n",
       "      <td>9</td>\n",
       "      <td>0</td>\n",
       "      <td>28</td>\n",
       "      <td>2</td>\n",
       "      <td>0</td>\n",
       "      <td>11</td>\n",
       "      <td>0.058824</td>\n",
       "      <td>0.529412</td>\n",
       "    </tr>\n",
       "  </tbody>\n",
       "</table>\n",
       "</div>"
      ],
      "text/plain": [
       "    sample_id                                 region_id  number_molecules  \\\n",
       "0  GSM5652176  Immune_Broad_Neutro-chr1:9147789-9147871                24   \n",
       "1  GSM5652177  Immune_Broad_Neutro-chr1:9147789-9147871                22   \n",
       "2  GSM5652178  Immune_Broad_Neutro-chr1:9147789-9147871                15   \n",
       "3  GSM5652179  Immune_Broad_Neutro-chr1:9147789-9147871                29   \n",
       "4  GSM5652180  Immune_Broad_Neutro-chr1:9147789-9147871                17   \n",
       "\n",
       "   meth_k1  unmeth_k1  total_k1  meth_k3  unmeth_k3  total_k3  meth_k4  \\\n",
       "0       49         39        88        0          3        40        0   \n",
       "1       68         13        81       27          0        37       11   \n",
       "2       43         11        54       12          0        24        3   \n",
       "3       97         12       109       39          0        51       17   \n",
       "4       43         19        62        9          0        28        2   \n",
       "\n",
       "   unmeth_k4  total_k4  frac_alpha_leq_25pct  frac_alpha_geq_75pct  \n",
       "0          1        16              0.125000              0.333333  \n",
       "1          0        15              0.045455              0.727273  \n",
       "2          0         9              0.000000              0.733333  \n",
       "3          0        22              0.034483              0.793103  \n",
       "4          0        11              0.058824              0.529412  "
      ]
     },
     "execution_count": 15,
     "metadata": {},
     "output_type": "execute_result"
    }
   ],
   "source": [
    "score_df = pd.read_csv(SCORE_PATH, sep='\\t')\n",
    "score_df.head()"
   ]
  },
  {
   "cell_type": "code",
   "execution_count": 16,
   "metadata": {},
   "outputs": [
    {
     "data": {
      "text/plain": [
       "0          True\n",
       "1          True\n",
       "2          True\n",
       "3          True\n",
       "4          True\n",
       "          ...  \n",
       "632500    False\n",
       "632501    False\n",
       "632502    False\n",
       "632503    False\n",
       "632504    False\n",
       "Name: sample_id, Length: 632505, dtype: bool"
      ]
     },
     "execution_count": 16,
     "metadata": {},
     "output_type": "execute_result"
    }
   ],
   "source": [
    "ridxs = score_df['sample_id'].isin(sample_df['sample_id'])\n",
    "ridxs"
   ]
  },
  {
   "cell_type": "markdown",
   "metadata": {},
   "source": [
    "## Construct Reference Matrix"
   ]
  },
  {
   "cell_type": "markdown",
   "metadata": {},
   "source": [
    "What samples/regions define reference atlas?"
   ]
  },
  {
   "cell_type": "code",
   "execution_count": 17,
   "metadata": {},
   "outputs": [],
   "source": [
    "SAMPLE_TO_REF_CELLTYPE_MAP = {   # blue print\n",
    "    'Blueprint-B': 'immune_b',\n",
    "    't_naive': 'immune_t_naive',\n",
    "    't_effector' : 'immune_t_effector' , \n",
    "    't_reg' : 'immune_treg',\n",
    "    'Blueprint-NK': 'immune_nk',\n",
    "    'Blueprint-Dend': 'immune_dend_plus_macro_plus_mono',\n",
    "    'Blueprint-Macro': 'immune_dend_plus_macro_plus_mono',\n",
    "    'Blueprint-Mono': 'immune_dend_plus_macro_plus_mono',\n",
    "    'Blueprint-Eosi': 'immune_eosi',\n",
    "    'Blueprint-Neutro': 'immune_neutro',\n",
    "    'Blueprint-Eryth': 'immune_eryth',\n",
    "    'Blueprint-Mega': 'immune_mega',\n",
    "    'Eryth-prog': 'eryth_prog'\n",
    "    \n",
    "}\n",
    "\n",
    "REGION_TO_REF_CELLTYPE_MAP= {  # hypo panel\n",
    "    'Immune_Broad_B': 'immune_b',\n",
    "    'Immune_Lymph_CD4_plus_CD8_Naive_wo_CM': 'immune_t_naive',\n",
    "    'Immune_Refined_CD4_Reg':'immune_treg',\n",
    "    'Immune_Lymph_CD4_plus_CD8_Activated_wo_CM':'immune_t_effector',\n",
    "    'Immune_Broad_NK': 'immune_nk',\n",
    "    'Immune_Broad_Dend_plus_Macro_plus_Mono': 'immune_dend_plus_macro_plus_mono',\n",
    "    'Immune_Broad_Eosi': 'immune_eosi',\n",
    "    'Immune_Broad_Neutro': 'immune_neutro',\n",
    "    'Immune_Refined_Eryth': 'immune_eryth',\n",
    "    'Immune_Refined_Mega': 'immune_mega',\n",
    "    'Eryth_prog': 'eryth_prog'\n",
    "} "
   ]
  },
  {
   "cell_type": "code",
   "execution_count": 18,
   "metadata": {},
   "outputs": [
    {
     "data": {
      "text/plain": [
       "(97, 97, 11)"
      ]
     },
     "execution_count": 18,
     "metadata": {},
     "output_type": "execute_result"
    }
   ],
   "source": [
    "ridxs = (sample_df['source']=='blueprint_loyfer2022')\n",
    "ridxs &= sample_df['sample_group'].isin(SAMPLE_TO_REF_CELLTYPE_MAP.keys())\n",
    "ref_sample_df = sample_df[ridxs].copy()\n",
    "ref_sample_df['ref_celltype'] = ref_sample_df['sample_group'].map(SAMPLE_TO_REF_CELLTYPE_MAP)\n",
    "ref_sample_df.shape[0], ref_sample_df['sample_id'].nunique(), ref_sample_df['ref_celltype'].nunique()"
   ]
  },
  {
   "cell_type": "code",
   "execution_count": 19,
   "metadata": {},
   "outputs": [
    {
     "data": {
      "text/plain": [
       "(318, 318, 11)"
      ]
     },
     "execution_count": 19,
     "metadata": {},
     "output_type": "execute_result"
    }
   ],
   "source": [
    "ridxs = region_df['target_celltype'].isin(REGION_TO_REF_CELLTYPE_MAP.keys())\n",
    "ref_region_df = region_df[ridxs][['region_id', 'target_celltype']].drop_duplicates()\n",
    "ref_region_df['ref_celltype'] = ref_region_df['target_celltype'].map(REGION_TO_REF_CELLTYPE_MAP)\n",
    "ref_region_df.shape[0], ref_region_df['region_id'].nunique(), ref_region_df['ref_celltype'].nunique()"
   ]
  },
  {
   "cell_type": "code",
   "execution_count": 20,
   "metadata": {},
   "outputs": [
    {
     "data": {
      "text/plain": [
       "ref_celltype\n",
       "eryth_prog                          22\n",
       "immune_b                            49\n",
       "immune_dend_plus_macro_plus_mono    13\n",
       "immune_eosi                         38\n",
       "immune_eryth                        25\n",
       "immune_mega                         29\n",
       "immune_neutro                       29\n",
       "immune_nk                           53\n",
       "immune_t_effector                   18\n",
       "immune_t_naive                      12\n",
       "immune_treg                         30\n",
       "Name: region_id, dtype: int64"
      ]
     },
     "execution_count": 20,
     "metadata": {},
     "output_type": "execute_result"
    }
   ],
   "source": [
    "# number of regions per cell type\n",
    "ref_region_df.groupby(['ref_celltype'])['region_id'].nunique()"
   ]
  },
  {
   "cell_type": "code",
   "execution_count": 21,
   "metadata": {},
   "outputs": [
    {
     "data": {
      "text/plain": [
       "(318, 11)"
      ]
     },
     "execution_count": 21,
     "metadata": {},
     "output_type": "execute_result"
    }
   ],
   "source": [
    "ridxs = (score_df['number_molecules']>=FILTER_COV)\n",
    "ridxs &= score_df['sample_id'].isin(ref_sample_df['sample_id'])\n",
    "ridxs &= score_df['region_id'].isin(ref_region_df['region_id'])\n",
    "atlas = score_df[ridxs][['sample_id', 'region_id', SCORE_VAR]]\\\n",
    "    .merge(ref_sample_df[['sample_id', 'ref_celltype']])\\\n",
    "    .groupby(['region_id', 'ref_celltype'])\\\n",
    "    [SCORE_VAR].mean()\\\n",
    "    .reset_index()\\\n",
    "    .pivot_table(index='region_id', columns='ref_celltype', values=SCORE_VAR)\n",
    "atlas.shape"
   ]
  },
  {
   "cell_type": "code",
   "execution_count": 22,
   "metadata": {},
   "outputs": [
    {
     "data": {
      "text/plain": [
       "(292, 11)"
      ]
     },
     "execution_count": 22,
     "metadata": {},
     "output_type": "execute_result"
    }
   ],
   "source": [
    "ridxs = (atlas.isna().sum(axis=1)==0)\n",
    "atlas = atlas[ridxs].copy()\n",
    "atlas.shape"
   ]
  },
  {
   "cell_type": "markdown",
   "metadata": {},
   "source": [
    "Rearrange columns and rows of atlas matrix to conform to desired order."
   ]
  },
  {
   "cell_type": "code",
   "execution_count": 23,
   "metadata": {},
   "outputs": [
    {
     "data": {
      "text/plain": [
       "(292, 11)"
      ]
     },
     "execution_count": 23,
     "metadata": {},
     "output_type": "execute_result"
    }
   ],
   "source": [
    "ref_region_df = pd.DataFrame({'ref_celltype': list(REGION_TO_REF_CELLTYPE_MAP.values())})\\\n",
    "    .drop_duplicates()\\\n",
    "    .merge(ref_region_df)\n",
    "ridxs = ref_region_df['region_id'].isin(atlas.index)\n",
    "ref_region_df = ref_region_df[ridxs].copy()\n",
    "ref_sample_df = pd.DataFrame({'ref_celltype': list(SAMPLE_TO_REF_CELLTYPE_MAP.values())})\\\n",
    "    .drop_duplicates()\\\n",
    "    .merge(ref_sample_df)\n",
    "atlas = atlas.loc[ref_region_df['region_id'], ref_sample_df['ref_celltype'].unique()]\n",
    "atlas.shape"
   ]
  },
  {
   "cell_type": "markdown",
   "metadata": {},
   "source": [
    "## Reference Matrix Heatmap"
   ]
  },
  {
   "cell_type": "code",
   "execution_count": 24,
   "metadata": {
    "tags": []
   },
   "outputs": [
    {
     "data": {
      "text/plain": [
       "Index(['Immune_Broad_B-chr1:1114772-1114971',\n",
       "       'Immune_Broad_B-chr10:45390756-45390847',\n",
       "       'Immune_Broad_B-chr10:126289835-126290065',\n",
       "       'Immune_Broad_B-chr10:126290368-126290506',\n",
       "       'Immune_Broad_B-chr11:75988912-75989088',\n",
       "       'Immune_Broad_B-chr13:31018281-31018486',\n",
       "       'Immune_Broad_B-chr15:26048270-26048449',\n",
       "       'Immune_Broad_B-chr16:85295279-85295484',\n",
       "       'Immune_Broad_B-chr16:87735149-87735321',\n",
       "       'Immune_Broad_B-chr17:73128521-73128658',\n",
       "       ...\n",
       "       'Eryth_prog-chr18:22804543-22804681',\n",
       "       'Eryth_prog-chr20:4163756-4163873',\n",
       "       'Eryth_prog-chr21:43999855-44000170',\n",
       "       'Eryth_prog-chr22:18309011-18309185',\n",
       "       'Eryth_prog-chr22:18348364-18348499',\n",
       "       'Eryth_prog-chr22:49883023-49883294',\n",
       "       'Eryth_prog-chr3:159744529-159744665',\n",
       "       'Eryth_prog-chr7:1949711-1949859', 'Eryth_prog-chr7:55559716-55559793',\n",
       "       'Eryth_prog-chr7:129408857-129408963'],\n",
       "      dtype='object', name='region_id', length=292)"
      ]
     },
     "execution_count": 24,
     "metadata": {},
     "output_type": "execute_result"
    }
   ],
   "source": [
    "atlas.index "
   ]
  },
  {
   "cell_type": "code",
   "execution_count": 25,
   "metadata": {
    "tags": []
   },
   "outputs": [],
   "source": [
    "atlas.columns = ['immune_b', 'immune_t_naive', 'immune_t_effector', 'immune_treg',\n",
    "       'immune_nk', 'immune_mono', 'immune_eosi',\n",
    "       'immune_neutro', 'immune_eryth', 'immune_mega', 'eryth_prog']"
   ]
  },
  {
   "cell_type": "code",
   "execution_count": 26,
   "metadata": {
    "tags": []
   },
   "outputs": [
    {
     "data": {
      "text/html": [
       "<div>\n",
       "<style scoped>\n",
       "    .dataframe tbody tr th:only-of-type {\n",
       "        vertical-align: middle;\n",
       "    }\n",
       "\n",
       "    .dataframe tbody tr th {\n",
       "        vertical-align: top;\n",
       "    }\n",
       "\n",
       "    .dataframe thead th {\n",
       "        text-align: right;\n",
       "    }\n",
       "</style>\n",
       "<table border=\"1\" class=\"dataframe\">\n",
       "  <thead>\n",
       "    <tr style=\"text-align: right;\">\n",
       "      <th></th>\n",
       "      <th>immune_b</th>\n",
       "      <th>immune_t_naive</th>\n",
       "      <th>immune_t_effector</th>\n",
       "      <th>immune_treg</th>\n",
       "      <th>immune_nk</th>\n",
       "      <th>immune_mono</th>\n",
       "      <th>immune_eosi</th>\n",
       "      <th>immune_neutro</th>\n",
       "      <th>immune_eryth</th>\n",
       "      <th>immune_mega</th>\n",
       "      <th>eryth_prog</th>\n",
       "    </tr>\n",
       "    <tr>\n",
       "      <th>region_id</th>\n",
       "      <th></th>\n",
       "      <th></th>\n",
       "      <th></th>\n",
       "      <th></th>\n",
       "      <th></th>\n",
       "      <th></th>\n",
       "      <th></th>\n",
       "      <th></th>\n",
       "      <th></th>\n",
       "      <th></th>\n",
       "      <th></th>\n",
       "    </tr>\n",
       "  </thead>\n",
       "  <tbody>\n",
       "    <tr>\n",
       "      <th>Immune_Broad_B-chr1:1114772-1114971</th>\n",
       "      <td>0.954541</td>\n",
       "      <td>0.005201</td>\n",
       "      <td>0.009615</td>\n",
       "      <td>0.000000</td>\n",
       "      <td>0.000000</td>\n",
       "      <td>0.012992</td>\n",
       "      <td>0.005208</td>\n",
       "      <td>0.002255</td>\n",
       "      <td>0.013889</td>\n",
       "      <td>0.012048</td>\n",
       "      <td>0.030417</td>\n",
       "    </tr>\n",
       "    <tr>\n",
       "      <th>Immune_Broad_B-chr10:45390756-45390847</th>\n",
       "      <td>0.905821</td>\n",
       "      <td>0.002778</td>\n",
       "      <td>0.015451</td>\n",
       "      <td>0.019568</td>\n",
       "      <td>0.045092</td>\n",
       "      <td>0.007154</td>\n",
       "      <td>0.000000</td>\n",
       "      <td>0.008713</td>\n",
       "      <td>0.064953</td>\n",
       "      <td>0.021491</td>\n",
       "      <td>0.206392</td>\n",
       "    </tr>\n",
       "    <tr>\n",
       "      <th>Immune_Broad_B-chr10:126289835-126290065</th>\n",
       "      <td>0.947659</td>\n",
       "      <td>0.002273</td>\n",
       "      <td>0.001471</td>\n",
       "      <td>0.004274</td>\n",
       "      <td>0.069420</td>\n",
       "      <td>0.009761</td>\n",
       "      <td>0.000000</td>\n",
       "      <td>0.003088</td>\n",
       "      <td>0.000000</td>\n",
       "      <td>0.005155</td>\n",
       "      <td>0.055057</td>\n",
       "    </tr>\n",
       "    <tr>\n",
       "      <th>Immune_Broad_B-chr10:126290368-126290506</th>\n",
       "      <td>0.928200</td>\n",
       "      <td>0.000000</td>\n",
       "      <td>0.025670</td>\n",
       "      <td>0.000000</td>\n",
       "      <td>0.000000</td>\n",
       "      <td>0.013708</td>\n",
       "      <td>0.048423</td>\n",
       "      <td>0.001361</td>\n",
       "      <td>0.009259</td>\n",
       "      <td>0.000000</td>\n",
       "      <td>0.031746</td>\n",
       "    </tr>\n",
       "    <tr>\n",
       "      <th>Immune_Broad_B-chr11:75988912-75989088</th>\n",
       "      <td>0.973406</td>\n",
       "      <td>0.004895</td>\n",
       "      <td>0.013095</td>\n",
       "      <td>0.011364</td>\n",
       "      <td>0.006439</td>\n",
       "      <td>0.003429</td>\n",
       "      <td>0.000000</td>\n",
       "      <td>0.003071</td>\n",
       "      <td>0.008475</td>\n",
       "      <td>0.007576</td>\n",
       "      <td>0.113996</td>\n",
       "    </tr>\n",
       "  </tbody>\n",
       "</table>\n",
       "</div>"
      ],
      "text/plain": [
       "                                          immune_b  immune_t_naive  \\\n",
       "region_id                                                            \n",
       "Immune_Broad_B-chr1:1114772-1114971       0.954541        0.005201   \n",
       "Immune_Broad_B-chr10:45390756-45390847    0.905821        0.002778   \n",
       "Immune_Broad_B-chr10:126289835-126290065  0.947659        0.002273   \n",
       "Immune_Broad_B-chr10:126290368-126290506  0.928200        0.000000   \n",
       "Immune_Broad_B-chr11:75988912-75989088    0.973406        0.004895   \n",
       "\n",
       "                                          immune_t_effector  immune_treg  \\\n",
       "region_id                                                                  \n",
       "Immune_Broad_B-chr1:1114772-1114971                0.009615     0.000000   \n",
       "Immune_Broad_B-chr10:45390756-45390847             0.015451     0.019568   \n",
       "Immune_Broad_B-chr10:126289835-126290065           0.001471     0.004274   \n",
       "Immune_Broad_B-chr10:126290368-126290506           0.025670     0.000000   \n",
       "Immune_Broad_B-chr11:75988912-75989088             0.013095     0.011364   \n",
       "\n",
       "                                          immune_nk  immune_mono  immune_eosi  \\\n",
       "region_id                                                                       \n",
       "Immune_Broad_B-chr1:1114772-1114971        0.000000     0.012992     0.005208   \n",
       "Immune_Broad_B-chr10:45390756-45390847     0.045092     0.007154     0.000000   \n",
       "Immune_Broad_B-chr10:126289835-126290065   0.069420     0.009761     0.000000   \n",
       "Immune_Broad_B-chr10:126290368-126290506   0.000000     0.013708     0.048423   \n",
       "Immune_Broad_B-chr11:75988912-75989088     0.006439     0.003429     0.000000   \n",
       "\n",
       "                                          immune_neutro  immune_eryth  \\\n",
       "region_id                                                               \n",
       "Immune_Broad_B-chr1:1114772-1114971            0.002255      0.013889   \n",
       "Immune_Broad_B-chr10:45390756-45390847         0.008713      0.064953   \n",
       "Immune_Broad_B-chr10:126289835-126290065       0.003088      0.000000   \n",
       "Immune_Broad_B-chr10:126290368-126290506       0.001361      0.009259   \n",
       "Immune_Broad_B-chr11:75988912-75989088         0.003071      0.008475   \n",
       "\n",
       "                                          immune_mega  eryth_prog  \n",
       "region_id                                                          \n",
       "Immune_Broad_B-chr1:1114772-1114971          0.012048    0.030417  \n",
       "Immune_Broad_B-chr10:45390756-45390847       0.021491    0.206392  \n",
       "Immune_Broad_B-chr10:126289835-126290065     0.005155    0.055057  \n",
       "Immune_Broad_B-chr10:126290368-126290506     0.000000    0.031746  \n",
       "Immune_Broad_B-chr11:75988912-75989088       0.007576    0.113996  "
      ]
     },
     "execution_count": 26,
     "metadata": {},
     "output_type": "execute_result"
    }
   ],
   "source": [
    "atlas.head()"
   ]
  },
  {
   "cell_type": "code",
   "execution_count": 27,
   "metadata": {
    "tags": []
   },
   "outputs": [
    {
     "data": {
      "text/plain": [
       "<seaborn.matrix.ClusterGrid at 0x7f6aca3179d0>"
      ]
     },
     "execution_count": 27,
     "metadata": {},
     "output_type": "execute_result"
    },
    {
     "data": {
      "image/png": "[encoded data removed]",
      "text/plain": [
       "<Figure size 720x720 with 4 Axes>"
      ]
     },
     "metadata": {
      "needs_background": "light"
     },
     "output_type": "display_data"
    }
   ],
   "source": [
    "atlas = atlas.reset_index(drop=True)\n",
    "sns.set_context(\"talk\")\n",
    "sns.clustermap(atlas, row_cluster=False, col_cluster=False)"
   ]
  },
  {
   "cell_type": "code",
   "execution_count": 28,
   "metadata": {},
   "outputs": [],
   "source": [
    "# sns.clustermap(atlas, row_cluster=False, col_cluster=False)"
   ]
  },
  {
   "cell_type": "code",
   "execution_count": null,
   "metadata": {},
   "outputs": [],
   "source": []
  },
  {
   "cell_type": "markdown",
   "metadata": {},
   "source": [
    "## SVD Decomposition of Atlas"
   ]
  },
  {
   "cell_type": "code",
   "execution_count": 29,
   "metadata": {},
   "outputs": [
    {
     "data": {
      "text/plain": [
       "array([10.40265602,  7.29572421,  6.30426446,  6.27192676,  5.20620083,\n",
       "        4.52148646,  3.49060276,  3.18591866,  2.44216537,  1.94433215,\n",
       "        1.91895484])"
      ]
     },
     "execution_count": 29,
     "metadata": {},
     "output_type": "execute_result"
    }
   ],
   "source": [
    "u, s, v = np.linalg.svd(atlas, compute_uv=True, full_matrices=False)\n",
    "s"
   ]
  },
  {
   "cell_type": "markdown",
   "metadata": {},
   "source": [
    "## Write Out"
   ]
  },
  {
   "cell_type": "markdown",
   "metadata": {},
   "source": [
    "Reference atlas."
   ]
  },
  {
   "cell_type": "code",
   "execution_count": 30,
   "metadata": {},
   "outputs": [],
   "source": [
    "ofile = RESULTS_PATH + '.t_subset.12.atlas.tsv.gz'\n",
    "rv = atlas.reset_index()\n",
    "rv.to_csv(ofile, sep='\\t', header=True, index=False)"
   ]
  },
  {
   "cell_type": "markdown",
   "metadata": {},
   "source": [
    "Region to reference cell type mapping."
   ]
  },
  {
   "cell_type": "code",
   "execution_count": 31,
   "metadata": {},
   "outputs": [],
   "source": [
    "ofile = RESULTS_PATH + '.t_subset.12.region_to_ref_celltype.tsv.gz'\n",
    "rv = ref_region_df[['region_id', 'ref_celltype']].copy()\n",
    "rv.to_csv(ofile, sep='\\t', header=True, index=False)"
   ]
  },
  {
   "cell_type": "markdown",
   "metadata": {},
   "source": [
    "Sample to reference cell type mapping."
   ]
  },
  {
   "cell_type": "code",
   "execution_count": 32,
   "metadata": {},
   "outputs": [],
   "source": [
    "ofile = RESULTS_PATH + '.t_subset.12.sample_to_ref_celltype.tsv.gz'\n",
    "rv = ref_sample_df[['sample_id', 'ref_celltype']].copy()\n",
    "rv.to_csv(ofile, sep='\\t', header=True, index=False)"
   ]
  },
  {
   "cell_type": "code",
   "execution_count": null,
   "metadata": {},
   "outputs": [],
   "source": []
  },
  {
   "cell_type": "code",
   "execution_count": null,
   "metadata": {},
   "outputs": [],
   "source": []
  },
  {
   "cell_type": "code",
   "execution_count": null,
   "metadata": {},
   "outputs": [],
   "source": []
  },
  {
   "cell_type": "code",
   "execution_count": null,
   "metadata": {},
   "outputs": [],
   "source": []
  },
  {
   "cell_type": "code",
   "execution_count": null,
   "metadata": {},
   "outputs": [],
   "source": []
  }
 ],
 "metadata": {
  "kernelspec": {
   "display_name": "Python 3",
   "language": "python",
   "name": "python3"
  },
  "language_info": {
   "codemirror_mode": {
    "name": "ipython",
    "version": 3
   },
   "file_extension": ".py",
   "mimetype": "text/x-python",
   "name": "python",
   "nbconvert_exporter": "python",
   "pygments_lexer": "ipython3",
   "version": "3.7.8"
  },
  "toc": {
   "base_numbering": 1,
   "nav_menu": {},
   "number_sections": true,
   "sideBar": true,
   "skip_h1_title": true,
   "title_cell": "Table of Contents",
   "title_sidebar": "Contents",
   "toc_cell": true,
   "toc_position": {
    "height": "calc(100% - 180px)",
    "left": "10px",
    "top": "150px",
    "width": "351.6px"
   },
   "toc_section_display": true,
   "toc_window_display": true
  },
  "toc-autonumbering": true,
  "toc-showtags": false
 },
 "nbformat": 4,
 "nbformat_minor": 4
}
