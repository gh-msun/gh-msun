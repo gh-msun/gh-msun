{
 "cells": [
  {
   "cell_type": "markdown",
   "metadata": {},
   "source": [
    "# Deconvolution Using In-House V2 Panel (CD4 CD8 separate)\n",
    "\n",
    "Here we will construct reference matrix to estimate standard cell-type proportions using in-house v2 panel. Our focus is on CRC/AA samples. Thus we will only include broad immune cell-types, abundant non-immune cell-types and colon/small-intestine epithelial cells."
   ]
  },
  {
   "cell_type": "markdown",
   "metadata": {},
   "source": [
    "## Initialisation"
   ]
  },
  {
   "cell_type": "code",
   "execution_count": 1,
   "metadata": {},
   "outputs": [],
   "source": [
    "import os\n",
    "import numpy as np\n",
    "import pandas as pd\n",
    "import random\n",
    "import glob\n",
    "import datetime\n",
    "import itertools\n",
    "import seaborn as sns\n",
    "\n",
    "pd.set_option('display.max_rows', 1000)\n",
    "pd.set_option('display.max_columns', 500)"
   ]
  },
  {
   "cell_type": "markdown",
   "metadata": {},
   "source": [
    "### Parameters and File Paths"
   ]
  },
  {
   "cell_type": "code",
   "execution_count": 2,
   "metadata": {},
   "outputs": [],
   "source": [
    "FILTER_COV = 10\n",
    "SCORE_VAR = 'frac_alpha_leq_25pct'\n",
    "#--- Local paths\n",
    "ROOT_DIR = '/analysis/gh-msun/projects'\n",
    "PROJECT_SLUG = '2023_06_26_SRT_deconvolution_MS'\n",
    "PROJECT_DIR = ROOT_DIR + '/{}'.format(PROJECT_SLUG)\n",
    "DATA_DIR = ROOT_DIR + '/{}'.format(PROJECT_SLUG) + '/stage'\n",
    "\n",
    "SAMPLE_PATH = DATA_DIR + '/metadata/samples_wgbs.20230329.tsv'\n",
    "\n",
    "# Methylation scores for reference WGBS samples.\n",
    "SCORE_PATH = (\n",
    "    DATA_DIR + '/ref_methyl_summaries/meth_summaries_cg_count_geq_3_deconvolution_v2.v23_conv.tsv.gz'\n",
    ")\n",
    "# SCORE_PATH = (\n",
    "#     '/analysis/gh-msun/projects/2023_06_26_SRT_deconvolution_MS/output/meth_summaries/blueprint_meth_summaries_cg_count_geq_3_deconvolution_v2.v23_conv.with_cpg_index.tsv.gz'\n",
    "# )\n",
    "\n",
    "# Region annotation\n",
    "REGION_PATH = (\n",
    "    DATA_DIR + '/panel_data/deconvolution_v2.v23_panel_design.tsv.gz'\n",
    ")\n",
    "# Where to store deconvolution results\n",
    "RESULTS_PATH = (\n",
    "    PROJECT_DIR + '/output/deconv_inhouse_v2'\n",
    ")"
   ]
  },
  {
   "cell_type": "markdown",
   "metadata": {},
   "source": [
    "### Sample Metadata"
   ]
  },
  {
   "cell_type": "code",
   "execution_count": 3,
   "metadata": {},
   "outputs": [
    {
     "data": {
      "text/plain": [
       "'/analysis/gh-msun/projects/2023_06_26_SRT_deconvolution_MS/stage/ref_methyl_summaries/meth_summaries_cg_count_geq_3_deconvolution_v2.v23_conv.tsv.gz'"
      ]
     },
     "execution_count": 3,
     "metadata": {},
     "output_type": "execute_result"
    }
   ],
   "source": [
    "SCORE_PATH"
   ]
  },
  {
   "cell_type": "code",
   "execution_count": 4,
   "metadata": {},
   "outputs": [],
   "source": [
    "sample_df = pd.read_csv(SAMPLE_PATH, sep='\\t')\n",
    "ridxs = sample_df['source'].isin(['blueprint_loyfer2022'])\n",
    "sample_df = sample_df[ridxs].copy()"
   ]
  },
  {
   "cell_type": "code",
   "execution_count": 5,
   "metadata": {},
   "outputs": [
    {
     "data": {
      "text/html": [
       "<div>\n",
       "<style scoped>\n",
       "    .dataframe tbody tr th:only-of-type {\n",
       "        vertical-align: middle;\n",
       "    }\n",
       "\n",
       "    .dataframe tbody tr th {\n",
       "        vertical-align: top;\n",
       "    }\n",
       "\n",
       "    .dataframe thead th {\n",
       "        text-align: right;\n",
       "    }\n",
       "</style>\n",
       "<table border=\"1\" class=\"dataframe\">\n",
       "  <thead>\n",
       "    <tr style=\"text-align: right;\">\n",
       "      <th></th>\n",
       "      <th>sample_id</th>\n",
       "      <th>patient_id</th>\n",
       "      <th>cell_type</th>\n",
       "      <th>sample_group</th>\n",
       "      <th>age</th>\n",
       "      <th>source</th>\n",
       "      <th>stage_group</th>\n",
       "      <th>tumor_purity</th>\n",
       "    </tr>\n",
       "  </thead>\n",
       "  <tbody>\n",
       "    <tr>\n",
       "      <th>0</th>\n",
       "      <td>GSM5652176</td>\n",
       "      <td>Z000000T7</td>\n",
       "      <td>Adipocytes</td>\n",
       "      <td>Adipocytes</td>\n",
       "      <td>53.0</td>\n",
       "      <td>blueprint_loyfer2022</td>\n",
       "      <td>NaN</td>\n",
       "      <td>NaN</td>\n",
       "    </tr>\n",
       "    <tr>\n",
       "      <th>1</th>\n",
       "      <td>GSM5652177</td>\n",
       "      <td>Z000000T9</td>\n",
       "      <td>Adipocytes</td>\n",
       "      <td>Adipocytes</td>\n",
       "      <td>35.0</td>\n",
       "      <td>blueprint_loyfer2022</td>\n",
       "      <td>NaN</td>\n",
       "      <td>NaN</td>\n",
       "    </tr>\n",
       "    <tr>\n",
       "      <th>2</th>\n",
       "      <td>GSM5652178</td>\n",
       "      <td>Z000000T5</td>\n",
       "      <td>Adipocytes</td>\n",
       "      <td>Adipocytes</td>\n",
       "      <td>37.0</td>\n",
       "      <td>blueprint_loyfer2022</td>\n",
       "      <td>NaN</td>\n",
       "      <td>NaN</td>\n",
       "    </tr>\n",
       "    <tr>\n",
       "      <th>3</th>\n",
       "      <td>GSM5652179</td>\n",
       "      <td>Endothelium</td>\n",
       "      <td>Endothelium</td>\n",
       "      <td>Endothelium</td>\n",
       "      <td>33.0</td>\n",
       "      <td>blueprint_loyfer2022</td>\n",
       "      <td>NaN</td>\n",
       "      <td>NaN</td>\n",
       "    </tr>\n",
       "    <tr>\n",
       "      <th>4</th>\n",
       "      <td>GSM5652180</td>\n",
       "      <td>Endothelium</td>\n",
       "      <td>Endothelium</td>\n",
       "      <td>Endothelium</td>\n",
       "      <td>62.0</td>\n",
       "      <td>blueprint_loyfer2022</td>\n",
       "      <td>NaN</td>\n",
       "      <td>NaN</td>\n",
       "    </tr>\n",
       "  </tbody>\n",
       "</table>\n",
       "</div>"
      ],
      "text/plain": [
       "    sample_id   patient_id    cell_type sample_group   age  \\\n",
       "0  GSM5652176    Z000000T7   Adipocytes   Adipocytes  53.0   \n",
       "1  GSM5652177    Z000000T9   Adipocytes   Adipocytes  35.0   \n",
       "2  GSM5652178    Z000000T5   Adipocytes   Adipocytes  37.0   \n",
       "3  GSM5652179  Endothelium  Endothelium  Endothelium  33.0   \n",
       "4  GSM5652180  Endothelium  Endothelium  Endothelium  62.0   \n",
       "\n",
       "                 source stage_group  tumor_purity  \n",
       "0  blueprint_loyfer2022         NaN           NaN  \n",
       "1  blueprint_loyfer2022         NaN           NaN  \n",
       "2  blueprint_loyfer2022         NaN           NaN  \n",
       "3  blueprint_loyfer2022         NaN           NaN  \n",
       "4  blueprint_loyfer2022         NaN           NaN  "
      ]
     },
     "execution_count": 5,
     "metadata": {},
     "output_type": "execute_result"
    }
   ],
   "source": [
    "sample_df.head()"
   ]
  },
  {
   "cell_type": "code",
   "execution_count": 6,
   "metadata": {},
   "outputs": [
    {
     "data": {
      "text/plain": [
       "array(['Adipocytes', 'Endothelium', 'Fibroblast', 'Striated muscle',\n",
       "       'Smooth muscle', 'Cardiomyocyte', 'Osteoblasts',\n",
       "       'Oligodendrocytes', 'Neuronal', 'Hepatocyte', 'Duct', 'Acinar',\n",
       "       'Delta', 'Beta', 'Alpha', 'Epithelium', 'Podocyte',\n",
       "       'Erythrocyte progenitors', 'T (CD3+) cells',\n",
       "       'T helper(CD4+) cells', 'T cytotoxic (CD8+) cells',\n",
       "       'T central memory CD4', 'T effector cell CD8',\n",
       "       'T effector memory CD4', 'T effector memory CD8',\n",
       "       'Naive T cells CD4', 'Naive T cells CD8', 'NK', 'Monocytes',\n",
       "       'Macrophages', 'Granulocytes', 'B cells', 'Memory B cells',\n",
       "       'keratinocyte', 'Luminal epithelial', 'Basal epithelial',\n",
       "       'Endocrine', 'endothelial cell of umbilical vein (proliferating)',\n",
       "       'endothelial cell of umbilical vein (resting)',\n",
       "       'band form neutrophil', 'neutrophilic metamyelocyte',\n",
       "       'neutrophilic myelocyte', 'segmented neutrophil of bone marrow',\n",
       "       'precursor B cell', 'precursor lymphocyte of B lineage',\n",
       "       'plasma cell', 'mature neutrophil', 'CD38-negative naive B cell',\n",
       "       'CD14-positive, CD16-negative classical monocyte',\n",
       "       'CD8-positive, alpha-beta T cell',\n",
       "       'cytotoxic CD56-dim natural killer cell',\n",
       "       'inflammatory macrophage', 'erythroblast',\n",
       "       'CD34-negative, CD41-positive, CD42-positive megakaryocyte cell',\n",
       "       'macrophage', 'alternatively activated macrophage',\n",
       "       'conventional dendritic cell', 'CD4-positive, alpha-beta T cell',\n",
       "       'effector memory CD8-positive, alpha-beta T cell',\n",
       "       'class switched memory B cell', 'memory B cell',\n",
       "       'central memory CD8-positive, alpha-beta T cell', 'naive B cell',\n",
       "       'monocyte', 'effector memory CD4-positive, alpha-beta T cell',\n",
       "       'regulatory T cell',\n",
       "       'effector memory CD8-positive, alpha-beta T cell, terminally differentiated',\n",
       "       'mature eosinophil',\n",
       "       'central memory CD4-positive, alpha-beta T cell'], dtype=object)"
      ]
     },
     "execution_count": 6,
     "metadata": {},
     "output_type": "execute_result"
    }
   ],
   "source": [
    "sample_df['cell_type'].unique()"
   ]
  },
  {
   "cell_type": "code",
   "execution_count": 7,
   "metadata": {},
   "outputs": [
    {
     "data": {
      "text/plain": [
       "array(['Adipocytes', 'Endothelium', 'Colon-Fibro', 'Heart-Fibro',\n",
       "       'Dermal-Fibro', 'Skeletal-Musc', 'Smooth-Musc', 'Heart-Cardio',\n",
       "       'Bone-Osteob', 'Oligodend', 'Neuron', 'Liver-Hep', 'Pancreas-Duct',\n",
       "       'Pancreas-Acinar', 'Pancreas-Delta', 'Pancreas-Beta',\n",
       "       'Pancreas-Alpha', 'Kidney-Ep', 'Thyroid-Ep', 'Fallopian-Ep',\n",
       "       'Ovary+Endom-Ep', 'Eryth-prog', 'Blood-T', 'Blood-NK',\n",
       "       'Blood-Mono+Macro', 'Blood-Granul', 'Blood-B', 'Epid-Kerat',\n",
       "       'Head-Neck-Ep', 'Lung-Ep-Bron', 'Prostate-Ep', 'Bladder-Ep',\n",
       "       'Breast-Luminal-Ep', 'Breast-Basal-Ep', 'Lung-Ep-Alveo',\n",
       "       'Gallbladder', 'Gastric-Ep', 'Colon-Ep', 'Small-Int-Ep',\n",
       "       'Umbilical-Endothelium', 'Blueprint-Neutro', 'Blueprint-B',\n",
       "       'Blueprint-Mono', 'Blueprint-CD8', 'Blueprint-NK',\n",
       "       'Blueprint-Macro', 'Blueprint-Eryth', 'Blueprint-Mega',\n",
       "       'Blueprint-Dend', 'Blueprint-CD4', 'Blueprint-Eosi'], dtype=object)"
      ]
     },
     "execution_count": 7,
     "metadata": {},
     "output_type": "execute_result"
    }
   ],
   "source": [
    "sample_df['sample_group'].unique()"
   ]
  },
  {
   "cell_type": "code",
   "execution_count": 8,
   "metadata": {},
   "outputs": [],
   "source": [
    "# summary = sample_df\\\n",
    "#     .fillna('none')\\\n",
    "#     .groupby(['sample_group'])\\\n",
    "#     .size()\n",
    "# summary"
   ]
  },
  {
   "cell_type": "code",
   "execution_count": null,
   "metadata": {},
   "outputs": [],
   "source": [
    "# for sample df wh"
   ]
  },
  {
   "cell_type": "markdown",
   "metadata": {},
   "source": [
    "### Regions"
   ]
  },
  {
   "cell_type": "code",
   "execution_count": 69,
   "metadata": {},
   "outputs": [
    {
     "data": {
      "text/plain": [
       "(1930, 1658)"
      ]
     },
     "execution_count": 69,
     "metadata": {},
     "output_type": "execute_result"
    }
   ],
   "source": [
    "region_df = pd.read_csv(REGION_PATH, sep='\\t')\n",
    "ridxs = (region_df['v23_conv']==1)\n",
    "region_df = region_df[ridxs].copy()\n",
    "region_df.shape[0], region_df['region_id'].nunique()"
   ]
  },
  {
   "cell_type": "code",
   "execution_count": 71,
   "metadata": {
    "tags": []
   },
   "outputs": [
    {
     "data": {
      "text/plain": [
       "(1930, 10)"
      ]
     },
     "execution_count": 71,
     "metadata": {},
     "output_type": "execute_result"
    }
   ],
   "source": [
    "region_df.shape"
   ]
  },
  {
   "cell_type": "markdown",
   "metadata": {},
   "source": [
    "Duplication is due to the fact that some regions are spread across several MSRE cut-site clusters."
   ]
  },
  {
   "cell_type": "code",
   "execution_count": 72,
   "metadata": {},
   "outputs": [
    {
     "data": {
      "text/plain": [
       "(1658, 1658)"
      ]
     },
     "execution_count": 72,
     "metadata": {},
     "output_type": "execute_result"
    }
   ],
   "source": [
    "region_df = region_df[['region_id', 'subpanel', 'target_celltype']].drop_duplicates()\n",
    "region_df.shape[0], region_df['region_id'].nunique()"
   ]
  },
  {
   "cell_type": "code",
   "execution_count": 73,
   "metadata": {
    "tags": []
   },
   "outputs": [
    {
     "data": {
      "text/html": [
       "<div>\n",
       "<style scoped>\n",
       "    .dataframe tbody tr th:only-of-type {\n",
       "        vertical-align: middle;\n",
       "    }\n",
       "\n",
       "    .dataframe tbody tr th {\n",
       "        vertical-align: top;\n",
       "    }\n",
       "\n",
       "    .dataframe thead th {\n",
       "        text-align: right;\n",
       "    }\n",
       "</style>\n",
       "<table border=\"1\" class=\"dataframe\">\n",
       "  <thead>\n",
       "    <tr style=\"text-align: right;\">\n",
       "      <th></th>\n",
       "      <th>region_id</th>\n",
       "      <th>subpanel</th>\n",
       "      <th>target_celltype</th>\n",
       "    </tr>\n",
       "  </thead>\n",
       "  <tbody>\n",
       "    <tr>\n",
       "      <th>0</th>\n",
       "      <td>Immune_Broad_B-chr1:1114772-1114971</td>\n",
       "      <td>immune_broad</td>\n",
       "      <td>Immune_Broad_B</td>\n",
       "    </tr>\n",
       "    <tr>\n",
       "      <th>1</th>\n",
       "      <td>Immune_Broad_NK-chr1:1157451-1157720</td>\n",
       "      <td>immune_broad</td>\n",
       "      <td>Immune_Broad_NK</td>\n",
       "    </tr>\n",
       "    <tr>\n",
       "      <th>2</th>\n",
       "      <td>Immune_Broad_NK-chr1:1157880-1158277</td>\n",
       "      <td>immune_broad</td>\n",
       "      <td>Immune_Broad_NK</td>\n",
       "    </tr>\n",
       "    <tr>\n",
       "      <th>3</th>\n",
       "      <td>Loyfer2022_Preprint_Colon-Ep:Gastric-Ep:Small-...</td>\n",
       "      <td>external</td>\n",
       "      <td>Loyfer2022_Preprint_Colon-Ep:Gastric-Ep:Small-...</td>\n",
       "    </tr>\n",
       "    <tr>\n",
       "      <th>5</th>\n",
       "      <td>Pancreas_Acinar-chr1:1849568-1849674</td>\n",
       "      <td>nonimmune</td>\n",
       "      <td>Pancreas_Acinar</td>\n",
       "    </tr>\n",
       "  </tbody>\n",
       "</table>\n",
       "</div>"
      ],
      "text/plain": [
       "                                           region_id      subpanel  \\\n",
       "0                Immune_Broad_B-chr1:1114772-1114971  immune_broad   \n",
       "1               Immune_Broad_NK-chr1:1157451-1157720  immune_broad   \n",
       "2               Immune_Broad_NK-chr1:1157880-1158277  immune_broad   \n",
       "3  Loyfer2022_Preprint_Colon-Ep:Gastric-Ep:Small-...      external   \n",
       "5               Pancreas_Acinar-chr1:1849568-1849674     nonimmune   \n",
       "\n",
       "                                     target_celltype  \n",
       "0                                     Immune_Broad_B  \n",
       "1                                    Immune_Broad_NK  \n",
       "2                                    Immune_Broad_NK  \n",
       "3  Loyfer2022_Preprint_Colon-Ep:Gastric-Ep:Small-...  \n",
       "5                                    Pancreas_Acinar  "
      ]
     },
     "execution_count": 73,
     "metadata": {},
     "output_type": "execute_result"
    }
   ],
   "source": [
    "region_df.head()"
   ]
  },
  {
   "cell_type": "code",
   "execution_count": 74,
   "metadata": {
    "tags": []
   },
   "outputs": [
    {
     "data": {
      "text/plain": [
       "array(['Immune_Broad_B', 'Immune_Broad_NK',\n",
       "       'Loyfer2022_Preprint_Colon-Ep:Gastric-Ep:Small-Int-Ep',\n",
       "       'Pancreas_Acinar', 'Immune_Lymph_CD8_Naive_wo_CM',\n",
       "       'Breast_Basal_Ep', 'Immune_Refined_CD4_Reg', 'Breast_Luminal_Ep',\n",
       "       'Loyfer2022_Published_Colon-Ep:Small-Int-Ep',\n",
       "       'Loyfer2022_Preprint_Blood-Granul', 'Literature_Age', 'Kidney_Ep',\n",
       "       'Immune_Broad_Eosi', 'Immune_Refined_B_Memory_Switched',\n",
       "       'Immune_Broad_Neutro', 'Pancreas', 'Immune_Refined_B_Memory',\n",
       "       'Liver_Hep', 'Immune_Broad_Dend', 'Adipocytes',\n",
       "       'Immune_Refined_Macro', 'Immune_Refined_Eryth', 'Pancreas_Duct',\n",
       "       'Eryth_prog', 'Gastric_Ep', 'Loyfer2022_Preprint_Breast-Basal-Ep',\n",
       "       'Loyfer2022_Preprint_Blood-T', 'Heart_Cardio', 'Esophagus_Ep',\n",
       "       'Head_Neck_Ep', 'Lung_Ep_Bron', 'Small_Int_Ep', 'Ovary_Ep',\n",
       "       'Loyfer2022_Preprint_Blood-Mono+Macro',\n",
       "       'Loyfer2022_Preprint_Colon-Ep',\n",
       "       'Loyfer2022_Preprint_Lung-Ep-Alveo',\n",
       "       'Loyfer2022_Preprint_Colon-Fibro:Heart-Fibro', 'Prostate_Ep',\n",
       "       'Immune_Broad_CD4', 'Immune_Refined_B_Precursor',\n",
       "       'Immune_Broad_Macro', 'Lung_Ep_Alveo', 'Neuron_plus_Oligodend',\n",
       "       'Bladder_Ep', 'Immune_Broad_Dend_plus_Macro_plus_Mono',\n",
       "       'Immune_Broad_CD4_plus_CD8', 'Loyfer2022_Preprint_Lung-Ep-Bron',\n",
       "       'Endothelium',\n",
       "       'Loyfer2022_Preprint_Breast-Basal-Ep:Breast-Luminal-Ep',\n",
       "       'Loyfer2022_Preprint_Colon-Ep:Small-Int-Ep',\n",
       "       'Immune_Refined_CD8_Memory_Central',\n",
       "       'Immune_Lymph_CD4_plus_CD8_Naive_wo_CM', 'Immune_Refined_B_Plasma',\n",
       "       'Immune_Lymph_CD4_Naive_wo_CM', 'Fibro_Musc',\n",
       "       'Loyfer2022_Preprint_Blood-B', 'Umbilical_Endothelium',\n",
       "       'Loyfer2022_Preprint_Liver-Hep', 'Colon_Ep',\n",
       "       'Immune_Lymph_CD4_Activated_wo_CM', 'Literature_Immune',\n",
       "       'Immune_Refined_Mono2', 'Immune_Lymph_B_Naive',\n",
       "       'Loyfer2022_Preprint_Gastric-Ep:Small-Int-Ep',\n",
       "       'Immune_Lymph_CD8_Activated_wo_CM', 'Thyroid_Ep',\n",
       "       'Immune_Lymph_B_Activated', 'Loyfer2022_Preprint_Small-Int-Ep',\n",
       "       'Immune_Refined_Mega',\n",
       "       'Loyfer2022_Preprint_Lung-Ep-Alveo:Lung-Ep-Bron',\n",
       "       'Immune_Lymph_CD4_plus_CD8_Activated_wo_CM',\n",
       "       'Immune_Myel_Neutro_Mature', 'Immune_Refined_B_Naive2',\n",
       "       'Immune_Refined_Macro_M2', 'Loyfer2022_Preprint_Blood-NK',\n",
       "       'Immune_Refined_CD8_Memory_Effector2', 'Immune_Broad_CD8',\n",
       "       'Immune_Broad_Mono', 'Immune_Refined_B_Naive1', 'SRY'],\n",
       "      dtype=object)"
      ]
     },
     "execution_count": 74,
     "metadata": {},
     "output_type": "execute_result"
    }
   ],
   "source": [
    "region_df.target_celltype.unique()"
   ]
  },
  {
   "cell_type": "code",
   "execution_count": 75,
   "metadata": {},
   "outputs": [
    {
     "data": {
      "text/plain": [
       "subpanel            target_celltype                                      \n",
       "external            Literature_Age                                            30\n",
       "                    Literature_Immune                                         30\n",
       "                    Loyfer2022_Preprint_Blood-B                               13\n",
       "                    Loyfer2022_Preprint_Blood-Granul                          13\n",
       "                    Loyfer2022_Preprint_Blood-Mono+Macro                      15\n",
       "                    Loyfer2022_Preprint_Blood-NK                              13\n",
       "                    Loyfer2022_Preprint_Blood-T                               16\n",
       "                    Loyfer2022_Preprint_Breast-Basal-Ep                       25\n",
       "                    Loyfer2022_Preprint_Breast-Basal-Ep:Breast-Luminal-Ep     22\n",
       "                    Loyfer2022_Preprint_Colon-Ep                              13\n",
       "                    Loyfer2022_Preprint_Colon-Ep:Gastric-Ep:Small-Int-Ep      14\n",
       "                    Loyfer2022_Preprint_Colon-Ep:Small-Int-Ep                 10\n",
       "                    Loyfer2022_Preprint_Colon-Fibro:Heart-Fibro               20\n",
       "                    Loyfer2022_Preprint_Gastric-Ep:Small-Int-Ep               10\n",
       "                    Loyfer2022_Preprint_Liver-Hep                             11\n",
       "                    Loyfer2022_Preprint_Lung-Ep-Alveo                         14\n",
       "                    Loyfer2022_Preprint_Lung-Ep-Alveo:Lung-Ep-Bron            11\n",
       "                    Loyfer2022_Preprint_Lung-Ep-Bron                          13\n",
       "                    Loyfer2022_Preprint_Small-Int-Ep                          12\n",
       "                    Loyfer2022_Published_Colon-Ep:Small-Int-Ep               112\n",
       "                    SRY                                                        1\n",
       "immune_broad        Immune_Broad_B                                            49\n",
       "                    Immune_Broad_CD4                                           2\n",
       "                    Immune_Broad_CD4_plus_CD8                                 43\n",
       "                    Immune_Broad_CD8                                           4\n",
       "                    Immune_Broad_Dend                                         21\n",
       "                    Immune_Broad_Dend_plus_Macro_plus_Mono                    13\n",
       "                    Immune_Broad_Eosi                                         38\n",
       "                    Immune_Broad_Macro                                         7\n",
       "                    Immune_Broad_Mono                                          1\n",
       "                    Immune_Broad_NK                                           53\n",
       "                    Immune_Broad_Neutro                                       29\n",
       "immune_refined      Immune_Refined_B_Memory                                   25\n",
       "                    Immune_Refined_B_Memory_Switched                           1\n",
       "                    Immune_Refined_B_Naive1                                    1\n",
       "                    Immune_Refined_B_Naive2                                    1\n",
       "                    Immune_Refined_B_Plasma                                   21\n",
       "                    Immune_Refined_B_Precursor                                17\n",
       "                    Immune_Refined_CD4_Reg                                    30\n",
       "                    Immune_Refined_CD8_Memory_Central                         11\n",
       "                    Immune_Refined_CD8_Memory_Effector2                        6\n",
       "                    Immune_Refined_Eryth                                      25\n",
       "                    Immune_Refined_Macro                                      29\n",
       "                    Immune_Refined_Macro_M2                                   16\n",
       "                    Immune_Refined_Mega                                       29\n",
       "                    Immune_Refined_Mono2                                      21\n",
       "immune_specialised  Immune_Lymph_B_Activated                                  20\n",
       "                    Immune_Lymph_B_Naive                                      31\n",
       "                    Immune_Lymph_CD4_Activated_wo_CM                           3\n",
       "                    Immune_Lymph_CD4_Naive_wo_CM                               5\n",
       "                    Immune_Lymph_CD4_plus_CD8_Activated_wo_CM                 18\n",
       "                    Immune_Lymph_CD4_plus_CD8_Naive_wo_CM                     12\n",
       "                    Immune_Lymph_CD8_Activated_wo_CM                          11\n",
       "                    Immune_Lymph_CD8_Naive_wo_CM                              29\n",
       "                    Immune_Myel_Neutro_Mature                                  8\n",
       "nonimmune           Adipocytes                                                21\n",
       "                    Bladder_Ep                                                12\n",
       "                    Breast_Basal_Ep                                           38\n",
       "                    Breast_Luminal_Ep                                         30\n",
       "                    Colon_Ep                                                  21\n",
       "                    Endothelium                                               35\n",
       "                    Eryth_prog                                                22\n",
       "                    Esophagus_Ep                                              26\n",
       "                    Fibro_Musc                                                24\n",
       "                    Gastric_Ep                                                17\n",
       "                    Head_Neck_Ep                                              22\n",
       "                    Heart_Cardio                                              31\n",
       "                    Kidney_Ep                                                 13\n",
       "                    Liver_Hep                                                 34\n",
       "                    Lung_Ep_Alveo                                             27\n",
       "                    Lung_Ep_Bron                                              24\n",
       "                    Neuron_plus_Oligodend                                     38\n",
       "                    Ovary_Ep                                                  24\n",
       "                    Pancreas                                                  33\n",
       "                    Pancreas_Acinar                                           24\n",
       "                    Pancreas_Duct                                             14\n",
       "                    Prostate_Ep                                               11\n",
       "                    Small_Int_Ep                                              27\n",
       "                    Thyroid_Ep                                                17\n",
       "                    Umbilical_Endothelium                                     25\n",
       "dtype: int64"
      ]
     },
     "execution_count": 75,
     "metadata": {},
     "output_type": "execute_result"
    }
   ],
   "source": [
    "summary = region_df.groupby(['subpanel', 'target_celltype']).size()\n",
    "summary"
   ]
  },
  {
   "cell_type": "code",
   "execution_count": 14,
   "metadata": {},
   "outputs": [],
   "source": [
    "# ridxs = region_df['subpanel'].isin(['external','immune_broad','immune_refined','immune_specialised'])\n",
    "# region_df = region_df[ridxs]\n",
    "# region_df.shape[0], region_df['region_id'].nunique()"
   ]
  },
  {
   "cell_type": "markdown",
   "metadata": {},
   "source": [
    "### Methylation Scores"
   ]
  },
  {
   "cell_type": "code",
   "execution_count": 15,
   "metadata": {},
   "outputs": [
    {
     "data": {
      "text/plain": [
       "(509090, 1648)"
      ]
     },
     "execution_count": 15,
     "metadata": {},
     "output_type": "execute_result"
    }
   ],
   "source": [
    "score_df = pd.read_csv(SCORE_PATH, sep='\\t')\n",
    "\n",
    "# index score df\n",
    "ridxs = score_df['sample_id'].isin(sample_df['sample_id'])\n",
    "ridxs &= score_df['region_id'].isin(region_df['region_id'])\n",
    "\n",
    "score_df = score_df[ridxs].copy()\n",
    "score_df.shape[0], score_df['region_id'].nunique()"
   ]
  },
  {
   "cell_type": "markdown",
   "metadata": {},
   "source": [
    "## Construct Reference Matrix"
   ]
  },
  {
   "cell_type": "markdown",
   "metadata": {},
   "source": [
    "What samples/regions define reference atlas?"
   ]
  },
  {
   "cell_type": "code",
   "execution_count": 84,
   "metadata": {
    "tags": []
   },
   "outputs": [],
   "source": [
    "\n",
    "SAMPLE_TO_REF_CELLTYPE_MAP = {   # blue print\n",
    "    'Blueprint-B': 'immune_b',\n",
    "    'Blueprint-CD4': 'immune_cd4',\n",
    "    'Blueprint-CD8': 'immune_cd8',\n",
    "    'Blueprint-NK': 'immune_nk',\n",
    "    'Blueprint-Dend': 'immune_dend_plus_macro_plus_mono',\n",
    "    'Blueprint-Macro': 'immune_dend_plus_macro_plus_mono',\n",
    "    'Blueprint-Mono': 'immune_dend_plus_macro_plus_mono',\n",
    "    'Blueprint-Eosi': 'immune_eosi',\n",
    "    'Blueprint-Neutro': 'immune_neutro',\n",
    "    'Blueprint-Eryth': 'immune_eryth',\n",
    "    'Blueprint-Mega': 'immune_mega',\n",
    "    'Eryth-prog': 'eryth_prog'\n",
    "}\n",
    "\n",
    "REGION_TO_REF_CELLTYPE_MAP= {  # hypo panel\n",
    "    'Immune_Broad_B': 'immune_b',\n",
    "    'Immune_Broad_CD4_plus_CD8': 'immune_cd8',\n",
    "    'Immune_Broad_CD4_plus_CD8': 'immune_cd4',\n",
    "    'Immune_Broad_CD8': 'immune_cd8',\n",
    "    'Immune_Broad_CD4': 'immune_cd4',\n",
    "    'Immune_Broad_NK': 'immune_nk',\n",
    "    'Immune_Broad_Dend_plus_Macro_plus_Mono': 'immune_dend_plus_macro_plus_mono',\n",
    "    'Immune_Broad_Eosi': 'immune_eosi',\n",
    "    'Immune_Broad_Neutro': 'immune_neutro',\n",
    "    'Immune_Refined_Eryth': 'immune_eryth',\n",
    "    'Immune_Refined_Mega': 'immune_mega',\n",
    "    'Eryth_prog': 'eryth_prog'\n",
    "    \n",
    "} "
   ]
  },
  {
   "cell_type": "code",
   "execution_count": 85,
   "metadata": {
    "tags": []
   },
   "outputs": [
    {
     "data": {
      "text/html": [
       "<div>\n",
       "<style scoped>\n",
       "    .dataframe tbody tr th:only-of-type {\n",
       "        vertical-align: middle;\n",
       "    }\n",
       "\n",
       "    .dataframe tbody tr th {\n",
       "        vertical-align: top;\n",
       "    }\n",
       "\n",
       "    .dataframe thead th {\n",
       "        text-align: right;\n",
       "    }\n",
       "</style>\n",
       "<table border=\"1\" class=\"dataframe\">\n",
       "  <thead>\n",
       "    <tr style=\"text-align: right;\">\n",
       "      <th></th>\n",
       "      <th>sample_id</th>\n",
       "      <th>patient_id</th>\n",
       "      <th>cell_type</th>\n",
       "      <th>sample_group</th>\n",
       "      <th>age</th>\n",
       "      <th>source</th>\n",
       "      <th>stage_group</th>\n",
       "      <th>tumor_purity</th>\n",
       "      <th>ref_celltype</th>\n",
       "    </tr>\n",
       "  </thead>\n",
       "  <tbody>\n",
       "    <tr>\n",
       "      <th>98</th>\n",
       "      <td>GSM5652274</td>\n",
       "      <td>Erythrocyte_progenitors</td>\n",
       "      <td>Erythrocyte progenitors</td>\n",
       "      <td>Eryth-prog</td>\n",
       "      <td>60.0</td>\n",
       "      <td>blueprint_loyfer2022</td>\n",
       "      <td>NaN</td>\n",
       "      <td>NaN</td>\n",
       "      <td>eryth_prog</td>\n",
       "    </tr>\n",
       "    <tr>\n",
       "      <th>99</th>\n",
       "      <td>GSM5652275</td>\n",
       "      <td>Erythrocyte_progenitors</td>\n",
       "      <td>Erythrocyte progenitors</td>\n",
       "      <td>Eryth-prog</td>\n",
       "      <td>53.0</td>\n",
       "      <td>blueprint_loyfer2022</td>\n",
       "      <td>NaN</td>\n",
       "      <td>NaN</td>\n",
       "      <td>eryth_prog</td>\n",
       "    </tr>\n",
       "    <tr>\n",
       "      <th>100</th>\n",
       "      <td>GSM5652276</td>\n",
       "      <td>Erythrocyte_progenitors</td>\n",
       "      <td>Erythrocyte progenitors</td>\n",
       "      <td>Eryth-prog</td>\n",
       "      <td>64.0</td>\n",
       "      <td>blueprint_loyfer2022</td>\n",
       "      <td>NaN</td>\n",
       "      <td>NaN</td>\n",
       "      <td>eryth_prog</td>\n",
       "    </tr>\n",
       "    <tr>\n",
       "      <th>211</th>\n",
       "      <td>ERS661049</td>\n",
       "      <td>BM030613</td>\n",
       "      <td>band form neutrophil</td>\n",
       "      <td>Blueprint-Neutro</td>\n",
       "      <td>65 - 70</td>\n",
       "      <td>blueprint_loyfer2022</td>\n",
       "      <td>NaN</td>\n",
       "      <td>NaN</td>\n",
       "      <td>immune_neutro</td>\n",
       "    </tr>\n",
       "    <tr>\n",
       "      <th>212</th>\n",
       "      <td>ERS661048</td>\n",
       "      <td>BM030613</td>\n",
       "      <td>neutrophilic metamyelocyte</td>\n",
       "      <td>Blueprint-Neutro</td>\n",
       "      <td>65 - 70</td>\n",
       "      <td>blueprint_loyfer2022</td>\n",
       "      <td>NaN</td>\n",
       "      <td>NaN</td>\n",
       "      <td>immune_neutro</td>\n",
       "    </tr>\n",
       "  </tbody>\n",
       "</table>\n",
       "</div>"
      ],
      "text/plain": [
       "      sample_id               patient_id                   cell_type  \\\n",
       "98   GSM5652274  Erythrocyte_progenitors     Erythrocyte progenitors   \n",
       "99   GSM5652275  Erythrocyte_progenitors     Erythrocyte progenitors   \n",
       "100  GSM5652276  Erythrocyte_progenitors     Erythrocyte progenitors   \n",
       "211   ERS661049                 BM030613        band form neutrophil   \n",
       "212   ERS661048                 BM030613  neutrophilic metamyelocyte   \n",
       "\n",
       "         sample_group      age                source stage_group  \\\n",
       "98         Eryth-prog     60.0  blueprint_loyfer2022         NaN   \n",
       "99         Eryth-prog     53.0  blueprint_loyfer2022         NaN   \n",
       "100        Eryth-prog     64.0  blueprint_loyfer2022         NaN   \n",
       "211  Blueprint-Neutro  65 - 70  blueprint_loyfer2022         NaN   \n",
       "212  Blueprint-Neutro  65 - 70  blueprint_loyfer2022         NaN   \n",
       "\n",
       "     tumor_purity   ref_celltype  \n",
       "98            NaN     eryth_prog  \n",
       "99            NaN     eryth_prog  \n",
       "100           NaN     eryth_prog  \n",
       "211           NaN  immune_neutro  \n",
       "212           NaN  immune_neutro  "
      ]
     },
     "execution_count": 85,
     "metadata": {},
     "output_type": "execute_result"
    }
   ],
   "source": [
    "ref_sample_df.head()"
   ]
  },
  {
   "cell_type": "code",
   "execution_count": 86,
   "metadata": {},
   "outputs": [
    {
     "data": {
      "text/plain": [
       "(103, 103, 10)"
      ]
     },
     "execution_count": 86,
     "metadata": {},
     "output_type": "execute_result"
    }
   ],
   "source": [
    "ridxs = (sample_df['source']=='blueprint_loyfer2022')\n",
    "ridxs &= sample_df['sample_group'].isin(SAMPLE_TO_REF_CELLTYPE_MAP.keys())\n",
    "ref_sample_df = sample_df[ridxs].copy()\n",
    "ref_sample_df['ref_celltype'] = ref_sample_df['sample_group'].map(SAMPLE_TO_REF_CELLTYPE_MAP)\n",
    "ref_sample_df.shape[0], ref_sample_df['sample_id'].nunique(), ref_sample_df['ref_celltype'].nunique()"
   ]
  },
  {
   "cell_type": "code",
   "execution_count": null,
   "metadata": {},
   "outputs": [],
   "source": []
  },
  {
   "cell_type": "code",
   "execution_count": 87,
   "metadata": {},
   "outputs": [
    {
     "data": {
      "text/plain": [
       "(307, 307, 10)"
      ]
     },
     "execution_count": 87,
     "metadata": {},
     "output_type": "execute_result"
    }
   ],
   "source": [
    "ridxs = region_df['target_celltype'].isin(REGION_TO_REF_CELLTYPE_MAP.keys())\n",
    "ref_region_df = region_df[ridxs][['region_id', 'target_celltype']].drop_duplicates()\n",
    "ref_region_df['ref_celltype'] = ref_region_df['target_celltype'].map(REGION_TO_REF_CELLTYPE_MAP)\n",
    "ref_region_df.shape[0], ref_region_df['region_id'].nunique(), ref_region_df['ref_celltype'].nunique()"
   ]
  },
  {
   "cell_type": "code",
   "execution_count": 88,
   "metadata": {},
   "outputs": [
    {
     "data": {
      "text/plain": [
       "ref_celltype\n",
       "eryth_prog                          22\n",
       "immune_b                            49\n",
       "immune_cd4                          45\n",
       "immune_cd8                           4\n",
       "immune_dend_plus_macro_plus_mono    13\n",
       "immune_eosi                         38\n",
       "immune_eryth                        25\n",
       "immune_mega                         29\n",
       "immune_neutro                       29\n",
       "immune_nk                           53\n",
       "Name: region_id, dtype: int64"
      ]
     },
     "execution_count": 88,
     "metadata": {},
     "output_type": "execute_result"
    }
   ],
   "source": [
    "# number of regions per cell type\n",
    "ref_region_df.groupby(['ref_celltype'])['region_id'].nunique()"
   ]
  },
  {
   "cell_type": "code",
   "execution_count": 89,
   "metadata": {},
   "outputs": [
    {
     "data": {
      "text/plain": [
       "(307, 10)"
      ]
     },
     "execution_count": 89,
     "metadata": {},
     "output_type": "execute_result"
    }
   ],
   "source": [
    "ridxs = (score_df['number_molecules']>=FILTER_COV)\n",
    "ridxs &= score_df['sample_id'].isin(ref_sample_df['sample_id'])\n",
    "ridxs &= score_df['region_id'].isin(ref_region_df['region_id'])\n",
    "atlas = score_df[ridxs][['sample_id', 'region_id', SCORE_VAR]]\\\n",
    "    .merge(ref_sample_df[['sample_id', 'ref_celltype']])\\\n",
    "    .groupby(['region_id', 'ref_celltype'])\\\n",
    "    [SCORE_VAR].mean()\\\n",
    "    .reset_index()\\\n",
    "    .pivot_table(index='region_id', columns='ref_celltype', values=SCORE_VAR)\n",
    "atlas.shape"
   ]
  },
  {
   "cell_type": "code",
   "execution_count": 90,
   "metadata": {},
   "outputs": [
    {
     "data": {
      "text/plain": [
       "(285, 10)"
      ]
     },
     "execution_count": 90,
     "metadata": {},
     "output_type": "execute_result"
    }
   ],
   "source": [
    "ridxs = (atlas.isna().sum(axis=1)==0)\n",
    "atlas = atlas[ridxs].copy()\n",
    "atlas.shape"
   ]
  },
  {
   "cell_type": "code",
   "execution_count": 91,
   "metadata": {
    "tags": []
   },
   "outputs": [
    {
     "data": {
      "text/plain": [
       "array(['eryth_prog', 'immune_neutro', 'immune_b',\n",
       "       'immune_dend_plus_macro_plus_mono', 'immune_cd8', 'immune_nk',\n",
       "       'immune_eryth', 'immune_mega', 'immune_cd4', 'immune_eosi'],\n",
       "      dtype=object)"
      ]
     },
     "execution_count": 91,
     "metadata": {},
     "output_type": "execute_result"
    }
   ],
   "source": [
    "ref_sample_df['ref_celltype'].unique()"
   ]
  },
  {
   "cell_type": "markdown",
   "metadata": {},
   "source": [
    "Rearrange columns and rows of atlas matrix to conform to desired order."
   ]
  },
  {
   "cell_type": "code",
   "execution_count": 92,
   "metadata": {},
   "outputs": [
    {
     "data": {
      "text/plain": [
       "(285, 10)"
      ]
     },
     "execution_count": 92,
     "metadata": {},
     "output_type": "execute_result"
    }
   ],
   "source": [
    "ref_region_df = pd.DataFrame({'ref_celltype': list(REGION_TO_REF_CELLTYPE_MAP.values())})\\\n",
    "    .drop_duplicates()\\\n",
    "    .merge(ref_region_df)\n",
    "ridxs = ref_region_df['region_id'].isin(atlas.index)\n",
    "ref_region_df = ref_region_df[ridxs].copy()\n",
    "ref_sample_df = pd.DataFrame({'ref_celltype': list(SAMPLE_TO_REF_CELLTYPE_MAP.values())})\\\n",
    "    .drop_duplicates()\\\n",
    "    .merge(ref_sample_df)\n",
    "atlas = atlas.loc[ref_region_df['region_id'], ref_sample_df['ref_celltype'].unique()]\n",
    "atlas.shape"
   ]
  },
  {
   "cell_type": "code",
   "execution_count": 93,
   "metadata": {},
   "outputs": [
    {
     "data": {
      "text/html": [
       "<div>\n",
       "<style scoped>\n",
       "    .dataframe tbody tr th:only-of-type {\n",
       "        vertical-align: middle;\n",
       "    }\n",
       "\n",
       "    .dataframe tbody tr th {\n",
       "        vertical-align: top;\n",
       "    }\n",
       "\n",
       "    .dataframe thead th {\n",
       "        text-align: right;\n",
       "    }\n",
       "</style>\n",
       "<table border=\"1\" class=\"dataframe\">\n",
       "  <thead>\n",
       "    <tr style=\"text-align: right;\">\n",
       "      <th></th>\n",
       "      <th>ref_celltype</th>\n",
       "      <th>sample_id</th>\n",
       "      <th>patient_id</th>\n",
       "      <th>cell_type</th>\n",
       "      <th>sample_group</th>\n",
       "      <th>age</th>\n",
       "      <th>source</th>\n",
       "      <th>stage_group</th>\n",
       "      <th>tumor_purity</th>\n",
       "    </tr>\n",
       "  </thead>\n",
       "  <tbody>\n",
       "    <tr>\n",
       "      <th>0</th>\n",
       "      <td>immune_b</td>\n",
       "      <td>ERS666927</td>\n",
       "      <td>F2012-2912</td>\n",
       "      <td>precursor B cell</td>\n",
       "      <td>Blueprint-B</td>\n",
       "      <td>0 - 5</td>\n",
       "      <td>blueprint_loyfer2022</td>\n",
       "      <td>NaN</td>\n",
       "      <td>NaN</td>\n",
       "    </tr>\n",
       "    <tr>\n",
       "      <th>1</th>\n",
       "      <td>immune_b</td>\n",
       "      <td>ERS337605</td>\n",
       "      <td>F2012-2912</td>\n",
       "      <td>precursor lymphocyte of B lineage</td>\n",
       "      <td>Blueprint-B</td>\n",
       "      <td>0 - 5</td>\n",
       "      <td>blueprint_loyfer2022</td>\n",
       "      <td>NaN</td>\n",
       "      <td>NaN</td>\n",
       "    </tr>\n",
       "    <tr>\n",
       "      <th>2</th>\n",
       "      <td>immune_b</td>\n",
       "      <td>ERS337607</td>\n",
       "      <td>MO7071</td>\n",
       "      <td>plasma cell</td>\n",
       "      <td>Blueprint-B</td>\n",
       "      <td>20 - 30</td>\n",
       "      <td>blueprint_loyfer2022</td>\n",
       "      <td>NaN</td>\n",
       "      <td>NaN</td>\n",
       "    </tr>\n",
       "    <tr>\n",
       "      <th>3</th>\n",
       "      <td>immune_b</td>\n",
       "      <td>ERS666931</td>\n",
       "      <td>V156</td>\n",
       "      <td>plasma cell</td>\n",
       "      <td>Blueprint-B</td>\n",
       "      <td>20 - 30</td>\n",
       "      <td>blueprint_loyfer2022</td>\n",
       "      <td>NaN</td>\n",
       "      <td>NaN</td>\n",
       "    </tr>\n",
       "    <tr>\n",
       "      <th>4</th>\n",
       "      <td>immune_b</td>\n",
       "      <td>ERS214672</td>\n",
       "      <td>C003K9</td>\n",
       "      <td>CD38-negative naive B cell</td>\n",
       "      <td>Blueprint-B</td>\n",
       "      <td>0 - 5</td>\n",
       "      <td>blueprint_loyfer2022</td>\n",
       "      <td>NaN</td>\n",
       "      <td>NaN</td>\n",
       "    </tr>\n",
       "  </tbody>\n",
       "</table>\n",
       "</div>"
      ],
      "text/plain": [
       "  ref_celltype  sample_id  patient_id                          cell_type  \\\n",
       "0     immune_b  ERS666927  F2012-2912                   precursor B cell   \n",
       "1     immune_b  ERS337605  F2012-2912  precursor lymphocyte of B lineage   \n",
       "2     immune_b  ERS337607      MO7071                        plasma cell   \n",
       "3     immune_b  ERS666931        V156                        plasma cell   \n",
       "4     immune_b  ERS214672      C003K9         CD38-negative naive B cell   \n",
       "\n",
       "  sample_group      age                source stage_group  tumor_purity  \n",
       "0  Blueprint-B    0 - 5  blueprint_loyfer2022         NaN           NaN  \n",
       "1  Blueprint-B    0 - 5  blueprint_loyfer2022         NaN           NaN  \n",
       "2  Blueprint-B  20 - 30  blueprint_loyfer2022         NaN           NaN  \n",
       "3  Blueprint-B  20 - 30  blueprint_loyfer2022         NaN           NaN  \n",
       "4  Blueprint-B    0 - 5  blueprint_loyfer2022         NaN           NaN  "
      ]
     },
     "execution_count": 93,
     "metadata": {},
     "output_type": "execute_result"
    }
   ],
   "source": [
    "ref_sample_df.head()"
   ]
  },
  {
   "cell_type": "markdown",
   "metadata": {},
   "source": [
    "## Reference Matrix Heatmap"
   ]
  },
  {
   "cell_type": "code",
   "execution_count": 94,
   "metadata": {},
   "outputs": [],
   "source": [
    "## Make the heatmap with R - not necessary if R is not installed\n",
    "# %%R -i atlas,ref_region_df,RESULTS_PATH\n",
    "# library(tidyverse)\n",
    "# library(pheatmap)\n",
    "# library(pals)\n",
    "\n",
    "# save_pheatmap_pdf <- function(x, filename, width=12, height=14) {\n",
    "#    stopifnot(!missing(x))\n",
    "#    stopifnot(!missing(filename))\n",
    "#    pdf(filename, width=width, height=height)\n",
    "#    grid::grid.newpage()\n",
    "#    grid::grid.draw(x$gtable)\n",
    "#    dev.off()\n",
    "# }\n",
    "\n",
    "# # Cell-type annotation\n",
    "# col_annot = data.frame(celltype=colnames(atlas))\n",
    "# rownames(col_annot) = colnames(atlas)\n",
    "# celltype_colors = c(stepped(), stepped2())[1:length(colnames(atlas))]\n",
    "# names(celltype_colors) = colnames(atlas)\n",
    "# # Region annotation\n",
    "# row_annot = data.frame(region_celltype=ref_region_df$ref_celltype)\n",
    "# rownames(row_annot) = ref_region_df$region_id\n",
    "# region_celltype_colors = c(stepped(), stepped2())[1:length(unique(ref_region_df$ref_celltype))]\n",
    "# names(region_celltype_colors) = unique(ref_region_df$ref_celltype)\n",
    "# annot_colors = list(celltype=celltype_colors, region_celltype=region_celltype_colors)\n",
    "# # Heatmap\n",
    "# p = pheatmap(\n",
    "#     atlas, \n",
    "#     cluster_rows=FALSE, show_rownames=FALSE, \n",
    "#     cluster_cols=FALSE, show_colnames=FALSE, \n",
    "#     annotation_colors=annot_colors,\n",
    "#     annotation_row=row_annot, annotation_names_row=FALSE,\n",
    "#     annotation_col=col_annot, annotation_names_col=FALSE,\n",
    "#     scale='none', clustering_method='ward.D2',\n",
    "# )\n",
    "# ofile <- sprintf('%s_heatmap_atlas.pdf', RESULTS_PATH)\n",
    "# save_pheatmap_pdf(p, file=ofile)"
   ]
  },
  {
   "cell_type": "code",
   "execution_count": 95,
   "metadata": {
    "tags": []
   },
   "outputs": [
    {
     "data": {
      "text/plain": [
       "Index([], dtype='object', name='region_id')"
      ]
     },
     "execution_count": 95,
     "metadata": {},
     "output_type": "execute_result"
    }
   ],
   "source": [
    "atlas.index[atlas.index.str.contains(\"Loyfer\")]"
   ]
  },
  {
   "cell_type": "code",
   "execution_count": 96,
   "metadata": {},
   "outputs": [
    {
     "data": {
      "text/html": [
       "<div>\n",
       "<style scoped>\n",
       "    .dataframe tbody tr th:only-of-type {\n",
       "        vertical-align: middle;\n",
       "    }\n",
       "\n",
       "    .dataframe tbody tr th {\n",
       "        vertical-align: top;\n",
       "    }\n",
       "\n",
       "    .dataframe thead th {\n",
       "        text-align: right;\n",
       "    }\n",
       "</style>\n",
       "<table border=\"1\" class=\"dataframe\">\n",
       "  <thead>\n",
       "    <tr style=\"text-align: right;\">\n",
       "      <th>ref_celltype</th>\n",
       "      <th>immune_b</th>\n",
       "      <th>immune_cd4</th>\n",
       "      <th>immune_cd8</th>\n",
       "      <th>immune_nk</th>\n",
       "      <th>immune_dend_plus_macro_plus_mono</th>\n",
       "      <th>immune_eosi</th>\n",
       "      <th>immune_neutro</th>\n",
       "      <th>immune_eryth</th>\n",
       "      <th>immune_mega</th>\n",
       "      <th>eryth_prog</th>\n",
       "    </tr>\n",
       "    <tr>\n",
       "      <th>region_id</th>\n",
       "      <th></th>\n",
       "      <th></th>\n",
       "      <th></th>\n",
       "      <th></th>\n",
       "      <th></th>\n",
       "      <th></th>\n",
       "      <th></th>\n",
       "      <th></th>\n",
       "      <th></th>\n",
       "      <th></th>\n",
       "    </tr>\n",
       "  </thead>\n",
       "  <tbody>\n",
       "    <tr>\n",
       "      <th>Immune_Broad_B-chr1:1114772-1114971</th>\n",
       "      <td>0.954541</td>\n",
       "      <td>0.004810</td>\n",
       "      <td>0.007621</td>\n",
       "      <td>0.000000</td>\n",
       "      <td>0.012992</td>\n",
       "      <td>0.005208</td>\n",
       "      <td>0.002255</td>\n",
       "      <td>0.013889</td>\n",
       "      <td>0.012048</td>\n",
       "      <td>0.030417</td>\n",
       "    </tr>\n",
       "    <tr>\n",
       "      <th>Immune_Broad_B-chr10:45390756-45390847</th>\n",
       "      <td>0.905821</td>\n",
       "      <td>0.007999</td>\n",
       "      <td>0.009178</td>\n",
       "      <td>0.045092</td>\n",
       "      <td>0.007154</td>\n",
       "      <td>0.000000</td>\n",
       "      <td>0.008713</td>\n",
       "      <td>0.064953</td>\n",
       "      <td>0.021491</td>\n",
       "      <td>0.206392</td>\n",
       "    </tr>\n",
       "    <tr>\n",
       "      <th>Immune_Broad_B-chr10:126289835-126290065</th>\n",
       "      <td>0.947659</td>\n",
       "      <td>0.004554</td>\n",
       "      <td>0.002581</td>\n",
       "      <td>0.069420</td>\n",
       "      <td>0.009761</td>\n",
       "      <td>0.000000</td>\n",
       "      <td>0.003088</td>\n",
       "      <td>0.000000</td>\n",
       "      <td>0.005155</td>\n",
       "      <td>0.055057</td>\n",
       "    </tr>\n",
       "    <tr>\n",
       "      <th>Immune_Broad_B-chr10:126290368-126290506</th>\n",
       "      <td>0.928200</td>\n",
       "      <td>0.000000</td>\n",
       "      <td>0.012835</td>\n",
       "      <td>0.000000</td>\n",
       "      <td>0.013708</td>\n",
       "      <td>0.048423</td>\n",
       "      <td>0.001361</td>\n",
       "      <td>0.009259</td>\n",
       "      <td>0.000000</td>\n",
       "      <td>0.031746</td>\n",
       "    </tr>\n",
       "    <tr>\n",
       "      <th>Immune_Broad_B-chr11:75988912-75989088</th>\n",
       "      <td>0.973406</td>\n",
       "      <td>0.003396</td>\n",
       "      <td>0.009884</td>\n",
       "      <td>0.006439</td>\n",
       "      <td>0.003429</td>\n",
       "      <td>0.000000</td>\n",
       "      <td>0.003071</td>\n",
       "      <td>0.008475</td>\n",
       "      <td>0.007576</td>\n",
       "      <td>0.113996</td>\n",
       "    </tr>\n",
       "  </tbody>\n",
       "</table>\n",
       "</div>"
      ],
      "text/plain": [
       "ref_celltype                              immune_b  immune_cd4  immune_cd8  \\\n",
       "region_id                                                                    \n",
       "Immune_Broad_B-chr1:1114772-1114971       0.954541    0.004810    0.007621   \n",
       "Immune_Broad_B-chr10:45390756-45390847    0.905821    0.007999    0.009178   \n",
       "Immune_Broad_B-chr10:126289835-126290065  0.947659    0.004554    0.002581   \n",
       "Immune_Broad_B-chr10:126290368-126290506  0.928200    0.000000    0.012835   \n",
       "Immune_Broad_B-chr11:75988912-75989088    0.973406    0.003396    0.009884   \n",
       "\n",
       "ref_celltype                              immune_nk  \\\n",
       "region_id                                             \n",
       "Immune_Broad_B-chr1:1114772-1114971        0.000000   \n",
       "Immune_Broad_B-chr10:45390756-45390847     0.045092   \n",
       "Immune_Broad_B-chr10:126289835-126290065   0.069420   \n",
       "Immune_Broad_B-chr10:126290368-126290506   0.000000   \n",
       "Immune_Broad_B-chr11:75988912-75989088     0.006439   \n",
       "\n",
       "ref_celltype                              immune_dend_plus_macro_plus_mono  \\\n",
       "region_id                                                                    \n",
       "Immune_Broad_B-chr1:1114772-1114971                               0.012992   \n",
       "Immune_Broad_B-chr10:45390756-45390847                            0.007154   \n",
       "Immune_Broad_B-chr10:126289835-126290065                          0.009761   \n",
       "Immune_Broad_B-chr10:126290368-126290506                          0.013708   \n",
       "Immune_Broad_B-chr11:75988912-75989088                            0.003429   \n",
       "\n",
       "ref_celltype                              immune_eosi  immune_neutro  \\\n",
       "region_id                                                              \n",
       "Immune_Broad_B-chr1:1114772-1114971          0.005208       0.002255   \n",
       "Immune_Broad_B-chr10:45390756-45390847       0.000000       0.008713   \n",
       "Immune_Broad_B-chr10:126289835-126290065     0.000000       0.003088   \n",
       "Immune_Broad_B-chr10:126290368-126290506     0.048423       0.001361   \n",
       "Immune_Broad_B-chr11:75988912-75989088       0.000000       0.003071   \n",
       "\n",
       "ref_celltype                              immune_eryth  immune_mega  \\\n",
       "region_id                                                             \n",
       "Immune_Broad_B-chr1:1114772-1114971           0.013889     0.012048   \n",
       "Immune_Broad_B-chr10:45390756-45390847        0.064953     0.021491   \n",
       "Immune_Broad_B-chr10:126289835-126290065      0.000000     0.005155   \n",
       "Immune_Broad_B-chr10:126290368-126290506      0.009259     0.000000   \n",
       "Immune_Broad_B-chr11:75988912-75989088        0.008475     0.007576   \n",
       "\n",
       "ref_celltype                              eryth_prog  \n",
       "region_id                                             \n",
       "Immune_Broad_B-chr1:1114772-1114971         0.030417  \n",
       "Immune_Broad_B-chr10:45390756-45390847      0.206392  \n",
       "Immune_Broad_B-chr10:126289835-126290065    0.055057  \n",
       "Immune_Broad_B-chr10:126290368-126290506    0.031746  \n",
       "Immune_Broad_B-chr11:75988912-75989088      0.113996  "
      ]
     },
     "execution_count": 96,
     "metadata": {},
     "output_type": "execute_result"
    }
   ],
   "source": [
    "atlas.head()"
   ]
  },
  {
   "cell_type": "code",
   "execution_count": 97,
   "metadata": {},
   "outputs": [
    {
     "data": {
      "text/plain": [
       "<seaborn.matrix.ClusterGrid at 0x7fd8a90c3290>"
      ]
     },
     "execution_count": 97,
     "metadata": {},
     "output_type": "execute_result"
    },
    {
     "data": {
      "image/png": "[encoded data removed]",
      "text/plain": [
       "<Figure size 720x720 with 4 Axes>"
      ]
     },
     "metadata": {},
     "output_type": "display_data"
    }
   ],
   "source": [
    "sns.clustermap(atlas, row_cluster=False, col_cluster=False)"
   ]
  },
  {
   "cell_type": "code",
   "execution_count": 98,
   "metadata": {
    "tags": []
   },
   "outputs": [
    {
     "data": {
      "image/png": "[encoded data removed]",
      "text/plain": [
       "<Figure size 864x432 with 1 Axes>"
      ]
     },
     "metadata": {},
     "output_type": "display_data"
    }
   ],
   "source": [
    "import pandas as pd\n",
    "import seaborn as sns\n",
    "import matplotlib.pyplot as plt\n",
    "\n",
    "sns.set_style(\"whitegrid\")\n",
    "\n",
    "# Assuming df is your DataFrame\n",
    "# df = pd.DataFrame({...})\n",
    "\n",
    "plt.figure(figsize=(12, 6))  # Adjust as necessary\n",
    "\n",
    "# The following line does the actual plotting\n",
    "# It loops over each column in your DataFrame and adds a violin plot for it\n",
    "sns.boxplot(data=atlas)\n",
    "\n",
    "plt.xticks(rotation=90)  # Rotates X-axis labels if they overlap\n",
    "plt.title(\"Violin plots of DataFrame columns\")  # You can customize title here\n",
    "plt.show()\n",
    "\n",
    "# plot mean, median, variance more clearly, plot mean vs variance "
   ]
  },
  {
   "cell_type": "code",
   "execution_count": null,
   "metadata": {},
   "outputs": [],
   "source": []
  },
  {
   "cell_type": "code",
   "execution_count": 137,
   "metadata": {
    "tags": []
   },
   "outputs": [
    {
     "data": {
      "image/png": "[encoded data removed]",
      "text/plain": [
       "<Figure size 864x576 with 1 Axes>"
      ]
     },
     "metadata": {},
     "output_type": "display_data"
    }
   ],
   "source": [
    "sns.set_context(\"talk\")\n",
    "\n",
    "dfs = []\n",
    "cell_types = atlas.columns\n",
    "\n",
    "for celltype in cell_types:\n",
    "\n",
    "    celltype_specific_regions = ref_region_df[ref_region_df['ref_celltype'] == celltype]['region_id']\n",
    "    atlas_subset = atlas[atlas.index.isin(celltype_specific_regions)]\n",
    "    dfs.append(atlas_subset[celltype])\n",
    "\n",
    "\n",
    "concatenated_df = pd.concat(\n",
    "    [pd.DataFrame({'score': df, 'cell type': label}) for df, label in zip(dfs, cell_types)],\n",
    "    ignore_index=True\n",
    ")\n",
    "\n",
    "plt.figure(figsize=(12, 8))\n",
    "sns.boxplot(x='cell type', y='score', data=concatenated_df)\n",
    "plt.xticks(rotation=90)\n",
    "plt.title('Boxplots of cell type specific region scores by cell type')\n",
    "plt.show()"
   ]
  },
  {
   "cell_type": "code",
   "execution_count": 108,
   "metadata": {
    "tags": []
   },
   "outputs": [
    {
     "data": {
      "text/html": [
       "<div>\n",
       "<style scoped>\n",
       "    .dataframe tbody tr th:only-of-type {\n",
       "        vertical-align: middle;\n",
       "    }\n",
       "\n",
       "    .dataframe tbody tr th {\n",
       "        vertical-align: top;\n",
       "    }\n",
       "\n",
       "    .dataframe thead th {\n",
       "        text-align: right;\n",
       "    }\n",
       "</style>\n",
       "<table border=\"1\" class=\"dataframe\">\n",
       "  <thead>\n",
       "    <tr style=\"text-align: right;\">\n",
       "      <th></th>\n",
       "      <th>ref_celltype</th>\n",
       "      <th>region_id</th>\n",
       "      <th>target_celltype</th>\n",
       "    </tr>\n",
       "  </thead>\n",
       "  <tbody>\n",
       "    <tr>\n",
       "      <th>0</th>\n",
       "      <td>immune_b</td>\n",
       "      <td>Immune_Broad_B-chr1:1114772-1114971</td>\n",
       "      <td>Immune_Broad_B</td>\n",
       "    </tr>\n",
       "    <tr>\n",
       "      <th>1</th>\n",
       "      <td>immune_b</td>\n",
       "      <td>Immune_Broad_B-chr10:45390756-45390847</td>\n",
       "      <td>Immune_Broad_B</td>\n",
       "    </tr>\n",
       "    <tr>\n",
       "      <th>2</th>\n",
       "      <td>immune_b</td>\n",
       "      <td>Immune_Broad_B-chr10:126289835-126290065</td>\n",
       "      <td>Immune_Broad_B</td>\n",
       "    </tr>\n",
       "    <tr>\n",
       "      <th>3</th>\n",
       "      <td>immune_b</td>\n",
       "      <td>Immune_Broad_B-chr10:126290368-126290506</td>\n",
       "      <td>Immune_Broad_B</td>\n",
       "    </tr>\n",
       "    <tr>\n",
       "      <th>4</th>\n",
       "      <td>immune_b</td>\n",
       "      <td>Immune_Broad_B-chr11:75988912-75989088</td>\n",
       "      <td>Immune_Broad_B</td>\n",
       "    </tr>\n",
       "  </tbody>\n",
       "</table>\n",
       "</div>"
      ],
      "text/plain": [
       "  ref_celltype                                 region_id target_celltype\n",
       "0     immune_b       Immune_Broad_B-chr1:1114772-1114971  Immune_Broad_B\n",
       "1     immune_b    Immune_Broad_B-chr10:45390756-45390847  Immune_Broad_B\n",
       "2     immune_b  Immune_Broad_B-chr10:126289835-126290065  Immune_Broad_B\n",
       "3     immune_b  Immune_Broad_B-chr10:126290368-126290506  Immune_Broad_B\n",
       "4     immune_b    Immune_Broad_B-chr11:75988912-75989088  Immune_Broad_B"
      ]
     },
     "execution_count": 108,
     "metadata": {},
     "output_type": "execute_result"
    }
   ],
   "source": [
    "ref_region_df[ref_region_df['ref_celltype'] == 'immune_b'].head()"
   ]
  },
  {
   "cell_type": "code",
   "execution_count": 104,
   "metadata": {
    "tags": []
   },
   "outputs": [
    {
     "data": {
      "image/png": "[encoded data removed]",
      "text/plain": [
       "<Figure size 864x432 with 1 Axes>"
      ]
     },
     "metadata": {},
     "output_type": "display_data"
    }
   ],
   "source": [
    "\n",
    "sns.set_style(\"whitegrid\")\n",
    "\n",
    "# Initialize a DataFrame to hold your results\n",
    "atlas_no_outliers = pd.DataFrame()\n",
    "\n",
    "# Iterate over each column in your DataFrame\n",
    "for col in atlas.columns:\n",
    "    Q1 = atlas[col].quantile(0.25)\n",
    "    Q3 = atlas[col].quantile(0.75)\n",
    "    IQR = Q3 - Q1\n",
    "\n",
    "    # Define the criteria for a \"non-outlier\" in this column\n",
    "    non_outliers = (atlas[col] >= Q1 - 1.5*IQR) & (atlas[col] <= Q3 + 1.5*IQR)\n",
    "\n",
    "    # Add the non-outliers of this column to your new DataFrame\n",
    "    atlas_no_outliers[col] = atlas[col][non_outliers]\n",
    "\n",
    "# Assuming df is your DataFrame\n",
    "# df = pd.DataFrame({...})\n",
    "\n",
    "plt.figure(figsize=(12, 6))  # Adjust as necessary\n",
    "\n",
    "# The following line does the actual plotting\n",
    "# It loops over each column in your DataFrame and adds a violin plot for it\n",
    "sns.boxplot(data=atlas, showfliers=False)\n",
    "\n",
    "for i, column in enumerate(atlas.columns):\n",
    "    plt.scatter(i, atlas_no_outliers[column].mean(), color='white', s=50) \n",
    "\n",
    "plt.ylim(0, 0.25)\n",
    "plt.xticks(rotation=90)  # Rotates X-axis labels if they overlap\n",
    "plt.title(\"Box plots of scores by region\")  \n",
    "plt.show()\n",
    "\n",
    "# plot mean, median, variance more clearly, plot mean vs variance "
   ]
  },
  {
   "cell_type": "code",
   "execution_count": 35,
   "metadata": {
    "tags": []
   },
   "outputs": [
    {
     "data": {
      "image/png": "[encoded data removed]",
      "text/plain": [
       "<Figure size 720x432 with 1 Axes>"
      ]
     },
     "metadata": {},
     "output_type": "display_data"
    }
   ],
   "source": [
    "# Initialize a DataFrame to hold your results\n",
    "atlas_no_outliers = pd.DataFrame()\n",
    "\n",
    "# Iterate over each column in your DataFrame\n",
    "for col in atlas.columns:\n",
    "    Q1 = atlas[col].quantile(0.25)\n",
    "    Q3 = atlas[col].quantile(0.75)\n",
    "    IQR = Q3 - Q1\n",
    "\n",
    "    # Define the criteria for a \"non-outlier\" in this column\n",
    "    non_outliers = (atlas[col] >= Q1 - 1.5*IQR) & (atlas[col] <= Q3 + 1.5*IQR)\n",
    "\n",
    "    # Add the non-outliers of this column to your new DataFrame\n",
    "    atlas_no_outliers[col] = atlas[col][non_outliers]\n",
    "\n",
    "# Now you can calculate the mean and variance of each column, excluding outliers\n",
    "means = atlas_no_outliers.mean()\n",
    "variances = atlas_no_outliers.var()\n",
    "\n",
    "# Create a new DataFrame with means and variances\n",
    "df_mean_variance = pd.DataFrame({'mean': means, 'variance': variances, 'celltype':['immune_b', \n",
    "                                                                                    'immune_cd4',\n",
    "                                                                                    'immune_cd8', \n",
    "                                                                                    'immune_nk',\n",
    "                                                                                    'immune_dend_plus_macro_plus_mono', \n",
    "                                                                                    'immune_eosi',\n",
    "                                                                                    'immune_neutro',\n",
    "                                                                                    'immune_eryth',\n",
    "                                                                                    'immune_mega',\n",
    "                                                                                    'eryth_prog']})\n",
    "\n",
    "# Reset index to get columns as a field\n",
    "df_mean_variance.reset_index(inplace=True)\n",
    "\n",
    "# Use seaborn to create a scatterplot with different colors for each column\n",
    "plt.figure(figsize=(10, 6))\n",
    "sns.scatterplot(x='mean', y='variance', hue='celltype', data=df_mean_variance, palette='Set1', s=50,  edgecolor='black')\n",
    "\n",
    "plt.title('Mean vs Variance (excluding outlier)')\n",
    "plt.xlabel('Mean')\n",
    "plt.ylabel('Variance')\n",
    "plt.legend(bbox_to_anchor=(1.05, 1), loc='upper left')\n",
    "plt.show()"
   ]
  },
  {
   "cell_type": "code",
   "execution_count": null,
   "metadata": {},
   "outputs": [],
   "source": []
  },
  {
   "cell_type": "markdown",
   "metadata": {},
   "source": [
    "## SVD Decomposition of Atlas"
   ]
  },
  {
   "cell_type": "code",
   "execution_count": 36,
   "metadata": {},
   "outputs": [
    {
     "data": {
      "text/plain": [
       "array([8.24651413, 7.03310886, 6.29316158, 6.19974738, 5.20283793,\n",
       "       4.5209702 , 3.48517265, 2.44202821, 1.91181217, 1.27397217])"
      ]
     },
     "execution_count": 36,
     "metadata": {},
     "output_type": "execute_result"
    }
   ],
   "source": [
    "u, s, v = np.linalg.svd(atlas, compute_uv=True, full_matrices=False)\n",
    "s"
   ]
  },
  {
   "cell_type": "markdown",
   "metadata": {},
   "source": [
    "## Write Out"
   ]
  },
  {
   "cell_type": "markdown",
   "metadata": {},
   "source": [
    "Reference atlas."
   ]
  },
  {
   "cell_type": "code",
   "execution_count": 37,
   "metadata": {},
   "outputs": [],
   "source": [
    "ofile = RESULTS_PATH + '.tsplit.atlas.tsv.gz'\n",
    "rv = atlas.reset_index()\n",
    "rv.to_csv(ofile, sep='\\t', header=True, index=False)"
   ]
  },
  {
   "cell_type": "markdown",
   "metadata": {},
   "source": [
    "Region to reference cell type mapping."
   ]
  },
  {
   "cell_type": "code",
   "execution_count": 38,
   "metadata": {},
   "outputs": [],
   "source": [
    "ofile = RESULTS_PATH + '.tsplit.region_to_ref_celltype.tsv.gz'\n",
    "rv = ref_region_df[['region_id', 'ref_celltype']].copy()\n",
    "rv.to_csv(ofile, sep='\\t', header=True, index=False)"
   ]
  },
  {
   "cell_type": "markdown",
   "metadata": {},
   "source": [
    "Sample to reference cell type mapping."
   ]
  },
  {
   "cell_type": "code",
   "execution_count": 39,
   "metadata": {},
   "outputs": [],
   "source": [
    "ofile = RESULTS_PATH + '.tsplit.sample_to_ref_celltype.tsv.gz'\n",
    "rv = ref_sample_df[['sample_id', 'ref_celltype']].copy()\n",
    "rv.to_csv(ofile, sep='\\t', header=True, index=False)"
   ]
  },
  {
   "cell_type": "code",
   "execution_count": null,
   "metadata": {},
   "outputs": [],
   "source": []
  }
 ],
 "metadata": {
  "kernelspec": {
   "display_name": "Python 3",
   "language": "python",
   "name": "python3"
  },
  "language_info": {
   "codemirror_mode": {
    "name": "ipython",
    "version": 3
   },
   "file_extension": ".py",
   "mimetype": "text/x-python",
   "name": "python",
   "nbconvert_exporter": "python",
   "pygments_lexer": "ipython3",
   "version": "3.7.8"
  },
  "toc": {
   "base_numbering": 1,
   "nav_menu": {},
   "number_sections": true,
   "sideBar": true,
   "skip_h1_title": true,
   "title_cell": "Table of Contents",
   "title_sidebar": "Contents",
   "toc_cell": true,
   "toc_position": {
    "height": "calc(100% - 180px)",
    "left": "10px",
    "top": "150px",
    "width": "351.6px"
   },
   "toc_section_display": true,
   "toc_window_display": true
  },
  "toc-autonumbering": true,
  "toc-showtags": false
 },
 "nbformat": 4,
 "nbformat_minor": 4
}
