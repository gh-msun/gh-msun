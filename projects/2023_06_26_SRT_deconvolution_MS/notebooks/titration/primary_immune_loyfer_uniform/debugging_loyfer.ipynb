{
 "cells": [
  {
   "cell_type": "markdown",
   "id": "a7d354a4",
   "metadata": {
    "papermill": {
     "duration": 0.005706,
     "end_time": "2023-08-02T17:53:25.584957",
     "exception": false,
     "start_time": "2023-08-02T17:53:25.579251",
     "status": "completed"
    },
    "tags": []
   },
   "source": [
    "# Debugging loyfer"
   ]
  },
  {
   "cell_type": "code",
   "execution_count": 1,
   "id": "b6e8680a",
   "metadata": {
    "papermill": {
     "duration": 0.011276,
     "end_time": "2023-08-02T17:53:25.601345",
     "exception": false,
     "start_time": "2023-08-02T17:53:25.590069",
     "status": "completed"
    },
    "tags": [
     "parameters"
    ]
   },
   "outputs": [],
   "source": [
    "# #############################\n",
    "# #   Experiment parameters   #\n",
    "# #############################\n",
    "# ROOT_DIR = '/analysis/gh-msun/'\n",
    "# PROJECT_SLUG = '2023_06_26_SRT_deconvolution_MS'\n",
    "# EXPERIMENT = 'primary_immune'\n",
    "# TITRATING_CELLTYPE = 'Blueprint-B'\n",
    "# TITRATING_CELLTYPE_ATLAS = 'immune_b' # cell type name in atlas different\n",
    "# BACKGROUND = 'wholeblood' # background: uniform / wholeblood \n",
    "# N_REPLICATES = 2 # number of replicates for each mixture\n",
    "# SEED = 888 # need to change for different experiment\n",
    "# TOTAL_READS_TO_SAMPLE = 1000000\n",
    "\n",
    "# # make sure the orders of the two list match\n",
    "# CELLTYPES = ['Blueprint-CD4', 'Blueprint-CD8', 'Blueprint-B', 'Blueprint-NK', 'Blueprint-Mono', 'Blueprint-Neutro']\n",
    "# ABRIDGED_NAMES = ['CD4', 'CD8', 'B', 'NK', 'MONO', 'NEUTRO'] # for directory name\n",
    "\n",
    "# # TITRATION_LIST = [0.2, 0.15, 0.10, 0.08, 0.06, 0.04, 0.02, 0.01, \n",
    "# #                   0.008, 0.006, 0.004, 0.002, 0.001, 0]\n",
    "# TITRATION_LIST=[0.2, 0.15]\n",
    "\n",
    "# # proportion of cells in real whole blood (sum to 1)\n",
    "# WHOLE_BLOOD_ABUNDANCE = {'Blueprint-B':0.06,\n",
    "#                          'Blueprint-Mono':0.09,\n",
    "#                          'Blueprint-Neutro':0.57,\n",
    "#                          'Blueprint-CD4':0.16,\n",
    "#                          'Blueprint-CD8':0.07,\n",
    "#                          'Blueprint-NK':0.05}\n",
    "    "
   ]
  },
  {
   "cell_type": "code",
   "execution_count": 2,
   "id": "9ab65fbf",
   "metadata": {
    "papermill": {
     "duration": 0.010145,
     "end_time": "2023-08-02T17:53:25.616684",
     "exception": false,
     "start_time": "2023-08-02T17:53:25.606539",
     "status": "completed"
    },
    "tags": [
     "injected-parameters"
    ]
   },
   "outputs": [],
   "source": [
    "# Parameters\n",
    "ROOT_DIR = \"/analysis/gh-msun/\"\n",
    "PROJECT_SLUG = \"2023_06_26_SRT_deconvolution_MS\"\n",
    "EXPERIMENT = \"primary_immune_loyfer\"\n",
    "TITRATING_CELLTYPE = \"Blood-T\"\n",
    "TITRATING_CELLTYPE_ATLAS = \"immune_t\"\n",
    "BACKGROUND = \"uniform\"\n",
    "N_REPLICATES = 3\n",
    "SEED = 83723\n",
    "TOTAL_READS_TO_SAMPLE = 1000000\n",
    "# CELLTYPES = [\"Blood-B\", \"Blood-T\", \"Blood-Mono+Macro\"]\n",
    "# ABRIDGED_NAMES = [\"B\", \"T\", \"MONOMACRO\"]\n",
    "CELLTYPES = [\"Blood-B\", \"Blood-T\", \"Blood-Mono+Macro\", \"Blood-NK\"]\n",
    "ABRIDGED_NAMES = [\"B\", \"T\", \"MONOMACRO\", \"NK\"]\n",
    "# CELLTYPES = ['Blueprint-NK', 'Blueprint-B', 'Blueprint-CD4', 'Blueprint-CD8', 'Blueprint-Mono', 'Blueprint-Neutro']\n",
    "# ABRIDGED_NAMES = ['NK', 'B', 'CD4', 'CD8', 'MONO', 'NEUTRO'] # for directory name\n",
    "TITRATION_LIST = [0.2, 0.01, 0]\n",
    "WHOLE_BLOOD_ABUNDANCE = {\"Blueprint-B\": 0.06, \"Blueprint-Mono\": 0.09, \"Blueprint-Neutro\": 0.57, \"Blueprint-CD4\": 0.16, \"Blueprint-CD8\": 0.07, \"Blueprint-NK\": 0.05}\n"
   ]
  },
  {
   "cell_type": "code",
   "execution_count": 3,
   "id": "f84b0c58",
   "metadata": {
    "papermill": {
     "duration": 3.567996,
     "end_time": "2023-08-02T17:53:29.188765",
     "exception": false,
     "start_time": "2023-08-02T17:53:25.620769",
     "status": "completed"
    },
    "tags": []
   },
   "outputs": [
    {
     "name": "stderr",
     "output_type": "stream",
     "text": [
      "/home/ec2-user/mambaforge/envs/2023_06_26_SRT_deconvolution_MS/lib/python3.7/site-packages/pyspark/context.py:317: FutureWarning: Python 3.7 support is deprecated in Spark 3.4.\n",
      "  warnings.warn(\"Python 3.7 support is deprecated in Spark 3.4.\", FutureWarning)\n"
     ]
    }
   ],
   "source": [
    "import glob\n",
    "import numpy as np\n",
    "import pandas as pd\n",
    "import seaborn as sns\n",
    "import matplotlib.pyplot as plt\n",
    "import itertools\n",
    "import functools\n",
    "import os\n",
    "import regex as re\n",
    "import random\n",
    "import importlib\n",
    "import sys\n",
    "\n",
    "from pyspark.sql import SparkSession\n",
    "from pyspark import SparkConf, SparkContext\n",
    "from pyspark.sql.types import IntegerType, LongType, ArrayType, StringType, DoubleType\n",
    "from pyspark.sql.functions import udf, explode, broadcast, count, lit, length, col\n",
    "from pyspark.sql import DataFrame\n",
    "from pyspark.sql.types import StructType\n",
    "\n",
    "# UPDATE HOME!\n",
    "os.environ[\"SPARK_HOME\"] = \"/home/ec2-user/mambaforge/envs/2023_06_26_SRT_deconvolution_MS/lib/python3.7/site-packages/pyspark\"\n",
    "# THIS needs to be set-up before running the notebook\n",
    "os.environ[\"SPARK_LOCAL_DIRS\"] = \"/temp\"\n",
    "os.environ[\"PYARROW_IGNORE_TIMEZONE\"] = \"1\"\n",
    "\n",
    "spark_conf = SparkConf()\n",
    "spark_conf.set(\"spark.ui.showConsoleProgress\", \"True\")\n",
    "spark_conf.set(\"spark.executor.instances\", \"2\")\n",
    "spark_conf.set(\"spark.executor.cores\", \"2\")\n",
    "spark_conf.set(\"spark.executor.memory\", \"16g\")\n",
    "spark_conf.set(\"spark.driver.memory\", \"64g\")\n",
    "spark_conf.set(\"spark.driver.maxResultSize\", \"32g\")\n",
    "spark_conf.set(\"spark.parquet.filterPushdown\", \"true\")\n",
    "spark_conf.set(\"spark.local.dir\", \"/temp\")\n",
    "spark_conf.getAll()\n",
    "\n",
    "sc = SparkContext(conf=spark_conf)\n",
    "sc.setLogLevel(\"ERROR\")\n",
    "spark = SparkSession(sc)\n",
    "\n",
    "pd.set_option('display.max_rows', 500)\n",
    "pd.set_option('display.max_columns', 500)\n",
    "pd.set_option('display.width', 1000)\n",
    "sns.set_context('talk')"
   ]
  },
  {
   "cell_type": "code",
   "execution_count": 4,
   "id": "df25c2a4",
   "metadata": {
    "papermill": {
     "duration": 0.556152,
     "end_time": "2023-08-02T17:53:29.750093",
     "exception": false,
     "start_time": "2023-08-02T17:53:29.193941",
     "status": "completed"
    },
    "tags": []
   },
   "outputs": [],
   "source": [
    "#---Local paths---#\n",
    "PROJECT_DIR = ROOT_DIR + f'projects/{PROJECT_SLUG}/'\n",
    "\n",
    "#---Load all custom scripts---#\n",
    "SCRIPT_DIR = PROJECT_DIR + 'scripts/'\n",
    "sys.path.append(SCRIPT_DIR)\n",
    "\n",
    "import create_mixture as cm\n",
    "import score_matrix as sm\n",
    "import deconvolution as dcnv\n",
    "import helper as hlpr\n",
    "\n",
    "pd.set_option('display.max_rows', 500)\n",
    "pd.set_option('display.max_columns', 500)\n",
    "pd.set_option('display.width', 1000)"
   ]
  },
  {
   "cell_type": "code",
   "execution_count": 134,
   "id": "5fe9c29e",
   "metadata": {
    "papermill": {
     "duration": 0.012164,
     "end_time": "2023-08-02T17:53:29.767521",
     "exception": false,
     "start_time": "2023-08-02T17:53:29.755357",
     "status": "completed"
    },
    "tags": []
   },
   "outputs": [
    {
     "data": {
      "text/plain": [
       "<module 'helper' from '/analysis/gh-msun/projects/2023_06_26_SRT_deconvolution_MS/scripts/helper.py'>"
      ]
     },
     "execution_count": 134,
     "metadata": {},
     "output_type": "execute_result"
    }
   ],
   "source": [
    "importlib.reload(cm)\n",
    "importlib.reload(sm)\n",
    "importlib.reload(dcnv)\n",
    "importlib.reload(hlpr)"
   ]
  },
  {
   "cell_type": "code",
   "execution_count": 6,
   "id": "d770e915",
   "metadata": {
    "papermill": {
     "duration": 0.011874,
     "end_time": "2023-08-02T17:53:29.783855",
     "exception": false,
     "start_time": "2023-08-02T17:53:29.771981",
     "status": "completed"
    },
    "tags": []
   },
   "outputs": [
    {
     "data": {
      "text/plain": [
       "[0.2, 0.26666666666666666, 0.26666666666666666, 0.26666666666666666]"
      ]
     },
     "execution_count": 6,
     "metadata": {},
     "output_type": "execute_result"
    }
   ],
   "source": [
    "#################################\n",
    "#   Set titration proportions   #\n",
    "#################################\n",
    "\n",
    "# Reorder such that the titrating cell type comes first\n",
    "CELLTYPES_unordered = CELLTYPES.copy()\n",
    "CELLTYPES = hlpr.titration_reordering(list_of_cell_types=CELLTYPES, \n",
    "                                      titrating_cell_type=TITRATING_CELLTYPE)\n",
    "\n",
    "# Reorder abridged name\n",
    "ABRIDGED_NAMES = hlpr.reorder_abridged_name(unordered_celltypes=CELLTYPES_unordered,\n",
    "                                            ordered_celltypes=CELLTYPES,\n",
    "                                            unordered_abridged_names=ABRIDGED_NAMES)\n",
    "    \n",
    "# set titration proportions\n",
    "if BACKGROUND == 'uniform':\n",
    "    PROPORTIONS = hlpr.generate_uniform_background_proportions(titration_list=TITRATION_LIST, \n",
    "                                                               cell_types=CELLTYPES)\n",
    "\n",
    "if BACKGROUND == 'wholeblood':\n",
    "    PROPORTIONS = hlpr.generate_custom_background_proportions(titration_list=TITRATION_LIST, \n",
    "                                                              custom_proportion=WHOLE_BLOOD_ABUNDANCE, \n",
    "                                                              list_of_celltypes=CELLTYPES, \n",
    "                                                              titrating_celltype=TITRATING_CELLTYPE)\n",
    "\n",
    "PROPORTIONS[0]    "
   ]
  },
  {
   "cell_type": "markdown",
   "id": "abd46596",
   "metadata": {
    "papermill": {
     "duration": 0.004573,
     "end_time": "2023-08-02T17:53:29.792863",
     "exception": false,
     "start_time": "2023-08-02T17:53:29.788290",
     "status": "completed"
    },
    "tags": []
   },
   "source": [
    "## Create mixture"
   ]
  },
  {
   "cell_type": "code",
   "execution_count": 7,
   "id": "fba5140e",
   "metadata": {
    "papermill": {
     "duration": 0.009077,
     "end_time": "2023-08-02T17:53:29.806402",
     "exception": false,
     "start_time": "2023-08-02T17:53:29.797325",
     "status": "completed"
    },
    "tags": []
   },
   "outputs": [],
   "source": [
    "############################\n",
    "#   Parameters and paths   # \n",
    "############################\n",
    "EXPERIMENT_DIR = PROJECT_DIR + f'output/experiment/{EXPERIMENT}/'\n",
    "EXPERIMENT_NAME = f'{TITRATING_CELLTYPE}-{BACKGROUND}/'\n",
    "PARQUET_PATH = PROJECT_DIR + 'output/mixture_source/'\n",
    "EXPERIMENT_CELLTYPE_DIR = EXPERIMENT_DIR + f'{EXPERIMENT_NAME}/'\n",
    "RESULT_PATH = EXPERIMENT_CELLTYPE_DIR + 'mixture/'\n"
   ]
  },
  {
   "cell_type": "code",
   "execution_count": 8,
   "id": "589dd2b9",
   "metadata": {
    "papermill": {
     "duration": 8.576255,
     "end_time": "2023-08-02T17:53:38.387205",
     "exception": false,
     "start_time": "2023-08-02T17:53:29.810950",
     "status": "completed"
    },
    "tags": []
   },
   "outputs": [
    {
     "name": "stdout",
     "output_type": "stream",
     "text": [
      ">>> Load parquet files and count rows... <<<\n",
      "----------> Loading cell type: Blood-T\n",
      "----------> Loading cell type: Blood-B\n",
      "----------> Loading cell type: Blood-Mono+Macro\n",
      "----------> Loading cell type: Blood-NK\n",
      ">>> Complete. <<< \n",
      "\n",
      ">>> Start mixing... <<<\n",
      "--> PROPORTION: [0.2, 0.26666666666666666, 0.26666666666666666, 0.26666666666666666]\n",
      "----------> Creating mixture 0... \n",
      "----------> Creating mixture 1... \n",
      "----------> Creating mixture 2... \n",
      "--> PROPORTION: [0.01, 0.33, 0.33, 0.33]\n",
      "----------> Creating mixture 0... \n",
      "----------> Creating mixture 1... \n",
      "----------> Creating mixture 2... \n",
      "--> PROPORTION: [0, 0.3333333333333333, 0.3333333333333333, 0.3333333333333333]\n",
      "----------> Creating mixture 0... \n",
      "----------> Creating mixture 1... \n",
      "----------> Creating mixture 2... \n",
      ">>> Complete. <<< \n",
      "\n",
      "CPU times: user 54.4 ms, sys: 415 µs, total: 54.8 ms\n",
      "Wall time: 41.7 s\n"
     ]
    }
   ],
   "source": [
    "%%time\n",
    "# load parquet files for each celltype & count rows\n",
    "parquet_df, total_reads_per_celltype = cm.load_parquet_dataframe(parquet_path=PARQUET_PATH,\n",
    "                                                                  cell_types=CELLTYPES,\n",
    "                                                                  spark=spark,\n",
    "                                                                  verbose=True)\n",
    "\n",
    "# mix cell types for each proportion set\n",
    "cm.mix_celltypes_multiple_proportions(parquet_df=parquet_df,\n",
    "                                       total_reads_per_celltype=total_reads_per_celltype,\n",
    "                                    #    n=len(TITRATION_LIST), \n",
    "                                       n=N_REPLICATES,\n",
    "                                       cell_types=CELLTYPES, \n",
    "                                       cell_type_abridged_name=ABRIDGED_NAMES, \n",
    "                                       total_reads_to_sample=TOTAL_READS_TO_SAMPLE, \n",
    "                                       list_of_proportions=PROPORTIONS, \n",
    "                                       seed=SEED, \n",
    "                                       result_path=RESULT_PATH, \n",
    "                                       spark=spark,\n",
    "                                       verbose=False, \n",
    "                                       save=True)"
   ]
  },
  {
   "cell_type": "code",
   "execution_count": null,
   "id": "76e0409a-04a1-48f4-9aee-bad1b9a203ec",
   "metadata": {},
   "outputs": [],
   "source": []
  },
  {
   "cell_type": "markdown",
   "id": "80683010",
   "metadata": {
    "papermill": {
     "duration": 0.00532,
     "end_time": "2023-08-02T17:53:38.398483",
     "exception": false,
     "start_time": "2023-08-02T17:53:38.393163",
     "status": "completed"
    },
    "tags": []
   },
   "source": [
    "## Compute score matrix"
   ]
  },
  {
   "cell_type": "code",
   "execution_count": 9,
   "id": "a8eaa4d5",
   "metadata": {
    "papermill": {
     "duration": 0.010797,
     "end_time": "2023-08-02T17:53:38.414176",
     "exception": false,
     "start_time": "2023-08-02T17:53:38.403379",
     "status": "completed"
    },
    "tags": []
   },
   "outputs": [],
   "source": [
    "############################\n",
    "#   Parameters and paths   # \n",
    "############################\n",
    "\n",
    "FILTER_CG_COUNT = 3\n",
    "FILTER_CG_COUNT_REGION = 1\n",
    "\n",
    "REGIONS = 'deconvolution_v2.v23_conv.with_cpg_index'\n",
    "REGION_BED_COLS = [\n",
    "    'region_chr', 'region_start', 'region_end', \n",
    "    'region_cpg_index_min', 'region_cpg_index_max', 'region_id'\n",
    "]\n",
    "\n",
    "# Regions\n",
    "REGION_PATH = (\n",
    "    PROJECT_DIR + '/stage/panel_data/{regions}.bed'\n",
    ").format(regions=REGIONS)\n",
    "\n",
    "# CpG map; genomic coordinate to CpG index;\n",
    "CPG_MAP_PATH = PROJECT_DIR + '/stage/cpg_loci/cpg_loci_hg19.combined_annot.tsv.gz'\n",
    "\n",
    "#--- Where to store results\n",
    "PATH_TO_MIXTURE_DIR = EXPERIMENT_CELLTYPE_DIR + 'mixture/'\n",
    "RESULT_PATH = EXPERIMENT_CELLTYPE_DIR\n"
   ]
  },
  {
   "cell_type": "code",
   "execution_count": 10,
   "id": "23b73699",
   "metadata": {
    "papermill": {
     "duration": null,
     "end_time": null,
     "exception": false,
     "start_time": "2023-08-02T17:53:38.419043",
     "status": "running"
    },
    "tags": []
   },
   "outputs": [],
   "source": [
    "# cpg_map = pd.read_csv(CPG_MAP_PATH, usecols=['chr', 'start', 'end', 'cpg_index', 'cpg_index_hg38'], sep='\\t')"
   ]
  },
  {
   "cell_type": "code",
   "execution_count": 11,
   "id": "708a6487",
   "metadata": {
    "papermill": {
     "duration": null,
     "end_time": null,
     "exception": null,
     "start_time": null,
     "status": "pending"
    },
    "tags": []
   },
   "outputs": [],
   "source": [
    "%%time\n",
    "ridxs = ~cpg_map['cpg_index_hg38'].isna()\n",
    "hg19_hg38_map = dict(itertools.zip_longest(cpg_map[ridxs]['cpg_index'], cpg_map[ridxs]['cpg_index_hg38'].astype(int)))\n",
    "hg38_hg19_map = dict(itertools.zip_longest(cpg_map[ridxs]['cpg_index_hg38'].astype(int), cpg_map[ridxs]['cpg_index']))"
   ]
  },
  {
   "cell_type": "code",
   "execution_count": 12,
   "id": "83831b7c",
   "metadata": {
    "papermill": {
     "duration": null,
     "end_time": null,
     "exception": null,
     "start_time": null,
     "status": "pending"
    },
    "tags": []
   },
   "outputs": [
    {
     "data": {
      "text/plain": [
       "(1658, 1658)"
      ]
     },
     "execution_count": 12,
     "metadata": {},
     "output_type": "execute_result"
    }
   ],
   "source": [
    "region_df = pd.read_csv(REGION_PATH, sep='\\t', usecols=range(0, 6), names=REGION_BED_COLS)\n",
    "\n",
    "region_df['region_cpg_index_max'] -= 1\n",
    "region_df.sort_values('region_cpg_index_min', inplace=True)\n",
    "# region_df['region_cpg_index_min_hg38'] = region_df['region_cpg_index_min'].map(hg19_hg38_map)\n",
    "# region_df['region_cpg_index_max_hg38'] = region_df['region_cpg_index_max'].map(hg19_hg38_map)\n",
    "\n",
    "region_df.shape[0], region_df['region_id'].nunique()"
   ]
  },
  {
   "cell_type": "code",
   "execution_count": 13,
   "id": "c1df8ce6",
   "metadata": {
    "papermill": {
     "duration": null,
     "end_time": null,
     "exception": null,
     "start_time": null,
     "status": "pending"
    },
    "tags": []
   },
   "outputs": [],
   "source": [
    "# ridxs = ~region_df['region_cpg_index_min_hg38'].isna()\n",
    "# ridxs &= ~region_df['region_cpg_index_max_hg38'].isna()\n",
    "# region_df = region_df[ridxs].copy()\n",
    "# region_df.shape[0], region_df['region_id'].nunique()"
   ]
  },
  {
   "cell_type": "code",
   "execution_count": 14,
   "id": "2d02fff1",
   "metadata": {
    "papermill": {
     "duration": null,
     "end_time": null,
     "exception": null,
     "start_time": null,
     "status": "pending"
    },
    "tags": []
   },
   "outputs": [],
   "source": [
    "# cg_count_hg19 = region_df['region_cpg_index_max']-region_df['region_cpg_index_min'] + 1\n",
    "# cg_count_hg38 = region_df['region_cpg_index_max_hg38']-region_df['region_cpg_index_min_hg38'] + 1\n",
    "# ridxs = (cg_count_hg19==cg_count_hg38)\n",
    "# ridxs &= (cg_count_hg19>=FILTER_CG_COUNT_REGION)\n",
    "# region_df = region_df[ridxs].copy()\n",
    "# region_df.shape[0], region_df['region_id'].nunique()"
   ]
  },
  {
   "cell_type": "code",
   "execution_count": 15,
   "id": "ff567278",
   "metadata": {
    "papermill": {
     "duration": null,
     "end_time": null,
     "exception": null,
     "start_time": null,
     "status": "pending"
    },
    "tags": []
   },
   "outputs": [],
   "source": [
    "# region_df['region_cpg_index_min_hg38'] = region_df['region_cpg_index_min_hg38'].astype(int)\n",
    "# region_df['region_cpg_index_max_hg38'] = region_df['region_cpg_index_max_hg38'].astype(int)"
   ]
  },
  {
   "cell_type": "code",
   "execution_count": 16,
   "id": "a81e907b",
   "metadata": {
    "papermill": {
     "duration": null,
     "end_time": null,
     "exception": null,
     "start_time": null,
     "status": "pending"
    },
    "tags": []
   },
   "outputs": [
    {
     "data": {
      "text/html": [
       "<div>\n",
       "<style scoped>\n",
       "    .dataframe tbody tr th:only-of-type {\n",
       "        vertical-align: middle;\n",
       "    }\n",
       "\n",
       "    .dataframe tbody tr th {\n",
       "        vertical-align: top;\n",
       "    }\n",
       "\n",
       "    .dataframe thead th {\n",
       "        text-align: right;\n",
       "    }\n",
       "</style>\n",
       "<table border=\"1\" class=\"dataframe\">\n",
       "  <thead>\n",
       "    <tr style=\"text-align: right;\">\n",
       "      <th></th>\n",
       "      <th>region_chr</th>\n",
       "      <th>region_start</th>\n",
       "      <th>region_end</th>\n",
       "      <th>region_cpg_index_min</th>\n",
       "      <th>region_cpg_index_max</th>\n",
       "      <th>region_id</th>\n",
       "    </tr>\n",
       "  </thead>\n",
       "  <tbody>\n",
       "    <tr>\n",
       "      <th>0</th>\n",
       "      <td>chr1</td>\n",
       "      <td>1114771</td>\n",
       "      <td>1114971</td>\n",
       "      <td>20117</td>\n",
       "      <td>20129</td>\n",
       "      <td>Immune_Broad_B-chr1:1114772-1114971</td>\n",
       "    </tr>\n",
       "    <tr>\n",
       "      <th>1</th>\n",
       "      <td>chr1</td>\n",
       "      <td>1157450</td>\n",
       "      <td>1157720</td>\n",
       "      <td>21684</td>\n",
       "      <td>21703</td>\n",
       "      <td>Immune_Broad_NK-chr1:1157451-1157720</td>\n",
       "    </tr>\n",
       "    <tr>\n",
       "      <th>2</th>\n",
       "      <td>chr1</td>\n",
       "      <td>1157879</td>\n",
       "      <td>1158277</td>\n",
       "      <td>21710</td>\n",
       "      <td>21726</td>\n",
       "      <td>Immune_Broad_NK-chr1:1157880-1158277</td>\n",
       "    </tr>\n",
       "    <tr>\n",
       "      <th>14</th>\n",
       "      <td>chr1</td>\n",
       "      <td>6341182</td>\n",
       "      <td>6341377</td>\n",
       "      <td>140667</td>\n",
       "      <td>140681</td>\n",
       "      <td>Immune_Broad_Eosi-chr1:6341183-6341377</td>\n",
       "    </tr>\n",
       "    <tr>\n",
       "      <th>19</th>\n",
       "      <td>chr1</td>\n",
       "      <td>9147788</td>\n",
       "      <td>9147871</td>\n",
       "      <td>188605</td>\n",
       "      <td>188608</td>\n",
       "      <td>Immune_Broad_Neutro-chr1:9147789-9147871</td>\n",
       "    </tr>\n",
       "  </tbody>\n",
       "</table>\n",
       "</div>"
      ],
      "text/plain": [
       "   region_chr  region_start  region_end  region_cpg_index_min  region_cpg_index_max                                 region_id\n",
       "0        chr1       1114771     1114971                 20117                 20129       Immune_Broad_B-chr1:1114772-1114971\n",
       "1        chr1       1157450     1157720                 21684                 21703      Immune_Broad_NK-chr1:1157451-1157720\n",
       "2        chr1       1157879     1158277                 21710                 21726      Immune_Broad_NK-chr1:1157880-1158277\n",
       "14       chr1       6341182     6341377                140667                140681    Immune_Broad_Eosi-chr1:6341183-6341377\n",
       "19       chr1       9147788     9147871                188605                188608  Immune_Broad_Neutro-chr1:9147789-9147871"
      ]
     },
     "execution_count": 16,
     "metadata": {},
     "output_type": "execute_result"
    }
   ],
   "source": [
    "### Restrict to immune regions\n",
    "#-------------- CHANGE HERE FOR DIFFERENT REGION SUBSET ----------------------\n",
    "# BLUEPRINT immune regions\n",
    "ATLAS_PATH = PROJECT_DIR + f'/output/reference/deconv_inhouse_v2.atlas.tsv.gz'\n",
    "atlas = pd.read_csv(ATLAS_PATH, sep='\\t')\n",
    "subset_region_set = set(atlas.region_id)\n",
    "#-----------------------------------------------------------------------------\n",
    "\n",
    "# filter regions down to regions of interest\n",
    "region_df = region_df[region_df['region_id'].isin(subset_region_set)]\n",
    "region_df.head()"
   ]
  },
  {
   "cell_type": "code",
   "execution_count": 17,
   "id": "53f959d7",
   "metadata": {
    "papermill": {
     "duration": null,
     "end_time": null,
     "exception": null,
     "start_time": null,
     "status": "pending"
    },
    "tags": []
   },
   "outputs": [
    {
     "name": "stdout",
     "output_type": "stream",
     "text": [
      ">>> Start computing score matrices <<< \n",
      "\n",
      "--> E2T_E2667B_E2667MONOMACRO_E2667NK\n",
      "--------> Computing score matrix for mix0_seed470800\n",
      "--------> Computing score matrix for mix1_seed966852\n",
      "--------> Computing score matrix for mix2_seed995826\n",
      "\n",
      "\n",
      "--> E01T_E33B_E33MONOMACRO_E33NK\n",
      "--------> Computing score matrix for mix0_seed327469\n",
      "--------> Computing score matrix for mix1_seed942713\n",
      "--------> Computing score matrix for mix2_seed899730\n",
      "\n",
      "\n",
      "--> ET_E3333B_E3333MONOMACRO_E3333NK\n",
      "--------> Computing score matrix for mix0_seed997493\n",
      "--------> Computing score matrix for mix1_seed479596\n",
      "--------> Computing score matrix for mix2_seed228823\n",
      "\n",
      "\n",
      ">>> Complete. <<< \n",
      "\n",
      "CPU times: user 503 ms, sys: 54.2 ms, total: 557 ms\n",
      "Wall time: 1min 24s\n"
     ]
    }
   ],
   "source": [
    "%%time\n",
    "\n",
    "PAT_COLS = [\n",
    "    'molecule_id', 'chr', 'number_molecules',\n",
    "    'cpg_index_min', 'cpg_index_max', 'pat_string', 'region_id', 'region_cpg_index_min', 'region_cpg_index_max'\n",
    "]\n",
    "\n",
    "QUANTILES = [0.1, 0.25, 0.75, 0.9]\n",
    "KMERS = [1, 3, 4]\n",
    "RATES_LEQ = [0.25]\n",
    "RATES_GEQ = [0.75]\n",
    "\n",
    "RETURN_SCHEMA = StructType()\\\n",
    "    .add('region_id', 'string')\\\n",
    "    .add('number_molecules', 'integer')\\\n",
    "    .add('meth_k1', 'integer')\\\n",
    "    .add('unmeth_k1', 'integer')\\\n",
    "    .add('total_k1', 'integer')\\\n",
    "    .add('meth_k3', 'integer')\\\n",
    "    .add('unmeth_k3', 'integer')\\\n",
    "    .add('total_k3', 'integer')\\\n",
    "    .add('meth_k4', 'integer')\\\n",
    "    .add('unmeth_k4', 'integer')\\\n",
    "    .add('total_k4', 'integer')\\\n",
    "    .add('frac_alpha_leq_25pct', 'float')\\\n",
    "    .add('frac_alpha_geq_75pct', 'float')\n",
    "\n",
    "compute_frag_scores_udf = sm.compute_frag_scores(cpg_number_cutoff=FILTER_CG_COUNT, schema=RETURN_SCHEMA, kmers=KMERS, rates_leq=RATES_LEQ, rates_geq=RATES_GEQ)\n",
    "\n",
    "\n",
    "# compute methyl score for are parquet files\n",
    "sm.score_matrix_from_mixture_directory(path_to_mixture_dir = PATH_TO_MIXTURE_DIR, \n",
    "                                       result_path = RESULT_PATH, \n",
    "                                       pat_cols = PAT_COLS, \n",
    "                                       region_df = region_df, \n",
    "                                       batch_size = 20, \n",
    "                                       schema = RETURN_SCHEMA, \n",
    "                                       spark=spark,\n",
    "                                       compute_frag_scores_udf=compute_frag_scores_udf,\n",
    "                                       save=True, \n",
    "                                       verbose=False)"
   ]
  },
  {
   "cell_type": "markdown",
   "id": "2fc6d39d",
   "metadata": {
    "papermill": {
     "duration": null,
     "end_time": null,
     "exception": null,
     "start_time": null,
     "status": "pending"
    },
    "tags": []
   },
   "source": [
    "## Deconvolution"
   ]
  },
  {
   "cell_type": "code",
   "execution_count": 119,
   "id": "7a4dab3e",
   "metadata": {
    "papermill": {
     "duration": null,
     "end_time": null,
     "exception": null,
     "start_time": null,
     "status": "pending"
    },
    "tags": []
   },
   "outputs": [],
   "source": [
    "############################\n",
    "#   Parameters and paths   # \n",
    "############################\n",
    "\n",
    "FILTER_COV = 20\n",
    "\n",
    "SCORE_VAR = 'frac_alpha_leq_25pct'\n",
    "\n",
    "# Reference matrix\n",
    "ATLAS_PATH = PROJECT_DIR + 'output/reference/deconv_inhouse_v2.tsplit.atlas.tsv.gz'\n",
    "REGION_PATH = PROJECT_DIR + 'output/reference/deconv_inhouse_v2.tsplit.region_to_ref_celltype.tsv.gz'\n",
    "\n",
    "# Methylation score matrix\n",
    "SCORE_DIR = EXPERIMENT_CELLTYPE_DIR + 'methyl_score/'\n"
   ]
  },
  {
   "cell_type": "code",
   "execution_count": 120,
   "id": "60c79122-77f7-4d63-bf12-866a9ec57097",
   "metadata": {
    "tags": []
   },
   "outputs": [
    {
     "data": {
      "text/plain": [
       "'/analysis/gh-msun/projects/2023_06_26_SRT_deconvolution_MS/output/experiment/primary_immune_loyfer/Blood-T-uniform//methyl_score/'"
      ]
     },
     "execution_count": 120,
     "metadata": {},
     "output_type": "execute_result"
    }
   ],
   "source": [
    "SCORE_DIR"
   ]
  },
  {
   "cell_type": "code",
   "execution_count": 121,
   "id": "9a10352e",
   "metadata": {
    "papermill": {
     "duration": null,
     "end_time": null,
     "exception": null,
     "start_time": null,
     "status": "pending"
    },
    "tags": []
   },
   "outputs": [
    {
     "data": {
      "text/plain": [
       "(285, 10)"
      ]
     },
     "execution_count": 121,
     "metadata": {},
     "output_type": "execute_result"
    }
   ],
   "source": [
    "atlas = pd.read_csv(ATLAS_PATH, sep='\\t',index_col=None)\n",
    "atlas = atlas.set_index('region_id')\n",
    "atlas.columns.name = 'ref_celltype'\n",
    "atlas.shape\n",
    "\n",
    "ref_region_df = pd.read_csv(REGION_PATH, sep='\\t')\n",
    "\n",
    "atlas = atlas.loc[ref_region_df['region_id'], :].copy()\n",
    "atlas.shape"
   ]
  },
  {
   "cell_type": "code",
   "execution_count": 146,
   "id": "f6131208",
   "metadata": {
    "papermill": {
     "duration": null,
     "end_time": null,
     "exception": null,
     "start_time": null,
     "status": "pending"
    },
    "tags": []
   },
   "outputs": [
    {
     "name": "stdout",
     "output_type": "stream",
     "text": [
      "CPU times: user 153 ms, sys: 68 µs, total: 153 ms\n",
      "Wall time: 152 ms\n"
     ]
    }
   ],
   "source": [
    "%%time\n",
    "\n",
    "deconvolution_nnls = dcnv.compute_deconvolution_from_methyl_score_dir_nnls(path_to_methyl_score_dir=SCORE_DIR, \n",
    "                                                                          score_type=SCORE_VAR, \n",
    "                                                                          atlas=atlas, \n",
    "                                                                          match=False)\n",
    "\n",
    "deconvolution_naive = dcnv.compute_deconvolution_from_methyl_score_dir_naive(path_to_methyl_score_dir=SCORE_DIR, \n",
    "                                                                             filter_cov=FILTER_COV, \n",
    "                                                                             score_var=SCORE_VAR, \n",
    "                                                                             ref_region_df=ref_region_df)\n"
   ]
  },
  {
   "cell_type": "code",
   "execution_count": 147,
   "id": "cd619c0c-63d6-42f9-b854-523cc001ff7c",
   "metadata": {
    "tags": []
   },
   "outputs": [
    {
     "data": {
      "text/html": [
       "<div>\n",
       "<style scoped>\n",
       "    .dataframe tbody tr th:only-of-type {\n",
       "        vertical-align: middle;\n",
       "    }\n",
       "\n",
       "    .dataframe tbody tr th {\n",
       "        vertical-align: top;\n",
       "    }\n",
       "\n",
       "    .dataframe thead th {\n",
       "        text-align: right;\n",
       "    }\n",
       "</style>\n",
       "<table border=\"1\" class=\"dataframe\">\n",
       "  <thead>\n",
       "    <tr style=\"text-align: right;\">\n",
       "      <th></th>\n",
       "      <th>0</th>\n",
       "      <th>1</th>\n",
       "      <th>2</th>\n",
       "    </tr>\n",
       "    <tr>\n",
       "      <th>ref_celltype</th>\n",
       "      <th></th>\n",
       "      <th></th>\n",
       "      <th></th>\n",
       "    </tr>\n",
       "  </thead>\n",
       "  <tbody>\n",
       "    <tr>\n",
       "      <th>immune_b</th>\n",
       "      <td>0.144657</td>\n",
       "      <td>0.145761</td>\n",
       "      <td>0.144756</td>\n",
       "    </tr>\n",
       "    <tr>\n",
       "      <th>immune_cd4</th>\n",
       "      <td>0.026261</td>\n",
       "      <td>0.026336</td>\n",
       "      <td>0.021194</td>\n",
       "    </tr>\n",
       "    <tr>\n",
       "      <th>immune_cd8</th>\n",
       "      <td>0.074136</td>\n",
       "      <td>0.071720</td>\n",
       "      <td>0.077771</td>\n",
       "    </tr>\n",
       "    <tr>\n",
       "      <th>immune_nk</th>\n",
       "      <td>0.112523</td>\n",
       "      <td>0.113360</td>\n",
       "      <td>0.111967</td>\n",
       "    </tr>\n",
       "    <tr>\n",
       "      <th>immune_dend_plus_macro_plus_mono</th>\n",
       "      <td>0.086423</td>\n",
       "      <td>0.088962</td>\n",
       "      <td>0.084554</td>\n",
       "    </tr>\n",
       "    <tr>\n",
       "      <th>immune_eosi</th>\n",
       "      <td>0.002205</td>\n",
       "      <td>0.002097</td>\n",
       "      <td>0.002082</td>\n",
       "    </tr>\n",
       "    <tr>\n",
       "      <th>immune_neutro</th>\n",
       "      <td>0.006217</td>\n",
       "      <td>0.004769</td>\n",
       "      <td>0.005188</td>\n",
       "    </tr>\n",
       "    <tr>\n",
       "      <th>immune_eryth</th>\n",
       "      <td>0.000000</td>\n",
       "      <td>0.000000</td>\n",
       "      <td>0.000000</td>\n",
       "    </tr>\n",
       "    <tr>\n",
       "      <th>immune_mega</th>\n",
       "      <td>0.001947</td>\n",
       "      <td>0.000904</td>\n",
       "      <td>0.002516</td>\n",
       "    </tr>\n",
       "    <tr>\n",
       "      <th>eryth_prog</th>\n",
       "      <td>0.000000</td>\n",
       "      <td>0.000000</td>\n",
       "      <td>0.000000</td>\n",
       "    </tr>\n",
       "  </tbody>\n",
       "</table>\n",
       "</div>"
      ],
      "text/plain": [
       "                                         0         1         2\n",
       "ref_celltype                                                  \n",
       "immune_b                          0.144657  0.145761  0.144756\n",
       "immune_cd4                        0.026261  0.026336  0.021194\n",
       "immune_cd8                        0.074136  0.071720  0.077771\n",
       "immune_nk                         0.112523  0.113360  0.111967\n",
       "immune_dend_plus_macro_plus_mono  0.086423  0.088962  0.084554\n",
       "immune_eosi                       0.002205  0.002097  0.002082\n",
       "immune_neutro                     0.006217  0.004769  0.005188\n",
       "immune_eryth                      0.000000  0.000000  0.000000\n",
       "immune_mega                       0.001947  0.000904  0.002516\n",
       "eryth_prog                        0.000000  0.000000  0.000000"
      ]
     },
     "execution_count": 147,
     "metadata": {},
     "output_type": "execute_result"
    }
   ],
   "source": [
    "deconvolution_nnls[0]"
   ]
  },
  {
   "cell_type": "code",
   "execution_count": 148,
   "id": "4abd9565-4498-4228-8e29-e933887ee045",
   "metadata": {
    "tags": []
   },
   "outputs": [
    {
     "data": {
      "text/html": [
       "<div>\n",
       "<style scoped>\n",
       "    .dataframe tbody tr th:only-of-type {\n",
       "        vertical-align: middle;\n",
       "    }\n",
       "\n",
       "    .dataframe tbody tr th {\n",
       "        vertical-align: top;\n",
       "    }\n",
       "\n",
       "    .dataframe thead th {\n",
       "        text-align: right;\n",
       "    }\n",
       "</style>\n",
       "<table border=\"1\" class=\"dataframe\">\n",
       "  <thead>\n",
       "    <tr style=\"text-align: right;\">\n",
       "      <th></th>\n",
       "      <th>0</th>\n",
       "      <th>1</th>\n",
       "      <th>2</th>\n",
       "    </tr>\n",
       "    <tr>\n",
       "      <th>ref_celltype</th>\n",
       "      <th></th>\n",
       "      <th></th>\n",
       "      <th></th>\n",
       "    </tr>\n",
       "  </thead>\n",
       "  <tbody>\n",
       "    <tr>\n",
       "      <th>immune_b</th>\n",
       "      <td>0.178379</td>\n",
       "      <td>0.177815</td>\n",
       "      <td>0.177514</td>\n",
       "    </tr>\n",
       "    <tr>\n",
       "      <th>immune_cd4</th>\n",
       "      <td>0.000000</td>\n",
       "      <td>0.000000</td>\n",
       "      <td>0.000000</td>\n",
       "    </tr>\n",
       "    <tr>\n",
       "      <th>immune_cd8</th>\n",
       "      <td>0.011748</td>\n",
       "      <td>0.010084</td>\n",
       "      <td>0.011430</td>\n",
       "    </tr>\n",
       "    <tr>\n",
       "      <th>immune_nk</th>\n",
       "      <td>0.135201</td>\n",
       "      <td>0.136542</td>\n",
       "      <td>0.135667</td>\n",
       "    </tr>\n",
       "    <tr>\n",
       "      <th>immune_dend_plus_macro_plus_mono</th>\n",
       "      <td>0.110564</td>\n",
       "      <td>0.105358</td>\n",
       "      <td>0.108170</td>\n",
       "    </tr>\n",
       "    <tr>\n",
       "      <th>immune_eosi</th>\n",
       "      <td>0.001851</td>\n",
       "      <td>0.002104</td>\n",
       "      <td>0.001155</td>\n",
       "    </tr>\n",
       "    <tr>\n",
       "      <th>immune_neutro</th>\n",
       "      <td>0.006590</td>\n",
       "      <td>0.008962</td>\n",
       "      <td>0.007586</td>\n",
       "    </tr>\n",
       "    <tr>\n",
       "      <th>immune_eryth</th>\n",
       "      <td>0.000000</td>\n",
       "      <td>0.000000</td>\n",
       "      <td>0.000000</td>\n",
       "    </tr>\n",
       "    <tr>\n",
       "      <th>immune_mega</th>\n",
       "      <td>0.002983</td>\n",
       "      <td>0.001598</td>\n",
       "      <td>0.001478</td>\n",
       "    </tr>\n",
       "    <tr>\n",
       "      <th>eryth_prog</th>\n",
       "      <td>0.000000</td>\n",
       "      <td>0.000000</td>\n",
       "      <td>0.000000</td>\n",
       "    </tr>\n",
       "  </tbody>\n",
       "</table>\n",
       "</div>"
      ],
      "text/plain": [
       "                                         0         1         2\n",
       "ref_celltype                                                  \n",
       "immune_b                          0.178379  0.177815  0.177514\n",
       "immune_cd4                        0.000000  0.000000  0.000000\n",
       "immune_cd8                        0.011748  0.010084  0.011430\n",
       "immune_nk                         0.135201  0.136542  0.135667\n",
       "immune_dend_plus_macro_plus_mono  0.110564  0.105358  0.108170\n",
       "immune_eosi                       0.001851  0.002104  0.001155\n",
       "immune_neutro                     0.006590  0.008962  0.007586\n",
       "immune_eryth                      0.000000  0.000000  0.000000\n",
       "immune_mega                       0.002983  0.001598  0.001478\n",
       "eryth_prog                        0.000000  0.000000  0.000000"
      ]
     },
     "execution_count": 148,
     "metadata": {},
     "output_type": "execute_result"
    }
   ],
   "source": [
    "deconvolution_nnls[1]"
   ]
  },
  {
   "cell_type": "code",
   "execution_count": 149,
   "id": "1fed79ed-8be7-47b8-9a7a-867b541fc3d8",
   "metadata": {
    "tags": []
   },
   "outputs": [
    {
     "data": {
      "text/html": [
       "<div>\n",
       "<style scoped>\n",
       "    .dataframe tbody tr th:only-of-type {\n",
       "        vertical-align: middle;\n",
       "    }\n",
       "\n",
       "    .dataframe tbody tr th {\n",
       "        vertical-align: top;\n",
       "    }\n",
       "\n",
       "    .dataframe thead th {\n",
       "        text-align: right;\n",
       "    }\n",
       "</style>\n",
       "<table border=\"1\" class=\"dataframe\">\n",
       "  <thead>\n",
       "    <tr style=\"text-align: right;\">\n",
       "      <th></th>\n",
       "      <th>0</th>\n",
       "      <th>1</th>\n",
       "      <th>2</th>\n",
       "    </tr>\n",
       "    <tr>\n",
       "      <th>ref_celltype</th>\n",
       "      <th></th>\n",
       "      <th></th>\n",
       "      <th></th>\n",
       "    </tr>\n",
       "  </thead>\n",
       "  <tbody>\n",
       "    <tr>\n",
       "      <th>immune_b</th>\n",
       "      <td>0.178828</td>\n",
       "      <td>0.179275</td>\n",
       "      <td>0.175559</td>\n",
       "    </tr>\n",
       "    <tr>\n",
       "      <th>immune_cd4</th>\n",
       "      <td>0.000000</td>\n",
       "      <td>0.000000</td>\n",
       "      <td>0.000000</td>\n",
       "    </tr>\n",
       "    <tr>\n",
       "      <th>immune_cd8</th>\n",
       "      <td>0.006846</td>\n",
       "      <td>0.007276</td>\n",
       "      <td>0.009268</td>\n",
       "    </tr>\n",
       "    <tr>\n",
       "      <th>immune_nk</th>\n",
       "      <td>0.137199</td>\n",
       "      <td>0.134385</td>\n",
       "      <td>0.137188</td>\n",
       "    </tr>\n",
       "    <tr>\n",
       "      <th>immune_dend_plus_macro_plus_mono</th>\n",
       "      <td>0.111992</td>\n",
       "      <td>0.112896</td>\n",
       "      <td>0.110089</td>\n",
       "    </tr>\n",
       "    <tr>\n",
       "      <th>immune_eosi</th>\n",
       "      <td>0.001974</td>\n",
       "      <td>0.001347</td>\n",
       "      <td>0.000938</td>\n",
       "    </tr>\n",
       "    <tr>\n",
       "      <th>immune_neutro</th>\n",
       "      <td>0.006413</td>\n",
       "      <td>0.008301</td>\n",
       "      <td>0.009599</td>\n",
       "    </tr>\n",
       "    <tr>\n",
       "      <th>immune_eryth</th>\n",
       "      <td>0.000000</td>\n",
       "      <td>0.000000</td>\n",
       "      <td>0.000000</td>\n",
       "    </tr>\n",
       "    <tr>\n",
       "      <th>immune_mega</th>\n",
       "      <td>0.001953</td>\n",
       "      <td>0.000991</td>\n",
       "      <td>0.001664</td>\n",
       "    </tr>\n",
       "    <tr>\n",
       "      <th>eryth_prog</th>\n",
       "      <td>0.000000</td>\n",
       "      <td>0.000000</td>\n",
       "      <td>0.000000</td>\n",
       "    </tr>\n",
       "  </tbody>\n",
       "</table>\n",
       "</div>"
      ],
      "text/plain": [
       "                                         0         1         2\n",
       "ref_celltype                                                  \n",
       "immune_b                          0.178828  0.179275  0.175559\n",
       "immune_cd4                        0.000000  0.000000  0.000000\n",
       "immune_cd8                        0.006846  0.007276  0.009268\n",
       "immune_nk                         0.137199  0.134385  0.137188\n",
       "immune_dend_plus_macro_plus_mono  0.111992  0.112896  0.110089\n",
       "immune_eosi                       0.001974  0.001347  0.000938\n",
       "immune_neutro                     0.006413  0.008301  0.009599\n",
       "immune_eryth                      0.000000  0.000000  0.000000\n",
       "immune_mega                       0.001953  0.000991  0.001664\n",
       "eryth_prog                        0.000000  0.000000  0.000000"
      ]
     },
     "execution_count": 149,
     "metadata": {},
     "output_type": "execute_result"
    }
   ],
   "source": [
    "deconvolution_nnls[2]"
   ]
  },
  {
   "cell_type": "code",
   "execution_count": 127,
   "id": "71e3c5a0-dea7-42eb-8d4c-db15550ae5f3",
   "metadata": {
    "tags": []
   },
   "outputs": [
    {
     "data": {
      "text/plain": [
       "'immune_t'"
      ]
     },
     "execution_count": 127,
     "metadata": {},
     "output_type": "execute_result"
    }
   ],
   "source": [
    "TITRATING_CELLTYPE_ATLAS"
   ]
  },
  {
   "cell_type": "code",
   "execution_count": 154,
   "id": "81f0f593",
   "metadata": {
    "papermill": {
     "duration": null,
     "end_time": null,
     "exception": null,
     "start_time": null,
     "status": "pending"
    },
    "tags": []
   },
   "outputs": [
    {
     "data": {
      "image/png": "[encoded data removed]",
      "text/plain": [
       "<Figure size 864x576 with 1 Axes>"
      ]
     },
     "metadata": {
      "needs_background": "light"
     },
     "output_type": "display_data"
    }
   ],
   "source": [
    "dcnv.boxplot_titration(list_of_deconvolution_dfs=deconvolution_naive,\n",
    "                      cell_type='immune_cd8_t',\n",
    "                      true_proportions=TITRATION_LIST,\n",
    "                      deconvolution_method_name='naive'\n",
    "                      )"
   ]
  },
  {
   "cell_type": "code",
   "execution_count": 155,
   "id": "03107a05",
   "metadata": {
    "papermill": {
     "duration": null,
     "end_time": null,
     "exception": null,
     "start_time": null,
     "status": "pending"
    },
    "tags": []
   },
   "outputs": [
    {
     "data": {
      "image/png": "[encoded data removed]",
      "text/plain": [
       "<Figure size 864x576 with 1 Axes>"
      ]
     },
     "metadata": {
      "needs_background": "light"
     },
     "output_type": "display_data"
    }
   ],
   "source": [
    "dcnv.boxplot_titration(list_of_deconvolution_dfs=deconvolution_nnls,\n",
    "                      cell_type='immune_cd8',\n",
    "                      true_proportions=TITRATION_LIST,\n",
    "                      deconvolution_method_name='nnls'\n",
    "                      )"
   ]
  },
  {
   "cell_type": "code",
   "execution_count": 156,
   "id": "11e54377",
   "metadata": {
    "papermill": {
     "duration": null,
     "end_time": null,
     "exception": null,
     "start_time": null,
     "status": "pending"
    },
    "tags": []
   },
   "outputs": [
    {
     "data": {
      "image/png": "[encoded data removed]",
      "text/plain": [
       "<Figure size 720x720 with 3 Axes>"
      ]
     },
     "metadata": {
      "needs_background": "light"
     },
     "output_type": "display_data"
    }
   ],
   "source": [
    "\n",
    "dcnv.boxplot_titration_zoom(list_of_deconvolution_dfs=deconvolution_naive,\n",
    "                      cell_type='immune_cd8_t',\n",
    "                      true_proportions=TITRATION_LIST,\n",
    "                      deconvolution_method_name='naive'\n",
    "                      )"
   ]
  },
  {
   "cell_type": "code",
   "execution_count": 157,
   "id": "3d039f8f",
   "metadata": {
    "papermill": {
     "duration": null,
     "end_time": null,
     "exception": null,
     "start_time": null,
     "status": "pending"
    },
    "tags": []
   },
   "outputs": [
    {
     "data": {
      "image/png": "[encoded data removed]",
      "text/plain": [
       "<Figure size 720x720 with 3 Axes>"
      ]
     },
     "metadata": {
      "needs_background": "light"
     },
     "output_type": "display_data"
    }
   ],
   "source": [
    "\n",
    "dcnv.boxplot_titration_zoom(list_of_deconvolution_dfs=deconvolution_nnls,\n",
    "                      cell_type='immune_cd8',\n",
    "                      true_proportions=TITRATION_LIST,\n",
    "                      deconvolution_method_name='nnls'\n",
    "                      )"
   ]
  },
  {
   "cell_type": "code",
   "execution_count": 106,
   "id": "84da572f",
   "metadata": {
    "papermill": {
     "duration": null,
     "end_time": null,
     "exception": null,
     "start_time": null,
     "status": "pending"
    },
    "tags": []
   },
   "outputs": [],
   "source": [
    "def score_matrix(parquet_path, result_path, pat_cols, region_df, batch_size, schema, spark, compute_frag_scores_udf, save=False, verbose=False):\n",
    "    '''\n",
    "    Function to compute fragment score from one parquet file: 1 parquet file --> 1 score matrix.\n",
    "    '''\n",
    "    # Load single parquet file\n",
    "    pat_df = spark.read.parquet(parquet_path).select(*pat_cols)\n",
    "    \n",
    "    scores_df = pat_df\\\n",
    "            .groupby('region_id')\\\n",
    "            .applyInPandas(compute_frag_scores_udf, schema=schema)\\\n",
    "            .toPandas()\n",
    "    print(scores_df.head())\n",
    "    \n",
    "    return(scores_df['frac_alpha_leq_25pct'])\n",
    "    "
   ]
  },
  {
   "cell_type": "code",
   "execution_count": 107,
   "id": "08ee5f22",
   "metadata": {
    "papermill": {
     "duration": null,
     "end_time": null,
     "exception": null,
     "start_time": null,
     "status": "pending"
    },
    "tags": []
   },
   "outputs": [],
   "source": [
    "def score_matrix(parquet_path, result_path, pat_cols, region_df, batch_size, schema, spark, compute_frag_scores_udf, save=False, verbose=False):\n",
    "    '''\n",
    "    Function to compute fragment score from one parquet file: 1 parquet file --> 1 score matrix.\n",
    "    '''\n",
    "    # Load single parquet file\n",
    "    pat_df = spark.read.parquet(parquet_path).select(*pat_cols)\n",
    "    \n",
    "    scores_df = pat_df\\\n",
    "            .groupby('region_id')\\\n",
    "            .applyInPandas(compute_frag_scores_udf, schema=schema)\\\n",
    "            .toPandas()\n",
    "    \n",
    "    return(scores_df[['region_id', 'frac_alpha_leq_25pct']])\n",
    "    \n",
    "    # if save:\n",
    "    #     file_name = os.path.basename(parquet_path)\n",
    "    #     file_name_without_ext = os.path.splitext(file_name)[0]\n",
    "    #     save_path = result_path + '/' + file_name_without_ext + '.tsv.gz'\n",
    "    #     scores_df.to_csv(save_path, sep='\\t', index=False)"
   ]
  },
  {
   "cell_type": "code",
   "execution_count": 108,
   "id": "58f96b28-412e-4f3d-9528-ffe1a93f4e64",
   "metadata": {
    "tags": []
   },
   "outputs": [
    {
     "name": "stdout",
     "output_type": "stream",
     "text": [
      "CPU times: user 99.7 ms, sys: 39.4 ms, total: 139 ms\n",
      "Wall time: 56.7 s\n"
     ]
    }
   ],
   "source": [
    "%%time\n",
    "CELLTYPES = [\"Blood-B\", \"Blood-T\", \"Blood-Mono+Macro\", \"Blood-NK\"]\n",
    "#CELLTYPES = [\"Blueprint-B\", \"Blueprint-CD4\", \"Blueprint-NK\", \"Blueprint-Neutro\"]\n",
    "scores = []\n",
    "\n",
    "for celltype in CELLTYPES:\n",
    "    parquet_path = PROJECT_DIR + f'output/mixture_source/collapsed_reads_{celltype}'\n",
    "    score = score_matrix(parquet_path=parquet_path, \n",
    "                   result_path = RESULT_PATH, \n",
    "                   pat_cols = PAT_COLS, \n",
    "                   region_df = region_df, \n",
    "                   batch_size = 20, \n",
    "                   schema = RETURN_SCHEMA, \n",
    "                   spark=spark,\n",
    "                   compute_frag_scores_udf=compute_frag_scores_udf,\n",
    "                   save=True, \n",
    "                   verbose=True)\n",
    "    scores.append(score)\n",
    "\n"
   ]
  },
  {
   "cell_type": "code",
   "execution_count": 109,
   "id": "b9fba7d2-503e-4e4c-89e5-f2a2f16fcde1",
   "metadata": {
    "tags": []
   },
   "outputs": [],
   "source": [
    "# matching regions\n",
    "\n",
    "common_names = set(scores[0]['region_id'])  # start with names in first df\n",
    "for df in scores[1:]:  # for each remaining df\n",
    "    common_names = common_names.intersection(set(df['region_id']))\n",
    "\n",
    "# Keep only the rows with 'name' in 'common_names'\n",
    "df_list = [df[df['region_id'].isin(common_names)] for df in scores]\n",
    "\n",
    "region_names = df_list[0]['region_id']\n",
    "\n",
    "# sort\n",
    "df_list = [df.sort_values('region_id') for df in df_list]\n",
    "\n",
    "# drop region id\n",
    "for df in df_list:\n",
    "    df.drop('region_id', axis=1, inplace=True)\n",
    "   \n",
    "# resetting index\n",
    "df_list = [df.reset_index(drop=True) for df in df_list]"
   ]
  },
  {
   "cell_type": "code",
   "execution_count": 110,
   "id": "44a379b9-376c-4194-9fe7-b83020c20314",
   "metadata": {
    "tags": []
   },
   "outputs": [
    {
     "data": {
      "text/html": [
       "<div>\n",
       "<style scoped>\n",
       "    .dataframe tbody tr th:only-of-type {\n",
       "        vertical-align: middle;\n",
       "    }\n",
       "\n",
       "    .dataframe tbody tr th {\n",
       "        vertical-align: top;\n",
       "    }\n",
       "\n",
       "    .dataframe thead th {\n",
       "        text-align: right;\n",
       "    }\n",
       "</style>\n",
       "<table border=\"1\" class=\"dataframe\">\n",
       "  <thead>\n",
       "    <tr style=\"text-align: right;\">\n",
       "      <th></th>\n",
       "      <th>frac_alpha_leq_25pct</th>\n",
       "    </tr>\n",
       "  </thead>\n",
       "  <tbody>\n",
       "    <tr>\n",
       "      <th>0</th>\n",
       "      <td>0.00000</td>\n",
       "    </tr>\n",
       "    <tr>\n",
       "      <th>1</th>\n",
       "      <td>0.00000</td>\n",
       "    </tr>\n",
       "    <tr>\n",
       "      <th>2</th>\n",
       "      <td>0.00000</td>\n",
       "    </tr>\n",
       "    <tr>\n",
       "      <th>3</th>\n",
       "      <td>0.00000</td>\n",
       "    </tr>\n",
       "    <tr>\n",
       "      <th>4</th>\n",
       "      <td>0.00565</td>\n",
       "    </tr>\n",
       "    <tr>\n",
       "      <th>...</th>\n",
       "      <td>...</td>\n",
       "    </tr>\n",
       "    <tr>\n",
       "      <th>1650</th>\n",
       "      <td>0.00000</td>\n",
       "    </tr>\n",
       "    <tr>\n",
       "      <th>1651</th>\n",
       "      <td>0.00000</td>\n",
       "    </tr>\n",
       "    <tr>\n",
       "      <th>1652</th>\n",
       "      <td>0.00311</td>\n",
       "    </tr>\n",
       "    <tr>\n",
       "      <th>1653</th>\n",
       "      <td>1.00000</td>\n",
       "    </tr>\n",
       "    <tr>\n",
       "      <th>1654</th>\n",
       "      <td>0.00000</td>\n",
       "    </tr>\n",
       "  </tbody>\n",
       "</table>\n",
       "<p>1655 rows × 1 columns</p>\n",
       "</div>"
      ],
      "text/plain": [
       "      frac_alpha_leq_25pct\n",
       "0                  0.00000\n",
       "1                  0.00000\n",
       "2                  0.00000\n",
       "3                  0.00000\n",
       "4                  0.00565\n",
       "...                    ...\n",
       "1650               0.00000\n",
       "1651               0.00000\n",
       "1652               0.00311\n",
       "1653               1.00000\n",
       "1654               0.00000\n",
       "\n",
       "[1655 rows x 1 columns]"
      ]
     },
     "execution_count": 110,
     "metadata": {},
     "output_type": "execute_result"
    }
   ],
   "source": [
    "df_list[0]"
   ]
  },
  {
   "cell_type": "code",
   "execution_count": 111,
   "id": "083f86f0-de29-4df5-baed-bcd66618b328",
   "metadata": {
    "tags": []
   },
   "outputs": [
    {
     "data": {
      "text/html": [
       "<div>\n",
       "<style scoped>\n",
       "    .dataframe tbody tr th:only-of-type {\n",
       "        vertical-align: middle;\n",
       "    }\n",
       "\n",
       "    .dataframe tbody tr th {\n",
       "        vertical-align: top;\n",
       "    }\n",
       "\n",
       "    .dataframe thead th {\n",
       "        text-align: right;\n",
       "    }\n",
       "</style>\n",
       "<table border=\"1\" class=\"dataframe\">\n",
       "  <thead>\n",
       "    <tr style=\"text-align: right;\">\n",
       "      <th></th>\n",
       "      <th>frac_alpha_leq_25pct</th>\n",
       "    </tr>\n",
       "  </thead>\n",
       "  <tbody>\n",
       "    <tr>\n",
       "      <th>0</th>\n",
       "      <td>0.000000</td>\n",
       "    </tr>\n",
       "    <tr>\n",
       "      <th>1</th>\n",
       "      <td>0.000000</td>\n",
       "    </tr>\n",
       "    <tr>\n",
       "      <th>2</th>\n",
       "      <td>0.000000</td>\n",
       "    </tr>\n",
       "    <tr>\n",
       "      <th>3</th>\n",
       "      <td>0.000000</td>\n",
       "    </tr>\n",
       "    <tr>\n",
       "      <th>4</th>\n",
       "      <td>0.000000</td>\n",
       "    </tr>\n",
       "    <tr>\n",
       "      <th>...</th>\n",
       "      <td>...</td>\n",
       "    </tr>\n",
       "    <tr>\n",
       "      <th>1650</th>\n",
       "      <td>0.373664</td>\n",
       "    </tr>\n",
       "    <tr>\n",
       "      <th>1651</th>\n",
       "      <td>0.119637</td>\n",
       "    </tr>\n",
       "    <tr>\n",
       "      <th>1652</th>\n",
       "      <td>0.150905</td>\n",
       "    </tr>\n",
       "    <tr>\n",
       "      <th>1653</th>\n",
       "      <td>0.988014</td>\n",
       "    </tr>\n",
       "    <tr>\n",
       "      <th>1654</th>\n",
       "      <td>0.032634</td>\n",
       "    </tr>\n",
       "  </tbody>\n",
       "</table>\n",
       "<p>1655 rows × 1 columns</p>\n",
       "</div>"
      ],
      "text/plain": [
       "      frac_alpha_leq_25pct\n",
       "0                 0.000000\n",
       "1                 0.000000\n",
       "2                 0.000000\n",
       "3                 0.000000\n",
       "4                 0.000000\n",
       "...                    ...\n",
       "1650              0.373664\n",
       "1651              0.119637\n",
       "1652              0.150905\n",
       "1653              0.988014\n",
       "1654              0.032634\n",
       "\n",
       "[1655 rows x 1 columns]"
      ]
     },
     "execution_count": 111,
     "metadata": {},
     "output_type": "execute_result"
    }
   ],
   "source": [
    "df_list[1]"
   ]
  },
  {
   "cell_type": "code",
   "execution_count": 112,
   "id": "50617d41-db4b-444f-baac-bb92041ff8ec",
   "metadata": {
    "tags": []
   },
   "outputs": [
    {
     "data": {
      "text/plain": [
       "659"
      ]
     },
     "execution_count": 112,
     "metadata": {},
     "output_type": "execute_result"
    }
   ],
   "source": [
    "words_to_find = ['immune', 'Immune']  # replace with your words\n",
    "immune_indicator = region_names.apply(lambda x: 1 if any(word in str(x) for word in words_to_find) else 0).tolist()\n",
    "sum(immune_indicator)"
   ]
  },
  {
   "cell_type": "code",
   "execution_count": 113,
   "id": "29ba034a-8f20-49e3-8b9a-331a74c5be05",
   "metadata": {
    "tags": []
   },
   "outputs": [
    {
     "data": {
      "text/html": [
       "<div>\n",
       "<style scoped>\n",
       "    .dataframe tbody tr th:only-of-type {\n",
       "        vertical-align: middle;\n",
       "    }\n",
       "\n",
       "    .dataframe tbody tr th {\n",
       "        vertical-align: top;\n",
       "    }\n",
       "\n",
       "    .dataframe thead th {\n",
       "        text-align: right;\n",
       "    }\n",
       "</style>\n",
       "<table border=\"1\" class=\"dataframe\">\n",
       "  <thead>\n",
       "    <tr style=\"text-align: right;\">\n",
       "      <th></th>\n",
       "      <th>Blood-B</th>\n",
       "      <th>Blood-T</th>\n",
       "      <th>Blood-Mono+Macro</th>\n",
       "      <th>Blood-NK</th>\n",
       "    </tr>\n",
       "  </thead>\n",
       "  <tbody>\n",
       "    <tr>\n",
       "      <th>0</th>\n",
       "      <td>0.00000</td>\n",
       "      <td>0.0</td>\n",
       "      <td>0.001623</td>\n",
       "      <td>0.0</td>\n",
       "    </tr>\n",
       "    <tr>\n",
       "      <th>1</th>\n",
       "      <td>0.00000</td>\n",
       "      <td>0.0</td>\n",
       "      <td>0.000000</td>\n",
       "      <td>0.0</td>\n",
       "    </tr>\n",
       "    <tr>\n",
       "      <th>2</th>\n",
       "      <td>0.00000</td>\n",
       "      <td>0.0</td>\n",
       "      <td>0.000000</td>\n",
       "      <td>0.0</td>\n",
       "    </tr>\n",
       "    <tr>\n",
       "      <th>3</th>\n",
       "      <td>0.00000</td>\n",
       "      <td>0.0</td>\n",
       "      <td>0.000000</td>\n",
       "      <td>0.0</td>\n",
       "    </tr>\n",
       "    <tr>\n",
       "      <th>4</th>\n",
       "      <td>0.00565</td>\n",
       "      <td>0.0</td>\n",
       "      <td>0.001267</td>\n",
       "      <td>0.0</td>\n",
       "    </tr>\n",
       "  </tbody>\n",
       "</table>\n",
       "</div>"
      ],
      "text/plain": [
       "   Blood-B  Blood-T  Blood-Mono+Macro  Blood-NK\n",
       "0  0.00000      0.0          0.001623       0.0\n",
       "1  0.00000      0.0          0.000000       0.0\n",
       "2  0.00000      0.0          0.000000       0.0\n",
       "3  0.00000      0.0          0.000000       0.0\n",
       "4  0.00565      0.0          0.001267       0.0"
      ]
     },
     "execution_count": 113,
     "metadata": {},
     "output_type": "execute_result"
    }
   ],
   "source": [
    "df = pd.concat(df_list, axis=1)\n",
    "df.columns = CELLTYPES\n",
    "df.head()"
   ]
  },
  {
   "cell_type": "code",
   "execution_count": 114,
   "id": "d478fbea-968e-43ca-8c7c-757520d8d3dc",
   "metadata": {
    "tags": []
   },
   "outputs": [
    {
     "data": {
      "text/plain": [
       "(1655, 4)"
      ]
     },
     "execution_count": 114,
     "metadata": {},
     "output_type": "execute_result"
    }
   ],
   "source": [
    "df.shape"
   ]
  },
  {
   "cell_type": "code",
   "execution_count": 115,
   "id": "2ebb5a66-ffed-490d-ad54-e73ee8713b6f",
   "metadata": {
    "tags": []
   },
   "outputs": [
    {
     "data": {
      "text/html": [
       "<div>\n",
       "<style scoped>\n",
       "    .dataframe tbody tr th:only-of-type {\n",
       "        vertical-align: middle;\n",
       "    }\n",
       "\n",
       "    .dataframe tbody tr th {\n",
       "        vertical-align: top;\n",
       "    }\n",
       "\n",
       "    .dataframe thead th {\n",
       "        text-align: right;\n",
       "    }\n",
       "</style>\n",
       "<table border=\"1\" class=\"dataframe\">\n",
       "  <thead>\n",
       "    <tr style=\"text-align: right;\">\n",
       "      <th></th>\n",
       "      <th>Blood-B</th>\n",
       "      <th>Blood-T</th>\n",
       "      <th>Blood-Mono+Macro</th>\n",
       "      <th>Blood-NK</th>\n",
       "      <th>immune_indicator</th>\n",
       "    </tr>\n",
       "  </thead>\n",
       "  <tbody>\n",
       "    <tr>\n",
       "      <th>0</th>\n",
       "      <td>0.00000</td>\n",
       "      <td>0.0</td>\n",
       "      <td>0.001623</td>\n",
       "      <td>0.0</td>\n",
       "      <td>0</td>\n",
       "    </tr>\n",
       "    <tr>\n",
       "      <th>1</th>\n",
       "      <td>0.00000</td>\n",
       "      <td>0.0</td>\n",
       "      <td>0.000000</td>\n",
       "      <td>0.0</td>\n",
       "      <td>0</td>\n",
       "    </tr>\n",
       "    <tr>\n",
       "      <th>2</th>\n",
       "      <td>0.00000</td>\n",
       "      <td>0.0</td>\n",
       "      <td>0.000000</td>\n",
       "      <td>0.0</td>\n",
       "      <td>0</td>\n",
       "    </tr>\n",
       "    <tr>\n",
       "      <th>3</th>\n",
       "      <td>0.00000</td>\n",
       "      <td>0.0</td>\n",
       "      <td>0.000000</td>\n",
       "      <td>0.0</td>\n",
       "      <td>0</td>\n",
       "    </tr>\n",
       "    <tr>\n",
       "      <th>4</th>\n",
       "      <td>0.00565</td>\n",
       "      <td>0.0</td>\n",
       "      <td>0.001267</td>\n",
       "      <td>0.0</td>\n",
       "      <td>0</td>\n",
       "    </tr>\n",
       "  </tbody>\n",
       "</table>\n",
       "</div>"
      ],
      "text/plain": [
       "   Blood-B  Blood-T  Blood-Mono+Macro  Blood-NK  immune_indicator\n",
       "0  0.00000      0.0          0.001623       0.0                 0\n",
       "1  0.00000      0.0          0.000000       0.0                 0\n",
       "2  0.00000      0.0          0.000000       0.0                 0\n",
       "3  0.00000      0.0          0.000000       0.0                 0\n",
       "4  0.00565      0.0          0.001267       0.0                 0"
      ]
     },
     "execution_count": 115,
     "metadata": {},
     "output_type": "execute_result"
    }
   ],
   "source": [
    "df['immune_indicator'] = immune_indicator\n",
    "df.head()"
   ]
  },
  {
   "cell_type": "code",
   "execution_count": 116,
   "id": "2d7b5a6f-c936-448c-9d5d-42c93c5ec15f",
   "metadata": {
    "tags": []
   },
   "outputs": [],
   "source": [
    "# df = pd.concat(scores, axis=1)\n",
    "# df.columns = CELLTYPES\n",
    "# df.head()"
   ]
  },
  {
   "cell_type": "code",
   "execution_count": 117,
   "id": "38075e4e-4eac-46d7-8a59-b8cd90c95517",
   "metadata": {
    "tags": []
   },
   "outputs": [
    {
     "data": {
      "text/plain": [
       "Blood-B             0\n",
       "Blood-T             0\n",
       "Blood-Mono+Macro    0\n",
       "Blood-NK            0\n",
       "immune_indicator    0\n",
       "dtype: int64"
      ]
     },
     "execution_count": 117,
     "metadata": {},
     "output_type": "execute_result"
    }
   ],
   "source": [
    "df.isna().sum()"
   ]
  },
  {
   "cell_type": "code",
   "execution_count": 118,
   "id": "5e0872d7-e460-459a-a1fe-3877b1514189",
   "metadata": {
    "tags": []
   },
   "outputs": [
    {
     "data": {
      "image/png": "[encoded data removed]",
      "text/plain": [
       "<Figure size 360x1440 with 5 Axes>"
      ]
     },
     "metadata": {
      "needs_background": "light"
     },
     "output_type": "display_data"
    }
   ],
   "source": [
    "# create a color map: 0 is mapped to red, 1 is mapped to blue\n",
    "lut = dict(zip(df['immune_indicator'].unique(), \"yg\"))\n",
    "row_colors = df['immune_indicator'].map(lut)\n",
    "\n",
    "df.drop('immune_indicator', axis=1, inplace=True)\n",
    "\n",
    "# create a clustermap\n",
    "sns.clustermap(df, row_colors=row_colors, cmap='coolwarm', figsize=(5, 20))\n",
    "# sns.clustermap(df, cmap='coolwarm', figsize=(10, 8))\n",
    "\n",
    "plt.show()"
   ]
  },
  {
   "cell_type": "code",
   "execution_count": 78,
   "id": "4e99dde8-10ef-43bf-8190-014ad1b97005",
   "metadata": {
    "tags": []
   },
   "outputs": [],
   "source": [
    "# %%time\n",
    "# parquet_path_b = PROJECT_DIR + 'output/mixture_source/collapsed_reads_Blood-B'\n",
    "# b_score = score_matrix(parquet_path=parquet_path_b, \n",
    "#                result_path = RESULT_PATH, \n",
    "#                pat_cols = PAT_COLS, \n",
    "#                region_df = region_df, \n",
    "#                batch_size = 20, \n",
    "#                schema = RETURN_SCHEMA, \n",
    "#                spark=spark,\n",
    "#                compute_frag_scores_udf=compute_frag_scores_udf,\n",
    "#                save=True, \n",
    "#               verbose=True)\n"
   ]
  },
  {
   "cell_type": "code",
   "execution_count": null,
   "id": "5aacde0d-bb9e-42c3-ad91-fadc39aa8681",
   "metadata": {
    "tags": []
   },
   "outputs": [],
   "source": [
    "# # compute methyl score for are parquet files\n",
    "# sm.score_matrix_from_mixture_directory(path_to_mixture_dir = PATH_TO_MIXTURE_DIR, \n",
    "#                                        result_path = RESULT_PATH, \n",
    "#                                        pat_cols = PAT_COLS, \n",
    "#                                        region_df = region_df, \n",
    "#                                        batch_size = 20, \n",
    "#                                        schema = RETURN_SCHEMA, \n",
    "#                                        spark=spark,\n",
    "#                                        compute_frag_scores_udf=compute_frag_scores_udf,\n",
    "#                                        save=True, \n",
    "#                                        verbose=False)"
   ]
  },
  {
   "cell_type": "code",
   "execution_count": null,
   "id": "8350ad6c-ac3e-46aa-9fd7-c44ace065d0c",
   "metadata": {},
   "outputs": [],
   "source": []
  }
 ],
 "metadata": {
  "kernelspec": {
   "display_name": "Python 3",
   "language": "python",
   "name": "python3"
  },
  "language_info": {
   "codemirror_mode": {
    "name": "ipython",
    "version": 3
   },
   "file_extension": ".py",
   "mimetype": "text/x-python",
   "name": "python",
   "nbconvert_exporter": "python",
   "pygments_lexer": "ipython3",
   "version": "3.7.8"
  },
  "papermill": {
   "default_parameters": {},
   "duration": null,
   "end_time": null,
   "environment_variables": {},
   "exception": null,
   "input_path": "/analysis/gh-msun/projects/2023_06_26_SRT_deconvolution_MS//notebooks/titration/02_titration_experiment.ipynb",
   "output_path": "/analysis/gh-msun/projects/2023_06_26_SRT_deconvolution_MS//notebooks/titration/primary_immune_loyfer_uniform/titration_B.ipynb",
   "parameters": {
    "ABRIDGED_NAMES": [
     "B",
     "T",
     "MONOMACRO",
     "NK"
    ],
    "BACKGROUND": "uniform",
    "CELLTYPES": [
     "Blood-B",
     "Blood-T",
     "Blood-Mono+Macro",
     "Blood-NK"
    ],
    "EXPERIMENT": "primary_immune_loyfer",
    "N_REPLICATES": 20,
    "PROJECT_SLUG": "2023_06_26_SRT_deconvolution_MS",
    "ROOT_DIR": "/analysis/gh-msun/",
    "SEED": 83723,
    "TITRATING_CELLTYPE": "Blood-B",
    "TITRATING_CELLTYPE_ATLAS": "immune_b",
    "TITRATION_LIST": [
     0.2,
     0.15,
     0.1,
     0.08,
     0.06,
     0.04,
     0.02,
     0.01,
     0.008,
     0.006,
     0.004,
     0.002,
     0.001,
     0
    ],
    "TOTAL_READS_TO_SAMPLE": 1000000,
    "WHOLE_BLOOD_ABUNDANCE": {
     "Blueprint-B": 0.06,
     "Blueprint-CD4": 0.16,
     "Blueprint-CD8": 0.07,
     "Blueprint-Mono": 0.09,
     "Blueprint-NK": 0.05,
     "Blueprint-Neutro": 0.57
    }
   },
   "start_time": "2023-08-02T17:53:24.895446",
   "version": "2.4.0"
  }
 },
 "nbformat": 4,
 "nbformat_minor": 5
}
