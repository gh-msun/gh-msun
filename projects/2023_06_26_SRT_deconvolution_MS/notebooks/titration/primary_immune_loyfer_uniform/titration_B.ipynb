{
 "cells": [
  {
   "cell_type": "markdown",
   "id": "a7d354a4",
   "metadata": {
    "papermill": {
     "duration": 0.005706,
     "end_time": "2023-08-02T17:53:25.584957",
     "exception": false,
     "start_time": "2023-08-02T17:53:25.579251",
     "status": "completed"
    },
    "tags": []
   },
   "source": [
    "# Titration Experiment"
   ]
  },
  {
   "cell_type": "code",
   "execution_count": 36,
   "id": "b6e8680a",
   "metadata": {
    "papermill": {
     "duration": 0.011276,
     "end_time": "2023-08-02T17:53:25.601345",
     "exception": false,
     "start_time": "2023-08-02T17:53:25.590069",
     "status": "completed"
    },
    "tags": [
     "parameters"
    ]
   },
   "outputs": [],
   "source": [
    "# #############################\n",
    "# #   Experiment parameters   #\n",
    "# #############################\n",
    "# ROOT_DIR = '/analysis/gh-msun/'\n",
    "# PROJECT_SLUG = '2023_06_26_SRT_deconvolution_MS'\n",
    "# EXPERIMENT = 'primary_immune'\n",
    "# TITRATING_CELLTYPE = 'Blueprint-B'\n",
    "# TITRATING_CELLTYPE_ATLAS = 'immune_b' # cell type name in atlas different\n",
    "# BACKGROUND = 'wholeblood' # background: uniform / wholeblood \n",
    "# N_REPLICATES = 2 # number of replicates for each mixture\n",
    "# SEED = 888 # need to change for different experiment\n",
    "# TOTAL_READS_TO_SAMPLE = 1000000\n",
    "\n",
    "# # make sure the orders of the two list match\n",
    "# CELLTYPES = ['Blueprint-CD4', 'Blueprint-CD8', 'Blueprint-B', 'Blueprint-NK', 'Blueprint-Mono', 'Blueprint-Neutro']\n",
    "# ABRIDGED_NAMES = ['CD4', 'CD8', 'B', 'NK', 'MONO', 'NEUTRO'] # for directory name\n",
    "\n",
    "# # TITRATION_LIST = [0.2, 0.15, 0.10, 0.08, 0.06, 0.04, 0.02, 0.01, \n",
    "# #                   0.008, 0.006, 0.004, 0.002, 0.001, 0]\n",
    "# TITRATION_LIST=[0.2, 0.15]\n",
    "\n",
    "# # proportion of cells in real whole blood (sum to 1)\n",
    "# WHOLE_BLOOD_ABUNDANCE = {'Blueprint-B':0.06,\n",
    "#                          'Blueprint-Mono':0.09,\n",
    "#                          'Blueprint-Neutro':0.57,\n",
    "#                          'Blueprint-CD4':0.16,\n",
    "#                          'Blueprint-CD8':0.07,\n",
    "#                          'Blueprint-NK':0.05}\n",
    "    "
   ]
  },
  {
   "cell_type": "code",
   "execution_count": 39,
   "id": "9ab65fbf",
   "metadata": {
    "papermill": {
     "duration": 0.010145,
     "end_time": "2023-08-02T17:53:25.616684",
     "exception": false,
     "start_time": "2023-08-02T17:53:25.606539",
     "status": "completed"
    },
    "tags": [
     "injected-parameters"
    ]
   },
   "outputs": [],
   "source": [
    "# Parameters\n",
    "ROOT_DIR = \"/analysis/gh-msun/\"\n",
    "PROJECT_SLUG = \"2023_06_26_SRT_deconvolution_MS\"\n",
    "EXPERIMENT = \"primary_immune_loyfer\"\n",
    "TITRATING_CELLTYPE = \"Blood-T\"\n",
    "TITRATING_CELLTYPE_ATLAS = \"immune_t\"\n",
    "BACKGROUND = \"uniform\"\n",
    "N_REPLICATES = 3\n",
    "SEED = 83723\n",
    "TOTAL_READS_TO_SAMPLE = 1000000\n",
    "# CELLTYPES = [\"Blood-B\", \"Blood-T\", \"Blood-Mono+Macro\"]\n",
    "# ABRIDGED_NAMES = [\"B\", \"T\", \"MONOMACRO\"]\n",
    "CELLTYPES = [\"Blood-B\", \"Blood-T\", \"Blood-Mono+Macro\", \"Blood-NK\"]\n",
    "ABRIDGED_NAMES = [\"B\", \"T\", \"MONOMACRO\", \"NK\"]\n",
    "# CELLTYPES = ['Blueprint-NK', 'Blueprint-B', 'Blueprint-CD4', 'Blueprint-CD8', 'Blueprint-Mono', 'Blueprint-Neutro']\n",
    "# ABRIDGED_NAMES = ['NK', 'B', 'CD4', 'CD8', 'MONO', 'NEUTRO'] # for directory name\n",
    "TITRATION_LIST = [0.2, 0.01, 0]\n",
    "WHOLE_BLOOD_ABUNDANCE = {\"Blueprint-B\": 0.06, \"Blueprint-Mono\": 0.09, \"Blueprint-Neutro\": 0.57, \"Blueprint-CD4\": 0.16, \"Blueprint-CD8\": 0.07, \"Blueprint-NK\": 0.05}\n"
   ]
  },
  {
   "cell_type": "code",
   "execution_count": 40,
   "id": "f84b0c58",
   "metadata": {
    "papermill": {
     "duration": 3.567996,
     "end_time": "2023-08-02T17:53:29.188765",
     "exception": false,
     "start_time": "2023-08-02T17:53:25.620769",
     "status": "completed"
    },
    "tags": []
   },
   "outputs": [
    {
     "ename": "ValueError",
     "evalue": "Cannot run multiple SparkContexts at once; existing SparkContext(app=pyspark-shell, master=local[*]) created by __init__ at <ipython-input-2-b1f9796f075c>:38 ",
     "output_type": "error",
     "traceback": [
      "\u001b[0;31m---------------------------------------------------------------------------\u001b[0m",
      "\u001b[0;31mValueError\u001b[0m                                Traceback (most recent call last)",
      "\u001b[0;32m<ipython-input-40-b1f9796f075c>\u001b[0m in \u001b[0;36m<module>\u001b[0;34m\u001b[0m\n\u001b[1;32m     36\u001b[0m \u001b[0mspark_conf\u001b[0m\u001b[0;34m.\u001b[0m\u001b[0mgetAll\u001b[0m\u001b[0;34m(\u001b[0m\u001b[0;34m)\u001b[0m\u001b[0;34m\u001b[0m\u001b[0;34m\u001b[0m\u001b[0m\n\u001b[1;32m     37\u001b[0m \u001b[0;34m\u001b[0m\u001b[0m\n\u001b[0;32m---> 38\u001b[0;31m \u001b[0msc\u001b[0m \u001b[0;34m=\u001b[0m \u001b[0mSparkContext\u001b[0m\u001b[0;34m(\u001b[0m\u001b[0mconf\u001b[0m\u001b[0;34m=\u001b[0m\u001b[0mspark_conf\u001b[0m\u001b[0;34m)\u001b[0m\u001b[0;34m\u001b[0m\u001b[0;34m\u001b[0m\u001b[0m\n\u001b[0m\u001b[1;32m     39\u001b[0m \u001b[0msc\u001b[0m\u001b[0;34m.\u001b[0m\u001b[0msetLogLevel\u001b[0m\u001b[0;34m(\u001b[0m\u001b[0;34m\"ERROR\"\u001b[0m\u001b[0;34m)\u001b[0m\u001b[0;34m\u001b[0m\u001b[0;34m\u001b[0m\u001b[0m\n\u001b[1;32m     40\u001b[0m \u001b[0mspark\u001b[0m \u001b[0;34m=\u001b[0m \u001b[0mSparkSession\u001b[0m\u001b[0;34m(\u001b[0m\u001b[0msc\u001b[0m\u001b[0;34m)\u001b[0m\u001b[0;34m\u001b[0m\u001b[0;34m\u001b[0m\u001b[0m\n",
      "\u001b[0;32m~/mambaforge/envs/2023_06_26_SRT_deconvolution_MS/lib/python3.7/site-packages/pyspark/context.py\u001b[0m in \u001b[0;36m__init__\u001b[0;34m(self, master, appName, sparkHome, pyFiles, environment, batchSize, serializer, conf, gateway, jsc, profiler_cls, udf_profiler_cls, memory_profiler_cls)\u001b[0m\n\u001b[1;32m    196\u001b[0m             )\n\u001b[1;32m    197\u001b[0m \u001b[0;34m\u001b[0m\u001b[0m\n\u001b[0;32m--> 198\u001b[0;31m         \u001b[0mSparkContext\u001b[0m\u001b[0;34m.\u001b[0m\u001b[0m_ensure_initialized\u001b[0m\u001b[0;34m(\u001b[0m\u001b[0mself\u001b[0m\u001b[0;34m,\u001b[0m \u001b[0mgateway\u001b[0m\u001b[0;34m=\u001b[0m\u001b[0mgateway\u001b[0m\u001b[0;34m,\u001b[0m \u001b[0mconf\u001b[0m\u001b[0;34m=\u001b[0m\u001b[0mconf\u001b[0m\u001b[0;34m)\u001b[0m\u001b[0;34m\u001b[0m\u001b[0;34m\u001b[0m\u001b[0m\n\u001b[0m\u001b[1;32m    199\u001b[0m         \u001b[0;32mtry\u001b[0m\u001b[0;34m:\u001b[0m\u001b[0;34m\u001b[0m\u001b[0;34m\u001b[0m\u001b[0m\n\u001b[1;32m    200\u001b[0m             self._do_init(\n",
      "\u001b[0;32m~/mambaforge/envs/2023_06_26_SRT_deconvolution_MS/lib/python3.7/site-packages/pyspark/context.py\u001b[0m in \u001b[0;36m_ensure_initialized\u001b[0;34m(cls, instance, gateway, conf)\u001b[0m\n\u001b[1;32m    452\u001b[0m                             \u001b[0mcallsite\u001b[0m\u001b[0;34m.\u001b[0m\u001b[0mfunction\u001b[0m\u001b[0;34m,\u001b[0m\u001b[0;34m\u001b[0m\u001b[0;34m\u001b[0m\u001b[0m\n\u001b[1;32m    453\u001b[0m                             \u001b[0mcallsite\u001b[0m\u001b[0;34m.\u001b[0m\u001b[0mfile\u001b[0m\u001b[0;34m,\u001b[0m\u001b[0;34m\u001b[0m\u001b[0;34m\u001b[0m\u001b[0m\n\u001b[0;32m--> 454\u001b[0;31m                             \u001b[0mcallsite\u001b[0m\u001b[0;34m.\u001b[0m\u001b[0mlinenum\u001b[0m\u001b[0;34m,\u001b[0m\u001b[0;34m\u001b[0m\u001b[0;34m\u001b[0m\u001b[0m\n\u001b[0m\u001b[1;32m    455\u001b[0m                         )\n\u001b[1;32m    456\u001b[0m                     )\n",
      "\u001b[0;31mValueError\u001b[0m: Cannot run multiple SparkContexts at once; existing SparkContext(app=pyspark-shell, master=local[*]) created by __init__ at <ipython-input-2-b1f9796f075c>:38 "
     ]
    }
   ],
   "source": [
    "import glob\n",
    "import numpy as np\n",
    "import pandas as pd\n",
    "import seaborn as sns\n",
    "import matplotlib.pyplot as plt\n",
    "import itertools\n",
    "import functools\n",
    "import os\n",
    "import regex as re\n",
    "import random\n",
    "import importlib\n",
    "import sys\n",
    "\n",
    "from pyspark.sql import SparkSession\n",
    "from pyspark import SparkConf, SparkContext\n",
    "from pyspark.sql.types import IntegerType, LongType, ArrayType, StringType, DoubleType\n",
    "from pyspark.sql.functions import udf, explode, broadcast, count, lit, length, col\n",
    "from pyspark.sql import DataFrame\n",
    "from pyspark.sql.types import StructType\n",
    "\n",
    "# UPDATE HOME!\n",
    "os.environ[\"SPARK_HOME\"] = \"/home/ec2-user/mambaforge/envs/2023_06_26_SRT_deconvolution_MS/lib/python3.7/site-packages/pyspark\"\n",
    "# THIS needs to be set-up before running the notebook\n",
    "os.environ[\"SPARK_LOCAL_DIRS\"] = \"/temp\"\n",
    "os.environ[\"PYARROW_IGNORE_TIMEZONE\"] = \"1\"\n",
    "\n",
    "spark_conf = SparkConf()\n",
    "spark_conf.set(\"spark.ui.showConsoleProgress\", \"True\")\n",
    "spark_conf.set(\"spark.executor.instances\", \"2\")\n",
    "spark_conf.set(\"spark.executor.cores\", \"2\")\n",
    "spark_conf.set(\"spark.executor.memory\", \"16g\")\n",
    "spark_conf.set(\"spark.driver.memory\", \"64g\")\n",
    "spark_conf.set(\"spark.driver.maxResultSize\", \"32g\")\n",
    "spark_conf.set(\"spark.parquet.filterPushdown\", \"true\")\n",
    "spark_conf.set(\"spark.local.dir\", \"/temp\")\n",
    "spark_conf.getAll()\n",
    "\n",
    "sc = SparkContext(conf=spark_conf)\n",
    "sc.setLogLevel(\"ERROR\")\n",
    "spark = SparkSession(sc)\n",
    "\n",
    "pd.set_option('display.max_rows', 500)\n",
    "pd.set_option('display.max_columns', 500)\n",
    "pd.set_option('display.width', 1000)\n",
    "sns.set_context('talk')"
   ]
  },
  {
   "cell_type": "code",
   "execution_count": 3,
   "id": "df25c2a4",
   "metadata": {
    "papermill": {
     "duration": 0.556152,
     "end_time": "2023-08-02T17:53:29.750093",
     "exception": false,
     "start_time": "2023-08-02T17:53:29.193941",
     "status": "completed"
    },
    "tags": []
   },
   "outputs": [],
   "source": [
    "#---Local paths---#\n",
    "PROJECT_DIR = ROOT_DIR + f'projects/{PROJECT_SLUG}/'\n",
    "\n",
    "#---Load all custom scripts---#\n",
    "SCRIPT_DIR = PROJECT_DIR + 'scripts/'\n",
    "sys.path.append(SCRIPT_DIR)\n",
    "\n",
    "import create_mixture as cm\n",
    "import score_matrix as sm\n",
    "import deconvolution as dcnv\n",
    "import helper as hlpr\n",
    "\n",
    "pd.set_option('display.max_rows', 500)\n",
    "pd.set_option('display.max_columns', 500)\n",
    "pd.set_option('display.width', 1000)"
   ]
  },
  {
   "cell_type": "code",
   "execution_count": 4,
   "id": "5fe9c29e",
   "metadata": {
    "papermill": {
     "duration": 0.012164,
     "end_time": "2023-08-02T17:53:29.767521",
     "exception": false,
     "start_time": "2023-08-02T17:53:29.755357",
     "status": "completed"
    },
    "tags": []
   },
   "outputs": [
    {
     "data": {
      "text/plain": [
       "<module 'helper' from '/analysis/gh-msun/projects/2023_06_26_SRT_deconvolution_MS/scripts/helper.py'>"
      ]
     },
     "execution_count": 4,
     "metadata": {},
     "output_type": "execute_result"
    }
   ],
   "source": [
    "importlib.reload(cm)\n",
    "importlib.reload(sm)\n",
    "importlib.reload(dcnv)\n",
    "importlib.reload(hlpr)"
   ]
  },
  {
   "cell_type": "code",
   "execution_count": 5,
   "id": "d770e915",
   "metadata": {
    "papermill": {
     "duration": 0.011874,
     "end_time": "2023-08-02T17:53:29.783855",
     "exception": false,
     "start_time": "2023-08-02T17:53:29.771981",
     "status": "completed"
    },
    "tags": []
   },
   "outputs": [
    {
     "data": {
      "text/plain": [
       "[0.2, 0.26666666666666666, 0.26666666666666666, 0.26666666666666666]"
      ]
     },
     "execution_count": 5,
     "metadata": {},
     "output_type": "execute_result"
    }
   ],
   "source": [
    "#################################\n",
    "#   Set titration proportions   #\n",
    "#################################\n",
    "\n",
    "# Reorder such that the titrating cell type comes first\n",
    "CELLTYPES_unordered = CELLTYPES.copy()\n",
    "CELLTYPES = hlpr.titration_reordering(list_of_cell_types=CELLTYPES, \n",
    "                                      titrating_cell_type=TITRATING_CELLTYPE)\n",
    "\n",
    "# Reorder abridged name\n",
    "ABRIDGED_NAMES = hlpr.reorder_abridged_name(unordered_celltypes=CELLTYPES_unordered,\n",
    "                                            ordered_celltypes=CELLTYPES,\n",
    "                                            unordered_abridged_names=ABRIDGED_NAMES)\n",
    "    \n",
    "# set titration proportions\n",
    "if BACKGROUND == 'uniform':\n",
    "    PROPORTIONS = hlpr.generate_uniform_background_proportions(titration_list=TITRATION_LIST, \n",
    "                                                               cell_types=CELLTYPES)\n",
    "\n",
    "if BACKGROUND == 'wholeblood':\n",
    "    PROPORTIONS = hlpr.generate_custom_background_proportions(titration_list=TITRATION_LIST, \n",
    "                                                              custom_proportion=WHOLE_BLOOD_ABUNDANCE, \n",
    "                                                              list_of_celltypes=CELLTYPES, \n",
    "                                                              titrating_celltype=TITRATING_CELLTYPE)\n",
    "\n",
    "PROPORTIONS[0]    "
   ]
  },
  {
   "cell_type": "markdown",
   "id": "abd46596",
   "metadata": {
    "papermill": {
     "duration": 0.004573,
     "end_time": "2023-08-02T17:53:29.792863",
     "exception": false,
     "start_time": "2023-08-02T17:53:29.788290",
     "status": "completed"
    },
    "tags": []
   },
   "source": [
    "## Create mixture"
   ]
  },
  {
   "cell_type": "code",
   "execution_count": 6,
   "id": "fba5140e",
   "metadata": {
    "papermill": {
     "duration": 0.009077,
     "end_time": "2023-08-02T17:53:29.806402",
     "exception": false,
     "start_time": "2023-08-02T17:53:29.797325",
     "status": "completed"
    },
    "tags": []
   },
   "outputs": [],
   "source": [
    "############################\n",
    "#   Parameters and paths   # \n",
    "############################\n",
    "EXPERIMENT_DIR = PROJECT_DIR + f'output/experiment/{EXPERIMENT}/'\n",
    "EXPERIMENT_NAME = f'{TITRATING_CELLTYPE}-{BACKGROUND}/'\n",
    "PARQUET_PATH = PROJECT_DIR + 'output/mixture_source/'\n",
    "EXPERIMENT_CELLTYPE_DIR = EXPERIMENT_DIR + f'{EXPERIMENT_NAME}/'\n",
    "RESULT_PATH = EXPERIMENT_CELLTYPE_DIR + 'mixture/'\n"
   ]
  },
  {
   "cell_type": "code",
   "execution_count": 7,
   "id": "589dd2b9",
   "metadata": {
    "papermill": {
     "duration": 8.576255,
     "end_time": "2023-08-02T17:53:38.387205",
     "exception": false,
     "start_time": "2023-08-02T17:53:29.810950",
     "status": "completed"
    },
    "tags": []
   },
   "outputs": [
    {
     "name": "stdout",
     "output_type": "stream",
     "text": [
      ">>> Load parquet files and count rows... <<<\n",
      "----------> Loading cell type: Blood-T\n",
      "----------> Loading cell type: Blood-B\n",
      "----------> Loading cell type: Blood-Mono+Macro\n",
      "----------> Loading cell type: Blood-NK\n",
      ">>> Complete. <<< \n",
      "\n",
      ">>> Start mixing... <<<\n",
      "--> PROPORTION: [0.2, 0.26666666666666666, 0.26666666666666666, 0.26666666666666666]\n",
      "----------> Creating mixture 0... \n",
      "----------> Creating mixture 1... \n",
      "----------> Creating mixture 2... \n",
      "--> PROPORTION: [0.01, 0.33, 0.33, 0.33]\n",
      "----------> Creating mixture 0... \n",
      "----------> Creating mixture 1... \n",
      "----------> Creating mixture 2... \n",
      "--> PROPORTION: [0, 0.3333333333333333, 0.3333333333333333, 0.3333333333333333]\n",
      "----------> Creating mixture 0... \n",
      "----------> Creating mixture 1... \n",
      "----------> Creating mixture 2... \n",
      ">>> Complete. <<< \n",
      "\n",
      "CPU times: user 45.4 ms, sys: 8.28 ms, total: 53.6 ms\n",
      "Wall time: 43.1 s\n"
     ]
    }
   ],
   "source": [
    "%%time\n",
    "# load parquet files for each celltype & count rows\n",
    "parquet_df, total_reads_per_celltype = cm.load_parquet_dataframe(parquet_path=PARQUET_PATH,\n",
    "                                                                  cell_types=CELLTYPES,\n",
    "                                                                  spark=spark,\n",
    "                                                                  verbose=True)\n",
    "\n",
    "# mix cell types for each proportion set\n",
    "cm.mix_celltypes_multiple_proportions(parquet_df=parquet_df,\n",
    "                                       total_reads_per_celltype=total_reads_per_celltype,\n",
    "                                    #    n=len(TITRATION_LIST), \n",
    "                                       n=N_REPLICATES,\n",
    "                                       cell_types=CELLTYPES, \n",
    "                                       cell_type_abridged_name=ABRIDGED_NAMES, \n",
    "                                       total_reads_to_sample=TOTAL_READS_TO_SAMPLE, \n",
    "                                       list_of_proportions=PROPORTIONS, \n",
    "                                       seed=SEED, \n",
    "                                       result_path=RESULT_PATH, \n",
    "                                       spark=spark,\n",
    "                                       verbose=False, \n",
    "                                       save=True)"
   ]
  },
  {
   "cell_type": "code",
   "execution_count": null,
   "id": "76e0409a-04a1-48f4-9aee-bad1b9a203ec",
   "metadata": {},
   "outputs": [],
   "source": []
  },
  {
   "cell_type": "markdown",
   "id": "80683010",
   "metadata": {
    "papermill": {
     "duration": 0.00532,
     "end_time": "2023-08-02T17:53:38.398483",
     "exception": false,
     "start_time": "2023-08-02T17:53:38.393163",
     "status": "completed"
    },
    "tags": []
   },
   "source": [
    "## Compute score matrix"
   ]
  },
  {
   "cell_type": "code",
   "execution_count": 8,
   "id": "a8eaa4d5",
   "metadata": {
    "papermill": {
     "duration": 0.010797,
     "end_time": "2023-08-02T17:53:38.414176",
     "exception": false,
     "start_time": "2023-08-02T17:53:38.403379",
     "status": "completed"
    },
    "tags": []
   },
   "outputs": [],
   "source": [
    "############################\n",
    "#   Parameters and paths   # \n",
    "############################\n",
    "\n",
    "FILTER_CG_COUNT = 3\n",
    "FILTER_CG_COUNT_REGION = 1\n",
    "\n",
    "REGIONS = 'deconvolution_v2.v23_conv.with_cpg_index'\n",
    "REGION_BED_COLS = [\n",
    "    'region_chr', 'region_start', 'region_end', \n",
    "    'region_cpg_index_min', 'region_cpg_index_max', 'region_id'\n",
    "]\n",
    "\n",
    "# Regions\n",
    "REGION_PATH = (\n",
    "    PROJECT_DIR + '/stage/panel_data/{regions}.bed'\n",
    ").format(regions=REGIONS)\n",
    "\n",
    "# CpG map; genomic coordinate to CpG index;\n",
    "CPG_MAP_PATH = PROJECT_DIR + '/stage/cpg_loci/cpg_loci_hg19.combined_annot.tsv.gz'\n",
    "\n",
    "#--- Where to store results\n",
    "PATH_TO_MIXTURE_DIR = EXPERIMENT_CELLTYPE_DIR + 'mixture/'\n",
    "RESULT_PATH = EXPERIMENT_CELLTYPE_DIR\n"
   ]
  },
  {
   "cell_type": "code",
   "execution_count": 9,
   "id": "23b73699",
   "metadata": {
    "papermill": {
     "duration": null,
     "end_time": null,
     "exception": false,
     "start_time": "2023-08-02T17:53:38.419043",
     "status": "running"
    },
    "tags": []
   },
   "outputs": [],
   "source": [
    "cpg_map = pd.read_csv(CPG_MAP_PATH, usecols=['chr', 'start', 'end', 'cpg_index', 'cpg_index_hg38'], sep='\\t')"
   ]
  },
  {
   "cell_type": "code",
   "execution_count": 10,
   "id": "708a6487",
   "metadata": {
    "papermill": {
     "duration": null,
     "end_time": null,
     "exception": null,
     "start_time": null,
     "status": "pending"
    },
    "tags": []
   },
   "outputs": [
    {
     "name": "stdout",
     "output_type": "stream",
     "text": [
      "CPU times: user 15.8 s, sys: 10.4 s, total: 26.1 s\n",
      "Wall time: 26.1 s\n"
     ]
    }
   ],
   "source": [
    "%%time\n",
    "ridxs = ~cpg_map['cpg_index_hg38'].isna()\n",
    "hg19_hg38_map = dict(itertools.zip_longest(cpg_map[ridxs]['cpg_index'], cpg_map[ridxs]['cpg_index_hg38'].astype(int)))\n",
    "hg38_hg19_map = dict(itertools.zip_longest(cpg_map[ridxs]['cpg_index_hg38'].astype(int), cpg_map[ridxs]['cpg_index']))"
   ]
  },
  {
   "cell_type": "code",
   "execution_count": 11,
   "id": "83831b7c",
   "metadata": {
    "papermill": {
     "duration": null,
     "end_time": null,
     "exception": null,
     "start_time": null,
     "status": "pending"
    },
    "tags": []
   },
   "outputs": [
    {
     "data": {
      "text/plain": [
       "(1658, 1658)"
      ]
     },
     "execution_count": 11,
     "metadata": {},
     "output_type": "execute_result"
    }
   ],
   "source": [
    "region_df = pd.read_csv(REGION_PATH, sep='\\t', usecols=range(0, 6), names=REGION_BED_COLS)\n",
    "\n",
    "region_df['region_cpg_index_max'] -= 1\n",
    "region_df.sort_values('region_cpg_index_min', inplace=True)\n",
    "region_df['region_cpg_index_min_hg38'] = region_df['region_cpg_index_min'].map(hg19_hg38_map)\n",
    "region_df['region_cpg_index_max_hg38'] = region_df['region_cpg_index_max'].map(hg19_hg38_map)\n",
    "\n",
    "region_df.shape[0], region_df['region_id'].nunique()"
   ]
  },
  {
   "cell_type": "code",
   "execution_count": 12,
   "id": "c1df8ce6",
   "metadata": {
    "papermill": {
     "duration": null,
     "end_time": null,
     "exception": null,
     "start_time": null,
     "status": "pending"
    },
    "tags": []
   },
   "outputs": [
    {
     "data": {
      "text/plain": [
       "(1658, 1658)"
      ]
     },
     "execution_count": 12,
     "metadata": {},
     "output_type": "execute_result"
    }
   ],
   "source": [
    "ridxs = ~region_df['region_cpg_index_min_hg38'].isna()\n",
    "ridxs &= ~region_df['region_cpg_index_max_hg38'].isna()\n",
    "region_df = region_df[ridxs].copy()\n",
    "region_df.shape[0], region_df['region_id'].nunique()"
   ]
  },
  {
   "cell_type": "code",
   "execution_count": 13,
   "id": "2d02fff1",
   "metadata": {
    "papermill": {
     "duration": null,
     "end_time": null,
     "exception": null,
     "start_time": null,
     "status": "pending"
    },
    "tags": []
   },
   "outputs": [
    {
     "data": {
      "text/plain": [
       "(1657, 1657)"
      ]
     },
     "execution_count": 13,
     "metadata": {},
     "output_type": "execute_result"
    }
   ],
   "source": [
    "cg_count_hg19 = region_df['region_cpg_index_max']-region_df['region_cpg_index_min'] + 1\n",
    "cg_count_hg38 = region_df['region_cpg_index_max_hg38']-region_df['region_cpg_index_min_hg38'] + 1\n",
    "ridxs = (cg_count_hg19==cg_count_hg38)\n",
    "ridxs &= (cg_count_hg19>=FILTER_CG_COUNT_REGION)\n",
    "region_df = region_df[ridxs].copy()\n",
    "region_df.shape[0], region_df['region_id'].nunique()"
   ]
  },
  {
   "cell_type": "code",
   "execution_count": 14,
   "id": "ff567278",
   "metadata": {
    "papermill": {
     "duration": null,
     "end_time": null,
     "exception": null,
     "start_time": null,
     "status": "pending"
    },
    "tags": []
   },
   "outputs": [],
   "source": [
    "region_df['region_cpg_index_min_hg38'] = region_df['region_cpg_index_min_hg38'].astype(int)\n",
    "region_df['region_cpg_index_max_hg38'] = region_df['region_cpg_index_max_hg38'].astype(int)"
   ]
  },
  {
   "cell_type": "code",
   "execution_count": 15,
   "id": "a81e907b",
   "metadata": {
    "papermill": {
     "duration": null,
     "end_time": null,
     "exception": null,
     "start_time": null,
     "status": "pending"
    },
    "tags": []
   },
   "outputs": [
    {
     "data": {
      "text/html": [
       "<div>\n",
       "<style scoped>\n",
       "    .dataframe tbody tr th:only-of-type {\n",
       "        vertical-align: middle;\n",
       "    }\n",
       "\n",
       "    .dataframe tbody tr th {\n",
       "        vertical-align: top;\n",
       "    }\n",
       "\n",
       "    .dataframe thead th {\n",
       "        text-align: right;\n",
       "    }\n",
       "</style>\n",
       "<table border=\"1\" class=\"dataframe\">\n",
       "  <thead>\n",
       "    <tr style=\"text-align: right;\">\n",
       "      <th></th>\n",
       "      <th>region_chr</th>\n",
       "      <th>region_start</th>\n",
       "      <th>region_end</th>\n",
       "      <th>region_cpg_index_min</th>\n",
       "      <th>region_cpg_index_max</th>\n",
       "      <th>region_id</th>\n",
       "      <th>region_cpg_index_min_hg38</th>\n",
       "      <th>region_cpg_index_max_hg38</th>\n",
       "    </tr>\n",
       "  </thead>\n",
       "  <tbody>\n",
       "    <tr>\n",
       "      <th>0</th>\n",
       "      <td>chr1</td>\n",
       "      <td>1114771</td>\n",
       "      <td>1114971</td>\n",
       "      <td>20117</td>\n",
       "      <td>20129</td>\n",
       "      <td>Immune_Broad_B-chr1:1114772-1114971</td>\n",
       "      <td>21119</td>\n",
       "      <td>21131</td>\n",
       "    </tr>\n",
       "    <tr>\n",
       "      <th>1</th>\n",
       "      <td>chr1</td>\n",
       "      <td>1157450</td>\n",
       "      <td>1157720</td>\n",
       "      <td>21684</td>\n",
       "      <td>21703</td>\n",
       "      <td>Immune_Broad_NK-chr1:1157451-1157720</td>\n",
       "      <td>22686</td>\n",
       "      <td>22705</td>\n",
       "    </tr>\n",
       "    <tr>\n",
       "      <th>2</th>\n",
       "      <td>chr1</td>\n",
       "      <td>1157879</td>\n",
       "      <td>1158277</td>\n",
       "      <td>21710</td>\n",
       "      <td>21726</td>\n",
       "      <td>Immune_Broad_NK-chr1:1157880-1158277</td>\n",
       "      <td>22712</td>\n",
       "      <td>22728</td>\n",
       "    </tr>\n",
       "    <tr>\n",
       "      <th>14</th>\n",
       "      <td>chr1</td>\n",
       "      <td>6341182</td>\n",
       "      <td>6341377</td>\n",
       "      <td>140667</td>\n",
       "      <td>140681</td>\n",
       "      <td>Immune_Broad_Eosi-chr1:6341183-6341377</td>\n",
       "      <td>142368</td>\n",
       "      <td>142382</td>\n",
       "    </tr>\n",
       "    <tr>\n",
       "      <th>19</th>\n",
       "      <td>chr1</td>\n",
       "      <td>9147788</td>\n",
       "      <td>9147871</td>\n",
       "      <td>188605</td>\n",
       "      <td>188608</td>\n",
       "      <td>Immune_Broad_Neutro-chr1:9147789-9147871</td>\n",
       "      <td>190307</td>\n",
       "      <td>190310</td>\n",
       "    </tr>\n",
       "  </tbody>\n",
       "</table>\n",
       "</div>"
      ],
      "text/plain": [
       "   region_chr  region_start  region_end  region_cpg_index_min  region_cpg_index_max                                 region_id  region_cpg_index_min_hg38  region_cpg_index_max_hg38\n",
       "0        chr1       1114771     1114971                 20117                 20129       Immune_Broad_B-chr1:1114772-1114971                      21119                      21131\n",
       "1        chr1       1157450     1157720                 21684                 21703      Immune_Broad_NK-chr1:1157451-1157720                      22686                      22705\n",
       "2        chr1       1157879     1158277                 21710                 21726      Immune_Broad_NK-chr1:1157880-1158277                      22712                      22728\n",
       "14       chr1       6341182     6341377                140667                140681    Immune_Broad_Eosi-chr1:6341183-6341377                     142368                     142382\n",
       "19       chr1       9147788     9147871                188605                188608  Immune_Broad_Neutro-chr1:9147789-9147871                     190307                     190310"
      ]
     },
     "execution_count": 15,
     "metadata": {},
     "output_type": "execute_result"
    }
   ],
   "source": [
    "### Restrict to immune regions\n",
    "#-------------- CHANGE HERE FOR DIFFERENT REGION SUBSET ----------------------\n",
    "# BLUEPRINT immune regions\n",
    "ATLAS_PATH = PROJECT_DIR + f'/output/reference/deconv_inhouse_v2.atlas.tsv.gz'\n",
    "atlas = pd.read_csv(ATLAS_PATH, sep='\\t')\n",
    "subset_region_set = set(atlas.region_id)\n",
    "#-----------------------------------------------------------------------------\n",
    "\n",
    "# filter regions down to regions of interest\n",
    "region_df = region_df[region_df['region_id'].isin(subset_region_set)]\n",
    "region_df.head()"
   ]
  },
  {
   "cell_type": "code",
   "execution_count": null,
   "id": "53f959d7",
   "metadata": {
    "papermill": {
     "duration": null,
     "end_time": null,
     "exception": null,
     "start_time": null,
     "status": "pending"
    },
    "tags": []
   },
   "outputs": [
    {
     "name": "stdout",
     "output_type": "stream",
     "text": [
      ">>> Start computing score matrices <<< \n",
      "\n",
      "--> E2T_E2667B_E2667MONOMACRO_E2667NK\n",
      "--------> Computing score matrix for mix0_seed470800\n",
      "--------> Computing score matrix for mix1_seed966852\n",
      "--------> Computing score matrix for mix2_seed995826\n",
      "\n",
      "\n",
      "--> E01T_E33B_E33MONOMACRO_E33NK\n",
      "--------> Computing score matrix for mix0_seed327469\n",
      "--------> Computing score matrix for mix1_seed942713\n",
      "--------> Computing score matrix for mix2_seed899730\n"
     ]
    }
   ],
   "source": [
    "%%time\n",
    "\n",
    "PAT_COLS = [\n",
    "    'molecule_id', 'chr', 'number_molecules',\n",
    "    'cpg_index_min', 'cpg_index_max', 'pat_string', 'region_id', 'region_cpg_index_min', 'region_cpg_index_max'\n",
    "]\n",
    "\n",
    "QUANTILES = [0.1, 0.25, 0.75, 0.9]\n",
    "KMERS = [1, 3, 4]\n",
    "RATES_LEQ = [0.25]\n",
    "RATES_GEQ = [0.75]\n",
    "\n",
    "RETURN_SCHEMA = StructType()\\\n",
    "    .add('region_id', 'string')\\\n",
    "    .add('number_molecules', 'integer')\\\n",
    "    .add('meth_k1', 'integer')\\\n",
    "    .add('unmeth_k1', 'integer')\\\n",
    "    .add('total_k1', 'integer')\\\n",
    "    .add('meth_k3', 'integer')\\\n",
    "    .add('unmeth_k3', 'integer')\\\n",
    "    .add('total_k3', 'integer')\\\n",
    "    .add('meth_k4', 'integer')\\\n",
    "    .add('unmeth_k4', 'integer')\\\n",
    "    .add('total_k4', 'integer')\\\n",
    "    .add('frac_alpha_leq_25pct', 'float')\\\n",
    "    .add('frac_alpha_geq_75pct', 'float')\n",
    "\n",
    "compute_frag_scores_udf = sm.compute_frag_scores(cpg_number_cutoff=FILTER_CG_COUNT, schema=RETURN_SCHEMA, kmers=KMERS, rates_leq=RATES_LEQ, rates_geq=RATES_GEQ)\n",
    "\n",
    "\n",
    "# compute methyl score for are parquet files\n",
    "sm.score_matrix_from_mixture_directory(path_to_mixture_dir = PATH_TO_MIXTURE_DIR, \n",
    "                                       result_path = RESULT_PATH, \n",
    "                                       pat_cols = PAT_COLS, \n",
    "                                       region_df = region_df, \n",
    "                                       batch_size = 20, \n",
    "                                       schema = RETURN_SCHEMA, \n",
    "                                       spark=spark,\n",
    "                                       compute_frag_scores_udf=compute_frag_scores_udf,\n",
    "                                       save=True, \n",
    "                                       verbose=False)"
   ]
  },
  {
   "cell_type": "markdown",
   "id": "2fc6d39d",
   "metadata": {
    "papermill": {
     "duration": null,
     "end_time": null,
     "exception": null,
     "start_time": null,
     "status": "pending"
    },
    "tags": []
   },
   "source": [
    "## Deconvolution"
   ]
  },
  {
   "cell_type": "code",
   "execution_count": 28,
   "id": "7a4dab3e",
   "metadata": {
    "papermill": {
     "duration": null,
     "end_time": null,
     "exception": null,
     "start_time": null,
     "status": "pending"
    },
    "tags": []
   },
   "outputs": [],
   "source": [
    "############################\n",
    "#   Parameters and paths   # \n",
    "############################\n",
    "\n",
    "FILTER_COV = 20\n",
    "\n",
    "SCORE_VAR = 'frac_alpha_leq_25pct'\n",
    "\n",
    "# Reference matrix\n",
    "ATLAS_PATH = PROJECT_DIR + 'output/reference/deconv_inhouse_v2.loyfer.atlas.tsv.gz'\n",
    "REGION_PATH = PROJECT_DIR + 'output/reference/deconv_inhouse_v2.loyfer.region_to_ref_celltype.tsv.gz'\n",
    "\n",
    "# Methylation score matrix\n",
    "SCORE_DIR = EXPERIMENT_CELLTYPE_DIR + 'methyl_score/'\n"
   ]
  },
  {
   "cell_type": "code",
   "execution_count": 29,
   "id": "60c79122-77f7-4d63-bf12-866a9ec57097",
   "metadata": {
    "tags": []
   },
   "outputs": [
    {
     "data": {
      "text/plain": [
       "'/analysis/gh-msun/projects/2023_06_26_SRT_deconvolution_MS/output/experiment/primary_immune_loyfer/Blood-T-uniform//methyl_score/'"
      ]
     },
     "execution_count": 29,
     "metadata": {},
     "output_type": "execute_result"
    }
   ],
   "source": [
    "SCORE_DIR"
   ]
  },
  {
   "cell_type": "code",
   "execution_count": 30,
   "id": "9a10352e",
   "metadata": {
    "papermill": {
     "duration": null,
     "end_time": null,
     "exception": null,
     "start_time": null,
     "status": "pending"
    },
    "tags": []
   },
   "outputs": [
    {
     "data": {
      "text/plain": [
       "(275, 9)"
      ]
     },
     "execution_count": 30,
     "metadata": {},
     "output_type": "execute_result"
    }
   ],
   "source": [
    "atlas = pd.read_csv(ATLAS_PATH, sep='\\t',index_col=None)\n",
    "atlas = atlas.set_index('region_id')\n",
    "atlas.columns.name = 'ref_celltype'\n",
    "atlas.shape\n",
    "\n",
    "ref_region_df = pd.read_csv(REGION_PATH, sep='\\t')\n",
    "\n",
    "atlas = atlas.loc[ref_region_df['region_id'], :].copy()\n",
    "atlas.shape"
   ]
  },
  {
   "cell_type": "code",
   "execution_count": 31,
   "id": "f6131208",
   "metadata": {
    "papermill": {
     "duration": null,
     "end_time": null,
     "exception": null,
     "start_time": null,
     "status": "pending"
    },
    "tags": []
   },
   "outputs": [
    {
     "name": "stdout",
     "output_type": "stream",
     "text": [
      "CPU times: user 133 ms, sys: 10.6 ms, total: 144 ms\n",
      "Wall time: 143 ms\n"
     ]
    }
   ],
   "source": [
    "%%time\n",
    "\n",
    "deconvolution_nnls = dcnv.compute_deconvolution_from_methyl_score_dir_nnls(path_to_methyl_score_dir=SCORE_DIR, \n",
    "                                                                          score_type=SCORE_VAR, \n",
    "                                                                          atlas=atlas, \n",
    "                                                                          match=False)\n",
    "\n",
    "deconvolution_naive = dcnv.compute_deconvolution_from_methyl_score_dir_naive(path_to_methyl_score_dir=SCORE_DIR, \n",
    "                                                                             filter_cov=FILTER_COV, \n",
    "                                                                             score_var=SCORE_VAR, \n",
    "                                                                             ref_region_df=ref_region_df)\n"
   ]
  },
  {
   "cell_type": "code",
   "execution_count": 29,
   "id": "c30e91ea-5257-4692-9103-06eb9a258d09",
   "metadata": {
    "tags": []
   },
   "outputs": [],
   "source": [
    "SCORE_PATH1 = SCORE_DIR + 'EB_E3333T_E3333MONOMACRO_E3333NK/mix0_seed997493.tsv.gz'\n",
    "loyfer_B0 = pd.read_csv(SCORE_PATH1, sep='\\t')"
   ]
  },
  {
   "cell_type": "code",
   "execution_count": 50,
   "id": "308a593b-6f8a-4035-9940-19d6e6f3329e",
   "metadata": {
    "tags": []
   },
   "outputs": [
    {
     "data": {
      "text/plain": [
       "ref_celltype\n",
       "eryth_prog                          0.121197\n",
       "immune_b                            0.235127\n",
       "immune_dend_plus_macro_plus_mono    0.106575\n",
       "immune_eosi                         0.119970\n",
       "immune_eryth                        0.130285\n",
       "immune_mega                         0.154375\n",
       "immune_neutro                       0.154515\n",
       "immune_nk                           0.128267\n",
       "immune_t                            0.187473\n",
       "Name: coeff, dtype: float64"
      ]
     },
     "execution_count": 50,
     "metadata": {},
     "output_type": "execute_result"
    }
   ],
   "source": [
    "dcnv.compute_deconvolution_naive(score_df_path=SCORE_PATH1, filter_cov=20, score_var=SCORE_VAR, ref_region_df=ref_region_df)"
   ]
  },
  {
   "cell_type": "code",
   "execution_count": 30,
   "id": "9555d175-d54a-4c1c-b9d2-02c4fa402eb8",
   "metadata": {
    "tags": []
   },
   "outputs": [],
   "source": [
    "SCORE_PATH2 = SCORE_DIR + 'E2B_E2667T_E2667MONOMACRO_E2667NK/mix0_seed470800.tsv.gz'\n",
    "loyfer_B20 = pd.read_csv(SCORE_PATH2, sep='\\t')"
   ]
  },
  {
   "cell_type": "code",
   "execution_count": 51,
   "id": "7d5a87ae-f7a8-4dfc-a48e-6ceaeded9256",
   "metadata": {
    "tags": []
   },
   "outputs": [
    {
     "data": {
      "text/plain": [
       "ref_celltype\n",
       "eryth_prog                          0.121456\n",
       "immune_b                            0.237792\n",
       "immune_dend_plus_macro_plus_mono    0.105996\n",
       "immune_eosi                         0.119606\n",
       "immune_eryth                        0.135996\n",
       "immune_mega                         0.162677\n",
       "immune_neutro                       0.157330\n",
       "immune_nk                           0.129118\n",
       "immune_t                            0.173847\n",
       "Name: coeff, dtype: float64"
      ]
     },
     "execution_count": 51,
     "metadata": {},
     "output_type": "execute_result"
    }
   ],
   "source": [
    "dcnv.compute_deconvolution_naive(score_df_path=SCORE_PATH2, filter_cov=20, score_var=SCORE_VAR, ref_region_df=ref_region_df)"
   ]
  },
  {
   "cell_type": "code",
   "execution_count": 31,
   "id": "86213336-b5f8-4ce6-ab28-99cedc39a686",
   "metadata": {
    "tags": []
   },
   "outputs": [],
   "source": [
    "SCORE_PATH3 = '/analysis/gh-msun/projects/2023_06_26_SRT_deconvolution_MS/output/experiment/primary_immune/Blueprint-B-uniform/methyl_score/EB_E2CD4_E2CD8_E2NK_E2MONO_E2NEUTRO/mix0_seed912604.tsv.gz'\n",
    "blueprint_B0 = pd.read_csv(SCORE_PATH3, sep='\\t')"
   ]
  },
  {
   "cell_type": "code",
   "execution_count": 54,
   "id": "e5ea77bc-d981-4031-bf39-425d4891a5df",
   "metadata": {
    "tags": []
   },
   "outputs": [
    {
     "data": {
      "text/plain": [
       "ref_celltype\n",
       "eryth_prog                          0.003064\n",
       "immune_b                            0.007606\n",
       "immune_dend_plus_macro_plus_mono    0.164733\n",
       "immune_eosi                         0.004984\n",
       "immune_eryth                        0.006437\n",
       "immune_mega                         0.007576\n",
       "immune_neutro                       0.183961\n",
       "immune_nk                           0.193901\n",
       "immune_t                            0.348516\n",
       "Name: coeff, dtype: float64"
      ]
     },
     "execution_count": 54,
     "metadata": {},
     "output_type": "execute_result"
    }
   ],
   "source": [
    "dcnv.compute_deconvolution_naive(score_df_path=SCORE_PATH3, filter_cov=20, score_var=SCORE_VAR, ref_region_df=ref_region_df)"
   ]
  },
  {
   "cell_type": "code",
   "execution_count": 32,
   "id": "c9af3104-a7ae-46f0-8ffb-6c828df184cf",
   "metadata": {
    "tags": []
   },
   "outputs": [],
   "source": [
    "SCORE_PATH4 = '/analysis/gh-msun/projects/2023_06_26_SRT_deconvolution_MS/output/experiment/primary_immune/Blueprint-B-uniform/methyl_score/E2B_E16CD4_E16CD8_E16NK_E16MONO_E16NEUTRO/mix0_seed10677.tsv.gz'\n",
    "blueprint_B20 = pd.read_csv(SCORE_PATH4, sep='\\t')"
   ]
  },
  {
   "cell_type": "code",
   "execution_count": 55,
   "id": "0eddb01d-4c45-4c80-9c45-43fe542b6239",
   "metadata": {
    "tags": []
   },
   "outputs": [
    {
     "data": {
      "text/plain": [
       "ref_celltype\n",
       "eryth_prog                          0.003423\n",
       "immune_b                            0.185802\n",
       "immune_dend_plus_macro_plus_mono    0.135782\n",
       "immune_eosi                         0.007500\n",
       "immune_eryth                        0.006425\n",
       "immune_mega                         0.007271\n",
       "immune_neutro                       0.141616\n",
       "immune_nk                           0.152089\n",
       "immune_t                            0.275966\n",
       "Name: coeff, dtype: float64"
      ]
     },
     "execution_count": 55,
     "metadata": {},
     "output_type": "execute_result"
    }
   ],
   "source": [
    "dcnv.compute_deconvolution_naive(score_df_path=SCORE_PATH4, filter_cov=20, score_var=SCORE_VAR, ref_region_df=ref_region_df)"
   ]
  },
  {
   "cell_type": "code",
   "execution_count": 39,
   "id": "859d6e61-f04d-4f04-9805-6565db4e0314",
   "metadata": {
    "tags": []
   },
   "outputs": [
    {
     "data": {
      "text/html": [
       "<div>\n",
       "<style scoped>\n",
       "    .dataframe tbody tr th:only-of-type {\n",
       "        vertical-align: middle;\n",
       "    }\n",
       "\n",
       "    .dataframe tbody tr th {\n",
       "        vertical-align: top;\n",
       "    }\n",
       "\n",
       "    .dataframe thead th {\n",
       "        text-align: right;\n",
       "    }\n",
       "</style>\n",
       "<table border=\"1\" class=\"dataframe\">\n",
       "  <thead>\n",
       "    <tr style=\"text-align: right;\">\n",
       "      <th></th>\n",
       "      <th>region_id</th>\n",
       "      <th>number_molecules</th>\n",
       "      <th>meth_k1</th>\n",
       "      <th>unmeth_k1</th>\n",
       "      <th>total_k1</th>\n",
       "      <th>meth_k3</th>\n",
       "      <th>unmeth_k3</th>\n",
       "      <th>total_k3</th>\n",
       "      <th>meth_k4</th>\n",
       "      <th>unmeth_k4</th>\n",
       "      <th>total_k4</th>\n",
       "      <th>frac_alpha_leq_25pct</th>\n",
       "      <th>frac_alpha_geq_75pct</th>\n",
       "    </tr>\n",
       "  </thead>\n",
       "  <tbody>\n",
       "    <tr>\n",
       "      <th>1483</th>\n",
       "      <td>Immune_Broad_B-chr21:37608659-37608870</td>\n",
       "      <td>362</td>\n",
       "      <td>1031</td>\n",
       "      <td>55</td>\n",
       "      <td>1086</td>\n",
       "      <td>318</td>\n",
       "      <td>2</td>\n",
       "      <td>362</td>\n",
       "      <td>0</td>\n",
       "      <td>0</td>\n",
       "      <td>0</td>\n",
       "      <td>0.005525</td>\n",
       "      <td>0.878453</td>\n",
       "    </tr>\n",
       "    <tr>\n",
       "      <th>1484</th>\n",
       "      <td>Immune_Broad_B-chr3:16475319-16475457</td>\n",
       "      <td>527</td>\n",
       "      <td>19</td>\n",
       "      <td>2751</td>\n",
       "      <td>2770</td>\n",
       "      <td>0</td>\n",
       "      <td>1666</td>\n",
       "      <td>1704</td>\n",
       "      <td>0</td>\n",
       "      <td>1146</td>\n",
       "      <td>1178</td>\n",
       "      <td>0.996205</td>\n",
       "      <td>0.000000</td>\n",
       "    </tr>\n",
       "    <tr>\n",
       "      <th>1485</th>\n",
       "      <td>Immune_Broad_B-chr5:6652251-6652334</td>\n",
       "      <td>421</td>\n",
       "      <td>1390</td>\n",
       "      <td>80</td>\n",
       "      <td>1470</td>\n",
       "      <td>526</td>\n",
       "      <td>0</td>\n",
       "      <td>627</td>\n",
       "      <td>157</td>\n",
       "      <td>0</td>\n",
       "      <td>207</td>\n",
       "      <td>0.000000</td>\n",
       "      <td>0.933492</td>\n",
       "    </tr>\n",
       "    <tr>\n",
       "      <th>1486</th>\n",
       "      <td>Immune_Broad_B-chr7:403585-403752</td>\n",
       "      <td>977</td>\n",
       "      <td>3117</td>\n",
       "      <td>577</td>\n",
       "      <td>3694</td>\n",
       "      <td>1069</td>\n",
       "      <td>9</td>\n",
       "      <td>1676</td>\n",
       "      <td>397</td>\n",
       "      <td>1</td>\n",
       "      <td>716</td>\n",
       "      <td>0.006141</td>\n",
       "      <td>0.719550</td>\n",
       "    </tr>\n",
       "    <tr>\n",
       "      <th>1487</th>\n",
       "      <td>Immune_Broad_B-chr9:35719096-35719254</td>\n",
       "      <td>782</td>\n",
       "      <td>2419</td>\n",
       "      <td>411</td>\n",
       "      <td>2830</td>\n",
       "      <td>778</td>\n",
       "      <td>9</td>\n",
       "      <td>1212</td>\n",
       "      <td>235</td>\n",
       "      <td>4</td>\n",
       "      <td>434</td>\n",
       "      <td>0.008951</td>\n",
       "      <td>0.737852</td>\n",
       "    </tr>\n",
       "  </tbody>\n",
       "</table>\n",
       "</div>"
      ],
      "text/plain": [
       "                                   region_id  number_molecules  meth_k1  unmeth_k1  total_k1  meth_k3  unmeth_k3  total_k3  meth_k4  unmeth_k4  total_k4  frac_alpha_leq_25pct  frac_alpha_geq_75pct\n",
       "1483  Immune_Broad_B-chr21:37608659-37608870               362     1031         55      1086      318          2       362        0          0         0              0.005525              0.878453\n",
       "1484   Immune_Broad_B-chr3:16475319-16475457               527       19       2751      2770        0       1666      1704        0       1146      1178              0.996205              0.000000\n",
       "1485     Immune_Broad_B-chr5:6652251-6652334               421     1390         80      1470      526          0       627      157          0       207              0.000000              0.933492\n",
       "1486       Immune_Broad_B-chr7:403585-403752               977     3117        577      3694     1069          9      1676      397          1       716              0.006141              0.719550\n",
       "1487   Immune_Broad_B-chr9:35719096-35719254               782     2419        411      2830      778          9      1212      235          4       434              0.008951              0.737852"
      ]
     },
     "execution_count": 39,
     "metadata": {},
     "output_type": "execute_result"
    }
   ],
   "source": [
    "word = 'Broad_B'\n",
    "loyfer_B0[loyfer_B0['region_id'].str.contains(word)].tail()"
   ]
  },
  {
   "cell_type": "code",
   "execution_count": 38,
   "id": "3d0dcea4-ccf9-4403-9ef6-77a567de361d",
   "metadata": {
    "tags": []
   },
   "outputs": [
    {
     "data": {
      "text/html": [
       "<div>\n",
       "<style scoped>\n",
       "    .dataframe tbody tr th:only-of-type {\n",
       "        vertical-align: middle;\n",
       "    }\n",
       "\n",
       "    .dataframe tbody tr th {\n",
       "        vertical-align: top;\n",
       "    }\n",
       "\n",
       "    .dataframe thead th {\n",
       "        text-align: right;\n",
       "    }\n",
       "</style>\n",
       "<table border=\"1\" class=\"dataframe\">\n",
       "  <thead>\n",
       "    <tr style=\"text-align: right;\">\n",
       "      <th></th>\n",
       "      <th>region_id</th>\n",
       "      <th>number_molecules</th>\n",
       "      <th>meth_k1</th>\n",
       "      <th>unmeth_k1</th>\n",
       "      <th>total_k1</th>\n",
       "      <th>meth_k3</th>\n",
       "      <th>unmeth_k3</th>\n",
       "      <th>total_k3</th>\n",
       "      <th>meth_k4</th>\n",
       "      <th>unmeth_k4</th>\n",
       "      <th>total_k4</th>\n",
       "      <th>frac_alpha_leq_25pct</th>\n",
       "      <th>frac_alpha_geq_75pct</th>\n",
       "    </tr>\n",
       "  </thead>\n",
       "  <tbody>\n",
       "    <tr>\n",
       "      <th>1485</th>\n",
       "      <td>Immune_Broad_B-chr21:37608659-37608870</td>\n",
       "      <td>380</td>\n",
       "      <td>1094</td>\n",
       "      <td>46</td>\n",
       "      <td>1140</td>\n",
       "      <td>341</td>\n",
       "      <td>1</td>\n",
       "      <td>380</td>\n",
       "      <td>0</td>\n",
       "      <td>0</td>\n",
       "      <td>0</td>\n",
       "      <td>0.002632</td>\n",
       "      <td>0.897368</td>\n",
       "    </tr>\n",
       "    <tr>\n",
       "      <th>1486</th>\n",
       "      <td>Immune_Broad_B-chr3:16475319-16475457</td>\n",
       "      <td>443</td>\n",
       "      <td>16</td>\n",
       "      <td>2343</td>\n",
       "      <td>2359</td>\n",
       "      <td>0</td>\n",
       "      <td>1429</td>\n",
       "      <td>1457</td>\n",
       "      <td>0</td>\n",
       "      <td>990</td>\n",
       "      <td>1015</td>\n",
       "      <td>0.995485</td>\n",
       "      <td>0.000000</td>\n",
       "    </tr>\n",
       "    <tr>\n",
       "      <th>1487</th>\n",
       "      <td>Immune_Broad_B-chr5:6652251-6652334</td>\n",
       "      <td>409</td>\n",
       "      <td>1349</td>\n",
       "      <td>79</td>\n",
       "      <td>1428</td>\n",
       "      <td>522</td>\n",
       "      <td>1</td>\n",
       "      <td>607</td>\n",
       "      <td>167</td>\n",
       "      <td>0</td>\n",
       "      <td>201</td>\n",
       "      <td>0.004890</td>\n",
       "      <td>0.907091</td>\n",
       "    </tr>\n",
       "    <tr>\n",
       "      <th>1488</th>\n",
       "      <td>Immune_Broad_B-chr7:403585-403752</td>\n",
       "      <td>992</td>\n",
       "      <td>3269</td>\n",
       "      <td>505</td>\n",
       "      <td>3774</td>\n",
       "      <td>1185</td>\n",
       "      <td>12</td>\n",
       "      <td>1714</td>\n",
       "      <td>469</td>\n",
       "      <td>1</td>\n",
       "      <td>744</td>\n",
       "      <td>0.007056</td>\n",
       "      <td>0.762097</td>\n",
       "    </tr>\n",
       "    <tr>\n",
       "      <th>1489</th>\n",
       "      <td>Immune_Broad_B-chr9:35719096-35719254</td>\n",
       "      <td>751</td>\n",
       "      <td>2357</td>\n",
       "      <td>359</td>\n",
       "      <td>2716</td>\n",
       "      <td>782</td>\n",
       "      <td>2</td>\n",
       "      <td>1159</td>\n",
       "      <td>241</td>\n",
       "      <td>0</td>\n",
       "      <td>416</td>\n",
       "      <td>0.003995</td>\n",
       "      <td>0.760320</td>\n",
       "    </tr>\n",
       "  </tbody>\n",
       "</table>\n",
       "</div>"
      ],
      "text/plain": [
       "                                   region_id  number_molecules  meth_k1  unmeth_k1  total_k1  meth_k3  unmeth_k3  total_k3  meth_k4  unmeth_k4  total_k4  frac_alpha_leq_25pct  frac_alpha_geq_75pct\n",
       "1485  Immune_Broad_B-chr21:37608659-37608870               380     1094         46      1140      341          1       380        0          0         0              0.002632              0.897368\n",
       "1486   Immune_Broad_B-chr3:16475319-16475457               443       16       2343      2359        0       1429      1457        0        990      1015              0.995485              0.000000\n",
       "1487     Immune_Broad_B-chr5:6652251-6652334               409     1349         79      1428      522          1       607      167          0       201              0.004890              0.907091\n",
       "1488       Immune_Broad_B-chr7:403585-403752               992     3269        505      3774     1185         12      1714      469          1       744              0.007056              0.762097\n",
       "1489   Immune_Broad_B-chr9:35719096-35719254               751     2357        359      2716      782          2      1159      241          0       416              0.003995              0.760320"
      ]
     },
     "execution_count": 38,
     "metadata": {},
     "output_type": "execute_result"
    }
   ],
   "source": [
    "word = 'Broad_B'\n",
    "loyfer_B20[loyfer_B20['region_id'].str.contains(word)].tail()"
   ]
  },
  {
   "cell_type": "code",
   "execution_count": 40,
   "id": "7987980e-ea4a-4dc9-9bb1-b176b9c4ea84",
   "metadata": {
    "tags": []
   },
   "outputs": [
    {
     "data": {
      "text/html": [
       "<div>\n",
       "<style scoped>\n",
       "    .dataframe tbody tr th:only-of-type {\n",
       "        vertical-align: middle;\n",
       "    }\n",
       "\n",
       "    .dataframe tbody tr th {\n",
       "        vertical-align: top;\n",
       "    }\n",
       "\n",
       "    .dataframe thead th {\n",
       "        text-align: right;\n",
       "    }\n",
       "</style>\n",
       "<table border=\"1\" class=\"dataframe\">\n",
       "  <thead>\n",
       "    <tr style=\"text-align: right;\">\n",
       "      <th></th>\n",
       "      <th>region_id</th>\n",
       "      <th>number_molecules</th>\n",
       "      <th>meth_k1</th>\n",
       "      <th>unmeth_k1</th>\n",
       "      <th>total_k1</th>\n",
       "      <th>meth_k3</th>\n",
       "      <th>unmeth_k3</th>\n",
       "      <th>total_k3</th>\n",
       "      <th>meth_k4</th>\n",
       "      <th>unmeth_k4</th>\n",
       "      <th>total_k4</th>\n",
       "      <th>frac_alpha_leq_25pct</th>\n",
       "      <th>frac_alpha_geq_75pct</th>\n",
       "    </tr>\n",
       "  </thead>\n",
       "  <tbody>\n",
       "    <tr>\n",
       "      <th>1512</th>\n",
       "      <td>Immune_Broad_B-chr21:37608659-37608870</td>\n",
       "      <td>307</td>\n",
       "      <td>1039</td>\n",
       "      <td>62</td>\n",
       "      <td>1101</td>\n",
       "      <td>419</td>\n",
       "      <td>4</td>\n",
       "      <td>477</td>\n",
       "      <td>149</td>\n",
       "      <td>1</td>\n",
       "      <td>179</td>\n",
       "      <td>0.009772</td>\n",
       "      <td>0.918567</td>\n",
       "    </tr>\n",
       "    <tr>\n",
       "      <th>1513</th>\n",
       "      <td>Immune_Broad_B-chr3:16475319-16475457</td>\n",
       "      <td>463</td>\n",
       "      <td>2226</td>\n",
       "      <td>201</td>\n",
       "      <td>2427</td>\n",
       "      <td>1161</td>\n",
       "      <td>14</td>\n",
       "      <td>1429</td>\n",
       "      <td>745</td>\n",
       "      <td>5</td>\n",
       "      <td>951</td>\n",
       "      <td>0.010799</td>\n",
       "      <td>0.870410</td>\n",
       "    </tr>\n",
       "    <tr>\n",
       "      <th>1514</th>\n",
       "      <td>Immune_Broad_B-chr5:6652251-6652334</td>\n",
       "      <td>388</td>\n",
       "      <td>1195</td>\n",
       "      <td>173</td>\n",
       "      <td>1368</td>\n",
       "      <td>410</td>\n",
       "      <td>0</td>\n",
       "      <td>575</td>\n",
       "      <td>91</td>\n",
       "      <td>0</td>\n",
       "      <td>204</td>\n",
       "      <td>0.005155</td>\n",
       "      <td>0.858247</td>\n",
       "    </tr>\n",
       "    <tr>\n",
       "      <th>1515</th>\n",
       "      <td>Immune_Broad_B-chr7:403585-403752</td>\n",
       "      <td>808</td>\n",
       "      <td>4177</td>\n",
       "      <td>740</td>\n",
       "      <td>4917</td>\n",
       "      <td>2039</td>\n",
       "      <td>43</td>\n",
       "      <td>3148</td>\n",
       "      <td>1325</td>\n",
       "      <td>24</td>\n",
       "      <td>2313</td>\n",
       "      <td>0.014851</td>\n",
       "      <td>0.778465</td>\n",
       "    </tr>\n",
       "    <tr>\n",
       "      <th>1516</th>\n",
       "      <td>Immune_Broad_B-chr9:35719096-35719254</td>\n",
       "      <td>408</td>\n",
       "      <td>2140</td>\n",
       "      <td>88</td>\n",
       "      <td>2228</td>\n",
       "      <td>1209</td>\n",
       "      <td>0</td>\n",
       "      <td>1360</td>\n",
       "      <td>809</td>\n",
       "      <td>0</td>\n",
       "      <td>943</td>\n",
       "      <td>0.000000</td>\n",
       "      <td>0.958333</td>\n",
       "    </tr>\n",
       "  </tbody>\n",
       "</table>\n",
       "</div>"
      ],
      "text/plain": [
       "                                   region_id  number_molecules  meth_k1  unmeth_k1  total_k1  meth_k3  unmeth_k3  total_k3  meth_k4  unmeth_k4  total_k4  frac_alpha_leq_25pct  frac_alpha_geq_75pct\n",
       "1512  Immune_Broad_B-chr21:37608659-37608870               307     1039         62      1101      419          4       477      149          1       179              0.009772              0.918567\n",
       "1513   Immune_Broad_B-chr3:16475319-16475457               463     2226        201      2427     1161         14      1429      745          5       951              0.010799              0.870410\n",
       "1514     Immune_Broad_B-chr5:6652251-6652334               388     1195        173      1368      410          0       575       91          0       204              0.005155              0.858247\n",
       "1515       Immune_Broad_B-chr7:403585-403752               808     4177        740      4917     2039         43      3148     1325         24      2313              0.014851              0.778465\n",
       "1516   Immune_Broad_B-chr9:35719096-35719254               408     2140         88      2228     1209          0      1360      809          0       943              0.000000              0.958333"
      ]
     },
     "execution_count": 40,
     "metadata": {},
     "output_type": "execute_result"
    }
   ],
   "source": [
    "word = 'Broad_B'\n",
    "blueprint_B0[blueprint_B0['region_id'].str.contains(word)].tail()"
   ]
  },
  {
   "cell_type": "code",
   "execution_count": 41,
   "id": "8cc835bf-9c9a-4d64-a320-a0418697fe2a",
   "metadata": {
    "tags": []
   },
   "outputs": [
    {
     "data": {
      "text/html": [
       "<div>\n",
       "<style scoped>\n",
       "    .dataframe tbody tr th:only-of-type {\n",
       "        vertical-align: middle;\n",
       "    }\n",
       "\n",
       "    .dataframe tbody tr th {\n",
       "        vertical-align: top;\n",
       "    }\n",
       "\n",
       "    .dataframe thead th {\n",
       "        text-align: right;\n",
       "    }\n",
       "</style>\n",
       "<table border=\"1\" class=\"dataframe\">\n",
       "  <thead>\n",
       "    <tr style=\"text-align: right;\">\n",
       "      <th></th>\n",
       "      <th>region_id</th>\n",
       "      <th>number_molecules</th>\n",
       "      <th>meth_k1</th>\n",
       "      <th>unmeth_k1</th>\n",
       "      <th>total_k1</th>\n",
       "      <th>meth_k3</th>\n",
       "      <th>unmeth_k3</th>\n",
       "      <th>total_k3</th>\n",
       "      <th>meth_k4</th>\n",
       "      <th>unmeth_k4</th>\n",
       "      <th>total_k4</th>\n",
       "      <th>frac_alpha_leq_25pct</th>\n",
       "      <th>frac_alpha_geq_75pct</th>\n",
       "    </tr>\n",
       "  </thead>\n",
       "  <tbody>\n",
       "    <tr>\n",
       "      <th>1512</th>\n",
       "      <td>Immune_Broad_B-chr21:37608659-37608870</td>\n",
       "      <td>331</td>\n",
       "      <td>930</td>\n",
       "      <td>245</td>\n",
       "      <td>1175</td>\n",
       "      <td>352</td>\n",
       "      <td>70</td>\n",
       "      <td>496</td>\n",
       "      <td>121</td>\n",
       "      <td>26</td>\n",
       "      <td>181</td>\n",
       "      <td>0.160121</td>\n",
       "      <td>0.758308</td>\n",
       "    </tr>\n",
       "    <tr>\n",
       "      <th>1513</th>\n",
       "      <td>Immune_Broad_B-chr3:16475319-16475457</td>\n",
       "      <td>464</td>\n",
       "      <td>1771</td>\n",
       "      <td>625</td>\n",
       "      <td>2396</td>\n",
       "      <td>907</td>\n",
       "      <td>272</td>\n",
       "      <td>1418</td>\n",
       "      <td>581</td>\n",
       "      <td>175</td>\n",
       "      <td>948</td>\n",
       "      <td>0.200431</td>\n",
       "      <td>0.693966</td>\n",
       "    </tr>\n",
       "    <tr>\n",
       "      <th>1514</th>\n",
       "      <td>Immune_Broad_B-chr5:6652251-6652334</td>\n",
       "      <td>375</td>\n",
       "      <td>949</td>\n",
       "      <td>372</td>\n",
       "      <td>1321</td>\n",
       "      <td>330</td>\n",
       "      <td>94</td>\n",
       "      <td>556</td>\n",
       "      <td>72</td>\n",
       "      <td>32</td>\n",
       "      <td>196</td>\n",
       "      <td>0.181333</td>\n",
       "      <td>0.709333</td>\n",
       "    </tr>\n",
       "    <tr>\n",
       "      <th>1515</th>\n",
       "      <td>Immune_Broad_B-chr7:403585-403752</td>\n",
       "      <td>762</td>\n",
       "      <td>3230</td>\n",
       "      <td>1506</td>\n",
       "      <td>4736</td>\n",
       "      <td>1570</td>\n",
       "      <td>622</td>\n",
       "      <td>3079</td>\n",
       "      <td>1005</td>\n",
       "      <td>438</td>\n",
       "      <td>2284</td>\n",
       "      <td>0.213911</td>\n",
       "      <td>0.635171</td>\n",
       "    </tr>\n",
       "    <tr>\n",
       "      <th>1516</th>\n",
       "      <td>Immune_Broad_B-chr9:35719096-35719254</td>\n",
       "      <td>362</td>\n",
       "      <td>1544</td>\n",
       "      <td>434</td>\n",
       "      <td>1978</td>\n",
       "      <td>886</td>\n",
       "      <td>217</td>\n",
       "      <td>1214</td>\n",
       "      <td>606</td>\n",
       "      <td>144</td>\n",
       "      <td>847</td>\n",
       "      <td>0.198895</td>\n",
       "      <td>0.762431</td>\n",
       "    </tr>\n",
       "  </tbody>\n",
       "</table>\n",
       "</div>"
      ],
      "text/plain": [
       "                                   region_id  number_molecules  meth_k1  unmeth_k1  total_k1  meth_k3  unmeth_k3  total_k3  meth_k4  unmeth_k4  total_k4  frac_alpha_leq_25pct  frac_alpha_geq_75pct\n",
       "1512  Immune_Broad_B-chr21:37608659-37608870               331      930        245      1175      352         70       496      121         26       181              0.160121              0.758308\n",
       "1513   Immune_Broad_B-chr3:16475319-16475457               464     1771        625      2396      907        272      1418      581        175       948              0.200431              0.693966\n",
       "1514     Immune_Broad_B-chr5:6652251-6652334               375      949        372      1321      330         94       556       72         32       196              0.181333              0.709333\n",
       "1515       Immune_Broad_B-chr7:403585-403752               762     3230       1506      4736     1570        622      3079     1005        438      2284              0.213911              0.635171\n",
       "1516   Immune_Broad_B-chr9:35719096-35719254               362     1544        434      1978      886        217      1214      606        144       847              0.198895              0.762431"
      ]
     },
     "execution_count": 41,
     "metadata": {},
     "output_type": "execute_result"
    }
   ],
   "source": [
    "word = 'Broad_B'\n",
    "blueprint_B20[blueprint_B20['region_id'].str.contains(word)].tail()"
   ]
  },
  {
   "cell_type": "code",
   "execution_count": null,
   "id": "0731ae29-18c4-41e8-83ec-80f17d8e7527",
   "metadata": {},
   "outputs": [],
   "source": []
  },
  {
   "cell_type": "code",
   "execution_count": null,
   "id": "de0e4fa4-8686-4662-8dc1-2997acff6e2a",
   "metadata": {},
   "outputs": [],
   "source": []
  },
  {
   "cell_type": "code",
   "execution_count": 32,
   "id": "cd619c0c-63d6-42f9-b854-523cc001ff7c",
   "metadata": {
    "tags": []
   },
   "outputs": [
    {
     "data": {
      "text/html": [
       "<div>\n",
       "<style scoped>\n",
       "    .dataframe tbody tr th:only-of-type {\n",
       "        vertical-align: middle;\n",
       "    }\n",
       "\n",
       "    .dataframe tbody tr th {\n",
       "        vertical-align: top;\n",
       "    }\n",
       "\n",
       "    .dataframe thead th {\n",
       "        text-align: right;\n",
       "    }\n",
       "</style>\n",
       "<table border=\"1\" class=\"dataframe\">\n",
       "  <thead>\n",
       "    <tr style=\"text-align: right;\">\n",
       "      <th></th>\n",
       "      <th>0</th>\n",
       "      <th>1</th>\n",
       "      <th>2</th>\n",
       "    </tr>\n",
       "    <tr>\n",
       "      <th>ref_celltype</th>\n",
       "      <th></th>\n",
       "      <th></th>\n",
       "      <th></th>\n",
       "    </tr>\n",
       "  </thead>\n",
       "  <tbody>\n",
       "    <tr>\n",
       "      <th>immune_eosi</th>\n",
       "      <td>0.103913</td>\n",
       "      <td>0.104585</td>\n",
       "      <td>0.105166</td>\n",
       "    </tr>\n",
       "    <tr>\n",
       "      <th>immune_eryth</th>\n",
       "      <td>0.014582</td>\n",
       "      <td>0.012570</td>\n",
       "      <td>0.017590</td>\n",
       "    </tr>\n",
       "    <tr>\n",
       "      <th>immune_mega</th>\n",
       "      <td>0.080691</td>\n",
       "      <td>0.092262</td>\n",
       "      <td>0.084266</td>\n",
       "    </tr>\n",
       "    <tr>\n",
       "      <th>eryth_prog</th>\n",
       "      <td>0.119276</td>\n",
       "      <td>0.118890</td>\n",
       "      <td>0.118074</td>\n",
       "    </tr>\n",
       "    <tr>\n",
       "      <th>immune_b</th>\n",
       "      <td>0.242153</td>\n",
       "      <td>0.237382</td>\n",
       "      <td>0.243314</td>\n",
       "    </tr>\n",
       "    <tr>\n",
       "      <th>immune_t</th>\n",
       "      <td>0.161939</td>\n",
       "      <td>0.157565</td>\n",
       "      <td>0.156582</td>\n",
       "    </tr>\n",
       "    <tr>\n",
       "      <th>immune_dend_plus_macro_plus_mono</th>\n",
       "      <td>0.092225</td>\n",
       "      <td>0.096818</td>\n",
       "      <td>0.097775</td>\n",
       "    </tr>\n",
       "    <tr>\n",
       "      <th>immune_nk</th>\n",
       "      <td>0.136478</td>\n",
       "      <td>0.131365</td>\n",
       "      <td>0.122707</td>\n",
       "    </tr>\n",
       "    <tr>\n",
       "      <th>immune_neutro</th>\n",
       "      <td>0.151108</td>\n",
       "      <td>0.151297</td>\n",
       "      <td>0.150349</td>\n",
       "    </tr>\n",
       "  </tbody>\n",
       "</table>\n",
       "</div>"
      ],
      "text/plain": [
       "                                         0         1         2\n",
       "ref_celltype                                                  \n",
       "immune_eosi                       0.103913  0.104585  0.105166\n",
       "immune_eryth                      0.014582  0.012570  0.017590\n",
       "immune_mega                       0.080691  0.092262  0.084266\n",
       "eryth_prog                        0.119276  0.118890  0.118074\n",
       "immune_b                          0.242153  0.237382  0.243314\n",
       "immune_t                          0.161939  0.157565  0.156582\n",
       "immune_dend_plus_macro_plus_mono  0.092225  0.096818  0.097775\n",
       "immune_nk                         0.136478  0.131365  0.122707\n",
       "immune_neutro                     0.151108  0.151297  0.150349"
      ]
     },
     "execution_count": 32,
     "metadata": {},
     "output_type": "execute_result"
    }
   ],
   "source": [
    "deconvolution_nnls[0]"
   ]
  },
  {
   "cell_type": "code",
   "execution_count": 33,
   "id": "4abd9565-4498-4228-8e29-e933887ee045",
   "metadata": {
    "tags": []
   },
   "outputs": [
    {
     "data": {
      "text/html": [
       "<div>\n",
       "<style scoped>\n",
       "    .dataframe tbody tr th:only-of-type {\n",
       "        vertical-align: middle;\n",
       "    }\n",
       "\n",
       "    .dataframe tbody tr th {\n",
       "        vertical-align: top;\n",
       "    }\n",
       "\n",
       "    .dataframe thead th {\n",
       "        text-align: right;\n",
       "    }\n",
       "</style>\n",
       "<table border=\"1\" class=\"dataframe\">\n",
       "  <thead>\n",
       "    <tr style=\"text-align: right;\">\n",
       "      <th></th>\n",
       "      <th>0</th>\n",
       "      <th>1</th>\n",
       "      <th>2</th>\n",
       "    </tr>\n",
       "    <tr>\n",
       "      <th>ref_celltype</th>\n",
       "      <th></th>\n",
       "      <th></th>\n",
       "      <th></th>\n",
       "    </tr>\n",
       "  </thead>\n",
       "  <tbody>\n",
       "    <tr>\n",
       "      <th>immune_eosi</th>\n",
       "      <td>0.106723</td>\n",
       "      <td>0.103791</td>\n",
       "      <td>0.104916</td>\n",
       "    </tr>\n",
       "    <tr>\n",
       "      <th>immune_eryth</th>\n",
       "      <td>0.009365</td>\n",
       "      <td>0.013953</td>\n",
       "      <td>0.007706</td>\n",
       "    </tr>\n",
       "    <tr>\n",
       "      <th>immune_mega</th>\n",
       "      <td>0.090124</td>\n",
       "      <td>0.089498</td>\n",
       "      <td>0.083248</td>\n",
       "    </tr>\n",
       "    <tr>\n",
       "      <th>eryth_prog</th>\n",
       "      <td>0.118917</td>\n",
       "      <td>0.115963</td>\n",
       "      <td>0.122212</td>\n",
       "    </tr>\n",
       "    <tr>\n",
       "      <th>immune_b</th>\n",
       "      <td>0.242668</td>\n",
       "      <td>0.240431</td>\n",
       "      <td>0.239544</td>\n",
       "    </tr>\n",
       "    <tr>\n",
       "      <th>immune_t</th>\n",
       "      <td>0.147522</td>\n",
       "      <td>0.145695</td>\n",
       "      <td>0.149723</td>\n",
       "    </tr>\n",
       "    <tr>\n",
       "      <th>immune_dend_plus_macro_plus_mono</th>\n",
       "      <td>0.093648</td>\n",
       "      <td>0.116200</td>\n",
       "      <td>0.093661</td>\n",
       "    </tr>\n",
       "    <tr>\n",
       "      <th>immune_nk</th>\n",
       "      <td>0.120969</td>\n",
       "      <td>0.124472</td>\n",
       "      <td>0.122421</td>\n",
       "    </tr>\n",
       "    <tr>\n",
       "      <th>immune_neutro</th>\n",
       "      <td>0.156348</td>\n",
       "      <td>0.151232</td>\n",
       "      <td>0.155057</td>\n",
       "    </tr>\n",
       "  </tbody>\n",
       "</table>\n",
       "</div>"
      ],
      "text/plain": [
       "                                         0         1         2\n",
       "ref_celltype                                                  \n",
       "immune_eosi                       0.106723  0.103791  0.104916\n",
       "immune_eryth                      0.009365  0.013953  0.007706\n",
       "immune_mega                       0.090124  0.089498  0.083248\n",
       "eryth_prog                        0.118917  0.115963  0.122212\n",
       "immune_b                          0.242668  0.240431  0.239544\n",
       "immune_t                          0.147522  0.145695  0.149723\n",
       "immune_dend_plus_macro_plus_mono  0.093648  0.116200  0.093661\n",
       "immune_nk                         0.120969  0.124472  0.122421\n",
       "immune_neutro                     0.156348  0.151232  0.155057"
      ]
     },
     "execution_count": 33,
     "metadata": {},
     "output_type": "execute_result"
    }
   ],
   "source": [
    "deconvolution_nnls[1]"
   ]
  },
  {
   "cell_type": "code",
   "execution_count": 34,
   "id": "1fed79ed-8be7-47b8-9a7a-867b541fc3d8",
   "metadata": {
    "tags": []
   },
   "outputs": [
    {
     "data": {
      "text/html": [
       "<div>\n",
       "<style scoped>\n",
       "    .dataframe tbody tr th:only-of-type {\n",
       "        vertical-align: middle;\n",
       "    }\n",
       "\n",
       "    .dataframe tbody tr th {\n",
       "        vertical-align: top;\n",
       "    }\n",
       "\n",
       "    .dataframe thead th {\n",
       "        text-align: right;\n",
       "    }\n",
       "</style>\n",
       "<table border=\"1\" class=\"dataframe\">\n",
       "  <thead>\n",
       "    <tr style=\"text-align: right;\">\n",
       "      <th></th>\n",
       "      <th>0</th>\n",
       "      <th>1</th>\n",
       "      <th>2</th>\n",
       "    </tr>\n",
       "    <tr>\n",
       "      <th>ref_celltype</th>\n",
       "      <th></th>\n",
       "      <th></th>\n",
       "      <th></th>\n",
       "    </tr>\n",
       "  </thead>\n",
       "  <tbody>\n",
       "    <tr>\n",
       "      <th>immune_eosi</th>\n",
       "      <td>0.105439</td>\n",
       "      <td>0.107457</td>\n",
       "      <td>0.104998</td>\n",
       "    </tr>\n",
       "    <tr>\n",
       "      <th>immune_eryth</th>\n",
       "      <td>0.000326</td>\n",
       "      <td>0.012159</td>\n",
       "      <td>0.006322</td>\n",
       "    </tr>\n",
       "    <tr>\n",
       "      <th>immune_mega</th>\n",
       "      <td>0.084536</td>\n",
       "      <td>0.084197</td>\n",
       "      <td>0.082087</td>\n",
       "    </tr>\n",
       "    <tr>\n",
       "      <th>eryth_prog</th>\n",
       "      <td>0.124676</td>\n",
       "      <td>0.119679</td>\n",
       "      <td>0.121530</td>\n",
       "    </tr>\n",
       "    <tr>\n",
       "      <th>immune_b</th>\n",
       "      <td>0.239446</td>\n",
       "      <td>0.240129</td>\n",
       "      <td>0.240431</td>\n",
       "    </tr>\n",
       "    <tr>\n",
       "      <th>immune_t</th>\n",
       "      <td>0.153473</td>\n",
       "      <td>0.150707</td>\n",
       "      <td>0.147823</td>\n",
       "    </tr>\n",
       "    <tr>\n",
       "      <th>immune_dend_plus_macro_plus_mono</th>\n",
       "      <td>0.098712</td>\n",
       "      <td>0.092713</td>\n",
       "      <td>0.093377</td>\n",
       "    </tr>\n",
       "    <tr>\n",
       "      <th>immune_nk</th>\n",
       "      <td>0.121482</td>\n",
       "      <td>0.127879</td>\n",
       "      <td>0.124894</td>\n",
       "    </tr>\n",
       "    <tr>\n",
       "      <th>immune_neutro</th>\n",
       "      <td>0.151456</td>\n",
       "      <td>0.146893</td>\n",
       "      <td>0.156568</td>\n",
       "    </tr>\n",
       "  </tbody>\n",
       "</table>\n",
       "</div>"
      ],
      "text/plain": [
       "                                         0         1         2\n",
       "ref_celltype                                                  \n",
       "immune_eosi                       0.105439  0.107457  0.104998\n",
       "immune_eryth                      0.000326  0.012159  0.006322\n",
       "immune_mega                       0.084536  0.084197  0.082087\n",
       "eryth_prog                        0.124676  0.119679  0.121530\n",
       "immune_b                          0.239446  0.240129  0.240431\n",
       "immune_t                          0.153473  0.150707  0.147823\n",
       "immune_dend_plus_macro_plus_mono  0.098712  0.092713  0.093377\n",
       "immune_nk                         0.121482  0.127879  0.124894\n",
       "immune_neutro                     0.151456  0.146893  0.156568"
      ]
     },
     "execution_count": 34,
     "metadata": {},
     "output_type": "execute_result"
    }
   ],
   "source": [
    "deconvolution_nnls[2]"
   ]
  },
  {
   "cell_type": "code",
   "execution_count": 35,
   "id": "81f0f593",
   "metadata": {
    "papermill": {
     "duration": null,
     "end_time": null,
     "exception": null,
     "start_time": null,
     "status": "pending"
    },
    "tags": []
   },
   "outputs": [
    {
     "data": {
      "image/png": "[encoded data removed]",
      "text/plain": [
       "<Figure size 864x576 with 1 Axes>"
      ]
     },
     "metadata": {
      "needs_background": "light"
     },
     "output_type": "display_data"
    }
   ],
   "source": [
    "dcnv.boxplot_titration(list_of_deconvolution_dfs=deconvolution_naive,\n",
    "                      cell_type=TITRATING_CELLTYPE_ATLAS,\n",
    "                      true_proportions=TITRATION_LIST,\n",
    "                      deconvolution_method_name='naive'\n",
    "                      )"
   ]
  },
  {
   "cell_type": "code",
   "execution_count": 36,
   "id": "03107a05",
   "metadata": {
    "papermill": {
     "duration": null,
     "end_time": null,
     "exception": null,
     "start_time": null,
     "status": "pending"
    },
    "tags": []
   },
   "outputs": [
    {
     "data": {
      "image/png": "[encoded data removed]",
      "text/plain": [
       "<Figure size 864x576 with 1 Axes>"
      ]
     },
     "metadata": {
      "needs_background": "light"
     },
     "output_type": "display_data"
    }
   ],
   "source": [
    "dcnv.boxplot_titration(list_of_deconvolution_dfs=deconvolution_nnls,\n",
    "                      cell_type=TITRATING_CELLTYPE_ATLAS,\n",
    "                      true_proportions=TITRATION_LIST,\n",
    "                      deconvolution_method_name='nnls'\n",
    "                      )"
   ]
  },
  {
   "cell_type": "code",
   "execution_count": 37,
   "id": "11e54377",
   "metadata": {
    "papermill": {
     "duration": null,
     "end_time": null,
     "exception": null,
     "start_time": null,
     "status": "pending"
    },
    "tags": []
   },
   "outputs": [
    {
     "data": {
      "image/png": "[encoded data removed]",
      "text/plain": [
       "<Figure size 720x720 with 3 Axes>"
      ]
     },
     "metadata": {
      "needs_background": "light"
     },
     "output_type": "display_data"
    }
   ],
   "source": [
    "\n",
    "dcnv.boxplot_titration_zoom(list_of_deconvolution_dfs=deconvolution_naive,\n",
    "                      cell_type=TITRATING_CELLTYPE_ATLAS,\n",
    "                      true_proportions=TITRATION_LIST,\n",
    "                      deconvolution_method_name='naive'\n",
    "                      )"
   ]
  },
  {
   "cell_type": "code",
   "execution_count": 38,
   "id": "3d039f8f",
   "metadata": {
    "papermill": {
     "duration": null,
     "end_time": null,
     "exception": null,
     "start_time": null,
     "status": "pending"
    },
    "tags": []
   },
   "outputs": [
    {
     "data": {
      "image/png": "[encoded data removed]",
      "text/plain": [
       "<Figure size 720x720 with 3 Axes>"
      ]
     },
     "metadata": {
      "needs_background": "light"
     },
     "output_type": "display_data"
    }
   ],
   "source": [
    "\n",
    "dcnv.boxplot_titration_zoom(list_of_deconvolution_dfs=deconvolution_nnls,\n",
    "                      cell_type=TITRATING_CELLTYPE_ATLAS,\n",
    "                      true_proportions=TITRATION_LIST,\n",
    "                      deconvolution_method_name='nnls'\n",
    "                      )"
   ]
  },
  {
   "cell_type": "code",
   "execution_count": null,
   "id": "84da572f",
   "metadata": {
    "papermill": {
     "duration": null,
     "end_time": null,
     "exception": null,
     "start_time": null,
     "status": "pending"
    },
    "tags": []
   },
   "outputs": [],
   "source": []
  },
  {
   "cell_type": "code",
   "execution_count": null,
   "id": "08ee5f22",
   "metadata": {
    "papermill": {
     "duration": null,
     "end_time": null,
     "exception": null,
     "start_time": null,
     "status": "pending"
    },
    "tags": []
   },
   "outputs": [],
   "source": []
  }
 ],
 "metadata": {
  "kernelspec": {
   "display_name": "Python 3",
   "language": "python",
   "name": "python3"
  },
  "language_info": {
   "codemirror_mode": {
    "name": "ipython",
    "version": 3
   },
   "file_extension": ".py",
   "mimetype": "text/x-python",
   "name": "python",
   "nbconvert_exporter": "python",
   "pygments_lexer": "ipython3",
   "version": "3.7.8"
  },
  "papermill": {
   "default_parameters": {},
   "duration": null,
   "end_time": null,
   "environment_variables": {},
   "exception": null,
   "input_path": "/analysis/gh-msun/projects/2023_06_26_SRT_deconvolution_MS//notebooks/titration/02_titration_experiment.ipynb",
   "output_path": "/analysis/gh-msun/projects/2023_06_26_SRT_deconvolution_MS//notebooks/titration/primary_immune_loyfer_uniform/titration_B.ipynb",
   "parameters": {
    "ABRIDGED_NAMES": [
     "B",
     "T",
     "MONOMACRO",
     "NK"
    ],
    "BACKGROUND": "uniform",
    "CELLTYPES": [
     "Blood-B",
     "Blood-T",
     "Blood-Mono+Macro",
     "Blood-NK"
    ],
    "EXPERIMENT": "primary_immune_loyfer",
    "N_REPLICATES": 20,
    "PROJECT_SLUG": "2023_06_26_SRT_deconvolution_MS",
    "ROOT_DIR": "/analysis/gh-msun/",
    "SEED": 83723,
    "TITRATING_CELLTYPE": "Blood-B",
    "TITRATING_CELLTYPE_ATLAS": "immune_b",
    "TITRATION_LIST": [
     0.2,
     0.15,
     0.1,
     0.08,
     0.06,
     0.04,
     0.02,
     0.01,
     0.008,
     0.006,
     0.004,
     0.002,
     0.001,
     0
    ],
    "TOTAL_READS_TO_SAMPLE": 1000000,
    "WHOLE_BLOOD_ABUNDANCE": {
     "Blueprint-B": 0.06,
     "Blueprint-CD4": 0.16,
     "Blueprint-CD8": 0.07,
     "Blueprint-Mono": 0.09,
     "Blueprint-NK": 0.05,
     "Blueprint-Neutro": 0.57
    }
   },
   "start_time": "2023-08-02T17:53:24.895446",
   "version": "2.4.0"
  }
 },
 "nbformat": 4,
 "nbformat_minor": 5
}
