{
 "cells": [
  {
   "cell_type": "markdown",
   "id": "da77cb49",
   "metadata": {
    "papermill": {
     "duration": 0.005187,
     "end_time": "2023-08-08T06:04:03.296484",
     "exception": false,
     "start_time": "2023-08-08T06:04:03.291297",
     "status": "completed"
    },
    "tags": []
   },
   "source": [
    "# Titration Experiment"
   ]
  },
  {
   "cell_type": "code",
   "execution_count": 1,
   "id": "7a327c82",
   "metadata": {
    "papermill": {
     "duration": 0.012718,
     "end_time": "2023-08-08T06:04:03.314841",
     "exception": false,
     "start_time": "2023-08-08T06:04:03.302123",
     "status": "completed"
    },
    "tags": [
     "parameters"
    ]
   },
   "outputs": [],
   "source": [
    "#############################\n",
    "#   Experiment parameters   #\n",
    "#############################\n",
    "ROOT_DIR = '/analysis/gh-msun/'\n",
    "PROJECT_SLUG = '2023_06_26_SRT_deconvolution_MS'\n",
    "EXPERIMENT = 'primary_immune'\n",
    "TITRATING_CELLTYPE = 'Blueprint-B'\n",
    "TITRATING_CELLTYPE_ATLAS = 'immune_b' # cell type name in atlas different\n",
    "BACKGROUND = 'wholeblood' # background: uniform / wholeblood \n",
    "N_REPLICATES = 2 # number of replicates for each mixture\n",
    "SEED = 888 # need to change for different experiment\n",
    "TOTAL_READS_TO_SAMPLE = 1000000\n",
    "\n",
    "# make sure the orders of the two list match\n",
    "CELLTYPES = ['Blueprint-CD4', 'Blueprint-CD8', 'Blueprint-B', 'Blueprint-NK', 'Blueprint-Mono', 'Blueprint-Neutro']\n",
    "ABRIDGED_NAMES = ['CD4', 'CD8', 'B', 'NK', 'MONO', 'NEUTRO'] # for directory name\n",
    "\n",
    "TITRATION_LIST = [0.2, 0.15, 0.10, 0.08, 0.06, 0.04, 0.02, 0.01, \n",
    "                   0.008, 0.006, 0.004, 0.002, 0.001, 0]\n",
    "# TITRATION_LIST=[0.2, 0.15]\n",
    "\n",
    "# proportion of cells in real whole blood (sum to 1)\n",
    "WHOLE_BLOOD_ABUNDANCE = {'Blueprint-B':0.06,\n",
    "                         'Blueprint-Mono':0.09,\n",
    "                         'Blueprint-Neutro':0.57,\n",
    "                         'Blueprint-CD4':0.16,\n",
    "                         'Blueprint-CD8':0.07,\n",
    "                         'Blueprint-NK':0.05}\n",
    "    "
   ]
  },
  {
   "cell_type": "code",
   "execution_count": 2,
   "id": "47468549",
   "metadata": {
    "papermill": {
     "duration": 0.010888,
     "end_time": "2023-08-08T06:04:03.330146",
     "exception": false,
     "start_time": "2023-08-08T06:04:03.319258",
     "status": "completed"
    },
    "tags": [
     "injected-parameters"
    ]
   },
   "outputs": [],
   "source": [
    "# Parameters\n",
    "ROOT_DIR = \"/analysis/gh-msun/\"\n",
    "PROJECT_SLUG = \"2023_06_26_SRT_deconvolution_MS\"\n",
    "EXPERIMENT = \"primary_immune_loyfer\"\n",
    "TITRATING_CELLTYPE = \"Blood-Granul\"\n",
    "TITRATING_CELLTYPE_ATLAS = \"immune_neutro\"\n",
    "BACKGROUND = \"wholeblood\"\n",
    "N_REPLICATES = 20\n",
    "SEED = 520710\n",
    "TOTAL_READS_TO_SAMPLE = 1000000\n",
    "CELLTYPES = [\"Blood-B\", \"Blood-CD4\", \"Blood-CD8\", \"Blood-Mono+Macro\", \"Blood-NK\", \"Blood-Granul\"]\n",
    "ABRIDGED_NAMES = [\"B\", \"CD4\", \"CD8\", \"MONO\", \"NK\", \"GRANUL\"]\n",
    "TITRATION_LIST = [0.2, 0.15, 0.1, 0.08, 0.06, 0.04, 0.02, 0.01, 0.008, 0.006, 0.004, 0.002, 0.001, 0]\n",
    "WHOLE_BLOOD_ABUNDANCE = {\"Blood-B\": 0.06, \"Blood-Mono+Macro\": 0.09, \"Blood-Granul\": 0.57, \"Blood-CD4\": 0.16, \"Blood-CD8\": 0.07, \"Blood-NK\": 0.05}\n"
   ]
  },
  {
   "cell_type": "code",
   "execution_count": 3,
   "id": "ae5545e9",
   "metadata": {
    "papermill": {
     "duration": 3.806081,
     "end_time": "2023-08-08T06:04:07.140942",
     "exception": false,
     "start_time": "2023-08-08T06:04:03.334861",
     "status": "completed"
    },
    "tags": []
   },
   "outputs": [
    {
     "name": "stderr",
     "output_type": "stream",
     "text": [
      "/home/ec2-user/mambaforge/envs/2023_06_26_SRT_deconvolution_MS/lib/python3.7/site-packages/pyspark/context.py:317: FutureWarning: Python 3.7 support is deprecated in Spark 3.4.\n",
      "  warnings.warn(\"Python 3.7 support is deprecated in Spark 3.4.\", FutureWarning)\n"
     ]
    }
   ],
   "source": [
    "import glob\n",
    "import numpy as np\n",
    "import pandas as pd\n",
    "import seaborn as sns\n",
    "import matplotlib.pyplot as plt\n",
    "import itertools\n",
    "import functools\n",
    "import os\n",
    "import regex as re\n",
    "import random\n",
    "import importlib\n",
    "import sys\n",
    "\n",
    "from pyspark.sql import SparkSession\n",
    "from pyspark import SparkConf, SparkContext\n",
    "from pyspark.sql.types import IntegerType, LongType, ArrayType, StringType, DoubleType\n",
    "from pyspark.sql.functions import udf, explode, broadcast, count, lit, length, col\n",
    "from pyspark.sql import DataFrame\n",
    "from pyspark.sql.types import StructType\n",
    "\n",
    "# UPDATE HOME!\n",
    "os.environ[\"SPARK_HOME\"] = \"/home/ec2-user/mambaforge/envs/2023_06_26_SRT_deconvolution_MS/lib/python3.7/site-packages/pyspark\"\n",
    "# THIS needs to be set-up before running the notebook\n",
    "os.environ[\"SPARK_LOCAL_DIRS\"] = \"/temp\"\n",
    "os.environ[\"PYARROW_IGNORE_TIMEZONE\"] = \"1\"\n",
    "\n",
    "spark_conf = SparkConf()\n",
    "spark_conf.set(\"spark.ui.showConsoleProgress\", \"True\")\n",
    "spark_conf.set(\"spark.executor.instances\", \"2\")\n",
    "spark_conf.set(\"spark.executor.cores\", \"2\")\n",
    "spark_conf.set(\"spark.executor.memory\", \"16g\")\n",
    "spark_conf.set(\"spark.driver.memory\", \"64g\")\n",
    "spark_conf.set(\"spark.driver.maxResultSize\", \"32g\")\n",
    "spark_conf.set(\"spark.parquet.filterPushdown\", \"true\")\n",
    "spark_conf.set(\"spark.local.dir\", \"/temp\")\n",
    "spark_conf.getAll()\n",
    "\n",
    "sc = SparkContext(conf=spark_conf)\n",
    "sc.setLogLevel(\"ERROR\")\n",
    "spark = SparkSession(sc)\n",
    "\n",
    "pd.set_option('display.max_rows', 500)\n",
    "pd.set_option('display.max_columns', 500)\n",
    "pd.set_option('display.width', 1000)\n",
    "sns.set_context('talk')"
   ]
  },
  {
   "cell_type": "code",
   "execution_count": 4,
   "id": "c56ac726",
   "metadata": {
    "papermill": {
     "duration": 0.564931,
     "end_time": "2023-08-08T06:04:07.714012",
     "exception": false,
     "start_time": "2023-08-08T06:04:07.149081",
     "status": "completed"
    },
    "tags": []
   },
   "outputs": [],
   "source": [
    "#---Local paths---#\n",
    "PROJECT_DIR = ROOT_DIR + f'projects/{PROJECT_SLUG}/'\n",
    "\n",
    "#---Load all custom scripts---#\n",
    "SCRIPT_DIR = PROJECT_DIR + 'scripts/'\n",
    "sys.path.append(SCRIPT_DIR)\n",
    "\n",
    "import create_mixture as cm\n",
    "import score_matrix as sm\n",
    "import deconvolution as dcnv\n",
    "import helper as hlpr\n",
    "\n",
    "pd.set_option('display.max_rows', 500)\n",
    "pd.set_option('display.max_columns', 500)\n",
    "pd.set_option('display.width', 1000)"
   ]
  },
  {
   "cell_type": "code",
   "execution_count": 5,
   "id": "f62b9491",
   "metadata": {
    "papermill": {
     "duration": 0.012526,
     "end_time": "2023-08-08T06:04:07.732065",
     "exception": false,
     "start_time": "2023-08-08T06:04:07.719539",
     "status": "completed"
    },
    "tags": []
   },
   "outputs": [
    {
     "data": {
      "text/plain": [
       "<module 'helper' from '/analysis/gh-msun/projects/2023_06_26_SRT_deconvolution_MS/scripts/helper.py'>"
      ]
     },
     "execution_count": 5,
     "metadata": {},
     "output_type": "execute_result"
    }
   ],
   "source": [
    "importlib.reload(cm)\n",
    "importlib.reload(sm)\n",
    "importlib.reload(dcnv)\n",
    "importlib.reload(hlpr)"
   ]
  },
  {
   "cell_type": "code",
   "execution_count": 6,
   "id": "e0ffbef9",
   "metadata": {
    "papermill": {
     "duration": 0.012161,
     "end_time": "2023-08-08T06:04:07.749007",
     "exception": false,
     "start_time": "2023-08-08T06:04:07.736846",
     "status": "completed"
    },
    "tags": []
   },
   "outputs": [
    {
     "data": {
      "text/plain": [
       "[0.2,\n",
       " 0.11162790697674418,\n",
       " 0.29767441860465116,\n",
       " 0.1302325581395349,\n",
       " 0.16744186046511628,\n",
       " 0.0930232558139535]"
      ]
     },
     "execution_count": 6,
     "metadata": {},
     "output_type": "execute_result"
    }
   ],
   "source": [
    "#################################\n",
    "#   Set titration proportions   #\n",
    "#################################\n",
    "\n",
    "# Reorder such that the titrating cell type comes first\n",
    "CELLTYPES_unordered = CELLTYPES.copy()\n",
    "CELLTYPES = hlpr.titration_reordering(list_of_cell_types=CELLTYPES, \n",
    "                                      titrating_cell_type=TITRATING_CELLTYPE)\n",
    "\n",
    "# Reorder abridged name\n",
    "ABRIDGED_NAMES = hlpr.reorder_abridged_name(unordered_celltypes=CELLTYPES_unordered,\n",
    "                                            ordered_celltypes=CELLTYPES,\n",
    "                                            unordered_abridged_names=ABRIDGED_NAMES)\n",
    "    \n",
    "# set titration proportions\n",
    "if BACKGROUND == 'uniform':\n",
    "    PROPORTIONS = hlpr.generate_uniform_background_proportions(titration_list=TITRATION_LIST, \n",
    "                                                               cell_types=CELLTYPES)\n",
    "\n",
    "if BACKGROUND == 'wholeblood':\n",
    "    PROPORTIONS = hlpr.generate_custom_background_proportions(titration_list=TITRATION_LIST, \n",
    "                                                              custom_proportion=WHOLE_BLOOD_ABUNDANCE, \n",
    "                                                              list_of_celltypes=CELLTYPES, \n",
    "                                                              titrating_celltype=TITRATING_CELLTYPE)\n",
    "\n",
    "PROPORTIONS[0]    "
   ]
  },
  {
   "cell_type": "markdown",
   "id": "33e8347c",
   "metadata": {
    "papermill": {
     "duration": 0.004857,
     "end_time": "2023-08-08T06:04:07.758625",
     "exception": false,
     "start_time": "2023-08-08T06:04:07.753768",
     "status": "completed"
    },
    "tags": []
   },
   "source": [
    "## Create mixture"
   ]
  },
  {
   "cell_type": "code",
   "execution_count": 7,
   "id": "122bc262",
   "metadata": {
    "papermill": {
     "duration": 0.009351,
     "end_time": "2023-08-08T06:04:07.772759",
     "exception": false,
     "start_time": "2023-08-08T06:04:07.763408",
     "status": "completed"
    },
    "tags": []
   },
   "outputs": [],
   "source": [
    "############################\n",
    "#   Parameters and paths   # \n",
    "############################\n",
    "EXPERIMENT_DIR = PROJECT_DIR + f'output/experiment/{EXPERIMENT}/'\n",
    "EXPERIMENT_NAME = f'{TITRATING_CELLTYPE}-{BACKGROUND}/'\n",
    "PARQUET_PATH = PROJECT_DIR + 'output/mixture_source/'\n",
    "EXPERIMENT_CELLTYPE_DIR = EXPERIMENT_DIR + f'{EXPERIMENT_NAME}/'\n",
    "RESULT_PATH = EXPERIMENT_CELLTYPE_DIR + 'mixture/'\n"
   ]
  },
  {
   "cell_type": "code",
   "execution_count": 8,
   "id": "55bb2e3d",
   "metadata": {
    "execution": {
     "iopub.execute_input": "2023-08-08T06:04:07.783228Z",
     "iopub.status.busy": "2023-08-08T06:04:07.783004Z",
     "iopub.status.idle": "2023-08-08T06:28:17.702470Z",
     "shell.execute_reply": "2023-08-08T06:28:17.701803Z"
    },
    "papermill": {
     "duration": 1449.926298,
     "end_time": "2023-08-08T06:28:17.703914",
     "exception": false,
     "start_time": "2023-08-08T06:04:07.777616",
     "status": "completed"
    },
    "tags": []
   },
   "outputs": [
    {
     "name": "stdout",
     "output_type": "stream",
     "text": [
      ">>> Load parquet files and count rows... <<<\n",
      "----------> Loading cell type: Blood-Granul\n",
      "----------> Loading cell type: Blood-B\n",
      "----------> Loading cell type: Blood-CD4\n",
      "----------> Loading cell type: Blood-CD8\n",
      "----------> Loading cell type: Blood-Mono+Macro\n",
      "----------> Loading cell type: Blood-NK\n",
      ">>> Complete. <<< \n",
      "\n",
      ">>> Start mixing... <<<\n",
      "--> PROPORTION: [0.2, 0.11162790697674418, 0.29767441860465116, 0.1302325581395349, 0.16744186046511628, 0.0930232558139535]\n",
      "----------> Creating mixture 0... \n",
      "----------> Creating mixture 1... \n",
      "----------> Creating mixture 2... \n",
      "----------> Creating mixture 3... \n",
      "----------> Creating mixture 4... \n",
      "----------> Creating mixture 5... \n",
      "----------> Creating mixture 6... \n",
      "----------> Creating mixture 7... \n",
      "----------> Creating mixture 8... \n",
      "----------> Creating mixture 9... \n",
      "----------> Creating mixture 10... \n",
      "----------> Creating mixture 11... \n",
      "----------> Creating mixture 12... \n",
      "----------> Creating mixture 13... \n",
      "----------> Creating mixture 14... \n",
      "----------> Creating mixture 15... \n",
      "----------> Creating mixture 16... \n",
      "----------> Creating mixture 17... \n",
      "----------> Creating mixture 18... \n",
      "----------> Creating mixture 19... \n",
      "--> PROPORTION: [0.15, 0.11860465116279069, 0.31627906976744186, 0.13837209302325582, 0.17790697674418604, 0.09883720930232559]\n",
      "----------> Creating mixture 0... \n",
      "----------> Creating mixture 1... \n",
      "----------> Creating mixture 2... \n",
      "----------> Creating mixture 3... \n",
      "----------> Creating mixture 4... \n",
      "----------> Creating mixture 5... \n",
      "----------> Creating mixture 6... \n",
      "----------> Creating mixture 7... \n",
      "----------> Creating mixture 8... \n",
      "----------> Creating mixture 9... \n",
      "----------> Creating mixture 10... \n",
      "----------> Creating mixture 11... \n",
      "----------> Creating mixture 12... \n",
      "----------> Creating mixture 13... \n",
      "----------> Creating mixture 14... \n",
      "----------> Creating mixture 15... \n",
      "----------> Creating mixture 16... \n",
      "----------> Creating mixture 17... \n",
      "----------> Creating mixture 18... \n",
      "----------> Creating mixture 19... \n",
      "--> PROPORTION: [0.1, 0.12558139534883722, 0.33488372093023255, 0.14651162790697675, 0.1883720930232558, 0.1046511627906977]\n",
      "----------> Creating mixture 0... \n",
      "----------> Creating mixture 1... \n",
      "----------> Creating mixture 2... \n",
      "----------> Creating mixture 3... \n",
      "----------> Creating mixture 4... \n",
      "----------> Creating mixture 5... \n",
      "----------> Creating mixture 6... \n",
      "----------> Creating mixture 7... \n",
      "----------> Creating mixture 8... \n",
      "----------> Creating mixture 9... \n",
      "----------> Creating mixture 10... \n",
      "----------> Creating mixture 11... \n",
      "----------> Creating mixture 12... \n",
      "----------> Creating mixture 13... \n",
      "----------> Creating mixture 14... \n",
      "----------> Creating mixture 15... \n",
      "----------> Creating mixture 16... \n",
      "----------> Creating mixture 17... \n",
      "----------> Creating mixture 18... \n",
      "----------> Creating mixture 19... \n",
      "--> PROPORTION: [0.08, 0.1283720930232558, 0.34232558139534885, 0.14976744186046514, 0.1925581395348837, 0.10697674418604652]\n",
      "----------> Creating mixture 0... \n",
      "----------> Creating mixture 1... \n",
      "----------> Creating mixture 2... \n",
      "----------> Creating mixture 3... \n",
      "----------> Creating mixture 4... \n",
      "----------> Creating mixture 5... \n",
      "----------> Creating mixture 6... \n",
      "----------> Creating mixture 7... \n",
      "----------> Creating mixture 8... \n",
      "----------> Creating mixture 9... \n",
      "----------> Creating mixture 10... \n",
      "----------> Creating mixture 11... \n",
      "----------> Creating mixture 12... \n",
      "----------> Creating mixture 13... \n",
      "----------> Creating mixture 14... \n",
      "----------> Creating mixture 15... \n",
      "----------> Creating mixture 16... \n",
      "----------> Creating mixture 17... \n",
      "----------> Creating mixture 18... \n",
      "----------> Creating mixture 19... \n",
      "--> PROPORTION: [0.06, 0.13116279069767442, 0.3497674418604651, 0.15302325581395348, 0.1967441860465116, 0.10930232558139535]\n",
      "----------> Creating mixture 0... \n",
      "----------> Creating mixture 1... \n",
      "----------> Creating mixture 2... \n",
      "----------> Creating mixture 3... \n",
      "----------> Creating mixture 4... \n",
      "----------> Creating mixture 5... \n",
      "----------> Creating mixture 6... \n",
      "----------> Creating mixture 7... \n",
      "----------> Creating mixture 8... \n",
      "----------> Creating mixture 9... \n",
      "----------> Creating mixture 10... \n",
      "----------> Creating mixture 11... \n",
      "----------> Creating mixture 12... \n",
      "----------> Creating mixture 13... \n",
      "----------> Creating mixture 14... \n",
      "----------> Creating mixture 15... \n",
      "----------> Creating mixture 16... \n",
      "----------> Creating mixture 17... \n",
      "----------> Creating mixture 18... \n",
      "----------> Creating mixture 19... \n",
      "--> PROPORTION: [0.04, 0.133953488372093, 0.3572093023255814, 0.15627906976744185, 0.20093023255813952, 0.1116279069767442]\n",
      "----------> Creating mixture 0... \n",
      "----------> Creating mixture 1... \n",
      "----------> Creating mixture 2... \n",
      "----------> Creating mixture 3... \n",
      "----------> Creating mixture 4... \n",
      "----------> Creating mixture 5... \n",
      "----------> Creating mixture 6... \n",
      "----------> Creating mixture 7... \n",
      "----------> Creating mixture 8... \n",
      "----------> Creating mixture 9... \n",
      "----------> Creating mixture 10... \n",
      "----------> Creating mixture 11... \n",
      "----------> Creating mixture 12... \n",
      "----------> Creating mixture 13... \n",
      "----------> Creating mixture 14... \n",
      "----------> Creating mixture 15... \n",
      "----------> Creating mixture 16... \n",
      "----------> Creating mixture 17... \n",
      "----------> Creating mixture 18... \n",
      "----------> Creating mixture 19... \n",
      "--> PROPORTION: [0.02, 0.13674418604651162, 0.36465116279069765, 0.15953488372093025, 0.20511627906976743, 0.11395348837209303]\n",
      "----------> Creating mixture 0... \n",
      "----------> Creating mixture 1... \n",
      "----------> Creating mixture 2... \n",
      "----------> Creating mixture 3... \n",
      "----------> Creating mixture 4... \n",
      "----------> Creating mixture 5... \n",
      "----------> Creating mixture 6... \n",
      "----------> Creating mixture 7... \n",
      "----------> Creating mixture 8... \n",
      "----------> Creating mixture 9... \n",
      "----------> Creating mixture 10... \n",
      "----------> Creating mixture 11... \n",
      "----------> Creating mixture 12... \n",
      "----------> Creating mixture 13... \n",
      "----------> Creating mixture 14... \n",
      "----------> Creating mixture 15... \n",
      "----------> Creating mixture 16... \n",
      "----------> Creating mixture 17... \n",
      "----------> Creating mixture 18... \n",
      "----------> Creating mixture 19... \n",
      "--> PROPORTION: [0.01, 0.13813953488372094, 0.3683720930232558, 0.16116279069767442, 0.20720930232558138, 0.11511627906976746]\n",
      "----------> Creating mixture 0... \n",
      "----------> Creating mixture 1... \n",
      "----------> Creating mixture 2... \n",
      "----------> Creating mixture 3... \n",
      "----------> Creating mixture 4... \n",
      "----------> Creating mixture 5... \n",
      "----------> Creating mixture 6... \n",
      "----------> Creating mixture 7... \n",
      "----------> Creating mixture 8... \n",
      "----------> Creating mixture 9... \n",
      "----------> Creating mixture 10... \n",
      "----------> Creating mixture 11... \n",
      "----------> Creating mixture 12... \n",
      "----------> Creating mixture 13... \n",
      "----------> Creating mixture 14... \n",
      "----------> Creating mixture 15... \n",
      "----------> Creating mixture 16... \n",
      "----------> Creating mixture 17... \n",
      "----------> Creating mixture 18... \n",
      "----------> Creating mixture 19... \n",
      "--> PROPORTION: [0.008, 0.1384186046511628, 0.36911627906976746, 0.16148837209302327, 0.20762790697674416, 0.11534883720930234]\n",
      "----------> Creating mixture 0... \n",
      "----------> Creating mixture 1... \n",
      "----------> Creating mixture 2... \n",
      "----------> Creating mixture 3... \n",
      "----------> Creating mixture 4... \n",
      "----------> Creating mixture 5... \n",
      "----------> Creating mixture 6... \n",
      "----------> Creating mixture 7... \n",
      "----------> Creating mixture 8... \n",
      "----------> Creating mixture 9... \n",
      "----------> Creating mixture 10... \n",
      "----------> Creating mixture 11... \n",
      "----------> Creating mixture 12... \n",
      "----------> Creating mixture 13... \n",
      "----------> Creating mixture 14... \n",
      "----------> Creating mixture 15... \n",
      "----------> Creating mixture 16... \n",
      "----------> Creating mixture 17... \n",
      "----------> Creating mixture 18... \n",
      "----------> Creating mixture 19... \n",
      "--> PROPORTION: [0.006, 0.13869767441860464, 0.36986046511627907, 0.1618139534883721, 0.20804651162790697, 0.11558139534883723]\n",
      "----------> Creating mixture 0... \n",
      "----------> Creating mixture 1... \n",
      "----------> Creating mixture 2... \n",
      "----------> Creating mixture 3... \n",
      "----------> Creating mixture 4... \n",
      "----------> Creating mixture 5... \n",
      "----------> Creating mixture 6... \n",
      "----------> Creating mixture 7... \n",
      "----------> Creating mixture 8... \n",
      "----------> Creating mixture 9... \n",
      "----------> Creating mixture 10... \n",
      "----------> Creating mixture 11... \n",
      "----------> Creating mixture 12... \n",
      "----------> Creating mixture 13... \n",
      "----------> Creating mixture 14... \n",
      "----------> Creating mixture 15... \n",
      "----------> Creating mixture 16... \n",
      "----------> Creating mixture 17... \n",
      "----------> Creating mixture 18... \n",
      "----------> Creating mixture 19... \n",
      "--> PROPORTION: [0.004, 0.1389767441860465, 0.3706046511627907, 0.16213953488372093, 0.20846511627906975, 0.1158139534883721]\n",
      "----------> Creating mixture 0... \n",
      "----------> Creating mixture 1... \n",
      "----------> Creating mixture 2... \n",
      "----------> Creating mixture 3... \n",
      "----------> Creating mixture 4... \n",
      "----------> Creating mixture 5... \n",
      "----------> Creating mixture 6... \n",
      "----------> Creating mixture 7... \n",
      "----------> Creating mixture 8... \n",
      "----------> Creating mixture 9... \n",
      "----------> Creating mixture 10... \n",
      "----------> Creating mixture 11... \n",
      "----------> Creating mixture 12... \n",
      "----------> Creating mixture 13... \n",
      "----------> Creating mixture 14... \n",
      "----------> Creating mixture 15... \n",
      "----------> Creating mixture 16... \n",
      "----------> Creating mixture 17... \n",
      "----------> Creating mixture 18... \n",
      "----------> Creating mixture 19... \n",
      "--> PROPORTION: [0.002, 0.13925581395348838, 0.37134883720930234, 0.1624651162790698, 0.20888372093023255, 0.116046511627907]\n",
      "----------> Creating mixture 0... \n",
      "----------> Creating mixture 1... \n",
      "----------> Creating mixture 2... \n",
      "----------> Creating mixture 3... \n",
      "----------> Creating mixture 4... \n",
      "----------> Creating mixture 5... \n",
      "----------> Creating mixture 6... \n",
      "----------> Creating mixture 7... \n",
      "----------> Creating mixture 8... \n",
      "----------> Creating mixture 9... \n",
      "----------> Creating mixture 10... \n",
      "----------> Creating mixture 11... \n",
      "----------> Creating mixture 12... \n",
      "----------> Creating mixture 13... \n",
      "----------> Creating mixture 14... \n",
      "----------> Creating mixture 15... \n",
      "----------> Creating mixture 16... \n",
      "----------> Creating mixture 17... \n",
      "----------> Creating mixture 18... \n",
      "----------> Creating mixture 19... \n",
      "--> PROPORTION: [0.001, 0.1393953488372093, 0.37172093023255814, 0.1626279069767442, 0.20909302325581394, 0.11616279069767443]\n",
      "----------> Creating mixture 0... \n",
      "----------> Creating mixture 1... \n",
      "----------> Creating mixture 2... \n",
      "----------> Creating mixture 3... \n",
      "----------> Creating mixture 4... \n",
      "----------> Creating mixture 5... \n",
      "----------> Creating mixture 6... \n",
      "----------> Creating mixture 7... \n",
      "----------> Creating mixture 8... \n",
      "----------> Creating mixture 9... \n",
      "----------> Creating mixture 10... \n",
      "----------> Creating mixture 11... \n",
      "----------> Creating mixture 12... \n",
      "----------> Creating mixture 13... \n",
      "----------> Creating mixture 14... \n",
      "----------> Creating mixture 15... \n",
      "----------> Creating mixture 16... \n",
      "----------> Creating mixture 17... \n",
      "----------> Creating mixture 18... \n",
      "----------> Creating mixture 19... \n",
      "--> PROPORTION: [0, 0.13953488372093023, 0.37209302325581395, 0.16279069767441862, 0.20930232558139533, 0.11627906976744187]\n",
      "----------> Creating mixture 0... \n",
      "----------> Creating mixture 1... \n",
      "----------> Creating mixture 2... \n",
      "----------> Creating mixture 3... \n",
      "----------> Creating mixture 4... \n",
      "----------> Creating mixture 5... \n",
      "----------> Creating mixture 6... \n",
      "----------> Creating mixture 7... \n",
      "----------> Creating mixture 8... \n",
      "----------> Creating mixture 9... \n",
      "----------> Creating mixture 10... \n",
      "----------> Creating mixture 11... \n",
      "----------> Creating mixture 12... \n",
      "----------> Creating mixture 13... \n",
      "----------> Creating mixture 14... \n",
      "----------> Creating mixture 15... \n",
      "----------> Creating mixture 16... \n",
      "----------> Creating mixture 17... \n",
      "----------> Creating mixture 18... \n",
      "----------> Creating mixture 19... \n",
      ">>> Complete. <<< \n",
      "\n",
      "CPU times: user 1.45 s, sys: 356 ms, total: 1.8 s\n",
      "Wall time: 24min 9s\n"
     ]
    }
   ],
   "source": [
    "%%time\n",
    "# load parquet files for each celltype & count rows\n",
    "parquet_df, total_reads_per_celltype = cm.load_parquet_dataframe(parquet_path=PARQUET_PATH,\n",
    "                                                                  cell_types=CELLTYPES,\n",
    "                                                                  spark=spark,\n",
    "                                                                  verbose=True)\n",
    "\n",
    "# mix cell types for each proportion set\n",
    "cm.mix_celltypes_multiple_proportions(parquet_df=parquet_df,\n",
    "                                       total_reads_per_celltype=total_reads_per_celltype,\n",
    "                                    #    n=len(TITRATION_LIST), \n",
    "                                       n=N_REPLICATES,\n",
    "                                       cell_types=CELLTYPES, \n",
    "                                       cell_type_abridged_name=ABRIDGED_NAMES, \n",
    "                                       total_reads_to_sample=TOTAL_READS_TO_SAMPLE, \n",
    "                                       list_of_proportions=PROPORTIONS, \n",
    "                                       seed=SEED, \n",
    "                                       result_path=RESULT_PATH, \n",
    "                                       spark=spark,\n",
    "                                       verbose=False, \n",
    "                                       save=True)"
   ]
  },
  {
   "cell_type": "markdown",
   "id": "a0ce7879",
   "metadata": {
    "papermill": {
     "duration": 0.018483,
     "end_time": "2023-08-08T06:28:17.741762",
     "exception": false,
     "start_time": "2023-08-08T06:28:17.723279",
     "status": "completed"
    },
    "tags": []
   },
   "source": [
    "## Compute score matrix"
   ]
  },
  {
   "cell_type": "code",
   "execution_count": 9,
   "id": "12695af5",
   "metadata": {
    "execution": {
     "iopub.execute_input": "2023-08-08T06:28:17.779220Z",
     "iopub.status.busy": "2023-08-08T06:28:17.778952Z",
     "iopub.status.idle": "2023-08-08T06:28:17.783071Z",
     "shell.execute_reply": "2023-08-08T06:28:17.782523Z"
    },
    "papermill": {
     "duration": 0.024279,
     "end_time": "2023-08-08T06:28:17.784349",
     "exception": false,
     "start_time": "2023-08-08T06:28:17.760070",
     "status": "completed"
    },
    "tags": []
   },
   "outputs": [],
   "source": [
    "############################\n",
    "#   Parameters and paths   # \n",
    "############################\n",
    "\n",
    "FILTER_CG_COUNT = 3\n",
    "FILTER_CG_COUNT_REGION = 1\n",
    "\n",
    "REGIONS = 'deconvolution_v2.v23_conv.with_cpg_index'\n",
    "REGION_BED_COLS = [\n",
    "    'region_chr', 'region_start', 'region_end', \n",
    "    'region_cpg_index_min', 'region_cpg_index_max', 'region_id'\n",
    "]\n",
    "\n",
    "# Regions\n",
    "REGION_PATH = (\n",
    "    PROJECT_DIR + '/stage/panel_data/{regions}.bed'\n",
    ").format(regions=REGIONS)\n",
    "\n",
    "# CpG map; genomic coordinate to CpG index;\n",
    "CPG_MAP_PATH = PROJECT_DIR + '/stage/cpg_loci/cpg_loci_hg19.combined_annot.tsv.gz'\n",
    "\n",
    "#--- Where to store results\n",
    "PATH_TO_MIXTURE_DIR = EXPERIMENT_CELLTYPE_DIR + 'mixture/'\n",
    "RESULT_PATH = EXPERIMENT_CELLTYPE_DIR\n"
   ]
  },
  {
   "cell_type": "code",
   "execution_count": 10,
   "id": "9bd25377",
   "metadata": {
    "execution": {
     "iopub.execute_input": "2023-08-08T06:28:17.821236Z",
     "iopub.status.busy": "2023-08-08T06:28:17.821018Z",
     "iopub.status.idle": "2023-08-08T06:28:49.805476Z",
     "shell.execute_reply": "2023-08-08T06:28:49.804887Z"
    },
    "papermill": {
     "duration": 32.004719,
     "end_time": "2023-08-08T06:28:49.807130",
     "exception": false,
     "start_time": "2023-08-08T06:28:17.802411",
     "status": "completed"
    },
    "tags": []
   },
   "outputs": [],
   "source": [
    "cpg_map = pd.read_csv(CPG_MAP_PATH, usecols=['chr', 'start', 'end', 'cpg_index', 'cpg_index_hg38'], sep='\\t')"
   ]
  },
  {
   "cell_type": "code",
   "execution_count": 11,
   "id": "6487de72",
   "metadata": {
    "execution": {
     "iopub.execute_input": "2023-08-08T06:28:49.846163Z",
     "iopub.status.busy": "2023-08-08T06:28:49.845899Z",
     "iopub.status.idle": "2023-08-08T06:28:49.848394Z",
     "shell.execute_reply": "2023-08-08T06:28:49.847871Z"
    },
    "papermill": {
     "duration": 0.023071,
     "end_time": "2023-08-08T06:28:49.849656",
     "exception": false,
     "start_time": "2023-08-08T06:28:49.826585",
     "status": "completed"
    },
    "tags": []
   },
   "outputs": [],
   "source": [
    "# %%time\n",
    "# ridxs = ~cpg_map['cpg_index_hg38'].isna()\n",
    "# hg19_hg38_map = dict(itertools.zip_longest(cpg_map[ridxs]['cpg_index'], cpg_map[ridxs]['cpg_index_hg38'].astype(int)))\n",
    "# hg38_hg19_map = dict(itertools.zip_longest(cpg_map[ridxs]['cpg_index_hg38'].astype(int), cpg_map[ridxs]['cpg_index']))"
   ]
  },
  {
   "cell_type": "code",
   "execution_count": 12,
   "id": "ab79fce5",
   "metadata": {
    "execution": {
     "iopub.execute_input": "2023-08-08T06:28:49.886658Z",
     "iopub.status.busy": "2023-08-08T06:28:49.886443Z",
     "iopub.status.idle": "2023-08-08T06:28:49.895321Z",
     "shell.execute_reply": "2023-08-08T06:28:49.894815Z"
    },
    "papermill": {
     "duration": 0.028893,
     "end_time": "2023-08-08T06:28:49.896631",
     "exception": false,
     "start_time": "2023-08-08T06:28:49.867738",
     "status": "completed"
    },
    "tags": []
   },
   "outputs": [
    {
     "data": {
      "text/plain": [
       "(1658, 1658)"
      ]
     },
     "execution_count": 12,
     "metadata": {},
     "output_type": "execute_result"
    }
   ],
   "source": [
    "region_df = pd.read_csv(REGION_PATH, sep='\\t', usecols=range(0, 6), names=REGION_BED_COLS)\n",
    "\n",
    "# region_df['region_cpg_index_max'] -= 1\n",
    "# region_df.sort_values('region_cpg_index_min', inplace=True)\n",
    "# region_df['region_cpg_index_min_hg38'] = region_df['region_cpg_index_min'].map(hg19_hg38_map)\n",
    "# region_df['region_cpg_index_max_hg38'] = region_df['region_cpg_index_max'].map(hg19_hg38_map)\n",
    "\n",
    "region_df.shape[0], region_df['region_id'].nunique()"
   ]
  },
  {
   "cell_type": "code",
   "execution_count": 13,
   "id": "cdf124f9",
   "metadata": {
    "execution": {
     "iopub.execute_input": "2023-08-08T06:28:49.934049Z",
     "iopub.status.busy": "2023-08-08T06:28:49.933823Z",
     "iopub.status.idle": "2023-08-08T06:28:49.936183Z",
     "shell.execute_reply": "2023-08-08T06:28:49.935675Z"
    },
    "papermill": {
     "duration": 0.022552,
     "end_time": "2023-08-08T06:28:49.937495",
     "exception": false,
     "start_time": "2023-08-08T06:28:49.914943",
     "status": "completed"
    },
    "tags": []
   },
   "outputs": [],
   "source": [
    "# ridxs = ~region_df['region_cpg_index_min_hg38'].isna()\n",
    "# ridxs &= ~region_df['region_cpg_index_max_hg38'].isna()\n",
    "# region_df = region_df[ridxs].copy()\n",
    "# region_df.shape[0], region_df['region_id'].nunique()"
   ]
  },
  {
   "cell_type": "code",
   "execution_count": 14,
   "id": "d5580b17",
   "metadata": {
    "execution": {
     "iopub.execute_input": "2023-08-08T06:28:49.976093Z",
     "iopub.status.busy": "2023-08-08T06:28:49.975879Z",
     "iopub.status.idle": "2023-08-08T06:28:49.978242Z",
     "shell.execute_reply": "2023-08-08T06:28:49.977731Z"
    },
    "papermill": {
     "duration": 0.022993,
     "end_time": "2023-08-08T06:28:49.979534",
     "exception": false,
     "start_time": "2023-08-08T06:28:49.956541",
     "status": "completed"
    },
    "tags": []
   },
   "outputs": [],
   "source": [
    "# cg_count_hg19 = region_df['region_cpg_index_max']-region_df['region_cpg_index_min'] + 1\n",
    "# cg_count_hg38 = region_df['region_cpg_index_max_hg38']-region_df['region_cpg_index_min_hg38'] + 1\n",
    "# ridxs = (cg_count_hg19==cg_count_hg38)\n",
    "# ridxs &= (cg_count_hg19>=FILTER_CG_COUNT_REGION)\n",
    "# region_df = region_df[ridxs].copy()\n",
    "# region_df.shape[0], region_df['region_id'].nunique()"
   ]
  },
  {
   "cell_type": "code",
   "execution_count": 15,
   "id": "c6640ac3",
   "metadata": {
    "execution": {
     "iopub.execute_input": "2023-08-08T06:28:50.016924Z",
     "iopub.status.busy": "2023-08-08T06:28:50.016712Z",
     "iopub.status.idle": "2023-08-08T06:28:50.018963Z",
     "shell.execute_reply": "2023-08-08T06:28:50.018475Z"
    },
    "papermill": {
     "duration": 0.022461,
     "end_time": "2023-08-08T06:28:50.020242",
     "exception": false,
     "start_time": "2023-08-08T06:28:49.997781",
     "status": "completed"
    },
    "tags": []
   },
   "outputs": [],
   "source": [
    "# region_df['region_cpg_index_min_hg38'] = region_df['region_cpg_index_min_hg38'].astype(int)\n",
    "# region_df['region_cpg_index_max_hg38'] = region_df['region_cpg_index_max_hg38'].astype(int)"
   ]
  },
  {
   "cell_type": "code",
   "execution_count": 16,
   "id": "3450a650",
   "metadata": {
    "execution": {
     "iopub.execute_input": "2023-08-08T06:28:50.057547Z",
     "iopub.status.busy": "2023-08-08T06:28:50.057336Z",
     "iopub.status.idle": "2023-08-08T06:28:50.070059Z",
     "shell.execute_reply": "2023-08-08T06:28:50.069530Z"
    },
    "papermill": {
     "duration": 0.032848,
     "end_time": "2023-08-08T06:28:50.071334",
     "exception": false,
     "start_time": "2023-08-08T06:28:50.038486",
     "status": "completed"
    },
    "tags": []
   },
   "outputs": [
    {
     "data": {
      "text/html": [
       "<div>\n",
       "<style scoped>\n",
       "    .dataframe tbody tr th:only-of-type {\n",
       "        vertical-align: middle;\n",
       "    }\n",
       "\n",
       "    .dataframe tbody tr th {\n",
       "        vertical-align: top;\n",
       "    }\n",
       "\n",
       "    .dataframe thead th {\n",
       "        text-align: right;\n",
       "    }\n",
       "</style>\n",
       "<table border=\"1\" class=\"dataframe\">\n",
       "  <thead>\n",
       "    <tr style=\"text-align: right;\">\n",
       "      <th></th>\n",
       "      <th>region_chr</th>\n",
       "      <th>region_start</th>\n",
       "      <th>region_end</th>\n",
       "      <th>region_cpg_index_min</th>\n",
       "      <th>region_cpg_index_max</th>\n",
       "      <th>region_id</th>\n",
       "    </tr>\n",
       "  </thead>\n",
       "  <tbody>\n",
       "    <tr>\n",
       "      <th>0</th>\n",
       "      <td>chr1</td>\n",
       "      <td>1114771</td>\n",
       "      <td>1114971</td>\n",
       "      <td>20117</td>\n",
       "      <td>20130</td>\n",
       "      <td>Immune_Broad_B-chr1:1114772-1114971</td>\n",
       "    </tr>\n",
       "    <tr>\n",
       "      <th>1</th>\n",
       "      <td>chr1</td>\n",
       "      <td>1157450</td>\n",
       "      <td>1157720</td>\n",
       "      <td>21684</td>\n",
       "      <td>21704</td>\n",
       "      <td>Immune_Broad_NK-chr1:1157451-1157720</td>\n",
       "    </tr>\n",
       "    <tr>\n",
       "      <th>2</th>\n",
       "      <td>chr1</td>\n",
       "      <td>1157879</td>\n",
       "      <td>1158277</td>\n",
       "      <td>21710</td>\n",
       "      <td>21727</td>\n",
       "      <td>Immune_Broad_NK-chr1:1157880-1158277</td>\n",
       "    </tr>\n",
       "    <tr>\n",
       "      <th>14</th>\n",
       "      <td>chr1</td>\n",
       "      <td>6341182</td>\n",
       "      <td>6341377</td>\n",
       "      <td>140667</td>\n",
       "      <td>140682</td>\n",
       "      <td>Immune_Broad_Eosi-chr1:6341183-6341377</td>\n",
       "    </tr>\n",
       "    <tr>\n",
       "      <th>19</th>\n",
       "      <td>chr1</td>\n",
       "      <td>9147788</td>\n",
       "      <td>9147871</td>\n",
       "      <td>188605</td>\n",
       "      <td>188609</td>\n",
       "      <td>Immune_Broad_Neutro-chr1:9147789-9147871</td>\n",
       "    </tr>\n",
       "  </tbody>\n",
       "</table>\n",
       "</div>"
      ],
      "text/plain": [
       "   region_chr  region_start  region_end  region_cpg_index_min  region_cpg_index_max                                 region_id\n",
       "0        chr1       1114771     1114971                 20117                 20130       Immune_Broad_B-chr1:1114772-1114971\n",
       "1        chr1       1157450     1157720                 21684                 21704      Immune_Broad_NK-chr1:1157451-1157720\n",
       "2        chr1       1157879     1158277                 21710                 21727      Immune_Broad_NK-chr1:1157880-1158277\n",
       "14       chr1       6341182     6341377                140667                140682    Immune_Broad_Eosi-chr1:6341183-6341377\n",
       "19       chr1       9147788     9147871                188605                188609  Immune_Broad_Neutro-chr1:9147789-9147871"
      ]
     },
     "execution_count": 16,
     "metadata": {},
     "output_type": "execute_result"
    }
   ],
   "source": [
    "### Restrict to immune regions\n",
    "#-------------- CHANGE HERE FOR DIFFERENT REGION SUBSET ----------------------\n",
    "# BLUEPRINT immune regions\n",
    "ATLAS_PATH = PROJECT_DIR + f'/output/reference/deconv_inhouse_v2.atlas.tsv.gz'\n",
    "atlas = pd.read_csv(ATLAS_PATH, sep='\\t')\n",
    "subset_region_set = set(atlas.region_id)\n",
    "#-----------------------------------------------------------------------------\n",
    "\n",
    "# filter regions down to regions of interest\n",
    "region_df = region_df[region_df['region_id'].isin(subset_region_set)]\n",
    "region_df.head()"
   ]
  },
  {
   "cell_type": "code",
   "execution_count": 17,
   "id": "0aedfdec",
   "metadata": {
    "execution": {
     "iopub.execute_input": "2023-08-08T06:28:50.110302Z",
     "iopub.status.busy": "2023-08-08T06:28:50.110086Z",
     "iopub.status.idle": "2023-08-08T07:06:39.116811Z",
     "shell.execute_reply": "2023-08-08T07:06:39.116217Z"
    },
    "papermill": {
     "duration": 2269.059427,
     "end_time": "2023-08-08T07:06:39.150057",
     "exception": false,
     "start_time": "2023-08-08T06:28:50.090630",
     "status": "completed"
    },
    "tags": []
   },
   "outputs": [
    {
     "name": "stdout",
     "output_type": "stream",
     "text": [
      ">>> Start computing score matrices <<< \n",
      "\n",
      "--> E2GRANUL_E1116B_E2977CD4_E1302CD8_E1674MONO_E093NK\n",
      "--------> Computing score matrix for mix0_seed106375\n",
      "--------> Computing score matrix for mix1_seed803133\n",
      "--------> Computing score matrix for mix2_seed754789\n",
      "--------> Computing score matrix for mix3_seed669141\n",
      "--------> Computing score matrix for mix4_seed362477\n",
      "--------> Computing score matrix for mix5_seed956194\n",
      "--------> Computing score matrix for mix6_seed669884\n",
      "--------> Computing score matrix for mix7_seed756130\n",
      "--------> Computing score matrix for mix8_seed89737\n",
      "--------> Computing score matrix for mix9_seed704877\n",
      "--------> Computing score matrix for mix10_seed628175\n",
      "--------> Computing score matrix for mix11_seed821572\n",
      "--------> Computing score matrix for mix12_seed276913\n",
      "--------> Computing score matrix for mix13_seed963369\n",
      "--------> Computing score matrix for mix14_seed64384\n",
      "--------> Computing score matrix for mix15_seed111665\n",
      "--------> Computing score matrix for mix16_seed528725\n",
      "--------> Computing score matrix for mix17_seed715905\n",
      "--------> Computing score matrix for mix18_seed624900\n",
      "--------> Computing score matrix for mix19_seed696504\n",
      "\n",
      "\n",
      "--> E15GRANUL_E1186B_E3163CD4_E1384CD8_E1779MONO_E0988NK\n",
      "--------> Computing score matrix for mix0_seed10715\n",
      "--------> Computing score matrix for mix1_seed989127\n",
      "--------> Computing score matrix for mix2_seed976185\n",
      "--------> Computing score matrix for mix3_seed530891\n",
      "--------> Computing score matrix for mix4_seed467536\n",
      "--------> Computing score matrix for mix5_seed937830\n",
      "--------> Computing score matrix for mix6_seed127339\n",
      "--------> Computing score matrix for mix7_seed283668\n",
      "--------> Computing score matrix for mix8_seed223469\n",
      "--------> Computing score matrix for mix9_seed349266\n",
      "--------> Computing score matrix for mix10_seed78892\n",
      "--------> Computing score matrix for mix11_seed352855\n",
      "--------> Computing score matrix for mix12_seed973178\n",
      "--------> Computing score matrix for mix13_seed351195\n",
      "--------> Computing score matrix for mix14_seed94361\n",
      "--------> Computing score matrix for mix15_seed993641\n",
      "--------> Computing score matrix for mix16_seed958661\n",
      "--------> Computing score matrix for mix17_seed925941\n",
      "--------> Computing score matrix for mix18_seed209046\n",
      "--------> Computing score matrix for mix19_seed287932\n",
      "\n",
      "\n",
      "--> E1GRANUL_E1256B_E3349CD4_E1465CD8_E1884MONO_E1047NK\n",
      "--------> Computing score matrix for mix0_seed831448\n",
      "--------> Computing score matrix for mix1_seed562190\n",
      "--------> Computing score matrix for mix2_seed691467\n",
      "--------> Computing score matrix for mix3_seed201543\n",
      "--------> Computing score matrix for mix4_seed404621\n",
      "--------> Computing score matrix for mix5_seed715136\n",
      "--------> Computing score matrix for mix6_seed612261\n",
      "--------> Computing score matrix for mix7_seed705833\n",
      "--------> Computing score matrix for mix8_seed206278\n",
      "--------> Computing score matrix for mix9_seed289568\n",
      "--------> Computing score matrix for mix10_seed28997\n",
      "--------> Computing score matrix for mix11_seed920352\n",
      "--------> Computing score matrix for mix12_seed524691\n",
      "--------> Computing score matrix for mix13_seed241664\n",
      "--------> Computing score matrix for mix14_seed291776\n",
      "--------> Computing score matrix for mix15_seed254167\n",
      "--------> Computing score matrix for mix16_seed702742\n",
      "--------> Computing score matrix for mix17_seed733092\n",
      "--------> Computing score matrix for mix18_seed9761\n",
      "--------> Computing score matrix for mix19_seed625795\n",
      "\n",
      "\n",
      "--> E08GRANUL_E1284B_E3423CD4_E1498CD8_E1926MONO_E107NK\n",
      "--------> Computing score matrix for mix0_seed573320\n",
      "--------> Computing score matrix for mix1_seed106323\n",
      "--------> Computing score matrix for mix2_seed254137\n",
      "--------> Computing score matrix for mix3_seed817970\n",
      "--------> Computing score matrix for mix4_seed881443\n",
      "--------> Computing score matrix for mix5_seed541428\n",
      "--------> Computing score matrix for mix6_seed941368\n",
      "--------> Computing score matrix for mix7_seed826437\n",
      "--------> Computing score matrix for mix8_seed480736\n",
      "--------> Computing score matrix for mix9_seed802427\n",
      "--------> Computing score matrix for mix10_seed978196\n",
      "--------> Computing score matrix for mix11_seed499021\n",
      "--------> Computing score matrix for mix12_seed665740\n",
      "--------> Computing score matrix for mix13_seed595611\n",
      "--------> Computing score matrix for mix14_seed816522\n",
      "--------> Computing score matrix for mix15_seed134638\n",
      "--------> Computing score matrix for mix16_seed731720\n",
      "--------> Computing score matrix for mix17_seed636351\n",
      "--------> Computing score matrix for mix18_seed54424\n",
      "--------> Computing score matrix for mix19_seed563414\n",
      "\n",
      "\n",
      "--> E06GRANUL_E1312B_E3498CD4_E153CD8_E1967MONO_E1093NK\n",
      "--------> Computing score matrix for mix0_seed587905\n",
      "--------> Computing score matrix for mix1_seed195945\n",
      "--------> Computing score matrix for mix2_seed967837\n",
      "--------> Computing score matrix for mix3_seed455992\n",
      "--------> Computing score matrix for mix4_seed290186\n",
      "--------> Computing score matrix for mix5_seed437619\n",
      "--------> Computing score matrix for mix6_seed50705\n",
      "--------> Computing score matrix for mix7_seed719669\n",
      "--------> Computing score matrix for mix8_seed508939\n",
      "--------> Computing score matrix for mix9_seed286826\n",
      "--------> Computing score matrix for mix10_seed181571\n",
      "--------> Computing score matrix for mix11_seed587909\n",
      "--------> Computing score matrix for mix12_seed429164\n",
      "--------> Computing score matrix for mix13_seed850536\n",
      "--------> Computing score matrix for mix14_seed617496\n",
      "--------> Computing score matrix for mix15_seed673223\n",
      "--------> Computing score matrix for mix16_seed893897\n",
      "--------> Computing score matrix for mix17_seed390863\n",
      "--------> Computing score matrix for mix18_seed851203\n",
      "--------> Computing score matrix for mix19_seed536607\n",
      "\n",
      "\n",
      "--> E04GRANUL_E134B_E3572CD4_E1563CD8_E2009MONO_E1116NK\n",
      "--------> Computing score matrix for mix0_seed627223\n",
      "--------> Computing score matrix for mix1_seed662222\n",
      "--------> Computing score matrix for mix2_seed790631\n",
      "--------> Computing score matrix for mix3_seed70184\n",
      "--------> Computing score matrix for mix4_seed668794\n",
      "--------> Computing score matrix for mix5_seed596259\n",
      "--------> Computing score matrix for mix6_seed748511\n",
      "--------> Computing score matrix for mix7_seed194235\n",
      "--------> Computing score matrix for mix8_seed281476\n",
      "--------> Computing score matrix for mix9_seed382353\n",
      "--------> Computing score matrix for mix10_seed986048\n",
      "--------> Computing score matrix for mix11_seed10285\n",
      "--------> Computing score matrix for mix12_seed918181\n",
      "--------> Computing score matrix for mix13_seed639922\n",
      "--------> Computing score matrix for mix14_seed887890\n",
      "--------> Computing score matrix for mix15_seed109766\n",
      "--------> Computing score matrix for mix16_seed182756\n",
      "--------> Computing score matrix for mix17_seed137914\n",
      "--------> Computing score matrix for mix18_seed211377\n",
      "--------> Computing score matrix for mix19_seed533198\n",
      "\n",
      "\n",
      "--> E02GRANUL_E1367B_E3647CD4_E1595CD8_E2051MONO_E114NK\n",
      "--------> Computing score matrix for mix0_seed184439\n",
      "--------> Computing score matrix for mix1_seed890055\n",
      "--------> Computing score matrix for mix2_seed914035\n",
      "--------> Computing score matrix for mix3_seed749219\n",
      "--------> Computing score matrix for mix4_seed806557\n",
      "--------> Computing score matrix for mix5_seed59500\n",
      "--------> Computing score matrix for mix6_seed74832\n",
      "--------> Computing score matrix for mix7_seed893971\n",
      "--------> Computing score matrix for mix8_seed692059\n",
      "--------> Computing score matrix for mix9_seed359581\n",
      "--------> Computing score matrix for mix10_seed612356\n",
      "--------> Computing score matrix for mix11_seed58496\n",
      "--------> Computing score matrix for mix12_seed40944\n",
      "--------> Computing score matrix for mix13_seed687511\n",
      "--------> Computing score matrix for mix14_seed251586\n",
      "--------> Computing score matrix for mix15_seed657279\n",
      "--------> Computing score matrix for mix16_seed824491\n",
      "--------> Computing score matrix for mix17_seed813987\n",
      "--------> Computing score matrix for mix18_seed217102\n",
      "--------> Computing score matrix for mix19_seed712971\n",
      "\n",
      "\n",
      "--> E01GRANUL_E1381B_E3684CD4_E1612CD8_E2072MONO_E1151NK\n",
      "--------> Computing score matrix for mix0_seed335287\n",
      "--------> Computing score matrix for mix1_seed441571\n",
      "--------> Computing score matrix for mix2_seed17595\n",
      "--------> Computing score matrix for mix3_seed474533\n",
      "--------> Computing score matrix for mix4_seed185633\n",
      "--------> Computing score matrix for mix5_seed387031\n",
      "--------> Computing score matrix for mix6_seed631186\n",
      "--------> Computing score matrix for mix7_seed778032\n",
      "--------> Computing score matrix for mix8_seed268889\n",
      "--------> Computing score matrix for mix9_seed508068\n",
      "--------> Computing score matrix for mix10_seed117067\n",
      "--------> Computing score matrix for mix11_seed509633\n",
      "--------> Computing score matrix for mix12_seed749091\n",
      "--------> Computing score matrix for mix13_seed779007\n",
      "--------> Computing score matrix for mix14_seed672425\n",
      "--------> Computing score matrix for mix15_seed812913\n",
      "--------> Computing score matrix for mix16_seed588185\n",
      "--------> Computing score matrix for mix17_seed141231\n",
      "--------> Computing score matrix for mix18_seed984111\n",
      "--------> Computing score matrix for mix19_seed364776\n",
      "\n",
      "\n",
      "--> E008GRANUL_E1384B_E3691CD4_E1615CD8_E2076MONO_E1153NK\n",
      "--------> Computing score matrix for mix0_seed74036\n",
      "--------> Computing score matrix for mix1_seed77568\n",
      "--------> Computing score matrix for mix2_seed906701\n",
      "--------> Computing score matrix for mix3_seed511159\n",
      "--------> Computing score matrix for mix4_seed571244\n",
      "--------> Computing score matrix for mix5_seed361678\n",
      "--------> Computing score matrix for mix6_seed35866\n",
      "--------> Computing score matrix for mix7_seed561576\n",
      "--------> Computing score matrix for mix8_seed186910\n",
      "--------> Computing score matrix for mix9_seed950409\n",
      "--------> Computing score matrix for mix10_seed146061\n",
      "--------> Computing score matrix for mix11_seed80832\n",
      "--------> Computing score matrix for mix12_seed843046\n",
      "--------> Computing score matrix for mix13_seed561420\n",
      "--------> Computing score matrix for mix14_seed880289\n",
      "--------> Computing score matrix for mix15_seed907918\n",
      "--------> Computing score matrix for mix16_seed739970\n",
      "--------> Computing score matrix for mix17_seed629975\n",
      "--------> Computing score matrix for mix18_seed451669\n",
      "--------> Computing score matrix for mix19_seed88694\n",
      "\n",
      "\n",
      "--> E006GRANUL_E1387B_E3699CD4_E1618CD8_E208MONO_E1156NK\n",
      "--------> Computing score matrix for mix0_seed262930\n",
      "--------> Computing score matrix for mix1_seed326000\n",
      "--------> Computing score matrix for mix2_seed295309\n",
      "--------> Computing score matrix for mix3_seed888906\n",
      "--------> Computing score matrix for mix4_seed640912\n",
      "--------> Computing score matrix for mix5_seed453690\n",
      "--------> Computing score matrix for mix6_seed54630\n",
      "--------> Computing score matrix for mix7_seed428844\n",
      "--------> Computing score matrix for mix8_seed653901\n",
      "--------> Computing score matrix for mix9_seed989540\n",
      "--------> Computing score matrix for mix10_seed217241\n",
      "--------> Computing score matrix for mix11_seed722015\n",
      "--------> Computing score matrix for mix12_seed320132\n",
      "--------> Computing score matrix for mix13_seed890195\n",
      "--------> Computing score matrix for mix14_seed958653\n",
      "--------> Computing score matrix for mix15_seed465001\n",
      "--------> Computing score matrix for mix16_seed512536\n",
      "--------> Computing score matrix for mix17_seed412837\n",
      "--------> Computing score matrix for mix18_seed686857\n",
      "--------> Computing score matrix for mix19_seed485859\n",
      "\n",
      "\n",
      "--> E004GRANUL_E139B_E3706CD4_E1621CD8_E2085MONO_E1158NK\n",
      "--------> Computing score matrix for mix0_seed256869\n",
      "--------> Computing score matrix for mix1_seed513277\n",
      "--------> Computing score matrix for mix2_seed220792\n",
      "--------> Computing score matrix for mix3_seed1964\n",
      "--------> Computing score matrix for mix4_seed864210\n",
      "--------> Computing score matrix for mix5_seed273365\n",
      "--------> Computing score matrix for mix6_seed880225\n",
      "--------> Computing score matrix for mix7_seed473665\n",
      "--------> Computing score matrix for mix8_seed586949\n",
      "--------> Computing score matrix for mix9_seed97623\n",
      "--------> Computing score matrix for mix10_seed696909\n",
      "--------> Computing score matrix for mix11_seed369255\n",
      "--------> Computing score matrix for mix12_seed260\n",
      "--------> Computing score matrix for mix13_seed759090\n",
      "--------> Computing score matrix for mix14_seed613015\n",
      "--------> Computing score matrix for mix15_seed560872\n",
      "--------> Computing score matrix for mix16_seed834650\n",
      "--------> Computing score matrix for mix17_seed634987\n",
      "--------> Computing score matrix for mix18_seed957444\n",
      "--------> Computing score matrix for mix19_seed558145\n",
      "\n",
      "\n",
      "--> E002GRANUL_E1393B_E3713CD4_E1625CD8_E2089MONO_E116NK\n",
      "--------> Computing score matrix for mix0_seed423442\n",
      "--------> Computing score matrix for mix1_seed757021\n",
      "--------> Computing score matrix for mix2_seed654928\n",
      "--------> Computing score matrix for mix3_seed194679\n",
      "--------> Computing score matrix for mix4_seed928086\n",
      "--------> Computing score matrix for mix5_seed341495\n",
      "--------> Computing score matrix for mix6_seed411956\n",
      "--------> Computing score matrix for mix7_seed857309\n",
      "--------> Computing score matrix for mix8_seed969530\n",
      "--------> Computing score matrix for mix9_seed229199\n",
      "--------> Computing score matrix for mix10_seed145080\n",
      "--------> Computing score matrix for mix11_seed407754\n",
      "--------> Computing score matrix for mix12_seed554097\n",
      "--------> Computing score matrix for mix13_seed724851\n",
      "--------> Computing score matrix for mix14_seed733125\n",
      "--------> Computing score matrix for mix15_seed459283\n",
      "--------> Computing score matrix for mix16_seed57329\n",
      "--------> Computing score matrix for mix17_seed904203\n",
      "--------> Computing score matrix for mix18_seed86761\n",
      "--------> Computing score matrix for mix19_seed606407\n",
      "\n",
      "\n",
      "--> E001GRANUL_E1394B_E3717CD4_E1626CD8_E2091MONO_E1162NK\n",
      "--------> Computing score matrix for mix0_seed604775\n",
      "--------> Computing score matrix for mix1_seed825249\n",
      "--------> Computing score matrix for mix2_seed724519\n",
      "--------> Computing score matrix for mix3_seed479193\n",
      "--------> Computing score matrix for mix4_seed59330\n",
      "--------> Computing score matrix for mix5_seed193666\n",
      "--------> Computing score matrix for mix6_seed351974\n",
      "--------> Computing score matrix for mix7_seed563873\n",
      "--------> Computing score matrix for mix8_seed461717\n",
      "--------> Computing score matrix for mix9_seed438910\n",
      "--------> Computing score matrix for mix10_seed948891\n",
      "--------> Computing score matrix for mix11_seed81396\n",
      "--------> Computing score matrix for mix12_seed104664\n",
      "--------> Computing score matrix for mix13_seed358613\n",
      "--------> Computing score matrix for mix14_seed533835\n",
      "--------> Computing score matrix for mix15_seed472244\n",
      "--------> Computing score matrix for mix16_seed729872\n",
      "--------> Computing score matrix for mix17_seed163172\n",
      "--------> Computing score matrix for mix18_seed596686\n",
      "--------> Computing score matrix for mix19_seed186036\n",
      "\n",
      "\n",
      "--> EGRANUL_E1395B_E3721CD4_E1628CD8_E2093MONO_E1163NK\n",
      "--------> Computing score matrix for mix0_seed293516\n",
      "--------> Computing score matrix for mix1_seed31113\n",
      "--------> Computing score matrix for mix2_seed438495\n",
      "--------> Computing score matrix for mix3_seed958484\n",
      "--------> Computing score matrix for mix4_seed986699\n",
      "--------> Computing score matrix for mix5_seed735627\n",
      "--------> Computing score matrix for mix6_seed396553\n",
      "--------> Computing score matrix for mix7_seed984963\n",
      "--------> Computing score matrix for mix8_seed494783\n",
      "--------> Computing score matrix for mix9_seed812978\n",
      "--------> Computing score matrix for mix10_seed944104\n",
      "--------> Computing score matrix for mix11_seed223345\n",
      "--------> Computing score matrix for mix12_seed25212\n",
      "--------> Computing score matrix for mix13_seed26652\n",
      "--------> Computing score matrix for mix14_seed174018\n",
      "--------> Computing score matrix for mix15_seed943683\n",
      "--------> Computing score matrix for mix16_seed217777\n",
      "--------> Computing score matrix for mix17_seed329484\n",
      "--------> Computing score matrix for mix18_seed673924\n",
      "--------> Computing score matrix for mix19_seed354951\n",
      "\n",
      "\n",
      ">>> Complete. <<< \n",
      "\n",
      "CPU times: user 16.2 s, sys: 1.16 s, total: 17.4 s\n",
      "Wall time: 37min 49s\n"
     ]
    }
   ],
   "source": [
    "%%time\n",
    "\n",
    "PAT_COLS = [\n",
    "    'molecule_id', 'chr', 'number_molecules',\n",
    "    'cpg_index_min', 'cpg_index_max', 'pat_string', 'region_id', 'region_cpg_index_min', 'region_cpg_index_max'\n",
    "]\n",
    "\n",
    "QUANTILES = [0.1, 0.25, 0.75, 0.9]\n",
    "KMERS = [1, 3, 4]\n",
    "RATES_LEQ = [0.25]\n",
    "RATES_GEQ = [0.75]\n",
    "\n",
    "RETURN_SCHEMA = StructType()\\\n",
    "    .add('region_id', 'string')\\\n",
    "    .add('number_molecules', 'integer')\\\n",
    "    .add('meth_k1', 'integer')\\\n",
    "    .add('unmeth_k1', 'integer')\\\n",
    "    .add('total_k1', 'integer')\\\n",
    "    .add('meth_k3', 'integer')\\\n",
    "    .add('unmeth_k3', 'integer')\\\n",
    "    .add('total_k3', 'integer')\\\n",
    "    .add('meth_k4', 'integer')\\\n",
    "    .add('unmeth_k4', 'integer')\\\n",
    "    .add('total_k4', 'integer')\\\n",
    "    .add('frac_alpha_leq_25pct', 'float')\\\n",
    "    .add('frac_alpha_geq_75pct', 'float')\n",
    "\n",
    "compute_frag_scores_udf = sm.compute_frag_scores(cpg_number_cutoff=FILTER_CG_COUNT, schema=RETURN_SCHEMA, kmers=KMERS, rates_leq=RATES_LEQ, rates_geq=RATES_GEQ)\n",
    "\n",
    "\n",
    "# compute methyl score for are parquet files\n",
    "sm.score_matrix_from_mixture_directory(path_to_mixture_dir = PATH_TO_MIXTURE_DIR, \n",
    "                                       result_path = RESULT_PATH, \n",
    "                                       pat_cols = PAT_COLS, \n",
    "                                       region_df = region_df, \n",
    "                                       batch_size = 20, \n",
    "                                       schema = RETURN_SCHEMA, \n",
    "                                       spark=spark,\n",
    "                                       compute_frag_scores_udf=compute_frag_scores_udf,\n",
    "                                       save=True, \n",
    "                                       verbose=False)"
   ]
  },
  {
   "cell_type": "markdown",
   "id": "e737db6f",
   "metadata": {
    "papermill": {
     "duration": 0.031832,
     "end_time": "2023-08-08T07:06:39.214240",
     "exception": false,
     "start_time": "2023-08-08T07:06:39.182408",
     "status": "completed"
    },
    "tags": []
   },
   "source": [
    "## Deconvolution"
   ]
  },
  {
   "cell_type": "code",
   "execution_count": 8,
   "id": "6ad8ab91",
   "metadata": {
    "papermill": {
     "duration": 0.036803,
     "end_time": "2023-08-08T07:06:39.282580",
     "exception": false,
     "start_time": "2023-08-08T07:06:39.245777",
     "status": "completed"
    },
    "tags": []
   },
   "outputs": [],
   "source": [
    "############################\n",
    "#   Parameters and paths   # \n",
    "############################\n",
    "\n",
    "FILTER_COV = 20\n",
    "\n",
    "SCORE_VAR = 'frac_alpha_leq_25pct'\n",
    "\n",
    "# Reference matrix\n",
    "ATLAS_PATH = PROJECT_DIR + 'output/reference/deconv_inhouse_v2.tsplit.atlas.tsv.gz'\n",
    "REGION_PATH = PROJECT_DIR + 'output/reference/deconv_inhouse_v2.tsplit.region_to_ref_celltype.tsv.gz'\n",
    "\n",
    "# Methylation score matrix\n",
    "SCORE_DIR = EXPERIMENT_CELLTYPE_DIR + 'methyl_score/'\n"
   ]
  },
  {
   "cell_type": "code",
   "execution_count": 9,
   "id": "e503e7bb",
   "metadata": {
    "papermill": {
     "duration": 0.04426,
     "end_time": "2023-08-08T07:06:39.358999",
     "exception": false,
     "start_time": "2023-08-08T07:06:39.314739",
     "status": "completed"
    },
    "tags": []
   },
   "outputs": [
    {
     "data": {
      "text/plain": [
       "(285, 10)"
      ]
     },
     "execution_count": 9,
     "metadata": {},
     "output_type": "execute_result"
    }
   ],
   "source": [
    "atlas = pd.read_csv(ATLAS_PATH, sep='\\t',index_col=None)\n",
    "atlas = atlas.set_index('region_id')\n",
    "atlas.columns.name = 'ref_celltype'\n",
    "atlas.shape\n",
    "\n",
    "ref_region_df = pd.read_csv(REGION_PATH, sep='\\t')\n",
    "\n",
    "atlas = atlas.loc[ref_region_df['region_id'], :].copy()\n",
    "atlas.shape"
   ]
  },
  {
   "cell_type": "code",
   "execution_count": 10,
   "id": "396d8d24",
   "metadata": {
    "papermill": {
     "duration": 0.041484,
     "end_time": "2023-08-08T07:06:39.432202",
     "exception": false,
     "start_time": "2023-08-08T07:06:39.390718",
     "status": "completed"
    },
    "tags": []
   },
   "outputs": [],
   "source": [
    "ref_region_df['ref_celltype'][ref_region_df['ref_celltype'] == 'immune_cd4_t'] = 'immune_cd4'\n",
    "ref_region_df['ref_celltype'][ref_region_df['ref_celltype'] == 'immune_cd8_t'] = 'immune_cd8'"
   ]
  },
  {
   "cell_type": "code",
   "execution_count": 11,
   "id": "611af9b9",
   "metadata": {
    "papermill": {
     "duration": 4.561155,
     "end_time": "2023-08-08T07:06:44.025597",
     "exception": false,
     "start_time": "2023-08-08T07:06:39.464442",
     "status": "completed"
    },
    "tags": []
   },
   "outputs": [
    {
     "name": "stdout",
     "output_type": "stream",
     "text": [
      "CPU times: user 4.45 s, sys: 108 ms, total: 4.56 s\n",
      "Wall time: 4.92 s\n"
     ]
    }
   ],
   "source": [
    "%%time\n",
    "\n",
    "deconvolution_nnls = dcnv.compute_deconvolution_from_methyl_score_dir_nnls(path_to_methyl_score_dir=SCORE_DIR, \n",
    "                                                                          score_type=SCORE_VAR, \n",
    "                                                                          atlas=atlas, \n",
    "                                                                          match=False)\n",
    "\n",
    "deconvolution_naive = dcnv.compute_deconvolution_from_methyl_score_dir_naive(path_to_methyl_score_dir=SCORE_DIR, \n",
    "                                                                             filter_cov=FILTER_COV, \n",
    "                                                                             score_var=SCORE_VAR, \n",
    "                                                                             ref_region_df=ref_region_df)\n"
   ]
  },
  {
   "cell_type": "code",
   "execution_count": 12,
   "id": "59aec2b1-483a-47bb-a45f-a0434c3e8a65",
   "metadata": {
    "tags": []
   },
   "outputs": [
    {
     "data": {
      "image/png": "[encoded data removed]",
      "text/plain": [
       "<Figure size 864x576 with 1 Axes>"
      ]
     },
     "metadata": {
      "needs_background": "light"
     },
     "output_type": "display_data"
    }
   ],
   "source": [
    "dcnv.boxplot_titration_combined(list_of_deconvolution_dfs_naive=deconvolution_naive,\n",
    "                       list_of_deconvolution_dfs_nnls=deconvolution_nnls,\n",
    "                      cell_type=TITRATING_CELLTYPE_ATLAS,\n",
    "                      true_proportions=TITRATION_LIST\n",
    "                      )"
   ]
  },
  {
   "cell_type": "code",
   "execution_count": 13,
   "id": "457dd16c-f7ed-44a0-be08-f6429b110db9",
   "metadata": {
    "tags": []
   },
   "outputs": [
    {
     "data": {
      "image/png": "[encoded data removed]",
      "text/plain": [
       "<Figure size 720x720 with 14 Axes>"
      ]
     },
     "metadata": {
      "needs_background": "light"
     },
     "output_type": "display_data"
    }
   ],
   "source": [
    "dcnv.boxplot_titration_zoom_combined(list_of_deconvolution_dfs_naive=deconvolution_naive,\n",
    "                       list_of_deconvolution_dfs_nnls=deconvolution_nnls,\n",
    "                      cell_type=TITRATING_CELLTYPE_ATLAS,\n",
    "                      true_proportions=TITRATION_LIST\n",
    "                      )"
   ]
  },
  {
   "cell_type": "code",
   "execution_count": 14,
   "id": "7b16cacd",
   "metadata": {
    "papermill": {
     "duration": 0.388557,
     "end_time": "2023-08-08T07:06:44.446816",
     "exception": false,
     "start_time": "2023-08-08T07:06:44.058259",
     "status": "completed"
    },
    "tags": []
   },
   "outputs": [
    {
     "data": {
      "image/png": "[encoded data removed]",
      "text/plain": [
       "<Figure size 864x432 with 1 Axes>"
      ]
     },
     "metadata": {
      "needs_background": "light"
     },
     "output_type": "display_data"
    }
   ],
   "source": [
    "importlib.reload(cm)\n",
    "importlib.reload(sm)\n",
    "importlib.reload(dcnv)\n",
    "importlib.reload(hlpr)\n",
    "\n",
    "dcnv.boxplot_titration(list_of_deconvolution_dfs=deconvolution_nnls,\n",
    "                      cell_type=TITRATING_CELLTYPE_ATLAS,\n",
    "                      true_proportions=TITRATION_LIST,\n",
    "                      deconvolution_method_name='nnls'\n",
    "                      )"
   ]
  },
  {
   "cell_type": "code",
   "execution_count": 15,
   "id": "427c4203",
   "metadata": {
    "papermill": {
     "duration": 0.378862,
     "end_time": "2023-08-08T07:06:44.859322",
     "exception": false,
     "start_time": "2023-08-08T07:06:44.480460",
     "status": "completed"
    },
    "tags": []
   },
   "outputs": [
    {
     "data": {
      "image/png": "[encoded data removed]",
      "text/plain": [
       "<Figure size 720x720 with 14 Axes>"
      ]
     },
     "metadata": {
      "needs_background": "light"
     },
     "output_type": "display_data"
    }
   ],
   "source": [
    "dcnv.boxplot_titration_zoom(list_of_deconvolution_dfs=deconvolution_nnls,\n",
    "                      cell_type=TITRATING_CELLTYPE_ATLAS,\n",
    "                      true_proportions=TITRATION_LIST,\n",
    "                      deconvolution_method_name='nnls')"
   ]
  },
  {
   "cell_type": "code",
   "execution_count": null,
   "id": "600add58",
   "metadata": {
    "papermill": {
     "duration": 0.036672,
     "end_time": "2023-08-08T07:06:50.716596",
     "exception": false,
     "start_time": "2023-08-08T07:06:50.679924",
     "status": "completed"
    },
    "tags": []
   },
   "outputs": [],
   "source": []
  },
  {
   "cell_type": "code",
   "execution_count": null,
   "id": "76b7616b",
   "metadata": {
    "papermill": {
     "duration": 0.036179,
     "end_time": "2023-08-08T07:06:50.788762",
     "exception": false,
     "start_time": "2023-08-08T07:06:50.752583",
     "status": "completed"
    },
    "tags": []
   },
   "outputs": [],
   "source": []
  },
  {
   "cell_type": "code",
   "execution_count": null,
   "id": "658b8268-6019-43ca-8c97-dbd73ed7d6a0",
   "metadata": {},
   "outputs": [],
   "source": []
  }
 ],
 "metadata": {
  "kernelspec": {
   "display_name": "Python 3",
   "language": "python",
   "name": "python3"
  },
  "language_info": {
   "codemirror_mode": {
    "name": "ipython",
    "version": 3
   },
   "file_extension": ".py",
   "mimetype": "text/x-python",
   "name": "python",
   "nbconvert_exporter": "python",
   "pygments_lexer": "ipython3",
   "version": "3.7.8"
  },
  "papermill": {
   "default_parameters": {},
   "duration": 3768.902853,
   "end_time": "2023-08-08T07:06:51.542476",
   "environment_variables": {},
   "exception": null,
   "input_path": "/analysis/gh-msun/projects/2023_06_26_SRT_deconvolution_MS//notebooks/titration/02_titration_experiment_loyfer.ipynb",
   "output_path": "/analysis/gh-msun/projects/2023_06_26_SRT_deconvolution_MS//notebooks/titration/primary_immune_loyfer_wholeblood/titration_GRANUL.ipynb",
   "parameters": {
    "ABRIDGED_NAMES": [
     "B",
     "CD4",
     "CD8",
     "MONO",
     "NK",
     "GRANUL"
    ],
    "BACKGROUND": "wholeblood",
    "CELLTYPES": [
     "Blood-B",
     "Blood-CD4",
     "Blood-CD8",
     "Blood-Mono+Macro",
     "Blood-NK",
     "Blood-Granul"
    ],
    "EXPERIMENT": "primary_immune_loyfer",
    "N_REPLICATES": 20,
    "PROJECT_SLUG": "2023_06_26_SRT_deconvolution_MS",
    "ROOT_DIR": "/analysis/gh-msun/",
    "SEED": 520710,
    "TITRATING_CELLTYPE": "Blood-Granul",
    "TITRATING_CELLTYPE_ATLAS": "immune_neutro",
    "TITRATION_LIST": [
     0.2,
     0.15,
     0.1,
     0.08,
     0.06,
     0.04,
     0.02,
     0.01,
     0.008,
     0.006,
     0.004,
     0.002,
     0.001,
     0
    ],
    "TOTAL_READS_TO_SAMPLE": 1000000,
    "WHOLE_BLOOD_ABUNDANCE": {
     "Blood-B": 0.06,
     "Blood-CD4": 0.16,
     "Blood-CD8": 0.07,
     "Blood-Granul": 0.57,
     "Blood-Mono+Macro": 0.09,
     "Blood-NK": 0.05
    }
   },
   "start_time": "2023-08-08T06:04:02.639623",
   "version": "2.4.0"
  }
 },
 "nbformat": 4,
 "nbformat_minor": 5
}
