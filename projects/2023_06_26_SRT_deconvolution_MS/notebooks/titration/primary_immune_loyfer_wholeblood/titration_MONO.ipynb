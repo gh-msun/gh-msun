{
 "cells": [
  {
   "cell_type": "markdown",
   "id": "9579fe29",
   "metadata": {
    "papermill": {
     "duration": 0.005158,
     "end_time": "2023-08-08T03:49:08.195661",
     "exception": false,
     "start_time": "2023-08-08T03:49:08.190503",
     "status": "completed"
    },
    "tags": []
   },
   "source": [
    "# Titration Experiment"
   ]
  },
  {
   "cell_type": "code",
   "execution_count": 1,
   "id": "39ae96cd",
   "metadata": {
    "papermill": {
     "duration": 0.013103,
     "end_time": "2023-08-08T03:49:08.214331",
     "exception": false,
     "start_time": "2023-08-08T03:49:08.201228",
     "status": "completed"
    },
    "tags": [
     "parameters"
    ]
   },
   "outputs": [],
   "source": [
    "#############################\n",
    "#   Experiment parameters   #\n",
    "#############################\n",
    "ROOT_DIR = '/analysis/gh-msun/'\n",
    "PROJECT_SLUG = '2023_06_26_SRT_deconvolution_MS'\n",
    "EXPERIMENT = 'primary_immune'\n",
    "TITRATING_CELLTYPE = 'Blueprint-B'\n",
    "TITRATING_CELLTYPE_ATLAS = 'immune_b' # cell type name in atlas different\n",
    "BACKGROUND = 'wholeblood' # background: uniform / wholeblood \n",
    "N_REPLICATES = 2 # number of replicates for each mixture\n",
    "SEED = 888 # need to change for different experiment\n",
    "TOTAL_READS_TO_SAMPLE = 1000000\n",
    "\n",
    "# make sure the orders of the two list match\n",
    "CELLTYPES = ['Blueprint-CD4', 'Blueprint-CD8', 'Blueprint-B', 'Blueprint-NK', 'Blueprint-Mono', 'Blueprint-Neutro']\n",
    "ABRIDGED_NAMES = ['CD4', 'CD8', 'B', 'NK', 'MONO', 'NEUTRO'] # for directory name\n",
    "\n",
    "TITRATION_LIST = [0.2, 0.15, 0.10, 0.08, 0.06, 0.04, 0.02, 0.01, \n",
    "                   0.008, 0.006, 0.004, 0.002, 0.001, 0]\n",
    "# TITRATION_LIST=[0.2, 0.15]\n",
    "\n",
    "# proportion of cells in real whole blood (sum to 1)\n",
    "WHOLE_BLOOD_ABUNDANCE = {'Blueprint-B':0.06,\n",
    "                         'Blueprint-Mono':0.09,\n",
    "                         'Blueprint-Neutro':0.57,\n",
    "                         'Blueprint-CD4':0.16,\n",
    "                         'Blueprint-CD8':0.07,\n",
    "                         'Blueprint-NK':0.05}\n",
    "    "
   ]
  },
  {
   "cell_type": "code",
   "execution_count": 2,
   "id": "03fb8a24",
   "metadata": {
    "papermill": {
     "duration": 0.011141,
     "end_time": "2023-08-08T03:49:08.229792",
     "exception": false,
     "start_time": "2023-08-08T03:49:08.218651",
     "status": "completed"
    },
    "tags": [
     "injected-parameters"
    ]
   },
   "outputs": [],
   "source": [
    "# Parameters\n",
    "ROOT_DIR = \"/analysis/gh-msun/\"\n",
    "PROJECT_SLUG = \"2023_06_26_SRT_deconvolution_MS\"\n",
    "EXPERIMENT = \"primary_immune_loyfer\"\n",
    "TITRATING_CELLTYPE = \"Blood-Mono+Macro\"\n",
    "TITRATING_CELLTYPE_ATLAS = \"immune_dend_plus_macro_plus_mono\"\n",
    "BACKGROUND = \"wholeblood\"\n",
    "N_REPLICATES = 20\n",
    "SEED = 466724\n",
    "TOTAL_READS_TO_SAMPLE = 1000000\n",
    "CELLTYPES = [\"Blood-B\", \"Blood-CD4\", \"Blood-CD8\", \"Blood-Mono+Macro\", \"Blood-NK\", \"Blood-Granul\"]\n",
    "ABRIDGED_NAMES = [\"B\", \"CD4\", \"CD8\", \"MONO\", \"NK\", \"GRANUL\"]\n",
    "TITRATION_LIST = [0.2, 0.15, 0.1, 0.08, 0.06, 0.04, 0.02, 0.01, 0.008, 0.006, 0.004, 0.002, 0.001, 0]\n",
    "WHOLE_BLOOD_ABUNDANCE = {\"Blood-B\": 0.06, \"Blood-Mono+Macro\": 0.09, \"Blood-Granul\": 0.57, \"Blood-CD4\": 0.16, \"Blood-CD8\": 0.07, \"Blood-NK\": 0.05}\n"
   ]
  },
  {
   "cell_type": "code",
   "execution_count": 3,
   "id": "ac1d71cb",
   "metadata": {
    "papermill": {
     "duration": 3.970219,
     "end_time": "2023-08-08T03:49:12.206274",
     "exception": false,
     "start_time": "2023-08-08T03:49:08.236055",
     "status": "completed"
    },
    "tags": []
   },
   "outputs": [
    {
     "name": "stderr",
     "output_type": "stream",
     "text": [
      "/home/ec2-user/mambaforge/envs/2023_06_26_SRT_deconvolution_MS/lib/python3.7/site-packages/pyspark/context.py:317: FutureWarning: Python 3.7 support is deprecated in Spark 3.4.\n",
      "  warnings.warn(\"Python 3.7 support is deprecated in Spark 3.4.\", FutureWarning)\n"
     ]
    }
   ],
   "source": [
    "import glob\n",
    "import numpy as np\n",
    "import pandas as pd\n",
    "import seaborn as sns\n",
    "import matplotlib.pyplot as plt\n",
    "import itertools\n",
    "import functools\n",
    "import os\n",
    "import regex as re\n",
    "import random\n",
    "import importlib\n",
    "import sys\n",
    "\n",
    "from pyspark.sql import SparkSession\n",
    "from pyspark import SparkConf, SparkContext\n",
    "from pyspark.sql.types import IntegerType, LongType, ArrayType, StringType, DoubleType\n",
    "from pyspark.sql.functions import udf, explode, broadcast, count, lit, length, col\n",
    "from pyspark.sql import DataFrame\n",
    "from pyspark.sql.types import StructType\n",
    "\n",
    "# UPDATE HOME!\n",
    "os.environ[\"SPARK_HOME\"] = \"/home/ec2-user/mambaforge/envs/2023_06_26_SRT_deconvolution_MS/lib/python3.7/site-packages/pyspark\"\n",
    "# THIS needs to be set-up before running the notebook\n",
    "os.environ[\"SPARK_LOCAL_DIRS\"] = \"/temp\"\n",
    "os.environ[\"PYARROW_IGNORE_TIMEZONE\"] = \"1\"\n",
    "\n",
    "spark_conf = SparkConf()\n",
    "spark_conf.set(\"spark.ui.showConsoleProgress\", \"True\")\n",
    "spark_conf.set(\"spark.executor.instances\", \"2\")\n",
    "spark_conf.set(\"spark.executor.cores\", \"2\")\n",
    "spark_conf.set(\"spark.executor.memory\", \"16g\")\n",
    "spark_conf.set(\"spark.driver.memory\", \"64g\")\n",
    "spark_conf.set(\"spark.driver.maxResultSize\", \"32g\")\n",
    "spark_conf.set(\"spark.parquet.filterPushdown\", \"true\")\n",
    "spark_conf.set(\"spark.local.dir\", \"/temp\")\n",
    "spark_conf.getAll()\n",
    "\n",
    "sc = SparkContext(conf=spark_conf)\n",
    "sc.setLogLevel(\"ERROR\")\n",
    "spark = SparkSession(sc)\n",
    "\n",
    "pd.set_option('display.max_rows', 500)\n",
    "pd.set_option('display.max_columns', 500)\n",
    "pd.set_option('display.width', 1000)\n",
    "sns.set_context('talk')"
   ]
  },
  {
   "cell_type": "code",
   "execution_count": 4,
   "id": "7ba8c7bc",
   "metadata": {
    "papermill": {
     "duration": 0.583073,
     "end_time": "2023-08-08T03:49:12.795042",
     "exception": false,
     "start_time": "2023-08-08T03:49:12.211969",
     "status": "completed"
    },
    "tags": []
   },
   "outputs": [],
   "source": [
    "#---Local paths---#\n",
    "PROJECT_DIR = ROOT_DIR + f'projects/{PROJECT_SLUG}/'\n",
    "\n",
    "#---Load all custom scripts---#\n",
    "SCRIPT_DIR = PROJECT_DIR + 'scripts/'\n",
    "sys.path.append(SCRIPT_DIR)\n",
    "\n",
    "import create_mixture as cm\n",
    "import score_matrix as sm\n",
    "import deconvolution as dcnv\n",
    "import helper as hlpr\n",
    "\n",
    "pd.set_option('display.max_rows', 500)\n",
    "pd.set_option('display.max_columns', 500)\n",
    "pd.set_option('display.width', 1000)"
   ]
  },
  {
   "cell_type": "code",
   "execution_count": 5,
   "id": "4f06530a",
   "metadata": {
    "papermill": {
     "duration": 0.012356,
     "end_time": "2023-08-08T03:49:12.812911",
     "exception": false,
     "start_time": "2023-08-08T03:49:12.800555",
     "status": "completed"
    },
    "tags": []
   },
   "outputs": [
    {
     "data": {
      "text/plain": [
       "<module 'helper' from '/analysis/gh-msun/projects/2023_06_26_SRT_deconvolution_MS/scripts/helper.py'>"
      ]
     },
     "execution_count": 5,
     "metadata": {},
     "output_type": "execute_result"
    }
   ],
   "source": [
    "importlib.reload(cm)\n",
    "importlib.reload(sm)\n",
    "importlib.reload(dcnv)\n",
    "importlib.reload(hlpr)"
   ]
  },
  {
   "cell_type": "code",
   "execution_count": 6,
   "id": "6cec4a61",
   "metadata": {
    "papermill": {
     "duration": 0.012125,
     "end_time": "2023-08-08T03:49:12.829754",
     "exception": false,
     "start_time": "2023-08-08T03:49:12.817629",
     "status": "completed"
    },
    "tags": []
   },
   "outputs": [
    {
     "data": {
      "text/plain": [
       "[0.2,\n",
       " 0.052747252747252754,\n",
       " 0.1406593406593407,\n",
       " 0.061538461538461556,\n",
       " 0.043956043956043966,\n",
       " 0.5010989010989011]"
      ]
     },
     "execution_count": 6,
     "metadata": {},
     "output_type": "execute_result"
    }
   ],
   "source": [
    "#################################\n",
    "#   Set titration proportions   #\n",
    "#################################\n",
    "\n",
    "# Reorder such that the titrating cell type comes first\n",
    "CELLTYPES_unordered = CELLTYPES.copy()\n",
    "CELLTYPES = hlpr.titration_reordering(list_of_cell_types=CELLTYPES, \n",
    "                                      titrating_cell_type=TITRATING_CELLTYPE)\n",
    "\n",
    "# Reorder abridged name\n",
    "ABRIDGED_NAMES = hlpr.reorder_abridged_name(unordered_celltypes=CELLTYPES_unordered,\n",
    "                                            ordered_celltypes=CELLTYPES,\n",
    "                                            unordered_abridged_names=ABRIDGED_NAMES)\n",
    "    \n",
    "# set titration proportions\n",
    "if BACKGROUND == 'uniform':\n",
    "    PROPORTIONS = hlpr.generate_uniform_background_proportions(titration_list=TITRATION_LIST, \n",
    "                                                               cell_types=CELLTYPES)\n",
    "\n",
    "if BACKGROUND == 'wholeblood':\n",
    "    PROPORTIONS = hlpr.generate_custom_background_proportions(titration_list=TITRATION_LIST, \n",
    "                                                              custom_proportion=WHOLE_BLOOD_ABUNDANCE, \n",
    "                                                              list_of_celltypes=CELLTYPES, \n",
    "                                                              titrating_celltype=TITRATING_CELLTYPE)\n",
    "\n",
    "PROPORTIONS[0]    "
   ]
  },
  {
   "cell_type": "markdown",
   "id": "2676f48b",
   "metadata": {
    "papermill": {
     "duration": 0.004787,
     "end_time": "2023-08-08T03:49:12.839289",
     "exception": false,
     "start_time": "2023-08-08T03:49:12.834502",
     "status": "completed"
    },
    "tags": []
   },
   "source": [
    "## Create mixture"
   ]
  },
  {
   "cell_type": "code",
   "execution_count": 7,
   "id": "1178e393",
   "metadata": {
    "papermill": {
     "duration": 0.009326,
     "end_time": "2023-08-08T03:49:12.853341",
     "exception": false,
     "start_time": "2023-08-08T03:49:12.844015",
     "status": "completed"
    },
    "tags": []
   },
   "outputs": [],
   "source": [
    "############################\n",
    "#   Parameters and paths   # \n",
    "############################\n",
    "EXPERIMENT_DIR = PROJECT_DIR + f'output/experiment/{EXPERIMENT}/'\n",
    "EXPERIMENT_NAME = f'{TITRATING_CELLTYPE}-{BACKGROUND}/'\n",
    "PARQUET_PATH = PROJECT_DIR + 'output/mixture_source/'\n",
    "EXPERIMENT_CELLTYPE_DIR = EXPERIMENT_DIR + f'{EXPERIMENT_NAME}/'\n",
    "RESULT_PATH = EXPERIMENT_CELLTYPE_DIR + 'mixture/'\n"
   ]
  },
  {
   "cell_type": "code",
   "execution_count": 8,
   "id": "a78a94a7",
   "metadata": {
    "execution": {
     "iopub.execute_input": "2023-08-08T03:49:12.863761Z",
     "iopub.status.busy": "2023-08-08T03:49:12.863550Z",
     "iopub.status.idle": "2023-08-08T04:14:22.524424Z",
     "shell.execute_reply": "2023-08-08T04:14:22.523863Z"
    },
    "papermill": {
     "duration": 1509.685729,
     "end_time": "2023-08-08T04:14:22.543907",
     "exception": false,
     "start_time": "2023-08-08T03:49:12.858178",
     "status": "completed"
    },
    "tags": []
   },
   "outputs": [
    {
     "name": "stdout",
     "output_type": "stream",
     "text": [
      ">>> Load parquet files and count rows... <<<\n",
      "----------> Loading cell type: Blood-Mono+Macro\n",
      "----------> Loading cell type: Blood-B\n",
      "----------> Loading cell type: Blood-CD4\n",
      "----------> Loading cell type: Blood-CD8\n",
      "----------> Loading cell type: Blood-NK\n",
      "----------> Loading cell type: Blood-Granul\n",
      ">>> Complete. <<< \n",
      "\n",
      ">>> Start mixing... <<<\n",
      "--> PROPORTION: [0.2, 0.052747252747252754, 0.1406593406593407, 0.061538461538461556, 0.043956043956043966, 0.5010989010989011]\n",
      "----------> Creating mixture 0... \n",
      "----------> Creating mixture 1... \n",
      "----------> Creating mixture 2... \n",
      "----------> Creating mixture 3... \n",
      "----------> Creating mixture 4... \n",
      "----------> Creating mixture 5... \n",
      "----------> Creating mixture 6... \n",
      "----------> Creating mixture 7... \n",
      "----------> Creating mixture 8... \n",
      "----------> Creating mixture 9... \n",
      "----------> Creating mixture 10... \n",
      "----------> Creating mixture 11... \n",
      "----------> Creating mixture 12... \n",
      "----------> Creating mixture 13... \n",
      "----------> Creating mixture 14... \n",
      "----------> Creating mixture 15... \n",
      "----------> Creating mixture 16... \n",
      "----------> Creating mixture 17... \n",
      "----------> Creating mixture 18... \n",
      "----------> Creating mixture 19... \n",
      "--> PROPORTION: [0.15, 0.056043956043956046, 0.14945054945054945, 0.0653846153846154, 0.046703296703296704, 0.5324175824175824]\n",
      "----------> Creating mixture 0... \n",
      "----------> Creating mixture 1... \n",
      "----------> Creating mixture 2... \n",
      "----------> Creating mixture 3... \n",
      "----------> Creating mixture 4... \n",
      "----------> Creating mixture 5... \n",
      "----------> Creating mixture 6... \n",
      "----------> Creating mixture 7... \n",
      "----------> Creating mixture 8... \n",
      "----------> Creating mixture 9... \n",
      "----------> Creating mixture 10... \n",
      "----------> Creating mixture 11... \n",
      "----------> Creating mixture 12... \n",
      "----------> Creating mixture 13... \n",
      "----------> Creating mixture 14... \n",
      "----------> Creating mixture 15... \n",
      "----------> Creating mixture 16... \n",
      "----------> Creating mixture 17... \n",
      "----------> Creating mixture 18... \n",
      "----------> Creating mixture 19... \n",
      "--> PROPORTION: [0.1, 0.059340659340659345, 0.15824175824175826, 0.06923076923076925, 0.049450549450549455, 0.5637362637362637]\n",
      "----------> Creating mixture 0... \n",
      "----------> Creating mixture 1... \n",
      "----------> Creating mixture 2... \n",
      "----------> Creating mixture 3... \n",
      "----------> Creating mixture 4... \n",
      "----------> Creating mixture 5... \n",
      "----------> Creating mixture 6... \n",
      "----------> Creating mixture 7... \n",
      "----------> Creating mixture 8... \n",
      "----------> Creating mixture 9... \n",
      "----------> Creating mixture 10... \n",
      "----------> Creating mixture 11... \n",
      "----------> Creating mixture 12... \n",
      "----------> Creating mixture 13... \n",
      "----------> Creating mixture 14... \n",
      "----------> Creating mixture 15... \n",
      "----------> Creating mixture 16... \n",
      "----------> Creating mixture 17... \n",
      "----------> Creating mixture 18... \n",
      "----------> Creating mixture 19... \n",
      "--> PROPORTION: [0.08, 0.060659340659340664, 0.16175824175824177, 0.07076923076923079, 0.05054945054945056, 0.5762637362637363]\n",
      "----------> Creating mixture 0... \n",
      "----------> Creating mixture 1... \n",
      "----------> Creating mixture 2... \n",
      "----------> Creating mixture 3... \n",
      "----------> Creating mixture 4... \n",
      "----------> Creating mixture 5... \n",
      "----------> Creating mixture 6... \n",
      "----------> Creating mixture 7... \n",
      "----------> Creating mixture 8... \n",
      "----------> Creating mixture 9... \n",
      "----------> Creating mixture 10... \n",
      "----------> Creating mixture 11... \n",
      "----------> Creating mixture 12... \n",
      "----------> Creating mixture 13... \n",
      "----------> Creating mixture 14... \n",
      "----------> Creating mixture 15... \n",
      "----------> Creating mixture 16... \n",
      "----------> Creating mixture 17... \n",
      "----------> Creating mixture 18... \n",
      "----------> Creating mixture 19... \n",
      "--> PROPORTION: [0.06, 0.06197802197802198, 0.16527472527472528, 0.07230769230769232, 0.05164835164835165, 0.5887912087912087]\n",
      "----------> Creating mixture 0... \n",
      "----------> Creating mixture 1... \n",
      "----------> Creating mixture 2... \n",
      "----------> Creating mixture 3... \n",
      "----------> Creating mixture 4... \n",
      "----------> Creating mixture 5... \n",
      "----------> Creating mixture 6... \n",
      "----------> Creating mixture 7... \n",
      "----------> Creating mixture 8... \n",
      "----------> Creating mixture 9... \n",
      "----------> Creating mixture 10... \n",
      "----------> Creating mixture 11... \n",
      "----------> Creating mixture 12... \n",
      "----------> Creating mixture 13... \n",
      "----------> Creating mixture 14... \n",
      "----------> Creating mixture 15... \n",
      "----------> Creating mixture 16... \n",
      "----------> Creating mixture 17... \n",
      "----------> Creating mixture 18... \n",
      "----------> Creating mixture 19... \n",
      "--> PROPORTION: [0.04, 0.0632967032967033, 0.1687912087912088, 0.07384615384615387, 0.052747252747252754, 0.6013186813186813]\n",
      "----------> Creating mixture 0... \n",
      "----------> Creating mixture 1... \n",
      "----------> Creating mixture 2... \n",
      "----------> Creating mixture 3... \n",
      "----------> Creating mixture 4... \n",
      "----------> Creating mixture 5... \n",
      "----------> Creating mixture 6... \n",
      "----------> Creating mixture 7... \n",
      "----------> Creating mixture 8... \n",
      "----------> Creating mixture 9... \n",
      "----------> Creating mixture 10... \n",
      "----------> Creating mixture 11... \n",
      "----------> Creating mixture 12... \n",
      "----------> Creating mixture 13... \n",
      "----------> Creating mixture 14... \n",
      "----------> Creating mixture 15... \n",
      "----------> Creating mixture 16... \n",
      "----------> Creating mixture 17... \n",
      "----------> Creating mixture 18... \n",
      "----------> Creating mixture 19... \n",
      "--> PROPORTION: [0.02, 0.06461538461538462, 0.17230769230769233, 0.0753846153846154, 0.05384615384615385, 0.6138461538461538]\n",
      "----------> Creating mixture 0... \n",
      "----------> Creating mixture 1... \n",
      "----------> Creating mixture 2... \n",
      "----------> Creating mixture 3... \n",
      "----------> Creating mixture 4... \n",
      "----------> Creating mixture 5... \n",
      "----------> Creating mixture 6... \n",
      "----------> Creating mixture 7... \n",
      "----------> Creating mixture 8... \n",
      "----------> Creating mixture 9... \n",
      "----------> Creating mixture 10... \n",
      "----------> Creating mixture 11... \n",
      "----------> Creating mixture 12... \n",
      "----------> Creating mixture 13... \n",
      "----------> Creating mixture 14... \n",
      "----------> Creating mixture 15... \n",
      "----------> Creating mixture 16... \n",
      "----------> Creating mixture 17... \n",
      "----------> Creating mixture 18... \n",
      "----------> Creating mixture 19... \n",
      "--> PROPORTION: [0.01, 0.06527472527472528, 0.17406593406593407, 0.07615384615384617, 0.054395604395604404, 0.6201098901098901]\n",
      "----------> Creating mixture 0... \n",
      "----------> Creating mixture 1... \n",
      "----------> Creating mixture 2... \n",
      "----------> Creating mixture 3... \n",
      "----------> Creating mixture 4... \n",
      "----------> Creating mixture 5... \n",
      "----------> Creating mixture 6... \n",
      "----------> Creating mixture 7... \n",
      "----------> Creating mixture 8... \n",
      "----------> Creating mixture 9... \n",
      "----------> Creating mixture 10... \n",
      "----------> Creating mixture 11... \n",
      "----------> Creating mixture 12... \n",
      "----------> Creating mixture 13... \n",
      "----------> Creating mixture 14... \n",
      "----------> Creating mixture 15... \n",
      "----------> Creating mixture 16... \n",
      "----------> Creating mixture 17... \n",
      "----------> Creating mixture 18... \n",
      "----------> Creating mixture 19... \n",
      "--> PROPORTION: [0.008, 0.06540659340659341, 0.17441758241758243, 0.07630769230769233, 0.05450549450549451, 0.6213626373626373]\n",
      "----------> Creating mixture 0... \n",
      "----------> Creating mixture 1... \n",
      "----------> Creating mixture 2... \n",
      "----------> Creating mixture 3... \n",
      "----------> Creating mixture 4... \n",
      "----------> Creating mixture 5... \n",
      "----------> Creating mixture 6... \n",
      "----------> Creating mixture 7... \n",
      "----------> Creating mixture 8... \n",
      "----------> Creating mixture 9... \n",
      "----------> Creating mixture 10... \n",
      "----------> Creating mixture 11... \n",
      "----------> Creating mixture 12... \n",
      "----------> Creating mixture 13... \n",
      "----------> Creating mixture 14... \n",
      "----------> Creating mixture 15... \n",
      "----------> Creating mixture 16... \n",
      "----------> Creating mixture 17... \n",
      "----------> Creating mixture 18... \n",
      "----------> Creating mixture 19... \n",
      "--> PROPORTION: [0.006, 0.06553846153846155, 0.1747692307692308, 0.07646153846153848, 0.05461538461538462, 0.6226153846153846]\n",
      "----------> Creating mixture 0... \n",
      "----------> Creating mixture 1... \n",
      "----------> Creating mixture 2... \n",
      "----------> Creating mixture 3... \n",
      "----------> Creating mixture 4... \n",
      "----------> Creating mixture 5... \n",
      "----------> Creating mixture 6... \n",
      "----------> Creating mixture 7... \n",
      "----------> Creating mixture 8... \n",
      "----------> Creating mixture 9... \n",
      "----------> Creating mixture 10... \n",
      "----------> Creating mixture 11... \n",
      "----------> Creating mixture 12... \n",
      "----------> Creating mixture 13... \n",
      "----------> Creating mixture 14... \n",
      "----------> Creating mixture 15... \n",
      "----------> Creating mixture 16... \n",
      "----------> Creating mixture 17... \n",
      "----------> Creating mixture 18... \n",
      "----------> Creating mixture 19... \n",
      "--> PROPORTION: [0.004, 0.06567032967032967, 0.17512087912087915, 0.07661538461538463, 0.05472527472527473, 0.6238681318681318]\n",
      "----------> Creating mixture 0... \n",
      "----------> Creating mixture 1... \n",
      "----------> Creating mixture 2... \n",
      "----------> Creating mixture 3... \n",
      "----------> Creating mixture 4... \n",
      "----------> Creating mixture 5... \n",
      "----------> Creating mixture 6... \n",
      "----------> Creating mixture 7... \n",
      "----------> Creating mixture 8... \n",
      "----------> Creating mixture 9... \n",
      "----------> Creating mixture 10... \n",
      "----------> Creating mixture 11... \n",
      "----------> Creating mixture 12... \n",
      "----------> Creating mixture 13... \n",
      "----------> Creating mixture 14... \n",
      "----------> Creating mixture 15... \n",
      "----------> Creating mixture 16... \n",
      "----------> Creating mixture 17... \n",
      "----------> Creating mixture 18... \n",
      "----------> Creating mixture 19... \n",
      "--> PROPORTION: [0.002, 0.0658021978021978, 0.17547252747252748, 0.07676923076923078, 0.05483516483516484, 0.6251208791208791]\n",
      "----------> Creating mixture 0... \n",
      "----------> Creating mixture 1... \n",
      "----------> Creating mixture 2... \n",
      "----------> Creating mixture 3... \n",
      "----------> Creating mixture 4... \n",
      "----------> Creating mixture 5... \n",
      "----------> Creating mixture 6... \n",
      "----------> Creating mixture 7... \n",
      "----------> Creating mixture 8... \n",
      "----------> Creating mixture 9... \n",
      "----------> Creating mixture 10... \n",
      "----------> Creating mixture 11... \n",
      "----------> Creating mixture 12... \n",
      "----------> Creating mixture 13... \n",
      "----------> Creating mixture 14... \n",
      "----------> Creating mixture 15... \n",
      "----------> Creating mixture 16... \n",
      "----------> Creating mixture 17... \n",
      "----------> Creating mixture 18... \n",
      "----------> Creating mixture 19... \n",
      "--> PROPORTION: [0.001, 0.06586813186813187, 0.17564835164835166, 0.07684615384615387, 0.054890109890109895, 0.6257472527472527]\n",
      "----------> Creating mixture 0... \n",
      "----------> Creating mixture 1... \n",
      "----------> Creating mixture 2... \n",
      "----------> Creating mixture 3... \n",
      "----------> Creating mixture 4... \n",
      "----------> Creating mixture 5... \n",
      "----------> Creating mixture 6... \n",
      "----------> Creating mixture 7... \n",
      "----------> Creating mixture 8... \n",
      "----------> Creating mixture 9... \n",
      "----------> Creating mixture 10... \n",
      "----------> Creating mixture 11... \n",
      "----------> Creating mixture 12... \n",
      "----------> Creating mixture 13... \n",
      "----------> Creating mixture 14... \n",
      "----------> Creating mixture 15... \n",
      "----------> Creating mixture 16... \n",
      "----------> Creating mixture 17... \n",
      "----------> Creating mixture 18... \n",
      "----------> Creating mixture 19... \n",
      "--> PROPORTION: [0, 0.06593406593406594, 0.17582417582417584, 0.07692307692307694, 0.05494505494505495, 0.6263736263736264]\n",
      "----------> Creating mixture 0... \n",
      "----------> Creating mixture 1... \n",
      "----------> Creating mixture 2... \n",
      "----------> Creating mixture 3... \n",
      "----------> Creating mixture 4... \n",
      "----------> Creating mixture 5... \n",
      "----------> Creating mixture 6... \n",
      "----------> Creating mixture 7... \n",
      "----------> Creating mixture 8... \n",
      "----------> Creating mixture 9... \n",
      "----------> Creating mixture 10... \n",
      "----------> Creating mixture 11... \n",
      "----------> Creating mixture 12... \n",
      "----------> Creating mixture 13... \n",
      "----------> Creating mixture 14... \n",
      "----------> Creating mixture 15... \n",
      "----------> Creating mixture 16... \n",
      "----------> Creating mixture 17... \n",
      "----------> Creating mixture 18... \n",
      "----------> Creating mixture 19... \n",
      ">>> Complete. <<< \n",
      "\n",
      "CPU times: user 1.5 s, sys: 387 ms, total: 1.89 s\n",
      "Wall time: 25min 9s\n"
     ]
    }
   ],
   "source": [
    "%%time\n",
    "# load parquet files for each celltype & count rows\n",
    "parquet_df, total_reads_per_celltype = cm.load_parquet_dataframe(parquet_path=PARQUET_PATH,\n",
    "                                                                  cell_types=CELLTYPES,\n",
    "                                                                  spark=spark,\n",
    "                                                                  verbose=True)\n",
    "\n",
    "# mix cell types for each proportion set\n",
    "cm.mix_celltypes_multiple_proportions(parquet_df=parquet_df,\n",
    "                                       total_reads_per_celltype=total_reads_per_celltype,\n",
    "                                    #    n=len(TITRATION_LIST), \n",
    "                                       n=N_REPLICATES,\n",
    "                                       cell_types=CELLTYPES, \n",
    "                                       cell_type_abridged_name=ABRIDGED_NAMES, \n",
    "                                       total_reads_to_sample=TOTAL_READS_TO_SAMPLE, \n",
    "                                       list_of_proportions=PROPORTIONS, \n",
    "                                       seed=SEED, \n",
    "                                       result_path=RESULT_PATH, \n",
    "                                       spark=spark,\n",
    "                                       verbose=False, \n",
    "                                       save=True)"
   ]
  },
  {
   "cell_type": "markdown",
   "id": "f2d3d8b5",
   "metadata": {
    "papermill": {
     "duration": 0.01862,
     "end_time": "2023-08-08T04:14:22.581436",
     "exception": false,
     "start_time": "2023-08-08T04:14:22.562816",
     "status": "completed"
    },
    "tags": []
   },
   "source": [
    "## Compute score matrix"
   ]
  },
  {
   "cell_type": "code",
   "execution_count": 9,
   "id": "37497a54",
   "metadata": {
    "execution": {
     "iopub.execute_input": "2023-08-08T04:14:22.619487Z",
     "iopub.status.busy": "2023-08-08T04:14:22.619229Z",
     "iopub.status.idle": "2023-08-08T04:14:22.623145Z",
     "shell.execute_reply": "2023-08-08T04:14:22.622678Z"
    },
    "papermill": {
     "duration": 0.023989,
     "end_time": "2023-08-08T04:14:22.624374",
     "exception": false,
     "start_time": "2023-08-08T04:14:22.600385",
     "status": "completed"
    },
    "tags": []
   },
   "outputs": [],
   "source": [
    "############################\n",
    "#   Parameters and paths   # \n",
    "############################\n",
    "\n",
    "FILTER_CG_COUNT = 3\n",
    "FILTER_CG_COUNT_REGION = 1\n",
    "\n",
    "REGIONS = 'deconvolution_v2.v23_conv.with_cpg_index'\n",
    "REGION_BED_COLS = [\n",
    "    'region_chr', 'region_start', 'region_end', \n",
    "    'region_cpg_index_min', 'region_cpg_index_max', 'region_id'\n",
    "]\n",
    "\n",
    "# Regions\n",
    "REGION_PATH = (\n",
    "    PROJECT_DIR + '/stage/panel_data/{regions}.bed'\n",
    ").format(regions=REGIONS)\n",
    "\n",
    "# CpG map; genomic coordinate to CpG index;\n",
    "CPG_MAP_PATH = PROJECT_DIR + '/stage/cpg_loci/cpg_loci_hg19.combined_annot.tsv.gz'\n",
    "\n",
    "#--- Where to store results\n",
    "PATH_TO_MIXTURE_DIR = EXPERIMENT_CELLTYPE_DIR + 'mixture/'\n",
    "RESULT_PATH = EXPERIMENT_CELLTYPE_DIR\n"
   ]
  },
  {
   "cell_type": "code",
   "execution_count": 10,
   "id": "ad94cd04",
   "metadata": {
    "execution": {
     "iopub.execute_input": "2023-08-08T04:14:22.661345Z",
     "iopub.status.busy": "2023-08-08T04:14:22.661128Z",
     "iopub.status.idle": "2023-08-08T04:14:55.292311Z",
     "shell.execute_reply": "2023-08-08T04:14:55.291736Z"
    },
    "papermill": {
     "duration": 32.651522,
     "end_time": "2023-08-08T04:14:55.293958",
     "exception": false,
     "start_time": "2023-08-08T04:14:22.642436",
     "status": "completed"
    },
    "tags": []
   },
   "outputs": [],
   "source": [
    "cpg_map = pd.read_csv(CPG_MAP_PATH, usecols=['chr', 'start', 'end', 'cpg_index', 'cpg_index_hg38'], sep='\\t')"
   ]
  },
  {
   "cell_type": "code",
   "execution_count": 11,
   "id": "2661a396",
   "metadata": {
    "execution": {
     "iopub.execute_input": "2023-08-08T04:14:55.333142Z",
     "iopub.status.busy": "2023-08-08T04:14:55.332872Z",
     "iopub.status.idle": "2023-08-08T04:14:55.335338Z",
     "shell.execute_reply": "2023-08-08T04:14:55.334837Z"
    },
    "papermill": {
     "duration": 0.023216,
     "end_time": "2023-08-08T04:14:55.336561",
     "exception": false,
     "start_time": "2023-08-08T04:14:55.313345",
     "status": "completed"
    },
    "tags": []
   },
   "outputs": [],
   "source": [
    "# %%time\n",
    "# ridxs = ~cpg_map['cpg_index_hg38'].isna()\n",
    "# hg19_hg38_map = dict(itertools.zip_longest(cpg_map[ridxs]['cpg_index'], cpg_map[ridxs]['cpg_index_hg38'].astype(int)))\n",
    "# hg38_hg19_map = dict(itertools.zip_longest(cpg_map[ridxs]['cpg_index_hg38'].astype(int), cpg_map[ridxs]['cpg_index']))"
   ]
  },
  {
   "cell_type": "code",
   "execution_count": 12,
   "id": "e6f6decf",
   "metadata": {
    "execution": {
     "iopub.execute_input": "2023-08-08T04:14:55.373985Z",
     "iopub.status.busy": "2023-08-08T04:14:55.373748Z",
     "iopub.status.idle": "2023-08-08T04:14:55.382696Z",
     "shell.execute_reply": "2023-08-08T04:14:55.382249Z"
    },
    "papermill": {
     "duration": 0.029079,
     "end_time": "2023-08-08T04:14:55.383892",
     "exception": false,
     "start_time": "2023-08-08T04:14:55.354813",
     "status": "completed"
    },
    "tags": []
   },
   "outputs": [
    {
     "data": {
      "text/plain": [
       "(1658, 1658)"
      ]
     },
     "execution_count": 12,
     "metadata": {},
     "output_type": "execute_result"
    }
   ],
   "source": [
    "region_df = pd.read_csv(REGION_PATH, sep='\\t', usecols=range(0, 6), names=REGION_BED_COLS)\n",
    "\n",
    "# region_df['region_cpg_index_max'] -= 1\n",
    "# region_df.sort_values('region_cpg_index_min', inplace=True)\n",
    "# region_df['region_cpg_index_min_hg38'] = region_df['region_cpg_index_min'].map(hg19_hg38_map)\n",
    "# region_df['region_cpg_index_max_hg38'] = region_df['region_cpg_index_max'].map(hg19_hg38_map)\n",
    "\n",
    "region_df.shape[0], region_df['region_id'].nunique()"
   ]
  },
  {
   "cell_type": "code",
   "execution_count": 13,
   "id": "26335178",
   "metadata": {
    "execution": {
     "iopub.execute_input": "2023-08-08T04:14:55.421736Z",
     "iopub.status.busy": "2023-08-08T04:14:55.421485Z",
     "iopub.status.idle": "2023-08-08T04:14:55.423752Z",
     "shell.execute_reply": "2023-08-08T04:14:55.423296Z"
    },
    "papermill": {
     "duration": 0.02263,
     "end_time": "2023-08-08T04:14:55.424938",
     "exception": false,
     "start_time": "2023-08-08T04:14:55.402308",
     "status": "completed"
    },
    "tags": []
   },
   "outputs": [],
   "source": [
    "# ridxs = ~region_df['region_cpg_index_min_hg38'].isna()\n",
    "# ridxs &= ~region_df['region_cpg_index_max_hg38'].isna()\n",
    "# region_df = region_df[ridxs].copy()\n",
    "# region_df.shape[0], region_df['region_id'].nunique()"
   ]
  },
  {
   "cell_type": "code",
   "execution_count": 14,
   "id": "b4775a72",
   "metadata": {
    "execution": {
     "iopub.execute_input": "2023-08-08T04:14:55.463709Z",
     "iopub.status.busy": "2023-08-08T04:14:55.463472Z",
     "iopub.status.idle": "2023-08-08T04:14:55.465709Z",
     "shell.execute_reply": "2023-08-08T04:14:55.465247Z"
    },
    "papermill": {
     "duration": 0.023033,
     "end_time": "2023-08-08T04:14:55.466910",
     "exception": false,
     "start_time": "2023-08-08T04:14:55.443877",
     "status": "completed"
    },
    "tags": []
   },
   "outputs": [],
   "source": [
    "# cg_count_hg19 = region_df['region_cpg_index_max']-region_df['region_cpg_index_min'] + 1\n",
    "# cg_count_hg38 = region_df['region_cpg_index_max_hg38']-region_df['region_cpg_index_min_hg38'] + 1\n",
    "# ridxs = (cg_count_hg19==cg_count_hg38)\n",
    "# ridxs &= (cg_count_hg19>=FILTER_CG_COUNT_REGION)\n",
    "# region_df = region_df[ridxs].copy()\n",
    "# region_df.shape[0], region_df['region_id'].nunique()"
   ]
  },
  {
   "cell_type": "code",
   "execution_count": 15,
   "id": "e6382278",
   "metadata": {
    "execution": {
     "iopub.execute_input": "2023-08-08T04:14:55.504548Z",
     "iopub.status.busy": "2023-08-08T04:14:55.504310Z",
     "iopub.status.idle": "2023-08-08T04:14:55.506497Z",
     "shell.execute_reply": "2023-08-08T04:14:55.506039Z"
    },
    "papermill": {
     "duration": 0.022478,
     "end_time": "2023-08-08T04:14:55.507661",
     "exception": false,
     "start_time": "2023-08-08T04:14:55.485183",
     "status": "completed"
    },
    "tags": []
   },
   "outputs": [],
   "source": [
    "# region_df['region_cpg_index_min_hg38'] = region_df['region_cpg_index_min_hg38'].astype(int)\n",
    "# region_df['region_cpg_index_max_hg38'] = region_df['region_cpg_index_max_hg38'].astype(int)"
   ]
  },
  {
   "cell_type": "code",
   "execution_count": 16,
   "id": "739ed120",
   "metadata": {
    "execution": {
     "iopub.execute_input": "2023-08-08T04:14:55.545258Z",
     "iopub.status.busy": "2023-08-08T04:14:55.545032Z",
     "iopub.status.idle": "2023-08-08T04:14:55.557826Z",
     "shell.execute_reply": "2023-08-08T04:14:55.557365Z"
    },
    "papermill": {
     "duration": 0.033021,
     "end_time": "2023-08-08T04:14:55.559071",
     "exception": false,
     "start_time": "2023-08-08T04:14:55.526050",
     "status": "completed"
    },
    "tags": []
   },
   "outputs": [
    {
     "data": {
      "text/html": [
       "<div>\n",
       "<style scoped>\n",
       "    .dataframe tbody tr th:only-of-type {\n",
       "        vertical-align: middle;\n",
       "    }\n",
       "\n",
       "    .dataframe tbody tr th {\n",
       "        vertical-align: top;\n",
       "    }\n",
       "\n",
       "    .dataframe thead th {\n",
       "        text-align: right;\n",
       "    }\n",
       "</style>\n",
       "<table border=\"1\" class=\"dataframe\">\n",
       "  <thead>\n",
       "    <tr style=\"text-align: right;\">\n",
       "      <th></th>\n",
       "      <th>region_chr</th>\n",
       "      <th>region_start</th>\n",
       "      <th>region_end</th>\n",
       "      <th>region_cpg_index_min</th>\n",
       "      <th>region_cpg_index_max</th>\n",
       "      <th>region_id</th>\n",
       "    </tr>\n",
       "  </thead>\n",
       "  <tbody>\n",
       "    <tr>\n",
       "      <th>0</th>\n",
       "      <td>chr1</td>\n",
       "      <td>1114771</td>\n",
       "      <td>1114971</td>\n",
       "      <td>20117</td>\n",
       "      <td>20130</td>\n",
       "      <td>Immune_Broad_B-chr1:1114772-1114971</td>\n",
       "    </tr>\n",
       "    <tr>\n",
       "      <th>1</th>\n",
       "      <td>chr1</td>\n",
       "      <td>1157450</td>\n",
       "      <td>1157720</td>\n",
       "      <td>21684</td>\n",
       "      <td>21704</td>\n",
       "      <td>Immune_Broad_NK-chr1:1157451-1157720</td>\n",
       "    </tr>\n",
       "    <tr>\n",
       "      <th>2</th>\n",
       "      <td>chr1</td>\n",
       "      <td>1157879</td>\n",
       "      <td>1158277</td>\n",
       "      <td>21710</td>\n",
       "      <td>21727</td>\n",
       "      <td>Immune_Broad_NK-chr1:1157880-1158277</td>\n",
       "    </tr>\n",
       "    <tr>\n",
       "      <th>14</th>\n",
       "      <td>chr1</td>\n",
       "      <td>6341182</td>\n",
       "      <td>6341377</td>\n",
       "      <td>140667</td>\n",
       "      <td>140682</td>\n",
       "      <td>Immune_Broad_Eosi-chr1:6341183-6341377</td>\n",
       "    </tr>\n",
       "    <tr>\n",
       "      <th>19</th>\n",
       "      <td>chr1</td>\n",
       "      <td>9147788</td>\n",
       "      <td>9147871</td>\n",
       "      <td>188605</td>\n",
       "      <td>188609</td>\n",
       "      <td>Immune_Broad_Neutro-chr1:9147789-9147871</td>\n",
       "    </tr>\n",
       "  </tbody>\n",
       "</table>\n",
       "</div>"
      ],
      "text/plain": [
       "   region_chr  region_start  region_end  region_cpg_index_min  region_cpg_index_max                                 region_id\n",
       "0        chr1       1114771     1114971                 20117                 20130       Immune_Broad_B-chr1:1114772-1114971\n",
       "1        chr1       1157450     1157720                 21684                 21704      Immune_Broad_NK-chr1:1157451-1157720\n",
       "2        chr1       1157879     1158277                 21710                 21727      Immune_Broad_NK-chr1:1157880-1158277\n",
       "14       chr1       6341182     6341377                140667                140682    Immune_Broad_Eosi-chr1:6341183-6341377\n",
       "19       chr1       9147788     9147871                188605                188609  Immune_Broad_Neutro-chr1:9147789-9147871"
      ]
     },
     "execution_count": 16,
     "metadata": {},
     "output_type": "execute_result"
    }
   ],
   "source": [
    "### Restrict to immune regions\n",
    "#-------------- CHANGE HERE FOR DIFFERENT REGION SUBSET ----------------------\n",
    "# BLUEPRINT immune regions\n",
    "ATLAS_PATH = PROJECT_DIR + f'/output/reference/deconv_inhouse_v2.atlas.tsv.gz'\n",
    "atlas = pd.read_csv(ATLAS_PATH, sep='\\t')\n",
    "subset_region_set = set(atlas.region_id)\n",
    "#-----------------------------------------------------------------------------\n",
    "\n",
    "# filter regions down to regions of interest\n",
    "region_df = region_df[region_df['region_id'].isin(subset_region_set)]\n",
    "region_df.head()"
   ]
  },
  {
   "cell_type": "code",
   "execution_count": 17,
   "id": "26b435da",
   "metadata": {
    "execution": {
     "iopub.execute_input": "2023-08-08T04:14:55.598621Z",
     "iopub.status.busy": "2023-08-08T04:14:55.598382Z",
     "iopub.status.idle": "2023-08-08T04:58:22.313193Z",
     "shell.execute_reply": "2023-08-08T04:58:22.312631Z"
    },
    "papermill": {
     "duration": 2606.736022,
     "end_time": "2023-08-08T04:58:22.314579",
     "exception": false,
     "start_time": "2023-08-08T04:14:55.578557",
     "status": "completed"
    },
    "tags": []
   },
   "outputs": [
    {
     "name": "stdout",
     "output_type": "stream",
     "text": [
      ">>> Start computing score matrices <<< \n",
      "\n",
      "--> E2MONO_E0527B_E1407CD4_E0615CD8_E044NK_E5011GRANUL\n",
      "--------> Computing score matrix for mix0_seed967193\n",
      "--------> Computing score matrix for mix1_seed969385\n",
      "--------> Computing score matrix for mix2_seed446982\n",
      "--------> Computing score matrix for mix3_seed887258\n",
      "--------> Computing score matrix for mix4_seed779818\n",
      "--------> Computing score matrix for mix5_seed409835\n",
      "--------> Computing score matrix for mix6_seed765765\n",
      "--------> Computing score matrix for mix7_seed117014\n",
      "--------> Computing score matrix for mix8_seed926946\n",
      "--------> Computing score matrix for mix9_seed578816\n",
      "--------> Computing score matrix for mix10_seed184037\n",
      "--------> Computing score matrix for mix11_seed725459\n",
      "--------> Computing score matrix for mix12_seed35669\n",
      "--------> Computing score matrix for mix13_seed889315\n",
      "--------> Computing score matrix for mix14_seed199079\n",
      "--------> Computing score matrix for mix15_seed830814\n",
      "--------> Computing score matrix for mix16_seed828963\n",
      "--------> Computing score matrix for mix17_seed208288\n",
      "--------> Computing score matrix for mix18_seed92395\n",
      "--------> Computing score matrix for mix19_seed358043\n",
      "\n",
      "\n",
      "--> E15MONO_E056B_E1495CD4_E0654CD8_E0467NK_E5324GRANUL\n",
      "--------> Computing score matrix for mix0_seed225862\n",
      "--------> Computing score matrix for mix1_seed708147\n",
      "--------> Computing score matrix for mix2_seed865047\n",
      "--------> Computing score matrix for mix3_seed57816\n",
      "--------> Computing score matrix for mix4_seed469857\n",
      "--------> Computing score matrix for mix5_seed540482\n",
      "--------> Computing score matrix for mix6_seed628177\n",
      "--------> Computing score matrix for mix7_seed118846\n",
      "--------> Computing score matrix for mix8_seed532864\n",
      "--------> Computing score matrix for mix9_seed242297\n",
      "--------> Computing score matrix for mix10_seed693262\n",
      "--------> Computing score matrix for mix11_seed953912\n",
      "--------> Computing score matrix for mix12_seed566096\n",
      "--------> Computing score matrix for mix13_seed333027\n",
      "--------> Computing score matrix for mix14_seed59\n",
      "--------> Computing score matrix for mix15_seed501283\n",
      "--------> Computing score matrix for mix16_seed441252\n",
      "--------> Computing score matrix for mix17_seed430761\n",
      "--------> Computing score matrix for mix18_seed628167\n",
      "--------> Computing score matrix for mix19_seed146784\n",
      "\n",
      "\n",
      "--> E1MONO_E0593B_E1582CD4_E0692CD8_E0495NK_E5637GRANUL\n",
      "--------> Computing score matrix for mix0_seed407145\n",
      "--------> Computing score matrix for mix1_seed374842\n",
      "--------> Computing score matrix for mix2_seed231964\n",
      "--------> Computing score matrix for mix3_seed595160\n",
      "--------> Computing score matrix for mix4_seed880582\n",
      "--------> Computing score matrix for mix5_seed577197\n",
      "--------> Computing score matrix for mix6_seed968699\n",
      "--------> Computing score matrix for mix7_seed821675\n",
      "--------> Computing score matrix for mix8_seed315149\n",
      "--------> Computing score matrix for mix9_seed63912\n",
      "--------> Computing score matrix for mix10_seed688994\n",
      "--------> Computing score matrix for mix11_seed596454\n",
      "--------> Computing score matrix for mix12_seed998351\n",
      "--------> Computing score matrix for mix13_seed738813\n",
      "--------> Computing score matrix for mix14_seed288327\n",
      "--------> Computing score matrix for mix15_seed987090\n",
      "--------> Computing score matrix for mix16_seed106740\n",
      "--------> Computing score matrix for mix17_seed343900\n",
      "--------> Computing score matrix for mix18_seed503874\n",
      "--------> Computing score matrix for mix19_seed387061\n",
      "\n",
      "\n",
      "--> E08MONO_E0607B_E1618CD4_E0708CD8_E0505NK_E5763GRANUL\n",
      "--------> Computing score matrix for mix0_seed328917\n",
      "--------> Computing score matrix for mix1_seed134326\n",
      "--------> Computing score matrix for mix2_seed608580\n",
      "--------> Computing score matrix for mix3_seed572425\n",
      "--------> Computing score matrix for mix4_seed940331\n",
      "--------> Computing score matrix for mix5_seed996608\n",
      "--------> Computing score matrix for mix6_seed611804\n",
      "--------> Computing score matrix for mix7_seed756378\n",
      "--------> Computing score matrix for mix8_seed548404\n",
      "--------> Computing score matrix for mix9_seed23993\n",
      "--------> Computing score matrix for mix10_seed830606\n",
      "--------> Computing score matrix for mix11_seed61393\n",
      "--------> Computing score matrix for mix12_seed209463\n",
      "--------> Computing score matrix for mix13_seed843019\n",
      "--------> Computing score matrix for mix14_seed704228\n",
      "--------> Computing score matrix for mix15_seed122584\n",
      "--------> Computing score matrix for mix16_seed253713\n",
      "--------> Computing score matrix for mix17_seed454794\n",
      "--------> Computing score matrix for mix18_seed665185\n",
      "--------> Computing score matrix for mix19_seed808212\n",
      "\n",
      "\n",
      "--> E06MONO_E062B_E1653CD4_E0723CD8_E0516NK_E5888GRANUL\n",
      "--------> Computing score matrix for mix0_seed982459\n",
      "--------> Computing score matrix for mix1_seed791117\n",
      "--------> Computing score matrix for mix2_seed151887\n",
      "--------> Computing score matrix for mix3_seed930298\n",
      "--------> Computing score matrix for mix4_seed143383\n",
      "--------> Computing score matrix for mix5_seed533066\n",
      "--------> Computing score matrix for mix6_seed561035\n",
      "--------> Computing score matrix for mix7_seed579853\n",
      "--------> Computing score matrix for mix8_seed677862\n",
      "--------> Computing score matrix for mix9_seed722633\n",
      "--------> Computing score matrix for mix10_seed571774\n",
      "--------> Computing score matrix for mix11_seed182448\n",
      "--------> Computing score matrix for mix12_seed213766\n",
      "--------> Computing score matrix for mix13_seed986422\n",
      "--------> Computing score matrix for mix14_seed485747\n",
      "--------> Computing score matrix for mix15_seed557432\n",
      "--------> Computing score matrix for mix16_seed901266\n",
      "--------> Computing score matrix for mix17_seed601400\n",
      "--------> Computing score matrix for mix18_seed438360\n",
      "--------> Computing score matrix for mix19_seed750452\n",
      "\n",
      "\n",
      "--> E04MONO_E0633B_E1688CD4_E0738CD8_E0527NK_E6013GRANUL\n",
      "--------> Computing score matrix for mix0_seed545178\n",
      "--------> Computing score matrix for mix1_seed746698\n",
      "--------> Computing score matrix for mix2_seed756021\n",
      "--------> Computing score matrix for mix3_seed159897\n",
      "--------> Computing score matrix for mix4_seed370196\n",
      "--------> Computing score matrix for mix5_seed807216\n",
      "--------> Computing score matrix for mix6_seed291728\n",
      "--------> Computing score matrix for mix7_seed215184\n",
      "--------> Computing score matrix for mix8_seed51297\n",
      "--------> Computing score matrix for mix9_seed735378\n",
      "--------> Computing score matrix for mix10_seed33744\n",
      "--------> Computing score matrix for mix11_seed510523\n",
      "--------> Computing score matrix for mix12_seed339256\n",
      "--------> Computing score matrix for mix13_seed961686\n",
      "--------> Computing score matrix for mix14_seed948767\n",
      "--------> Computing score matrix for mix15_seed670788\n",
      "--------> Computing score matrix for mix16_seed403015\n",
      "--------> Computing score matrix for mix17_seed180378\n",
      "--------> Computing score matrix for mix18_seed209787\n",
      "--------> Computing score matrix for mix19_seed540203\n",
      "\n",
      "\n",
      "--> E02MONO_E0646B_E1723CD4_E0754CD8_E0538NK_E6138GRANUL\n",
      "--------> Computing score matrix for mix0_seed79955\n",
      "--------> Computing score matrix for mix1_seed447642\n",
      "--------> Computing score matrix for mix2_seed713195\n",
      "--------> Computing score matrix for mix3_seed802340\n",
      "--------> Computing score matrix for mix4_seed506971\n",
      "--------> Computing score matrix for mix5_seed995789\n",
      "--------> Computing score matrix for mix6_seed650094\n",
      "--------> Computing score matrix for mix7_seed610763\n",
      "--------> Computing score matrix for mix8_seed733558\n",
      "--------> Computing score matrix for mix9_seed653189\n",
      "--------> Computing score matrix for mix10_seed658741\n",
      "--------> Computing score matrix for mix11_seed618019\n",
      "--------> Computing score matrix for mix12_seed674509\n",
      "--------> Computing score matrix for mix13_seed934571\n",
      "--------> Computing score matrix for mix14_seed126403\n",
      "--------> Computing score matrix for mix15_seed510856\n",
      "--------> Computing score matrix for mix16_seed777377\n",
      "--------> Computing score matrix for mix17_seed787543\n",
      "--------> Computing score matrix for mix18_seed991526\n",
      "--------> Computing score matrix for mix19_seed348994\n",
      "\n",
      "\n",
      "--> E01MONO_E0653B_E1741CD4_E0762CD8_E0544NK_E6201GRANUL\n",
      "--------> Computing score matrix for mix0_seed666217\n",
      "--------> Computing score matrix for mix1_seed152103\n",
      "--------> Computing score matrix for mix2_seed338956\n",
      "--------> Computing score matrix for mix3_seed136919\n",
      "--------> Computing score matrix for mix4_seed463023\n",
      "--------> Computing score matrix for mix5_seed564562\n",
      "--------> Computing score matrix for mix6_seed443284\n",
      "--------> Computing score matrix for mix7_seed5033\n",
      "--------> Computing score matrix for mix8_seed82189\n",
      "--------> Computing score matrix for mix9_seed944797\n",
      "--------> Computing score matrix for mix10_seed326698\n",
      "--------> Computing score matrix for mix11_seed730730\n",
      "--------> Computing score matrix for mix12_seed499410\n",
      "--------> Computing score matrix for mix13_seed925689\n",
      "--------> Computing score matrix for mix14_seed467280\n",
      "--------> Computing score matrix for mix15_seed7026\n",
      "--------> Computing score matrix for mix16_seed652799\n",
      "--------> Computing score matrix for mix17_seed783381\n",
      "--------> Computing score matrix for mix18_seed949567\n",
      "--------> Computing score matrix for mix19_seed772347\n",
      "\n",
      "\n",
      "--> E008MONO_E0654B_E1744CD4_E0763CD8_E0545NK_E6214GRANUL\n",
      "--------> Computing score matrix for mix0_seed872093\n",
      "--------> Computing score matrix for mix1_seed214100\n",
      "--------> Computing score matrix for mix2_seed424293\n",
      "--------> Computing score matrix for mix3_seed46509\n",
      "--------> Computing score matrix for mix4_seed874658\n",
      "--------> Computing score matrix for mix5_seed107861\n",
      "--------> Computing score matrix for mix6_seed17969\n",
      "--------> Computing score matrix for mix7_seed246088\n",
      "--------> Computing score matrix for mix8_seed288629\n",
      "--------> Computing score matrix for mix9_seed111453\n",
      "--------> Computing score matrix for mix10_seed502254\n",
      "--------> Computing score matrix for mix11_seed656493\n",
      "--------> Computing score matrix for mix12_seed901889\n",
      "--------> Computing score matrix for mix13_seed946040\n",
      "--------> Computing score matrix for mix14_seed726406\n",
      "--------> Computing score matrix for mix15_seed665681\n",
      "--------> Computing score matrix for mix16_seed644034\n",
      "--------> Computing score matrix for mix17_seed168647\n",
      "--------> Computing score matrix for mix18_seed392474\n",
      "--------> Computing score matrix for mix19_seed20916\n",
      "\n",
      "\n",
      "--> E006MONO_E0655B_E1748CD4_E0765CD8_E0546NK_E6226GRANUL\n",
      "--------> Computing score matrix for mix0_seed844259\n",
      "--------> Computing score matrix for mix1_seed775462\n",
      "--------> Computing score matrix for mix2_seed947499\n",
      "--------> Computing score matrix for mix3_seed943337\n",
      "--------> Computing score matrix for mix4_seed709305\n",
      "--------> Computing score matrix for mix5_seed152369\n",
      "--------> Computing score matrix for mix6_seed848912\n",
      "--------> Computing score matrix for mix7_seed714416\n",
      "--------> Computing score matrix for mix8_seed83466\n",
      "--------> Computing score matrix for mix9_seed251720\n",
      "--------> Computing score matrix for mix10_seed552282\n",
      "--------> Computing score matrix for mix11_seed367790\n",
      "--------> Computing score matrix for mix12_seed777127\n",
      "--------> Computing score matrix for mix13_seed335653\n",
      "--------> Computing score matrix for mix14_seed108025\n",
      "--------> Computing score matrix for mix15_seed682335\n",
      "--------> Computing score matrix for mix16_seed731214\n",
      "--------> Computing score matrix for mix17_seed137348\n",
      "--------> Computing score matrix for mix18_seed768054\n",
      "--------> Computing score matrix for mix19_seed161527\n",
      "\n",
      "\n",
      "--> E004MONO_E0657B_E1751CD4_E0766CD8_E0547NK_E6239GRANUL\n",
      "--------> Computing score matrix for mix0_seed734540\n",
      "--------> Computing score matrix for mix1_seed490276\n",
      "--------> Computing score matrix for mix2_seed741452\n",
      "--------> Computing score matrix for mix3_seed891755\n",
      "--------> Computing score matrix for mix4_seed947087\n",
      "--------> Computing score matrix for mix5_seed720752\n",
      "--------> Computing score matrix for mix6_seed664736\n",
      "--------> Computing score matrix for mix7_seed633420\n",
      "--------> Computing score matrix for mix8_seed517100\n",
      "--------> Computing score matrix for mix9_seed114356\n",
      "--------> Computing score matrix for mix10_seed19031\n",
      "--------> Computing score matrix for mix11_seed868981\n",
      "--------> Computing score matrix for mix12_seed422691\n",
      "--------> Computing score matrix for mix13_seed976622\n",
      "--------> Computing score matrix for mix14_seed511716\n",
      "--------> Computing score matrix for mix15_seed221307\n",
      "--------> Computing score matrix for mix16_seed461595\n",
      "--------> Computing score matrix for mix17_seed173530\n",
      "--------> Computing score matrix for mix18_seed295009\n",
      "--------> Computing score matrix for mix19_seed913892\n",
      "\n",
      "\n",
      "--> E002MONO_E0658B_E1755CD4_E0768CD8_E0548NK_E6251GRANUL\n",
      "--------> Computing score matrix for mix0_seed984004\n",
      "--------> Computing score matrix for mix1_seed683556\n",
      "--------> Computing score matrix for mix2_seed603736\n",
      "--------> Computing score matrix for mix3_seed787058\n",
      "--------> Computing score matrix for mix4_seed271232\n",
      "--------> Computing score matrix for mix5_seed662922\n",
      "--------> Computing score matrix for mix6_seed445477\n",
      "--------> Computing score matrix for mix7_seed614361\n",
      "--------> Computing score matrix for mix8_seed537423\n",
      "--------> Computing score matrix for mix9_seed806299\n",
      "--------> Computing score matrix for mix10_seed49385\n",
      "--------> Computing score matrix for mix11_seed268719\n",
      "--------> Computing score matrix for mix12_seed440368\n",
      "--------> Computing score matrix for mix13_seed760851\n",
      "--------> Computing score matrix for mix14_seed38761\n",
      "--------> Computing score matrix for mix15_seed592651\n",
      "--------> Computing score matrix for mix16_seed421245\n",
      "--------> Computing score matrix for mix17_seed354812\n",
      "--------> Computing score matrix for mix18_seed354678\n",
      "--------> Computing score matrix for mix19_seed226281\n",
      "\n",
      "\n",
      "--> E001MONO_E0659B_E1756CD4_E0768CD8_E0549NK_E6257GRANUL\n",
      "--------> Computing score matrix for mix0_seed189194\n",
      "--------> Computing score matrix for mix1_seed585395\n",
      "--------> Computing score matrix for mix2_seed915436\n",
      "--------> Computing score matrix for mix3_seed858685\n",
      "--------> Computing score matrix for mix4_seed97341\n",
      "--------> Computing score matrix for mix5_seed405913\n",
      "--------> Computing score matrix for mix6_seed912226\n",
      "--------> Computing score matrix for mix7_seed772059\n",
      "--------> Computing score matrix for mix8_seed700840\n",
      "--------> Computing score matrix for mix9_seed946948\n",
      "--------> Computing score matrix for mix10_seed811454\n",
      "--------> Computing score matrix for mix11_seed923561\n",
      "--------> Computing score matrix for mix12_seed771020\n",
      "--------> Computing score matrix for mix13_seed87182\n",
      "--------> Computing score matrix for mix14_seed201738\n",
      "--------> Computing score matrix for mix15_seed312823\n",
      "--------> Computing score matrix for mix16_seed605772\n",
      "--------> Computing score matrix for mix17_seed664745\n",
      "--------> Computing score matrix for mix18_seed85142\n",
      "--------> Computing score matrix for mix19_seed290974\n",
      "\n",
      "\n",
      "--> EMONO_E0659B_E1758CD4_E0769CD8_E0549NK_E6264GRANUL\n",
      "--------> Computing score matrix for mix0_seed444362\n",
      "--------> Computing score matrix for mix1_seed144765\n",
      "--------> Computing score matrix for mix2_seed372176\n",
      "--------> Computing score matrix for mix3_seed496774\n",
      "--------> Computing score matrix for mix4_seed568651\n",
      "--------> Computing score matrix for mix5_seed999672\n",
      "--------> Computing score matrix for mix6_seed390505\n",
      "--------> Computing score matrix for mix7_seed710956\n",
      "--------> Computing score matrix for mix8_seed87224\n",
      "--------> Computing score matrix for mix9_seed118740\n",
      "--------> Computing score matrix for mix10_seed3845\n",
      "--------> Computing score matrix for mix11_seed189987\n",
      "--------> Computing score matrix for mix12_seed757439\n",
      "--------> Computing score matrix for mix13_seed876574\n",
      "--------> Computing score matrix for mix14_seed407952\n",
      "--------> Computing score matrix for mix15_seed156084\n",
      "--------> Computing score matrix for mix16_seed877453\n",
      "--------> Computing score matrix for mix17_seed994908\n",
      "--------> Computing score matrix for mix18_seed371606\n",
      "--------> Computing score matrix for mix19_seed608697\n",
      "\n",
      "\n",
      ">>> Complete. <<< \n",
      "\n",
      "CPU times: user 16.5 s, sys: 985 ms, total: 17.5 s\n",
      "Wall time: 43min 26s\n"
     ]
    }
   ],
   "source": [
    "%%time\n",
    "\n",
    "PAT_COLS = [\n",
    "    'molecule_id', 'chr', 'number_molecules',\n",
    "    'cpg_index_min', 'cpg_index_max', 'pat_string', 'region_id', 'region_cpg_index_min', 'region_cpg_index_max'\n",
    "]\n",
    "\n",
    "QUANTILES = [0.1, 0.25, 0.75, 0.9]\n",
    "KMERS = [1, 3, 4]\n",
    "RATES_LEQ = [0.25]\n",
    "RATES_GEQ = [0.75]\n",
    "\n",
    "RETURN_SCHEMA = StructType()\\\n",
    "    .add('region_id', 'string')\\\n",
    "    .add('number_molecules', 'integer')\\\n",
    "    .add('meth_k1', 'integer')\\\n",
    "    .add('unmeth_k1', 'integer')\\\n",
    "    .add('total_k1', 'integer')\\\n",
    "    .add('meth_k3', 'integer')\\\n",
    "    .add('unmeth_k3', 'integer')\\\n",
    "    .add('total_k3', 'integer')\\\n",
    "    .add('meth_k4', 'integer')\\\n",
    "    .add('unmeth_k4', 'integer')\\\n",
    "    .add('total_k4', 'integer')\\\n",
    "    .add('frac_alpha_leq_25pct', 'float')\\\n",
    "    .add('frac_alpha_geq_75pct', 'float')\n",
    "\n",
    "compute_frag_scores_udf = sm.compute_frag_scores(cpg_number_cutoff=FILTER_CG_COUNT, schema=RETURN_SCHEMA, kmers=KMERS, rates_leq=RATES_LEQ, rates_geq=RATES_GEQ)\n",
    "\n",
    "\n",
    "# compute methyl score for are parquet files\n",
    "sm.score_matrix_from_mixture_directory(path_to_mixture_dir = PATH_TO_MIXTURE_DIR, \n",
    "                                       result_path = RESULT_PATH, \n",
    "                                       pat_cols = PAT_COLS, \n",
    "                                       region_df = region_df, \n",
    "                                       batch_size = 20, \n",
    "                                       schema = RETURN_SCHEMA, \n",
    "                                       spark=spark,\n",
    "                                       compute_frag_scores_udf=compute_frag_scores_udf,\n",
    "                                       save=True, \n",
    "                                       verbose=False)"
   ]
  },
  {
   "cell_type": "markdown",
   "id": "df9d47e1",
   "metadata": {
    "papermill": {
     "duration": 0.032076,
     "end_time": "2023-08-08T04:58:22.379806",
     "exception": false,
     "start_time": "2023-08-08T04:58:22.347730",
     "status": "completed"
    },
    "tags": []
   },
   "source": [
    "## Deconvolution"
   ]
  },
  {
   "cell_type": "code",
   "execution_count": 8,
   "id": "74a17f47",
   "metadata": {
    "papermill": {
     "duration": 0.037956,
     "end_time": "2023-08-08T04:58:22.449555",
     "exception": false,
     "start_time": "2023-08-08T04:58:22.411599",
     "status": "completed"
    },
    "tags": []
   },
   "outputs": [],
   "source": [
    "############################\n",
    "#   Parameters and paths   # \n",
    "############################\n",
    "\n",
    "FILTER_COV = 20\n",
    "\n",
    "SCORE_VAR = 'frac_alpha_leq_25pct'\n",
    "\n",
    "# Reference matrix\n",
    "ATLAS_PATH = PROJECT_DIR + 'output/reference/deconv_inhouse_v2.tsplit.atlas.tsv.gz'\n",
    "REGION_PATH = PROJECT_DIR + 'output/reference/deconv_inhouse_v2.tsplit.region_to_ref_celltype.tsv.gz'\n",
    "\n",
    "# Methylation score matrix\n",
    "SCORE_DIR = EXPERIMENT_CELLTYPE_DIR + 'methyl_score/'\n"
   ]
  },
  {
   "cell_type": "code",
   "execution_count": 9,
   "id": "e2f2e2cd",
   "metadata": {
    "papermill": {
     "duration": 0.044699,
     "end_time": "2023-08-08T04:58:22.526561",
     "exception": false,
     "start_time": "2023-08-08T04:58:22.481862",
     "status": "completed"
    },
    "tags": []
   },
   "outputs": [
    {
     "data": {
      "text/plain": [
       "(285, 10)"
      ]
     },
     "execution_count": 9,
     "metadata": {},
     "output_type": "execute_result"
    }
   ],
   "source": [
    "atlas = pd.read_csv(ATLAS_PATH, sep='\\t',index_col=None)\n",
    "atlas = atlas.set_index('region_id')\n",
    "atlas.columns.name = 'ref_celltype'\n",
    "atlas.shape\n",
    "\n",
    "ref_region_df = pd.read_csv(REGION_PATH, sep='\\t')\n",
    "\n",
    "atlas = atlas.loc[ref_region_df['region_id'], :].copy()\n",
    "atlas.shape"
   ]
  },
  {
   "cell_type": "code",
   "execution_count": 10,
   "id": "46803148",
   "metadata": {
    "papermill": {
     "duration": 0.041826,
     "end_time": "2023-08-08T04:58:22.600271",
     "exception": false,
     "start_time": "2023-08-08T04:58:22.558445",
     "status": "completed"
    },
    "tags": []
   },
   "outputs": [],
   "source": [
    "ref_region_df['ref_celltype'][ref_region_df['ref_celltype'] == 'immune_cd4_t'] = 'immune_cd4'\n",
    "ref_region_df['ref_celltype'][ref_region_df['ref_celltype'] == 'immune_cd8_t'] = 'immune_cd8'"
   ]
  },
  {
   "cell_type": "code",
   "execution_count": 11,
   "id": "47c61944",
   "metadata": {
    "papermill": {
     "duration": 4.628109,
     "end_time": "2023-08-08T04:58:27.260750",
     "exception": false,
     "start_time": "2023-08-08T04:58:22.632641",
     "status": "completed"
    },
    "tags": []
   },
   "outputs": [
    {
     "name": "stdout",
     "output_type": "stream",
     "text": [
      "CPU times: user 4.39 s, sys: 27.5 ms, total: 4.42 s\n",
      "Wall time: 4.79 s\n"
     ]
    }
   ],
   "source": [
    "%%time\n",
    "\n",
    "deconvolution_nnls = dcnv.compute_deconvolution_from_methyl_score_dir_nnls(path_to_methyl_score_dir=SCORE_DIR, \n",
    "                                                                          score_type=SCORE_VAR, \n",
    "                                                                          atlas=atlas, \n",
    "                                                                          match=False)\n",
    "\n",
    "deconvolution_naive = dcnv.compute_deconvolution_from_methyl_score_dir_naive(path_to_methyl_score_dir=SCORE_DIR, \n",
    "                                                                             filter_cov=FILTER_COV, \n",
    "                                                                             score_var=SCORE_VAR, \n",
    "                                                                             ref_region_df=ref_region_df)\n"
   ]
  },
  {
   "cell_type": "code",
   "execution_count": 12,
   "id": "ccb84fc0-e18e-48d3-bddc-aecf496c5b6f",
   "metadata": {
    "tags": []
   },
   "outputs": [
    {
     "data": {
      "image/png": "[encoded data removed]",
      "text/plain": [
       "<Figure size 864x576 with 1 Axes>"
      ]
     },
     "metadata": {
      "needs_background": "light"
     },
     "output_type": "display_data"
    }
   ],
   "source": [
    "dcnv.boxplot_titration_combined(list_of_deconvolution_dfs_naive=deconvolution_naive,\n",
    "                       list_of_deconvolution_dfs_nnls=deconvolution_nnls,\n",
    "                      cell_type=TITRATING_CELLTYPE_ATLAS,\n",
    "                      true_proportions=TITRATION_LIST\n",
    "                      )"
   ]
  },
  {
   "cell_type": "code",
   "execution_count": 13,
   "id": "7d460712-4087-44fa-bba1-98454b2395c7",
   "metadata": {
    "tags": []
   },
   "outputs": [
    {
     "data": {
      "image/png": "[encoded data removed]",
      "text/plain": [
       "<Figure size 720x720 with 14 Axes>"
      ]
     },
     "metadata": {
      "needs_background": "light"
     },
     "output_type": "display_data"
    }
   ],
   "source": [
    "dcnv.boxplot_titration_zoom_combined(list_of_deconvolution_dfs_naive=deconvolution_naive,\n",
    "                       list_of_deconvolution_dfs_nnls=deconvolution_nnls,\n",
    "                      cell_type=TITRATING_CELLTYPE_ATLAS,\n",
    "                      true_proportions=TITRATION_LIST\n",
    "                      )"
   ]
  },
  {
   "cell_type": "code",
   "execution_count": 14,
   "id": "75749030",
   "metadata": {
    "papermill": {
     "duration": 0.397208,
     "end_time": "2023-08-08T04:58:27.690608",
     "exception": false,
     "start_time": "2023-08-08T04:58:27.293400",
     "status": "completed"
    },
    "tags": []
   },
   "outputs": [
    {
     "data": {
      "image/png": "[encoded data removed]",
      "text/plain": [
       "<Figure size 864x432 with 1 Axes>"
      ]
     },
     "metadata": {
      "needs_background": "light"
     },
     "output_type": "display_data"
    }
   ],
   "source": [
    "importlib.reload(cm)\n",
    "importlib.reload(sm)\n",
    "importlib.reload(dcnv)\n",
    "importlib.reload(hlpr)\n",
    "\n",
    "dcnv.boxplot_titration(list_of_deconvolution_dfs=deconvolution_nnls,\n",
    "                      cell_type=TITRATING_CELLTYPE_ATLAS,\n",
    "                      true_proportions=TITRATION_LIST,\n",
    "                      deconvolution_method_name='nnls'\n",
    "                      )"
   ]
  },
  {
   "cell_type": "code",
   "execution_count": 15,
   "id": "397c4d37",
   "metadata": {
    "papermill": {
     "duration": 0.436324,
     "end_time": "2023-08-08T04:58:28.160902",
     "exception": false,
     "start_time": "2023-08-08T04:58:27.724578",
     "status": "completed"
    },
    "tags": []
   },
   "outputs": [
    {
     "data": {
      "image/png": "[encoded data removed]",
      "text/plain": [
       "<Figure size 720x720 with 14 Axes>"
      ]
     },
     "metadata": {
      "needs_background": "light"
     },
     "output_type": "display_data"
    }
   ],
   "source": [
    "dcnv.boxplot_titration_zoom(list_of_deconvolution_dfs=deconvolution_nnls,\n",
    "                      cell_type=TITRATING_CELLTYPE_ATLAS,\n",
    "                      true_proportions=TITRATION_LIST,\n",
    "                      deconvolution_method_name='nnls')"
   ]
  },
  {
   "cell_type": "code",
   "execution_count": null,
   "id": "28c72fe4",
   "metadata": {
    "papermill": {
     "duration": 0.0368,
     "end_time": "2023-08-08T04:58:33.903251",
     "exception": false,
     "start_time": "2023-08-08T04:58:33.866451",
     "status": "completed"
    },
    "tags": []
   },
   "outputs": [],
   "source": []
  },
  {
   "cell_type": "code",
   "execution_count": null,
   "id": "484f72b3",
   "metadata": {
    "papermill": {
     "duration": 0.036473,
     "end_time": "2023-08-08T04:58:33.976315",
     "exception": false,
     "start_time": "2023-08-08T04:58:33.939842",
     "status": "completed"
    },
    "tags": []
   },
   "outputs": [],
   "source": []
  }
 ],
 "metadata": {
  "kernelspec": {
   "display_name": "Python 3",
   "language": "python",
   "name": "python3"
  },
  "language_info": {
   "codemirror_mode": {
    "name": "ipython",
    "version": 3
   },
   "file_extension": ".py",
   "mimetype": "text/x-python",
   "name": "python",
   "nbconvert_exporter": "python",
   "pygments_lexer": "ipython3",
   "version": "3.7.8"
  },
  "papermill": {
   "default_parameters": {},
   "duration": 4167.188696,
   "end_time": "2023-08-08T04:58:34.730528",
   "environment_variables": {},
   "exception": null,
   "input_path": "/analysis/gh-msun/projects/2023_06_26_SRT_deconvolution_MS//notebooks/titration/02_titration_experiment_loyfer.ipynb",
   "output_path": "/analysis/gh-msun/projects/2023_06_26_SRT_deconvolution_MS//notebooks/titration/primary_immune_loyfer_wholeblood/titration_MONO.ipynb",
   "parameters": {
    "ABRIDGED_NAMES": [
     "B",
     "CD4",
     "CD8",
     "MONO",
     "NK",
     "GRANUL"
    ],
    "BACKGROUND": "wholeblood",
    "CELLTYPES": [
     "Blood-B",
     "Blood-CD4",
     "Blood-CD8",
     "Blood-Mono+Macro",
     "Blood-NK",
     "Blood-Granul"
    ],
    "EXPERIMENT": "primary_immune_loyfer",
    "N_REPLICATES": 20,
    "PROJECT_SLUG": "2023_06_26_SRT_deconvolution_MS",
    "ROOT_DIR": "/analysis/gh-msun/",
    "SEED": 466724,
    "TITRATING_CELLTYPE": "Blood-Mono+Macro",
    "TITRATING_CELLTYPE_ATLAS": "immune_dend_plus_macro_plus_mono",
    "TITRATION_LIST": [
     0.2,
     0.15,
     0.1,
     0.08,
     0.06,
     0.04,
     0.02,
     0.01,
     0.008,
     0.006,
     0.004,
     0.002,
     0.001,
     0
    ],
    "TOTAL_READS_TO_SAMPLE": 1000000,
    "WHOLE_BLOOD_ABUNDANCE": {
     "Blood-B": 0.06,
     "Blood-CD4": 0.16,
     "Blood-CD8": 0.07,
     "Blood-Granul": 0.57,
     "Blood-Mono+Macro": 0.09,
     "Blood-NK": 0.05
    }
   },
   "start_time": "2023-08-08T03:49:07.541832",
   "version": "2.4.0"
  }
 },
 "nbformat": 4,
 "nbformat_minor": 5
}
