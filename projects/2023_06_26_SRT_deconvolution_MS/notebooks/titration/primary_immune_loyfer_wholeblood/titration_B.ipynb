{
 "cells": [
  {
   "cell_type": "markdown",
   "id": "3687d50a",
   "metadata": {
    "papermill": {
     "duration": 0.005358,
     "end_time": "2023-08-08T00:29:41.320507",
     "exception": false,
     "start_time": "2023-08-08T00:29:41.315149",
     "status": "completed"
    },
    "tags": []
   },
   "source": [
    "# Titration Experiment"
   ]
  },
  {
   "cell_type": "code",
   "execution_count": 1,
   "id": "977bfa32",
   "metadata": {
    "papermill": {
     "duration": 0.013478,
     "end_time": "2023-08-08T00:29:41.339441",
     "exception": false,
     "start_time": "2023-08-08T00:29:41.325963",
     "status": "completed"
    },
    "tags": [
     "parameters"
    ]
   },
   "outputs": [],
   "source": [
    "#############################\n",
    "#   Experiment parameters   #\n",
    "#############################\n",
    "ROOT_DIR = '/analysis/gh-msun/'\n",
    "PROJECT_SLUG = '2023_06_26_SRT_deconvolution_MS'\n",
    "EXPERIMENT = 'primary_immune'\n",
    "TITRATING_CELLTYPE = 'Blueprint-B'\n",
    "TITRATING_CELLTYPE_ATLAS = 'immune_b' # cell type name in atlas different\n",
    "BACKGROUND = 'wholeblood' # background: uniform / wholeblood \n",
    "N_REPLICATES = 2 # number of replicates for each mixture\n",
    "SEED = 888 # need to change for different experiment\n",
    "TOTAL_READS_TO_SAMPLE = 1000000\n",
    "\n",
    "# make sure the orders of the two list match\n",
    "CELLTYPES = ['Blueprint-CD4', 'Blueprint-CD8', 'Blueprint-B', 'Blueprint-NK', 'Blueprint-Mono', 'Blueprint-Neutro']\n",
    "ABRIDGED_NAMES = ['CD4', 'CD8', 'B', 'NK', 'MONO', 'NEUTRO'] # for directory name\n",
    "\n",
    "TITRATION_LIST = [0.2, 0.15, 0.10, 0.08, 0.06, 0.04, 0.02, 0.01, \n",
    "                   0.008, 0.006, 0.004, 0.002, 0.001, 0]\n",
    "# TITRATION_LIST=[0.2, 0.15]\n",
    "\n",
    "# proportion of cells in real whole blood (sum to 1)\n",
    "WHOLE_BLOOD_ABUNDANCE = {'Blueprint-B':0.06,\n",
    "                         'Blueprint-Mono':0.09,\n",
    "                         'Blueprint-Neutro':0.57,\n",
    "                         'Blueprint-CD4':0.16,\n",
    "                         'Blueprint-CD8':0.07,\n",
    "                         'Blueprint-NK':0.05}\n",
    "    "
   ]
  },
  {
   "cell_type": "code",
   "execution_count": 2,
   "id": "0a170668",
   "metadata": {
    "papermill": {
     "duration": 0.010718,
     "end_time": "2023-08-08T00:29:41.354546",
     "exception": false,
     "start_time": "2023-08-08T00:29:41.343828",
     "status": "completed"
    },
    "tags": [
     "injected-parameters"
    ]
   },
   "outputs": [],
   "source": [
    "# Parameters\n",
    "ROOT_DIR = \"/analysis/gh-msun/\"\n",
    "PROJECT_SLUG = \"2023_06_26_SRT_deconvolution_MS\"\n",
    "EXPERIMENT = \"primary_immune_loyfer\"\n",
    "TITRATING_CELLTYPE = \"Blood-B\"\n",
    "TITRATING_CELLTYPE_ATLAS = \"immune_b\"\n",
    "BACKGROUND = \"wholeblood\"\n",
    "N_REPLICATES = 20\n",
    "SEED = 83723\n",
    "TOTAL_READS_TO_SAMPLE = 1000000\n",
    "CELLTYPES = [\"Blood-B\", \"Blood-CD4\", \"Blood-CD8\", \"Blood-Mono+Macro\", \"Blood-NK\", \"Blood-Granul\"]\n",
    "ABRIDGED_NAMES = [\"B\", \"CD4\", \"CD8\", \"MONO\", \"NK\", \"GRANUL\"]\n",
    "TITRATION_LIST = [0.2, 0.15, 0.1, 0.08, 0.06, 0.04, 0.02, 0.01, 0.008, 0.006, 0.004, 0.002, 0.001, 0]\n",
    "WHOLE_BLOOD_ABUNDANCE = {\"Blood-B\": 0.06, \"Blood-Mono+Macro\": 0.09, \"Blood-Granul\": 0.57, \"Blood-CD4\": 0.16, \"Blood-CD8\": 0.07, \"Blood-NK\": 0.05}\n"
   ]
  },
  {
   "cell_type": "code",
   "execution_count": 3,
   "id": "71a087ce",
   "metadata": {
    "papermill": {
     "duration": 3.54421,
     "end_time": "2023-08-08T00:29:44.903109",
     "exception": false,
     "start_time": "2023-08-08T00:29:41.358899",
     "status": "completed"
    },
    "tags": []
   },
   "outputs": [
    {
     "name": "stderr",
     "output_type": "stream",
     "text": [
      "/home/ec2-user/mambaforge/envs/2023_06_26_SRT_deconvolution_MS/lib/python3.7/site-packages/pyspark/context.py:317: FutureWarning: Python 3.7 support is deprecated in Spark 3.4.\n",
      "  warnings.warn(\"Python 3.7 support is deprecated in Spark 3.4.\", FutureWarning)\n"
     ]
    }
   ],
   "source": [
    "import glob\n",
    "import numpy as np\n",
    "import pandas as pd\n",
    "import seaborn as sns\n",
    "import matplotlib.pyplot as plt\n",
    "import itertools\n",
    "import functools\n",
    "import os\n",
    "import regex as re\n",
    "import random\n",
    "import importlib\n",
    "import sys\n",
    "\n",
    "from pyspark.sql import SparkSession\n",
    "from pyspark import SparkConf, SparkContext\n",
    "from pyspark.sql.types import IntegerType, LongType, ArrayType, StringType, DoubleType\n",
    "from pyspark.sql.functions import udf, explode, broadcast, count, lit, length, col\n",
    "from pyspark.sql import DataFrame\n",
    "from pyspark.sql.types import StructType\n",
    "\n",
    "# UPDATE HOME!\n",
    "os.environ[\"SPARK_HOME\"] = \"/home/ec2-user/mambaforge/envs/2023_06_26_SRT_deconvolution_MS/lib/python3.7/site-packages/pyspark\"\n",
    "# THIS needs to be set-up before running the notebook\n",
    "os.environ[\"SPARK_LOCAL_DIRS\"] = \"/temp\"\n",
    "os.environ[\"PYARROW_IGNORE_TIMEZONE\"] = \"1\"\n",
    "\n",
    "spark_conf = SparkConf()\n",
    "spark_conf.set(\"spark.ui.showConsoleProgress\", \"True\")\n",
    "spark_conf.set(\"spark.executor.instances\", \"2\")\n",
    "spark_conf.set(\"spark.executor.cores\", \"2\")\n",
    "spark_conf.set(\"spark.executor.memory\", \"16g\")\n",
    "spark_conf.set(\"spark.driver.memory\", \"64g\")\n",
    "spark_conf.set(\"spark.driver.maxResultSize\", \"32g\")\n",
    "spark_conf.set(\"spark.parquet.filterPushdown\", \"true\")\n",
    "spark_conf.set(\"spark.local.dir\", \"/temp\")\n",
    "spark_conf.getAll()\n",
    "\n",
    "sc = SparkContext(conf=spark_conf)\n",
    "sc.setLogLevel(\"ERROR\")\n",
    "spark = SparkSession(sc)\n",
    "\n",
    "pd.set_option('display.max_rows', 500)\n",
    "pd.set_option('display.max_columns', 500)\n",
    "pd.set_option('display.width', 1000)\n",
    "sns.set_context('talk')"
   ]
  },
  {
   "cell_type": "code",
   "execution_count": 4,
   "id": "d27c1ff3",
   "metadata": {
    "papermill": {
     "duration": 0.558431,
     "end_time": "2023-08-08T00:29:45.466944",
     "exception": false,
     "start_time": "2023-08-08T00:29:44.908513",
     "status": "completed"
    },
    "tags": []
   },
   "outputs": [],
   "source": [
    "#---Local paths---#\n",
    "PROJECT_DIR = ROOT_DIR + f'projects/{PROJECT_SLUG}/'\n",
    "\n",
    "#---Load all custom scripts---#\n",
    "SCRIPT_DIR = PROJECT_DIR + 'scripts/'\n",
    "sys.path.append(SCRIPT_DIR)\n",
    "\n",
    "import create_mixture as cm\n",
    "import score_matrix as sm\n",
    "import deconvolution as dcnv\n",
    "import helper as hlpr\n",
    "\n",
    "pd.set_option('display.max_rows', 500)\n",
    "pd.set_option('display.max_columns', 500)\n",
    "pd.set_option('display.width', 1000)"
   ]
  },
  {
   "cell_type": "code",
   "execution_count": 5,
   "id": "18d747c3",
   "metadata": {
    "papermill": {
     "duration": 0.012349,
     "end_time": "2023-08-08T00:29:45.484748",
     "exception": false,
     "start_time": "2023-08-08T00:29:45.472399",
     "status": "completed"
    },
    "tags": []
   },
   "outputs": [
    {
     "data": {
      "text/plain": [
       "<module 'helper' from '/analysis/gh-msun/projects/2023_06_26_SRT_deconvolution_MS/scripts/helper.py'>"
      ]
     },
     "execution_count": 5,
     "metadata": {},
     "output_type": "execute_result"
    }
   ],
   "source": [
    "importlib.reload(cm)\n",
    "importlib.reload(sm)\n",
    "importlib.reload(dcnv)\n",
    "importlib.reload(hlpr)"
   ]
  },
  {
   "cell_type": "code",
   "execution_count": 6,
   "id": "46d1e4fe",
   "metadata": {
    "papermill": {
     "duration": 0.01217,
     "end_time": "2023-08-08T00:29:45.501516",
     "exception": false,
     "start_time": "2023-08-08T00:29:45.489346",
     "status": "completed"
    },
    "tags": []
   },
   "outputs": [
    {
     "data": {
      "text/plain": [
       "[0.2,\n",
       " 0.13617021276595748,\n",
       " 0.05957446808510639,\n",
       " 0.07659574468085106,\n",
       " 0.04255319148936171,\n",
       " 0.4851063829787234]"
      ]
     },
     "execution_count": 6,
     "metadata": {},
     "output_type": "execute_result"
    }
   ],
   "source": [
    "#################################\n",
    "#   Set titration proportions   #\n",
    "#################################\n",
    "\n",
    "# Reorder such that the titrating cell type comes first\n",
    "CELLTYPES_unordered = CELLTYPES.copy()\n",
    "CELLTYPES = hlpr.titration_reordering(list_of_cell_types=CELLTYPES, \n",
    "                                      titrating_cell_type=TITRATING_CELLTYPE)\n",
    "\n",
    "# Reorder abridged name\n",
    "ABRIDGED_NAMES = hlpr.reorder_abridged_name(unordered_celltypes=CELLTYPES_unordered,\n",
    "                                            ordered_celltypes=CELLTYPES,\n",
    "                                            unordered_abridged_names=ABRIDGED_NAMES)\n",
    "    \n",
    "# set titration proportions\n",
    "if BACKGROUND == 'uniform':\n",
    "    PROPORTIONS = hlpr.generate_uniform_background_proportions(titration_list=TITRATION_LIST, \n",
    "                                                               cell_types=CELLTYPES)\n",
    "\n",
    "if BACKGROUND == 'wholeblood':\n",
    "    PROPORTIONS = hlpr.generate_custom_background_proportions(titration_list=TITRATION_LIST, \n",
    "                                                              custom_proportion=WHOLE_BLOOD_ABUNDANCE, \n",
    "                                                              list_of_celltypes=CELLTYPES, \n",
    "                                                              titrating_celltype=TITRATING_CELLTYPE)\n",
    "\n",
    "PROPORTIONS[0]    "
   ]
  },
  {
   "cell_type": "markdown",
   "id": "d31cfcfa",
   "metadata": {
    "papermill": {
     "duration": 0.004823,
     "end_time": "2023-08-08T00:29:45.511108",
     "exception": false,
     "start_time": "2023-08-08T00:29:45.506285",
     "status": "completed"
    },
    "tags": []
   },
   "source": [
    "## Create mixture"
   ]
  },
  {
   "cell_type": "code",
   "execution_count": 7,
   "id": "13e0f676",
   "metadata": {
    "papermill": {
     "duration": 0.009384,
     "end_time": "2023-08-08T00:29:45.525208",
     "exception": false,
     "start_time": "2023-08-08T00:29:45.515824",
     "status": "completed"
    },
    "tags": []
   },
   "outputs": [],
   "source": [
    "############################\n",
    "#   Parameters and paths   # \n",
    "############################\n",
    "EXPERIMENT_DIR = PROJECT_DIR + f'output/experiment/{EXPERIMENT}/'\n",
    "EXPERIMENT_NAME = f'{TITRATING_CELLTYPE}-{BACKGROUND}/'\n",
    "PARQUET_PATH = PROJECT_DIR + 'output/mixture_source/'\n",
    "EXPERIMENT_CELLTYPE_DIR = EXPERIMENT_DIR + f'{EXPERIMENT_NAME}/'\n",
    "RESULT_PATH = EXPERIMENT_CELLTYPE_DIR + 'mixture/'\n"
   ]
  },
  {
   "cell_type": "code",
   "execution_count": 8,
   "id": "294d89b1",
   "metadata": {
    "execution": {
     "iopub.execute_input": "2023-08-08T00:29:45.535580Z",
     "iopub.status.busy": "2023-08-08T00:29:45.535370Z",
     "iopub.status.idle": "2023-08-08T00:54:59.092761Z",
     "shell.execute_reply": "2023-08-08T00:54:59.092208Z"
    },
    "papermill": {
     "duration": 1513.581326,
     "end_time": "2023-08-08T00:54:59.111325",
     "exception": false,
     "start_time": "2023-08-08T00:29:45.529999",
     "status": "completed"
    },
    "tags": []
   },
   "outputs": [
    {
     "name": "stdout",
     "output_type": "stream",
     "text": [
      ">>> Load parquet files and count rows... <<<\n",
      "----------> Loading cell type: Blood-B\n",
      "----------> Loading cell type: Blood-CD4\n",
      "----------> Loading cell type: Blood-CD8\n",
      "----------> Loading cell type: Blood-Mono+Macro\n",
      "----------> Loading cell type: Blood-NK\n",
      "----------> Loading cell type: Blood-Granul\n",
      ">>> Complete. <<< \n",
      "\n",
      ">>> Start mixing... <<<\n",
      "--> PROPORTION: [0.2, 0.13617021276595748, 0.05957446808510639, 0.07659574468085106, 0.04255319148936171, 0.4851063829787234]\n",
      "----------> Creating mixture 0... \n",
      "----------> Creating mixture 1... \n",
      "----------> Creating mixture 2... \n",
      "----------> Creating mixture 3... \n",
      "----------> Creating mixture 4... \n",
      "----------> Creating mixture 5... \n",
      "----------> Creating mixture 6... \n",
      "----------> Creating mixture 7... \n",
      "----------> Creating mixture 8... \n",
      "----------> Creating mixture 9... \n",
      "----------> Creating mixture 10... \n",
      "----------> Creating mixture 11... \n",
      "----------> Creating mixture 12... \n",
      "----------> Creating mixture 13... \n",
      "----------> Creating mixture 14... \n",
      "----------> Creating mixture 15... \n",
      "----------> Creating mixture 16... \n",
      "----------> Creating mixture 17... \n",
      "----------> Creating mixture 18... \n",
      "----------> Creating mixture 19... \n",
      "--> PROPORTION: [0.15, 0.1446808510638298, 0.06329787234042554, 0.08138297872340425, 0.04521276595744681, 0.5154255319148936]\n",
      "----------> Creating mixture 0... \n",
      "----------> Creating mixture 1... \n",
      "----------> Creating mixture 2... \n",
      "----------> Creating mixture 3... \n",
      "----------> Creating mixture 4... \n",
      "----------> Creating mixture 5... \n",
      "----------> Creating mixture 6... \n",
      "----------> Creating mixture 7... \n",
      "----------> Creating mixture 8... \n",
      "----------> Creating mixture 9... \n",
      "----------> Creating mixture 10... \n",
      "----------> Creating mixture 11... \n",
      "----------> Creating mixture 12... \n",
      "----------> Creating mixture 13... \n",
      "----------> Creating mixture 14... \n",
      "----------> Creating mixture 15... \n",
      "----------> Creating mixture 16... \n",
      "----------> Creating mixture 17... \n",
      "----------> Creating mixture 18... \n",
      "----------> Creating mixture 19... \n",
      "--> PROPORTION: [0.1, 0.15319148936170215, 0.0670212765957447, 0.08617021276595745, 0.04787234042553192, 0.5457446808510638]\n",
      "----------> Creating mixture 0... \n",
      "----------> Creating mixture 1... \n",
      "----------> Creating mixture 2... \n",
      "----------> Creating mixture 3... \n",
      "----------> Creating mixture 4... \n",
      "----------> Creating mixture 5... \n",
      "----------> Creating mixture 6... \n",
      "----------> Creating mixture 7... \n",
      "----------> Creating mixture 8... \n",
      "----------> Creating mixture 9... \n",
      "----------> Creating mixture 10... \n",
      "----------> Creating mixture 11... \n",
      "----------> Creating mixture 12... \n",
      "----------> Creating mixture 13... \n",
      "----------> Creating mixture 14... \n",
      "----------> Creating mixture 15... \n",
      "----------> Creating mixture 16... \n",
      "----------> Creating mixture 17... \n",
      "----------> Creating mixture 18... \n",
      "----------> Creating mixture 19... \n",
      "--> PROPORTION: [0.08, 0.15659574468085108, 0.06851063829787235, 0.08808510638297873, 0.048936170212765966, 0.5578723404255319]\n",
      "----------> Creating mixture 0... \n",
      "----------> Creating mixture 1... \n",
      "----------> Creating mixture 2... \n",
      "----------> Creating mixture 3... \n",
      "----------> Creating mixture 4... \n",
      "----------> Creating mixture 5... \n",
      "----------> Creating mixture 6... \n",
      "----------> Creating mixture 7... \n",
      "----------> Creating mixture 8... \n",
      "----------> Creating mixture 9... \n",
      "----------> Creating mixture 10... \n",
      "----------> Creating mixture 11... \n",
      "----------> Creating mixture 12... \n",
      "----------> Creating mixture 13... \n",
      "----------> Creating mixture 14... \n",
      "----------> Creating mixture 15... \n",
      "----------> Creating mixture 16... \n",
      "----------> Creating mixture 17... \n",
      "----------> Creating mixture 18... \n",
      "----------> Creating mixture 19... \n",
      "--> PROPORTION: [0.06, 0.16, 0.07, 0.09, 0.05, 0.57]\n",
      "----------> Creating mixture 0... \n",
      "----------> Creating mixture 1... \n",
      "----------> Creating mixture 2... \n",
      "----------> Creating mixture 3... \n",
      "----------> Creating mixture 4... \n",
      "----------> Creating mixture 5... \n",
      "----------> Creating mixture 6... \n",
      "----------> Creating mixture 7... \n",
      "----------> Creating mixture 8... \n",
      "----------> Creating mixture 9... \n",
      "----------> Creating mixture 10... \n",
      "----------> Creating mixture 11... \n",
      "----------> Creating mixture 12... \n",
      "----------> Creating mixture 13... \n",
      "----------> Creating mixture 14... \n",
      "----------> Creating mixture 15... \n",
      "----------> Creating mixture 16... \n",
      "----------> Creating mixture 17... \n",
      "----------> Creating mixture 18... \n",
      "----------> Creating mixture 19... \n",
      "--> PROPORTION: [0.04, 0.16340425531914896, 0.07148936170212766, 0.09191489361702128, 0.05106382978723405, 0.582127659574468]\n",
      "----------> Creating mixture 0... \n",
      "----------> Creating mixture 1... \n",
      "----------> Creating mixture 2... \n",
      "----------> Creating mixture 3... \n",
      "----------> Creating mixture 4... \n",
      "----------> Creating mixture 5... \n",
      "----------> Creating mixture 6... \n",
      "----------> Creating mixture 7... \n",
      "----------> Creating mixture 8... \n",
      "----------> Creating mixture 9... \n",
      "----------> Creating mixture 10... \n",
      "----------> Creating mixture 11... \n",
      "----------> Creating mixture 12... \n",
      "----------> Creating mixture 13... \n",
      "----------> Creating mixture 14... \n",
      "----------> Creating mixture 15... \n",
      "----------> Creating mixture 16... \n",
      "----------> Creating mixture 17... \n",
      "----------> Creating mixture 18... \n",
      "----------> Creating mixture 19... \n",
      "--> PROPORTION: [0.02, 0.16680851063829788, 0.07297872340425533, 0.09382978723404255, 0.05212765957446809, 0.5942553191489361]\n",
      "----------> Creating mixture 0... \n",
      "----------> Creating mixture 1... \n",
      "----------> Creating mixture 2... \n",
      "----------> Creating mixture 3... \n",
      "----------> Creating mixture 4... \n",
      "----------> Creating mixture 5... \n",
      "----------> Creating mixture 6... \n",
      "----------> Creating mixture 7... \n",
      "----------> Creating mixture 8... \n",
      "----------> Creating mixture 9... \n",
      "----------> Creating mixture 10... \n",
      "----------> Creating mixture 11... \n",
      "----------> Creating mixture 12... \n",
      "----------> Creating mixture 13... \n",
      "----------> Creating mixture 14... \n",
      "----------> Creating mixture 15... \n",
      "----------> Creating mixture 16... \n",
      "----------> Creating mixture 17... \n",
      "----------> Creating mixture 18... \n",
      "----------> Creating mixture 19... \n",
      "--> PROPORTION: [0.01, 0.16851063829787236, 0.07372340425531916, 0.0947872340425532, 0.05265957446808511, 0.6003191489361701]\n",
      "----------> Creating mixture 0... \n",
      "----------> Creating mixture 1... \n",
      "----------> Creating mixture 2... \n",
      "----------> Creating mixture 3... \n",
      "----------> Creating mixture 4... \n",
      "----------> Creating mixture 5... \n",
      "----------> Creating mixture 6... \n",
      "----------> Creating mixture 7... \n",
      "----------> Creating mixture 8... \n",
      "----------> Creating mixture 9... \n",
      "----------> Creating mixture 10... \n",
      "----------> Creating mixture 11... \n",
      "----------> Creating mixture 12... \n",
      "----------> Creating mixture 13... \n",
      "----------> Creating mixture 14... \n",
      "----------> Creating mixture 15... \n",
      "----------> Creating mixture 16... \n",
      "----------> Creating mixture 17... \n",
      "----------> Creating mixture 18... \n",
      "----------> Creating mixture 19... \n",
      "--> PROPORTION: [0.008, 0.16885106382978726, 0.07387234042553192, 0.09497872340425532, 0.052765957446808516, 0.6015319148936169]\n",
      "----------> Creating mixture 0... \n",
      "----------> Creating mixture 1... \n",
      "----------> Creating mixture 2... \n",
      "----------> Creating mixture 3... \n",
      "----------> Creating mixture 4... \n",
      "----------> Creating mixture 5... \n",
      "----------> Creating mixture 6... \n",
      "----------> Creating mixture 7... \n",
      "----------> Creating mixture 8... \n",
      "----------> Creating mixture 9... \n",
      "----------> Creating mixture 10... \n",
      "----------> Creating mixture 11... \n",
      "----------> Creating mixture 12... \n",
      "----------> Creating mixture 13... \n",
      "----------> Creating mixture 14... \n",
      "----------> Creating mixture 15... \n",
      "----------> Creating mixture 16... \n",
      "----------> Creating mixture 17... \n",
      "----------> Creating mixture 18... \n",
      "----------> Creating mixture 19... \n",
      "--> PROPORTION: [0.006, 0.16919148936170214, 0.07402127659574469, 0.09517021276595744, 0.05287234042553192, 0.6027446808510638]\n",
      "----------> Creating mixture 0... \n",
      "----------> Creating mixture 1... \n",
      "----------> Creating mixture 2... \n",
      "----------> Creating mixture 3... \n",
      "----------> Creating mixture 4... \n",
      "----------> Creating mixture 5... \n",
      "----------> Creating mixture 6... \n",
      "----------> Creating mixture 7... \n",
      "----------> Creating mixture 8... \n",
      "----------> Creating mixture 9... \n",
      "----------> Creating mixture 10... \n",
      "----------> Creating mixture 11... \n",
      "----------> Creating mixture 12... \n",
      "----------> Creating mixture 13... \n",
      "----------> Creating mixture 14... \n",
      "----------> Creating mixture 15... \n",
      "----------> Creating mixture 16... \n",
      "----------> Creating mixture 17... \n",
      "----------> Creating mixture 18... \n",
      "----------> Creating mixture 19... \n",
      "--> PROPORTION: [0.004, 0.16953191489361705, 0.07417021276595746, 0.09536170212765957, 0.05297872340425533, 0.6039574468085106]\n",
      "----------> Creating mixture 0... \n",
      "----------> Creating mixture 1... \n",
      "----------> Creating mixture 2... \n",
      "----------> Creating mixture 3... \n",
      "----------> Creating mixture 4... \n",
      "----------> Creating mixture 5... \n",
      "----------> Creating mixture 6... \n",
      "----------> Creating mixture 7... \n",
      "----------> Creating mixture 8... \n",
      "----------> Creating mixture 9... \n",
      "----------> Creating mixture 10... \n",
      "----------> Creating mixture 11... \n",
      "----------> Creating mixture 12... \n",
      "----------> Creating mixture 13... \n",
      "----------> Creating mixture 14... \n",
      "----------> Creating mixture 15... \n",
      "----------> Creating mixture 16... \n",
      "----------> Creating mixture 17... \n",
      "----------> Creating mixture 18... \n",
      "----------> Creating mixture 19... \n",
      "--> PROPORTION: [0.002, 0.16987234042553193, 0.07431914893617023, 0.0955531914893617, 0.05308510638297873, 0.6051702127659574]\n",
      "----------> Creating mixture 0... \n",
      "----------> Creating mixture 1... \n",
      "----------> Creating mixture 2... \n",
      "----------> Creating mixture 3... \n",
      "----------> Creating mixture 4... \n",
      "----------> Creating mixture 5... \n",
      "----------> Creating mixture 6... \n",
      "----------> Creating mixture 7... \n",
      "----------> Creating mixture 8... \n",
      "----------> Creating mixture 9... \n",
      "----------> Creating mixture 10... \n",
      "----------> Creating mixture 11... \n",
      "----------> Creating mixture 12... \n",
      "----------> Creating mixture 13... \n",
      "----------> Creating mixture 14... \n",
      "----------> Creating mixture 15... \n",
      "----------> Creating mixture 16... \n",
      "----------> Creating mixture 17... \n",
      "----------> Creating mixture 18... \n",
      "----------> Creating mixture 19... \n",
      "--> PROPORTION: [0.001, 0.1700425531914894, 0.0743936170212766, 0.09564893617021276, 0.05313829787234043, 0.6057765957446808]\n",
      "----------> Creating mixture 0... \n",
      "----------> Creating mixture 1... \n",
      "----------> Creating mixture 2... \n",
      "----------> Creating mixture 3... \n",
      "----------> Creating mixture 4... \n",
      "----------> Creating mixture 5... \n",
      "----------> Creating mixture 6... \n",
      "----------> Creating mixture 7... \n",
      "----------> Creating mixture 8... \n",
      "----------> Creating mixture 9... \n",
      "----------> Creating mixture 10... \n",
      "----------> Creating mixture 11... \n",
      "----------> Creating mixture 12... \n",
      "----------> Creating mixture 13... \n",
      "----------> Creating mixture 14... \n",
      "----------> Creating mixture 15... \n",
      "----------> Creating mixture 16... \n",
      "----------> Creating mixture 17... \n",
      "----------> Creating mixture 18... \n",
      "----------> Creating mixture 19... \n",
      "--> PROPORTION: [0, 0.17021276595744683, 0.07446808510638299, 0.09574468085106383, 0.053191489361702135, 0.6063829787234042]\n",
      "----------> Creating mixture 0... \n",
      "----------> Creating mixture 1... \n",
      "----------> Creating mixture 2... \n",
      "----------> Creating mixture 3... \n",
      "----------> Creating mixture 4... \n",
      "----------> Creating mixture 5... \n",
      "----------> Creating mixture 6... \n",
      "----------> Creating mixture 7... \n",
      "----------> Creating mixture 8... \n",
      "----------> Creating mixture 9... \n",
      "----------> Creating mixture 10... \n",
      "----------> Creating mixture 11... \n",
      "----------> Creating mixture 12... \n",
      "----------> Creating mixture 13... \n",
      "----------> Creating mixture 14... \n",
      "----------> Creating mixture 15... \n",
      "----------> Creating mixture 16... \n",
      "----------> Creating mixture 17... \n",
      "----------> Creating mixture 18... \n",
      "----------> Creating mixture 19... \n",
      ">>> Complete. <<< \n",
      "\n",
      "CPU times: user 1.5 s, sys: 349 ms, total: 1.85 s\n",
      "Wall time: 25min 13s\n"
     ]
    }
   ],
   "source": [
    "%%time\n",
    "# load parquet files for each celltype & count rows\n",
    "parquet_df, total_reads_per_celltype = cm.load_parquet_dataframe(parquet_path=PARQUET_PATH,\n",
    "                                                                  cell_types=CELLTYPES,\n",
    "                                                                  spark=spark,\n",
    "                                                                  verbose=True)\n",
    "\n",
    "# mix cell types for each proportion set\n",
    "cm.mix_celltypes_multiple_proportions(parquet_df=parquet_df,\n",
    "                                       total_reads_per_celltype=total_reads_per_celltype,\n",
    "                                    #    n=len(TITRATION_LIST), \n",
    "                                       n=N_REPLICATES,\n",
    "                                       cell_types=CELLTYPES, \n",
    "                                       cell_type_abridged_name=ABRIDGED_NAMES, \n",
    "                                       total_reads_to_sample=TOTAL_READS_TO_SAMPLE, \n",
    "                                       list_of_proportions=PROPORTIONS, \n",
    "                                       seed=SEED, \n",
    "                                       result_path=RESULT_PATH, \n",
    "                                       spark=spark,\n",
    "                                       verbose=False, \n",
    "                                       save=True)"
   ]
  },
  {
   "cell_type": "markdown",
   "id": "d9825e27",
   "metadata": {
    "papermill": {
     "duration": 0.017646,
     "end_time": "2023-08-08T00:54:59.147113",
     "exception": false,
     "start_time": "2023-08-08T00:54:59.129467",
     "status": "completed"
    },
    "tags": []
   },
   "source": [
    "## Compute score matrix"
   ]
  },
  {
   "cell_type": "code",
   "execution_count": 9,
   "id": "8c5c4bac",
   "metadata": {
    "execution": {
     "iopub.execute_input": "2023-08-08T00:54:59.182847Z",
     "iopub.status.busy": "2023-08-08T00:54:59.182613Z",
     "iopub.status.idle": "2023-08-08T00:54:59.186328Z",
     "shell.execute_reply": "2023-08-08T00:54:59.185862Z"
    },
    "papermill": {
     "duration": 0.022967,
     "end_time": "2023-08-08T00:54:59.187500",
     "exception": false,
     "start_time": "2023-08-08T00:54:59.164533",
     "status": "completed"
    },
    "tags": []
   },
   "outputs": [],
   "source": [
    "############################\n",
    "#   Parameters and paths   # \n",
    "############################\n",
    "\n",
    "FILTER_CG_COUNT = 3\n",
    "FILTER_CG_COUNT_REGION = 1\n",
    "\n",
    "REGIONS = 'deconvolution_v2.v23_conv.with_cpg_index'\n",
    "REGION_BED_COLS = [\n",
    "    'region_chr', 'region_start', 'region_end', \n",
    "    'region_cpg_index_min', 'region_cpg_index_max', 'region_id'\n",
    "]\n",
    "\n",
    "# Regions\n",
    "REGION_PATH = (\n",
    "    PROJECT_DIR + '/stage/panel_data/{regions}.bed'\n",
    ").format(regions=REGIONS)\n",
    "\n",
    "# CpG map; genomic coordinate to CpG index;\n",
    "CPG_MAP_PATH = PROJECT_DIR + '/stage/cpg_loci/cpg_loci_hg19.combined_annot.tsv.gz'\n",
    "\n",
    "#--- Where to store results\n",
    "PATH_TO_MIXTURE_DIR = EXPERIMENT_CELLTYPE_DIR + 'mixture/'\n",
    "RESULT_PATH = EXPERIMENT_CELLTYPE_DIR\n"
   ]
  },
  {
   "cell_type": "code",
   "execution_count": 10,
   "id": "1f3bae08",
   "metadata": {
    "execution": {
     "iopub.execute_input": "2023-08-08T00:54:59.223235Z",
     "iopub.status.busy": "2023-08-08T00:54:59.223029Z",
     "iopub.status.idle": "2023-08-08T00:55:31.613079Z",
     "shell.execute_reply": "2023-08-08T00:55:31.612514Z"
    },
    "papermill": {
     "duration": 32.40976,
     "end_time": "2023-08-08T00:55:31.614712",
     "exception": false,
     "start_time": "2023-08-08T00:54:59.204952",
     "status": "completed"
    },
    "tags": []
   },
   "outputs": [],
   "source": [
    "cpg_map = pd.read_csv(CPG_MAP_PATH, usecols=['chr', 'start', 'end', 'cpg_index', 'cpg_index_hg38'], sep='\\t')"
   ]
  },
  {
   "cell_type": "code",
   "execution_count": 11,
   "id": "eeea63ad",
   "metadata": {
    "execution": {
     "iopub.execute_input": "2023-08-08T00:55:31.652461Z",
     "iopub.status.busy": "2023-08-08T00:55:31.652190Z",
     "iopub.status.idle": "2023-08-08T00:55:31.654709Z",
     "shell.execute_reply": "2023-08-08T00:55:31.654107Z"
    },
    "papermill": {
     "duration": 0.022643,
     "end_time": "2023-08-08T00:55:31.656018",
     "exception": false,
     "start_time": "2023-08-08T00:55:31.633375",
     "status": "completed"
    },
    "tags": []
   },
   "outputs": [],
   "source": [
    "# %%time\n",
    "# ridxs = ~cpg_map['cpg_index_hg38'].isna()\n",
    "# hg19_hg38_map = dict(itertools.zip_longest(cpg_map[ridxs]['cpg_index'], cpg_map[ridxs]['cpg_index_hg38'].astype(int)))\n",
    "# hg38_hg19_map = dict(itertools.zip_longest(cpg_map[ridxs]['cpg_index_hg38'].astype(int), cpg_map[ridxs]['cpg_index']))"
   ]
  },
  {
   "cell_type": "code",
   "execution_count": 12,
   "id": "62ae74e3",
   "metadata": {
    "execution": {
     "iopub.execute_input": "2023-08-08T00:55:31.692069Z",
     "iopub.status.busy": "2023-08-08T00:55:31.691839Z",
     "iopub.status.idle": "2023-08-08T00:55:31.701097Z",
     "shell.execute_reply": "2023-08-08T00:55:31.700610Z"
    },
    "papermill": {
     "duration": 0.028831,
     "end_time": "2023-08-08T00:55:31.702361",
     "exception": false,
     "start_time": "2023-08-08T00:55:31.673530",
     "status": "completed"
    },
    "tags": []
   },
   "outputs": [
    {
     "data": {
      "text/plain": [
       "(1658, 1658)"
      ]
     },
     "execution_count": 12,
     "metadata": {},
     "output_type": "execute_result"
    }
   ],
   "source": [
    "region_df = pd.read_csv(REGION_PATH, sep='\\t', usecols=range(0, 6), names=REGION_BED_COLS)\n",
    "\n",
    "# region_df['region_cpg_index_max'] -= 1\n",
    "# region_df.sort_values('region_cpg_index_min', inplace=True)\n",
    "# region_df['region_cpg_index_min_hg38'] = region_df['region_cpg_index_min'].map(hg19_hg38_map)\n",
    "# region_df['region_cpg_index_max_hg38'] = region_df['region_cpg_index_max'].map(hg19_hg38_map)\n",
    "\n",
    "region_df.shape[0], region_df['region_id'].nunique()"
   ]
  },
  {
   "cell_type": "code",
   "execution_count": 13,
   "id": "19627778",
   "metadata": {
    "execution": {
     "iopub.execute_input": "2023-08-08T00:55:31.738326Z",
     "iopub.status.busy": "2023-08-08T00:55:31.738110Z",
     "iopub.status.idle": "2023-08-08T00:55:31.740393Z",
     "shell.execute_reply": "2023-08-08T00:55:31.739827Z"
    },
    "papermill": {
     "duration": 0.02168,
     "end_time": "2023-08-08T00:55:31.741633",
     "exception": false,
     "start_time": "2023-08-08T00:55:31.719953",
     "status": "completed"
    },
    "tags": []
   },
   "outputs": [],
   "source": [
    "# ridxs = ~region_df['region_cpg_index_min_hg38'].isna()\n",
    "# ridxs &= ~region_df['region_cpg_index_max_hg38'].isna()\n",
    "# region_df = region_df[ridxs].copy()\n",
    "# region_df.shape[0], region_df['region_id'].nunique()"
   ]
  },
  {
   "cell_type": "code",
   "execution_count": 14,
   "id": "7fed14c3",
   "metadata": {
    "execution": {
     "iopub.execute_input": "2023-08-08T00:55:31.778796Z",
     "iopub.status.busy": "2023-08-08T00:55:31.778567Z",
     "iopub.status.idle": "2023-08-08T00:55:31.780904Z",
     "shell.execute_reply": "2023-08-08T00:55:31.780349Z"
    },
    "papermill": {
     "duration": 0.022247,
     "end_time": "2023-08-08T00:55:31.782159",
     "exception": false,
     "start_time": "2023-08-08T00:55:31.759912",
     "status": "completed"
    },
    "tags": []
   },
   "outputs": [],
   "source": [
    "# cg_count_hg19 = region_df['region_cpg_index_max']-region_df['region_cpg_index_min'] + 1\n",
    "# cg_count_hg38 = region_df['region_cpg_index_max_hg38']-region_df['region_cpg_index_min_hg38'] + 1\n",
    "# ridxs = (cg_count_hg19==cg_count_hg38)\n",
    "# ridxs &= (cg_count_hg19>=FILTER_CG_COUNT_REGION)\n",
    "# region_df = region_df[ridxs].copy()\n",
    "# region_df.shape[0], region_df['region_id'].nunique()"
   ]
  },
  {
   "cell_type": "code",
   "execution_count": 15,
   "id": "b307d0b1",
   "metadata": {
    "execution": {
     "iopub.execute_input": "2023-08-08T00:55:31.818204Z",
     "iopub.status.busy": "2023-08-08T00:55:31.817980Z",
     "iopub.status.idle": "2023-08-08T00:55:31.820227Z",
     "shell.execute_reply": "2023-08-08T00:55:31.819682Z"
    },
    "papermill": {
     "duration": 0.021734,
     "end_time": "2023-08-08T00:55:31.821480",
     "exception": false,
     "start_time": "2023-08-08T00:55:31.799746",
     "status": "completed"
    },
    "tags": []
   },
   "outputs": [],
   "source": [
    "# region_df['region_cpg_index_min_hg38'] = region_df['region_cpg_index_min_hg38'].astype(int)\n",
    "# region_df['region_cpg_index_max_hg38'] = region_df['region_cpg_index_max_hg38'].astype(int)"
   ]
  },
  {
   "cell_type": "code",
   "execution_count": 16,
   "id": "1382d23c",
   "metadata": {
    "execution": {
     "iopub.execute_input": "2023-08-08T00:55:31.857495Z",
     "iopub.status.busy": "2023-08-08T00:55:31.857286Z",
     "iopub.status.idle": "2023-08-08T00:55:31.870114Z",
     "shell.execute_reply": "2023-08-08T00:55:31.869581Z"
    },
    "papermill": {
     "duration": 0.032346,
     "end_time": "2023-08-08T00:55:31.871388",
     "exception": false,
     "start_time": "2023-08-08T00:55:31.839042",
     "status": "completed"
    },
    "tags": []
   },
   "outputs": [
    {
     "data": {
      "text/html": [
       "<div>\n",
       "<style scoped>\n",
       "    .dataframe tbody tr th:only-of-type {\n",
       "        vertical-align: middle;\n",
       "    }\n",
       "\n",
       "    .dataframe tbody tr th {\n",
       "        vertical-align: top;\n",
       "    }\n",
       "\n",
       "    .dataframe thead th {\n",
       "        text-align: right;\n",
       "    }\n",
       "</style>\n",
       "<table border=\"1\" class=\"dataframe\">\n",
       "  <thead>\n",
       "    <tr style=\"text-align: right;\">\n",
       "      <th></th>\n",
       "      <th>region_chr</th>\n",
       "      <th>region_start</th>\n",
       "      <th>region_end</th>\n",
       "      <th>region_cpg_index_min</th>\n",
       "      <th>region_cpg_index_max</th>\n",
       "      <th>region_id</th>\n",
       "    </tr>\n",
       "  </thead>\n",
       "  <tbody>\n",
       "    <tr>\n",
       "      <th>0</th>\n",
       "      <td>chr1</td>\n",
       "      <td>1114771</td>\n",
       "      <td>1114971</td>\n",
       "      <td>20117</td>\n",
       "      <td>20130</td>\n",
       "      <td>Immune_Broad_B-chr1:1114772-1114971</td>\n",
       "    </tr>\n",
       "    <tr>\n",
       "      <th>1</th>\n",
       "      <td>chr1</td>\n",
       "      <td>1157450</td>\n",
       "      <td>1157720</td>\n",
       "      <td>21684</td>\n",
       "      <td>21704</td>\n",
       "      <td>Immune_Broad_NK-chr1:1157451-1157720</td>\n",
       "    </tr>\n",
       "    <tr>\n",
       "      <th>2</th>\n",
       "      <td>chr1</td>\n",
       "      <td>1157879</td>\n",
       "      <td>1158277</td>\n",
       "      <td>21710</td>\n",
       "      <td>21727</td>\n",
       "      <td>Immune_Broad_NK-chr1:1157880-1158277</td>\n",
       "    </tr>\n",
       "    <tr>\n",
       "      <th>14</th>\n",
       "      <td>chr1</td>\n",
       "      <td>6341182</td>\n",
       "      <td>6341377</td>\n",
       "      <td>140667</td>\n",
       "      <td>140682</td>\n",
       "      <td>Immune_Broad_Eosi-chr1:6341183-6341377</td>\n",
       "    </tr>\n",
       "    <tr>\n",
       "      <th>19</th>\n",
       "      <td>chr1</td>\n",
       "      <td>9147788</td>\n",
       "      <td>9147871</td>\n",
       "      <td>188605</td>\n",
       "      <td>188609</td>\n",
       "      <td>Immune_Broad_Neutro-chr1:9147789-9147871</td>\n",
       "    </tr>\n",
       "  </tbody>\n",
       "</table>\n",
       "</div>"
      ],
      "text/plain": [
       "   region_chr  region_start  region_end  region_cpg_index_min  region_cpg_index_max                                 region_id\n",
       "0        chr1       1114771     1114971                 20117                 20130       Immune_Broad_B-chr1:1114772-1114971\n",
       "1        chr1       1157450     1157720                 21684                 21704      Immune_Broad_NK-chr1:1157451-1157720\n",
       "2        chr1       1157879     1158277                 21710                 21727      Immune_Broad_NK-chr1:1157880-1158277\n",
       "14       chr1       6341182     6341377                140667                140682    Immune_Broad_Eosi-chr1:6341183-6341377\n",
       "19       chr1       9147788     9147871                188605                188609  Immune_Broad_Neutro-chr1:9147789-9147871"
      ]
     },
     "execution_count": 16,
     "metadata": {},
     "output_type": "execute_result"
    }
   ],
   "source": [
    "### Restrict to immune regions\n",
    "#-------------- CHANGE HERE FOR DIFFERENT REGION SUBSET ----------------------\n",
    "# BLUEPRINT immune regions\n",
    "ATLAS_PATH = PROJECT_DIR + f'/output/reference/deconv_inhouse_v2.atlas.tsv.gz'\n",
    "atlas = pd.read_csv(ATLAS_PATH, sep='\\t')\n",
    "subset_region_set = set(atlas.region_id)\n",
    "#-----------------------------------------------------------------------------\n",
    "\n",
    "# filter regions down to regions of interest\n",
    "region_df = region_df[region_df['region_id'].isin(subset_region_set)]\n",
    "region_df.head()"
   ]
  },
  {
   "cell_type": "code",
   "execution_count": 17,
   "id": "e0abf6a2",
   "metadata": {
    "execution": {
     "iopub.execute_input": "2023-08-08T00:55:31.908698Z",
     "iopub.status.busy": "2023-08-08T00:55:31.908492Z",
     "iopub.status.idle": "2023-08-08T01:34:41.935023Z",
     "shell.execute_reply": "2023-08-08T01:34:41.934469Z"
    },
    "papermill": {
     "duration": 2350.078506,
     "end_time": "2023-08-08T01:34:41.968278",
     "exception": false,
     "start_time": "2023-08-08T00:55:31.889772",
     "status": "completed"
    },
    "tags": []
   },
   "outputs": [
    {
     "name": "stdout",
     "output_type": "stream",
     "text": [
      ">>> Start computing score matrices <<< \n",
      "\n",
      "--> E2B_E1362CD4_E0596CD8_E0766MONO_E0426NK_E4851GRANUL\n",
      "--------> Computing score matrix for mix0_seed470800\n",
      "--------> Computing score matrix for mix1_seed966852\n",
      "--------> Computing score matrix for mix2_seed995826\n",
      "--------> Computing score matrix for mix3_seed796153\n",
      "--------> Computing score matrix for mix4_seed344757\n",
      "--------> Computing score matrix for mix5_seed911735\n",
      "--------> Computing score matrix for mix6_seed760126\n",
      "--------> Computing score matrix for mix7_seed746477\n",
      "--------> Computing score matrix for mix8_seed823635\n",
      "--------> Computing score matrix for mix9_seed913498\n",
      "--------> Computing score matrix for mix10_seed904203\n",
      "--------> Computing score matrix for mix11_seed52304\n",
      "--------> Computing score matrix for mix12_seed837207\n",
      "--------> Computing score matrix for mix13_seed762180\n",
      "--------> Computing score matrix for mix14_seed4427\n",
      "--------> Computing score matrix for mix15_seed816021\n",
      "--------> Computing score matrix for mix16_seed859354\n",
      "--------> Computing score matrix for mix17_seed263244\n",
      "--------> Computing score matrix for mix18_seed965215\n",
      "--------> Computing score matrix for mix19_seed454336\n",
      "\n",
      "\n",
      "--> E15B_E1447CD4_E0633CD8_E0814MONO_E0452NK_E5154GRANUL\n",
      "--------> Computing score matrix for mix0_seed327469\n",
      "--------> Computing score matrix for mix1_seed942713\n",
      "--------> Computing score matrix for mix2_seed899730\n",
      "--------> Computing score matrix for mix3_seed115834\n",
      "--------> Computing score matrix for mix4_seed885610\n",
      "--------> Computing score matrix for mix5_seed381195\n",
      "--------> Computing score matrix for mix6_seed573121\n",
      "--------> Computing score matrix for mix7_seed340732\n",
      "--------> Computing score matrix for mix8_seed323110\n",
      "--------> Computing score matrix for mix9_seed40411\n",
      "--------> Computing score matrix for mix10_seed290884\n",
      "--------> Computing score matrix for mix11_seed54615\n",
      "--------> Computing score matrix for mix12_seed229926\n",
      "--------> Computing score matrix for mix13_seed414827\n",
      "--------> Computing score matrix for mix14_seed424406\n",
      "--------> Computing score matrix for mix15_seed392389\n",
      "--------> Computing score matrix for mix16_seed757798\n",
      "--------> Computing score matrix for mix17_seed600928\n",
      "--------> Computing score matrix for mix18_seed44327\n",
      "--------> Computing score matrix for mix19_seed42805\n",
      "\n",
      "\n",
      "--> E1B_E1532CD4_E067CD8_E0862MONO_E0479NK_E5457GRANUL\n",
      "--------> Computing score matrix for mix0_seed997493\n",
      "--------> Computing score matrix for mix1_seed479596\n",
      "--------> Computing score matrix for mix2_seed228823\n",
      "--------> Computing score matrix for mix3_seed971831\n",
      "--------> Computing score matrix for mix4_seed289341\n",
      "--------> Computing score matrix for mix5_seed142973\n",
      "--------> Computing score matrix for mix6_seed823233\n",
      "--------> Computing score matrix for mix7_seed365790\n",
      "--------> Computing score matrix for mix8_seed816729\n",
      "--------> Computing score matrix for mix9_seed203631\n",
      "--------> Computing score matrix for mix10_seed36380\n",
      "--------> Computing score matrix for mix11_seed783406\n",
      "--------> Computing score matrix for mix12_seed994708\n",
      "--------> Computing score matrix for mix13_seed60323\n",
      "--------> Computing score matrix for mix14_seed241588\n",
      "--------> Computing score matrix for mix15_seed303026\n",
      "--------> Computing score matrix for mix16_seed696098\n",
      "--------> Computing score matrix for mix17_seed358335\n",
      "--------> Computing score matrix for mix18_seed573110\n",
      "--------> Computing score matrix for mix19_seed388752\n",
      "\n",
      "\n",
      "--> E08B_E1566CD4_E0685CD8_E0881MONO_E0489NK_E5579GRANUL\n",
      "--------> Computing score matrix for mix0_seed179747\n",
      "--------> Computing score matrix for mix1_seed539546\n",
      "--------> Computing score matrix for mix2_seed950413\n",
      "--------> Computing score matrix for mix3_seed202997\n",
      "--------> Computing score matrix for mix4_seed411889\n",
      "--------> Computing score matrix for mix5_seed607876\n",
      "--------> Computing score matrix for mix6_seed330186\n",
      "--------> Computing score matrix for mix7_seed222930\n",
      "--------> Computing score matrix for mix8_seed628990\n",
      "--------> Computing score matrix for mix9_seed519025\n",
      "--------> Computing score matrix for mix10_seed776683\n",
      "--------> Computing score matrix for mix11_seed710508\n",
      "--------> Computing score matrix for mix12_seed897517\n",
      "--------> Computing score matrix for mix13_seed949716\n",
      "--------> Computing score matrix for mix14_seed515738\n",
      "--------> Computing score matrix for mix15_seed759815\n",
      "--------> Computing score matrix for mix16_seed965445\n",
      "--------> Computing score matrix for mix17_seed295822\n",
      "--------> Computing score matrix for mix18_seed225164\n",
      "--------> Computing score matrix for mix19_seed232894\n",
      "\n",
      "\n",
      "--> E06B_E16CD4_E07CD8_E09MONO_E05NK_E57GRANUL\n",
      "--------> Computing score matrix for mix0_seed394807\n",
      "--------> Computing score matrix for mix1_seed91698\n",
      "--------> Computing score matrix for mix2_seed259385\n",
      "--------> Computing score matrix for mix3_seed512999\n",
      "--------> Computing score matrix for mix4_seed129635\n",
      "--------> Computing score matrix for mix5_seed350607\n",
      "--------> Computing score matrix for mix6_seed684378\n",
      "--------> Computing score matrix for mix7_seed8190\n",
      "--------> Computing score matrix for mix8_seed779725\n",
      "--------> Computing score matrix for mix9_seed415085\n",
      "--------> Computing score matrix for mix10_seed444818\n",
      "--------> Computing score matrix for mix11_seed199195\n",
      "--------> Computing score matrix for mix12_seed918219\n",
      "--------> Computing score matrix for mix13_seed510736\n",
      "--------> Computing score matrix for mix14_seed500261\n",
      "--------> Computing score matrix for mix15_seed956732\n",
      "--------> Computing score matrix for mix16_seed921572\n",
      "--------> Computing score matrix for mix17_seed937247\n",
      "--------> Computing score matrix for mix18_seed110110\n",
      "--------> Computing score matrix for mix19_seed564768\n",
      "\n",
      "\n",
      "--> E04B_E1634CD4_E0715CD8_E0919MONO_E0511NK_E5821GRANUL\n",
      "--------> Computing score matrix for mix0_seed778556\n",
      "--------> Computing score matrix for mix1_seed119019\n",
      "--------> Computing score matrix for mix2_seed810366\n",
      "--------> Computing score matrix for mix3_seed869675\n",
      "--------> Computing score matrix for mix4_seed408609\n",
      "--------> Computing score matrix for mix5_seed759534\n",
      "--------> Computing score matrix for mix6_seed139682\n",
      "--------> Computing score matrix for mix7_seed362934\n",
      "--------> Computing score matrix for mix8_seed349169\n",
      "--------> Computing score matrix for mix9_seed357510\n",
      "--------> Computing score matrix for mix10_seed67133\n",
      "--------> Computing score matrix for mix11_seed500109\n",
      "--------> Computing score matrix for mix12_seed837330\n",
      "--------> Computing score matrix for mix13_seed972082\n",
      "--------> Computing score matrix for mix14_seed636923\n",
      "--------> Computing score matrix for mix15_seed873445\n",
      "--------> Computing score matrix for mix16_seed313816\n",
      "--------> Computing score matrix for mix17_seed608328\n",
      "--------> Computing score matrix for mix18_seed58802\n",
      "--------> Computing score matrix for mix19_seed782912\n",
      "\n",
      "\n",
      "--> E02B_E1668CD4_E073CD8_E0938MONO_E0521NK_E5943GRANUL\n",
      "--------> Computing score matrix for mix0_seed933600\n",
      "--------> Computing score matrix for mix1_seed428927\n",
      "--------> Computing score matrix for mix2_seed814759\n",
      "--------> Computing score matrix for mix3_seed819227\n",
      "--------> Computing score matrix for mix4_seed270332\n",
      "--------> Computing score matrix for mix5_seed222732\n",
      "--------> Computing score matrix for mix6_seed306825\n",
      "--------> Computing score matrix for mix7_seed950787\n",
      "--------> Computing score matrix for mix8_seed496575\n",
      "--------> Computing score matrix for mix9_seed590288\n",
      "--------> Computing score matrix for mix10_seed827096\n",
      "--------> Computing score matrix for mix11_seed896360\n",
      "--------> Computing score matrix for mix12_seed358536\n",
      "--------> Computing score matrix for mix13_seed709589\n",
      "--------> Computing score matrix for mix14_seed441282\n",
      "--------> Computing score matrix for mix15_seed166028\n",
      "--------> Computing score matrix for mix16_seed418991\n",
      "--------> Computing score matrix for mix17_seed669616\n",
      "--------> Computing score matrix for mix18_seed237520\n",
      "--------> Computing score matrix for mix19_seed351999\n",
      "\n",
      "\n",
      "--> E01B_E1685CD4_E0737CD8_E0948MONO_E0527NK_E6003GRANUL\n",
      "--------> Computing score matrix for mix0_seed132847\n",
      "--------> Computing score matrix for mix1_seed126869\n",
      "--------> Computing score matrix for mix2_seed504808\n",
      "--------> Computing score matrix for mix3_seed62714\n",
      "--------> Computing score matrix for mix4_seed709570\n",
      "--------> Computing score matrix for mix5_seed648025\n",
      "--------> Computing score matrix for mix6_seed57003\n",
      "--------> Computing score matrix for mix7_seed922333\n",
      "--------> Computing score matrix for mix8_seed732575\n",
      "--------> Computing score matrix for mix9_seed604723\n",
      "--------> Computing score matrix for mix10_seed886210\n",
      "--------> Computing score matrix for mix11_seed288402\n",
      "--------> Computing score matrix for mix12_seed226581\n",
      "--------> Computing score matrix for mix13_seed203188\n",
      "--------> Computing score matrix for mix14_seed253052\n",
      "--------> Computing score matrix for mix15_seed8805\n",
      "--------> Computing score matrix for mix16_seed585491\n",
      "--------> Computing score matrix for mix17_seed754192\n",
      "--------> Computing score matrix for mix18_seed43717\n",
      "--------> Computing score matrix for mix19_seed946289\n",
      "\n",
      "\n",
      "--> E008B_E1689CD4_E0739CD8_E095MONO_E0528NK_E6015GRANUL\n",
      "--------> Computing score matrix for mix0_seed730472\n",
      "--------> Computing score matrix for mix1_seed799085\n",
      "--------> Computing score matrix for mix2_seed824908\n",
      "--------> Computing score matrix for mix3_seed35356\n",
      "--------> Computing score matrix for mix4_seed446376\n",
      "--------> Computing score matrix for mix5_seed855752\n",
      "--------> Computing score matrix for mix6_seed977176\n",
      "--------> Computing score matrix for mix7_seed957129\n",
      "--------> Computing score matrix for mix8_seed870459\n",
      "--------> Computing score matrix for mix9_seed169567\n",
      "--------> Computing score matrix for mix10_seed349005\n",
      "--------> Computing score matrix for mix11_seed345138\n",
      "--------> Computing score matrix for mix12_seed18159\n",
      "--------> Computing score matrix for mix13_seed649160\n",
      "--------> Computing score matrix for mix14_seed397897\n",
      "--------> Computing score matrix for mix15_seed51768\n",
      "--------> Computing score matrix for mix16_seed652330\n",
      "--------> Computing score matrix for mix17_seed309227\n",
      "--------> Computing score matrix for mix18_seed866176\n",
      "--------> Computing score matrix for mix19_seed62078\n",
      "\n",
      "\n",
      "--> E006B_E1692CD4_E074CD8_E0952MONO_E0529NK_E6027GRANUL\n",
      "--------> Computing score matrix for mix0_seed79780\n",
      "--------> Computing score matrix for mix1_seed464872\n",
      "--------> Computing score matrix for mix2_seed620943\n",
      "--------> Computing score matrix for mix3_seed100571\n",
      "--------> Computing score matrix for mix4_seed561928\n",
      "--------> Computing score matrix for mix5_seed475921\n",
      "--------> Computing score matrix for mix6_seed472947\n",
      "--------> Computing score matrix for mix7_seed165049\n",
      "--------> Computing score matrix for mix8_seed180339\n",
      "--------> Computing score matrix for mix9_seed980836\n",
      "--------> Computing score matrix for mix10_seed279683\n",
      "--------> Computing score matrix for mix11_seed270246\n",
      "--------> Computing score matrix for mix12_seed915111\n",
      "--------> Computing score matrix for mix13_seed125829\n",
      "--------> Computing score matrix for mix14_seed898630\n",
      "--------> Computing score matrix for mix15_seed998298\n",
      "--------> Computing score matrix for mix16_seed980322\n",
      "--------> Computing score matrix for mix17_seed844121\n",
      "--------> Computing score matrix for mix18_seed47421\n",
      "--------> Computing score matrix for mix19_seed532266\n",
      "\n",
      "\n",
      "--> E004B_E1695CD4_E0742CD8_E0954MONO_E053NK_E604GRANUL\n",
      "--------> Computing score matrix for mix0_seed641231\n",
      "--------> Computing score matrix for mix1_seed747508\n",
      "--------> Computing score matrix for mix2_seed118499\n",
      "--------> Computing score matrix for mix3_seed88247\n",
      "--------> Computing score matrix for mix4_seed623111\n",
      "--------> Computing score matrix for mix5_seed534084\n",
      "--------> Computing score matrix for mix6_seed536255\n",
      "--------> Computing score matrix for mix7_seed20968\n",
      "--------> Computing score matrix for mix8_seed506323\n",
      "--------> Computing score matrix for mix9_seed965956\n",
      "--------> Computing score matrix for mix10_seed174811\n",
      "--------> Computing score matrix for mix11_seed680928\n",
      "--------> Computing score matrix for mix12_seed346965\n",
      "--------> Computing score matrix for mix13_seed293045\n",
      "--------> Computing score matrix for mix14_seed694779\n",
      "--------> Computing score matrix for mix15_seed875846\n",
      "--------> Computing score matrix for mix16_seed250263\n",
      "--------> Computing score matrix for mix17_seed75184\n",
      "--------> Computing score matrix for mix18_seed555744\n",
      "--------> Computing score matrix for mix19_seed662373\n",
      "\n",
      "\n",
      "--> E002B_E1699CD4_E0743CD8_E0956MONO_E0531NK_E6052GRANUL\n",
      "--------> Computing score matrix for mix0_seed170425\n",
      "--------> Computing score matrix for mix1_seed287214\n",
      "--------> Computing score matrix for mix2_seed127448\n",
      "--------> Computing score matrix for mix3_seed519752\n",
      "--------> Computing score matrix for mix4_seed891717\n",
      "--------> Computing score matrix for mix5_seed809809\n",
      "--------> Computing score matrix for mix6_seed654894\n",
      "--------> Computing score matrix for mix7_seed934408\n",
      "--------> Computing score matrix for mix8_seed690064\n",
      "--------> Computing score matrix for mix9_seed545577\n",
      "--------> Computing score matrix for mix10_seed591570\n",
      "--------> Computing score matrix for mix11_seed186616\n",
      "--------> Computing score matrix for mix12_seed840210\n",
      "--------> Computing score matrix for mix13_seed948059\n",
      "--------> Computing score matrix for mix14_seed139203\n",
      "--------> Computing score matrix for mix15_seed634896\n",
      "--------> Computing score matrix for mix16_seed239642\n",
      "--------> Computing score matrix for mix17_seed88850\n",
      "--------> Computing score matrix for mix18_seed93528\n",
      "--------> Computing score matrix for mix19_seed16509\n",
      "\n",
      "\n",
      "--> E001B_E17CD4_E0744CD8_E0956MONO_E0531NK_E6058GRANUL\n",
      "--------> Computing score matrix for mix0_seed284428\n",
      "--------> Computing score matrix for mix1_seed984362\n",
      "--------> Computing score matrix for mix2_seed99641\n",
      "--------> Computing score matrix for mix3_seed33648\n",
      "--------> Computing score matrix for mix4_seed88744\n",
      "--------> Computing score matrix for mix5_seed58786\n",
      "--------> Computing score matrix for mix6_seed314156\n",
      "--------> Computing score matrix for mix7_seed398555\n",
      "--------> Computing score matrix for mix8_seed356510\n",
      "--------> Computing score matrix for mix9_seed779564\n",
      "--------> Computing score matrix for mix10_seed618092\n",
      "--------> Computing score matrix for mix11_seed853391\n",
      "--------> Computing score matrix for mix12_seed699373\n",
      "--------> Computing score matrix for mix13_seed294117\n",
      "--------> Computing score matrix for mix14_seed930971\n",
      "--------> Computing score matrix for mix15_seed641038\n",
      "--------> Computing score matrix for mix16_seed802607\n",
      "--------> Computing score matrix for mix17_seed180881\n",
      "--------> Computing score matrix for mix18_seed655677\n",
      "--------> Computing score matrix for mix19_seed596630\n",
      "\n",
      "\n",
      "--> EB_E1702CD4_E0745CD8_E0957MONO_E0532NK_E6064GRANUL\n",
      "--------> Computing score matrix for mix0_seed710180\n",
      "--------> Computing score matrix for mix1_seed278790\n",
      "--------> Computing score matrix for mix2_seed918832\n",
      "--------> Computing score matrix for mix3_seed537476\n",
      "--------> Computing score matrix for mix4_seed536639\n",
      "--------> Computing score matrix for mix5_seed336297\n",
      "--------> Computing score matrix for mix6_seed56359\n",
      "--------> Computing score matrix for mix7_seed572026\n",
      "--------> Computing score matrix for mix8_seed619391\n",
      "--------> Computing score matrix for mix9_seed632208\n",
      "--------> Computing score matrix for mix10_seed936712\n",
      "--------> Computing score matrix for mix11_seed596211\n",
      "--------> Computing score matrix for mix12_seed827111\n",
      "--------> Computing score matrix for mix13_seed592067\n",
      "--------> Computing score matrix for mix14_seed752056\n",
      "--------> Computing score matrix for mix15_seed358011\n",
      "--------> Computing score matrix for mix16_seed211466\n",
      "--------> Computing score matrix for mix17_seed532467\n",
      "--------> Computing score matrix for mix18_seed378457\n",
      "--------> Computing score matrix for mix19_seed500124\n",
      "\n",
      "\n",
      ">>> Complete. <<< \n",
      "\n",
      "CPU times: user 15.4 s, sys: 1.25 s, total: 16.6 s\n",
      "Wall time: 39min 10s\n"
     ]
    }
   ],
   "source": [
    "%%time\n",
    "\n",
    "PAT_COLS = [\n",
    "    'molecule_id', 'chr', 'number_molecules',\n",
    "    'cpg_index_min', 'cpg_index_max', 'pat_string', 'region_id', 'region_cpg_index_min', 'region_cpg_index_max'\n",
    "]\n",
    "\n",
    "QUANTILES = [0.1, 0.25, 0.75, 0.9]\n",
    "KMERS = [1, 3, 4]\n",
    "RATES_LEQ = [0.25]\n",
    "RATES_GEQ = [0.75]\n",
    "\n",
    "RETURN_SCHEMA = StructType()\\\n",
    "    .add('region_id', 'string')\\\n",
    "    .add('number_molecules', 'integer')\\\n",
    "    .add('meth_k1', 'integer')\\\n",
    "    .add('unmeth_k1', 'integer')\\\n",
    "    .add('total_k1', 'integer')\\\n",
    "    .add('meth_k3', 'integer')\\\n",
    "    .add('unmeth_k3', 'integer')\\\n",
    "    .add('total_k3', 'integer')\\\n",
    "    .add('meth_k4', 'integer')\\\n",
    "    .add('unmeth_k4', 'integer')\\\n",
    "    .add('total_k4', 'integer')\\\n",
    "    .add('frac_alpha_leq_25pct', 'float')\\\n",
    "    .add('frac_alpha_geq_75pct', 'float')\n",
    "\n",
    "compute_frag_scores_udf = sm.compute_frag_scores(cpg_number_cutoff=FILTER_CG_COUNT, schema=RETURN_SCHEMA, kmers=KMERS, rates_leq=RATES_LEQ, rates_geq=RATES_GEQ)\n",
    "\n",
    "\n",
    "# compute methyl score for are parquet files\n",
    "sm.score_matrix_from_mixture_directory(path_to_mixture_dir = PATH_TO_MIXTURE_DIR, \n",
    "                                       result_path = RESULT_PATH, \n",
    "                                       pat_cols = PAT_COLS, \n",
    "                                       region_df = region_df, \n",
    "                                       batch_size = 20, \n",
    "                                       schema = RETURN_SCHEMA, \n",
    "                                       spark=spark,\n",
    "                                       compute_frag_scores_udf=compute_frag_scores_udf,\n",
    "                                       save=True, \n",
    "                                       verbose=False)"
   ]
  },
  {
   "cell_type": "markdown",
   "id": "d0d496c2",
   "metadata": {
    "papermill": {
     "duration": 0.032377,
     "end_time": "2023-08-08T01:34:42.033513",
     "exception": false,
     "start_time": "2023-08-08T01:34:42.001136",
     "status": "completed"
    },
    "tags": []
   },
   "source": [
    "## Deconvolution"
   ]
  },
  {
   "cell_type": "code",
   "execution_count": 8,
   "id": "07af7f8b",
   "metadata": {
    "papermill": {
     "duration": 0.037349,
     "end_time": "2023-08-08T01:34:42.102555",
     "exception": false,
     "start_time": "2023-08-08T01:34:42.065206",
     "status": "completed"
    },
    "tags": []
   },
   "outputs": [],
   "source": [
    "############################\n",
    "#   Parameters and paths   # \n",
    "############################\n",
    "\n",
    "FILTER_COV = 20\n",
    "\n",
    "SCORE_VAR = 'frac_alpha_leq_25pct'\n",
    "\n",
    "# Reference matrix\n",
    "ATLAS_PATH = PROJECT_DIR + 'output/reference/deconv_inhouse_v2.tsplit.atlas.tsv.gz'\n",
    "REGION_PATH = PROJECT_DIR + 'output/reference/deconv_inhouse_v2.tsplit.region_to_ref_celltype.tsv.gz'\n",
    "\n",
    "# Methylation score matrix\n",
    "SCORE_DIR = EXPERIMENT_CELLTYPE_DIR + 'methyl_score/'\n"
   ]
  },
  {
   "cell_type": "code",
   "execution_count": 9,
   "id": "09d260c5",
   "metadata": {
    "papermill": {
     "duration": 0.045209,
     "end_time": "2023-08-08T01:34:42.180190",
     "exception": false,
     "start_time": "2023-08-08T01:34:42.134981",
     "status": "completed"
    },
    "tags": []
   },
   "outputs": [
    {
     "data": {
      "text/plain": [
       "(285, 10)"
      ]
     },
     "execution_count": 9,
     "metadata": {},
     "output_type": "execute_result"
    }
   ],
   "source": [
    "atlas = pd.read_csv(ATLAS_PATH, sep='\\t',index_col=None)\n",
    "atlas = atlas.set_index('region_id')\n",
    "atlas.columns.name = 'ref_celltype'\n",
    "atlas.shape\n",
    "\n",
    "ref_region_df = pd.read_csv(REGION_PATH, sep='\\t')\n",
    "\n",
    "atlas = atlas.loc[ref_region_df['region_id'], :].copy()\n",
    "atlas.shape"
   ]
  },
  {
   "cell_type": "code",
   "execution_count": 10,
   "id": "a48e135a",
   "metadata": {
    "papermill": {
     "duration": 0.042385,
     "end_time": "2023-08-08T01:34:42.254661",
     "exception": false,
     "start_time": "2023-08-08T01:34:42.212276",
     "status": "completed"
    },
    "tags": []
   },
   "outputs": [],
   "source": [
    "ref_region_df['ref_celltype'][ref_region_df['ref_celltype'] == 'immune_cd4_t'] = 'immune_cd4'\n",
    "ref_region_df['ref_celltype'][ref_region_df['ref_celltype'] == 'immune_cd8_t'] = 'immune_cd8'"
   ]
  },
  {
   "cell_type": "code",
   "execution_count": 11,
   "id": "df49e716",
   "metadata": {
    "papermill": {
     "duration": 4.571788,
     "end_time": "2023-08-08T01:34:46.859048",
     "exception": false,
     "start_time": "2023-08-08T01:34:42.287260",
     "status": "completed"
    },
    "tags": []
   },
   "outputs": [
    {
     "name": "stdout",
     "output_type": "stream",
     "text": [
      "CPU times: user 4.42 s, sys: 80.7 ms, total: 4.5 s\n",
      "Wall time: 4.91 s\n"
     ]
    }
   ],
   "source": [
    "%%time\n",
    "\n",
    "deconvolution_nnls = dcnv.compute_deconvolution_from_methyl_score_dir_nnls(path_to_methyl_score_dir=SCORE_DIR, \n",
    "                                                                          score_type=SCORE_VAR, \n",
    "                                                                          atlas=atlas, \n",
    "                                                                          match=False)\n",
    "\n",
    "deconvolution_naive = dcnv.compute_deconvolution_from_methyl_score_dir_naive(path_to_methyl_score_dir=SCORE_DIR, \n",
    "                                                                             filter_cov=FILTER_COV, \n",
    "                                                                             score_var=SCORE_VAR, \n",
    "                                                                             ref_region_df=ref_region_df)\n"
   ]
  },
  {
   "cell_type": "code",
   "execution_count": 12,
   "id": "d977ccbd-789f-4c83-83f1-1feb42e34601",
   "metadata": {
    "tags": []
   },
   "outputs": [
    {
     "data": {
      "text/plain": [
       "<module 'helper' from '/analysis/gh-msun/projects/2023_06_26_SRT_deconvolution_MS/scripts/helper.py'>"
      ]
     },
     "execution_count": 12,
     "metadata": {},
     "output_type": "execute_result"
    }
   ],
   "source": [
    "importlib.reload(cm)\n",
    "importlib.reload(sm)\n",
    "importlib.reload(dcnv)\n",
    "importlib.reload(hlpr)"
   ]
  },
  {
   "cell_type": "code",
   "execution_count": 13,
   "id": "37f94d23-7593-4e56-9463-9a12838773ed",
   "metadata": {
    "tags": []
   },
   "outputs": [
    {
     "data": {
      "image/png": "[encoded data removed]",
      "text/plain": [
       "<Figure size 864x576 with 1 Axes>"
      ]
     },
     "metadata": {
      "needs_background": "light"
     },
     "output_type": "display_data"
    }
   ],
   "source": [
    "\n",
    "dcnv.boxplot_titration_combined(list_of_deconvolution_dfs_naive=deconvolution_naive,\n",
    "                       list_of_deconvolution_dfs_nnls=deconvolution_nnls,\n",
    "                      cell_type=TITRATING_CELLTYPE_ATLAS,\n",
    "                      true_proportions=TITRATION_LIST\n",
    "                      )"
   ]
  },
  {
   "cell_type": "code",
   "execution_count": null,
   "id": "3469d36f-ec71-49b0-a8a6-66eba4421c1b",
   "metadata": {},
   "outputs": [],
   "source": []
  },
  {
   "cell_type": "code",
   "execution_count": 14,
   "id": "244e51bf-6724-4bad-b850-fb3c65a9fd36",
   "metadata": {
    "tags": []
   },
   "outputs": [
    {
     "data": {
      "image/png": "[encoded data removed]",
      "text/plain": [
       "<Figure size 720x720 with 14 Axes>"
      ]
     },
     "metadata": {
      "needs_background": "light"
     },
     "output_type": "display_data"
    }
   ],
   "source": [
    "dcnv.boxplot_titration_zoom_combined(list_of_deconvolution_dfs_naive=deconvolution_naive,\n",
    "                       list_of_deconvolution_dfs_nnls=deconvolution_nnls,\n",
    "                      cell_type=TITRATING_CELLTYPE_ATLAS,\n",
    "                      true_proportions=TITRATION_LIST\n",
    "                      )"
   ]
  },
  {
   "cell_type": "code",
   "execution_count": 15,
   "id": "f5bcd405-dfb3-44cd-8390-87789227ea29",
   "metadata": {
    "tags": []
   },
   "outputs": [
    {
     "data": {
      "image/png": "[encoded data removed]",
      "text/plain": [
       "<Figure size 864x432 with 1 Axes>"
      ]
     },
     "metadata": {
      "needs_background": "light"
     },
     "output_type": "display_data"
    }
   ],
   "source": [
    "dcnv.boxplot_titration(list_of_deconvolution_dfs=deconvolution_nnls,\n",
    "                      cell_type=TITRATING_CELLTYPE_ATLAS,\n",
    "                      true_proportions=TITRATION_LIST,\n",
    "                      deconvolution_method_name='nnls'\n",
    "                      )"
   ]
  },
  {
   "cell_type": "code",
   "execution_count": 16,
   "id": "d1001706-4435-4248-9b65-a2617936e9aa",
   "metadata": {
    "tags": []
   },
   "outputs": [
    {
     "data": {
      "image/png": "[encoded data removed]",
      "text/plain": [
       "<Figure size 720x720 with 14 Axes>"
      ]
     },
     "metadata": {
      "needs_background": "light"
     },
     "output_type": "display_data"
    }
   ],
   "source": [
    "dcnv.boxplot_titration_zoom(list_of_deconvolution_dfs=deconvolution_nnls,\n",
    "                      cell_type=TITRATING_CELLTYPE_ATLAS,\n",
    "                      true_proportions=TITRATION_LIST,\n",
    "                      deconvolution_method_name='nnls')"
   ]
  },
  {
   "cell_type": "code",
   "execution_count": null,
   "id": "b03ac696",
   "metadata": {
    "papermill": {
     "duration": 0.03639,
     "end_time": "2023-08-08T01:34:53.493121",
     "exception": false,
     "start_time": "2023-08-08T01:34:53.456731",
     "status": "completed"
    },
    "tags": []
   },
   "outputs": [],
   "source": []
  },
  {
   "cell_type": "code",
   "execution_count": null,
   "id": "1b073af9-4f2b-4f26-b550-5b77fe82d053",
   "metadata": {},
   "outputs": [],
   "source": []
  }
 ],
 "metadata": {
  "kernelspec": {
   "display_name": "Python 3",
   "language": "python",
   "name": "python3"
  },
  "language_info": {
   "codemirror_mode": {
    "name": "ipython",
    "version": 3
   },
   "file_extension": ".py",
   "mimetype": "text/x-python",
   "name": "python",
   "nbconvert_exporter": "python",
   "pygments_lexer": "ipython3",
   "version": "3.7.8"
  },
  "papermill": {
   "default_parameters": {},
   "duration": 3913.690578,
   "end_time": "2023-08-08T01:34:54.320337",
   "environment_variables": {},
   "exception": null,
   "input_path": "/analysis/gh-msun/projects/2023_06_26_SRT_deconvolution_MS//notebooks/titration/02_titration_experiment_loyfer.ipynb",
   "output_path": "/analysis/gh-msun/projects/2023_06_26_SRT_deconvolution_MS//notebooks/titration/primary_immune_loyfer_wholeblood/titration_B.ipynb",
   "parameters": {
    "ABRIDGED_NAMES": [
     "B",
     "CD4",
     "CD8",
     "MONO",
     "NK",
     "GRANUL"
    ],
    "BACKGROUND": "wholeblood",
    "CELLTYPES": [
     "Blood-B",
     "Blood-CD4",
     "Blood-CD8",
     "Blood-Mono+Macro",
     "Blood-NK",
     "Blood-Granul"
    ],
    "EXPERIMENT": "primary_immune_loyfer",
    "N_REPLICATES": 20,
    "PROJECT_SLUG": "2023_06_26_SRT_deconvolution_MS",
    "ROOT_DIR": "/analysis/gh-msun/",
    "SEED": 83723,
    "TITRATING_CELLTYPE": "Blood-B",
    "TITRATING_CELLTYPE_ATLAS": "immune_b",
    "TITRATION_LIST": [
     0.2,
     0.15,
     0.1,
     0.08,
     0.06,
     0.04,
     0.02,
     0.01,
     0.008,
     0.006,
     0.004,
     0.002,
     0.001,
     0
    ],
    "TOTAL_READS_TO_SAMPLE": 1000000,
    "WHOLE_BLOOD_ABUNDANCE": {
     "Blood-B": 0.06,
     "Blood-CD4": 0.16,
     "Blood-CD8": 0.07,
     "Blood-Granul": 0.57,
     "Blood-Mono+Macro": 0.09,
     "Blood-NK": 0.05
    }
   },
   "start_time": "2023-08-08T00:29:40.629759",
   "version": "2.4.0"
  }
 },
 "nbformat": 4,
 "nbformat_minor": 5
}
