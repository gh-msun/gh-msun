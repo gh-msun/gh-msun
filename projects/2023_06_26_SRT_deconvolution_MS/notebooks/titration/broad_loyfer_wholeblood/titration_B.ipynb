{
 "cells": [
  {
   "cell_type": "markdown",
   "id": "8d8a4fc6",
   "metadata": {
    "papermill": {
     "duration": 0.005736,
     "end_time": "2023-09-06T20:52:55.919123",
     "exception": false,
     "start_time": "2023-09-06T20:52:55.913387",
     "status": "completed"
    },
    "tags": []
   },
   "source": [
    "# Titration Experiment"
   ]
  },
  {
   "cell_type": "code",
   "execution_count": 1,
   "id": "a436bd3a",
   "metadata": {
    "papermill": {
     "duration": 0.011761,
     "end_time": "2023-09-06T20:52:55.936060",
     "exception": false,
     "start_time": "2023-09-06T20:52:55.924299",
     "status": "completed"
    },
    "tags": [
     "parameters"
    ]
   },
   "outputs": [],
   "source": [
    "#############################\n",
    "#   Experiment parameters   #\n",
    "#############################\n",
    "ROOT_DIR = '/analysis/gh-msun/'\n",
    "PROJECT_SLUG = '2023_06_26_SRT_deconvolution_MS'\n",
    "EXPERIMENT = 'broad_loyfer'\n",
    "TITRATING_CELLTYPE = 'Blood-B'\n",
    "TITRATING_CELLTYPE_ATLAS = 'immune_b' # cell type name in atlas different\n",
    "BACKGROUND = 'wholeblood' # background: uniform / wholeblood \n",
    "N_REPLICATES = 20 # number of replicates for each mixture\n",
    "SEED = 888 # need to change for different experiment\n",
    "TOTAL_READS_TO_SAMPLE = 1000000\n",
    "\n",
    "# make sure the orders of the two list match\n",
    "CELLTYPES = ['Blood-B', 'Blood-T', 'Blood-Mono+Macro', 'Blood-NK', 'Blood-Granul']\n",
    "ABRIDGED_NAMES = ['B', 'T', 'MONO', 'NK', 'NEUTRO'] # for directory name\n",
    "\n",
    "TITRATION_LIST = [0.2, 0.15, 0.10, 0.08, 0.06, 0.04, 0.02, 0.01, \n",
    "                   0.008, 0.006, 0.004, 0.002, 0.001, 0]\n",
    "# TITRATION_LIST=[0.2, 0.15]\n",
    "\n",
    "# proportion of cells in real whole blood (sum to 1)\n",
    "WHOLE_BLOOD_ABUNDANCE = {'Blood-B':0.06,\n",
    "                         'Blood-Mono+Macro':0.09,\n",
    "                         'Blood-Granul':0.57,\n",
    "                         'Blood-T':0.23,\n",
    "                         'Blood-NK':0.05}"
   ]
  },
  {
   "cell_type": "code",
   "execution_count": 2,
   "id": "bbf4465b",
   "metadata": {
    "papermill": {
     "duration": 0.010239,
     "end_time": "2023-09-06T20:52:55.951601",
     "exception": false,
     "start_time": "2023-09-06T20:52:55.941362",
     "status": "completed"
    },
    "tags": [
     "injected-parameters"
    ]
   },
   "outputs": [],
   "source": [
    "# Parameters\n",
    "ROOT_DIR = \"/analysis/gh-msun/\"\n",
    "PROJECT_SLUG = \"2023_06_26_SRT_deconvolution_MS\"\n",
    "EXPERIMENT = \"loyfer_new\"\n",
    "TITRATING_CELLTYPE = \"Blood-B\"\n",
    "TITRATING_CELLTYPE_ATLAS = \"immune_b\"\n",
    "BACKGROUND = \"wholeblood\"\n",
    "N_REPLICATES = 20\n",
    "SEED = 83723\n",
    "TOTAL_READS_TO_SAMPLE = 1000000\n",
    "CELLTYPES = [\"Blood-B\", \"Blood-T\", \"Blood-Mono+Macro\", \"Blood-NK\", \"Blood-Granul\"]\n",
    "ABRIDGED_NAMES = [\"B\", \"T\", \"MONO\", \"NK\", \"NEUTRO\"]\n",
    "TITRATION_LIST = [0.2, 0.15, 0.1, 0.08, 0.06, 0.04, 0.02, 0.01, 0.008, 0.006, 0.004, 0.002, 0.001, 0]\n",
    "WHOLE_BLOOD_ABUNDANCE = {\"Blood-B\": 0.06, \"Blood-Mono+Macro\": 0.09, \"Blood-Granul\": 0.57, \"Blood-T\": 0.23, \"Blood-NK\": 0.05}\n"
   ]
  },
  {
   "cell_type": "code",
   "execution_count": 3,
   "id": "90dec9a3",
   "metadata": {
    "papermill": {
     "duration": 6.805854,
     "end_time": "2023-09-06T20:53:02.761630",
     "exception": false,
     "start_time": "2023-09-06T20:52:55.955776",
     "status": "completed"
    },
    "tags": []
   },
   "outputs": [
    {
     "name": "stderr",
     "output_type": "stream",
     "text": [
      "/home/ec2-user/mambaforge/envs/2023_06_26_SRT_deconvolution_MS/lib/python3.7/site-packages/pyspark/context.py:317: FutureWarning: Python 3.7 support is deprecated in Spark 3.4.\n",
      "  warnings.warn(\"Python 3.7 support is deprecated in Spark 3.4.\", FutureWarning)\n"
     ]
    }
   ],
   "source": [
    "import glob\n",
    "import numpy as np\n",
    "import pandas as pd\n",
    "import seaborn as sns\n",
    "import matplotlib.pyplot as plt\n",
    "import itertools\n",
    "import functools\n",
    "import os\n",
    "import regex as re\n",
    "import random\n",
    "import importlib\n",
    "import sys\n",
    "\n",
    "from pyspark.sql import SparkSession\n",
    "from pyspark import SparkConf, SparkContext\n",
    "from pyspark.sql.types import IntegerType, LongType, ArrayType, StringType, DoubleType\n",
    "from pyspark.sql.functions import udf, explode, broadcast, count, lit, length, col\n",
    "from pyspark.sql import DataFrame\n",
    "from pyspark.sql.types import StructType\n",
    "\n",
    "# UPDATE HOME!\n",
    "os.environ[\"SPARK_HOME\"] = \"/home/ec2-user/mambaforge/envs/2023_06_26_SRT_deconvolution_MS/lib/python3.7/site-packages/pyspark\"\n",
    "# THIS needs to be set-up before running the notebook\n",
    "os.environ[\"SPARK_LOCAL_DIRS\"] = \"/temp\"\n",
    "os.environ[\"PYARROW_IGNORE_TIMEZONE\"] = \"1\"\n",
    "\n",
    "spark_conf = SparkConf()\n",
    "spark_conf.set(\"spark.ui.showConsoleProgress\", \"True\")\n",
    "spark_conf.set(\"spark.executor.instances\", \"2\")\n",
    "spark_conf.set(\"spark.executor.cores\", \"2\")\n",
    "spark_conf.set(\"spark.executor.memory\", \"16g\")\n",
    "spark_conf.set(\"spark.driver.memory\", \"64g\")\n",
    "spark_conf.set(\"spark.driver.maxResultSize\", \"32g\")\n",
    "spark_conf.set(\"spark.parquet.filterPushdown\", \"true\")\n",
    "spark_conf.set(\"spark.local.dir\", \"/temp\")\n",
    "spark_conf.getAll()\n",
    "\n",
    "sc = SparkContext(conf=spark_conf)\n",
    "sc.setLogLevel(\"ERROR\")\n",
    "spark = SparkSession(sc)\n",
    "\n",
    "pd.set_option('display.max_rows', 500)\n",
    "pd.set_option('display.max_columns', 500)\n",
    "pd.set_option('display.width', 1000)\n",
    "sns.set_context('talk')"
   ]
  },
  {
   "cell_type": "code",
   "execution_count": 4,
   "id": "2d2f8a9a",
   "metadata": {
    "papermill": {
     "duration": 1.117971,
     "end_time": "2023-09-06T20:53:03.884871",
     "exception": false,
     "start_time": "2023-09-06T20:53:02.766900",
     "status": "completed"
    },
    "tags": []
   },
   "outputs": [],
   "source": [
    "#---Local paths---#\n",
    "PROJECT_DIR = ROOT_DIR + f'projects/{PROJECT_SLUG}/'\n",
    "\n",
    "#---Load all custom scripts---#\n",
    "SCRIPT_DIR = PROJECT_DIR + 'scripts/'\n",
    "sys.path.append(SCRIPT_DIR)\n",
    "\n",
    "import create_mixture as cm\n",
    "import score_matrix as sm\n",
    "import deconvolution as dcnv\n",
    "import helper as hlpr\n",
    "\n",
    "pd.set_option('display.max_rows', 500)\n",
    "pd.set_option('display.max_columns', 500)\n",
    "pd.set_option('display.width', 1000)"
   ]
  },
  {
   "cell_type": "code",
   "execution_count": 5,
   "id": "eca679e3",
   "metadata": {
    "papermill": {
     "duration": 0.01347,
     "end_time": "2023-09-06T20:53:03.903746",
     "exception": false,
     "start_time": "2023-09-06T20:53:03.890276",
     "status": "completed"
    },
    "tags": []
   },
   "outputs": [
    {
     "data": {
      "text/plain": [
       "<module 'helper' from '/analysis/gh-msun/projects/2023_06_26_SRT_deconvolution_MS/scripts/helper.py'>"
      ]
     },
     "execution_count": 5,
     "metadata": {},
     "output_type": "execute_result"
    }
   ],
   "source": [
    "importlib.reload(cm)\n",
    "importlib.reload(sm)\n",
    "importlib.reload(dcnv)\n",
    "importlib.reload(hlpr)"
   ]
  },
  {
   "cell_type": "code",
   "execution_count": 6,
   "id": "72113473",
   "metadata": {
    "papermill": {
     "duration": 0.012637,
     "end_time": "2023-09-06T20:53:03.920831",
     "exception": false,
     "start_time": "2023-09-06T20:53:03.908194",
     "status": "completed"
    },
    "tags": []
   },
   "outputs": [
    {
     "data": {
      "text/plain": [
       "[0.2,\n",
       " 0.19574468085106386,\n",
       " 0.07659574468085106,\n",
       " 0.04255319148936171,\n",
       " 0.4851063829787234]"
      ]
     },
     "execution_count": 6,
     "metadata": {},
     "output_type": "execute_result"
    }
   ],
   "source": [
    "#################################\n",
    "#   Set titration proportions   #\n",
    "#################################\n",
    "\n",
    "# Reorder such that the titrating cell type comes first\n",
    "CELLTYPES_unordered = CELLTYPES.copy()\n",
    "CELLTYPES = hlpr.titration_reordering(list_of_cell_types=CELLTYPES, \n",
    "                                      titrating_cell_type=TITRATING_CELLTYPE)\n",
    "\n",
    "# Reorder abridged name\n",
    "ABRIDGED_NAMES = hlpr.reorder_abridged_name(unordered_celltypes=CELLTYPES_unordered,\n",
    "                                            ordered_celltypes=CELLTYPES,\n",
    "                                            unordered_abridged_names=ABRIDGED_NAMES)\n",
    "    \n",
    "# set titration proportions\n",
    "if BACKGROUND == 'uniform':\n",
    "    PROPORTIONS = hlpr.generate_uniform_background_proportions(titration_list=TITRATION_LIST, \n",
    "                                                               cell_types=CELLTYPES)\n",
    "\n",
    "if BACKGROUND == 'wholeblood':\n",
    "    PROPORTIONS = hlpr.generate_custom_background_proportions(titration_list=TITRATION_LIST, \n",
    "                                                              custom_proportion=WHOLE_BLOOD_ABUNDANCE, \n",
    "                                                              list_of_celltypes=CELLTYPES, \n",
    "                                                              titrating_celltype=TITRATING_CELLTYPE)\n",
    "\n",
    "PROPORTIONS[0]    "
   ]
  },
  {
   "cell_type": "markdown",
   "id": "06684d99",
   "metadata": {
    "papermill": {
     "duration": 0.004593,
     "end_time": "2023-09-06T20:53:03.929964",
     "exception": false,
     "start_time": "2023-09-06T20:53:03.925371",
     "status": "completed"
    },
    "tags": []
   },
   "source": [
    "## Create mixture"
   ]
  },
  {
   "cell_type": "code",
   "execution_count": 8,
   "id": "2b1db2a7",
   "metadata": {
    "papermill": {
     "duration": 0.009561,
     "end_time": "2023-09-06T20:53:03.944066",
     "exception": false,
     "start_time": "2023-09-06T20:53:03.934505",
     "status": "completed"
    },
    "tags": []
   },
   "outputs": [],
   "source": [
    "############################\n",
    "#   Parameters and paths   # \n",
    "############################\n",
    "EXPERIMENT_DIR = PROJECT_DIR + f'output/experiment/{EXPERIMENT}/'\n",
    "EXPERIMENT_NAME = f'{TITRATING_CELLTYPE}-{BACKGROUND}/'\n",
    "PARQUET_PATH = PROJECT_DIR + 'output/mixture_source/'\n",
    "EXPERIMENT_CELLTYPE_DIR = EXPERIMENT_DIR + f'{EXPERIMENT_NAME}/'\n",
    "RESULT_PATH = EXPERIMENT_CELLTYPE_DIR + 'mixture/'\n"
   ]
  },
  {
   "cell_type": "code",
   "execution_count": 8,
   "id": "ad89f422",
   "metadata": {
    "execution": {
     "iopub.execute_input": "2023-09-06T20:53:03.954144Z",
     "iopub.status.busy": "2023-09-06T20:53:03.953924Z",
     "iopub.status.idle": "2023-09-06T21:15:14.057115Z",
     "shell.execute_reply": "2023-09-06T21:15:14.056561Z"
    },
    "papermill": {
     "duration": 1330.109725,
     "end_time": "2023-09-06T21:15:14.058418",
     "exception": false,
     "start_time": "2023-09-06T20:53:03.948693",
     "status": "completed"
    },
    "tags": []
   },
   "outputs": [
    {
     "name": "stdout",
     "output_type": "stream",
     "text": [
      ">>> Load parquet files and count rows... <<<\n",
      "----------> Loading cell type: Blood-B\n",
      "----------> Loading cell type: Blood-T\n",
      "----------> Loading cell type: Blood-Mono+Macro\n",
      "----------> Loading cell type: Blood-NK\n",
      "----------> Loading cell type: Blood-Granul\n",
      ">>> Complete. <<< \n",
      "\n",
      ">>> Start mixing... <<<\n",
      "--> PROPORTION: [0.2, 0.19574468085106386, 0.07659574468085106, 0.04255319148936171, 0.4851063829787234]\n",
      "----------> Creating mixture 0... \n",
      "sampling with replacement!!\n",
      "----------> Creating mixture 1... \n",
      "sampling with replacement!!\n",
      "----------> Creating mixture 2... \n",
      "sampling with replacement!!\n",
      "----------> Creating mixture 3... \n",
      "sampling with replacement!!\n",
      "----------> Creating mixture 4... \n",
      "sampling with replacement!!\n",
      "----------> Creating mixture 5... \n",
      "sampling with replacement!!\n",
      "----------> Creating mixture 6... \n",
      "sampling with replacement!!\n",
      "----------> Creating mixture 7... \n",
      "sampling with replacement!!\n",
      "----------> Creating mixture 8... \n",
      "sampling with replacement!!\n",
      "----------> Creating mixture 9... \n",
      "sampling with replacement!!\n",
      "----------> Creating mixture 10... \n",
      "sampling with replacement!!\n",
      "----------> Creating mixture 11... \n",
      "sampling with replacement!!\n",
      "----------> Creating mixture 12... \n",
      "sampling with replacement!!\n",
      "----------> Creating mixture 13... \n",
      "sampling with replacement!!\n",
      "----------> Creating mixture 14... \n",
      "sampling with replacement!!\n",
      "----------> Creating mixture 15... \n",
      "sampling with replacement!!\n",
      "----------> Creating mixture 16... \n",
      "sampling with replacement!!\n",
      "----------> Creating mixture 17... \n",
      "sampling with replacement!!\n",
      "----------> Creating mixture 18... \n",
      "sampling with replacement!!\n",
      "----------> Creating mixture 19... \n",
      "sampling with replacement!!\n",
      "--> PROPORTION: [0.15, 0.20797872340425533, 0.08138297872340425, 0.04521276595744681, 0.5154255319148936]\n",
      "----------> Creating mixture 0... \n",
      "sampling with replacement!!\n",
      "----------> Creating mixture 1... \n",
      "sampling with replacement!!\n",
      "----------> Creating mixture 2... \n",
      "sampling with replacement!!\n",
      "----------> Creating mixture 3... \n",
      "sampling with replacement!!\n",
      "----------> Creating mixture 4... \n",
      "sampling with replacement!!\n",
      "----------> Creating mixture 5... \n",
      "sampling with replacement!!\n",
      "----------> Creating mixture 6... \n",
      "sampling with replacement!!\n",
      "----------> Creating mixture 7... \n",
      "sampling with replacement!!\n",
      "----------> Creating mixture 8... \n",
      "sampling with replacement!!\n",
      "----------> Creating mixture 9... \n",
      "sampling with replacement!!\n",
      "----------> Creating mixture 10... \n",
      "sampling with replacement!!\n",
      "----------> Creating mixture 11... \n",
      "sampling with replacement!!\n",
      "----------> Creating mixture 12... \n",
      "sampling with replacement!!\n",
      "----------> Creating mixture 13... \n",
      "sampling with replacement!!\n",
      "----------> Creating mixture 14... \n",
      "sampling with replacement!!\n",
      "----------> Creating mixture 15... \n",
      "sampling with replacement!!\n",
      "----------> Creating mixture 16... \n",
      "sampling with replacement!!\n",
      "----------> Creating mixture 17... \n",
      "sampling with replacement!!\n",
      "----------> Creating mixture 18... \n",
      "sampling with replacement!!\n",
      "----------> Creating mixture 19... \n",
      "sampling with replacement!!\n",
      "--> PROPORTION: [0.1, 0.22021276595744682, 0.08617021276595745, 0.04787234042553192, 0.5457446808510638]\n",
      "----------> Creating mixture 0... \n",
      "sampling with replacement!!\n",
      "----------> Creating mixture 1... \n",
      "sampling with replacement!!\n",
      "----------> Creating mixture 2... \n",
      "sampling with replacement!!\n",
      "----------> Creating mixture 3... \n",
      "sampling with replacement!!\n",
      "----------> Creating mixture 4... \n",
      "sampling with replacement!!\n",
      "----------> Creating mixture 5... \n",
      "sampling with replacement!!\n",
      "----------> Creating mixture 6... \n",
      "sampling with replacement!!\n",
      "----------> Creating mixture 7... \n",
      "sampling with replacement!!\n",
      "----------> Creating mixture 8... \n",
      "sampling with replacement!!\n",
      "----------> Creating mixture 9... \n",
      "sampling with replacement!!\n",
      "----------> Creating mixture 10... \n",
      "sampling with replacement!!\n",
      "----------> Creating mixture 11... \n",
      "sampling with replacement!!\n",
      "----------> Creating mixture 12... \n",
      "sampling with replacement!!\n",
      "----------> Creating mixture 13... \n",
      "sampling with replacement!!\n",
      "----------> Creating mixture 14... \n",
      "sampling with replacement!!\n",
      "----------> Creating mixture 15... \n",
      "sampling with replacement!!\n",
      "----------> Creating mixture 16... \n",
      "sampling with replacement!!\n",
      "----------> Creating mixture 17... \n",
      "sampling with replacement!!\n",
      "----------> Creating mixture 18... \n",
      "sampling with replacement!!\n",
      "----------> Creating mixture 19... \n",
      "sampling with replacement!!\n",
      "--> PROPORTION: [0.08, 0.22510638297872343, 0.08808510638297873, 0.048936170212765966, 0.5578723404255319]\n",
      "----------> Creating mixture 0... \n",
      "sampling with replacement!!\n",
      "----------> Creating mixture 1... \n",
      "sampling with replacement!!\n",
      "----------> Creating mixture 2... \n",
      "sampling with replacement!!\n",
      "----------> Creating mixture 3... \n",
      "sampling with replacement!!\n",
      "----------> Creating mixture 4... \n",
      "sampling with replacement!!\n",
      "----------> Creating mixture 5... \n",
      "sampling with replacement!!\n",
      "----------> Creating mixture 6... \n",
      "sampling with replacement!!\n",
      "----------> Creating mixture 7... \n",
      "sampling with replacement!!\n",
      "----------> Creating mixture 8... \n",
      "sampling with replacement!!\n",
      "----------> Creating mixture 9... \n",
      "sampling with replacement!!\n",
      "----------> Creating mixture 10... \n",
      "sampling with replacement!!\n",
      "----------> Creating mixture 11... \n",
      "sampling with replacement!!\n",
      "----------> Creating mixture 12... \n",
      "sampling with replacement!!\n",
      "----------> Creating mixture 13... \n",
      "sampling with replacement!!\n",
      "----------> Creating mixture 14... \n",
      "sampling with replacement!!\n",
      "----------> Creating mixture 15... \n",
      "sampling with replacement!!\n",
      "----------> Creating mixture 16... \n",
      "sampling with replacement!!\n",
      "----------> Creating mixture 17... \n",
      "sampling with replacement!!\n",
      "----------> Creating mixture 18... \n",
      "sampling with replacement!!\n",
      "----------> Creating mixture 19... \n",
      "sampling with replacement!!\n",
      "--> PROPORTION: [0.06, 0.23, 0.09, 0.05, 0.57]\n",
      "----------> Creating mixture 0... \n",
      "sampling with replacement!!\n",
      "----------> Creating mixture 1... \n",
      "sampling with replacement!!\n",
      "----------> Creating mixture 2... \n",
      "sampling with replacement!!\n",
      "----------> Creating mixture 3... \n",
      "sampling with replacement!!\n",
      "----------> Creating mixture 4... \n",
      "sampling with replacement!!\n",
      "----------> Creating mixture 5... \n",
      "sampling with replacement!!\n",
      "----------> Creating mixture 6... \n",
      "sampling with replacement!!\n",
      "----------> Creating mixture 7... \n",
      "sampling with replacement!!\n",
      "----------> Creating mixture 8... \n",
      "sampling with replacement!!\n",
      "----------> Creating mixture 9... \n",
      "sampling with replacement!!\n",
      "----------> Creating mixture 10... \n",
      "sampling with replacement!!\n",
      "----------> Creating mixture 11... \n",
      "sampling with replacement!!\n",
      "----------> Creating mixture 12... \n",
      "sampling with replacement!!\n",
      "----------> Creating mixture 13... \n",
      "sampling with replacement!!\n",
      "----------> Creating mixture 14... \n",
      "sampling with replacement!!\n",
      "----------> Creating mixture 15... \n",
      "sampling with replacement!!\n",
      "----------> Creating mixture 16... \n",
      "sampling with replacement!!\n",
      "----------> Creating mixture 17... \n",
      "sampling with replacement!!\n",
      "----------> Creating mixture 18... \n",
      "sampling with replacement!!\n",
      "----------> Creating mixture 19... \n",
      "sampling with replacement!!\n",
      "--> PROPORTION: [0.04, 0.23489361702127662, 0.09191489361702128, 0.05106382978723405, 0.582127659574468]\n",
      "----------> Creating mixture 0... \n",
      "sampling with replacement!!\n",
      "----------> Creating mixture 1... \n",
      "sampling with replacement!!\n",
      "----------> Creating mixture 2... \n",
      "sampling with replacement!!\n",
      "----------> Creating mixture 3... \n",
      "sampling with replacement!!\n",
      "----------> Creating mixture 4... \n",
      "sampling with replacement!!\n",
      "----------> Creating mixture 5... \n",
      "sampling with replacement!!\n",
      "----------> Creating mixture 6... \n",
      "sampling with replacement!!\n",
      "----------> Creating mixture 7... \n",
      "sampling with replacement!!\n",
      "----------> Creating mixture 8... \n",
      "sampling with replacement!!\n",
      "----------> Creating mixture 9... \n",
      "sampling with replacement!!\n",
      "----------> Creating mixture 10... \n",
      "sampling with replacement!!\n",
      "----------> Creating mixture 11... \n",
      "sampling with replacement!!\n",
      "----------> Creating mixture 12... \n",
      "sampling with replacement!!\n",
      "----------> Creating mixture 13... \n",
      "sampling with replacement!!\n",
      "----------> Creating mixture 14... \n",
      "sampling with replacement!!\n",
      "----------> Creating mixture 15... \n",
      "sampling with replacement!!\n",
      "----------> Creating mixture 16... \n",
      "sampling with replacement!!\n",
      "----------> Creating mixture 17... \n",
      "sampling with replacement!!\n",
      "----------> Creating mixture 18... \n",
      "sampling with replacement!!\n",
      "----------> Creating mixture 19... \n",
      "sampling with replacement!!\n",
      "--> PROPORTION: [0.02, 0.2397872340425532, 0.09382978723404255, 0.05212765957446809, 0.5942553191489361]\n",
      "----------> Creating mixture 0... \n",
      "sampling with replacement!!\n",
      "----------> Creating mixture 1... \n",
      "sampling with replacement!!\n",
      "----------> Creating mixture 2... \n",
      "sampling with replacement!!\n",
      "----------> Creating mixture 3... \n",
      "sampling with replacement!!\n",
      "----------> Creating mixture 4... \n",
      "sampling with replacement!!\n",
      "----------> Creating mixture 5... \n",
      "sampling with replacement!!\n",
      "----------> Creating mixture 6... \n",
      "sampling with replacement!!\n",
      "----------> Creating mixture 7... \n",
      "sampling with replacement!!\n",
      "----------> Creating mixture 8... \n",
      "sampling with replacement!!\n",
      "----------> Creating mixture 9... \n",
      "sampling with replacement!!\n",
      "----------> Creating mixture 10... \n",
      "sampling with replacement!!\n",
      "----------> Creating mixture 11... \n",
      "sampling with replacement!!\n",
      "----------> Creating mixture 12... \n",
      "sampling with replacement!!\n",
      "----------> Creating mixture 13... \n",
      "sampling with replacement!!\n",
      "----------> Creating mixture 14... \n",
      "sampling with replacement!!\n",
      "----------> Creating mixture 15... \n",
      "sampling with replacement!!\n",
      "----------> Creating mixture 16... \n",
      "sampling with replacement!!\n",
      "----------> Creating mixture 17... \n",
      "sampling with replacement!!\n",
      "----------> Creating mixture 18... \n",
      "sampling with replacement!!\n",
      "----------> Creating mixture 19... \n",
      "sampling with replacement!!\n",
      "--> PROPORTION: [0.01, 0.2422340425531915, 0.0947872340425532, 0.05265957446808511, 0.6003191489361701]\n",
      "----------> Creating mixture 0... \n",
      "sampling with replacement!!\n",
      "----------> Creating mixture 1... \n",
      "sampling with replacement!!\n",
      "----------> Creating mixture 2... \n",
      "sampling with replacement!!\n",
      "----------> Creating mixture 3... \n",
      "sampling with replacement!!\n",
      "----------> Creating mixture 4... \n",
      "sampling with replacement!!\n",
      "----------> Creating mixture 5... \n",
      "sampling with replacement!!\n",
      "----------> Creating mixture 6... \n",
      "sampling with replacement!!\n",
      "----------> Creating mixture 7... \n",
      "sampling with replacement!!\n",
      "----------> Creating mixture 8... \n",
      "sampling with replacement!!\n",
      "----------> Creating mixture 9... \n",
      "sampling with replacement!!\n",
      "----------> Creating mixture 10... \n",
      "sampling with replacement!!\n",
      "----------> Creating mixture 11... \n",
      "sampling with replacement!!\n",
      "----------> Creating mixture 12... \n",
      "sampling with replacement!!\n",
      "----------> Creating mixture 13... \n",
      "sampling with replacement!!\n",
      "----------> Creating mixture 14... \n",
      "sampling with replacement!!\n",
      "----------> Creating mixture 15... \n",
      "sampling with replacement!!\n",
      "----------> Creating mixture 16... \n",
      "sampling with replacement!!\n",
      "----------> Creating mixture 17... \n",
      "sampling with replacement!!\n",
      "----------> Creating mixture 18... \n",
      "sampling with replacement!!\n",
      "----------> Creating mixture 19... \n",
      "sampling with replacement!!\n",
      "--> PROPORTION: [0.008, 0.24272340425531916, 0.09497872340425532, 0.052765957446808516, 0.6015319148936169]\n",
      "----------> Creating mixture 0... \n",
      "sampling with replacement!!\n",
      "----------> Creating mixture 1... \n",
      "sampling with replacement!!\n",
      "----------> Creating mixture 2... \n",
      "sampling with replacement!!\n",
      "----------> Creating mixture 3... \n",
      "sampling with replacement!!\n",
      "----------> Creating mixture 4... \n",
      "sampling with replacement!!\n",
      "----------> Creating mixture 5... \n",
      "sampling with replacement!!\n",
      "----------> Creating mixture 6... \n",
      "sampling with replacement!!\n",
      "----------> Creating mixture 7... \n",
      "sampling with replacement!!\n",
      "----------> Creating mixture 8... \n",
      "sampling with replacement!!\n",
      "----------> Creating mixture 9... \n",
      "sampling with replacement!!\n",
      "----------> Creating mixture 10... \n",
      "sampling with replacement!!\n",
      "----------> Creating mixture 11... \n",
      "sampling with replacement!!\n",
      "----------> Creating mixture 12... \n",
      "sampling with replacement!!\n",
      "----------> Creating mixture 13... \n",
      "sampling with replacement!!\n",
      "----------> Creating mixture 14... \n",
      "sampling with replacement!!\n",
      "----------> Creating mixture 15... \n",
      "sampling with replacement!!\n",
      "----------> Creating mixture 16... \n",
      "sampling with replacement!!\n",
      "----------> Creating mixture 17... \n",
      "sampling with replacement!!\n",
      "----------> Creating mixture 18... \n",
      "sampling with replacement!!\n",
      "----------> Creating mixture 19... \n",
      "sampling with replacement!!\n",
      "--> PROPORTION: [0.006, 0.2432127659574468, 0.09517021276595744, 0.05287234042553192, 0.6027446808510638]\n",
      "----------> Creating mixture 0... \n",
      "sampling with replacement!!\n",
      "----------> Creating mixture 1... \n",
      "sampling with replacement!!\n",
      "----------> Creating mixture 2... \n",
      "sampling with replacement!!\n",
      "----------> Creating mixture 3... \n",
      "sampling with replacement!!\n",
      "----------> Creating mixture 4... \n",
      "sampling with replacement!!\n",
      "----------> Creating mixture 5... \n",
      "sampling with replacement!!\n",
      "----------> Creating mixture 6... \n",
      "sampling with replacement!!\n",
      "----------> Creating mixture 7... \n",
      "sampling with replacement!!\n",
      "----------> Creating mixture 8... \n",
      "sampling with replacement!!\n",
      "----------> Creating mixture 9... \n",
      "sampling with replacement!!\n",
      "----------> Creating mixture 10... \n",
      "sampling with replacement!!\n",
      "----------> Creating mixture 11... \n",
      "sampling with replacement!!\n",
      "----------> Creating mixture 12... \n",
      "sampling with replacement!!\n",
      "----------> Creating mixture 13... \n",
      "sampling with replacement!!\n",
      "----------> Creating mixture 14... \n",
      "sampling with replacement!!\n",
      "----------> Creating mixture 15... \n",
      "sampling with replacement!!\n",
      "----------> Creating mixture 16... \n",
      "sampling with replacement!!\n",
      "----------> Creating mixture 17... \n",
      "sampling with replacement!!\n",
      "----------> Creating mixture 18... \n",
      "sampling with replacement!!\n",
      "----------> Creating mixture 19... \n",
      "sampling with replacement!!\n",
      "--> PROPORTION: [0.004, 0.2437021276595745, 0.09536170212765957, 0.05297872340425533, 0.6039574468085106]\n",
      "----------> Creating mixture 0... \n",
      "sampling with replacement!!\n",
      "----------> Creating mixture 1... \n",
      "sampling with replacement!!\n",
      "----------> Creating mixture 2... \n",
      "sampling with replacement!!\n",
      "----------> Creating mixture 3... \n",
      "sampling with replacement!!\n",
      "----------> Creating mixture 4... \n",
      "sampling with replacement!!\n",
      "----------> Creating mixture 5... \n",
      "sampling with replacement!!\n",
      "----------> Creating mixture 6... \n",
      "sampling with replacement!!\n",
      "----------> Creating mixture 7... \n",
      "sampling with replacement!!\n",
      "----------> Creating mixture 8... \n",
      "sampling with replacement!!\n",
      "----------> Creating mixture 9... \n",
      "sampling with replacement!!\n",
      "----------> Creating mixture 10... \n",
      "sampling with replacement!!\n",
      "----------> Creating mixture 11... \n",
      "sampling with replacement!!\n",
      "----------> Creating mixture 12... \n",
      "sampling with replacement!!\n",
      "----------> Creating mixture 13... \n",
      "sampling with replacement!!\n",
      "----------> Creating mixture 14... \n",
      "sampling with replacement!!\n",
      "----------> Creating mixture 15... \n",
      "sampling with replacement!!\n",
      "----------> Creating mixture 16... \n",
      "sampling with replacement!!\n",
      "----------> Creating mixture 17... \n",
      "sampling with replacement!!\n",
      "----------> Creating mixture 18... \n",
      "sampling with replacement!!\n",
      "----------> Creating mixture 19... \n",
      "sampling with replacement!!\n",
      "--> PROPORTION: [0.002, 0.24419148936170215, 0.0955531914893617, 0.05308510638297873, 0.6051702127659574]\n",
      "----------> Creating mixture 0... \n",
      "sampling with replacement!!\n",
      "----------> Creating mixture 1... \n",
      "sampling with replacement!!\n",
      "----------> Creating mixture 2... \n",
      "sampling with replacement!!\n",
      "----------> Creating mixture 3... \n",
      "sampling with replacement!!\n",
      "----------> Creating mixture 4... \n",
      "sampling with replacement!!\n",
      "----------> Creating mixture 5... \n",
      "sampling with replacement!!\n",
      "----------> Creating mixture 6... \n",
      "sampling with replacement!!\n",
      "----------> Creating mixture 7... \n",
      "sampling with replacement!!\n",
      "----------> Creating mixture 8... \n",
      "sampling with replacement!!\n",
      "----------> Creating mixture 9... \n",
      "sampling with replacement!!\n",
      "----------> Creating mixture 10... \n",
      "sampling with replacement!!\n",
      "----------> Creating mixture 11... \n",
      "sampling with replacement!!\n",
      "----------> Creating mixture 12... \n",
      "sampling with replacement!!\n",
      "----------> Creating mixture 13... \n",
      "sampling with replacement!!\n",
      "----------> Creating mixture 14... \n",
      "sampling with replacement!!\n",
      "----------> Creating mixture 15... \n",
      "sampling with replacement!!\n",
      "----------> Creating mixture 16... \n",
      "sampling with replacement!!\n",
      "----------> Creating mixture 17... \n",
      "sampling with replacement!!\n",
      "----------> Creating mixture 18... \n",
      "sampling with replacement!!\n",
      "----------> Creating mixture 19... \n",
      "sampling with replacement!!\n",
      "--> PROPORTION: [0.001, 0.24443617021276598, 0.09564893617021276, 0.05313829787234043, 0.6057765957446808]\n",
      "----------> Creating mixture 0... \n",
      "sampling with replacement!!\n",
      "----------> Creating mixture 1... \n",
      "sampling with replacement!!\n",
      "----------> Creating mixture 2... \n",
      "sampling with replacement!!\n",
      "----------> Creating mixture 3... \n",
      "sampling with replacement!!\n",
      "----------> Creating mixture 4... \n",
      "sampling with replacement!!\n",
      "----------> Creating mixture 5... \n",
      "sampling with replacement!!\n",
      "----------> Creating mixture 6... \n",
      "sampling with replacement!!\n",
      "----------> Creating mixture 7... \n",
      "sampling with replacement!!\n",
      "----------> Creating mixture 8... \n",
      "sampling with replacement!!\n",
      "----------> Creating mixture 9... \n",
      "sampling with replacement!!\n",
      "----------> Creating mixture 10... \n",
      "sampling with replacement!!\n",
      "----------> Creating mixture 11... \n",
      "sampling with replacement!!\n",
      "----------> Creating mixture 12... \n",
      "sampling with replacement!!\n",
      "----------> Creating mixture 13... \n",
      "sampling with replacement!!\n",
      "----------> Creating mixture 14... \n",
      "sampling with replacement!!\n",
      "----------> Creating mixture 15... \n",
      "sampling with replacement!!\n",
      "----------> Creating mixture 16... \n",
      "sampling with replacement!!\n",
      "----------> Creating mixture 17... \n",
      "sampling with replacement!!\n",
      "----------> Creating mixture 18... \n",
      "sampling with replacement!!\n",
      "----------> Creating mixture 19... \n",
      "sampling with replacement!!\n",
      "--> PROPORTION: [0, 0.2446808510638298, 0.09574468085106383, 0.053191489361702135, 0.6063829787234042]\n",
      "----------> Creating mixture 0... \n",
      "sampling with replacement!!\n",
      "----------> Creating mixture 1... \n",
      "sampling with replacement!!\n",
      "----------> Creating mixture 2... \n",
      "sampling with replacement!!\n",
      "----------> Creating mixture 3... \n",
      "sampling with replacement!!\n",
      "----------> Creating mixture 4... \n",
      "sampling with replacement!!\n",
      "----------> Creating mixture 5... \n",
      "sampling with replacement!!\n",
      "----------> Creating mixture 6... \n",
      "sampling with replacement!!\n",
      "----------> Creating mixture 7... \n",
      "sampling with replacement!!\n",
      "----------> Creating mixture 8... \n",
      "sampling with replacement!!\n",
      "----------> Creating mixture 9... \n",
      "sampling with replacement!!\n",
      "----------> Creating mixture 10... \n",
      "sampling with replacement!!\n",
      "----------> Creating mixture 11... \n",
      "sampling with replacement!!\n",
      "----------> Creating mixture 12... \n",
      "sampling with replacement!!\n",
      "----------> Creating mixture 13... \n",
      "sampling with replacement!!\n",
      "----------> Creating mixture 14... \n",
      "sampling with replacement!!\n",
      "----------> Creating mixture 15... \n",
      "sampling with replacement!!\n",
      "----------> Creating mixture 16... \n",
      "sampling with replacement!!\n",
      "----------> Creating mixture 17... \n",
      "sampling with replacement!!\n",
      "----------> Creating mixture 18... \n",
      "sampling with replacement!!\n",
      "----------> Creating mixture 19... \n",
      "sampling with replacement!!\n",
      ">>> Complete. <<< \n",
      "\n",
      "CPU times: user 1.59 s, sys: 335 ms, total: 1.92 s\n",
      "Wall time: 22min 10s\n"
     ]
    }
   ],
   "source": [
    "%%time\n",
    "# load parquet files for each celltype & count rows\n",
    "parquet_df, total_reads_per_celltype = cm.load_parquet_dataframe(parquet_path=PARQUET_PATH,\n",
    "                                                                  cell_types=CELLTYPES,\n",
    "                                                                  spark=spark,\n",
    "                                                                  verbose=True)\n",
    "\n",
    "# mix cell types for each proportion set\n",
    "cm.mix_celltypes_multiple_proportions(parquet_df=parquet_df,\n",
    "                                       total_reads_per_celltype=total_reads_per_celltype,\n",
    "                                    #    n=len(TITRATION_LIST), \n",
    "                                       n=N_REPLICATES,\n",
    "                                       cell_types=CELLTYPES, \n",
    "                                       cell_type_abridged_name=ABRIDGED_NAMES, \n",
    "                                       total_reads_to_sample=TOTAL_READS_TO_SAMPLE, \n",
    "                                       list_of_proportions=PROPORTIONS, \n",
    "                                       seed=SEED, \n",
    "                                       result_path=RESULT_PATH, \n",
    "                                       spark=spark,\n",
    "                                       verbose=False, \n",
    "                                       save=True)"
   ]
  },
  {
   "cell_type": "markdown",
   "id": "8f2cc561",
   "metadata": {
    "papermill": {
     "duration": 0.054677,
     "end_time": "2023-09-06T21:15:14.150810",
     "exception": false,
     "start_time": "2023-09-06T21:15:14.096133",
     "status": "completed"
    },
    "tags": []
   },
   "source": [
    "## Compute score matrix"
   ]
  },
  {
   "cell_type": "code",
   "execution_count": 9,
   "id": "ca3ee5e2",
   "metadata": {
    "execution": {
     "iopub.execute_input": "2023-09-06T21:15:14.263784Z",
     "iopub.status.busy": "2023-09-06T21:15:14.263359Z",
     "iopub.status.idle": "2023-09-06T21:15:14.270402Z",
     "shell.execute_reply": "2023-09-06T21:15:14.269630Z"
    },
    "papermill": {
     "duration": 0.065626,
     "end_time": "2023-09-06T21:15:14.272208",
     "exception": false,
     "start_time": "2023-09-06T21:15:14.206582",
     "status": "completed"
    },
    "tags": []
   },
   "outputs": [],
   "source": [
    "############################\n",
    "#   Parameters and paths   # \n",
    "############################\n",
    "\n",
    "FILTER_CG_COUNT = 3\n",
    "FILTER_CG_COUNT_REGION = 1\n",
    "\n",
    "REGIONS = 'deconvolution_v2.v23_conv.with_cpg_index'\n",
    "REGION_BED_COLS = [\n",
    "    'region_chr', 'region_start', 'region_end', \n",
    "    'region_cpg_index_min', 'region_cpg_index_max', 'region_id'\n",
    "]\n",
    "\n",
    "# Regions\n",
    "REGION_PATH = (\n",
    "    PROJECT_DIR + '/stage/panel_data/{regions}.bed'\n",
    ").format(regions=REGIONS)\n",
    "\n",
    "# CpG map; genomic coordinate to CpG index;\n",
    "CPG_MAP_PATH = PROJECT_DIR + '/stage/cpg_loci/cpg_loci_hg19.combined_annot.tsv.gz'\n",
    "\n",
    "#--- Where to store results\n",
    "PATH_TO_MIXTURE_DIR = EXPERIMENT_CELLTYPE_DIR + 'mixture/'\n",
    "RESULT_PATH = EXPERIMENT_CELLTYPE_DIR\n"
   ]
  },
  {
   "cell_type": "code",
   "execution_count": 10,
   "id": "2be1c59d",
   "metadata": {
    "execution": {
     "iopub.execute_input": "2023-09-06T21:15:14.383275Z",
     "iopub.status.busy": "2023-09-06T21:15:14.382780Z",
     "iopub.status.idle": "2023-09-06T21:15:14.386847Z",
     "shell.execute_reply": "2023-09-06T21:15:14.385969Z"
    },
    "papermill": {
     "duration": 0.061218,
     "end_time": "2023-09-06T21:15:14.389045",
     "exception": false,
     "start_time": "2023-09-06T21:15:14.327827",
     "status": "completed"
    },
    "tags": []
   },
   "outputs": [],
   "source": [
    "# cpg_map = pd.read_csv(CPG_MAP_PATH, usecols=['chr', 'start', 'end', 'cpg_index', 'cpg_index_hg38'], sep='\\t')"
   ]
  },
  {
   "cell_type": "code",
   "execution_count": 11,
   "id": "c996b260",
   "metadata": {
    "execution": {
     "iopub.execute_input": "2023-09-06T21:15:14.474185Z",
     "iopub.status.busy": "2023-09-06T21:15:14.473876Z",
     "iopub.status.idle": "2023-09-06T21:15:14.476325Z",
     "shell.execute_reply": "2023-09-06T21:15:14.475850Z"
    },
    "papermill": {
     "duration": 0.036049,
     "end_time": "2023-09-06T21:15:14.477565",
     "exception": false,
     "start_time": "2023-09-06T21:15:14.441516",
     "status": "completed"
    },
    "tags": []
   },
   "outputs": [],
   "source": [
    "# %%time\n",
    "# ridxs = ~cpg_map['cpg_index_hg38'].isna()\n",
    "# hg19_hg38_map = dict(itertools.zip_longest(cpg_map[ridxs]['cpg_index'], cpg_map[ridxs]['cpg_index_hg38'].astype(int)))\n",
    "# hg38_hg19_map = dict(itertools.zip_longest(cpg_map[ridxs]['cpg_index_hg38'].astype(int), cpg_map[ridxs]['cpg_index']))"
   ]
  },
  {
   "cell_type": "code",
   "execution_count": 12,
   "id": "661d2b25",
   "metadata": {
    "execution": {
     "iopub.execute_input": "2023-09-06T21:15:14.539792Z",
     "iopub.status.busy": "2023-09-06T21:15:14.539565Z",
     "iopub.status.idle": "2023-09-06T21:15:14.541879Z",
     "shell.execute_reply": "2023-09-06T21:15:14.541415Z"
    },
    "papermill": {
     "duration": 0.034748,
     "end_time": "2023-09-06T21:15:14.543034",
     "exception": false,
     "start_time": "2023-09-06T21:15:14.508286",
     "status": "completed"
    },
    "tags": []
   },
   "outputs": [],
   "source": [
    "# region_df = pd.read_csv(REGION_PATH, sep='\\t', usecols=range(0, 6), names=REGION_BED_COLS)\n",
    "\n",
    "# # region_df['region_cpg_index_max'] -= 1\n",
    "# # region_df.sort_values('region_cpg_index_min', inplace=True)\n",
    "# # region_df['region_cpg_index_min_hg38'] = region_df['region_cpg_index_min'].map(hg19_hg38_map)\n",
    "# # region_df['region_cpg_index_max_hg38'] = region_df['region_cpg_index_max'].map(hg19_hg38_map)\n",
    "\n",
    "# region_df.shape[0], region_df['region_id'].nunique()"
   ]
  },
  {
   "cell_type": "code",
   "execution_count": 13,
   "id": "87022370",
   "metadata": {
    "execution": {
     "iopub.execute_input": "2023-09-06T21:15:14.606405Z",
     "iopub.status.busy": "2023-09-06T21:15:14.606184Z",
     "iopub.status.idle": "2023-09-06T21:15:14.608323Z",
     "shell.execute_reply": "2023-09-06T21:15:14.607878Z"
    },
    "papermill": {
     "duration": 0.035234,
     "end_time": "2023-09-06T21:15:14.609503",
     "exception": false,
     "start_time": "2023-09-06T21:15:14.574269",
     "status": "completed"
    },
    "tags": []
   },
   "outputs": [],
   "source": [
    "# ridxs = ~region_df['region_cpg_index_min_hg38'].isna()\n",
    "# ridxs &= ~region_df['region_cpg_index_max_hg38'].isna()\n",
    "# region_df = region_df[ridxs].copy()\n",
    "# region_df.shape[0], region_df['region_id'].nunique()"
   ]
  },
  {
   "cell_type": "code",
   "execution_count": 14,
   "id": "7b3236c2",
   "metadata": {
    "execution": {
     "iopub.execute_input": "2023-09-06T21:15:14.672045Z",
     "iopub.status.busy": "2023-09-06T21:15:14.671812Z",
     "iopub.status.idle": "2023-09-06T21:15:14.674028Z",
     "shell.execute_reply": "2023-09-06T21:15:14.673577Z"
    },
    "papermill": {
     "duration": 0.03503,
     "end_time": "2023-09-06T21:15:14.675275",
     "exception": false,
     "start_time": "2023-09-06T21:15:14.640245",
     "status": "completed"
    },
    "tags": []
   },
   "outputs": [],
   "source": [
    "# cg_count_hg19 = region_df['region_cpg_index_max']-region_df['region_cpg_index_min'] + 1\n",
    "# cg_count_hg38 = region_df['region_cpg_index_max_hg38']-region_df['region_cpg_index_min_hg38'] + 1\n",
    "# ridxs = (cg_count_hg19==cg_count_hg38)\n",
    "# ridxs &= (cg_count_hg19>=FILTER_CG_COUNT_REGION)\n",
    "# region_df = region_df[ridxs].copy()\n",
    "# region_df.shape[0], region_df['region_id'].nunique()"
   ]
  },
  {
   "cell_type": "code",
   "execution_count": 15,
   "id": "68235d84",
   "metadata": {
    "execution": {
     "iopub.execute_input": "2023-09-06T21:15:14.738254Z",
     "iopub.status.busy": "2023-09-06T21:15:14.738024Z",
     "iopub.status.idle": "2023-09-06T21:15:14.740212Z",
     "shell.execute_reply": "2023-09-06T21:15:14.739730Z"
    },
    "papermill": {
     "duration": 0.034867,
     "end_time": "2023-09-06T21:15:14.741417",
     "exception": false,
     "start_time": "2023-09-06T21:15:14.706550",
     "status": "completed"
    },
    "tags": []
   },
   "outputs": [],
   "source": [
    "# region_df['region_cpg_index_min_hg38'] = region_df['region_cpg_index_min_hg38'].astype(int)\n",
    "# region_df['region_cpg_index_max_hg38'] = region_df['region_cpg_index_max_hg38'].astype(int)"
   ]
  },
  {
   "cell_type": "code",
   "execution_count": 16,
   "id": "582327ab",
   "metadata": {
    "execution": {
     "iopub.execute_input": "2023-09-06T21:15:14.803205Z",
     "iopub.status.busy": "2023-09-06T21:15:14.802991Z",
     "iopub.status.idle": "2023-09-06T21:15:14.805198Z",
     "shell.execute_reply": "2023-09-06T21:15:14.804753Z"
    },
    "papermill": {
     "duration": 0.03433,
     "end_time": "2023-09-06T21:15:14.806348",
     "exception": false,
     "start_time": "2023-09-06T21:15:14.772018",
     "status": "completed"
    },
    "tags": []
   },
   "outputs": [],
   "source": [
    "# ### Restrict to immune regions\n",
    "# #-------------- CHANGE HERE FOR DIFFERENT REGION SUBSET ----------------------\n",
    "# # BLUEPRINT immune regions\n",
    "# ATLAS_PATH = PROJECT_DIR + f'/output/reference/deconv_inhouse_v2.atlas.tsv.gz'\n",
    "# atlas = pd.read_csv(ATLAS_PATH, sep='\\t')\n",
    "# subset_region_set = set(atlas.region_id)\n",
    "# #-----------------------------------------------------------------------------\n",
    "\n",
    "# # filter regions down to regions of interest\n",
    "# region_df = region_df[region_df['region_id'].isin(subset_region_set)]\n",
    "# region_df.head()"
   ]
  },
  {
   "cell_type": "code",
   "execution_count": 17,
   "id": "b37d7a20",
   "metadata": {
    "execution": {
     "iopub.execute_input": "2023-09-06T21:15:14.869399Z",
     "iopub.status.busy": "2023-09-06T21:15:14.869177Z",
     "iopub.status.idle": "2023-09-06T21:57:38.515324Z",
     "shell.execute_reply": "2023-09-06T21:57:38.514688Z"
    },
    "papermill": {
     "duration": 2543.67936,
     "end_time": "2023-09-06T21:57:38.516823",
     "exception": false,
     "start_time": "2023-09-06T21:15:14.837463",
     "status": "completed"
    },
    "tags": []
   },
   "outputs": [
    {
     "name": "stdout",
     "output_type": "stream",
     "text": [
      ">>> Start computing score matrices <<< \n",
      "\n",
      "--> E2B_E1957T_E0766MONO_E0426NK_E4851NEUTRO\n",
      "--------> Computing score matrix for mix0_seed470800\n",
      "--------> Computing score matrix for mix1_seed966852\n",
      "--------> Computing score matrix for mix2_seed995826\n",
      "--------> Computing score matrix for mix3_seed796153\n",
      "--------> Computing score matrix for mix4_seed344757\n",
      "--------> Computing score matrix for mix5_seed911735\n",
      "--------> Computing score matrix for mix6_seed760126\n",
      "--------> Computing score matrix for mix7_seed746477\n",
      "--------> Computing score matrix for mix8_seed823635\n",
      "--------> Computing score matrix for mix9_seed913498\n",
      "--------> Computing score matrix for mix10_seed904203\n",
      "--------> Computing score matrix for mix11_seed52304\n",
      "--------> Computing score matrix for mix12_seed837207\n",
      "--------> Computing score matrix for mix13_seed762180\n",
      "--------> Computing score matrix for mix14_seed4427\n",
      "--------> Computing score matrix for mix15_seed816021\n",
      "--------> Computing score matrix for mix16_seed859354\n",
      "--------> Computing score matrix for mix17_seed263244\n",
      "--------> Computing score matrix for mix18_seed965215\n",
      "--------> Computing score matrix for mix19_seed454336\n",
      "\n",
      "\n",
      "--> E15B_E208T_E0814MONO_E0452NK_E5154NEUTRO\n",
      "--------> Computing score matrix for mix0_seed327469\n",
      "--------> Computing score matrix for mix1_seed942713\n",
      "--------> Computing score matrix for mix2_seed899730\n",
      "--------> Computing score matrix for mix3_seed115834\n",
      "--------> Computing score matrix for mix4_seed885610\n",
      "--------> Computing score matrix for mix5_seed381195\n",
      "--------> Computing score matrix for mix6_seed573121\n",
      "--------> Computing score matrix for mix7_seed340732\n",
      "--------> Computing score matrix for mix8_seed323110\n",
      "--------> Computing score matrix for mix9_seed40411\n",
      "--------> Computing score matrix for mix10_seed290884\n",
      "--------> Computing score matrix for mix11_seed54615\n",
      "--------> Computing score matrix for mix12_seed229926\n",
      "--------> Computing score matrix for mix13_seed414827\n",
      "--------> Computing score matrix for mix14_seed424406\n",
      "--------> Computing score matrix for mix15_seed392389\n",
      "--------> Computing score matrix for mix16_seed757798\n",
      "--------> Computing score matrix for mix17_seed600928\n",
      "--------> Computing score matrix for mix18_seed44327\n",
      "--------> Computing score matrix for mix19_seed42805\n",
      "\n",
      "\n",
      "--> E1B_E2202T_E0862MONO_E0479NK_E5457NEUTRO\n",
      "--------> Computing score matrix for mix0_seed997493\n",
      "--------> Computing score matrix for mix1_seed479596\n",
      "--------> Computing score matrix for mix2_seed228823\n",
      "--------> Computing score matrix for mix3_seed971831\n",
      "--------> Computing score matrix for mix4_seed289341\n",
      "--------> Computing score matrix for mix5_seed142973\n",
      "--------> Computing score matrix for mix6_seed823233\n",
      "--------> Computing score matrix for mix7_seed365790\n",
      "--------> Computing score matrix for mix8_seed816729\n",
      "--------> Computing score matrix for mix9_seed203631\n",
      "--------> Computing score matrix for mix10_seed36380\n",
      "--------> Computing score matrix for mix11_seed783406\n",
      "--------> Computing score matrix for mix12_seed994708\n",
      "--------> Computing score matrix for mix13_seed60323\n",
      "--------> Computing score matrix for mix14_seed241588\n",
      "--------> Computing score matrix for mix15_seed303026\n",
      "--------> Computing score matrix for mix16_seed696098\n",
      "--------> Computing score matrix for mix17_seed358335\n",
      "--------> Computing score matrix for mix18_seed573110\n",
      "--------> Computing score matrix for mix19_seed388752\n",
      "\n",
      "\n",
      "--> E08B_E2251T_E0881MONO_E0489NK_E5579NEUTRO\n",
      "--------> Computing score matrix for mix0_seed179747\n",
      "--------> Computing score matrix for mix1_seed539546\n",
      "--------> Computing score matrix for mix2_seed950413\n",
      "--------> Computing score matrix for mix3_seed202997\n",
      "--------> Computing score matrix for mix4_seed411889\n",
      "--------> Computing score matrix for mix5_seed607876\n",
      "--------> Computing score matrix for mix6_seed330186\n",
      "--------> Computing score matrix for mix7_seed222930\n",
      "--------> Computing score matrix for mix8_seed628990\n",
      "--------> Computing score matrix for mix9_seed519025\n",
      "--------> Computing score matrix for mix10_seed776683\n",
      "--------> Computing score matrix for mix11_seed710508\n",
      "--------> Computing score matrix for mix12_seed897517\n",
      "--------> Computing score matrix for mix13_seed949716\n",
      "--------> Computing score matrix for mix14_seed515738\n",
      "--------> Computing score matrix for mix15_seed759815\n",
      "--------> Computing score matrix for mix16_seed965445\n",
      "--------> Computing score matrix for mix17_seed295822\n",
      "--------> Computing score matrix for mix18_seed225164\n",
      "--------> Computing score matrix for mix19_seed232894\n",
      "\n",
      "\n",
      "--> E06B_E23T_E09MONO_E05NK_E57NEUTRO\n",
      "--------> Computing score matrix for mix0_seed394807\n",
      "--------> Computing score matrix for mix1_seed91698\n",
      "--------> Computing score matrix for mix2_seed259385\n",
      "--------> Computing score matrix for mix3_seed512999\n",
      "--------> Computing score matrix for mix4_seed129635\n",
      "--------> Computing score matrix for mix5_seed350607\n",
      "--------> Computing score matrix for mix6_seed684378\n",
      "--------> Computing score matrix for mix7_seed8190\n",
      "--------> Computing score matrix for mix8_seed779725\n",
      "--------> Computing score matrix for mix9_seed415085\n",
      "--------> Computing score matrix for mix10_seed444818\n",
      "--------> Computing score matrix for mix11_seed199195\n",
      "--------> Computing score matrix for mix12_seed918219\n",
      "--------> Computing score matrix for mix13_seed510736\n",
      "--------> Computing score matrix for mix14_seed500261\n",
      "--------> Computing score matrix for mix15_seed956732\n",
      "--------> Computing score matrix for mix16_seed921572\n",
      "--------> Computing score matrix for mix17_seed937247\n",
      "--------> Computing score matrix for mix18_seed110110\n",
      "--------> Computing score matrix for mix19_seed564768\n",
      "\n",
      "\n",
      "--> E04B_E2349T_E0919MONO_E0511NK_E5821NEUTRO\n",
      "--------> Computing score matrix for mix0_seed778556\n",
      "--------> Computing score matrix for mix1_seed119019\n",
      "--------> Computing score matrix for mix2_seed810366\n",
      "--------> Computing score matrix for mix3_seed869675\n",
      "--------> Computing score matrix for mix4_seed408609\n",
      "--------> Computing score matrix for mix5_seed759534\n",
      "--------> Computing score matrix for mix6_seed139682\n",
      "--------> Computing score matrix for mix7_seed362934\n",
      "--------> Computing score matrix for mix8_seed349169\n",
      "--------> Computing score matrix for mix9_seed357510\n",
      "--------> Computing score matrix for mix10_seed67133\n",
      "--------> Computing score matrix for mix11_seed500109\n",
      "--------> Computing score matrix for mix12_seed837330\n",
      "--------> Computing score matrix for mix13_seed972082\n",
      "--------> Computing score matrix for mix14_seed636923\n",
      "--------> Computing score matrix for mix15_seed873445\n",
      "--------> Computing score matrix for mix16_seed313816\n",
      "--------> Computing score matrix for mix17_seed608328\n",
      "--------> Computing score matrix for mix18_seed58802\n",
      "--------> Computing score matrix for mix19_seed782912\n",
      "\n",
      "\n",
      "--> E02B_E2398T_E0938MONO_E0521NK_E5943NEUTRO\n",
      "--------> Computing score matrix for mix0_seed933600\n",
      "--------> Computing score matrix for mix1_seed428927\n",
      "--------> Computing score matrix for mix2_seed814759\n",
      "--------> Computing score matrix for mix3_seed819227\n",
      "--------> Computing score matrix for mix4_seed270332\n",
      "--------> Computing score matrix for mix5_seed222732\n",
      "--------> Computing score matrix for mix6_seed306825\n",
      "--------> Computing score matrix for mix7_seed950787\n",
      "--------> Computing score matrix for mix8_seed496575\n",
      "--------> Computing score matrix for mix9_seed590288\n",
      "--------> Computing score matrix for mix10_seed827096\n",
      "--------> Computing score matrix for mix11_seed896360\n",
      "--------> Computing score matrix for mix12_seed358536\n",
      "--------> Computing score matrix for mix13_seed709589\n",
      "--------> Computing score matrix for mix14_seed441282\n",
      "--------> Computing score matrix for mix15_seed166028\n",
      "--------> Computing score matrix for mix16_seed418991\n",
      "--------> Computing score matrix for mix17_seed669616\n",
      "--------> Computing score matrix for mix18_seed237520\n",
      "--------> Computing score matrix for mix19_seed351999\n",
      "\n",
      "\n",
      "--> E01B_E2422T_E0948MONO_E0527NK_E6003NEUTRO\n",
      "--------> Computing score matrix for mix0_seed132847\n",
      "--------> Computing score matrix for mix1_seed126869\n",
      "--------> Computing score matrix for mix2_seed504808\n",
      "--------> Computing score matrix for mix3_seed62714\n",
      "--------> Computing score matrix for mix4_seed709570\n",
      "--------> Computing score matrix for mix5_seed648025\n",
      "--------> Computing score matrix for mix6_seed57003\n",
      "--------> Computing score matrix for mix7_seed922333\n",
      "--------> Computing score matrix for mix8_seed732575\n",
      "--------> Computing score matrix for mix9_seed604723\n",
      "--------> Computing score matrix for mix10_seed886210\n",
      "--------> Computing score matrix for mix11_seed288402\n",
      "--------> Computing score matrix for mix12_seed226581\n",
      "--------> Computing score matrix for mix13_seed203188\n",
      "--------> Computing score matrix for mix14_seed253052\n",
      "--------> Computing score matrix for mix15_seed8805\n",
      "--------> Computing score matrix for mix16_seed585491\n",
      "--------> Computing score matrix for mix17_seed754192\n",
      "--------> Computing score matrix for mix18_seed43717\n",
      "--------> Computing score matrix for mix19_seed946289\n",
      "\n",
      "\n",
      "--> E008B_E2427T_E095MONO_E0528NK_E6015NEUTRO\n",
      "--------> Computing score matrix for mix0_seed730472\n",
      "--------> Computing score matrix for mix1_seed799085\n",
      "--------> Computing score matrix for mix2_seed824908\n",
      "--------> Computing score matrix for mix3_seed35356\n",
      "--------> Computing score matrix for mix4_seed446376\n",
      "--------> Computing score matrix for mix5_seed855752\n",
      "--------> Computing score matrix for mix6_seed977176\n",
      "--------> Computing score matrix for mix7_seed957129\n",
      "--------> Computing score matrix for mix8_seed870459\n",
      "--------> Computing score matrix for mix9_seed169567\n",
      "--------> Computing score matrix for mix10_seed349005\n",
      "--------> Computing score matrix for mix11_seed345138\n",
      "--------> Computing score matrix for mix12_seed18159\n",
      "--------> Computing score matrix for mix13_seed649160\n",
      "--------> Computing score matrix for mix14_seed397897\n",
      "--------> Computing score matrix for mix15_seed51768\n",
      "--------> Computing score matrix for mix16_seed652330\n",
      "--------> Computing score matrix for mix17_seed309227\n",
      "--------> Computing score matrix for mix18_seed866176\n",
      "--------> Computing score matrix for mix19_seed62078\n",
      "\n",
      "\n",
      "--> E006B_E2432T_E0952MONO_E0529NK_E6027NEUTRO\n",
      "--------> Computing score matrix for mix0_seed79780\n",
      "--------> Computing score matrix for mix1_seed464872\n",
      "--------> Computing score matrix for mix2_seed620943\n",
      "--------> Computing score matrix for mix3_seed100571\n",
      "--------> Computing score matrix for mix4_seed561928\n",
      "--------> Computing score matrix for mix5_seed475921\n",
      "--------> Computing score matrix for mix6_seed472947\n",
      "--------> Computing score matrix for mix7_seed165049\n",
      "--------> Computing score matrix for mix8_seed180339\n",
      "--------> Computing score matrix for mix9_seed980836\n",
      "--------> Computing score matrix for mix10_seed279683\n",
      "--------> Computing score matrix for mix11_seed270246\n",
      "--------> Computing score matrix for mix12_seed915111\n",
      "--------> Computing score matrix for mix13_seed125829\n",
      "--------> Computing score matrix for mix14_seed898630\n",
      "--------> Computing score matrix for mix15_seed998298\n",
      "--------> Computing score matrix for mix16_seed980322\n",
      "--------> Computing score matrix for mix17_seed844121\n",
      "--------> Computing score matrix for mix18_seed47421\n",
      "--------> Computing score matrix for mix19_seed532266\n",
      "\n",
      "\n",
      "--> E004B_E2437T_E0954MONO_E053NK_E604NEUTRO\n",
      "--------> Computing score matrix for mix0_seed641231\n",
      "--------> Computing score matrix for mix1_seed747508\n",
      "--------> Computing score matrix for mix2_seed118499\n",
      "--------> Computing score matrix for mix3_seed88247\n",
      "--------> Computing score matrix for mix4_seed623111\n",
      "--------> Computing score matrix for mix5_seed534084\n",
      "--------> Computing score matrix for mix6_seed536255\n",
      "--------> Computing score matrix for mix7_seed20968\n",
      "--------> Computing score matrix for mix8_seed506323\n",
      "--------> Computing score matrix for mix9_seed965956\n",
      "--------> Computing score matrix for mix10_seed174811\n",
      "--------> Computing score matrix for mix11_seed680928\n",
      "--------> Computing score matrix for mix12_seed346965\n",
      "--------> Computing score matrix for mix13_seed293045\n",
      "--------> Computing score matrix for mix14_seed694779\n",
      "--------> Computing score matrix for mix15_seed875846\n",
      "--------> Computing score matrix for mix16_seed250263\n",
      "--------> Computing score matrix for mix17_seed75184\n",
      "--------> Computing score matrix for mix18_seed555744\n",
      "--------> Computing score matrix for mix19_seed662373\n",
      "\n",
      "\n",
      "--> E002B_E2442T_E0956MONO_E0531NK_E6052NEUTRO\n",
      "--------> Computing score matrix for mix0_seed170425\n",
      "--------> Computing score matrix for mix1_seed287214\n",
      "--------> Computing score matrix for mix2_seed127448\n",
      "--------> Computing score matrix for mix3_seed519752\n",
      "--------> Computing score matrix for mix4_seed891717\n",
      "--------> Computing score matrix for mix5_seed809809\n",
      "--------> Computing score matrix for mix6_seed654894\n",
      "--------> Computing score matrix for mix7_seed934408\n",
      "--------> Computing score matrix for mix8_seed690064\n",
      "--------> Computing score matrix for mix9_seed545577\n",
      "--------> Computing score matrix for mix10_seed591570\n",
      "--------> Computing score matrix for mix11_seed186616\n",
      "--------> Computing score matrix for mix12_seed840210\n",
      "--------> Computing score matrix for mix13_seed948059\n",
      "--------> Computing score matrix for mix14_seed139203\n",
      "--------> Computing score matrix for mix15_seed634896\n",
      "--------> Computing score matrix for mix16_seed239642\n",
      "--------> Computing score matrix for mix17_seed88850\n",
      "--------> Computing score matrix for mix18_seed93528\n",
      "--------> Computing score matrix for mix19_seed16509\n",
      "\n",
      "\n",
      "--> E001B_E2444T_E0956MONO_E0531NK_E6058NEUTRO\n",
      "--------> Computing score matrix for mix0_seed284428\n",
      "--------> Computing score matrix for mix1_seed984362\n",
      "--------> Computing score matrix for mix2_seed99641\n",
      "--------> Computing score matrix for mix3_seed33648\n",
      "--------> Computing score matrix for mix4_seed88744\n",
      "--------> Computing score matrix for mix5_seed58786\n",
      "--------> Computing score matrix for mix6_seed314156\n",
      "--------> Computing score matrix for mix7_seed398555\n",
      "--------> Computing score matrix for mix8_seed356510\n",
      "--------> Computing score matrix for mix9_seed779564\n",
      "--------> Computing score matrix for mix10_seed618092\n",
      "--------> Computing score matrix for mix11_seed853391\n",
      "--------> Computing score matrix for mix12_seed699373\n",
      "--------> Computing score matrix for mix13_seed294117\n",
      "--------> Computing score matrix for mix14_seed930971\n",
      "--------> Computing score matrix for mix15_seed641038\n",
      "--------> Computing score matrix for mix16_seed802607\n",
      "--------> Computing score matrix for mix17_seed180881\n",
      "--------> Computing score matrix for mix18_seed655677\n",
      "--------> Computing score matrix for mix19_seed596630\n",
      "\n",
      "\n",
      "--> EB_E2447T_E0957MONO_E0532NK_E6064NEUTRO\n",
      "--------> Computing score matrix for mix0_seed710180\n",
      "--------> Computing score matrix for mix1_seed278790\n",
      "--------> Computing score matrix for mix2_seed918832\n",
      "--------> Computing score matrix for mix3_seed537476\n",
      "--------> Computing score matrix for mix4_seed536639\n",
      "--------> Computing score matrix for mix5_seed336297\n",
      "--------> Computing score matrix for mix6_seed56359\n",
      "--------> Computing score matrix for mix7_seed572026\n",
      "--------> Computing score matrix for mix8_seed619391\n",
      "--------> Computing score matrix for mix9_seed632208\n",
      "--------> Computing score matrix for mix10_seed936712\n",
      "--------> Computing score matrix for mix11_seed596211\n",
      "--------> Computing score matrix for mix12_seed827111\n",
      "--------> Computing score matrix for mix13_seed592067\n",
      "--------> Computing score matrix for mix14_seed752056\n",
      "--------> Computing score matrix for mix15_seed358011\n",
      "--------> Computing score matrix for mix16_seed211466\n",
      "--------> Computing score matrix for mix17_seed532467\n",
      "--------> Computing score matrix for mix18_seed378457\n",
      "--------> Computing score matrix for mix19_seed500124\n",
      "\n",
      "\n",
      ">>> Complete. <<< \n",
      "\n",
      "CPU times: user 16 s, sys: 1.21 s, total: 17.2 s\n",
      "Wall time: 42min 23s\n"
     ]
    }
   ],
   "source": [
    "%%time\n",
    "\n",
    "PAT_COLS = [\n",
    "    'molecule_id', 'chr', 'number_molecules',\n",
    "    'cpg_index_min', 'cpg_index_max', 'pat_string', 'region_id', 'region_cpg_index_min', 'region_cpg_index_max'\n",
    "]\n",
    "\n",
    "QUANTILES = [0.1, 0.25, 0.75, 0.9]\n",
    "KMERS = [1, 3, 4]\n",
    "RATES_LEQ = [0.25]\n",
    "RATES_GEQ = [0.75]\n",
    "\n",
    "RETURN_SCHEMA = StructType()\\\n",
    "    .add('region_id', 'string')\\\n",
    "    .add('number_molecules', 'integer')\\\n",
    "    .add('meth_k1', 'integer')\\\n",
    "    .add('unmeth_k1', 'integer')\\\n",
    "    .add('total_k1', 'integer')\\\n",
    "    .add('meth_k3', 'integer')\\\n",
    "    .add('unmeth_k3', 'integer')\\\n",
    "    .add('total_k3', 'integer')\\\n",
    "    .add('meth_k4', 'integer')\\\n",
    "    .add('unmeth_k4', 'integer')\\\n",
    "    .add('total_k4', 'integer')\\\n",
    "    .add('frac_alpha_leq_25pct', 'float')\\\n",
    "    .add('frac_alpha_geq_75pct', 'float')\n",
    "\n",
    "compute_frag_scores_udf = sm.compute_frag_scores(cpg_number_cutoff=FILTER_CG_COUNT, schema=RETURN_SCHEMA, kmers=KMERS, rates_leq=RATES_LEQ, rates_geq=RATES_GEQ)\n",
    "\n",
    "\n",
    "# compute methyl score for are parquet files\n",
    "sm.score_matrix_from_mixture_directory(path_to_mixture_dir = PATH_TO_MIXTURE_DIR, \n",
    "                                       result_path = RESULT_PATH, \n",
    "                                       pat_cols = PAT_COLS,  \n",
    "                                       batch_size = 20, \n",
    "                                       schema = RETURN_SCHEMA, \n",
    "                                       spark=spark,\n",
    "                                       compute_frag_scores_udf=compute_frag_scores_udf,\n",
    "                                       save=True, \n",
    "                                       verbose=False)"
   ]
  },
  {
   "cell_type": "markdown",
   "id": "f9380bf6",
   "metadata": {
    "papermill": {
     "duration": 0.044406,
     "end_time": "2023-09-06T21:57:38.606611",
     "exception": false,
     "start_time": "2023-09-06T21:57:38.562205",
     "status": "completed"
    },
    "tags": []
   },
   "source": [
    "## Deconvolution"
   ]
  },
  {
   "cell_type": "code",
   "execution_count": 9,
   "id": "f23009ac",
   "metadata": {
    "papermill": {
     "duration": 0.04935,
     "end_time": "2023-09-06T21:57:38.699731",
     "exception": false,
     "start_time": "2023-09-06T21:57:38.650381",
     "status": "completed"
    },
    "tags": []
   },
   "outputs": [],
   "source": [
    "############################\n",
    "#   Parameters and paths   # \n",
    "############################\n",
    "\n",
    "FILTER_COV = 20\n",
    "\n",
    "SCORE_VAR = 'frac_alpha_leq_25pct'\n",
    "\n",
    "# Reference matrix\n",
    "ATLAS_PATH = PROJECT_DIR + 'output/reference/deconv_inhouse_v2.t_combined.atlas.tsv.gz'\n",
    "REGION_PATH = PROJECT_DIR + 'output/reference/deconv_inhouse_v2.t_combined.region_to_ref_celltype.tsv.gz'\n",
    "\n",
    "# Methylation score matrix\n",
    "SCORE_DIR = EXPERIMENT_CELLTYPE_DIR + 'methyl_score/'\n"
   ]
  },
  {
   "cell_type": "code",
   "execution_count": 10,
   "id": "794ab705",
   "metadata": {
    "papermill": {
     "duration": 0.05969,
     "end_time": "2023-09-06T21:57:38.803930",
     "exception": false,
     "start_time": "2023-09-06T21:57:38.744240",
     "status": "completed"
    },
    "tags": []
   },
   "outputs": [
    {
     "data": {
      "text/plain": [
       "(280, 9)"
      ]
     },
     "execution_count": 10,
     "metadata": {},
     "output_type": "execute_result"
    }
   ],
   "source": [
    "atlas = pd.read_csv(ATLAS_PATH, sep='\\t',index_col=None)\n",
    "atlas = atlas.set_index('region_id')\n",
    "atlas.columns.name = 'ref_celltype'\n",
    "atlas.shape\n",
    "\n",
    "ref_region_df = pd.read_csv(REGION_PATH, sep='\\t')\n",
    "\n",
    "atlas = atlas.loc[ref_region_df['region_id'], :].copy()\n",
    "atlas.shape"
   ]
  },
  {
   "cell_type": "code",
   "execution_count": 11,
   "id": "de4ed7b4",
   "metadata": {
    "papermill": {
     "duration": 0.047968,
     "end_time": "2023-09-06T21:57:38.895876",
     "exception": false,
     "start_time": "2023-09-06T21:57:38.847908",
     "status": "completed"
    },
    "tags": []
   },
   "outputs": [],
   "source": [
    "# ref_region_df['ref_celltype'][ref_region_df['ref_celltype'] == 'immune_cd4_t'] = 'immune_cd4'\n",
    "# ref_region_df['ref_celltype'][ref_region_df['ref_celltype'] == 'immune_cd8_t'] = 'immune_cd8'"
   ]
  },
  {
   "cell_type": "code",
   "execution_count": 12,
   "id": "d5ec28ba",
   "metadata": {
    "papermill": {
     "duration": 4.519725,
     "end_time": "2023-09-06T21:57:43.488993",
     "exception": false,
     "start_time": "2023-09-06T21:57:38.969268",
     "status": "completed"
    },
    "tags": []
   },
   "outputs": [
    {
     "name": "stdout",
     "output_type": "stream",
     "text": [
      "CPU times: user 4.43 s, sys: 188 ms, total: 4.62 s\n",
      "Wall time: 4.64 s\n"
     ]
    }
   ],
   "source": [
    "%%time\n",
    "\n",
    "deconvolution_nnls = dcnv.compute_deconvolution_from_methyl_score_dir_nnls(path_to_methyl_score_dir=SCORE_DIR, \n",
    "                                                                          score_type=SCORE_VAR, \n",
    "                                                                          atlas=atlas, \n",
    "                                                                          match=False)\n",
    "\n",
    "deconvolution_naive = dcnv.compute_deconvolution_from_methyl_score_dir_naive(path_to_methyl_score_dir=SCORE_DIR, \n",
    "                                                                             filter_cov=FILTER_COV, \n",
    "                                                                             score_var=SCORE_VAR, \n",
    "                                                                             ref_region_df=ref_region_df)\n"
   ]
  },
  {
   "cell_type": "code",
   "execution_count": 13,
   "id": "cf578c24",
   "metadata": {
    "papermill": {
     "duration": 0.435326,
     "end_time": "2023-09-06T21:57:43.969055",
     "exception": false,
     "start_time": "2023-09-06T21:57:43.533729",
     "status": "completed"
    },
    "tags": []
   },
   "outputs": [
    {
     "data": {
      "image/png": "[encoded data removed]",
      "text/plain": [
       "<Figure size 864x432 with 1 Axes>"
      ]
     },
     "metadata": {
      "needs_background": "light"
     },
     "output_type": "display_data"
    }
   ],
   "source": [
    "dcnv.boxplot_titration(list_of_deconvolution_dfs=deconvolution_naive,\n",
    "                      cell_type=TITRATING_CELLTYPE_ATLAS,\n",
    "                      true_proportions=TITRATION_LIST,\n",
    "                      deconvolution_method_name='naive'\n",
    "                      )"
   ]
  },
  {
   "cell_type": "code",
   "execution_count": 14,
   "id": "0ef06115",
   "metadata": {
    "papermill": {
     "duration": 0.49161,
     "end_time": "2023-09-06T21:57:44.506568",
     "exception": false,
     "start_time": "2023-09-06T21:57:44.014958",
     "status": "completed"
    },
    "tags": []
   },
   "outputs": [
    {
     "data": {
      "image/png": "[encoded data removed]",
      "text/plain": [
       "<Figure size 864x432 with 1 Axes>"
      ]
     },
     "metadata": {
      "needs_background": "light"
     },
     "output_type": "display_data"
    }
   ],
   "source": [
    "dcnv.boxplot_titration(list_of_deconvolution_dfs=deconvolution_nnls,\n",
    "                      cell_type=TITRATING_CELLTYPE_ATLAS,\n",
    "                      true_proportions=TITRATION_LIST,\n",
    "                      deconvolution_method_name='nnls'\n",
    "                      )"
   ]
  },
  {
   "cell_type": "code",
   "execution_count": 15,
   "id": "28560e72",
   "metadata": {
    "papermill": {
     "duration": 1.010459,
     "end_time": "2023-09-06T21:57:45.563824",
     "exception": false,
     "start_time": "2023-09-06T21:57:44.553365",
     "status": "completed"
    },
    "tags": []
   },
   "outputs": [
    {
     "data": {
      "image/png": "[encoded data removed]",
      "text/plain": [
       "<Figure size 720x720 with 14 Axes>"
      ]
     },
     "metadata": {
      "needs_background": "light"
     },
     "output_type": "display_data"
    }
   ],
   "source": [
    "dcnv.boxplot_titration_zoom(list_of_deconvolution_dfs=deconvolution_naive,\n",
    "                      cell_type=TITRATING_CELLTYPE_ATLAS,\n",
    "                      true_proportions=TITRATION_LIST,\n",
    "                      deconvolution_method_name='naive'\n",
    "                      )"
   ]
  },
  {
   "cell_type": "code",
   "execution_count": 16,
   "id": "4dd7de50",
   "metadata": {
    "papermill": {
     "duration": 1.022774,
     "end_time": "2023-09-06T21:57:46.633632",
     "exception": false,
     "start_time": "2023-09-06T21:57:45.610858",
     "status": "completed"
    },
    "tags": []
   },
   "outputs": [
    {
     "data": {
      "image/png": "[encoded data removed]",
      "text/plain": [
       "<Figure size 720x720 with 14 Axes>"
      ]
     },
     "metadata": {
      "needs_background": "light"
     },
     "output_type": "display_data"
    }
   ],
   "source": [
    "dcnv.boxplot_titration_zoom(list_of_deconvolution_dfs=deconvolution_nnls,\n",
    "                      cell_type=TITRATING_CELLTYPE_ATLAS,\n",
    "                      true_proportions=TITRATION_LIST,\n",
    "                      deconvolution_method_name='nnls'\n",
    "                      )"
   ]
  },
  {
   "cell_type": "code",
   "execution_count": 25,
   "id": "0e789415",
   "metadata": {
    "papermill": {
     "duration": 0.046185,
     "end_time": "2023-09-06T21:57:46.727027",
     "exception": false,
     "start_time": "2023-09-06T21:57:46.680842",
     "status": "completed"
    },
    "tags": []
   },
   "outputs": [
    {
     "name": "stdout",
     "output_type": "stream",
     "text": [
      "CPU times: user 8.64 s, sys: 39.7 ms, total: 8.68 s\n",
      "Wall time: 8.68 s\n"
     ]
    }
   ],
   "source": [
    "%%time\n",
    "\n",
    "CELLTYPES = ['Blood-B',\n",
    "             'Blood-T',\n",
    "            'Blood-NK',\n",
    "            'Blood-Mono+Macro',\n",
    "            'Blood-Granul']\n",
    "\n",
    "# load score data from all cell types\n",
    "deconvolution_nnls = []\n",
    "\n",
    "# TITRATION_LIST = teff_titrating_proprotions\n",
    "SCORE_VAR = 'frac_alpha_leq_25pct'\n",
    "FILTER_COV = 20\n",
    "\n",
    "for celltype in CELLTYPES: \n",
    "    EXPERIMENT_NAME = f'{celltype}-{BACKGROUND}/'            # <-- iterate over this\n",
    "    EXPERIMENT_CELLTYPE_DIR = EXPERIMENT_DIR + f'{EXPERIMENT_NAME}/'\n",
    "    SCORE_DIR = EXPERIMENT_CELLTYPE_DIR + 'methyl_score/'\n",
    "\n",
    "    # iterate nnls deconvolition on each score_df\n",
    "    deconv_nnls = dcnv.compute_deconvolution_from_methyl_score_dir_nnls(path_to_methyl_score_dir=SCORE_DIR, \n",
    "                                                                          score_type=SCORE_VAR, \n",
    "                                                                          atlas=atlas, \n",
    "                                                                          match=False)\n",
    "    \n",
    "    deconvolution_nnls.append(deconv_nnls)"
   ]
  },
  {
   "cell_type": "code",
   "execution_count": 26,
   "id": "c5dc330e",
   "metadata": {
    "papermill": {
     "duration": 0.045478,
     "end_time": "2023-09-06T21:57:46.818276",
     "exception": false,
     "start_time": "2023-09-06T21:57:46.772798",
     "status": "completed"
    },
    "tags": []
   },
   "outputs": [],
   "source": [
    "sns.set_context('talk')"
   ]
  },
  {
   "cell_type": "code",
   "execution_count": 27,
   "id": "cdb7f28f-6e6f-4d6c-83ad-2a86fd0abf06",
   "metadata": {
    "tags": []
   },
   "outputs": [
    {
     "data": {
      "text/plain": [
       "<module 'helper' from '/analysis/gh-msun/projects/2023_06_26_SRT_deconvolution_MS/scripts/helper.py'>"
      ]
     },
     "execution_count": 27,
     "metadata": {},
     "output_type": "execute_result"
    }
   ],
   "source": [
    "importlib.reload(cm)\n",
    "importlib.reload(sm)\n",
    "importlib.reload(dcnv)\n",
    "importlib.reload(hlpr)"
   ]
  },
  {
   "cell_type": "code",
   "execution_count": 28,
   "id": "2b9be7d0-428e-401f-a3ed-63fb622f6dd3",
   "metadata": {
    "tags": []
   },
   "outputs": [
    {
     "data": {
      "image/png": "[encoded data removed]",
      "text/plain": [
       "<Figure size 432x288 with 1 Axes>"
      ]
     },
     "metadata": {
      "needs_background": "light"
     },
     "output_type": "display_data"
    }
   ],
   "source": [
    "# t effector, t reg order must follow the order in which the predictions were made\n",
    "dcnv.lod95_detect_plot(names=['B', 'T', 'NK', 'Mono', 'Neutro'],\n",
    "                  titrating_celltypes = ['immune_b', 'immune_t', 'immune_nk', 'immune_dend_plus_macro_plus_mono', 'immune_neutro'], \n",
    "                  titrating_celltype_proportion = TITRATION_LIST, \n",
    "                  deconvolution_preds = deconvolution_nnls,\n",
    "                  xlim=0.2,\n",
    "                  detection_threshold = 0.005, \n",
    "                  lod=0.95)"
   ]
  },
  {
   "cell_type": "code",
   "execution_count": 29,
   "id": "bf4ab1fb-f032-465d-806a-18a8baa5f889",
   "metadata": {
    "tags": []
   },
   "outputs": [
    {
     "data": {
      "image/png": "[encoded data removed]",
      "text/plain": [
       "<Figure size 432x288 with 1 Axes>"
      ]
     },
     "metadata": {
      "needs_background": "light"
     },
     "output_type": "display_data"
    }
   ],
   "source": [
    "dcnv.lod95_within_proportion_plot(names=['B', 'T', 'NK', 'Mono', 'Neutro'],\n",
    "                  titrating_celltypes = ['immune_b', 'immune_t', 'immune_nk', 'immune_dend_plus_macro_plus_mono', 'immune_neutro'], \n",
    "                              titrating_celltype_proportion = TITRATION_LIST, \n",
    "                              deconvolution_preds = deconvolution_nnls, \n",
    "                              xlim=0.2,\n",
    "                              tolerance = 0.3, \n",
    "                              lod=0.95)"
   ]
  },
  {
   "cell_type": "code",
   "execution_count": null,
   "id": "8873c8ee-30d2-474e-b7fe-8a2abb1b18a5",
   "metadata": {},
   "outputs": [],
   "source": []
  }
 ],
 "metadata": {
  "kernelspec": {
   "display_name": "Python 3",
   "language": "python",
   "name": "python3"
  },
  "language_info": {
   "codemirror_mode": {
    "name": "ipython",
    "version": 3
   },
   "file_extension": ".py",
   "mimetype": "text/x-python",
   "name": "python",
   "nbconvert_exporter": "python",
   "pygments_lexer": "ipython3",
   "version": "3.7.8"
  },
  "papermill": {
   "default_parameters": {},
   "duration": 3892.153565,
   "end_time": "2023-09-06T21:57:47.380858",
   "environment_variables": {},
   "exception": null,
   "input_path": "/analysis/gh-msun/projects/2023_06_26_SRT_deconvolution_MS//notebooks/titration/02_titration_experiment_loyfer_T_combined.ipynb",
   "output_path": "/analysis/gh-msun/projects/2023_06_26_SRT_deconvolution_MS//notebooks/titration/loyfer_new_wholeblood/titration_B.ipynb",
   "parameters": {
    "ABRIDGED_NAMES": [
     "B",
     "T",
     "MONO",
     "NK",
     "NEUTRO"
    ],
    "BACKGROUND": "wholeblood",
    "CELLTYPES": [
     "Blood-B",
     "Blood-T",
     "Blood-Mono+Macro",
     "Blood-NK",
     "Blood-Granul"
    ],
    "EXPERIMENT": "loyfer_new",
    "N_REPLICATES": 20,
    "PROJECT_SLUG": "2023_06_26_SRT_deconvolution_MS",
    "ROOT_DIR": "/analysis/gh-msun/",
    "SEED": 83723,
    "TITRATING_CELLTYPE": "Blood-B",
    "TITRATING_CELLTYPE_ATLAS": "immune_b",
    "TITRATION_LIST": [
     0.2,
     0.15,
     0.1,
     0.08,
     0.06,
     0.04,
     0.02,
     0.01,
     0.008,
     0.006,
     0.004,
     0.002,
     0.001,
     0
    ],
    "TOTAL_READS_TO_SAMPLE": 1000000,
    "WHOLE_BLOOD_ABUNDANCE": {
     "Blood-B": 0.06,
     "Blood-Granul": 0.57,
     "Blood-Mono+Macro": 0.09,
     "Blood-NK": 0.05,
     "Blood-T": 0.23
    }
   },
   "start_time": "2023-09-06T20:52:55.227293",
   "version": "2.4.0"
  }
 },
 "nbformat": 4,
 "nbformat_minor": 5
}
