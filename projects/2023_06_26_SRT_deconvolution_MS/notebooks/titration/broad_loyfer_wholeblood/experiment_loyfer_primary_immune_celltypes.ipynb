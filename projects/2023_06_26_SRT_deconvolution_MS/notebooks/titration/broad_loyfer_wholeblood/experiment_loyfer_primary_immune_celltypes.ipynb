{
 "cells": [
  {
   "cell_type": "code",
   "execution_count": 1,
   "id": "61ca502e-2efc-4f63-b11b-a4f45a5d7b25",
   "metadata": {
    "tags": []
   },
   "outputs": [],
   "source": [
    "import papermill as pm\n",
    "import sys\n",
    "import os"
   ]
  },
  {
   "cell_type": "code",
   "execution_count": 2,
   "id": "c1169b8c-8c53-45b3-b49a-7739f311750b",
   "metadata": {},
   "outputs": [],
   "source": [
    "#---Local paths---#\n",
    "ROOT_DIR = '/analysis/gh-msun/'\n",
    "PROJECT_SLUG = '2023_06_26_SRT_deconvolution_MS'\n",
    "PROJECT_DIR = ROOT_DIR + f'projects/{PROJECT_SLUG}/'\n",
    "\n",
    "#---Load custom scripts---#\n",
    "SCRIPT_DIR = PROJECT_DIR + 'scripts/'\n",
    "sys.path.append(SCRIPT_DIR)\n",
    "\n",
    "import helper as hlpr\n",
    "\n",
    "EXPERIMENT = 'broad_loyfer'\n",
    "SEED = 888 # one see for the entire titration experiment\n",
    "CELLTYPES = ['Blood-B', 'Blood-T', 'Blood-Mono+Macro', 'Blood-NK', 'Blood-Granul']\n",
    "ABRIDGED_NAMES = ['B', 'T', 'MONO', 'NK', 'NEUTRO']\n",
    "CELLTYPE_ATLAS = ['immune_b', 'immune_t', 'immune_dend_plus_macro_plus_mono', 'immune_nk', 'immune_neutro']\n",
    "BACKGROUND = 'wholeblood'\n",
    "TOTAL_READS_TO_SAMPLE = 1000000\n",
    "N_REPLICATES = 20\n",
    "CELLTYPES = CELLTYPES\n",
    "TITRATION_LIST = [0.2, 0.15, 0.10, 0.08, 0.06, 0.04, 0.02, 0.01, \n",
    "                   0.008, 0.006, 0.004, 0.002, 0.001, 0]\n",
    "WHOLE_BLOOD_ABUNDANCE = {'Blood-B':0.06,\n",
    "                         'Blood-Mono+Macro':0.09,\n",
    "                         'Blood-Granul':0.57,\n",
    "                         'Blood-T':0.23,\n",
    "                         'Blood-NK':0.05}\n",
    "\n",
    "EXPERIMENT_NAME = f'{EXPERIMENT}_{BACKGROUND}'\n",
    "PATH_TO_NOTEBOOK = PROJECT_DIR + '/notebooks/titration/02_titration_experiment_loyfer_T_combined.ipynb'\n",
    "PATH_TO_OUTPUT = PROJECT_DIR + f'/notebooks/titration/{EXPERIMENT_NAME}/' \n",
    "\n",
    "# should use atlas that is t-cell combined"
   ]
  },
  {
   "cell_type": "code",
   "execution_count": null,
   "id": "95cb32a2-8895-427d-bab5-c27c79714df4",
   "metadata": {},
   "outputs": [
    {
     "name": "stderr",
     "output_type": "stream",
     "text": [
      "Black is not installed, parameters wont be formatted\n"
     ]
    },
    {
     "name": "stdout",
     "output_type": "stream",
     "text": [
      "--> Running titration experiment for: B\n"
     ]
    },
    {
     "data": {
      "application/vnd.jupyter.widget-view+json": {
       "model_id": "1b9156d8d42546e3985129960d9ec2d6",
       "version_major": 2,
       "version_minor": 0
      },
      "text/plain": [
       "Executing:   0%|          | 0/31 [00:00<?, ?cell/s]"
      ]
     },
     "metadata": {},
     "output_type": "display_data"
    },
    {
     "name": "stderr",
     "output_type": "stream",
     "text": [
      "Black is not installed, parameters wont be formatted\n"
     ]
    },
    {
     "name": "stdout",
     "output_type": "stream",
     "text": [
      "--> Running titration experiment for: T\n"
     ]
    },
    {
     "data": {
      "application/vnd.jupyter.widget-view+json": {
       "model_id": "181b0e86d9354cf3929565df8fd99b00",
       "version_major": 2,
       "version_minor": 0
      },
      "text/plain": [
       "Executing:   0%|          | 0/31 [00:00<?, ?cell/s]"
      ]
     },
     "metadata": {},
     "output_type": "display_data"
    }
   ],
   "source": [
    "# if output path doesn't exist create\n",
    "if not os.path.exists(PATH_TO_OUTPUT):\n",
    "    os.mkdir(PATH_TO_OUTPUT)\n",
    "\n",
    "# assign parameters\n",
    "n_celltypes = len(CELLTYPES)\n",
    "seeds = hlpr.one_to_many_seeds(SEED, n_celltypes) \n",
    "\n",
    "PARAMS = dict(\n",
    "    ROOT_DIR = ROOT_DIR,\n",
    "    PROJECT_SLUG = PROJECT_SLUG,\n",
    "    EXPERIMENT = EXPERIMENT,\n",
    "    TITRATING_CELLTYPE = '',\n",
    "    TITRATING_CELLTYPE_ATLAS = '',\n",
    "    BACKGROUND = BACKGROUND,\n",
    "    N_REPLICATES = N_REPLICATES, \n",
    "    SEED = '',\n",
    "    TOTAL_READS_TO_SAMPLE = TOTAL_READS_TO_SAMPLE,\n",
    "    CELLTYPES = CELLTYPES,\n",
    "    ABRIDGED_NAMES = ABRIDGED_NAMES,\n",
    "    TITRATION_LIST = TITRATION_LIST,\n",
    "    WHOLE_BLOOD_ABUNDANCE = WHOLE_BLOOD_ABUNDANCE\n",
    ")\n",
    "\n",
    "# run titration experiment for each cell type\n",
    "for i in range(0, n_celltypes):\n",
    "    \n",
    "    celltype_name = ABRIDGED_NAMES[i]\n",
    "    print(f'--> Running titration experiment for: {celltype_name}')\n",
    "    \n",
    "    PARAMS['TITRATING_CELLTYPE'] = CELLTYPES[i]\n",
    "    PARAMS['TITRATING_CELLTYPE_ATLAS'] = CELLTYPE_ATLAS[i]\n",
    "    PARAMS['SEED'] = seeds[i]\n",
    "    \n",
    "    # output notebook path\n",
    "    output_notebook_path = PATH_TO_OUTPUT + f'titration_{celltype_name}.ipynb'\n",
    "    \n",
    "    pm.execute_notebook(\n",
    "       PATH_TO_NOTEBOOK,\n",
    "       output_notebook_path,\n",
    "       parameters=PARAMS\n",
    "    )\n",
    "    \n",
    "    "
   ]
  },
  {
   "cell_type": "code",
   "execution_count": null,
   "id": "b9ada991-8375-49b2-837b-6dc74a10976d",
   "metadata": {},
   "outputs": [],
   "source": []
  },
  {
   "cell_type": "code",
   "execution_count": null,
   "id": "9f84b028-fd46-421d-ae1e-d5d3afcdda10",
   "metadata": {},
   "outputs": [],
   "source": []
  }
 ],
 "metadata": {
  "kernelspec": {
   "display_name": "Python 3",
   "language": "python",
   "name": "python3"
  },
  "language_info": {
   "codemirror_mode": {
    "name": "ipython",
    "version": 3
   },
   "file_extension": ".py",
   "mimetype": "text/x-python",
   "name": "python",
   "nbconvert_exporter": "python",
   "pygments_lexer": "ipython3",
   "version": "3.7.8"
  }
 },
 "nbformat": 4,
 "nbformat_minor": 5
}
