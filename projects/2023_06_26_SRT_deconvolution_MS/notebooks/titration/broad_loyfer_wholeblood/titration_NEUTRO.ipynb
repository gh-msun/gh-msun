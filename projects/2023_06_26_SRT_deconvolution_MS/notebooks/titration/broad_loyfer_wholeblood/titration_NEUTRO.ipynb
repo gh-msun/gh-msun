{
 "cells": [
  {
   "cell_type": "markdown",
   "id": "971f14d2",
   "metadata": {
    "papermill": {
     "duration": 0.005765,
     "end_time": "2023-09-07T01:13:32.900685",
     "exception": false,
     "start_time": "2023-09-07T01:13:32.894920",
     "status": "completed"
    },
    "tags": []
   },
   "source": [
    "# Titration Experiment"
   ]
  },
  {
   "cell_type": "code",
   "execution_count": 1,
   "id": "963c12ed",
   "metadata": {
    "papermill": {
     "duration": 0.012325,
     "end_time": "2023-09-07T01:13:32.918310",
     "exception": false,
     "start_time": "2023-09-07T01:13:32.905985",
     "status": "completed"
    },
    "tags": [
     "parameters"
    ]
   },
   "outputs": [],
   "source": [
    "#############################\n",
    "#   Experiment parameters   #\n",
    "#############################\n",
    "ROOT_DIR = '/analysis/gh-msun/'\n",
    "PROJECT_SLUG = '2023_06_26_SRT_deconvolution_MS'\n",
    "EXPERIMENT = 'broad_loyfer'\n",
    "TITRATING_CELLTYPE = 'Blood-B'\n",
    "TITRATING_CELLTYPE_ATLAS = 'immune_b' # cell type name in atlas different\n",
    "BACKGROUND = 'wholeblood' # background: uniform / wholeblood \n",
    "N_REPLICATES = 20 # number of replicates for each mixture\n",
    "SEED = 888 # need to change for different experiment\n",
    "TOTAL_READS_TO_SAMPLE = 1000000\n",
    "\n",
    "# make sure the orders of the two list match\n",
    "CELLTYPES = ['Blood-B', 'Blood-T', 'Blood-Mono+Macro', 'Blood-NK', 'Blood-Granul']\n",
    "ABRIDGED_NAMES = ['B', 'T', 'MONO', 'NK', 'NEUTRO'] # for directory name\n",
    "\n",
    "TITRATION_LIST = [0.2, 0.15, 0.10, 0.08, 0.06, 0.04, 0.02, 0.01, \n",
    "                   0.008, 0.006, 0.004, 0.002, 0.001, 0]\n",
    "# TITRATION_LIST=[0.2, 0.15]\n",
    "\n",
    "# proportion of cells in real whole blood (sum to 1)\n",
    "WHOLE_BLOOD_ABUNDANCE = {'Blood-B':0.06,\n",
    "                         'Blood-Mono+Macro':0.09,\n",
    "                         'Blood-Granul':0.57,\n",
    "                         'Blood-T':0.23,\n",
    "                         'Blood-NK':0.05}"
   ]
  },
  {
   "cell_type": "code",
   "execution_count": 2,
   "id": "4c4fec2b",
   "metadata": {
    "papermill": {
     "duration": 0.010646,
     "end_time": "2023-09-07T01:13:32.933138",
     "exception": false,
     "start_time": "2023-09-07T01:13:32.922492",
     "status": "completed"
    },
    "tags": [
     "injected-parameters"
    ]
   },
   "outputs": [],
   "source": [
    "# Parameters\n",
    "ROOT_DIR = \"/analysis/gh-msun/\"\n",
    "PROJECT_SLUG = \"2023_06_26_SRT_deconvolution_MS\"\n",
    "EXPERIMENT = \"broad_loyfer\"\n",
    "TITRATING_CELLTYPE = \"Blood-Granul\"\n",
    "TITRATING_CELLTYPE_ATLAS = \"immune_neutro\"\n",
    "BACKGROUND = \"wholeblood\"\n",
    "N_REPLICATES = 20\n",
    "SEED = 960318\n",
    "TOTAL_READS_TO_SAMPLE = 1000000\n",
    "CELLTYPES = [\"Blood-B\", \"Blood-T\", \"Blood-Mono+Macro\", \"Blood-NK\", \"Blood-Granul\"]\n",
    "ABRIDGED_NAMES = [\"B\", \"T\", \"MONO\", \"NK\", \"NEUTRO\"]\n",
    "TITRATION_LIST = [0.2, 0.15, 0.1, 0.08, 0.06, 0.04, 0.02, 0.01, 0.008, 0.006, 0.004, 0.002, 0.001, 0]\n",
    "WHOLE_BLOOD_ABUNDANCE = {\"Blood-B\": 0.06, \"Blood-Mono+Macro\": 0.09, \"Blood-Granul\": 0.57, \"Blood-T\": 0.23, \"Blood-NK\": 0.05}\n"
   ]
  },
  {
   "cell_type": "code",
   "execution_count": 3,
   "id": "29cc7e4e",
   "metadata": {
    "papermill": {
     "duration": 3.825863,
     "end_time": "2023-09-07T01:13:36.763326",
     "exception": false,
     "start_time": "2023-09-07T01:13:32.937463",
     "status": "completed"
    },
    "tags": []
   },
   "outputs": [
    {
     "name": "stderr",
     "output_type": "stream",
     "text": [
      "/home/ec2-user/mambaforge/envs/2023_06_26_SRT_deconvolution_MS/lib/python3.7/site-packages/pyspark/context.py:317: FutureWarning: Python 3.7 support is deprecated in Spark 3.4.\n",
      "  warnings.warn(\"Python 3.7 support is deprecated in Spark 3.4.\", FutureWarning)\n"
     ]
    }
   ],
   "source": [
    "import glob\n",
    "import numpy as np\n",
    "import pandas as pd\n",
    "import seaborn as sns\n",
    "import matplotlib.pyplot as plt\n",
    "import itertools\n",
    "import functools\n",
    "import os\n",
    "import regex as re\n",
    "import random\n",
    "import importlib\n",
    "import sys\n",
    "\n",
    "from pyspark.sql import SparkSession\n",
    "from pyspark import SparkConf, SparkContext\n",
    "from pyspark.sql.types import IntegerType, LongType, ArrayType, StringType, DoubleType\n",
    "from pyspark.sql.functions import udf, explode, broadcast, count, lit, length, col\n",
    "from pyspark.sql import DataFrame\n",
    "from pyspark.sql.types import StructType\n",
    "\n",
    "# UPDATE HOME!\n",
    "os.environ[\"SPARK_HOME\"] = \"/home/ec2-user/mambaforge/envs/2023_06_26_SRT_deconvolution_MS/lib/python3.7/site-packages/pyspark\"\n",
    "# THIS needs to be set-up before running the notebook\n",
    "os.environ[\"SPARK_LOCAL_DIRS\"] = \"/temp\"\n",
    "os.environ[\"PYARROW_IGNORE_TIMEZONE\"] = \"1\"\n",
    "\n",
    "spark_conf = SparkConf()\n",
    "spark_conf.set(\"spark.ui.showConsoleProgress\", \"True\")\n",
    "spark_conf.set(\"spark.executor.instances\", \"2\")\n",
    "spark_conf.set(\"spark.executor.cores\", \"2\")\n",
    "spark_conf.set(\"spark.executor.memory\", \"16g\")\n",
    "spark_conf.set(\"spark.driver.memory\", \"64g\")\n",
    "spark_conf.set(\"spark.driver.maxResultSize\", \"32g\")\n",
    "spark_conf.set(\"spark.parquet.filterPushdown\", \"true\")\n",
    "spark_conf.set(\"spark.local.dir\", \"/temp\")\n",
    "spark_conf.getAll()\n",
    "\n",
    "sc = SparkContext(conf=spark_conf)\n",
    "sc.setLogLevel(\"ERROR\")\n",
    "spark = SparkSession(sc)\n",
    "\n",
    "pd.set_option('display.max_rows', 500)\n",
    "pd.set_option('display.max_columns', 500)\n",
    "pd.set_option('display.width', 1000)\n",
    "sns.set_context('talk')"
   ]
  },
  {
   "cell_type": "code",
   "execution_count": 4,
   "id": "91fb49e2",
   "metadata": {
    "papermill": {
     "duration": 0.776564,
     "end_time": "2023-09-07T01:13:37.545154",
     "exception": false,
     "start_time": "2023-09-07T01:13:36.768590",
     "status": "completed"
    },
    "tags": []
   },
   "outputs": [],
   "source": [
    "#---Local paths---#\n",
    "PROJECT_DIR = ROOT_DIR + f'projects/{PROJECT_SLUG}/'\n",
    "\n",
    "#---Load all custom scripts---#\n",
    "SCRIPT_DIR = PROJECT_DIR + 'scripts/'\n",
    "sys.path.append(SCRIPT_DIR)\n",
    "\n",
    "import create_mixture as cm\n",
    "import score_matrix as sm\n",
    "import deconvolution as dcnv\n",
    "import helper as hlpr\n",
    "\n",
    "pd.set_option('display.max_rows', 500)\n",
    "pd.set_option('display.max_columns', 500)\n",
    "pd.set_option('display.width', 1000)"
   ]
  },
  {
   "cell_type": "code",
   "execution_count": 5,
   "id": "61a66b35",
   "metadata": {
    "papermill": {
     "duration": 0.012765,
     "end_time": "2023-09-07T01:13:37.563266",
     "exception": false,
     "start_time": "2023-09-07T01:13:37.550501",
     "status": "completed"
    },
    "tags": []
   },
   "outputs": [
    {
     "data": {
      "text/plain": [
       "<module 'helper' from '/analysis/gh-msun/projects/2023_06_26_SRT_deconvolution_MS/scripts/helper.py'>"
      ]
     },
     "execution_count": 5,
     "metadata": {},
     "output_type": "execute_result"
    }
   ],
   "source": [
    "importlib.reload(cm)\n",
    "importlib.reload(sm)\n",
    "importlib.reload(dcnv)\n",
    "importlib.reload(hlpr)"
   ]
  },
  {
   "cell_type": "code",
   "execution_count": 6,
   "id": "a8d6f52d",
   "metadata": {
    "papermill": {
     "duration": 0.012373,
     "end_time": "2023-09-07T01:13:37.580152",
     "exception": false,
     "start_time": "2023-09-07T01:13:37.567779",
     "status": "completed"
    },
    "tags": []
   },
   "outputs": [
    {
     "data": {
      "text/plain": [
       "[0.2,\n",
       " 0.11162790697674418,\n",
       " 0.4279069767441861,\n",
       " 0.16744186046511628,\n",
       " 0.0930232558139535]"
      ]
     },
     "execution_count": 6,
     "metadata": {},
     "output_type": "execute_result"
    }
   ],
   "source": [
    "#################################\n",
    "#   Set titration proportions   #\n",
    "#################################\n",
    "\n",
    "# Reorder such that the titrating cell type comes first\n",
    "CELLTYPES_unordered = CELLTYPES.copy()\n",
    "CELLTYPES = hlpr.titration_reordering(list_of_cell_types=CELLTYPES, \n",
    "                                      titrating_cell_type=TITRATING_CELLTYPE)\n",
    "\n",
    "# Reorder abridged name\n",
    "ABRIDGED_NAMES = hlpr.reorder_abridged_name(unordered_celltypes=CELLTYPES_unordered,\n",
    "                                            ordered_celltypes=CELLTYPES,\n",
    "                                            unordered_abridged_names=ABRIDGED_NAMES)\n",
    "    \n",
    "# set titration proportions\n",
    "if BACKGROUND == 'uniform':\n",
    "    PROPORTIONS = hlpr.generate_uniform_background_proportions(titration_list=TITRATION_LIST, \n",
    "                                                               cell_types=CELLTYPES)\n",
    "\n",
    "if BACKGROUND == 'wholeblood':\n",
    "    PROPORTIONS = hlpr.generate_custom_background_proportions(titration_list=TITRATION_LIST, \n",
    "                                                              custom_proportion=WHOLE_BLOOD_ABUNDANCE, \n",
    "                                                              list_of_celltypes=CELLTYPES, \n",
    "                                                              titrating_celltype=TITRATING_CELLTYPE)\n",
    "\n",
    "PROPORTIONS[0]    "
   ]
  },
  {
   "cell_type": "markdown",
   "id": "1be75ba3",
   "metadata": {
    "papermill": {
     "duration": 0.00455,
     "end_time": "2023-09-07T01:13:37.589304",
     "exception": false,
     "start_time": "2023-09-07T01:13:37.584754",
     "status": "completed"
    },
    "tags": []
   },
   "source": [
    "## Create mixture"
   ]
  },
  {
   "cell_type": "code",
   "execution_count": 7,
   "id": "394f994c",
   "metadata": {
    "papermill": {
     "duration": 0.009426,
     "end_time": "2023-09-07T01:13:37.603438",
     "exception": false,
     "start_time": "2023-09-07T01:13:37.594012",
     "status": "completed"
    },
    "tags": []
   },
   "outputs": [],
   "source": [
    "############################\n",
    "#   Parameters and paths   # \n",
    "############################\n",
    "EXPERIMENT_DIR = PROJECT_DIR + f'output/experiment/{EXPERIMENT}/'\n",
    "EXPERIMENT_NAME = f'{TITRATING_CELLTYPE}-{BACKGROUND}/'\n",
    "PARQUET_PATH = PROJECT_DIR + 'output/mixture_source/'\n",
    "EXPERIMENT_CELLTYPE_DIR = EXPERIMENT_DIR + f'{EXPERIMENT_NAME}/'\n",
    "RESULT_PATH = EXPERIMENT_CELLTYPE_DIR + 'mixture/'\n"
   ]
  },
  {
   "cell_type": "code",
   "execution_count": 8,
   "id": "f7690afc",
   "metadata": {
    "execution": {
     "iopub.execute_input": "2023-09-07T01:13:37.613365Z",
     "iopub.status.busy": "2023-09-07T01:13:37.613160Z",
     "iopub.status.idle": "2023-09-07T01:34:20.070319Z",
     "shell.execute_reply": "2023-09-07T01:34:20.069712Z"
    },
    "papermill": {
     "duration": 1242.463607,
     "end_time": "2023-09-07T01:34:20.071641",
     "exception": false,
     "start_time": "2023-09-07T01:13:37.608034",
     "status": "completed"
    },
    "tags": []
   },
   "outputs": [
    {
     "name": "stdout",
     "output_type": "stream",
     "text": [
      ">>> Load parquet files and count rows... <<<\n",
      "----------> Loading cell type: Blood-Granul\n",
      "----------> Loading cell type: Blood-B\n",
      "----------> Loading cell type: Blood-T\n",
      "----------> Loading cell type: Blood-Mono+Macro\n",
      "----------> Loading cell type: Blood-NK\n",
      ">>> Complete. <<< \n",
      "\n",
      ">>> Start mixing... <<<\n",
      "--> PROPORTION: [0.2, 0.11162790697674418, 0.4279069767441861, 0.16744186046511628, 0.0930232558139535]\n",
      "----------> Creating mixture 0... \n",
      "----------> Creating mixture 1... \n",
      "----------> Creating mixture 2... \n",
      "----------> Creating mixture 3... \n",
      "----------> Creating mixture 4... \n",
      "----------> Creating mixture 5... \n",
      "----------> Creating mixture 6... \n",
      "----------> Creating mixture 7... \n",
      "----------> Creating mixture 8... \n",
      "----------> Creating mixture 9... \n",
      "----------> Creating mixture 10... \n",
      "----------> Creating mixture 11... \n",
      "----------> Creating mixture 12... \n",
      "----------> Creating mixture 13... \n",
      "----------> Creating mixture 14... \n",
      "----------> Creating mixture 15... \n",
      "----------> Creating mixture 16... \n",
      "----------> Creating mixture 17... \n",
      "----------> Creating mixture 18... \n",
      "----------> Creating mixture 19... \n",
      "--> PROPORTION: [0.15, 0.11860465116279069, 0.4546511627906977, 0.17790697674418604, 0.09883720930232559]\n",
      "----------> Creating mixture 0... \n",
      "----------> Creating mixture 1... \n",
      "----------> Creating mixture 2... \n",
      "----------> Creating mixture 3... \n",
      "----------> Creating mixture 4... \n",
      "----------> Creating mixture 5... \n",
      "----------> Creating mixture 6... \n",
      "----------> Creating mixture 7... \n",
      "----------> Creating mixture 8... \n",
      "----------> Creating mixture 9... \n",
      "----------> Creating mixture 10... \n",
      "----------> Creating mixture 11... \n",
      "----------> Creating mixture 12... \n",
      "----------> Creating mixture 13... \n",
      "----------> Creating mixture 14... \n",
      "----------> Creating mixture 15... \n",
      "----------> Creating mixture 16... \n",
      "----------> Creating mixture 17... \n",
      "----------> Creating mixture 18... \n",
      "----------> Creating mixture 19... \n",
      "--> PROPORTION: [0.1, 0.12558139534883722, 0.48139534883720936, 0.1883720930232558, 0.1046511627906977]\n",
      "----------> Creating mixture 0... \n",
      "----------> Creating mixture 1... \n",
      "----------> Creating mixture 2... \n",
      "----------> Creating mixture 3... \n",
      "----------> Creating mixture 4... \n",
      "----------> Creating mixture 5... \n",
      "----------> Creating mixture 6... \n",
      "----------> Creating mixture 7... \n",
      "----------> Creating mixture 8... \n",
      "----------> Creating mixture 9... \n",
      "----------> Creating mixture 10... \n",
      "----------> Creating mixture 11... \n",
      "----------> Creating mixture 12... \n",
      "----------> Creating mixture 13... \n",
      "----------> Creating mixture 14... \n",
      "----------> Creating mixture 15... \n",
      "----------> Creating mixture 16... \n",
      "----------> Creating mixture 17... \n",
      "----------> Creating mixture 18... \n",
      "----------> Creating mixture 19... \n",
      "--> PROPORTION: [0.08, 0.1283720930232558, 0.49209302325581405, 0.1925581395348837, 0.10697674418604652]\n",
      "----------> Creating mixture 0... \n",
      "----------> Creating mixture 1... \n",
      "----------> Creating mixture 2... \n",
      "----------> Creating mixture 3... \n",
      "----------> Creating mixture 4... \n",
      "----------> Creating mixture 5... \n",
      "----------> Creating mixture 6... \n",
      "----------> Creating mixture 7... \n",
      "----------> Creating mixture 8... \n",
      "----------> Creating mixture 9... \n",
      "----------> Creating mixture 10... \n",
      "----------> Creating mixture 11... \n",
      "----------> Creating mixture 12... \n",
      "----------> Creating mixture 13... \n",
      "----------> Creating mixture 14... \n",
      "----------> Creating mixture 15... \n",
      "----------> Creating mixture 16... \n",
      "----------> Creating mixture 17... \n",
      "----------> Creating mixture 18... \n",
      "----------> Creating mixture 19... \n",
      "--> PROPORTION: [0.06, 0.13116279069767442, 0.5027906976744186, 0.1967441860465116, 0.10930232558139535]\n",
      "----------> Creating mixture 0... \n",
      "----------> Creating mixture 1... \n",
      "----------> Creating mixture 2... \n",
      "----------> Creating mixture 3... \n",
      "----------> Creating mixture 4... \n",
      "----------> Creating mixture 5... \n",
      "----------> Creating mixture 6... \n",
      "----------> Creating mixture 7... \n",
      "----------> Creating mixture 8... \n",
      "----------> Creating mixture 9... \n",
      "----------> Creating mixture 10... \n",
      "----------> Creating mixture 11... \n",
      "----------> Creating mixture 12... \n",
      "----------> Creating mixture 13... \n",
      "----------> Creating mixture 14... \n",
      "----------> Creating mixture 15... \n",
      "----------> Creating mixture 16... \n",
      "----------> Creating mixture 17... \n",
      "----------> Creating mixture 18... \n",
      "----------> Creating mixture 19... \n",
      "--> PROPORTION: [0.04, 0.133953488372093, 0.5134883720930233, 0.20093023255813952, 0.1116279069767442]\n",
      "----------> Creating mixture 0... \n",
      "----------> Creating mixture 1... \n",
      "----------> Creating mixture 2... \n",
      "----------> Creating mixture 3... \n",
      "----------> Creating mixture 4... \n",
      "----------> Creating mixture 5... \n",
      "----------> Creating mixture 6... \n",
      "----------> Creating mixture 7... \n",
      "----------> Creating mixture 8... \n",
      "----------> Creating mixture 9... \n",
      "----------> Creating mixture 10... \n",
      "----------> Creating mixture 11... \n",
      "----------> Creating mixture 12... \n",
      "----------> Creating mixture 13... \n",
      "----------> Creating mixture 14... \n",
      "----------> Creating mixture 15... \n",
      "----------> Creating mixture 16... \n",
      "----------> Creating mixture 17... \n",
      "----------> Creating mixture 18... \n",
      "----------> Creating mixture 19... \n",
      "--> PROPORTION: [0.02, 0.13674418604651162, 0.5241860465116279, 0.20511627906976743, 0.11395348837209303]\n",
      "----------> Creating mixture 0... \n",
      "----------> Creating mixture 1... \n",
      "----------> Creating mixture 2... \n",
      "----------> Creating mixture 3... \n",
      "----------> Creating mixture 4... \n",
      "----------> Creating mixture 5... \n",
      "----------> Creating mixture 6... \n",
      "----------> Creating mixture 7... \n",
      "----------> Creating mixture 8... \n",
      "----------> Creating mixture 9... \n",
      "----------> Creating mixture 10... \n",
      "----------> Creating mixture 11... \n",
      "----------> Creating mixture 12... \n",
      "----------> Creating mixture 13... \n",
      "----------> Creating mixture 14... \n",
      "----------> Creating mixture 15... \n",
      "----------> Creating mixture 16... \n",
      "----------> Creating mixture 17... \n",
      "----------> Creating mixture 18... \n",
      "----------> Creating mixture 19... \n",
      "--> PROPORTION: [0.01, 0.13813953488372094, 0.5295348837209303, 0.20720930232558138, 0.11511627906976746]\n",
      "----------> Creating mixture 0... \n",
      "----------> Creating mixture 1... \n",
      "----------> Creating mixture 2... \n",
      "----------> Creating mixture 3... \n",
      "----------> Creating mixture 4... \n",
      "----------> Creating mixture 5... \n",
      "----------> Creating mixture 6... \n",
      "----------> Creating mixture 7... \n",
      "----------> Creating mixture 8... \n",
      "----------> Creating mixture 9... \n",
      "----------> Creating mixture 10... \n",
      "----------> Creating mixture 11... \n",
      "----------> Creating mixture 12... \n",
      "----------> Creating mixture 13... \n",
      "----------> Creating mixture 14... \n",
      "----------> Creating mixture 15... \n",
      "----------> Creating mixture 16... \n",
      "----------> Creating mixture 17... \n",
      "----------> Creating mixture 18... \n",
      "----------> Creating mixture 19... \n",
      "--> PROPORTION: [0.008, 0.1384186046511628, 0.5306046511627908, 0.20762790697674416, 0.11534883720930234]\n",
      "----------> Creating mixture 0... \n",
      "----------> Creating mixture 1... \n",
      "----------> Creating mixture 2... \n",
      "----------> Creating mixture 3... \n",
      "----------> Creating mixture 4... \n",
      "----------> Creating mixture 5... \n",
      "----------> Creating mixture 6... \n",
      "----------> Creating mixture 7... \n",
      "----------> Creating mixture 8... \n",
      "----------> Creating mixture 9... \n",
      "----------> Creating mixture 10... \n",
      "----------> Creating mixture 11... \n",
      "----------> Creating mixture 12... \n",
      "----------> Creating mixture 13... \n",
      "----------> Creating mixture 14... \n",
      "----------> Creating mixture 15... \n",
      "----------> Creating mixture 16... \n",
      "----------> Creating mixture 17... \n",
      "----------> Creating mixture 18... \n",
      "----------> Creating mixture 19... \n",
      "--> PROPORTION: [0.006, 0.13869767441860464, 0.5316744186046513, 0.20804651162790697, 0.11558139534883723]\n",
      "----------> Creating mixture 0... \n",
      "----------> Creating mixture 1... \n",
      "----------> Creating mixture 2... \n",
      "----------> Creating mixture 3... \n",
      "----------> Creating mixture 4... \n",
      "----------> Creating mixture 5... \n",
      "----------> Creating mixture 6... \n",
      "----------> Creating mixture 7... \n",
      "----------> Creating mixture 8... \n",
      "----------> Creating mixture 9... \n",
      "----------> Creating mixture 10... \n",
      "----------> Creating mixture 11... \n",
      "----------> Creating mixture 12... \n",
      "----------> Creating mixture 13... \n",
      "----------> Creating mixture 14... \n",
      "----------> Creating mixture 15... \n",
      "----------> Creating mixture 16... \n",
      "----------> Creating mixture 17... \n",
      "----------> Creating mixture 18... \n",
      "----------> Creating mixture 19... \n",
      "--> PROPORTION: [0.004, 0.1389767441860465, 0.5327441860465116, 0.20846511627906975, 0.1158139534883721]\n",
      "----------> Creating mixture 0... \n",
      "----------> Creating mixture 1... \n",
      "----------> Creating mixture 2... \n",
      "----------> Creating mixture 3... \n",
      "----------> Creating mixture 4... \n",
      "----------> Creating mixture 5... \n",
      "----------> Creating mixture 6... \n",
      "----------> Creating mixture 7... \n",
      "----------> Creating mixture 8... \n",
      "----------> Creating mixture 9... \n",
      "----------> Creating mixture 10... \n",
      "----------> Creating mixture 11... \n",
      "----------> Creating mixture 12... \n",
      "----------> Creating mixture 13... \n",
      "----------> Creating mixture 14... \n",
      "----------> Creating mixture 15... \n",
      "----------> Creating mixture 16... \n",
      "----------> Creating mixture 17... \n",
      "----------> Creating mixture 18... \n",
      "----------> Creating mixture 19... \n",
      "--> PROPORTION: [0.002, 0.13925581395348838, 0.5338139534883721, 0.20888372093023255, 0.116046511627907]\n",
      "----------> Creating mixture 0... \n",
      "----------> Creating mixture 1... \n",
      "----------> Creating mixture 2... \n",
      "----------> Creating mixture 3... \n",
      "----------> Creating mixture 4... \n",
      "----------> Creating mixture 5... \n",
      "----------> Creating mixture 6... \n",
      "----------> Creating mixture 7... \n",
      "----------> Creating mixture 8... \n",
      "----------> Creating mixture 9... \n",
      "----------> Creating mixture 10... \n",
      "----------> Creating mixture 11... \n",
      "----------> Creating mixture 12... \n",
      "----------> Creating mixture 13... \n",
      "----------> Creating mixture 14... \n",
      "----------> Creating mixture 15... \n",
      "----------> Creating mixture 16... \n",
      "----------> Creating mixture 17... \n",
      "----------> Creating mixture 18... \n",
      "----------> Creating mixture 19... \n",
      "--> PROPORTION: [0.001, 0.1393953488372093, 0.5343488372093024, 0.20909302325581394, 0.11616279069767443]\n",
      "----------> Creating mixture 0... \n",
      "----------> Creating mixture 1... \n",
      "----------> Creating mixture 2... \n",
      "----------> Creating mixture 3... \n",
      "----------> Creating mixture 4... \n",
      "----------> Creating mixture 5... \n",
      "----------> Creating mixture 6... \n",
      "----------> Creating mixture 7... \n",
      "----------> Creating mixture 8... \n",
      "----------> Creating mixture 9... \n",
      "----------> Creating mixture 10... \n",
      "----------> Creating mixture 11... \n",
      "----------> Creating mixture 12... \n",
      "----------> Creating mixture 13... \n",
      "----------> Creating mixture 14... \n",
      "----------> Creating mixture 15... \n",
      "----------> Creating mixture 16... \n",
      "----------> Creating mixture 17... \n",
      "----------> Creating mixture 18... \n",
      "----------> Creating mixture 19... \n",
      "--> PROPORTION: [0, 0.13953488372093023, 0.5348837209302326, 0.20930232558139533, 0.11627906976744187]\n",
      "----------> Creating mixture 0... \n",
      "----------> Creating mixture 1... \n",
      "----------> Creating mixture 2... \n",
      "----------> Creating mixture 3... \n",
      "----------> Creating mixture 4... \n",
      "----------> Creating mixture 5... \n",
      "----------> Creating mixture 6... \n",
      "----------> Creating mixture 7... \n",
      "----------> Creating mixture 8... \n",
      "----------> Creating mixture 9... \n",
      "----------> Creating mixture 10... \n",
      "----------> Creating mixture 11... \n",
      "----------> Creating mixture 12... \n",
      "----------> Creating mixture 13... \n",
      "----------> Creating mixture 14... \n",
      "----------> Creating mixture 15... \n",
      "----------> Creating mixture 16... \n",
      "----------> Creating mixture 17... \n",
      "----------> Creating mixture 18... \n",
      "----------> Creating mixture 19... \n",
      ">>> Complete. <<< \n",
      "\n",
      "CPU times: user 1.23 s, sys: 321 ms, total: 1.56 s\n",
      "Wall time: 20min 42s\n"
     ]
    }
   ],
   "source": [
    "%%time\n",
    "# load parquet files for each celltype & count rows\n",
    "parquet_df, total_reads_per_celltype = cm.load_parquet_dataframe(parquet_path=PARQUET_PATH,\n",
    "                                                                  cell_types=CELLTYPES,\n",
    "                                                                  spark=spark,\n",
    "                                                                  verbose=True)\n",
    "\n",
    "# mix cell types for each proportion set\n",
    "cm.mix_celltypes_multiple_proportions(parquet_df=parquet_df,\n",
    "                                       total_reads_per_celltype=total_reads_per_celltype,\n",
    "                                    #    n=len(TITRATION_LIST), \n",
    "                                       n=N_REPLICATES,\n",
    "                                       cell_types=CELLTYPES, \n",
    "                                       cell_type_abridged_name=ABRIDGED_NAMES, \n",
    "                                       total_reads_to_sample=TOTAL_READS_TO_SAMPLE, \n",
    "                                       list_of_proportions=PROPORTIONS, \n",
    "                                       seed=SEED, \n",
    "                                       result_path=RESULT_PATH, \n",
    "                                       spark=spark,\n",
    "                                       verbose=False, \n",
    "                                       save=True)"
   ]
  },
  {
   "cell_type": "markdown",
   "id": "e7f08682",
   "metadata": {
    "papermill": {
     "duration": 0.018088,
     "end_time": "2023-09-07T01:34:20.108514",
     "exception": false,
     "start_time": "2023-09-07T01:34:20.090426",
     "status": "completed"
    },
    "tags": []
   },
   "source": [
    "## Compute score matrix"
   ]
  },
  {
   "cell_type": "code",
   "execution_count": 9,
   "id": "ae676d6b",
   "metadata": {
    "execution": {
     "iopub.execute_input": "2023-09-07T01:34:20.145031Z",
     "iopub.status.busy": "2023-09-07T01:34:20.144767Z",
     "iopub.status.idle": "2023-09-07T01:34:20.148668Z",
     "shell.execute_reply": "2023-09-07T01:34:20.148189Z"
    },
    "papermill": {
     "duration": 0.02358,
     "end_time": "2023-09-07T01:34:20.149844",
     "exception": false,
     "start_time": "2023-09-07T01:34:20.126264",
     "status": "completed"
    },
    "tags": []
   },
   "outputs": [],
   "source": [
    "############################\n",
    "#   Parameters and paths   # \n",
    "############################\n",
    "\n",
    "FILTER_CG_COUNT = 3\n",
    "FILTER_CG_COUNT_REGION = 1\n",
    "\n",
    "REGIONS = 'deconvolution_v2.v23_conv.with_cpg_index'\n",
    "REGION_BED_COLS = [\n",
    "    'region_chr', 'region_start', 'region_end', \n",
    "    'region_cpg_index_min', 'region_cpg_index_max', 'region_id'\n",
    "]\n",
    "\n",
    "# Regions\n",
    "REGION_PATH = (\n",
    "    PROJECT_DIR + '/stage/panel_data/{regions}.bed'\n",
    ").format(regions=REGIONS)\n",
    "\n",
    "# CpG map; genomic coordinate to CpG index;\n",
    "CPG_MAP_PATH = PROJECT_DIR + '/stage/cpg_loci/cpg_loci_hg19.combined_annot.tsv.gz'\n",
    "\n",
    "#--- Where to store results\n",
    "PATH_TO_MIXTURE_DIR = EXPERIMENT_CELLTYPE_DIR + 'mixture/'\n",
    "RESULT_PATH = EXPERIMENT_CELLTYPE_DIR\n"
   ]
  },
  {
   "cell_type": "code",
   "execution_count": 10,
   "id": "5b8ef63f",
   "metadata": {
    "execution": {
     "iopub.execute_input": "2023-09-07T01:34:20.186170Z",
     "iopub.status.busy": "2023-09-07T01:34:20.185920Z",
     "iopub.status.idle": "2023-09-07T01:34:20.188284Z",
     "shell.execute_reply": "2023-09-07T01:34:20.187823Z"
    },
    "papermill": {
     "duration": 0.021964,
     "end_time": "2023-09-07T01:34:20.189456",
     "exception": false,
     "start_time": "2023-09-07T01:34:20.167492",
     "status": "completed"
    },
    "tags": []
   },
   "outputs": [],
   "source": [
    "# cpg_map = pd.read_csv(CPG_MAP_PATH, usecols=['chr', 'start', 'end', 'cpg_index', 'cpg_index_hg38'], sep='\\t')"
   ]
  },
  {
   "cell_type": "code",
   "execution_count": 11,
   "id": "bd816fdb",
   "metadata": {
    "execution": {
     "iopub.execute_input": "2023-09-07T01:34:20.227164Z",
     "iopub.status.busy": "2023-09-07T01:34:20.226821Z",
     "iopub.status.idle": "2023-09-07T01:34:20.229345Z",
     "shell.execute_reply": "2023-09-07T01:34:20.228889Z"
    },
    "papermill": {
     "duration": 0.022751,
     "end_time": "2023-09-07T01:34:20.230591",
     "exception": false,
     "start_time": "2023-09-07T01:34:20.207840",
     "status": "completed"
    },
    "tags": []
   },
   "outputs": [],
   "source": [
    "# %%time\n",
    "# ridxs = ~cpg_map['cpg_index_hg38'].isna()\n",
    "# hg19_hg38_map = dict(itertools.zip_longest(cpg_map[ridxs]['cpg_index'], cpg_map[ridxs]['cpg_index_hg38'].astype(int)))\n",
    "# hg38_hg19_map = dict(itertools.zip_longest(cpg_map[ridxs]['cpg_index_hg38'].astype(int), cpg_map[ridxs]['cpg_index']))"
   ]
  },
  {
   "cell_type": "code",
   "execution_count": 12,
   "id": "c31aa4bd",
   "metadata": {
    "execution": {
     "iopub.execute_input": "2023-09-07T01:34:20.267063Z",
     "iopub.status.busy": "2023-09-07T01:34:20.266835Z",
     "iopub.status.idle": "2023-09-07T01:34:20.269132Z",
     "shell.execute_reply": "2023-09-07T01:34:20.268651Z"
    },
    "papermill": {
     "duration": 0.022072,
     "end_time": "2023-09-07T01:34:20.270373",
     "exception": false,
     "start_time": "2023-09-07T01:34:20.248301",
     "status": "completed"
    },
    "tags": []
   },
   "outputs": [],
   "source": [
    "# region_df = pd.read_csv(REGION_PATH, sep='\\t', usecols=range(0, 6), names=REGION_BED_COLS)\n",
    "\n",
    "# # region_df['region_cpg_index_max'] -= 1\n",
    "# # region_df.sort_values('region_cpg_index_min', inplace=True)\n",
    "# # region_df['region_cpg_index_min_hg38'] = region_df['region_cpg_index_min'].map(hg19_hg38_map)\n",
    "# # region_df['region_cpg_index_max_hg38'] = region_df['region_cpg_index_max'].map(hg19_hg38_map)\n",
    "\n",
    "# region_df.shape[0], region_df['region_id'].nunique()"
   ]
  },
  {
   "cell_type": "code",
   "execution_count": 13,
   "id": "7b164895",
   "metadata": {
    "execution": {
     "iopub.execute_input": "2023-09-07T01:34:20.306713Z",
     "iopub.status.busy": "2023-09-07T01:34:20.306491Z",
     "iopub.status.idle": "2023-09-07T01:34:20.308627Z",
     "shell.execute_reply": "2023-09-07T01:34:20.308182Z"
    },
    "papermill": {
     "duration": 0.021685,
     "end_time": "2023-09-07T01:34:20.309819",
     "exception": false,
     "start_time": "2023-09-07T01:34:20.288134",
     "status": "completed"
    },
    "tags": []
   },
   "outputs": [],
   "source": [
    "# ridxs = ~region_df['region_cpg_index_min_hg38'].isna()\n",
    "# ridxs &= ~region_df['region_cpg_index_max_hg38'].isna()\n",
    "# region_df = region_df[ridxs].copy()\n",
    "# region_df.shape[0], region_df['region_id'].nunique()"
   ]
  },
  {
   "cell_type": "code",
   "execution_count": 14,
   "id": "63ec8e03",
   "metadata": {
    "execution": {
     "iopub.execute_input": "2023-09-07T01:34:20.347639Z",
     "iopub.status.busy": "2023-09-07T01:34:20.347386Z",
     "iopub.status.idle": "2023-09-07T01:34:20.349687Z",
     "shell.execute_reply": "2023-09-07T01:34:20.349234Z"
    },
    "papermill": {
     "duration": 0.022557,
     "end_time": "2023-09-07T01:34:20.350925",
     "exception": false,
     "start_time": "2023-09-07T01:34:20.328368",
     "status": "completed"
    },
    "tags": []
   },
   "outputs": [],
   "source": [
    "# cg_count_hg19 = region_df['region_cpg_index_max']-region_df['region_cpg_index_min'] + 1\n",
    "# cg_count_hg38 = region_df['region_cpg_index_max_hg38']-region_df['region_cpg_index_min_hg38'] + 1\n",
    "# ridxs = (cg_count_hg19==cg_count_hg38)\n",
    "# ridxs &= (cg_count_hg19>=FILTER_CG_COUNT_REGION)\n",
    "# region_df = region_df[ridxs].copy()\n",
    "# region_df.shape[0], region_df['region_id'].nunique()"
   ]
  },
  {
   "cell_type": "code",
   "execution_count": 15,
   "id": "6909ce4f",
   "metadata": {
    "execution": {
     "iopub.execute_input": "2023-09-07T01:34:20.387350Z",
     "iopub.status.busy": "2023-09-07T01:34:20.387130Z",
     "iopub.status.idle": "2023-09-07T01:34:20.389300Z",
     "shell.execute_reply": "2023-09-07T01:34:20.388849Z"
    },
    "papermill": {
     "duration": 0.021844,
     "end_time": "2023-09-07T01:34:20.390519",
     "exception": false,
     "start_time": "2023-09-07T01:34:20.368675",
     "status": "completed"
    },
    "tags": []
   },
   "outputs": [],
   "source": [
    "# region_df['region_cpg_index_min_hg38'] = region_df['region_cpg_index_min_hg38'].astype(int)\n",
    "# region_df['region_cpg_index_max_hg38'] = region_df['region_cpg_index_max_hg38'].astype(int)"
   ]
  },
  {
   "cell_type": "code",
   "execution_count": 16,
   "id": "d8da1628",
   "metadata": {
    "execution": {
     "iopub.execute_input": "2023-09-07T01:34:20.427023Z",
     "iopub.status.busy": "2023-09-07T01:34:20.426803Z",
     "iopub.status.idle": "2023-09-07T01:34:20.429046Z",
     "shell.execute_reply": "2023-09-07T01:34:20.428608Z"
    },
    "papermill": {
     "duration": 0.021926,
     "end_time": "2023-09-07T01:34:20.430240",
     "exception": false,
     "start_time": "2023-09-07T01:34:20.408314",
     "status": "completed"
    },
    "tags": []
   },
   "outputs": [],
   "source": [
    "# ### Restrict to immune regions\n",
    "# #-------------- CHANGE HERE FOR DIFFERENT REGION SUBSET ----------------------\n",
    "# # BLUEPRINT immune regions\n",
    "# ATLAS_PATH = PROJECT_DIR + f'/output/reference/deconv_inhouse_v2.atlas.tsv.gz'\n",
    "# atlas = pd.read_csv(ATLAS_PATH, sep='\\t')\n",
    "# subset_region_set = set(atlas.region_id)\n",
    "# #-----------------------------------------------------------------------------\n",
    "\n",
    "# # filter regions down to regions of interest\n",
    "# region_df = region_df[region_df['region_id'].isin(subset_region_set)]\n",
    "# region_df.head()"
   ]
  },
  {
   "cell_type": "code",
   "execution_count": 17,
   "id": "66af7768",
   "metadata": {
    "execution": {
     "iopub.execute_input": "2023-09-07T01:34:20.468028Z",
     "iopub.status.busy": "2023-09-07T01:34:20.467707Z",
     "iopub.status.idle": "2023-09-07T02:11:42.944493Z",
     "shell.execute_reply": "2023-09-07T02:11:42.943951Z"
    },
    "papermill": {
     "duration": 2242.528723,
     "end_time": "2023-09-07T02:11:42.977467",
     "exception": false,
     "start_time": "2023-09-07T01:34:20.448744",
     "status": "completed"
    },
    "tags": []
   },
   "outputs": [
    {
     "name": "stdout",
     "output_type": "stream",
     "text": [
      ">>> Start computing score matrices <<< \n",
      "\n",
      "--> E2NEUTRO_E1116B_E4279T_E1674MONO_E093NK\n",
      "--------> Computing score matrix for mix0_seed419876\n",
      "--------> Computing score matrix for mix1_seed135523\n",
      "--------> Computing score matrix for mix2_seed394025\n",
      "--------> Computing score matrix for mix3_seed669227\n",
      "--------> Computing score matrix for mix4_seed684263\n",
      "--------> Computing score matrix for mix5_seed293089\n",
      "--------> Computing score matrix for mix6_seed256177\n",
      "--------> Computing score matrix for mix7_seed435448\n",
      "--------> Computing score matrix for mix8_seed492243\n",
      "--------> Computing score matrix for mix9_seed147997\n",
      "--------> Computing score matrix for mix10_seed729033\n",
      "--------> Computing score matrix for mix11_seed968910\n",
      "--------> Computing score matrix for mix12_seed988958\n",
      "--------> Computing score matrix for mix13_seed950422\n",
      "--------> Computing score matrix for mix14_seed860687\n",
      "--------> Computing score matrix for mix15_seed923680\n",
      "--------> Computing score matrix for mix16_seed435902\n",
      "--------> Computing score matrix for mix17_seed410372\n",
      "--------> Computing score matrix for mix18_seed583750\n",
      "--------> Computing score matrix for mix19_seed182158\n",
      "\n",
      "\n",
      "--> E15NEUTRO_E1186B_E4547T_E1779MONO_E0988NK\n",
      "--------> Computing score matrix for mix0_seed956377\n",
      "--------> Computing score matrix for mix1_seed787515\n",
      "--------> Computing score matrix for mix2_seed956686\n",
      "--------> Computing score matrix for mix3_seed114553\n",
      "--------> Computing score matrix for mix4_seed483984\n",
      "--------> Computing score matrix for mix5_seed923915\n",
      "--------> Computing score matrix for mix6_seed884279\n",
      "--------> Computing score matrix for mix7_seed197795\n",
      "--------> Computing score matrix for mix8_seed203703\n",
      "--------> Computing score matrix for mix9_seed991952\n",
      "--------> Computing score matrix for mix10_seed899951\n",
      "--------> Computing score matrix for mix11_seed204613\n",
      "--------> Computing score matrix for mix12_seed495430\n",
      "--------> Computing score matrix for mix13_seed234729\n",
      "--------> Computing score matrix for mix14_seed948291\n",
      "--------> Computing score matrix for mix15_seed549335\n",
      "--------> Computing score matrix for mix16_seed376886\n",
      "--------> Computing score matrix for mix17_seed113721\n",
      "--------> Computing score matrix for mix18_seed660672\n",
      "--------> Computing score matrix for mix19_seed626773\n",
      "\n",
      "\n",
      "--> E1NEUTRO_E1256B_E4814T_E1884MONO_E1047NK\n",
      "--------> Computing score matrix for mix0_seed845201\n",
      "--------> Computing score matrix for mix1_seed269032\n",
      "--------> Computing score matrix for mix2_seed215354\n",
      "--------> Computing score matrix for mix3_seed350861\n",
      "--------> Computing score matrix for mix4_seed815603\n",
      "--------> Computing score matrix for mix5_seed8837\n",
      "--------> Computing score matrix for mix6_seed407246\n",
      "--------> Computing score matrix for mix7_seed306008\n",
      "--------> Computing score matrix for mix8_seed184113\n",
      "--------> Computing score matrix for mix9_seed78729\n",
      "--------> Computing score matrix for mix10_seed249749\n",
      "--------> Computing score matrix for mix11_seed854160\n",
      "--------> Computing score matrix for mix12_seed731381\n",
      "--------> Computing score matrix for mix13_seed141781\n",
      "--------> Computing score matrix for mix14_seed342643\n",
      "--------> Computing score matrix for mix15_seed92043\n",
      "--------> Computing score matrix for mix16_seed646127\n",
      "--------> Computing score matrix for mix17_seed274719\n",
      "--------> Computing score matrix for mix18_seed608253\n",
      "--------> Computing score matrix for mix19_seed515150\n",
      "\n",
      "\n",
      "--> E08NEUTRO_E1284B_E4921T_E1926MONO_E107NK\n",
      "--------> Computing score matrix for mix0_seed606723\n",
      "--------> Computing score matrix for mix1_seed837688\n",
      "--------> Computing score matrix for mix2_seed932708\n",
      "--------> Computing score matrix for mix3_seed240813\n",
      "--------> Computing score matrix for mix4_seed208657\n",
      "--------> Computing score matrix for mix5_seed431154\n",
      "--------> Computing score matrix for mix6_seed322211\n",
      "--------> Computing score matrix for mix7_seed944955\n",
      "--------> Computing score matrix for mix8_seed631634\n",
      "--------> Computing score matrix for mix9_seed613618\n",
      "--------> Computing score matrix for mix10_seed852644\n",
      "--------> Computing score matrix for mix11_seed342338\n",
      "--------> Computing score matrix for mix12_seed896943\n",
      "--------> Computing score matrix for mix13_seed880813\n",
      "--------> Computing score matrix for mix14_seed732073\n",
      "--------> Computing score matrix for mix15_seed278581\n",
      "--------> Computing score matrix for mix16_seed143275\n",
      "--------> Computing score matrix for mix17_seed651839\n",
      "--------> Computing score matrix for mix18_seed714995\n",
      "--------> Computing score matrix for mix19_seed432807\n",
      "\n",
      "\n",
      "--> E06NEUTRO_E1312B_E5028T_E1967MONO_E1093NK\n",
      "--------> Computing score matrix for mix0_seed814244\n",
      "--------> Computing score matrix for mix1_seed93051\n",
      "--------> Computing score matrix for mix2_seed362606\n",
      "--------> Computing score matrix for mix3_seed243022\n",
      "--------> Computing score matrix for mix4_seed693665\n",
      "--------> Computing score matrix for mix5_seed908196\n",
      "--------> Computing score matrix for mix6_seed946830\n",
      "--------> Computing score matrix for mix7_seed720605\n",
      "--------> Computing score matrix for mix8_seed495724\n",
      "--------> Computing score matrix for mix9_seed809152\n",
      "--------> Computing score matrix for mix10_seed494787\n",
      "--------> Computing score matrix for mix11_seed91478\n",
      "--------> Computing score matrix for mix12_seed619310\n",
      "--------> Computing score matrix for mix13_seed929467\n",
      "--------> Computing score matrix for mix14_seed776948\n",
      "--------> Computing score matrix for mix15_seed870715\n",
      "--------> Computing score matrix for mix16_seed572423\n",
      "--------> Computing score matrix for mix17_seed681001\n",
      "--------> Computing score matrix for mix18_seed80497\n",
      "--------> Computing score matrix for mix19_seed294760\n",
      "\n",
      "\n",
      "--> E04NEUTRO_E134B_E5135T_E2009MONO_E1116NK\n",
      "--------> Computing score matrix for mix0_seed545458\n",
      "--------> Computing score matrix for mix1_seed74553\n",
      "--------> Computing score matrix for mix2_seed725036\n",
      "--------> Computing score matrix for mix3_seed858082\n",
      "--------> Computing score matrix for mix4_seed378129\n",
      "--------> Computing score matrix for mix5_seed703716\n",
      "--------> Computing score matrix for mix6_seed949541\n",
      "--------> Computing score matrix for mix7_seed826552\n",
      "--------> Computing score matrix for mix8_seed171082\n",
      "--------> Computing score matrix for mix9_seed23469\n",
      "--------> Computing score matrix for mix10_seed370680\n",
      "--------> Computing score matrix for mix11_seed310016\n",
      "--------> Computing score matrix for mix12_seed45811\n",
      "--------> Computing score matrix for mix13_seed566980\n",
      "--------> Computing score matrix for mix14_seed15581\n",
      "--------> Computing score matrix for mix15_seed851315\n",
      "--------> Computing score matrix for mix16_seed514371\n",
      "--------> Computing score matrix for mix17_seed700473\n",
      "--------> Computing score matrix for mix18_seed581470\n",
      "--------> Computing score matrix for mix19_seed581519\n",
      "\n",
      "\n",
      "--> E02NEUTRO_E1367B_E5242T_E2051MONO_E114NK\n",
      "--------> Computing score matrix for mix0_seed5527\n",
      "--------> Computing score matrix for mix1_seed88236\n",
      "--------> Computing score matrix for mix2_seed492538\n",
      "--------> Computing score matrix for mix3_seed541877\n",
      "--------> Computing score matrix for mix4_seed993073\n",
      "--------> Computing score matrix for mix5_seed910277\n",
      "--------> Computing score matrix for mix6_seed764800\n",
      "--------> Computing score matrix for mix7_seed959529\n",
      "--------> Computing score matrix for mix8_seed87741\n",
      "--------> Computing score matrix for mix9_seed904230\n",
      "--------> Computing score matrix for mix10_seed887572\n",
      "--------> Computing score matrix for mix11_seed88302\n",
      "--------> Computing score matrix for mix12_seed499409\n",
      "--------> Computing score matrix for mix13_seed443471\n",
      "--------> Computing score matrix for mix14_seed587922\n",
      "--------> Computing score matrix for mix15_seed25309\n",
      "--------> Computing score matrix for mix16_seed21079\n",
      "--------> Computing score matrix for mix17_seed627471\n",
      "--------> Computing score matrix for mix18_seed403363\n",
      "--------> Computing score matrix for mix19_seed639927\n",
      "\n",
      "\n",
      "--> E01NEUTRO_E1381B_E5295T_E2072MONO_E1151NK\n",
      "--------> Computing score matrix for mix0_seed75714\n",
      "--------> Computing score matrix for mix1_seed993132\n",
      "--------> Computing score matrix for mix2_seed977136\n",
      "--------> Computing score matrix for mix3_seed658241\n",
      "--------> Computing score matrix for mix4_seed161394\n",
      "--------> Computing score matrix for mix5_seed558581\n",
      "--------> Computing score matrix for mix6_seed763486\n",
      "--------> Computing score matrix for mix7_seed213986\n",
      "--------> Computing score matrix for mix8_seed492497\n",
      "--------> Computing score matrix for mix9_seed21163\n",
      "--------> Computing score matrix for mix10_seed625206\n",
      "--------> Computing score matrix for mix11_seed843111\n",
      "--------> Computing score matrix for mix12_seed66789\n",
      "--------> Computing score matrix for mix13_seed544153\n",
      "--------> Computing score matrix for mix14_seed887873\n",
      "--------> Computing score matrix for mix15_seed215106\n",
      "--------> Computing score matrix for mix16_seed365016\n",
      "--------> Computing score matrix for mix17_seed468468\n",
      "--------> Computing score matrix for mix18_seed72772\n",
      "--------> Computing score matrix for mix19_seed366578\n",
      "\n",
      "\n",
      "--> E008NEUTRO_E1384B_E5306T_E2076MONO_E1153NK\n",
      "--------> Computing score matrix for mix0_seed317406\n",
      "--------> Computing score matrix for mix1_seed123967\n",
      "--------> Computing score matrix for mix2_seed110621\n",
      "--------> Computing score matrix for mix3_seed565896\n",
      "--------> Computing score matrix for mix4_seed644254\n",
      "--------> Computing score matrix for mix5_seed127503\n",
      "--------> Computing score matrix for mix6_seed973102\n",
      "--------> Computing score matrix for mix7_seed166351\n",
      "--------> Computing score matrix for mix8_seed844133\n",
      "--------> Computing score matrix for mix9_seed620412\n",
      "--------> Computing score matrix for mix10_seed106072\n",
      "--------> Computing score matrix for mix11_seed50134\n",
      "--------> Computing score matrix for mix12_seed761657\n",
      "--------> Computing score matrix for mix13_seed330474\n",
      "--------> Computing score matrix for mix14_seed535152\n",
      "--------> Computing score matrix for mix15_seed806642\n",
      "--------> Computing score matrix for mix16_seed520095\n",
      "--------> Computing score matrix for mix17_seed487876\n",
      "--------> Computing score matrix for mix18_seed347167\n",
      "--------> Computing score matrix for mix19_seed70805\n",
      "\n",
      "\n",
      "--> E006NEUTRO_E1387B_E5317T_E208MONO_E1156NK\n",
      "--------> Computing score matrix for mix0_seed130065\n",
      "--------> Computing score matrix for mix1_seed683126\n",
      "--------> Computing score matrix for mix2_seed788402\n",
      "--------> Computing score matrix for mix3_seed631751\n",
      "--------> Computing score matrix for mix4_seed902323\n",
      "--------> Computing score matrix for mix5_seed616517\n",
      "--------> Computing score matrix for mix6_seed300030\n",
      "--------> Computing score matrix for mix7_seed617160\n",
      "--------> Computing score matrix for mix8_seed120107\n",
      "--------> Computing score matrix for mix9_seed135997\n",
      "--------> Computing score matrix for mix10_seed443736\n",
      "--------> Computing score matrix for mix11_seed90319\n",
      "--------> Computing score matrix for mix12_seed580340\n",
      "--------> Computing score matrix for mix13_seed935268\n",
      "--------> Computing score matrix for mix14_seed846489\n",
      "--------> Computing score matrix for mix15_seed48825\n",
      "--------> Computing score matrix for mix16_seed922509\n",
      "--------> Computing score matrix for mix17_seed783347\n",
      "--------> Computing score matrix for mix18_seed994576\n",
      "--------> Computing score matrix for mix19_seed316253\n",
      "\n",
      "\n",
      "--> E004NEUTRO_E139B_E5327T_E2085MONO_E1158NK\n",
      "--------> Computing score matrix for mix0_seed428748\n",
      "--------> Computing score matrix for mix1_seed324239\n",
      "--------> Computing score matrix for mix2_seed366998\n",
      "--------> Computing score matrix for mix3_seed673721\n",
      "--------> Computing score matrix for mix4_seed316473\n",
      "--------> Computing score matrix for mix5_seed457588\n",
      "--------> Computing score matrix for mix6_seed482681\n",
      "--------> Computing score matrix for mix7_seed993304\n",
      "--------> Computing score matrix for mix8_seed497298\n",
      "--------> Computing score matrix for mix9_seed533187\n",
      "--------> Computing score matrix for mix10_seed723225\n",
      "--------> Computing score matrix for mix11_seed800241\n",
      "--------> Computing score matrix for mix12_seed271200\n",
      "--------> Computing score matrix for mix13_seed710461\n",
      "--------> Computing score matrix for mix14_seed869562\n",
      "--------> Computing score matrix for mix15_seed338505\n",
      "--------> Computing score matrix for mix16_seed987583\n",
      "--------> Computing score matrix for mix17_seed373792\n",
      "--------> Computing score matrix for mix18_seed383725\n",
      "--------> Computing score matrix for mix19_seed844558\n",
      "\n",
      "\n",
      "--> E002NEUTRO_E1393B_E5338T_E2089MONO_E116NK\n",
      "--------> Computing score matrix for mix0_seed299748\n",
      "--------> Computing score matrix for mix1_seed705308\n",
      "--------> Computing score matrix for mix2_seed607878\n",
      "--------> Computing score matrix for mix3_seed45599\n",
      "--------> Computing score matrix for mix4_seed492728\n",
      "--------> Computing score matrix for mix5_seed28202\n",
      "--------> Computing score matrix for mix6_seed885145\n",
      "--------> Computing score matrix for mix7_seed389487\n",
      "--------> Computing score matrix for mix8_seed393496\n",
      "--------> Computing score matrix for mix9_seed565834\n",
      "--------> Computing score matrix for mix10_seed603538\n",
      "--------> Computing score matrix for mix11_seed834468\n",
      "--------> Computing score matrix for mix12_seed705903\n",
      "--------> Computing score matrix for mix13_seed39463\n",
      "--------> Computing score matrix for mix14_seed767226\n",
      "--------> Computing score matrix for mix15_seed426740\n",
      "--------> Computing score matrix for mix16_seed875938\n",
      "--------> Computing score matrix for mix17_seed70582\n",
      "--------> Computing score matrix for mix18_seed211845\n",
      "--------> Computing score matrix for mix19_seed106456\n",
      "\n",
      "\n",
      "--> E001NEUTRO_E1394B_E5343T_E2091MONO_E1162NK\n",
      "--------> Computing score matrix for mix0_seed940087\n",
      "--------> Computing score matrix for mix1_seed818873\n",
      "--------> Computing score matrix for mix2_seed771897\n",
      "--------> Computing score matrix for mix3_seed771044\n",
      "--------> Computing score matrix for mix4_seed197909\n",
      "--------> Computing score matrix for mix5_seed716041\n",
      "--------> Computing score matrix for mix6_seed977527\n",
      "--------> Computing score matrix for mix7_seed813819\n",
      "--------> Computing score matrix for mix8_seed570572\n",
      "--------> Computing score matrix for mix9_seed470507\n",
      "--------> Computing score matrix for mix10_seed547103\n",
      "--------> Computing score matrix for mix11_seed892773\n",
      "--------> Computing score matrix for mix12_seed865960\n",
      "--------> Computing score matrix for mix13_seed620201\n",
      "--------> Computing score matrix for mix14_seed597579\n",
      "--------> Computing score matrix for mix15_seed852431\n",
      "--------> Computing score matrix for mix16_seed765758\n",
      "--------> Computing score matrix for mix17_seed644800\n",
      "--------> Computing score matrix for mix18_seed851560\n",
      "--------> Computing score matrix for mix19_seed798432\n",
      "\n",
      "\n",
      "--> ENEUTRO_E1395B_E5349T_E2093MONO_E1163NK\n",
      "--------> Computing score matrix for mix0_seed146046\n",
      "--------> Computing score matrix for mix1_seed344338\n",
      "--------> Computing score matrix for mix2_seed108519\n",
      "--------> Computing score matrix for mix3_seed935255\n",
      "--------> Computing score matrix for mix4_seed711767\n",
      "--------> Computing score matrix for mix5_seed356076\n",
      "--------> Computing score matrix for mix6_seed930973\n",
      "--------> Computing score matrix for mix7_seed947770\n",
      "--------> Computing score matrix for mix8_seed288554\n",
      "--------> Computing score matrix for mix9_seed500698\n",
      "--------> Computing score matrix for mix10_seed685277\n",
      "--------> Computing score matrix for mix11_seed378349\n",
      "--------> Computing score matrix for mix12_seed75369\n",
      "--------> Computing score matrix for mix13_seed760443\n",
      "--------> Computing score matrix for mix14_seed371407\n",
      "--------> Computing score matrix for mix15_seed1883\n",
      "--------> Computing score matrix for mix16_seed769902\n",
      "--------> Computing score matrix for mix17_seed686635\n",
      "--------> Computing score matrix for mix18_seed984316\n",
      "--------> Computing score matrix for mix19_seed124597\n",
      "\n",
      "\n",
      ">>> Complete. <<< \n",
      "\n",
      "CPU times: user 16.2 s, sys: 1.13 s, total: 17.3 s\n",
      "Wall time: 37min 22s\n"
     ]
    }
   ],
   "source": [
    "%%time\n",
    "\n",
    "PAT_COLS = [\n",
    "    'molecule_id', 'chr', 'number_molecules',\n",
    "    'cpg_index_min', 'cpg_index_max', 'pat_string', 'region_id', 'region_cpg_index_min', 'region_cpg_index_max'\n",
    "]\n",
    "\n",
    "QUANTILES = [0.1, 0.25, 0.75, 0.9]\n",
    "KMERS = [1, 3, 4]\n",
    "RATES_LEQ = [0.25]\n",
    "RATES_GEQ = [0.75]\n",
    "\n",
    "RETURN_SCHEMA = StructType()\\\n",
    "    .add('region_id', 'string')\\\n",
    "    .add('number_molecules', 'integer')\\\n",
    "    .add('meth_k1', 'integer')\\\n",
    "    .add('unmeth_k1', 'integer')\\\n",
    "    .add('total_k1', 'integer')\\\n",
    "    .add('meth_k3', 'integer')\\\n",
    "    .add('unmeth_k3', 'integer')\\\n",
    "    .add('total_k3', 'integer')\\\n",
    "    .add('meth_k4', 'integer')\\\n",
    "    .add('unmeth_k4', 'integer')\\\n",
    "    .add('total_k4', 'integer')\\\n",
    "    .add('frac_alpha_leq_25pct', 'float')\\\n",
    "    .add('frac_alpha_geq_75pct', 'float')\n",
    "\n",
    "compute_frag_scores_udf = sm.compute_frag_scores(cpg_number_cutoff=FILTER_CG_COUNT, schema=RETURN_SCHEMA, kmers=KMERS, rates_leq=RATES_LEQ, rates_geq=RATES_GEQ)\n",
    "\n",
    "\n",
    "# compute methyl score for are parquet files\n",
    "sm.score_matrix_from_mixture_directory(path_to_mixture_dir = PATH_TO_MIXTURE_DIR, \n",
    "                                       result_path = RESULT_PATH, \n",
    "                                       pat_cols = PAT_COLS,  \n",
    "                                       batch_size = 20, \n",
    "                                       schema = RETURN_SCHEMA, \n",
    "                                       spark=spark,\n",
    "                                       compute_frag_scores_udf=compute_frag_scores_udf,\n",
    "                                       save=True, \n",
    "                                       verbose=False)"
   ]
  },
  {
   "cell_type": "markdown",
   "id": "7c8206b4",
   "metadata": {
    "papermill": {
     "duration": 0.031452,
     "end_time": "2023-09-07T02:11:43.040605",
     "exception": false,
     "start_time": "2023-09-07T02:11:43.009153",
     "status": "completed"
    },
    "tags": []
   },
   "source": [
    "## Deconvolution"
   ]
  },
  {
   "cell_type": "code",
   "execution_count": 8,
   "id": "46b5120c",
   "metadata": {
    "papermill": {
     "duration": 0.036555,
     "end_time": "2023-09-07T02:11:43.108114",
     "exception": false,
     "start_time": "2023-09-07T02:11:43.071559",
     "status": "completed"
    },
    "tags": []
   },
   "outputs": [],
   "source": [
    "############################\n",
    "#   Parameters and paths   # \n",
    "############################\n",
    "\n",
    "FILTER_COV = 20\n",
    "\n",
    "SCORE_VAR = 'frac_alpha_leq_25pct'\n",
    "\n",
    "# Reference matrix\n",
    "ATLAS_PATH = PROJECT_DIR + 'output/reference/deconv_inhouse_v2.t_combined.atlas.tsv.gz'\n",
    "REGION_PATH = PROJECT_DIR + 'output/reference/deconv_inhouse_v2.t_combined.region_to_ref_celltype.tsv.gz'\n",
    "\n",
    "# Methylation score matrix\n",
    "SCORE_DIR = EXPERIMENT_CELLTYPE_DIR + 'methyl_score/'\n"
   ]
  },
  {
   "cell_type": "code",
   "execution_count": 9,
   "id": "c4c6eb34",
   "metadata": {
    "papermill": {
     "duration": 0.046,
     "end_time": "2023-09-07T02:11:43.185657",
     "exception": false,
     "start_time": "2023-09-07T02:11:43.139657",
     "status": "completed"
    },
    "tags": []
   },
   "outputs": [
    {
     "data": {
      "text/plain": [
       "(280, 9)"
      ]
     },
     "execution_count": 9,
     "metadata": {},
     "output_type": "execute_result"
    }
   ],
   "source": [
    "atlas = pd.read_csv(ATLAS_PATH, sep='\\t',index_col=None)\n",
    "atlas = atlas.set_index('region_id')\n",
    "atlas.columns.name = 'ref_celltype'\n",
    "atlas.shape\n",
    "\n",
    "ref_region_df = pd.read_csv(REGION_PATH, sep='\\t')\n",
    "\n",
    "atlas = atlas.loc[ref_region_df['region_id'], :].copy()\n",
    "atlas.shape"
   ]
  },
  {
   "cell_type": "code",
   "execution_count": 10,
   "id": "ef146671",
   "metadata": {
    "papermill": {
     "duration": 0.035628,
     "end_time": "2023-09-07T02:11:43.252594",
     "exception": false,
     "start_time": "2023-09-07T02:11:43.216966",
     "status": "completed"
    },
    "tags": []
   },
   "outputs": [],
   "source": [
    "# ref_region_df['ref_celltype'][ref_region_df['ref_celltype'] == 'immune_cd4_t'] = 'immune_cd4'\n",
    "# ref_region_df['ref_celltype'][ref_region_df['ref_celltype'] == 'immune_cd8_t'] = 'immune_cd8'"
   ]
  },
  {
   "cell_type": "code",
   "execution_count": 11,
   "id": "28679f4c",
   "metadata": {
    "papermill": {
     "duration": 4.565531,
     "end_time": "2023-09-07T02:11:47.849919",
     "exception": false,
     "start_time": "2023-09-07T02:11:43.284388",
     "status": "completed"
    },
    "tags": []
   },
   "outputs": [
    {
     "name": "stdout",
     "output_type": "stream",
     "text": [
      "CPU times: user 4.5 s, sys: 80.3 ms, total: 4.58 s\n",
      "Wall time: 4.58 s\n"
     ]
    }
   ],
   "source": [
    "%%time\n",
    "\n",
    "deconvolution_nnls = dcnv.compute_deconvolution_from_methyl_score_dir_nnls(path_to_methyl_score_dir=SCORE_DIR, \n",
    "                                                                          score_type=SCORE_VAR, \n",
    "                                                                          atlas=atlas, \n",
    "                                                                          match=False)\n",
    "\n",
    "deconvolution_naive = dcnv.compute_deconvolution_from_methyl_score_dir_naive(path_to_methyl_score_dir=SCORE_DIR, \n",
    "                                                                             filter_cov=FILTER_COV, \n",
    "                                                                             score_var=SCORE_VAR, \n",
    "                                                                             ref_region_df=ref_region_df)\n"
   ]
  },
  {
   "cell_type": "code",
   "execution_count": 14,
   "id": "6de33e62-e70e-4a1e-985e-30db4f505ff3",
   "metadata": {
    "tags": []
   },
   "outputs": [],
   "source": [
    "# import pickle\n",
    "\n",
    "# outdir = '/analysis/gh-msun/projects/2023_06_26_SRT_deconvolution_MS/output/experiment/broad_loyfer/plot_files/loyfer_neutro_nnls_boxplot.pickle'\n",
    "\n",
    "# outdict = {\n",
    "#     'deconvolution_nnls':deconvolution_nnls,\n",
    "#     'cell_type':TITRATING_CELLTYPE_ATLAS,\n",
    "#     'true_proportions':TITRATION_LIST,\n",
    "#     'deconvolution_method_name':'nnls'\n",
    "# }\n",
    "\n",
    "# with open(outdir, 'wb') as handle:\n",
    "#     pickle.dump(outdict, handle, protocol=pickle.HIGHEST_PROTOCOL)\n",
    "\n",
    "# with open(outdir, 'rb') as handle:\n",
    "#     plot_dict = pickle.load(handle)\n",
    "\n",
    "# dcnv.boxplot_titration(list_of_deconvolution_dfs=plot_dict['deconvolution_nnls'],\n",
    "#                   cell_type=plot_dict['cell_type'],\n",
    "#                   true_proportions=plot_dict['true_proportions'],\n",
    "#                   deconvolution_method_name=plot_dict['deconvolution_method_name']\n",
    "#                   )"
   ]
  },
  {
   "cell_type": "code",
   "execution_count": 13,
   "id": "753a870b",
   "metadata": {
    "papermill": {
     "duration": 0.422197,
     "end_time": "2023-09-07T02:11:48.304037",
     "exception": false,
     "start_time": "2023-09-07T02:11:47.881840",
     "status": "completed"
    },
    "tags": []
   },
   "outputs": [
    {
     "data": {
      "image/png": "[encoded data removed]",
      "text/plain": [
       "<Figure size 864x432 with 1 Axes>"
      ]
     },
     "metadata": {
      "needs_background": "light"
     },
     "output_type": "display_data"
    }
   ],
   "source": [
    "dcnv.boxplot_titration(list_of_deconvolution_dfs=deconvolution_naive,\n",
    "                      cell_type=TITRATING_CELLTYPE_ATLAS,\n",
    "                      true_proportions=TITRATION_LIST,\n",
    "                      deconvolution_method_name='naive'\n",
    "                      )"
   ]
  },
  {
   "cell_type": "code",
   "execution_count": 23,
   "id": "5522b404",
   "metadata": {
    "execution": {
     "iopub.execute_input": "2023-09-07T02:11:48.370059Z",
     "iopub.status.busy": "2023-09-07T02:11:48.369783Z",
     "iopub.status.idle": "2023-09-07T02:11:48.800944Z",
     "shell.execute_reply": "2023-09-07T02:11:48.800411Z"
    },
    "papermill": {
     "duration": 0.465169,
     "end_time": "2023-09-07T02:11:48.802217",
     "exception": false,
     "start_time": "2023-09-07T02:11:48.337048",
     "status": "completed"
    },
    "tags": []
   },
   "outputs": [
    {
     "data": {
      "image/png": "[encoded data removed]",
      "text/plain": [
       "<Figure size 864x432 with 1 Axes>"
      ]
     },
     "metadata": {
      "needs_background": "light"
     },
     "output_type": "display_data"
    }
   ],
   "source": [
    "dcnv.boxplot_titration(list_of_deconvolution_dfs=deconvolution_nnls,\n",
    "                      cell_type=TITRATING_CELLTYPE_ATLAS,\n",
    "                      true_proportions=TITRATION_LIST,\n",
    "                      deconvolution_method_name='nnls'\n",
    "                      )"
   ]
  },
  {
   "cell_type": "code",
   "execution_count": 24,
   "id": "6d9b058f",
   "metadata": {
    "execution": {
     "iopub.execute_input": "2023-09-07T02:11:48.867980Z",
     "iopub.status.busy": "2023-09-07T02:11:48.867733Z",
     "iopub.status.idle": "2023-09-07T02:11:49.823861Z",
     "shell.execute_reply": "2023-09-07T02:11:49.823348Z"
    },
    "papermill": {
     "duration": 0.990281,
     "end_time": "2023-09-07T02:11:49.825332",
     "exception": false,
     "start_time": "2023-09-07T02:11:48.835051",
     "status": "completed"
    },
    "tags": []
   },
   "outputs": [
    {
     "data": {
      "image/png": "[encoded data removed]",
      "text/plain": [
       "<Figure size 720x720 with 14 Axes>"
      ]
     },
     "metadata": {
      "needs_background": "light"
     },
     "output_type": "display_data"
    }
   ],
   "source": [
    "dcnv.boxplot_titration_zoom(list_of_deconvolution_dfs=deconvolution_naive,\n",
    "                      cell_type=TITRATING_CELLTYPE_ATLAS,\n",
    "                      true_proportions=TITRATION_LIST,\n",
    "                      deconvolution_method_name='naive'\n",
    "                      )"
   ]
  },
  {
   "cell_type": "code",
   "execution_count": 25,
   "id": "f7dd084d",
   "metadata": {
    "execution": {
     "iopub.execute_input": "2023-09-07T02:11:49.893039Z",
     "iopub.status.busy": "2023-09-07T02:11:49.892793Z",
     "iopub.status.idle": "2023-09-07T02:11:50.857190Z",
     "shell.execute_reply": "2023-09-07T02:11:50.856654Z"
    },
    "papermill": {
     "duration": 0.999316,
     "end_time": "2023-09-07T02:11:50.858669",
     "exception": false,
     "start_time": "2023-09-07T02:11:49.859353",
     "status": "completed"
    },
    "tags": []
   },
   "outputs": [
    {
     "data": {
      "image/png": "[encoded data removed]",
      "text/plain": [
       "<Figure size 720x720 with 14 Axes>"
      ]
     },
     "metadata": {
      "needs_background": "light"
     },
     "output_type": "display_data"
    }
   ],
   "source": [
    "dcnv.boxplot_titration_zoom(list_of_deconvolution_dfs=deconvolution_nnls,\n",
    "                      cell_type=TITRATING_CELLTYPE_ATLAS,\n",
    "                      true_proportions=TITRATION_LIST,\n",
    "                      deconvolution_method_name='nnls'\n",
    "                      )"
   ]
  },
  {
   "cell_type": "code",
   "execution_count": null,
   "id": "5779a332",
   "metadata": {
    "papermill": {
     "duration": 0.033572,
     "end_time": "2023-09-07T02:11:50.926958",
     "exception": false,
     "start_time": "2023-09-07T02:11:50.893386",
     "status": "completed"
    },
    "tags": []
   },
   "outputs": [],
   "source": []
  },
  {
   "cell_type": "code",
   "execution_count": null,
   "id": "d0dcdf37",
   "metadata": {
    "papermill": {
     "duration": 0.032983,
     "end_time": "2023-09-07T02:11:50.992942",
     "exception": false,
     "start_time": "2023-09-07T02:11:50.959959",
     "status": "completed"
    },
    "tags": []
   },
   "outputs": [],
   "source": []
  }
 ],
 "metadata": {
  "kernelspec": {
   "display_name": "Python 3",
   "language": "python",
   "name": "python3"
  },
  "language_info": {
   "codemirror_mode": {
    "name": "ipython",
    "version": 3
   },
   "file_extension": ".py",
   "mimetype": "text/x-python",
   "name": "python",
   "nbconvert_exporter": "python",
   "pygments_lexer": "ipython3",
   "version": "3.7.8"
  },
  "papermill": {
   "default_parameters": {},
   "duration": 3499.451365,
   "end_time": "2023-09-07T02:11:51.545045",
   "environment_variables": {},
   "exception": null,
   "input_path": "/analysis/gh-msun/projects/2023_06_26_SRT_deconvolution_MS//notebooks/titration/02_titration_experiment_loyfer_T_combined.ipynb",
   "output_path": "/analysis/gh-msun/projects/2023_06_26_SRT_deconvolution_MS//notebooks/titration/loyfer_new_wholeblood/titration_NEUTRO.ipynb",
   "parameters": {
    "ABRIDGED_NAMES": [
     "B",
     "T",
     "MONO",
     "NK",
     "NEUTRO"
    ],
    "BACKGROUND": "wholeblood",
    "CELLTYPES": [
     "Blood-B",
     "Blood-T",
     "Blood-Mono+Macro",
     "Blood-NK",
     "Blood-Granul"
    ],
    "EXPERIMENT": "loyfer_new",
    "N_REPLICATES": 20,
    "PROJECT_SLUG": "2023_06_26_SRT_deconvolution_MS",
    "ROOT_DIR": "/analysis/gh-msun/",
    "SEED": 960318,
    "TITRATING_CELLTYPE": "Blood-Granul",
    "TITRATING_CELLTYPE_ATLAS": "immune_neutro",
    "TITRATION_LIST": [
     0.2,
     0.15,
     0.1,
     0.08,
     0.06,
     0.04,
     0.02,
     0.01,
     0.008,
     0.006,
     0.004,
     0.002,
     0.001,
     0
    ],
    "TOTAL_READS_TO_SAMPLE": 1000000,
    "WHOLE_BLOOD_ABUNDANCE": {
     "Blood-B": 0.06,
     "Blood-Granul": 0.57,
     "Blood-Mono+Macro": 0.09,
     "Blood-NK": 0.05,
     "Blood-T": 0.23
    }
   },
   "start_time": "2023-09-07T01:13:32.093680",
   "version": "2.4.0"
  }
 },
 "nbformat": 4,
 "nbformat_minor": 5
}
