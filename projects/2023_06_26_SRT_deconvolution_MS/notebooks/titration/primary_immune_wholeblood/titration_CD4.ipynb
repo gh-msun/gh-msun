{
 "cells": [
  {
   "cell_type": "markdown",
   "id": "b833f063",
   "metadata": {
    "papermill": {
     "duration": 0.00481,
     "end_time": "2023-07-27T20:44:04.229847",
     "exception": false,
     "start_time": "2023-07-27T20:44:04.225037",
     "status": "completed"
    },
    "tags": []
   },
   "source": [
    "# Titration Experiment"
   ]
  },
  {
   "cell_type": "code",
   "execution_count": 1,
   "id": "6c739a2a",
   "metadata": {
    "execution": {
     "iopub.execute_input": "2023-07-27T20:44:04.239854Z",
     "iopub.status.busy": "2023-07-27T20:44:04.239646Z",
     "iopub.status.idle": "2023-07-27T20:44:04.244466Z",
     "shell.execute_reply": "2023-07-27T20:44:04.244033Z"
    },
    "papermill": {
     "duration": 0.010789,
     "end_time": "2023-07-27T20:44:04.245644",
     "exception": false,
     "start_time": "2023-07-27T20:44:04.234855",
     "status": "completed"
    },
    "tags": [
     "parameters"
    ]
   },
   "outputs": [],
   "source": [
    "#############################\n",
    "#   Experiment parameters   #\n",
    "#############################\n",
    "ROOT_DIR = '/analysis/gh-msun/'\n",
    "PROJECT_SLUG = '2023_06_26_SRT_deconvolution_MS'\n",
    "EXPERIMENT = 'primary_immune'\n",
    "TITRATING_CELLTYPE = 'Blueprint-B'\n",
    "TITRATING_CELLTYPE_ATLAS = 'immune_b' # cell type name in atlas different\n",
    "BACKGROUND = 'wholeblood' # background: uniform / wholeblood \n",
    "N_REPLICATES = 2 # number of replicates for each mixture\n",
    "SEED = 888 # need to change for different experiment\n",
    "TOTAL_READS_TO_SAMPLE = 1000000\n",
    "\n",
    "# make sure the orders of the two list match\n",
    "CELLTYPES = ['Blueprint-CD4', 'Blueprint-CD8', 'Blueprint-B', 'Blueprint-NK', 'Blueprint-Mono', 'Blueprint-Neutro']\n",
    "ABRIDGED_NAMES = ['CD4', 'CD8', 'B', 'NK', 'MONO', 'NEUTRO'] # for directory name\n",
    "\n",
    "# TITRATION_LIST = [0.2, 0.15, 0.10, 0.08, 0.06, 0.04, 0.02, 0.01, \n",
    "#                   0.008, 0.006, 0.004, 0.002, 0.001, 0]\n",
    "TITRATION_LIST=[0.2, 0.15]\n",
    "\n",
    "# proportion of cells in real whole blood (sum to 1)\n",
    "WHOLE_BLOOD_ABUNDANCE = {'Blueprint-B':0.06,\n",
    "                         'Blueprint-Mono':0.09,\n",
    "                         'Blueprint-Neutro':0.57,\n",
    "                         'Blueprint-CD4':0.16,\n",
    "                         'Blueprint-CD8':0.07,\n",
    "                         'Blueprint-NK':0.05}\n",
    "    "
   ]
  },
  {
   "cell_type": "code",
   "execution_count": 2,
   "id": "82e2da64",
   "metadata": {
    "execution": {
     "iopub.execute_input": "2023-07-27T20:44:04.254881Z",
     "iopub.status.busy": "2023-07-27T20:44:04.254651Z",
     "iopub.status.idle": "2023-07-27T20:44:04.258695Z",
     "shell.execute_reply": "2023-07-27T20:44:04.258266Z"
    },
    "papermill": {
     "duration": 0.010228,
     "end_time": "2023-07-27T20:44:04.259856",
     "exception": false,
     "start_time": "2023-07-27T20:44:04.249628",
     "status": "completed"
    },
    "tags": [
     "injected-parameters"
    ]
   },
   "outputs": [],
   "source": [
    "# Parameters\n",
    "ROOT_DIR = \"/analysis/gh-msun/\"\n",
    "PROJECT_SLUG = \"2023_06_26_SRT_deconvolution_MS\"\n",
    "EXPERIMENT = \"primary_immune\"\n",
    "TITRATING_CELLTYPE = \"Blueprint-CD4\"\n",
    "TITRATING_CELLTYPE_ATLAS = \"immune_t\"\n",
    "BACKGROUND = \"wholeblood\"\n",
    "N_REPLICATES = 2\n",
    "SEED = 83723\n",
    "TOTAL_READS_TO_SAMPLE = 1000000\n",
    "CELLTYPES = [\"Blueprint-CD4\", \"Blueprint-CD8\", \"Blueprint-B\", \"Blueprint-NK\", \"Blueprint-Mono\", \"Blueprint-Neutro\"]\n",
    "ABRIDGED_NAMES = [\"CD4\", \"CD8\", \"B\", \"NK\", \"MONO\", \"NEUTRO\"]\n",
    "TITRATION_LIST = [0.2, 0.15]\n",
    "WHOLE_BLOOD_ABUNDANCE = {\"Blueprint-B\": 0.06, \"Blueprint-Mono\": 0.09, \"Blueprint-Neutro\": 0.57, \"Blueprint-CD4\": 0.16, \"Blueprint-CD8\": 0.07, \"Blueprint-NK\": 0.05}\n"
   ]
  },
  {
   "cell_type": "code",
   "execution_count": 3,
   "id": "22682339",
   "metadata": {
    "execution": {
     "iopub.execute_input": "2023-07-27T20:44:04.268604Z",
     "iopub.status.busy": "2023-07-27T20:44:04.268374Z",
     "iopub.status.idle": "2023-07-27T20:44:07.730858Z",
     "shell.execute_reply": "2023-07-27T20:44:07.730190Z"
    },
    "papermill": {
     "duration": 3.46831,
     "end_time": "2023-07-27T20:44:07.732154",
     "exception": false,
     "start_time": "2023-07-27T20:44:04.263844",
     "status": "completed"
    },
    "tags": []
   },
   "outputs": [
    {
     "name": "stderr",
     "output_type": "stream",
     "text": [
      "/home/ec2-user/mambaforge/envs/2023_06_26_SRT_deconvolution_MS/lib/python3.7/site-packages/pyspark/context.py:317: FutureWarning: Python 3.7 support is deprecated in Spark 3.4.\n",
      "  warnings.warn(\"Python 3.7 support is deprecated in Spark 3.4.\", FutureWarning)\n"
     ]
    }
   ],
   "source": [
    "import glob\n",
    "import numpy as np\n",
    "import pandas as pd\n",
    "import seaborn as sns\n",
    "import matplotlib.pyplot as plt\n",
    "import itertools\n",
    "import functools\n",
    "import os\n",
    "import regex as re\n",
    "import random\n",
    "import importlib\n",
    "import sys\n",
    "\n",
    "from pyspark.sql import SparkSession\n",
    "from pyspark import SparkConf, SparkContext\n",
    "from pyspark.sql.types import IntegerType, LongType, ArrayType, StringType, DoubleType\n",
    "from pyspark.sql.functions import udf, explode, broadcast, count, lit, length, col\n",
    "from pyspark.sql import DataFrame\n",
    "from pyspark.sql.types import StructType\n",
    "\n",
    "# UPDATE HOME!\n",
    "os.environ[\"SPARK_HOME\"] = \"/home/ec2-user/mambaforge/envs/2023_06_26_SRT_deconvolution_MS/lib/python3.7/site-packages/pyspark\"\n",
    "# THIS needs to be set-up before running the notebook\n",
    "os.environ[\"SPARK_LOCAL_DIRS\"] = \"/temp\"\n",
    "os.environ[\"PYARROW_IGNORE_TIMEZONE\"] = \"1\"\n",
    "\n",
    "spark_conf = SparkConf()\n",
    "spark_conf.set(\"spark.ui.showConsoleProgress\", \"True\")\n",
    "spark_conf.set(\"spark.executor.instances\", \"2\")\n",
    "spark_conf.set(\"spark.executor.cores\", \"2\")\n",
    "spark_conf.set(\"spark.executor.memory\", \"16g\")\n",
    "spark_conf.set(\"spark.driver.memory\", \"64g\")\n",
    "spark_conf.set(\"spark.driver.maxResultSize\", \"32g\")\n",
    "spark_conf.set(\"spark.parquet.filterPushdown\", \"true\")\n",
    "spark_conf.set(\"spark.local.dir\", \"/temp\")\n",
    "spark_conf.getAll()\n",
    "\n",
    "sc = SparkContext(conf=spark_conf)\n",
    "sc.setLogLevel(\"ERROR\")\n",
    "spark = SparkSession(sc)\n",
    "\n",
    "pd.set_option('display.max_rows', 500)\n",
    "pd.set_option('display.max_columns', 500)\n",
    "pd.set_option('display.width', 1000)\n",
    "sns.set_context('talk')"
   ]
  },
  {
   "cell_type": "code",
   "execution_count": 4,
   "id": "a69a2f8c",
   "metadata": {
    "execution": {
     "iopub.execute_input": "2023-07-27T20:44:07.743134Z",
     "iopub.status.busy": "2023-07-27T20:44:07.742735Z",
     "iopub.status.idle": "2023-07-27T20:44:08.272040Z",
     "shell.execute_reply": "2023-07-27T20:44:08.271504Z"
    },
    "papermill": {
     "duration": 0.536238,
     "end_time": "2023-07-27T20:44:08.273544",
     "exception": false,
     "start_time": "2023-07-27T20:44:07.737306",
     "status": "completed"
    },
    "tags": []
   },
   "outputs": [],
   "source": [
    "#---Local paths---#\n",
    "PROJECT_DIR = ROOT_DIR + f'projects/{PROJECT_SLUG}/'\n",
    "\n",
    "#---Load all custom scripts---#\n",
    "SCRIPT_DIR = PROJECT_DIR + 'scripts/'\n",
    "sys.path.append(SCRIPT_DIR)\n",
    "\n",
    "import create_mixture as cm\n",
    "import score_matrix as sm\n",
    "import deconvolution as dcnv\n",
    "import helper as hlpr\n",
    "\n",
    "pd.set_option('display.max_rows', 500)\n",
    "pd.set_option('display.max_columns', 500)\n",
    "pd.set_option('display.width', 1000)"
   ]
  },
  {
   "cell_type": "code",
   "execution_count": 5,
   "id": "4dd4a4b8",
   "metadata": {
    "execution": {
     "iopub.execute_input": "2023-07-27T20:44:08.284058Z",
     "iopub.status.busy": "2023-07-27T20:44:08.283768Z",
     "iopub.status.idle": "2023-07-27T20:44:08.289389Z",
     "shell.execute_reply": "2023-07-27T20:44:08.288959Z"
    },
    "papermill": {
     "duration": 0.012042,
     "end_time": "2023-07-27T20:44:08.290640",
     "exception": false,
     "start_time": "2023-07-27T20:44:08.278598",
     "status": "completed"
    },
    "tags": []
   },
   "outputs": [
    {
     "data": {
      "text/plain": [
       "<module 'helper' from '/analysis/gh-msun/projects/2023_06_26_SRT_deconvolution_MS/scripts/helper.py'>"
      ]
     },
     "execution_count": 5,
     "metadata": {},
     "output_type": "execute_result"
    }
   ],
   "source": [
    "importlib.reload(cm)\n",
    "importlib.reload(sm)\n",
    "importlib.reload(dcnv)\n",
    "importlib.reload(hlpr)"
   ]
  },
  {
   "cell_type": "code",
   "execution_count": 6,
   "id": "5f273035",
   "metadata": {
    "execution": {
     "iopub.execute_input": "2023-07-27T20:44:08.300042Z",
     "iopub.status.busy": "2023-07-27T20:44:08.299821Z",
     "iopub.status.idle": "2023-07-27T20:44:08.305246Z",
     "shell.execute_reply": "2023-07-27T20:44:08.304820Z"
    },
    "papermill": {
     "duration": 0.011393,
     "end_time": "2023-07-27T20:44:08.306401",
     "exception": false,
     "start_time": "2023-07-27T20:44:08.295008",
     "status": "completed"
    },
    "tags": []
   },
   "outputs": [
    {
     "data": {
      "text/plain": [
       "[0.2,\n",
       " 0.06666666666666667,\n",
       " 0.05714285714285714,\n",
       " 0.047619047619047616,\n",
       " 0.0857142857142857,\n",
       " 0.5428571428571428]"
      ]
     },
     "execution_count": 6,
     "metadata": {},
     "output_type": "execute_result"
    }
   ],
   "source": [
    "#################################\n",
    "#   Set titration proportions   #\n",
    "#################################\n",
    "\n",
    "# Reorder such that the titrating cell type comes first\n",
    "CELLTYPES_unordered = CELLTYPES.copy()\n",
    "CELLTYPES = hlpr.titration_reordering(list_of_cell_types=CELLTYPES, \n",
    "                                      titrating_cell_type=TITRATING_CELLTYPE)\n",
    "\n",
    "# Reorder abridged name\n",
    "ABRIDGED_NAMES = hlpr.reorder_abridged_name(unordered_celltypes=CELLTYPES_unordered,\n",
    "                                            ordered_celltypes=CELLTYPES,\n",
    "                                            unordered_abridged_names=ABRIDGED_NAMES)\n",
    "    \n",
    "# set titration proportions\n",
    "if BACKGROUND == 'uniform':\n",
    "    PROPORTIONS = hlpr.generate_uniform_background_proportions(titration_list=TITRATION_LIST, \n",
    "                                                               cell_types=CELLTYPES)\n",
    "\n",
    "if BACKGROUND == 'wholeblood':\n",
    "    PROPORTIONS = hlpr.generate_custom_background_proportions(titration_list=TITRATION_LIST, \n",
    "                                                              custom_proportion=WHOLE_BLOOD_ABUNDANCE, \n",
    "                                                              list_of_celltypes=CELLTYPES, \n",
    "                                                              titrating_celltype=TITRATING_CELLTYPE)\n",
    "\n",
    "PROPORTIONS[0]    "
   ]
  },
  {
   "cell_type": "markdown",
   "id": "c74fad12",
   "metadata": {
    "papermill": {
     "duration": 0.004367,
     "end_time": "2023-07-27T20:44:08.315133",
     "exception": false,
     "start_time": "2023-07-27T20:44:08.310766",
     "status": "completed"
    },
    "tags": []
   },
   "source": [
    "## Create mixture"
   ]
  },
  {
   "cell_type": "code",
   "execution_count": 7,
   "id": "2a419240",
   "metadata": {
    "execution": {
     "iopub.execute_input": "2023-07-27T20:44:08.324702Z",
     "iopub.status.busy": "2023-07-27T20:44:08.324499Z",
     "iopub.status.idle": "2023-07-27T20:44:08.327261Z",
     "shell.execute_reply": "2023-07-27T20:44:08.326840Z"
    },
    "papermill": {
     "duration": 0.008804,
     "end_time": "2023-07-27T20:44:08.328378",
     "exception": false,
     "start_time": "2023-07-27T20:44:08.319574",
     "status": "completed"
    },
    "tags": []
   },
   "outputs": [],
   "source": [
    "############################\n",
    "#   Parameters and paths   # \n",
    "############################\n",
    "EXPERIMENT_DIR = PROJECT_DIR + f'output/experiment/{EXPERIMENT}/'\n",
    "EXPERIMENT_NAME = f'{TITRATING_CELLTYPE}-{BACKGROUND}/'\n",
    "PARQUET_PATH = PROJECT_DIR + 'output/mixture_source/'\n",
    "EXPERIMENT_CELLTYPE_DIR = EXPERIMENT_DIR + f'{EXPERIMENT_NAME}/'\n",
    "RESULT_PATH = EXPERIMENT_CELLTYPE_DIR + 'mixture/'\n"
   ]
  },
  {
   "cell_type": "code",
   "execution_count": 8,
   "id": "8b70606f",
   "metadata": {
    "execution": {
     "iopub.execute_input": "2023-07-27T20:44:08.337923Z",
     "iopub.status.busy": "2023-07-27T20:44:08.337721Z",
     "iopub.status.idle": "2023-07-27T20:44:39.279811Z",
     "shell.execute_reply": "2023-07-27T20:44:39.279187Z"
    },
    "papermill": {
     "duration": 30.953091,
     "end_time": "2023-07-27T20:44:39.285880",
     "exception": false,
     "start_time": "2023-07-27T20:44:08.332789",
     "status": "completed"
    },
    "tags": []
   },
   "outputs": [
    {
     "name": "stdout",
     "output_type": "stream",
     "text": [
      ">>> Load parquet files and count rows... <<<\n",
      "----------> Loading cell type: Blueprint-CD4\n"
     ]
    },
    {
     "name": "stdout",
     "output_type": "stream",
     "text": [
      "----------> Loading cell type: Blueprint-CD8\n"
     ]
    },
    {
     "name": "stdout",
     "output_type": "stream",
     "text": [
      "----------> Loading cell type: Blueprint-B\n"
     ]
    },
    {
     "name": "stdout",
     "output_type": "stream",
     "text": [
      "----------> Loading cell type: Blueprint-NK\n"
     ]
    },
    {
     "name": "stdout",
     "output_type": "stream",
     "text": [
      "----------> Loading cell type: Blueprint-Mono\n"
     ]
    },
    {
     "name": "stdout",
     "output_type": "stream",
     "text": [
      "----------> Loading cell type: Blueprint-Neutro\n"
     ]
    },
    {
     "name": "stdout",
     "output_type": "stream",
     "text": [
      ">>> Complete. <<< \n",
      "\n",
      ">>> Start mixing... <<<\n",
      "--> PROPORTION: [0.2, 0.06666666666666667, 0.05714285714285714, 0.047619047619047616, 0.0857142857142857, 0.5428571428571428]\n",
      "----------> Creating mixture 0... \n"
     ]
    },
    {
     "name": "stdout",
     "output_type": "stream",
     "text": [
      "----------> Creating mixture 1... \n"
     ]
    },
    {
     "name": "stdout",
     "output_type": "stream",
     "text": [
      "--> PROPORTION: [0.15, 0.07083333333333333, 0.06071428571428571, 0.05059523809523809, 0.09107142857142855, 0.5767857142857142]\n",
      "----------> Creating mixture 0... \n"
     ]
    },
    {
     "name": "stdout",
     "output_type": "stream",
     "text": [
      "----------> Creating mixture 1... \n"
     ]
    },
    {
     "name": "stdout",
     "output_type": "stream",
     "text": [
      ">>> Complete. <<< \n",
      "\n",
      "CPU times: user 33.2 ms, sys: 11.5 ms, total: 44.7 ms\n",
      "Wall time: 30.9 s\n"
     ]
    }
   ],
   "source": [
    "%%time\n",
    "# load parquet files for each celltype & count rows\n",
    "parquet_df, total_reads_per_celltype = cm.load_parquet_dataframe(parquet_path=PARQUET_PATH,\n",
    "                                                                  cell_types=CELLTYPES,\n",
    "                                                                  spark=spark,\n",
    "                                                                  verbose=True)\n",
    "\n",
    "# mix cell types for each proportion set\n",
    "cm.mix_celltypes_multiple_proportions(parquet_df=parquet_df,\n",
    "                                       total_reads_per_celltype=total_reads_per_celltype,\n",
    "                                    #    n=len(TITRATION_LIST), \n",
    "                                       n=N_REPLICATES,\n",
    "                                       cell_types=CELLTYPES, \n",
    "                                       cell_type_abridged_name=ABRIDGED_NAMES, \n",
    "                                       total_reads_to_sample=TOTAL_READS_TO_SAMPLE, \n",
    "                                       list_of_proportions=PROPORTIONS, \n",
    "                                       seed=SEED, \n",
    "                                       result_path=RESULT_PATH, \n",
    "                                       spark=spark,\n",
    "                                       verbose=False, \n",
    "                                       save=True)"
   ]
  },
  {
   "cell_type": "markdown",
   "id": "13aa5ae7",
   "metadata": {
    "papermill": {
     "duration": 0.005274,
     "end_time": "2023-07-27T20:44:39.296876",
     "exception": false,
     "start_time": "2023-07-27T20:44:39.291602",
     "status": "completed"
    },
    "tags": []
   },
   "source": [
    "## Compute score matrix"
   ]
  },
  {
   "cell_type": "code",
   "execution_count": 9,
   "id": "370e2bb3",
   "metadata": {
    "execution": {
     "iopub.execute_input": "2023-07-27T20:44:39.307815Z",
     "iopub.status.busy": "2023-07-27T20:44:39.307570Z",
     "iopub.status.idle": "2023-07-27T20:44:39.311469Z",
     "shell.execute_reply": "2023-07-27T20:44:39.310943Z"
    },
    "papermill": {
     "duration": 0.010719,
     "end_time": "2023-07-27T20:44:39.312668",
     "exception": false,
     "start_time": "2023-07-27T20:44:39.301949",
     "status": "completed"
    },
    "tags": []
   },
   "outputs": [],
   "source": [
    "############################\n",
    "#   Parameters and paths   # \n",
    "############################\n",
    "\n",
    "FILTER_CG_COUNT = 3\n",
    "FILTER_CG_COUNT_REGION = 1\n",
    "\n",
    "REGIONS = 'deconvolution_v2.v23_conv.with_cpg_index'\n",
    "REGION_BED_COLS = [\n",
    "    'region_chr', 'region_start', 'region_end', \n",
    "    'region_cpg_index_min', 'region_cpg_index_max', 'region_id'\n",
    "]\n",
    "\n",
    "# Regions\n",
    "REGION_PATH = (\n",
    "    PROJECT_DIR + '/stage/panel_data/{regions}.bed'\n",
    ").format(regions=REGIONS)\n",
    "\n",
    "# CpG map; genomic coordinate to CpG index;\n",
    "CPG_MAP_PATH = PROJECT_DIR + '/stage/cpg_loci/cpg_loci_hg19.combined_annot.tsv.gz'\n",
    "\n",
    "#--- Where to store results\n",
    "PATH_TO_MIXTURE_DIR = EXPERIMENT_CELLTYPE_DIR + 'mixture/'\n",
    "RESULT_PATH = EXPERIMENT_CELLTYPE_DIR\n"
   ]
  },
  {
   "cell_type": "code",
   "execution_count": 10,
   "id": "990062a5",
   "metadata": {
    "execution": {
     "iopub.execute_input": "2023-07-27T20:44:39.323477Z",
     "iopub.status.busy": "2023-07-27T20:44:39.323266Z",
     "iopub.status.idle": "2023-07-27T20:45:04.242244Z",
     "shell.execute_reply": "2023-07-27T20:45:04.241576Z"
    },
    "papermill": {
     "duration": 24.926263,
     "end_time": "2023-07-27T20:45:04.243914",
     "exception": false,
     "start_time": "2023-07-27T20:44:39.317651",
     "status": "completed"
    },
    "tags": []
   },
   "outputs": [],
   "source": [
    "cpg_map = pd.read_csv(CPG_MAP_PATH, usecols=['chr', 'start', 'end', 'cpg_index', 'cpg_index_hg38'], sep='\\t')"
   ]
  },
  {
   "cell_type": "code",
   "execution_count": 11,
   "id": "34e1dbc0",
   "metadata": {
    "execution": {
     "iopub.execute_input": "2023-07-27T20:45:04.256439Z",
     "iopub.status.busy": "2023-07-27T20:45:04.256186Z",
     "iopub.status.idle": "2023-07-27T20:45:24.153606Z",
     "shell.execute_reply": "2023-07-27T20:45:24.152966Z"
    },
    "papermill": {
     "duration": 19.90497,
     "end_time": "2023-07-27T20:45:24.154959",
     "exception": false,
     "start_time": "2023-07-27T20:45:04.249989",
     "status": "completed"
    },
    "tags": []
   },
   "outputs": [
    {
     "name": "stdout",
     "output_type": "stream",
     "text": [
      "CPU times: user 14.4 s, sys: 5.53 s, total: 20 s\n",
      "Wall time: 19.9 s\n"
     ]
    }
   ],
   "source": [
    "%%time\n",
    "ridxs = ~cpg_map['cpg_index_hg38'].isna()\n",
    "hg19_hg38_map = dict(itertools.zip_longest(cpg_map[ridxs]['cpg_index'], cpg_map[ridxs]['cpg_index_hg38'].astype(int)))\n",
    "hg38_hg19_map = dict(itertools.zip_longest(cpg_map[ridxs]['cpg_index_hg38'].astype(int), cpg_map[ridxs]['cpg_index']))"
   ]
  },
  {
   "cell_type": "code",
   "execution_count": 12,
   "id": "eec09f72",
   "metadata": {
    "execution": {
     "iopub.execute_input": "2023-07-27T20:45:24.167567Z",
     "iopub.status.busy": "2023-07-27T20:45:24.167323Z",
     "iopub.status.idle": "2023-07-27T20:45:55.673514Z",
     "shell.execute_reply": "2023-07-27T20:45:55.672924Z"
    },
    "papermill": {
     "duration": 31.518686,
     "end_time": "2023-07-27T20:45:55.679720",
     "exception": false,
     "start_time": "2023-07-27T20:45:24.161034",
     "status": "completed"
    },
    "tags": []
   },
   "outputs": [
    {
     "data": {
      "text/plain": [
       "(1658, 1658)"
      ]
     },
     "execution_count": 12,
     "metadata": {},
     "output_type": "execute_result"
    }
   ],
   "source": [
    "region_df = pd.read_csv(REGION_PATH, sep='\\t', usecols=range(0, 6), names=REGION_BED_COLS)\n",
    "\n",
    "region_df['region_cpg_index_max'] -= 1\n",
    "region_df.sort_values('region_cpg_index_min', inplace=True)\n",
    "region_df['region_cpg_index_min_hg38'] = region_df['region_cpg_index_min'].map(hg19_hg38_map)\n",
    "region_df['region_cpg_index_max_hg38'] = region_df['region_cpg_index_max'].map(hg19_hg38_map)\n",
    "\n",
    "region_df.shape[0], region_df['region_id'].nunique()"
   ]
  },
  {
   "cell_type": "code",
   "execution_count": 13,
   "id": "85e5d232",
   "metadata": {
    "execution": {
     "iopub.execute_input": "2023-07-27T20:45:55.692178Z",
     "iopub.status.busy": "2023-07-27T20:45:55.691934Z",
     "iopub.status.idle": "2023-07-27T20:45:55.698456Z",
     "shell.execute_reply": "2023-07-27T20:45:55.697947Z"
    },
    "papermill": {
     "duration": 0.0139,
     "end_time": "2023-07-27T20:45:55.699621",
     "exception": false,
     "start_time": "2023-07-27T20:45:55.685721",
     "status": "completed"
    },
    "tags": []
   },
   "outputs": [
    {
     "data": {
      "text/plain": [
       "(1658, 1658)"
      ]
     },
     "execution_count": 13,
     "metadata": {},
     "output_type": "execute_result"
    }
   ],
   "source": [
    "ridxs = ~region_df['region_cpg_index_min_hg38'].isna()\n",
    "ridxs &= ~region_df['region_cpg_index_max_hg38'].isna()\n",
    "region_df = region_df[ridxs].copy()\n",
    "region_df.shape[0], region_df['region_id'].nunique()"
   ]
  },
  {
   "cell_type": "code",
   "execution_count": 14,
   "id": "246ad080",
   "metadata": {
    "execution": {
     "iopub.execute_input": "2023-07-27T20:45:55.711203Z",
     "iopub.status.busy": "2023-07-27T20:45:55.710988Z",
     "iopub.status.idle": "2023-07-27T20:45:55.717688Z",
     "shell.execute_reply": "2023-07-27T20:45:55.717187Z"
    },
    "papermill": {
     "duration": 0.013779,
     "end_time": "2023-07-27T20:45:55.718856",
     "exception": false,
     "start_time": "2023-07-27T20:45:55.705077",
     "status": "completed"
    },
    "tags": []
   },
   "outputs": [
    {
     "data": {
      "text/plain": [
       "(1657, 1657)"
      ]
     },
     "execution_count": 14,
     "metadata": {},
     "output_type": "execute_result"
    }
   ],
   "source": [
    "cg_count_hg19 = region_df['region_cpg_index_max']-region_df['region_cpg_index_min'] + 1\n",
    "cg_count_hg38 = region_df['region_cpg_index_max_hg38']-region_df['region_cpg_index_min_hg38'] + 1\n",
    "ridxs = (cg_count_hg19==cg_count_hg38)\n",
    "ridxs &= (cg_count_hg19>=FILTER_CG_COUNT_REGION)\n",
    "region_df = region_df[ridxs].copy()\n",
    "region_df.shape[0], region_df['region_id'].nunique()"
   ]
  },
  {
   "cell_type": "code",
   "execution_count": 15,
   "id": "b6bce3a2",
   "metadata": {
    "execution": {
     "iopub.execute_input": "2023-07-27T20:45:55.730593Z",
     "iopub.status.busy": "2023-07-27T20:45:55.730380Z",
     "iopub.status.idle": "2023-07-27T20:45:55.733986Z",
     "shell.execute_reply": "2023-07-27T20:45:55.733482Z"
    },
    "papermill": {
     "duration": 0.010831,
     "end_time": "2023-07-27T20:45:55.735149",
     "exception": false,
     "start_time": "2023-07-27T20:45:55.724318",
     "status": "completed"
    },
    "tags": []
   },
   "outputs": [],
   "source": [
    "region_df['region_cpg_index_min_hg38'] = region_df['region_cpg_index_min_hg38'].astype(int)\n",
    "region_df['region_cpg_index_max_hg38'] = region_df['region_cpg_index_max_hg38'].astype(int)"
   ]
  },
  {
   "cell_type": "code",
   "execution_count": 16,
   "id": "0085f85f",
   "metadata": {
    "execution": {
     "iopub.execute_input": "2023-07-27T20:45:55.746779Z",
     "iopub.status.busy": "2023-07-27T20:45:55.746568Z",
     "iopub.status.idle": "2023-07-27T20:45:55.758945Z",
     "shell.execute_reply": "2023-07-27T20:45:55.758450Z"
    },
    "papermill": {
     "duration": 0.019617,
     "end_time": "2023-07-27T20:45:55.760196",
     "exception": false,
     "start_time": "2023-07-27T20:45:55.740579",
     "status": "completed"
    },
    "tags": []
   },
   "outputs": [
    {
     "data": {
      "text/html": [
       "<div>\n",
       "<style scoped>\n",
       "    .dataframe tbody tr th:only-of-type {\n",
       "        vertical-align: middle;\n",
       "    }\n",
       "\n",
       "    .dataframe tbody tr th {\n",
       "        vertical-align: top;\n",
       "    }\n",
       "\n",
       "    .dataframe thead th {\n",
       "        text-align: right;\n",
       "    }\n",
       "</style>\n",
       "<table border=\"1\" class=\"dataframe\">\n",
       "  <thead>\n",
       "    <tr style=\"text-align: right;\">\n",
       "      <th></th>\n",
       "      <th>region_chr</th>\n",
       "      <th>region_start</th>\n",
       "      <th>region_end</th>\n",
       "      <th>region_cpg_index_min</th>\n",
       "      <th>region_cpg_index_max</th>\n",
       "      <th>region_id</th>\n",
       "      <th>region_cpg_index_min_hg38</th>\n",
       "      <th>region_cpg_index_max_hg38</th>\n",
       "    </tr>\n",
       "  </thead>\n",
       "  <tbody>\n",
       "    <tr>\n",
       "      <th>0</th>\n",
       "      <td>chr1</td>\n",
       "      <td>1114771</td>\n",
       "      <td>1114971</td>\n",
       "      <td>20117</td>\n",
       "      <td>20129</td>\n",
       "      <td>Immune_Broad_B-chr1:1114772-1114971</td>\n",
       "      <td>21119</td>\n",
       "      <td>21131</td>\n",
       "    </tr>\n",
       "    <tr>\n",
       "      <th>1</th>\n",
       "      <td>chr1</td>\n",
       "      <td>1157450</td>\n",
       "      <td>1157720</td>\n",
       "      <td>21684</td>\n",
       "      <td>21703</td>\n",
       "      <td>Immune_Broad_NK-chr1:1157451-1157720</td>\n",
       "      <td>22686</td>\n",
       "      <td>22705</td>\n",
       "    </tr>\n",
       "    <tr>\n",
       "      <th>2</th>\n",
       "      <td>chr1</td>\n",
       "      <td>1157879</td>\n",
       "      <td>1158277</td>\n",
       "      <td>21710</td>\n",
       "      <td>21726</td>\n",
       "      <td>Immune_Broad_NK-chr1:1157880-1158277</td>\n",
       "      <td>22712</td>\n",
       "      <td>22728</td>\n",
       "    </tr>\n",
       "    <tr>\n",
       "      <th>14</th>\n",
       "      <td>chr1</td>\n",
       "      <td>6341182</td>\n",
       "      <td>6341377</td>\n",
       "      <td>140667</td>\n",
       "      <td>140681</td>\n",
       "      <td>Immune_Broad_Eosi-chr1:6341183-6341377</td>\n",
       "      <td>142368</td>\n",
       "      <td>142382</td>\n",
       "    </tr>\n",
       "    <tr>\n",
       "      <th>19</th>\n",
       "      <td>chr1</td>\n",
       "      <td>9147788</td>\n",
       "      <td>9147871</td>\n",
       "      <td>188605</td>\n",
       "      <td>188608</td>\n",
       "      <td>Immune_Broad_Neutro-chr1:9147789-9147871</td>\n",
       "      <td>190307</td>\n",
       "      <td>190310</td>\n",
       "    </tr>\n",
       "  </tbody>\n",
       "</table>\n",
       "</div>"
      ],
      "text/plain": [
       "   region_chr  region_start  region_end  region_cpg_index_min  region_cpg_index_max                                 region_id  region_cpg_index_min_hg38  region_cpg_index_max_hg38\n",
       "0        chr1       1114771     1114971                 20117                 20129       Immune_Broad_B-chr1:1114772-1114971                      21119                      21131\n",
       "1        chr1       1157450     1157720                 21684                 21703      Immune_Broad_NK-chr1:1157451-1157720                      22686                      22705\n",
       "2        chr1       1157879     1158277                 21710                 21726      Immune_Broad_NK-chr1:1157880-1158277                      22712                      22728\n",
       "14       chr1       6341182     6341377                140667                140681    Immune_Broad_Eosi-chr1:6341183-6341377                     142368                     142382\n",
       "19       chr1       9147788     9147871                188605                188608  Immune_Broad_Neutro-chr1:9147789-9147871                     190307                     190310"
      ]
     },
     "execution_count": 16,
     "metadata": {},
     "output_type": "execute_result"
    }
   ],
   "source": [
    "### Restrict to immune regions\n",
    "#-------------- CHANGE HERE FOR DIFFERENT REGION SUBSET ----------------------\n",
    "# BLUEPRINT immune regions\n",
    "ATLAS_PATH = PROJECT_DIR + f'/output/reference/deconv_inhouse_v2.atlas.tsv.gz'\n",
    "atlas = pd.read_csv(ATLAS_PATH, sep='\\t')\n",
    "subset_region_set = set(atlas.region_id)\n",
    "#-----------------------------------------------------------------------------\n",
    "\n",
    "# filter regions down to regions of interest\n",
    "region_df = region_df[region_df['region_id'].isin(subset_region_set)]\n",
    "region_df.head()"
   ]
  },
  {
   "cell_type": "code",
   "execution_count": 17,
   "id": "6c1ec6b5",
   "metadata": {
    "execution": {
     "iopub.execute_input": "2023-07-27T20:45:55.772447Z",
     "iopub.status.busy": "2023-07-27T20:45:55.772237Z",
     "iopub.status.idle": "2023-07-27T20:50:11.959200Z",
     "shell.execute_reply": "2023-07-27T20:50:11.958659Z"
    },
    "papermill": {
     "duration": 256.200252,
     "end_time": "2023-07-27T20:50:11.966261",
     "exception": false,
     "start_time": "2023-07-27T20:45:55.766009",
     "status": "completed"
    },
    "tags": []
   },
   "outputs": [
    {
     "name": "stdout",
     "output_type": "stream",
     "text": [
      ">>> Start computing score matrices <<< \n",
      "\n",
      "--> E2CD4_E0667CD8_E0571B_E0476NK_E0857MONO_E5429NEUTRO\n",
      "--------> Computing score matrix for mix0_seed470800\n"
     ]
    },
    {
     "name": "stdout",
     "output_type": "stream",
     "text": [
      "--------> Computing score matrix for mix1_seed966852\n"
     ]
    },
    {
     "name": "stdout",
     "output_type": "stream",
     "text": [
      "\n",
      "\n",
      "--> E15CD4_E0708CD8_E0607B_E0506NK_E0911MONO_E5768NEUTRO\n",
      "--------> Computing score matrix for mix0_seed327469\n"
     ]
    },
    {
     "name": "stdout",
     "output_type": "stream",
     "text": [
      "--------> Computing score matrix for mix1_seed942713\n"
     ]
    },
    {
     "name": "stdout",
     "output_type": "stream",
     "text": [
      "\n",
      "\n",
      ">>> Complete. <<< \n",
      "\n",
      "CPU times: user 2.58 s, sys: 526 ms, total: 3.1 s\n",
      "Wall time: 4min 16s\n"
     ]
    }
   ],
   "source": [
    "%%time\n",
    "\n",
    "PAT_COLS = [\n",
    "    'molecule_id', 'chr', 'number_molecules',\n",
    "    'cpg_index_min', 'cpg_index_max', 'pat_string'\n",
    "]\n",
    "\n",
    "QUANTILES = [0.1, 0.25, 0.75, 0.9]\n",
    "KMERS = [1, 3, 4]\n",
    "RATES_LEQ = [0.25]\n",
    "RATES_GEQ = [0.75]\n",
    "\n",
    "RETURN_SCHEMA = StructType()\\\n",
    "    .add('region_id', 'string')\\\n",
    "    .add('number_molecules', 'integer')\\\n",
    "    .add('meth_k1', 'integer')\\\n",
    "    .add('unmeth_k1', 'integer')\\\n",
    "    .add('total_k1', 'integer')\\\n",
    "    .add('meth_k3', 'integer')\\\n",
    "    .add('unmeth_k3', 'integer')\\\n",
    "    .add('total_k3', 'integer')\\\n",
    "    .add('meth_k4', 'integer')\\\n",
    "    .add('unmeth_k4', 'integer')\\\n",
    "    .add('total_k4', 'integer')\\\n",
    "    .add('frac_alpha_leq_25pct', 'float')\\\n",
    "    .add('frac_alpha_geq_75pct', 'float')\n",
    "\n",
    "compute_frag_scores_udf = sm.compute_frag_scores(cpg_number_cutoff=FILTER_CG_COUNT, schema=RETURN_SCHEMA, kmers=KMERS, rates_leq=RATES_LEQ, rates_geq=RATES_GEQ)\n",
    "\n",
    "\n",
    "# compute methyl score for are parquet files\n",
    "sm.score_matrix_from_mixture_directory(path_to_mixture_dir = PATH_TO_MIXTURE_DIR, \n",
    "                                       result_path = RESULT_PATH, \n",
    "                                       pat_cols = PAT_COLS, \n",
    "                                       region_df = region_df, \n",
    "                                       batch_size = 20, \n",
    "                                       schema = RETURN_SCHEMA, \n",
    "                                       spark=spark,\n",
    "                                       compute_frag_scores_udf=compute_frag_scores_udf,\n",
    "                                       save=True, \n",
    "                                       verbose=False)"
   ]
  },
  {
   "cell_type": "markdown",
   "id": "b83e9fbc",
   "metadata": {
    "papermill": {
     "duration": 0.006273,
     "end_time": "2023-07-27T20:50:11.979242",
     "exception": false,
     "start_time": "2023-07-27T20:50:11.972969",
     "status": "completed"
    },
    "tags": []
   },
   "source": [
    "## Deconvolution"
   ]
  },
  {
   "cell_type": "code",
   "execution_count": 18,
   "id": "bd57b4cc",
   "metadata": {
    "execution": {
     "iopub.execute_input": "2023-07-27T20:50:11.994239Z",
     "iopub.status.busy": "2023-07-27T20:50:11.993988Z",
     "iopub.status.idle": "2023-07-27T20:50:11.997050Z",
     "shell.execute_reply": "2023-07-27T20:50:11.996580Z"
    },
    "papermill": {
     "duration": 0.011049,
     "end_time": "2023-07-27T20:50:11.998239",
     "exception": false,
     "start_time": "2023-07-27T20:50:11.987190",
     "status": "completed"
    },
    "tags": []
   },
   "outputs": [],
   "source": [
    "############################\n",
    "#   Parameters and paths   # \n",
    "############################\n",
    "\n",
    "FILTER_COV = 20\n",
    "\n",
    "SCORE_VAR = 'frac_alpha_leq_25pct'\n",
    "\n",
    "# Reference matrix\n",
    "ATLAS_PATH = PROJECT_DIR + 'output/reference/deconv_inhouse_v2.atlas.tsv.gz'\n",
    "REGION_PATH = PROJECT_DIR + 'output/reference/deconv_inhouse_v2.region_to_ref_celltype.tsv.gz'\n",
    "\n",
    "# Methylation score matrix\n",
    "SCORE_DIR = EXPERIMENT_CELLTYPE_DIR + 'methyl_score/'\n"
   ]
  },
  {
   "cell_type": "code",
   "execution_count": 19,
   "id": "515a4893",
   "metadata": {
    "execution": {
     "iopub.execute_input": "2023-07-27T20:50:12.011062Z",
     "iopub.status.busy": "2023-07-27T20:50:12.010853Z",
     "iopub.status.idle": "2023-07-27T20:50:12.020682Z",
     "shell.execute_reply": "2023-07-27T20:50:12.020253Z"
    },
    "papermill": {
     "duration": 0.017697,
     "end_time": "2023-07-27T20:50:12.021882",
     "exception": false,
     "start_time": "2023-07-27T20:50:12.004185",
     "status": "completed"
    },
    "tags": []
   },
   "outputs": [
    {
     "data": {
      "text/plain": [
       "(280, 9)"
      ]
     },
     "execution_count": 19,
     "metadata": {},
     "output_type": "execute_result"
    }
   ],
   "source": [
    "atlas = pd.read_csv(ATLAS_PATH, sep='\\t',index_col=None)\n",
    "atlas = atlas.set_index('region_id')\n",
    "atlas.columns.name = 'ref_celltype'\n",
    "atlas.shape\n",
    "\n",
    "ref_region_df = pd.read_csv(REGION_PATH, sep='\\t')\n",
    "\n",
    "atlas = atlas.loc[ref_region_df['region_id'], :].copy()\n",
    "atlas.shape"
   ]
  },
  {
   "cell_type": "code",
   "execution_count": 20,
   "id": "1076d6f5",
   "metadata": {
    "execution": {
     "iopub.execute_input": "2023-07-27T20:50:12.034763Z",
     "iopub.status.busy": "2023-07-27T20:50:12.034557Z",
     "iopub.status.idle": "2023-07-27T20:50:12.037731Z",
     "shell.execute_reply": "2023-07-27T20:50:12.037307Z"
    },
    "papermill": {
     "duration": 0.011017,
     "end_time": "2023-07-27T20:50:12.038913",
     "exception": false,
     "start_time": "2023-07-27T20:50:12.027896",
     "status": "completed"
    },
    "tags": []
   },
   "outputs": [
    {
     "data": {
      "text/plain": [
       "Index(['immune_b', 'immune_t', 'immune_nk', 'immune_dend_plus_macro_plus_mono', 'immune_eosi', 'immune_neutro', 'immune_eryth', 'immune_mega', 'eryth_prog'], dtype='object', name='ref_celltype')"
      ]
     },
     "execution_count": 20,
     "metadata": {},
     "output_type": "execute_result"
    }
   ],
   "source": [
    "atlas.columns"
   ]
  },
  {
   "cell_type": "code",
   "execution_count": 21,
   "id": "7e317207",
   "metadata": {
    "execution": {
     "iopub.execute_input": "2023-07-27T20:50:12.052159Z",
     "iopub.status.busy": "2023-07-27T20:50:12.051955Z",
     "iopub.status.idle": "2023-07-27T20:50:12.095879Z",
     "shell.execute_reply": "2023-07-27T20:50:12.095413Z"
    },
    "papermill": {
     "duration": 0.051923,
     "end_time": "2023-07-27T20:50:12.097108",
     "exception": false,
     "start_time": "2023-07-27T20:50:12.045185",
     "status": "completed"
    },
    "tags": []
   },
   "outputs": [
    {
     "name": "stdout",
     "output_type": "stream",
     "text": [
      "CPU times: user 40.6 ms, sys: 65 µs, total: 40.6 ms\n",
      "Wall time: 40.5 ms\n"
     ]
    }
   ],
   "source": [
    "%%time\n",
    "\n",
    "deconvolution_nnls = dcnv.compute_deconvolution_from_methyl_score_dir_nnls(path_to_methyl_score_dir=SCORE_DIR, \n",
    "                                                                          score_type=SCORE_VAR, \n",
    "                                                                          atlas=atlas, \n",
    "                                                                          match=False)\n",
    "\n",
    "deconvolution_naive = dcnv.compute_deconvolution_from_methyl_score_dir_naive(path_to_methyl_score_dir=SCORE_DIR, \n",
    "                                                                             filter_cov=FILTER_COV, \n",
    "                                                                             score_var=SCORE_VAR, \n",
    "                                                                             ref_region_df=ref_region_df)\n"
   ]
  },
  {
   "cell_type": "code",
   "execution_count": 22,
   "id": "2b996bde",
   "metadata": {
    "execution": {
     "iopub.execute_input": "2023-07-27T20:50:12.112514Z",
     "iopub.status.busy": "2023-07-27T20:50:12.112298Z",
     "iopub.status.idle": "2023-07-27T20:50:12.233562Z",
     "shell.execute_reply": "2023-07-27T20:50:12.233061Z"
    },
    "papermill": {
     "duration": 0.130809,
     "end_time": "2023-07-27T20:50:12.235000",
     "exception": false,
     "start_time": "2023-07-27T20:50:12.104191",
     "status": "completed"
    },
    "tags": []
   },
   "outputs": [
    {
     "data": {
      "image/png": "[encoded data removed]",
      "text/plain": [
       "<Figure size 432x288 with 1 Axes>"
      ]
     },
     "metadata": {
      "needs_background": "light"
     },
     "output_type": "display_data"
    }
   ],
   "source": [
    "dcnv.boxplot_titration(list_of_deconvolution_dfs=deconvolution_naive,\n",
    "                      cell_type=TITRATING_CELLTYPE_ATLAS,\n",
    "                      true_proportions=TITRATION_LIST,\n",
    "                      deconvolution_method_name='naive'\n",
    "                      )"
   ]
  },
  {
   "cell_type": "code",
   "execution_count": 23,
   "id": "d44f79fc",
   "metadata": {
    "execution": {
     "iopub.execute_input": "2023-07-27T20:50:12.249480Z",
     "iopub.status.busy": "2023-07-27T20:50:12.249244Z",
     "iopub.status.idle": "2023-07-27T20:50:12.433517Z",
     "shell.execute_reply": "2023-07-27T20:50:12.432864Z"
    },
    "papermill": {
     "duration": 0.193027,
     "end_time": "2023-07-27T20:50:12.434889",
     "exception": false,
     "start_time": "2023-07-27T20:50:12.241862",
     "status": "completed"
    },
    "tags": []
   },
   "outputs": [
    {
     "data": {
      "image/png": "[encoded data removed]",
      "text/plain": [
       "<Figure size 432x288 with 1 Axes>"
      ]
     },
     "metadata": {
      "needs_background": "light"
     },
     "output_type": "display_data"
    }
   ],
   "source": [
    "dcnv.boxplot_titration(list_of_deconvolution_dfs=deconvolution_nnls,\n",
    "                      cell_type=TITRATING_CELLTYPE_ATLAS,\n",
    "                      true_proportions=TITRATION_LIST,\n",
    "                      deconvolution_method_name='nnls'\n",
    "                      )"
   ]
  },
  {
   "cell_type": "code",
   "execution_count": 24,
   "id": "ecdf2742",
   "metadata": {
    "execution": {
     "iopub.execute_input": "2023-07-27T20:50:12.450995Z",
     "iopub.status.busy": "2023-07-27T20:50:12.450759Z",
     "iopub.status.idle": "2023-07-27T20:50:12.697113Z",
     "shell.execute_reply": "2023-07-27T20:50:12.696595Z"
    },
    "papermill": {
     "duration": 0.255649,
     "end_time": "2023-07-27T20:50:12.698363",
     "exception": false,
     "start_time": "2023-07-27T20:50:12.442714",
     "status": "completed"
    },
    "tags": []
   },
   "outputs": [
    {
     "data": {
      "image/png": "[encoded data removed]",
      "text/plain": [
       "<Figure size 720x720 with 2 Axes>"
      ]
     },
     "metadata": {
      "needs_background": "light"
     },
     "output_type": "display_data"
    }
   ],
   "source": [
    "\n",
    "dcnv.boxplot_titration_zoom(list_of_deconvolution_dfs=deconvolution_naive,\n",
    "                      cell_type=TITRATING_CELLTYPE_ATLAS,\n",
    "                      true_proportions=TITRATION_LIST,\n",
    "                      deconvolution_method_name='naive'\n",
    "                      )"
   ]
  },
  {
   "cell_type": "code",
   "execution_count": 25,
   "id": "b5286bbd",
   "metadata": {
    "execution": {
     "iopub.execute_input": "2023-07-27T20:50:12.714165Z",
     "iopub.status.busy": "2023-07-27T20:50:12.713933Z",
     "iopub.status.idle": "2023-07-27T20:50:12.949453Z",
     "shell.execute_reply": "2023-07-27T20:50:12.948942Z"
    },
    "papermill": {
     "duration": 0.244854,
     "end_time": "2023-07-27T20:50:12.950754",
     "exception": false,
     "start_time": "2023-07-27T20:50:12.705900",
     "status": "completed"
    },
    "tags": []
   },
   "outputs": [
    {
     "data": {
      "image/png": "[encoded data removed]",
      "text/plain": [
       "<Figure size 720x720 with 2 Axes>"
      ]
     },
     "metadata": {
      "needs_background": "light"
     },
     "output_type": "display_data"
    }
   ],
   "source": [
    "\n",
    "dcnv.boxplot_titration_zoom(list_of_deconvolution_dfs=deconvolution_nnls,\n",
    "                      cell_type=TITRATING_CELLTYPE_ATLAS,\n",
    "                      true_proportions=TITRATION_LIST,\n",
    "                      deconvolution_method_name='nnls'\n",
    "                      )"
   ]
  },
  {
   "cell_type": "code",
   "execution_count": null,
   "id": "f20b8254",
   "metadata": {
    "papermill": {
     "duration": 0.008126,
     "end_time": "2023-07-27T20:50:12.967369",
     "exception": false,
     "start_time": "2023-07-27T20:50:12.959243",
     "status": "completed"
    },
    "tags": []
   },
   "outputs": [],
   "source": []
  },
  {
   "cell_type": "code",
   "execution_count": null,
   "id": "39ba7595",
   "metadata": {
    "papermill": {
     "duration": 0.007519,
     "end_time": "2023-07-27T20:50:12.984254",
     "exception": false,
     "start_time": "2023-07-27T20:50:12.976735",
     "status": "completed"
    },
    "tags": []
   },
   "outputs": [],
   "source": []
  }
 ],
 "metadata": {
  "kernelspec": {
   "display_name": "Python 3",
   "language": "python",
   "name": "python3"
  },
  "language_info": {
   "codemirror_mode": {
    "name": "ipython",
    "version": 3
   },
   "file_extension": ".py",
   "mimetype": "text/x-python",
   "name": "python",
   "nbconvert_exporter": "python",
   "pygments_lexer": "ipython3",
   "version": "3.7.8"
  },
  "papermill": {
   "default_parameters": {},
   "duration": 371.286564,
   "end_time": "2023-07-27T20:50:14.611189",
   "environment_variables": {},
   "exception": null,
   "input_path": "/analysis/gh-msun/projects/2023_06_26_SRT_deconvolution_MS//notebooks/titration/titration_experiment.ipynb",
   "output_path": "/analysis/gh-msun/projects/2023_06_26_SRT_deconvolution_MS//notebooks/titration/primary_immune_wholeblood/titration_CD4.ipynb",
   "parameters": {
    "ABRIDGED_NAMES": [
     "CD4",
     "CD8",
     "B",
     "NK",
     "MONO",
     "NEUTRO"
    ],
    "BACKGROUND": "wholeblood",
    "CELLTYPES": [
     "Blueprint-CD4",
     "Blueprint-CD8",
     "Blueprint-B",
     "Blueprint-NK",
     "Blueprint-Mono",
     "Blueprint-Neutro"
    ],
    "EXPERIMENT": "primary_immune",
    "N_REPLICATES": 2,
    "PROJECT_SLUG": "2023_06_26_SRT_deconvolution_MS",
    "ROOT_DIR": "/analysis/gh-msun/",
    "SEED": 83723,
    "TITRATING_CELLTYPE": "Blueprint-CD4",
    "TITRATING_CELLTYPE_ATLAS": "immune_t",
    "TITRATION_LIST": [
     0.2,
     0.15
    ],
    "TOTAL_READS_TO_SAMPLE": 1000000,
    "WHOLE_BLOOD_ABUNDANCE": {
     "Blueprint-B": 0.06,
     "Blueprint-CD4": 0.16,
     "Blueprint-CD8": 0.07,
     "Blueprint-Mono": 0.09,
     "Blueprint-NK": 0.05,
     "Blueprint-Neutro": 0.57
    }
   },
   "start_time": "2023-07-27T20:44:03.324625",
   "version": "2.4.0"
  }
 },
 "nbformat": 4,
 "nbformat_minor": 5
}