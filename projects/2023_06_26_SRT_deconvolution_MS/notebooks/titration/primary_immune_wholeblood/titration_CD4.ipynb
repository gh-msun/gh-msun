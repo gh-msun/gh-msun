{
 "cells": [
  {
   "cell_type": "markdown",
   "id": "05c50d1e",
   "metadata": {
    "papermill": {
     "duration": 0.005538,
     "end_time": "2023-07-28T00:00:02.627354",
     "exception": false,
     "start_time": "2023-07-28T00:00:02.621816",
     "status": "completed"
    },
    "tags": []
   },
   "source": [
    "# Titration Experiment"
   ]
  },
  {
   "cell_type": "code",
   "execution_count": 1,
   "id": "b4baabaa",
   "metadata": {
    "execution": {
     "iopub.execute_input": "2023-07-28T00:00:02.637597Z",
     "iopub.status.busy": "2023-07-28T00:00:02.637338Z",
     "iopub.status.idle": "2023-07-28T00:00:02.642459Z",
     "shell.execute_reply": "2023-07-28T00:00:02.642003Z"
    },
    "papermill": {
     "duration": 0.011245,
     "end_time": "2023-07-28T00:00:02.643637",
     "exception": false,
     "start_time": "2023-07-28T00:00:02.632392",
     "status": "completed"
    },
    "tags": [
     "parameters"
    ]
   },
   "outputs": [],
   "source": [
    "#############################\n",
    "#   Experiment parameters   #\n",
    "#############################\n",
    "ROOT_DIR = '/analysis/gh-msun/'\n",
    "PROJECT_SLUG = '2023_06_26_SRT_deconvolution_MS'\n",
    "EXPERIMENT = 'primary_immune'\n",
    "TITRATING_CELLTYPE = 'Blueprint-B'\n",
    "TITRATING_CELLTYPE_ATLAS = 'immune_b' # cell type name in atlas different\n",
    "BACKGROUND = 'wholeblood' # background: uniform / wholeblood \n",
    "N_REPLICATES = 2 # number of replicates for each mixture\n",
    "SEED = 888 # need to change for different experiment\n",
    "TOTAL_READS_TO_SAMPLE = 1000000\n",
    "\n",
    "# make sure the orders of the two list match\n",
    "CELLTYPES = ['Blueprint-CD4', 'Blueprint-CD8', 'Blueprint-B', 'Blueprint-NK', 'Blueprint-Mono', 'Blueprint-Neutro']\n",
    "ABRIDGED_NAMES = ['CD4', 'CD8', 'B', 'NK', 'MONO', 'NEUTRO'] # for directory name\n",
    "\n",
    "# TITRATION_LIST = [0.2, 0.15, 0.10, 0.08, 0.06, 0.04, 0.02, 0.01, \n",
    "#                   0.008, 0.006, 0.004, 0.002, 0.001, 0]\n",
    "TITRATION_LIST=[0.2, 0.15]\n",
    "\n",
    "# proportion of cells in real whole blood (sum to 1)\n",
    "WHOLE_BLOOD_ABUNDANCE = {'Blueprint-B':0.06,\n",
    "                         'Blueprint-Mono':0.09,\n",
    "                         'Blueprint-Neutro':0.57,\n",
    "                         'Blueprint-CD4':0.16,\n",
    "                         'Blueprint-CD8':0.07,\n",
    "                         'Blueprint-NK':0.05}\n",
    "    "
   ]
  },
  {
   "cell_type": "code",
   "execution_count": 1,
   "id": "d6c95d81",
   "metadata": {
    "papermill": {
     "duration": 0.00998,
     "end_time": "2023-07-28T00:00:02.658635",
     "exception": false,
     "start_time": "2023-07-28T00:00:02.648655",
     "status": "completed"
    },
    "tags": [
     "injected-parameters"
    ]
   },
   "outputs": [],
   "source": [
    "# Parameters\n",
    "ROOT_DIR = \"/analysis/gh-msun/\"\n",
    "PROJECT_SLUG = \"2023_06_26_SRT_deconvolution_MS\"\n",
    "EXPERIMENT = \"primary_immune\"\n",
    "TITRATING_CELLTYPE = \"Blueprint-CD4\"\n",
    "TITRATING_CELLTYPE_ATLAS = \"immune_t\"\n",
    "BACKGROUND = \"wholeblood\"\n",
    "N_REPLICATES = 20\n",
    "SEED = 83723\n",
    "TOTAL_READS_TO_SAMPLE = 1000000\n",
    "CELLTYPES = [\"Blueprint-CD4\", \"Blueprint-CD8\", \"Blueprint-B\", \"Blueprint-NK\", \"Blueprint-Mono\", \"Blueprint-Neutro\"]\n",
    "ABRIDGED_NAMES = [\"CD4\", \"CD8\", \"B\", \"NK\", \"MONO\", \"NEUTRO\"]\n",
    "TITRATION_LIST = [0.2, 0.15, 0.1, 0.08, 0.06, 0.04, 0.02, 0.01, 0.008, 0.006, 0.004, 0.002, 0.001, 0]\n",
    "WHOLE_BLOOD_ABUNDANCE = {\"Blueprint-B\": 0.06, \"Blueprint-Mono\": 0.09, \"Blueprint-Neutro\": 0.57, \"Blueprint-CD4\": 0.16, \"Blueprint-CD8\": 0.07, \"Blueprint-NK\": 0.05}\n"
   ]
  },
  {
   "cell_type": "code",
   "execution_count": 2,
   "id": "39b544b4",
   "metadata": {
    "papermill": {
     "duration": 3.411677,
     "end_time": "2023-07-28T00:00:06.074229",
     "exception": false,
     "start_time": "2023-07-28T00:00:02.662552",
     "status": "completed"
    },
    "tags": []
   },
   "outputs": [
    {
     "name": "stderr",
     "output_type": "stream",
     "text": [
      "/home/ec2-user/mambaforge/envs/2023_06_26_SRT_deconvolution_MS/lib/python3.7/site-packages/pyspark/context.py:317: FutureWarning: Python 3.7 support is deprecated in Spark 3.4.\n",
      "  warnings.warn(\"Python 3.7 support is deprecated in Spark 3.4.\", FutureWarning)\n"
     ]
    }
   ],
   "source": [
    "import glob\n",
    "import numpy as np\n",
    "import pandas as pd\n",
    "import seaborn as sns\n",
    "import matplotlib.pyplot as plt\n",
    "import itertools\n",
    "import functools\n",
    "import os\n",
    "import regex as re\n",
    "import random\n",
    "import importlib\n",
    "import sys\n",
    "\n",
    "from pyspark.sql import SparkSession\n",
    "from pyspark import SparkConf, SparkContext\n",
    "from pyspark.sql.types import IntegerType, LongType, ArrayType, StringType, DoubleType\n",
    "from pyspark.sql.functions import udf, explode, broadcast, count, lit, length, col\n",
    "from pyspark.sql import DataFrame\n",
    "from pyspark.sql.types import StructType\n",
    "\n",
    "# UPDATE HOME!\n",
    "os.environ[\"SPARK_HOME\"] = \"/home/ec2-user/mambaforge/envs/2023_06_26_SRT_deconvolution_MS/lib/python3.7/site-packages/pyspark\"\n",
    "# THIS needs to be set-up before running the notebook\n",
    "os.environ[\"SPARK_LOCAL_DIRS\"] = \"/temp\"\n",
    "os.environ[\"PYARROW_IGNORE_TIMEZONE\"] = \"1\"\n",
    "\n",
    "spark_conf = SparkConf()\n",
    "spark_conf.set(\"spark.ui.showConsoleProgress\", \"True\")\n",
    "spark_conf.set(\"spark.executor.instances\", \"2\")\n",
    "spark_conf.set(\"spark.executor.cores\", \"2\")\n",
    "spark_conf.set(\"spark.executor.memory\", \"16g\")\n",
    "spark_conf.set(\"spark.driver.memory\", \"64g\")\n",
    "spark_conf.set(\"spark.driver.maxResultSize\", \"32g\")\n",
    "spark_conf.set(\"spark.parquet.filterPushdown\", \"true\")\n",
    "spark_conf.set(\"spark.local.dir\", \"/temp\")\n",
    "spark_conf.getAll()\n",
    "\n",
    "sc = SparkContext(conf=spark_conf)\n",
    "sc.setLogLevel(\"ERROR\")\n",
    "spark = SparkSession(sc)\n",
    "\n",
    "pd.set_option('display.max_rows', 500)\n",
    "pd.set_option('display.max_columns', 500)\n",
    "pd.set_option('display.width', 1000)\n",
    "sns.set_context('talk')"
   ]
  },
  {
   "cell_type": "code",
   "execution_count": 3,
   "id": "97dd14ea",
   "metadata": {
    "papermill": {
     "duration": 0.549575,
     "end_time": "2023-07-28T00:00:06.628733",
     "exception": false,
     "start_time": "2023-07-28T00:00:06.079158",
     "status": "completed"
    },
    "tags": []
   },
   "outputs": [],
   "source": [
    "#---Local paths---#\n",
    "PROJECT_DIR = ROOT_DIR + f'projects/{PROJECT_SLUG}/'\n",
    "\n",
    "#---Load all custom scripts---#\n",
    "SCRIPT_DIR = PROJECT_DIR + 'scripts/'\n",
    "sys.path.append(SCRIPT_DIR)\n",
    "\n",
    "import create_mixture as cm\n",
    "import score_matrix as sm\n",
    "import deconvolution as dcnv\n",
    "import helper as hlpr\n",
    "\n",
    "pd.set_option('display.max_rows', 500)\n",
    "pd.set_option('display.max_columns', 500)\n",
    "pd.set_option('display.width', 1000)"
   ]
  },
  {
   "cell_type": "code",
   "execution_count": 5,
   "id": "9b19439d",
   "metadata": {
    "execution": {
     "iopub.execute_input": "2023-07-28T00:00:06.639239Z",
     "iopub.status.busy": "2023-07-28T00:00:06.638931Z",
     "iopub.status.idle": "2023-07-28T00:00:06.644423Z",
     "shell.execute_reply": "2023-07-28T00:00:06.643991Z"
    },
    "papermill": {
     "duration": 0.011734,
     "end_time": "2023-07-28T00:00:06.645582",
     "exception": false,
     "start_time": "2023-07-28T00:00:06.633848",
     "status": "completed"
    },
    "tags": []
   },
   "outputs": [
    {
     "data": {
      "text/plain": [
       "<module 'helper' from '/analysis/gh-msun/projects/2023_06_26_SRT_deconvolution_MS/scripts/helper.py'>"
      ]
     },
     "execution_count": 5,
     "metadata": {},
     "output_type": "execute_result"
    }
   ],
   "source": [
    "importlib.reload(cm)\n",
    "importlib.reload(sm)\n",
    "importlib.reload(dcnv)\n",
    "importlib.reload(hlpr)"
   ]
  },
  {
   "cell_type": "code",
   "execution_count": 6,
   "id": "ff210ba6",
   "metadata": {
    "papermill": {
     "duration": 0.011461,
     "end_time": "2023-07-28T00:00:06.661308",
     "exception": false,
     "start_time": "2023-07-28T00:00:06.649847",
     "status": "completed"
    },
    "tags": []
   },
   "outputs": [
    {
     "data": {
      "text/plain": [
       "[0.1,\n",
       " 0.075,\n",
       " 0.06428571428571428,\n",
       " 0.05357142857142857,\n",
       " 0.09642857142857142,\n",
       " 0.6107142857142857]"
      ]
     },
     "execution_count": 6,
     "metadata": {},
     "output_type": "execute_result"
    }
   ],
   "source": [
    "#################################\n",
    "#   Set titration proportions   #\n",
    "#################################\n",
    "\n",
    "# Reorder such that the titrating cell type comes first\n",
    "CELLTYPES_unordered = CELLTYPES.copy()\n",
    "CELLTYPES = hlpr.titration_reordering(list_of_cell_types=CELLTYPES, \n",
    "                                      titrating_cell_type=TITRATING_CELLTYPE)\n",
    "\n",
    "# Reorder abridged name\n",
    "ABRIDGED_NAMES = hlpr.reorder_abridged_name(unordered_celltypes=CELLTYPES_unordered,\n",
    "                                            ordered_celltypes=CELLTYPES,\n",
    "                                            unordered_abridged_names=ABRIDGED_NAMES)\n",
    "    \n",
    "# set titration proportions\n",
    "if BACKGROUND == 'uniform':\n",
    "    PROPORTIONS = hlpr.generate_uniform_background_proportions(titration_list=TITRATION_LIST, \n",
    "                                                               cell_types=CELLTYPES)\n",
    "\n",
    "if BACKGROUND == 'wholeblood':\n",
    "    PROPORTIONS = hlpr.generate_custom_background_proportions(titration_list=TITRATION_LIST, \n",
    "                                                              custom_proportion=WHOLE_BLOOD_ABUNDANCE, \n",
    "                                                              list_of_celltypes=CELLTYPES, \n",
    "                                                              titrating_celltype=TITRATING_CELLTYPE)\n",
    "\n",
    "PROPORTIONS[2]    "
   ]
  },
  {
   "cell_type": "code",
   "execution_count": 12,
   "id": "82853b39-7bd3-45c5-af5e-6ecfa48f532b",
   "metadata": {
    "tags": []
   },
   "outputs": [
    {
     "data": {
      "text/plain": [
       "[0.267,\n",
       " 0.221,\n",
       " 0.175,\n",
       " 0.157,\n",
       " 0.138,\n",
       " 0.12,\n",
       " 0.102,\n",
       " 0.092,\n",
       " 0.091,\n",
       " 0.089,\n",
       " 0.087,\n",
       " 0.085,\n",
       " 0.084,\n",
       " 0.083]"
      ]
     },
     "execution_count": 12,
     "metadata": {},
     "output_type": "execute_result"
    }
   ],
   "source": [
    "actual_t_props = list()\n",
    "for prop in PROPORTIONS:\n",
    "    actual_t_props.append(round(prop[0] + prop[1], 3))\n",
    "actual_t_props    "
   ]
  },
  {
   "cell_type": "markdown",
   "id": "39b7be46",
   "metadata": {
    "papermill": {
     "duration": 0.004326,
     "end_time": "2023-07-28T00:00:06.669899",
     "exception": false,
     "start_time": "2023-07-28T00:00:06.665573",
     "status": "completed"
    },
    "tags": []
   },
   "source": [
    "## Create mixture"
   ]
  },
  {
   "cell_type": "code",
   "execution_count": 7,
   "id": "e9c7300d",
   "metadata": {
    "execution": {
     "iopub.execute_input": "2023-07-28T00:00:06.679180Z",
     "iopub.status.busy": "2023-07-28T00:00:06.678973Z",
     "iopub.status.idle": "2023-07-28T00:00:06.681774Z",
     "shell.execute_reply": "2023-07-28T00:00:06.681349Z"
    },
    "papermill": {
     "duration": 0.00869,
     "end_time": "2023-07-28T00:00:06.682889",
     "exception": false,
     "start_time": "2023-07-28T00:00:06.674199",
     "status": "completed"
    },
    "tags": []
   },
   "outputs": [],
   "source": [
    "############################\n",
    "#   Parameters and paths   # \n",
    "############################\n",
    "EXPERIMENT_DIR = PROJECT_DIR + f'output/experiment/{EXPERIMENT}/'\n",
    "EXPERIMENT_NAME = f'{TITRATING_CELLTYPE}-{BACKGROUND}/'\n",
    "PARQUET_PATH = PROJECT_DIR + 'output/mixture_source/'\n",
    "EXPERIMENT_CELLTYPE_DIR = EXPERIMENT_DIR + f'{EXPERIMENT_NAME}/'\n",
    "RESULT_PATH = EXPERIMENT_CELLTYPE_DIR + 'mixture/'\n"
   ]
  },
  {
   "cell_type": "code",
   "execution_count": 8,
   "id": "d064cd19",
   "metadata": {
    "execution": {
     "iopub.execute_input": "2023-07-28T00:00:06.692309Z",
     "iopub.status.busy": "2023-07-28T00:00:06.692102Z",
     "iopub.status.idle": "2023-07-28T00:23:42.222197Z",
     "shell.execute_reply": "2023-07-28T00:23:42.221505Z"
    },
    "papermill": {
     "duration": 1415.536416,
     "end_time": "2023-07-28T00:23:42.223651",
     "exception": false,
     "start_time": "2023-07-28T00:00:06.687235",
     "status": "completed"
    },
    "tags": []
   },
   "outputs": [
    {
     "name": "stdout",
     "output_type": "stream",
     "text": [
      ">>> Load parquet files and count rows... <<<\n",
      "----------> Loading cell type: Blueprint-CD4\n",
      "----------> Loading cell type: Blueprint-CD8\n",
      "----------> Loading cell type: Blueprint-B\n",
      "----------> Loading cell type: Blueprint-NK\n",
      "----------> Loading cell type: Blueprint-Mono\n",
      "----------> Loading cell type: Blueprint-Neutro\n",
      ">>> Complete. <<< \n",
      "\n",
      ">>> Start mixing... <<<\n",
      "--> PROPORTION: [0.2, 0.06666666666666667, 0.05714285714285714, 0.047619047619047616, 0.0857142857142857, 0.5428571428571428]\n",
      "----------> Creating mixture 0... \n",
      "----------> Creating mixture 1... \n",
      "----------> Creating mixture 2... \n",
      "----------> Creating mixture 3... \n",
      "----------> Creating mixture 4... \n",
      "----------> Creating mixture 5... \n",
      "----------> Creating mixture 6... \n",
      "----------> Creating mixture 7... \n",
      "----------> Creating mixture 8... \n",
      "----------> Creating mixture 9... \n",
      "----------> Creating mixture 10... \n",
      "----------> Creating mixture 11... \n",
      "----------> Creating mixture 12... \n",
      "----------> Creating mixture 13... \n",
      "----------> Creating mixture 14... \n",
      "----------> Creating mixture 15... \n",
      "----------> Creating mixture 16... \n",
      "----------> Creating mixture 17... \n",
      "----------> Creating mixture 18... \n",
      "----------> Creating mixture 19... \n",
      "--> PROPORTION: [0.15, 0.07083333333333333, 0.06071428571428571, 0.05059523809523809, 0.09107142857142855, 0.5767857142857142]\n",
      "----------> Creating mixture 0... \n",
      "----------> Creating mixture 1... \n",
      "----------> Creating mixture 2... \n",
      "----------> Creating mixture 3... \n",
      "----------> Creating mixture 4... \n",
      "----------> Creating mixture 5... \n",
      "----------> Creating mixture 6... \n",
      "----------> Creating mixture 7... \n",
      "----------> Creating mixture 8... \n",
      "----------> Creating mixture 9... \n",
      "----------> Creating mixture 10... \n",
      "----------> Creating mixture 11... \n",
      "----------> Creating mixture 12... \n",
      "----------> Creating mixture 13... \n",
      "----------> Creating mixture 14... \n",
      "----------> Creating mixture 15... \n",
      "----------> Creating mixture 16... \n",
      "----------> Creating mixture 17... \n",
      "----------> Creating mixture 18... \n",
      "----------> Creating mixture 19... \n",
      "--> PROPORTION: [0.1, 0.075, 0.06428571428571428, 0.05357142857142857, 0.09642857142857142, 0.6107142857142857]\n",
      "----------> Creating mixture 0... \n",
      "----------> Creating mixture 1... \n",
      "----------> Creating mixture 2... \n",
      "----------> Creating mixture 3... \n",
      "----------> Creating mixture 4... \n",
      "----------> Creating mixture 5... \n",
      "----------> Creating mixture 6... \n",
      "----------> Creating mixture 7... \n",
      "----------> Creating mixture 8... \n",
      "----------> Creating mixture 9... \n",
      "----------> Creating mixture 10... \n",
      "----------> Creating mixture 11... \n",
      "----------> Creating mixture 12... \n",
      "----------> Creating mixture 13... \n",
      "----------> Creating mixture 14... \n",
      "----------> Creating mixture 15... \n",
      "----------> Creating mixture 16... \n",
      "----------> Creating mixture 17... \n",
      "----------> Creating mixture 18... \n",
      "----------> Creating mixture 19... \n",
      "--> PROPORTION: [0.08, 0.07666666666666666, 0.06571428571428571, 0.05476190476190476, 0.09857142857142856, 0.6242857142857142]\n",
      "----------> Creating mixture 0... \n",
      "----------> Creating mixture 1... \n",
      "----------> Creating mixture 2... \n",
      "----------> Creating mixture 3... \n",
      "----------> Creating mixture 4... \n",
      "----------> Creating mixture 5... \n",
      "----------> Creating mixture 6... \n",
      "----------> Creating mixture 7... \n",
      "----------> Creating mixture 8... \n",
      "----------> Creating mixture 9... \n",
      "----------> Creating mixture 10... \n",
      "----------> Creating mixture 11... \n",
      "----------> Creating mixture 12... \n",
      "----------> Creating mixture 13... \n",
      "----------> Creating mixture 14... \n",
      "----------> Creating mixture 15... \n",
      "----------> Creating mixture 16... \n",
      "----------> Creating mixture 17... \n",
      "----------> Creating mixture 18... \n",
      "----------> Creating mixture 19... \n",
      "--> PROPORTION: [0.06, 0.07833333333333332, 0.06714285714285713, 0.05595238095238095, 0.10071428571428569, 0.6378571428571428]\n",
      "----------> Creating mixture 0... \n",
      "----------> Creating mixture 1... \n",
      "----------> Creating mixture 2... \n",
      "----------> Creating mixture 3... \n",
      "----------> Creating mixture 4... \n",
      "----------> Creating mixture 5... \n",
      "----------> Creating mixture 6... \n",
      "----------> Creating mixture 7... \n",
      "----------> Creating mixture 8... \n",
      "----------> Creating mixture 9... \n",
      "----------> Creating mixture 10... \n",
      "----------> Creating mixture 11... \n",
      "----------> Creating mixture 12... \n",
      "----------> Creating mixture 13... \n",
      "----------> Creating mixture 14... \n",
      "----------> Creating mixture 15... \n",
      "----------> Creating mixture 16... \n",
      "----------> Creating mixture 17... \n",
      "----------> Creating mixture 18... \n",
      "----------> Creating mixture 19... \n",
      "--> PROPORTION: [0.04, 0.07999999999999999, 0.06857142857142856, 0.057142857142857134, 0.10285714285714283, 0.6514285714285714]\n",
      "----------> Creating mixture 0... \n",
      "----------> Creating mixture 1... \n",
      "----------> Creating mixture 2... \n",
      "----------> Creating mixture 3... \n",
      "----------> Creating mixture 4... \n",
      "----------> Creating mixture 5... \n",
      "----------> Creating mixture 6... \n",
      "----------> Creating mixture 7... \n",
      "----------> Creating mixture 8... \n",
      "----------> Creating mixture 9... \n",
      "----------> Creating mixture 10... \n",
      "----------> Creating mixture 11... \n",
      "----------> Creating mixture 12... \n",
      "----------> Creating mixture 13... \n",
      "----------> Creating mixture 14... \n",
      "----------> Creating mixture 15... \n",
      "----------> Creating mixture 16... \n",
      "----------> Creating mixture 17... \n",
      "----------> Creating mixture 18... \n",
      "----------> Creating mixture 19... \n",
      "--> PROPORTION: [0.02, 0.08166666666666667, 0.06999999999999999, 0.05833333333333333, 0.10499999999999998, 0.6649999999999999]\n",
      "----------> Creating mixture 0... \n",
      "----------> Creating mixture 1... \n",
      "----------> Creating mixture 2... \n",
      "----------> Creating mixture 3... \n",
      "----------> Creating mixture 4... \n",
      "----------> Creating mixture 5... \n",
      "----------> Creating mixture 6... \n",
      "----------> Creating mixture 7... \n",
      "----------> Creating mixture 8... \n",
      "----------> Creating mixture 9... \n",
      "----------> Creating mixture 10... \n",
      "----------> Creating mixture 11... \n",
      "----------> Creating mixture 12... \n",
      "----------> Creating mixture 13... \n",
      "----------> Creating mixture 14... \n",
      "----------> Creating mixture 15... \n",
      "----------> Creating mixture 16... \n",
      "----------> Creating mixture 17... \n",
      "----------> Creating mixture 18... \n",
      "----------> Creating mixture 19... \n",
      "--> PROPORTION: [0.01, 0.08249999999999999, 0.07071428571428572, 0.05892857142857143, 0.10607142857142855, 0.6717857142857142]\n",
      "----------> Creating mixture 0... \n",
      "----------> Creating mixture 1... \n",
      "----------> Creating mixture 2... \n",
      "----------> Creating mixture 3... \n",
      "----------> Creating mixture 4... \n",
      "----------> Creating mixture 5... \n",
      "----------> Creating mixture 6... \n",
      "----------> Creating mixture 7... \n",
      "----------> Creating mixture 8... \n",
      "----------> Creating mixture 9... \n",
      "----------> Creating mixture 10... \n",
      "----------> Creating mixture 11... \n",
      "----------> Creating mixture 12... \n",
      "----------> Creating mixture 13... \n",
      "----------> Creating mixture 14... \n",
      "----------> Creating mixture 15... \n",
      "----------> Creating mixture 16... \n",
      "----------> Creating mixture 17... \n",
      "----------> Creating mixture 18... \n",
      "----------> Creating mixture 19... \n",
      "--> PROPORTION: [0.008, 0.08266666666666667, 0.07085714285714285, 0.05904761904761904, 0.10628571428571426, 0.673142857142857]\n",
      "----------> Creating mixture 0... \n",
      "----------> Creating mixture 1... \n",
      "----------> Creating mixture 2... \n",
      "----------> Creating mixture 3... \n",
      "----------> Creating mixture 4... \n",
      "----------> Creating mixture 5... \n",
      "----------> Creating mixture 6... \n",
      "----------> Creating mixture 7... \n",
      "----------> Creating mixture 8... \n",
      "----------> Creating mixture 9... \n",
      "----------> Creating mixture 10... \n",
      "----------> Creating mixture 11... \n",
      "----------> Creating mixture 12... \n",
      "----------> Creating mixture 13... \n",
      "----------> Creating mixture 14... \n",
      "----------> Creating mixture 15... \n",
      "----------> Creating mixture 16... \n",
      "----------> Creating mixture 17... \n",
      "----------> Creating mixture 18... \n",
      "----------> Creating mixture 19... \n",
      "--> PROPORTION: [0.006, 0.08283333333333333, 0.071, 0.059166666666666666, 0.10649999999999998, 0.6744999999999999]\n",
      "----------> Creating mixture 0... \n",
      "----------> Creating mixture 1... \n",
      "----------> Creating mixture 2... \n",
      "----------> Creating mixture 3... \n",
      "----------> Creating mixture 4... \n",
      "----------> Creating mixture 5... \n",
      "----------> Creating mixture 6... \n",
      "----------> Creating mixture 7... \n",
      "----------> Creating mixture 8... \n",
      "----------> Creating mixture 9... \n",
      "----------> Creating mixture 10... \n",
      "----------> Creating mixture 11... \n",
      "----------> Creating mixture 12... \n",
      "----------> Creating mixture 13... \n",
      "----------> Creating mixture 14... \n",
      "----------> Creating mixture 15... \n",
      "----------> Creating mixture 16... \n",
      "----------> Creating mixture 17... \n",
      "----------> Creating mixture 18... \n",
      "----------> Creating mixture 19... \n",
      "--> PROPORTION: [0.004, 0.08299999999999999, 0.07114285714285713, 0.05928571428571428, 0.10671428571428569, 0.6758571428571428]\n",
      "----------> Creating mixture 0... \n",
      "----------> Creating mixture 1... \n",
      "----------> Creating mixture 2... \n",
      "----------> Creating mixture 3... \n",
      "----------> Creating mixture 4... \n",
      "----------> Creating mixture 5... \n",
      "----------> Creating mixture 6... \n",
      "----------> Creating mixture 7... \n",
      "----------> Creating mixture 8... \n",
      "----------> Creating mixture 9... \n",
      "----------> Creating mixture 10... \n",
      "----------> Creating mixture 11... \n",
      "----------> Creating mixture 12... \n",
      "----------> Creating mixture 13... \n",
      "----------> Creating mixture 14... \n",
      "----------> Creating mixture 15... \n",
      "----------> Creating mixture 16... \n",
      "----------> Creating mixture 17... \n",
      "----------> Creating mixture 18... \n",
      "----------> Creating mixture 19... \n",
      "--> PROPORTION: [0.002, 0.08316666666666667, 0.07128571428571429, 0.059404761904761905, 0.10692857142857141, 0.6772142857142857]\n",
      "----------> Creating mixture 0... \n",
      "----------> Creating mixture 1... \n",
      "----------> Creating mixture 2... \n",
      "----------> Creating mixture 3... \n",
      "----------> Creating mixture 4... \n",
      "----------> Creating mixture 5... \n",
      "----------> Creating mixture 6... \n",
      "----------> Creating mixture 7... \n",
      "----------> Creating mixture 8... \n",
      "----------> Creating mixture 9... \n",
      "----------> Creating mixture 10... \n",
      "----------> Creating mixture 11... \n",
      "----------> Creating mixture 12... \n",
      "----------> Creating mixture 13... \n",
      "----------> Creating mixture 14... \n",
      "----------> Creating mixture 15... \n",
      "----------> Creating mixture 16... \n",
      "----------> Creating mixture 17... \n",
      "----------> Creating mixture 18... \n",
      "----------> Creating mixture 19... \n",
      "--> PROPORTION: [0.001, 0.08324999999999999, 0.07135714285714286, 0.05946428571428571, 0.10703571428571426, 0.6778928571428571]\n",
      "----------> Creating mixture 0... \n",
      "----------> Creating mixture 1... \n",
      "----------> Creating mixture 2... \n",
      "----------> Creating mixture 3... \n",
      "----------> Creating mixture 4... \n",
      "----------> Creating mixture 5... \n",
      "----------> Creating mixture 6... \n",
      "----------> Creating mixture 7... \n",
      "----------> Creating mixture 8... \n",
      "----------> Creating mixture 9... \n",
      "----------> Creating mixture 10... \n",
      "----------> Creating mixture 11... \n",
      "----------> Creating mixture 12... \n",
      "----------> Creating mixture 13... \n",
      "----------> Creating mixture 14... \n",
      "----------> Creating mixture 15... \n",
      "----------> Creating mixture 16... \n",
      "----------> Creating mixture 17... \n",
      "----------> Creating mixture 18... \n",
      "----------> Creating mixture 19... \n",
      "--> PROPORTION: [0, 0.08333333333333333, 0.07142857142857142, 0.05952380952380952, 0.10714285714285712, 0.6785714285714285]\n",
      "----------> Creating mixture 0... \n",
      "----------> Creating mixture 1... \n",
      "----------> Creating mixture 2... \n",
      "----------> Creating mixture 3... \n",
      "----------> Creating mixture 4... \n",
      "----------> Creating mixture 5... \n",
      "----------> Creating mixture 6... \n",
      "----------> Creating mixture 7... \n",
      "----------> Creating mixture 8... \n",
      "----------> Creating mixture 9... \n",
      "----------> Creating mixture 10... \n",
      "----------> Creating mixture 11... \n",
      "----------> Creating mixture 12... \n",
      "----------> Creating mixture 13... \n",
      "----------> Creating mixture 14... \n",
      "----------> Creating mixture 15... \n",
      "----------> Creating mixture 16... \n",
      "----------> Creating mixture 17... \n",
      "----------> Creating mixture 18... \n",
      "----------> Creating mixture 19... \n",
      ">>> Complete. <<< \n",
      "\n",
      "CPU times: user 1.36 s, sys: 387 ms, total: 1.74 s\n",
      "Wall time: 23min 35s\n"
     ]
    }
   ],
   "source": [
    "%%time\n",
    "# load parquet files for each celltype & count rows\n",
    "parquet_df, total_reads_per_celltype = cm.load_parquet_dataframe(parquet_path=PARQUET_PATH,\n",
    "                                                                  cell_types=CELLTYPES,\n",
    "                                                                  spark=spark,\n",
    "                                                                  verbose=True)\n",
    "\n",
    "# mix cell types for each proportion set\n",
    "cm.mix_celltypes_multiple_proportions(parquet_df=parquet_df,\n",
    "                                       total_reads_per_celltype=total_reads_per_celltype,\n",
    "                                    #    n=len(TITRATION_LIST), \n",
    "                                       n=N_REPLICATES,\n",
    "                                       cell_types=CELLTYPES, \n",
    "                                       cell_type_abridged_name=ABRIDGED_NAMES, \n",
    "                                       total_reads_to_sample=TOTAL_READS_TO_SAMPLE, \n",
    "                                       list_of_proportions=PROPORTIONS, \n",
    "                                       seed=SEED, \n",
    "                                       result_path=RESULT_PATH, \n",
    "                                       spark=spark,\n",
    "                                       verbose=False, \n",
    "                                       save=True)"
   ]
  },
  {
   "cell_type": "markdown",
   "id": "2b5d184a",
   "metadata": {
    "papermill": {
     "duration": 0.017503,
     "end_time": "2023-07-28T00:23:42.259315",
     "exception": false,
     "start_time": "2023-07-28T00:23:42.241812",
     "status": "completed"
    },
    "tags": []
   },
   "source": [
    "## Compute score matrix"
   ]
  },
  {
   "cell_type": "code",
   "execution_count": 9,
   "id": "008a6d54",
   "metadata": {
    "execution": {
     "iopub.execute_input": "2023-07-28T00:23:42.294851Z",
     "iopub.status.busy": "2023-07-28T00:23:42.294620Z",
     "iopub.status.idle": "2023-07-28T00:23:42.298378Z",
     "shell.execute_reply": "2023-07-28T00:23:42.297906Z"
    },
    "papermill": {
     "duration": 0.023091,
     "end_time": "2023-07-28T00:23:42.299545",
     "exception": false,
     "start_time": "2023-07-28T00:23:42.276454",
     "status": "completed"
    },
    "tags": []
   },
   "outputs": [],
   "source": [
    "############################\n",
    "#   Parameters and paths   # \n",
    "############################\n",
    "\n",
    "FILTER_CG_COUNT = 3\n",
    "FILTER_CG_COUNT_REGION = 1\n",
    "\n",
    "REGIONS = 'deconvolution_v2.v23_conv.with_cpg_index'\n",
    "REGION_BED_COLS = [\n",
    "    'region_chr', 'region_start', 'region_end', \n",
    "    'region_cpg_index_min', 'region_cpg_index_max', 'region_id'\n",
    "]\n",
    "\n",
    "# Regions\n",
    "REGION_PATH = (\n",
    "    PROJECT_DIR + '/stage/panel_data/{regions}.bed'\n",
    ").format(regions=REGIONS)\n",
    "\n",
    "# CpG map; genomic coordinate to CpG index;\n",
    "CPG_MAP_PATH = PROJECT_DIR + '/stage/cpg_loci/cpg_loci_hg19.combined_annot.tsv.gz'\n",
    "\n",
    "#--- Where to store results\n",
    "PATH_TO_MIXTURE_DIR = EXPERIMENT_CELLTYPE_DIR + 'mixture/'\n",
    "RESULT_PATH = EXPERIMENT_CELLTYPE_DIR\n"
   ]
  },
  {
   "cell_type": "code",
   "execution_count": 10,
   "id": "1eb1c0fc",
   "metadata": {
    "execution": {
     "iopub.execute_input": "2023-07-28T00:23:42.334631Z",
     "iopub.status.busy": "2023-07-28T00:23:42.334423Z",
     "iopub.status.idle": "2023-07-28T00:24:06.961637Z",
     "shell.execute_reply": "2023-07-28T00:24:06.961058Z"
    },
    "papermill": {
     "duration": 24.646542,
     "end_time": "2023-07-28T00:24:06.963233",
     "exception": false,
     "start_time": "2023-07-28T00:23:42.316691",
     "status": "completed"
    },
    "tags": []
   },
   "outputs": [],
   "source": [
    "cpg_map = pd.read_csv(CPG_MAP_PATH, usecols=['chr', 'start', 'end', 'cpg_index', 'cpg_index_hg38'], sep='\\t')"
   ]
  },
  {
   "cell_type": "code",
   "execution_count": 11,
   "id": "2ae6f018",
   "metadata": {
    "execution": {
     "iopub.execute_input": "2023-07-28T00:24:07.000288Z",
     "iopub.status.busy": "2023-07-28T00:24:07.000057Z",
     "iopub.status.idle": "2023-07-28T00:24:26.805212Z",
     "shell.execute_reply": "2023-07-28T00:24:26.804667Z"
    },
    "papermill": {
     "duration": 19.824846,
     "end_time": "2023-07-28T00:24:26.806475",
     "exception": false,
     "start_time": "2023-07-28T00:24:06.981629",
     "status": "completed"
    },
    "tags": []
   },
   "outputs": [
    {
     "name": "stdout",
     "output_type": "stream",
     "text": [
      "CPU times: user 14.8 s, sys: 5.03 s, total: 19.9 s\n",
      "Wall time: 19.8 s\n"
     ]
    }
   ],
   "source": [
    "%%time\n",
    "ridxs = ~cpg_map['cpg_index_hg38'].isna()\n",
    "hg19_hg38_map = dict(itertools.zip_longest(cpg_map[ridxs]['cpg_index'], cpg_map[ridxs]['cpg_index_hg38'].astype(int)))\n",
    "hg38_hg19_map = dict(itertools.zip_longest(cpg_map[ridxs]['cpg_index_hg38'].astype(int), cpg_map[ridxs]['cpg_index']))"
   ]
  },
  {
   "cell_type": "code",
   "execution_count": 12,
   "id": "9ebc2cc7",
   "metadata": {
    "execution": {
     "iopub.execute_input": "2023-07-28T00:24:26.843577Z",
     "iopub.status.busy": "2023-07-28T00:24:26.843343Z",
     "iopub.status.idle": "2023-07-28T00:24:58.406552Z",
     "shell.execute_reply": "2023-07-28T00:24:58.406059Z"
    },
    "papermill": {
     "duration": 31.600393,
     "end_time": "2023-07-28T00:24:58.425384",
     "exception": false,
     "start_time": "2023-07-28T00:24:26.824991",
     "status": "completed"
    },
    "tags": []
   },
   "outputs": [
    {
     "data": {
      "text/plain": [
       "(1658, 1658)"
      ]
     },
     "execution_count": 12,
     "metadata": {},
     "output_type": "execute_result"
    }
   ],
   "source": [
    "region_df = pd.read_csv(REGION_PATH, sep='\\t', usecols=range(0, 6), names=REGION_BED_COLS)\n",
    "\n",
    "region_df['region_cpg_index_max'] -= 1\n",
    "region_df.sort_values('region_cpg_index_min', inplace=True)\n",
    "region_df['region_cpg_index_min_hg38'] = region_df['region_cpg_index_min'].map(hg19_hg38_map)\n",
    "region_df['region_cpg_index_max_hg38'] = region_df['region_cpg_index_max'].map(hg19_hg38_map)\n",
    "\n",
    "region_df.shape[0], region_df['region_id'].nunique()"
   ]
  },
  {
   "cell_type": "code",
   "execution_count": 13,
   "id": "039b6704",
   "metadata": {
    "execution": {
     "iopub.execute_input": "2023-07-28T00:24:58.462212Z",
     "iopub.status.busy": "2023-07-28T00:24:58.461977Z",
     "iopub.status.idle": "2023-07-28T00:24:58.468040Z",
     "shell.execute_reply": "2023-07-28T00:24:58.467601Z"
    },
    "papermill": {
     "duration": 0.025744,
     "end_time": "2023-07-28T00:24:58.469195",
     "exception": false,
     "start_time": "2023-07-28T00:24:58.443451",
     "status": "completed"
    },
    "tags": []
   },
   "outputs": [
    {
     "data": {
      "text/plain": [
       "(1658, 1658)"
      ]
     },
     "execution_count": 13,
     "metadata": {},
     "output_type": "execute_result"
    }
   ],
   "source": [
    "ridxs = ~region_df['region_cpg_index_min_hg38'].isna()\n",
    "ridxs &= ~region_df['region_cpg_index_max_hg38'].isna()\n",
    "region_df = region_df[ridxs].copy()\n",
    "region_df.shape[0], region_df['region_id'].nunique()"
   ]
  },
  {
   "cell_type": "code",
   "execution_count": 14,
   "id": "14e35f08",
   "metadata": {
    "execution": {
     "iopub.execute_input": "2023-07-28T00:24:58.504919Z",
     "iopub.status.busy": "2023-07-28T00:24:58.504713Z",
     "iopub.status.idle": "2023-07-28T00:24:58.510928Z",
     "shell.execute_reply": "2023-07-28T00:24:58.510503Z"
    },
    "papermill": {
     "duration": 0.025359,
     "end_time": "2023-07-28T00:24:58.512056",
     "exception": false,
     "start_time": "2023-07-28T00:24:58.486697",
     "status": "completed"
    },
    "tags": []
   },
   "outputs": [
    {
     "data": {
      "text/plain": [
       "(1657, 1657)"
      ]
     },
     "execution_count": 14,
     "metadata": {},
     "output_type": "execute_result"
    }
   ],
   "source": [
    "cg_count_hg19 = region_df['region_cpg_index_max']-region_df['region_cpg_index_min'] + 1\n",
    "cg_count_hg38 = region_df['region_cpg_index_max_hg38']-region_df['region_cpg_index_min_hg38'] + 1\n",
    "ridxs = (cg_count_hg19==cg_count_hg38)\n",
    "ridxs &= (cg_count_hg19>=FILTER_CG_COUNT_REGION)\n",
    "region_df = region_df[ridxs].copy()\n",
    "region_df.shape[0], region_df['region_id'].nunique()"
   ]
  },
  {
   "cell_type": "code",
   "execution_count": 15,
   "id": "bce4381f",
   "metadata": {
    "execution": {
     "iopub.execute_input": "2023-07-28T00:24:58.548078Z",
     "iopub.status.busy": "2023-07-28T00:24:58.547872Z",
     "iopub.status.idle": "2023-07-28T00:24:58.551246Z",
     "shell.execute_reply": "2023-07-28T00:24:58.550819Z"
    },
    "papermill": {
     "duration": 0.022802,
     "end_time": "2023-07-28T00:24:58.552392",
     "exception": false,
     "start_time": "2023-07-28T00:24:58.529590",
     "status": "completed"
    },
    "tags": []
   },
   "outputs": [],
   "source": [
    "region_df['region_cpg_index_min_hg38'] = region_df['region_cpg_index_min_hg38'].astype(int)\n",
    "region_df['region_cpg_index_max_hg38'] = region_df['region_cpg_index_max_hg38'].astype(int)"
   ]
  },
  {
   "cell_type": "code",
   "execution_count": 16,
   "id": "9722a6d1",
   "metadata": {
    "execution": {
     "iopub.execute_input": "2023-07-28T00:24:58.589267Z",
     "iopub.status.busy": "2023-07-28T00:24:58.589065Z",
     "iopub.status.idle": "2023-07-28T00:24:58.601053Z",
     "shell.execute_reply": "2023-07-28T00:24:58.600628Z"
    },
    "papermill": {
     "duration": 0.031637,
     "end_time": "2023-07-28T00:24:58.602220",
     "exception": false,
     "start_time": "2023-07-28T00:24:58.570583",
     "status": "completed"
    },
    "tags": []
   },
   "outputs": [
    {
     "data": {
      "text/html": [
       "<div>\n",
       "<style scoped>\n",
       "    .dataframe tbody tr th:only-of-type {\n",
       "        vertical-align: middle;\n",
       "    }\n",
       "\n",
       "    .dataframe tbody tr th {\n",
       "        vertical-align: top;\n",
       "    }\n",
       "\n",
       "    .dataframe thead th {\n",
       "        text-align: right;\n",
       "    }\n",
       "</style>\n",
       "<table border=\"1\" class=\"dataframe\">\n",
       "  <thead>\n",
       "    <tr style=\"text-align: right;\">\n",
       "      <th></th>\n",
       "      <th>region_chr</th>\n",
       "      <th>region_start</th>\n",
       "      <th>region_end</th>\n",
       "      <th>region_cpg_index_min</th>\n",
       "      <th>region_cpg_index_max</th>\n",
       "      <th>region_id</th>\n",
       "      <th>region_cpg_index_min_hg38</th>\n",
       "      <th>region_cpg_index_max_hg38</th>\n",
       "    </tr>\n",
       "  </thead>\n",
       "  <tbody>\n",
       "    <tr>\n",
       "      <th>0</th>\n",
       "      <td>chr1</td>\n",
       "      <td>1114771</td>\n",
       "      <td>1114971</td>\n",
       "      <td>20117</td>\n",
       "      <td>20129</td>\n",
       "      <td>Immune_Broad_B-chr1:1114772-1114971</td>\n",
       "      <td>21119</td>\n",
       "      <td>21131</td>\n",
       "    </tr>\n",
       "    <tr>\n",
       "      <th>1</th>\n",
       "      <td>chr1</td>\n",
       "      <td>1157450</td>\n",
       "      <td>1157720</td>\n",
       "      <td>21684</td>\n",
       "      <td>21703</td>\n",
       "      <td>Immune_Broad_NK-chr1:1157451-1157720</td>\n",
       "      <td>22686</td>\n",
       "      <td>22705</td>\n",
       "    </tr>\n",
       "    <tr>\n",
       "      <th>2</th>\n",
       "      <td>chr1</td>\n",
       "      <td>1157879</td>\n",
       "      <td>1158277</td>\n",
       "      <td>21710</td>\n",
       "      <td>21726</td>\n",
       "      <td>Immune_Broad_NK-chr1:1157880-1158277</td>\n",
       "      <td>22712</td>\n",
       "      <td>22728</td>\n",
       "    </tr>\n",
       "    <tr>\n",
       "      <th>14</th>\n",
       "      <td>chr1</td>\n",
       "      <td>6341182</td>\n",
       "      <td>6341377</td>\n",
       "      <td>140667</td>\n",
       "      <td>140681</td>\n",
       "      <td>Immune_Broad_Eosi-chr1:6341183-6341377</td>\n",
       "      <td>142368</td>\n",
       "      <td>142382</td>\n",
       "    </tr>\n",
       "    <tr>\n",
       "      <th>19</th>\n",
       "      <td>chr1</td>\n",
       "      <td>9147788</td>\n",
       "      <td>9147871</td>\n",
       "      <td>188605</td>\n",
       "      <td>188608</td>\n",
       "      <td>Immune_Broad_Neutro-chr1:9147789-9147871</td>\n",
       "      <td>190307</td>\n",
       "      <td>190310</td>\n",
       "    </tr>\n",
       "  </tbody>\n",
       "</table>\n",
       "</div>"
      ],
      "text/plain": [
       "   region_chr  region_start  region_end  region_cpg_index_min  region_cpg_index_max                                 region_id  region_cpg_index_min_hg38  region_cpg_index_max_hg38\n",
       "0        chr1       1114771     1114971                 20117                 20129       Immune_Broad_B-chr1:1114772-1114971                      21119                      21131\n",
       "1        chr1       1157450     1157720                 21684                 21703      Immune_Broad_NK-chr1:1157451-1157720                      22686                      22705\n",
       "2        chr1       1157879     1158277                 21710                 21726      Immune_Broad_NK-chr1:1157880-1158277                      22712                      22728\n",
       "14       chr1       6341182     6341377                140667                140681    Immune_Broad_Eosi-chr1:6341183-6341377                     142368                     142382\n",
       "19       chr1       9147788     9147871                188605                188608  Immune_Broad_Neutro-chr1:9147789-9147871                     190307                     190310"
      ]
     },
     "execution_count": 16,
     "metadata": {},
     "output_type": "execute_result"
    }
   ],
   "source": [
    "### Restrict to immune regions\n",
    "#-------------- CHANGE HERE FOR DIFFERENT REGION SUBSET ----------------------\n",
    "# BLUEPRINT immune regions\n",
    "ATLAS_PATH = PROJECT_DIR + f'/output/reference/deconv_inhouse_v2.atlas.tsv.gz'\n",
    "atlas = pd.read_csv(ATLAS_PATH, sep='\\t')\n",
    "subset_region_set = set(atlas.region_id)\n",
    "#-----------------------------------------------------------------------------\n",
    "\n",
    "# filter regions down to regions of interest\n",
    "region_df = region_df[region_df['region_id'].isin(subset_region_set)]\n",
    "region_df.head()"
   ]
  },
  {
   "cell_type": "code",
   "execution_count": 17,
   "id": "a980169c",
   "metadata": {
    "execution": {
     "iopub.execute_input": "2023-07-28T00:24:58.638610Z",
     "iopub.status.busy": "2023-07-28T00:24:58.638406Z",
     "iopub.status.idle": "2023-07-28T01:14:34.873882Z",
     "shell.execute_reply": "2023-07-28T01:14:34.873358Z"
    },
    "papermill": {
     "duration": 2976.25515,
     "end_time": "2023-07-28T01:14:34.875223",
     "exception": false,
     "start_time": "2023-07-28T00:24:58.620073",
     "status": "completed"
    },
    "tags": []
   },
   "outputs": [
    {
     "name": "stdout",
     "output_type": "stream",
     "text": [
      ">>> Start computing score matrices <<< \n",
      "\n",
      "--> E2CD4_E0667CD8_E0571B_E0476NK_E0857MONO_E5429NEUTRO\n",
      "--------> Computing score matrix for mix0_seed470800\n",
      "--------> Computing score matrix for mix1_seed966852\n",
      "--------> Computing score matrix for mix2_seed995826\n",
      "--------> Computing score matrix for mix3_seed796153\n",
      "--------> Computing score matrix for mix4_seed344757\n",
      "--------> Computing score matrix for mix5_seed911735\n",
      "--------> Computing score matrix for mix6_seed760126\n",
      "--------> Computing score matrix for mix7_seed746477\n",
      "--------> Computing score matrix for mix8_seed823635\n",
      "--------> Computing score matrix for mix9_seed913498\n",
      "--------> Computing score matrix for mix10_seed904203\n",
      "--------> Computing score matrix for mix11_seed52304\n",
      "--------> Computing score matrix for mix12_seed837207\n",
      "--------> Computing score matrix for mix13_seed762180\n",
      "--------> Computing score matrix for mix14_seed4427\n",
      "--------> Computing score matrix for mix15_seed816021\n",
      "--------> Computing score matrix for mix16_seed859354\n",
      "--------> Computing score matrix for mix17_seed263244\n",
      "--------> Computing score matrix for mix18_seed965215\n",
      "--------> Computing score matrix for mix19_seed454336\n",
      "\n",
      "\n",
      "--> E15CD4_E0708CD8_E0607B_E0506NK_E0911MONO_E5768NEUTRO\n",
      "--------> Computing score matrix for mix0_seed327469\n",
      "--------> Computing score matrix for mix1_seed942713\n",
      "--------> Computing score matrix for mix2_seed899730\n",
      "--------> Computing score matrix for mix3_seed115834\n",
      "--------> Computing score matrix for mix4_seed885610\n",
      "--------> Computing score matrix for mix5_seed381195\n",
      "--------> Computing score matrix for mix6_seed573121\n",
      "--------> Computing score matrix for mix7_seed340732\n",
      "--------> Computing score matrix for mix8_seed323110\n",
      "--------> Computing score matrix for mix9_seed40411\n",
      "--------> Computing score matrix for mix10_seed290884\n",
      "--------> Computing score matrix for mix11_seed54615\n",
      "--------> Computing score matrix for mix12_seed229926\n",
      "--------> Computing score matrix for mix13_seed414827\n",
      "--------> Computing score matrix for mix14_seed424406\n",
      "--------> Computing score matrix for mix15_seed392389\n",
      "--------> Computing score matrix for mix16_seed757798\n",
      "--------> Computing score matrix for mix17_seed600928\n",
      "--------> Computing score matrix for mix18_seed44327\n",
      "--------> Computing score matrix for mix19_seed42805\n",
      "\n",
      "\n",
      "--> E1CD4_E075CD8_E0643B_E0536NK_E0964MONO_E6107NEUTRO\n",
      "--------> Computing score matrix for mix0_seed997493\n",
      "--------> Computing score matrix for mix1_seed479596\n",
      "--------> Computing score matrix for mix2_seed228823\n",
      "--------> Computing score matrix for mix3_seed971831\n",
      "--------> Computing score matrix for mix4_seed289341\n",
      "--------> Computing score matrix for mix5_seed142973\n",
      "--------> Computing score matrix for mix6_seed823233\n",
      "--------> Computing score matrix for mix7_seed365790\n",
      "--------> Computing score matrix for mix8_seed816729\n",
      "--------> Computing score matrix for mix9_seed203631\n",
      "--------> Computing score matrix for mix10_seed36380\n",
      "--------> Computing score matrix for mix11_seed783406\n",
      "--------> Computing score matrix for mix12_seed994708\n",
      "--------> Computing score matrix for mix13_seed60323\n",
      "--------> Computing score matrix for mix14_seed241588\n",
      "--------> Computing score matrix for mix15_seed303026\n",
      "--------> Computing score matrix for mix16_seed696098\n",
      "--------> Computing score matrix for mix17_seed358335\n",
      "--------> Computing score matrix for mix18_seed573110\n",
      "--------> Computing score matrix for mix19_seed388752\n",
      "\n",
      "\n",
      "--> E08CD4_E0767CD8_E0657B_E0548NK_E0986MONO_E6243NEUTRO\n",
      "--------> Computing score matrix for mix0_seed179747\n",
      "--------> Computing score matrix for mix1_seed539546\n",
      "--------> Computing score matrix for mix2_seed950413\n",
      "--------> Computing score matrix for mix3_seed202997\n",
      "--------> Computing score matrix for mix4_seed411889\n",
      "--------> Computing score matrix for mix5_seed607876\n",
      "--------> Computing score matrix for mix6_seed330186\n",
      "--------> Computing score matrix for mix7_seed222930\n",
      "--------> Computing score matrix for mix8_seed628990\n",
      "--------> Computing score matrix for mix9_seed519025\n",
      "--------> Computing score matrix for mix10_seed776683\n",
      "--------> Computing score matrix for mix11_seed710508\n",
      "--------> Computing score matrix for mix12_seed897517\n",
      "--------> Computing score matrix for mix13_seed949716\n",
      "--------> Computing score matrix for mix14_seed515738\n",
      "--------> Computing score matrix for mix15_seed759815\n",
      "--------> Computing score matrix for mix16_seed965445\n",
      "--------> Computing score matrix for mix17_seed295822\n",
      "--------> Computing score matrix for mix18_seed225164\n",
      "--------> Computing score matrix for mix19_seed232894\n",
      "\n",
      "\n",
      "--> E06CD4_E0783CD8_E0671B_E056NK_E1007MONO_E6379NEUTRO\n",
      "--------> Computing score matrix for mix0_seed394807\n",
      "--------> Computing score matrix for mix1_seed91698\n",
      "--------> Computing score matrix for mix2_seed259385\n",
      "--------> Computing score matrix for mix3_seed512999\n",
      "--------> Computing score matrix for mix4_seed129635\n",
      "--------> Computing score matrix for mix5_seed350607\n",
      "--------> Computing score matrix for mix6_seed684378\n",
      "--------> Computing score matrix for mix7_seed8190\n",
      "--------> Computing score matrix for mix8_seed779725\n",
      "--------> Computing score matrix for mix9_seed415085\n",
      "--------> Computing score matrix for mix10_seed444818\n",
      "--------> Computing score matrix for mix11_seed199195\n",
      "--------> Computing score matrix for mix12_seed918219\n",
      "--------> Computing score matrix for mix13_seed510736\n",
      "--------> Computing score matrix for mix14_seed500261\n",
      "--------> Computing score matrix for mix15_seed956732\n",
      "--------> Computing score matrix for mix16_seed921572\n",
      "--------> Computing score matrix for mix17_seed937247\n",
      "--------> Computing score matrix for mix18_seed110110\n",
      "--------> Computing score matrix for mix19_seed564768\n",
      "\n",
      "\n",
      "--> E04CD4_E08CD8_E0686B_E0571NK_E1029MONO_E6514NEUTRO\n",
      "--------> Computing score matrix for mix0_seed778556\n",
      "--------> Computing score matrix for mix1_seed119019\n",
      "--------> Computing score matrix for mix2_seed810366\n",
      "--------> Computing score matrix for mix3_seed869675\n",
      "--------> Computing score matrix for mix4_seed408609\n",
      "--------> Computing score matrix for mix5_seed759534\n",
      "--------> Computing score matrix for mix6_seed139682\n",
      "--------> Computing score matrix for mix7_seed362934\n",
      "--------> Computing score matrix for mix8_seed349169\n",
      "--------> Computing score matrix for mix9_seed357510\n",
      "--------> Computing score matrix for mix10_seed67133\n",
      "--------> Computing score matrix for mix11_seed500109\n",
      "--------> Computing score matrix for mix12_seed837330\n",
      "--------> Computing score matrix for mix13_seed972082\n",
      "--------> Computing score matrix for mix14_seed636923\n",
      "--------> Computing score matrix for mix15_seed873445\n",
      "--------> Computing score matrix for mix16_seed313816\n",
      "--------> Computing score matrix for mix17_seed608328\n",
      "--------> Computing score matrix for mix18_seed58802\n",
      "--------> Computing score matrix for mix19_seed782912\n",
      "\n",
      "\n",
      "--> E02CD4_E0817CD8_E07B_E0583NK_E105MONO_E665NEUTRO\n",
      "--------> Computing score matrix for mix0_seed933600\n",
      "--------> Computing score matrix for mix1_seed428927\n",
      "--------> Computing score matrix for mix2_seed814759\n",
      "--------> Computing score matrix for mix3_seed819227\n",
      "--------> Computing score matrix for mix4_seed270332\n",
      "--------> Computing score matrix for mix5_seed222732\n",
      "--------> Computing score matrix for mix6_seed306825\n",
      "--------> Computing score matrix for mix7_seed950787\n",
      "--------> Computing score matrix for mix8_seed496575\n",
      "--------> Computing score matrix for mix9_seed590288\n",
      "--------> Computing score matrix for mix10_seed827096\n",
      "--------> Computing score matrix for mix11_seed896360\n",
      "--------> Computing score matrix for mix12_seed358536\n",
      "--------> Computing score matrix for mix13_seed709589\n",
      "--------> Computing score matrix for mix14_seed441282\n",
      "--------> Computing score matrix for mix15_seed166028\n",
      "--------> Computing score matrix for mix16_seed418991\n",
      "--------> Computing score matrix for mix17_seed669616\n",
      "--------> Computing score matrix for mix18_seed237520\n",
      "--------> Computing score matrix for mix19_seed351999\n",
      "\n",
      "\n",
      "--> E01CD4_E0825CD8_E0707B_E0589NK_E1061MONO_E6718NEUTRO\n",
      "--------> Computing score matrix for mix0_seed132847\n",
      "--------> Computing score matrix for mix1_seed126869\n",
      "--------> Computing score matrix for mix2_seed504808\n",
      "--------> Computing score matrix for mix3_seed62714\n",
      "--------> Computing score matrix for mix4_seed709570\n",
      "--------> Computing score matrix for mix5_seed648025\n",
      "--------> Computing score matrix for mix6_seed57003\n",
      "--------> Computing score matrix for mix7_seed922333\n",
      "--------> Computing score matrix for mix8_seed732575\n",
      "--------> Computing score matrix for mix9_seed604723\n",
      "--------> Computing score matrix for mix10_seed886210\n",
      "--------> Computing score matrix for mix11_seed288402\n",
      "--------> Computing score matrix for mix12_seed226581\n",
      "--------> Computing score matrix for mix13_seed203188\n",
      "--------> Computing score matrix for mix14_seed253052\n",
      "--------> Computing score matrix for mix15_seed8805\n",
      "--------> Computing score matrix for mix16_seed585491\n",
      "--------> Computing score matrix for mix17_seed754192\n",
      "--------> Computing score matrix for mix18_seed43717\n",
      "--------> Computing score matrix for mix19_seed946289\n",
      "\n",
      "\n",
      "--> E008CD4_E0827CD8_E0709B_E059NK_E1063MONO_E6731NEUTRO\n",
      "--------> Computing score matrix for mix0_seed730472\n",
      "--------> Computing score matrix for mix1_seed799085\n",
      "--------> Computing score matrix for mix2_seed824908\n",
      "--------> Computing score matrix for mix3_seed35356\n",
      "--------> Computing score matrix for mix4_seed446376\n",
      "--------> Computing score matrix for mix5_seed855752\n",
      "--------> Computing score matrix for mix6_seed977176\n",
      "--------> Computing score matrix for mix7_seed957129\n",
      "--------> Computing score matrix for mix8_seed870459\n",
      "--------> Computing score matrix for mix9_seed169567\n",
      "--------> Computing score matrix for mix10_seed349005\n",
      "--------> Computing score matrix for mix11_seed345138\n",
      "--------> Computing score matrix for mix12_seed18159\n",
      "--------> Computing score matrix for mix13_seed649160\n",
      "--------> Computing score matrix for mix14_seed397897\n",
      "--------> Computing score matrix for mix15_seed51768\n",
      "--------> Computing score matrix for mix16_seed652330\n",
      "--------> Computing score matrix for mix17_seed309227\n",
      "--------> Computing score matrix for mix18_seed866176\n",
      "--------> Computing score matrix for mix19_seed62078\n",
      "\n",
      "\n",
      "--> E006CD4_E0828CD8_E071B_E0592NK_E1065MONO_E6745NEUTRO\n",
      "--------> Computing score matrix for mix0_seed79780\n",
      "--------> Computing score matrix for mix1_seed464872\n",
      "--------> Computing score matrix for mix2_seed620943\n",
      "--------> Computing score matrix for mix3_seed100571\n",
      "--------> Computing score matrix for mix4_seed561928\n",
      "--------> Computing score matrix for mix5_seed475921\n",
      "--------> Computing score matrix for mix6_seed472947\n",
      "--------> Computing score matrix for mix7_seed165049\n",
      "--------> Computing score matrix for mix8_seed180339\n",
      "--------> Computing score matrix for mix9_seed980836\n",
      "--------> Computing score matrix for mix10_seed279683\n",
      "--------> Computing score matrix for mix11_seed270246\n",
      "--------> Computing score matrix for mix12_seed915111\n",
      "--------> Computing score matrix for mix13_seed125829\n",
      "--------> Computing score matrix for mix14_seed898630\n",
      "--------> Computing score matrix for mix15_seed998298\n",
      "--------> Computing score matrix for mix16_seed980322\n",
      "--------> Computing score matrix for mix17_seed844121\n",
      "--------> Computing score matrix for mix18_seed47421\n",
      "--------> Computing score matrix for mix19_seed532266\n",
      "\n",
      "\n",
      "--> E004CD4_E083CD8_E0711B_E0593NK_E1067MONO_E6759NEUTRO\n",
      "--------> Computing score matrix for mix0_seed641231\n",
      "--------> Computing score matrix for mix1_seed747508\n",
      "--------> Computing score matrix for mix2_seed118499\n",
      "--------> Computing score matrix for mix3_seed88247\n",
      "--------> Computing score matrix for mix4_seed623111\n",
      "--------> Computing score matrix for mix5_seed534084\n",
      "--------> Computing score matrix for mix6_seed536255\n",
      "--------> Computing score matrix for mix7_seed20968\n",
      "--------> Computing score matrix for mix8_seed506323\n",
      "--------> Computing score matrix for mix9_seed965956\n",
      "--------> Computing score matrix for mix10_seed174811\n",
      "--------> Computing score matrix for mix11_seed680928\n",
      "--------> Computing score matrix for mix12_seed346965\n",
      "--------> Computing score matrix for mix13_seed293045\n",
      "--------> Computing score matrix for mix14_seed694779\n",
      "--------> Computing score matrix for mix15_seed875846\n",
      "--------> Computing score matrix for mix16_seed250263\n",
      "--------> Computing score matrix for mix17_seed75184\n",
      "--------> Computing score matrix for mix18_seed555744\n",
      "--------> Computing score matrix for mix19_seed662373\n",
      "\n",
      "\n",
      "--> E002CD4_E0832CD8_E0713B_E0594NK_E1069MONO_E6772NEUTRO\n",
      "--------> Computing score matrix for mix0_seed170425\n",
      "--------> Computing score matrix for mix1_seed287214\n",
      "--------> Computing score matrix for mix2_seed127448\n",
      "--------> Computing score matrix for mix3_seed519752\n",
      "--------> Computing score matrix for mix4_seed891717\n",
      "--------> Computing score matrix for mix5_seed809809\n",
      "--------> Computing score matrix for mix6_seed654894\n",
      "--------> Computing score matrix for mix7_seed934408\n",
      "--------> Computing score matrix for mix8_seed690064\n",
      "--------> Computing score matrix for mix9_seed545577\n",
      "--------> Computing score matrix for mix10_seed591570\n",
      "--------> Computing score matrix for mix11_seed186616\n",
      "--------> Computing score matrix for mix12_seed840210\n",
      "--------> Computing score matrix for mix13_seed948059\n",
      "--------> Computing score matrix for mix14_seed139203\n",
      "--------> Computing score matrix for mix15_seed634896\n",
      "--------> Computing score matrix for mix16_seed239642\n",
      "--------> Computing score matrix for mix17_seed88850\n",
      "--------> Computing score matrix for mix18_seed93528\n",
      "--------> Computing score matrix for mix19_seed16509\n",
      "\n",
      "\n",
      "--> E001CD4_E0832CD8_E0714B_E0595NK_E107MONO_E6779NEUTRO\n",
      "--------> Computing score matrix for mix0_seed284428\n",
      "--------> Computing score matrix for mix1_seed984362\n",
      "--------> Computing score matrix for mix2_seed99641\n",
      "--------> Computing score matrix for mix3_seed33648\n",
      "--------> Computing score matrix for mix4_seed88744\n",
      "--------> Computing score matrix for mix5_seed58786\n",
      "--------> Computing score matrix for mix6_seed314156\n",
      "--------> Computing score matrix for mix7_seed398555\n",
      "--------> Computing score matrix for mix8_seed356510\n",
      "--------> Computing score matrix for mix9_seed779564\n",
      "--------> Computing score matrix for mix10_seed618092\n",
      "--------> Computing score matrix for mix11_seed853391\n",
      "--------> Computing score matrix for mix12_seed699373\n",
      "--------> Computing score matrix for mix13_seed294117\n",
      "--------> Computing score matrix for mix14_seed930971\n",
      "--------> Computing score matrix for mix15_seed641038\n",
      "--------> Computing score matrix for mix16_seed802607\n",
      "--------> Computing score matrix for mix17_seed180881\n",
      "--------> Computing score matrix for mix18_seed655677\n",
      "--------> Computing score matrix for mix19_seed596630\n",
      "\n",
      "\n",
      "--> ECD4_E0833CD8_E0714B_E0595NK_E1071MONO_E6786NEUTRO\n",
      "--------> Computing score matrix for mix0_seed710180\n",
      "--------> Computing score matrix for mix1_seed278790\n",
      "--------> Computing score matrix for mix2_seed918832\n",
      "--------> Computing score matrix for mix3_seed537476\n",
      "--------> Computing score matrix for mix4_seed536639\n",
      "--------> Computing score matrix for mix5_seed336297\n",
      "--------> Computing score matrix for mix6_seed56359\n",
      "--------> Computing score matrix for mix7_seed572026\n",
      "--------> Computing score matrix for mix8_seed619391\n",
      "--------> Computing score matrix for mix9_seed632208\n",
      "--------> Computing score matrix for mix10_seed936712\n",
      "--------> Computing score matrix for mix11_seed596211\n",
      "--------> Computing score matrix for mix12_seed827111\n",
      "--------> Computing score matrix for mix13_seed592067\n",
      "--------> Computing score matrix for mix14_seed752056\n",
      "--------> Computing score matrix for mix15_seed358011\n",
      "--------> Computing score matrix for mix16_seed211466\n",
      "--------> Computing score matrix for mix17_seed532467\n",
      "--------> Computing score matrix for mix18_seed378457\n",
      "--------> Computing score matrix for mix19_seed500124\n",
      "\n",
      "\n",
      ">>> Complete. <<< \n",
      "\n",
      "CPU times: user 15.8 s, sys: 1.15 s, total: 17 s\n",
      "Wall time: 49min 36s\n"
     ]
    }
   ],
   "source": [
    "%%time\n",
    "\n",
    "PAT_COLS = [\n",
    "    'molecule_id', 'chr', 'number_molecules',\n",
    "    'cpg_index_min', 'cpg_index_max', 'pat_string', 'region_id', 'region_cpg_index_min', 'region_cpg_index_max'\n",
    "]\n",
    "\n",
    "QUANTILES = [0.1, 0.25, 0.75, 0.9]\n",
    "KMERS = [1, 3, 4]\n",
    "RATES_LEQ = [0.25]\n",
    "RATES_GEQ = [0.75]\n",
    "\n",
    "RETURN_SCHEMA = StructType()\\\n",
    "    .add('region_id', 'string')\\\n",
    "    .add('number_molecules', 'integer')\\\n",
    "    .add('meth_k1', 'integer')\\\n",
    "    .add('unmeth_k1', 'integer')\\\n",
    "    .add('total_k1', 'integer')\\\n",
    "    .add('meth_k3', 'integer')\\\n",
    "    .add('unmeth_k3', 'integer')\\\n",
    "    .add('total_k3', 'integer')\\\n",
    "    .add('meth_k4', 'integer')\\\n",
    "    .add('unmeth_k4', 'integer')\\\n",
    "    .add('total_k4', 'integer')\\\n",
    "    .add('frac_alpha_leq_25pct', 'float')\\\n",
    "    .add('frac_alpha_geq_75pct', 'float')\n",
    "\n",
    "compute_frag_scores_udf = sm.compute_frag_scores(cpg_number_cutoff=FILTER_CG_COUNT, schema=RETURN_SCHEMA, kmers=KMERS, rates_leq=RATES_LEQ, rates_geq=RATES_GEQ)\n",
    "\n",
    "\n",
    "# compute methyl score for are parquet files\n",
    "sm.score_matrix_from_mixture_directory(path_to_mixture_dir = PATH_TO_MIXTURE_DIR, \n",
    "                                       result_path = RESULT_PATH, \n",
    "                                       pat_cols = PAT_COLS, \n",
    "                                       region_df = region_df, \n",
    "                                       batch_size = 20, \n",
    "                                       schema = RETURN_SCHEMA, \n",
    "                                       spark=spark,\n",
    "                                       compute_frag_scores_udf=compute_frag_scores_udf,\n",
    "                                       save=True, \n",
    "                                       verbose=False)"
   ]
  },
  {
   "cell_type": "markdown",
   "id": "dddcbf7b",
   "metadata": {
    "papermill": {
     "duration": 0.031178,
     "end_time": "2023-07-28T01:14:34.938306",
     "exception": false,
     "start_time": "2023-07-28T01:14:34.907128",
     "status": "completed"
    },
    "tags": []
   },
   "source": [
    "## Deconvolution"
   ]
  },
  {
   "cell_type": "code",
   "execution_count": 18,
   "id": "12e0cf18",
   "metadata": {
    "execution": {
     "iopub.execute_input": "2023-07-28T01:14:35.000549Z",
     "iopub.status.busy": "2023-07-28T01:14:35.000304Z",
     "iopub.status.idle": "2023-07-28T01:14:35.003372Z",
     "shell.execute_reply": "2023-07-28T01:14:35.002905Z"
    },
    "papermill": {
     "duration": 0.035491,
     "end_time": "2023-07-28T01:14:35.004549",
     "exception": false,
     "start_time": "2023-07-28T01:14:34.969058",
     "status": "completed"
    },
    "tags": []
   },
   "outputs": [],
   "source": [
    "############################\n",
    "#   Parameters and paths   # \n",
    "############################\n",
    "\n",
    "FILTER_COV = 20\n",
    "\n",
    "SCORE_VAR = 'frac_alpha_leq_25pct'\n",
    "\n",
    "# Reference matrix\n",
    "ATLAS_PATH = PROJECT_DIR + 'output/reference/deconv_inhouse_v2.atlas.tsv.gz'\n",
    "REGION_PATH = PROJECT_DIR + 'output/reference/deconv_inhouse_v2.region_to_ref_celltype.tsv.gz'\n",
    "\n",
    "# Methylation score matrix\n",
    "SCORE_DIR = EXPERIMENT_CELLTYPE_DIR + 'methyl_score/'\n"
   ]
  },
  {
   "cell_type": "code",
   "execution_count": 19,
   "id": "df6be961",
   "metadata": {
    "execution": {
     "iopub.execute_input": "2023-07-28T01:14:35.067474Z",
     "iopub.status.busy": "2023-07-28T01:14:35.067263Z",
     "iopub.status.idle": "2023-07-28T01:14:35.077127Z",
     "shell.execute_reply": "2023-07-28T01:14:35.076696Z"
    },
    "papermill": {
     "duration": 0.042609,
     "end_time": "2023-07-28T01:14:35.078330",
     "exception": false,
     "start_time": "2023-07-28T01:14:35.035721",
     "status": "completed"
    },
    "tags": []
   },
   "outputs": [
    {
     "data": {
      "text/plain": [
       "(280, 9)"
      ]
     },
     "execution_count": 19,
     "metadata": {},
     "output_type": "execute_result"
    }
   ],
   "source": [
    "atlas = pd.read_csv(ATLAS_PATH, sep='\\t',index_col=None)\n",
    "atlas = atlas.set_index('region_id')\n",
    "atlas.columns.name = 'ref_celltype'\n",
    "atlas.shape\n",
    "\n",
    "ref_region_df = pd.read_csv(REGION_PATH, sep='\\t')\n",
    "\n",
    "atlas = atlas.loc[ref_region_df['region_id'], :].copy()\n",
    "atlas.shape"
   ]
  },
  {
   "cell_type": "code",
   "execution_count": 20,
   "id": "6672fd77",
   "metadata": {
    "execution": {
     "iopub.execute_input": "2023-07-28T01:14:35.140554Z",
     "iopub.status.busy": "2023-07-28T01:14:35.140346Z",
     "iopub.status.idle": "2023-07-28T01:14:39.615685Z",
     "shell.execute_reply": "2023-07-28T01:14:39.615146Z"
    },
    "papermill": {
     "duration": 4.507915,
     "end_time": "2023-07-28T01:14:39.616980",
     "exception": false,
     "start_time": "2023-07-28T01:14:35.109065",
     "status": "completed"
    },
    "tags": []
   },
   "outputs": [
    {
     "name": "stdout",
     "output_type": "stream",
     "text": [
      "CPU times: user 4.47 s, sys: 6.12 ms, total: 4.47 s\n",
      "Wall time: 4.47 s\n"
     ]
    }
   ],
   "source": [
    "%%time\n",
    "\n",
    "deconvolution_nnls = dcnv.compute_deconvolution_from_methyl_score_dir_nnls(path_to_methyl_score_dir=SCORE_DIR, \n",
    "                                                                          score_type=SCORE_VAR, \n",
    "                                                                          atlas=atlas, \n",
    "                                                                          match=False)\n",
    "\n",
    "deconvolution_naive = dcnv.compute_deconvolution_from_methyl_score_dir_naive(path_to_methyl_score_dir=SCORE_DIR, \n",
    "                                                                             filter_cov=FILTER_COV, \n",
    "                                                                             score_var=SCORE_VAR, \n",
    "                                                                             ref_region_df=ref_region_df)\n"
   ]
  },
  {
   "cell_type": "code",
   "execution_count": 21,
   "id": "3060346f",
   "metadata": {
    "execution": {
     "iopub.execute_input": "2023-07-28T01:14:39.681653Z",
     "iopub.status.busy": "2023-07-28T01:14:39.681413Z",
     "iopub.status.idle": "2023-07-28T01:14:40.002531Z",
     "shell.execute_reply": "2023-07-28T01:14:40.002044Z"
    },
    "papermill": {
     "duration": 0.354473,
     "end_time": "2023-07-28T01:14:40.003756",
     "exception": false,
     "start_time": "2023-07-28T01:14:39.649283",
     "status": "completed"
    },
    "tags": []
   },
   "outputs": [
    {
     "data": {
      "image/png": "[encoded data removed]",
      "text/plain": [
       "<Figure size 432x288 with 1 Axes>"
      ]
     },
     "metadata": {
      "needs_background": "light"
     },
     "output_type": "display_data"
    }
   ],
   "source": [
    "dcnv.boxplot_titration(list_of_deconvolution_dfs=deconvolution_naive,\n",
    "                      cell_type=TITRATING_CELLTYPE_ATLAS,\n",
    "                      true_proportions=TITRATION_LIST,\n",
    "                      deconvolution_method_name='naive'\n",
    "                      )"
   ]
  },
  {
   "cell_type": "code",
   "execution_count": 22,
   "id": "3c83ffe7",
   "metadata": {
    "execution": {
     "iopub.execute_input": "2023-07-28T01:14:40.068917Z",
     "iopub.status.busy": "2023-07-28T01:14:40.068674Z",
     "iopub.status.idle": "2023-07-28T01:14:40.448913Z",
     "shell.execute_reply": "2023-07-28T01:14:40.448395Z"
    },
    "papermill": {
     "duration": 0.414118,
     "end_time": "2023-07-28T01:14:40.450251",
     "exception": false,
     "start_time": "2023-07-28T01:14:40.036133",
     "status": "completed"
    },
    "tags": []
   },
   "outputs": [
    {
     "data": {
      "image/png": "[encoded data removed]",
      "text/plain": [
       "<Figure size 432x288 with 1 Axes>"
      ]
     },
     "metadata": {
      "needs_background": "light"
     },
     "output_type": "display_data"
    }
   ],
   "source": [
    "dcnv.boxplot_titration(list_of_deconvolution_dfs=deconvolution_nnls,\n",
    "                      cell_type=TITRATING_CELLTYPE_ATLAS,\n",
    "                      true_proportions=TITRATION_LIST,\n",
    "                      deconvolution_method_name='nnls'\n",
    "                      )"
   ]
  },
  {
   "cell_type": "code",
   "execution_count": 23,
   "id": "6a137e96",
   "metadata": {
    "execution": {
     "iopub.execute_input": "2023-07-28T01:14:40.516272Z",
     "iopub.status.busy": "2023-07-28T01:14:40.516016Z",
     "iopub.status.idle": "2023-07-28T01:14:41.767053Z",
     "shell.execute_reply": "2023-07-28T01:14:41.766533Z"
    },
    "papermill": {
     "duration": 1.285806,
     "end_time": "2023-07-28T01:14:41.768972",
     "exception": false,
     "start_time": "2023-07-28T01:14:40.483166",
     "status": "completed"
    },
    "tags": []
   },
   "outputs": [
    {
     "data": {
      "image/png": "[encoded data removed]",
      "text/plain": [
       "<Figure size 720x720 with 14 Axes>"
      ]
     },
     "metadata": {
      "needs_background": "light"
     },
     "output_type": "display_data"
    }
   ],
   "source": [
    "\n",
    "dcnv.boxplot_titration_zoom(list_of_deconvolution_dfs=deconvolution_naive,\n",
    "                      cell_type=TITRATING_CELLTYPE_ATLAS,\n",
    "                      true_proportions=TITRATION_LIST,\n",
    "                      deconvolution_method_name='naive'\n",
    "                      )"
   ]
  },
  {
   "cell_type": "code",
   "execution_count": 24,
   "id": "6268feff",
   "metadata": {
    "execution": {
     "iopub.execute_input": "2023-07-28T01:14:41.836277Z",
     "iopub.status.busy": "2023-07-28T01:14:41.836038Z",
     "iopub.status.idle": "2023-07-28T01:14:43.165115Z",
     "shell.execute_reply": "2023-07-28T01:14:43.164584Z"
    },
    "papermill": {
     "duration": 1.36427,
     "end_time": "2023-07-28T01:14:43.166980",
     "exception": false,
     "start_time": "2023-07-28T01:14:41.802710",
     "status": "completed"
    },
    "tags": []
   },
   "outputs": [
    {
     "data": {
      "image/png": "[encoded data removed]",
      "text/plain": [
       "<Figure size 720x720 with 14 Axes>"
      ]
     },
     "metadata": {
      "needs_background": "light"
     },
     "output_type": "display_data"
    }
   ],
   "source": [
    "\n",
    "dcnv.boxplot_titration_zoom(list_of_deconvolution_dfs=deconvolution_nnls,\n",
    "                      cell_type=TITRATING_CELLTYPE_ATLAS,\n",
    "                      true_proportions=TITRATION_LIST,\n",
    "                      deconvolution_method_name='nnls'\n",
    "                      )"
   ]
  },
  {
   "cell_type": "code",
   "execution_count": null,
   "id": "d8009d40",
   "metadata": {
    "papermill": {
     "duration": 0.033509,
     "end_time": "2023-07-28T01:14:43.235066",
     "exception": false,
     "start_time": "2023-07-28T01:14:43.201557",
     "status": "completed"
    },
    "tags": []
   },
   "outputs": [],
   "source": []
  },
  {
   "cell_type": "code",
   "execution_count": null,
   "id": "d3cdc1a7",
   "metadata": {
    "papermill": {
     "duration": 0.032901,
     "end_time": "2023-07-28T01:14:43.300756",
     "exception": false,
     "start_time": "2023-07-28T01:14:43.267855",
     "status": "completed"
    },
    "tags": []
   },
   "outputs": [],
   "source": []
  }
 ],
 "metadata": {
  "kernelspec": {
   "display_name": "Python 3",
   "language": "python",
   "name": "python3"
  },
  "language_info": {
   "codemirror_mode": {
    "name": "ipython",
    "version": 3
   },
   "file_extension": ".py",
   "mimetype": "text/x-python",
   "name": "python",
   "nbconvert_exporter": "python",
   "pygments_lexer": "ipython3",
   "version": "3.7.8"
  },
  "papermill": {
   "default_parameters": {},
   "duration": 4483.012818,
   "end_time": "2023-07-28T01:14:44.952197",
   "environment_variables": {},
   "exception": null,
   "input_path": "/analysis/gh-msun/projects/2023_06_26_SRT_deconvolution_MS//notebooks/titration/02_titration_experiment.ipynb",
   "output_path": "/analysis/gh-msun/projects/2023_06_26_SRT_deconvolution_MS//notebooks/titration/primary_immune_wholeblood/titration_CD4.ipynb",
   "parameters": {
    "ABRIDGED_NAMES": [
     "CD4",
     "CD8",
     "B",
     "NK",
     "MONO",
     "NEUTRO"
    ],
    "BACKGROUND": "wholeblood",
    "CELLTYPES": [
     "Blueprint-CD4",
     "Blueprint-CD8",
     "Blueprint-B",
     "Blueprint-NK",
     "Blueprint-Mono",
     "Blueprint-Neutro"
    ],
    "EXPERIMENT": "primary_immune",
    "N_REPLICATES": 20,
    "PROJECT_SLUG": "2023_06_26_SRT_deconvolution_MS",
    "ROOT_DIR": "/analysis/gh-msun/",
    "SEED": 83723,
    "TITRATING_CELLTYPE": "Blueprint-CD4",
    "TITRATING_CELLTYPE_ATLAS": "immune_t",
    "TITRATION_LIST": [
     0.2,
     0.15,
     0.1,
     0.08,
     0.06,
     0.04,
     0.02,
     0.01,
     0.008,
     0.006,
     0.004,
     0.002,
     0.001,
     0
    ],
    "TOTAL_READS_TO_SAMPLE": 1000000,
    "WHOLE_BLOOD_ABUNDANCE": {
     "Blueprint-B": 0.06,
     "Blueprint-CD4": 0.16,
     "Blueprint-CD8": 0.07,
     "Blueprint-Mono": 0.09,
     "Blueprint-NK": 0.05,
     "Blueprint-Neutro": 0.57
    }
   },
   "start_time": "2023-07-28T00:00:01.939379",
   "version": "2.4.0"
  }
 },
 "nbformat": 4,
 "nbformat_minor": 5
}
