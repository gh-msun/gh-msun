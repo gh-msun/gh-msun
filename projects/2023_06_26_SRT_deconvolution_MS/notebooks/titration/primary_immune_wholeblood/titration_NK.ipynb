{
 "cells": [
  {
   "cell_type": "markdown",
   "id": "aca9916a",
   "metadata": {
    "papermill": {
     "duration": 0.005405,
     "end_time": "2023-07-28T03:44:41.079919",
     "exception": false,
     "start_time": "2023-07-28T03:44:41.074514",
     "status": "completed"
    },
    "tags": []
   },
   "source": [
    "# Titration Experiment"
   ]
  },
  {
   "cell_type": "code",
   "execution_count": 1,
   "id": "2ae2decd",
   "metadata": {
    "execution": {
     "iopub.execute_input": "2023-07-28T03:44:41.090423Z",
     "iopub.status.busy": "2023-07-28T03:44:41.090145Z",
     "iopub.status.idle": "2023-07-28T03:44:41.095254Z",
     "shell.execute_reply": "2023-07-28T03:44:41.094773Z"
    },
    "papermill": {
     "duration": 0.011427,
     "end_time": "2023-07-28T03:44:41.096451",
     "exception": false,
     "start_time": "2023-07-28T03:44:41.085024",
     "status": "completed"
    },
    "tags": [
     "parameters"
    ]
   },
   "outputs": [],
   "source": [
    "#############################\n",
    "#   Experiment parameters   #\n",
    "#############################\n",
    "ROOT_DIR = '/analysis/gh-msun/'\n",
    "PROJECT_SLUG = '2023_06_26_SRT_deconvolution_MS'\n",
    "EXPERIMENT = 'primary_immune'\n",
    "TITRATING_CELLTYPE = 'Blueprint-B'\n",
    "TITRATING_CELLTYPE_ATLAS = 'immune_b' # cell type name in atlas different\n",
    "BACKGROUND = 'wholeblood' # background: uniform / wholeblood \n",
    "N_REPLICATES = 2 # number of replicates for each mixture\n",
    "SEED = 888 # need to change for different experiment\n",
    "TOTAL_READS_TO_SAMPLE = 1000000\n",
    "\n",
    "# make sure the orders of the two list match\n",
    "CELLTYPES = ['Blueprint-CD4', 'Blueprint-CD8', 'Blueprint-B', 'Blueprint-NK', 'Blueprint-Mono', 'Blueprint-Neutro']\n",
    "ABRIDGED_NAMES = ['CD4', 'CD8', 'B', 'NK', 'MONO', 'NEUTRO'] # for directory name\n",
    "\n",
    "# TITRATION_LIST = [0.2, 0.15, 0.10, 0.08, 0.06, 0.04, 0.02, 0.01, \n",
    "#                   0.008, 0.006, 0.004, 0.002, 0.001, 0]\n",
    "TITRATION_LIST=[0.2, 0.15]\n",
    "\n",
    "# proportion of cells in real whole blood (sum to 1)\n",
    "WHOLE_BLOOD_ABUNDANCE = {'Blueprint-B':0.06,\n",
    "                         'Blueprint-Mono':0.09,\n",
    "                         'Blueprint-Neutro':0.57,\n",
    "                         'Blueprint-CD4':0.16,\n",
    "                         'Blueprint-CD8':0.07,\n",
    "                         'Blueprint-NK':0.05}\n",
    "    "
   ]
  },
  {
   "cell_type": "code",
   "execution_count": 1,
   "id": "082016f9",
   "metadata": {
    "papermill": {
     "duration": 0.010324,
     "end_time": "2023-07-28T03:44:41.110831",
     "exception": false,
     "start_time": "2023-07-28T03:44:41.100507",
     "status": "completed"
    },
    "tags": [
     "injected-parameters"
    ]
   },
   "outputs": [],
   "source": [
    "# Parameters\n",
    "ROOT_DIR = \"/analysis/gh-msun/\"\n",
    "PROJECT_SLUG = \"2023_06_26_SRT_deconvolution_MS\"\n",
    "EXPERIMENT = \"primary_immune\"\n",
    "TITRATING_CELLTYPE = \"Blueprint-NK\"\n",
    "TITRATING_CELLTYPE_ATLAS = \"immune_nk\"\n",
    "BACKGROUND = \"wholeblood\"\n",
    "N_REPLICATES = 20\n",
    "SEED = 466724\n",
    "TOTAL_READS_TO_SAMPLE = 1000000\n",
    "CELLTYPES = [\"Blueprint-CD4\", \"Blueprint-CD8\", \"Blueprint-B\", \"Blueprint-NK\", \"Blueprint-Mono\", \"Blueprint-Neutro\"]\n",
    "ABRIDGED_NAMES = [\"CD4\", \"CD8\", \"B\", \"NK\", \"MONO\", \"NEUTRO\"]\n",
    "TITRATION_LIST = [0.2, 0.15, 0.1, 0.08, 0.06, 0.04, 0.02, 0.01, 0.008, 0.006, 0.004, 0.002, 0.001, 0]\n",
    "WHOLE_BLOOD_ABUNDANCE = {\"Blueprint-B\": 0.06, \"Blueprint-Mono\": 0.09, \"Blueprint-Neutro\": 0.57, \"Blueprint-CD4\": 0.16, \"Blueprint-CD8\": 0.07, \"Blueprint-NK\": 0.05}\n"
   ]
  },
  {
   "cell_type": "code",
   "execution_count": 2,
   "id": "255d4f7b",
   "metadata": {
    "papermill": {
     "duration": 3.63875,
     "end_time": "2023-07-28T03:44:44.753559",
     "exception": false,
     "start_time": "2023-07-28T03:44:41.114809",
     "status": "completed"
    },
    "tags": []
   },
   "outputs": [
    {
     "name": "stderr",
     "output_type": "stream",
     "text": [
      "/home/ec2-user/mambaforge/envs/2023_06_26_SRT_deconvolution_MS/lib/python3.7/site-packages/pyspark/context.py:317: FutureWarning: Python 3.7 support is deprecated in Spark 3.4.\n",
      "  warnings.warn(\"Python 3.7 support is deprecated in Spark 3.4.\", FutureWarning)\n"
     ]
    }
   ],
   "source": [
    "import glob\n",
    "import numpy as np\n",
    "import pandas as pd\n",
    "import seaborn as sns\n",
    "import matplotlib.pyplot as plt\n",
    "import itertools\n",
    "import functools\n",
    "import os\n",
    "import regex as re\n",
    "import random\n",
    "import importlib\n",
    "import sys\n",
    "\n",
    "from pyspark.sql import SparkSession\n",
    "from pyspark import SparkConf, SparkContext\n",
    "from pyspark.sql.types import IntegerType, LongType, ArrayType, StringType, DoubleType\n",
    "from pyspark.sql.functions import udf, explode, broadcast, count, lit, length, col\n",
    "from pyspark.sql import DataFrame\n",
    "from pyspark.sql.types import StructType\n",
    "\n",
    "# UPDATE HOME!\n",
    "os.environ[\"SPARK_HOME\"] = \"/home/ec2-user/mambaforge/envs/2023_06_26_SRT_deconvolution_MS/lib/python3.7/site-packages/pyspark\"\n",
    "# THIS needs to be set-up before running the notebook\n",
    "os.environ[\"SPARK_LOCAL_DIRS\"] = \"/temp\"\n",
    "os.environ[\"PYARROW_IGNORE_TIMEZONE\"] = \"1\"\n",
    "\n",
    "spark_conf = SparkConf()\n",
    "spark_conf.set(\"spark.ui.showConsoleProgress\", \"True\")\n",
    "spark_conf.set(\"spark.executor.instances\", \"2\")\n",
    "spark_conf.set(\"spark.executor.cores\", \"2\")\n",
    "spark_conf.set(\"spark.executor.memory\", \"16g\")\n",
    "spark_conf.set(\"spark.driver.memory\", \"64g\")\n",
    "spark_conf.set(\"spark.driver.maxResultSize\", \"32g\")\n",
    "spark_conf.set(\"spark.parquet.filterPushdown\", \"true\")\n",
    "spark_conf.set(\"spark.local.dir\", \"/temp\")\n",
    "spark_conf.getAll()\n",
    "\n",
    "sc = SparkContext(conf=spark_conf)\n",
    "sc.setLogLevel(\"ERROR\")\n",
    "spark = SparkSession(sc)\n",
    "\n",
    "pd.set_option('display.max_rows', 500)\n",
    "pd.set_option('display.max_columns', 500)\n",
    "pd.set_option('display.width', 1000)\n",
    "sns.set_context('talk')"
   ]
  },
  {
   "cell_type": "code",
   "execution_count": 3,
   "id": "69a611d0",
   "metadata": {
    "papermill": {
     "duration": 0.53496,
     "end_time": "2023-07-28T03:44:45.293724",
     "exception": false,
     "start_time": "2023-07-28T03:44:44.758764",
     "status": "completed"
    },
    "tags": []
   },
   "outputs": [],
   "source": [
    "#---Local paths---#\n",
    "PROJECT_DIR = ROOT_DIR + f'projects/{PROJECT_SLUG}/'\n",
    "\n",
    "#---Load all custom scripts---#\n",
    "SCRIPT_DIR = PROJECT_DIR + 'scripts/'\n",
    "sys.path.append(SCRIPT_DIR)\n",
    "\n",
    "import create_mixture as cm\n",
    "import score_matrix as sm\n",
    "import deconvolution as dcnv\n",
    "import helper as hlpr\n",
    "\n",
    "pd.set_option('display.max_rows', 500)\n",
    "pd.set_option('display.max_columns', 500)\n",
    "pd.set_option('display.width', 1000)"
   ]
  },
  {
   "cell_type": "code",
   "execution_count": 4,
   "id": "276619eb",
   "metadata": {
    "papermill": {
     "duration": 0.011848,
     "end_time": "2023-07-28T03:44:45.310646",
     "exception": false,
     "start_time": "2023-07-28T03:44:45.298798",
     "status": "completed"
    },
    "tags": []
   },
   "outputs": [
    {
     "data": {
      "text/plain": [
       "<module 'helper' from '/analysis/gh-msun/projects/2023_06_26_SRT_deconvolution_MS/scripts/helper.py'>"
      ]
     },
     "execution_count": 4,
     "metadata": {},
     "output_type": "execute_result"
    }
   ],
   "source": [
    "importlib.reload(cm)\n",
    "importlib.reload(sm)\n",
    "importlib.reload(dcnv)\n",
    "importlib.reload(hlpr)"
   ]
  },
  {
   "cell_type": "code",
   "execution_count": 5,
   "id": "a27957b6",
   "metadata": {
    "papermill": {
     "duration": 0.011469,
     "end_time": "2023-07-28T03:44:45.326450",
     "exception": false,
     "start_time": "2023-07-28T03:44:45.314981",
     "status": "completed"
    },
    "tags": []
   },
   "outputs": [
    {
     "data": {
      "text/plain": [
       "[0.2,\n",
       " 0.13473684210526318,\n",
       " 0.05894736842105264,\n",
       " 0.05052631578947369,\n",
       " 0.07578947368421053,\n",
       " 0.48]"
      ]
     },
     "execution_count": 5,
     "metadata": {},
     "output_type": "execute_result"
    }
   ],
   "source": [
    "#################################\n",
    "#   Set titration proportions   #\n",
    "#################################\n",
    "\n",
    "# Reorder such that the titrating cell type comes first\n",
    "CELLTYPES_unordered = CELLTYPES.copy()\n",
    "CELLTYPES = hlpr.titration_reordering(list_of_cell_types=CELLTYPES, \n",
    "                                      titrating_cell_type=TITRATING_CELLTYPE)\n",
    "\n",
    "# Reorder abridged name\n",
    "ABRIDGED_NAMES = hlpr.reorder_abridged_name(unordered_celltypes=CELLTYPES_unordered,\n",
    "                                            ordered_celltypes=CELLTYPES,\n",
    "                                            unordered_abridged_names=ABRIDGED_NAMES)\n",
    "    \n",
    "# set titration proportions\n",
    "if BACKGROUND == 'uniform':\n",
    "    PROPORTIONS = hlpr.generate_uniform_background_proportions(titration_list=TITRATION_LIST, \n",
    "                                                               cell_types=CELLTYPES)\n",
    "\n",
    "if BACKGROUND == 'wholeblood':\n",
    "    PROPORTIONS = hlpr.generate_custom_background_proportions(titration_list=TITRATION_LIST, \n",
    "                                                              custom_proportion=WHOLE_BLOOD_ABUNDANCE, \n",
    "                                                              list_of_celltypes=CELLTYPES, \n",
    "                                                              titrating_celltype=TITRATING_CELLTYPE)\n",
    "\n",
    "PROPORTIONS[0]    "
   ]
  },
  {
   "cell_type": "markdown",
   "id": "09b4f423",
   "metadata": {
    "papermill": {
     "duration": 0.004332,
     "end_time": "2023-07-28T03:44:45.335132",
     "exception": false,
     "start_time": "2023-07-28T03:44:45.330800",
     "status": "completed"
    },
    "tags": []
   },
   "source": [
    "## Create mixture"
   ]
  },
  {
   "cell_type": "code",
   "execution_count": 5,
   "id": "b042b1aa",
   "metadata": {
    "papermill": {
     "duration": 0.008821,
     "end_time": "2023-07-28T03:44:45.348459",
     "exception": false,
     "start_time": "2023-07-28T03:44:45.339638",
     "status": "completed"
    },
    "tags": []
   },
   "outputs": [],
   "source": [
    "############################\n",
    "#   Parameters and paths   # \n",
    "############################\n",
    "EXPERIMENT_DIR = PROJECT_DIR + f'output/experiment/{EXPERIMENT}/'\n",
    "EXPERIMENT_NAME = f'{TITRATING_CELLTYPE}-{BACKGROUND}/'\n",
    "PARQUET_PATH = PROJECT_DIR + 'output/mixture_source/'\n",
    "EXPERIMENT_CELLTYPE_DIR = EXPERIMENT_DIR + f'{EXPERIMENT_NAME}/'\n",
    "RESULT_PATH = EXPERIMENT_CELLTYPE_DIR + 'mixture/'\n"
   ]
  },
  {
   "cell_type": "code",
   "execution_count": 8,
   "id": "f0362f25",
   "metadata": {
    "execution": {
     "iopub.execute_input": "2023-07-28T03:44:45.357927Z",
     "iopub.status.busy": "2023-07-28T03:44:45.357729Z",
     "iopub.status.idle": "2023-07-28T04:08:09.095923Z",
     "shell.execute_reply": "2023-07-28T04:08:09.095377Z"
    },
    "papermill": {
     "duration": 1403.744376,
     "end_time": "2023-07-28T04:08:09.097203",
     "exception": false,
     "start_time": "2023-07-28T03:44:45.352827",
     "status": "completed"
    },
    "tags": []
   },
   "outputs": [
    {
     "name": "stdout",
     "output_type": "stream",
     "text": [
      ">>> Load parquet files and count rows... <<<\n",
      "----------> Loading cell type: Blueprint-NK\n",
      "----------> Loading cell type: Blueprint-CD4\n",
      "----------> Loading cell type: Blueprint-CD8\n",
      "----------> Loading cell type: Blueprint-B\n",
      "----------> Loading cell type: Blueprint-Mono\n",
      "----------> Loading cell type: Blueprint-Neutro\n",
      ">>> Complete. <<< \n",
      "\n",
      ">>> Start mixing... <<<\n",
      "--> PROPORTION: [0.2, 0.13473684210526318, 0.05894736842105264, 0.05052631578947369, 0.07578947368421053, 0.48]\n",
      "----------> Creating mixture 0... \n",
      "----------> Creating mixture 1... \n",
      "----------> Creating mixture 2... \n",
      "----------> Creating mixture 3... \n",
      "----------> Creating mixture 4... \n",
      "----------> Creating mixture 5... \n",
      "----------> Creating mixture 6... \n",
      "----------> Creating mixture 7... \n",
      "----------> Creating mixture 8... \n",
      "----------> Creating mixture 9... \n",
      "----------> Creating mixture 10... \n",
      "----------> Creating mixture 11... \n",
      "----------> Creating mixture 12... \n",
      "----------> Creating mixture 13... \n",
      "----------> Creating mixture 14... \n",
      "----------> Creating mixture 15... \n",
      "----------> Creating mixture 16... \n",
      "----------> Creating mixture 17... \n",
      "----------> Creating mixture 18... \n",
      "----------> Creating mixture 19... \n",
      "--> PROPORTION: [0.15, 0.14315789473684212, 0.06263157894736843, 0.05368421052631579, 0.08052631578947368, 0.51]\n",
      "----------> Creating mixture 0... \n",
      "----------> Creating mixture 1... \n",
      "----------> Creating mixture 2... \n",
      "----------> Creating mixture 3... \n",
      "----------> Creating mixture 4... \n",
      "----------> Creating mixture 5... \n",
      "----------> Creating mixture 6... \n",
      "----------> Creating mixture 7... \n",
      "----------> Creating mixture 8... \n",
      "----------> Creating mixture 9... \n",
      "----------> Creating mixture 10... \n",
      "----------> Creating mixture 11... \n",
      "----------> Creating mixture 12... \n",
      "----------> Creating mixture 13... \n",
      "----------> Creating mixture 14... \n",
      "----------> Creating mixture 15... \n",
      "----------> Creating mixture 16... \n",
      "----------> Creating mixture 17... \n",
      "----------> Creating mixture 18... \n",
      "----------> Creating mixture 19... \n",
      "--> PROPORTION: [0.1, 0.1515789473684211, 0.06631578947368422, 0.056842105263157895, 0.08526315789473685, 0.54]\n",
      "----------> Creating mixture 0... \n",
      "----------> Creating mixture 1... \n",
      "----------> Creating mixture 2... \n",
      "----------> Creating mixture 3... \n",
      "----------> Creating mixture 4... \n",
      "----------> Creating mixture 5... \n",
      "----------> Creating mixture 6... \n",
      "----------> Creating mixture 7... \n",
      "----------> Creating mixture 8... \n",
      "----------> Creating mixture 9... \n",
      "----------> Creating mixture 10... \n",
      "----------> Creating mixture 11... \n",
      "----------> Creating mixture 12... \n",
      "----------> Creating mixture 13... \n",
      "----------> Creating mixture 14... \n",
      "----------> Creating mixture 15... \n",
      "----------> Creating mixture 16... \n",
      "----------> Creating mixture 17... \n",
      "----------> Creating mixture 18... \n",
      "----------> Creating mixture 19... \n",
      "--> PROPORTION: [0.08, 0.15494736842105267, 0.06778947368421054, 0.05810526315789474, 0.08715789473684211, 0.552]\n",
      "----------> Creating mixture 0... \n",
      "----------> Creating mixture 1... \n",
      "----------> Creating mixture 2... \n",
      "----------> Creating mixture 3... \n",
      "----------> Creating mixture 4... \n",
      "----------> Creating mixture 5... \n",
      "----------> Creating mixture 6... \n",
      "----------> Creating mixture 7... \n",
      "----------> Creating mixture 8... \n",
      "----------> Creating mixture 9... \n",
      "----------> Creating mixture 10... \n",
      "----------> Creating mixture 11... \n",
      "----------> Creating mixture 12... \n",
      "----------> Creating mixture 13... \n",
      "----------> Creating mixture 14... \n",
      "----------> Creating mixture 15... \n",
      "----------> Creating mixture 16... \n",
      "----------> Creating mixture 17... \n",
      "----------> Creating mixture 18... \n",
      "----------> Creating mixture 19... \n",
      "--> PROPORTION: [0.06, 0.15831578947368422, 0.06926315789473685, 0.05936842105263158, 0.08905263157894737, 0.564]\n",
      "----------> Creating mixture 0... \n",
      "----------> Creating mixture 1... \n",
      "----------> Creating mixture 2... \n",
      "----------> Creating mixture 3... \n",
      "----------> Creating mixture 4... \n",
      "----------> Creating mixture 5... \n",
      "----------> Creating mixture 6... \n",
      "----------> Creating mixture 7... \n",
      "----------> Creating mixture 8... \n",
      "----------> Creating mixture 9... \n",
      "----------> Creating mixture 10... \n",
      "----------> Creating mixture 11... \n",
      "----------> Creating mixture 12... \n",
      "----------> Creating mixture 13... \n",
      "----------> Creating mixture 14... \n",
      "----------> Creating mixture 15... \n",
      "----------> Creating mixture 16... \n",
      "----------> Creating mixture 17... \n",
      "----------> Creating mixture 18... \n",
      "----------> Creating mixture 19... \n",
      "--> PROPORTION: [0.04, 0.16168421052631582, 0.07073684210526317, 0.06063157894736842, 0.09094736842105264, 0.576]\n",
      "----------> Creating mixture 0... \n",
      "----------> Creating mixture 1... \n",
      "----------> Creating mixture 2... \n",
      "----------> Creating mixture 3... \n",
      "----------> Creating mixture 4... \n",
      "----------> Creating mixture 5... \n",
      "----------> Creating mixture 6... \n",
      "----------> Creating mixture 7... \n",
      "----------> Creating mixture 8... \n",
      "----------> Creating mixture 9... \n",
      "----------> Creating mixture 10... \n",
      "----------> Creating mixture 11... \n",
      "----------> Creating mixture 12... \n",
      "----------> Creating mixture 13... \n",
      "----------> Creating mixture 14... \n",
      "----------> Creating mixture 15... \n",
      "----------> Creating mixture 16... \n",
      "----------> Creating mixture 17... \n",
      "----------> Creating mixture 18... \n",
      "----------> Creating mixture 19... \n",
      "--> PROPORTION: [0.02, 0.1650526315789474, 0.07221052631578948, 0.061894736842105266, 0.09284210526315789, 0.588]\n",
      "----------> Creating mixture 0... \n",
      "----------> Creating mixture 1... \n",
      "----------> Creating mixture 2... \n",
      "----------> Creating mixture 3... \n",
      "----------> Creating mixture 4... \n",
      "----------> Creating mixture 5... \n",
      "----------> Creating mixture 6... \n",
      "----------> Creating mixture 7... \n",
      "----------> Creating mixture 8... \n",
      "----------> Creating mixture 9... \n",
      "----------> Creating mixture 10... \n",
      "----------> Creating mixture 11... \n",
      "----------> Creating mixture 12... \n",
      "----------> Creating mixture 13... \n",
      "----------> Creating mixture 14... \n",
      "----------> Creating mixture 15... \n",
      "----------> Creating mixture 16... \n",
      "----------> Creating mixture 17... \n",
      "----------> Creating mixture 18... \n",
      "----------> Creating mixture 19... \n",
      "--> PROPORTION: [0.01, 0.16673684210526318, 0.07294736842105264, 0.06252631578947368, 0.09378947368421053, 0.594]\n",
      "----------> Creating mixture 0... \n",
      "----------> Creating mixture 1... \n",
      "----------> Creating mixture 2... \n",
      "----------> Creating mixture 3... \n",
      "----------> Creating mixture 4... \n",
      "----------> Creating mixture 5... \n",
      "----------> Creating mixture 6... \n",
      "----------> Creating mixture 7... \n",
      "----------> Creating mixture 8... \n",
      "----------> Creating mixture 9... \n",
      "----------> Creating mixture 10... \n",
      "----------> Creating mixture 11... \n",
      "----------> Creating mixture 12... \n",
      "----------> Creating mixture 13... \n",
      "----------> Creating mixture 14... \n",
      "----------> Creating mixture 15... \n",
      "----------> Creating mixture 16... \n",
      "----------> Creating mixture 17... \n",
      "----------> Creating mixture 18... \n",
      "----------> Creating mixture 19... \n",
      "--> PROPORTION: [0.008, 0.16707368421052635, 0.07309473684210527, 0.06265263157894738, 0.09397894736842105, 0.5952]\n",
      "----------> Creating mixture 0... \n",
      "----------> Creating mixture 1... \n",
      "----------> Creating mixture 2... \n",
      "----------> Creating mixture 3... \n",
      "----------> Creating mixture 4... \n",
      "----------> Creating mixture 5... \n",
      "----------> Creating mixture 6... \n",
      "----------> Creating mixture 7... \n",
      "----------> Creating mixture 8... \n",
      "----------> Creating mixture 9... \n",
      "----------> Creating mixture 10... \n",
      "----------> Creating mixture 11... \n",
      "----------> Creating mixture 12... \n",
      "----------> Creating mixture 13... \n",
      "----------> Creating mixture 14... \n",
      "----------> Creating mixture 15... \n",
      "----------> Creating mixture 16... \n",
      "----------> Creating mixture 17... \n",
      "----------> Creating mixture 18... \n",
      "----------> Creating mixture 19... \n",
      "--> PROPORTION: [0.006, 0.1674105263157895, 0.0732421052631579, 0.06277894736842106, 0.09416842105263158, 0.5963999999999999]\n",
      "----------> Creating mixture 0... \n",
      "----------> Creating mixture 1... \n",
      "----------> Creating mixture 2... \n",
      "----------> Creating mixture 3... \n",
      "----------> Creating mixture 4... \n",
      "----------> Creating mixture 5... \n",
      "----------> Creating mixture 6... \n",
      "----------> Creating mixture 7... \n",
      "----------> Creating mixture 8... \n",
      "----------> Creating mixture 9... \n",
      "----------> Creating mixture 10... \n",
      "----------> Creating mixture 11... \n",
      "----------> Creating mixture 12... \n",
      "----------> Creating mixture 13... \n",
      "----------> Creating mixture 14... \n",
      "----------> Creating mixture 15... \n",
      "----------> Creating mixture 16... \n",
      "----------> Creating mixture 17... \n",
      "----------> Creating mixture 18... \n",
      "----------> Creating mixture 19... \n",
      "--> PROPORTION: [0.004, 0.16774736842105265, 0.07338947368421053, 0.06290526315789474, 0.09435789473684211, 0.5976]\n",
      "----------> Creating mixture 0... \n",
      "----------> Creating mixture 1... \n",
      "----------> Creating mixture 2... \n",
      "----------> Creating mixture 3... \n",
      "----------> Creating mixture 4... \n",
      "----------> Creating mixture 5... \n",
      "----------> Creating mixture 6... \n",
      "----------> Creating mixture 7... \n",
      "----------> Creating mixture 8... \n",
      "----------> Creating mixture 9... \n",
      "----------> Creating mixture 10... \n",
      "----------> Creating mixture 11... \n",
      "----------> Creating mixture 12... \n",
      "----------> Creating mixture 13... \n",
      "----------> Creating mixture 14... \n",
      "----------> Creating mixture 15... \n",
      "----------> Creating mixture 16... \n",
      "----------> Creating mixture 17... \n",
      "----------> Creating mixture 18... \n",
      "----------> Creating mixture 19... \n",
      "--> PROPORTION: [0.002, 0.1680842105263158, 0.07353684210526316, 0.06303157894736842, 0.09454736842105263, 0.5988]\n",
      "----------> Creating mixture 0... \n",
      "----------> Creating mixture 1... \n",
      "----------> Creating mixture 2... \n",
      "----------> Creating mixture 3... \n",
      "----------> Creating mixture 4... \n",
      "----------> Creating mixture 5... \n",
      "----------> Creating mixture 6... \n",
      "----------> Creating mixture 7... \n",
      "----------> Creating mixture 8... \n",
      "----------> Creating mixture 9... \n",
      "----------> Creating mixture 10... \n",
      "----------> Creating mixture 11... \n",
      "----------> Creating mixture 12... \n",
      "----------> Creating mixture 13... \n",
      "----------> Creating mixture 14... \n",
      "----------> Creating mixture 15... \n",
      "----------> Creating mixture 16... \n",
      "----------> Creating mixture 17... \n",
      "----------> Creating mixture 18... \n",
      "----------> Creating mixture 19... \n",
      "--> PROPORTION: [0.001, 0.1682526315789474, 0.07361052631578949, 0.06309473684210526, 0.0946421052631579, 0.5993999999999999]\n",
      "----------> Creating mixture 0... \n",
      "----------> Creating mixture 1... \n",
      "----------> Creating mixture 2... \n",
      "----------> Creating mixture 3... \n",
      "----------> Creating mixture 4... \n",
      "----------> Creating mixture 5... \n",
      "----------> Creating mixture 6... \n",
      "----------> Creating mixture 7... \n",
      "----------> Creating mixture 8... \n",
      "----------> Creating mixture 9... \n",
      "----------> Creating mixture 10... \n",
      "----------> Creating mixture 11... \n",
      "----------> Creating mixture 12... \n",
      "----------> Creating mixture 13... \n",
      "----------> Creating mixture 14... \n",
      "----------> Creating mixture 15... \n",
      "----------> Creating mixture 16... \n",
      "----------> Creating mixture 17... \n",
      "----------> Creating mixture 18... \n",
      "----------> Creating mixture 19... \n",
      "--> PROPORTION: [0, 0.16842105263157897, 0.0736842105263158, 0.06315789473684211, 0.09473684210526316, 0.6]\n",
      "----------> Creating mixture 0... \n",
      "----------> Creating mixture 1... \n",
      "----------> Creating mixture 2... \n",
      "----------> Creating mixture 3... \n",
      "----------> Creating mixture 4... \n",
      "----------> Creating mixture 5... \n",
      "----------> Creating mixture 6... \n",
      "----------> Creating mixture 7... \n",
      "----------> Creating mixture 8... \n",
      "----------> Creating mixture 9... \n",
      "----------> Creating mixture 10... \n",
      "----------> Creating mixture 11... \n",
      "----------> Creating mixture 12... \n",
      "----------> Creating mixture 13... \n",
      "----------> Creating mixture 14... \n",
      "----------> Creating mixture 15... \n",
      "----------> Creating mixture 16... \n",
      "----------> Creating mixture 17... \n",
      "----------> Creating mixture 18... \n",
      "----------> Creating mixture 19... \n",
      ">>> Complete. <<< \n",
      "\n",
      "CPU times: user 1.42 s, sys: 324 ms, total: 1.75 s\n",
      "Wall time: 23min 23s\n"
     ]
    }
   ],
   "source": [
    "%%time\n",
    "# load parquet files for each celltype & count rows\n",
    "parquet_df, total_reads_per_celltype = cm.load_parquet_dataframe(parquet_path=PARQUET_PATH,\n",
    "                                                                  cell_types=CELLTYPES,\n",
    "                                                                  spark=spark,\n",
    "                                                                  verbose=True)\n",
    "\n",
    "# mix cell types for each proportion set\n",
    "cm.mix_celltypes_multiple_proportions(parquet_df=parquet_df,\n",
    "                                       total_reads_per_celltype=total_reads_per_celltype,\n",
    "                                    #    n=len(TITRATION_LIST), \n",
    "                                       n=N_REPLICATES,\n",
    "                                       cell_types=CELLTYPES, \n",
    "                                       cell_type_abridged_name=ABRIDGED_NAMES, \n",
    "                                       total_reads_to_sample=TOTAL_READS_TO_SAMPLE, \n",
    "                                       list_of_proportions=PROPORTIONS, \n",
    "                                       seed=SEED, \n",
    "                                       result_path=RESULT_PATH, \n",
    "                                       spark=spark,\n",
    "                                       verbose=False, \n",
    "                                       save=True)"
   ]
  },
  {
   "cell_type": "markdown",
   "id": "bfab80d0",
   "metadata": {
    "papermill": {
     "duration": 0.017673,
     "end_time": "2023-07-28T04:08:09.133259",
     "exception": false,
     "start_time": "2023-07-28T04:08:09.115586",
     "status": "completed"
    },
    "tags": []
   },
   "source": [
    "## Compute score matrix"
   ]
  },
  {
   "cell_type": "code",
   "execution_count": 7,
   "id": "154db959",
   "metadata": {
    "papermill": {
     "duration": 0.022733,
     "end_time": "2023-07-28T04:08:09.173228",
     "exception": false,
     "start_time": "2023-07-28T04:08:09.150495",
     "status": "completed"
    },
    "tags": []
   },
   "outputs": [],
   "source": [
    "############################\n",
    "#   Parameters and paths   # \n",
    "############################\n",
    "\n",
    "FILTER_CG_COUNT = 3\n",
    "FILTER_CG_COUNT_REGION = 1\n",
    "\n",
    "REGIONS = 'deconvolution_v2.v23_conv.with_cpg_index'\n",
    "REGION_BED_COLS = [\n",
    "    'region_chr', 'region_start', 'region_end', \n",
    "    'region_cpg_index_min', 'region_cpg_index_max', 'region_id'\n",
    "]\n",
    "\n",
    "# Regions\n",
    "REGION_PATH = (\n",
    "    PROJECT_DIR + '/stage/panel_data/{regions}.bed'\n",
    ").format(regions=REGIONS)\n",
    "\n",
    "# CpG map; genomic coordinate to CpG index;\n",
    "CPG_MAP_PATH = PROJECT_DIR + '/stage/cpg_loci/cpg_loci_hg19.combined_annot.tsv.gz'\n",
    "\n",
    "#--- Where to store results\n",
    "PATH_TO_MIXTURE_DIR = EXPERIMENT_CELLTYPE_DIR + 'mixture/'\n",
    "RESULT_PATH = EXPERIMENT_CELLTYPE_DIR\n"
   ]
  },
  {
   "cell_type": "code",
   "execution_count": 10,
   "id": "2c772069",
   "metadata": {
    "execution": {
     "iopub.execute_input": "2023-07-28T04:08:09.208261Z",
     "iopub.status.busy": "2023-07-28T04:08:09.208056Z",
     "iopub.status.idle": "2023-07-28T04:08:33.822054Z",
     "shell.execute_reply": "2023-07-28T04:08:33.821484Z"
    },
    "papermill": {
     "duration": 24.633189,
     "end_time": "2023-07-28T04:08:33.823586",
     "exception": false,
     "start_time": "2023-07-28T04:08:09.190397",
     "status": "completed"
    },
    "tags": []
   },
   "outputs": [],
   "source": [
    "cpg_map = pd.read_csv(CPG_MAP_PATH, usecols=['chr', 'start', 'end', 'cpg_index', 'cpg_index_hg38'], sep='\\t')"
   ]
  },
  {
   "cell_type": "code",
   "execution_count": 11,
   "id": "fd15fbc9",
   "metadata": {
    "execution": {
     "iopub.execute_input": "2023-07-28T04:08:33.860774Z",
     "iopub.status.busy": "2023-07-28T04:08:33.860546Z",
     "iopub.status.idle": "2023-07-28T04:08:53.608006Z",
     "shell.execute_reply": "2023-07-28T04:08:53.607470Z"
    },
    "papermill": {
     "duration": 19.767114,
     "end_time": "2023-07-28T04:08:53.609305",
     "exception": false,
     "start_time": "2023-07-28T04:08:33.842191",
     "status": "completed"
    },
    "tags": []
   },
   "outputs": [
    {
     "name": "stdout",
     "output_type": "stream",
     "text": [
      "CPU times: user 14.9 s, sys: 4.87 s, total: 19.8 s\n",
      "Wall time: 19.7 s\n"
     ]
    }
   ],
   "source": [
    "%%time\n",
    "ridxs = ~cpg_map['cpg_index_hg38'].isna()\n",
    "hg19_hg38_map = dict(itertools.zip_longest(cpg_map[ridxs]['cpg_index'], cpg_map[ridxs]['cpg_index_hg38'].astype(int)))\n",
    "hg38_hg19_map = dict(itertools.zip_longest(cpg_map[ridxs]['cpg_index_hg38'].astype(int), cpg_map[ridxs]['cpg_index']))"
   ]
  },
  {
   "cell_type": "code",
   "execution_count": 12,
   "id": "43429a51",
   "metadata": {
    "execution": {
     "iopub.execute_input": "2023-07-28T04:08:53.646448Z",
     "iopub.status.busy": "2023-07-28T04:08:53.646215Z",
     "iopub.status.idle": "2023-07-28T04:09:24.688623Z",
     "shell.execute_reply": "2023-07-28T04:09:24.688146Z"
    },
    "papermill": {
     "duration": 31.079643,
     "end_time": "2023-07-28T04:09:24.707484",
     "exception": false,
     "start_time": "2023-07-28T04:08:53.627841",
     "status": "completed"
    },
    "tags": []
   },
   "outputs": [
    {
     "data": {
      "text/plain": [
       "(1658, 1658)"
      ]
     },
     "execution_count": 12,
     "metadata": {},
     "output_type": "execute_result"
    }
   ],
   "source": [
    "region_df = pd.read_csv(REGION_PATH, sep='\\t', usecols=range(0, 6), names=REGION_BED_COLS)\n",
    "\n",
    "region_df['region_cpg_index_max'] -= 1\n",
    "region_df.sort_values('region_cpg_index_min', inplace=True)\n",
    "region_df['region_cpg_index_min_hg38'] = region_df['region_cpg_index_min'].map(hg19_hg38_map)\n",
    "region_df['region_cpg_index_max_hg38'] = region_df['region_cpg_index_max'].map(hg19_hg38_map)\n",
    "\n",
    "region_df.shape[0], region_df['region_id'].nunique()"
   ]
  },
  {
   "cell_type": "code",
   "execution_count": 13,
   "id": "c3fc3df8",
   "metadata": {
    "execution": {
     "iopub.execute_input": "2023-07-28T04:09:24.744252Z",
     "iopub.status.busy": "2023-07-28T04:09:24.744026Z",
     "iopub.status.idle": "2023-07-28T04:09:24.750016Z",
     "shell.execute_reply": "2023-07-28T04:09:24.749565Z"
    },
    "papermill": {
     "duration": 0.025551,
     "end_time": "2023-07-28T04:09:24.751172",
     "exception": false,
     "start_time": "2023-07-28T04:09:24.725621",
     "status": "completed"
    },
    "tags": []
   },
   "outputs": [
    {
     "data": {
      "text/plain": [
       "(1658, 1658)"
      ]
     },
     "execution_count": 13,
     "metadata": {},
     "output_type": "execute_result"
    }
   ],
   "source": [
    "ridxs = ~region_df['region_cpg_index_min_hg38'].isna()\n",
    "ridxs &= ~region_df['region_cpg_index_max_hg38'].isna()\n",
    "region_df = region_df[ridxs].copy()\n",
    "region_df.shape[0], region_df['region_id'].nunique()"
   ]
  },
  {
   "cell_type": "code",
   "execution_count": 14,
   "id": "4a61f45c",
   "metadata": {
    "execution": {
     "iopub.execute_input": "2023-07-28T04:09:24.786937Z",
     "iopub.status.busy": "2023-07-28T04:09:24.786734Z",
     "iopub.status.idle": "2023-07-28T04:09:24.792942Z",
     "shell.execute_reply": "2023-07-28T04:09:24.792533Z"
    },
    "papermill": {
     "duration": 0.025422,
     "end_time": "2023-07-28T04:09:24.794084",
     "exception": false,
     "start_time": "2023-07-28T04:09:24.768662",
     "status": "completed"
    },
    "tags": []
   },
   "outputs": [
    {
     "data": {
      "text/plain": [
       "(1657, 1657)"
      ]
     },
     "execution_count": 14,
     "metadata": {},
     "output_type": "execute_result"
    }
   ],
   "source": [
    "cg_count_hg19 = region_df['region_cpg_index_max']-region_df['region_cpg_index_min'] + 1\n",
    "cg_count_hg38 = region_df['region_cpg_index_max_hg38']-region_df['region_cpg_index_min_hg38'] + 1\n",
    "ridxs = (cg_count_hg19==cg_count_hg38)\n",
    "ridxs &= (cg_count_hg19>=FILTER_CG_COUNT_REGION)\n",
    "region_df = region_df[ridxs].copy()\n",
    "region_df.shape[0], region_df['region_id'].nunique()"
   ]
  },
  {
   "cell_type": "code",
   "execution_count": 15,
   "id": "9e53f119",
   "metadata": {
    "execution": {
     "iopub.execute_input": "2023-07-28T04:09:24.829992Z",
     "iopub.status.busy": "2023-07-28T04:09:24.829755Z",
     "iopub.status.idle": "2023-07-28T04:09:24.833121Z",
     "shell.execute_reply": "2023-07-28T04:09:24.832702Z"
    },
    "papermill": {
     "duration": 0.022542,
     "end_time": "2023-07-28T04:09:24.834244",
     "exception": false,
     "start_time": "2023-07-28T04:09:24.811702",
     "status": "completed"
    },
    "tags": []
   },
   "outputs": [],
   "source": [
    "region_df['region_cpg_index_min_hg38'] = region_df['region_cpg_index_min_hg38'].astype(int)\n",
    "region_df['region_cpg_index_max_hg38'] = region_df['region_cpg_index_max_hg38'].astype(int)"
   ]
  },
  {
   "cell_type": "code",
   "execution_count": 16,
   "id": "69b43c21",
   "metadata": {
    "execution": {
     "iopub.execute_input": "2023-07-28T04:09:24.871206Z",
     "iopub.status.busy": "2023-07-28T04:09:24.871005Z",
     "iopub.status.idle": "2023-07-28T04:09:24.883105Z",
     "shell.execute_reply": "2023-07-28T04:09:24.882695Z"
    },
    "papermill": {
     "duration": 0.031746,
     "end_time": "2023-07-28T04:09:24.884258",
     "exception": false,
     "start_time": "2023-07-28T04:09:24.852512",
     "status": "completed"
    },
    "tags": []
   },
   "outputs": [
    {
     "data": {
      "text/html": [
       "<div>\n",
       "<style scoped>\n",
       "    .dataframe tbody tr th:only-of-type {\n",
       "        vertical-align: middle;\n",
       "    }\n",
       "\n",
       "    .dataframe tbody tr th {\n",
       "        vertical-align: top;\n",
       "    }\n",
       "\n",
       "    .dataframe thead th {\n",
       "        text-align: right;\n",
       "    }\n",
       "</style>\n",
       "<table border=\"1\" class=\"dataframe\">\n",
       "  <thead>\n",
       "    <tr style=\"text-align: right;\">\n",
       "      <th></th>\n",
       "      <th>region_chr</th>\n",
       "      <th>region_start</th>\n",
       "      <th>region_end</th>\n",
       "      <th>region_cpg_index_min</th>\n",
       "      <th>region_cpg_index_max</th>\n",
       "      <th>region_id</th>\n",
       "      <th>region_cpg_index_min_hg38</th>\n",
       "      <th>region_cpg_index_max_hg38</th>\n",
       "    </tr>\n",
       "  </thead>\n",
       "  <tbody>\n",
       "    <tr>\n",
       "      <th>0</th>\n",
       "      <td>chr1</td>\n",
       "      <td>1114771</td>\n",
       "      <td>1114971</td>\n",
       "      <td>20117</td>\n",
       "      <td>20129</td>\n",
       "      <td>Immune_Broad_B-chr1:1114772-1114971</td>\n",
       "      <td>21119</td>\n",
       "      <td>21131</td>\n",
       "    </tr>\n",
       "    <tr>\n",
       "      <th>1</th>\n",
       "      <td>chr1</td>\n",
       "      <td>1157450</td>\n",
       "      <td>1157720</td>\n",
       "      <td>21684</td>\n",
       "      <td>21703</td>\n",
       "      <td>Immune_Broad_NK-chr1:1157451-1157720</td>\n",
       "      <td>22686</td>\n",
       "      <td>22705</td>\n",
       "    </tr>\n",
       "    <tr>\n",
       "      <th>2</th>\n",
       "      <td>chr1</td>\n",
       "      <td>1157879</td>\n",
       "      <td>1158277</td>\n",
       "      <td>21710</td>\n",
       "      <td>21726</td>\n",
       "      <td>Immune_Broad_NK-chr1:1157880-1158277</td>\n",
       "      <td>22712</td>\n",
       "      <td>22728</td>\n",
       "    </tr>\n",
       "    <tr>\n",
       "      <th>14</th>\n",
       "      <td>chr1</td>\n",
       "      <td>6341182</td>\n",
       "      <td>6341377</td>\n",
       "      <td>140667</td>\n",
       "      <td>140681</td>\n",
       "      <td>Immune_Broad_Eosi-chr1:6341183-6341377</td>\n",
       "      <td>142368</td>\n",
       "      <td>142382</td>\n",
       "    </tr>\n",
       "    <tr>\n",
       "      <th>19</th>\n",
       "      <td>chr1</td>\n",
       "      <td>9147788</td>\n",
       "      <td>9147871</td>\n",
       "      <td>188605</td>\n",
       "      <td>188608</td>\n",
       "      <td>Immune_Broad_Neutro-chr1:9147789-9147871</td>\n",
       "      <td>190307</td>\n",
       "      <td>190310</td>\n",
       "    </tr>\n",
       "  </tbody>\n",
       "</table>\n",
       "</div>"
      ],
      "text/plain": [
       "   region_chr  region_start  region_end  region_cpg_index_min  region_cpg_index_max                                 region_id  region_cpg_index_min_hg38  region_cpg_index_max_hg38\n",
       "0        chr1       1114771     1114971                 20117                 20129       Immune_Broad_B-chr1:1114772-1114971                      21119                      21131\n",
       "1        chr1       1157450     1157720                 21684                 21703      Immune_Broad_NK-chr1:1157451-1157720                      22686                      22705\n",
       "2        chr1       1157879     1158277                 21710                 21726      Immune_Broad_NK-chr1:1157880-1158277                      22712                      22728\n",
       "14       chr1       6341182     6341377                140667                140681    Immune_Broad_Eosi-chr1:6341183-6341377                     142368                     142382\n",
       "19       chr1       9147788     9147871                188605                188608  Immune_Broad_Neutro-chr1:9147789-9147871                     190307                     190310"
      ]
     },
     "execution_count": 16,
     "metadata": {},
     "output_type": "execute_result"
    }
   ],
   "source": [
    "### Restrict to immune regions\n",
    "#-------------- CHANGE HERE FOR DIFFERENT REGION SUBSET ----------------------\n",
    "# BLUEPRINT immune regions\n",
    "ATLAS_PATH = PROJECT_DIR + f'/output/reference/deconv_inhouse_v2.atlas.tsv.gz'\n",
    "atlas = pd.read_csv(ATLAS_PATH, sep='\\t')\n",
    "subset_region_set = set(atlas.region_id)\n",
    "#-----------------------------------------------------------------------------\n",
    "\n",
    "# filter regions down to regions of interest\n",
    "region_df = region_df[region_df['region_id'].isin(subset_region_set)]\n",
    "region_df.head()"
   ]
  },
  {
   "cell_type": "code",
   "execution_count": 17,
   "id": "69250a61",
   "metadata": {
    "execution": {
     "iopub.execute_input": "2023-07-28T04:09:24.920740Z",
     "iopub.status.busy": "2023-07-28T04:09:24.920538Z",
     "iopub.status.idle": "2023-07-28T04:58:39.771728Z",
     "shell.execute_reply": "2023-07-28T04:58:39.771197Z"
    },
    "papermill": {
     "duration": 2954.870835,
     "end_time": "2023-07-28T04:58:39.772994",
     "exception": false,
     "start_time": "2023-07-28T04:09:24.902159",
     "status": "completed"
    },
    "tags": []
   },
   "outputs": [
    {
     "name": "stdout",
     "output_type": "stream",
     "text": [
      ">>> Start computing score matrices <<< \n",
      "\n",
      "--> E2NK_E1347CD4_E0589CD8_E0505B_E0758MONO_E48NEUTRO\n",
      "--------> Computing score matrix for mix0_seed967193\n",
      "--------> Computing score matrix for mix1_seed969385\n",
      "--------> Computing score matrix for mix2_seed446982\n",
      "--------> Computing score matrix for mix3_seed887258\n",
      "--------> Computing score matrix for mix4_seed779818\n",
      "--------> Computing score matrix for mix5_seed409835\n",
      "--------> Computing score matrix for mix6_seed765765\n",
      "--------> Computing score matrix for mix7_seed117014\n",
      "--------> Computing score matrix for mix8_seed926946\n",
      "--------> Computing score matrix for mix9_seed578816\n",
      "--------> Computing score matrix for mix10_seed184037\n",
      "--------> Computing score matrix for mix11_seed725459\n",
      "--------> Computing score matrix for mix12_seed35669\n",
      "--------> Computing score matrix for mix13_seed889315\n",
      "--------> Computing score matrix for mix14_seed199079\n",
      "--------> Computing score matrix for mix15_seed830814\n",
      "--------> Computing score matrix for mix16_seed828963\n",
      "--------> Computing score matrix for mix17_seed208288\n",
      "--------> Computing score matrix for mix18_seed92395\n",
      "--------> Computing score matrix for mix19_seed358043\n",
      "\n",
      "\n",
      "--> E15NK_E1432CD4_E0626CD8_E0537B_E0805MONO_E51NEUTRO\n",
      "--------> Computing score matrix for mix0_seed225862\n",
      "--------> Computing score matrix for mix1_seed708147\n",
      "--------> Computing score matrix for mix2_seed865047\n",
      "--------> Computing score matrix for mix3_seed57816\n",
      "--------> Computing score matrix for mix4_seed469857\n",
      "--------> Computing score matrix for mix5_seed540482\n",
      "--------> Computing score matrix for mix6_seed628177\n",
      "--------> Computing score matrix for mix7_seed118846\n",
      "--------> Computing score matrix for mix8_seed532864\n",
      "--------> Computing score matrix for mix9_seed242297\n",
      "--------> Computing score matrix for mix10_seed693262\n",
      "--------> Computing score matrix for mix11_seed953912\n",
      "--------> Computing score matrix for mix12_seed566096\n",
      "--------> Computing score matrix for mix13_seed333027\n",
      "--------> Computing score matrix for mix14_seed59\n",
      "--------> Computing score matrix for mix15_seed501283\n",
      "--------> Computing score matrix for mix16_seed441252\n",
      "--------> Computing score matrix for mix17_seed430761\n",
      "--------> Computing score matrix for mix18_seed628167\n",
      "--------> Computing score matrix for mix19_seed146784\n",
      "\n",
      "\n",
      "--> E1NK_E1516CD4_E0663CD8_E0568B_E0853MONO_E54NEUTRO\n",
      "--------> Computing score matrix for mix0_seed407145\n",
      "--------> Computing score matrix for mix1_seed374842\n",
      "--------> Computing score matrix for mix2_seed231964\n",
      "--------> Computing score matrix for mix3_seed595160\n",
      "--------> Computing score matrix for mix4_seed880582\n",
      "--------> Computing score matrix for mix5_seed577197\n",
      "--------> Computing score matrix for mix6_seed968699\n",
      "--------> Computing score matrix for mix7_seed821675\n",
      "--------> Computing score matrix for mix8_seed315149\n",
      "--------> Computing score matrix for mix9_seed63912\n",
      "--------> Computing score matrix for mix10_seed688994\n",
      "--------> Computing score matrix for mix11_seed596454\n",
      "--------> Computing score matrix for mix12_seed998351\n",
      "--------> Computing score matrix for mix13_seed738813\n",
      "--------> Computing score matrix for mix14_seed288327\n",
      "--------> Computing score matrix for mix15_seed987090\n",
      "--------> Computing score matrix for mix16_seed106740\n",
      "--------> Computing score matrix for mix17_seed343900\n",
      "--------> Computing score matrix for mix18_seed503874\n",
      "--------> Computing score matrix for mix19_seed387061\n",
      "\n",
      "\n",
      "--> E08NK_E1549CD4_E0678CD8_E0581B_E0872MONO_E552NEUTRO\n",
      "--------> Computing score matrix for mix0_seed328917\n",
      "--------> Computing score matrix for mix1_seed134326\n",
      "--------> Computing score matrix for mix2_seed608580\n",
      "--------> Computing score matrix for mix3_seed572425\n",
      "--------> Computing score matrix for mix4_seed940331\n",
      "--------> Computing score matrix for mix5_seed996608\n",
      "--------> Computing score matrix for mix6_seed611804\n",
      "--------> Computing score matrix for mix7_seed756378\n",
      "--------> Computing score matrix for mix8_seed548404\n",
      "--------> Computing score matrix for mix9_seed23993\n",
      "--------> Computing score matrix for mix10_seed830606\n",
      "--------> Computing score matrix for mix11_seed61393\n",
      "--------> Computing score matrix for mix12_seed209463\n",
      "--------> Computing score matrix for mix13_seed843019\n",
      "--------> Computing score matrix for mix14_seed704228\n",
      "--------> Computing score matrix for mix15_seed122584\n",
      "--------> Computing score matrix for mix16_seed253713\n",
      "--------> Computing score matrix for mix17_seed454794\n",
      "--------> Computing score matrix for mix18_seed665185\n",
      "--------> Computing score matrix for mix19_seed808212\n",
      "\n",
      "\n",
      "--> E06NK_E1583CD4_E0693CD8_E0594B_E0891MONO_E564NEUTRO\n",
      "--------> Computing score matrix for mix0_seed982459\n",
      "--------> Computing score matrix for mix1_seed791117\n",
      "--------> Computing score matrix for mix2_seed151887\n",
      "--------> Computing score matrix for mix3_seed930298\n",
      "--------> Computing score matrix for mix4_seed143383\n",
      "--------> Computing score matrix for mix5_seed533066\n",
      "--------> Computing score matrix for mix6_seed561035\n",
      "--------> Computing score matrix for mix7_seed579853\n",
      "--------> Computing score matrix for mix8_seed677862\n",
      "--------> Computing score matrix for mix9_seed722633\n",
      "--------> Computing score matrix for mix10_seed571774\n",
      "--------> Computing score matrix for mix11_seed182448\n",
      "--------> Computing score matrix for mix12_seed213766\n",
      "--------> Computing score matrix for mix13_seed986422\n",
      "--------> Computing score matrix for mix14_seed485747\n",
      "--------> Computing score matrix for mix15_seed557432\n",
      "--------> Computing score matrix for mix16_seed901266\n",
      "--------> Computing score matrix for mix17_seed601400\n",
      "--------> Computing score matrix for mix18_seed438360\n",
      "--------> Computing score matrix for mix19_seed750452\n",
      "\n",
      "\n",
      "--> E04NK_E1617CD4_E0707CD8_E0606B_E0909MONO_E576NEUTRO\n",
      "--------> Computing score matrix for mix0_seed545178\n",
      "--------> Computing score matrix for mix1_seed746698\n",
      "--------> Computing score matrix for mix2_seed756021\n",
      "--------> Computing score matrix for mix3_seed159897\n",
      "--------> Computing score matrix for mix4_seed370196\n",
      "--------> Computing score matrix for mix5_seed807216\n",
      "--------> Computing score matrix for mix6_seed291728\n",
      "--------> Computing score matrix for mix7_seed215184\n",
      "--------> Computing score matrix for mix8_seed51297\n",
      "--------> Computing score matrix for mix9_seed735378\n",
      "--------> Computing score matrix for mix10_seed33744\n",
      "--------> Computing score matrix for mix11_seed510523\n",
      "--------> Computing score matrix for mix12_seed339256\n",
      "--------> Computing score matrix for mix13_seed961686\n",
      "--------> Computing score matrix for mix14_seed948767\n",
      "--------> Computing score matrix for mix15_seed670788\n",
      "--------> Computing score matrix for mix16_seed403015\n",
      "--------> Computing score matrix for mix17_seed180378\n",
      "--------> Computing score matrix for mix18_seed209787\n",
      "--------> Computing score matrix for mix19_seed540203\n",
      "\n",
      "\n",
      "--> E02NK_E1651CD4_E0722CD8_E0619B_E0928MONO_E588NEUTRO\n",
      "--------> Computing score matrix for mix0_seed79955\n",
      "--------> Computing score matrix for mix1_seed447642\n",
      "--------> Computing score matrix for mix2_seed713195\n",
      "--------> Computing score matrix for mix3_seed802340\n",
      "--------> Computing score matrix for mix4_seed506971\n",
      "--------> Computing score matrix for mix5_seed995789\n",
      "--------> Computing score matrix for mix6_seed650094\n",
      "--------> Computing score matrix for mix7_seed610763\n",
      "--------> Computing score matrix for mix8_seed733558\n",
      "--------> Computing score matrix for mix9_seed653189\n",
      "--------> Computing score matrix for mix10_seed658741\n",
      "--------> Computing score matrix for mix11_seed618019\n",
      "--------> Computing score matrix for mix12_seed674509\n",
      "--------> Computing score matrix for mix13_seed934571\n",
      "--------> Computing score matrix for mix14_seed126403\n",
      "--------> Computing score matrix for mix15_seed510856\n",
      "--------> Computing score matrix for mix16_seed777377\n",
      "--------> Computing score matrix for mix17_seed787543\n",
      "--------> Computing score matrix for mix18_seed991526\n",
      "--------> Computing score matrix for mix19_seed348994\n",
      "\n",
      "\n",
      "--> E01NK_E1667CD4_E0729CD8_E0625B_E0938MONO_E594NEUTRO\n",
      "--------> Computing score matrix for mix0_seed666217\n",
      "--------> Computing score matrix for mix1_seed152103\n",
      "--------> Computing score matrix for mix2_seed338956\n",
      "--------> Computing score matrix for mix3_seed136919\n",
      "--------> Computing score matrix for mix4_seed463023\n",
      "--------> Computing score matrix for mix5_seed564562\n",
      "--------> Computing score matrix for mix6_seed443284\n",
      "--------> Computing score matrix for mix7_seed5033\n",
      "--------> Computing score matrix for mix8_seed82189\n",
      "--------> Computing score matrix for mix9_seed944797\n",
      "--------> Computing score matrix for mix10_seed326698\n",
      "--------> Computing score matrix for mix11_seed730730\n",
      "--------> Computing score matrix for mix12_seed499410\n",
      "--------> Computing score matrix for mix13_seed925689\n",
      "--------> Computing score matrix for mix14_seed467280\n",
      "--------> Computing score matrix for mix15_seed7026\n",
      "--------> Computing score matrix for mix16_seed652799\n",
      "--------> Computing score matrix for mix17_seed783381\n",
      "--------> Computing score matrix for mix18_seed949567\n",
      "--------> Computing score matrix for mix19_seed772347\n",
      "\n",
      "\n",
      "--> E008NK_E1671CD4_E0731CD8_E0627B_E094MONO_E5952NEUTRO\n",
      "--------> Computing score matrix for mix0_seed872093\n",
      "--------> Computing score matrix for mix1_seed214100\n",
      "--------> Computing score matrix for mix2_seed424293\n",
      "--------> Computing score matrix for mix3_seed46509\n",
      "--------> Computing score matrix for mix4_seed874658\n",
      "--------> Computing score matrix for mix5_seed107861\n",
      "--------> Computing score matrix for mix6_seed17969\n",
      "--------> Computing score matrix for mix7_seed246088\n",
      "--------> Computing score matrix for mix8_seed288629\n",
      "--------> Computing score matrix for mix9_seed111453\n",
      "--------> Computing score matrix for mix10_seed502254\n",
      "--------> Computing score matrix for mix11_seed656493\n",
      "--------> Computing score matrix for mix12_seed901889\n",
      "--------> Computing score matrix for mix13_seed946040\n",
      "--------> Computing score matrix for mix14_seed726406\n",
      "--------> Computing score matrix for mix15_seed665681\n",
      "--------> Computing score matrix for mix16_seed644034\n",
      "--------> Computing score matrix for mix17_seed168647\n",
      "--------> Computing score matrix for mix18_seed392474\n",
      "--------> Computing score matrix for mix19_seed20916\n",
      "\n",
      "\n",
      "--> E006NK_E1674CD4_E0732CD8_E0628B_E0942MONO_E5964NEUTRO\n",
      "--------> Computing score matrix for mix0_seed844259\n",
      "--------> Computing score matrix for mix1_seed775462\n",
      "--------> Computing score matrix for mix2_seed947499\n",
      "--------> Computing score matrix for mix3_seed943337\n",
      "--------> Computing score matrix for mix4_seed709305\n",
      "--------> Computing score matrix for mix5_seed152369\n",
      "--------> Computing score matrix for mix6_seed848912\n",
      "--------> Computing score matrix for mix7_seed714416\n",
      "--------> Computing score matrix for mix8_seed83466\n",
      "--------> Computing score matrix for mix9_seed251720\n",
      "--------> Computing score matrix for mix10_seed552282\n",
      "--------> Computing score matrix for mix11_seed367790\n",
      "--------> Computing score matrix for mix12_seed777127\n",
      "--------> Computing score matrix for mix13_seed335653\n",
      "--------> Computing score matrix for mix14_seed108025\n",
      "--------> Computing score matrix for mix15_seed682335\n",
      "--------> Computing score matrix for mix16_seed731214\n",
      "--------> Computing score matrix for mix17_seed137348\n",
      "--------> Computing score matrix for mix18_seed768054\n",
      "--------> Computing score matrix for mix19_seed161527\n",
      "\n",
      "\n",
      "--> E004NK_E1677CD4_E0734CD8_E0629B_E0944MONO_E5976NEUTRO\n",
      "--------> Computing score matrix for mix0_seed734540\n",
      "--------> Computing score matrix for mix1_seed490276\n",
      "--------> Computing score matrix for mix2_seed741452\n",
      "--------> Computing score matrix for mix3_seed891755\n",
      "--------> Computing score matrix for mix4_seed947087\n",
      "--------> Computing score matrix for mix5_seed720752\n",
      "--------> Computing score matrix for mix6_seed664736\n",
      "--------> Computing score matrix for mix7_seed633420\n",
      "--------> Computing score matrix for mix8_seed517100\n",
      "--------> Computing score matrix for mix9_seed114356\n",
      "--------> Computing score matrix for mix10_seed19031\n",
      "--------> Computing score matrix for mix11_seed868981\n",
      "--------> Computing score matrix for mix12_seed422691\n",
      "--------> Computing score matrix for mix13_seed976622\n",
      "--------> Computing score matrix for mix14_seed511716\n",
      "--------> Computing score matrix for mix15_seed221307\n",
      "--------> Computing score matrix for mix16_seed461595\n",
      "--------> Computing score matrix for mix17_seed173530\n",
      "--------> Computing score matrix for mix18_seed295009\n",
      "--------> Computing score matrix for mix19_seed913892\n",
      "\n",
      "\n",
      "--> E002NK_E1681CD4_E0735CD8_E063B_E0945MONO_E5988NEUTRO\n",
      "--------> Computing score matrix for mix0_seed984004\n",
      "--------> Computing score matrix for mix1_seed683556\n",
      "--------> Computing score matrix for mix2_seed603736\n",
      "--------> Computing score matrix for mix3_seed787058\n",
      "--------> Computing score matrix for mix4_seed271232\n",
      "--------> Computing score matrix for mix5_seed662922\n",
      "--------> Computing score matrix for mix6_seed445477\n",
      "--------> Computing score matrix for mix7_seed614361\n",
      "--------> Computing score matrix for mix8_seed537423\n",
      "--------> Computing score matrix for mix9_seed806299\n",
      "--------> Computing score matrix for mix10_seed49385\n",
      "--------> Computing score matrix for mix11_seed268719\n",
      "--------> Computing score matrix for mix12_seed440368\n",
      "--------> Computing score matrix for mix13_seed760851\n",
      "--------> Computing score matrix for mix14_seed38761\n",
      "--------> Computing score matrix for mix15_seed592651\n",
      "--------> Computing score matrix for mix16_seed421245\n",
      "--------> Computing score matrix for mix17_seed354812\n",
      "--------> Computing score matrix for mix18_seed354678\n",
      "--------> Computing score matrix for mix19_seed226281\n",
      "\n",
      "\n",
      "--> E001NK_E1683CD4_E0736CD8_E0631B_E0946MONO_E5994NEUTRO\n",
      "--------> Computing score matrix for mix0_seed189194\n",
      "--------> Computing score matrix for mix1_seed585395\n",
      "--------> Computing score matrix for mix2_seed915436\n",
      "--------> Computing score matrix for mix3_seed858685\n",
      "--------> Computing score matrix for mix4_seed97341\n",
      "--------> Computing score matrix for mix5_seed405913\n",
      "--------> Computing score matrix for mix6_seed912226\n",
      "--------> Computing score matrix for mix7_seed772059\n",
      "--------> Computing score matrix for mix8_seed700840\n",
      "--------> Computing score matrix for mix9_seed946948\n",
      "--------> Computing score matrix for mix10_seed811454\n",
      "--------> Computing score matrix for mix11_seed923561\n",
      "--------> Computing score matrix for mix12_seed771020\n",
      "--------> Computing score matrix for mix13_seed87182\n",
      "--------> Computing score matrix for mix14_seed201738\n",
      "--------> Computing score matrix for mix15_seed312823\n",
      "--------> Computing score matrix for mix16_seed605772\n",
      "--------> Computing score matrix for mix17_seed664745\n",
      "--------> Computing score matrix for mix18_seed85142\n",
      "--------> Computing score matrix for mix19_seed290974\n",
      "\n",
      "\n",
      "--> ENK_E1684CD4_E0737CD8_E0632B_E0947MONO_E6NEUTRO\n",
      "--------> Computing score matrix for mix0_seed444362\n",
      "--------> Computing score matrix for mix1_seed144765\n",
      "--------> Computing score matrix for mix2_seed372176\n",
      "--------> Computing score matrix for mix3_seed496774\n",
      "--------> Computing score matrix for mix4_seed568651\n",
      "--------> Computing score matrix for mix5_seed999672\n",
      "--------> Computing score matrix for mix6_seed390505\n",
      "--------> Computing score matrix for mix7_seed710956\n",
      "--------> Computing score matrix for mix8_seed87224\n",
      "--------> Computing score matrix for mix9_seed118740\n",
      "--------> Computing score matrix for mix10_seed3845\n",
      "--------> Computing score matrix for mix11_seed189987\n",
      "--------> Computing score matrix for mix12_seed757439\n",
      "--------> Computing score matrix for mix13_seed876574\n",
      "--------> Computing score matrix for mix14_seed407952\n",
      "--------> Computing score matrix for mix15_seed156084\n",
      "--------> Computing score matrix for mix16_seed877453\n",
      "--------> Computing score matrix for mix17_seed994908\n",
      "--------> Computing score matrix for mix18_seed371606\n",
      "--------> Computing score matrix for mix19_seed608697\n",
      "\n",
      "\n",
      ">>> Complete. <<< \n",
      "\n",
      "CPU times: user 16 s, sys: 981 ms, total: 17 s\n",
      "Wall time: 49min 14s\n"
     ]
    }
   ],
   "source": [
    "%%time\n",
    "\n",
    "PAT_COLS = [\n",
    "    'molecule_id', 'chr', 'number_molecules',\n",
    "    'cpg_index_min', 'cpg_index_max', 'pat_string', 'region_id', 'region_cpg_index_min', 'region_cpg_index_max'\n",
    "]\n",
    "\n",
    "QUANTILES = [0.1, 0.25, 0.75, 0.9]\n",
    "KMERS = [1, 3, 4]\n",
    "RATES_LEQ = [0.25]\n",
    "RATES_GEQ = [0.75]\n",
    "\n",
    "RETURN_SCHEMA = StructType()\\\n",
    "    .add('region_id', 'string')\\\n",
    "    .add('number_molecules', 'integer')\\\n",
    "    .add('meth_k1', 'integer')\\\n",
    "    .add('unmeth_k1', 'integer')\\\n",
    "    .add('total_k1', 'integer')\\\n",
    "    .add('meth_k3', 'integer')\\\n",
    "    .add('unmeth_k3', 'integer')\\\n",
    "    .add('total_k3', 'integer')\\\n",
    "    .add('meth_k4', 'integer')\\\n",
    "    .add('unmeth_k4', 'integer')\\\n",
    "    .add('total_k4', 'integer')\\\n",
    "    .add('frac_alpha_leq_25pct', 'float')\\\n",
    "    .add('frac_alpha_geq_75pct', 'float')\n",
    "\n",
    "compute_frag_scores_udf = sm.compute_frag_scores(cpg_number_cutoff=FILTER_CG_COUNT, schema=RETURN_SCHEMA, kmers=KMERS, rates_leq=RATES_LEQ, rates_geq=RATES_GEQ)\n",
    "\n",
    "\n",
    "# compute methyl score for are parquet files\n",
    "sm.score_matrix_from_mixture_directory(path_to_mixture_dir = PATH_TO_MIXTURE_DIR, \n",
    "                                       result_path = RESULT_PATH, \n",
    "                                       pat_cols = PAT_COLS, \n",
    "                                       region_df = region_df, \n",
    "                                       batch_size = 20, \n",
    "                                       schema = RETURN_SCHEMA, \n",
    "                                       spark=spark,\n",
    "                                       compute_frag_scores_udf=compute_frag_scores_udf,\n",
    "                                       save=True, \n",
    "                                       verbose=False)"
   ]
  },
  {
   "cell_type": "markdown",
   "id": "ab07228c",
   "metadata": {
    "papermill": {
     "duration": 0.031132,
     "end_time": "2023-07-28T04:58:39.836016",
     "exception": false,
     "start_time": "2023-07-28T04:58:39.804884",
     "status": "completed"
    },
    "tags": []
   },
   "source": [
    "## Deconvolution"
   ]
  },
  {
   "cell_type": "code",
   "execution_count": 8,
   "id": "63911f99",
   "metadata": {
    "papermill": {
     "duration": 0.035361,
     "end_time": "2023-07-28T04:58:39.901823",
     "exception": false,
     "start_time": "2023-07-28T04:58:39.866462",
     "status": "completed"
    },
    "tags": []
   },
   "outputs": [],
   "source": [
    "############################\n",
    "#   Parameters and paths   # \n",
    "############################\n",
    "\n",
    "FILTER_COV = 20\n",
    "\n",
    "SCORE_VAR = 'frac_alpha_leq_25pct'\n",
    "\n",
    "# Reference matrix\n",
    "ATLAS_PATH = PROJECT_DIR + 'output/reference/deconv_inhouse_v2.tsplit.atlas.tsv.gz'\n",
    "REGION_PATH = PROJECT_DIR + 'output/reference/deconv_inhouse_v2.tsplit.region_to_ref_celltype.tsv.gz'\n",
    "\n",
    "# Methylation score matrix\n",
    "SCORE_DIR = EXPERIMENT_CELLTYPE_DIR + 'methyl_score/'\n"
   ]
  },
  {
   "cell_type": "code",
   "execution_count": 9,
   "id": "3f8af3e5",
   "metadata": {
    "papermill": {
     "duration": 0.042376,
     "end_time": "2023-07-28T04:58:39.975304",
     "exception": false,
     "start_time": "2023-07-28T04:58:39.932928",
     "status": "completed"
    },
    "tags": []
   },
   "outputs": [
    {
     "data": {
      "text/plain": [
       "(285, 10)"
      ]
     },
     "execution_count": 9,
     "metadata": {},
     "output_type": "execute_result"
    }
   ],
   "source": [
    "atlas = pd.read_csv(ATLAS_PATH, sep='\\t',index_col=None)\n",
    "atlas = atlas.set_index('region_id')\n",
    "atlas.columns.name = 'ref_celltype'\n",
    "atlas.shape\n",
    "\n",
    "ref_region_df = pd.read_csv(REGION_PATH, sep='\\t')\n",
    "ref_region_df['ref_celltype'][ref_region_df['ref_celltype'] == 'immune_cd4_t'] = 'immune_cd4'\n",
    "ref_region_df['ref_celltype'][ref_region_df['ref_celltype'] == 'immune_cd8_t'] = 'immune_cd8'\n",
    "\n",
    "atlas = atlas.loc[ref_region_df['region_id'], :].copy()\n",
    "atlas.shape"
   ]
  },
  {
   "cell_type": "code",
   "execution_count": 10,
   "id": "b917c9dc",
   "metadata": {
    "papermill": {
     "duration": 4.413401,
     "end_time": "2023-07-28T04:58:44.419218",
     "exception": false,
     "start_time": "2023-07-28T04:58:40.005817",
     "status": "completed"
    },
    "tags": []
   },
   "outputs": [
    {
     "name": "stdout",
     "output_type": "stream",
     "text": [
      "CPU times: user 4.43 s, sys: 80.8 ms, total: 4.51 s\n",
      "Wall time: 4.51 s\n"
     ]
    }
   ],
   "source": [
    "%%time\n",
    "\n",
    "deconvolution_nnls = dcnv.compute_deconvolution_from_methyl_score_dir_nnls(path_to_methyl_score_dir=SCORE_DIR, \n",
    "                                                                          score_type=SCORE_VAR, \n",
    "                                                                          atlas=atlas, \n",
    "                                                                          match=False)\n",
    "\n",
    "deconvolution_naive = dcnv.compute_deconvolution_from_methyl_score_dir_naive(path_to_methyl_score_dir=SCORE_DIR, \n",
    "                                                                             filter_cov=FILTER_COV, \n",
    "                                                                             score_var=SCORE_VAR, \n",
    "                                                                             ref_region_df=ref_region_df)\n"
   ]
  },
  {
   "cell_type": "code",
   "execution_count": 11,
   "id": "2eece414-db16-4dfa-8aa3-7520f348131b",
   "metadata": {
    "tags": []
   },
   "outputs": [
    {
     "data": {
      "image/png": "[encoded data removed]",
      "text/plain": [
       "<Figure size 864x576 with 1 Axes>"
      ]
     },
     "metadata": {
      "needs_background": "light"
     },
     "output_type": "display_data"
    }
   ],
   "source": [
    "dcnv.boxplot_titration_combined(list_of_deconvolution_dfs_naive=deconvolution_naive,\n",
    "                       list_of_deconvolution_dfs_nnls=deconvolution_nnls,\n",
    "                      cell_type=TITRATING_CELLTYPE_ATLAS,\n",
    "                      true_proportions=TITRATION_LIST\n",
    "                      )"
   ]
  },
  {
   "cell_type": "code",
   "execution_count": 12,
   "id": "085d9cd1-ff6a-4568-955c-248e9822f744",
   "metadata": {
    "tags": []
   },
   "outputs": [
    {
     "data": {
      "image/png": "[encoded data removed]",
      "text/plain": [
       "<Figure size 720x720 with 14 Axes>"
      ]
     },
     "metadata": {
      "needs_background": "light"
     },
     "output_type": "display_data"
    }
   ],
   "source": [
    "dcnv.boxplot_titration_zoom_combined(list_of_deconvolution_dfs_naive=deconvolution_naive,\n",
    "                       list_of_deconvolution_dfs_nnls=deconvolution_nnls,\n",
    "                      cell_type=TITRATING_CELLTYPE_ATLAS,\n",
    "                      true_proportions=TITRATION_LIST\n",
    "                      )"
   ]
  },
  {
   "cell_type": "code",
   "execution_count": 13,
   "id": "6896d6e4",
   "metadata": {
    "papermill": {
     "duration": 0.033992,
     "end_time": "2023-07-28T04:58:48.045152",
     "exception": false,
     "start_time": "2023-07-28T04:58:48.011160",
     "status": "completed"
    },
    "tags": []
   },
   "outputs": [
    {
     "data": {
      "image/png": "[encoded data removed]",
      "text/plain": [
       "<Figure size 864x432 with 1 Axes>"
      ]
     },
     "metadata": {
      "needs_background": "light"
     },
     "output_type": "display_data"
    }
   ],
   "source": [
    "importlib.reload(cm)\n",
    "importlib.reload(sm)\n",
    "importlib.reload(dcnv)\n",
    "importlib.reload(hlpr)\n",
    "\n",
    "dcnv.boxplot_titration(list_of_deconvolution_dfs=deconvolution_nnls,\n",
    "                      cell_type=TITRATING_CELLTYPE_ATLAS,\n",
    "                      true_proportions=TITRATION_LIST,\n",
    "                      deconvolution_method_name='nnls'\n",
    "                      )"
   ]
  },
  {
   "cell_type": "code",
   "execution_count": 14,
   "id": "59525ab4",
   "metadata": {
    "papermill": {
     "duration": 0.033384,
     "end_time": "2023-07-28T04:58:48.111862",
     "exception": false,
     "start_time": "2023-07-28T04:58:48.078478",
     "status": "completed"
    },
    "tags": []
   },
   "outputs": [
    {
     "data": {
      "image/png": "[encoded data removed]",
      "text/plain": [
       "<Figure size 720x720 with 14 Axes>"
      ]
     },
     "metadata": {
      "needs_background": "light"
     },
     "output_type": "display_data"
    }
   ],
   "source": [
    "dcnv.boxplot_titration_zoom(list_of_deconvolution_dfs=deconvolution_nnls,\n",
    "                      cell_type=TITRATING_CELLTYPE_ATLAS,\n",
    "                      true_proportions=TITRATION_LIST,\n",
    "                      deconvolution_method_name='nnls')"
   ]
  },
  {
   "cell_type": "code",
   "execution_count": null,
   "id": "0fae5c41-0570-48f6-a4c2-4eea46a30b6f",
   "metadata": {},
   "outputs": [],
   "source": []
  }
 ],
 "metadata": {
  "kernelspec": {
   "display_name": "Python 3",
   "language": "python",
   "name": "python3"
  },
  "language_info": {
   "codemirror_mode": {
    "name": "ipython",
    "version": 3
   },
   "file_extension": ".py",
   "mimetype": "text/x-python",
   "name": "python",
   "nbconvert_exporter": "python",
   "pygments_lexer": "ipython3",
   "version": "3.7.8"
  },
  "papermill": {
   "default_parameters": {},
   "duration": 4449.485577,
   "end_time": "2023-07-28T04:58:49.672487",
   "environment_variables": {},
   "exception": null,
   "input_path": "/analysis/gh-msun/projects/2023_06_26_SRT_deconvolution_MS//notebooks/titration/02_titration_experiment.ipynb",
   "output_path": "/analysis/gh-msun/projects/2023_06_26_SRT_deconvolution_MS//notebooks/titration/primary_immune_wholeblood/titration_NK.ipynb",
   "parameters": {
    "ABRIDGED_NAMES": [
     "CD4",
     "CD8",
     "B",
     "NK",
     "MONO",
     "NEUTRO"
    ],
    "BACKGROUND": "wholeblood",
    "CELLTYPES": [
     "Blueprint-CD4",
     "Blueprint-CD8",
     "Blueprint-B",
     "Blueprint-NK",
     "Blueprint-Mono",
     "Blueprint-Neutro"
    ],
    "EXPERIMENT": "primary_immune",
    "N_REPLICATES": 20,
    "PROJECT_SLUG": "2023_06_26_SRT_deconvolution_MS",
    "ROOT_DIR": "/analysis/gh-msun/",
    "SEED": 466724,
    "TITRATING_CELLTYPE": "Blueprint-NK",
    "TITRATING_CELLTYPE_ATLAS": "immune_nk",
    "TITRATION_LIST": [
     0.2,
     0.15,
     0.1,
     0.08,
     0.06,
     0.04,
     0.02,
     0.01,
     0.008,
     0.006,
     0.004,
     0.002,
     0.001,
     0
    ],
    "TOTAL_READS_TO_SAMPLE": 1000000,
    "WHOLE_BLOOD_ABUNDANCE": {
     "Blueprint-B": 0.06,
     "Blueprint-CD4": 0.16,
     "Blueprint-CD8": 0.07,
     "Blueprint-Mono": 0.09,
     "Blueprint-NK": 0.05,
     "Blueprint-Neutro": 0.57
    }
   },
   "start_time": "2023-07-28T03:44:40.186910",
   "version": "2.4.0"
  }
 },
 "nbformat": 4,
 "nbformat_minor": 5
}
