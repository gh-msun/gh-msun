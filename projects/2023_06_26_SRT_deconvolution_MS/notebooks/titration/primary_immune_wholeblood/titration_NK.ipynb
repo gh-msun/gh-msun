{
 "cells": [
  {
   "cell_type": "markdown",
   "id": "8f1a882a",
   "metadata": {
    "papermill": {
     "duration": 0.005644,
     "end_time": "2023-07-27T21:06:41.198371",
     "exception": false,
     "start_time": "2023-07-27T21:06:41.192727",
     "status": "completed"
    },
    "tags": []
   },
   "source": [
    "# Titration Experiment"
   ]
  },
  {
   "cell_type": "code",
   "execution_count": 1,
   "id": "92427167",
   "metadata": {
    "execution": {
     "iopub.execute_input": "2023-07-27T21:06:41.209210Z",
     "iopub.status.busy": "2023-07-27T21:06:41.208865Z",
     "iopub.status.idle": "2023-07-27T21:06:41.215503Z",
     "shell.execute_reply": "2023-07-27T21:06:41.214902Z"
    },
    "papermill": {
     "duration": 0.013203,
     "end_time": "2023-07-27T21:06:41.216728",
     "exception": false,
     "start_time": "2023-07-27T21:06:41.203525",
     "status": "completed"
    },
    "tags": [
     "parameters"
    ]
   },
   "outputs": [],
   "source": [
    "#############################\n",
    "#   Experiment parameters   #\n",
    "#############################\n",
    "ROOT_DIR = '/analysis/gh-msun/'\n",
    "PROJECT_SLUG = '2023_06_26_SRT_deconvolution_MS'\n",
    "EXPERIMENT = 'primary_immune'\n",
    "TITRATING_CELLTYPE = 'Blueprint-B'\n",
    "TITRATING_CELLTYPE_ATLAS = 'immune_b' # cell type name in atlas different\n",
    "BACKGROUND = 'wholeblood' # background: uniform / wholeblood \n",
    "N_REPLICATES = 2 # number of replicates for each mixture\n",
    "SEED = 888 # need to change for different experiment\n",
    "TOTAL_READS_TO_SAMPLE = 1000000\n",
    "\n",
    "# make sure the orders of the two list match\n",
    "CELLTYPES = ['Blueprint-CD4', 'Blueprint-CD8', 'Blueprint-B', 'Blueprint-NK', 'Blueprint-Mono', 'Blueprint-Neutro']\n",
    "ABRIDGED_NAMES = ['CD4', 'CD8', 'B', 'NK', 'MONO', 'NEUTRO'] # for directory name\n",
    "\n",
    "# TITRATION_LIST = [0.2, 0.15, 0.10, 0.08, 0.06, 0.04, 0.02, 0.01, \n",
    "#                   0.008, 0.006, 0.004, 0.002, 0.001, 0]\n",
    "TITRATION_LIST=[0.2, 0.15]\n",
    "\n",
    "# proportion of cells in real whole blood (sum to 1)\n",
    "WHOLE_BLOOD_ABUNDANCE = {'Blueprint-B':0.06,\n",
    "                         'Blueprint-Mono':0.09,\n",
    "                         'Blueprint-Neutro':0.57,\n",
    "                         'Blueprint-CD4':0.16,\n",
    "                         'Blueprint-CD8':0.07,\n",
    "                         'Blueprint-NK':0.05}\n",
    "    "
   ]
  },
  {
   "cell_type": "code",
   "execution_count": 2,
   "id": "28445d69",
   "metadata": {
    "execution": {
     "iopub.execute_input": "2023-07-27T21:06:41.225937Z",
     "iopub.status.busy": "2023-07-27T21:06:41.225670Z",
     "iopub.status.idle": "2023-07-27T21:06:41.230839Z",
     "shell.execute_reply": "2023-07-27T21:06:41.230319Z"
    },
    "papermill": {
     "duration": 0.011234,
     "end_time": "2023-07-27T21:06:41.232016",
     "exception": false,
     "start_time": "2023-07-27T21:06:41.220782",
     "status": "completed"
    },
    "tags": [
     "injected-parameters"
    ]
   },
   "outputs": [],
   "source": [
    "# Parameters\n",
    "ROOT_DIR = \"/analysis/gh-msun/\"\n",
    "PROJECT_SLUG = \"2023_06_26_SRT_deconvolution_MS\"\n",
    "EXPERIMENT = \"primary_immune\"\n",
    "TITRATING_CELLTYPE = \"Blueprint-NK\"\n",
    "TITRATING_CELLTYPE_ATLAS = \"immune_nk\"\n",
    "BACKGROUND = \"wholeblood\"\n",
    "N_REPLICATES = 2\n",
    "SEED = 466724\n",
    "TOTAL_READS_TO_SAMPLE = 1000000\n",
    "CELLTYPES = [\"Blueprint-CD4\", \"Blueprint-CD8\", \"Blueprint-B\", \"Blueprint-NK\", \"Blueprint-Mono\", \"Blueprint-Neutro\"]\n",
    "ABRIDGED_NAMES = [\"CD4\", \"CD8\", \"B\", \"NK\", \"MONO\", \"NEUTRO\"]\n",
    "TITRATION_LIST = [0.2, 0.15]\n",
    "WHOLE_BLOOD_ABUNDANCE = {\"Blueprint-B\": 0.06, \"Blueprint-Mono\": 0.09, \"Blueprint-Neutro\": 0.57, \"Blueprint-CD4\": 0.16, \"Blueprint-CD8\": 0.07, \"Blueprint-NK\": 0.05}\n"
   ]
  },
  {
   "cell_type": "code",
   "execution_count": 3,
   "id": "cfc83741",
   "metadata": {
    "execution": {
     "iopub.execute_input": "2023-07-27T21:06:41.240970Z",
     "iopub.status.busy": "2023-07-27T21:06:41.240762Z",
     "iopub.status.idle": "2023-07-27T21:06:44.652039Z",
     "shell.execute_reply": "2023-07-27T21:06:44.651393Z"
    },
    "papermill": {
     "duration": 3.417315,
     "end_time": "2023-07-27T21:06:44.653347",
     "exception": false,
     "start_time": "2023-07-27T21:06:41.236032",
     "status": "completed"
    },
    "tags": []
   },
   "outputs": [
    {
     "name": "stderr",
     "output_type": "stream",
     "text": [
      "/home/ec2-user/mambaforge/envs/2023_06_26_SRT_deconvolution_MS/lib/python3.7/site-packages/pyspark/context.py:317: FutureWarning: Python 3.7 support is deprecated in Spark 3.4.\n",
      "  warnings.warn(\"Python 3.7 support is deprecated in Spark 3.4.\", FutureWarning)\n"
     ]
    }
   ],
   "source": [
    "import glob\n",
    "import numpy as np\n",
    "import pandas as pd\n",
    "import seaborn as sns\n",
    "import matplotlib.pyplot as plt\n",
    "import itertools\n",
    "import functools\n",
    "import os\n",
    "import regex as re\n",
    "import random\n",
    "import importlib\n",
    "import sys\n",
    "\n",
    "from pyspark.sql import SparkSession\n",
    "from pyspark import SparkConf, SparkContext\n",
    "from pyspark.sql.types import IntegerType, LongType, ArrayType, StringType, DoubleType\n",
    "from pyspark.sql.functions import udf, explode, broadcast, count, lit, length, col\n",
    "from pyspark.sql import DataFrame\n",
    "from pyspark.sql.types import StructType\n",
    "\n",
    "# UPDATE HOME!\n",
    "os.environ[\"SPARK_HOME\"] = \"/home/ec2-user/mambaforge/envs/2023_06_26_SRT_deconvolution_MS/lib/python3.7/site-packages/pyspark\"\n",
    "# THIS needs to be set-up before running the notebook\n",
    "os.environ[\"SPARK_LOCAL_DIRS\"] = \"/temp\"\n",
    "os.environ[\"PYARROW_IGNORE_TIMEZONE\"] = \"1\"\n",
    "\n",
    "spark_conf = SparkConf()\n",
    "spark_conf.set(\"spark.ui.showConsoleProgress\", \"True\")\n",
    "spark_conf.set(\"spark.executor.instances\", \"2\")\n",
    "spark_conf.set(\"spark.executor.cores\", \"2\")\n",
    "spark_conf.set(\"spark.executor.memory\", \"16g\")\n",
    "spark_conf.set(\"spark.driver.memory\", \"64g\")\n",
    "spark_conf.set(\"spark.driver.maxResultSize\", \"32g\")\n",
    "spark_conf.set(\"spark.parquet.filterPushdown\", \"true\")\n",
    "spark_conf.set(\"spark.local.dir\", \"/temp\")\n",
    "spark_conf.getAll()\n",
    "\n",
    "sc = SparkContext(conf=spark_conf)\n",
    "sc.setLogLevel(\"ERROR\")\n",
    "spark = SparkSession(sc)\n",
    "\n",
    "pd.set_option('display.max_rows', 500)\n",
    "pd.set_option('display.max_columns', 500)\n",
    "pd.set_option('display.width', 1000)\n",
    "sns.set_context('talk')"
   ]
  },
  {
   "cell_type": "code",
   "execution_count": 4,
   "id": "e271660b",
   "metadata": {
    "execution": {
     "iopub.execute_input": "2023-07-27T21:06:44.664368Z",
     "iopub.status.busy": "2023-07-27T21:06:44.663973Z",
     "iopub.status.idle": "2023-07-27T21:06:45.195496Z",
     "shell.execute_reply": "2023-07-27T21:06:45.194951Z"
    },
    "papermill": {
     "duration": 0.538571,
     "end_time": "2023-07-27T21:06:45.197068",
     "exception": false,
     "start_time": "2023-07-27T21:06:44.658497",
     "status": "completed"
    },
    "tags": []
   },
   "outputs": [],
   "source": [
    "#---Local paths---#\n",
    "PROJECT_DIR = ROOT_DIR + f'projects/{PROJECT_SLUG}/'\n",
    "\n",
    "#---Load all custom scripts---#\n",
    "SCRIPT_DIR = PROJECT_DIR + 'scripts/'\n",
    "sys.path.append(SCRIPT_DIR)\n",
    "\n",
    "import create_mixture as cm\n",
    "import score_matrix as sm\n",
    "import deconvolution as dcnv\n",
    "import helper as hlpr\n",
    "\n",
    "pd.set_option('display.max_rows', 500)\n",
    "pd.set_option('display.max_columns', 500)\n",
    "pd.set_option('display.width', 1000)"
   ]
  },
  {
   "cell_type": "code",
   "execution_count": 5,
   "id": "84412614",
   "metadata": {
    "execution": {
     "iopub.execute_input": "2023-07-27T21:06:45.207638Z",
     "iopub.status.busy": "2023-07-27T21:06:45.207352Z",
     "iopub.status.idle": "2023-07-27T21:06:45.212775Z",
     "shell.execute_reply": "2023-07-27T21:06:45.212355Z"
    },
    "papermill": {
     "duration": 0.011781,
     "end_time": "2023-07-27T21:06:45.213954",
     "exception": false,
     "start_time": "2023-07-27T21:06:45.202173",
     "status": "completed"
    },
    "tags": []
   },
   "outputs": [
    {
     "data": {
      "text/plain": [
       "<module 'helper' from '/analysis/gh-msun/projects/2023_06_26_SRT_deconvolution_MS/scripts/helper.py'>"
      ]
     },
     "execution_count": 5,
     "metadata": {},
     "output_type": "execute_result"
    }
   ],
   "source": [
    "importlib.reload(cm)\n",
    "importlib.reload(sm)\n",
    "importlib.reload(dcnv)\n",
    "importlib.reload(hlpr)"
   ]
  },
  {
   "cell_type": "code",
   "execution_count": 6,
   "id": "781a6c2f",
   "metadata": {
    "execution": {
     "iopub.execute_input": "2023-07-27T21:06:45.223386Z",
     "iopub.status.busy": "2023-07-27T21:06:45.223186Z",
     "iopub.status.idle": "2023-07-27T21:06:45.228611Z",
     "shell.execute_reply": "2023-07-27T21:06:45.228199Z"
    },
    "papermill": {
     "duration": 0.011414,
     "end_time": "2023-07-27T21:06:45.229762",
     "exception": false,
     "start_time": "2023-07-27T21:06:45.218348",
     "status": "completed"
    },
    "tags": []
   },
   "outputs": [
    {
     "data": {
      "text/plain": [
       "[0.2,\n",
       " 0.13473684210526318,\n",
       " 0.05894736842105264,\n",
       " 0.05052631578947369,\n",
       " 0.07578947368421053,\n",
       " 0.48]"
      ]
     },
     "execution_count": 6,
     "metadata": {},
     "output_type": "execute_result"
    }
   ],
   "source": [
    "#################################\n",
    "#   Set titration proportions   #\n",
    "#################################\n",
    "\n",
    "# Reorder such that the titrating cell type comes first\n",
    "CELLTYPES_unordered = CELLTYPES.copy()\n",
    "CELLTYPES = hlpr.titration_reordering(list_of_cell_types=CELLTYPES, \n",
    "                                      titrating_cell_type=TITRATING_CELLTYPE)\n",
    "\n",
    "# Reorder abridged name\n",
    "ABRIDGED_NAMES = hlpr.reorder_abridged_name(unordered_celltypes=CELLTYPES_unordered,\n",
    "                                            ordered_celltypes=CELLTYPES,\n",
    "                                            unordered_abridged_names=ABRIDGED_NAMES)\n",
    "    \n",
    "# set titration proportions\n",
    "if BACKGROUND == 'uniform':\n",
    "    PROPORTIONS = hlpr.generate_uniform_background_proportions(titration_list=TITRATION_LIST, \n",
    "                                                               cell_types=CELLTYPES)\n",
    "\n",
    "if BACKGROUND == 'wholeblood':\n",
    "    PROPORTIONS = hlpr.generate_custom_background_proportions(titration_list=TITRATION_LIST, \n",
    "                                                              custom_proportion=WHOLE_BLOOD_ABUNDANCE, \n",
    "                                                              list_of_celltypes=CELLTYPES, \n",
    "                                                              titrating_celltype=TITRATING_CELLTYPE)\n",
    "\n",
    "PROPORTIONS[0]    "
   ]
  },
  {
   "cell_type": "markdown",
   "id": "df712675",
   "metadata": {
    "papermill": {
     "duration": 0.004362,
     "end_time": "2023-07-27T21:06:45.238503",
     "exception": false,
     "start_time": "2023-07-27T21:06:45.234141",
     "status": "completed"
    },
    "tags": []
   },
   "source": [
    "## Create mixture"
   ]
  },
  {
   "cell_type": "code",
   "execution_count": 7,
   "id": "558b4fb9",
   "metadata": {
    "execution": {
     "iopub.execute_input": "2023-07-27T21:06:45.248088Z",
     "iopub.status.busy": "2023-07-27T21:06:45.247890Z",
     "iopub.status.idle": "2023-07-27T21:06:45.250650Z",
     "shell.execute_reply": "2023-07-27T21:06:45.250234Z"
    },
    "papermill": {
     "duration": 0.008815,
     "end_time": "2023-07-27T21:06:45.251801",
     "exception": false,
     "start_time": "2023-07-27T21:06:45.242986",
     "status": "completed"
    },
    "tags": []
   },
   "outputs": [],
   "source": [
    "############################\n",
    "#   Parameters and paths   # \n",
    "############################\n",
    "EXPERIMENT_DIR = PROJECT_DIR + f'output/experiment/{EXPERIMENT}/'\n",
    "EXPERIMENT_NAME = f'{TITRATING_CELLTYPE}-{BACKGROUND}/'\n",
    "PARQUET_PATH = PROJECT_DIR + 'output/mixture_source/'\n",
    "EXPERIMENT_CELLTYPE_DIR = EXPERIMENT_DIR + f'{EXPERIMENT_NAME}/'\n",
    "RESULT_PATH = EXPERIMENT_CELLTYPE_DIR + 'mixture/'\n"
   ]
  },
  {
   "cell_type": "code",
   "execution_count": 8,
   "id": "7819071a",
   "metadata": {
    "execution": {
     "iopub.execute_input": "2023-07-27T21:06:45.261343Z",
     "iopub.status.busy": "2023-07-27T21:06:45.261143Z",
     "iopub.status.idle": "2023-07-27T21:07:16.095435Z",
     "shell.execute_reply": "2023-07-27T21:07:16.094875Z"
    },
    "papermill": {
     "duration": 30.845698,
     "end_time": "2023-07-27T21:07:16.101865",
     "exception": false,
     "start_time": "2023-07-27T21:06:45.256167",
     "status": "completed"
    },
    "tags": []
   },
   "outputs": [
    {
     "name": "stdout",
     "output_type": "stream",
     "text": [
      ">>> Load parquet files and count rows... <<<\n",
      "----------> Loading cell type: Blueprint-NK\n"
     ]
    },
    {
     "name": "stdout",
     "output_type": "stream",
     "text": [
      "----------> Loading cell type: Blueprint-CD4\n"
     ]
    },
    {
     "name": "stdout",
     "output_type": "stream",
     "text": [
      "----------> Loading cell type: Blueprint-CD8\n"
     ]
    },
    {
     "name": "stdout",
     "output_type": "stream",
     "text": [
      "----------> Loading cell type: Blueprint-B\n"
     ]
    },
    {
     "name": "stdout",
     "output_type": "stream",
     "text": [
      "----------> Loading cell type: Blueprint-Mono\n"
     ]
    },
    {
     "name": "stdout",
     "output_type": "stream",
     "text": [
      "----------> Loading cell type: Blueprint-Neutro\n"
     ]
    },
    {
     "name": "stdout",
     "output_type": "stream",
     "text": [
      ">>> Complete. <<< \n",
      "\n",
      ">>> Start mixing... <<<\n",
      "--> PROPORTION: [0.2, 0.13473684210526318, 0.05894736842105264, 0.05052631578947369, 0.07578947368421053, 0.48]\n",
      "----------> Creating mixture 0... \n"
     ]
    },
    {
     "name": "stdout",
     "output_type": "stream",
     "text": [
      "----------> Creating mixture 1... \n"
     ]
    },
    {
     "name": "stdout",
     "output_type": "stream",
     "text": [
      "--> PROPORTION: [0.15, 0.14315789473684212, 0.06263157894736843, 0.05368421052631579, 0.08052631578947368, 0.51]\n",
      "----------> Creating mixture 0... \n"
     ]
    },
    {
     "name": "stdout",
     "output_type": "stream",
     "text": [
      "----------> Creating mixture 1... \n"
     ]
    },
    {
     "name": "stdout",
     "output_type": "stream",
     "text": [
      ">>> Complete. <<< \n",
      "\n",
      "CPU times: user 20.9 ms, sys: 20.1 ms, total: 40.9 ms\n",
      "Wall time: 30.8 s\n"
     ]
    }
   ],
   "source": [
    "%%time\n",
    "# load parquet files for each celltype & count rows\n",
    "parquet_df, total_reads_per_celltype = cm.load_parquet_dataframe(parquet_path=PARQUET_PATH,\n",
    "                                                                  cell_types=CELLTYPES,\n",
    "                                                                  spark=spark,\n",
    "                                                                  verbose=True)\n",
    "\n",
    "# mix cell types for each proportion set\n",
    "cm.mix_celltypes_multiple_proportions(parquet_df=parquet_df,\n",
    "                                       total_reads_per_celltype=total_reads_per_celltype,\n",
    "                                    #    n=len(TITRATION_LIST), \n",
    "                                       n=N_REPLICATES,\n",
    "                                       cell_types=CELLTYPES, \n",
    "                                       cell_type_abridged_name=ABRIDGED_NAMES, \n",
    "                                       total_reads_to_sample=TOTAL_READS_TO_SAMPLE, \n",
    "                                       list_of_proportions=PROPORTIONS, \n",
    "                                       seed=SEED, \n",
    "                                       result_path=RESULT_PATH, \n",
    "                                       spark=spark,\n",
    "                                       verbose=False, \n",
    "                                       save=True)"
   ]
  },
  {
   "cell_type": "markdown",
   "id": "a71bb19d",
   "metadata": {
    "papermill": {
     "duration": 0.005308,
     "end_time": "2023-07-27T21:07:16.112835",
     "exception": false,
     "start_time": "2023-07-27T21:07:16.107527",
     "status": "completed"
    },
    "tags": []
   },
   "source": [
    "## Compute score matrix"
   ]
  },
  {
   "cell_type": "code",
   "execution_count": 9,
   "id": "8a5aa4a6",
   "metadata": {
    "execution": {
     "iopub.execute_input": "2023-07-27T21:07:16.165021Z",
     "iopub.status.busy": "2023-07-27T21:07:16.164747Z",
     "iopub.status.idle": "2023-07-27T21:07:16.168612Z",
     "shell.execute_reply": "2023-07-27T21:07:16.168143Z"
    },
    "papermill": {
     "duration": 0.010935,
     "end_time": "2023-07-27T21:07:16.169802",
     "exception": false,
     "start_time": "2023-07-27T21:07:16.158867",
     "status": "completed"
    },
    "tags": []
   },
   "outputs": [],
   "source": [
    "############################\n",
    "#   Parameters and paths   # \n",
    "############################\n",
    "\n",
    "FILTER_CG_COUNT = 3\n",
    "FILTER_CG_COUNT_REGION = 1\n",
    "\n",
    "REGIONS = 'deconvolution_v2.v23_conv.with_cpg_index'\n",
    "REGION_BED_COLS = [\n",
    "    'region_chr', 'region_start', 'region_end', \n",
    "    'region_cpg_index_min', 'region_cpg_index_max', 'region_id'\n",
    "]\n",
    "\n",
    "# Regions\n",
    "REGION_PATH = (\n",
    "    PROJECT_DIR + '/stage/panel_data/{regions}.bed'\n",
    ").format(regions=REGIONS)\n",
    "\n",
    "# CpG map; genomic coordinate to CpG index;\n",
    "CPG_MAP_PATH = PROJECT_DIR + '/stage/cpg_loci/cpg_loci_hg19.combined_annot.tsv.gz'\n",
    "\n",
    "#--- Where to store results\n",
    "PATH_TO_MIXTURE_DIR = EXPERIMENT_CELLTYPE_DIR + 'mixture/'\n",
    "RESULT_PATH = EXPERIMENT_CELLTYPE_DIR\n"
   ]
  },
  {
   "cell_type": "code",
   "execution_count": 10,
   "id": "c802a5bc",
   "metadata": {
    "execution": {
     "iopub.execute_input": "2023-07-27T21:07:16.180699Z",
     "iopub.status.busy": "2023-07-27T21:07:16.180492Z",
     "iopub.status.idle": "2023-07-27T21:07:40.830507Z",
     "shell.execute_reply": "2023-07-27T21:07:40.829920Z"
    },
    "papermill": {
     "duration": 24.657233,
     "end_time": "2023-07-27T21:07:40.832118",
     "exception": false,
     "start_time": "2023-07-27T21:07:16.174885",
     "status": "completed"
    },
    "tags": []
   },
   "outputs": [],
   "source": [
    "cpg_map = pd.read_csv(CPG_MAP_PATH, usecols=['chr', 'start', 'end', 'cpg_index', 'cpg_index_hg38'], sep='\\t')"
   ]
  },
  {
   "cell_type": "code",
   "execution_count": 11,
   "id": "2b3dd4a4",
   "metadata": {
    "execution": {
     "iopub.execute_input": "2023-07-27T21:07:40.844924Z",
     "iopub.status.busy": "2023-07-27T21:07:40.844672Z",
     "iopub.status.idle": "2023-07-27T21:08:00.856414Z",
     "shell.execute_reply": "2023-07-27T21:08:00.855883Z"
    },
    "papermill": {
     "duration": 20.019452,
     "end_time": "2023-07-27T21:08:00.857758",
     "exception": false,
     "start_time": "2023-07-27T21:07:40.838306",
     "status": "completed"
    },
    "tags": []
   },
   "outputs": [
    {
     "name": "stdout",
     "output_type": "stream",
     "text": [
      "CPU times: user 14.7 s, sys: 5.38 s, total: 20.1 s\n",
      "Wall time: 20 s\n"
     ]
    }
   ],
   "source": [
    "%%time\n",
    "ridxs = ~cpg_map['cpg_index_hg38'].isna()\n",
    "hg19_hg38_map = dict(itertools.zip_longest(cpg_map[ridxs]['cpg_index'], cpg_map[ridxs]['cpg_index_hg38'].astype(int)))\n",
    "hg38_hg19_map = dict(itertools.zip_longest(cpg_map[ridxs]['cpg_index_hg38'].astype(int), cpg_map[ridxs]['cpg_index']))"
   ]
  },
  {
   "cell_type": "code",
   "execution_count": 12,
   "id": "dbd5d9b1",
   "metadata": {
    "execution": {
     "iopub.execute_input": "2023-07-27T21:08:00.870514Z",
     "iopub.status.busy": "2023-07-27T21:08:00.870288Z",
     "iopub.status.idle": "2023-07-27T21:08:32.259440Z",
     "shell.execute_reply": "2023-07-27T21:08:32.258950Z"
    },
    "papermill": {
     "duration": 31.401902,
     "end_time": "2023-07-27T21:08:32.265950",
     "exception": false,
     "start_time": "2023-07-27T21:08:00.864048",
     "status": "completed"
    },
    "tags": []
   },
   "outputs": [
    {
     "data": {
      "text/plain": [
       "(1658, 1658)"
      ]
     },
     "execution_count": 12,
     "metadata": {},
     "output_type": "execute_result"
    }
   ],
   "source": [
    "region_df = pd.read_csv(REGION_PATH, sep='\\t', usecols=range(0, 6), names=REGION_BED_COLS)\n",
    "\n",
    "region_df['region_cpg_index_max'] -= 1\n",
    "region_df.sort_values('region_cpg_index_min', inplace=True)\n",
    "region_df['region_cpg_index_min_hg38'] = region_df['region_cpg_index_min'].map(hg19_hg38_map)\n",
    "region_df['region_cpg_index_max_hg38'] = region_df['region_cpg_index_max'].map(hg19_hg38_map)\n",
    "\n",
    "region_df.shape[0], region_df['region_id'].nunique()"
   ]
  },
  {
   "cell_type": "code",
   "execution_count": 13,
   "id": "66b6dcf3",
   "metadata": {
    "execution": {
     "iopub.execute_input": "2023-07-27T21:08:32.278571Z",
     "iopub.status.busy": "2023-07-27T21:08:32.278338Z",
     "iopub.status.idle": "2023-07-27T21:08:32.284434Z",
     "shell.execute_reply": "2023-07-27T21:08:32.284013Z"
    },
    "papermill": {
     "duration": 0.013594,
     "end_time": "2023-07-27T21:08:32.285604",
     "exception": false,
     "start_time": "2023-07-27T21:08:32.272010",
     "status": "completed"
    },
    "tags": []
   },
   "outputs": [
    {
     "data": {
      "text/plain": [
       "(1658, 1658)"
      ]
     },
     "execution_count": 13,
     "metadata": {},
     "output_type": "execute_result"
    }
   ],
   "source": [
    "ridxs = ~region_df['region_cpg_index_min_hg38'].isna()\n",
    "ridxs &= ~region_df['region_cpg_index_max_hg38'].isna()\n",
    "region_df = region_df[ridxs].copy()\n",
    "region_df.shape[0], region_df['region_id'].nunique()"
   ]
  },
  {
   "cell_type": "code",
   "execution_count": 14,
   "id": "1aedf98a",
   "metadata": {
    "execution": {
     "iopub.execute_input": "2023-07-27T21:08:32.297163Z",
     "iopub.status.busy": "2023-07-27T21:08:32.296958Z",
     "iopub.status.idle": "2023-07-27T21:08:32.303151Z",
     "shell.execute_reply": "2023-07-27T21:08:32.302746Z"
    },
    "papermill": {
     "duration": 0.013369,
     "end_time": "2023-07-27T21:08:32.304336",
     "exception": false,
     "start_time": "2023-07-27T21:08:32.290967",
     "status": "completed"
    },
    "tags": []
   },
   "outputs": [
    {
     "data": {
      "text/plain": [
       "(1657, 1657)"
      ]
     },
     "execution_count": 14,
     "metadata": {},
     "output_type": "execute_result"
    }
   ],
   "source": [
    "cg_count_hg19 = region_df['region_cpg_index_max']-region_df['region_cpg_index_min'] + 1\n",
    "cg_count_hg38 = region_df['region_cpg_index_max_hg38']-region_df['region_cpg_index_min_hg38'] + 1\n",
    "ridxs = (cg_count_hg19==cg_count_hg38)\n",
    "ridxs &= (cg_count_hg19>=FILTER_CG_COUNT_REGION)\n",
    "region_df = region_df[ridxs].copy()\n",
    "region_df.shape[0], region_df['region_id'].nunique()"
   ]
  },
  {
   "cell_type": "code",
   "execution_count": 15,
   "id": "ee72f9ad",
   "metadata": {
    "execution": {
     "iopub.execute_input": "2023-07-27T21:08:32.316076Z",
     "iopub.status.busy": "2023-07-27T21:08:32.315876Z",
     "iopub.status.idle": "2023-07-27T21:08:32.319258Z",
     "shell.execute_reply": "2023-07-27T21:08:32.318823Z"
    },
    "papermill": {
     "duration": 0.010602,
     "end_time": "2023-07-27T21:08:32.320415",
     "exception": false,
     "start_time": "2023-07-27T21:08:32.309813",
     "status": "completed"
    },
    "tags": []
   },
   "outputs": [],
   "source": [
    "region_df['region_cpg_index_min_hg38'] = region_df['region_cpg_index_min_hg38'].astype(int)\n",
    "region_df['region_cpg_index_max_hg38'] = region_df['region_cpg_index_max_hg38'].astype(int)"
   ]
  },
  {
   "cell_type": "code",
   "execution_count": 16,
   "id": "cd75bb09",
   "metadata": {
    "execution": {
     "iopub.execute_input": "2023-07-27T21:08:32.332188Z",
     "iopub.status.busy": "2023-07-27T21:08:32.331984Z",
     "iopub.status.idle": "2023-07-27T21:08:32.343856Z",
     "shell.execute_reply": "2023-07-27T21:08:32.343444Z"
    },
    "papermill": {
     "duration": 0.019146,
     "end_time": "2023-07-27T21:08:32.345026",
     "exception": false,
     "start_time": "2023-07-27T21:08:32.325880",
     "status": "completed"
    },
    "tags": []
   },
   "outputs": [
    {
     "data": {
      "text/html": [
       "<div>\n",
       "<style scoped>\n",
       "    .dataframe tbody tr th:only-of-type {\n",
       "        vertical-align: middle;\n",
       "    }\n",
       "\n",
       "    .dataframe tbody tr th {\n",
       "        vertical-align: top;\n",
       "    }\n",
       "\n",
       "    .dataframe thead th {\n",
       "        text-align: right;\n",
       "    }\n",
       "</style>\n",
       "<table border=\"1\" class=\"dataframe\">\n",
       "  <thead>\n",
       "    <tr style=\"text-align: right;\">\n",
       "      <th></th>\n",
       "      <th>region_chr</th>\n",
       "      <th>region_start</th>\n",
       "      <th>region_end</th>\n",
       "      <th>region_cpg_index_min</th>\n",
       "      <th>region_cpg_index_max</th>\n",
       "      <th>region_id</th>\n",
       "      <th>region_cpg_index_min_hg38</th>\n",
       "      <th>region_cpg_index_max_hg38</th>\n",
       "    </tr>\n",
       "  </thead>\n",
       "  <tbody>\n",
       "    <tr>\n",
       "      <th>0</th>\n",
       "      <td>chr1</td>\n",
       "      <td>1114771</td>\n",
       "      <td>1114971</td>\n",
       "      <td>20117</td>\n",
       "      <td>20129</td>\n",
       "      <td>Immune_Broad_B-chr1:1114772-1114971</td>\n",
       "      <td>21119</td>\n",
       "      <td>21131</td>\n",
       "    </tr>\n",
       "    <tr>\n",
       "      <th>1</th>\n",
       "      <td>chr1</td>\n",
       "      <td>1157450</td>\n",
       "      <td>1157720</td>\n",
       "      <td>21684</td>\n",
       "      <td>21703</td>\n",
       "      <td>Immune_Broad_NK-chr1:1157451-1157720</td>\n",
       "      <td>22686</td>\n",
       "      <td>22705</td>\n",
       "    </tr>\n",
       "    <tr>\n",
       "      <th>2</th>\n",
       "      <td>chr1</td>\n",
       "      <td>1157879</td>\n",
       "      <td>1158277</td>\n",
       "      <td>21710</td>\n",
       "      <td>21726</td>\n",
       "      <td>Immune_Broad_NK-chr1:1157880-1158277</td>\n",
       "      <td>22712</td>\n",
       "      <td>22728</td>\n",
       "    </tr>\n",
       "    <tr>\n",
       "      <th>14</th>\n",
       "      <td>chr1</td>\n",
       "      <td>6341182</td>\n",
       "      <td>6341377</td>\n",
       "      <td>140667</td>\n",
       "      <td>140681</td>\n",
       "      <td>Immune_Broad_Eosi-chr1:6341183-6341377</td>\n",
       "      <td>142368</td>\n",
       "      <td>142382</td>\n",
       "    </tr>\n",
       "    <tr>\n",
       "      <th>19</th>\n",
       "      <td>chr1</td>\n",
       "      <td>9147788</td>\n",
       "      <td>9147871</td>\n",
       "      <td>188605</td>\n",
       "      <td>188608</td>\n",
       "      <td>Immune_Broad_Neutro-chr1:9147789-9147871</td>\n",
       "      <td>190307</td>\n",
       "      <td>190310</td>\n",
       "    </tr>\n",
       "  </tbody>\n",
       "</table>\n",
       "</div>"
      ],
      "text/plain": [
       "   region_chr  region_start  region_end  region_cpg_index_min  region_cpg_index_max                                 region_id  region_cpg_index_min_hg38  region_cpg_index_max_hg38\n",
       "0        chr1       1114771     1114971                 20117                 20129       Immune_Broad_B-chr1:1114772-1114971                      21119                      21131\n",
       "1        chr1       1157450     1157720                 21684                 21703      Immune_Broad_NK-chr1:1157451-1157720                      22686                      22705\n",
       "2        chr1       1157879     1158277                 21710                 21726      Immune_Broad_NK-chr1:1157880-1158277                      22712                      22728\n",
       "14       chr1       6341182     6341377                140667                140681    Immune_Broad_Eosi-chr1:6341183-6341377                     142368                     142382\n",
       "19       chr1       9147788     9147871                188605                188608  Immune_Broad_Neutro-chr1:9147789-9147871                     190307                     190310"
      ]
     },
     "execution_count": 16,
     "metadata": {},
     "output_type": "execute_result"
    }
   ],
   "source": [
    "### Restrict to immune regions\n",
    "#-------------- CHANGE HERE FOR DIFFERENT REGION SUBSET ----------------------\n",
    "# BLUEPRINT immune regions\n",
    "ATLAS_PATH = PROJECT_DIR + f'/output/reference/deconv_inhouse_v2.atlas.tsv.gz'\n",
    "atlas = pd.read_csv(ATLAS_PATH, sep='\\t')\n",
    "subset_region_set = set(atlas.region_id)\n",
    "#-----------------------------------------------------------------------------\n",
    "\n",
    "# filter regions down to regions of interest\n",
    "region_df = region_df[region_df['region_id'].isin(subset_region_set)]\n",
    "region_df.head()"
   ]
  },
  {
   "cell_type": "code",
   "execution_count": 17,
   "id": "34063d44",
   "metadata": {
    "execution": {
     "iopub.execute_input": "2023-07-27T21:08:32.357221Z",
     "iopub.status.busy": "2023-07-27T21:08:32.357021Z",
     "iopub.status.idle": "2023-07-27T21:12:50.372704Z",
     "shell.execute_reply": "2023-07-27T21:12:50.372159Z"
    },
    "papermill": {
     "duration": 258.035768,
     "end_time": "2023-07-27T21:12:50.386518",
     "exception": false,
     "start_time": "2023-07-27T21:08:32.350750",
     "status": "completed"
    },
    "tags": []
   },
   "outputs": [
    {
     "name": "stdout",
     "output_type": "stream",
     "text": [
      ">>> Start computing score matrices <<< \n",
      "\n",
      "--> E2NK_E1347CD4_E0589CD8_E0505B_E0758MONO_E48NEUTRO\n",
      "--------> Computing score matrix for mix0_seed967193\n"
     ]
    },
    {
     "name": "stdout",
     "output_type": "stream",
     "text": [
      "--------> Computing score matrix for mix1_seed969385\n"
     ]
    },
    {
     "name": "stdout",
     "output_type": "stream",
     "text": [
      "\n",
      "\n",
      "--> E15NK_E1432CD4_E0626CD8_E0537B_E0805MONO_E51NEUTRO\n",
      "--------> Computing score matrix for mix0_seed225862\n"
     ]
    },
    {
     "name": "stdout",
     "output_type": "stream",
     "text": [
      "--------> Computing score matrix for mix1_seed708147\n"
     ]
    },
    {
     "name": "stdout",
     "output_type": "stream",
     "text": [
      "\n",
      "\n",
      ">>> Complete. <<< \n",
      "\n",
      "CPU times: user 2.45 s, sys: 581 ms, total: 3.04 s\n",
      "Wall time: 4min 18s\n"
     ]
    }
   ],
   "source": [
    "%%time\n",
    "\n",
    "PAT_COLS = [\n",
    "    'molecule_id', 'chr', 'number_molecules',\n",
    "    'cpg_index_min', 'cpg_index_max', 'pat_string'\n",
    "]\n",
    "\n",
    "QUANTILES = [0.1, 0.25, 0.75, 0.9]\n",
    "KMERS = [1, 3, 4]\n",
    "RATES_LEQ = [0.25]\n",
    "RATES_GEQ = [0.75]\n",
    "\n",
    "RETURN_SCHEMA = StructType()\\\n",
    "    .add('region_id', 'string')\\\n",
    "    .add('number_molecules', 'integer')\\\n",
    "    .add('meth_k1', 'integer')\\\n",
    "    .add('unmeth_k1', 'integer')\\\n",
    "    .add('total_k1', 'integer')\\\n",
    "    .add('meth_k3', 'integer')\\\n",
    "    .add('unmeth_k3', 'integer')\\\n",
    "    .add('total_k3', 'integer')\\\n",
    "    .add('meth_k4', 'integer')\\\n",
    "    .add('unmeth_k4', 'integer')\\\n",
    "    .add('total_k4', 'integer')\\\n",
    "    .add('frac_alpha_leq_25pct', 'float')\\\n",
    "    .add('frac_alpha_geq_75pct', 'float')\n",
    "\n",
    "compute_frag_scores_udf = sm.compute_frag_scores(cpg_number_cutoff=FILTER_CG_COUNT, schema=RETURN_SCHEMA, kmers=KMERS, rates_leq=RATES_LEQ, rates_geq=RATES_GEQ)\n",
    "\n",
    "\n",
    "# compute methyl score for are parquet files\n",
    "sm.score_matrix_from_mixture_directory(path_to_mixture_dir = PATH_TO_MIXTURE_DIR, \n",
    "                                       result_path = RESULT_PATH, \n",
    "                                       pat_cols = PAT_COLS, \n",
    "                                       region_df = region_df, \n",
    "                                       batch_size = 20, \n",
    "                                       schema = RETURN_SCHEMA, \n",
    "                                       spark=spark,\n",
    "                                       compute_frag_scores_udf=compute_frag_scores_udf,\n",
    "                                       save=True, \n",
    "                                       verbose=False)"
   ]
  },
  {
   "cell_type": "markdown",
   "id": "d950ae4a",
   "metadata": {
    "papermill": {
     "duration": 0.011333,
     "end_time": "2023-07-27T21:12:50.410229",
     "exception": false,
     "start_time": "2023-07-27T21:12:50.398896",
     "status": "completed"
    },
    "tags": []
   },
   "source": [
    "## Deconvolution"
   ]
  },
  {
   "cell_type": "code",
   "execution_count": 18,
   "id": "6fb4aef1",
   "metadata": {
    "execution": {
     "iopub.execute_input": "2023-07-27T21:12:50.433707Z",
     "iopub.status.busy": "2023-07-27T21:12:50.433454Z",
     "iopub.status.idle": "2023-07-27T21:12:50.436525Z",
     "shell.execute_reply": "2023-07-27T21:12:50.436054Z"
    },
    "papermill": {
     "duration": 0.016912,
     "end_time": "2023-07-27T21:12:50.438333",
     "exception": false,
     "start_time": "2023-07-27T21:12:50.421421",
     "status": "completed"
    },
    "tags": []
   },
   "outputs": [],
   "source": [
    "############################\n",
    "#   Parameters and paths   # \n",
    "############################\n",
    "\n",
    "FILTER_COV = 20\n",
    "\n",
    "SCORE_VAR = 'frac_alpha_leq_25pct'\n",
    "\n",
    "# Reference matrix\n",
    "ATLAS_PATH = PROJECT_DIR + 'output/reference/deconv_inhouse_v2.atlas.tsv.gz'\n",
    "REGION_PATH = PROJECT_DIR + 'output/reference/deconv_inhouse_v2.region_to_ref_celltype.tsv.gz'\n",
    "\n",
    "# Methylation score matrix\n",
    "SCORE_DIR = EXPERIMENT_CELLTYPE_DIR + 'methyl_score/'\n"
   ]
  },
  {
   "cell_type": "code",
   "execution_count": 19,
   "id": "fc9393c0",
   "metadata": {
    "execution": {
     "iopub.execute_input": "2023-07-27T21:12:50.456791Z",
     "iopub.status.busy": "2023-07-27T21:12:50.456562Z",
     "iopub.status.idle": "2023-07-27T21:12:50.467506Z",
     "shell.execute_reply": "2023-07-27T21:12:50.466980Z"
    },
    "papermill": {
     "duration": 0.019593,
     "end_time": "2023-07-27T21:12:50.468840",
     "exception": false,
     "start_time": "2023-07-27T21:12:50.449247",
     "status": "completed"
    },
    "tags": []
   },
   "outputs": [
    {
     "data": {
      "text/plain": [
       "(280, 9)"
      ]
     },
     "execution_count": 19,
     "metadata": {},
     "output_type": "execute_result"
    }
   ],
   "source": [
    "atlas = pd.read_csv(ATLAS_PATH, sep='\\t',index_col=None)\n",
    "atlas = atlas.set_index('region_id')\n",
    "atlas.columns.name = 'ref_celltype'\n",
    "atlas.shape\n",
    "\n",
    "ref_region_df = pd.read_csv(REGION_PATH, sep='\\t')\n",
    "\n",
    "atlas = atlas.loc[ref_region_df['region_id'], :].copy()\n",
    "atlas.shape"
   ]
  },
  {
   "cell_type": "code",
   "execution_count": 20,
   "id": "8da58c0b",
   "metadata": {
    "execution": {
     "iopub.execute_input": "2023-07-27T21:12:50.482370Z",
     "iopub.status.busy": "2023-07-27T21:12:50.482143Z",
     "iopub.status.idle": "2023-07-27T21:12:50.485859Z",
     "shell.execute_reply": "2023-07-27T21:12:50.485266Z"
    },
    "papermill": {
     "duration": 0.012038,
     "end_time": "2023-07-27T21:12:50.487214",
     "exception": false,
     "start_time": "2023-07-27T21:12:50.475176",
     "status": "completed"
    },
    "tags": []
   },
   "outputs": [
    {
     "data": {
      "text/plain": [
       "Index(['immune_b', 'immune_t', 'immune_nk', 'immune_dend_plus_macro_plus_mono', 'immune_eosi', 'immune_neutro', 'immune_eryth', 'immune_mega', 'eryth_prog'], dtype='object', name='ref_celltype')"
      ]
     },
     "execution_count": 20,
     "metadata": {},
     "output_type": "execute_result"
    }
   ],
   "source": [
    "atlas.columns"
   ]
  },
  {
   "cell_type": "code",
   "execution_count": 21,
   "id": "a5d63269",
   "metadata": {
    "execution": {
     "iopub.execute_input": "2023-07-27T21:12:50.500859Z",
     "iopub.status.busy": "2023-07-27T21:12:50.500630Z",
     "iopub.status.idle": "2023-07-27T21:12:50.545976Z",
     "shell.execute_reply": "2023-07-27T21:12:50.545391Z"
    },
    "papermill": {
     "duration": 0.053766,
     "end_time": "2023-07-27T21:12:50.547390",
     "exception": false,
     "start_time": "2023-07-27T21:12:50.493624",
     "status": "completed"
    },
    "tags": []
   },
   "outputs": [
    {
     "name": "stdout",
     "output_type": "stream",
     "text": [
      "CPU times: user 31.5 ms, sys: 10.2 ms, total: 41.7 ms\n",
      "Wall time: 41.6 ms\n"
     ]
    }
   ],
   "source": [
    "%%time\n",
    "\n",
    "deconvolution_nnls = dcnv.compute_deconvolution_from_methyl_score_dir_nnls(path_to_methyl_score_dir=SCORE_DIR, \n",
    "                                                                          score_type=SCORE_VAR, \n",
    "                                                                          atlas=atlas, \n",
    "                                                                          match=False)\n",
    "\n",
    "deconvolution_naive = dcnv.compute_deconvolution_from_methyl_score_dir_naive(path_to_methyl_score_dir=SCORE_DIR, \n",
    "                                                                             filter_cov=FILTER_COV, \n",
    "                                                                             score_var=SCORE_VAR, \n",
    "                                                                             ref_region_df=ref_region_df)\n"
   ]
  },
  {
   "cell_type": "code",
   "execution_count": 22,
   "id": "6e7695e5",
   "metadata": {
    "execution": {
     "iopub.execute_input": "2023-07-27T21:12:50.562517Z",
     "iopub.status.busy": "2023-07-27T21:12:50.562286Z",
     "iopub.status.idle": "2023-07-27T21:12:50.687671Z",
     "shell.execute_reply": "2023-07-27T21:12:50.687074Z"
    },
    "papermill": {
     "duration": 0.13423,
     "end_time": "2023-07-27T21:12:50.688975",
     "exception": false,
     "start_time": "2023-07-27T21:12:50.554745",
     "status": "completed"
    },
    "tags": []
   },
   "outputs": [
    {
     "data": {
      "image/png": "[encoded data removed]",
      "text/plain": [
       "<Figure size 432x288 with 1 Axes>"
      ]
     },
     "metadata": {
      "needs_background": "light"
     },
     "output_type": "display_data"
    }
   ],
   "source": [
    "dcnv.boxplot_titration(list_of_deconvolution_dfs=deconvolution_naive,\n",
    "                      cell_type=TITRATING_CELLTYPE_ATLAS,\n",
    "                      true_proportions=TITRATION_LIST,\n",
    "                      deconvolution_method_name='naive'\n",
    "                      )"
   ]
  },
  {
   "cell_type": "code",
   "execution_count": 23,
   "id": "7d6d1c02",
   "metadata": {
    "execution": {
     "iopub.execute_input": "2023-07-27T21:12:50.703641Z",
     "iopub.status.busy": "2023-07-27T21:12:50.703405Z",
     "iopub.status.idle": "2023-07-27T21:12:50.886206Z",
     "shell.execute_reply": "2023-07-27T21:12:50.885537Z"
    },
    "papermill": {
     "duration": 0.191621,
     "end_time": "2023-07-27T21:12:50.887571",
     "exception": false,
     "start_time": "2023-07-27T21:12:50.695950",
     "status": "completed"
    },
    "tags": []
   },
   "outputs": [
    {
     "data": {
      "image/png": "[encoded data removed]",
      "text/plain": [
       "<Figure size 432x288 with 1 Axes>"
      ]
     },
     "metadata": {
      "needs_background": "light"
     },
     "output_type": "display_data"
    }
   ],
   "source": [
    "dcnv.boxplot_titration(list_of_deconvolution_dfs=deconvolution_nnls,\n",
    "                      cell_type=TITRATING_CELLTYPE_ATLAS,\n",
    "                      true_proportions=TITRATION_LIST,\n",
    "                      deconvolution_method_name='nnls'\n",
    "                      )"
   ]
  },
  {
   "cell_type": "code",
   "execution_count": 24,
   "id": "bb40f2ef",
   "metadata": {
    "execution": {
     "iopub.execute_input": "2023-07-27T21:12:50.903834Z",
     "iopub.status.busy": "2023-07-27T21:12:50.903599Z",
     "iopub.status.idle": "2023-07-27T21:12:51.154791Z",
     "shell.execute_reply": "2023-07-27T21:12:51.154212Z"
    },
    "papermill": {
     "duration": 0.260629,
     "end_time": "2023-07-27T21:12:51.156145",
     "exception": false,
     "start_time": "2023-07-27T21:12:50.895516",
     "status": "completed"
    },
    "tags": []
   },
   "outputs": [
    {
     "data": {
      "image/png": "[encoded data removed]",
      "text/plain": [
       "<Figure size 720x720 with 2 Axes>"
      ]
     },
     "metadata": {
      "needs_background": "light"
     },
     "output_type": "display_data"
    }
   ],
   "source": [
    "\n",
    "dcnv.boxplot_titration_zoom(list_of_deconvolution_dfs=deconvolution_naive,\n",
    "                      cell_type=TITRATING_CELLTYPE_ATLAS,\n",
    "                      true_proportions=TITRATION_LIST,\n",
    "                      deconvolution_method_name='naive'\n",
    "                      )"
   ]
  },
  {
   "cell_type": "code",
   "execution_count": 25,
   "id": "498effe8",
   "metadata": {
    "execution": {
     "iopub.execute_input": "2023-07-27T21:12:51.172052Z",
     "iopub.status.busy": "2023-07-27T21:12:51.171819Z",
     "iopub.status.idle": "2023-07-27T21:12:51.412394Z",
     "shell.execute_reply": "2023-07-27T21:12:51.411800Z"
    },
    "papermill": {
     "duration": 0.250021,
     "end_time": "2023-07-27T21:12:51.413771",
     "exception": false,
     "start_time": "2023-07-27T21:12:51.163750",
     "status": "completed"
    },
    "tags": []
   },
   "outputs": [
    {
     "data": {
      "image/png": "[encoded data removed]",
      "text/plain": [
       "<Figure size 720x720 with 2 Axes>"
      ]
     },
     "metadata": {
      "needs_background": "light"
     },
     "output_type": "display_data"
    }
   ],
   "source": [
    "\n",
    "dcnv.boxplot_titration_zoom(list_of_deconvolution_dfs=deconvolution_nnls,\n",
    "                      cell_type=TITRATING_CELLTYPE_ATLAS,\n",
    "                      true_proportions=TITRATION_LIST,\n",
    "                      deconvolution_method_name='nnls'\n",
    "                      )"
   ]
  },
  {
   "cell_type": "code",
   "execution_count": null,
   "id": "ddcad8b7",
   "metadata": {
    "papermill": {
     "duration": 0.008082,
     "end_time": "2023-07-27T21:12:51.430473",
     "exception": false,
     "start_time": "2023-07-27T21:12:51.422391",
     "status": "completed"
    },
    "tags": []
   },
   "outputs": [],
   "source": []
  },
  {
   "cell_type": "code",
   "execution_count": null,
   "id": "a74a2d1c",
   "metadata": {
    "papermill": {
     "duration": 0.00752,
     "end_time": "2023-07-27T21:12:51.445440",
     "exception": false,
     "start_time": "2023-07-27T21:12:51.437920",
     "status": "completed"
    },
    "tags": []
   },
   "outputs": [],
   "source": []
  }
 ],
 "metadata": {
  "kernelspec": {
   "display_name": "Python 3",
   "language": "python",
   "name": "python3"
  },
  "language_info": {
   "codemirror_mode": {
    "name": "ipython",
    "version": 3
   },
   "file_extension": ".py",
   "mimetype": "text/x-python",
   "name": "python",
   "nbconvert_exporter": "python",
   "pygments_lexer": "ipython3",
   "version": "3.7.8"
  },
  "papermill": {
   "default_parameters": {},
   "duration": 372.499184,
   "end_time": "2023-07-27T21:12:53.071818",
   "environment_variables": {},
   "exception": null,
   "input_path": "/analysis/gh-msun/projects/2023_06_26_SRT_deconvolution_MS//notebooks/titration/titration_experiment.ipynb",
   "output_path": "/analysis/gh-msun/projects/2023_06_26_SRT_deconvolution_MS//notebooks/titration/primary_immune_wholeblood/titration_NK.ipynb",
   "parameters": {
    "ABRIDGED_NAMES": [
     "CD4",
     "CD8",
     "B",
     "NK",
     "MONO",
     "NEUTRO"
    ],
    "BACKGROUND": "wholeblood",
    "CELLTYPES": [
     "Blueprint-CD4",
     "Blueprint-CD8",
     "Blueprint-B",
     "Blueprint-NK",
     "Blueprint-Mono",
     "Blueprint-Neutro"
    ],
    "EXPERIMENT": "primary_immune",
    "N_REPLICATES": 2,
    "PROJECT_SLUG": "2023_06_26_SRT_deconvolution_MS",
    "ROOT_DIR": "/analysis/gh-msun/",
    "SEED": 466724,
    "TITRATING_CELLTYPE": "Blueprint-NK",
    "TITRATING_CELLTYPE_ATLAS": "immune_nk",
    "TITRATION_LIST": [
     0.2,
     0.15
    ],
    "TOTAL_READS_TO_SAMPLE": 1000000,
    "WHOLE_BLOOD_ABUNDANCE": {
     "Blueprint-B": 0.06,
     "Blueprint-CD4": 0.16,
     "Blueprint-CD8": 0.07,
     "Blueprint-Mono": 0.09,
     "Blueprint-NK": 0.05,
     "Blueprint-Neutro": 0.57
    }
   },
   "start_time": "2023-07-27T21:06:40.572634",
   "version": "2.4.0"
  }
 },
 "nbformat": 4,
 "nbformat_minor": 5
}