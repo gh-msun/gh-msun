{
 "cells": [
  {
   "cell_type": "markdown",
   "id": "d1cd7cb2",
   "metadata": {
    "papermill": {
     "duration": 0.005485,
     "end_time": "2023-07-27T20:50:15.346075",
     "exception": false,
     "start_time": "2023-07-27T20:50:15.340590",
     "status": "completed"
    },
    "tags": []
   },
   "source": [
    "# Titration Experiment"
   ]
  },
  {
   "cell_type": "code",
   "execution_count": 1,
   "id": "c5979d4a",
   "metadata": {
    "execution": {
     "iopub.execute_input": "2023-07-27T20:50:15.356780Z",
     "iopub.status.busy": "2023-07-27T20:50:15.356496Z",
     "iopub.status.idle": "2023-07-27T20:50:15.361621Z",
     "shell.execute_reply": "2023-07-27T20:50:15.361150Z"
    },
    "papermill": {
     "duration": 0.01161,
     "end_time": "2023-07-27T20:50:15.362808",
     "exception": false,
     "start_time": "2023-07-27T20:50:15.351198",
     "status": "completed"
    },
    "tags": [
     "parameters"
    ]
   },
   "outputs": [],
   "source": [
    "#############################\n",
    "#   Experiment parameters   #\n",
    "#############################\n",
    "ROOT_DIR = '/analysis/gh-msun/'\n",
    "PROJECT_SLUG = '2023_06_26_SRT_deconvolution_MS'\n",
    "EXPERIMENT = 'primary_immune'\n",
    "TITRATING_CELLTYPE = 'Blueprint-B'\n",
    "TITRATING_CELLTYPE_ATLAS = 'immune_b' # cell type name in atlas different\n",
    "BACKGROUND = 'wholeblood' # background: uniform / wholeblood \n",
    "N_REPLICATES = 2 # number of replicates for each mixture\n",
    "SEED = 888 # need to change for different experiment\n",
    "TOTAL_READS_TO_SAMPLE = 1000000\n",
    "\n",
    "# make sure the orders of the two list match\n",
    "CELLTYPES = ['Blueprint-CD4', 'Blueprint-CD8', 'Blueprint-B', 'Blueprint-NK', 'Blueprint-Mono', 'Blueprint-Neutro']\n",
    "ABRIDGED_NAMES = ['CD4', 'CD8', 'B', 'NK', 'MONO', 'NEUTRO'] # for directory name\n",
    "\n",
    "# TITRATION_LIST = [0.2, 0.15, 0.10, 0.08, 0.06, 0.04, 0.02, 0.01, \n",
    "#                   0.008, 0.006, 0.004, 0.002, 0.001, 0]\n",
    "TITRATION_LIST=[0.2, 0.15]\n",
    "\n",
    "# proportion of cells in real whole blood (sum to 1)\n",
    "WHOLE_BLOOD_ABUNDANCE = {'Blueprint-B':0.06,\n",
    "                         'Blueprint-Mono':0.09,\n",
    "                         'Blueprint-Neutro':0.57,\n",
    "                         'Blueprint-CD4':0.16,\n",
    "                         'Blueprint-CD8':0.07,\n",
    "                         'Blueprint-NK':0.05}\n",
    "    "
   ]
  },
  {
   "cell_type": "code",
   "execution_count": 2,
   "id": "2d81634a",
   "metadata": {
    "execution": {
     "iopub.execute_input": "2023-07-27T20:50:15.371701Z",
     "iopub.status.busy": "2023-07-27T20:50:15.371497Z",
     "iopub.status.idle": "2023-07-27T20:50:15.375537Z",
     "shell.execute_reply": "2023-07-27T20:50:15.375100Z"
    },
    "papermill": {
     "duration": 0.009892,
     "end_time": "2023-07-27T20:50:15.376693",
     "exception": false,
     "start_time": "2023-07-27T20:50:15.366801",
     "status": "completed"
    },
    "tags": [
     "injected-parameters"
    ]
   },
   "outputs": [],
   "source": [
    "# Parameters\n",
    "ROOT_DIR = \"/analysis/gh-msun/\"\n",
    "PROJECT_SLUG = \"2023_06_26_SRT_deconvolution_MS\"\n",
    "EXPERIMENT = \"primary_immune\"\n",
    "TITRATING_CELLTYPE = \"Blueprint-CD8\"\n",
    "TITRATING_CELLTYPE_ATLAS = \"immune_t\"\n",
    "BACKGROUND = \"wholeblood\"\n",
    "N_REPLICATES = 2\n",
    "SEED = 452891\n",
    "TOTAL_READS_TO_SAMPLE = 1000000\n",
    "CELLTYPES = [\"Blueprint-CD4\", \"Blueprint-CD8\", \"Blueprint-B\", \"Blueprint-NK\", \"Blueprint-Mono\", \"Blueprint-Neutro\"]\n",
    "ABRIDGED_NAMES = [\"CD4\", \"CD8\", \"B\", \"NK\", \"MONO\", \"NEUTRO\"]\n",
    "TITRATION_LIST = [0.2, 0.15]\n",
    "WHOLE_BLOOD_ABUNDANCE = {\"Blueprint-B\": 0.06, \"Blueprint-Mono\": 0.09, \"Blueprint-Neutro\": 0.57, \"Blueprint-CD4\": 0.16, \"Blueprint-CD8\": 0.07, \"Blueprint-NK\": 0.05}\n"
   ]
  },
  {
   "cell_type": "code",
   "execution_count": 3,
   "id": "e208d443",
   "metadata": {
    "execution": {
     "iopub.execute_input": "2023-07-27T20:50:15.385491Z",
     "iopub.status.busy": "2023-07-27T20:50:15.385289Z",
     "iopub.status.idle": "2023-07-27T20:50:19.016343Z",
     "shell.execute_reply": "2023-07-27T20:50:19.015677Z"
    },
    "papermill": {
     "duration": 3.636985,
     "end_time": "2023-07-27T20:50:19.017692",
     "exception": false,
     "start_time": "2023-07-27T20:50:15.380707",
     "status": "completed"
    },
    "tags": []
   },
   "outputs": [
    {
     "name": "stderr",
     "output_type": "stream",
     "text": [
      "/home/ec2-user/mambaforge/envs/2023_06_26_SRT_deconvolution_MS/lib/python3.7/site-packages/pyspark/context.py:317: FutureWarning: Python 3.7 support is deprecated in Spark 3.4.\n",
      "  warnings.warn(\"Python 3.7 support is deprecated in Spark 3.4.\", FutureWarning)\n"
     ]
    }
   ],
   "source": [
    "import glob\n",
    "import numpy as np\n",
    "import pandas as pd\n",
    "import seaborn as sns\n",
    "import matplotlib.pyplot as plt\n",
    "import itertools\n",
    "import functools\n",
    "import os\n",
    "import regex as re\n",
    "import random\n",
    "import importlib\n",
    "import sys\n",
    "\n",
    "from pyspark.sql import SparkSession\n",
    "from pyspark import SparkConf, SparkContext\n",
    "from pyspark.sql.types import IntegerType, LongType, ArrayType, StringType, DoubleType\n",
    "from pyspark.sql.functions import udf, explode, broadcast, count, lit, length, col\n",
    "from pyspark.sql import DataFrame\n",
    "from pyspark.sql.types import StructType\n",
    "\n",
    "# UPDATE HOME!\n",
    "os.environ[\"SPARK_HOME\"] = \"/home/ec2-user/mambaforge/envs/2023_06_26_SRT_deconvolution_MS/lib/python3.7/site-packages/pyspark\"\n",
    "# THIS needs to be set-up before running the notebook\n",
    "os.environ[\"SPARK_LOCAL_DIRS\"] = \"/temp\"\n",
    "os.environ[\"PYARROW_IGNORE_TIMEZONE\"] = \"1\"\n",
    "\n",
    "spark_conf = SparkConf()\n",
    "spark_conf.set(\"spark.ui.showConsoleProgress\", \"True\")\n",
    "spark_conf.set(\"spark.executor.instances\", \"2\")\n",
    "spark_conf.set(\"spark.executor.cores\", \"2\")\n",
    "spark_conf.set(\"spark.executor.memory\", \"16g\")\n",
    "spark_conf.set(\"spark.driver.memory\", \"64g\")\n",
    "spark_conf.set(\"spark.driver.maxResultSize\", \"32g\")\n",
    "spark_conf.set(\"spark.parquet.filterPushdown\", \"true\")\n",
    "spark_conf.set(\"spark.local.dir\", \"/temp\")\n",
    "spark_conf.getAll()\n",
    "\n",
    "sc = SparkContext(conf=spark_conf)\n",
    "sc.setLogLevel(\"ERROR\")\n",
    "spark = SparkSession(sc)\n",
    "\n",
    "pd.set_option('display.max_rows', 500)\n",
    "pd.set_option('display.max_columns', 500)\n",
    "pd.set_option('display.width', 1000)\n",
    "sns.set_context('talk')"
   ]
  },
  {
   "cell_type": "code",
   "execution_count": 4,
   "id": "bbecd188",
   "metadata": {
    "execution": {
     "iopub.execute_input": "2023-07-27T20:50:19.028669Z",
     "iopub.status.busy": "2023-07-27T20:50:19.028283Z",
     "iopub.status.idle": "2023-07-27T20:50:19.554017Z",
     "shell.execute_reply": "2023-07-27T20:50:19.553473Z"
    },
    "papermill": {
     "duration": 0.532646,
     "end_time": "2023-07-27T20:50:19.555519",
     "exception": false,
     "start_time": "2023-07-27T20:50:19.022873",
     "status": "completed"
    },
    "tags": []
   },
   "outputs": [],
   "source": [
    "#---Local paths---#\n",
    "PROJECT_DIR = ROOT_DIR + f'projects/{PROJECT_SLUG}/'\n",
    "\n",
    "#---Load all custom scripts---#\n",
    "SCRIPT_DIR = PROJECT_DIR + 'scripts/'\n",
    "sys.path.append(SCRIPT_DIR)\n",
    "\n",
    "import create_mixture as cm\n",
    "import score_matrix as sm\n",
    "import deconvolution as dcnv\n",
    "import helper as hlpr\n",
    "\n",
    "pd.set_option('display.max_rows', 500)\n",
    "pd.set_option('display.max_columns', 500)\n",
    "pd.set_option('display.width', 1000)"
   ]
  },
  {
   "cell_type": "code",
   "execution_count": 5,
   "id": "39dab14f",
   "metadata": {
    "execution": {
     "iopub.execute_input": "2023-07-27T20:50:19.566117Z",
     "iopub.status.busy": "2023-07-27T20:50:19.565835Z",
     "iopub.status.idle": "2023-07-27T20:50:19.571234Z",
     "shell.execute_reply": "2023-07-27T20:50:19.570818Z"
    },
    "papermill": {
     "duration": 0.011766,
     "end_time": "2023-07-27T20:50:19.572405",
     "exception": false,
     "start_time": "2023-07-27T20:50:19.560639",
     "status": "completed"
    },
    "tags": []
   },
   "outputs": [
    {
     "data": {
      "text/plain": [
       "<module 'helper' from '/analysis/gh-msun/projects/2023_06_26_SRT_deconvolution_MS/scripts/helper.py'>"
      ]
     },
     "execution_count": 5,
     "metadata": {},
     "output_type": "execute_result"
    }
   ],
   "source": [
    "importlib.reload(cm)\n",
    "importlib.reload(sm)\n",
    "importlib.reload(dcnv)\n",
    "importlib.reload(hlpr)"
   ]
  },
  {
   "cell_type": "code",
   "execution_count": 6,
   "id": "a5d0fcaa",
   "metadata": {
    "execution": {
     "iopub.execute_input": "2023-07-27T20:50:19.581842Z",
     "iopub.status.busy": "2023-07-27T20:50:19.581635Z",
     "iopub.status.idle": "2023-07-27T20:50:19.586988Z",
     "shell.execute_reply": "2023-07-27T20:50:19.586566Z"
    },
    "papermill": {
     "duration": 0.011351,
     "end_time": "2023-07-27T20:50:19.588151",
     "exception": false,
     "start_time": "2023-07-27T20:50:19.576800",
     "status": "completed"
    },
    "tags": []
   },
   "outputs": [
    {
     "data": {
      "text/plain": [
       "[0.2,\n",
       " 0.13763440860215054,\n",
       " 0.05161290322580645,\n",
       " 0.043010752688172046,\n",
       " 0.07741935483870968,\n",
       " 0.4903225806451612]"
      ]
     },
     "execution_count": 6,
     "metadata": {},
     "output_type": "execute_result"
    }
   ],
   "source": [
    "#################################\n",
    "#   Set titration proportions   #\n",
    "#################################\n",
    "\n",
    "# Reorder such that the titrating cell type comes first\n",
    "CELLTYPES_unordered = CELLTYPES.copy()\n",
    "CELLTYPES = hlpr.titration_reordering(list_of_cell_types=CELLTYPES, \n",
    "                                      titrating_cell_type=TITRATING_CELLTYPE)\n",
    "\n",
    "# Reorder abridged name\n",
    "ABRIDGED_NAMES = hlpr.reorder_abridged_name(unordered_celltypes=CELLTYPES_unordered,\n",
    "                                            ordered_celltypes=CELLTYPES,\n",
    "                                            unordered_abridged_names=ABRIDGED_NAMES)\n",
    "    \n",
    "# set titration proportions\n",
    "if BACKGROUND == 'uniform':\n",
    "    PROPORTIONS = hlpr.generate_uniform_background_proportions(titration_list=TITRATION_LIST, \n",
    "                                                               cell_types=CELLTYPES)\n",
    "\n",
    "if BACKGROUND == 'wholeblood':\n",
    "    PROPORTIONS = hlpr.generate_custom_background_proportions(titration_list=TITRATION_LIST, \n",
    "                                                              custom_proportion=WHOLE_BLOOD_ABUNDANCE, \n",
    "                                                              list_of_celltypes=CELLTYPES, \n",
    "                                                              titrating_celltype=TITRATING_CELLTYPE)\n",
    "\n",
    "PROPORTIONS[0]    "
   ]
  },
  {
   "cell_type": "markdown",
   "id": "34c81f76",
   "metadata": {
    "papermill": {
     "duration": 0.004358,
     "end_time": "2023-07-27T20:50:19.596884",
     "exception": false,
     "start_time": "2023-07-27T20:50:19.592526",
     "status": "completed"
    },
    "tags": []
   },
   "source": [
    "## Create mixture"
   ]
  },
  {
   "cell_type": "code",
   "execution_count": 7,
   "id": "0f9323ed",
   "metadata": {
    "execution": {
     "iopub.execute_input": "2023-07-27T20:50:19.606456Z",
     "iopub.status.busy": "2023-07-27T20:50:19.606257Z",
     "iopub.status.idle": "2023-07-27T20:50:19.609052Z",
     "shell.execute_reply": "2023-07-27T20:50:19.608614Z"
    },
    "papermill": {
     "duration": 0.008855,
     "end_time": "2023-07-27T20:50:19.610221",
     "exception": false,
     "start_time": "2023-07-27T20:50:19.601366",
     "status": "completed"
    },
    "tags": []
   },
   "outputs": [],
   "source": [
    "############################\n",
    "#   Parameters and paths   # \n",
    "############################\n",
    "EXPERIMENT_DIR = PROJECT_DIR + f'output/experiment/{EXPERIMENT}/'\n",
    "EXPERIMENT_NAME = f'{TITRATING_CELLTYPE}-{BACKGROUND}/'\n",
    "PARQUET_PATH = PROJECT_DIR + 'output/mixture_source/'\n",
    "EXPERIMENT_CELLTYPE_DIR = EXPERIMENT_DIR + f'{EXPERIMENT_NAME}/'\n",
    "RESULT_PATH = EXPERIMENT_CELLTYPE_DIR + 'mixture/'\n"
   ]
  },
  {
   "cell_type": "code",
   "execution_count": 8,
   "id": "7ea2d6b1",
   "metadata": {
    "execution": {
     "iopub.execute_input": "2023-07-27T20:50:19.619687Z",
     "iopub.status.busy": "2023-07-27T20:50:19.619487Z",
     "iopub.status.idle": "2023-07-27T20:50:50.004046Z",
     "shell.execute_reply": "2023-07-27T20:50:50.003487Z"
    },
    "papermill": {
     "duration": 30.395337,
     "end_time": "2023-07-27T20:50:50.009912",
     "exception": false,
     "start_time": "2023-07-27T20:50:19.614575",
     "status": "completed"
    },
    "tags": []
   },
   "outputs": [
    {
     "name": "stdout",
     "output_type": "stream",
     "text": [
      ">>> Load parquet files and count rows... <<<\n",
      "----------> Loading cell type: Blueprint-CD8\n"
     ]
    },
    {
     "name": "stdout",
     "output_type": "stream",
     "text": [
      "----------> Loading cell type: Blueprint-CD4\n"
     ]
    },
    {
     "name": "stdout",
     "output_type": "stream",
     "text": [
      "----------> Loading cell type: Blueprint-B\n"
     ]
    },
    {
     "name": "stdout",
     "output_type": "stream",
     "text": [
      "----------> Loading cell type: Blueprint-NK\n"
     ]
    },
    {
     "name": "stdout",
     "output_type": "stream",
     "text": [
      "----------> Loading cell type: Blueprint-Mono\n"
     ]
    },
    {
     "name": "stdout",
     "output_type": "stream",
     "text": [
      "----------> Loading cell type: Blueprint-Neutro\n"
     ]
    },
    {
     "name": "stdout",
     "output_type": "stream",
     "text": [
      ">>> Complete. <<< \n",
      "\n",
      ">>> Start mixing... <<<\n",
      "--> PROPORTION: [0.2, 0.13763440860215054, 0.05161290322580645, 0.043010752688172046, 0.07741935483870968, 0.4903225806451612]\n",
      "----------> Creating mixture 0... \n"
     ]
    },
    {
     "name": "stdout",
     "output_type": "stream",
     "text": [
      "----------> Creating mixture 1... \n"
     ]
    },
    {
     "name": "stdout",
     "output_type": "stream",
     "text": [
      "--> PROPORTION: [0.15, 0.14623655913978492, 0.05483870967741935, 0.0456989247311828, 0.08225806451612903, 0.5209677419354838]\n",
      "----------> Creating mixture 0... \n"
     ]
    },
    {
     "name": "stdout",
     "output_type": "stream",
     "text": [
      "----------> Creating mixture 1... \n"
     ]
    },
    {
     "name": "stdout",
     "output_type": "stream",
     "text": [
      ">>> Complete. <<< \n",
      "\n",
      "CPU times: user 42.2 ms, sys: 1.07 ms, total: 43.2 ms\n",
      "Wall time: 30.4 s\n"
     ]
    }
   ],
   "source": [
    "%%time\n",
    "# load parquet files for each celltype & count rows\n",
    "parquet_df, total_reads_per_celltype = cm.load_parquet_dataframe(parquet_path=PARQUET_PATH,\n",
    "                                                                  cell_types=CELLTYPES,\n",
    "                                                                  spark=spark,\n",
    "                                                                  verbose=True)\n",
    "\n",
    "# mix cell types for each proportion set\n",
    "cm.mix_celltypes_multiple_proportions(parquet_df=parquet_df,\n",
    "                                       total_reads_per_celltype=total_reads_per_celltype,\n",
    "                                    #    n=len(TITRATION_LIST), \n",
    "                                       n=N_REPLICATES,\n",
    "                                       cell_types=CELLTYPES, \n",
    "                                       cell_type_abridged_name=ABRIDGED_NAMES, \n",
    "                                       total_reads_to_sample=TOTAL_READS_TO_SAMPLE, \n",
    "                                       list_of_proportions=PROPORTIONS, \n",
    "                                       seed=SEED, \n",
    "                                       result_path=RESULT_PATH, \n",
    "                                       spark=spark,\n",
    "                                       verbose=False, \n",
    "                                       save=True)"
   ]
  },
  {
   "cell_type": "markdown",
   "id": "23a76881",
   "metadata": {
    "papermill": {
     "duration": 0.005305,
     "end_time": "2023-07-27T20:50:50.020928",
     "exception": false,
     "start_time": "2023-07-27T20:50:50.015623",
     "status": "completed"
    },
    "tags": []
   },
   "source": [
    "## Compute score matrix"
   ]
  },
  {
   "cell_type": "code",
   "execution_count": 9,
   "id": "b22fb188",
   "metadata": {
    "execution": {
     "iopub.execute_input": "2023-07-27T20:50:50.031825Z",
     "iopub.status.busy": "2023-07-27T20:50:50.031594Z",
     "iopub.status.idle": "2023-07-27T20:50:50.035261Z",
     "shell.execute_reply": "2023-07-27T20:50:50.034810Z"
    },
    "papermill": {
     "duration": 0.010462,
     "end_time": "2023-07-27T20:50:50.036404",
     "exception": false,
     "start_time": "2023-07-27T20:50:50.025942",
     "status": "completed"
    },
    "tags": []
   },
   "outputs": [],
   "source": [
    "############################\n",
    "#   Parameters and paths   # \n",
    "############################\n",
    "\n",
    "FILTER_CG_COUNT = 3\n",
    "FILTER_CG_COUNT_REGION = 1\n",
    "\n",
    "REGIONS = 'deconvolution_v2.v23_conv.with_cpg_index'\n",
    "REGION_BED_COLS = [\n",
    "    'region_chr', 'region_start', 'region_end', \n",
    "    'region_cpg_index_min', 'region_cpg_index_max', 'region_id'\n",
    "]\n",
    "\n",
    "# Regions\n",
    "REGION_PATH = (\n",
    "    PROJECT_DIR + '/stage/panel_data/{regions}.bed'\n",
    ").format(regions=REGIONS)\n",
    "\n",
    "# CpG map; genomic coordinate to CpG index;\n",
    "CPG_MAP_PATH = PROJECT_DIR + '/stage/cpg_loci/cpg_loci_hg19.combined_annot.tsv.gz'\n",
    "\n",
    "#--- Where to store results\n",
    "PATH_TO_MIXTURE_DIR = EXPERIMENT_CELLTYPE_DIR + 'mixture/'\n",
    "RESULT_PATH = EXPERIMENT_CELLTYPE_DIR\n"
   ]
  },
  {
   "cell_type": "code",
   "execution_count": 10,
   "id": "483d909e",
   "metadata": {
    "execution": {
     "iopub.execute_input": "2023-07-27T20:50:50.047184Z",
     "iopub.status.busy": "2023-07-27T20:50:50.046980Z",
     "iopub.status.idle": "2023-07-27T20:51:14.651631Z",
     "shell.execute_reply": "2023-07-27T20:51:14.651068Z"
    },
    "papermill": {
     "duration": 24.611844,
     "end_time": "2023-07-27T20:51:14.653237",
     "exception": false,
     "start_time": "2023-07-27T20:50:50.041393",
     "status": "completed"
    },
    "tags": []
   },
   "outputs": [],
   "source": [
    "cpg_map = pd.read_csv(CPG_MAP_PATH, usecols=['chr', 'start', 'end', 'cpg_index', 'cpg_index_hg38'], sep='\\t')"
   ]
  },
  {
   "cell_type": "code",
   "execution_count": 11,
   "id": "ed689e31",
   "metadata": {
    "execution": {
     "iopub.execute_input": "2023-07-27T20:51:14.665986Z",
     "iopub.status.busy": "2023-07-27T20:51:14.665758Z",
     "iopub.status.idle": "2023-07-27T20:51:34.625936Z",
     "shell.execute_reply": "2023-07-27T20:51:34.625393Z"
    },
    "papermill": {
     "duration": 19.967979,
     "end_time": "2023-07-27T20:51:34.627209",
     "exception": false,
     "start_time": "2023-07-27T20:51:14.659230",
     "status": "completed"
    },
    "tags": []
   },
   "outputs": [
    {
     "name": "stdout",
     "output_type": "stream",
     "text": [
      "CPU times: user 14.7 s, sys: 5.32 s, total: 20 s\n",
      "Wall time: 20 s\n"
     ]
    }
   ],
   "source": [
    "%%time\n",
    "ridxs = ~cpg_map['cpg_index_hg38'].isna()\n",
    "hg19_hg38_map = dict(itertools.zip_longest(cpg_map[ridxs]['cpg_index'], cpg_map[ridxs]['cpg_index_hg38'].astype(int)))\n",
    "hg38_hg19_map = dict(itertools.zip_longest(cpg_map[ridxs]['cpg_index_hg38'].astype(int), cpg_map[ridxs]['cpg_index']))"
   ]
  },
  {
   "cell_type": "code",
   "execution_count": 12,
   "id": "942d83b7",
   "metadata": {
    "execution": {
     "iopub.execute_input": "2023-07-27T20:51:34.639732Z",
     "iopub.status.busy": "2023-07-27T20:51:34.639508Z",
     "iopub.status.idle": "2023-07-27T20:52:06.267844Z",
     "shell.execute_reply": "2023-07-27T20:52:06.267359Z"
    },
    "papermill": {
     "duration": 31.640937,
     "end_time": "2023-07-27T20:52:06.274255",
     "exception": false,
     "start_time": "2023-07-27T20:51:34.633318",
     "status": "completed"
    },
    "tags": []
   },
   "outputs": [
    {
     "data": {
      "text/plain": [
       "(1658, 1658)"
      ]
     },
     "execution_count": 12,
     "metadata": {},
     "output_type": "execute_result"
    }
   ],
   "source": [
    "region_df = pd.read_csv(REGION_PATH, sep='\\t', usecols=range(0, 6), names=REGION_BED_COLS)\n",
    "\n",
    "region_df['region_cpg_index_max'] -= 1\n",
    "region_df.sort_values('region_cpg_index_min', inplace=True)\n",
    "region_df['region_cpg_index_min_hg38'] = region_df['region_cpg_index_min'].map(hg19_hg38_map)\n",
    "region_df['region_cpg_index_max_hg38'] = region_df['region_cpg_index_max'].map(hg19_hg38_map)\n",
    "\n",
    "region_df.shape[0], region_df['region_id'].nunique()"
   ]
  },
  {
   "cell_type": "code",
   "execution_count": 13,
   "id": "d51f8734",
   "metadata": {
    "execution": {
     "iopub.execute_input": "2023-07-27T20:52:06.286596Z",
     "iopub.status.busy": "2023-07-27T20:52:06.286369Z",
     "iopub.status.idle": "2023-07-27T20:52:06.292275Z",
     "shell.execute_reply": "2023-07-27T20:52:06.291852Z"
    },
    "papermill": {
     "duration": 0.013246,
     "end_time": "2023-07-27T20:52:06.293461",
     "exception": false,
     "start_time": "2023-07-27T20:52:06.280215",
     "status": "completed"
    },
    "tags": []
   },
   "outputs": [
    {
     "data": {
      "text/plain": [
       "(1658, 1658)"
      ]
     },
     "execution_count": 13,
     "metadata": {},
     "output_type": "execute_result"
    }
   ],
   "source": [
    "ridxs = ~region_df['region_cpg_index_min_hg38'].isna()\n",
    "ridxs &= ~region_df['region_cpg_index_max_hg38'].isna()\n",
    "region_df = region_df[ridxs].copy()\n",
    "region_df.shape[0], region_df['region_id'].nunique()"
   ]
  },
  {
   "cell_type": "code",
   "execution_count": 14,
   "id": "96c73144",
   "metadata": {
    "execution": {
     "iopub.execute_input": "2023-07-27T20:52:06.304965Z",
     "iopub.status.busy": "2023-07-27T20:52:06.304762Z",
     "iopub.status.idle": "2023-07-27T20:52:06.310882Z",
     "shell.execute_reply": "2023-07-27T20:52:06.310473Z"
    },
    "papermill": {
     "duration": 0.013134,
     "end_time": "2023-07-27T20:52:06.312015",
     "exception": false,
     "start_time": "2023-07-27T20:52:06.298881",
     "status": "completed"
    },
    "tags": []
   },
   "outputs": [
    {
     "data": {
      "text/plain": [
       "(1657, 1657)"
      ]
     },
     "execution_count": 14,
     "metadata": {},
     "output_type": "execute_result"
    }
   ],
   "source": [
    "cg_count_hg19 = region_df['region_cpg_index_max']-region_df['region_cpg_index_min'] + 1\n",
    "cg_count_hg38 = region_df['region_cpg_index_max_hg38']-region_df['region_cpg_index_min_hg38'] + 1\n",
    "ridxs = (cg_count_hg19==cg_count_hg38)\n",
    "ridxs &= (cg_count_hg19>=FILTER_CG_COUNT_REGION)\n",
    "region_df = region_df[ridxs].copy()\n",
    "region_df.shape[0], region_df['region_id'].nunique()"
   ]
  },
  {
   "cell_type": "code",
   "execution_count": 15,
   "id": "02a1a19c",
   "metadata": {
    "execution": {
     "iopub.execute_input": "2023-07-27T20:52:06.323685Z",
     "iopub.status.busy": "2023-07-27T20:52:06.323485Z",
     "iopub.status.idle": "2023-07-27T20:52:06.326806Z",
     "shell.execute_reply": "2023-07-27T20:52:06.326375Z"
    },
    "papermill": {
     "duration": 0.010516,
     "end_time": "2023-07-27T20:52:06.327954",
     "exception": false,
     "start_time": "2023-07-27T20:52:06.317438",
     "status": "completed"
    },
    "tags": []
   },
   "outputs": [],
   "source": [
    "region_df['region_cpg_index_min_hg38'] = region_df['region_cpg_index_min_hg38'].astype(int)\n",
    "region_df['region_cpg_index_max_hg38'] = region_df['region_cpg_index_max_hg38'].astype(int)"
   ]
  },
  {
   "cell_type": "code",
   "execution_count": 16,
   "id": "28f7a74c",
   "metadata": {
    "execution": {
     "iopub.execute_input": "2023-07-27T20:52:06.339634Z",
     "iopub.status.busy": "2023-07-27T20:52:06.339434Z",
     "iopub.status.idle": "2023-07-27T20:52:06.351238Z",
     "shell.execute_reply": "2023-07-27T20:52:06.350825Z"
    },
    "papermill": {
     "duration": 0.018925,
     "end_time": "2023-07-27T20:52:06.352376",
     "exception": false,
     "start_time": "2023-07-27T20:52:06.333451",
     "status": "completed"
    },
    "tags": []
   },
   "outputs": [
    {
     "data": {
      "text/html": [
       "<div>\n",
       "<style scoped>\n",
       "    .dataframe tbody tr th:only-of-type {\n",
       "        vertical-align: middle;\n",
       "    }\n",
       "\n",
       "    .dataframe tbody tr th {\n",
       "        vertical-align: top;\n",
       "    }\n",
       "\n",
       "    .dataframe thead th {\n",
       "        text-align: right;\n",
       "    }\n",
       "</style>\n",
       "<table border=\"1\" class=\"dataframe\">\n",
       "  <thead>\n",
       "    <tr style=\"text-align: right;\">\n",
       "      <th></th>\n",
       "      <th>region_chr</th>\n",
       "      <th>region_start</th>\n",
       "      <th>region_end</th>\n",
       "      <th>region_cpg_index_min</th>\n",
       "      <th>region_cpg_index_max</th>\n",
       "      <th>region_id</th>\n",
       "      <th>region_cpg_index_min_hg38</th>\n",
       "      <th>region_cpg_index_max_hg38</th>\n",
       "    </tr>\n",
       "  </thead>\n",
       "  <tbody>\n",
       "    <tr>\n",
       "      <th>0</th>\n",
       "      <td>chr1</td>\n",
       "      <td>1114771</td>\n",
       "      <td>1114971</td>\n",
       "      <td>20117</td>\n",
       "      <td>20129</td>\n",
       "      <td>Immune_Broad_B-chr1:1114772-1114971</td>\n",
       "      <td>21119</td>\n",
       "      <td>21131</td>\n",
       "    </tr>\n",
       "    <tr>\n",
       "      <th>1</th>\n",
       "      <td>chr1</td>\n",
       "      <td>1157450</td>\n",
       "      <td>1157720</td>\n",
       "      <td>21684</td>\n",
       "      <td>21703</td>\n",
       "      <td>Immune_Broad_NK-chr1:1157451-1157720</td>\n",
       "      <td>22686</td>\n",
       "      <td>22705</td>\n",
       "    </tr>\n",
       "    <tr>\n",
       "      <th>2</th>\n",
       "      <td>chr1</td>\n",
       "      <td>1157879</td>\n",
       "      <td>1158277</td>\n",
       "      <td>21710</td>\n",
       "      <td>21726</td>\n",
       "      <td>Immune_Broad_NK-chr1:1157880-1158277</td>\n",
       "      <td>22712</td>\n",
       "      <td>22728</td>\n",
       "    </tr>\n",
       "    <tr>\n",
       "      <th>14</th>\n",
       "      <td>chr1</td>\n",
       "      <td>6341182</td>\n",
       "      <td>6341377</td>\n",
       "      <td>140667</td>\n",
       "      <td>140681</td>\n",
       "      <td>Immune_Broad_Eosi-chr1:6341183-6341377</td>\n",
       "      <td>142368</td>\n",
       "      <td>142382</td>\n",
       "    </tr>\n",
       "    <tr>\n",
       "      <th>19</th>\n",
       "      <td>chr1</td>\n",
       "      <td>9147788</td>\n",
       "      <td>9147871</td>\n",
       "      <td>188605</td>\n",
       "      <td>188608</td>\n",
       "      <td>Immune_Broad_Neutro-chr1:9147789-9147871</td>\n",
       "      <td>190307</td>\n",
       "      <td>190310</td>\n",
       "    </tr>\n",
       "  </tbody>\n",
       "</table>\n",
       "</div>"
      ],
      "text/plain": [
       "   region_chr  region_start  region_end  region_cpg_index_min  region_cpg_index_max                                 region_id  region_cpg_index_min_hg38  region_cpg_index_max_hg38\n",
       "0        chr1       1114771     1114971                 20117                 20129       Immune_Broad_B-chr1:1114772-1114971                      21119                      21131\n",
       "1        chr1       1157450     1157720                 21684                 21703      Immune_Broad_NK-chr1:1157451-1157720                      22686                      22705\n",
       "2        chr1       1157879     1158277                 21710                 21726      Immune_Broad_NK-chr1:1157880-1158277                      22712                      22728\n",
       "14       chr1       6341182     6341377                140667                140681    Immune_Broad_Eosi-chr1:6341183-6341377                     142368                     142382\n",
       "19       chr1       9147788     9147871                188605                188608  Immune_Broad_Neutro-chr1:9147789-9147871                     190307                     190310"
      ]
     },
     "execution_count": 16,
     "metadata": {},
     "output_type": "execute_result"
    }
   ],
   "source": [
    "### Restrict to immune regions\n",
    "#-------------- CHANGE HERE FOR DIFFERENT REGION SUBSET ----------------------\n",
    "# BLUEPRINT immune regions\n",
    "ATLAS_PATH = PROJECT_DIR + f'/output/reference/deconv_inhouse_v2.atlas.tsv.gz'\n",
    "atlas = pd.read_csv(ATLAS_PATH, sep='\\t')\n",
    "subset_region_set = set(atlas.region_id)\n",
    "#-----------------------------------------------------------------------------\n",
    "\n",
    "# filter regions down to regions of interest\n",
    "region_df = region_df[region_df['region_id'].isin(subset_region_set)]\n",
    "region_df.head()"
   ]
  },
  {
   "cell_type": "code",
   "execution_count": 17,
   "id": "80934dde",
   "metadata": {
    "execution": {
     "iopub.execute_input": "2023-07-27T20:52:06.364852Z",
     "iopub.status.busy": "2023-07-27T20:52:06.364640Z",
     "iopub.status.idle": "2023-07-27T20:56:30.033216Z",
     "shell.execute_reply": "2023-07-27T20:56:30.032659Z"
    },
    "papermill": {
     "duration": 263.681997,
     "end_time": "2023-07-27T20:56:30.040118",
     "exception": false,
     "start_time": "2023-07-27T20:52:06.358121",
     "status": "completed"
    },
    "tags": []
   },
   "outputs": [
    {
     "name": "stdout",
     "output_type": "stream",
     "text": [
      ">>> Start computing score matrices <<< \n",
      "\n",
      "--> E2CD8_E1376CD4_E0516B_E043NK_E0774MONO_E4903NEUTRO\n",
      "--------> Computing score matrix for mix0_seed807624\n"
     ]
    },
    {
     "name": "stdout",
     "output_type": "stream",
     "text": [
      "--------> Computing score matrix for mix1_seed468585\n"
     ]
    },
    {
     "name": "stdout",
     "output_type": "stream",
     "text": [
      "\n",
      "\n",
      "--> E15CD8_E1462CD4_E0548B_E0457NK_E0823MONO_E521NEUTRO\n",
      "--------> Computing score matrix for mix0_seed433927\n"
     ]
    },
    {
     "name": "stdout",
     "output_type": "stream",
     "text": [
      "--------> Computing score matrix for mix1_seed103593\n"
     ]
    },
    {
     "name": "stdout",
     "output_type": "stream",
     "text": [
      "\n",
      "\n",
      ">>> Complete. <<< \n",
      "\n",
      "CPU times: user 2.67 s, sys: 463 ms, total: 3.14 s\n",
      "Wall time: 4min 23s\n"
     ]
    }
   ],
   "source": [
    "%%time\n",
    "\n",
    "PAT_COLS = [\n",
    "    'molecule_id', 'chr', 'number_molecules',\n",
    "    'cpg_index_min', 'cpg_index_max', 'pat_string'\n",
    "]\n",
    "\n",
    "QUANTILES = [0.1, 0.25, 0.75, 0.9]\n",
    "KMERS = [1, 3, 4]\n",
    "RATES_LEQ = [0.25]\n",
    "RATES_GEQ = [0.75]\n",
    "\n",
    "RETURN_SCHEMA = StructType()\\\n",
    "    .add('region_id', 'string')\\\n",
    "    .add('number_molecules', 'integer')\\\n",
    "    .add('meth_k1', 'integer')\\\n",
    "    .add('unmeth_k1', 'integer')\\\n",
    "    .add('total_k1', 'integer')\\\n",
    "    .add('meth_k3', 'integer')\\\n",
    "    .add('unmeth_k3', 'integer')\\\n",
    "    .add('total_k3', 'integer')\\\n",
    "    .add('meth_k4', 'integer')\\\n",
    "    .add('unmeth_k4', 'integer')\\\n",
    "    .add('total_k4', 'integer')\\\n",
    "    .add('frac_alpha_leq_25pct', 'float')\\\n",
    "    .add('frac_alpha_geq_75pct', 'float')\n",
    "\n",
    "compute_frag_scores_udf = sm.compute_frag_scores(cpg_number_cutoff=FILTER_CG_COUNT, schema=RETURN_SCHEMA, kmers=KMERS, rates_leq=RATES_LEQ, rates_geq=RATES_GEQ)\n",
    "\n",
    "\n",
    "# compute methyl score for are parquet files\n",
    "sm.score_matrix_from_mixture_directory(path_to_mixture_dir = PATH_TO_MIXTURE_DIR, \n",
    "                                       result_path = RESULT_PATH, \n",
    "                                       pat_cols = PAT_COLS, \n",
    "                                       region_df = region_df, \n",
    "                                       batch_size = 20, \n",
    "                                       schema = RETURN_SCHEMA, \n",
    "                                       spark=spark,\n",
    "                                       compute_frag_scores_udf=compute_frag_scores_udf,\n",
    "                                       save=True, \n",
    "                                       verbose=False)"
   ]
  },
  {
   "cell_type": "markdown",
   "id": "f7567281",
   "metadata": {
    "papermill": {
     "duration": 0.006345,
     "end_time": "2023-07-27T20:56:30.053224",
     "exception": false,
     "start_time": "2023-07-27T20:56:30.046879",
     "status": "completed"
    },
    "tags": []
   },
   "source": [
    "## Deconvolution"
   ]
  },
  {
   "cell_type": "code",
   "execution_count": 18,
   "id": "221c143c",
   "metadata": {
    "execution": {
     "iopub.execute_input": "2023-07-27T20:56:30.066260Z",
     "iopub.status.busy": "2023-07-27T20:56:30.066028Z",
     "iopub.status.idle": "2023-07-27T20:56:30.068996Z",
     "shell.execute_reply": "2023-07-27T20:56:30.068525Z"
    },
    "papermill": {
     "duration": 0.010931,
     "end_time": "2023-07-27T20:56:30.070229",
     "exception": false,
     "start_time": "2023-07-27T20:56:30.059298",
     "status": "completed"
    },
    "tags": []
   },
   "outputs": [],
   "source": [
    "############################\n",
    "#   Parameters and paths   # \n",
    "############################\n",
    "\n",
    "FILTER_COV = 20\n",
    "\n",
    "SCORE_VAR = 'frac_alpha_leq_25pct'\n",
    "\n",
    "# Reference matrix\n",
    "ATLAS_PATH = PROJECT_DIR + 'output/reference/deconv_inhouse_v2.atlas.tsv.gz'\n",
    "REGION_PATH = PROJECT_DIR + 'output/reference/deconv_inhouse_v2.region_to_ref_celltype.tsv.gz'\n",
    "\n",
    "# Methylation score matrix\n",
    "SCORE_DIR = EXPERIMENT_CELLTYPE_DIR + 'methyl_score/'\n"
   ]
  },
  {
   "cell_type": "code",
   "execution_count": 19,
   "id": "dfb3c397",
   "metadata": {
    "execution": {
     "iopub.execute_input": "2023-07-27T20:56:30.082971Z",
     "iopub.status.busy": "2023-07-27T20:56:30.082767Z",
     "iopub.status.idle": "2023-07-27T20:56:30.092281Z",
     "shell.execute_reply": "2023-07-27T20:56:30.091863Z"
    },
    "papermill": {
     "duration": 0.017288,
     "end_time": "2023-07-27T20:56:30.093427",
     "exception": false,
     "start_time": "2023-07-27T20:56:30.076139",
     "status": "completed"
    },
    "tags": []
   },
   "outputs": [
    {
     "data": {
      "text/plain": [
       "(280, 9)"
      ]
     },
     "execution_count": 19,
     "metadata": {},
     "output_type": "execute_result"
    }
   ],
   "source": [
    "atlas = pd.read_csv(ATLAS_PATH, sep='\\t',index_col=None)\n",
    "atlas = atlas.set_index('region_id')\n",
    "atlas.columns.name = 'ref_celltype'\n",
    "atlas.shape\n",
    "\n",
    "ref_region_df = pd.read_csv(REGION_PATH, sep='\\t')\n",
    "\n",
    "atlas = atlas.loc[ref_region_df['region_id'], :].copy()\n",
    "atlas.shape"
   ]
  },
  {
   "cell_type": "code",
   "execution_count": 20,
   "id": "74e228c6",
   "metadata": {
    "execution": {
     "iopub.execute_input": "2023-07-27T20:56:30.106276Z",
     "iopub.status.busy": "2023-07-27T20:56:30.106073Z",
     "iopub.status.idle": "2023-07-27T20:56:30.109230Z",
     "shell.execute_reply": "2023-07-27T20:56:30.108801Z"
    },
    "papermill": {
     "duration": 0.010954,
     "end_time": "2023-07-27T20:56:30.110408",
     "exception": false,
     "start_time": "2023-07-27T20:56:30.099454",
     "status": "completed"
    },
    "tags": []
   },
   "outputs": [
    {
     "data": {
      "text/plain": [
       "Index(['immune_b', 'immune_t', 'immune_nk', 'immune_dend_plus_macro_plus_mono', 'immune_eosi', 'immune_neutro', 'immune_eryth', 'immune_mega', 'eryth_prog'], dtype='object', name='ref_celltype')"
      ]
     },
     "execution_count": 20,
     "metadata": {},
     "output_type": "execute_result"
    }
   ],
   "source": [
    "atlas.columns"
   ]
  },
  {
   "cell_type": "code",
   "execution_count": 21,
   "id": "3d2f6495",
   "metadata": {
    "execution": {
     "iopub.execute_input": "2023-07-27T20:56:30.123746Z",
     "iopub.status.busy": "2023-07-27T20:56:30.123544Z",
     "iopub.status.idle": "2023-07-27T20:56:30.167051Z",
     "shell.execute_reply": "2023-07-27T20:56:30.166592Z"
    },
    "papermill": {
     "duration": 0.051402,
     "end_time": "2023-07-27T20:56:30.168223",
     "exception": false,
     "start_time": "2023-07-27T20:56:30.116821",
     "status": "completed"
    },
    "tags": []
   },
   "outputs": [
    {
     "name": "stdout",
     "output_type": "stream",
     "text": [
      "CPU times: user 30.2 ms, sys: 10 ms, total: 40.3 ms\n",
      "Wall time: 40.1 ms\n"
     ]
    }
   ],
   "source": [
    "%%time\n",
    "\n",
    "deconvolution_nnls = dcnv.compute_deconvolution_from_methyl_score_dir_nnls(path_to_methyl_score_dir=SCORE_DIR, \n",
    "                                                                          score_type=SCORE_VAR, \n",
    "                                                                          atlas=atlas, \n",
    "                                                                          match=False)\n",
    "\n",
    "deconvolution_naive = dcnv.compute_deconvolution_from_methyl_score_dir_naive(path_to_methyl_score_dir=SCORE_DIR, \n",
    "                                                                             filter_cov=FILTER_COV, \n",
    "                                                                             score_var=SCORE_VAR, \n",
    "                                                                             ref_region_df=ref_region_df)\n"
   ]
  },
  {
   "cell_type": "code",
   "execution_count": 22,
   "id": "9e2f3850",
   "metadata": {
    "execution": {
     "iopub.execute_input": "2023-07-27T20:56:30.182570Z",
     "iopub.status.busy": "2023-07-27T20:56:30.182366Z",
     "iopub.status.idle": "2023-07-27T20:56:30.299382Z",
     "shell.execute_reply": "2023-07-27T20:56:30.298911Z"
    },
    "papermill": {
     "duration": 0.125463,
     "end_time": "2023-07-27T20:56:30.300581",
     "exception": false,
     "start_time": "2023-07-27T20:56:30.175118",
     "status": "completed"
    },
    "tags": []
   },
   "outputs": [
    {
     "data": {
      "image/png": "[encoded data removed]",
      "text/plain": [
       "<Figure size 432x288 with 1 Axes>"
      ]
     },
     "metadata": {
      "needs_background": "light"
     },
     "output_type": "display_data"
    }
   ],
   "source": [
    "dcnv.boxplot_titration(list_of_deconvolution_dfs=deconvolution_naive,\n",
    "                      cell_type=TITRATING_CELLTYPE_ATLAS,\n",
    "                      true_proportions=TITRATION_LIST,\n",
    "                      deconvolution_method_name='naive'\n",
    "                      )"
   ]
  },
  {
   "cell_type": "code",
   "execution_count": 23,
   "id": "e7c092a1",
   "metadata": {
    "execution": {
     "iopub.execute_input": "2023-07-27T20:56:30.314666Z",
     "iopub.status.busy": "2023-07-27T20:56:30.314453Z",
     "iopub.status.idle": "2023-07-27T20:56:30.480337Z",
     "shell.execute_reply": "2023-07-27T20:56:30.479853Z"
    },
    "papermill": {
     "duration": 0.174365,
     "end_time": "2023-07-27T20:56:30.481588",
     "exception": false,
     "start_time": "2023-07-27T20:56:30.307223",
     "status": "completed"
    },
    "tags": []
   },
   "outputs": [
    {
     "data": {
      "image/png": "[encoded data removed]",
      "text/plain": [
       "<Figure size 432x288 with 1 Axes>"
      ]
     },
     "metadata": {
      "needs_background": "light"
     },
     "output_type": "display_data"
    }
   ],
   "source": [
    "dcnv.boxplot_titration(list_of_deconvolution_dfs=deconvolution_nnls,\n",
    "                      cell_type=TITRATING_CELLTYPE_ATLAS,\n",
    "                      true_proportions=TITRATION_LIST,\n",
    "                      deconvolution_method_name='nnls'\n",
    "                      )"
   ]
  },
  {
   "cell_type": "code",
   "execution_count": 24,
   "id": "2cff3c2f",
   "metadata": {
    "execution": {
     "iopub.execute_input": "2023-07-27T20:56:30.497648Z",
     "iopub.status.busy": "2023-07-27T20:56:30.497331Z",
     "iopub.status.idle": "2023-07-27T20:56:30.730033Z",
     "shell.execute_reply": "2023-07-27T20:56:30.729509Z"
    },
    "papermill": {
     "duration": 0.241986,
     "end_time": "2023-07-27T20:56:30.731271",
     "exception": false,
     "start_time": "2023-07-27T20:56:30.489285",
     "status": "completed"
    },
    "tags": []
   },
   "outputs": [
    {
     "data": {
      "image/png": "[encoded data removed]",
      "text/plain": [
       "<Figure size 720x720 with 2 Axes>"
      ]
     },
     "metadata": {
      "needs_background": "light"
     },
     "output_type": "display_data"
    }
   ],
   "source": [
    "\n",
    "dcnv.boxplot_titration_zoom(list_of_deconvolution_dfs=deconvolution_naive,\n",
    "                      cell_type=TITRATING_CELLTYPE_ATLAS,\n",
    "                      true_proportions=TITRATION_LIST,\n",
    "                      deconvolution_method_name='naive'\n",
    "                      )"
   ]
  },
  {
   "cell_type": "code",
   "execution_count": 25,
   "id": "30f8ac9a",
   "metadata": {
    "execution": {
     "iopub.execute_input": "2023-07-27T20:56:30.746805Z",
     "iopub.status.busy": "2023-07-27T20:56:30.746571Z",
     "iopub.status.idle": "2023-07-27T20:56:31.012358Z",
     "shell.execute_reply": "2023-07-27T20:56:31.011572Z"
    },
    "papermill": {
     "duration": 0.27507,
     "end_time": "2023-07-27T20:56:31.013705",
     "exception": false,
     "start_time": "2023-07-27T20:56:30.738635",
     "status": "completed"
    },
    "tags": []
   },
   "outputs": [
    {
     "data": {
      "image/png": "[encoded data removed]",
      "text/plain": [
       "<Figure size 720x720 with 2 Axes>"
      ]
     },
     "metadata": {
      "needs_background": "light"
     },
     "output_type": "display_data"
    }
   ],
   "source": [
    "\n",
    "dcnv.boxplot_titration_zoom(list_of_deconvolution_dfs=deconvolution_nnls,\n",
    "                      cell_type=TITRATING_CELLTYPE_ATLAS,\n",
    "                      true_proportions=TITRATION_LIST,\n",
    "                      deconvolution_method_name='nnls'\n",
    "                      )"
   ]
  },
  {
   "cell_type": "code",
   "execution_count": null,
   "id": "332a04d4",
   "metadata": {
    "papermill": {
     "duration": 0.007764,
     "end_time": "2023-07-27T20:56:31.029899",
     "exception": false,
     "start_time": "2023-07-27T20:56:31.022135",
     "status": "completed"
    },
    "tags": []
   },
   "outputs": [],
   "source": []
  },
  {
   "cell_type": "code",
   "execution_count": null,
   "id": "5e27ab8f",
   "metadata": {
    "papermill": {
     "duration": 0.007345,
     "end_time": "2023-07-27T20:56:31.044578",
     "exception": false,
     "start_time": "2023-07-27T20:56:31.037233",
     "status": "completed"
    },
    "tags": []
   },
   "outputs": [],
   "source": []
  }
 ],
 "metadata": {
  "kernelspec": {
   "display_name": "Python 3",
   "language": "python",
   "name": "python3"
  },
  "language_info": {
   "codemirror_mode": {
    "name": "ipython",
    "version": 3
   },
   "file_extension": ".py",
   "mimetype": "text/x-python",
   "name": "python",
   "nbconvert_exporter": "python",
   "pygments_lexer": "ipython3",
   "version": "3.7.8"
  },
  "papermill": {
   "default_parameters": {},
   "duration": 378.121072,
   "end_time": "2023-07-27T20:56:32.769896",
   "environment_variables": {},
   "exception": null,
   "input_path": "/analysis/gh-msun/projects/2023_06_26_SRT_deconvolution_MS//notebooks/titration/titration_experiment.ipynb",
   "output_path": "/analysis/gh-msun/projects/2023_06_26_SRT_deconvolution_MS//notebooks/titration/primary_immune_wholeblood/titration_CD8.ipynb",
   "parameters": {
    "ABRIDGED_NAMES": [
     "CD4",
     "CD8",
     "B",
     "NK",
     "MONO",
     "NEUTRO"
    ],
    "BACKGROUND": "wholeblood",
    "CELLTYPES": [
     "Blueprint-CD4",
     "Blueprint-CD8",
     "Blueprint-B",
     "Blueprint-NK",
     "Blueprint-Mono",
     "Blueprint-Neutro"
    ],
    "EXPERIMENT": "primary_immune",
    "N_REPLICATES": 2,
    "PROJECT_SLUG": "2023_06_26_SRT_deconvolution_MS",
    "ROOT_DIR": "/analysis/gh-msun/",
    "SEED": 452891,
    "TITRATING_CELLTYPE": "Blueprint-CD8",
    "TITRATING_CELLTYPE_ATLAS": "immune_t",
    "TITRATION_LIST": [
     0.2,
     0.15
    ],
    "TOTAL_READS_TO_SAMPLE": 1000000,
    "WHOLE_BLOOD_ABUNDANCE": {
     "Blueprint-B": 0.06,
     "Blueprint-CD4": 0.16,
     "Blueprint-CD8": 0.07,
     "Blueprint-Mono": 0.09,
     "Blueprint-NK": 0.05,
     "Blueprint-Neutro": 0.57
    }
   },
   "start_time": "2023-07-27T20:50:14.648824",
   "version": "2.4.0"
  }
 },
 "nbformat": 4,
 "nbformat_minor": 5
}