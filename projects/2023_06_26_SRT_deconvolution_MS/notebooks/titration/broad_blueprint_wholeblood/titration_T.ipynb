{
 "cells": [
  {
   "cell_type": "markdown",
   "id": "98631241",
   "metadata": {
    "papermill": {
     "duration": 0.005795,
     "end_time": "2023-08-31T21:32:52.745513",
     "exception": false,
     "start_time": "2023-08-31T21:32:52.739718",
     "status": "completed"
    },
    "tags": []
   },
   "source": [
    "# Titration Experiment"
   ]
  },
  {
   "cell_type": "code",
   "execution_count": 1,
   "id": "45865e80",
   "metadata": {
    "execution": {
     "iopub.execute_input": "2023-08-31T21:32:52.755935Z",
     "iopub.status.busy": "2023-08-31T21:32:52.755712Z",
     "iopub.status.idle": "2023-08-31T21:32:52.761079Z",
     "shell.execute_reply": "2023-08-31T21:32:52.760635Z"
    },
    "papermill": {
     "duration": 0.011672,
     "end_time": "2023-08-31T21:32:52.762341",
     "exception": false,
     "start_time": "2023-08-31T21:32:52.750669",
     "status": "completed"
    },
    "tags": [
     "parameters"
    ]
   },
   "outputs": [],
   "source": [
    "#############################\n",
    "#   Experiment parameters   #\n",
    "#############################\n",
    "ROOT_DIR = '/analysis/gh-msun/'\n",
    "PROJECT_SLUG = '2023_06_26_SRT_deconvolution_MS'\n",
    "EXPERIMENT = 'broad_blueprint'\n",
    "TITRATING_CELLTYPE = 'Blueprint-B'\n",
    "TITRATING_CELLTYPE_ATLAS = 'immune_b' # cell type name in atlas different\n",
    "BACKGROUND = 'wholeblood' # background: uniform / wholeblood \n",
    "N_REPLICATES = 20 # number of replicates for each mixture\n",
    "SEED = 888 # need to change for different experiment\n",
    "TOTAL_READS_TO_SAMPLE = 1000000\n",
    "\n",
    "# make sure the orders of the two list match\n",
    "CELLTYPES = ['Blueprint-T', 'Blueprint-B', 'Blueprint-NK', 'Blueprint-Mono', 'Blueprint-Neutro']\n",
    "ABRIDGED_NAMES = ['T', 'B', 'NK', 'MONO', 'NEUTRO'] # for directory name\n",
    "\n",
    "TITRATION_LIST = [0.2, 0.15, 0.10, 0.08, 0.06, 0.04, 0.02, 0.01, \n",
    "                   0.008, 0.006, 0.004, 0.002, 0.001, 0]\n",
    "# TITRATION_LIST=[0.2, 0.15]\n",
    "\n",
    "# proportion of cells in real whole blood (sum to 1)\n",
    "WHOLE_BLOOD_ABUNDANCE = {'Blueprint-B':0.06,\n",
    "                         'Blueprint-Mono':0.09,\n",
    "                         'Blueprint-Neutro':0.57,\n",
    "                         'Blueprint-T':0.23,\n",
    "\n",
    "                         'Blueprint-NK':0.05}\n",
    "    "
   ]
  },
  {
   "cell_type": "code",
   "execution_count": 2,
   "id": "9143e48f",
   "metadata": {
    "execution": {
     "iopub.execute_input": "2023-08-31T21:32:52.772518Z",
     "iopub.status.busy": "2023-08-31T21:32:52.772311Z",
     "iopub.status.idle": "2023-08-31T21:32:52.776702Z",
     "shell.execute_reply": "2023-08-31T21:32:52.776261Z"
    },
    "papermill": {
     "duration": 0.010334,
     "end_time": "2023-08-31T21:32:52.777928",
     "exception": false,
     "start_time": "2023-08-31T21:32:52.767594",
     "status": "completed"
    },
    "tags": [
     "injected-parameters"
    ]
   },
   "outputs": [],
   "source": [
    "# Parameters\n",
    "ROOT_DIR = \"/analysis/gh-msun/\"\n",
    "PROJECT_SLUG = \"2023_06_26_SRT_deconvolution_MS\"\n",
    "EXPERIMENT = \"broad_blueprint\"\n",
    "TITRATING_CELLTYPE = \"Blueprint-T\"\n",
    "TITRATING_CELLTYPE_ATLAS = \"immune_t\"\n",
    "BACKGROUND = \"wholeblood\"\n",
    "N_REPLICATES = 20\n",
    "SEED = 83723\n",
    "TOTAL_READS_TO_SAMPLE = 1000000\n",
    "CELLTYPES = [\"Blueprint-T\", \"Blueprint-B\", \"Blueprint-NK\", \"Blueprint-Mono\", \"Blueprint-Neutro\"]\n",
    "ABRIDGED_NAMES = [\"T\", \"B\", \"NK\", \"MONO\", \"NEUTRO\"]\n",
    "TITRATION_LIST = [0.2, 0.15, 0.1, 0.08, 0.06, 0.04, 0.02, 0.01, 0.008, 0.006, 0.004, 0.002, 0.001, 0]\n",
    "WHOLE_BLOOD_ABUNDANCE = {\"Blueprint-B\": 0.06, \"Blueprint-Mono\": 0.09, \"Blueprint-Neutro\": 0.57, \"Blueprint-T\": 0.23, \"Blueprint-NK\": 0.05}\n"
   ]
  },
  {
   "cell_type": "code",
   "execution_count": 3,
   "id": "e6e055ac",
   "metadata": {
    "execution": {
     "iopub.execute_input": "2023-08-31T21:32:52.787138Z",
     "iopub.status.busy": "2023-08-31T21:32:52.786932Z",
     "iopub.status.idle": "2023-08-31T21:32:56.351198Z",
     "shell.execute_reply": "2023-08-31T21:32:56.350520Z"
    },
    "papermill": {
     "duration": 3.570474,
     "end_time": "2023-08-31T21:32:56.352597",
     "exception": false,
     "start_time": "2023-08-31T21:32:52.782123",
     "status": "completed"
    },
    "tags": []
   },
   "outputs": [
    {
     "name": "stderr",
     "output_type": "stream",
     "text": [
      "/home/ec2-user/mambaforge/envs/2023_06_26_SRT_deconvolution_MS/lib/python3.7/site-packages/pyspark/context.py:317: FutureWarning: Python 3.7 support is deprecated in Spark 3.4.\n",
      "  warnings.warn(\"Python 3.7 support is deprecated in Spark 3.4.\", FutureWarning)\n"
     ]
    }
   ],
   "source": [
    "import glob\n",
    "import numpy as np\n",
    "import pandas as pd\n",
    "import seaborn as sns\n",
    "import matplotlib.pyplot as plt\n",
    "import itertools\n",
    "import functools\n",
    "import os\n",
    "import regex as re\n",
    "import random\n",
    "import importlib\n",
    "import sys\n",
    "\n",
    "from pyspark.sql import SparkSession\n",
    "from pyspark import SparkConf, SparkContext\n",
    "from pyspark.sql.types import IntegerType, LongType, ArrayType, StringType, DoubleType\n",
    "from pyspark.sql.functions import udf, explode, broadcast, count, lit, length, col\n",
    "from pyspark.sql import DataFrame\n",
    "from pyspark.sql.types import StructType\n",
    "\n",
    "# UPDATE HOME!\n",
    "os.environ[\"SPARK_HOME\"] = \"/home/ec2-user/mambaforge/envs/2023_06_26_SRT_deconvolution_MS/lib/python3.7/site-packages/pyspark\"\n",
    "# THIS needs to be set-up before running the notebook\n",
    "os.environ[\"SPARK_LOCAL_DIRS\"] = \"/temp\"\n",
    "os.environ[\"PYARROW_IGNORE_TIMEZONE\"] = \"1\"\n",
    "\n",
    "spark_conf = SparkConf()\n",
    "spark_conf.set(\"spark.ui.showConsoleProgress\", \"True\")\n",
    "spark_conf.set(\"spark.executor.instances\", \"2\")\n",
    "spark_conf.set(\"spark.executor.cores\", \"2\")\n",
    "spark_conf.set(\"spark.executor.memory\", \"16g\")\n",
    "spark_conf.set(\"spark.driver.memory\", \"64g\")\n",
    "spark_conf.set(\"spark.driver.maxResultSize\", \"32g\")\n",
    "spark_conf.set(\"spark.parquet.filterPushdown\", \"true\")\n",
    "spark_conf.set(\"spark.local.dir\", \"/temp\")\n",
    "spark_conf.getAll()\n",
    "\n",
    "sc = SparkContext(conf=spark_conf)\n",
    "sc.setLogLevel(\"ERROR\")\n",
    "spark = SparkSession(sc)\n",
    "\n",
    "pd.set_option('display.max_rows', 500)\n",
    "pd.set_option('display.max_columns', 500)\n",
    "pd.set_option('display.width', 1000)\n",
    "sns.set_context('talk')"
   ]
  },
  {
   "cell_type": "code",
   "execution_count": 4,
   "id": "2970fe05",
   "metadata": {
    "execution": {
     "iopub.execute_input": "2023-08-31T21:32:56.363899Z",
     "iopub.status.busy": "2023-08-31T21:32:56.363477Z",
     "iopub.status.idle": "2023-08-31T21:32:57.027056Z",
     "shell.execute_reply": "2023-08-31T21:32:57.026485Z"
    },
    "papermill": {
     "duration": 0.67083,
     "end_time": "2023-08-31T21:32:57.028617",
     "exception": false,
     "start_time": "2023-08-31T21:32:56.357787",
     "status": "completed"
    },
    "tags": []
   },
   "outputs": [],
   "source": [
    "#---Local paths---#\n",
    "PROJECT_DIR = ROOT_DIR + f'projects/{PROJECT_SLUG}/'\n",
    "\n",
    "#---Load all custom scripts---#\n",
    "SCRIPT_DIR = PROJECT_DIR + 'scripts/'\n",
    "sys.path.append(SCRIPT_DIR)\n",
    "\n",
    "import create_mixture as cm\n",
    "import score_matrix as sm\n",
    "import deconvolution as dcnv\n",
    "import helper as hlpr\n",
    "\n",
    "pd.set_option('display.max_rows', 500)\n",
    "pd.set_option('display.max_columns', 500)\n",
    "pd.set_option('display.width', 1000)"
   ]
  },
  {
   "cell_type": "code",
   "execution_count": 5,
   "id": "1da03a13",
   "metadata": {
    "execution": {
     "iopub.execute_input": "2023-08-31T21:32:57.039573Z",
     "iopub.status.busy": "2023-08-31T21:32:57.039249Z",
     "iopub.status.idle": "2023-08-31T21:32:57.045022Z",
     "shell.execute_reply": "2023-08-31T21:32:57.044589Z"
    },
    "papermill": {
     "duration": 0.012377,
     "end_time": "2023-08-31T21:32:57.046229",
     "exception": false,
     "start_time": "2023-08-31T21:32:57.033852",
     "status": "completed"
    },
    "tags": []
   },
   "outputs": [
    {
     "data": {
      "text/plain": [
       "<module 'helper' from '/analysis/gh-msun/projects/2023_06_26_SRT_deconvolution_MS/scripts/helper.py'>"
      ]
     },
     "execution_count": 5,
     "metadata": {},
     "output_type": "execute_result"
    }
   ],
   "source": [
    "importlib.reload(cm)\n",
    "importlib.reload(sm)\n",
    "importlib.reload(dcnv)\n",
    "importlib.reload(hlpr)"
   ]
  },
  {
   "cell_type": "code",
   "execution_count": 6,
   "id": "3272c0a2",
   "metadata": {
    "execution": {
     "iopub.execute_input": "2023-08-31T21:32:57.055977Z",
     "iopub.status.busy": "2023-08-31T21:32:57.055762Z",
     "iopub.status.idle": "2023-08-31T21:32:57.061403Z",
     "shell.execute_reply": "2023-08-31T21:32:57.060974Z"
    },
    "papermill": {
     "duration": 0.011853,
     "end_time": "2023-08-31T21:32:57.062623",
     "exception": false,
     "start_time": "2023-08-31T21:32:57.050770",
     "status": "completed"
    },
    "tags": []
   },
   "outputs": [
    {
     "data": {
      "text/plain": [
       "[0.2,\n",
       " 0.06233766233766234,\n",
       " 0.05194805194805196,\n",
       " 0.09350649350649351,\n",
       " 0.5922077922077922]"
      ]
     },
     "execution_count": 6,
     "metadata": {},
     "output_type": "execute_result"
    }
   ],
   "source": [
    "#################################\n",
    "#   Set titration proportions   #\n",
    "#################################\n",
    "\n",
    "# Reorder such that the titrating cell type comes first\n",
    "CELLTYPES_unordered = CELLTYPES.copy()\n",
    "CELLTYPES = hlpr.titration_reordering(list_of_cell_types=CELLTYPES, \n",
    "                                      titrating_cell_type=TITRATING_CELLTYPE)\n",
    "\n",
    "# Reorder abridged name\n",
    "ABRIDGED_NAMES = hlpr.reorder_abridged_name(unordered_celltypes=CELLTYPES_unordered,\n",
    "                                            ordered_celltypes=CELLTYPES,\n",
    "                                            unordered_abridged_names=ABRIDGED_NAMES)\n",
    "    \n",
    "# set titration proportions\n",
    "if BACKGROUND == 'uniform':\n",
    "    PROPORTIONS = hlpr.generate_uniform_background_proportions(titration_list=TITRATION_LIST, \n",
    "                                                               cell_types=CELLTYPES)\n",
    "\n",
    "if BACKGROUND == 'wholeblood':\n",
    "    PROPORTIONS = hlpr.generate_custom_background_proportions(titration_list=TITRATION_LIST, \n",
    "                                                              custom_proportion=WHOLE_BLOOD_ABUNDANCE, \n",
    "                                                              list_of_celltypes=CELLTYPES, \n",
    "                                                              titrating_celltype=TITRATING_CELLTYPE)\n",
    "\n",
    "PROPORTIONS[0]    "
   ]
  },
  {
   "cell_type": "markdown",
   "id": "35ad67d3",
   "metadata": {
    "papermill": {
     "duration": 0.004531,
     "end_time": "2023-08-31T21:32:57.071767",
     "exception": false,
     "start_time": "2023-08-31T21:32:57.067236",
     "status": "completed"
    },
    "tags": []
   },
   "source": [
    "## Create mixture"
   ]
  },
  {
   "cell_type": "code",
   "execution_count": 7,
   "id": "dcdcb6b8",
   "metadata": {
    "execution": {
     "iopub.execute_input": "2023-08-31T21:32:57.081653Z",
     "iopub.status.busy": "2023-08-31T21:32:57.081442Z",
     "iopub.status.idle": "2023-08-31T21:32:57.084290Z",
     "shell.execute_reply": "2023-08-31T21:32:57.083863Z"
    },
    "papermill": {
     "duration": 0.009197,
     "end_time": "2023-08-31T21:32:57.085491",
     "exception": false,
     "start_time": "2023-08-31T21:32:57.076294",
     "status": "completed"
    },
    "tags": []
   },
   "outputs": [],
   "source": [
    "############################\n",
    "#   Parameters and paths   # \n",
    "############################\n",
    "EXPERIMENT_DIR = PROJECT_DIR + f'output/experiment/{EXPERIMENT}/'\n",
    "EXPERIMENT_NAME = f'{TITRATING_CELLTYPE}-{BACKGROUND}/'\n",
    "PARQUET_PATH = PROJECT_DIR + 'output/mixture_source/'\n",
    "EXPERIMENT_CELLTYPE_DIR = EXPERIMENT_DIR + f'{EXPERIMENT_NAME}/'\n",
    "RESULT_PATH = EXPERIMENT_CELLTYPE_DIR + 'mixture/'\n"
   ]
  },
  {
   "cell_type": "code",
   "execution_count": 8,
   "id": "abe96d25",
   "metadata": {
    "execution": {
     "iopub.execute_input": "2023-08-31T21:32:57.095423Z",
     "iopub.status.busy": "2023-08-31T21:32:57.095212Z",
     "iopub.status.idle": "2023-08-31T22:01:16.956479Z",
     "shell.execute_reply": "2023-08-31T22:01:16.955495Z"
    },
    "papermill": {
     "duration": 1699.868251,
     "end_time": "2023-08-31T22:01:16.958343",
     "exception": false,
     "start_time": "2023-08-31T21:32:57.090092",
     "status": "completed"
    },
    "tags": []
   },
   "outputs": [
    {
     "name": "stdout",
     "output_type": "stream",
     "text": [
      ">>> Load parquet files and count rows... <<<\n",
      "----------> Loading cell type: Blueprint-T\n"
     ]
    },
    {
     "name": "stdout",
     "output_type": "stream",
     "text": [
      "----------> Loading cell type: Blueprint-B\n"
     ]
    },
    {
     "name": "stdout",
     "output_type": "stream",
     "text": [
      "----------> Loading cell type: Blueprint-NK\n"
     ]
    },
    {
     "name": "stdout",
     "output_type": "stream",
     "text": [
      "----------> Loading cell type: Blueprint-Mono\n"
     ]
    },
    {
     "name": "stdout",
     "output_type": "stream",
     "text": [
      "----------> Loading cell type: Blueprint-Neutro\n"
     ]
    },
    {
     "name": "stdout",
     "output_type": "stream",
     "text": [
      ">>> Complete. <<< \n",
      "\n",
      ">>> Start mixing... <<<\n",
      "--> PROPORTION: [0.2, 0.06233766233766234, 0.05194805194805196, 0.09350649350649351, 0.5922077922077922]\n",
      "----------> Creating mixture 0... \n"
     ]
    },
    {
     "name": "stdout",
     "output_type": "stream",
     "text": [
      "----------> Creating mixture 1... \n"
     ]
    },
    {
     "name": "stdout",
     "output_type": "stream",
     "text": [
      "----------> Creating mixture 2... \n"
     ]
    },
    {
     "name": "stdout",
     "output_type": "stream",
     "text": [
      "----------> Creating mixture 3... \n"
     ]
    },
    {
     "name": "stdout",
     "output_type": "stream",
     "text": [
      "----------> Creating mixture 4... \n"
     ]
    },
    {
     "name": "stdout",
     "output_type": "stream",
     "text": [
      "----------> Creating mixture 5... \n"
     ]
    },
    {
     "name": "stdout",
     "output_type": "stream",
     "text": [
      "----------> Creating mixture 6... \n"
     ]
    },
    {
     "name": "stdout",
     "output_type": "stream",
     "text": [
      "----------> Creating mixture 7... \n"
     ]
    },
    {
     "name": "stdout",
     "output_type": "stream",
     "text": [
      "----------> Creating mixture 8... \n"
     ]
    },
    {
     "name": "stdout",
     "output_type": "stream",
     "text": [
      "----------> Creating mixture 9... \n"
     ]
    },
    {
     "name": "stdout",
     "output_type": "stream",
     "text": [
      "----------> Creating mixture 10... \n"
     ]
    },
    {
     "name": "stdout",
     "output_type": "stream",
     "text": [
      "----------> Creating mixture 11... \n"
     ]
    },
    {
     "name": "stdout",
     "output_type": "stream",
     "text": [
      "----------> Creating mixture 12... \n"
     ]
    },
    {
     "name": "stdout",
     "output_type": "stream",
     "text": [
      "----------> Creating mixture 13... \n"
     ]
    },
    {
     "name": "stdout",
     "output_type": "stream",
     "text": [
      "----------> Creating mixture 14... \n"
     ]
    },
    {
     "name": "stdout",
     "output_type": "stream",
     "text": [
      "----------> Creating mixture 15... \n"
     ]
    },
    {
     "name": "stdout",
     "output_type": "stream",
     "text": [
      "----------> Creating mixture 16... \n"
     ]
    },
    {
     "name": "stdout",
     "output_type": "stream",
     "text": [
      "----------> Creating mixture 17... \n"
     ]
    },
    {
     "name": "stdout",
     "output_type": "stream",
     "text": [
      "----------> Creating mixture 18... \n"
     ]
    },
    {
     "name": "stdout",
     "output_type": "stream",
     "text": [
      "----------> Creating mixture 19... \n"
     ]
    },
    {
     "name": "stdout",
     "output_type": "stream",
     "text": [
      "--> PROPORTION: [0.15, 0.06623376623376623, 0.0551948051948052, 0.09935064935064934, 0.6292207792207791]\n",
      "----------> Creating mixture 0... \n"
     ]
    },
    {
     "name": "stdout",
     "output_type": "stream",
     "text": [
      "----------> Creating mixture 1... \n"
     ]
    },
    {
     "name": "stdout",
     "output_type": "stream",
     "text": [
      "----------> Creating mixture 2... \n"
     ]
    },
    {
     "name": "stdout",
     "output_type": "stream",
     "text": [
      "----------> Creating mixture 3... \n"
     ]
    },
    {
     "name": "stdout",
     "output_type": "stream",
     "text": [
      "----------> Creating mixture 4... \n"
     ]
    },
    {
     "name": "stdout",
     "output_type": "stream",
     "text": [
      "----------> Creating mixture 5... \n"
     ]
    },
    {
     "name": "stdout",
     "output_type": "stream",
     "text": [
      "----------> Creating mixture 6... \n"
     ]
    },
    {
     "name": "stdout",
     "output_type": "stream",
     "text": [
      "----------> Creating mixture 7... \n"
     ]
    },
    {
     "name": "stdout",
     "output_type": "stream",
     "text": [
      "----------> Creating mixture 8... \n"
     ]
    },
    {
     "name": "stdout",
     "output_type": "stream",
     "text": [
      "----------> Creating mixture 9... \n"
     ]
    },
    {
     "name": "stdout",
     "output_type": "stream",
     "text": [
      "----------> Creating mixture 10... \n"
     ]
    },
    {
     "name": "stdout",
     "output_type": "stream",
     "text": [
      "----------> Creating mixture 11... \n"
     ]
    },
    {
     "name": "stdout",
     "output_type": "stream",
     "text": [
      "----------> Creating mixture 12... \n"
     ]
    },
    {
     "name": "stdout",
     "output_type": "stream",
     "text": [
      "----------> Creating mixture 13... \n"
     ]
    },
    {
     "name": "stdout",
     "output_type": "stream",
     "text": [
      "----------> Creating mixture 14... \n"
     ]
    },
    {
     "name": "stdout",
     "output_type": "stream",
     "text": [
      "----------> Creating mixture 15... \n"
     ]
    },
    {
     "name": "stdout",
     "output_type": "stream",
     "text": [
      "----------> Creating mixture 16... \n"
     ]
    },
    {
     "name": "stdout",
     "output_type": "stream",
     "text": [
      "----------> Creating mixture 17... \n"
     ]
    },
    {
     "name": "stdout",
     "output_type": "stream",
     "text": [
      "----------> Creating mixture 18... \n"
     ]
    },
    {
     "name": "stdout",
     "output_type": "stream",
     "text": [
      "----------> Creating mixture 19... \n"
     ]
    },
    {
     "name": "stdout",
     "output_type": "stream",
     "text": [
      "--> PROPORTION: [0.1, 0.07012987012987013, 0.05844155844155845, 0.10519480519480519, 0.6662337662337662]\n",
      "----------> Creating mixture 0... \n"
     ]
    },
    {
     "name": "stdout",
     "output_type": "stream",
     "text": [
      "----------> Creating mixture 1... \n"
     ]
    },
    {
     "name": "stdout",
     "output_type": "stream",
     "text": [
      "----------> Creating mixture 2... \n"
     ]
    },
    {
     "name": "stdout",
     "output_type": "stream",
     "text": [
      "----------> Creating mixture 3... \n"
     ]
    },
    {
     "name": "stdout",
     "output_type": "stream",
     "text": [
      "----------> Creating mixture 4... \n"
     ]
    },
    {
     "name": "stdout",
     "output_type": "stream",
     "text": [
      "----------> Creating mixture 5... \n"
     ]
    },
    {
     "name": "stdout",
     "output_type": "stream",
     "text": [
      "----------> Creating mixture 6... \n"
     ]
    },
    {
     "name": "stdout",
     "output_type": "stream",
     "text": [
      "----------> Creating mixture 7... \n"
     ]
    },
    {
     "name": "stdout",
     "output_type": "stream",
     "text": [
      "----------> Creating mixture 8... \n"
     ]
    },
    {
     "name": "stdout",
     "output_type": "stream",
     "text": [
      "----------> Creating mixture 9... \n"
     ]
    },
    {
     "name": "stdout",
     "output_type": "stream",
     "text": [
      "----------> Creating mixture 10... \n"
     ]
    },
    {
     "name": "stdout",
     "output_type": "stream",
     "text": [
      "----------> Creating mixture 11... \n"
     ]
    },
    {
     "name": "stdout",
     "output_type": "stream",
     "text": [
      "----------> Creating mixture 12... \n"
     ]
    },
    {
     "name": "stdout",
     "output_type": "stream",
     "text": [
      "----------> Creating mixture 13... \n"
     ]
    },
    {
     "name": "stdout",
     "output_type": "stream",
     "text": [
      "----------> Creating mixture 14... \n"
     ]
    },
    {
     "name": "stdout",
     "output_type": "stream",
     "text": [
      "----------> Creating mixture 15... \n"
     ]
    },
    {
     "name": "stdout",
     "output_type": "stream",
     "text": [
      "----------> Creating mixture 16... \n"
     ]
    },
    {
     "name": "stdout",
     "output_type": "stream",
     "text": [
      "----------> Creating mixture 17... \n"
     ]
    },
    {
     "name": "stdout",
     "output_type": "stream",
     "text": [
      "----------> Creating mixture 18... \n"
     ]
    },
    {
     "name": "stdout",
     "output_type": "stream",
     "text": [
      "----------> Creating mixture 19... \n"
     ]
    },
    {
     "name": "stdout",
     "output_type": "stream",
     "text": [
      "--> PROPORTION: [0.08, 0.07168831168831169, 0.05974025974025975, 0.10753246753246753, 0.681038961038961]\n",
      "----------> Creating mixture 0... \n"
     ]
    },
    {
     "name": "stdout",
     "output_type": "stream",
     "text": [
      "----------> Creating mixture 1... \n"
     ]
    },
    {
     "name": "stdout",
     "output_type": "stream",
     "text": [
      "----------> Creating mixture 2... \n"
     ]
    },
    {
     "name": "stdout",
     "output_type": "stream",
     "text": [
      "----------> Creating mixture 3... \n"
     ]
    },
    {
     "name": "stdout",
     "output_type": "stream",
     "text": [
      "----------> Creating mixture 4... \n"
     ]
    },
    {
     "name": "stdout",
     "output_type": "stream",
     "text": [
      "----------> Creating mixture 5... \n"
     ]
    },
    {
     "name": "stdout",
     "output_type": "stream",
     "text": [
      "----------> Creating mixture 6... \n"
     ]
    },
    {
     "name": "stdout",
     "output_type": "stream",
     "text": [
      "----------> Creating mixture 7... \n"
     ]
    },
    {
     "name": "stdout",
     "output_type": "stream",
     "text": [
      "----------> Creating mixture 8... \n"
     ]
    },
    {
     "name": "stdout",
     "output_type": "stream",
     "text": [
      "----------> Creating mixture 9... \n"
     ]
    },
    {
     "name": "stdout",
     "output_type": "stream",
     "text": [
      "----------> Creating mixture 10... \n"
     ]
    },
    {
     "name": "stdout",
     "output_type": "stream",
     "text": [
      "----------> Creating mixture 11... \n"
     ]
    },
    {
     "name": "stdout",
     "output_type": "stream",
     "text": [
      "----------> Creating mixture 12... \n"
     ]
    },
    {
     "name": "stdout",
     "output_type": "stream",
     "text": [
      "----------> Creating mixture 13... \n"
     ]
    },
    {
     "name": "stdout",
     "output_type": "stream",
     "text": [
      "----------> Creating mixture 14... \n"
     ]
    },
    {
     "name": "stdout",
     "output_type": "stream",
     "text": [
      "----------> Creating mixture 15... \n"
     ]
    },
    {
     "name": "stdout",
     "output_type": "stream",
     "text": [
      "----------> Creating mixture 16... \n"
     ]
    },
    {
     "name": "stdout",
     "output_type": "stream",
     "text": [
      "----------> Creating mixture 17... \n"
     ]
    },
    {
     "name": "stdout",
     "output_type": "stream",
     "text": [
      "----------> Creating mixture 18... \n"
     ]
    },
    {
     "name": "stdout",
     "output_type": "stream",
     "text": [
      "----------> Creating mixture 19... \n"
     ]
    },
    {
     "name": "stdout",
     "output_type": "stream",
     "text": [
      "--> PROPORTION: [0.06, 0.07324675324675324, 0.061038961038961045, 0.10987012987012987, 0.6958441558441557]\n",
      "----------> Creating mixture 0... \n"
     ]
    },
    {
     "name": "stdout",
     "output_type": "stream",
     "text": [
      "----------> Creating mixture 1... \n"
     ]
    },
    {
     "name": "stdout",
     "output_type": "stream",
     "text": [
      "----------> Creating mixture 2... \n"
     ]
    },
    {
     "name": "stdout",
     "output_type": "stream",
     "text": [
      "----------> Creating mixture 3... \n"
     ]
    },
    {
     "name": "stdout",
     "output_type": "stream",
     "text": [
      "----------> Creating mixture 4... \n"
     ]
    },
    {
     "name": "stdout",
     "output_type": "stream",
     "text": [
      "----------> Creating mixture 5... \n"
     ]
    },
    {
     "name": "stdout",
     "output_type": "stream",
     "text": [
      "----------> Creating mixture 6... \n"
     ]
    },
    {
     "name": "stdout",
     "output_type": "stream",
     "text": [
      "----------> Creating mixture 7... \n"
     ]
    },
    {
     "name": "stdout",
     "output_type": "stream",
     "text": [
      "----------> Creating mixture 8... \n"
     ]
    },
    {
     "name": "stdout",
     "output_type": "stream",
     "text": [
      "----------> Creating mixture 9... \n"
     ]
    },
    {
     "name": "stdout",
     "output_type": "stream",
     "text": [
      "----------> Creating mixture 10... \n"
     ]
    },
    {
     "name": "stdout",
     "output_type": "stream",
     "text": [
      "----------> Creating mixture 11... \n"
     ]
    },
    {
     "name": "stdout",
     "output_type": "stream",
     "text": [
      "----------> Creating mixture 12... \n"
     ]
    },
    {
     "name": "stdout",
     "output_type": "stream",
     "text": [
      "----------> Creating mixture 13... \n"
     ]
    },
    {
     "name": "stdout",
     "output_type": "stream",
     "text": [
      "----------> Creating mixture 14... \n"
     ]
    },
    {
     "name": "stdout",
     "output_type": "stream",
     "text": [
      "----------> Creating mixture 15... \n"
     ]
    },
    {
     "name": "stdout",
     "output_type": "stream",
     "text": [
      "----------> Creating mixture 16... \n"
     ]
    },
    {
     "name": "stdout",
     "output_type": "stream",
     "text": [
      "----------> Creating mixture 17... \n"
     ]
    },
    {
     "name": "stdout",
     "output_type": "stream",
     "text": [
      "----------> Creating mixture 18... \n"
     ]
    },
    {
     "name": "stdout",
     "output_type": "stream",
     "text": [
      "----------> Creating mixture 19... \n"
     ]
    },
    {
     "name": "stdout",
     "output_type": "stream",
     "text": [
      "--> PROPORTION: [0.04, 0.0748051948051948, 0.062337662337662345, 0.1122077922077922, 0.7106493506493505]\n",
      "----------> Creating mixture 0... \n"
     ]
    },
    {
     "name": "stdout",
     "output_type": "stream",
     "text": [
      "----------> Creating mixture 1... \n"
     ]
    },
    {
     "name": "stdout",
     "output_type": "stream",
     "text": [
      "----------> Creating mixture 2... \n"
     ]
    },
    {
     "name": "stdout",
     "output_type": "stream",
     "text": [
      "----------> Creating mixture 3... \n"
     ]
    },
    {
     "name": "stdout",
     "output_type": "stream",
     "text": [
      "----------> Creating mixture 4... \n"
     ]
    },
    {
     "name": "stdout",
     "output_type": "stream",
     "text": [
      "----------> Creating mixture 5... \n"
     ]
    },
    {
     "name": "stdout",
     "output_type": "stream",
     "text": [
      "----------> Creating mixture 6... \n"
     ]
    },
    {
     "name": "stdout",
     "output_type": "stream",
     "text": [
      "----------> Creating mixture 7... \n"
     ]
    },
    {
     "name": "stdout",
     "output_type": "stream",
     "text": [
      "----------> Creating mixture 8... \n"
     ]
    },
    {
     "name": "stdout",
     "output_type": "stream",
     "text": [
      "----------> Creating mixture 9... \n"
     ]
    },
    {
     "name": "stdout",
     "output_type": "stream",
     "text": [
      "----------> Creating mixture 10... \n"
     ]
    },
    {
     "name": "stdout",
     "output_type": "stream",
     "text": [
      "----------> Creating mixture 11... \n"
     ]
    },
    {
     "name": "stdout",
     "output_type": "stream",
     "text": [
      "----------> Creating mixture 12... \n"
     ]
    },
    {
     "name": "stdout",
     "output_type": "stream",
     "text": [
      "----------> Creating mixture 13... \n"
     ]
    },
    {
     "name": "stdout",
     "output_type": "stream",
     "text": [
      "----------> Creating mixture 14... \n"
     ]
    },
    {
     "name": "stdout",
     "output_type": "stream",
     "text": [
      "----------> Creating mixture 15... \n"
     ]
    },
    {
     "name": "stdout",
     "output_type": "stream",
     "text": [
      "----------> Creating mixture 16... \n"
     ]
    },
    {
     "name": "stdout",
     "output_type": "stream",
     "text": [
      "----------> Creating mixture 17... \n"
     ]
    },
    {
     "name": "stdout",
     "output_type": "stream",
     "text": [
      "----------> Creating mixture 18... \n"
     ]
    },
    {
     "name": "stdout",
     "output_type": "stream",
     "text": [
      "----------> Creating mixture 19... \n"
     ]
    },
    {
     "name": "stdout",
     "output_type": "stream",
     "text": [
      "--> PROPORTION: [0.02, 0.07636363636363636, 0.06363636363636364, 0.11454545454545455, 0.7254545454545454]\n",
      "----------> Creating mixture 0... \n"
     ]
    },
    {
     "name": "stdout",
     "output_type": "stream",
     "text": [
      "----------> Creating mixture 1... \n"
     ]
    },
    {
     "name": "stdout",
     "output_type": "stream",
     "text": [
      "----------> Creating mixture 2... \n"
     ]
    },
    {
     "name": "stdout",
     "output_type": "stream",
     "text": [
      "----------> Creating mixture 3... \n"
     ]
    },
    {
     "name": "stdout",
     "output_type": "stream",
     "text": [
      "----------> Creating mixture 4... \n"
     ]
    },
    {
     "name": "stdout",
     "output_type": "stream",
     "text": [
      "----------> Creating mixture 5... \n"
     ]
    },
    {
     "name": "stdout",
     "output_type": "stream",
     "text": [
      "----------> Creating mixture 6... \n"
     ]
    },
    {
     "name": "stdout",
     "output_type": "stream",
     "text": [
      "----------> Creating mixture 7... \n"
     ]
    },
    {
     "name": "stdout",
     "output_type": "stream",
     "text": [
      "----------> Creating mixture 8... \n"
     ]
    },
    {
     "name": "stdout",
     "output_type": "stream",
     "text": [
      "----------> Creating mixture 9... \n"
     ]
    },
    {
     "name": "stdout",
     "output_type": "stream",
     "text": [
      "----------> Creating mixture 10... \n"
     ]
    },
    {
     "name": "stdout",
     "output_type": "stream",
     "text": [
      "----------> Creating mixture 11... \n"
     ]
    },
    {
     "name": "stdout",
     "output_type": "stream",
     "text": [
      "----------> Creating mixture 12... \n"
     ]
    },
    {
     "name": "stdout",
     "output_type": "stream",
     "text": [
      "----------> Creating mixture 13... \n"
     ]
    },
    {
     "name": "stdout",
     "output_type": "stream",
     "text": [
      "----------> Creating mixture 14... \n"
     ]
    },
    {
     "name": "stdout",
     "output_type": "stream",
     "text": [
      "----------> Creating mixture 15... \n"
     ]
    },
    {
     "name": "stdout",
     "output_type": "stream",
     "text": [
      "----------> Creating mixture 16... \n"
     ]
    },
    {
     "name": "stdout",
     "output_type": "stream",
     "text": [
      "----------> Creating mixture 17... \n"
     ]
    },
    {
     "name": "stdout",
     "output_type": "stream",
     "text": [
      "----------> Creating mixture 18... \n"
     ]
    },
    {
     "name": "stdout",
     "output_type": "stream",
     "text": [
      "----------> Creating mixture 19... \n"
     ]
    },
    {
     "name": "stdout",
     "output_type": "stream",
     "text": [
      "--> PROPORTION: [0.01, 0.07714285714285714, 0.0642857142857143, 0.11571428571428571, 0.7328571428571428]\n",
      "----------> Creating mixture 0... \n"
     ]
    },
    {
     "name": "stdout",
     "output_type": "stream",
     "text": [
      "----------> Creating mixture 1... \n"
     ]
    },
    {
     "name": "stdout",
     "output_type": "stream",
     "text": [
      "----------> Creating mixture 2... \n"
     ]
    },
    {
     "name": "stdout",
     "output_type": "stream",
     "text": [
      "----------> Creating mixture 3... \n"
     ]
    },
    {
     "name": "stdout",
     "output_type": "stream",
     "text": [
      "----------> Creating mixture 4... \n"
     ]
    },
    {
     "name": "stdout",
     "output_type": "stream",
     "text": [
      "----------> Creating mixture 5... \n"
     ]
    },
    {
     "name": "stdout",
     "output_type": "stream",
     "text": [
      "----------> Creating mixture 6... \n"
     ]
    },
    {
     "name": "stdout",
     "output_type": "stream",
     "text": [
      "----------> Creating mixture 7... \n"
     ]
    },
    {
     "name": "stdout",
     "output_type": "stream",
     "text": [
      "----------> Creating mixture 8... \n"
     ]
    },
    {
     "name": "stdout",
     "output_type": "stream",
     "text": [
      "----------> Creating mixture 9... \n"
     ]
    },
    {
     "name": "stdout",
     "output_type": "stream",
     "text": [
      "----------> Creating mixture 10... \n"
     ]
    },
    {
     "name": "stdout",
     "output_type": "stream",
     "text": [
      "----------> Creating mixture 11... \n"
     ]
    },
    {
     "name": "stdout",
     "output_type": "stream",
     "text": [
      "----------> Creating mixture 12... \n"
     ]
    },
    {
     "name": "stdout",
     "output_type": "stream",
     "text": [
      "----------> Creating mixture 13... \n"
     ]
    },
    {
     "name": "stdout",
     "output_type": "stream",
     "text": [
      "----------> Creating mixture 14... \n"
     ]
    },
    {
     "name": "stdout",
     "output_type": "stream",
     "text": [
      "----------> Creating mixture 15... \n"
     ]
    },
    {
     "name": "stdout",
     "output_type": "stream",
     "text": [
      "----------> Creating mixture 16... \n"
     ]
    },
    {
     "name": "stdout",
     "output_type": "stream",
     "text": [
      "----------> Creating mixture 17... \n"
     ]
    },
    {
     "name": "stdout",
     "output_type": "stream",
     "text": [
      "----------> Creating mixture 18... \n"
     ]
    },
    {
     "name": "stdout",
     "output_type": "stream",
     "text": [
      "----------> Creating mixture 19... \n"
     ]
    },
    {
     "name": "stdout",
     "output_type": "stream",
     "text": [
      "--> PROPORTION: [0.008, 0.0772987012987013, 0.06441558441558443, 0.11594805194805194, 0.7343376623376623]\n",
      "----------> Creating mixture 0... \n"
     ]
    },
    {
     "name": "stdout",
     "output_type": "stream",
     "text": [
      "----------> Creating mixture 1... \n"
     ]
    },
    {
     "name": "stdout",
     "output_type": "stream",
     "text": [
      "----------> Creating mixture 2... \n"
     ]
    },
    {
     "name": "stdout",
     "output_type": "stream",
     "text": [
      "----------> Creating mixture 3... \n"
     ]
    },
    {
     "name": "stdout",
     "output_type": "stream",
     "text": [
      "----------> Creating mixture 4... \n"
     ]
    },
    {
     "name": "stdout",
     "output_type": "stream",
     "text": [
      "----------> Creating mixture 5... \n"
     ]
    },
    {
     "name": "stdout",
     "output_type": "stream",
     "text": [
      "----------> Creating mixture 6... \n"
     ]
    },
    {
     "name": "stdout",
     "output_type": "stream",
     "text": [
      "----------> Creating mixture 7... \n"
     ]
    },
    {
     "name": "stdout",
     "output_type": "stream",
     "text": [
      "----------> Creating mixture 8... \n"
     ]
    },
    {
     "name": "stdout",
     "output_type": "stream",
     "text": [
      "----------> Creating mixture 9... \n"
     ]
    },
    {
     "name": "stdout",
     "output_type": "stream",
     "text": [
      "----------> Creating mixture 10... \n"
     ]
    },
    {
     "name": "stdout",
     "output_type": "stream",
     "text": [
      "----------> Creating mixture 11... \n"
     ]
    },
    {
     "name": "stdout",
     "output_type": "stream",
     "text": [
      "----------> Creating mixture 12... \n"
     ]
    },
    {
     "name": "stdout",
     "output_type": "stream",
     "text": [
      "----------> Creating mixture 13... \n"
     ]
    },
    {
     "name": "stdout",
     "output_type": "stream",
     "text": [
      "----------> Creating mixture 14... \n"
     ]
    },
    {
     "name": "stdout",
     "output_type": "stream",
     "text": [
      "----------> Creating mixture 15... \n"
     ]
    },
    {
     "name": "stdout",
     "output_type": "stream",
     "text": [
      "----------> Creating mixture 16... \n"
     ]
    },
    {
     "name": "stdout",
     "output_type": "stream",
     "text": [
      "----------> Creating mixture 17... \n"
     ]
    },
    {
     "name": "stdout",
     "output_type": "stream",
     "text": [
      "----------> Creating mixture 18... \n"
     ]
    },
    {
     "name": "stdout",
     "output_type": "stream",
     "text": [
      "----------> Creating mixture 19... \n"
     ]
    },
    {
     "name": "stdout",
     "output_type": "stream",
     "text": [
      "--> PROPORTION: [0.006, 0.07745454545454546, 0.06454545454545456, 0.11618181818181818, 0.7358181818181817]\n",
      "----------> Creating mixture 0... \n"
     ]
    },
    {
     "name": "stdout",
     "output_type": "stream",
     "text": [
      "----------> Creating mixture 1... \n"
     ]
    },
    {
     "name": "stdout",
     "output_type": "stream",
     "text": [
      "----------> Creating mixture 2... \n"
     ]
    },
    {
     "name": "stdout",
     "output_type": "stream",
     "text": [
      "----------> Creating mixture 3... \n"
     ]
    },
    {
     "name": "stdout",
     "output_type": "stream",
     "text": [
      "----------> Creating mixture 4... \n"
     ]
    },
    {
     "name": "stdout",
     "output_type": "stream",
     "text": [
      "----------> Creating mixture 5... \n"
     ]
    },
    {
     "name": "stdout",
     "output_type": "stream",
     "text": [
      "----------> Creating mixture 6... \n"
     ]
    },
    {
     "name": "stdout",
     "output_type": "stream",
     "text": [
      "----------> Creating mixture 7... \n"
     ]
    },
    {
     "name": "stdout",
     "output_type": "stream",
     "text": [
      "----------> Creating mixture 8... \n"
     ]
    },
    {
     "name": "stdout",
     "output_type": "stream",
     "text": [
      "----------> Creating mixture 9... \n"
     ]
    },
    {
     "name": "stdout",
     "output_type": "stream",
     "text": [
      "----------> Creating mixture 10... \n"
     ]
    },
    {
     "name": "stdout",
     "output_type": "stream",
     "text": [
      "----------> Creating mixture 11... \n"
     ]
    },
    {
     "name": "stdout",
     "output_type": "stream",
     "text": [
      "----------> Creating mixture 12... \n"
     ]
    },
    {
     "name": "stdout",
     "output_type": "stream",
     "text": [
      "----------> Creating mixture 13... \n"
     ]
    },
    {
     "name": "stdout",
     "output_type": "stream",
     "text": [
      "----------> Creating mixture 14... \n"
     ]
    },
    {
     "name": "stdout",
     "output_type": "stream",
     "text": [
      "----------> Creating mixture 15... \n"
     ]
    },
    {
     "name": "stdout",
     "output_type": "stream",
     "text": [
      "----------> Creating mixture 16... \n"
     ]
    },
    {
     "name": "stdout",
     "output_type": "stream",
     "text": [
      "----------> Creating mixture 17... \n"
     ]
    },
    {
     "name": "stdout",
     "output_type": "stream",
     "text": [
      "----------> Creating mixture 18... \n"
     ]
    },
    {
     "name": "stdout",
     "output_type": "stream",
     "text": [
      "----------> Creating mixture 19... \n"
     ]
    },
    {
     "name": "stdout",
     "output_type": "stream",
     "text": [
      "--> PROPORTION: [0.004, 0.0776103896103896, 0.06467532467532468, 0.11641558441558442, 0.7372987012987012]\n",
      "----------> Creating mixture 0... \n"
     ]
    },
    {
     "name": "stdout",
     "output_type": "stream",
     "text": [
      "----------> Creating mixture 1... \n"
     ]
    },
    {
     "name": "stdout",
     "output_type": "stream",
     "text": [
      "----------> Creating mixture 2... \n"
     ]
    },
    {
     "name": "stdout",
     "output_type": "stream",
     "text": [
      "----------> Creating mixture 3... \n"
     ]
    },
    {
     "name": "stdout",
     "output_type": "stream",
     "text": [
      "----------> Creating mixture 4... \n"
     ]
    },
    {
     "name": "stdout",
     "output_type": "stream",
     "text": [
      "----------> Creating mixture 5... \n"
     ]
    },
    {
     "name": "stdout",
     "output_type": "stream",
     "text": [
      "----------> Creating mixture 6... \n"
     ]
    },
    {
     "name": "stdout",
     "output_type": "stream",
     "text": [
      "----------> Creating mixture 7... \n"
     ]
    },
    {
     "name": "stdout",
     "output_type": "stream",
     "text": [
      "----------> Creating mixture 8... \n"
     ]
    },
    {
     "name": "stdout",
     "output_type": "stream",
     "text": [
      "----------> Creating mixture 9... \n"
     ]
    },
    {
     "name": "stdout",
     "output_type": "stream",
     "text": [
      "----------> Creating mixture 10... \n"
     ]
    },
    {
     "name": "stdout",
     "output_type": "stream",
     "text": [
      "----------> Creating mixture 11... \n"
     ]
    },
    {
     "name": "stdout",
     "output_type": "stream",
     "text": [
      "----------> Creating mixture 12... \n"
     ]
    },
    {
     "name": "stdout",
     "output_type": "stream",
     "text": [
      "----------> Creating mixture 13... \n"
     ]
    },
    {
     "name": "stdout",
     "output_type": "stream",
     "text": [
      "----------> Creating mixture 14... \n"
     ]
    },
    {
     "name": "stdout",
     "output_type": "stream",
     "text": [
      "----------> Creating mixture 15... \n"
     ]
    },
    {
     "name": "stdout",
     "output_type": "stream",
     "text": [
      "----------> Creating mixture 16... \n"
     ]
    },
    {
     "name": "stdout",
     "output_type": "stream",
     "text": [
      "----------> Creating mixture 17... \n"
     ]
    },
    {
     "name": "stdout",
     "output_type": "stream",
     "text": [
      "----------> Creating mixture 18... \n"
     ]
    },
    {
     "name": "stdout",
     "output_type": "stream",
     "text": [
      "----------> Creating mixture 19... \n"
     ]
    },
    {
     "name": "stdout",
     "output_type": "stream",
     "text": [
      "--> PROPORTION: [0.002, 0.07776623376623376, 0.06480519480519481, 0.11664935064935064, 0.7387792207792206]\n",
      "----------> Creating mixture 0... \n"
     ]
    },
    {
     "name": "stdout",
     "output_type": "stream",
     "text": [
      "----------> Creating mixture 1... \n"
     ]
    },
    {
     "name": "stdout",
     "output_type": "stream",
     "text": [
      "----------> Creating mixture 2... \n"
     ]
    },
    {
     "name": "stdout",
     "output_type": "stream",
     "text": [
      "----------> Creating mixture 3... \n"
     ]
    },
    {
     "name": "stdout",
     "output_type": "stream",
     "text": [
      "----------> Creating mixture 4... \n"
     ]
    },
    {
     "name": "stdout",
     "output_type": "stream",
     "text": [
      "----------> Creating mixture 5... \n"
     ]
    },
    {
     "name": "stdout",
     "output_type": "stream",
     "text": [
      "----------> Creating mixture 6... \n"
     ]
    },
    {
     "name": "stdout",
     "output_type": "stream",
     "text": [
      "----------> Creating mixture 7... \n"
     ]
    },
    {
     "name": "stdout",
     "output_type": "stream",
     "text": [
      "----------> Creating mixture 8... \n"
     ]
    },
    {
     "name": "stdout",
     "output_type": "stream",
     "text": [
      "----------> Creating mixture 9... \n"
     ]
    },
    {
     "name": "stdout",
     "output_type": "stream",
     "text": [
      "----------> Creating mixture 10... \n"
     ]
    },
    {
     "name": "stdout",
     "output_type": "stream",
     "text": [
      "----------> Creating mixture 11... \n"
     ]
    },
    {
     "name": "stdout",
     "output_type": "stream",
     "text": [
      "----------> Creating mixture 12... \n"
     ]
    },
    {
     "name": "stdout",
     "output_type": "stream",
     "text": [
      "----------> Creating mixture 13... \n"
     ]
    },
    {
     "name": "stdout",
     "output_type": "stream",
     "text": [
      "----------> Creating mixture 14... \n"
     ]
    },
    {
     "name": "stdout",
     "output_type": "stream",
     "text": [
      "----------> Creating mixture 15... \n"
     ]
    },
    {
     "name": "stdout",
     "output_type": "stream",
     "text": [
      "----------> Creating mixture 16... \n"
     ]
    },
    {
     "name": "stdout",
     "output_type": "stream",
     "text": [
      "----------> Creating mixture 17... \n"
     ]
    },
    {
     "name": "stdout",
     "output_type": "stream",
     "text": [
      "----------> Creating mixture 18... \n"
     ]
    },
    {
     "name": "stdout",
     "output_type": "stream",
     "text": [
      "----------> Creating mixture 19... \n"
     ]
    },
    {
     "name": "stdout",
     "output_type": "stream",
     "text": [
      "--> PROPORTION: [0.001, 0.07784415584415584, 0.06487012987012988, 0.11676623376623377, 0.7395194805194805]\n",
      "----------> Creating mixture 0... \n"
     ]
    },
    {
     "name": "stdout",
     "output_type": "stream",
     "text": [
      "----------> Creating mixture 1... \n"
     ]
    },
    {
     "name": "stdout",
     "output_type": "stream",
     "text": [
      "----------> Creating mixture 2... \n"
     ]
    },
    {
     "name": "stdout",
     "output_type": "stream",
     "text": [
      "----------> Creating mixture 3... \n"
     ]
    },
    {
     "name": "stdout",
     "output_type": "stream",
     "text": [
      "----------> Creating mixture 4... \n"
     ]
    },
    {
     "name": "stdout",
     "output_type": "stream",
     "text": [
      "----------> Creating mixture 5... \n"
     ]
    },
    {
     "name": "stdout",
     "output_type": "stream",
     "text": [
      "----------> Creating mixture 6... \n"
     ]
    },
    {
     "name": "stdout",
     "output_type": "stream",
     "text": [
      "----------> Creating mixture 7... \n"
     ]
    },
    {
     "name": "stdout",
     "output_type": "stream",
     "text": [
      "----------> Creating mixture 8... \n"
     ]
    },
    {
     "name": "stdout",
     "output_type": "stream",
     "text": [
      "----------> Creating mixture 9... \n"
     ]
    },
    {
     "name": "stdout",
     "output_type": "stream",
     "text": [
      "----------> Creating mixture 10... \n"
     ]
    },
    {
     "name": "stdout",
     "output_type": "stream",
     "text": [
      "----------> Creating mixture 11... \n"
     ]
    },
    {
     "name": "stdout",
     "output_type": "stream",
     "text": [
      "----------> Creating mixture 12... \n"
     ]
    },
    {
     "name": "stdout",
     "output_type": "stream",
     "text": [
      "----------> Creating mixture 13... \n"
     ]
    },
    {
     "name": "stdout",
     "output_type": "stream",
     "text": [
      "----------> Creating mixture 14... \n"
     ]
    },
    {
     "name": "stdout",
     "output_type": "stream",
     "text": [
      "----------> Creating mixture 15... \n"
     ]
    },
    {
     "name": "stdout",
     "output_type": "stream",
     "text": [
      "----------> Creating mixture 16... \n"
     ]
    },
    {
     "name": "stdout",
     "output_type": "stream",
     "text": [
      "----------> Creating mixture 17... \n"
     ]
    },
    {
     "name": "stdout",
     "output_type": "stream",
     "text": [
      "----------> Creating mixture 18... \n"
     ]
    },
    {
     "name": "stdout",
     "output_type": "stream",
     "text": [
      "----------> Creating mixture 19... \n"
     ]
    },
    {
     "name": "stdout",
     "output_type": "stream",
     "text": [
      "--> PROPORTION: [0, 0.07792207792207792, 0.06493506493506494, 0.11688311688311688, 0.7402597402597402]\n",
      "----------> Creating mixture 0... \n"
     ]
    },
    {
     "name": "stdout",
     "output_type": "stream",
     "text": [
      "----------> Creating mixture 1... \n"
     ]
    },
    {
     "name": "stdout",
     "output_type": "stream",
     "text": [
      "----------> Creating mixture 2... \n"
     ]
    },
    {
     "name": "stdout",
     "output_type": "stream",
     "text": [
      "----------> Creating mixture 3... \n"
     ]
    },
    {
     "name": "stdout",
     "output_type": "stream",
     "text": [
      "----------> Creating mixture 4... \n"
     ]
    },
    {
     "name": "stdout",
     "output_type": "stream",
     "text": [
      "----------> Creating mixture 5... \n"
     ]
    },
    {
     "name": "stdout",
     "output_type": "stream",
     "text": [
      "----------> Creating mixture 6... \n"
     ]
    },
    {
     "name": "stdout",
     "output_type": "stream",
     "text": [
      "----------> Creating mixture 7... \n"
     ]
    },
    {
     "name": "stdout",
     "output_type": "stream",
     "text": [
      "----------> Creating mixture 8... \n"
     ]
    },
    {
     "name": "stdout",
     "output_type": "stream",
     "text": [
      "----------> Creating mixture 9... \n"
     ]
    },
    {
     "name": "stdout",
     "output_type": "stream",
     "text": [
      "----------> Creating mixture 10... \n"
     ]
    },
    {
     "name": "stdout",
     "output_type": "stream",
     "text": [
      "----------> Creating mixture 11... \n"
     ]
    },
    {
     "name": "stdout",
     "output_type": "stream",
     "text": [
      "----------> Creating mixture 12... \n"
     ]
    },
    {
     "name": "stdout",
     "output_type": "stream",
     "text": [
      "----------> Creating mixture 13... \n"
     ]
    },
    {
     "name": "stdout",
     "output_type": "stream",
     "text": [
      "----------> Creating mixture 14... \n"
     ]
    },
    {
     "name": "stdout",
     "output_type": "stream",
     "text": [
      "----------> Creating mixture 15... \n"
     ]
    },
    {
     "name": "stdout",
     "output_type": "stream",
     "text": [
      "----------> Creating mixture 16... \n"
     ]
    },
    {
     "name": "stdout",
     "output_type": "stream",
     "text": [
      "----------> Creating mixture 17... \n"
     ]
    },
    {
     "name": "stdout",
     "output_type": "stream",
     "text": [
      "----------> Creating mixture 18... \n"
     ]
    },
    {
     "name": "stdout",
     "output_type": "stream",
     "text": [
      "----------> Creating mixture 19... \n"
     ]
    },
    {
     "name": "stdout",
     "output_type": "stream",
     "text": [
      ">>> Complete. <<< \n",
      "\n",
      "CPU times: user 1.63 s, sys: 497 ms, total: 2.13 s\n",
      "Wall time: 28min 19s\n"
     ]
    }
   ],
   "source": [
    "%%time\n",
    "# load parquet files for each celltype & count rows\n",
    "parquet_df, total_reads_per_celltype = cm.load_parquet_dataframe(parquet_path=PARQUET_PATH,\n",
    "                                                                  cell_types=CELLTYPES,\n",
    "                                                                  spark=spark,\n",
    "                                                                  verbose=True)\n",
    "\n",
    "# mix cell types for each proportion set\n",
    "cm.mix_celltypes_multiple_proportions(parquet_df=parquet_df,\n",
    "                                       total_reads_per_celltype=total_reads_per_celltype,\n",
    "                                    #    n=len(TITRATION_LIST), \n",
    "                                       n=N_REPLICATES,\n",
    "                                       cell_types=CELLTYPES, \n",
    "                                       cell_type_abridged_name=ABRIDGED_NAMES, \n",
    "                                       total_reads_to_sample=TOTAL_READS_TO_SAMPLE, \n",
    "                                       list_of_proportions=PROPORTIONS, \n",
    "                                       seed=SEED, \n",
    "                                       result_path=RESULT_PATH, \n",
    "                                       spark=spark,\n",
    "                                       verbose=False, \n",
    "                                       save=True)"
   ]
  },
  {
   "cell_type": "markdown",
   "id": "432f9c12",
   "metadata": {
    "papermill": {
     "duration": 0.029215,
     "end_time": "2023-08-31T22:01:17.015705",
     "exception": false,
     "start_time": "2023-08-31T22:01:16.986490",
     "status": "completed"
    },
    "tags": []
   },
   "source": [
    "## Compute score matrix"
   ]
  },
  {
   "cell_type": "code",
   "execution_count": 9,
   "id": "fe56bb12",
   "metadata": {
    "execution": {
     "iopub.execute_input": "2023-08-31T22:01:17.070162Z",
     "iopub.status.busy": "2023-08-31T22:01:17.069710Z",
     "iopub.status.idle": "2023-08-31T22:01:17.075577Z",
     "shell.execute_reply": "2023-08-31T22:01:17.074853Z"
    },
    "papermill": {
     "duration": 0.036392,
     "end_time": "2023-08-31T22:01:17.077240",
     "exception": false,
     "start_time": "2023-08-31T22:01:17.040848",
     "status": "completed"
    },
    "tags": []
   },
   "outputs": [],
   "source": [
    "############################\n",
    "#   Parameters and paths   # \n",
    "############################\n",
    "\n",
    "FILTER_CG_COUNT = 3\n",
    "FILTER_CG_COUNT_REGION = 1\n",
    "\n",
    "REGIONS = 'deconvolution_v2.v23_conv.with_cpg_index'\n",
    "REGION_BED_COLS = [\n",
    "    'region_chr', 'region_start', 'region_end', \n",
    "    'region_cpg_index_min', 'region_cpg_index_max', 'region_id'\n",
    "]\n",
    "\n",
    "# Regions\n",
    "REGION_PATH = (\n",
    "    PROJECT_DIR + '/stage/panel_data/{regions}.bed'\n",
    ").format(regions=REGIONS)\n",
    "\n",
    "# CpG map; genomic coordinate to CpG index;\n",
    "CPG_MAP_PATH = PROJECT_DIR + '/stage/cpg_loci/cpg_loci_hg19.combined_annot.tsv.gz'\n",
    "\n",
    "#--- Where to store results\n",
    "PATH_TO_MIXTURE_DIR = EXPERIMENT_CELLTYPE_DIR + 'mixture/'\n",
    "RESULT_PATH = EXPERIMENT_CELLTYPE_DIR\n"
   ]
  },
  {
   "cell_type": "code",
   "execution_count": 10,
   "id": "4eb8840f",
   "metadata": {
    "execution": {
     "iopub.execute_input": "2023-08-31T22:01:17.139251Z",
     "iopub.status.busy": "2023-08-31T22:01:17.138786Z",
     "iopub.status.idle": "2023-08-31T22:01:17.143013Z",
     "shell.execute_reply": "2023-08-31T22:01:17.141974Z"
    },
    "papermill": {
     "duration": 0.040013,
     "end_time": "2023-08-31T22:01:17.145218",
     "exception": false,
     "start_time": "2023-08-31T22:01:17.105205",
     "status": "completed"
    },
    "tags": []
   },
   "outputs": [],
   "source": [
    "# cpg_map = pd.read_csv(CPG_MAP_PATH, usecols=['chr', 'start', 'end', 'cpg_index', 'cpg_index_hg38'], sep='\\t')"
   ]
  },
  {
   "cell_type": "code",
   "execution_count": 11,
   "id": "045d7dba",
   "metadata": {
    "execution": {
     "iopub.execute_input": "2023-08-31T22:01:17.203535Z",
     "iopub.status.busy": "2023-08-31T22:01:17.203205Z",
     "iopub.status.idle": "2023-08-31T22:01:17.206590Z",
     "shell.execute_reply": "2023-08-31T22:01:17.205680Z"
    },
    "papermill": {
     "duration": 0.036029,
     "end_time": "2023-08-31T22:01:17.208734",
     "exception": false,
     "start_time": "2023-08-31T22:01:17.172705",
     "status": "completed"
    },
    "tags": []
   },
   "outputs": [],
   "source": [
    "# %%time\n",
    "# ridxs = ~cpg_map['cpg_index_hg38'].isna()\n",
    "# hg19_hg38_map = dict(itertools.zip_longest(cpg_map[ridxs]['cpg_index'], cpg_map[ridxs]['cpg_index_hg38'].astype(int)))\n",
    "# hg38_hg19_map = dict(itertools.zip_longest(cpg_map[ridxs]['cpg_index_hg38'].astype(int), cpg_map[ridxs]['cpg_index']))"
   ]
  },
  {
   "cell_type": "code",
   "execution_count": 12,
   "id": "eab4c6b8",
   "metadata": {
    "execution": {
     "iopub.execute_input": "2023-08-31T22:01:17.268172Z",
     "iopub.status.busy": "2023-08-31T22:01:17.267736Z",
     "iopub.status.idle": "2023-08-31T22:01:17.271480Z",
     "shell.execute_reply": "2023-08-31T22:01:17.270741Z"
    },
    "papermill": {
     "duration": 0.034038,
     "end_time": "2023-08-31T22:01:17.273168",
     "exception": false,
     "start_time": "2023-08-31T22:01:17.239130",
     "status": "completed"
    },
    "tags": []
   },
   "outputs": [],
   "source": [
    "# region_df = pd.read_csv(REGION_PATH, sep='\\t', usecols=range(0, 6), names=REGION_BED_COLS)\n",
    "\n",
    "# region_df['region_cpg_index_max'] -= 1\n",
    "# region_df.sort_values('region_cpg_index_min', inplace=True)\n",
    "# region_df['region_cpg_index_min_hg38'] = region_df['region_cpg_index_min'].map(hg19_hg38_map)\n",
    "# region_df['region_cpg_index_max_hg38'] = region_df['region_cpg_index_max'].map(hg19_hg38_map)\n",
    "\n",
    "# region_df.shape[0], region_df['region_id'].nunique()"
   ]
  },
  {
   "cell_type": "code",
   "execution_count": 13,
   "id": "c6ff5aac",
   "metadata": {
    "execution": {
     "iopub.execute_input": "2023-08-31T22:01:17.320484Z",
     "iopub.status.busy": "2023-08-31T22:01:17.320003Z",
     "iopub.status.idle": "2023-08-31T22:01:17.323426Z",
     "shell.execute_reply": "2023-08-31T22:01:17.322799Z"
    },
    "papermill": {
     "duration": 0.029646,
     "end_time": "2023-08-31T22:01:17.324814",
     "exception": false,
     "start_time": "2023-08-31T22:01:17.295168",
     "status": "completed"
    },
    "tags": []
   },
   "outputs": [],
   "source": [
    "# ridxs = ~region_df['region_cpg_index_min_hg38'].isna()\n",
    "# ridxs &= ~region_df['region_cpg_index_max_hg38'].isna()\n",
    "# region_df = region_df[ridxs].copy()\n",
    "# region_df.shape[0], region_df['region_id'].nunique()"
   ]
  },
  {
   "cell_type": "code",
   "execution_count": 14,
   "id": "4a04eb7b",
   "metadata": {
    "execution": {
     "iopub.execute_input": "2023-08-31T22:01:17.383925Z",
     "iopub.status.busy": "2023-08-31T22:01:17.383516Z",
     "iopub.status.idle": "2023-08-31T22:01:17.387246Z",
     "shell.execute_reply": "2023-08-31T22:01:17.386325Z"
    },
    "papermill": {
     "duration": 0.037486,
     "end_time": "2023-08-31T22:01:17.389383",
     "exception": false,
     "start_time": "2023-08-31T22:01:17.351897",
     "status": "completed"
    },
    "tags": []
   },
   "outputs": [],
   "source": [
    "# cg_count_hg19 = region_df['region_cpg_index_max']-region_df['region_cpg_index_min'] + 1\n",
    "# cg_count_hg38 = region_df['region_cpg_index_max_hg38']-region_df['region_cpg_index_min_hg38'] + 1\n",
    "# ridxs = (cg_count_hg19==cg_count_hg38)\n",
    "# ridxs &= (cg_count_hg19>=FILTER_CG_COUNT_REGION)\n",
    "# region_df = region_df[ridxs].copy()\n",
    "# region_df.shape[0], region_df['region_id'].nunique()"
   ]
  },
  {
   "cell_type": "code",
   "execution_count": 15,
   "id": "b6218874",
   "metadata": {
    "execution": {
     "iopub.execute_input": "2023-08-31T22:01:17.441615Z",
     "iopub.status.busy": "2023-08-31T22:01:17.441299Z",
     "iopub.status.idle": "2023-08-31T22:01:17.444056Z",
     "shell.execute_reply": "2023-08-31T22:01:17.443418Z"
    },
    "papermill": {
     "duration": 0.027248,
     "end_time": "2023-08-31T22:01:17.445616",
     "exception": false,
     "start_time": "2023-08-31T22:01:17.418368",
     "status": "completed"
    },
    "tags": []
   },
   "outputs": [],
   "source": [
    "# region_df['region_cpg_index_min_hg38'] = region_df['region_cpg_index_min_hg38'].astype(int)\n",
    "# region_df['region_cpg_index_max_hg38'] = region_df['region_cpg_index_max_hg38'].astype(int)"
   ]
  },
  {
   "cell_type": "code",
   "execution_count": 16,
   "id": "2bf743ba",
   "metadata": {
    "execution": {
     "iopub.execute_input": "2023-08-31T22:01:17.499826Z",
     "iopub.status.busy": "2023-08-31T22:01:17.499368Z",
     "iopub.status.idle": "2023-08-31T22:01:17.503090Z",
     "shell.execute_reply": "2023-08-31T22:01:17.502245Z"
    },
    "papermill": {
     "duration": 0.030771,
     "end_time": "2023-08-31T22:01:17.504964",
     "exception": false,
     "start_time": "2023-08-31T22:01:17.474193",
     "status": "completed"
    },
    "tags": []
   },
   "outputs": [],
   "source": [
    "# ### Restrict to immune regions\n",
    "# #-------------- CHANGE HERE FOR DIFFERENT REGION SUBSET ----------------------\n",
    "# # BLUEPRINT immune regions\n",
    "# ATLAS_PATH = PROJECT_DIR + f'/output/reference/deconv_inhouse_v2.atlas.tsv.gz'\n",
    "# atlas = pd.read_csv(ATLAS_PATH, sep='\\t')\n",
    "# subset_region_set = set(atlas.region_id)\n",
    "# #-----------------------------------------------------------------------------\n",
    "\n",
    "# # filter regions down to regions of interest\n",
    "# region_df = region_df[region_df['region_id'].isin(subset_region_set)]\n",
    "# region_df.head()"
   ]
  },
  {
   "cell_type": "code",
   "execution_count": 17,
   "id": "ccf13d58",
   "metadata": {
    "execution": {
     "iopub.execute_input": "2023-08-31T22:01:17.565255Z",
     "iopub.status.busy": "2023-08-31T22:01:17.564821Z",
     "iopub.status.idle": "2023-08-31T23:04:12.235240Z",
     "shell.execute_reply": "2023-08-31T23:04:12.234182Z"
    },
    "papermill": {
     "duration": 3774.707334,
     "end_time": "2023-08-31T23:04:12.237820",
     "exception": false,
     "start_time": "2023-08-31T22:01:17.530486",
     "status": "completed"
    },
    "tags": []
   },
   "outputs": [
    {
     "name": "stdout",
     "output_type": "stream",
     "text": [
      ">>> Start computing score matrices <<< \n",
      "\n",
      "--> E2T_E0623B_E0519NK_E0935MONO_E5922NEUTRO\n",
      "--------> Computing score matrix for mix0_seed470800\n"
     ]
    },
    {
     "name": "stdout",
     "output_type": "stream",
     "text": [
      "--------> Computing score matrix for mix1_seed966852\n"
     ]
    },
    {
     "name": "stdout",
     "output_type": "stream",
     "text": [
      "--------> Computing score matrix for mix2_seed995826\n"
     ]
    },
    {
     "name": "stdout",
     "output_type": "stream",
     "text": [
      "--------> Computing score matrix for mix3_seed796153\n"
     ]
    },
    {
     "name": "stdout",
     "output_type": "stream",
     "text": [
      "--------> Computing score matrix for mix4_seed344757\n"
     ]
    },
    {
     "name": "stdout",
     "output_type": "stream",
     "text": [
      "--------> Computing score matrix for mix5_seed911735\n"
     ]
    },
    {
     "name": "stdout",
     "output_type": "stream",
     "text": [
      "--------> Computing score matrix for mix6_seed760126\n"
     ]
    },
    {
     "name": "stdout",
     "output_type": "stream",
     "text": [
      "--------> Computing score matrix for mix7_seed746477\n"
     ]
    },
    {
     "name": "stdout",
     "output_type": "stream",
     "text": [
      "--------> Computing score matrix for mix8_seed823635\n"
     ]
    },
    {
     "name": "stdout",
     "output_type": "stream",
     "text": [
      "--------> Computing score matrix for mix9_seed913498\n"
     ]
    },
    {
     "name": "stdout",
     "output_type": "stream",
     "text": [
      "--------> Computing score matrix for mix10_seed904203\n"
     ]
    },
    {
     "name": "stdout",
     "output_type": "stream",
     "text": [
      "--------> Computing score matrix for mix11_seed52304\n"
     ]
    },
    {
     "name": "stdout",
     "output_type": "stream",
     "text": [
      "--------> Computing score matrix for mix12_seed837207\n"
     ]
    },
    {
     "name": "stdout",
     "output_type": "stream",
     "text": [
      "--------> Computing score matrix for mix13_seed762180\n"
     ]
    },
    {
     "name": "stdout",
     "output_type": "stream",
     "text": [
      "--------> Computing score matrix for mix14_seed4427\n"
     ]
    },
    {
     "name": "stdout",
     "output_type": "stream",
     "text": [
      "--------> Computing score matrix for mix15_seed816021\n"
     ]
    },
    {
     "name": "stdout",
     "output_type": "stream",
     "text": [
      "--------> Computing score matrix for mix16_seed859354\n"
     ]
    },
    {
     "name": "stdout",
     "output_type": "stream",
     "text": [
      "--------> Computing score matrix for mix17_seed263244\n"
     ]
    },
    {
     "name": "stdout",
     "output_type": "stream",
     "text": [
      "--------> Computing score matrix for mix18_seed965215\n"
     ]
    },
    {
     "name": "stdout",
     "output_type": "stream",
     "text": [
      "--------> Computing score matrix for mix19_seed454336\n"
     ]
    },
    {
     "name": "stdout",
     "output_type": "stream",
     "text": [
      "\n",
      "\n",
      "--> E15T_E0662B_E0552NK_E0994MONO_E6292NEUTRO\n",
      "--------> Computing score matrix for mix0_seed327469\n"
     ]
    },
    {
     "name": "stdout",
     "output_type": "stream",
     "text": [
      "--------> Computing score matrix for mix1_seed942713\n"
     ]
    },
    {
     "name": "stdout",
     "output_type": "stream",
     "text": [
      "--------> Computing score matrix for mix2_seed899730\n"
     ]
    },
    {
     "name": "stdout",
     "output_type": "stream",
     "text": [
      "--------> Computing score matrix for mix3_seed115834\n"
     ]
    },
    {
     "name": "stdout",
     "output_type": "stream",
     "text": [
      "--------> Computing score matrix for mix4_seed885610\n"
     ]
    },
    {
     "name": "stdout",
     "output_type": "stream",
     "text": [
      "--------> Computing score matrix for mix5_seed381195\n"
     ]
    },
    {
     "name": "stdout",
     "output_type": "stream",
     "text": [
      "--------> Computing score matrix for mix6_seed573121\n"
     ]
    },
    {
     "name": "stdout",
     "output_type": "stream",
     "text": [
      "--------> Computing score matrix for mix7_seed340732\n"
     ]
    },
    {
     "name": "stdout",
     "output_type": "stream",
     "text": [
      "--------> Computing score matrix for mix8_seed323110\n"
     ]
    },
    {
     "name": "stdout",
     "output_type": "stream",
     "text": [
      "--------> Computing score matrix for mix9_seed40411\n"
     ]
    },
    {
     "name": "stdout",
     "output_type": "stream",
     "text": [
      "--------> Computing score matrix for mix10_seed290884\n"
     ]
    },
    {
     "name": "stdout",
     "output_type": "stream",
     "text": [
      "--------> Computing score matrix for mix11_seed54615\n"
     ]
    },
    {
     "name": "stdout",
     "output_type": "stream",
     "text": [
      "--------> Computing score matrix for mix12_seed229926\n"
     ]
    },
    {
     "name": "stdout",
     "output_type": "stream",
     "text": [
      "--------> Computing score matrix for mix13_seed414827\n"
     ]
    },
    {
     "name": "stdout",
     "output_type": "stream",
     "text": [
      "--------> Computing score matrix for mix14_seed424406\n"
     ]
    },
    {
     "name": "stdout",
     "output_type": "stream",
     "text": [
      "--------> Computing score matrix for mix15_seed392389\n"
     ]
    },
    {
     "name": "stdout",
     "output_type": "stream",
     "text": [
      "--------> Computing score matrix for mix16_seed757798\n"
     ]
    },
    {
     "name": "stdout",
     "output_type": "stream",
     "text": [
      "--------> Computing score matrix for mix17_seed600928\n"
     ]
    },
    {
     "name": "stdout",
     "output_type": "stream",
     "text": [
      "--------> Computing score matrix for mix18_seed44327\n"
     ]
    },
    {
     "name": "stdout",
     "output_type": "stream",
     "text": [
      "--------> Computing score matrix for mix19_seed42805\n"
     ]
    },
    {
     "name": "stdout",
     "output_type": "stream",
     "text": [
      "\n",
      "\n",
      "--> E1T_E0701B_E0584NK_E1052MONO_E6662NEUTRO\n",
      "--------> Computing score matrix for mix0_seed997493\n"
     ]
    },
    {
     "name": "stdout",
     "output_type": "stream",
     "text": [
      "--------> Computing score matrix for mix1_seed479596\n"
     ]
    },
    {
     "name": "stdout",
     "output_type": "stream",
     "text": [
      "--------> Computing score matrix for mix2_seed228823\n"
     ]
    },
    {
     "name": "stdout",
     "output_type": "stream",
     "text": [
      "--------> Computing score matrix for mix3_seed971831\n"
     ]
    },
    {
     "name": "stdout",
     "output_type": "stream",
     "text": [
      "--------> Computing score matrix for mix4_seed289341\n"
     ]
    },
    {
     "name": "stdout",
     "output_type": "stream",
     "text": [
      "--------> Computing score matrix for mix5_seed142973\n"
     ]
    },
    {
     "name": "stdout",
     "output_type": "stream",
     "text": [
      "--------> Computing score matrix for mix6_seed823233\n"
     ]
    },
    {
     "name": "stdout",
     "output_type": "stream",
     "text": [
      "--------> Computing score matrix for mix7_seed365790\n"
     ]
    },
    {
     "name": "stdout",
     "output_type": "stream",
     "text": [
      "--------> Computing score matrix for mix8_seed816729\n"
     ]
    },
    {
     "name": "stdout",
     "output_type": "stream",
     "text": [
      "--------> Computing score matrix for mix9_seed203631\n"
     ]
    },
    {
     "name": "stdout",
     "output_type": "stream",
     "text": [
      "--------> Computing score matrix for mix10_seed36380\n"
     ]
    },
    {
     "name": "stdout",
     "output_type": "stream",
     "text": [
      "--------> Computing score matrix for mix11_seed783406\n"
     ]
    },
    {
     "name": "stdout",
     "output_type": "stream",
     "text": [
      "--------> Computing score matrix for mix12_seed994708\n"
     ]
    },
    {
     "name": "stdout",
     "output_type": "stream",
     "text": [
      "--------> Computing score matrix for mix13_seed60323\n"
     ]
    },
    {
     "name": "stdout",
     "output_type": "stream",
     "text": [
      "--------> Computing score matrix for mix14_seed241588\n"
     ]
    },
    {
     "name": "stdout",
     "output_type": "stream",
     "text": [
      "--------> Computing score matrix for mix15_seed303026\n"
     ]
    },
    {
     "name": "stdout",
     "output_type": "stream",
     "text": [
      "--------> Computing score matrix for mix16_seed696098\n"
     ]
    },
    {
     "name": "stdout",
     "output_type": "stream",
     "text": [
      "--------> Computing score matrix for mix17_seed358335\n"
     ]
    },
    {
     "name": "stdout",
     "output_type": "stream",
     "text": [
      "--------> Computing score matrix for mix18_seed573110\n"
     ]
    },
    {
     "name": "stdout",
     "output_type": "stream",
     "text": [
      "--------> Computing score matrix for mix19_seed388752\n"
     ]
    },
    {
     "name": "stdout",
     "output_type": "stream",
     "text": [
      "\n",
      "\n",
      "--> E08T_E0717B_E0597NK_E1075MONO_E681NEUTRO\n",
      "--------> Computing score matrix for mix0_seed179747\n"
     ]
    },
    {
     "name": "stdout",
     "output_type": "stream",
     "text": [
      "--------> Computing score matrix for mix1_seed539546\n"
     ]
    },
    {
     "name": "stdout",
     "output_type": "stream",
     "text": [
      "--------> Computing score matrix for mix2_seed950413\n"
     ]
    },
    {
     "name": "stdout",
     "output_type": "stream",
     "text": [
      "--------> Computing score matrix for mix3_seed202997\n"
     ]
    },
    {
     "name": "stdout",
     "output_type": "stream",
     "text": [
      "--------> Computing score matrix for mix4_seed411889\n"
     ]
    },
    {
     "name": "stdout",
     "output_type": "stream",
     "text": [
      "--------> Computing score matrix for mix5_seed607876\n"
     ]
    },
    {
     "name": "stdout",
     "output_type": "stream",
     "text": [
      "--------> Computing score matrix for mix6_seed330186\n"
     ]
    },
    {
     "name": "stdout",
     "output_type": "stream",
     "text": [
      "--------> Computing score matrix for mix7_seed222930\n"
     ]
    },
    {
     "name": "stdout",
     "output_type": "stream",
     "text": [
      "--------> Computing score matrix for mix8_seed628990\n"
     ]
    },
    {
     "name": "stdout",
     "output_type": "stream",
     "text": [
      "--------> Computing score matrix for mix9_seed519025\n"
     ]
    },
    {
     "name": "stdout",
     "output_type": "stream",
     "text": [
      "--------> Computing score matrix for mix10_seed776683\n"
     ]
    },
    {
     "name": "stdout",
     "output_type": "stream",
     "text": [
      "--------> Computing score matrix for mix11_seed710508\n"
     ]
    },
    {
     "name": "stdout",
     "output_type": "stream",
     "text": [
      "--------> Computing score matrix for mix12_seed897517\n"
     ]
    },
    {
     "name": "stdout",
     "output_type": "stream",
     "text": [
      "--------> Computing score matrix for mix13_seed949716\n"
     ]
    },
    {
     "name": "stdout",
     "output_type": "stream",
     "text": [
      "--------> Computing score matrix for mix14_seed515738\n"
     ]
    },
    {
     "name": "stdout",
     "output_type": "stream",
     "text": [
      "--------> Computing score matrix for mix15_seed759815\n"
     ]
    },
    {
     "name": "stdout",
     "output_type": "stream",
     "text": [
      "--------> Computing score matrix for mix16_seed965445\n"
     ]
    },
    {
     "name": "stdout",
     "output_type": "stream",
     "text": [
      "--------> Computing score matrix for mix17_seed295822\n"
     ]
    },
    {
     "name": "stdout",
     "output_type": "stream",
     "text": [
      "--------> Computing score matrix for mix18_seed225164\n"
     ]
    },
    {
     "name": "stdout",
     "output_type": "stream",
     "text": [
      "--------> Computing score matrix for mix19_seed232894\n"
     ]
    },
    {
     "name": "stdout",
     "output_type": "stream",
     "text": [
      "\n",
      "\n",
      "--> E06T_E0732B_E061NK_E1099MONO_E6958NEUTRO\n",
      "--------> Computing score matrix for mix0_seed394807\n"
     ]
    },
    {
     "name": "stdout",
     "output_type": "stream",
     "text": [
      "--------> Computing score matrix for mix1_seed91698\n"
     ]
    },
    {
     "name": "stdout",
     "output_type": "stream",
     "text": [
      "--------> Computing score matrix for mix2_seed259385\n"
     ]
    },
    {
     "name": "stdout",
     "output_type": "stream",
     "text": [
      "--------> Computing score matrix for mix3_seed512999\n"
     ]
    },
    {
     "name": "stdout",
     "output_type": "stream",
     "text": [
      "--------> Computing score matrix for mix4_seed129635\n"
     ]
    },
    {
     "name": "stdout",
     "output_type": "stream",
     "text": [
      "--------> Computing score matrix for mix5_seed350607\n"
     ]
    },
    {
     "name": "stdout",
     "output_type": "stream",
     "text": [
      "--------> Computing score matrix for mix6_seed684378\n"
     ]
    },
    {
     "name": "stdout",
     "output_type": "stream",
     "text": [
      "--------> Computing score matrix for mix7_seed8190\n"
     ]
    },
    {
     "name": "stdout",
     "output_type": "stream",
     "text": [
      "--------> Computing score matrix for mix8_seed779725\n"
     ]
    },
    {
     "name": "stdout",
     "output_type": "stream",
     "text": [
      "--------> Computing score matrix for mix9_seed415085\n"
     ]
    },
    {
     "name": "stdout",
     "output_type": "stream",
     "text": [
      "--------> Computing score matrix for mix10_seed444818\n"
     ]
    },
    {
     "name": "stdout",
     "output_type": "stream",
     "text": [
      "--------> Computing score matrix for mix11_seed199195\n"
     ]
    },
    {
     "name": "stdout",
     "output_type": "stream",
     "text": [
      "--------> Computing score matrix for mix12_seed918219\n"
     ]
    },
    {
     "name": "stdout",
     "output_type": "stream",
     "text": [
      "--------> Computing score matrix for mix13_seed510736\n"
     ]
    },
    {
     "name": "stdout",
     "output_type": "stream",
     "text": [
      "--------> Computing score matrix for mix14_seed500261\n"
     ]
    },
    {
     "name": "stdout",
     "output_type": "stream",
     "text": [
      "--------> Computing score matrix for mix15_seed956732\n"
     ]
    },
    {
     "name": "stdout",
     "output_type": "stream",
     "text": [
      "--------> Computing score matrix for mix16_seed921572\n"
     ]
    },
    {
     "name": "stdout",
     "output_type": "stream",
     "text": [
      "--------> Computing score matrix for mix17_seed937247\n"
     ]
    },
    {
     "name": "stdout",
     "output_type": "stream",
     "text": [
      "--------> Computing score matrix for mix18_seed110110\n"
     ]
    },
    {
     "name": "stdout",
     "output_type": "stream",
     "text": [
      "--------> Computing score matrix for mix19_seed564768\n"
     ]
    },
    {
     "name": "stdout",
     "output_type": "stream",
     "text": [
      "\n",
      "\n",
      "--> E04T_E0748B_E0623NK_E1122MONO_E7106NEUTRO\n",
      "--------> Computing score matrix for mix0_seed778556\n"
     ]
    },
    {
     "name": "stdout",
     "output_type": "stream",
     "text": [
      "--------> Computing score matrix for mix1_seed119019\n"
     ]
    },
    {
     "name": "stdout",
     "output_type": "stream",
     "text": [
      "--------> Computing score matrix for mix2_seed810366\n"
     ]
    },
    {
     "name": "stdout",
     "output_type": "stream",
     "text": [
      "--------> Computing score matrix for mix3_seed869675\n"
     ]
    },
    {
     "name": "stdout",
     "output_type": "stream",
     "text": [
      "--------> Computing score matrix for mix4_seed408609\n"
     ]
    },
    {
     "name": "stdout",
     "output_type": "stream",
     "text": [
      "--------> Computing score matrix for mix5_seed759534\n"
     ]
    },
    {
     "name": "stdout",
     "output_type": "stream",
     "text": [
      "--------> Computing score matrix for mix6_seed139682\n"
     ]
    },
    {
     "name": "stdout",
     "output_type": "stream",
     "text": [
      "--------> Computing score matrix for mix7_seed362934\n"
     ]
    },
    {
     "name": "stdout",
     "output_type": "stream",
     "text": [
      "--------> Computing score matrix for mix8_seed349169\n"
     ]
    },
    {
     "name": "stdout",
     "output_type": "stream",
     "text": [
      "--------> Computing score matrix for mix9_seed357510\n"
     ]
    },
    {
     "name": "stdout",
     "output_type": "stream",
     "text": [
      "--------> Computing score matrix for mix10_seed67133\n"
     ]
    },
    {
     "name": "stdout",
     "output_type": "stream",
     "text": [
      "--------> Computing score matrix for mix11_seed500109\n"
     ]
    },
    {
     "name": "stdout",
     "output_type": "stream",
     "text": [
      "--------> Computing score matrix for mix12_seed837330\n"
     ]
    },
    {
     "name": "stdout",
     "output_type": "stream",
     "text": [
      "--------> Computing score matrix for mix13_seed972082\n"
     ]
    },
    {
     "name": "stdout",
     "output_type": "stream",
     "text": [
      "--------> Computing score matrix for mix14_seed636923\n"
     ]
    },
    {
     "name": "stdout",
     "output_type": "stream",
     "text": [
      "--------> Computing score matrix for mix15_seed873445\n"
     ]
    },
    {
     "name": "stdout",
     "output_type": "stream",
     "text": [
      "--------> Computing score matrix for mix16_seed313816\n"
     ]
    },
    {
     "name": "stdout",
     "output_type": "stream",
     "text": [
      "--------> Computing score matrix for mix17_seed608328\n"
     ]
    },
    {
     "name": "stdout",
     "output_type": "stream",
     "text": [
      "--------> Computing score matrix for mix18_seed58802\n"
     ]
    },
    {
     "name": "stdout",
     "output_type": "stream",
     "text": [
      "--------> Computing score matrix for mix19_seed782912\n"
     ]
    },
    {
     "name": "stdout",
     "output_type": "stream",
     "text": [
      "\n",
      "\n",
      "--> E02T_E0764B_E0636NK_E1145MONO_E7255NEUTRO\n",
      "--------> Computing score matrix for mix0_seed933600\n"
     ]
    },
    {
     "name": "stdout",
     "output_type": "stream",
     "text": [
      "--------> Computing score matrix for mix1_seed428927\n"
     ]
    },
    {
     "name": "stdout",
     "output_type": "stream",
     "text": [
      "--------> Computing score matrix for mix2_seed814759\n"
     ]
    },
    {
     "name": "stdout",
     "output_type": "stream",
     "text": [
      "--------> Computing score matrix for mix3_seed819227\n"
     ]
    },
    {
     "name": "stdout",
     "output_type": "stream",
     "text": [
      "--------> Computing score matrix for mix4_seed270332\n"
     ]
    },
    {
     "name": "stdout",
     "output_type": "stream",
     "text": [
      "--------> Computing score matrix for mix5_seed222732\n"
     ]
    },
    {
     "name": "stdout",
     "output_type": "stream",
     "text": [
      "--------> Computing score matrix for mix6_seed306825\n"
     ]
    },
    {
     "name": "stdout",
     "output_type": "stream",
     "text": [
      "--------> Computing score matrix for mix7_seed950787\n"
     ]
    },
    {
     "name": "stdout",
     "output_type": "stream",
     "text": [
      "--------> Computing score matrix for mix8_seed496575\n"
     ]
    },
    {
     "name": "stdout",
     "output_type": "stream",
     "text": [
      "--------> Computing score matrix for mix9_seed590288\n"
     ]
    },
    {
     "name": "stdout",
     "output_type": "stream",
     "text": [
      "--------> Computing score matrix for mix10_seed827096\n"
     ]
    },
    {
     "name": "stdout",
     "output_type": "stream",
     "text": [
      "--------> Computing score matrix for mix11_seed896360\n"
     ]
    },
    {
     "name": "stdout",
     "output_type": "stream",
     "text": [
      "--------> Computing score matrix for mix12_seed358536\n"
     ]
    },
    {
     "name": "stdout",
     "output_type": "stream",
     "text": [
      "--------> Computing score matrix for mix13_seed709589\n"
     ]
    },
    {
     "name": "stdout",
     "output_type": "stream",
     "text": [
      "--------> Computing score matrix for mix14_seed441282\n"
     ]
    },
    {
     "name": "stdout",
     "output_type": "stream",
     "text": [
      "--------> Computing score matrix for mix15_seed166028\n"
     ]
    },
    {
     "name": "stdout",
     "output_type": "stream",
     "text": [
      "--------> Computing score matrix for mix16_seed418991\n"
     ]
    },
    {
     "name": "stdout",
     "output_type": "stream",
     "text": [
      "--------> Computing score matrix for mix17_seed669616\n"
     ]
    },
    {
     "name": "stdout",
     "output_type": "stream",
     "text": [
      "--------> Computing score matrix for mix18_seed237520\n"
     ]
    },
    {
     "name": "stdout",
     "output_type": "stream",
     "text": [
      "--------> Computing score matrix for mix19_seed351999\n"
     ]
    },
    {
     "name": "stdout",
     "output_type": "stream",
     "text": [
      "\n",
      "\n",
      "--> E01T_E0771B_E0643NK_E1157MONO_E7329NEUTRO\n",
      "--------> Computing score matrix for mix0_seed132847\n"
     ]
    },
    {
     "name": "stdout",
     "output_type": "stream",
     "text": [
      "--------> Computing score matrix for mix1_seed126869\n"
     ]
    },
    {
     "name": "stdout",
     "output_type": "stream",
     "text": [
      "--------> Computing score matrix for mix2_seed504808\n"
     ]
    },
    {
     "name": "stdout",
     "output_type": "stream",
     "text": [
      "--------> Computing score matrix for mix3_seed62714\n"
     ]
    },
    {
     "name": "stdout",
     "output_type": "stream",
     "text": [
      "--------> Computing score matrix for mix4_seed709570\n"
     ]
    },
    {
     "name": "stdout",
     "output_type": "stream",
     "text": [
      "--------> Computing score matrix for mix5_seed648025\n"
     ]
    },
    {
     "name": "stdout",
     "output_type": "stream",
     "text": [
      "--------> Computing score matrix for mix6_seed57003\n"
     ]
    },
    {
     "name": "stdout",
     "output_type": "stream",
     "text": [
      "--------> Computing score matrix for mix7_seed922333\n"
     ]
    },
    {
     "name": "stdout",
     "output_type": "stream",
     "text": [
      "--------> Computing score matrix for mix8_seed732575\n"
     ]
    },
    {
     "name": "stdout",
     "output_type": "stream",
     "text": [
      "--------> Computing score matrix for mix9_seed604723\n"
     ]
    },
    {
     "name": "stdout",
     "output_type": "stream",
     "text": [
      "--------> Computing score matrix for mix10_seed886210\n"
     ]
    },
    {
     "name": "stdout",
     "output_type": "stream",
     "text": [
      "--------> Computing score matrix for mix11_seed288402\n"
     ]
    },
    {
     "name": "stdout",
     "output_type": "stream",
     "text": [
      "--------> Computing score matrix for mix12_seed226581\n"
     ]
    },
    {
     "name": "stdout",
     "output_type": "stream",
     "text": [
      "--------> Computing score matrix for mix13_seed203188\n"
     ]
    },
    {
     "name": "stdout",
     "output_type": "stream",
     "text": [
      "--------> Computing score matrix for mix14_seed253052\n"
     ]
    },
    {
     "name": "stdout",
     "output_type": "stream",
     "text": [
      "--------> Computing score matrix for mix15_seed8805\n"
     ]
    },
    {
     "name": "stdout",
     "output_type": "stream",
     "text": [
      "--------> Computing score matrix for mix16_seed585491\n"
     ]
    },
    {
     "name": "stdout",
     "output_type": "stream",
     "text": [
      "--------> Computing score matrix for mix17_seed754192\n"
     ]
    },
    {
     "name": "stdout",
     "output_type": "stream",
     "text": [
      "--------> Computing score matrix for mix18_seed43717\n"
     ]
    },
    {
     "name": "stdout",
     "output_type": "stream",
     "text": [
      "--------> Computing score matrix for mix19_seed946289\n"
     ]
    },
    {
     "name": "stdout",
     "output_type": "stream",
     "text": [
      "\n",
      "\n",
      "--> E008T_E0773B_E0644NK_E1159MONO_E7343NEUTRO\n",
      "--------> Computing score matrix for mix0_seed730472\n"
     ]
    },
    {
     "name": "stdout",
     "output_type": "stream",
     "text": [
      "--------> Computing score matrix for mix1_seed799085\n"
     ]
    },
    {
     "name": "stdout",
     "output_type": "stream",
     "text": [
      "--------> Computing score matrix for mix2_seed824908\n"
     ]
    },
    {
     "name": "stdout",
     "output_type": "stream",
     "text": [
      "--------> Computing score matrix for mix3_seed35356\n"
     ]
    },
    {
     "name": "stdout",
     "output_type": "stream",
     "text": [
      "--------> Computing score matrix for mix4_seed446376\n"
     ]
    },
    {
     "name": "stdout",
     "output_type": "stream",
     "text": [
      "--------> Computing score matrix for mix5_seed855752\n"
     ]
    },
    {
     "name": "stdout",
     "output_type": "stream",
     "text": [
      "--------> Computing score matrix for mix6_seed977176\n"
     ]
    },
    {
     "name": "stdout",
     "output_type": "stream",
     "text": [
      "--------> Computing score matrix for mix7_seed957129\n"
     ]
    },
    {
     "name": "stdout",
     "output_type": "stream",
     "text": [
      "--------> Computing score matrix for mix8_seed870459\n"
     ]
    },
    {
     "name": "stdout",
     "output_type": "stream",
     "text": [
      "--------> Computing score matrix for mix9_seed169567\n"
     ]
    },
    {
     "name": "stdout",
     "output_type": "stream",
     "text": [
      "--------> Computing score matrix for mix10_seed349005\n"
     ]
    },
    {
     "name": "stdout",
     "output_type": "stream",
     "text": [
      "--------> Computing score matrix for mix11_seed345138\n"
     ]
    },
    {
     "name": "stdout",
     "output_type": "stream",
     "text": [
      "--------> Computing score matrix for mix12_seed18159\n"
     ]
    },
    {
     "name": "stdout",
     "output_type": "stream",
     "text": [
      "--------> Computing score matrix for mix13_seed649160\n"
     ]
    },
    {
     "name": "stdout",
     "output_type": "stream",
     "text": [
      "--------> Computing score matrix for mix14_seed397897\n"
     ]
    },
    {
     "name": "stdout",
     "output_type": "stream",
     "text": [
      "--------> Computing score matrix for mix15_seed51768\n"
     ]
    },
    {
     "name": "stdout",
     "output_type": "stream",
     "text": [
      "--------> Computing score matrix for mix16_seed652330\n"
     ]
    },
    {
     "name": "stdout",
     "output_type": "stream",
     "text": [
      "--------> Computing score matrix for mix17_seed309227\n"
     ]
    },
    {
     "name": "stdout",
     "output_type": "stream",
     "text": [
      "--------> Computing score matrix for mix18_seed866176\n"
     ]
    },
    {
     "name": "stdout",
     "output_type": "stream",
     "text": [
      "--------> Computing score matrix for mix19_seed62078\n"
     ]
    },
    {
     "name": "stdout",
     "output_type": "stream",
     "text": [
      "\n",
      "\n",
      "--> E006T_E0775B_E0645NK_E1162MONO_E7358NEUTRO\n",
      "--------> Computing score matrix for mix0_seed79780\n"
     ]
    },
    {
     "name": "stdout",
     "output_type": "stream",
     "text": [
      "--------> Computing score matrix for mix1_seed464872\n"
     ]
    },
    {
     "name": "stdout",
     "output_type": "stream",
     "text": [
      "--------> Computing score matrix for mix2_seed620943\n"
     ]
    },
    {
     "name": "stdout",
     "output_type": "stream",
     "text": [
      "--------> Computing score matrix for mix3_seed100571\n"
     ]
    },
    {
     "name": "stdout",
     "output_type": "stream",
     "text": [
      "--------> Computing score matrix for mix4_seed561928\n"
     ]
    },
    {
     "name": "stdout",
     "output_type": "stream",
     "text": [
      "--------> Computing score matrix for mix5_seed475921\n"
     ]
    },
    {
     "name": "stdout",
     "output_type": "stream",
     "text": [
      "--------> Computing score matrix for mix6_seed472947\n"
     ]
    },
    {
     "name": "stdout",
     "output_type": "stream",
     "text": [
      "--------> Computing score matrix for mix7_seed165049\n"
     ]
    },
    {
     "name": "stdout",
     "output_type": "stream",
     "text": [
      "--------> Computing score matrix for mix8_seed180339\n"
     ]
    },
    {
     "name": "stdout",
     "output_type": "stream",
     "text": [
      "--------> Computing score matrix for mix9_seed980836\n"
     ]
    },
    {
     "name": "stdout",
     "output_type": "stream",
     "text": [
      "--------> Computing score matrix for mix10_seed279683\n"
     ]
    },
    {
     "name": "stdout",
     "output_type": "stream",
     "text": [
      "--------> Computing score matrix for mix11_seed270246\n"
     ]
    },
    {
     "name": "stdout",
     "output_type": "stream",
     "text": [
      "--------> Computing score matrix for mix12_seed915111\n"
     ]
    },
    {
     "name": "stdout",
     "output_type": "stream",
     "text": [
      "--------> Computing score matrix for mix13_seed125829\n"
     ]
    },
    {
     "name": "stdout",
     "output_type": "stream",
     "text": [
      "--------> Computing score matrix for mix14_seed898630\n"
     ]
    },
    {
     "name": "stdout",
     "output_type": "stream",
     "text": [
      "--------> Computing score matrix for mix15_seed998298\n"
     ]
    },
    {
     "name": "stdout",
     "output_type": "stream",
     "text": [
      "--------> Computing score matrix for mix16_seed980322\n"
     ]
    },
    {
     "name": "stdout",
     "output_type": "stream",
     "text": [
      "--------> Computing score matrix for mix17_seed844121\n"
     ]
    },
    {
     "name": "stdout",
     "output_type": "stream",
     "text": [
      "--------> Computing score matrix for mix18_seed47421\n"
     ]
    },
    {
     "name": "stdout",
     "output_type": "stream",
     "text": [
      "--------> Computing score matrix for mix19_seed532266\n"
     ]
    },
    {
     "name": "stdout",
     "output_type": "stream",
     "text": [
      "\n",
      "\n",
      "--> E004T_E0776B_E0647NK_E1164MONO_E7373NEUTRO\n",
      "--------> Computing score matrix for mix0_seed641231\n"
     ]
    },
    {
     "name": "stdout",
     "output_type": "stream",
     "text": [
      "--------> Computing score matrix for mix1_seed747508\n"
     ]
    },
    {
     "name": "stdout",
     "output_type": "stream",
     "text": [
      "--------> Computing score matrix for mix2_seed118499\n"
     ]
    },
    {
     "name": "stdout",
     "output_type": "stream",
     "text": [
      "--------> Computing score matrix for mix3_seed88247\n"
     ]
    },
    {
     "name": "stdout",
     "output_type": "stream",
     "text": [
      "--------> Computing score matrix for mix4_seed623111\n"
     ]
    },
    {
     "name": "stdout",
     "output_type": "stream",
     "text": [
      "--------> Computing score matrix for mix5_seed534084\n"
     ]
    },
    {
     "name": "stdout",
     "output_type": "stream",
     "text": [
      "--------> Computing score matrix for mix6_seed536255\n"
     ]
    },
    {
     "name": "stdout",
     "output_type": "stream",
     "text": [
      "--------> Computing score matrix for mix7_seed20968\n"
     ]
    },
    {
     "name": "stdout",
     "output_type": "stream",
     "text": [
      "--------> Computing score matrix for mix8_seed506323\n"
     ]
    },
    {
     "name": "stdout",
     "output_type": "stream",
     "text": [
      "--------> Computing score matrix for mix9_seed965956\n"
     ]
    },
    {
     "name": "stdout",
     "output_type": "stream",
     "text": [
      "--------> Computing score matrix for mix10_seed174811\n"
     ]
    },
    {
     "name": "stdout",
     "output_type": "stream",
     "text": [
      "--------> Computing score matrix for mix11_seed680928\n"
     ]
    },
    {
     "name": "stdout",
     "output_type": "stream",
     "text": [
      "--------> Computing score matrix for mix12_seed346965\n"
     ]
    },
    {
     "name": "stdout",
     "output_type": "stream",
     "text": [
      "--------> Computing score matrix for mix13_seed293045\n"
     ]
    },
    {
     "name": "stdout",
     "output_type": "stream",
     "text": [
      "--------> Computing score matrix for mix14_seed694779\n"
     ]
    },
    {
     "name": "stdout",
     "output_type": "stream",
     "text": [
      "--------> Computing score matrix for mix15_seed875846\n"
     ]
    },
    {
     "name": "stdout",
     "output_type": "stream",
     "text": [
      "--------> Computing score matrix for mix16_seed250263\n"
     ]
    },
    {
     "name": "stdout",
     "output_type": "stream",
     "text": [
      "--------> Computing score matrix for mix17_seed75184\n"
     ]
    },
    {
     "name": "stdout",
     "output_type": "stream",
     "text": [
      "--------> Computing score matrix for mix18_seed555744\n"
     ]
    },
    {
     "name": "stdout",
     "output_type": "stream",
     "text": [
      "--------> Computing score matrix for mix19_seed662373\n"
     ]
    },
    {
     "name": "stdout",
     "output_type": "stream",
     "text": [
      "\n",
      "\n",
      "--> E002T_E0778B_E0648NK_E1166MONO_E7388NEUTRO\n",
      "--------> Computing score matrix for mix0_seed170425\n"
     ]
    },
    {
     "name": "stdout",
     "output_type": "stream",
     "text": [
      "--------> Computing score matrix for mix1_seed287214\n"
     ]
    },
    {
     "name": "stdout",
     "output_type": "stream",
     "text": [
      "--------> Computing score matrix for mix2_seed127448\n"
     ]
    },
    {
     "name": "stdout",
     "output_type": "stream",
     "text": [
      "--------> Computing score matrix for mix3_seed519752\n"
     ]
    },
    {
     "name": "stdout",
     "output_type": "stream",
     "text": [
      "--------> Computing score matrix for mix4_seed891717\n"
     ]
    },
    {
     "name": "stdout",
     "output_type": "stream",
     "text": [
      "--------> Computing score matrix for mix5_seed809809\n"
     ]
    },
    {
     "name": "stdout",
     "output_type": "stream",
     "text": [
      "--------> Computing score matrix for mix6_seed654894\n"
     ]
    },
    {
     "name": "stdout",
     "output_type": "stream",
     "text": [
      "--------> Computing score matrix for mix7_seed934408\n"
     ]
    },
    {
     "name": "stdout",
     "output_type": "stream",
     "text": [
      "--------> Computing score matrix for mix8_seed690064\n"
     ]
    },
    {
     "name": "stdout",
     "output_type": "stream",
     "text": [
      "--------> Computing score matrix for mix9_seed545577\n"
     ]
    },
    {
     "name": "stdout",
     "output_type": "stream",
     "text": [
      "--------> Computing score matrix for mix10_seed591570\n"
     ]
    },
    {
     "name": "stdout",
     "output_type": "stream",
     "text": [
      "--------> Computing score matrix for mix11_seed186616\n"
     ]
    },
    {
     "name": "stdout",
     "output_type": "stream",
     "text": [
      "--------> Computing score matrix for mix12_seed840210\n"
     ]
    },
    {
     "name": "stdout",
     "output_type": "stream",
     "text": [
      "--------> Computing score matrix for mix13_seed948059\n"
     ]
    },
    {
     "name": "stdout",
     "output_type": "stream",
     "text": [
      "--------> Computing score matrix for mix14_seed139203\n"
     ]
    },
    {
     "name": "stdout",
     "output_type": "stream",
     "text": [
      "--------> Computing score matrix for mix15_seed634896\n"
     ]
    },
    {
     "name": "stdout",
     "output_type": "stream",
     "text": [
      "--------> Computing score matrix for mix16_seed239642\n"
     ]
    },
    {
     "name": "stdout",
     "output_type": "stream",
     "text": [
      "--------> Computing score matrix for mix17_seed88850\n"
     ]
    },
    {
     "name": "stdout",
     "output_type": "stream",
     "text": [
      "--------> Computing score matrix for mix18_seed93528\n"
     ]
    },
    {
     "name": "stdout",
     "output_type": "stream",
     "text": [
      "--------> Computing score matrix for mix19_seed16509\n"
     ]
    },
    {
     "name": "stdout",
     "output_type": "stream",
     "text": [
      "\n",
      "\n",
      "--> E001T_E0778B_E0649NK_E1168MONO_E7395NEUTRO\n",
      "--------> Computing score matrix for mix0_seed284428\n"
     ]
    },
    {
     "name": "stdout",
     "output_type": "stream",
     "text": [
      "--------> Computing score matrix for mix1_seed984362\n"
     ]
    },
    {
     "name": "stdout",
     "output_type": "stream",
     "text": [
      "--------> Computing score matrix for mix2_seed99641\n"
     ]
    },
    {
     "name": "stdout",
     "output_type": "stream",
     "text": [
      "--------> Computing score matrix for mix3_seed33648\n"
     ]
    },
    {
     "name": "stdout",
     "output_type": "stream",
     "text": [
      "--------> Computing score matrix for mix4_seed88744\n"
     ]
    },
    {
     "name": "stdout",
     "output_type": "stream",
     "text": [
      "--------> Computing score matrix for mix5_seed58786\n"
     ]
    },
    {
     "name": "stdout",
     "output_type": "stream",
     "text": [
      "--------> Computing score matrix for mix6_seed314156\n"
     ]
    },
    {
     "name": "stdout",
     "output_type": "stream",
     "text": [
      "--------> Computing score matrix for mix7_seed398555\n"
     ]
    },
    {
     "name": "stdout",
     "output_type": "stream",
     "text": [
      "--------> Computing score matrix for mix8_seed356510\n"
     ]
    },
    {
     "name": "stdout",
     "output_type": "stream",
     "text": [
      "--------> Computing score matrix for mix9_seed779564\n"
     ]
    },
    {
     "name": "stdout",
     "output_type": "stream",
     "text": [
      "--------> Computing score matrix for mix10_seed618092\n"
     ]
    },
    {
     "name": "stdout",
     "output_type": "stream",
     "text": [
      "--------> Computing score matrix for mix11_seed853391\n"
     ]
    },
    {
     "name": "stdout",
     "output_type": "stream",
     "text": [
      "--------> Computing score matrix for mix12_seed699373\n"
     ]
    },
    {
     "name": "stdout",
     "output_type": "stream",
     "text": [
      "--------> Computing score matrix for mix13_seed294117\n"
     ]
    },
    {
     "name": "stdout",
     "output_type": "stream",
     "text": [
      "--------> Computing score matrix for mix14_seed930971\n"
     ]
    },
    {
     "name": "stdout",
     "output_type": "stream",
     "text": [
      "--------> Computing score matrix for mix15_seed641038\n"
     ]
    },
    {
     "name": "stdout",
     "output_type": "stream",
     "text": [
      "--------> Computing score matrix for mix16_seed802607\n"
     ]
    },
    {
     "name": "stdout",
     "output_type": "stream",
     "text": [
      "--------> Computing score matrix for mix17_seed180881\n"
     ]
    },
    {
     "name": "stdout",
     "output_type": "stream",
     "text": [
      "--------> Computing score matrix for mix18_seed655677\n"
     ]
    },
    {
     "name": "stdout",
     "output_type": "stream",
     "text": [
      "--------> Computing score matrix for mix19_seed596630\n"
     ]
    },
    {
     "name": "stdout",
     "output_type": "stream",
     "text": [
      "\n",
      "\n",
      "--> ET_E0779B_E0649NK_E1169MONO_E7403NEUTRO\n",
      "--------> Computing score matrix for mix0_seed710180\n"
     ]
    },
    {
     "name": "stdout",
     "output_type": "stream",
     "text": [
      "--------> Computing score matrix for mix1_seed278790\n"
     ]
    },
    {
     "name": "stdout",
     "output_type": "stream",
     "text": [
      "--------> Computing score matrix for mix2_seed918832\n"
     ]
    },
    {
     "name": "stdout",
     "output_type": "stream",
     "text": [
      "--------> Computing score matrix for mix3_seed537476\n"
     ]
    },
    {
     "name": "stdout",
     "output_type": "stream",
     "text": [
      "--------> Computing score matrix for mix4_seed536639\n"
     ]
    },
    {
     "name": "stdout",
     "output_type": "stream",
     "text": [
      "--------> Computing score matrix for mix5_seed336297\n"
     ]
    },
    {
     "name": "stdout",
     "output_type": "stream",
     "text": [
      "--------> Computing score matrix for mix6_seed56359\n"
     ]
    },
    {
     "name": "stdout",
     "output_type": "stream",
     "text": [
      "--------> Computing score matrix for mix7_seed572026\n"
     ]
    },
    {
     "name": "stdout",
     "output_type": "stream",
     "text": [
      "--------> Computing score matrix for mix8_seed619391\n"
     ]
    },
    {
     "name": "stdout",
     "output_type": "stream",
     "text": [
      "--------> Computing score matrix for mix9_seed632208\n"
     ]
    },
    {
     "name": "stdout",
     "output_type": "stream",
     "text": [
      "--------> Computing score matrix for mix10_seed936712\n"
     ]
    },
    {
     "name": "stdout",
     "output_type": "stream",
     "text": [
      "--------> Computing score matrix for mix11_seed596211\n"
     ]
    },
    {
     "name": "stdout",
     "output_type": "stream",
     "text": [
      "--------> Computing score matrix for mix12_seed827111\n"
     ]
    },
    {
     "name": "stdout",
     "output_type": "stream",
     "text": [
      "--------> Computing score matrix for mix13_seed592067\n"
     ]
    },
    {
     "name": "stdout",
     "output_type": "stream",
     "text": [
      "--------> Computing score matrix for mix14_seed752056\n"
     ]
    },
    {
     "name": "stdout",
     "output_type": "stream",
     "text": [
      "--------> Computing score matrix for mix15_seed358011\n"
     ]
    },
    {
     "name": "stdout",
     "output_type": "stream",
     "text": [
      "--------> Computing score matrix for mix16_seed211466\n"
     ]
    },
    {
     "name": "stdout",
     "output_type": "stream",
     "text": [
      "--------> Computing score matrix for mix17_seed532467\n"
     ]
    },
    {
     "name": "stdout",
     "output_type": "stream",
     "text": [
      "--------> Computing score matrix for mix18_seed378457\n"
     ]
    },
    {
     "name": "stdout",
     "output_type": "stream",
     "text": [
      "--------> Computing score matrix for mix19_seed500124\n"
     ]
    },
    {
     "name": "stdout",
     "output_type": "stream",
     "text": [
      "\n",
      "\n",
      ">>> Complete. <<< \n",
      "\n",
      "CPU times: user 23.6 s, sys: 1.53 s, total: 25.1 s\n",
      "Wall time: 1h 2min 54s\n"
     ]
    }
   ],
   "source": [
    "%%time\n",
    "\n",
    "PAT_COLS = [\n",
    "    'molecule_id', 'chr', 'number_molecules',\n",
    "    'cpg_index_min', 'cpg_index_max', 'pat_string', 'region_id', 'region_cpg_index_min', 'region_cpg_index_max'\n",
    "]\n",
    "\n",
    "QUANTILES = [0.1, 0.25, 0.75, 0.9]\n",
    "KMERS = [1, 3, 4]\n",
    "RATES_LEQ = [0.25]\n",
    "RATES_GEQ = [0.75]\n",
    "\n",
    "RETURN_SCHEMA = StructType()\\\n",
    "    .add('region_id', 'string')\\\n",
    "    .add('number_molecules', 'integer')\\\n",
    "    .add('meth_k1', 'integer')\\\n",
    "    .add('unmeth_k1', 'integer')\\\n",
    "    .add('total_k1', 'integer')\\\n",
    "    .add('meth_k3', 'integer')\\\n",
    "    .add('unmeth_k3', 'integer')\\\n",
    "    .add('total_k3', 'integer')\\\n",
    "    .add('meth_k4', 'integer')\\\n",
    "    .add('unmeth_k4', 'integer')\\\n",
    "    .add('total_k4', 'integer')\\\n",
    "    .add('frac_alpha_leq_25pct', 'float')\\\n",
    "    .add('frac_alpha_geq_75pct', 'float')\n",
    "\n",
    "compute_frag_scores_udf = sm.compute_frag_scores(cpg_number_cutoff=FILTER_CG_COUNT, schema=RETURN_SCHEMA, kmers=KMERS, rates_leq=RATES_LEQ, rates_geq=RATES_GEQ)\n",
    "\n",
    "\n",
    "# compute methyl score for are parquet files\n",
    "sm.score_matrix_from_mixture_directory(path_to_mixture_dir = PATH_TO_MIXTURE_DIR, \n",
    "                                       result_path = RESULT_PATH, \n",
    "                                       pat_cols = PAT_COLS,  \n",
    "                                       batch_size = 20, \n",
    "                                       schema = RETURN_SCHEMA, \n",
    "                                       spark=spark,\n",
    "                                       compute_frag_scores_udf=compute_frag_scores_udf,\n",
    "                                       save=True, \n",
    "                                       verbose=False)"
   ]
  },
  {
   "cell_type": "markdown",
   "id": "985b7e03",
   "metadata": {
    "papermill": {
     "duration": 0.054911,
     "end_time": "2023-08-31T23:04:12.353197",
     "exception": false,
     "start_time": "2023-08-31T23:04:12.298286",
     "status": "completed"
    },
    "tags": []
   },
   "source": [
    "## Deconvolution"
   ]
  },
  {
   "cell_type": "code",
   "execution_count": 18,
   "id": "7ea06f41",
   "metadata": {
    "execution": {
     "iopub.execute_input": "2023-08-31T23:04:12.453227Z",
     "iopub.status.busy": "2023-08-31T23:04:12.452766Z",
     "iopub.status.idle": "2023-08-31T23:04:12.457644Z",
     "shell.execute_reply": "2023-08-31T23:04:12.456804Z"
    },
    "papermill": {
     "duration": 0.057288,
     "end_time": "2023-08-31T23:04:12.459676",
     "exception": false,
     "start_time": "2023-08-31T23:04:12.402388",
     "status": "completed"
    },
    "tags": []
   },
   "outputs": [],
   "source": [
    "############################\n",
    "#   Parameters and paths   # \n",
    "############################\n",
    "\n",
    "FILTER_COV = 20\n",
    "\n",
    "SCORE_VAR = 'frac_alpha_leq_25pct'\n",
    "\n",
    "# Reference matrix\n",
    "ATLAS_PATH = PROJECT_DIR + 'output/reference/deconv_inhouse_v2.t_combined.atlas.tsv.gz'\n",
    "REGION_PATH = PROJECT_DIR + 'output/reference/deconv_inhouse_v2.t_combined.region_to_ref_celltype.tsv.gz'\n",
    "\n",
    "# Methylation score matrix\n",
    "SCORE_DIR = EXPERIMENT_CELLTYPE_DIR + 'methyl_score/'\n"
   ]
  },
  {
   "cell_type": "code",
   "execution_count": 19,
   "id": "ad82f8b6",
   "metadata": {
    "execution": {
     "iopub.execute_input": "2023-08-31T23:04:12.562522Z",
     "iopub.status.busy": "2023-08-31T23:04:12.562011Z",
     "iopub.status.idle": "2023-08-31T23:04:12.580183Z",
     "shell.execute_reply": "2023-08-31T23:04:12.578877Z"
    },
    "papermill": {
     "duration": 0.073091,
     "end_time": "2023-08-31T23:04:12.582937",
     "exception": false,
     "start_time": "2023-08-31T23:04:12.509846",
     "status": "completed"
    },
    "tags": []
   },
   "outputs": [
    {
     "data": {
      "text/plain": [
       "(280, 9)"
      ]
     },
     "execution_count": 19,
     "metadata": {},
     "output_type": "execute_result"
    }
   ],
   "source": [
    "atlas = pd.read_csv(ATLAS_PATH, sep='\\t',index_col=None)\n",
    "atlas = atlas.set_index('region_id')\n",
    "atlas.columns.name = 'ref_celltype'\n",
    "atlas.shape\n",
    "\n",
    "ref_region_df = pd.read_csv(REGION_PATH, sep='\\t')\n",
    "\n",
    "atlas = atlas.loc[ref_region_df['region_id'], :].copy()\n",
    "atlas.shape"
   ]
  },
  {
   "cell_type": "code",
   "execution_count": 20,
   "id": "a5c3af7d",
   "metadata": {
    "execution": {
     "iopub.execute_input": "2023-08-31T23:04:12.688331Z",
     "iopub.status.busy": "2023-08-31T23:04:12.687935Z",
     "iopub.status.idle": "2023-08-31T23:04:12.694667Z",
     "shell.execute_reply": "2023-08-31T23:04:12.692152Z"
    },
    "papermill": {
     "duration": 0.060811,
     "end_time": "2023-08-31T23:04:12.696416",
     "exception": false,
     "start_time": "2023-08-31T23:04:12.635605",
     "status": "completed"
    },
    "tags": []
   },
   "outputs": [],
   "source": [
    "# ref_region_df['ref_celltype'][ref_region_df['ref_celltype'] == 'immune_cd4_t'] = 'immune_cd4'\n",
    "# ref_region_df['ref_celltype'][ref_region_df['ref_celltype'] == 'immune_cd8_t'] = 'immune_cd8'"
   ]
  },
  {
   "cell_type": "code",
   "execution_count": 21,
   "id": "c8e412fc",
   "metadata": {
    "execution": {
     "iopub.execute_input": "2023-08-31T23:04:12.805371Z",
     "iopub.status.busy": "2023-08-31T23:04:12.804881Z",
     "iopub.status.idle": "2023-08-31T23:04:19.836428Z",
     "shell.execute_reply": "2023-08-31T23:04:19.835518Z"
    },
    "papermill": {
     "duration": 7.090851,
     "end_time": "2023-08-31T23:04:19.838343",
     "exception": false,
     "start_time": "2023-08-31T23:04:12.747492",
     "status": "completed"
    },
    "tags": []
   },
   "outputs": [
    {
     "name": "stdout",
     "output_type": "stream",
     "text": [
      "CPU times: user 6.55 s, sys: 87.9 ms, total: 6.64 s\n",
      "Wall time: 7.03 s\n"
     ]
    }
   ],
   "source": [
    "%%time\n",
    "\n",
    "deconvolution_nnls = dcnv.compute_deconvolution_from_methyl_score_dir_nnls(path_to_methyl_score_dir=SCORE_DIR, \n",
    "                                                                          score_type=SCORE_VAR, \n",
    "                                                                          atlas=atlas, \n",
    "                                                                          match=False)\n",
    "\n",
    "deconvolution_naive = dcnv.compute_deconvolution_from_methyl_score_dir_naive(path_to_methyl_score_dir=SCORE_DIR, \n",
    "                                                                             filter_cov=FILTER_COV, \n",
    "                                                                             score_var=SCORE_VAR, \n",
    "                                                                             ref_region_df=ref_region_df)\n"
   ]
  },
  {
   "cell_type": "code",
   "execution_count": 22,
   "id": "9d05674a",
   "metadata": {
    "execution": {
     "iopub.execute_input": "2023-08-31T23:04:19.930233Z",
     "iopub.status.busy": "2023-08-31T23:04:19.929834Z",
     "iopub.status.idle": "2023-08-31T23:04:20.525334Z",
     "shell.execute_reply": "2023-08-31T23:04:20.524192Z"
    },
    "papermill": {
     "duration": 0.643511,
     "end_time": "2023-08-31T23:04:20.527852",
     "exception": false,
     "start_time": "2023-08-31T23:04:19.884341",
     "status": "completed"
    },
    "tags": []
   },
   "outputs": [
    {
     "data": {
      "image/png": "[encoded data removed]",
      "text/plain": [
       "<Figure size 864x432 with 1 Axes>"
      ]
     },
     "metadata": {
      "needs_background": "light"
     },
     "output_type": "display_data"
    }
   ],
   "source": [
    "dcnv.boxplot_titration(list_of_deconvolution_dfs=deconvolution_naive,\n",
    "                      cell_type=TITRATING_CELLTYPE_ATLAS,\n",
    "                      true_proportions=TITRATION_LIST,\n",
    "                      deconvolution_method_name='naive'\n",
    "                      )"
   ]
  },
  {
   "cell_type": "code",
   "execution_count": 23,
   "id": "2cfb6a43",
   "metadata": {
    "execution": {
     "iopub.execute_input": "2023-08-31T23:04:20.642750Z",
     "iopub.status.busy": "2023-08-31T23:04:20.642258Z",
     "iopub.status.idle": "2023-08-31T23:04:21.376941Z",
     "shell.execute_reply": "2023-08-31T23:04:21.375797Z"
    },
    "papermill": {
     "duration": 0.798867,
     "end_time": "2023-08-31T23:04:21.379708",
     "exception": false,
     "start_time": "2023-08-31T23:04:20.580841",
     "status": "completed"
    },
    "tags": []
   },
   "outputs": [
    {
     "data": {
      "image/png": "[encoded data removed]",
      "text/plain": [
       "<Figure size 864x432 with 1 Axes>"
      ]
     },
     "metadata": {
      "needs_background": "light"
     },
     "output_type": "display_data"
    }
   ],
   "source": [
    "dcnv.boxplot_titration(list_of_deconvolution_dfs=deconvolution_nnls,\n",
    "                      cell_type=TITRATING_CELLTYPE_ATLAS,\n",
    "                      true_proportions=TITRATION_LIST,\n",
    "                      deconvolution_method_name='nnls'\n",
    "                      )"
   ]
  },
  {
   "cell_type": "code",
   "execution_count": 24,
   "id": "b8396ee0",
   "metadata": {
    "execution": {
     "iopub.execute_input": "2023-08-31T23:04:21.499167Z",
     "iopub.status.busy": "2023-08-31T23:04:21.498716Z",
     "iopub.status.idle": "2023-08-31T23:04:23.347691Z",
     "shell.execute_reply": "2023-08-31T23:04:23.346606Z"
    },
    "papermill": {
     "duration": 1.906061,
     "end_time": "2023-08-31T23:04:23.349716",
     "exception": false,
     "start_time": "2023-08-31T23:04:21.443655",
     "status": "completed"
    },
    "tags": []
   },
   "outputs": [
    {
     "data": {
      "image/png": "[encoded data removed]",
      "text/plain": [
       "<Figure size 720x720 with 14 Axes>"
      ]
     },
     "metadata": {
      "needs_background": "light"
     },
     "output_type": "display_data"
    }
   ],
   "source": [
    "dcnv.boxplot_titration_zoom(list_of_deconvolution_dfs=deconvolution_naive,\n",
    "                      cell_type=TITRATING_CELLTYPE_ATLAS,\n",
    "                      true_proportions=TITRATION_LIST,\n",
    "                      deconvolution_method_name='naive'\n",
    "                      )"
   ]
  },
  {
   "cell_type": "code",
   "execution_count": 25,
   "id": "eb9ca045",
   "metadata": {
    "execution": {
     "iopub.execute_input": "2023-08-31T23:04:23.468094Z",
     "iopub.status.busy": "2023-08-31T23:04:23.467560Z",
     "iopub.status.idle": "2023-08-31T23:04:25.474079Z",
     "shell.execute_reply": "2023-08-31T23:04:25.473336Z"
    },
    "papermill": {
     "duration": 2.062771,
     "end_time": "2023-08-31T23:04:25.475514",
     "exception": false,
     "start_time": "2023-08-31T23:04:23.412743",
     "status": "completed"
    },
    "tags": []
   },
   "outputs": [
    {
     "data": {
      "image/png": "[encoded data removed]",
      "text/plain": [
       "<Figure size 720x720 with 14 Axes>"
      ]
     },
     "metadata": {
      "needs_background": "light"
     },
     "output_type": "display_data"
    }
   ],
   "source": [
    "dcnv.boxplot_titration_zoom(list_of_deconvolution_dfs=deconvolution_nnls,\n",
    "                      cell_type=TITRATING_CELLTYPE_ATLAS,\n",
    "                      true_proportions=TITRATION_LIST,\n",
    "                      deconvolution_method_name='nnls'\n",
    "                      )"
   ]
  },
  {
   "cell_type": "code",
   "execution_count": null,
   "id": "0f5cbad8",
   "metadata": {
    "papermill": {
     "duration": 0.033864,
     "end_time": "2023-08-31T23:04:25.545050",
     "exception": false,
     "start_time": "2023-08-31T23:04:25.511186",
     "status": "completed"
    },
    "tags": []
   },
   "outputs": [],
   "source": []
  },
  {
   "cell_type": "code",
   "execution_count": null,
   "id": "601fed8c",
   "metadata": {
    "papermill": {
     "duration": 0.039364,
     "end_time": "2023-08-31T23:04:25.621076",
     "exception": false,
     "start_time": "2023-08-31T23:04:25.581712",
     "status": "completed"
    },
    "tags": []
   },
   "outputs": [],
   "source": []
  }
 ],
 "metadata": {
  "kernelspec": {
   "display_name": "Python 3",
   "language": "python",
   "name": "python3"
  },
  "language_info": {
   "codemirror_mode": {
    "name": "ipython",
    "version": 3
   },
   "file_extension": ".py",
   "mimetype": "text/x-python",
   "name": "python",
   "nbconvert_exporter": "python",
   "pygments_lexer": "ipython3",
   "version": "3.7.8"
  },
  "papermill": {
   "default_parameters": {},
   "duration": 5494.231365,
   "end_time": "2023-08-31T23:04:26.286632",
   "environment_variables": {},
   "exception": null,
   "input_path": "/analysis/gh-msun/projects/2023_06_26_SRT_deconvolution_MS//notebooks/titration/02_titration_experiment.ipynb",
   "output_path": "/analysis/gh-msun/projects/2023_06_26_SRT_deconvolution_MS//notebooks/titration/broad_blueprint_wholeblood/titration_T.ipynb",
   "parameters": {
    "ABRIDGED_NAMES": [
     "T",
     "B",
     "NK",
     "MONO",
     "NEUTRO"
    ],
    "BACKGROUND": "wholeblood",
    "CELLTYPES": [
     "Blueprint-T",
     "Blueprint-B",
     "Blueprint-NK",
     "Blueprint-Mono",
     "Blueprint-Neutro"
    ],
    "EXPERIMENT": "broad_blueprint",
    "N_REPLICATES": 20,
    "PROJECT_SLUG": "2023_06_26_SRT_deconvolution_MS",
    "ROOT_DIR": "/analysis/gh-msun/",
    "SEED": 83723,
    "TITRATING_CELLTYPE": "Blueprint-T",
    "TITRATING_CELLTYPE_ATLAS": "immune_t",
    "TITRATION_LIST": [
     0.2,
     0.15,
     0.1,
     0.08,
     0.06,
     0.04,
     0.02,
     0.01,
     0.008,
     0.006,
     0.004,
     0.002,
     0.001,
     0
    ],
    "TOTAL_READS_TO_SAMPLE": 1000000,
    "WHOLE_BLOOD_ABUNDANCE": {
     "Blueprint-B": 0.06,
     "Blueprint-Mono": 0.09,
     "Blueprint-NK": 0.05,
     "Blueprint-Neutro": 0.57,
     "Blueprint-T": 0.23
    }
   },
   "start_time": "2023-08-31T21:32:52.055267",
   "version": "2.4.0"
  }
 },
 "nbformat": 4,
 "nbformat_minor": 5
}