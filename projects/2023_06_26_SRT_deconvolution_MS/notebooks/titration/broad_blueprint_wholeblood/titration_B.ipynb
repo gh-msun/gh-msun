{
 "cells": [
  {
   "cell_type": "markdown",
   "id": "ae487058",
   "metadata": {
    "papermill": {
     "duration": 0.008733,
     "end_time": "2023-08-31T23:04:27.192548",
     "exception": false,
     "start_time": "2023-08-31T23:04:27.183815",
     "status": "completed"
    },
    "tags": []
   },
   "source": [
    "# Titration Experiment"
   ]
  },
  {
   "cell_type": "code",
   "execution_count": 1,
   "id": "2cf26fd8",
   "metadata": {
    "execution": {
     "iopub.execute_input": "2023-08-31T23:04:27.208456Z",
     "iopub.status.busy": "2023-08-31T23:04:27.208091Z",
     "iopub.status.idle": "2023-08-31T23:04:27.215987Z",
     "shell.execute_reply": "2023-08-31T23:04:27.215123Z"
    },
    "papermill": {
     "duration": 0.016865,
     "end_time": "2023-08-31T23:04:27.217876",
     "exception": false,
     "start_time": "2023-08-31T23:04:27.201011",
     "status": "completed"
    },
    "tags": [
     "parameters"
    ]
   },
   "outputs": [],
   "source": [
    "#############################\n",
    "#   Experiment parameters   #\n",
    "#############################\n",
    "ROOT_DIR = '/analysis/gh-msun/'\n",
    "PROJECT_SLUG = '2023_06_26_SRT_deconvolution_MS'\n",
    "EXPERIMENT = 'broad_blueprint'\n",
    "TITRATING_CELLTYPE = 'Blueprint-B'\n",
    "TITRATING_CELLTYPE_ATLAS = 'immune_b' # cell type name in atlas different\n",
    "BACKGROUND = 'wholeblood' # background: uniform / wholeblood \n",
    "N_REPLICATES = 20 # number of replicates for each mixture\n",
    "SEED = 888 # need to change for different experiment\n",
    "TOTAL_READS_TO_SAMPLE = 1000000\n",
    "\n",
    "# make sure the orders of the two list match\n",
    "CELLTYPES = ['Blueprint-T', 'Blueprint-B', 'Blueprint-NK', 'Blueprint-Mono', 'Blueprint-Neutro']\n",
    "ABRIDGED_NAMES = ['T', 'B', 'NK', 'MONO', 'NEUTRO'] # for directory name\n",
    "\n",
    "TITRATION_LIST = [0.2, 0.15, 0.10, 0.08, 0.06, 0.04, 0.02, 0.01, \n",
    "                   0.008, 0.006, 0.004, 0.002, 0.001, 0]\n",
    "# TITRATION_LIST=[0.2, 0.15]\n",
    "\n",
    "# proportion of cells in real whole blood (sum to 1)\n",
    "WHOLE_BLOOD_ABUNDANCE = {'Blueprint-B':0.06,\n",
    "                         'Blueprint-Mono':0.09,\n",
    "                         'Blueprint-Neutro':0.57,\n",
    "                         'Blueprint-T':0.23,\n",
    "\n",
    "                         'Blueprint-NK':0.05}\n",
    "    "
   ]
  },
  {
   "cell_type": "code",
   "execution_count": 2,
   "id": "8b3d202a",
   "metadata": {
    "execution": {
     "iopub.execute_input": "2023-08-31T23:04:27.231325Z",
     "iopub.status.busy": "2023-08-31T23:04:27.230997Z",
     "iopub.status.idle": "2023-08-31T23:04:27.237773Z",
     "shell.execute_reply": "2023-08-31T23:04:27.236384Z"
    },
    "papermill": {
     "duration": 0.016028,
     "end_time": "2023-08-31T23:04:27.239703",
     "exception": false,
     "start_time": "2023-08-31T23:04:27.223675",
     "status": "completed"
    },
    "tags": [
     "injected-parameters"
    ]
   },
   "outputs": [],
   "source": [
    "# Parameters\n",
    "ROOT_DIR = \"/analysis/gh-msun/\"\n",
    "PROJECT_SLUG = \"2023_06_26_SRT_deconvolution_MS\"\n",
    "EXPERIMENT = \"broad_blueprint\"\n",
    "TITRATING_CELLTYPE = \"Blueprint-B\"\n",
    "TITRATING_CELLTYPE_ATLAS = \"immune_b\"\n",
    "BACKGROUND = \"wholeblood\"\n",
    "N_REPLICATES = 20\n",
    "SEED = 452891\n",
    "TOTAL_READS_TO_SAMPLE = 1000000\n",
    "CELLTYPES = [\"Blueprint-T\", \"Blueprint-B\", \"Blueprint-NK\", \"Blueprint-Mono\", \"Blueprint-Neutro\"]\n",
    "ABRIDGED_NAMES = [\"T\", \"B\", \"NK\", \"MONO\", \"NEUTRO\"]\n",
    "TITRATION_LIST = [0.2, 0.15, 0.1, 0.08, 0.06, 0.04, 0.02, 0.01, 0.008, 0.006, 0.004, 0.002, 0.001, 0]\n",
    "WHOLE_BLOOD_ABUNDANCE = {\"Blueprint-B\": 0.06, \"Blueprint-Mono\": 0.09, \"Blueprint-Neutro\": 0.57, \"Blueprint-T\": 0.23, \"Blueprint-NK\": 0.05}\n"
   ]
  },
  {
   "cell_type": "code",
   "execution_count": 3,
   "id": "4d189f0b",
   "metadata": {
    "execution": {
     "iopub.execute_input": "2023-08-31T23:04:27.252955Z",
     "iopub.status.busy": "2023-08-31T23:04:27.252706Z",
     "iopub.status.idle": "2023-08-31T23:04:33.503197Z",
     "shell.execute_reply": "2023-08-31T23:04:33.502137Z"
    },
    "papermill": {
     "duration": 6.259782,
     "end_time": "2023-08-31T23:04:33.505782",
     "exception": false,
     "start_time": "2023-08-31T23:04:27.246000",
     "status": "completed"
    },
    "tags": []
   },
   "outputs": [
    {
     "name": "stderr",
     "output_type": "stream",
     "text": [
      "/home/ec2-user/mambaforge/envs/2023_06_26_SRT_deconvolution_MS/lib/python3.7/site-packages/pyspark/context.py:317: FutureWarning: Python 3.7 support is deprecated in Spark 3.4.\n",
      "  warnings.warn(\"Python 3.7 support is deprecated in Spark 3.4.\", FutureWarning)\n"
     ]
    }
   ],
   "source": [
    "import glob\n",
    "import numpy as np\n",
    "import pandas as pd\n",
    "import seaborn as sns\n",
    "import matplotlib.pyplot as plt\n",
    "import itertools\n",
    "import functools\n",
    "import os\n",
    "import regex as re\n",
    "import random\n",
    "import importlib\n",
    "import sys\n",
    "\n",
    "from pyspark.sql import SparkSession\n",
    "from pyspark import SparkConf, SparkContext\n",
    "from pyspark.sql.types import IntegerType, LongType, ArrayType, StringType, DoubleType\n",
    "from pyspark.sql.functions import udf, explode, broadcast, count, lit, length, col\n",
    "from pyspark.sql import DataFrame\n",
    "from pyspark.sql.types import StructType\n",
    "\n",
    "# UPDATE HOME!\n",
    "os.environ[\"SPARK_HOME\"] = \"/home/ec2-user/mambaforge/envs/2023_06_26_SRT_deconvolution_MS/lib/python3.7/site-packages/pyspark\"\n",
    "# THIS needs to be set-up before running the notebook\n",
    "os.environ[\"SPARK_LOCAL_DIRS\"] = \"/temp\"\n",
    "os.environ[\"PYARROW_IGNORE_TIMEZONE\"] = \"1\"\n",
    "\n",
    "spark_conf = SparkConf()\n",
    "spark_conf.set(\"spark.ui.showConsoleProgress\", \"True\")\n",
    "spark_conf.set(\"spark.executor.instances\", \"2\")\n",
    "spark_conf.set(\"spark.executor.cores\", \"2\")\n",
    "spark_conf.set(\"spark.executor.memory\", \"16g\")\n",
    "spark_conf.set(\"spark.driver.memory\", \"64g\")\n",
    "spark_conf.set(\"spark.driver.maxResultSize\", \"32g\")\n",
    "spark_conf.set(\"spark.parquet.filterPushdown\", \"true\")\n",
    "spark_conf.set(\"spark.local.dir\", \"/temp\")\n",
    "spark_conf.getAll()\n",
    "\n",
    "sc = SparkContext(conf=spark_conf)\n",
    "sc.setLogLevel(\"ERROR\")\n",
    "spark = SparkSession(sc)\n",
    "\n",
    "pd.set_option('display.max_rows', 500)\n",
    "pd.set_option('display.max_columns', 500)\n",
    "pd.set_option('display.width', 1000)\n",
    "sns.set_context('talk')"
   ]
  },
  {
   "cell_type": "code",
   "execution_count": 4,
   "id": "5244682a",
   "metadata": {
    "execution": {
     "iopub.execute_input": "2023-08-31T23:04:33.534925Z",
     "iopub.status.busy": "2023-08-31T23:04:33.534251Z",
     "iopub.status.idle": "2023-08-31T23:04:34.547653Z",
     "shell.execute_reply": "2023-08-31T23:04:34.546935Z"
    },
    "papermill": {
     "duration": 1.029669,
     "end_time": "2023-08-31T23:04:34.549405",
     "exception": false,
     "start_time": "2023-08-31T23:04:33.519736",
     "status": "completed"
    },
    "tags": []
   },
   "outputs": [],
   "source": [
    "#---Local paths---#\n",
    "PROJECT_DIR = ROOT_DIR + f'projects/{PROJECT_SLUG}/'\n",
    "\n",
    "#---Load all custom scripts---#\n",
    "SCRIPT_DIR = PROJECT_DIR + 'scripts/'\n",
    "sys.path.append(SCRIPT_DIR)\n",
    "\n",
    "import create_mixture as cm\n",
    "import score_matrix as sm\n",
    "import deconvolution as dcnv\n",
    "import helper as hlpr\n",
    "\n",
    "pd.set_option('display.max_rows', 500)\n",
    "pd.set_option('display.max_columns', 500)\n",
    "pd.set_option('display.width', 1000)"
   ]
  },
  {
   "cell_type": "code",
   "execution_count": 5,
   "id": "9f1c9a3a",
   "metadata": {
    "execution": {
     "iopub.execute_input": "2023-08-31T23:04:34.560919Z",
     "iopub.status.busy": "2023-08-31T23:04:34.560570Z",
     "iopub.status.idle": "2023-08-31T23:04:34.567762Z",
     "shell.execute_reply": "2023-08-31T23:04:34.567225Z"
    },
    "papermill": {
     "duration": 0.014291,
     "end_time": "2023-08-31T23:04:34.569224",
     "exception": false,
     "start_time": "2023-08-31T23:04:34.554933",
     "status": "completed"
    },
    "tags": []
   },
   "outputs": [
    {
     "data": {
      "text/plain": [
       "<module 'helper' from '/analysis/gh-msun/projects/2023_06_26_SRT_deconvolution_MS/scripts/helper.py'>"
      ]
     },
     "execution_count": 5,
     "metadata": {},
     "output_type": "execute_result"
    }
   ],
   "source": [
    "importlib.reload(cm)\n",
    "importlib.reload(sm)\n",
    "importlib.reload(dcnv)\n",
    "importlib.reload(hlpr)"
   ]
  },
  {
   "cell_type": "code",
   "execution_count": 6,
   "id": "eec3b463",
   "metadata": {
    "execution": {
     "iopub.execute_input": "2023-08-31T23:04:34.581346Z",
     "iopub.status.busy": "2023-08-31T23:04:34.581119Z",
     "iopub.status.idle": "2023-08-31T23:04:34.587934Z",
     "shell.execute_reply": "2023-08-31T23:04:34.587290Z"
    },
    "papermill": {
     "duration": 0.014697,
     "end_time": "2023-08-31T23:04:34.589638",
     "exception": false,
     "start_time": "2023-08-31T23:04:34.574941",
     "status": "completed"
    },
    "tags": []
   },
   "outputs": [
    {
     "data": {
      "text/plain": [
       "[0.2,\n",
       " 0.19574468085106386,\n",
       " 0.04255319148936171,\n",
       " 0.07659574468085106,\n",
       " 0.4851063829787234]"
      ]
     },
     "execution_count": 6,
     "metadata": {},
     "output_type": "execute_result"
    }
   ],
   "source": [
    "#################################\n",
    "#   Set titration proportions   #\n",
    "#################################\n",
    "\n",
    "# Reorder such that the titrating cell type comes first\n",
    "CELLTYPES_unordered = CELLTYPES.copy()\n",
    "CELLTYPES = hlpr.titration_reordering(list_of_cell_types=CELLTYPES, \n",
    "                                      titrating_cell_type=TITRATING_CELLTYPE)\n",
    "\n",
    "# Reorder abridged name\n",
    "ABRIDGED_NAMES = hlpr.reorder_abridged_name(unordered_celltypes=CELLTYPES_unordered,\n",
    "                                            ordered_celltypes=CELLTYPES,\n",
    "                                            unordered_abridged_names=ABRIDGED_NAMES)\n",
    "    \n",
    "# set titration proportions\n",
    "if BACKGROUND == 'uniform':\n",
    "    PROPORTIONS = hlpr.generate_uniform_background_proportions(titration_list=TITRATION_LIST, \n",
    "                                                               cell_types=CELLTYPES)\n",
    "\n",
    "if BACKGROUND == 'wholeblood':\n",
    "    PROPORTIONS = hlpr.generate_custom_background_proportions(titration_list=TITRATION_LIST, \n",
    "                                                              custom_proportion=WHOLE_BLOOD_ABUNDANCE, \n",
    "                                                              list_of_celltypes=CELLTYPES, \n",
    "                                                              titrating_celltype=TITRATING_CELLTYPE)\n",
    "\n",
    "PROPORTIONS[0]    "
   ]
  },
  {
   "cell_type": "markdown",
   "id": "d0b187f4",
   "metadata": {
    "papermill": {
     "duration": 0.008223,
     "end_time": "2023-08-31T23:04:34.607904",
     "exception": false,
     "start_time": "2023-08-31T23:04:34.599681",
     "status": "completed"
    },
    "tags": []
   },
   "source": [
    "## Create mixture"
   ]
  },
  {
   "cell_type": "code",
   "execution_count": 7,
   "id": "eeb06d06",
   "metadata": {
    "execution": {
     "iopub.execute_input": "2023-08-31T23:04:34.625464Z",
     "iopub.status.busy": "2023-08-31T23:04:34.625036Z",
     "iopub.status.idle": "2023-08-31T23:04:34.629700Z",
     "shell.execute_reply": "2023-08-31T23:04:34.628976Z"
    },
    "papermill": {
     "duration": 0.01692,
     "end_time": "2023-08-31T23:04:34.633252",
     "exception": false,
     "start_time": "2023-08-31T23:04:34.616332",
     "status": "completed"
    },
    "tags": []
   },
   "outputs": [],
   "source": [
    "############################\n",
    "#   Parameters and paths   # \n",
    "############################\n",
    "EXPERIMENT_DIR = PROJECT_DIR + f'output/experiment/{EXPERIMENT}/'\n",
    "EXPERIMENT_NAME = f'{TITRATING_CELLTYPE}-{BACKGROUND}/'\n",
    "PARQUET_PATH = PROJECT_DIR + 'output/mixture_source/'\n",
    "EXPERIMENT_CELLTYPE_DIR = EXPERIMENT_DIR + f'{EXPERIMENT_NAME}/'\n",
    "RESULT_PATH = EXPERIMENT_CELLTYPE_DIR + 'mixture/'\n"
   ]
  },
  {
   "cell_type": "code",
   "execution_count": 8,
   "id": "de2d360e",
   "metadata": {
    "execution": {
     "iopub.execute_input": "2023-08-31T23:04:34.651690Z",
     "iopub.status.busy": "2023-08-31T23:04:34.651307Z",
     "iopub.status.idle": "2023-09-01T00:07:22.864168Z",
     "shell.execute_reply": "2023-09-01T00:07:22.863393Z"
    },
    "papermill": {
     "duration": 3768.22445,
     "end_time": "2023-09-01T00:07:22.866224",
     "exception": false,
     "start_time": "2023-08-31T23:04:34.641774",
     "status": "completed"
    },
    "tags": []
   },
   "outputs": [
    {
     "name": "stdout",
     "output_type": "stream",
     "text": [
      ">>> Load parquet files and count rows... <<<\n",
      "----------> Loading cell type: Blueprint-B\n",
      "----------> Loading cell type: Blueprint-T\n",
      "----------> Loading cell type: Blueprint-NK\n",
      "----------> Loading cell type: Blueprint-Mono\n",
      "----------> Loading cell type: Blueprint-Neutro\n",
      ">>> Complete. <<< \n",
      "\n",
      ">>> Start mixing... <<<\n",
      "--> PROPORTION: [0.2, 0.19574468085106386, 0.04255319148936171, 0.07659574468085106, 0.4851063829787234]\n",
      "----------> Creating mixture 0... \n",
      "----------> Creating mixture 1... \n",
      "----------> Creating mixture 2... \n",
      "----------> Creating mixture 3... \n",
      "----------> Creating mixture 4... \n",
      "----------> Creating mixture 5... \n",
      "----------> Creating mixture 6... \n",
      "----------> Creating mixture 7... \n",
      "----------> Creating mixture 8... \n",
      "----------> Creating mixture 9... \n",
      "----------> Creating mixture 10... \n",
      "----------> Creating mixture 11... \n",
      "----------> Creating mixture 12... \n",
      "----------> Creating mixture 13... \n",
      "----------> Creating mixture 14... \n",
      "----------> Creating mixture 15... \n",
      "----------> Creating mixture 16... \n",
      "----------> Creating mixture 17... \n",
      "----------> Creating mixture 18... \n",
      "----------> Creating mixture 19... \n",
      "--> PROPORTION: [0.15, 0.20797872340425533, 0.04521276595744681, 0.08138297872340425, 0.5154255319148936]\n",
      "----------> Creating mixture 0... \n",
      "----------> Creating mixture 1... \n",
      "----------> Creating mixture 2... \n",
      "----------> Creating mixture 3... \n",
      "----------> Creating mixture 4... \n",
      "----------> Creating mixture 5... \n",
      "----------> Creating mixture 6... \n",
      "----------> Creating mixture 7... \n",
      "----------> Creating mixture 8... \n",
      "----------> Creating mixture 9... \n",
      "----------> Creating mixture 10... \n",
      "----------> Creating mixture 11... \n",
      "----------> Creating mixture 12... \n",
      "----------> Creating mixture 13... \n",
      "----------> Creating mixture 14... \n",
      "----------> Creating mixture 15... \n",
      "----------> Creating mixture 16... \n",
      "----------> Creating mixture 17... \n",
      "----------> Creating mixture 18... \n",
      "----------> Creating mixture 19... \n",
      "--> PROPORTION: [0.1, 0.22021276595744682, 0.04787234042553192, 0.08617021276595745, 0.5457446808510638]\n",
      "----------> Creating mixture 0... \n",
      "----------> Creating mixture 1... \n",
      "----------> Creating mixture 2... \n",
      "----------> Creating mixture 3... \n",
      "----------> Creating mixture 4... \n",
      "----------> Creating mixture 5... \n",
      "----------> Creating mixture 6... \n",
      "----------> Creating mixture 7... \n",
      "----------> Creating mixture 8... \n",
      "----------> Creating mixture 9... \n",
      "----------> Creating mixture 10... \n",
      "----------> Creating mixture 11... \n",
      "----------> Creating mixture 12... \n",
      "----------> Creating mixture 13... \n",
      "----------> Creating mixture 14... \n",
      "----------> Creating mixture 15... \n",
      "----------> Creating mixture 16... \n",
      "----------> Creating mixture 17... \n",
      "----------> Creating mixture 18... \n",
      "----------> Creating mixture 19... \n",
      "--> PROPORTION: [0.08, 0.22510638297872343, 0.048936170212765966, 0.08808510638297873, 0.5578723404255319]\n",
      "----------> Creating mixture 0... \n",
      "----------> Creating mixture 1... \n",
      "----------> Creating mixture 2... \n",
      "----------> Creating mixture 3... \n",
      "----------> Creating mixture 4... \n",
      "----------> Creating mixture 5... \n",
      "----------> Creating mixture 6... \n",
      "----------> Creating mixture 7... \n",
      "----------> Creating mixture 8... \n",
      "----------> Creating mixture 9... \n",
      "----------> Creating mixture 10... \n",
      "----------> Creating mixture 11... \n",
      "----------> Creating mixture 12... \n",
      "----------> Creating mixture 13... \n",
      "----------> Creating mixture 14... \n",
      "----------> Creating mixture 15... \n",
      "----------> Creating mixture 16... \n",
      "----------> Creating mixture 17... \n",
      "----------> Creating mixture 18... \n",
      "----------> Creating mixture 19... \n",
      "--> PROPORTION: [0.06, 0.23, 0.05, 0.09, 0.57]\n",
      "----------> Creating mixture 0... \n",
      "----------> Creating mixture 1... \n",
      "----------> Creating mixture 2... \n",
      "----------> Creating mixture 3... \n",
      "----------> Creating mixture 4... \n",
      "----------> Creating mixture 5... \n",
      "----------> Creating mixture 6... \n",
      "----------> Creating mixture 7... \n",
      "----------> Creating mixture 8... \n",
      "----------> Creating mixture 9... \n",
      "----------> Creating mixture 10... \n",
      "----------> Creating mixture 11... \n",
      "----------> Creating mixture 12... \n",
      "----------> Creating mixture 13... \n",
      "----------> Creating mixture 14... \n",
      "----------> Creating mixture 15... \n",
      "----------> Creating mixture 16... \n",
      "----------> Creating mixture 17... \n",
      "----------> Creating mixture 18... \n",
      "----------> Creating mixture 19... \n",
      "--> PROPORTION: [0.04, 0.23489361702127662, 0.05106382978723405, 0.09191489361702128, 0.582127659574468]\n",
      "----------> Creating mixture 0... \n",
      "----------> Creating mixture 1... \n",
      "----------> Creating mixture 2... \n",
      "----------> Creating mixture 3... \n",
      "----------> Creating mixture 4... \n",
      "----------> Creating mixture 5... \n",
      "----------> Creating mixture 6... \n",
      "----------> Creating mixture 7... \n",
      "----------> Creating mixture 8... \n",
      "----------> Creating mixture 9... \n",
      "----------> Creating mixture 10... \n",
      "----------> Creating mixture 11... \n",
      "----------> Creating mixture 12... \n",
      "----------> Creating mixture 13... \n",
      "----------> Creating mixture 14... \n",
      "----------> Creating mixture 15... \n",
      "----------> Creating mixture 16... \n",
      "----------> Creating mixture 17... \n",
      "----------> Creating mixture 18... \n",
      "----------> Creating mixture 19... \n",
      "--> PROPORTION: [0.02, 0.2397872340425532, 0.05212765957446809, 0.09382978723404255, 0.5942553191489361]\n",
      "----------> Creating mixture 0... \n",
      "----------> Creating mixture 1... \n",
      "----------> Creating mixture 2... \n",
      "----------> Creating mixture 3... \n",
      "----------> Creating mixture 4... \n",
      "----------> Creating mixture 5... \n",
      "----------> Creating mixture 6... \n",
      "----------> Creating mixture 7... \n",
      "----------> Creating mixture 8... \n",
      "----------> Creating mixture 9... \n",
      "----------> Creating mixture 10... \n",
      "----------> Creating mixture 11... \n",
      "----------> Creating mixture 12... \n",
      "----------> Creating mixture 13... \n",
      "----------> Creating mixture 14... \n",
      "----------> Creating mixture 15... \n",
      "----------> Creating mixture 16... \n",
      "----------> Creating mixture 17... \n",
      "----------> Creating mixture 18... \n",
      "----------> Creating mixture 19... \n",
      "--> PROPORTION: [0.01, 0.2422340425531915, 0.05265957446808511, 0.0947872340425532, 0.6003191489361701]\n",
      "----------> Creating mixture 0... \n",
      "----------> Creating mixture 1... \n",
      "----------> Creating mixture 2... \n",
      "----------> Creating mixture 3... \n",
      "----------> Creating mixture 4... \n",
      "----------> Creating mixture 5... \n",
      "----------> Creating mixture 6... \n",
      "----------> Creating mixture 7... \n",
      "----------> Creating mixture 8... \n",
      "----------> Creating mixture 9... \n",
      "----------> Creating mixture 10... \n",
      "----------> Creating mixture 11... \n",
      "----------> Creating mixture 12... \n",
      "----------> Creating mixture 13... \n",
      "----------> Creating mixture 14... \n",
      "----------> Creating mixture 15... \n",
      "----------> Creating mixture 16... \n",
      "----------> Creating mixture 17... \n",
      "----------> Creating mixture 18... \n",
      "----------> Creating mixture 19... \n",
      "--> PROPORTION: [0.008, 0.24272340425531916, 0.052765957446808516, 0.09497872340425532, 0.6015319148936169]\n",
      "----------> Creating mixture 0... \n",
      "----------> Creating mixture 1... \n",
      "----------> Creating mixture 2... \n",
      "----------> Creating mixture 3... \n",
      "----------> Creating mixture 4... \n",
      "----------> Creating mixture 5... \n",
      "----------> Creating mixture 6... \n",
      "----------> Creating mixture 7... \n",
      "----------> Creating mixture 8... \n",
      "----------> Creating mixture 9... \n",
      "----------> Creating mixture 10... \n",
      "----------> Creating mixture 11... \n",
      "----------> Creating mixture 12... \n",
      "----------> Creating mixture 13... \n",
      "----------> Creating mixture 14... \n",
      "----------> Creating mixture 15... \n",
      "----------> Creating mixture 16... \n",
      "----------> Creating mixture 17... \n",
      "----------> Creating mixture 18... \n",
      "----------> Creating mixture 19... \n",
      "--> PROPORTION: [0.006, 0.2432127659574468, 0.05287234042553192, 0.09517021276595744, 0.6027446808510638]\n",
      "----------> Creating mixture 0... \n",
      "----------> Creating mixture 1... \n",
      "----------> Creating mixture 2... \n",
      "----------> Creating mixture 3... \n",
      "----------> Creating mixture 4... \n",
      "----------> Creating mixture 5... \n",
      "----------> Creating mixture 6... \n",
      "----------> Creating mixture 7... \n",
      "----------> Creating mixture 8... \n",
      "----------> Creating mixture 9... \n",
      "----------> Creating mixture 10... \n",
      "----------> Creating mixture 11... \n",
      "----------> Creating mixture 12... \n",
      "----------> Creating mixture 13... \n",
      "----------> Creating mixture 14... \n",
      "----------> Creating mixture 15... \n",
      "----------> Creating mixture 16... \n",
      "----------> Creating mixture 17... \n",
      "----------> Creating mixture 18... \n",
      "----------> Creating mixture 19... \n",
      "--> PROPORTION: [0.004, 0.2437021276595745, 0.05297872340425533, 0.09536170212765957, 0.6039574468085106]\n",
      "----------> Creating mixture 0... \n",
      "----------> Creating mixture 1... \n",
      "----------> Creating mixture 2... \n",
      "----------> Creating mixture 3... \n",
      "----------> Creating mixture 4... \n",
      "----------> Creating mixture 5... \n",
      "----------> Creating mixture 6... \n",
      "----------> Creating mixture 7... \n",
      "----------> Creating mixture 8... \n",
      "----------> Creating mixture 9... \n",
      "----------> Creating mixture 10... \n",
      "----------> Creating mixture 11... \n",
      "----------> Creating mixture 12... \n",
      "----------> Creating mixture 13... \n",
      "----------> Creating mixture 14... \n",
      "----------> Creating mixture 15... \n",
      "----------> Creating mixture 16... \n",
      "----------> Creating mixture 17... \n",
      "----------> Creating mixture 18... \n",
      "----------> Creating mixture 19... \n",
      "--> PROPORTION: [0.002, 0.24419148936170215, 0.05308510638297873, 0.0955531914893617, 0.6051702127659574]\n",
      "----------> Creating mixture 0... \n",
      "----------> Creating mixture 1... \n",
      "----------> Creating mixture 2... \n",
      "----------> Creating mixture 3... \n",
      "----------> Creating mixture 4... \n",
      "----------> Creating mixture 5... \n",
      "----------> Creating mixture 6... \n",
      "----------> Creating mixture 7... \n",
      "----------> Creating mixture 8... \n",
      "----------> Creating mixture 9... \n",
      "----------> Creating mixture 10... \n",
      "----------> Creating mixture 11... \n",
      "----------> Creating mixture 12... \n",
      "----------> Creating mixture 13... \n",
      "----------> Creating mixture 14... \n",
      "----------> Creating mixture 15... \n",
      "----------> Creating mixture 16... \n",
      "----------> Creating mixture 17... \n",
      "----------> Creating mixture 18... \n",
      "----------> Creating mixture 19... \n",
      "--> PROPORTION: [0.001, 0.24443617021276598, 0.05313829787234043, 0.09564893617021276, 0.6057765957446808]\n",
      "----------> Creating mixture 0... \n",
      "----------> Creating mixture 1... \n",
      "----------> Creating mixture 2... \n",
      "----------> Creating mixture 3... \n",
      "----------> Creating mixture 4... \n",
      "----------> Creating mixture 5... \n",
      "----------> Creating mixture 6... \n",
      "----------> Creating mixture 7... \n",
      "----------> Creating mixture 8... \n",
      "----------> Creating mixture 9... \n",
      "----------> Creating mixture 10... \n",
      "----------> Creating mixture 11... \n",
      "----------> Creating mixture 12... \n",
      "----------> Creating mixture 13... \n",
      "----------> Creating mixture 14... \n",
      "----------> Creating mixture 15... \n",
      "----------> Creating mixture 16... \n",
      "----------> Creating mixture 17... \n",
      "----------> Creating mixture 18... \n",
      "----------> Creating mixture 19... \n",
      "--> PROPORTION: [0, 0.2446808510638298, 0.053191489361702135, 0.09574468085106383, 0.6063829787234042]\n",
      "----------> Creating mixture 0... \n",
      "----------> Creating mixture 1... \n",
      "----------> Creating mixture 2... \n",
      "----------> Creating mixture 3... \n",
      "----------> Creating mixture 4... \n",
      "----------> Creating mixture 5... \n",
      "----------> Creating mixture 6... \n",
      "----------> Creating mixture 7... \n",
      "----------> Creating mixture 8... \n",
      "----------> Creating mixture 9... \n",
      "----------> Creating mixture 10... \n",
      "----------> Creating mixture 11... \n",
      "----------> Creating mixture 12... \n",
      "----------> Creating mixture 13... \n",
      "----------> Creating mixture 14... \n",
      "----------> Creating mixture 15... \n",
      "----------> Creating mixture 16... \n",
      "----------> Creating mixture 17... \n",
      "----------> Creating mixture 18... \n",
      "----------> Creating mixture 19... \n",
      ">>> Complete. <<< \n",
      "\n",
      "CPU times: user 2.03 s, sys: 614 ms, total: 2.65 s\n",
      "Wall time: 1h 2min 48s\n"
     ]
    }
   ],
   "source": [
    "%%time\n",
    "# load parquet files for each celltype & count rows\n",
    "parquet_df, total_reads_per_celltype = cm.load_parquet_dataframe(parquet_path=PARQUET_PATH,\n",
    "                                                                  cell_types=CELLTYPES,\n",
    "                                                                  spark=spark,\n",
    "                                                                  verbose=True)\n",
    "\n",
    "# mix cell types for each proportion set\n",
    "cm.mix_celltypes_multiple_proportions(parquet_df=parquet_df,\n",
    "                                       total_reads_per_celltype=total_reads_per_celltype,\n",
    "                                    #    n=len(TITRATION_LIST), \n",
    "                                       n=N_REPLICATES,\n",
    "                                       cell_types=CELLTYPES, \n",
    "                                       cell_type_abridged_name=ABRIDGED_NAMES, \n",
    "                                       total_reads_to_sample=TOTAL_READS_TO_SAMPLE, \n",
    "                                       list_of_proportions=PROPORTIONS, \n",
    "                                       seed=SEED, \n",
    "                                       result_path=RESULT_PATH, \n",
    "                                       spark=spark,\n",
    "                                       verbose=False, \n",
    "                                       save=True)"
   ]
  },
  {
   "cell_type": "markdown",
   "id": "92c60e6f",
   "metadata": {
    "papermill": {
     "duration": 0.057641,
     "end_time": "2023-09-01T00:07:23.003096",
     "exception": false,
     "start_time": "2023-09-01T00:07:22.945455",
     "status": "completed"
    },
    "tags": []
   },
   "source": [
    "## Compute score matrix"
   ]
  },
  {
   "cell_type": "code",
   "execution_count": 9,
   "id": "954847c7",
   "metadata": {
    "execution": {
     "iopub.execute_input": "2023-09-01T00:07:23.111790Z",
     "iopub.status.busy": "2023-09-01T00:07:23.111376Z",
     "iopub.status.idle": "2023-09-01T00:07:23.117444Z",
     "shell.execute_reply": "2023-09-01T00:07:23.116692Z"
    },
    "papermill": {
     "duration": 0.04661,
     "end_time": "2023-09-01T00:07:23.121164",
     "exception": false,
     "start_time": "2023-09-01T00:07:23.074554",
     "status": "completed"
    },
    "tags": []
   },
   "outputs": [],
   "source": [
    "############################\n",
    "#   Parameters and paths   # \n",
    "############################\n",
    "\n",
    "FILTER_CG_COUNT = 3\n",
    "FILTER_CG_COUNT_REGION = 1\n",
    "\n",
    "REGIONS = 'deconvolution_v2.v23_conv.with_cpg_index'\n",
    "REGION_BED_COLS = [\n",
    "    'region_chr', 'region_start', 'region_end', \n",
    "    'region_cpg_index_min', 'region_cpg_index_max', 'region_id'\n",
    "]\n",
    "\n",
    "# Regions\n",
    "REGION_PATH = (\n",
    "    PROJECT_DIR + '/stage/panel_data/{regions}.bed'\n",
    ").format(regions=REGIONS)\n",
    "\n",
    "# CpG map; genomic coordinate to CpG index;\n",
    "CPG_MAP_PATH = PROJECT_DIR + '/stage/cpg_loci/cpg_loci_hg19.combined_annot.tsv.gz'\n",
    "\n",
    "#--- Where to store results\n",
    "PATH_TO_MIXTURE_DIR = EXPERIMENT_CELLTYPE_DIR + 'mixture/'\n",
    "RESULT_PATH = EXPERIMENT_CELLTYPE_DIR\n"
   ]
  },
  {
   "cell_type": "code",
   "execution_count": 10,
   "id": "feb82151",
   "metadata": {
    "execution": {
     "iopub.execute_input": "2023-09-01T00:07:23.192444Z",
     "iopub.status.busy": "2023-09-01T00:07:23.192005Z",
     "iopub.status.idle": "2023-09-01T00:07:23.195465Z",
     "shell.execute_reply": "2023-09-01T00:07:23.194777Z"
    },
    "papermill": {
     "duration": 0.042916,
     "end_time": "2023-09-01T00:07:23.199044",
     "exception": false,
     "start_time": "2023-09-01T00:07:23.156128",
     "status": "completed"
    },
    "tags": []
   },
   "outputs": [],
   "source": [
    "# cpg_map = pd.read_csv(CPG_MAP_PATH, usecols=['chr', 'start', 'end', 'cpg_index', 'cpg_index_hg38'], sep='\\t')"
   ]
  },
  {
   "cell_type": "code",
   "execution_count": 11,
   "id": "0e7ccae9",
   "metadata": {
    "execution": {
     "iopub.execute_input": "2023-09-01T00:07:23.358196Z",
     "iopub.status.busy": "2023-09-01T00:07:23.357753Z",
     "iopub.status.idle": "2023-09-01T00:07:23.361167Z",
     "shell.execute_reply": "2023-09-01T00:07:23.360437Z"
    },
    "papermill": {
     "duration": 0.09524,
     "end_time": "2023-09-01T00:07:23.373079",
     "exception": false,
     "start_time": "2023-09-01T00:07:23.277839",
     "status": "completed"
    },
    "tags": []
   },
   "outputs": [],
   "source": [
    "# %%time\n",
    "# ridxs = ~cpg_map['cpg_index_hg38'].isna()\n",
    "# hg19_hg38_map = dict(itertools.zip_longest(cpg_map[ridxs]['cpg_index'], cpg_map[ridxs]['cpg_index_hg38'].astype(int)))\n",
    "# hg38_hg19_map = dict(itertools.zip_longest(cpg_map[ridxs]['cpg_index_hg38'].astype(int), cpg_map[ridxs]['cpg_index']))"
   ]
  },
  {
   "cell_type": "code",
   "execution_count": 12,
   "id": "906533d3",
   "metadata": {
    "execution": {
     "iopub.execute_input": "2023-09-01T00:07:23.503289Z",
     "iopub.status.busy": "2023-09-01T00:07:23.502848Z",
     "iopub.status.idle": "2023-09-01T00:07:23.506274Z",
     "shell.execute_reply": "2023-09-01T00:07:23.505575Z"
    },
    "papermill": {
     "duration": 0.066267,
     "end_time": "2023-09-01T00:07:23.509874",
     "exception": false,
     "start_time": "2023-09-01T00:07:23.443607",
     "status": "completed"
    },
    "tags": []
   },
   "outputs": [],
   "source": [
    "# region_df = pd.read_csv(REGION_PATH, sep='\\t', usecols=range(0, 6), names=REGION_BED_COLS)\n",
    "\n",
    "# region_df['region_cpg_index_max'] -= 1\n",
    "# region_df.sort_values('region_cpg_index_min', inplace=True)\n",
    "# region_df['region_cpg_index_min_hg38'] = region_df['region_cpg_index_min'].map(hg19_hg38_map)\n",
    "# region_df['region_cpg_index_max_hg38'] = region_df['region_cpg_index_max'].map(hg19_hg38_map)\n",
    "\n",
    "# region_df.shape[0], region_df['region_id'].nunique()"
   ]
  },
  {
   "cell_type": "code",
   "execution_count": 13,
   "id": "78132fcb",
   "metadata": {
    "execution": {
     "iopub.execute_input": "2023-09-01T00:07:23.588036Z",
     "iopub.status.busy": "2023-09-01T00:07:23.587620Z",
     "iopub.status.idle": "2023-09-01T00:07:23.591016Z",
     "shell.execute_reply": "2023-09-01T00:07:23.590265Z"
    },
    "papermill": {
     "duration": 0.051779,
     "end_time": "2023-09-01T00:07:23.603557",
     "exception": false,
     "start_time": "2023-09-01T00:07:23.551778",
     "status": "completed"
    },
    "tags": []
   },
   "outputs": [],
   "source": [
    "# ridxs = ~region_df['region_cpg_index_min_hg38'].isna()\n",
    "# ridxs &= ~region_df['region_cpg_index_max_hg38'].isna()\n",
    "# region_df = region_df[ridxs].copy()\n",
    "# region_df.shape[0], region_df['region_id'].nunique()"
   ]
  },
  {
   "cell_type": "code",
   "execution_count": 14,
   "id": "d1096ec1",
   "metadata": {
    "execution": {
     "iopub.execute_input": "2023-09-01T00:07:23.675484Z",
     "iopub.status.busy": "2023-09-01T00:07:23.675045Z",
     "iopub.status.idle": "2023-09-01T00:07:23.678471Z",
     "shell.execute_reply": "2023-09-01T00:07:23.677764Z"
    },
    "papermill": {
     "duration": 0.043328,
     "end_time": "2023-09-01T00:07:23.681905",
     "exception": false,
     "start_time": "2023-09-01T00:07:23.638577",
     "status": "completed"
    },
    "tags": []
   },
   "outputs": [],
   "source": [
    "# cg_count_hg19 = region_df['region_cpg_index_max']-region_df['region_cpg_index_min'] + 1\n",
    "# cg_count_hg38 = region_df['region_cpg_index_max_hg38']-region_df['region_cpg_index_min_hg38'] + 1\n",
    "# ridxs = (cg_count_hg19==cg_count_hg38)\n",
    "# ridxs &= (cg_count_hg19>=FILTER_CG_COUNT_REGION)\n",
    "# region_df = region_df[ridxs].copy()\n",
    "# region_df.shape[0], region_df['region_id'].nunique()"
   ]
  },
  {
   "cell_type": "code",
   "execution_count": 15,
   "id": "7c675165",
   "metadata": {
    "execution": {
     "iopub.execute_input": "2023-09-01T00:07:23.760911Z",
     "iopub.status.busy": "2023-09-01T00:07:23.760502Z",
     "iopub.status.idle": "2023-09-01T00:07:23.763850Z",
     "shell.execute_reply": "2023-09-01T00:07:23.763034Z"
    },
    "papermill": {
     "duration": 0.04367,
     "end_time": "2023-09-01T00:07:23.767632",
     "exception": false,
     "start_time": "2023-09-01T00:07:23.723962",
     "status": "completed"
    },
    "tags": []
   },
   "outputs": [],
   "source": [
    "# region_df['region_cpg_index_min_hg38'] = region_df['region_cpg_index_min_hg38'].astype(int)\n",
    "# region_df['region_cpg_index_max_hg38'] = region_df['region_cpg_index_max_hg38'].astype(int)"
   ]
  },
  {
   "cell_type": "code",
   "execution_count": 16,
   "id": "d9e0f5e9",
   "metadata": {
    "execution": {
     "iopub.execute_input": "2023-09-01T00:07:23.839836Z",
     "iopub.status.busy": "2023-09-01T00:07:23.839400Z",
     "iopub.status.idle": "2023-09-01T00:07:23.843050Z",
     "shell.execute_reply": "2023-09-01T00:07:23.842353Z"
    },
    "papermill": {
     "duration": 0.044583,
     "end_time": "2023-09-01T00:07:23.847533",
     "exception": false,
     "start_time": "2023-09-01T00:07:23.802950",
     "status": "completed"
    },
    "tags": []
   },
   "outputs": [],
   "source": [
    "# ### Restrict to immune regions\n",
    "# #-------------- CHANGE HERE FOR DIFFERENT REGION SUBSET ----------------------\n",
    "# # BLUEPRINT immune regions\n",
    "# ATLAS_PATH = PROJECT_DIR + f'/output/reference/deconv_inhouse_v2.atlas.tsv.gz'\n",
    "# atlas = pd.read_csv(ATLAS_PATH, sep='\\t')\n",
    "# subset_region_set = set(atlas.region_id)\n",
    "# #-----------------------------------------------------------------------------\n",
    "\n",
    "# # filter regions down to regions of interest\n",
    "# region_df = region_df[region_df['region_id'].isin(subset_region_set)]\n",
    "# region_df.head()"
   ]
  },
  {
   "cell_type": "code",
   "execution_count": 17,
   "id": "1f27fd55",
   "metadata": {
    "execution": {
     "iopub.execute_input": "2023-09-01T00:07:23.927005Z",
     "iopub.status.busy": "2023-09-01T00:07:23.926581Z",
     "iopub.status.idle": "2023-09-01T01:40:37.901909Z",
     "shell.execute_reply": "2023-09-01T01:40:37.900939Z"
    },
    "papermill": {
     "duration": 5594.111605,
     "end_time": "2023-09-01T01:40:38.001639",
     "exception": false,
     "start_time": "2023-09-01T00:07:23.890034",
     "status": "completed"
    },
    "tags": []
   },
   "outputs": [
    {
     "name": "stdout",
     "output_type": "stream",
     "text": [
      ">>> Start computing score matrices <<< \n",
      "\n",
      "--> E2B_E1957T_E0426NK_E0766MONO_E4851NEUTRO\n",
      "--------> Computing score matrix for mix0_seed807624\n",
      "--------> Computing score matrix for mix1_seed468585\n",
      "--------> Computing score matrix for mix2_seed529349\n",
      "--------> Computing score matrix for mix3_seed85677\n",
      "--------> Computing score matrix for mix4_seed833062\n",
      "--------> Computing score matrix for mix5_seed474228\n",
      "--------> Computing score matrix for mix6_seed205358\n",
      "--------> Computing score matrix for mix7_seed858531\n",
      "--------> Computing score matrix for mix8_seed709079\n",
      "--------> Computing score matrix for mix9_seed86752\n",
      "--------> Computing score matrix for mix10_seed360004\n",
      "--------> Computing score matrix for mix11_seed311545\n",
      "--------> Computing score matrix for mix12_seed860236\n",
      "--------> Computing score matrix for mix13_seed163145\n",
      "--------> Computing score matrix for mix14_seed30506\n",
      "--------> Computing score matrix for mix15_seed48414\n",
      "--------> Computing score matrix for mix16_seed841073\n",
      "--------> Computing score matrix for mix17_seed323652\n",
      "--------> Computing score matrix for mix18_seed219258\n",
      "--------> Computing score matrix for mix19_seed136928\n",
      "\n",
      "\n",
      "--> E15B_E208T_E0452NK_E0814MONO_E5154NEUTRO\n",
      "--------> Computing score matrix for mix0_seed433927\n",
      "--------> Computing score matrix for mix1_seed103593\n",
      "--------> Computing score matrix for mix2_seed710610\n",
      "--------> Computing score matrix for mix3_seed432421\n",
      "--------> Computing score matrix for mix4_seed657275\n",
      "--------> Computing score matrix for mix5_seed489087\n",
      "--------> Computing score matrix for mix6_seed422113\n",
      "--------> Computing score matrix for mix7_seed982373\n",
      "--------> Computing score matrix for mix8_seed567657\n",
      "--------> Computing score matrix for mix9_seed70154\n",
      "--------> Computing score matrix for mix10_seed71015\n",
      "--------> Computing score matrix for mix11_seed340835\n",
      "--------> Computing score matrix for mix12_seed38994\n",
      "--------> Computing score matrix for mix13_seed322289\n",
      "--------> Computing score matrix for mix14_seed852044\n",
      "--------> Computing score matrix for mix15_seed900289\n",
      "--------> Computing score matrix for mix16_seed848045\n",
      "--------> Computing score matrix for mix17_seed716226\n",
      "--------> Computing score matrix for mix18_seed171262\n",
      "--------> Computing score matrix for mix19_seed385539\n",
      "\n",
      "\n",
      "--> E1B_E2202T_E0479NK_E0862MONO_E5457NEUTRO\n",
      "--------> Computing score matrix for mix0_seed526983\n",
      "--------> Computing score matrix for mix1_seed700547\n",
      "--------> Computing score matrix for mix2_seed270544\n",
      "--------> Computing score matrix for mix3_seed320525\n",
      "--------> Computing score matrix for mix4_seed545492\n",
      "--------> Computing score matrix for mix5_seed858881\n",
      "--------> Computing score matrix for mix6_seed850056\n",
      "--------> Computing score matrix for mix7_seed653076\n",
      "--------> Computing score matrix for mix8_seed59388\n",
      "--------> Computing score matrix for mix9_seed207169\n",
      "--------> Computing score matrix for mix10_seed772729\n",
      "--------> Computing score matrix for mix11_seed833877\n",
      "--------> Computing score matrix for mix12_seed139264\n",
      "--------> Computing score matrix for mix13_seed760876\n",
      "--------> Computing score matrix for mix14_seed985485\n",
      "--------> Computing score matrix for mix15_seed418421\n",
      "--------> Computing score matrix for mix16_seed951378\n",
      "--------> Computing score matrix for mix17_seed524387\n",
      "--------> Computing score matrix for mix18_seed459586\n",
      "--------> Computing score matrix for mix19_seed655679\n",
      "\n",
      "\n",
      "--> E08B_E2251T_E0489NK_E0881MONO_E5579NEUTRO\n",
      "--------> Computing score matrix for mix0_seed174361\n",
      "--------> Computing score matrix for mix1_seed183384\n",
      "--------> Computing score matrix for mix2_seed880752\n",
      "--------> Computing score matrix for mix3_seed122581\n",
      "--------> Computing score matrix for mix4_seed119604\n",
      "--------> Computing score matrix for mix5_seed496753\n",
      "--------> Computing score matrix for mix6_seed115523\n",
      "--------> Computing score matrix for mix7_seed867497\n",
      "--------> Computing score matrix for mix8_seed231656\n",
      "--------> Computing score matrix for mix9_seed622365\n",
      "--------> Computing score matrix for mix10_seed346385\n",
      "--------> Computing score matrix for mix11_seed484455\n",
      "--------> Computing score matrix for mix12_seed911498\n",
      "--------> Computing score matrix for mix13_seed723283\n",
      "--------> Computing score matrix for mix14_seed325608\n",
      "--------> Computing score matrix for mix15_seed127121\n",
      "--------> Computing score matrix for mix16_seed668278\n",
      "--------> Computing score matrix for mix17_seed85224\n",
      "--------> Computing score matrix for mix18_seed827710\n",
      "--------> Computing score matrix for mix19_seed934055\n",
      "\n",
      "\n",
      "--> E06B_E23T_E05NK_E09MONO_E57NEUTRO\n",
      "--------> Computing score matrix for mix0_seed4453\n",
      "--------> Computing score matrix for mix1_seed857135\n",
      "--------> Computing score matrix for mix2_seed279914\n",
      "--------> Computing score matrix for mix3_seed792879\n",
      "--------> Computing score matrix for mix4_seed451105\n",
      "--------> Computing score matrix for mix5_seed630157\n",
      "--------> Computing score matrix for mix6_seed574543\n",
      "--------> Computing score matrix for mix7_seed69699\n",
      "--------> Computing score matrix for mix8_seed570484\n",
      "--------> Computing score matrix for mix9_seed81972\n",
      "--------> Computing score matrix for mix10_seed871523\n",
      "--------> Computing score matrix for mix11_seed55921\n",
      "--------> Computing score matrix for mix12_seed645313\n",
      "--------> Computing score matrix for mix13_seed522030\n",
      "--------> Computing score matrix for mix14_seed270474\n",
      "--------> Computing score matrix for mix15_seed980329\n",
      "--------> Computing score matrix for mix16_seed593971\n",
      "--------> Computing score matrix for mix17_seed105733\n",
      "--------> Computing score matrix for mix18_seed200762\n",
      "--------> Computing score matrix for mix19_seed73407\n",
      "\n",
      "\n",
      "--> E04B_E2349T_E0511NK_E0919MONO_E5821NEUTRO\n",
      "--------> Computing score matrix for mix0_seed584293\n",
      "--------> Computing score matrix for mix1_seed923419\n",
      "--------> Computing score matrix for mix2_seed493429\n",
      "--------> Computing score matrix for mix3_seed72631\n",
      "--------> Computing score matrix for mix4_seed791128\n",
      "--------> Computing score matrix for mix5_seed347720\n",
      "--------> Computing score matrix for mix6_seed150297\n",
      "--------> Computing score matrix for mix7_seed366963\n",
      "--------> Computing score matrix for mix8_seed716374\n",
      "--------> Computing score matrix for mix9_seed264090\n",
      "--------> Computing score matrix for mix10_seed825122\n",
      "--------> Computing score matrix for mix11_seed714460\n",
      "--------> Computing score matrix for mix12_seed476036\n",
      "--------> Computing score matrix for mix13_seed988867\n",
      "--------> Computing score matrix for mix14_seed691296\n",
      "--------> Computing score matrix for mix15_seed275917\n",
      "--------> Computing score matrix for mix16_seed970205\n",
      "--------> Computing score matrix for mix17_seed590620\n",
      "--------> Computing score matrix for mix18_seed438487\n",
      "--------> Computing score matrix for mix19_seed660786\n",
      "\n",
      "\n",
      "--> E02B_E2398T_E0521NK_E0938MONO_E5943NEUTRO\n",
      "--------> Computing score matrix for mix0_seed173690\n",
      "--------> Computing score matrix for mix1_seed144746\n",
      "--------> Computing score matrix for mix2_seed635108\n",
      "--------> Computing score matrix for mix3_seed46139\n",
      "--------> Computing score matrix for mix4_seed898861\n",
      "--------> Computing score matrix for mix5_seed658578\n",
      "--------> Computing score matrix for mix6_seed793773\n",
      "--------> Computing score matrix for mix7_seed387989\n",
      "--------> Computing score matrix for mix8_seed668362\n",
      "--------> Computing score matrix for mix9_seed898122\n",
      "--------> Computing score matrix for mix10_seed245598\n",
      "--------> Computing score matrix for mix11_seed233934\n",
      "--------> Computing score matrix for mix12_seed160763\n",
      "--------> Computing score matrix for mix13_seed259421\n",
      "--------> Computing score matrix for mix14_seed629624\n",
      "--------> Computing score matrix for mix15_seed635544\n",
      "--------> Computing score matrix for mix16_seed291557\n",
      "--------> Computing score matrix for mix17_seed344639\n",
      "--------> Computing score matrix for mix18_seed905569\n",
      "--------> Computing score matrix for mix19_seed694781\n",
      "\n",
      "\n",
      "--> E01B_E2422T_E0527NK_E0948MONO_E6003NEUTRO\n",
      "--------> Computing score matrix for mix0_seed435156\n",
      "--------> Computing score matrix for mix1_seed710239\n",
      "--------> Computing score matrix for mix2_seed137738\n",
      "--------> Computing score matrix for mix3_seed962846\n",
      "--------> Computing score matrix for mix4_seed792384\n",
      "--------> Computing score matrix for mix5_seed342127\n",
      "--------> Computing score matrix for mix6_seed474583\n",
      "--------> Computing score matrix for mix7_seed320679\n",
      "--------> Computing score matrix for mix8_seed343284\n",
      "--------> Computing score matrix for mix9_seed572922\n",
      "--------> Computing score matrix for mix10_seed860400\n",
      "--------> Computing score matrix for mix11_seed718921\n",
      "--------> Computing score matrix for mix12_seed519660\n",
      "--------> Computing score matrix for mix13_seed788645\n",
      "--------> Computing score matrix for mix14_seed408995\n",
      "--------> Computing score matrix for mix15_seed960058\n",
      "--------> Computing score matrix for mix16_seed692624\n",
      "--------> Computing score matrix for mix17_seed159700\n",
      "--------> Computing score matrix for mix18_seed110302\n",
      "--------> Computing score matrix for mix19_seed133051\n",
      "\n",
      "\n",
      "--> E008B_E2427T_E0528NK_E095MONO_E6015NEUTRO\n",
      "--------> Computing score matrix for mix0_seed418951\n",
      "--------> Computing score matrix for mix1_seed187275\n",
      "--------> Computing score matrix for mix2_seed474061\n",
      "--------> Computing score matrix for mix3_seed894284\n",
      "--------> Computing score matrix for mix4_seed719371\n",
      "--------> Computing score matrix for mix5_seed114980\n",
      "--------> Computing score matrix for mix6_seed853388\n",
      "--------> Computing score matrix for mix7_seed911622\n",
      "--------> Computing score matrix for mix8_seed196163\n",
      "--------> Computing score matrix for mix9_seed651976\n",
      "--------> Computing score matrix for mix10_seed796391\n",
      "--------> Computing score matrix for mix11_seed671533\n",
      "--------> Computing score matrix for mix12_seed553961\n",
      "--------> Computing score matrix for mix13_seed778269\n",
      "--------> Computing score matrix for mix14_seed130253\n",
      "--------> Computing score matrix for mix15_seed40062\n",
      "--------> Computing score matrix for mix16_seed883912\n",
      "--------> Computing score matrix for mix17_seed194413\n",
      "--------> Computing score matrix for mix18_seed186350\n",
      "--------> Computing score matrix for mix19_seed438203\n",
      "\n",
      "\n",
      "--> E006B_E2432T_E0529NK_E0952MONO_E6027NEUTRO\n",
      "--------> Computing score matrix for mix0_seed407249\n",
      "--------> Computing score matrix for mix1_seed564743\n",
      "--------> Computing score matrix for mix2_seed899169\n",
      "--------> Computing score matrix for mix3_seed309348\n",
      "--------> Computing score matrix for mix4_seed273010\n",
      "--------> Computing score matrix for mix5_seed617478\n",
      "--------> Computing score matrix for mix6_seed218062\n",
      "--------> Computing score matrix for mix7_seed981250\n",
      "--------> Computing score matrix for mix8_seed685440\n",
      "--------> Computing score matrix for mix9_seed644462\n",
      "--------> Computing score matrix for mix10_seed961073\n",
      "--------> Computing score matrix for mix11_seed918989\n",
      "--------> Computing score matrix for mix12_seed575166\n",
      "--------> Computing score matrix for mix13_seed436461\n",
      "--------> Computing score matrix for mix14_seed689276\n",
      "--------> Computing score matrix for mix15_seed960959\n",
      "--------> Computing score matrix for mix16_seed354294\n",
      "--------> Computing score matrix for mix17_seed798861\n",
      "--------> Computing score matrix for mix18_seed192832\n",
      "--------> Computing score matrix for mix19_seed639532\n",
      "\n",
      "\n",
      "--> E004B_E2437T_E053NK_E0954MONO_E604NEUTRO\n",
      "--------> Computing score matrix for mix0_seed834555\n",
      "--------> Computing score matrix for mix1_seed19102\n",
      "--------> Computing score matrix for mix2_seed911560\n",
      "--------> Computing score matrix for mix3_seed59861\n",
      "--------> Computing score matrix for mix4_seed819251\n",
      "--------> Computing score matrix for mix5_seed412338\n",
      "--------> Computing score matrix for mix6_seed818362\n",
      "--------> Computing score matrix for mix7_seed408669\n",
      "--------> Computing score matrix for mix8_seed276257\n",
      "--------> Computing score matrix for mix9_seed392877\n",
      "--------> Computing score matrix for mix10_seed558255\n",
      "--------> Computing score matrix for mix11_seed806633\n",
      "--------> Computing score matrix for mix12_seed953068\n",
      "--------> Computing score matrix for mix13_seed31054\n",
      "--------> Computing score matrix for mix14_seed992958\n",
      "--------> Computing score matrix for mix15_seed19002\n",
      "--------> Computing score matrix for mix16_seed190321\n",
      "--------> Computing score matrix for mix17_seed492715\n",
      "--------> Computing score matrix for mix18_seed153911\n",
      "--------> Computing score matrix for mix19_seed282501\n",
      "\n",
      "\n",
      "--> E002B_E2442T_E0531NK_E0956MONO_E6052NEUTRO\n",
      "--------> Computing score matrix for mix0_seed19103\n",
      "--------> Computing score matrix for mix1_seed605598\n",
      "--------> Computing score matrix for mix2_seed343190\n",
      "--------> Computing score matrix for mix3_seed185821\n",
      "--------> Computing score matrix for mix4_seed870356\n",
      "--------> Computing score matrix for mix5_seed972600\n",
      "--------> Computing score matrix for mix6_seed10705\n",
      "--------> Computing score matrix for mix7_seed922746\n",
      "--------> Computing score matrix for mix8_seed263053\n",
      "--------> Computing score matrix for mix9_seed552890\n",
      "--------> Computing score matrix for mix10_seed534738\n",
      "--------> Computing score matrix for mix11_seed436871\n",
      "--------> Computing score matrix for mix12_seed691005\n",
      "--------> Computing score matrix for mix13_seed783331\n",
      "--------> Computing score matrix for mix14_seed389072\n",
      "--------> Computing score matrix for mix15_seed328158\n",
      "--------> Computing score matrix for mix16_seed709964\n",
      "--------> Computing score matrix for mix17_seed211893\n",
      "--------> Computing score matrix for mix18_seed263238\n",
      "--------> Computing score matrix for mix19_seed50901\n",
      "\n",
      "\n",
      "--> E001B_E2444T_E0531NK_E0956MONO_E6058NEUTRO\n",
      "--------> Computing score matrix for mix0_seed856677\n",
      "--------> Computing score matrix for mix1_seed502140\n",
      "--------> Computing score matrix for mix2_seed480575\n",
      "--------> Computing score matrix for mix3_seed638248\n",
      "--------> Computing score matrix for mix4_seed279627\n",
      "--------> Computing score matrix for mix5_seed766170\n",
      "--------> Computing score matrix for mix6_seed760733\n",
      "--------> Computing score matrix for mix7_seed700897\n",
      "--------> Computing score matrix for mix8_seed210650\n",
      "--------> Computing score matrix for mix9_seed441584\n",
      "--------> Computing score matrix for mix10_seed436198\n",
      "--------> Computing score matrix for mix11_seed124669\n",
      "--------> Computing score matrix for mix12_seed939388\n",
      "--------> Computing score matrix for mix13_seed664886\n",
      "--------> Computing score matrix for mix14_seed570304\n",
      "--------> Computing score matrix for mix15_seed111326\n",
      "--------> Computing score matrix for mix16_seed374542\n",
      "--------> Computing score matrix for mix17_seed436425\n",
      "--------> Computing score matrix for mix18_seed424054\n",
      "--------> Computing score matrix for mix19_seed340711\n",
      "\n",
      "\n",
      "--> EB_E2447T_E0532NK_E0957MONO_E6064NEUTRO\n",
      "--------> Computing score matrix for mix0_seed577711\n",
      "--------> Computing score matrix for mix1_seed383747\n",
      "--------> Computing score matrix for mix2_seed384291\n",
      "--------> Computing score matrix for mix3_seed529290\n",
      "--------> Computing score matrix for mix4_seed260597\n",
      "--------> Computing score matrix for mix5_seed864795\n",
      "--------> Computing score matrix for mix6_seed424713\n",
      "--------> Computing score matrix for mix7_seed699527\n",
      "--------> Computing score matrix for mix8_seed408135\n",
      "--------> Computing score matrix for mix9_seed462464\n",
      "--------> Computing score matrix for mix10_seed389758\n",
      "--------> Computing score matrix for mix11_seed490816\n",
      "--------> Computing score matrix for mix12_seed911400\n",
      "--------> Computing score matrix for mix13_seed498956\n",
      "--------> Computing score matrix for mix14_seed474312\n",
      "--------> Computing score matrix for mix15_seed527651\n",
      "--------> Computing score matrix for mix16_seed723031\n",
      "--------> Computing score matrix for mix17_seed770285\n",
      "--------> Computing score matrix for mix18_seed280591\n",
      "--------> Computing score matrix for mix19_seed135516\n",
      "\n",
      "\n",
      ">>> Complete. <<< \n",
      "\n",
      "CPU times: user 25.9 s, sys: 1.37 s, total: 27.2 s\n",
      "Wall time: 1h 33min 13s\n"
     ]
    }
   ],
   "source": [
    "%%time\n",
    "\n",
    "PAT_COLS = [\n",
    "    'molecule_id', 'chr', 'number_molecules',\n",
    "    'cpg_index_min', 'cpg_index_max', 'pat_string', 'region_id', 'region_cpg_index_min', 'region_cpg_index_max'\n",
    "]\n",
    "\n",
    "QUANTILES = [0.1, 0.25, 0.75, 0.9]\n",
    "KMERS = [1, 3, 4]\n",
    "RATES_LEQ = [0.25]\n",
    "RATES_GEQ = [0.75]\n",
    "\n",
    "RETURN_SCHEMA = StructType()\\\n",
    "    .add('region_id', 'string')\\\n",
    "    .add('number_molecules', 'integer')\\\n",
    "    .add('meth_k1', 'integer')\\\n",
    "    .add('unmeth_k1', 'integer')\\\n",
    "    .add('total_k1', 'integer')\\\n",
    "    .add('meth_k3', 'integer')\\\n",
    "    .add('unmeth_k3', 'integer')\\\n",
    "    .add('total_k3', 'integer')\\\n",
    "    .add('meth_k4', 'integer')\\\n",
    "    .add('unmeth_k4', 'integer')\\\n",
    "    .add('total_k4', 'integer')\\\n",
    "    .add('frac_alpha_leq_25pct', 'float')\\\n",
    "    .add('frac_alpha_geq_75pct', 'float')\n",
    "\n",
    "compute_frag_scores_udf = sm.compute_frag_scores(cpg_number_cutoff=FILTER_CG_COUNT, schema=RETURN_SCHEMA, kmers=KMERS, rates_leq=RATES_LEQ, rates_geq=RATES_GEQ)\n",
    "\n",
    "\n",
    "# compute methyl score for are parquet files\n",
    "sm.score_matrix_from_mixture_directory(path_to_mixture_dir = PATH_TO_MIXTURE_DIR, \n",
    "                                       result_path = RESULT_PATH, \n",
    "                                       pat_cols = PAT_COLS,  \n",
    "                                       batch_size = 20, \n",
    "                                       schema = RETURN_SCHEMA, \n",
    "                                       spark=spark,\n",
    "                                       compute_frag_scores_udf=compute_frag_scores_udf,\n",
    "                                       save=True, \n",
    "                                       verbose=False)"
   ]
  },
  {
   "cell_type": "markdown",
   "id": "d2f79e5b",
   "metadata": {
    "papermill": {
     "duration": 0.095228,
     "end_time": "2023-09-01T01:40:38.167597",
     "exception": false,
     "start_time": "2023-09-01T01:40:38.072369",
     "status": "completed"
    },
    "tags": []
   },
   "source": [
    "## Deconvolution"
   ]
  },
  {
   "cell_type": "code",
   "execution_count": 18,
   "id": "9d00ecb7",
   "metadata": {
    "execution": {
     "iopub.execute_input": "2023-09-01T01:40:38.314655Z",
     "iopub.status.busy": "2023-09-01T01:40:38.314231Z",
     "iopub.status.idle": "2023-09-01T01:40:38.318909Z",
     "shell.execute_reply": "2023-09-01T01:40:38.318204Z"
    },
    "papermill": {
     "duration": 0.070815,
     "end_time": "2023-09-01T01:40:38.322223",
     "exception": false,
     "start_time": "2023-09-01T01:40:38.251408",
     "status": "completed"
    },
    "tags": []
   },
   "outputs": [],
   "source": [
    "############################\n",
    "#   Parameters and paths   # \n",
    "############################\n",
    "\n",
    "FILTER_COV = 20\n",
    "\n",
    "SCORE_VAR = 'frac_alpha_leq_25pct'\n",
    "\n",
    "# Reference matrix\n",
    "ATLAS_PATH = PROJECT_DIR + 'output/reference/deconv_inhouse_v2.t_combined.atlas.tsv.gz'\n",
    "REGION_PATH = PROJECT_DIR + 'output/reference/deconv_inhouse_v2.t_combined.region_to_ref_celltype.tsv.gz'\n",
    "\n",
    "# Methylation score matrix\n",
    "SCORE_DIR = EXPERIMENT_CELLTYPE_DIR + 'methyl_score/'\n"
   ]
  },
  {
   "cell_type": "code",
   "execution_count": 19,
   "id": "6ffa4727",
   "metadata": {
    "execution": {
     "iopub.execute_input": "2023-09-01T01:40:38.510709Z",
     "iopub.status.busy": "2023-09-01T01:40:38.510288Z",
     "iopub.status.idle": "2023-09-01T01:40:38.539116Z",
     "shell.execute_reply": "2023-09-01T01:40:38.538344Z"
    },
    "papermill": {
     "duration": 0.140336,
     "end_time": "2023-09-01T01:40:38.541223",
     "exception": false,
     "start_time": "2023-09-01T01:40:38.400887",
     "status": "completed"
    },
    "tags": []
   },
   "outputs": [
    {
     "data": {
      "text/plain": [
       "(280, 9)"
      ]
     },
     "execution_count": 19,
     "metadata": {},
     "output_type": "execute_result"
    }
   ],
   "source": [
    "atlas = pd.read_csv(ATLAS_PATH, sep='\\t',index_col=None)\n",
    "atlas = atlas.set_index('region_id')\n",
    "atlas.columns.name = 'ref_celltype'\n",
    "atlas.shape\n",
    "\n",
    "ref_region_df = pd.read_csv(REGION_PATH, sep='\\t')\n",
    "\n",
    "atlas = atlas.loc[ref_region_df['region_id'], :].copy()\n",
    "atlas.shape"
   ]
  },
  {
   "cell_type": "code",
   "execution_count": 21,
   "id": "8a08cf8c-c24e-4029-a6cc-35b0625174d1",
   "metadata": {
    "tags": []
   },
   "outputs": [
    {
     "data": {
      "text/plain": [
       "Index(['immune_b', 'immune_t', 'immune_nk', 'immune_dend_plus_macro_plus_mono', 'immune_eosi', 'immune_neutro', 'immune_eryth', 'immune_mega', 'eryth_prog'], dtype='object', name='ref_celltype')"
      ]
     },
     "execution_count": 21,
     "metadata": {},
     "output_type": "execute_result"
    }
   ],
   "source": [
    "atlas.columns"
   ]
  },
  {
   "cell_type": "code",
   "execution_count": 20,
   "id": "ea92200f",
   "metadata": {
    "execution": {
     "iopub.execute_input": "2023-09-01T01:40:38.712003Z",
     "iopub.status.busy": "2023-09-01T01:40:38.711585Z",
     "iopub.status.idle": "2023-09-01T01:40:38.714777Z",
     "shell.execute_reply": "2023-09-01T01:40:38.714131Z"
    },
    "papermill": {
     "duration": 0.066802,
     "end_time": "2023-09-01T01:40:38.716947",
     "exception": false,
     "start_time": "2023-09-01T01:40:38.650145",
     "status": "completed"
    },
    "tags": []
   },
   "outputs": [],
   "source": [
    "# ref_region_df['ref_celltype'][ref_region_df['ref_celltype'] == 'immune_cd4_t'] = 'immune_cd4'\n",
    "# ref_region_df['ref_celltype'][ref_region_df['ref_celltype'] == 'immune_cd8_t'] = 'immune_cd8'"
   ]
  },
  {
   "cell_type": "code",
   "execution_count": 21,
   "id": "983232c2",
   "metadata": {
    "execution": {
     "iopub.execute_input": "2023-09-01T01:40:38.860065Z",
     "iopub.status.busy": "2023-09-01T01:40:38.859605Z",
     "iopub.status.idle": "2023-09-01T01:40:49.569152Z",
     "shell.execute_reply": "2023-09-01T01:40:49.568310Z"
    },
    "papermill": {
     "duration": 10.774998,
     "end_time": "2023-09-01T01:40:49.570930",
     "exception": false,
     "start_time": "2023-09-01T01:40:38.795932",
     "status": "completed"
    },
    "tags": []
   },
   "outputs": [
    {
     "name": "stdout",
     "output_type": "stream",
     "text": [
      "CPU times: user 7.33 s, sys: 140 ms, total: 7.47 s\n",
      "Wall time: 10.7 s\n"
     ]
    }
   ],
   "source": [
    "%%time\n",
    "\n",
    "deconvolution_nnls = dcnv.compute_deconvolution_from_methyl_score_dir_nnls(path_to_methyl_score_dir=SCORE_DIR, \n",
    "                                                                          score_type=SCORE_VAR, \n",
    "                                                                          atlas=atlas, \n",
    "                                                                          match=False)\n",
    "\n",
    "deconvolution_naive = dcnv.compute_deconvolution_from_methyl_score_dir_naive(path_to_methyl_score_dir=SCORE_DIR, \n",
    "                                                                             filter_cov=FILTER_COV, \n",
    "                                                                             score_var=SCORE_VAR, \n",
    "                                                                             ref_region_df=ref_region_df)\n"
   ]
  },
  {
   "cell_type": "code",
   "execution_count": 22,
   "id": "1557aae5",
   "metadata": {
    "execution": {
     "iopub.execute_input": "2023-09-01T01:40:49.653426Z",
     "iopub.status.busy": "2023-09-01T01:40:49.653021Z",
     "iopub.status.idle": "2023-09-01T01:40:50.197017Z",
     "shell.execute_reply": "2023-09-01T01:40:50.196275Z"
    },
    "papermill": {
     "duration": 0.586856,
     "end_time": "2023-09-01T01:40:50.198755",
     "exception": false,
     "start_time": "2023-09-01T01:40:49.611899",
     "status": "completed"
    },
    "tags": []
   },
   "outputs": [
    {
     "data": {
      "image/png": "[encoded data removed]",
      "text/plain": [
       "<Figure size 864x432 with 1 Axes>"
      ]
     },
     "metadata": {
      "needs_background": "light"
     },
     "output_type": "display_data"
    }
   ],
   "source": [
    "dcnv.boxplot_titration(list_of_deconvolution_dfs=deconvolution_naive,\n",
    "                      cell_type=TITRATING_CELLTYPE_ATLAS,\n",
    "                      true_proportions=TITRATION_LIST,\n",
    "                      deconvolution_method_name='naive'\n",
    "                      )"
   ]
  },
  {
   "cell_type": "code",
   "execution_count": 23,
   "id": "3fea3b75",
   "metadata": {
    "execution": {
     "iopub.execute_input": "2023-09-01T01:40:50.280308Z",
     "iopub.status.busy": "2023-09-01T01:40:50.279821Z",
     "iopub.status.idle": "2023-09-01T01:40:50.826652Z",
     "shell.execute_reply": "2023-09-01T01:40:50.825820Z"
    },
    "papermill": {
     "duration": 0.583629,
     "end_time": "2023-09-01T01:40:50.828655",
     "exception": false,
     "start_time": "2023-09-01T01:40:50.245026",
     "status": "completed"
    },
    "tags": []
   },
   "outputs": [
    {
     "data": {
      "image/png": "[encoded data removed]",
      "text/plain": [
       "<Figure size 864x432 with 1 Axes>"
      ]
     },
     "metadata": {
      "needs_background": "light"
     },
     "output_type": "display_data"
    }
   ],
   "source": [
    "dcnv.boxplot_titration(list_of_deconvolution_dfs=deconvolution_nnls,\n",
    "                      cell_type=TITRATING_CELLTYPE_ATLAS,\n",
    "                      true_proportions=TITRATION_LIST,\n",
    "                      deconvolution_method_name='nnls'\n",
    "                      )"
   ]
  },
  {
   "cell_type": "code",
   "execution_count": 24,
   "id": "b525efc8",
   "metadata": {
    "execution": {
     "iopub.execute_input": "2023-09-01T01:40:50.912127Z",
     "iopub.status.busy": "2023-09-01T01:40:50.911812Z",
     "iopub.status.idle": "2023-09-01T01:40:52.401358Z",
     "shell.execute_reply": "2023-09-01T01:40:52.400332Z"
    },
    "papermill": {
     "duration": 1.533627,
     "end_time": "2023-09-01T01:40:52.404162",
     "exception": false,
     "start_time": "2023-09-01T01:40:50.870535",
     "status": "completed"
    },
    "tags": []
   },
   "outputs": [
    {
     "data": {
      "image/png": "[encoded data removed]",
      "text/plain": [
       "<Figure size 720x720 with 14 Axes>"
      ]
     },
     "metadata": {
      "needs_background": "light"
     },
     "output_type": "display_data"
    }
   ],
   "source": [
    "dcnv.boxplot_titration_zoom(list_of_deconvolution_dfs=deconvolution_naive,\n",
    "                      cell_type=TITRATING_CELLTYPE_ATLAS,\n",
    "                      true_proportions=TITRATION_LIST,\n",
    "                      deconvolution_method_name='naive'\n",
    "                      )"
   ]
  },
  {
   "cell_type": "code",
   "execution_count": 25,
   "id": "aab52b67",
   "metadata": {
    "execution": {
     "iopub.execute_input": "2023-09-01T01:40:52.512442Z",
     "iopub.status.busy": "2023-09-01T01:40:52.511978Z",
     "iopub.status.idle": "2023-09-01T01:40:54.480669Z",
     "shell.execute_reply": "2023-09-01T01:40:54.479678Z"
    },
    "papermill": {
     "duration": 2.023295,
     "end_time": "2023-09-01T01:40:54.482457",
     "exception": false,
     "start_time": "2023-09-01T01:40:52.459162",
     "status": "completed"
    },
    "tags": []
   },
   "outputs": [
    {
     "data": {
      "image/png": "[encoded data removed]",
      "text/plain": [
       "<Figure size 720x720 with 14 Axes>"
      ]
     },
     "metadata": {
      "needs_background": "light"
     },
     "output_type": "display_data"
    }
   ],
   "source": [
    "dcnv.boxplot_titration_zoom(list_of_deconvolution_dfs=deconvolution_nnls,\n",
    "                      cell_type=TITRATING_CELLTYPE_ATLAS,\n",
    "                      true_proportions=TITRATION_LIST,\n",
    "                      deconvolution_method_name='nnls'\n",
    "                      )"
   ]
  },
  {
   "cell_type": "code",
   "execution_count": 24,
   "id": "a41e1dff-462a-4780-8ea4-5a4cff2358c4",
   "metadata": {
    "tags": []
   },
   "outputs": [
    {
     "data": {
      "text/plain": [
       "'/analysis/gh-msun/projects/2023_06_26_SRT_deconvolution_MS/output/experiment/broad_blueprint/'"
      ]
     },
     "execution_count": 24,
     "metadata": {},
     "output_type": "execute_result"
    }
   ],
   "source": [
    "EXPERIMENT_DIR"
   ]
  },
  {
   "cell_type": "code",
   "execution_count": 26,
   "id": "1d887921",
   "metadata": {
    "papermill": {
     "duration": 0.063481,
     "end_time": "2023-09-01T01:40:54.591159",
     "exception": false,
     "start_time": "2023-09-01T01:40:54.527678",
     "status": "completed"
    },
    "tags": []
   },
   "outputs": [
    {
     "name": "stdout",
     "output_type": "stream",
     "text": [
      "CPU times: user 8.48 s, sys: 50.3 ms, total: 8.53 s\n",
      "Wall time: 8.53 s\n"
     ]
    }
   ],
   "source": [
    "%%time\n",
    "\n",
    "CELLTYPES = ['Blueprint-B',\n",
    "             'Blueprint-T',\n",
    "            'Blueprint-NK',\n",
    "            'Blueprint-Mono',\n",
    "            'Blueprint-Neutro']\n",
    "\n",
    "# load score data from all cell types\n",
    "deconvolution_nnls = []\n",
    "\n",
    "# TITRATION_LIST = teff_titrating_proprotions\n",
    "SCORE_VAR = 'frac_alpha_leq_25pct'\n",
    "FILTER_COV = 20\n",
    "\n",
    "for celltype in CELLTYPES: \n",
    "    EXPERIMENT_NAME = f'{celltype}-{BACKGROUND}/'            # <-- iterate over this\n",
    "    EXPERIMENT_CELLTYPE_DIR = EXPERIMENT_DIR + f'{EXPERIMENT_NAME}/'\n",
    "    SCORE_DIR = EXPERIMENT_CELLTYPE_DIR + 'methyl_score/'\n",
    "\n",
    "    # iterate nnls deconvolition on each score_df\n",
    "    deconv_nnls = dcnv.compute_deconvolution_from_methyl_score_dir_nnls(path_to_methyl_score_dir=SCORE_DIR, \n",
    "                                                                          score_type=SCORE_VAR, \n",
    "                                                                          atlas=atlas, \n",
    "                                                                          match=False)\n",
    "    \n",
    "    deconvolution_nnls.append(deconv_nnls)"
   ]
  },
  {
   "cell_type": "code",
   "execution_count": 28,
   "id": "3a8e2de6-ad03-496a-aa10-5f550025ac1d",
   "metadata": {
    "tags": []
   },
   "outputs": [],
   "source": [
    "sns.set_context('talk')"
   ]
  },
  {
   "cell_type": "code",
   "execution_count": 29,
   "id": "3038d608-ccdb-4c0d-abbd-ed4890cc1c16",
   "metadata": {
    "tags": []
   },
   "outputs": [
    {
     "data": {
      "image/png": "[encoded data removed]",
      "text/plain": [
       "<Figure size 432x288 with 1 Axes>"
      ]
     },
     "metadata": {
      "needs_background": "light"
     },
     "output_type": "display_data"
    }
   ],
   "source": [
    "# t effector, t reg order must follow the order in which the predictions were made\n",
    "dcnv.lod95_detect_plot(names=['B', 'T', 'NK', 'Mono', 'Neutro'],\n",
    "                  titrating_celltypes = ['immune_b', 'immune_t', 'immune_nk', 'immune_dend_plus_macro_plus_mono', 'immune_neutro'], \n",
    "                  titrating_celltype_proportion = TITRATION_LIST, \n",
    "                  deconvolution_preds = deconvolution_nnls, \n",
    "                  detection_threshold = 0.005, \n",
    "                  lod=0.95)"
   ]
  },
  {
   "cell_type": "code",
   "execution_count": 30,
   "id": "b7b2c398-5e7c-4a80-a3ab-eff70b02f365",
   "metadata": {
    "tags": []
   },
   "outputs": [
    {
     "data": {
      "image/png": "[encoded data removed]",
      "text/plain": [
       "<Figure size 432x288 with 1 Axes>"
      ]
     },
     "metadata": {
      "needs_background": "light"
     },
     "output_type": "display_data"
    }
   ],
   "source": [
    "dcnv.lod95_within_proportion_plot(names=['B', 'T', 'NK', 'Mono', 'Neutro'],\n",
    "                  titrating_celltypes = ['immune_b', 'immune_t', 'immune_nk', 'immune_dend_plus_macro_plus_mono', 'immune_neutro'], \n",
    "                              titrating_celltype_proportion = TITRATION_LIST, \n",
    "                              deconvolution_preds = deconvolution_nnls, \n",
    "                              tolerance = 0.3, \n",
    "                              lod=0.95)"
   ]
  },
  {
   "cell_type": "code",
   "execution_count": null,
   "id": "9ca57b6f-bc74-4fbb-902f-230a3678f01a",
   "metadata": {},
   "outputs": [],
   "source": []
  }
 ],
 "metadata": {
  "kernelspec": {
   "display_name": "Python 3",
   "language": "python",
   "name": "python3"
  },
  "language_info": {
   "codemirror_mode": {
    "name": "ipython",
    "version": 3
   },
   "file_extension": ".py",
   "mimetype": "text/x-python",
   "name": "python",
   "nbconvert_exporter": "python",
   "pygments_lexer": "ipython3",
   "version": "3.7.8"
  },
  "papermill": {
   "default_parameters": {},
   "duration": 9389.003474,
   "end_time": "2023-09-01T01:40:55.405252",
   "environment_variables": {},
   "exception": null,
   "input_path": "/analysis/gh-msun/projects/2023_06_26_SRT_deconvolution_MS//notebooks/titration/02_titration_experiment.ipynb",
   "output_path": "/analysis/gh-msun/projects/2023_06_26_SRT_deconvolution_MS//notebooks/titration/broad_blueprint_wholeblood/titration_B.ipynb",
   "parameters": {
    "ABRIDGED_NAMES": [
     "T",
     "B",
     "NK",
     "MONO",
     "NEUTRO"
    ],
    "BACKGROUND": "wholeblood",
    "CELLTYPES": [
     "Blueprint-T",
     "Blueprint-B",
     "Blueprint-NK",
     "Blueprint-Mono",
     "Blueprint-Neutro"
    ],
    "EXPERIMENT": "broad_blueprint",
    "N_REPLICATES": 20,
    "PROJECT_SLUG": "2023_06_26_SRT_deconvolution_MS",
    "ROOT_DIR": "/analysis/gh-msun/",
    "SEED": 452891,
    "TITRATING_CELLTYPE": "Blueprint-B",
    "TITRATING_CELLTYPE_ATLAS": "immune_b",
    "TITRATION_LIST": [
     0.2,
     0.15,
     0.1,
     0.08,
     0.06,
     0.04,
     0.02,
     0.01,
     0.008,
     0.006,
     0.004,
     0.002,
     0.001,
     0
    ],
    "TOTAL_READS_TO_SAMPLE": 1000000,
    "WHOLE_BLOOD_ABUNDANCE": {
     "Blueprint-B": 0.06,
     "Blueprint-Mono": 0.09,
     "Blueprint-NK": 0.05,
     "Blueprint-Neutro": 0.57,
     "Blueprint-T": 0.23
    }
   },
   "start_time": "2023-08-31T23:04:26.401778",
   "version": "2.4.0"
  }
 },
 "nbformat": 4,
 "nbformat_minor": 5
}
