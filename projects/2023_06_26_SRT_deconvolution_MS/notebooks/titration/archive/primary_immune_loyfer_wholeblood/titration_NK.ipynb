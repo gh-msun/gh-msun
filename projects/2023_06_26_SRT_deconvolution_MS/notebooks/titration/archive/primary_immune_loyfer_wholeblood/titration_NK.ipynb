{
 "cells": [
  {
   "cell_type": "markdown",
   "id": "9dd2ee6a",
   "metadata": {
    "papermill": {
     "duration": 0.005168,
     "end_time": "2023-08-08T04:58:35.492941",
     "exception": false,
     "start_time": "2023-08-08T04:58:35.487773",
     "status": "completed"
    },
    "tags": []
   },
   "source": [
    "# Titration Experiment"
   ]
  },
  {
   "cell_type": "code",
   "execution_count": 1,
   "id": "19fcc332",
   "metadata": {
    "papermill": {
     "duration": 0.012788,
     "end_time": "2023-08-08T04:58:35.518274",
     "exception": false,
     "start_time": "2023-08-08T04:58:35.505486",
     "status": "completed"
    },
    "tags": [
     "parameters"
    ]
   },
   "outputs": [],
   "source": [
    "#############################\n",
    "#   Experiment parameters   #\n",
    "#############################\n",
    "ROOT_DIR = '/analysis/gh-msun/'\n",
    "PROJECT_SLUG = '2023_06_26_SRT_deconvolution_MS'\n",
    "EXPERIMENT = 'primary_immune'\n",
    "TITRATING_CELLTYPE = 'Blueprint-B'\n",
    "TITRATING_CELLTYPE_ATLAS = 'immune_b' # cell type name in atlas different\n",
    "BACKGROUND = 'wholeblood' # background: uniform / wholeblood \n",
    "N_REPLICATES = 2 # number of replicates for each mixture\n",
    "SEED = 888 # need to change for different experiment\n",
    "TOTAL_READS_TO_SAMPLE = 1000000\n",
    "\n",
    "# make sure the orders of the two list match\n",
    "CELLTYPES = ['Blueprint-CD4', 'Blueprint-CD8', 'Blueprint-B', 'Blueprint-NK', 'Blueprint-Mono', 'Blueprint-Neutro']\n",
    "ABRIDGED_NAMES = ['CD4', 'CD8', 'B', 'NK', 'MONO', 'NEUTRO'] # for directory name\n",
    "\n",
    "TITRATION_LIST = [0.2, 0.15, 0.10, 0.08, 0.06, 0.04, 0.02, 0.01, \n",
    "                   0.008, 0.006, 0.004, 0.002, 0.001, 0]\n",
    "# TITRATION_LIST=[0.2, 0.15]\n",
    "\n",
    "# proportion of cells in real whole blood (sum to 1)\n",
    "WHOLE_BLOOD_ABUNDANCE = {'Blueprint-B':0.06,\n",
    "                         'Blueprint-Mono':0.09,\n",
    "                         'Blueprint-Neutro':0.57,\n",
    "                         'Blueprint-CD4':0.16,\n",
    "                         'Blueprint-CD8':0.07,\n",
    "                         'Blueprint-NK':0.05}\n",
    "    "
   ]
  },
  {
   "cell_type": "code",
   "execution_count": 2,
   "id": "26f6b91c",
   "metadata": {
    "papermill": {
     "duration": 0.010704,
     "end_time": "2023-08-08T04:58:35.533361",
     "exception": false,
     "start_time": "2023-08-08T04:58:35.522657",
     "status": "completed"
    },
    "tags": [
     "injected-parameters"
    ]
   },
   "outputs": [],
   "source": [
    "# Parameters\n",
    "ROOT_DIR = \"/analysis/gh-msun/\"\n",
    "PROJECT_SLUG = \"2023_06_26_SRT_deconvolution_MS\"\n",
    "EXPERIMENT = \"primary_immune_loyfer\"\n",
    "TITRATING_CELLTYPE = \"Blood-NK\"\n",
    "TITRATING_CELLTYPE_ATLAS = \"immune_nk\"\n",
    "BACKGROUND = \"wholeblood\"\n",
    "N_REPLICATES = 20\n",
    "SEED = 960318\n",
    "TOTAL_READS_TO_SAMPLE = 1000000\n",
    "CELLTYPES = [\"Blood-B\", \"Blood-CD4\", \"Blood-CD8\", \"Blood-Mono+Macro\", \"Blood-NK\", \"Blood-Granul\"]\n",
    "ABRIDGED_NAMES = [\"B\", \"CD4\", \"CD8\", \"MONO\", \"NK\", \"GRANUL\"]\n",
    "TITRATION_LIST = [0.2, 0.15, 0.1, 0.08, 0.06, 0.04, 0.02, 0.01, 0.008, 0.006, 0.004, 0.002, 0.001, 0]\n",
    "WHOLE_BLOOD_ABUNDANCE = {\"Blood-B\": 0.06, \"Blood-Mono+Macro\": 0.09, \"Blood-Granul\": 0.57, \"Blood-CD4\": 0.16, \"Blood-CD8\": 0.07, \"Blood-NK\": 0.05}\n"
   ]
  },
  {
   "cell_type": "code",
   "execution_count": 3,
   "id": "3cef0f65",
   "metadata": {
    "papermill": {
     "duration": 3.762568,
     "end_time": "2023-08-08T04:58:39.300403",
     "exception": false,
     "start_time": "2023-08-08T04:58:35.537835",
     "status": "completed"
    },
    "tags": []
   },
   "outputs": [
    {
     "name": "stderr",
     "output_type": "stream",
     "text": [
      "/home/ec2-user/mambaforge/envs/2023_06_26_SRT_deconvolution_MS/lib/python3.7/site-packages/pyspark/context.py:317: FutureWarning: Python 3.7 support is deprecated in Spark 3.4.\n",
      "  warnings.warn(\"Python 3.7 support is deprecated in Spark 3.4.\", FutureWarning)\n"
     ]
    }
   ],
   "source": [
    "import glob\n",
    "import numpy as np\n",
    "import pandas as pd\n",
    "import seaborn as sns\n",
    "import matplotlib.pyplot as plt\n",
    "import itertools\n",
    "import functools\n",
    "import os\n",
    "import regex as re\n",
    "import random\n",
    "import importlib\n",
    "import sys\n",
    "\n",
    "from pyspark.sql import SparkSession\n",
    "from pyspark import SparkConf, SparkContext\n",
    "from pyspark.sql.types import IntegerType, LongType, ArrayType, StringType, DoubleType\n",
    "from pyspark.sql.functions import udf, explode, broadcast, count, lit, length, col\n",
    "from pyspark.sql import DataFrame\n",
    "from pyspark.sql.types import StructType\n",
    "\n",
    "# UPDATE HOME!\n",
    "os.environ[\"SPARK_HOME\"] = \"/home/ec2-user/mambaforge/envs/2023_06_26_SRT_deconvolution_MS/lib/python3.7/site-packages/pyspark\"\n",
    "# THIS needs to be set-up before running the notebook\n",
    "os.environ[\"SPARK_LOCAL_DIRS\"] = \"/temp\"\n",
    "os.environ[\"PYARROW_IGNORE_TIMEZONE\"] = \"1\"\n",
    "\n",
    "spark_conf = SparkConf()\n",
    "spark_conf.set(\"spark.ui.showConsoleProgress\", \"True\")\n",
    "spark_conf.set(\"spark.executor.instances\", \"2\")\n",
    "spark_conf.set(\"spark.executor.cores\", \"2\")\n",
    "spark_conf.set(\"spark.executor.memory\", \"16g\")\n",
    "spark_conf.set(\"spark.driver.memory\", \"64g\")\n",
    "spark_conf.set(\"spark.driver.maxResultSize\", \"32g\")\n",
    "spark_conf.set(\"spark.parquet.filterPushdown\", \"true\")\n",
    "spark_conf.set(\"spark.local.dir\", \"/temp\")\n",
    "spark_conf.getAll()\n",
    "\n",
    "sc = SparkContext(conf=spark_conf)\n",
    "sc.setLogLevel(\"ERROR\")\n",
    "spark = SparkSession(sc)\n",
    "\n",
    "pd.set_option('display.max_rows', 500)\n",
    "pd.set_option('display.max_columns', 500)\n",
    "pd.set_option('display.width', 1000)\n",
    "sns.set_context('talk')"
   ]
  },
  {
   "cell_type": "code",
   "execution_count": 4,
   "id": "e1fb190f",
   "metadata": {
    "papermill": {
     "duration": 0.558283,
     "end_time": "2023-08-08T04:58:39.864148",
     "exception": false,
     "start_time": "2023-08-08T04:58:39.305865",
     "status": "completed"
    },
    "tags": []
   },
   "outputs": [],
   "source": [
    "#---Local paths---#\n",
    "PROJECT_DIR = ROOT_DIR + f'projects/{PROJECT_SLUG}/'\n",
    "\n",
    "#---Load all custom scripts---#\n",
    "SCRIPT_DIR = PROJECT_DIR + 'scripts/'\n",
    "sys.path.append(SCRIPT_DIR)\n",
    "\n",
    "import create_mixture as cm\n",
    "import score_matrix as sm\n",
    "import deconvolution as dcnv\n",
    "import helper as hlpr\n",
    "\n",
    "pd.set_option('display.max_rows', 500)\n",
    "pd.set_option('display.max_columns', 500)\n",
    "pd.set_option('display.width', 1000)"
   ]
  },
  {
   "cell_type": "code",
   "execution_count": 5,
   "id": "fb1e1508",
   "metadata": {
    "papermill": {
     "duration": 0.012864,
     "end_time": "2023-08-08T04:58:39.882486",
     "exception": false,
     "start_time": "2023-08-08T04:58:39.869622",
     "status": "completed"
    },
    "tags": []
   },
   "outputs": [
    {
     "data": {
      "text/plain": [
       "<module 'helper' from '/analysis/gh-msun/projects/2023_06_26_SRT_deconvolution_MS/scripts/helper.py'>"
      ]
     },
     "execution_count": 5,
     "metadata": {},
     "output_type": "execute_result"
    }
   ],
   "source": [
    "importlib.reload(cm)\n",
    "importlib.reload(sm)\n",
    "importlib.reload(dcnv)\n",
    "importlib.reload(hlpr)"
   ]
  },
  {
   "cell_type": "code",
   "execution_count": 6,
   "id": "e2b0e68c",
   "metadata": {
    "papermill": {
     "duration": 0.012441,
     "end_time": "2023-08-08T04:58:39.899656",
     "exception": false,
     "start_time": "2023-08-08T04:58:39.887215",
     "status": "completed"
    },
    "tags": []
   },
   "outputs": [
    {
     "data": {
      "text/plain": [
       "[0.2,\n",
       " 0.05052631578947369,\n",
       " 0.13473684210526318,\n",
       " 0.05894736842105264,\n",
       " 0.07578947368421053,\n",
       " 0.48]"
      ]
     },
     "execution_count": 6,
     "metadata": {},
     "output_type": "execute_result"
    }
   ],
   "source": [
    "#################################\n",
    "#   Set titration proportions   #\n",
    "#################################\n",
    "\n",
    "# Reorder such that the titrating cell type comes first\n",
    "CELLTYPES_unordered = CELLTYPES.copy()\n",
    "CELLTYPES = hlpr.titration_reordering(list_of_cell_types=CELLTYPES, \n",
    "                                      titrating_cell_type=TITRATING_CELLTYPE)\n",
    "\n",
    "# Reorder abridged name\n",
    "ABRIDGED_NAMES = hlpr.reorder_abridged_name(unordered_celltypes=CELLTYPES_unordered,\n",
    "                                            ordered_celltypes=CELLTYPES,\n",
    "                                            unordered_abridged_names=ABRIDGED_NAMES)\n",
    "    \n",
    "# set titration proportions\n",
    "if BACKGROUND == 'uniform':\n",
    "    PROPORTIONS = hlpr.generate_uniform_background_proportions(titration_list=TITRATION_LIST, \n",
    "                                                               cell_types=CELLTYPES)\n",
    "\n",
    "if BACKGROUND == 'wholeblood':\n",
    "    PROPORTIONS = hlpr.generate_custom_background_proportions(titration_list=TITRATION_LIST, \n",
    "                                                              custom_proportion=WHOLE_BLOOD_ABUNDANCE, \n",
    "                                                              list_of_celltypes=CELLTYPES, \n",
    "                                                              titrating_celltype=TITRATING_CELLTYPE)\n",
    "\n",
    "PROPORTIONS[0]    "
   ]
  },
  {
   "cell_type": "markdown",
   "id": "9a6ba2c2",
   "metadata": {
    "papermill": {
     "duration": 0.004806,
     "end_time": "2023-08-08T04:58:39.909202",
     "exception": false,
     "start_time": "2023-08-08T04:58:39.904396",
     "status": "completed"
    },
    "tags": []
   },
   "source": [
    "## Create mixture"
   ]
  },
  {
   "cell_type": "code",
   "execution_count": 7,
   "id": "5c114358",
   "metadata": {
    "papermill": {
     "duration": 0.009638,
     "end_time": "2023-08-08T04:58:39.923617",
     "exception": false,
     "start_time": "2023-08-08T04:58:39.913979",
     "status": "completed"
    },
    "tags": []
   },
   "outputs": [],
   "source": [
    "############################\n",
    "#   Parameters and paths   # \n",
    "############################\n",
    "EXPERIMENT_DIR = PROJECT_DIR + f'output/experiment/{EXPERIMENT}/'\n",
    "EXPERIMENT_NAME = f'{TITRATING_CELLTYPE}-{BACKGROUND}/'\n",
    "PARQUET_PATH = PROJECT_DIR + 'output/mixture_source/'\n",
    "EXPERIMENT_CELLTYPE_DIR = EXPERIMENT_DIR + f'{EXPERIMENT_NAME}/'\n",
    "RESULT_PATH = EXPERIMENT_CELLTYPE_DIR + 'mixture/'\n"
   ]
  },
  {
   "cell_type": "code",
   "execution_count": 8,
   "id": "0174f1bb",
   "metadata": {
    "execution": {
     "iopub.execute_input": "2023-08-08T04:58:39.934031Z",
     "iopub.status.busy": "2023-08-08T04:58:39.933814Z",
     "iopub.status.idle": "2023-08-08T05:24:07.970316Z",
     "shell.execute_reply": "2023-08-08T05:24:07.969685Z"
    },
    "papermill": {
     "duration": 1528.061083,
     "end_time": "2023-08-08T05:24:07.989568",
     "exception": false,
     "start_time": "2023-08-08T04:58:39.928485",
     "status": "completed"
    },
    "tags": []
   },
   "outputs": [
    {
     "name": "stdout",
     "output_type": "stream",
     "text": [
      ">>> Load parquet files and count rows... <<<\n",
      "----------> Loading cell type: Blood-NK\n",
      "----------> Loading cell type: Blood-B\n",
      "----------> Loading cell type: Blood-CD4\n",
      "----------> Loading cell type: Blood-CD8\n",
      "----------> Loading cell type: Blood-Mono+Macro\n",
      "----------> Loading cell type: Blood-Granul\n",
      ">>> Complete. <<< \n",
      "\n",
      ">>> Start mixing... <<<\n",
      "--> PROPORTION: [0.2, 0.05052631578947369, 0.13473684210526318, 0.05894736842105264, 0.07578947368421053, 0.48]\n",
      "----------> Creating mixture 0... \n",
      "----------> Creating mixture 1... \n",
      "----------> Creating mixture 2... \n",
      "----------> Creating mixture 3... \n",
      "----------> Creating mixture 4... \n",
      "----------> Creating mixture 5... \n",
      "----------> Creating mixture 6... \n",
      "----------> Creating mixture 7... \n",
      "----------> Creating mixture 8... \n",
      "----------> Creating mixture 9... \n",
      "----------> Creating mixture 10... \n",
      "----------> Creating mixture 11... \n",
      "----------> Creating mixture 12... \n",
      "----------> Creating mixture 13... \n",
      "----------> Creating mixture 14... \n",
      "----------> Creating mixture 15... \n",
      "----------> Creating mixture 16... \n",
      "----------> Creating mixture 17... \n",
      "----------> Creating mixture 18... \n",
      "----------> Creating mixture 19... \n",
      "--> PROPORTION: [0.15, 0.05368421052631579, 0.14315789473684212, 0.06263157894736843, 0.08052631578947368, 0.51]\n",
      "----------> Creating mixture 0... \n",
      "----------> Creating mixture 1... \n",
      "----------> Creating mixture 2... \n",
      "----------> Creating mixture 3... \n",
      "----------> Creating mixture 4... \n",
      "----------> Creating mixture 5... \n",
      "----------> Creating mixture 6... \n",
      "----------> Creating mixture 7... \n",
      "----------> Creating mixture 8... \n",
      "----------> Creating mixture 9... \n",
      "----------> Creating mixture 10... \n",
      "----------> Creating mixture 11... \n",
      "----------> Creating mixture 12... \n",
      "----------> Creating mixture 13... \n",
      "----------> Creating mixture 14... \n",
      "----------> Creating mixture 15... \n",
      "----------> Creating mixture 16... \n",
      "----------> Creating mixture 17... \n",
      "----------> Creating mixture 18... \n",
      "----------> Creating mixture 19... \n",
      "--> PROPORTION: [0.1, 0.056842105263157895, 0.1515789473684211, 0.06631578947368422, 0.08526315789473685, 0.54]\n",
      "----------> Creating mixture 0... \n",
      "----------> Creating mixture 1... \n",
      "----------> Creating mixture 2... \n",
      "----------> Creating mixture 3... \n",
      "----------> Creating mixture 4... \n",
      "----------> Creating mixture 5... \n",
      "----------> Creating mixture 6... \n",
      "----------> Creating mixture 7... \n",
      "----------> Creating mixture 8... \n",
      "----------> Creating mixture 9... \n",
      "----------> Creating mixture 10... \n",
      "----------> Creating mixture 11... \n",
      "----------> Creating mixture 12... \n",
      "----------> Creating mixture 13... \n",
      "----------> Creating mixture 14... \n",
      "----------> Creating mixture 15... \n",
      "----------> Creating mixture 16... \n",
      "----------> Creating mixture 17... \n",
      "----------> Creating mixture 18... \n",
      "----------> Creating mixture 19... \n",
      "--> PROPORTION: [0.08, 0.05810526315789474, 0.15494736842105267, 0.06778947368421054, 0.08715789473684211, 0.552]\n",
      "----------> Creating mixture 0... \n",
      "----------> Creating mixture 1... \n",
      "----------> Creating mixture 2... \n",
      "----------> Creating mixture 3... \n",
      "----------> Creating mixture 4... \n",
      "----------> Creating mixture 5... \n",
      "----------> Creating mixture 6... \n",
      "----------> Creating mixture 7... \n",
      "----------> Creating mixture 8... \n",
      "----------> Creating mixture 9... \n",
      "----------> Creating mixture 10... \n",
      "----------> Creating mixture 11... \n",
      "----------> Creating mixture 12... \n",
      "----------> Creating mixture 13... \n",
      "----------> Creating mixture 14... \n",
      "----------> Creating mixture 15... \n",
      "----------> Creating mixture 16... \n",
      "----------> Creating mixture 17... \n",
      "----------> Creating mixture 18... \n",
      "----------> Creating mixture 19... \n",
      "--> PROPORTION: [0.06, 0.05936842105263158, 0.15831578947368422, 0.06926315789473685, 0.08905263157894737, 0.564]\n",
      "----------> Creating mixture 0... \n",
      "----------> Creating mixture 1... \n",
      "----------> Creating mixture 2... \n",
      "----------> Creating mixture 3... \n",
      "----------> Creating mixture 4... \n",
      "----------> Creating mixture 5... \n",
      "----------> Creating mixture 6... \n",
      "----------> Creating mixture 7... \n",
      "----------> Creating mixture 8... \n",
      "----------> Creating mixture 9... \n",
      "----------> Creating mixture 10... \n",
      "----------> Creating mixture 11... \n",
      "----------> Creating mixture 12... \n",
      "----------> Creating mixture 13... \n",
      "----------> Creating mixture 14... \n",
      "----------> Creating mixture 15... \n",
      "----------> Creating mixture 16... \n",
      "----------> Creating mixture 17... \n",
      "----------> Creating mixture 18... \n",
      "----------> Creating mixture 19... \n",
      "--> PROPORTION: [0.04, 0.06063157894736842, 0.16168421052631582, 0.07073684210526317, 0.09094736842105264, 0.576]\n",
      "----------> Creating mixture 0... \n",
      "----------> Creating mixture 1... \n",
      "----------> Creating mixture 2... \n",
      "----------> Creating mixture 3... \n",
      "----------> Creating mixture 4... \n",
      "----------> Creating mixture 5... \n",
      "----------> Creating mixture 6... \n",
      "----------> Creating mixture 7... \n",
      "----------> Creating mixture 8... \n",
      "----------> Creating mixture 9... \n",
      "----------> Creating mixture 10... \n",
      "----------> Creating mixture 11... \n",
      "----------> Creating mixture 12... \n",
      "----------> Creating mixture 13... \n",
      "----------> Creating mixture 14... \n",
      "----------> Creating mixture 15... \n",
      "----------> Creating mixture 16... \n",
      "----------> Creating mixture 17... \n",
      "----------> Creating mixture 18... \n",
      "----------> Creating mixture 19... \n",
      "--> PROPORTION: [0.02, 0.061894736842105266, 0.1650526315789474, 0.07221052631578948, 0.09284210526315789, 0.588]\n",
      "----------> Creating mixture 0... \n",
      "----------> Creating mixture 1... \n",
      "----------> Creating mixture 2... \n",
      "----------> Creating mixture 3... \n",
      "----------> Creating mixture 4... \n",
      "----------> Creating mixture 5... \n",
      "----------> Creating mixture 6... \n",
      "----------> Creating mixture 7... \n",
      "----------> Creating mixture 8... \n",
      "----------> Creating mixture 9... \n",
      "----------> Creating mixture 10... \n",
      "----------> Creating mixture 11... \n",
      "----------> Creating mixture 12... \n",
      "----------> Creating mixture 13... \n",
      "----------> Creating mixture 14... \n",
      "----------> Creating mixture 15... \n",
      "----------> Creating mixture 16... \n",
      "----------> Creating mixture 17... \n",
      "----------> Creating mixture 18... \n",
      "----------> Creating mixture 19... \n",
      "--> PROPORTION: [0.01, 0.06252631578947368, 0.16673684210526318, 0.07294736842105264, 0.09378947368421053, 0.594]\n",
      "----------> Creating mixture 0... \n",
      "----------> Creating mixture 1... \n",
      "----------> Creating mixture 2... \n",
      "----------> Creating mixture 3... \n",
      "----------> Creating mixture 4... \n",
      "----------> Creating mixture 5... \n",
      "----------> Creating mixture 6... \n",
      "----------> Creating mixture 7... \n",
      "----------> Creating mixture 8... \n",
      "----------> Creating mixture 9... \n",
      "----------> Creating mixture 10... \n",
      "----------> Creating mixture 11... \n",
      "----------> Creating mixture 12... \n",
      "----------> Creating mixture 13... \n",
      "----------> Creating mixture 14... \n",
      "----------> Creating mixture 15... \n",
      "----------> Creating mixture 16... \n",
      "----------> Creating mixture 17... \n",
      "----------> Creating mixture 18... \n",
      "----------> Creating mixture 19... \n",
      "--> PROPORTION: [0.008, 0.06265263157894738, 0.16707368421052635, 0.07309473684210527, 0.09397894736842105, 0.5952]\n",
      "----------> Creating mixture 0... \n",
      "----------> Creating mixture 1... \n",
      "----------> Creating mixture 2... \n",
      "----------> Creating mixture 3... \n",
      "----------> Creating mixture 4... \n",
      "----------> Creating mixture 5... \n",
      "----------> Creating mixture 6... \n",
      "----------> Creating mixture 7... \n",
      "----------> Creating mixture 8... \n",
      "----------> Creating mixture 9... \n",
      "----------> Creating mixture 10... \n",
      "----------> Creating mixture 11... \n",
      "----------> Creating mixture 12... \n",
      "----------> Creating mixture 13... \n",
      "----------> Creating mixture 14... \n",
      "----------> Creating mixture 15... \n",
      "----------> Creating mixture 16... \n",
      "----------> Creating mixture 17... \n",
      "----------> Creating mixture 18... \n",
      "----------> Creating mixture 19... \n",
      "--> PROPORTION: [0.006, 0.06277894736842106, 0.1674105263157895, 0.0732421052631579, 0.09416842105263158, 0.5963999999999999]\n",
      "----------> Creating mixture 0... \n",
      "----------> Creating mixture 1... \n",
      "----------> Creating mixture 2... \n",
      "----------> Creating mixture 3... \n",
      "----------> Creating mixture 4... \n",
      "----------> Creating mixture 5... \n",
      "----------> Creating mixture 6... \n",
      "----------> Creating mixture 7... \n",
      "----------> Creating mixture 8... \n",
      "----------> Creating mixture 9... \n",
      "----------> Creating mixture 10... \n",
      "----------> Creating mixture 11... \n",
      "----------> Creating mixture 12... \n",
      "----------> Creating mixture 13... \n",
      "----------> Creating mixture 14... \n",
      "----------> Creating mixture 15... \n",
      "----------> Creating mixture 16... \n",
      "----------> Creating mixture 17... \n",
      "----------> Creating mixture 18... \n",
      "----------> Creating mixture 19... \n",
      "--> PROPORTION: [0.004, 0.06290526315789474, 0.16774736842105265, 0.07338947368421053, 0.09435789473684211, 0.5976]\n",
      "----------> Creating mixture 0... \n",
      "----------> Creating mixture 1... \n",
      "----------> Creating mixture 2... \n",
      "----------> Creating mixture 3... \n",
      "----------> Creating mixture 4... \n",
      "----------> Creating mixture 5... \n",
      "----------> Creating mixture 6... \n",
      "----------> Creating mixture 7... \n",
      "----------> Creating mixture 8... \n",
      "----------> Creating mixture 9... \n",
      "----------> Creating mixture 10... \n",
      "----------> Creating mixture 11... \n",
      "----------> Creating mixture 12... \n",
      "----------> Creating mixture 13... \n",
      "----------> Creating mixture 14... \n",
      "----------> Creating mixture 15... \n",
      "----------> Creating mixture 16... \n",
      "----------> Creating mixture 17... \n",
      "----------> Creating mixture 18... \n",
      "----------> Creating mixture 19... \n",
      "--> PROPORTION: [0.002, 0.06303157894736842, 0.1680842105263158, 0.07353684210526316, 0.09454736842105263, 0.5988]\n",
      "----------> Creating mixture 0... \n",
      "----------> Creating mixture 1... \n",
      "----------> Creating mixture 2... \n",
      "----------> Creating mixture 3... \n",
      "----------> Creating mixture 4... \n",
      "----------> Creating mixture 5... \n",
      "----------> Creating mixture 6... \n",
      "----------> Creating mixture 7... \n",
      "----------> Creating mixture 8... \n",
      "----------> Creating mixture 9... \n",
      "----------> Creating mixture 10... \n",
      "----------> Creating mixture 11... \n",
      "----------> Creating mixture 12... \n",
      "----------> Creating mixture 13... \n",
      "----------> Creating mixture 14... \n",
      "----------> Creating mixture 15... \n",
      "----------> Creating mixture 16... \n",
      "----------> Creating mixture 17... \n",
      "----------> Creating mixture 18... \n",
      "----------> Creating mixture 19... \n",
      "--> PROPORTION: [0.001, 0.06309473684210526, 0.1682526315789474, 0.07361052631578949, 0.0946421052631579, 0.5993999999999999]\n",
      "----------> Creating mixture 0... \n",
      "----------> Creating mixture 1... \n",
      "----------> Creating mixture 2... \n",
      "----------> Creating mixture 3... \n",
      "----------> Creating mixture 4... \n",
      "----------> Creating mixture 5... \n",
      "----------> Creating mixture 6... \n",
      "----------> Creating mixture 7... \n",
      "----------> Creating mixture 8... \n",
      "----------> Creating mixture 9... \n",
      "----------> Creating mixture 10... \n",
      "----------> Creating mixture 11... \n",
      "----------> Creating mixture 12... \n",
      "----------> Creating mixture 13... \n",
      "----------> Creating mixture 14... \n",
      "----------> Creating mixture 15... \n",
      "----------> Creating mixture 16... \n",
      "----------> Creating mixture 17... \n",
      "----------> Creating mixture 18... \n",
      "----------> Creating mixture 19... \n",
      "--> PROPORTION: [0, 0.06315789473684211, 0.16842105263157897, 0.0736842105263158, 0.09473684210526316, 0.6]\n",
      "----------> Creating mixture 0... \n",
      "----------> Creating mixture 1... \n",
      "----------> Creating mixture 2... \n",
      "----------> Creating mixture 3... \n",
      "----------> Creating mixture 4... \n",
      "----------> Creating mixture 5... \n",
      "----------> Creating mixture 6... \n",
      "----------> Creating mixture 7... \n",
      "----------> Creating mixture 8... \n",
      "----------> Creating mixture 9... \n",
      "----------> Creating mixture 10... \n",
      "----------> Creating mixture 11... \n",
      "----------> Creating mixture 12... \n",
      "----------> Creating mixture 13... \n",
      "----------> Creating mixture 14... \n",
      "----------> Creating mixture 15... \n",
      "----------> Creating mixture 16... \n",
      "----------> Creating mixture 17... \n",
      "----------> Creating mixture 18... \n",
      "----------> Creating mixture 19... \n",
      ">>> Complete. <<< \n",
      "\n",
      "CPU times: user 1.52 s, sys: 370 ms, total: 1.89 s\n",
      "Wall time: 25min 28s\n"
     ]
    }
   ],
   "source": [
    "%%time\n",
    "# load parquet files for each celltype & count rows\n",
    "parquet_df, total_reads_per_celltype = cm.load_parquet_dataframe(parquet_path=PARQUET_PATH,\n",
    "                                                                  cell_types=CELLTYPES,\n",
    "                                                                  spark=spark,\n",
    "                                                                  verbose=True)\n",
    "\n",
    "# mix cell types for each proportion set\n",
    "cm.mix_celltypes_multiple_proportions(parquet_df=parquet_df,\n",
    "                                       total_reads_per_celltype=total_reads_per_celltype,\n",
    "                                    #    n=len(TITRATION_LIST), \n",
    "                                       n=N_REPLICATES,\n",
    "                                       cell_types=CELLTYPES, \n",
    "                                       cell_type_abridged_name=ABRIDGED_NAMES, \n",
    "                                       total_reads_to_sample=TOTAL_READS_TO_SAMPLE, \n",
    "                                       list_of_proportions=PROPORTIONS, \n",
    "                                       seed=SEED, \n",
    "                                       result_path=RESULT_PATH, \n",
    "                                       spark=spark,\n",
    "                                       verbose=False, \n",
    "                                       save=True)"
   ]
  },
  {
   "cell_type": "markdown",
   "id": "38f885ca",
   "metadata": {
    "papermill": {
     "duration": 0.018594,
     "end_time": "2023-08-08T05:24:08.027128",
     "exception": false,
     "start_time": "2023-08-08T05:24:08.008534",
     "status": "completed"
    },
    "tags": []
   },
   "source": [
    "## Compute score matrix"
   ]
  },
  {
   "cell_type": "code",
   "execution_count": 7,
   "id": "38330125",
   "metadata": {
    "papermill": {
     "duration": 0.023876,
     "end_time": "2023-08-08T05:24:08.068947",
     "exception": false,
     "start_time": "2023-08-08T05:24:08.045071",
     "status": "completed"
    },
    "tags": []
   },
   "outputs": [],
   "source": [
    "############################\n",
    "#   Parameters and paths   # \n",
    "############################\n",
    "\n",
    "FILTER_CG_COUNT = 3\n",
    "FILTER_CG_COUNT_REGION = 1\n",
    "\n",
    "REGIONS = 'deconvolution_v2.v23_conv.with_cpg_index'\n",
    "REGION_BED_COLS = [\n",
    "    'region_chr', 'region_start', 'region_end', \n",
    "    'region_cpg_index_min', 'region_cpg_index_max', 'region_id'\n",
    "]\n",
    "\n",
    "# Regions\n",
    "REGION_PATH = (\n",
    "    PROJECT_DIR + '/stage/panel_data/{regions}.bed'\n",
    ").format(regions=REGIONS)\n",
    "\n",
    "# CpG map; genomic coordinate to CpG index;\n",
    "CPG_MAP_PATH = PROJECT_DIR + '/stage/cpg_loci/cpg_loci_hg19.combined_annot.tsv.gz'\n",
    "\n",
    "#--- Where to store results\n",
    "PATH_TO_MIXTURE_DIR = EXPERIMENT_CELLTYPE_DIR + 'mixture/'\n",
    "RESULT_PATH = EXPERIMENT_CELLTYPE_DIR\n"
   ]
  },
  {
   "cell_type": "code",
   "execution_count": 10,
   "id": "b99d4872",
   "metadata": {
    "execution": {
     "iopub.execute_input": "2023-08-08T05:24:08.105967Z",
     "iopub.status.busy": "2023-08-08T05:24:08.105743Z",
     "iopub.status.idle": "2023-08-08T05:24:40.336478Z",
     "shell.execute_reply": "2023-08-08T05:24:40.335883Z"
    },
    "papermill": {
     "duration": 32.250933,
     "end_time": "2023-08-08T05:24:40.338042",
     "exception": false,
     "start_time": "2023-08-08T05:24:08.087109",
     "status": "completed"
    },
    "tags": []
   },
   "outputs": [],
   "source": [
    "cpg_map = pd.read_csv(CPG_MAP_PATH, usecols=['chr', 'start', 'end', 'cpg_index', 'cpg_index_hg38'], sep='\\t')"
   ]
  },
  {
   "cell_type": "code",
   "execution_count": 11,
   "id": "a7ec0d9f",
   "metadata": {
    "execution": {
     "iopub.execute_input": "2023-08-08T05:24:40.377120Z",
     "iopub.status.busy": "2023-08-08T05:24:40.376847Z",
     "iopub.status.idle": "2023-08-08T05:24:40.379191Z",
     "shell.execute_reply": "2023-08-08T05:24:40.378707Z"
    },
    "papermill": {
     "duration": 0.023165,
     "end_time": "2023-08-08T05:24:40.380518",
     "exception": false,
     "start_time": "2023-08-08T05:24:40.357353",
     "status": "completed"
    },
    "tags": []
   },
   "outputs": [],
   "source": [
    "# %%time\n",
    "# ridxs = ~cpg_map['cpg_index_hg38'].isna()\n",
    "# hg19_hg38_map = dict(itertools.zip_longest(cpg_map[ridxs]['cpg_index'], cpg_map[ridxs]['cpg_index_hg38'].astype(int)))\n",
    "# hg38_hg19_map = dict(itertools.zip_longest(cpg_map[ridxs]['cpg_index_hg38'].astype(int), cpg_map[ridxs]['cpg_index']))"
   ]
  },
  {
   "cell_type": "code",
   "execution_count": 12,
   "id": "7e3720f6",
   "metadata": {
    "execution": {
     "iopub.execute_input": "2023-08-08T05:24:40.417574Z",
     "iopub.status.busy": "2023-08-08T05:24:40.417352Z",
     "iopub.status.idle": "2023-08-08T05:24:40.426000Z",
     "shell.execute_reply": "2023-08-08T05:24:40.425552Z"
    },
    "papermill": {
     "duration": 0.028597,
     "end_time": "2023-08-08T05:24:40.427260",
     "exception": false,
     "start_time": "2023-08-08T05:24:40.398663",
     "status": "completed"
    },
    "tags": []
   },
   "outputs": [
    {
     "data": {
      "text/plain": [
       "(1658, 1658)"
      ]
     },
     "execution_count": 12,
     "metadata": {},
     "output_type": "execute_result"
    }
   ],
   "source": [
    "region_df = pd.read_csv(REGION_PATH, sep='\\t', usecols=range(0, 6), names=REGION_BED_COLS)\n",
    "\n",
    "# region_df['region_cpg_index_max'] -= 1\n",
    "# region_df.sort_values('region_cpg_index_min', inplace=True)\n",
    "# region_df['region_cpg_index_min_hg38'] = region_df['region_cpg_index_min'].map(hg19_hg38_map)\n",
    "# region_df['region_cpg_index_max_hg38'] = region_df['region_cpg_index_max'].map(hg19_hg38_map)\n",
    "\n",
    "region_df.shape[0], region_df['region_id'].nunique()"
   ]
  },
  {
   "cell_type": "code",
   "execution_count": 13,
   "id": "b0e4811e",
   "metadata": {
    "execution": {
     "iopub.execute_input": "2023-08-08T05:24:40.464518Z",
     "iopub.status.busy": "2023-08-08T05:24:40.464300Z",
     "iopub.status.idle": "2023-08-08T05:24:40.466451Z",
     "shell.execute_reply": "2023-08-08T05:24:40.465987Z"
    },
    "papermill": {
     "duration": 0.022191,
     "end_time": "2023-08-08T05:24:40.467671",
     "exception": false,
     "start_time": "2023-08-08T05:24:40.445480",
     "status": "completed"
    },
    "tags": []
   },
   "outputs": [],
   "source": [
    "# ridxs = ~region_df['region_cpg_index_min_hg38'].isna()\n",
    "# ridxs &= ~region_df['region_cpg_index_max_hg38'].isna()\n",
    "# region_df = region_df[ridxs].copy()\n",
    "# region_df.shape[0], region_df['region_id'].nunique()"
   ]
  },
  {
   "cell_type": "code",
   "execution_count": 14,
   "id": "12b7dcdc",
   "metadata": {
    "execution": {
     "iopub.execute_input": "2023-08-08T05:24:40.506316Z",
     "iopub.status.busy": "2023-08-08T05:24:40.506097Z",
     "iopub.status.idle": "2023-08-08T05:24:40.508280Z",
     "shell.execute_reply": "2023-08-08T05:24:40.507826Z"
    },
    "papermill": {
     "duration": 0.022707,
     "end_time": "2023-08-08T05:24:40.509507",
     "exception": false,
     "start_time": "2023-08-08T05:24:40.486800",
     "status": "completed"
    },
    "tags": []
   },
   "outputs": [],
   "source": [
    "# cg_count_hg19 = region_df['region_cpg_index_max']-region_df['region_cpg_index_min'] + 1\n",
    "# cg_count_hg38 = region_df['region_cpg_index_max_hg38']-region_df['region_cpg_index_min_hg38'] + 1\n",
    "# ridxs = (cg_count_hg19==cg_count_hg38)\n",
    "# ridxs &= (cg_count_hg19>=FILTER_CG_COUNT_REGION)\n",
    "# region_df = region_df[ridxs].copy()\n",
    "# region_df.shape[0], region_df['region_id'].nunique()"
   ]
  },
  {
   "cell_type": "code",
   "execution_count": 15,
   "id": "7324bac3",
   "metadata": {
    "execution": {
     "iopub.execute_input": "2023-08-08T05:24:40.546582Z",
     "iopub.status.busy": "2023-08-08T05:24:40.546367Z",
     "iopub.status.idle": "2023-08-08T05:24:40.548437Z",
     "shell.execute_reply": "2023-08-08T05:24:40.547994Z"
    },
    "papermill": {
     "duration": 0.02209,
     "end_time": "2023-08-08T05:24:40.549662",
     "exception": false,
     "start_time": "2023-08-08T05:24:40.527572",
     "status": "completed"
    },
    "tags": []
   },
   "outputs": [],
   "source": [
    "# region_df['region_cpg_index_min_hg38'] = region_df['region_cpg_index_min_hg38'].astype(int)\n",
    "# region_df['region_cpg_index_max_hg38'] = region_df['region_cpg_index_max_hg38'].astype(int)"
   ]
  },
  {
   "cell_type": "code",
   "execution_count": 16,
   "id": "13b7f45e",
   "metadata": {
    "execution": {
     "iopub.execute_input": "2023-08-08T05:24:40.587140Z",
     "iopub.status.busy": "2023-08-08T05:24:40.586902Z",
     "iopub.status.idle": "2023-08-08T05:24:40.599778Z",
     "shell.execute_reply": "2023-08-08T05:24:40.599275Z"
    },
    "papermill": {
     "duration": 0.033202,
     "end_time": "2023-08-08T05:24:40.601076",
     "exception": false,
     "start_time": "2023-08-08T05:24:40.567874",
     "status": "completed"
    },
    "tags": []
   },
   "outputs": [
    {
     "data": {
      "text/html": [
       "<div>\n",
       "<style scoped>\n",
       "    .dataframe tbody tr th:only-of-type {\n",
       "        vertical-align: middle;\n",
       "    }\n",
       "\n",
       "    .dataframe tbody tr th {\n",
       "        vertical-align: top;\n",
       "    }\n",
       "\n",
       "    .dataframe thead th {\n",
       "        text-align: right;\n",
       "    }\n",
       "</style>\n",
       "<table border=\"1\" class=\"dataframe\">\n",
       "  <thead>\n",
       "    <tr style=\"text-align: right;\">\n",
       "      <th></th>\n",
       "      <th>region_chr</th>\n",
       "      <th>region_start</th>\n",
       "      <th>region_end</th>\n",
       "      <th>region_cpg_index_min</th>\n",
       "      <th>region_cpg_index_max</th>\n",
       "      <th>region_id</th>\n",
       "    </tr>\n",
       "  </thead>\n",
       "  <tbody>\n",
       "    <tr>\n",
       "      <th>0</th>\n",
       "      <td>chr1</td>\n",
       "      <td>1114771</td>\n",
       "      <td>1114971</td>\n",
       "      <td>20117</td>\n",
       "      <td>20130</td>\n",
       "      <td>Immune_Broad_B-chr1:1114772-1114971</td>\n",
       "    </tr>\n",
       "    <tr>\n",
       "      <th>1</th>\n",
       "      <td>chr1</td>\n",
       "      <td>1157450</td>\n",
       "      <td>1157720</td>\n",
       "      <td>21684</td>\n",
       "      <td>21704</td>\n",
       "      <td>Immune_Broad_NK-chr1:1157451-1157720</td>\n",
       "    </tr>\n",
       "    <tr>\n",
       "      <th>2</th>\n",
       "      <td>chr1</td>\n",
       "      <td>1157879</td>\n",
       "      <td>1158277</td>\n",
       "      <td>21710</td>\n",
       "      <td>21727</td>\n",
       "      <td>Immune_Broad_NK-chr1:1157880-1158277</td>\n",
       "    </tr>\n",
       "    <tr>\n",
       "      <th>14</th>\n",
       "      <td>chr1</td>\n",
       "      <td>6341182</td>\n",
       "      <td>6341377</td>\n",
       "      <td>140667</td>\n",
       "      <td>140682</td>\n",
       "      <td>Immune_Broad_Eosi-chr1:6341183-6341377</td>\n",
       "    </tr>\n",
       "    <tr>\n",
       "      <th>19</th>\n",
       "      <td>chr1</td>\n",
       "      <td>9147788</td>\n",
       "      <td>9147871</td>\n",
       "      <td>188605</td>\n",
       "      <td>188609</td>\n",
       "      <td>Immune_Broad_Neutro-chr1:9147789-9147871</td>\n",
       "    </tr>\n",
       "  </tbody>\n",
       "</table>\n",
       "</div>"
      ],
      "text/plain": [
       "   region_chr  region_start  region_end  region_cpg_index_min  region_cpg_index_max                                 region_id\n",
       "0        chr1       1114771     1114971                 20117                 20130       Immune_Broad_B-chr1:1114772-1114971\n",
       "1        chr1       1157450     1157720                 21684                 21704      Immune_Broad_NK-chr1:1157451-1157720\n",
       "2        chr1       1157879     1158277                 21710                 21727      Immune_Broad_NK-chr1:1157880-1158277\n",
       "14       chr1       6341182     6341377                140667                140682    Immune_Broad_Eosi-chr1:6341183-6341377\n",
       "19       chr1       9147788     9147871                188605                188609  Immune_Broad_Neutro-chr1:9147789-9147871"
      ]
     },
     "execution_count": 16,
     "metadata": {},
     "output_type": "execute_result"
    }
   ],
   "source": [
    "### Restrict to immune regions\n",
    "#-------------- CHANGE HERE FOR DIFFERENT REGION SUBSET ----------------------\n",
    "# BLUEPRINT immune regions\n",
    "ATLAS_PATH = PROJECT_DIR + f'/output/reference/deconv_inhouse_v2.atlas.tsv.gz'\n",
    "atlas = pd.read_csv(ATLAS_PATH, sep='\\t')\n",
    "subset_region_set = set(atlas.region_id)\n",
    "#-----------------------------------------------------------------------------\n",
    "\n",
    "# filter regions down to regions of interest\n",
    "region_df = region_df[region_df['region_id'].isin(subset_region_set)]\n",
    "region_df.head()"
   ]
  },
  {
   "cell_type": "code",
   "execution_count": 17,
   "id": "14595364",
   "metadata": {
    "execution": {
     "iopub.execute_input": "2023-08-08T05:24:40.640524Z",
     "iopub.status.busy": "2023-08-08T05:24:40.640273Z",
     "iopub.status.idle": "2023-08-08T06:03:50.261609Z",
     "shell.execute_reply": "2023-08-08T06:03:50.261064Z"
    },
    "papermill": {
     "duration": 2349.642542,
     "end_time": "2023-08-08T06:03:50.262991",
     "exception": false,
     "start_time": "2023-08-08T05:24:40.620449",
     "status": "completed"
    },
    "tags": []
   },
   "outputs": [
    {
     "name": "stdout",
     "output_type": "stream",
     "text": [
      ">>> Start computing score matrices <<< \n",
      "\n",
      "--> E2NK_E0505B_E1347CD4_E0589CD8_E0758MONO_E48GRANUL\n",
      "--------> Computing score matrix for mix0_seed419876\n",
      "--------> Computing score matrix for mix1_seed135523\n",
      "--------> Computing score matrix for mix2_seed394025\n",
      "--------> Computing score matrix for mix3_seed669227\n",
      "--------> Computing score matrix for mix4_seed684263\n",
      "--------> Computing score matrix for mix5_seed293089\n",
      "--------> Computing score matrix for mix6_seed256177\n",
      "--------> Computing score matrix for mix7_seed435448\n",
      "--------> Computing score matrix for mix8_seed492243\n",
      "--------> Computing score matrix for mix9_seed147997\n",
      "--------> Computing score matrix for mix10_seed729033\n",
      "--------> Computing score matrix for mix11_seed968910\n",
      "--------> Computing score matrix for mix12_seed988958\n",
      "--------> Computing score matrix for mix13_seed950422\n",
      "--------> Computing score matrix for mix14_seed860687\n",
      "--------> Computing score matrix for mix15_seed923680\n",
      "--------> Computing score matrix for mix16_seed435902\n",
      "--------> Computing score matrix for mix17_seed410372\n",
      "--------> Computing score matrix for mix18_seed583750\n",
      "--------> Computing score matrix for mix19_seed182158\n",
      "\n",
      "\n",
      "--> E15NK_E0537B_E1432CD4_E0626CD8_E0805MONO_E51GRANUL\n",
      "--------> Computing score matrix for mix0_seed956377\n",
      "--------> Computing score matrix for mix1_seed787515\n",
      "--------> Computing score matrix for mix2_seed956686\n",
      "--------> Computing score matrix for mix3_seed114553\n",
      "--------> Computing score matrix for mix4_seed483984\n",
      "--------> Computing score matrix for mix5_seed923915\n",
      "--------> Computing score matrix for mix6_seed884279\n",
      "--------> Computing score matrix for mix7_seed197795\n",
      "--------> Computing score matrix for mix8_seed203703\n",
      "--------> Computing score matrix for mix9_seed991952\n",
      "--------> Computing score matrix for mix10_seed899951\n",
      "--------> Computing score matrix for mix11_seed204613\n",
      "--------> Computing score matrix for mix12_seed495430\n",
      "--------> Computing score matrix for mix13_seed234729\n",
      "--------> Computing score matrix for mix14_seed948291\n",
      "--------> Computing score matrix for mix15_seed549335\n",
      "--------> Computing score matrix for mix16_seed376886\n",
      "--------> Computing score matrix for mix17_seed113721\n",
      "--------> Computing score matrix for mix18_seed660672\n",
      "--------> Computing score matrix for mix19_seed626773\n",
      "\n",
      "\n",
      "--> E1NK_E0568B_E1516CD4_E0663CD8_E0853MONO_E54GRANUL\n",
      "--------> Computing score matrix for mix0_seed845201\n",
      "--------> Computing score matrix for mix1_seed269032\n",
      "--------> Computing score matrix for mix2_seed215354\n",
      "--------> Computing score matrix for mix3_seed350861\n",
      "--------> Computing score matrix for mix4_seed815603\n",
      "--------> Computing score matrix for mix5_seed8837\n",
      "--------> Computing score matrix for mix6_seed407246\n",
      "--------> Computing score matrix for mix7_seed306008\n",
      "--------> Computing score matrix for mix8_seed184113\n",
      "--------> Computing score matrix for mix9_seed78729\n",
      "--------> Computing score matrix for mix10_seed249749\n",
      "--------> Computing score matrix for mix11_seed854160\n",
      "--------> Computing score matrix for mix12_seed731381\n",
      "--------> Computing score matrix for mix13_seed141781\n",
      "--------> Computing score matrix for mix14_seed342643\n",
      "--------> Computing score matrix for mix15_seed92043\n",
      "--------> Computing score matrix for mix16_seed646127\n",
      "--------> Computing score matrix for mix17_seed274719\n",
      "--------> Computing score matrix for mix18_seed608253\n",
      "--------> Computing score matrix for mix19_seed515150\n",
      "\n",
      "\n",
      "--> E08NK_E0581B_E1549CD4_E0678CD8_E0872MONO_E552GRANUL\n",
      "--------> Computing score matrix for mix0_seed606723\n",
      "--------> Computing score matrix for mix1_seed837688\n",
      "--------> Computing score matrix for mix2_seed932708\n",
      "--------> Computing score matrix for mix3_seed240813\n",
      "--------> Computing score matrix for mix4_seed208657\n",
      "--------> Computing score matrix for mix5_seed431154\n",
      "--------> Computing score matrix for mix6_seed322211\n",
      "--------> Computing score matrix for mix7_seed944955\n",
      "--------> Computing score matrix for mix8_seed631634\n",
      "--------> Computing score matrix for mix9_seed613618\n",
      "--------> Computing score matrix for mix10_seed852644\n",
      "--------> Computing score matrix for mix11_seed342338\n",
      "--------> Computing score matrix for mix12_seed896943\n",
      "--------> Computing score matrix for mix13_seed880813\n",
      "--------> Computing score matrix for mix14_seed732073\n",
      "--------> Computing score matrix for mix15_seed278581\n",
      "--------> Computing score matrix for mix16_seed143275\n",
      "--------> Computing score matrix for mix17_seed651839\n",
      "--------> Computing score matrix for mix18_seed714995\n",
      "--------> Computing score matrix for mix19_seed432807\n",
      "\n",
      "\n",
      "--> E06NK_E0594B_E1583CD4_E0693CD8_E0891MONO_E564GRANUL\n",
      "--------> Computing score matrix for mix0_seed814244\n",
      "--------> Computing score matrix for mix1_seed93051\n",
      "--------> Computing score matrix for mix2_seed362606\n",
      "--------> Computing score matrix for mix3_seed243022\n",
      "--------> Computing score matrix for mix4_seed693665\n",
      "--------> Computing score matrix for mix5_seed908196\n",
      "--------> Computing score matrix for mix6_seed946830\n",
      "--------> Computing score matrix for mix7_seed720605\n",
      "--------> Computing score matrix for mix8_seed495724\n",
      "--------> Computing score matrix for mix9_seed809152\n",
      "--------> Computing score matrix for mix10_seed494787\n",
      "--------> Computing score matrix for mix11_seed91478\n",
      "--------> Computing score matrix for mix12_seed619310\n",
      "--------> Computing score matrix for mix13_seed929467\n",
      "--------> Computing score matrix for mix14_seed776948\n",
      "--------> Computing score matrix for mix15_seed870715\n",
      "--------> Computing score matrix for mix16_seed572423\n",
      "--------> Computing score matrix for mix17_seed681001\n",
      "--------> Computing score matrix for mix18_seed80497\n",
      "--------> Computing score matrix for mix19_seed294760\n",
      "\n",
      "\n",
      "--> E04NK_E0606B_E1617CD4_E0707CD8_E0909MONO_E576GRANUL\n",
      "--------> Computing score matrix for mix0_seed545458\n",
      "--------> Computing score matrix for mix1_seed74553\n",
      "--------> Computing score matrix for mix2_seed725036\n",
      "--------> Computing score matrix for mix3_seed858082\n",
      "--------> Computing score matrix for mix4_seed378129\n",
      "--------> Computing score matrix for mix5_seed703716\n",
      "--------> Computing score matrix for mix6_seed949541\n",
      "--------> Computing score matrix for mix7_seed826552\n",
      "--------> Computing score matrix for mix8_seed171082\n",
      "--------> Computing score matrix for mix9_seed23469\n",
      "--------> Computing score matrix for mix10_seed370680\n",
      "--------> Computing score matrix for mix11_seed310016\n",
      "--------> Computing score matrix for mix12_seed45811\n",
      "--------> Computing score matrix for mix13_seed566980\n",
      "--------> Computing score matrix for mix14_seed15581\n",
      "--------> Computing score matrix for mix15_seed851315\n",
      "--------> Computing score matrix for mix16_seed514371\n",
      "--------> Computing score matrix for mix17_seed700473\n",
      "--------> Computing score matrix for mix18_seed581470\n",
      "--------> Computing score matrix for mix19_seed581519\n",
      "\n",
      "\n",
      "--> E02NK_E0619B_E1651CD4_E0722CD8_E0928MONO_E588GRANUL\n",
      "--------> Computing score matrix for mix0_seed5527\n",
      "--------> Computing score matrix for mix1_seed88236\n",
      "--------> Computing score matrix for mix2_seed492538\n",
      "--------> Computing score matrix for mix3_seed541877\n",
      "--------> Computing score matrix for mix4_seed993073\n",
      "--------> Computing score matrix for mix5_seed910277\n",
      "--------> Computing score matrix for mix6_seed764800\n",
      "--------> Computing score matrix for mix7_seed959529\n",
      "--------> Computing score matrix for mix8_seed87741\n",
      "--------> Computing score matrix for mix9_seed904230\n",
      "--------> Computing score matrix for mix10_seed887572\n",
      "--------> Computing score matrix for mix11_seed88302\n",
      "--------> Computing score matrix for mix12_seed499409\n",
      "--------> Computing score matrix for mix13_seed443471\n",
      "--------> Computing score matrix for mix14_seed587922\n",
      "--------> Computing score matrix for mix15_seed25309\n",
      "--------> Computing score matrix for mix16_seed21079\n",
      "--------> Computing score matrix for mix17_seed627471\n",
      "--------> Computing score matrix for mix18_seed403363\n",
      "--------> Computing score matrix for mix19_seed639927\n",
      "\n",
      "\n",
      "--> E01NK_E0625B_E1667CD4_E0729CD8_E0938MONO_E594GRANUL\n",
      "--------> Computing score matrix for mix0_seed75714\n",
      "--------> Computing score matrix for mix1_seed993132\n",
      "--------> Computing score matrix for mix2_seed977136\n",
      "--------> Computing score matrix for mix3_seed658241\n",
      "--------> Computing score matrix for mix4_seed161394\n",
      "--------> Computing score matrix for mix5_seed558581\n",
      "--------> Computing score matrix for mix6_seed763486\n",
      "--------> Computing score matrix for mix7_seed213986\n",
      "--------> Computing score matrix for mix8_seed492497\n",
      "--------> Computing score matrix for mix9_seed21163\n",
      "--------> Computing score matrix for mix10_seed625206\n",
      "--------> Computing score matrix for mix11_seed843111\n",
      "--------> Computing score matrix for mix12_seed66789\n",
      "--------> Computing score matrix for mix13_seed544153\n",
      "--------> Computing score matrix for mix14_seed887873\n",
      "--------> Computing score matrix for mix15_seed215106\n",
      "--------> Computing score matrix for mix16_seed365016\n",
      "--------> Computing score matrix for mix17_seed468468\n",
      "--------> Computing score matrix for mix18_seed72772\n",
      "--------> Computing score matrix for mix19_seed366578\n",
      "\n",
      "\n",
      "--> E008NK_E0627B_E1671CD4_E0731CD8_E094MONO_E5952GRANUL\n",
      "--------> Computing score matrix for mix0_seed317406\n",
      "--------> Computing score matrix for mix1_seed123967\n",
      "--------> Computing score matrix for mix2_seed110621\n",
      "--------> Computing score matrix for mix3_seed565896\n",
      "--------> Computing score matrix for mix4_seed644254\n",
      "--------> Computing score matrix for mix5_seed127503\n",
      "--------> Computing score matrix for mix6_seed973102\n",
      "--------> Computing score matrix for mix7_seed166351\n",
      "--------> Computing score matrix for mix8_seed844133\n",
      "--------> Computing score matrix for mix9_seed620412\n",
      "--------> Computing score matrix for mix10_seed106072\n",
      "--------> Computing score matrix for mix11_seed50134\n",
      "--------> Computing score matrix for mix12_seed761657\n",
      "--------> Computing score matrix for mix13_seed330474\n",
      "--------> Computing score matrix for mix14_seed535152\n",
      "--------> Computing score matrix for mix15_seed806642\n",
      "--------> Computing score matrix for mix16_seed520095\n",
      "--------> Computing score matrix for mix17_seed487876\n",
      "--------> Computing score matrix for mix18_seed347167\n",
      "--------> Computing score matrix for mix19_seed70805\n",
      "\n",
      "\n",
      "--> E006NK_E0628B_E1674CD4_E0732CD8_E0942MONO_E5964GRANUL\n",
      "--------> Computing score matrix for mix0_seed130065\n",
      "--------> Computing score matrix for mix1_seed683126\n",
      "--------> Computing score matrix for mix2_seed788402\n",
      "--------> Computing score matrix for mix3_seed631751\n",
      "--------> Computing score matrix for mix4_seed902323\n",
      "--------> Computing score matrix for mix5_seed616517\n",
      "--------> Computing score matrix for mix6_seed300030\n",
      "--------> Computing score matrix for mix7_seed617160\n",
      "--------> Computing score matrix for mix8_seed120107\n",
      "--------> Computing score matrix for mix9_seed135997\n",
      "--------> Computing score matrix for mix10_seed443736\n",
      "--------> Computing score matrix for mix11_seed90319\n",
      "--------> Computing score matrix for mix12_seed580340\n",
      "--------> Computing score matrix for mix13_seed935268\n",
      "--------> Computing score matrix for mix14_seed846489\n",
      "--------> Computing score matrix for mix15_seed48825\n",
      "--------> Computing score matrix for mix16_seed922509\n",
      "--------> Computing score matrix for mix17_seed783347\n",
      "--------> Computing score matrix for mix18_seed994576\n",
      "--------> Computing score matrix for mix19_seed316253\n",
      "\n",
      "\n",
      "--> E004NK_E0629B_E1677CD4_E0734CD8_E0944MONO_E5976GRANUL\n",
      "--------> Computing score matrix for mix0_seed428748\n",
      "--------> Computing score matrix for mix1_seed324239\n",
      "--------> Computing score matrix for mix2_seed366998\n",
      "--------> Computing score matrix for mix3_seed673721\n",
      "--------> Computing score matrix for mix4_seed316473\n",
      "--------> Computing score matrix for mix5_seed457588\n",
      "--------> Computing score matrix for mix6_seed482681\n",
      "--------> Computing score matrix for mix7_seed993304\n",
      "--------> Computing score matrix for mix8_seed497298\n",
      "--------> Computing score matrix for mix9_seed533187\n",
      "--------> Computing score matrix for mix10_seed723225\n",
      "--------> Computing score matrix for mix11_seed800241\n",
      "--------> Computing score matrix for mix12_seed271200\n",
      "--------> Computing score matrix for mix13_seed710461\n",
      "--------> Computing score matrix for mix14_seed869562\n",
      "--------> Computing score matrix for mix15_seed338505\n",
      "--------> Computing score matrix for mix16_seed987583\n",
      "--------> Computing score matrix for mix17_seed373792\n",
      "--------> Computing score matrix for mix18_seed383725\n",
      "--------> Computing score matrix for mix19_seed844558\n",
      "\n",
      "\n",
      "--> E002NK_E063B_E1681CD4_E0735CD8_E0945MONO_E5988GRANUL\n",
      "--------> Computing score matrix for mix0_seed299748\n",
      "--------> Computing score matrix for mix1_seed705308\n",
      "--------> Computing score matrix for mix2_seed607878\n",
      "--------> Computing score matrix for mix3_seed45599\n",
      "--------> Computing score matrix for mix4_seed492728\n",
      "--------> Computing score matrix for mix5_seed28202\n",
      "--------> Computing score matrix for mix6_seed885145\n",
      "--------> Computing score matrix for mix7_seed389487\n",
      "--------> Computing score matrix for mix8_seed393496\n",
      "--------> Computing score matrix for mix9_seed565834\n",
      "--------> Computing score matrix for mix10_seed603538\n",
      "--------> Computing score matrix for mix11_seed834468\n",
      "--------> Computing score matrix for mix12_seed705903\n",
      "--------> Computing score matrix for mix13_seed39463\n",
      "--------> Computing score matrix for mix14_seed767226\n",
      "--------> Computing score matrix for mix15_seed426740\n",
      "--------> Computing score matrix for mix16_seed875938\n",
      "--------> Computing score matrix for mix17_seed70582\n",
      "--------> Computing score matrix for mix18_seed211845\n",
      "--------> Computing score matrix for mix19_seed106456\n",
      "\n",
      "\n",
      "--> E001NK_E0631B_E1683CD4_E0736CD8_E0946MONO_E5994GRANUL\n",
      "--------> Computing score matrix for mix0_seed940087\n",
      "--------> Computing score matrix for mix1_seed818873\n",
      "--------> Computing score matrix for mix2_seed771897\n",
      "--------> Computing score matrix for mix3_seed771044\n",
      "--------> Computing score matrix for mix4_seed197909\n",
      "--------> Computing score matrix for mix5_seed716041\n",
      "--------> Computing score matrix for mix6_seed977527\n",
      "--------> Computing score matrix for mix7_seed813819\n",
      "--------> Computing score matrix for mix8_seed570572\n",
      "--------> Computing score matrix for mix9_seed470507\n",
      "--------> Computing score matrix for mix10_seed547103\n",
      "--------> Computing score matrix for mix11_seed892773\n",
      "--------> Computing score matrix for mix12_seed865960\n",
      "--------> Computing score matrix for mix13_seed620201\n",
      "--------> Computing score matrix for mix14_seed597579\n",
      "--------> Computing score matrix for mix15_seed852431\n",
      "--------> Computing score matrix for mix16_seed765758\n",
      "--------> Computing score matrix for mix17_seed644800\n",
      "--------> Computing score matrix for mix18_seed851560\n",
      "--------> Computing score matrix for mix19_seed798432\n",
      "\n",
      "\n",
      "--> ENK_E0632B_E1684CD4_E0737CD8_E0947MONO_E6GRANUL\n",
      "--------> Computing score matrix for mix0_seed146046\n",
      "--------> Computing score matrix for mix1_seed344338\n",
      "--------> Computing score matrix for mix2_seed108519\n",
      "--------> Computing score matrix for mix3_seed935255\n",
      "--------> Computing score matrix for mix4_seed711767\n",
      "--------> Computing score matrix for mix5_seed356076\n",
      "--------> Computing score matrix for mix6_seed930973\n",
      "--------> Computing score matrix for mix7_seed947770\n",
      "--------> Computing score matrix for mix8_seed288554\n",
      "--------> Computing score matrix for mix9_seed500698\n",
      "--------> Computing score matrix for mix10_seed685277\n",
      "--------> Computing score matrix for mix11_seed378349\n",
      "--------> Computing score matrix for mix12_seed75369\n",
      "--------> Computing score matrix for mix13_seed760443\n",
      "--------> Computing score matrix for mix14_seed371407\n",
      "--------> Computing score matrix for mix15_seed1883\n",
      "--------> Computing score matrix for mix16_seed769902\n",
      "--------> Computing score matrix for mix17_seed686635\n",
      "--------> Computing score matrix for mix18_seed984316\n",
      "--------> Computing score matrix for mix19_seed124597\n",
      "\n",
      "\n",
      ">>> Complete. <<< \n",
      "\n",
      "CPU times: user 16.2 s, sys: 1.09 s, total: 17.3 s\n",
      "Wall time: 39min 9s\n"
     ]
    }
   ],
   "source": [
    "%%time\n",
    "\n",
    "PAT_COLS = [\n",
    "    'molecule_id', 'chr', 'number_molecules',\n",
    "    'cpg_index_min', 'cpg_index_max', 'pat_string', 'region_id', 'region_cpg_index_min', 'region_cpg_index_max'\n",
    "]\n",
    "\n",
    "QUANTILES = [0.1, 0.25, 0.75, 0.9]\n",
    "KMERS = [1, 3, 4]\n",
    "RATES_LEQ = [0.25]\n",
    "RATES_GEQ = [0.75]\n",
    "\n",
    "RETURN_SCHEMA = StructType()\\\n",
    "    .add('region_id', 'string')\\\n",
    "    .add('number_molecules', 'integer')\\\n",
    "    .add('meth_k1', 'integer')\\\n",
    "    .add('unmeth_k1', 'integer')\\\n",
    "    .add('total_k1', 'integer')\\\n",
    "    .add('meth_k3', 'integer')\\\n",
    "    .add('unmeth_k3', 'integer')\\\n",
    "    .add('total_k3', 'integer')\\\n",
    "    .add('meth_k4', 'integer')\\\n",
    "    .add('unmeth_k4', 'integer')\\\n",
    "    .add('total_k4', 'integer')\\\n",
    "    .add('frac_alpha_leq_25pct', 'float')\\\n",
    "    .add('frac_alpha_geq_75pct', 'float')\n",
    "\n",
    "compute_frag_scores_udf = sm.compute_frag_scores(cpg_number_cutoff=FILTER_CG_COUNT, schema=RETURN_SCHEMA, kmers=KMERS, rates_leq=RATES_LEQ, rates_geq=RATES_GEQ)\n",
    "\n",
    "\n",
    "# compute methyl score for are parquet files\n",
    "sm.score_matrix_from_mixture_directory(path_to_mixture_dir = PATH_TO_MIXTURE_DIR, \n",
    "                                       result_path = RESULT_PATH, \n",
    "                                       pat_cols = PAT_COLS, \n",
    "                                       region_df = region_df, \n",
    "                                       batch_size = 20, \n",
    "                                       schema = RETURN_SCHEMA, \n",
    "                                       spark=spark,\n",
    "                                       compute_frag_scores_udf=compute_frag_scores_udf,\n",
    "                                       save=True, \n",
    "                                       verbose=False)"
   ]
  },
  {
   "cell_type": "markdown",
   "id": "a426850b",
   "metadata": {
    "papermill": {
     "duration": 0.032038,
     "end_time": "2023-08-08T06:03:50.328305",
     "exception": false,
     "start_time": "2023-08-08T06:03:50.296267",
     "status": "completed"
    },
    "tags": []
   },
   "source": [
    "## Deconvolution"
   ]
  },
  {
   "cell_type": "code",
   "execution_count": 8,
   "id": "4213655b",
   "metadata": {
    "papermill": {
     "duration": 0.03708,
     "end_time": "2023-08-08T06:03:50.397815",
     "exception": false,
     "start_time": "2023-08-08T06:03:50.360735",
     "status": "completed"
    },
    "tags": []
   },
   "outputs": [],
   "source": [
    "############################\n",
    "#   Parameters and paths   # \n",
    "############################\n",
    "\n",
    "FILTER_COV = 20\n",
    "\n",
    "SCORE_VAR = 'frac_alpha_leq_25pct'\n",
    "\n",
    "# Reference matrix\n",
    "ATLAS_PATH = PROJECT_DIR + 'output/reference/deconv_inhouse_v2.tsplit.atlas.tsv.gz'\n",
    "REGION_PATH = PROJECT_DIR + 'output/reference/deconv_inhouse_v2.tsplit.region_to_ref_celltype.tsv.gz'\n",
    "\n",
    "# Methylation score matrix\n",
    "SCORE_DIR = EXPERIMENT_CELLTYPE_DIR + 'methyl_score/'\n"
   ]
  },
  {
   "cell_type": "code",
   "execution_count": 9,
   "id": "eb469490",
   "metadata": {
    "papermill": {
     "duration": 0.045448,
     "end_time": "2023-08-08T06:03:50.475510",
     "exception": false,
     "start_time": "2023-08-08T06:03:50.430062",
     "status": "completed"
    },
    "tags": []
   },
   "outputs": [
    {
     "data": {
      "text/plain": [
       "(285, 10)"
      ]
     },
     "execution_count": 9,
     "metadata": {},
     "output_type": "execute_result"
    }
   ],
   "source": [
    "atlas = pd.read_csv(ATLAS_PATH, sep='\\t',index_col=None)\n",
    "atlas = atlas.set_index('region_id')\n",
    "atlas.columns.name = 'ref_celltype'\n",
    "atlas.shape\n",
    "\n",
    "ref_region_df = pd.read_csv(REGION_PATH, sep='\\t')\n",
    "\n",
    "atlas = atlas.loc[ref_region_df['region_id'], :].copy()\n",
    "atlas.shape"
   ]
  },
  {
   "cell_type": "code",
   "execution_count": 10,
   "id": "2eaeb5e0",
   "metadata": {
    "papermill": {
     "duration": 0.042611,
     "end_time": "2023-08-08T06:03:50.550468",
     "exception": false,
     "start_time": "2023-08-08T06:03:50.507857",
     "status": "completed"
    },
    "tags": []
   },
   "outputs": [],
   "source": [
    "ref_region_df['ref_celltype'][ref_region_df['ref_celltype'] == 'immune_cd4_t'] = 'immune_cd4'\n",
    "ref_region_df['ref_celltype'][ref_region_df['ref_celltype'] == 'immune_cd8_t'] = 'immune_cd8'"
   ]
  },
  {
   "cell_type": "code",
   "execution_count": 11,
   "id": "21d0dc3c",
   "metadata": {
    "papermill": {
     "duration": 4.553495,
     "end_time": "2023-08-08T06:03:55.136862",
     "exception": false,
     "start_time": "2023-08-08T06:03:50.583367",
     "status": "completed"
    },
    "tags": []
   },
   "outputs": [
    {
     "name": "stdout",
     "output_type": "stream",
     "text": [
      "CPU times: user 4.4 s, sys: 48.8 ms, total: 4.45 s\n",
      "Wall time: 4.83 s\n"
     ]
    }
   ],
   "source": [
    "%%time\n",
    "\n",
    "deconvolution_nnls = dcnv.compute_deconvolution_from_methyl_score_dir_nnls(path_to_methyl_score_dir=SCORE_DIR, \n",
    "                                                                          score_type=SCORE_VAR, \n",
    "                                                                          atlas=atlas, \n",
    "                                                                          match=False)\n",
    "\n",
    "deconvolution_naive = dcnv.compute_deconvolution_from_methyl_score_dir_naive(path_to_methyl_score_dir=SCORE_DIR, \n",
    "                                                                             filter_cov=FILTER_COV, \n",
    "                                                                             score_var=SCORE_VAR, \n",
    "                                                                             ref_region_df=ref_region_df)\n"
   ]
  },
  {
   "cell_type": "code",
   "execution_count": 12,
   "id": "145e9728-a3dc-4a68-9804-8051b17228f7",
   "metadata": {
    "tags": []
   },
   "outputs": [
    {
     "data": {
      "image/png": "[encoded data removed]",
      "text/plain": [
       "<Figure size 864x576 with 1 Axes>"
      ]
     },
     "metadata": {
      "needs_background": "light"
     },
     "output_type": "display_data"
    }
   ],
   "source": [
    "dcnv.boxplot_titration_combined(list_of_deconvolution_dfs_naive=deconvolution_naive,\n",
    "                       list_of_deconvolution_dfs_nnls=deconvolution_nnls,\n",
    "                      cell_type=TITRATING_CELLTYPE_ATLAS,\n",
    "                      true_proportions=TITRATION_LIST\n",
    "                      )"
   ]
  },
  {
   "cell_type": "code",
   "execution_count": 13,
   "id": "dbe490ab-0001-4e6d-80c8-98776f65ea10",
   "metadata": {
    "tags": []
   },
   "outputs": [
    {
     "data": {
      "image/png": "[encoded data removed]",
      "text/plain": [
       "<Figure size 720x720 with 14 Axes>"
      ]
     },
     "metadata": {
      "needs_background": "light"
     },
     "output_type": "display_data"
    }
   ],
   "source": [
    "dcnv.boxplot_titration_zoom_combined(list_of_deconvolution_dfs_naive=deconvolution_naive,\n",
    "                       list_of_deconvolution_dfs_nnls=deconvolution_nnls,\n",
    "                      cell_type=TITRATING_CELLTYPE_ATLAS,\n",
    "                      true_proportions=TITRATION_LIST\n",
    "                      )"
   ]
  },
  {
   "cell_type": "code",
   "execution_count": 14,
   "id": "4492e44e-1c17-405d-ad20-386f9a0d0162",
   "metadata": {
    "tags": []
   },
   "outputs": [
    {
     "data": {
      "image/png": "[encoded data removed]",
      "text/plain": [
       "<Figure size 864x432 with 1 Axes>"
      ]
     },
     "metadata": {
      "needs_background": "light"
     },
     "output_type": "display_data"
    }
   ],
   "source": [
    "importlib.reload(cm)\n",
    "importlib.reload(sm)\n",
    "importlib.reload(dcnv)\n",
    "importlib.reload(hlpr)\n",
    "\n",
    "dcnv.boxplot_titration(list_of_deconvolution_dfs=deconvolution_nnls,\n",
    "                      cell_type=TITRATING_CELLTYPE_ATLAS,\n",
    "                      true_proportions=TITRATION_LIST,\n",
    "                      deconvolution_method_name='nnls'\n",
    "                      )"
   ]
  },
  {
   "cell_type": "code",
   "execution_count": 15,
   "id": "b24c7ae0",
   "metadata": {
    "papermill": {
     "duration": 0.036964,
     "end_time": "2023-08-08T06:04:01.811677",
     "exception": false,
     "start_time": "2023-08-08T06:04:01.774713",
     "status": "completed"
    },
    "tags": []
   },
   "outputs": [
    {
     "data": {
      "image/png": "[encoded data removed]",
      "text/plain": [
       "<Figure size 720x720 with 14 Axes>"
      ]
     },
     "metadata": {
      "needs_background": "light"
     },
     "output_type": "display_data"
    }
   ],
   "source": [
    "dcnv.boxplot_titration_zoom(list_of_deconvolution_dfs=deconvolution_nnls,\n",
    "                      cell_type=TITRATING_CELLTYPE_ATLAS,\n",
    "                      true_proportions=TITRATION_LIST,\n",
    "                      deconvolution_method_name='nnls')"
   ]
  },
  {
   "cell_type": "code",
   "execution_count": null,
   "id": "365a74c9",
   "metadata": {
    "papermill": {
     "duration": 0.036273,
     "end_time": "2023-08-08T06:04:01.884230",
     "exception": false,
     "start_time": "2023-08-08T06:04:01.847957",
     "status": "completed"
    },
    "tags": []
   },
   "outputs": [],
   "source": []
  }
 ],
 "metadata": {
  "kernelspec": {
   "display_name": "Python 3",
   "language": "python",
   "name": "python3"
  },
  "language_info": {
   "codemirror_mode": {
    "name": "ipython",
    "version": 3
   },
   "file_extension": ".py",
   "mimetype": "text/x-python",
   "name": "python",
   "nbconvert_exporter": "python",
   "pygments_lexer": "ipython3",
   "version": "3.7.8"
  },
  "papermill": {
   "default_parameters": {},
   "duration": 3927.72521,
   "end_time": "2023-08-08T06:04:02.547699",
   "environment_variables": {},
   "exception": null,
   "input_path": "/analysis/gh-msun/projects/2023_06_26_SRT_deconvolution_MS//notebooks/titration/02_titration_experiment_loyfer.ipynb",
   "output_path": "/analysis/gh-msun/projects/2023_06_26_SRT_deconvolution_MS//notebooks/titration/primary_immune_loyfer_wholeblood/titration_NK.ipynb",
   "parameters": {
    "ABRIDGED_NAMES": [
     "B",
     "CD4",
     "CD8",
     "MONO",
     "NK",
     "GRANUL"
    ],
    "BACKGROUND": "wholeblood",
    "CELLTYPES": [
     "Blood-B",
     "Blood-CD4",
     "Blood-CD8",
     "Blood-Mono+Macro",
     "Blood-NK",
     "Blood-Granul"
    ],
    "EXPERIMENT": "primary_immune_loyfer",
    "N_REPLICATES": 20,
    "PROJECT_SLUG": "2023_06_26_SRT_deconvolution_MS",
    "ROOT_DIR": "/analysis/gh-msun/",
    "SEED": 960318,
    "TITRATING_CELLTYPE": "Blood-NK",
    "TITRATING_CELLTYPE_ATLAS": "immune_nk",
    "TITRATION_LIST": [
     0.2,
     0.15,
     0.1,
     0.08,
     0.06,
     0.04,
     0.02,
     0.01,
     0.008,
     0.006,
     0.004,
     0.002,
     0.001,
     0
    ],
    "TOTAL_READS_TO_SAMPLE": 1000000,
    "WHOLE_BLOOD_ABUNDANCE": {
     "Blood-B": 0.06,
     "Blood-CD4": 0.16,
     "Blood-CD8": 0.07,
     "Blood-Granul": 0.57,
     "Blood-Mono+Macro": 0.09,
     "Blood-NK": 0.05
    }
   },
   "start_time": "2023-08-08T04:58:34.822489",
   "version": "2.4.0"
  }
 },
 "nbformat": 4,
 "nbformat_minor": 5
}
