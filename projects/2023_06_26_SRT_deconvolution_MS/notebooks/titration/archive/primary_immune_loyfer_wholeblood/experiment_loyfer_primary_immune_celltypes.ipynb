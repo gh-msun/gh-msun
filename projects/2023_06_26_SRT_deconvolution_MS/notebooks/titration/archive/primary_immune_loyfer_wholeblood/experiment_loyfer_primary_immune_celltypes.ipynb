{
 "cells": [
  {
   "cell_type": "code",
   "execution_count": 1,
   "id": "61ca502e-2efc-4f63-b11b-a4f45a5d7b25",
   "metadata": {
    "tags": []
   },
   "outputs": [],
   "source": [
    "import papermill as pm\n",
    "import sys\n",
    "import os"
   ]
  },
  {
   "cell_type": "code",
   "execution_count": 2,
   "id": "c1169b8c-8c53-45b3-b49a-7739f311750b",
   "metadata": {},
   "outputs": [],
   "source": [
    "#---Local paths---#\n",
    "ROOT_DIR = '/analysis/gh-msun/'\n",
    "PROJECT_SLUG = '2023_06_26_SRT_deconvolution_MS'\n",
    "PROJECT_DIR = ROOT_DIR + f'projects/{PROJECT_SLUG}/'\n",
    "\n",
    "#---Load custom scripts---#\n",
    "SCRIPT_DIR = PROJECT_DIR + 'scripts/'\n",
    "sys.path.append(SCRIPT_DIR)\n",
    "\n",
    "import helper as hlpr\n",
    "\n",
    "EXPERIMENT = 'primary_immune_loyfer'\n",
    "SEED = 888 # one see for the entire titration experiment\n",
    "CELLTYPES = ['Blood-B', 'Blood-CD4', 'Blood-CD8', 'Blood-Mono+Macro', 'Blood-NK', 'Blood-Granul']\n",
    "ABRIDGED_NAMES = ['B', 'CD4', 'CD8', 'MONO', 'NK', 'GRANUL']\n",
    "CELLTYPE_ATLAS = ['immune_b', 'immune_cd4', 'immune_cd8', 'immune_dend_plus_macro_plus_mono', 'immune_nk', 'immune_neutro']\n",
    "BACKGROUND = 'wholeblood'\n",
    "TOTAL_READS_TO_SAMPLE = 1000000\n",
    "N_REPLICATES = 20\n",
    "CELLTYPES = CELLTYPES\n",
    "TITRATION_LIST = [0.2, 0.15, 0.10, 0.08, 0.06, 0.04, 0.02, 0.01, \n",
    "                   0.008, 0.006, 0.004, 0.002, 0.001, 0]\n",
    "WHOLE_BLOOD_ABUNDANCE = {'Blood-B':0.06,\n",
    "                         'Blood-Mono+Macro':0.09,\n",
    "                         'Blood-Granul':0.57,\n",
    "                         'Blood-CD4':0.16,\n",
    "                         'Blood-CD8':0.07,\n",
    "                         'Blood-NK':0.05}\n",
    "\n",
    "EXPERIMENT_NAME = f'{EXPERIMENT}_{BACKGROUND}'\n",
    "PATH_TO_NOTEBOOK = PROJECT_DIR + '/notebooks/titration/02_titration_experiment_loyfer.ipynb'\n",
    "PATH_TO_OUTPUT = PROJECT_DIR + f'/notebooks/titration/{EXPERIMENT_NAME}/' \n",
    "\n",
    "# should use atlas that is t-cell combined"
   ]
  },
  {
   "cell_type": "code",
   "execution_count": 3,
   "id": "95cb32a2-8895-427d-bab5-c27c79714df4",
   "metadata": {},
   "outputs": [
    {
     "name": "stderr",
     "output_type": "stream",
     "text": [
      "Black is not installed, parameters wont be formatted\n"
     ]
    },
    {
     "name": "stdout",
     "output_type": "stream",
     "text": [
      "--> Running titration experiment for: B\n"
     ]
    },
    {
     "data": {
      "application/vnd.jupyter.widget-view+json": {
       "model_id": "06c2b039ab0b44119ffada67ba4ed26b",
       "version_major": 2,
       "version_minor": 0
      },
      "text/plain": [
       "Executing:   0%|          | 0/33 [00:00<?, ?cell/s]"
      ]
     },
     "metadata": {},
     "output_type": "display_data"
    },
    {
     "name": "stderr",
     "output_type": "stream",
     "text": [
      "Black is not installed, parameters wont be formatted\n"
     ]
    },
    {
     "name": "stdout",
     "output_type": "stream",
     "text": [
      "--> Running titration experiment for: CD4\n"
     ]
    },
    {
     "data": {
      "application/vnd.jupyter.widget-view+json": {
       "model_id": "e65593dc4af44f1fb217d11877373939",
       "version_major": 2,
       "version_minor": 0
      },
      "text/plain": [
       "Executing:   0%|          | 0/33 [00:00<?, ?cell/s]"
      ]
     },
     "metadata": {},
     "output_type": "display_data"
    },
    {
     "name": "stderr",
     "output_type": "stream",
     "text": [
      "Black is not installed, parameters wont be formatted\n"
     ]
    },
    {
     "name": "stdout",
     "output_type": "stream",
     "text": [
      "--> Running titration experiment for: CD8\n"
     ]
    },
    {
     "data": {
      "application/vnd.jupyter.widget-view+json": {
       "model_id": "a22f5a920f1c45e596c2fb93908b9cf0",
       "version_major": 2,
       "version_minor": 0
      },
      "text/plain": [
       "Executing:   0%|          | 0/33 [00:00<?, ?cell/s]"
      ]
     },
     "metadata": {},
     "output_type": "display_data"
    },
    {
     "name": "stderr",
     "output_type": "stream",
     "text": [
      "Black is not installed, parameters wont be formatted\n"
     ]
    },
    {
     "name": "stdout",
     "output_type": "stream",
     "text": [
      "--> Running titration experiment for: MONO\n"
     ]
    },
    {
     "data": {
      "application/vnd.jupyter.widget-view+json": {
       "model_id": "dfc11972e1814b3183a631847c32b200",
       "version_major": 2,
       "version_minor": 0
      },
      "text/plain": [
       "Executing:   0%|          | 0/33 [00:00<?, ?cell/s]"
      ]
     },
     "metadata": {},
     "output_type": "display_data"
    },
    {
     "name": "stderr",
     "output_type": "stream",
     "text": [
      "Black is not installed, parameters wont be formatted\n"
     ]
    },
    {
     "name": "stdout",
     "output_type": "stream",
     "text": [
      "--> Running titration experiment for: NK\n"
     ]
    },
    {
     "data": {
      "application/vnd.jupyter.widget-view+json": {
       "model_id": "07eb99c266be407990c2e80f329ec73d",
       "version_major": 2,
       "version_minor": 0
      },
      "text/plain": [
       "Executing:   0%|          | 0/33 [00:00<?, ?cell/s]"
      ]
     },
     "metadata": {},
     "output_type": "display_data"
    },
    {
     "name": "stderr",
     "output_type": "stream",
     "text": [
      "Black is not installed, parameters wont be formatted\n"
     ]
    },
    {
     "name": "stdout",
     "output_type": "stream",
     "text": [
      "--> Running titration experiment for: GRANUL\n"
     ]
    },
    {
     "data": {
      "application/vnd.jupyter.widget-view+json": {
       "model_id": "31757f2f04d54d9b8998cc83cca8d2dd",
       "version_major": 2,
       "version_minor": 0
      },
      "text/plain": [
       "Executing:   0%|          | 0/33 [00:00<?, ?cell/s]"
      ]
     },
     "metadata": {},
     "output_type": "display_data"
    }
   ],
   "source": [
    "# if output path doesn't exist create\n",
    "if not os.path.exists(PATH_TO_OUTPUT):\n",
    "    os.mkdir(PATH_TO_OUTPUT)\n",
    "\n",
    "# assign parameters\n",
    "n_celltypes = len(CELLTYPES)\n",
    "seeds = hlpr.one_to_many_seeds(SEED, n_celltypes) \n",
    "\n",
    "PARAMS = dict(\n",
    "    ROOT_DIR = ROOT_DIR,\n",
    "    PROJECT_SLUG = PROJECT_SLUG,\n",
    "    EXPERIMENT = EXPERIMENT,\n",
    "    TITRATING_CELLTYPE = '',\n",
    "    TITRATING_CELLTYPE_ATLAS = '',\n",
    "    BACKGROUND = BACKGROUND,\n",
    "    N_REPLICATES = N_REPLICATES, \n",
    "    SEED = '',\n",
    "    TOTAL_READS_TO_SAMPLE = TOTAL_READS_TO_SAMPLE,\n",
    "    CELLTYPES = CELLTYPES,\n",
    "    ABRIDGED_NAMES = ABRIDGED_NAMES,\n",
    "    TITRATION_LIST = TITRATION_LIST,\n",
    "    WHOLE_BLOOD_ABUNDANCE = WHOLE_BLOOD_ABUNDANCE\n",
    ")\n",
    "\n",
    "# run titration experiment for each cell type\n",
    "for i in range(0, n_celltypes):\n",
    "    \n",
    "    celltype_name = ABRIDGED_NAMES[i]\n",
    "    print(f'--> Running titration experiment for: {celltype_name}')\n",
    "    \n",
    "    PARAMS['TITRATING_CELLTYPE'] = CELLTYPES[i]\n",
    "    PARAMS['TITRATING_CELLTYPE_ATLAS'] = CELLTYPE_ATLAS[i]\n",
    "    PARAMS['SEED'] = seeds[i]\n",
    "    \n",
    "    # output notebook path\n",
    "    output_notebook_path = PATH_TO_OUTPUT + f'titration_{celltype_name}.ipynb'\n",
    "    \n",
    "    pm.execute_notebook(\n",
    "       PATH_TO_NOTEBOOK,\n",
    "       output_notebook_path,\n",
    "       parameters=PARAMS\n",
    "    )\n",
    "    \n",
    "    "
   ]
  },
  {
   "cell_type": "code",
   "execution_count": null,
   "id": "b9ada991-8375-49b2-837b-6dc74a10976d",
   "metadata": {},
   "outputs": [],
   "source": []
  },
  {
   "cell_type": "code",
   "execution_count": null,
   "id": "9f84b028-fd46-421d-ae1e-d5d3afcdda10",
   "metadata": {},
   "outputs": [],
   "source": []
  }
 ],
 "metadata": {
  "kernelspec": {
   "display_name": "Python 3",
   "language": "python",
   "name": "python3"
  },
  "language_info": {
   "codemirror_mode": {
    "name": "ipython",
    "version": 3
   },
   "file_extension": ".py",
   "mimetype": "text/x-python",
   "name": "python",
   "nbconvert_exporter": "python",
   "pygments_lexer": "ipython3",
   "version": "3.7.8"
  }
 },
 "nbformat": 4,
 "nbformat_minor": 5
}
