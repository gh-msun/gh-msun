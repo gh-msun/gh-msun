{
 "cells": [
  {
   "cell_type": "markdown",
   "id": "9f493488",
   "metadata": {
    "papermill": {
     "duration": 0.005438,
     "end_time": "2023-07-31T20:44:23.204249",
     "exception": false,
     "start_time": "2023-07-31T20:44:23.198811",
     "status": "completed"
    },
    "tags": []
   },
   "source": [
    "# Titration Experiment"
   ]
  },
  {
   "cell_type": "code",
   "execution_count": 1,
   "id": "38291954",
   "metadata": {
    "execution": {
     "iopub.execute_input": "2023-07-31T20:44:23.214694Z",
     "iopub.status.busy": "2023-07-31T20:44:23.214420Z",
     "iopub.status.idle": "2023-07-31T20:44:23.219454Z",
     "shell.execute_reply": "2023-07-31T20:44:23.218983Z"
    },
    "papermill": {
     "duration": 0.011415,
     "end_time": "2023-07-31T20:44:23.220682",
     "exception": false,
     "start_time": "2023-07-31T20:44:23.209267",
     "status": "completed"
    },
    "tags": [
     "parameters"
    ]
   },
   "outputs": [],
   "source": [
    "#############################\n",
    "#   Experiment parameters   #\n",
    "#############################\n",
    "ROOT_DIR = '/analysis/gh-msun/'\n",
    "PROJECT_SLUG = '2023_06_26_SRT_deconvolution_MS'\n",
    "EXPERIMENT = 'primary_immune'\n",
    "TITRATING_CELLTYPE = 'Blueprint-B'\n",
    "TITRATING_CELLTYPE_ATLAS = 'immune_b' # cell type name in atlas different\n",
    "BACKGROUND = 'wholeblood' # background: uniform / wholeblood \n",
    "N_REPLICATES = 2 # number of replicates for each mixture\n",
    "SEED = 888 # need to change for different experiment\n",
    "TOTAL_READS_TO_SAMPLE = 1000000\n",
    "\n",
    "# make sure the orders of the two list match\n",
    "CELLTYPES = ['Blueprint-CD4', 'Blueprint-CD8', 'Blueprint-B', 'Blueprint-NK', 'Blueprint-Mono', 'Blueprint-Neutro']\n",
    "ABRIDGED_NAMES = ['CD4', 'CD8', 'B', 'NK', 'MONO', 'NEUTRO'] # for directory name\n",
    "\n",
    "# TITRATION_LIST = [0.2, 0.15, 0.10, 0.08, 0.06, 0.04, 0.02, 0.01, \n",
    "#                   0.008, 0.006, 0.004, 0.002, 0.001, 0]\n",
    "TITRATION_LIST=[0.2, 0.15]\n",
    "\n",
    "# proportion of cells in real whole blood (sum to 1)\n",
    "WHOLE_BLOOD_ABUNDANCE = {'Blueprint-B':0.06,\n",
    "                         'Blueprint-Mono':0.09,\n",
    "                         'Blueprint-Neutro':0.57,\n",
    "                         'Blueprint-CD4':0.16,\n",
    "                         'Blueprint-CD8':0.07,\n",
    "                         'Blueprint-NK':0.05}\n",
    "    "
   ]
  },
  {
   "cell_type": "code",
   "execution_count": 2,
   "id": "d4018a83",
   "metadata": {
    "execution": {
     "iopub.execute_input": "2023-07-31T20:44:23.229442Z",
     "iopub.status.busy": "2023-07-31T20:44:23.229236Z",
     "iopub.status.idle": "2023-07-31T20:44:23.233690Z",
     "shell.execute_reply": "2023-07-31T20:44:23.233228Z"
    },
    "papermill": {
     "duration": 0.010621,
     "end_time": "2023-07-31T20:44:23.235333",
     "exception": false,
     "start_time": "2023-07-31T20:44:23.224712",
     "status": "completed"
    },
    "tags": [
     "injected-parameters"
    ]
   },
   "outputs": [],
   "source": [
    "# Parameters\n",
    "ROOT_DIR = \"/analysis/gh-msun/\"\n",
    "PROJECT_SLUG = \"2023_06_26_SRT_deconvolution_MS\"\n",
    "EXPERIMENT = \"primary_immune\"\n",
    "TITRATING_CELLTYPE = \"Blueprint-NK\"\n",
    "TITRATING_CELLTYPE_ATLAS = \"immune_nk\"\n",
    "BACKGROUND = \"uniform\"\n",
    "N_REPLICATES = 20\n",
    "SEED = 466724\n",
    "TOTAL_READS_TO_SAMPLE = 1000000\n",
    "CELLTYPES = [\"Blueprint-CD4\", \"Blueprint-CD8\", \"Blueprint-B\", \"Blueprint-NK\", \"Blueprint-Mono\", \"Blueprint-Neutro\"]\n",
    "ABRIDGED_NAMES = [\"CD4\", \"CD8\", \"B\", \"NK\", \"MONO\", \"NEUTRO\"]\n",
    "TITRATION_LIST = [0.2, 0.15, 0.1, 0.08, 0.06, 0.04, 0.02, 0.01, 0.008, 0.006, 0.004, 0.002, 0.001, 0]\n",
    "WHOLE_BLOOD_ABUNDANCE = {\"Blueprint-B\": 0.06, \"Blueprint-Mono\": 0.09, \"Blueprint-Neutro\": 0.57, \"Blueprint-CD4\": 0.16, \"Blueprint-CD8\": 0.07, \"Blueprint-NK\": 0.05}\n"
   ]
  },
  {
   "cell_type": "code",
   "execution_count": 3,
   "id": "c63e8228",
   "metadata": {
    "execution": {
     "iopub.execute_input": "2023-07-31T20:44:23.244064Z",
     "iopub.status.busy": "2023-07-31T20:44:23.243864Z",
     "iopub.status.idle": "2023-07-31T20:44:26.938553Z",
     "shell.execute_reply": "2023-07-31T20:44:26.937886Z"
    },
    "papermill": {
     "duration": 3.700588,
     "end_time": "2023-07-31T20:44:26.939877",
     "exception": false,
     "start_time": "2023-07-31T20:44:23.239289",
     "status": "completed"
    },
    "tags": []
   },
   "outputs": [
    {
     "name": "stderr",
     "output_type": "stream",
     "text": [
      "/home/ec2-user/mambaforge/envs/2023_06_26_SRT_deconvolution_MS/lib/python3.7/site-packages/pyspark/context.py:317: FutureWarning: Python 3.7 support is deprecated in Spark 3.4.\n",
      "  warnings.warn(\"Python 3.7 support is deprecated in Spark 3.4.\", FutureWarning)\n"
     ]
    }
   ],
   "source": [
    "import glob\n",
    "import numpy as np\n",
    "import pandas as pd\n",
    "import seaborn as sns\n",
    "import matplotlib.pyplot as plt\n",
    "import itertools\n",
    "import functools\n",
    "import os\n",
    "import regex as re\n",
    "import random\n",
    "import importlib\n",
    "import sys\n",
    "\n",
    "from pyspark.sql import SparkSession\n",
    "from pyspark import SparkConf, SparkContext\n",
    "from pyspark.sql.types import IntegerType, LongType, ArrayType, StringType, DoubleType\n",
    "from pyspark.sql.functions import udf, explode, broadcast, count, lit, length, col\n",
    "from pyspark.sql import DataFrame\n",
    "from pyspark.sql.types import StructType\n",
    "\n",
    "# UPDATE HOME!\n",
    "os.environ[\"SPARK_HOME\"] = \"/home/ec2-user/mambaforge/envs/2023_06_26_SRT_deconvolution_MS/lib/python3.7/site-packages/pyspark\"\n",
    "# THIS needs to be set-up before running the notebook\n",
    "os.environ[\"SPARK_LOCAL_DIRS\"] = \"/temp\"\n",
    "os.environ[\"PYARROW_IGNORE_TIMEZONE\"] = \"1\"\n",
    "\n",
    "spark_conf = SparkConf()\n",
    "spark_conf.set(\"spark.ui.showConsoleProgress\", \"True\")\n",
    "spark_conf.set(\"spark.executor.instances\", \"2\")\n",
    "spark_conf.set(\"spark.executor.cores\", \"2\")\n",
    "spark_conf.set(\"spark.executor.memory\", \"16g\")\n",
    "spark_conf.set(\"spark.driver.memory\", \"64g\")\n",
    "spark_conf.set(\"spark.driver.maxResultSize\", \"32g\")\n",
    "spark_conf.set(\"spark.parquet.filterPushdown\", \"true\")\n",
    "spark_conf.set(\"spark.local.dir\", \"/temp\")\n",
    "spark_conf.getAll()\n",
    "\n",
    "sc = SparkContext(conf=spark_conf)\n",
    "sc.setLogLevel(\"ERROR\")\n",
    "spark = SparkSession(sc)\n",
    "\n",
    "pd.set_option('display.max_rows', 500)\n",
    "pd.set_option('display.max_columns', 500)\n",
    "pd.set_option('display.width', 1000)\n",
    "sns.set_context('talk')"
   ]
  },
  {
   "cell_type": "code",
   "execution_count": 4,
   "id": "2342f3c7",
   "metadata": {
    "execution": {
     "iopub.execute_input": "2023-07-31T20:44:26.951027Z",
     "iopub.status.busy": "2023-07-31T20:44:26.950632Z",
     "iopub.status.idle": "2023-07-31T20:44:27.477003Z",
     "shell.execute_reply": "2023-07-31T20:44:27.476472Z"
    },
    "papermill": {
     "duration": 0.533212,
     "end_time": "2023-07-31T20:44:27.478466",
     "exception": false,
     "start_time": "2023-07-31T20:44:26.945254",
     "status": "completed"
    },
    "tags": []
   },
   "outputs": [],
   "source": [
    "#---Local paths---#\n",
    "PROJECT_DIR = ROOT_DIR + f'projects/{PROJECT_SLUG}/'\n",
    "\n",
    "#---Load all custom scripts---#\n",
    "SCRIPT_DIR = PROJECT_DIR + 'scripts/'\n",
    "sys.path.append(SCRIPT_DIR)\n",
    "\n",
    "import create_mixture as cm\n",
    "import score_matrix as sm\n",
    "import deconvolution as dcnv\n",
    "import helper as hlpr\n",
    "\n",
    "pd.set_option('display.max_rows', 500)\n",
    "pd.set_option('display.max_columns', 500)\n",
    "pd.set_option('display.width', 1000)"
   ]
  },
  {
   "cell_type": "code",
   "execution_count": 5,
   "id": "bd40e9ca",
   "metadata": {
    "execution": {
     "iopub.execute_input": "2023-07-31T20:44:27.488831Z",
     "iopub.status.busy": "2023-07-31T20:44:27.488549Z",
     "iopub.status.idle": "2023-07-31T20:44:27.493959Z",
     "shell.execute_reply": "2023-07-31T20:44:27.493534Z"
    },
    "papermill": {
     "duration": 0.011584,
     "end_time": "2023-07-31T20:44:27.495116",
     "exception": false,
     "start_time": "2023-07-31T20:44:27.483532",
     "status": "completed"
    },
    "tags": []
   },
   "outputs": [
    {
     "data": {
      "text/plain": [
       "<module 'helper' from '/analysis/gh-msun/projects/2023_06_26_SRT_deconvolution_MS/scripts/helper.py'>"
      ]
     },
     "execution_count": 5,
     "metadata": {},
     "output_type": "execute_result"
    }
   ],
   "source": [
    "importlib.reload(cm)\n",
    "importlib.reload(sm)\n",
    "importlib.reload(dcnv)\n",
    "importlib.reload(hlpr)"
   ]
  },
  {
   "cell_type": "code",
   "execution_count": 6,
   "id": "dd922c00",
   "metadata": {
    "execution": {
     "iopub.execute_input": "2023-07-31T20:44:27.504503Z",
     "iopub.status.busy": "2023-07-31T20:44:27.504291Z",
     "iopub.status.idle": "2023-07-31T20:44:27.509886Z",
     "shell.execute_reply": "2023-07-31T20:44:27.509465Z"
    },
    "papermill": {
     "duration": 0.011659,
     "end_time": "2023-07-31T20:44:27.511109",
     "exception": false,
     "start_time": "2023-07-31T20:44:27.499450",
     "status": "completed"
    },
    "tags": []
   },
   "outputs": [
    {
     "data": {
      "text/plain": [
       "[0.2, 0.16, 0.16, 0.16, 0.16, 0.16]"
      ]
     },
     "execution_count": 6,
     "metadata": {},
     "output_type": "execute_result"
    }
   ],
   "source": [
    "#################################\n",
    "#   Set titration proportions   #\n",
    "#################################\n",
    "\n",
    "# Reorder such that the titrating cell type comes first\n",
    "CELLTYPES_unordered = CELLTYPES.copy()\n",
    "CELLTYPES = hlpr.titration_reordering(list_of_cell_types=CELLTYPES, \n",
    "                                      titrating_cell_type=TITRATING_CELLTYPE)\n",
    "\n",
    "# Reorder abridged name\n",
    "ABRIDGED_NAMES = hlpr.reorder_abridged_name(unordered_celltypes=CELLTYPES_unordered,\n",
    "                                            ordered_celltypes=CELLTYPES,\n",
    "                                            unordered_abridged_names=ABRIDGED_NAMES)\n",
    "    \n",
    "# set titration proportions\n",
    "if BACKGROUND == 'uniform':\n",
    "    PROPORTIONS = hlpr.generate_uniform_background_proportions(titration_list=TITRATION_LIST, \n",
    "                                                               cell_types=CELLTYPES)\n",
    "\n",
    "if BACKGROUND == 'wholeblood':\n",
    "    PROPORTIONS = hlpr.generate_custom_background_proportions(titration_list=TITRATION_LIST, \n",
    "                                                              custom_proportion=WHOLE_BLOOD_ABUNDANCE, \n",
    "                                                              list_of_celltypes=CELLTYPES, \n",
    "                                                              titrating_celltype=TITRATING_CELLTYPE)\n",
    "\n",
    "PROPORTIONS[0]    "
   ]
  },
  {
   "cell_type": "markdown",
   "id": "8bb6fe18",
   "metadata": {
    "papermill": {
     "duration": 0.004343,
     "end_time": "2023-07-31T20:44:27.519763",
     "exception": false,
     "start_time": "2023-07-31T20:44:27.515420",
     "status": "completed"
    },
    "tags": []
   },
   "source": [
    "## Create mixture"
   ]
  },
  {
   "cell_type": "code",
   "execution_count": 7,
   "id": "bf1cd420",
   "metadata": {
    "execution": {
     "iopub.execute_input": "2023-07-31T20:44:27.529202Z",
     "iopub.status.busy": "2023-07-31T20:44:27.528999Z",
     "iopub.status.idle": "2023-07-31T20:44:27.531799Z",
     "shell.execute_reply": "2023-07-31T20:44:27.531376Z"
    },
    "papermill": {
     "duration": 0.008733,
     "end_time": "2023-07-31T20:44:27.532914",
     "exception": false,
     "start_time": "2023-07-31T20:44:27.524181",
     "status": "completed"
    },
    "tags": []
   },
   "outputs": [],
   "source": [
    "############################\n",
    "#   Parameters and paths   # \n",
    "############################\n",
    "EXPERIMENT_DIR = PROJECT_DIR + f'output/experiment/{EXPERIMENT}/'\n",
    "EXPERIMENT_NAME = f'{TITRATING_CELLTYPE}-{BACKGROUND}/'\n",
    "PARQUET_PATH = PROJECT_DIR + 'output/mixture_source/'\n",
    "EXPERIMENT_CELLTYPE_DIR = EXPERIMENT_DIR + f'{EXPERIMENT_NAME}/'\n",
    "RESULT_PATH = EXPERIMENT_CELLTYPE_DIR + 'mixture/'\n"
   ]
  },
  {
   "cell_type": "code",
   "execution_count": 8,
   "id": "dda3dd7a",
   "metadata": {
    "execution": {
     "iopub.execute_input": "2023-07-31T20:44:27.542361Z",
     "iopub.status.busy": "2023-07-31T20:44:27.542160Z",
     "iopub.status.idle": "2023-07-31T21:08:15.487500Z",
     "shell.execute_reply": "2023-07-31T21:08:15.486944Z"
    },
    "papermill": {
     "duration": 1427.951487,
     "end_time": "2023-07-31T21:08:15.488736",
     "exception": false,
     "start_time": "2023-07-31T20:44:27.537249",
     "status": "completed"
    },
    "tags": []
   },
   "outputs": [
    {
     "name": "stdout",
     "output_type": "stream",
     "text": [
      ">>> Load parquet files and count rows... <<<\n",
      "----------> Loading cell type: Blueprint-NK\n"
     ]
    },
    {
     "name": "stdout",
     "output_type": "stream",
     "text": [
      "----------> Loading cell type: Blueprint-CD4\n"
     ]
    },
    {
     "name": "stdout",
     "output_type": "stream",
     "text": [
      "----------> Loading cell type: Blueprint-CD8\n"
     ]
    },
    {
     "name": "stdout",
     "output_type": "stream",
     "text": [
      "----------> Loading cell type: Blueprint-B\n"
     ]
    },
    {
     "name": "stdout",
     "output_type": "stream",
     "text": [
      "----------> Loading cell type: Blueprint-Mono\n"
     ]
    },
    {
     "name": "stdout",
     "output_type": "stream",
     "text": [
      "----------> Loading cell type: Blueprint-Neutro\n"
     ]
    },
    {
     "name": "stdout",
     "output_type": "stream",
     "text": [
      ">>> Complete. <<< \n",
      "\n",
      ">>> Start mixing... <<<\n",
      "--> PROPORTION: [0.2, 0.16, 0.16, 0.16, 0.16, 0.16]\n",
      "----------> Creating mixture 0... \n"
     ]
    },
    {
     "name": "stdout",
     "output_type": "stream",
     "text": [
      "----------> Creating mixture 1... \n"
     ]
    },
    {
     "name": "stdout",
     "output_type": "stream",
     "text": [
      "----------> Creating mixture 2... \n"
     ]
    },
    {
     "name": "stdout",
     "output_type": "stream",
     "text": [
      "----------> Creating mixture 3... \n"
     ]
    },
    {
     "name": "stdout",
     "output_type": "stream",
     "text": [
      "----------> Creating mixture 4... \n"
     ]
    },
    {
     "name": "stdout",
     "output_type": "stream",
     "text": [
      "----------> Creating mixture 5... \n"
     ]
    },
    {
     "name": "stdout",
     "output_type": "stream",
     "text": [
      "----------> Creating mixture 6... \n"
     ]
    },
    {
     "name": "stdout",
     "output_type": "stream",
     "text": [
      "----------> Creating mixture 7... \n"
     ]
    },
    {
     "name": "stdout",
     "output_type": "stream",
     "text": [
      "----------> Creating mixture 8... \n"
     ]
    },
    {
     "name": "stdout",
     "output_type": "stream",
     "text": [
      "----------> Creating mixture 9... \n"
     ]
    },
    {
     "name": "stdout",
     "output_type": "stream",
     "text": [
      "----------> Creating mixture 10... \n"
     ]
    },
    {
     "name": "stdout",
     "output_type": "stream",
     "text": [
      "----------> Creating mixture 11... \n"
     ]
    },
    {
     "name": "stdout",
     "output_type": "stream",
     "text": [
      "----------> Creating mixture 12... \n"
     ]
    },
    {
     "name": "stdout",
     "output_type": "stream",
     "text": [
      "----------> Creating mixture 13... \n"
     ]
    },
    {
     "name": "stdout",
     "output_type": "stream",
     "text": [
      "----------> Creating mixture 14... \n"
     ]
    },
    {
     "name": "stdout",
     "output_type": "stream",
     "text": [
      "----------> Creating mixture 15... \n"
     ]
    },
    {
     "name": "stdout",
     "output_type": "stream",
     "text": [
      "----------> Creating mixture 16... \n"
     ]
    },
    {
     "name": "stdout",
     "output_type": "stream",
     "text": [
      "----------> Creating mixture 17... \n"
     ]
    },
    {
     "name": "stdout",
     "output_type": "stream",
     "text": [
      "----------> Creating mixture 18... \n"
     ]
    },
    {
     "name": "stdout",
     "output_type": "stream",
     "text": [
      "----------> Creating mixture 19... \n"
     ]
    },
    {
     "name": "stdout",
     "output_type": "stream",
     "text": [
      "--> PROPORTION: [0.15, 0.16999999999999998, 0.16999999999999998, 0.16999999999999998, 0.16999999999999998, 0.16999999999999998]\n",
      "----------> Creating mixture 0... \n"
     ]
    },
    {
     "name": "stdout",
     "output_type": "stream",
     "text": [
      "----------> Creating mixture 1... \n"
     ]
    },
    {
     "name": "stdout",
     "output_type": "stream",
     "text": [
      "----------> Creating mixture 2... \n"
     ]
    },
    {
     "name": "stdout",
     "output_type": "stream",
     "text": [
      "----------> Creating mixture 3... \n"
     ]
    },
    {
     "name": "stdout",
     "output_type": "stream",
     "text": [
      "----------> Creating mixture 4... \n"
     ]
    },
    {
     "name": "stdout",
     "output_type": "stream",
     "text": [
      "----------> Creating mixture 5... \n"
     ]
    },
    {
     "name": "stdout",
     "output_type": "stream",
     "text": [
      "----------> Creating mixture 6... \n"
     ]
    },
    {
     "name": "stdout",
     "output_type": "stream",
     "text": [
      "----------> Creating mixture 7... \n"
     ]
    },
    {
     "name": "stdout",
     "output_type": "stream",
     "text": [
      "----------> Creating mixture 8... \n"
     ]
    },
    {
     "name": "stdout",
     "output_type": "stream",
     "text": [
      "----------> Creating mixture 9... \n"
     ]
    },
    {
     "name": "stdout",
     "output_type": "stream",
     "text": [
      "----------> Creating mixture 10... \n"
     ]
    },
    {
     "name": "stdout",
     "output_type": "stream",
     "text": [
      "----------> Creating mixture 11... \n"
     ]
    },
    {
     "name": "stdout",
     "output_type": "stream",
     "text": [
      "----------> Creating mixture 12... \n"
     ]
    },
    {
     "name": "stdout",
     "output_type": "stream",
     "text": [
      "----------> Creating mixture 13... \n"
     ]
    },
    {
     "name": "stdout",
     "output_type": "stream",
     "text": [
      "----------> Creating mixture 14... \n"
     ]
    },
    {
     "name": "stdout",
     "output_type": "stream",
     "text": [
      "----------> Creating mixture 15... \n"
     ]
    },
    {
     "name": "stdout",
     "output_type": "stream",
     "text": [
      "----------> Creating mixture 16... \n"
     ]
    },
    {
     "name": "stdout",
     "output_type": "stream",
     "text": [
      "----------> Creating mixture 17... \n"
     ]
    },
    {
     "name": "stdout",
     "output_type": "stream",
     "text": [
      "----------> Creating mixture 18... \n"
     ]
    },
    {
     "name": "stdout",
     "output_type": "stream",
     "text": [
      "----------> Creating mixture 19... \n"
     ]
    },
    {
     "name": "stdout",
     "output_type": "stream",
     "text": [
      "--> PROPORTION: [0.1, 0.18, 0.18, 0.18, 0.18, 0.18]\n",
      "----------> Creating mixture 0... \n"
     ]
    },
    {
     "name": "stdout",
     "output_type": "stream",
     "text": [
      "----------> Creating mixture 1... \n"
     ]
    },
    {
     "name": "stdout",
     "output_type": "stream",
     "text": [
      "----------> Creating mixture 2... \n"
     ]
    },
    {
     "name": "stdout",
     "output_type": "stream",
     "text": [
      "----------> Creating mixture 3... \n"
     ]
    },
    {
     "name": "stdout",
     "output_type": "stream",
     "text": [
      "----------> Creating mixture 4... \n"
     ]
    },
    {
     "name": "stdout",
     "output_type": "stream",
     "text": [
      "----------> Creating mixture 5... \n"
     ]
    },
    {
     "name": "stdout",
     "output_type": "stream",
     "text": [
      "----------> Creating mixture 6... \n"
     ]
    },
    {
     "name": "stdout",
     "output_type": "stream",
     "text": [
      "----------> Creating mixture 7... \n"
     ]
    },
    {
     "name": "stdout",
     "output_type": "stream",
     "text": [
      "----------> Creating mixture 8... \n"
     ]
    },
    {
     "name": "stdout",
     "output_type": "stream",
     "text": [
      "----------> Creating mixture 9... \n"
     ]
    },
    {
     "name": "stdout",
     "output_type": "stream",
     "text": [
      "----------> Creating mixture 10... \n"
     ]
    },
    {
     "name": "stdout",
     "output_type": "stream",
     "text": [
      "----------> Creating mixture 11... \n"
     ]
    },
    {
     "name": "stdout",
     "output_type": "stream",
     "text": [
      "----------> Creating mixture 12... \n"
     ]
    },
    {
     "name": "stdout",
     "output_type": "stream",
     "text": [
      "----------> Creating mixture 13... \n"
     ]
    },
    {
     "name": "stdout",
     "output_type": "stream",
     "text": [
      "----------> Creating mixture 14... \n"
     ]
    },
    {
     "name": "stdout",
     "output_type": "stream",
     "text": [
      "----------> Creating mixture 15... \n"
     ]
    },
    {
     "name": "stdout",
     "output_type": "stream",
     "text": [
      "----------> Creating mixture 16... \n"
     ]
    },
    {
     "name": "stdout",
     "output_type": "stream",
     "text": [
      "----------> Creating mixture 17... \n"
     ]
    },
    {
     "name": "stdout",
     "output_type": "stream",
     "text": [
      "----------> Creating mixture 18... \n"
     ]
    },
    {
     "name": "stdout",
     "output_type": "stream",
     "text": [
      "----------> Creating mixture 19... \n"
     ]
    },
    {
     "name": "stdout",
     "output_type": "stream",
     "text": [
      "--> PROPORTION: [0.08, 0.184, 0.184, 0.184, 0.184, 0.184]\n",
      "----------> Creating mixture 0... \n"
     ]
    },
    {
     "name": "stdout",
     "output_type": "stream",
     "text": [
      "----------> Creating mixture 1... \n"
     ]
    },
    {
     "name": "stdout",
     "output_type": "stream",
     "text": [
      "----------> Creating mixture 2... \n"
     ]
    },
    {
     "name": "stdout",
     "output_type": "stream",
     "text": [
      "----------> Creating mixture 3... \n"
     ]
    },
    {
     "name": "stdout",
     "output_type": "stream",
     "text": [
      "----------> Creating mixture 4... \n"
     ]
    },
    {
     "name": "stdout",
     "output_type": "stream",
     "text": [
      "----------> Creating mixture 5... \n"
     ]
    },
    {
     "name": "stdout",
     "output_type": "stream",
     "text": [
      "----------> Creating mixture 6... \n"
     ]
    },
    {
     "name": "stdout",
     "output_type": "stream",
     "text": [
      "----------> Creating mixture 7... \n"
     ]
    },
    {
     "name": "stdout",
     "output_type": "stream",
     "text": [
      "----------> Creating mixture 8... \n"
     ]
    },
    {
     "name": "stdout",
     "output_type": "stream",
     "text": [
      "----------> Creating mixture 9... \n"
     ]
    },
    {
     "name": "stdout",
     "output_type": "stream",
     "text": [
      "----------> Creating mixture 10... \n"
     ]
    },
    {
     "name": "stdout",
     "output_type": "stream",
     "text": [
      "----------> Creating mixture 11... \n"
     ]
    },
    {
     "name": "stdout",
     "output_type": "stream",
     "text": [
      "----------> Creating mixture 12... \n"
     ]
    },
    {
     "name": "stdout",
     "output_type": "stream",
     "text": [
      "----------> Creating mixture 13... \n"
     ]
    },
    {
     "name": "stdout",
     "output_type": "stream",
     "text": [
      "----------> Creating mixture 14... \n"
     ]
    },
    {
     "name": "stdout",
     "output_type": "stream",
     "text": [
      "----------> Creating mixture 15... \n"
     ]
    },
    {
     "name": "stdout",
     "output_type": "stream",
     "text": [
      "----------> Creating mixture 16... \n"
     ]
    },
    {
     "name": "stdout",
     "output_type": "stream",
     "text": [
      "----------> Creating mixture 17... \n"
     ]
    },
    {
     "name": "stdout",
     "output_type": "stream",
     "text": [
      "----------> Creating mixture 18... \n"
     ]
    },
    {
     "name": "stdout",
     "output_type": "stream",
     "text": [
      "----------> Creating mixture 19... \n"
     ]
    },
    {
     "name": "stdout",
     "output_type": "stream",
     "text": [
      "--> PROPORTION: [0.06, 0.188, 0.188, 0.188, 0.188, 0.188]\n",
      "----------> Creating mixture 0... \n"
     ]
    },
    {
     "name": "stdout",
     "output_type": "stream",
     "text": [
      "----------> Creating mixture 1... \n"
     ]
    },
    {
     "name": "stdout",
     "output_type": "stream",
     "text": [
      "----------> Creating mixture 2... \n"
     ]
    },
    {
     "name": "stdout",
     "output_type": "stream",
     "text": [
      "----------> Creating mixture 3... \n"
     ]
    },
    {
     "name": "stdout",
     "output_type": "stream",
     "text": [
      "----------> Creating mixture 4... \n"
     ]
    },
    {
     "name": "stdout",
     "output_type": "stream",
     "text": [
      "----------> Creating mixture 5... \n"
     ]
    },
    {
     "name": "stdout",
     "output_type": "stream",
     "text": [
      "----------> Creating mixture 6... \n"
     ]
    },
    {
     "name": "stdout",
     "output_type": "stream",
     "text": [
      "----------> Creating mixture 7... \n"
     ]
    },
    {
     "name": "stdout",
     "output_type": "stream",
     "text": [
      "----------> Creating mixture 8... \n"
     ]
    },
    {
     "name": "stdout",
     "output_type": "stream",
     "text": [
      "----------> Creating mixture 9... \n"
     ]
    },
    {
     "name": "stdout",
     "output_type": "stream",
     "text": [
      "----------> Creating mixture 10... \n"
     ]
    },
    {
     "name": "stdout",
     "output_type": "stream",
     "text": [
      "----------> Creating mixture 11... \n"
     ]
    },
    {
     "name": "stdout",
     "output_type": "stream",
     "text": [
      "----------> Creating mixture 12... \n"
     ]
    },
    {
     "name": "stdout",
     "output_type": "stream",
     "text": [
      "----------> Creating mixture 13... \n"
     ]
    },
    {
     "name": "stdout",
     "output_type": "stream",
     "text": [
      "----------> Creating mixture 14... \n"
     ]
    },
    {
     "name": "stdout",
     "output_type": "stream",
     "text": [
      "----------> Creating mixture 15... \n"
     ]
    },
    {
     "name": "stdout",
     "output_type": "stream",
     "text": [
      "----------> Creating mixture 16... \n"
     ]
    },
    {
     "name": "stdout",
     "output_type": "stream",
     "text": [
      "----------> Creating mixture 17... \n"
     ]
    },
    {
     "name": "stdout",
     "output_type": "stream",
     "text": [
      "----------> Creating mixture 18... \n"
     ]
    },
    {
     "name": "stdout",
     "output_type": "stream",
     "text": [
      "----------> Creating mixture 19... \n"
     ]
    },
    {
     "name": "stdout",
     "output_type": "stream",
     "text": [
      "--> PROPORTION: [0.04, 0.192, 0.192, 0.192, 0.192, 0.192]\n",
      "----------> Creating mixture 0... \n"
     ]
    },
    {
     "name": "stdout",
     "output_type": "stream",
     "text": [
      "----------> Creating mixture 1... \n"
     ]
    },
    {
     "name": "stdout",
     "output_type": "stream",
     "text": [
      "----------> Creating mixture 2... \n"
     ]
    },
    {
     "name": "stdout",
     "output_type": "stream",
     "text": [
      "----------> Creating mixture 3... \n"
     ]
    },
    {
     "name": "stdout",
     "output_type": "stream",
     "text": [
      "----------> Creating mixture 4... \n"
     ]
    },
    {
     "name": "stdout",
     "output_type": "stream",
     "text": [
      "----------> Creating mixture 5... \n"
     ]
    },
    {
     "name": "stdout",
     "output_type": "stream",
     "text": [
      "----------> Creating mixture 6... \n"
     ]
    },
    {
     "name": "stdout",
     "output_type": "stream",
     "text": [
      "----------> Creating mixture 7... \n"
     ]
    },
    {
     "name": "stdout",
     "output_type": "stream",
     "text": [
      "----------> Creating mixture 8... \n"
     ]
    },
    {
     "name": "stdout",
     "output_type": "stream",
     "text": [
      "----------> Creating mixture 9... \n"
     ]
    },
    {
     "name": "stdout",
     "output_type": "stream",
     "text": [
      "----------> Creating mixture 10... \n"
     ]
    },
    {
     "name": "stdout",
     "output_type": "stream",
     "text": [
      "----------> Creating mixture 11... \n"
     ]
    },
    {
     "name": "stdout",
     "output_type": "stream",
     "text": [
      "----------> Creating mixture 12... \n"
     ]
    },
    {
     "name": "stdout",
     "output_type": "stream",
     "text": [
      "----------> Creating mixture 13... \n"
     ]
    },
    {
     "name": "stdout",
     "output_type": "stream",
     "text": [
      "----------> Creating mixture 14... \n"
     ]
    },
    {
     "name": "stdout",
     "output_type": "stream",
     "text": [
      "----------> Creating mixture 15... \n"
     ]
    },
    {
     "name": "stdout",
     "output_type": "stream",
     "text": [
      "----------> Creating mixture 16... \n"
     ]
    },
    {
     "name": "stdout",
     "output_type": "stream",
     "text": [
      "----------> Creating mixture 17... \n"
     ]
    },
    {
     "name": "stdout",
     "output_type": "stream",
     "text": [
      "----------> Creating mixture 18... \n"
     ]
    },
    {
     "name": "stdout",
     "output_type": "stream",
     "text": [
      "----------> Creating mixture 19... \n"
     ]
    },
    {
     "name": "stdout",
     "output_type": "stream",
     "text": [
      "--> PROPORTION: [0.02, 0.196, 0.196, 0.196, 0.196, 0.196]\n",
      "----------> Creating mixture 0... \n"
     ]
    },
    {
     "name": "stdout",
     "output_type": "stream",
     "text": [
      "----------> Creating mixture 1... \n"
     ]
    },
    {
     "name": "stdout",
     "output_type": "stream",
     "text": [
      "----------> Creating mixture 2... \n"
     ]
    },
    {
     "name": "stdout",
     "output_type": "stream",
     "text": [
      "----------> Creating mixture 3... \n"
     ]
    },
    {
     "name": "stdout",
     "output_type": "stream",
     "text": [
      "----------> Creating mixture 4... \n"
     ]
    },
    {
     "name": "stdout",
     "output_type": "stream",
     "text": [
      "----------> Creating mixture 5... \n"
     ]
    },
    {
     "name": "stdout",
     "output_type": "stream",
     "text": [
      "----------> Creating mixture 6... \n"
     ]
    },
    {
     "name": "stdout",
     "output_type": "stream",
     "text": [
      "----------> Creating mixture 7... \n"
     ]
    },
    {
     "name": "stdout",
     "output_type": "stream",
     "text": [
      "----------> Creating mixture 8... \n"
     ]
    },
    {
     "name": "stdout",
     "output_type": "stream",
     "text": [
      "----------> Creating mixture 9... \n"
     ]
    },
    {
     "name": "stdout",
     "output_type": "stream",
     "text": [
      "----------> Creating mixture 10... \n"
     ]
    },
    {
     "name": "stdout",
     "output_type": "stream",
     "text": [
      "----------> Creating mixture 11... \n"
     ]
    },
    {
     "name": "stdout",
     "output_type": "stream",
     "text": [
      "----------> Creating mixture 12... \n"
     ]
    },
    {
     "name": "stdout",
     "output_type": "stream",
     "text": [
      "----------> Creating mixture 13... \n"
     ]
    },
    {
     "name": "stdout",
     "output_type": "stream",
     "text": [
      "----------> Creating mixture 14... \n"
     ]
    },
    {
     "name": "stdout",
     "output_type": "stream",
     "text": [
      "----------> Creating mixture 15... \n"
     ]
    },
    {
     "name": "stdout",
     "output_type": "stream",
     "text": [
      "----------> Creating mixture 16... \n"
     ]
    },
    {
     "name": "stdout",
     "output_type": "stream",
     "text": [
      "----------> Creating mixture 17... \n"
     ]
    },
    {
     "name": "stdout",
     "output_type": "stream",
     "text": [
      "----------> Creating mixture 18... \n"
     ]
    },
    {
     "name": "stdout",
     "output_type": "stream",
     "text": [
      "----------> Creating mixture 19... \n"
     ]
    },
    {
     "name": "stdout",
     "output_type": "stream",
     "text": [
      "--> PROPORTION: [0.01, 0.198, 0.198, 0.198, 0.198, 0.198]\n",
      "----------> Creating mixture 0... \n"
     ]
    },
    {
     "name": "stdout",
     "output_type": "stream",
     "text": [
      "----------> Creating mixture 1... \n"
     ]
    },
    {
     "name": "stdout",
     "output_type": "stream",
     "text": [
      "----------> Creating mixture 2... \n"
     ]
    },
    {
     "name": "stdout",
     "output_type": "stream",
     "text": [
      "----------> Creating mixture 3... \n"
     ]
    },
    {
     "name": "stdout",
     "output_type": "stream",
     "text": [
      "----------> Creating mixture 4... \n"
     ]
    },
    {
     "name": "stdout",
     "output_type": "stream",
     "text": [
      "----------> Creating mixture 5... \n"
     ]
    },
    {
     "name": "stdout",
     "output_type": "stream",
     "text": [
      "----------> Creating mixture 6... \n"
     ]
    },
    {
     "name": "stdout",
     "output_type": "stream",
     "text": [
      "----------> Creating mixture 7... \n"
     ]
    },
    {
     "name": "stdout",
     "output_type": "stream",
     "text": [
      "----------> Creating mixture 8... \n"
     ]
    },
    {
     "name": "stdout",
     "output_type": "stream",
     "text": [
      "----------> Creating mixture 9... \n"
     ]
    },
    {
     "name": "stdout",
     "output_type": "stream",
     "text": [
      "----------> Creating mixture 10... \n"
     ]
    },
    {
     "name": "stdout",
     "output_type": "stream",
     "text": [
      "----------> Creating mixture 11... \n"
     ]
    },
    {
     "name": "stdout",
     "output_type": "stream",
     "text": [
      "----------> Creating mixture 12... \n"
     ]
    },
    {
     "name": "stdout",
     "output_type": "stream",
     "text": [
      "----------> Creating mixture 13... \n"
     ]
    },
    {
     "name": "stdout",
     "output_type": "stream",
     "text": [
      "----------> Creating mixture 14... \n"
     ]
    },
    {
     "name": "stdout",
     "output_type": "stream",
     "text": [
      "----------> Creating mixture 15... \n"
     ]
    },
    {
     "name": "stdout",
     "output_type": "stream",
     "text": [
      "----------> Creating mixture 16... \n"
     ]
    },
    {
     "name": "stdout",
     "output_type": "stream",
     "text": [
      "----------> Creating mixture 17... \n"
     ]
    },
    {
     "name": "stdout",
     "output_type": "stream",
     "text": [
      "----------> Creating mixture 18... \n"
     ]
    },
    {
     "name": "stdout",
     "output_type": "stream",
     "text": [
      "----------> Creating mixture 19... \n"
     ]
    },
    {
     "name": "stdout",
     "output_type": "stream",
     "text": [
      "--> PROPORTION: [0.008, 0.1984, 0.1984, 0.1984, 0.1984, 0.1984]\n",
      "----------> Creating mixture 0... \n"
     ]
    },
    {
     "name": "stdout",
     "output_type": "stream",
     "text": [
      "----------> Creating mixture 1... \n"
     ]
    },
    {
     "name": "stdout",
     "output_type": "stream",
     "text": [
      "----------> Creating mixture 2... \n"
     ]
    },
    {
     "name": "stdout",
     "output_type": "stream",
     "text": [
      "----------> Creating mixture 3... \n"
     ]
    },
    {
     "name": "stdout",
     "output_type": "stream",
     "text": [
      "----------> Creating mixture 4... \n"
     ]
    },
    {
     "name": "stdout",
     "output_type": "stream",
     "text": [
      "----------> Creating mixture 5... \n"
     ]
    },
    {
     "name": "stdout",
     "output_type": "stream",
     "text": [
      "----------> Creating mixture 6... \n"
     ]
    },
    {
     "name": "stdout",
     "output_type": "stream",
     "text": [
      "----------> Creating mixture 7... \n"
     ]
    },
    {
     "name": "stdout",
     "output_type": "stream",
     "text": [
      "----------> Creating mixture 8... \n"
     ]
    },
    {
     "name": "stdout",
     "output_type": "stream",
     "text": [
      "----------> Creating mixture 9... \n"
     ]
    },
    {
     "name": "stdout",
     "output_type": "stream",
     "text": [
      "----------> Creating mixture 10... \n"
     ]
    },
    {
     "name": "stdout",
     "output_type": "stream",
     "text": [
      "----------> Creating mixture 11... \n"
     ]
    },
    {
     "name": "stdout",
     "output_type": "stream",
     "text": [
      "----------> Creating mixture 12... \n"
     ]
    },
    {
     "name": "stdout",
     "output_type": "stream",
     "text": [
      "----------> Creating mixture 13... \n"
     ]
    },
    {
     "name": "stdout",
     "output_type": "stream",
     "text": [
      "----------> Creating mixture 14... \n"
     ]
    },
    {
     "name": "stdout",
     "output_type": "stream",
     "text": [
      "----------> Creating mixture 15... \n"
     ]
    },
    {
     "name": "stdout",
     "output_type": "stream",
     "text": [
      "----------> Creating mixture 16... \n"
     ]
    },
    {
     "name": "stdout",
     "output_type": "stream",
     "text": [
      "----------> Creating mixture 17... \n"
     ]
    },
    {
     "name": "stdout",
     "output_type": "stream",
     "text": [
      "----------> Creating mixture 18... \n"
     ]
    },
    {
     "name": "stdout",
     "output_type": "stream",
     "text": [
      "----------> Creating mixture 19... \n"
     ]
    },
    {
     "name": "stdout",
     "output_type": "stream",
     "text": [
      "--> PROPORTION: [0.006, 0.1988, 0.1988, 0.1988, 0.1988, 0.1988]\n",
      "----------> Creating mixture 0... \n"
     ]
    },
    {
     "name": "stdout",
     "output_type": "stream",
     "text": [
      "----------> Creating mixture 1... \n"
     ]
    },
    {
     "name": "stdout",
     "output_type": "stream",
     "text": [
      "----------> Creating mixture 2... \n"
     ]
    },
    {
     "name": "stdout",
     "output_type": "stream",
     "text": [
      "----------> Creating mixture 3... \n"
     ]
    },
    {
     "name": "stdout",
     "output_type": "stream",
     "text": [
      "----------> Creating mixture 4... \n"
     ]
    },
    {
     "name": "stdout",
     "output_type": "stream",
     "text": [
      "----------> Creating mixture 5... \n"
     ]
    },
    {
     "name": "stdout",
     "output_type": "stream",
     "text": [
      "----------> Creating mixture 6... \n"
     ]
    },
    {
     "name": "stdout",
     "output_type": "stream",
     "text": [
      "----------> Creating mixture 7... \n"
     ]
    },
    {
     "name": "stdout",
     "output_type": "stream",
     "text": [
      "----------> Creating mixture 8... \n"
     ]
    },
    {
     "name": "stdout",
     "output_type": "stream",
     "text": [
      "----------> Creating mixture 9... \n"
     ]
    },
    {
     "name": "stdout",
     "output_type": "stream",
     "text": [
      "----------> Creating mixture 10... \n"
     ]
    },
    {
     "name": "stdout",
     "output_type": "stream",
     "text": [
      "----------> Creating mixture 11... \n"
     ]
    },
    {
     "name": "stdout",
     "output_type": "stream",
     "text": [
      "----------> Creating mixture 12... \n"
     ]
    },
    {
     "name": "stdout",
     "output_type": "stream",
     "text": [
      "----------> Creating mixture 13... \n"
     ]
    },
    {
     "name": "stdout",
     "output_type": "stream",
     "text": [
      "----------> Creating mixture 14... \n"
     ]
    },
    {
     "name": "stdout",
     "output_type": "stream",
     "text": [
      "----------> Creating mixture 15... \n"
     ]
    },
    {
     "name": "stdout",
     "output_type": "stream",
     "text": [
      "----------> Creating mixture 16... \n"
     ]
    },
    {
     "name": "stdout",
     "output_type": "stream",
     "text": [
      "----------> Creating mixture 17... \n"
     ]
    },
    {
     "name": "stdout",
     "output_type": "stream",
     "text": [
      "----------> Creating mixture 18... \n"
     ]
    },
    {
     "name": "stdout",
     "output_type": "stream",
     "text": [
      "----------> Creating mixture 19... \n"
     ]
    },
    {
     "name": "stdout",
     "output_type": "stream",
     "text": [
      "--> PROPORTION: [0.004, 0.1992, 0.1992, 0.1992, 0.1992, 0.1992]\n",
      "----------> Creating mixture 0... \n"
     ]
    },
    {
     "name": "stdout",
     "output_type": "stream",
     "text": [
      "----------> Creating mixture 1... \n"
     ]
    },
    {
     "name": "stdout",
     "output_type": "stream",
     "text": [
      "----------> Creating mixture 2... \n"
     ]
    },
    {
     "name": "stdout",
     "output_type": "stream",
     "text": [
      "----------> Creating mixture 3... \n"
     ]
    },
    {
     "name": "stdout",
     "output_type": "stream",
     "text": [
      "----------> Creating mixture 4... \n"
     ]
    },
    {
     "name": "stdout",
     "output_type": "stream",
     "text": [
      "----------> Creating mixture 5... \n"
     ]
    },
    {
     "name": "stdout",
     "output_type": "stream",
     "text": [
      "----------> Creating mixture 6... \n"
     ]
    },
    {
     "name": "stdout",
     "output_type": "stream",
     "text": [
      "----------> Creating mixture 7... \n"
     ]
    },
    {
     "name": "stdout",
     "output_type": "stream",
     "text": [
      "----------> Creating mixture 8... \n"
     ]
    },
    {
     "name": "stdout",
     "output_type": "stream",
     "text": [
      "----------> Creating mixture 9... \n"
     ]
    },
    {
     "name": "stdout",
     "output_type": "stream",
     "text": [
      "----------> Creating mixture 10... \n"
     ]
    },
    {
     "name": "stdout",
     "output_type": "stream",
     "text": [
      "----------> Creating mixture 11... \n"
     ]
    },
    {
     "name": "stdout",
     "output_type": "stream",
     "text": [
      "----------> Creating mixture 12... \n"
     ]
    },
    {
     "name": "stdout",
     "output_type": "stream",
     "text": [
      "----------> Creating mixture 13... \n"
     ]
    },
    {
     "name": "stdout",
     "output_type": "stream",
     "text": [
      "----------> Creating mixture 14... \n"
     ]
    },
    {
     "name": "stdout",
     "output_type": "stream",
     "text": [
      "----------> Creating mixture 15... \n"
     ]
    },
    {
     "name": "stdout",
     "output_type": "stream",
     "text": [
      "----------> Creating mixture 16... \n"
     ]
    },
    {
     "name": "stdout",
     "output_type": "stream",
     "text": [
      "----------> Creating mixture 17... \n"
     ]
    },
    {
     "name": "stdout",
     "output_type": "stream",
     "text": [
      "----------> Creating mixture 18... \n"
     ]
    },
    {
     "name": "stdout",
     "output_type": "stream",
     "text": [
      "----------> Creating mixture 19... \n"
     ]
    },
    {
     "name": "stdout",
     "output_type": "stream",
     "text": [
      "--> PROPORTION: [0.002, 0.1996, 0.1996, 0.1996, 0.1996, 0.1996]\n",
      "----------> Creating mixture 0... \n"
     ]
    },
    {
     "name": "stdout",
     "output_type": "stream",
     "text": [
      "----------> Creating mixture 1... \n"
     ]
    },
    {
     "name": "stdout",
     "output_type": "stream",
     "text": [
      "----------> Creating mixture 2... \n"
     ]
    },
    {
     "name": "stdout",
     "output_type": "stream",
     "text": [
      "----------> Creating mixture 3... \n"
     ]
    },
    {
     "name": "stdout",
     "output_type": "stream",
     "text": [
      "----------> Creating mixture 4... \n"
     ]
    },
    {
     "name": "stdout",
     "output_type": "stream",
     "text": [
      "----------> Creating mixture 5... \n"
     ]
    },
    {
     "name": "stdout",
     "output_type": "stream",
     "text": [
      "----------> Creating mixture 6... \n"
     ]
    },
    {
     "name": "stdout",
     "output_type": "stream",
     "text": [
      "----------> Creating mixture 7... \n"
     ]
    },
    {
     "name": "stdout",
     "output_type": "stream",
     "text": [
      "----------> Creating mixture 8... \n"
     ]
    },
    {
     "name": "stdout",
     "output_type": "stream",
     "text": [
      "----------> Creating mixture 9... \n"
     ]
    },
    {
     "name": "stdout",
     "output_type": "stream",
     "text": [
      "----------> Creating mixture 10... \n"
     ]
    },
    {
     "name": "stdout",
     "output_type": "stream",
     "text": [
      "----------> Creating mixture 11... \n"
     ]
    },
    {
     "name": "stdout",
     "output_type": "stream",
     "text": [
      "----------> Creating mixture 12... \n"
     ]
    },
    {
     "name": "stdout",
     "output_type": "stream",
     "text": [
      "----------> Creating mixture 13... \n"
     ]
    },
    {
     "name": "stdout",
     "output_type": "stream",
     "text": [
      "----------> Creating mixture 14... \n"
     ]
    },
    {
     "name": "stdout",
     "output_type": "stream",
     "text": [
      "----------> Creating mixture 15... \n"
     ]
    },
    {
     "name": "stdout",
     "output_type": "stream",
     "text": [
      "----------> Creating mixture 16... \n"
     ]
    },
    {
     "name": "stdout",
     "output_type": "stream",
     "text": [
      "----------> Creating mixture 17... \n"
     ]
    },
    {
     "name": "stdout",
     "output_type": "stream",
     "text": [
      "----------> Creating mixture 18... \n"
     ]
    },
    {
     "name": "stdout",
     "output_type": "stream",
     "text": [
      "----------> Creating mixture 19... \n"
     ]
    },
    {
     "name": "stdout",
     "output_type": "stream",
     "text": [
      "--> PROPORTION: [0.001, 0.1998, 0.1998, 0.1998, 0.1998, 0.1998]\n",
      "----------> Creating mixture 0... \n"
     ]
    },
    {
     "name": "stdout",
     "output_type": "stream",
     "text": [
      "----------> Creating mixture 1... \n"
     ]
    },
    {
     "name": "stdout",
     "output_type": "stream",
     "text": [
      "----------> Creating mixture 2... \n"
     ]
    },
    {
     "name": "stdout",
     "output_type": "stream",
     "text": [
      "----------> Creating mixture 3... \n"
     ]
    },
    {
     "name": "stdout",
     "output_type": "stream",
     "text": [
      "----------> Creating mixture 4... \n"
     ]
    },
    {
     "name": "stdout",
     "output_type": "stream",
     "text": [
      "----------> Creating mixture 5... \n"
     ]
    },
    {
     "name": "stdout",
     "output_type": "stream",
     "text": [
      "----------> Creating mixture 6... \n"
     ]
    },
    {
     "name": "stdout",
     "output_type": "stream",
     "text": [
      "----------> Creating mixture 7... \n"
     ]
    },
    {
     "name": "stdout",
     "output_type": "stream",
     "text": [
      "----------> Creating mixture 8... \n"
     ]
    },
    {
     "name": "stdout",
     "output_type": "stream",
     "text": [
      "----------> Creating mixture 9... \n"
     ]
    },
    {
     "name": "stdout",
     "output_type": "stream",
     "text": [
      "----------> Creating mixture 10... \n"
     ]
    },
    {
     "name": "stdout",
     "output_type": "stream",
     "text": [
      "----------> Creating mixture 11... \n"
     ]
    },
    {
     "name": "stdout",
     "output_type": "stream",
     "text": [
      "----------> Creating mixture 12... \n"
     ]
    },
    {
     "name": "stdout",
     "output_type": "stream",
     "text": [
      "----------> Creating mixture 13... \n"
     ]
    },
    {
     "name": "stdout",
     "output_type": "stream",
     "text": [
      "----------> Creating mixture 14... \n"
     ]
    },
    {
     "name": "stdout",
     "output_type": "stream",
     "text": [
      "----------> Creating mixture 15... \n"
     ]
    },
    {
     "name": "stdout",
     "output_type": "stream",
     "text": [
      "----------> Creating mixture 16... \n"
     ]
    },
    {
     "name": "stdout",
     "output_type": "stream",
     "text": [
      "----------> Creating mixture 17... \n"
     ]
    },
    {
     "name": "stdout",
     "output_type": "stream",
     "text": [
      "----------> Creating mixture 18... \n"
     ]
    },
    {
     "name": "stdout",
     "output_type": "stream",
     "text": [
      "----------> Creating mixture 19... \n"
     ]
    },
    {
     "name": "stdout",
     "output_type": "stream",
     "text": [
      "--> PROPORTION: [0, 0.2, 0.2, 0.2, 0.2, 0.2]\n",
      "----------> Creating mixture 0... \n"
     ]
    },
    {
     "name": "stdout",
     "output_type": "stream",
     "text": [
      "----------> Creating mixture 1... \n"
     ]
    },
    {
     "name": "stdout",
     "output_type": "stream",
     "text": [
      "----------> Creating mixture 2... \n"
     ]
    },
    {
     "name": "stdout",
     "output_type": "stream",
     "text": [
      "----------> Creating mixture 3... \n"
     ]
    },
    {
     "name": "stdout",
     "output_type": "stream",
     "text": [
      "----------> Creating mixture 4... \n"
     ]
    },
    {
     "name": "stdout",
     "output_type": "stream",
     "text": [
      "----------> Creating mixture 5... \n"
     ]
    },
    {
     "name": "stdout",
     "output_type": "stream",
     "text": [
      "----------> Creating mixture 6... \n"
     ]
    },
    {
     "name": "stdout",
     "output_type": "stream",
     "text": [
      "----------> Creating mixture 7... \n"
     ]
    },
    {
     "name": "stdout",
     "output_type": "stream",
     "text": [
      "----------> Creating mixture 8... \n"
     ]
    },
    {
     "name": "stdout",
     "output_type": "stream",
     "text": [
      "----------> Creating mixture 9... \n"
     ]
    },
    {
     "name": "stdout",
     "output_type": "stream",
     "text": [
      "----------> Creating mixture 10... \n"
     ]
    },
    {
     "name": "stdout",
     "output_type": "stream",
     "text": [
      "----------> Creating mixture 11... \n"
     ]
    },
    {
     "name": "stdout",
     "output_type": "stream",
     "text": [
      "----------> Creating mixture 12... \n"
     ]
    },
    {
     "name": "stdout",
     "output_type": "stream",
     "text": [
      "----------> Creating mixture 13... \n"
     ]
    },
    {
     "name": "stdout",
     "output_type": "stream",
     "text": [
      "----------> Creating mixture 14... \n"
     ]
    },
    {
     "name": "stdout",
     "output_type": "stream",
     "text": [
      "----------> Creating mixture 15... \n"
     ]
    },
    {
     "name": "stdout",
     "output_type": "stream",
     "text": [
      "----------> Creating mixture 16... \n"
     ]
    },
    {
     "name": "stdout",
     "output_type": "stream",
     "text": [
      "----------> Creating mixture 17... \n"
     ]
    },
    {
     "name": "stdout",
     "output_type": "stream",
     "text": [
      "----------> Creating mixture 18... \n"
     ]
    },
    {
     "name": "stdout",
     "output_type": "stream",
     "text": [
      "----------> Creating mixture 19... \n"
     ]
    },
    {
     "name": "stdout",
     "output_type": "stream",
     "text": [
      ">>> Complete. <<< \n",
      "\n",
      "CPU times: user 1.21 s, sys: 539 ms, total: 1.75 s\n",
      "Wall time: 23min 47s\n"
     ]
    }
   ],
   "source": [
    "%%time\n",
    "# load parquet files for each celltype & count rows\n",
    "parquet_df, total_reads_per_celltype = cm.load_parquet_dataframe(parquet_path=PARQUET_PATH,\n",
    "                                                                  cell_types=CELLTYPES,\n",
    "                                                                  spark=spark,\n",
    "                                                                  verbose=True)\n",
    "\n",
    "# mix cell types for each proportion set\n",
    "cm.mix_celltypes_multiple_proportions(parquet_df=parquet_df,\n",
    "                                       total_reads_per_celltype=total_reads_per_celltype,\n",
    "                                    #    n=len(TITRATION_LIST), \n",
    "                                       n=N_REPLICATES,\n",
    "                                       cell_types=CELLTYPES, \n",
    "                                       cell_type_abridged_name=ABRIDGED_NAMES, \n",
    "                                       total_reads_to_sample=TOTAL_READS_TO_SAMPLE, \n",
    "                                       list_of_proportions=PROPORTIONS, \n",
    "                                       seed=SEED, \n",
    "                                       result_path=RESULT_PATH, \n",
    "                                       spark=spark,\n",
    "                                       verbose=False, \n",
    "                                       save=True)"
   ]
  },
  {
   "cell_type": "markdown",
   "id": "7c506820",
   "metadata": {
    "papermill": {
     "duration": 0.01766,
     "end_time": "2023-07-31T21:08:15.524753",
     "exception": false,
     "start_time": "2023-07-31T21:08:15.507093",
     "status": "completed"
    },
    "tags": []
   },
   "source": [
    "## Compute score matrix"
   ]
  },
  {
   "cell_type": "code",
   "execution_count": 9,
   "id": "0713096b",
   "metadata": {
    "execution": {
     "iopub.execute_input": "2023-07-31T21:08:15.559994Z",
     "iopub.status.busy": "2023-07-31T21:08:15.559735Z",
     "iopub.status.idle": "2023-07-31T21:08:15.563485Z",
     "shell.execute_reply": "2023-07-31T21:08:15.563040Z"
    },
    "papermill": {
     "duration": 0.022791,
     "end_time": "2023-07-31T21:08:15.564690",
     "exception": false,
     "start_time": "2023-07-31T21:08:15.541899",
     "status": "completed"
    },
    "tags": []
   },
   "outputs": [],
   "source": [
    "############################\n",
    "#   Parameters and paths   # \n",
    "############################\n",
    "\n",
    "FILTER_CG_COUNT = 3\n",
    "FILTER_CG_COUNT_REGION = 1\n",
    "\n",
    "REGIONS = 'deconvolution_v2.v23_conv.with_cpg_index'\n",
    "REGION_BED_COLS = [\n",
    "    'region_chr', 'region_start', 'region_end', \n",
    "    'region_cpg_index_min', 'region_cpg_index_max', 'region_id'\n",
    "]\n",
    "\n",
    "# Regions\n",
    "REGION_PATH = (\n",
    "    PROJECT_DIR + '/stage/panel_data/{regions}.bed'\n",
    ").format(regions=REGIONS)\n",
    "\n",
    "# CpG map; genomic coordinate to CpG index;\n",
    "CPG_MAP_PATH = PROJECT_DIR + '/stage/cpg_loci/cpg_loci_hg19.combined_annot.tsv.gz'\n",
    "\n",
    "#--- Where to store results\n",
    "PATH_TO_MIXTURE_DIR = EXPERIMENT_CELLTYPE_DIR + 'mixture/'\n",
    "RESULT_PATH = EXPERIMENT_CELLTYPE_DIR\n"
   ]
  },
  {
   "cell_type": "code",
   "execution_count": 10,
   "id": "6169612e",
   "metadata": {
    "execution": {
     "iopub.execute_input": "2023-07-31T21:08:15.599691Z",
     "iopub.status.busy": "2023-07-31T21:08:15.599484Z",
     "iopub.status.idle": "2023-07-31T21:08:40.201106Z",
     "shell.execute_reply": "2023-07-31T21:08:40.200538Z"
    },
    "papermill": {
     "duration": 24.620923,
     "end_time": "2023-07-31T21:08:40.202682",
     "exception": false,
     "start_time": "2023-07-31T21:08:15.581759",
     "status": "completed"
    },
    "tags": []
   },
   "outputs": [],
   "source": [
    "cpg_map = pd.read_csv(CPG_MAP_PATH, usecols=['chr', 'start', 'end', 'cpg_index', 'cpg_index_hg38'], sep='\\t')"
   ]
  },
  {
   "cell_type": "code",
   "execution_count": 11,
   "id": "d74ca2da",
   "metadata": {
    "execution": {
     "iopub.execute_input": "2023-07-31T21:08:40.239765Z",
     "iopub.status.busy": "2023-07-31T21:08:40.239515Z",
     "iopub.status.idle": "2023-07-31T21:09:00.097177Z",
     "shell.execute_reply": "2023-07-31T21:09:00.096638Z"
    },
    "papermill": {
     "duration": 19.87742,
     "end_time": "2023-07-31T21:09:00.098494",
     "exception": false,
     "start_time": "2023-07-31T21:08:40.221074",
     "status": "completed"
    },
    "tags": []
   },
   "outputs": [
    {
     "name": "stdout",
     "output_type": "stream",
     "text": [
      "CPU times: user 14.7 s, sys: 5.22 s, total: 19.9 s\n",
      "Wall time: 19.9 s\n"
     ]
    }
   ],
   "source": [
    "%%time\n",
    "ridxs = ~cpg_map['cpg_index_hg38'].isna()\n",
    "hg19_hg38_map = dict(itertools.zip_longest(cpg_map[ridxs]['cpg_index'], cpg_map[ridxs]['cpg_index_hg38'].astype(int)))\n",
    "hg38_hg19_map = dict(itertools.zip_longest(cpg_map[ridxs]['cpg_index_hg38'].astype(int), cpg_map[ridxs]['cpg_index']))"
   ]
  },
  {
   "cell_type": "code",
   "execution_count": 12,
   "id": "791a022a",
   "metadata": {
    "execution": {
     "iopub.execute_input": "2023-07-31T21:09:00.135741Z",
     "iopub.status.busy": "2023-07-31T21:09:00.135505Z",
     "iopub.status.idle": "2023-07-31T21:09:31.354726Z",
     "shell.execute_reply": "2023-07-31T21:09:31.354235Z"
    },
    "papermill": {
     "duration": 31.256541,
     "end_time": "2023-07-31T21:09:31.373531",
     "exception": false,
     "start_time": "2023-07-31T21:09:00.116990",
     "status": "completed"
    },
    "tags": []
   },
   "outputs": [
    {
     "data": {
      "text/plain": [
       "(1658, 1658)"
      ]
     },
     "execution_count": 12,
     "metadata": {},
     "output_type": "execute_result"
    }
   ],
   "source": [
    "region_df = pd.read_csv(REGION_PATH, sep='\\t', usecols=range(0, 6), names=REGION_BED_COLS)\n",
    "\n",
    "region_df['region_cpg_index_max'] -= 1\n",
    "region_df.sort_values('region_cpg_index_min', inplace=True)\n",
    "region_df['region_cpg_index_min_hg38'] = region_df['region_cpg_index_min'].map(hg19_hg38_map)\n",
    "region_df['region_cpg_index_max_hg38'] = region_df['region_cpg_index_max'].map(hg19_hg38_map)\n",
    "\n",
    "region_df.shape[0], region_df['region_id'].nunique()"
   ]
  },
  {
   "cell_type": "code",
   "execution_count": 13,
   "id": "3e0cfb67",
   "metadata": {
    "execution": {
     "iopub.execute_input": "2023-07-31T21:09:31.410342Z",
     "iopub.status.busy": "2023-07-31T21:09:31.410090Z",
     "iopub.status.idle": "2023-07-31T21:09:31.416275Z",
     "shell.execute_reply": "2023-07-31T21:09:31.415836Z"
    },
    "papermill": {
     "duration": 0.025885,
     "end_time": "2023-07-31T21:09:31.417439",
     "exception": false,
     "start_time": "2023-07-31T21:09:31.391554",
     "status": "completed"
    },
    "tags": []
   },
   "outputs": [
    {
     "data": {
      "text/plain": [
       "(1658, 1658)"
      ]
     },
     "execution_count": 13,
     "metadata": {},
     "output_type": "execute_result"
    }
   ],
   "source": [
    "ridxs = ~region_df['region_cpg_index_min_hg38'].isna()\n",
    "ridxs &= ~region_df['region_cpg_index_max_hg38'].isna()\n",
    "region_df = region_df[ridxs].copy()\n",
    "region_df.shape[0], region_df['region_id'].nunique()"
   ]
  },
  {
   "cell_type": "code",
   "execution_count": 14,
   "id": "4da30654",
   "metadata": {
    "execution": {
     "iopub.execute_input": "2023-07-31T21:09:31.453238Z",
     "iopub.status.busy": "2023-07-31T21:09:31.453006Z",
     "iopub.status.idle": "2023-07-31T21:09:31.459642Z",
     "shell.execute_reply": "2023-07-31T21:09:31.459200Z"
    },
    "papermill": {
     "duration": 0.025916,
     "end_time": "2023-07-31T21:09:31.460812",
     "exception": false,
     "start_time": "2023-07-31T21:09:31.434896",
     "status": "completed"
    },
    "tags": []
   },
   "outputs": [
    {
     "data": {
      "text/plain": [
       "(1657, 1657)"
      ]
     },
     "execution_count": 14,
     "metadata": {},
     "output_type": "execute_result"
    }
   ],
   "source": [
    "cg_count_hg19 = region_df['region_cpg_index_max']-region_df['region_cpg_index_min'] + 1\n",
    "cg_count_hg38 = region_df['region_cpg_index_max_hg38']-region_df['region_cpg_index_min_hg38'] + 1\n",
    "ridxs = (cg_count_hg19==cg_count_hg38)\n",
    "ridxs &= (cg_count_hg19>=FILTER_CG_COUNT_REGION)\n",
    "region_df = region_df[ridxs].copy()\n",
    "region_df.shape[0], region_df['region_id'].nunique()"
   ]
  },
  {
   "cell_type": "code",
   "execution_count": 15,
   "id": "e41f5b9e",
   "metadata": {
    "execution": {
     "iopub.execute_input": "2023-07-31T21:09:31.496891Z",
     "iopub.status.busy": "2023-07-31T21:09:31.496661Z",
     "iopub.status.idle": "2023-07-31T21:09:31.500320Z",
     "shell.execute_reply": "2023-07-31T21:09:31.499856Z"
    },
    "papermill": {
     "duration": 0.023161,
     "end_time": "2023-07-31T21:09:31.501496",
     "exception": false,
     "start_time": "2023-07-31T21:09:31.478335",
     "status": "completed"
    },
    "tags": []
   },
   "outputs": [],
   "source": [
    "region_df['region_cpg_index_min_hg38'] = region_df['region_cpg_index_min_hg38'].astype(int)\n",
    "region_df['region_cpg_index_max_hg38'] = region_df['region_cpg_index_max_hg38'].astype(int)"
   ]
  },
  {
   "cell_type": "code",
   "execution_count": 16,
   "id": "e82a1dd9",
   "metadata": {
    "execution": {
     "iopub.execute_input": "2023-07-31T21:09:31.538583Z",
     "iopub.status.busy": "2023-07-31T21:09:31.538365Z",
     "iopub.status.idle": "2023-07-31T21:09:31.550673Z",
     "shell.execute_reply": "2023-07-31T21:09:31.550244Z"
    },
    "papermill": {
     "duration": 0.032072,
     "end_time": "2023-07-31T21:09:31.551811",
     "exception": false,
     "start_time": "2023-07-31T21:09:31.519739",
     "status": "completed"
    },
    "tags": []
   },
   "outputs": [
    {
     "data": {
      "text/html": [
       "<div>\n",
       "<style scoped>\n",
       "    .dataframe tbody tr th:only-of-type {\n",
       "        vertical-align: middle;\n",
       "    }\n",
       "\n",
       "    .dataframe tbody tr th {\n",
       "        vertical-align: top;\n",
       "    }\n",
       "\n",
       "    .dataframe thead th {\n",
       "        text-align: right;\n",
       "    }\n",
       "</style>\n",
       "<table border=\"1\" class=\"dataframe\">\n",
       "  <thead>\n",
       "    <tr style=\"text-align: right;\">\n",
       "      <th></th>\n",
       "      <th>region_chr</th>\n",
       "      <th>region_start</th>\n",
       "      <th>region_end</th>\n",
       "      <th>region_cpg_index_min</th>\n",
       "      <th>region_cpg_index_max</th>\n",
       "      <th>region_id</th>\n",
       "      <th>region_cpg_index_min_hg38</th>\n",
       "      <th>region_cpg_index_max_hg38</th>\n",
       "    </tr>\n",
       "  </thead>\n",
       "  <tbody>\n",
       "    <tr>\n",
       "      <th>0</th>\n",
       "      <td>chr1</td>\n",
       "      <td>1114771</td>\n",
       "      <td>1114971</td>\n",
       "      <td>20117</td>\n",
       "      <td>20129</td>\n",
       "      <td>Immune_Broad_B-chr1:1114772-1114971</td>\n",
       "      <td>21119</td>\n",
       "      <td>21131</td>\n",
       "    </tr>\n",
       "    <tr>\n",
       "      <th>1</th>\n",
       "      <td>chr1</td>\n",
       "      <td>1157450</td>\n",
       "      <td>1157720</td>\n",
       "      <td>21684</td>\n",
       "      <td>21703</td>\n",
       "      <td>Immune_Broad_NK-chr1:1157451-1157720</td>\n",
       "      <td>22686</td>\n",
       "      <td>22705</td>\n",
       "    </tr>\n",
       "    <tr>\n",
       "      <th>2</th>\n",
       "      <td>chr1</td>\n",
       "      <td>1157879</td>\n",
       "      <td>1158277</td>\n",
       "      <td>21710</td>\n",
       "      <td>21726</td>\n",
       "      <td>Immune_Broad_NK-chr1:1157880-1158277</td>\n",
       "      <td>22712</td>\n",
       "      <td>22728</td>\n",
       "    </tr>\n",
       "    <tr>\n",
       "      <th>14</th>\n",
       "      <td>chr1</td>\n",
       "      <td>6341182</td>\n",
       "      <td>6341377</td>\n",
       "      <td>140667</td>\n",
       "      <td>140681</td>\n",
       "      <td>Immune_Broad_Eosi-chr1:6341183-6341377</td>\n",
       "      <td>142368</td>\n",
       "      <td>142382</td>\n",
       "    </tr>\n",
       "    <tr>\n",
       "      <th>19</th>\n",
       "      <td>chr1</td>\n",
       "      <td>9147788</td>\n",
       "      <td>9147871</td>\n",
       "      <td>188605</td>\n",
       "      <td>188608</td>\n",
       "      <td>Immune_Broad_Neutro-chr1:9147789-9147871</td>\n",
       "      <td>190307</td>\n",
       "      <td>190310</td>\n",
       "    </tr>\n",
       "  </tbody>\n",
       "</table>\n",
       "</div>"
      ],
      "text/plain": [
       "   region_chr  region_start  region_end  region_cpg_index_min  region_cpg_index_max                                 region_id  region_cpg_index_min_hg38  region_cpg_index_max_hg38\n",
       "0        chr1       1114771     1114971                 20117                 20129       Immune_Broad_B-chr1:1114772-1114971                      21119                      21131\n",
       "1        chr1       1157450     1157720                 21684                 21703      Immune_Broad_NK-chr1:1157451-1157720                      22686                      22705\n",
       "2        chr1       1157879     1158277                 21710                 21726      Immune_Broad_NK-chr1:1157880-1158277                      22712                      22728\n",
       "14       chr1       6341182     6341377                140667                140681    Immune_Broad_Eosi-chr1:6341183-6341377                     142368                     142382\n",
       "19       chr1       9147788     9147871                188605                188608  Immune_Broad_Neutro-chr1:9147789-9147871                     190307                     190310"
      ]
     },
     "execution_count": 16,
     "metadata": {},
     "output_type": "execute_result"
    }
   ],
   "source": [
    "### Restrict to immune regions\n",
    "#-------------- CHANGE HERE FOR DIFFERENT REGION SUBSET ----------------------\n",
    "# BLUEPRINT immune regions\n",
    "ATLAS_PATH = PROJECT_DIR + f'/output/reference/deconv_inhouse_v2.atlas.tsv.gz'\n",
    "atlas = pd.read_csv(ATLAS_PATH, sep='\\t')\n",
    "subset_region_set = set(atlas.region_id)\n",
    "#-----------------------------------------------------------------------------\n",
    "\n",
    "# filter regions down to regions of interest\n",
    "region_df = region_df[region_df['region_id'].isin(subset_region_set)]\n",
    "region_df.head()"
   ]
  },
  {
   "cell_type": "code",
   "execution_count": 17,
   "id": "88bb902d",
   "metadata": {
    "execution": {
     "iopub.execute_input": "2023-07-31T21:09:31.588263Z",
     "iopub.status.busy": "2023-07-31T21:09:31.588055Z",
     "iopub.status.idle": "2023-07-31T21:58:36.452950Z",
     "shell.execute_reply": "2023-07-31T21:58:36.452308Z"
    },
    "papermill": {
     "duration": 2944.884778,
     "end_time": "2023-07-31T21:58:36.454401",
     "exception": false,
     "start_time": "2023-07-31T21:09:31.569623",
     "status": "completed"
    },
    "tags": []
   },
   "outputs": [
    {
     "name": "stdout",
     "output_type": "stream",
     "text": [
      ">>> Start computing score matrices <<< \n",
      "\n",
      "--> E2NK_E16CD4_E16CD8_E16B_E16MONO_E16NEUTRO\n",
      "--------> Computing score matrix for mix0_seed967193\n"
     ]
    },
    {
     "name": "stdout",
     "output_type": "stream",
     "text": [
      "--------> Computing score matrix for mix1_seed969385\n"
     ]
    },
    {
     "name": "stdout",
     "output_type": "stream",
     "text": [
      "--------> Computing score matrix for mix2_seed446982\n"
     ]
    },
    {
     "name": "stdout",
     "output_type": "stream",
     "text": [
      "--------> Computing score matrix for mix3_seed887258\n"
     ]
    },
    {
     "name": "stdout",
     "output_type": "stream",
     "text": [
      "--------> Computing score matrix for mix4_seed779818\n"
     ]
    },
    {
     "name": "stdout",
     "output_type": "stream",
     "text": [
      "--------> Computing score matrix for mix5_seed409835\n"
     ]
    },
    {
     "name": "stdout",
     "output_type": "stream",
     "text": [
      "--------> Computing score matrix for mix6_seed765765\n"
     ]
    },
    {
     "name": "stdout",
     "output_type": "stream",
     "text": [
      "--------> Computing score matrix for mix7_seed117014\n"
     ]
    },
    {
     "name": "stdout",
     "output_type": "stream",
     "text": [
      "--------> Computing score matrix for mix8_seed926946\n"
     ]
    },
    {
     "name": "stdout",
     "output_type": "stream",
     "text": [
      "--------> Computing score matrix for mix9_seed578816\n"
     ]
    },
    {
     "name": "stdout",
     "output_type": "stream",
     "text": [
      "--------> Computing score matrix for mix10_seed184037\n"
     ]
    },
    {
     "name": "stdout",
     "output_type": "stream",
     "text": [
      "--------> Computing score matrix for mix11_seed725459\n"
     ]
    },
    {
     "name": "stdout",
     "output_type": "stream",
     "text": [
      "--------> Computing score matrix for mix12_seed35669\n"
     ]
    },
    {
     "name": "stdout",
     "output_type": "stream",
     "text": [
      "--------> Computing score matrix for mix13_seed889315\n"
     ]
    },
    {
     "name": "stdout",
     "output_type": "stream",
     "text": [
      "--------> Computing score matrix for mix14_seed199079\n"
     ]
    },
    {
     "name": "stdout",
     "output_type": "stream",
     "text": [
      "--------> Computing score matrix for mix15_seed830814\n"
     ]
    },
    {
     "name": "stdout",
     "output_type": "stream",
     "text": [
      "--------> Computing score matrix for mix16_seed828963\n"
     ]
    },
    {
     "name": "stdout",
     "output_type": "stream",
     "text": [
      "--------> Computing score matrix for mix17_seed208288\n"
     ]
    },
    {
     "name": "stdout",
     "output_type": "stream",
     "text": [
      "--------> Computing score matrix for mix18_seed92395\n"
     ]
    },
    {
     "name": "stdout",
     "output_type": "stream",
     "text": [
      "--------> Computing score matrix for mix19_seed358043\n"
     ]
    },
    {
     "name": "stdout",
     "output_type": "stream",
     "text": [
      "\n",
      "\n",
      "--> E15NK_E17CD4_E17CD8_E17B_E17MONO_E17NEUTRO\n",
      "--------> Computing score matrix for mix0_seed225862\n"
     ]
    },
    {
     "name": "stdout",
     "output_type": "stream",
     "text": [
      "--------> Computing score matrix for mix1_seed708147\n"
     ]
    },
    {
     "name": "stdout",
     "output_type": "stream",
     "text": [
      "--------> Computing score matrix for mix2_seed865047\n"
     ]
    },
    {
     "name": "stdout",
     "output_type": "stream",
     "text": [
      "--------> Computing score matrix for mix3_seed57816\n"
     ]
    },
    {
     "name": "stdout",
     "output_type": "stream",
     "text": [
      "--------> Computing score matrix for mix4_seed469857\n"
     ]
    },
    {
     "name": "stdout",
     "output_type": "stream",
     "text": [
      "--------> Computing score matrix for mix5_seed540482\n"
     ]
    },
    {
     "name": "stdout",
     "output_type": "stream",
     "text": [
      "--------> Computing score matrix for mix6_seed628177\n"
     ]
    },
    {
     "name": "stdout",
     "output_type": "stream",
     "text": [
      "--------> Computing score matrix for mix7_seed118846\n"
     ]
    },
    {
     "name": "stdout",
     "output_type": "stream",
     "text": [
      "--------> Computing score matrix for mix8_seed532864\n"
     ]
    },
    {
     "name": "stdout",
     "output_type": "stream",
     "text": [
      "--------> Computing score matrix for mix9_seed242297\n"
     ]
    },
    {
     "name": "stdout",
     "output_type": "stream",
     "text": [
      "--------> Computing score matrix for mix10_seed693262\n"
     ]
    },
    {
     "name": "stdout",
     "output_type": "stream",
     "text": [
      "--------> Computing score matrix for mix11_seed953912\n"
     ]
    },
    {
     "name": "stdout",
     "output_type": "stream",
     "text": [
      "--------> Computing score matrix for mix12_seed566096\n"
     ]
    },
    {
     "name": "stdout",
     "output_type": "stream",
     "text": [
      "--------> Computing score matrix for mix13_seed333027\n"
     ]
    },
    {
     "name": "stdout",
     "output_type": "stream",
     "text": [
      "--------> Computing score matrix for mix14_seed59\n"
     ]
    },
    {
     "name": "stdout",
     "output_type": "stream",
     "text": [
      "--------> Computing score matrix for mix15_seed501283\n"
     ]
    },
    {
     "name": "stdout",
     "output_type": "stream",
     "text": [
      "--------> Computing score matrix for mix16_seed441252\n"
     ]
    },
    {
     "name": "stdout",
     "output_type": "stream",
     "text": [
      "--------> Computing score matrix for mix17_seed430761\n"
     ]
    },
    {
     "name": "stdout",
     "output_type": "stream",
     "text": [
      "--------> Computing score matrix for mix18_seed628167\n"
     ]
    },
    {
     "name": "stdout",
     "output_type": "stream",
     "text": [
      "--------> Computing score matrix for mix19_seed146784\n"
     ]
    },
    {
     "name": "stdout",
     "output_type": "stream",
     "text": [
      "\n",
      "\n",
      "--> E1NK_E18CD4_E18CD8_E18B_E18MONO_E18NEUTRO\n",
      "--------> Computing score matrix for mix0_seed407145\n"
     ]
    },
    {
     "name": "stdout",
     "output_type": "stream",
     "text": [
      "--------> Computing score matrix for mix1_seed374842\n"
     ]
    },
    {
     "name": "stdout",
     "output_type": "stream",
     "text": [
      "--------> Computing score matrix for mix2_seed231964\n"
     ]
    },
    {
     "name": "stdout",
     "output_type": "stream",
     "text": [
      "--------> Computing score matrix for mix3_seed595160\n"
     ]
    },
    {
     "name": "stdout",
     "output_type": "stream",
     "text": [
      "--------> Computing score matrix for mix4_seed880582\n"
     ]
    },
    {
     "name": "stdout",
     "output_type": "stream",
     "text": [
      "--------> Computing score matrix for mix5_seed577197\n"
     ]
    },
    {
     "name": "stdout",
     "output_type": "stream",
     "text": [
      "--------> Computing score matrix for mix6_seed968699\n"
     ]
    },
    {
     "name": "stdout",
     "output_type": "stream",
     "text": [
      "--------> Computing score matrix for mix7_seed821675\n"
     ]
    },
    {
     "name": "stdout",
     "output_type": "stream",
     "text": [
      "--------> Computing score matrix for mix8_seed315149\n"
     ]
    },
    {
     "name": "stdout",
     "output_type": "stream",
     "text": [
      "--------> Computing score matrix for mix9_seed63912\n"
     ]
    },
    {
     "name": "stdout",
     "output_type": "stream",
     "text": [
      "--------> Computing score matrix for mix10_seed688994\n"
     ]
    },
    {
     "name": "stdout",
     "output_type": "stream",
     "text": [
      "--------> Computing score matrix for mix11_seed596454\n"
     ]
    },
    {
     "name": "stdout",
     "output_type": "stream",
     "text": [
      "--------> Computing score matrix for mix12_seed998351\n"
     ]
    },
    {
     "name": "stdout",
     "output_type": "stream",
     "text": [
      "--------> Computing score matrix for mix13_seed738813\n"
     ]
    },
    {
     "name": "stdout",
     "output_type": "stream",
     "text": [
      "--------> Computing score matrix for mix14_seed288327\n"
     ]
    },
    {
     "name": "stdout",
     "output_type": "stream",
     "text": [
      "--------> Computing score matrix for mix15_seed987090\n"
     ]
    },
    {
     "name": "stdout",
     "output_type": "stream",
     "text": [
      "--------> Computing score matrix for mix16_seed106740\n"
     ]
    },
    {
     "name": "stdout",
     "output_type": "stream",
     "text": [
      "--------> Computing score matrix for mix17_seed343900\n"
     ]
    },
    {
     "name": "stdout",
     "output_type": "stream",
     "text": [
      "--------> Computing score matrix for mix18_seed503874\n"
     ]
    },
    {
     "name": "stdout",
     "output_type": "stream",
     "text": [
      "--------> Computing score matrix for mix19_seed387061\n"
     ]
    },
    {
     "name": "stdout",
     "output_type": "stream",
     "text": [
      "\n",
      "\n",
      "--> E08NK_E184CD4_E184CD8_E184B_E184MONO_E184NEUTRO\n",
      "--------> Computing score matrix for mix0_seed328917\n"
     ]
    },
    {
     "name": "stdout",
     "output_type": "stream",
     "text": [
      "--------> Computing score matrix for mix1_seed134326\n"
     ]
    },
    {
     "name": "stdout",
     "output_type": "stream",
     "text": [
      "--------> Computing score matrix for mix2_seed608580\n"
     ]
    },
    {
     "name": "stdout",
     "output_type": "stream",
     "text": [
      "--------> Computing score matrix for mix3_seed572425\n"
     ]
    },
    {
     "name": "stdout",
     "output_type": "stream",
     "text": [
      "--------> Computing score matrix for mix4_seed940331\n"
     ]
    },
    {
     "name": "stdout",
     "output_type": "stream",
     "text": [
      "--------> Computing score matrix for mix5_seed996608\n"
     ]
    },
    {
     "name": "stdout",
     "output_type": "stream",
     "text": [
      "--------> Computing score matrix for mix6_seed611804\n"
     ]
    },
    {
     "name": "stdout",
     "output_type": "stream",
     "text": [
      "--------> Computing score matrix for mix7_seed756378\n"
     ]
    },
    {
     "name": "stdout",
     "output_type": "stream",
     "text": [
      "--------> Computing score matrix for mix8_seed548404\n"
     ]
    },
    {
     "name": "stdout",
     "output_type": "stream",
     "text": [
      "--------> Computing score matrix for mix9_seed23993\n"
     ]
    },
    {
     "name": "stdout",
     "output_type": "stream",
     "text": [
      "--------> Computing score matrix for mix10_seed830606\n"
     ]
    },
    {
     "name": "stdout",
     "output_type": "stream",
     "text": [
      "--------> Computing score matrix for mix11_seed61393\n"
     ]
    },
    {
     "name": "stdout",
     "output_type": "stream",
     "text": [
      "--------> Computing score matrix for mix12_seed209463\n"
     ]
    },
    {
     "name": "stdout",
     "output_type": "stream",
     "text": [
      "--------> Computing score matrix for mix13_seed843019\n"
     ]
    },
    {
     "name": "stdout",
     "output_type": "stream",
     "text": [
      "--------> Computing score matrix for mix14_seed704228\n"
     ]
    },
    {
     "name": "stdout",
     "output_type": "stream",
     "text": [
      "--------> Computing score matrix for mix15_seed122584\n"
     ]
    },
    {
     "name": "stdout",
     "output_type": "stream",
     "text": [
      "--------> Computing score matrix for mix16_seed253713\n"
     ]
    },
    {
     "name": "stdout",
     "output_type": "stream",
     "text": [
      "--------> Computing score matrix for mix17_seed454794\n"
     ]
    },
    {
     "name": "stdout",
     "output_type": "stream",
     "text": [
      "--------> Computing score matrix for mix18_seed665185\n"
     ]
    },
    {
     "name": "stdout",
     "output_type": "stream",
     "text": [
      "--------> Computing score matrix for mix19_seed808212\n"
     ]
    },
    {
     "name": "stdout",
     "output_type": "stream",
     "text": [
      "\n",
      "\n",
      "--> E06NK_E188CD4_E188CD8_E188B_E188MONO_E188NEUTRO\n",
      "--------> Computing score matrix for mix0_seed982459\n"
     ]
    },
    {
     "name": "stdout",
     "output_type": "stream",
     "text": [
      "--------> Computing score matrix for mix1_seed791117\n"
     ]
    },
    {
     "name": "stdout",
     "output_type": "stream",
     "text": [
      "--------> Computing score matrix for mix2_seed151887\n"
     ]
    },
    {
     "name": "stdout",
     "output_type": "stream",
     "text": [
      "--------> Computing score matrix for mix3_seed930298\n"
     ]
    },
    {
     "name": "stdout",
     "output_type": "stream",
     "text": [
      "--------> Computing score matrix for mix4_seed143383\n"
     ]
    },
    {
     "name": "stdout",
     "output_type": "stream",
     "text": [
      "--------> Computing score matrix for mix5_seed533066\n"
     ]
    },
    {
     "name": "stdout",
     "output_type": "stream",
     "text": [
      "--------> Computing score matrix for mix6_seed561035\n"
     ]
    },
    {
     "name": "stdout",
     "output_type": "stream",
     "text": [
      "--------> Computing score matrix for mix7_seed579853\n"
     ]
    },
    {
     "name": "stdout",
     "output_type": "stream",
     "text": [
      "--------> Computing score matrix for mix8_seed677862\n"
     ]
    },
    {
     "name": "stdout",
     "output_type": "stream",
     "text": [
      "--------> Computing score matrix for mix9_seed722633\n"
     ]
    },
    {
     "name": "stdout",
     "output_type": "stream",
     "text": [
      "--------> Computing score matrix for mix10_seed571774\n"
     ]
    },
    {
     "name": "stdout",
     "output_type": "stream",
     "text": [
      "--------> Computing score matrix for mix11_seed182448\n"
     ]
    },
    {
     "name": "stdout",
     "output_type": "stream",
     "text": [
      "--------> Computing score matrix for mix12_seed213766\n"
     ]
    },
    {
     "name": "stdout",
     "output_type": "stream",
     "text": [
      "--------> Computing score matrix for mix13_seed986422\n"
     ]
    },
    {
     "name": "stdout",
     "output_type": "stream",
     "text": [
      "--------> Computing score matrix for mix14_seed485747\n"
     ]
    },
    {
     "name": "stdout",
     "output_type": "stream",
     "text": [
      "--------> Computing score matrix for mix15_seed557432\n"
     ]
    },
    {
     "name": "stdout",
     "output_type": "stream",
     "text": [
      "--------> Computing score matrix for mix16_seed901266\n"
     ]
    },
    {
     "name": "stdout",
     "output_type": "stream",
     "text": [
      "--------> Computing score matrix for mix17_seed601400\n"
     ]
    },
    {
     "name": "stdout",
     "output_type": "stream",
     "text": [
      "--------> Computing score matrix for mix18_seed438360\n"
     ]
    },
    {
     "name": "stdout",
     "output_type": "stream",
     "text": [
      "--------> Computing score matrix for mix19_seed750452\n"
     ]
    },
    {
     "name": "stdout",
     "output_type": "stream",
     "text": [
      "\n",
      "\n",
      "--> E04NK_E192CD4_E192CD8_E192B_E192MONO_E192NEUTRO\n",
      "--------> Computing score matrix for mix0_seed545178\n"
     ]
    },
    {
     "name": "stdout",
     "output_type": "stream",
     "text": [
      "--------> Computing score matrix for mix1_seed746698\n"
     ]
    },
    {
     "name": "stdout",
     "output_type": "stream",
     "text": [
      "--------> Computing score matrix for mix2_seed756021\n"
     ]
    },
    {
     "name": "stdout",
     "output_type": "stream",
     "text": [
      "--------> Computing score matrix for mix3_seed159897\n"
     ]
    },
    {
     "name": "stdout",
     "output_type": "stream",
     "text": [
      "--------> Computing score matrix for mix4_seed370196\n"
     ]
    },
    {
     "name": "stdout",
     "output_type": "stream",
     "text": [
      "--------> Computing score matrix for mix5_seed807216\n"
     ]
    },
    {
     "name": "stdout",
     "output_type": "stream",
     "text": [
      "--------> Computing score matrix for mix6_seed291728\n"
     ]
    },
    {
     "name": "stdout",
     "output_type": "stream",
     "text": [
      "--------> Computing score matrix for mix7_seed215184\n"
     ]
    },
    {
     "name": "stdout",
     "output_type": "stream",
     "text": [
      "--------> Computing score matrix for mix8_seed51297\n"
     ]
    },
    {
     "name": "stdout",
     "output_type": "stream",
     "text": [
      "--------> Computing score matrix for mix9_seed735378\n"
     ]
    },
    {
     "name": "stdout",
     "output_type": "stream",
     "text": [
      "--------> Computing score matrix for mix10_seed33744\n"
     ]
    },
    {
     "name": "stdout",
     "output_type": "stream",
     "text": [
      "--------> Computing score matrix for mix11_seed510523\n"
     ]
    },
    {
     "name": "stdout",
     "output_type": "stream",
     "text": [
      "--------> Computing score matrix for mix12_seed339256\n"
     ]
    },
    {
     "name": "stdout",
     "output_type": "stream",
     "text": [
      "--------> Computing score matrix for mix13_seed961686\n"
     ]
    },
    {
     "name": "stdout",
     "output_type": "stream",
     "text": [
      "--------> Computing score matrix for mix14_seed948767\n"
     ]
    },
    {
     "name": "stdout",
     "output_type": "stream",
     "text": [
      "--------> Computing score matrix for mix15_seed670788\n"
     ]
    },
    {
     "name": "stdout",
     "output_type": "stream",
     "text": [
      "--------> Computing score matrix for mix16_seed403015\n"
     ]
    },
    {
     "name": "stdout",
     "output_type": "stream",
     "text": [
      "--------> Computing score matrix for mix17_seed180378\n"
     ]
    },
    {
     "name": "stdout",
     "output_type": "stream",
     "text": [
      "--------> Computing score matrix for mix18_seed209787\n"
     ]
    },
    {
     "name": "stdout",
     "output_type": "stream",
     "text": [
      "--------> Computing score matrix for mix19_seed540203\n"
     ]
    },
    {
     "name": "stdout",
     "output_type": "stream",
     "text": [
      "\n",
      "\n",
      "--> E02NK_E196CD4_E196CD8_E196B_E196MONO_E196NEUTRO\n",
      "--------> Computing score matrix for mix0_seed79955\n"
     ]
    },
    {
     "name": "stdout",
     "output_type": "stream",
     "text": [
      "--------> Computing score matrix for mix1_seed447642\n"
     ]
    },
    {
     "name": "stdout",
     "output_type": "stream",
     "text": [
      "--------> Computing score matrix for mix2_seed713195\n"
     ]
    },
    {
     "name": "stdout",
     "output_type": "stream",
     "text": [
      "--------> Computing score matrix for mix3_seed802340\n"
     ]
    },
    {
     "name": "stdout",
     "output_type": "stream",
     "text": [
      "--------> Computing score matrix for mix4_seed506971\n"
     ]
    },
    {
     "name": "stdout",
     "output_type": "stream",
     "text": [
      "--------> Computing score matrix for mix5_seed995789\n"
     ]
    },
    {
     "name": "stdout",
     "output_type": "stream",
     "text": [
      "--------> Computing score matrix for mix6_seed650094\n"
     ]
    },
    {
     "name": "stdout",
     "output_type": "stream",
     "text": [
      "--------> Computing score matrix for mix7_seed610763\n"
     ]
    },
    {
     "name": "stdout",
     "output_type": "stream",
     "text": [
      "--------> Computing score matrix for mix8_seed733558\n"
     ]
    },
    {
     "name": "stdout",
     "output_type": "stream",
     "text": [
      "--------> Computing score matrix for mix9_seed653189\n"
     ]
    },
    {
     "name": "stdout",
     "output_type": "stream",
     "text": [
      "--------> Computing score matrix for mix10_seed658741\n"
     ]
    },
    {
     "name": "stdout",
     "output_type": "stream",
     "text": [
      "--------> Computing score matrix for mix11_seed618019\n"
     ]
    },
    {
     "name": "stdout",
     "output_type": "stream",
     "text": [
      "--------> Computing score matrix for mix12_seed674509\n"
     ]
    },
    {
     "name": "stdout",
     "output_type": "stream",
     "text": [
      "--------> Computing score matrix for mix13_seed934571\n"
     ]
    },
    {
     "name": "stdout",
     "output_type": "stream",
     "text": [
      "--------> Computing score matrix for mix14_seed126403\n"
     ]
    },
    {
     "name": "stdout",
     "output_type": "stream",
     "text": [
      "--------> Computing score matrix for mix15_seed510856\n"
     ]
    },
    {
     "name": "stdout",
     "output_type": "stream",
     "text": [
      "--------> Computing score matrix for mix16_seed777377\n"
     ]
    },
    {
     "name": "stdout",
     "output_type": "stream",
     "text": [
      "--------> Computing score matrix for mix17_seed787543\n"
     ]
    },
    {
     "name": "stdout",
     "output_type": "stream",
     "text": [
      "--------> Computing score matrix for mix18_seed991526\n"
     ]
    },
    {
     "name": "stdout",
     "output_type": "stream",
     "text": [
      "--------> Computing score matrix for mix19_seed348994\n"
     ]
    },
    {
     "name": "stdout",
     "output_type": "stream",
     "text": [
      "\n",
      "\n",
      "--> E01NK_E198CD4_E198CD8_E198B_E198MONO_E198NEUTRO\n",
      "--------> Computing score matrix for mix0_seed666217\n"
     ]
    },
    {
     "name": "stdout",
     "output_type": "stream",
     "text": [
      "--------> Computing score matrix for mix1_seed152103\n"
     ]
    },
    {
     "name": "stdout",
     "output_type": "stream",
     "text": [
      "--------> Computing score matrix for mix2_seed338956\n"
     ]
    },
    {
     "name": "stdout",
     "output_type": "stream",
     "text": [
      "--------> Computing score matrix for mix3_seed136919\n"
     ]
    },
    {
     "name": "stdout",
     "output_type": "stream",
     "text": [
      "--------> Computing score matrix for mix4_seed463023\n"
     ]
    },
    {
     "name": "stdout",
     "output_type": "stream",
     "text": [
      "--------> Computing score matrix for mix5_seed564562\n"
     ]
    },
    {
     "name": "stdout",
     "output_type": "stream",
     "text": [
      "--------> Computing score matrix for mix6_seed443284\n"
     ]
    },
    {
     "name": "stdout",
     "output_type": "stream",
     "text": [
      "--------> Computing score matrix for mix7_seed5033\n"
     ]
    },
    {
     "name": "stdout",
     "output_type": "stream",
     "text": [
      "--------> Computing score matrix for mix8_seed82189\n"
     ]
    },
    {
     "name": "stdout",
     "output_type": "stream",
     "text": [
      "--------> Computing score matrix for mix9_seed944797\n"
     ]
    },
    {
     "name": "stdout",
     "output_type": "stream",
     "text": [
      "--------> Computing score matrix for mix10_seed326698\n"
     ]
    },
    {
     "name": "stdout",
     "output_type": "stream",
     "text": [
      "--------> Computing score matrix for mix11_seed730730\n"
     ]
    },
    {
     "name": "stdout",
     "output_type": "stream",
     "text": [
      "--------> Computing score matrix for mix12_seed499410\n"
     ]
    },
    {
     "name": "stdout",
     "output_type": "stream",
     "text": [
      "--------> Computing score matrix for mix13_seed925689\n"
     ]
    },
    {
     "name": "stdout",
     "output_type": "stream",
     "text": [
      "--------> Computing score matrix for mix14_seed467280\n"
     ]
    },
    {
     "name": "stdout",
     "output_type": "stream",
     "text": [
      "--------> Computing score matrix for mix15_seed7026\n"
     ]
    },
    {
     "name": "stdout",
     "output_type": "stream",
     "text": [
      "--------> Computing score matrix for mix16_seed652799\n"
     ]
    },
    {
     "name": "stdout",
     "output_type": "stream",
     "text": [
      "--------> Computing score matrix for mix17_seed783381\n"
     ]
    },
    {
     "name": "stdout",
     "output_type": "stream",
     "text": [
      "--------> Computing score matrix for mix18_seed949567\n"
     ]
    },
    {
     "name": "stdout",
     "output_type": "stream",
     "text": [
      "--------> Computing score matrix for mix19_seed772347\n"
     ]
    },
    {
     "name": "stdout",
     "output_type": "stream",
     "text": [
      "\n",
      "\n",
      "--> E008NK_E1984CD4_E1984CD8_E1984B_E1984MONO_E1984NEUTRO\n",
      "--------> Computing score matrix for mix0_seed872093\n"
     ]
    },
    {
     "name": "stdout",
     "output_type": "stream",
     "text": [
      "--------> Computing score matrix for mix1_seed214100\n"
     ]
    },
    {
     "name": "stdout",
     "output_type": "stream",
     "text": [
      "--------> Computing score matrix for mix2_seed424293\n"
     ]
    },
    {
     "name": "stdout",
     "output_type": "stream",
     "text": [
      "--------> Computing score matrix for mix3_seed46509\n"
     ]
    },
    {
     "name": "stdout",
     "output_type": "stream",
     "text": [
      "--------> Computing score matrix for mix4_seed874658\n"
     ]
    },
    {
     "name": "stdout",
     "output_type": "stream",
     "text": [
      "--------> Computing score matrix for mix5_seed107861\n"
     ]
    },
    {
     "name": "stdout",
     "output_type": "stream",
     "text": [
      "--------> Computing score matrix for mix6_seed17969\n"
     ]
    },
    {
     "name": "stdout",
     "output_type": "stream",
     "text": [
      "--------> Computing score matrix for mix7_seed246088\n"
     ]
    },
    {
     "name": "stdout",
     "output_type": "stream",
     "text": [
      "--------> Computing score matrix for mix8_seed288629\n"
     ]
    },
    {
     "name": "stdout",
     "output_type": "stream",
     "text": [
      "--------> Computing score matrix for mix9_seed111453\n"
     ]
    },
    {
     "name": "stdout",
     "output_type": "stream",
     "text": [
      "--------> Computing score matrix for mix10_seed502254\n"
     ]
    },
    {
     "name": "stdout",
     "output_type": "stream",
     "text": [
      "--------> Computing score matrix for mix11_seed656493\n"
     ]
    },
    {
     "name": "stdout",
     "output_type": "stream",
     "text": [
      "--------> Computing score matrix for mix12_seed901889\n"
     ]
    },
    {
     "name": "stdout",
     "output_type": "stream",
     "text": [
      "--------> Computing score matrix for mix13_seed946040\n"
     ]
    },
    {
     "name": "stdout",
     "output_type": "stream",
     "text": [
      "--------> Computing score matrix for mix14_seed726406\n"
     ]
    },
    {
     "name": "stdout",
     "output_type": "stream",
     "text": [
      "--------> Computing score matrix for mix15_seed665681\n"
     ]
    },
    {
     "name": "stdout",
     "output_type": "stream",
     "text": [
      "--------> Computing score matrix for mix16_seed644034\n"
     ]
    },
    {
     "name": "stdout",
     "output_type": "stream",
     "text": [
      "--------> Computing score matrix for mix17_seed168647\n"
     ]
    },
    {
     "name": "stdout",
     "output_type": "stream",
     "text": [
      "--------> Computing score matrix for mix18_seed392474\n"
     ]
    },
    {
     "name": "stdout",
     "output_type": "stream",
     "text": [
      "--------> Computing score matrix for mix19_seed20916\n"
     ]
    },
    {
     "name": "stdout",
     "output_type": "stream",
     "text": [
      "\n",
      "\n",
      "--> E006NK_E1988CD4_E1988CD8_E1988B_E1988MONO_E1988NEUTRO\n",
      "--------> Computing score matrix for mix0_seed844259\n"
     ]
    },
    {
     "name": "stdout",
     "output_type": "stream",
     "text": [
      "--------> Computing score matrix for mix1_seed775462\n"
     ]
    },
    {
     "name": "stdout",
     "output_type": "stream",
     "text": [
      "--------> Computing score matrix for mix2_seed947499\n"
     ]
    },
    {
     "name": "stdout",
     "output_type": "stream",
     "text": [
      "--------> Computing score matrix for mix3_seed943337\n"
     ]
    },
    {
     "name": "stdout",
     "output_type": "stream",
     "text": [
      "--------> Computing score matrix for mix4_seed709305\n"
     ]
    },
    {
     "name": "stdout",
     "output_type": "stream",
     "text": [
      "--------> Computing score matrix for mix5_seed152369\n"
     ]
    },
    {
     "name": "stdout",
     "output_type": "stream",
     "text": [
      "--------> Computing score matrix for mix6_seed848912\n"
     ]
    },
    {
     "name": "stdout",
     "output_type": "stream",
     "text": [
      "--------> Computing score matrix for mix7_seed714416\n"
     ]
    },
    {
     "name": "stdout",
     "output_type": "stream",
     "text": [
      "--------> Computing score matrix for mix8_seed83466\n"
     ]
    },
    {
     "name": "stdout",
     "output_type": "stream",
     "text": [
      "--------> Computing score matrix for mix9_seed251720\n"
     ]
    },
    {
     "name": "stdout",
     "output_type": "stream",
     "text": [
      "--------> Computing score matrix for mix10_seed552282\n"
     ]
    },
    {
     "name": "stdout",
     "output_type": "stream",
     "text": [
      "--------> Computing score matrix for mix11_seed367790\n"
     ]
    },
    {
     "name": "stdout",
     "output_type": "stream",
     "text": [
      "--------> Computing score matrix for mix12_seed777127\n"
     ]
    },
    {
     "name": "stdout",
     "output_type": "stream",
     "text": [
      "--------> Computing score matrix for mix13_seed335653\n"
     ]
    },
    {
     "name": "stdout",
     "output_type": "stream",
     "text": [
      "--------> Computing score matrix for mix14_seed108025\n"
     ]
    },
    {
     "name": "stdout",
     "output_type": "stream",
     "text": [
      "--------> Computing score matrix for mix15_seed682335\n"
     ]
    },
    {
     "name": "stdout",
     "output_type": "stream",
     "text": [
      "--------> Computing score matrix for mix16_seed731214\n"
     ]
    },
    {
     "name": "stdout",
     "output_type": "stream",
     "text": [
      "--------> Computing score matrix for mix17_seed137348\n"
     ]
    },
    {
     "name": "stdout",
     "output_type": "stream",
     "text": [
      "--------> Computing score matrix for mix18_seed768054\n"
     ]
    },
    {
     "name": "stdout",
     "output_type": "stream",
     "text": [
      "--------> Computing score matrix for mix19_seed161527\n"
     ]
    },
    {
     "name": "stdout",
     "output_type": "stream",
     "text": [
      "\n",
      "\n",
      "--> E004NK_E1992CD4_E1992CD8_E1992B_E1992MONO_E1992NEUTRO\n",
      "--------> Computing score matrix for mix0_seed734540\n"
     ]
    },
    {
     "name": "stdout",
     "output_type": "stream",
     "text": [
      "--------> Computing score matrix for mix1_seed490276\n"
     ]
    },
    {
     "name": "stdout",
     "output_type": "stream",
     "text": [
      "--------> Computing score matrix for mix2_seed741452\n"
     ]
    },
    {
     "name": "stdout",
     "output_type": "stream",
     "text": [
      "--------> Computing score matrix for mix3_seed891755\n"
     ]
    },
    {
     "name": "stdout",
     "output_type": "stream",
     "text": [
      "--------> Computing score matrix for mix4_seed947087\n"
     ]
    },
    {
     "name": "stdout",
     "output_type": "stream",
     "text": [
      "--------> Computing score matrix for mix5_seed720752\n"
     ]
    },
    {
     "name": "stdout",
     "output_type": "stream",
     "text": [
      "--------> Computing score matrix for mix6_seed664736\n"
     ]
    },
    {
     "name": "stdout",
     "output_type": "stream",
     "text": [
      "--------> Computing score matrix for mix7_seed633420\n"
     ]
    },
    {
     "name": "stdout",
     "output_type": "stream",
     "text": [
      "--------> Computing score matrix for mix8_seed517100\n"
     ]
    },
    {
     "name": "stdout",
     "output_type": "stream",
     "text": [
      "--------> Computing score matrix for mix9_seed114356\n"
     ]
    },
    {
     "name": "stdout",
     "output_type": "stream",
     "text": [
      "--------> Computing score matrix for mix10_seed19031\n"
     ]
    },
    {
     "name": "stdout",
     "output_type": "stream",
     "text": [
      "--------> Computing score matrix for mix11_seed868981\n"
     ]
    },
    {
     "name": "stdout",
     "output_type": "stream",
     "text": [
      "--------> Computing score matrix for mix12_seed422691\n"
     ]
    },
    {
     "name": "stdout",
     "output_type": "stream",
     "text": [
      "--------> Computing score matrix for mix13_seed976622\n"
     ]
    },
    {
     "name": "stdout",
     "output_type": "stream",
     "text": [
      "--------> Computing score matrix for mix14_seed511716\n"
     ]
    },
    {
     "name": "stdout",
     "output_type": "stream",
     "text": [
      "--------> Computing score matrix for mix15_seed221307\n"
     ]
    },
    {
     "name": "stdout",
     "output_type": "stream",
     "text": [
      "--------> Computing score matrix for mix16_seed461595\n"
     ]
    },
    {
     "name": "stdout",
     "output_type": "stream",
     "text": [
      "--------> Computing score matrix for mix17_seed173530\n"
     ]
    },
    {
     "name": "stdout",
     "output_type": "stream",
     "text": [
      "--------> Computing score matrix for mix18_seed295009\n"
     ]
    },
    {
     "name": "stdout",
     "output_type": "stream",
     "text": [
      "--------> Computing score matrix for mix19_seed913892\n"
     ]
    },
    {
     "name": "stdout",
     "output_type": "stream",
     "text": [
      "\n",
      "\n",
      "--> E002NK_E1996CD4_E1996CD8_E1996B_E1996MONO_E1996NEUTRO\n",
      "--------> Computing score matrix for mix0_seed984004\n"
     ]
    },
    {
     "name": "stdout",
     "output_type": "stream",
     "text": [
      "--------> Computing score matrix for mix1_seed683556\n"
     ]
    },
    {
     "name": "stdout",
     "output_type": "stream",
     "text": [
      "--------> Computing score matrix for mix2_seed603736\n"
     ]
    },
    {
     "name": "stdout",
     "output_type": "stream",
     "text": [
      "--------> Computing score matrix for mix3_seed787058\n"
     ]
    },
    {
     "name": "stdout",
     "output_type": "stream",
     "text": [
      "--------> Computing score matrix for mix4_seed271232\n"
     ]
    },
    {
     "name": "stdout",
     "output_type": "stream",
     "text": [
      "--------> Computing score matrix for mix5_seed662922\n"
     ]
    },
    {
     "name": "stdout",
     "output_type": "stream",
     "text": [
      "--------> Computing score matrix for mix6_seed445477\n"
     ]
    },
    {
     "name": "stdout",
     "output_type": "stream",
     "text": [
      "--------> Computing score matrix for mix7_seed614361\n"
     ]
    },
    {
     "name": "stdout",
     "output_type": "stream",
     "text": [
      "--------> Computing score matrix for mix8_seed537423\n"
     ]
    },
    {
     "name": "stdout",
     "output_type": "stream",
     "text": [
      "--------> Computing score matrix for mix9_seed806299\n"
     ]
    },
    {
     "name": "stdout",
     "output_type": "stream",
     "text": [
      "--------> Computing score matrix for mix10_seed49385\n"
     ]
    },
    {
     "name": "stdout",
     "output_type": "stream",
     "text": [
      "--------> Computing score matrix for mix11_seed268719\n"
     ]
    },
    {
     "name": "stdout",
     "output_type": "stream",
     "text": [
      "--------> Computing score matrix for mix12_seed440368\n"
     ]
    },
    {
     "name": "stdout",
     "output_type": "stream",
     "text": [
      "--------> Computing score matrix for mix13_seed760851\n"
     ]
    },
    {
     "name": "stdout",
     "output_type": "stream",
     "text": [
      "--------> Computing score matrix for mix14_seed38761\n"
     ]
    },
    {
     "name": "stdout",
     "output_type": "stream",
     "text": [
      "--------> Computing score matrix for mix15_seed592651\n"
     ]
    },
    {
     "name": "stdout",
     "output_type": "stream",
     "text": [
      "--------> Computing score matrix for mix16_seed421245\n"
     ]
    },
    {
     "name": "stdout",
     "output_type": "stream",
     "text": [
      "--------> Computing score matrix for mix17_seed354812\n"
     ]
    },
    {
     "name": "stdout",
     "output_type": "stream",
     "text": [
      "--------> Computing score matrix for mix18_seed354678\n"
     ]
    },
    {
     "name": "stdout",
     "output_type": "stream",
     "text": [
      "--------> Computing score matrix for mix19_seed226281\n"
     ]
    },
    {
     "name": "stdout",
     "output_type": "stream",
     "text": [
      "\n",
      "\n",
      "--> E001NK_E1998CD4_E1998CD8_E1998B_E1998MONO_E1998NEUTRO\n",
      "--------> Computing score matrix for mix0_seed189194\n"
     ]
    },
    {
     "name": "stdout",
     "output_type": "stream",
     "text": [
      "--------> Computing score matrix for mix1_seed585395\n"
     ]
    },
    {
     "name": "stdout",
     "output_type": "stream",
     "text": [
      "--------> Computing score matrix for mix2_seed915436\n"
     ]
    },
    {
     "name": "stdout",
     "output_type": "stream",
     "text": [
      "--------> Computing score matrix for mix3_seed858685\n"
     ]
    },
    {
     "name": "stdout",
     "output_type": "stream",
     "text": [
      "--------> Computing score matrix for mix4_seed97341\n"
     ]
    },
    {
     "name": "stdout",
     "output_type": "stream",
     "text": [
      "--------> Computing score matrix for mix5_seed405913\n"
     ]
    },
    {
     "name": "stdout",
     "output_type": "stream",
     "text": [
      "--------> Computing score matrix for mix6_seed912226\n"
     ]
    },
    {
     "name": "stdout",
     "output_type": "stream",
     "text": [
      "--------> Computing score matrix for mix7_seed772059\n"
     ]
    },
    {
     "name": "stdout",
     "output_type": "stream",
     "text": [
      "--------> Computing score matrix for mix8_seed700840\n"
     ]
    },
    {
     "name": "stdout",
     "output_type": "stream",
     "text": [
      "--------> Computing score matrix for mix9_seed946948\n"
     ]
    },
    {
     "name": "stdout",
     "output_type": "stream",
     "text": [
      "--------> Computing score matrix for mix10_seed811454\n"
     ]
    },
    {
     "name": "stdout",
     "output_type": "stream",
     "text": [
      "--------> Computing score matrix for mix11_seed923561\n"
     ]
    },
    {
     "name": "stdout",
     "output_type": "stream",
     "text": [
      "--------> Computing score matrix for mix12_seed771020\n"
     ]
    },
    {
     "name": "stdout",
     "output_type": "stream",
     "text": [
      "--------> Computing score matrix for mix13_seed87182\n"
     ]
    },
    {
     "name": "stdout",
     "output_type": "stream",
     "text": [
      "--------> Computing score matrix for mix14_seed201738\n"
     ]
    },
    {
     "name": "stdout",
     "output_type": "stream",
     "text": [
      "--------> Computing score matrix for mix15_seed312823\n"
     ]
    },
    {
     "name": "stdout",
     "output_type": "stream",
     "text": [
      "--------> Computing score matrix for mix16_seed605772\n"
     ]
    },
    {
     "name": "stdout",
     "output_type": "stream",
     "text": [
      "--------> Computing score matrix for mix17_seed664745\n"
     ]
    },
    {
     "name": "stdout",
     "output_type": "stream",
     "text": [
      "--------> Computing score matrix for mix18_seed85142\n"
     ]
    },
    {
     "name": "stdout",
     "output_type": "stream",
     "text": [
      "--------> Computing score matrix for mix19_seed290974\n"
     ]
    },
    {
     "name": "stdout",
     "output_type": "stream",
     "text": [
      "\n",
      "\n",
      "--> ENK_E2CD4_E2CD8_E2B_E2MONO_E2NEUTRO\n",
      "--------> Computing score matrix for mix0_seed444362\n"
     ]
    },
    {
     "name": "stdout",
     "output_type": "stream",
     "text": [
      "--------> Computing score matrix for mix1_seed144765\n"
     ]
    },
    {
     "name": "stdout",
     "output_type": "stream",
     "text": [
      "--------> Computing score matrix for mix2_seed372176\n"
     ]
    },
    {
     "name": "stdout",
     "output_type": "stream",
     "text": [
      "--------> Computing score matrix for mix3_seed496774\n"
     ]
    },
    {
     "name": "stdout",
     "output_type": "stream",
     "text": [
      "--------> Computing score matrix for mix4_seed568651\n"
     ]
    },
    {
     "name": "stdout",
     "output_type": "stream",
     "text": [
      "--------> Computing score matrix for mix5_seed999672\n"
     ]
    },
    {
     "name": "stdout",
     "output_type": "stream",
     "text": [
      "--------> Computing score matrix for mix6_seed390505\n"
     ]
    },
    {
     "name": "stdout",
     "output_type": "stream",
     "text": [
      "--------> Computing score matrix for mix7_seed710956\n"
     ]
    },
    {
     "name": "stdout",
     "output_type": "stream",
     "text": [
      "--------> Computing score matrix for mix8_seed87224\n"
     ]
    },
    {
     "name": "stdout",
     "output_type": "stream",
     "text": [
      "--------> Computing score matrix for mix9_seed118740\n"
     ]
    },
    {
     "name": "stdout",
     "output_type": "stream",
     "text": [
      "--------> Computing score matrix for mix10_seed3845\n"
     ]
    },
    {
     "name": "stdout",
     "output_type": "stream",
     "text": [
      "--------> Computing score matrix for mix11_seed189987\n"
     ]
    },
    {
     "name": "stdout",
     "output_type": "stream",
     "text": [
      "--------> Computing score matrix for mix12_seed757439\n"
     ]
    },
    {
     "name": "stdout",
     "output_type": "stream",
     "text": [
      "--------> Computing score matrix for mix13_seed876574\n"
     ]
    },
    {
     "name": "stdout",
     "output_type": "stream",
     "text": [
      "--------> Computing score matrix for mix14_seed407952\n"
     ]
    },
    {
     "name": "stdout",
     "output_type": "stream",
     "text": [
      "--------> Computing score matrix for mix15_seed156084\n"
     ]
    },
    {
     "name": "stdout",
     "output_type": "stream",
     "text": [
      "--------> Computing score matrix for mix16_seed877453\n"
     ]
    },
    {
     "name": "stdout",
     "output_type": "stream",
     "text": [
      "--------> Computing score matrix for mix17_seed994908\n"
     ]
    },
    {
     "name": "stdout",
     "output_type": "stream",
     "text": [
      "--------> Computing score matrix for mix18_seed371606\n"
     ]
    },
    {
     "name": "stdout",
     "output_type": "stream",
     "text": [
      "--------> Computing score matrix for mix19_seed608697\n"
     ]
    },
    {
     "name": "stdout",
     "output_type": "stream",
     "text": [
      "\n",
      "\n",
      ">>> Complete. <<< \n",
      "\n",
      "CPU times: user 15.8 s, sys: 1.21 s, total: 17 s\n",
      "Wall time: 49min 4s\n"
     ]
    }
   ],
   "source": [
    "%%time\n",
    "\n",
    "PAT_COLS = [\n",
    "    'molecule_id', 'chr', 'number_molecules',\n",
    "    'cpg_index_min', 'cpg_index_max', 'pat_string', 'region_id', 'region_cpg_index_min', 'region_cpg_index_max'\n",
    "]\n",
    "\n",
    "QUANTILES = [0.1, 0.25, 0.75, 0.9]\n",
    "KMERS = [1, 3, 4]\n",
    "RATES_LEQ = [0.25]\n",
    "RATES_GEQ = [0.75]\n",
    "\n",
    "RETURN_SCHEMA = StructType()\\\n",
    "    .add('region_id', 'string')\\\n",
    "    .add('number_molecules', 'integer')\\\n",
    "    .add('meth_k1', 'integer')\\\n",
    "    .add('unmeth_k1', 'integer')\\\n",
    "    .add('total_k1', 'integer')\\\n",
    "    .add('meth_k3', 'integer')\\\n",
    "    .add('unmeth_k3', 'integer')\\\n",
    "    .add('total_k3', 'integer')\\\n",
    "    .add('meth_k4', 'integer')\\\n",
    "    .add('unmeth_k4', 'integer')\\\n",
    "    .add('total_k4', 'integer')\\\n",
    "    .add('frac_alpha_leq_25pct', 'float')\\\n",
    "    .add('frac_alpha_geq_75pct', 'float')\n",
    "\n",
    "compute_frag_scores_udf = sm.compute_frag_scores(cpg_number_cutoff=FILTER_CG_COUNT, schema=RETURN_SCHEMA, kmers=KMERS, rates_leq=RATES_LEQ, rates_geq=RATES_GEQ)\n",
    "\n",
    "\n",
    "# compute methyl score for are parquet files\n",
    "sm.score_matrix_from_mixture_directory(path_to_mixture_dir = PATH_TO_MIXTURE_DIR, \n",
    "                                       result_path = RESULT_PATH, \n",
    "                                       pat_cols = PAT_COLS, \n",
    "                                       region_df = region_df, \n",
    "                                       batch_size = 20, \n",
    "                                       schema = RETURN_SCHEMA, \n",
    "                                       spark=spark,\n",
    "                                       compute_frag_scores_udf=compute_frag_scores_udf,\n",
    "                                       save=True, \n",
    "                                       verbose=False)"
   ]
  },
  {
   "cell_type": "markdown",
   "id": "ca0797e8",
   "metadata": {
    "papermill": {
     "duration": 0.030713,
     "end_time": "2023-07-31T21:58:36.516701",
     "exception": false,
     "start_time": "2023-07-31T21:58:36.485988",
     "status": "completed"
    },
    "tags": []
   },
   "source": [
    "## Deconvolution"
   ]
  },
  {
   "cell_type": "code",
   "execution_count": 18,
   "id": "12feb9a4",
   "metadata": {
    "execution": {
     "iopub.execute_input": "2023-07-31T21:58:36.578283Z",
     "iopub.status.busy": "2023-07-31T21:58:36.578021Z",
     "iopub.status.idle": "2023-07-31T21:58:36.581387Z",
     "shell.execute_reply": "2023-07-31T21:58:36.580785Z"
    },
    "papermill": {
     "duration": 0.035713,
     "end_time": "2023-07-31T21:58:36.582693",
     "exception": false,
     "start_time": "2023-07-31T21:58:36.546980",
     "status": "completed"
    },
    "tags": []
   },
   "outputs": [],
   "source": [
    "############################\n",
    "#   Parameters and paths   # \n",
    "############################\n",
    "\n",
    "FILTER_COV = 20\n",
    "\n",
    "SCORE_VAR = 'frac_alpha_leq_25pct'\n",
    "\n",
    "# Reference matrix\n",
    "ATLAS_PATH = PROJECT_DIR + 'output/reference/deconv_inhouse_v2.atlas.tsv.gz'\n",
    "REGION_PATH = PROJECT_DIR + 'output/reference/deconv_inhouse_v2.region_to_ref_celltype.tsv.gz'\n",
    "\n",
    "# Methylation score matrix\n",
    "SCORE_DIR = EXPERIMENT_CELLTYPE_DIR + 'methyl_score/'\n"
   ]
  },
  {
   "cell_type": "code",
   "execution_count": 19,
   "id": "157d8664",
   "metadata": {
    "execution": {
     "iopub.execute_input": "2023-07-31T21:58:36.645359Z",
     "iopub.status.busy": "2023-07-31T21:58:36.645120Z",
     "iopub.status.idle": "2023-07-31T21:58:36.655956Z",
     "shell.execute_reply": "2023-07-31T21:58:36.655468Z"
    },
    "papermill": {
     "duration": 0.043777,
     "end_time": "2023-07-31T21:58:36.657227",
     "exception": false,
     "start_time": "2023-07-31T21:58:36.613450",
     "status": "completed"
    },
    "tags": []
   },
   "outputs": [
    {
     "data": {
      "text/plain": [
       "(280, 9)"
      ]
     },
     "execution_count": 19,
     "metadata": {},
     "output_type": "execute_result"
    }
   ],
   "source": [
    "atlas = pd.read_csv(ATLAS_PATH, sep='\\t',index_col=None)\n",
    "atlas = atlas.set_index('region_id')\n",
    "atlas.columns.name = 'ref_celltype'\n",
    "atlas.shape\n",
    "\n",
    "ref_region_df = pd.read_csv(REGION_PATH, sep='\\t')\n",
    "\n",
    "atlas = atlas.loc[ref_region_df['region_id'], :].copy()\n",
    "atlas.shape"
   ]
  },
  {
   "cell_type": "code",
   "execution_count": 20,
   "id": "9a116eb4",
   "metadata": {
    "execution": {
     "iopub.execute_input": "2023-07-31T21:58:36.719202Z",
     "iopub.status.busy": "2023-07-31T21:58:36.718978Z",
     "iopub.status.idle": "2023-07-31T21:58:41.101870Z",
     "shell.execute_reply": "2023-07-31T21:58:41.101220Z"
    },
    "papermill": {
     "duration": 4.41552,
     "end_time": "2023-07-31T21:58:41.103336",
     "exception": false,
     "start_time": "2023-07-31T21:58:36.687816",
     "status": "completed"
    },
    "tags": []
   },
   "outputs": [
    {
     "name": "stdout",
     "output_type": "stream",
     "text": [
      "CPU times: user 4.34 s, sys: 38.4 ms, total: 4.38 s\n",
      "Wall time: 4.38 s\n"
     ]
    }
   ],
   "source": [
    "%%time\n",
    "\n",
    "deconvolution_nnls = dcnv.compute_deconvolution_from_methyl_score_dir_nnls(path_to_methyl_score_dir=SCORE_DIR, \n",
    "                                                                          score_type=SCORE_VAR, \n",
    "                                                                          atlas=atlas, \n",
    "                                                                          match=False)\n",
    "\n",
    "deconvolution_naive = dcnv.compute_deconvolution_from_methyl_score_dir_naive(path_to_methyl_score_dir=SCORE_DIR, \n",
    "                                                                             filter_cov=FILTER_COV, \n",
    "                                                                             score_var=SCORE_VAR, \n",
    "                                                                             ref_region_df=ref_region_df)\n"
   ]
  },
  {
   "cell_type": "code",
   "execution_count": 21,
   "id": "97154625",
   "metadata": {
    "execution": {
     "iopub.execute_input": "2023-07-31T21:58:41.167478Z",
     "iopub.status.busy": "2023-07-31T21:58:41.167209Z",
     "iopub.status.idle": "2023-07-31T21:58:41.497841Z",
     "shell.execute_reply": "2023-07-31T21:58:41.497328Z"
    },
    "papermill": {
     "duration": 0.364104,
     "end_time": "2023-07-31T21:58:41.499315",
     "exception": false,
     "start_time": "2023-07-31T21:58:41.135211",
     "status": "completed"
    },
    "tags": []
   },
   "outputs": [
    {
     "data": {
      "image/png": "[encoded data removed]",
      "text/plain": [
       "<Figure size 864x576 with 1 Axes>"
      ]
     },
     "metadata": {
      "needs_background": "light"
     },
     "output_type": "display_data"
    }
   ],
   "source": [
    "dcnv.boxplot_titration(list_of_deconvolution_dfs=deconvolution_naive,\n",
    "                      cell_type=TITRATING_CELLTYPE_ATLAS,\n",
    "                      true_proportions=TITRATION_LIST,\n",
    "                      deconvolution_method_name='naive'\n",
    "                      )"
   ]
  },
  {
   "cell_type": "code",
   "execution_count": 22,
   "id": "6915eeb9",
   "metadata": {
    "execution": {
     "iopub.execute_input": "2023-07-31T21:58:41.564410Z",
     "iopub.status.busy": "2023-07-31T21:58:41.564144Z",
     "iopub.status.idle": "2023-07-31T21:58:41.874110Z",
     "shell.execute_reply": "2023-07-31T21:58:41.873584Z"
    },
    "papermill": {
     "duration": 0.343475,
     "end_time": "2023-07-31T21:58:41.875402",
     "exception": false,
     "start_time": "2023-07-31T21:58:41.531927",
     "status": "completed"
    },
    "tags": []
   },
   "outputs": [
    {
     "data": {
      "image/png": "[encoded data removed]",
      "text/plain": [
       "<Figure size 864x576 with 1 Axes>"
      ]
     },
     "metadata": {
      "needs_background": "light"
     },
     "output_type": "display_data"
    }
   ],
   "source": [
    "dcnv.boxplot_titration(list_of_deconvolution_dfs=deconvolution_nnls,\n",
    "                      cell_type=TITRATING_CELLTYPE_ATLAS,\n",
    "                      true_proportions=TITRATION_LIST,\n",
    "                      deconvolution_method_name='nnls'\n",
    "                      )"
   ]
  },
  {
   "cell_type": "code",
   "execution_count": 23,
   "id": "54749f20",
   "metadata": {
    "execution": {
     "iopub.execute_input": "2023-07-31T21:58:41.940876Z",
     "iopub.status.busy": "2023-07-31T21:58:41.940635Z",
     "iopub.status.idle": "2023-07-31T21:58:42.991809Z",
     "shell.execute_reply": "2023-07-31T21:58:42.991299Z"
    },
    "papermill": {
     "duration": 1.085582,
     "end_time": "2023-07-31T21:58:42.993707",
     "exception": false,
     "start_time": "2023-07-31T21:58:41.908125",
     "status": "completed"
    },
    "tags": []
   },
   "outputs": [
    {
     "data": {
      "image/png": "[encoded data removed]",
      "text/plain": [
       "<Figure size 720x720 with 14 Axes>"
      ]
     },
     "metadata": {
      "needs_background": "light"
     },
     "output_type": "display_data"
    }
   ],
   "source": [
    "\n",
    "dcnv.boxplot_titration_zoom(list_of_deconvolution_dfs=deconvolution_naive,\n",
    "                      cell_type=TITRATING_CELLTYPE_ATLAS,\n",
    "                      true_proportions=TITRATION_LIST,\n",
    "                      deconvolution_method_name='naive'\n",
    "                      )"
   ]
  },
  {
   "cell_type": "code",
   "execution_count": 24,
   "id": "ee050cd3",
   "metadata": {
    "execution": {
     "iopub.execute_input": "2023-07-31T21:58:43.061042Z",
     "iopub.status.busy": "2023-07-31T21:58:43.060791Z",
     "iopub.status.idle": "2023-07-31T21:58:44.044803Z",
     "shell.execute_reply": "2023-07-31T21:58:44.044289Z"
    },
    "papermill": {
     "duration": 1.019461,
     "end_time": "2023-07-31T21:58:44.046849",
     "exception": false,
     "start_time": "2023-07-31T21:58:43.027388",
     "status": "completed"
    },
    "tags": []
   },
   "outputs": [
    {
     "data": {
      "image/png": "[encoded data removed]",
      "text/plain": [
       "<Figure size 720x720 with 14 Axes>"
      ]
     },
     "metadata": {
      "needs_background": "light"
     },
     "output_type": "display_data"
    }
   ],
   "source": [
    "\n",
    "dcnv.boxplot_titration_zoom(list_of_deconvolution_dfs=deconvolution_nnls,\n",
    "                      cell_type=TITRATING_CELLTYPE_ATLAS,\n",
    "                      true_proportions=TITRATION_LIST,\n",
    "                      deconvolution_method_name='nnls'\n",
    "                      )"
   ]
  },
  {
   "cell_type": "code",
   "execution_count": null,
   "id": "e2df1c36",
   "metadata": {
    "papermill": {
     "duration": 0.033329,
     "end_time": "2023-07-31T21:58:44.114825",
     "exception": false,
     "start_time": "2023-07-31T21:58:44.081496",
     "status": "completed"
    },
    "tags": []
   },
   "outputs": [],
   "source": []
  },
  {
   "cell_type": "code",
   "execution_count": null,
   "id": "7d5502b0",
   "metadata": {
    "papermill": {
     "duration": 0.032894,
     "end_time": "2023-07-31T21:58:44.180475",
     "exception": false,
     "start_time": "2023-07-31T21:58:44.147581",
     "status": "completed"
    },
    "tags": []
   },
   "outputs": [],
   "source": []
  }
 ],
 "metadata": {
  "kernelspec": {
   "display_name": "Python 3",
   "language": "python",
   "name": "python3"
  },
  "language_info": {
   "codemirror_mode": {
    "name": "ipython",
    "version": 3
   },
   "file_extension": ".py",
   "mimetype": "text/x-python",
   "name": "python",
   "nbconvert_exporter": "python",
   "pygments_lexer": "ipython3",
   "version": "3.7.8"
  },
  "papermill": {
   "default_parameters": {},
   "duration": 4463.386676,
   "end_time": "2023-07-31T21:58:45.748890",
   "environment_variables": {},
   "exception": null,
   "input_path": "/analysis/gh-msun/projects/2023_06_26_SRT_deconvolution_MS//notebooks/titration/02_titration_experiment.ipynb",
   "output_path": "/analysis/gh-msun/projects/2023_06_26_SRT_deconvolution_MS//notebooks/titration/primary_immune_uniform/titration_NK.ipynb",
   "parameters": {
    "ABRIDGED_NAMES": [
     "CD4",
     "CD8",
     "B",
     "NK",
     "MONO",
     "NEUTRO"
    ],
    "BACKGROUND": "uniform",
    "CELLTYPES": [
     "Blueprint-CD4",
     "Blueprint-CD8",
     "Blueprint-B",
     "Blueprint-NK",
     "Blueprint-Mono",
     "Blueprint-Neutro"
    ],
    "EXPERIMENT": "primary_immune",
    "N_REPLICATES": 20,
    "PROJECT_SLUG": "2023_06_26_SRT_deconvolution_MS",
    "ROOT_DIR": "/analysis/gh-msun/",
    "SEED": 466724,
    "TITRATING_CELLTYPE": "Blueprint-NK",
    "TITRATING_CELLTYPE_ATLAS": "immune_nk",
    "TITRATION_LIST": [
     0.2,
     0.15,
     0.1,
     0.08,
     0.06,
     0.04,
     0.02,
     0.01,
     0.008,
     0.006,
     0.004,
     0.002,
     0.001,
     0
    ],
    "TOTAL_READS_TO_SAMPLE": 1000000,
    "WHOLE_BLOOD_ABUNDANCE": {
     "Blueprint-B": 0.06,
     "Blueprint-CD4": 0.16,
     "Blueprint-CD8": 0.07,
     "Blueprint-Mono": 0.09,
     "Blueprint-NK": 0.05,
     "Blueprint-Neutro": 0.57
    }
   },
   "start_time": "2023-07-31T20:44:22.362214",
   "version": "2.4.0"
  }
 },
 "nbformat": 4,
 "nbformat_minor": 5
}