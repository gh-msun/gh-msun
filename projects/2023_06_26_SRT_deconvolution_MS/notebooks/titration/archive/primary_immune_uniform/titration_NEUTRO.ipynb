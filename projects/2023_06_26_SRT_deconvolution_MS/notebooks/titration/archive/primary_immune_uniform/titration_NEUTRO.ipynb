{
 "cells": [
  {
   "cell_type": "markdown",
   "id": "0ebde069",
   "metadata": {
    "papermill": {
     "duration": 0.005573,
     "end_time": "2023-07-31T23:14:37.694274",
     "exception": false,
     "start_time": "2023-07-31T23:14:37.688701",
     "status": "completed"
    },
    "tags": []
   },
   "source": [
    "# Titration Experiment"
   ]
  },
  {
   "cell_type": "code",
   "execution_count": 1,
   "id": "a42e34cd",
   "metadata": {
    "papermill": {
     "duration": 0.011774,
     "end_time": "2023-07-31T23:14:37.711223",
     "exception": false,
     "start_time": "2023-07-31T23:14:37.699449",
     "status": "completed"
    },
    "tags": [
     "parameters"
    ]
   },
   "outputs": [],
   "source": [
    "#############################\n",
    "#   Experiment parameters   #\n",
    "#############################\n",
    "ROOT_DIR = '/analysis/gh-msun/'\n",
    "PROJECT_SLUG = '2023_06_26_SRT_deconvolution_MS'\n",
    "EXPERIMENT = 'primary_immune'\n",
    "TITRATING_CELLTYPE = 'Blueprint-B'\n",
    "TITRATING_CELLTYPE_ATLAS = 'immune_b' # cell type name in atlas different\n",
    "BACKGROUND = 'wholeblood' # background: uniform / wholeblood \n",
    "N_REPLICATES = 2 # number of replicates for each mixture\n",
    "SEED = 888 # need to change for different experiment\n",
    "TOTAL_READS_TO_SAMPLE = 1000000\n",
    "\n",
    "# make sure the orders of the two list match\n",
    "CELLTYPES = ['Blueprint-CD4', 'Blueprint-CD8', 'Blueprint-B', 'Blueprint-NK', 'Blueprint-Mono', 'Blueprint-Neutro']\n",
    "ABRIDGED_NAMES = ['CD4', 'CD8', 'B', 'NK', 'MONO', 'NEUTRO'] # for directory name\n",
    "\n",
    "# TITRATION_LIST = [0.2, 0.15, 0.10, 0.08, 0.06, 0.04, 0.02, 0.01, \n",
    "#                   0.008, 0.006, 0.004, 0.002, 0.001, 0]\n",
    "TITRATION_LIST=[0.2, 0.15]\n",
    "\n",
    "# proportion of cells in real whole blood (sum to 1)\n",
    "WHOLE_BLOOD_ABUNDANCE = {'Blueprint-B':0.06,\n",
    "                         'Blueprint-Mono':0.09,\n",
    "                         'Blueprint-Neutro':0.57,\n",
    "                         'Blueprint-CD4':0.16,\n",
    "                         'Blueprint-CD8':0.07,\n",
    "                         'Blueprint-NK':0.05}\n",
    "    "
   ]
  },
  {
   "cell_type": "code",
   "execution_count": 2,
   "id": "8260317e",
   "metadata": {
    "papermill": {
     "duration": 0.010671,
     "end_time": "2023-07-31T23:14:37.726030",
     "exception": false,
     "start_time": "2023-07-31T23:14:37.715359",
     "status": "completed"
    },
    "tags": [
     "injected-parameters"
    ]
   },
   "outputs": [],
   "source": [
    "# Parameters\n",
    "ROOT_DIR = \"/analysis/gh-msun/\"\n",
    "PROJECT_SLUG = \"2023_06_26_SRT_deconvolution_MS\"\n",
    "EXPERIMENT = \"primary_immune\"\n",
    "TITRATING_CELLTYPE = \"Blueprint-Neutro\"\n",
    "TITRATING_CELLTYPE_ATLAS = \"immune_neutro\"\n",
    "BACKGROUND = \"uniform\"\n",
    "N_REPLICATES = 20\n",
    "SEED = 520710\n",
    "TOTAL_READS_TO_SAMPLE = 1000000\n",
    "CELLTYPES = [\"Blueprint-CD4\", \"Blueprint-CD8\", \"Blueprint-B\", \"Blueprint-NK\", \"Blueprint-Mono\", \"Blueprint-Neutro\"]\n",
    "ABRIDGED_NAMES = [\"CD4\", \"CD8\", \"B\", \"NK\", \"MONO\", \"NEUTRO\"]\n",
    "TITRATION_LIST = [0.2, 0.15, 0.1, 0.08, 0.06, 0.04, 0.02, 0.01, 0.008, 0.006, 0.004, 0.002, 0.001, 0]\n",
    "WHOLE_BLOOD_ABUNDANCE = {\"Blueprint-B\": 0.06, \"Blueprint-Mono\": 0.09, \"Blueprint-Neutro\": 0.57, \"Blueprint-CD4\": 0.16, \"Blueprint-CD8\": 0.07, \"Blueprint-NK\": 0.05}\n"
   ]
  },
  {
   "cell_type": "code",
   "execution_count": 3,
   "id": "076d7f33",
   "metadata": {
    "papermill": {
     "duration": 4.060465,
     "end_time": "2023-07-31T23:14:41.790586",
     "exception": false,
     "start_time": "2023-07-31T23:14:37.730121",
     "status": "completed"
    },
    "tags": []
   },
   "outputs": [
    {
     "name": "stderr",
     "output_type": "stream",
     "text": [
      "/home/ec2-user/mambaforge/envs/2023_06_26_SRT_deconvolution_MS/lib/python3.7/site-packages/pyspark/context.py:317: FutureWarning: Python 3.7 support is deprecated in Spark 3.4.\n",
      "  warnings.warn(\"Python 3.7 support is deprecated in Spark 3.4.\", FutureWarning)\n"
     ]
    }
   ],
   "source": [
    "import glob\n",
    "import numpy as np\n",
    "import pandas as pd\n",
    "import seaborn as sns\n",
    "import matplotlib.pyplot as plt\n",
    "import itertools\n",
    "import functools\n",
    "import os\n",
    "import regex as re\n",
    "import random\n",
    "import importlib\n",
    "import sys\n",
    "\n",
    "from pyspark.sql import SparkSession\n",
    "from pyspark import SparkConf, SparkContext\n",
    "from pyspark.sql.types import IntegerType, LongType, ArrayType, StringType, DoubleType\n",
    "from pyspark.sql.functions import udf, explode, broadcast, count, lit, length, col\n",
    "from pyspark.sql import DataFrame\n",
    "from pyspark.sql.types import StructType\n",
    "\n",
    "# UPDATE HOME!\n",
    "os.environ[\"SPARK_HOME\"] = \"/home/ec2-user/mambaforge/envs/2023_06_26_SRT_deconvolution_MS/lib/python3.7/site-packages/pyspark\"\n",
    "# THIS needs to be set-up before running the notebook\n",
    "os.environ[\"SPARK_LOCAL_DIRS\"] = \"/temp\"\n",
    "os.environ[\"PYARROW_IGNORE_TIMEZONE\"] = \"1\"\n",
    "\n",
    "spark_conf = SparkConf()\n",
    "spark_conf.set(\"spark.ui.showConsoleProgress\", \"True\")\n",
    "spark_conf.set(\"spark.executor.instances\", \"2\")\n",
    "spark_conf.set(\"spark.executor.cores\", \"2\")\n",
    "spark_conf.set(\"spark.executor.memory\", \"16g\")\n",
    "spark_conf.set(\"spark.driver.memory\", \"64g\")\n",
    "spark_conf.set(\"spark.driver.maxResultSize\", \"32g\")\n",
    "spark_conf.set(\"spark.parquet.filterPushdown\", \"true\")\n",
    "spark_conf.set(\"spark.local.dir\", \"/temp\")\n",
    "spark_conf.getAll()\n",
    "\n",
    "sc = SparkContext(conf=spark_conf)\n",
    "sc.setLogLevel(\"ERROR\")\n",
    "spark = SparkSession(sc)\n",
    "\n",
    "pd.set_option('display.max_rows', 500)\n",
    "pd.set_option('display.max_columns', 500)\n",
    "pd.set_option('display.width', 1000)\n",
    "sns.set_context('talk')"
   ]
  },
  {
   "cell_type": "code",
   "execution_count": 4,
   "id": "f200bd80",
   "metadata": {
    "papermill": {
     "duration": 0.566946,
     "end_time": "2023-07-31T23:14:42.362831",
     "exception": false,
     "start_time": "2023-07-31T23:14:41.795885",
     "status": "completed"
    },
    "tags": []
   },
   "outputs": [],
   "source": [
    "#---Local paths---#\n",
    "PROJECT_DIR = ROOT_DIR + f'projects/{PROJECT_SLUG}/'\n",
    "\n",
    "#---Load all custom scripts---#\n",
    "SCRIPT_DIR = PROJECT_DIR + 'scripts/'\n",
    "sys.path.append(SCRIPT_DIR)\n",
    "\n",
    "import create_mixture as cm\n",
    "import score_matrix as sm\n",
    "import deconvolution as dcnv\n",
    "import helper as hlpr\n",
    "\n",
    "pd.set_option('display.max_rows', 500)\n",
    "pd.set_option('display.max_columns', 500)\n",
    "pd.set_option('display.width', 1000)"
   ]
  },
  {
   "cell_type": "code",
   "execution_count": 5,
   "id": "47927a3e",
   "metadata": {
    "execution": {
     "iopub.execute_input": "2023-07-31T23:14:42.373667Z",
     "iopub.status.busy": "2023-07-31T23:14:42.373358Z",
     "iopub.status.idle": "2023-07-31T23:14:42.378963Z",
     "shell.execute_reply": "2023-07-31T23:14:42.378526Z"
    },
    "papermill": {
     "duration": 0.012178,
     "end_time": "2023-07-31T23:14:42.380205",
     "exception": false,
     "start_time": "2023-07-31T23:14:42.368027",
     "status": "completed"
    },
    "tags": []
   },
   "outputs": [
    {
     "data": {
      "text/plain": [
       "<module 'helper' from '/analysis/gh-msun/projects/2023_06_26_SRT_deconvolution_MS/scripts/helper.py'>"
      ]
     },
     "execution_count": 5,
     "metadata": {},
     "output_type": "execute_result"
    }
   ],
   "source": [
    "importlib.reload(cm)\n",
    "importlib.reload(sm)\n",
    "importlib.reload(dcnv)\n",
    "importlib.reload(hlpr)"
   ]
  },
  {
   "cell_type": "code",
   "execution_count": 6,
   "id": "c48b2ca9",
   "metadata": {
    "execution": {
     "iopub.execute_input": "2023-07-31T23:14:42.390041Z",
     "iopub.status.busy": "2023-07-31T23:14:42.389791Z",
     "iopub.status.idle": "2023-07-31T23:14:42.395683Z",
     "shell.execute_reply": "2023-07-31T23:14:42.395247Z"
    },
    "papermill": {
     "duration": 0.012017,
     "end_time": "2023-07-31T23:14:42.396885",
     "exception": false,
     "start_time": "2023-07-31T23:14:42.384868",
     "status": "completed"
    },
    "tags": []
   },
   "outputs": [
    {
     "data": {
      "text/plain": [
       "[0.2, 0.16, 0.16, 0.16, 0.16, 0.16]"
      ]
     },
     "execution_count": 6,
     "metadata": {},
     "output_type": "execute_result"
    }
   ],
   "source": [
    "#################################\n",
    "#   Set titration proportions   #\n",
    "#################################\n",
    "\n",
    "# Reorder such that the titrating cell type comes first\n",
    "CELLTYPES_unordered = CELLTYPES.copy()\n",
    "CELLTYPES = hlpr.titration_reordering(list_of_cell_types=CELLTYPES, \n",
    "                                      titrating_cell_type=TITRATING_CELLTYPE)\n",
    "\n",
    "# Reorder abridged name\n",
    "ABRIDGED_NAMES = hlpr.reorder_abridged_name(unordered_celltypes=CELLTYPES_unordered,\n",
    "                                            ordered_celltypes=CELLTYPES,\n",
    "                                            unordered_abridged_names=ABRIDGED_NAMES)\n",
    "    \n",
    "# set titration proportions\n",
    "if BACKGROUND == 'uniform':\n",
    "    PROPORTIONS = hlpr.generate_uniform_background_proportions(titration_list=TITRATION_LIST, \n",
    "                                                               cell_types=CELLTYPES)\n",
    "\n",
    "if BACKGROUND == 'wholeblood':\n",
    "    PROPORTIONS = hlpr.generate_custom_background_proportions(titration_list=TITRATION_LIST, \n",
    "                                                              custom_proportion=WHOLE_BLOOD_ABUNDANCE, \n",
    "                                                              list_of_celltypes=CELLTYPES, \n",
    "                                                              titrating_celltype=TITRATING_CELLTYPE)\n",
    "\n",
    "PROPORTIONS[0]    "
   ]
  },
  {
   "cell_type": "markdown",
   "id": "10c92bca",
   "metadata": {
    "papermill": {
     "duration": 0.004414,
     "end_time": "2023-07-31T23:14:42.405749",
     "exception": false,
     "start_time": "2023-07-31T23:14:42.401335",
     "status": "completed"
    },
    "tags": []
   },
   "source": [
    "## Create mixture"
   ]
  },
  {
   "cell_type": "code",
   "execution_count": 8,
   "id": "5705ae45",
   "metadata": {
    "papermill": {
     "duration": 0.009074,
     "end_time": "2023-07-31T23:14:42.419402",
     "exception": false,
     "start_time": "2023-07-31T23:14:42.410328",
     "status": "completed"
    },
    "tags": []
   },
   "outputs": [],
   "source": [
    "############################\n",
    "#   Parameters and paths   # \n",
    "############################\n",
    "EXPERIMENT_DIR = PROJECT_DIR + f'output/experiment/{EXPERIMENT}/'\n",
    "EXPERIMENT_NAME = f'{TITRATING_CELLTYPE}-{BACKGROUND}/'\n",
    "PARQUET_PATH = PROJECT_DIR + 'output/mixture_source/'\n",
    "EXPERIMENT_CELLTYPE_DIR = EXPERIMENT_DIR + f'{EXPERIMENT_NAME}/'\n",
    "RESULT_PATH = EXPERIMENT_CELLTYPE_DIR + 'mixture/'\n"
   ]
  },
  {
   "cell_type": "code",
   "execution_count": 8,
   "id": "15b30349",
   "metadata": {
    "execution": {
     "iopub.execute_input": "2023-07-31T23:14:42.429126Z",
     "iopub.status.busy": "2023-07-31T23:14:42.428919Z",
     "iopub.status.idle": "2023-07-31T23:40:11.706468Z",
     "shell.execute_reply": "2023-07-31T23:40:11.705881Z"
    },
    "papermill": {
     "duration": 1529.301624,
     "end_time": "2023-07-31T23:40:11.725519",
     "exception": false,
     "start_time": "2023-07-31T23:14:42.423895",
     "status": "completed"
    },
    "tags": []
   },
   "outputs": [
    {
     "name": "stdout",
     "output_type": "stream",
     "text": [
      ">>> Load parquet files and count rows... <<<\n",
      "----------> Loading cell type: Blueprint-Neutro\n",
      "----------> Loading cell type: Blueprint-CD4\n",
      "----------> Loading cell type: Blueprint-CD8\n",
      "----------> Loading cell type: Blueprint-B\n",
      "----------> Loading cell type: Blueprint-NK\n",
      "----------> Loading cell type: Blueprint-Mono\n",
      ">>> Complete. <<< \n",
      "\n",
      ">>> Start mixing... <<<\n",
      "--> PROPORTION: [0.2, 0.16, 0.16, 0.16, 0.16, 0.16]\n",
      "----------> Creating mixture 0... \n",
      "----------> Creating mixture 1... \n",
      "----------> Creating mixture 2... \n",
      "----------> Creating mixture 3... \n",
      "----------> Creating mixture 4... \n",
      "----------> Creating mixture 5... \n",
      "----------> Creating mixture 6... \n",
      "----------> Creating mixture 7... \n",
      "----------> Creating mixture 8... \n",
      "----------> Creating mixture 9... \n",
      "----------> Creating mixture 10... \n",
      "----------> Creating mixture 11... \n",
      "----------> Creating mixture 12... \n",
      "----------> Creating mixture 13... \n",
      "----------> Creating mixture 14... \n",
      "----------> Creating mixture 15... \n",
      "----------> Creating mixture 16... \n",
      "----------> Creating mixture 17... \n",
      "----------> Creating mixture 18... \n",
      "----------> Creating mixture 19... \n",
      "--> PROPORTION: [0.15, 0.16999999999999998, 0.16999999999999998, 0.16999999999999998, 0.16999999999999998, 0.16999999999999998]\n",
      "----------> Creating mixture 0... \n",
      "----------> Creating mixture 1... \n",
      "----------> Creating mixture 2... \n",
      "----------> Creating mixture 3... \n",
      "----------> Creating mixture 4... \n",
      "----------> Creating mixture 5... \n",
      "----------> Creating mixture 6... \n",
      "----------> Creating mixture 7... \n",
      "----------> Creating mixture 8... \n",
      "----------> Creating mixture 9... \n",
      "----------> Creating mixture 10... \n",
      "----------> Creating mixture 11... \n",
      "----------> Creating mixture 12... \n",
      "----------> Creating mixture 13... \n",
      "----------> Creating mixture 14... \n",
      "----------> Creating mixture 15... \n",
      "----------> Creating mixture 16... \n",
      "----------> Creating mixture 17... \n",
      "----------> Creating mixture 18... \n",
      "----------> Creating mixture 19... \n",
      "--> PROPORTION: [0.1, 0.18, 0.18, 0.18, 0.18, 0.18]\n",
      "----------> Creating mixture 0... \n",
      "----------> Creating mixture 1... \n",
      "----------> Creating mixture 2... \n",
      "----------> Creating mixture 3... \n",
      "----------> Creating mixture 4... \n",
      "----------> Creating mixture 5... \n",
      "----------> Creating mixture 6... \n",
      "----------> Creating mixture 7... \n",
      "----------> Creating mixture 8... \n",
      "----------> Creating mixture 9... \n",
      "----------> Creating mixture 10... \n",
      "----------> Creating mixture 11... \n",
      "----------> Creating mixture 12... \n",
      "----------> Creating mixture 13... \n",
      "----------> Creating mixture 14... \n",
      "----------> Creating mixture 15... \n",
      "----------> Creating mixture 16... \n",
      "----------> Creating mixture 17... \n",
      "----------> Creating mixture 18... \n",
      "----------> Creating mixture 19... \n",
      "--> PROPORTION: [0.08, 0.184, 0.184, 0.184, 0.184, 0.184]\n",
      "----------> Creating mixture 0... \n",
      "----------> Creating mixture 1... \n",
      "----------> Creating mixture 2... \n",
      "----------> Creating mixture 3... \n",
      "----------> Creating mixture 4... \n",
      "----------> Creating mixture 5... \n",
      "----------> Creating mixture 6... \n",
      "----------> Creating mixture 7... \n",
      "----------> Creating mixture 8... \n",
      "----------> Creating mixture 9... \n",
      "----------> Creating mixture 10... \n",
      "----------> Creating mixture 11... \n",
      "----------> Creating mixture 12... \n",
      "----------> Creating mixture 13... \n",
      "----------> Creating mixture 14... \n",
      "----------> Creating mixture 15... \n",
      "----------> Creating mixture 16... \n",
      "----------> Creating mixture 17... \n",
      "----------> Creating mixture 18... \n",
      "----------> Creating mixture 19... \n",
      "--> PROPORTION: [0.06, 0.188, 0.188, 0.188, 0.188, 0.188]\n",
      "----------> Creating mixture 0... \n",
      "----------> Creating mixture 1... \n",
      "----------> Creating mixture 2... \n",
      "----------> Creating mixture 3... \n",
      "----------> Creating mixture 4... \n",
      "----------> Creating mixture 5... \n",
      "----------> Creating mixture 6... \n",
      "----------> Creating mixture 7... \n",
      "----------> Creating mixture 8... \n",
      "----------> Creating mixture 9... \n",
      "----------> Creating mixture 10... \n",
      "----------> Creating mixture 11... \n",
      "----------> Creating mixture 12... \n",
      "----------> Creating mixture 13... \n",
      "----------> Creating mixture 14... \n",
      "----------> Creating mixture 15... \n",
      "----------> Creating mixture 16... \n",
      "----------> Creating mixture 17... \n",
      "----------> Creating mixture 18... \n",
      "----------> Creating mixture 19... \n",
      "--> PROPORTION: [0.04, 0.192, 0.192, 0.192, 0.192, 0.192]\n",
      "----------> Creating mixture 0... \n",
      "----------> Creating mixture 1... \n",
      "----------> Creating mixture 2... \n",
      "----------> Creating mixture 3... \n",
      "----------> Creating mixture 4... \n",
      "----------> Creating mixture 5... \n",
      "----------> Creating mixture 6... \n",
      "----------> Creating mixture 7... \n",
      "----------> Creating mixture 8... \n",
      "----------> Creating mixture 9... \n",
      "----------> Creating mixture 10... \n",
      "----------> Creating mixture 11... \n",
      "----------> Creating mixture 12... \n",
      "----------> Creating mixture 13... \n",
      "----------> Creating mixture 14... \n",
      "----------> Creating mixture 15... \n",
      "----------> Creating mixture 16... \n",
      "----------> Creating mixture 17... \n",
      "----------> Creating mixture 18... \n",
      "----------> Creating mixture 19... \n",
      "--> PROPORTION: [0.02, 0.196, 0.196, 0.196, 0.196, 0.196]\n",
      "----------> Creating mixture 0... \n",
      "----------> Creating mixture 1... \n",
      "----------> Creating mixture 2... \n",
      "----------> Creating mixture 3... \n",
      "----------> Creating mixture 4... \n",
      "----------> Creating mixture 5... \n",
      "----------> Creating mixture 6... \n",
      "----------> Creating mixture 7... \n",
      "----------> Creating mixture 8... \n",
      "----------> Creating mixture 9... \n",
      "----------> Creating mixture 10... \n",
      "----------> Creating mixture 11... \n",
      "----------> Creating mixture 12... \n",
      "----------> Creating mixture 13... \n",
      "----------> Creating mixture 14... \n",
      "----------> Creating mixture 15... \n",
      "----------> Creating mixture 16... \n",
      "----------> Creating mixture 17... \n",
      "----------> Creating mixture 18... \n",
      "----------> Creating mixture 19... \n",
      "--> PROPORTION: [0.01, 0.198, 0.198, 0.198, 0.198, 0.198]\n",
      "----------> Creating mixture 0... \n",
      "----------> Creating mixture 1... \n",
      "----------> Creating mixture 2... \n",
      "----------> Creating mixture 3... \n",
      "----------> Creating mixture 4... \n",
      "----------> Creating mixture 5... \n",
      "----------> Creating mixture 6... \n",
      "----------> Creating mixture 7... \n",
      "----------> Creating mixture 8... \n",
      "----------> Creating mixture 9... \n",
      "----------> Creating mixture 10... \n",
      "----------> Creating mixture 11... \n",
      "----------> Creating mixture 12... \n",
      "----------> Creating mixture 13... \n",
      "----------> Creating mixture 14... \n",
      "----------> Creating mixture 15... \n",
      "----------> Creating mixture 16... \n",
      "----------> Creating mixture 17... \n",
      "----------> Creating mixture 18... \n",
      "----------> Creating mixture 19... \n",
      "--> PROPORTION: [0.008, 0.1984, 0.1984, 0.1984, 0.1984, 0.1984]\n",
      "----------> Creating mixture 0... \n",
      "----------> Creating mixture 1... \n",
      "----------> Creating mixture 2... \n",
      "----------> Creating mixture 3... \n",
      "----------> Creating mixture 4... \n",
      "----------> Creating mixture 5... \n",
      "----------> Creating mixture 6... \n",
      "----------> Creating mixture 7... \n",
      "----------> Creating mixture 8... \n",
      "----------> Creating mixture 9... \n",
      "----------> Creating mixture 10... \n",
      "----------> Creating mixture 11... \n",
      "----------> Creating mixture 12... \n",
      "----------> Creating mixture 13... \n",
      "----------> Creating mixture 14... \n",
      "----------> Creating mixture 15... \n",
      "----------> Creating mixture 16... \n",
      "----------> Creating mixture 17... \n",
      "----------> Creating mixture 18... \n",
      "----------> Creating mixture 19... \n",
      "--> PROPORTION: [0.006, 0.1988, 0.1988, 0.1988, 0.1988, 0.1988]\n",
      "----------> Creating mixture 0... \n",
      "----------> Creating mixture 1... \n",
      "----------> Creating mixture 2... \n",
      "----------> Creating mixture 3... \n",
      "----------> Creating mixture 4... \n",
      "----------> Creating mixture 5... \n",
      "----------> Creating mixture 6... \n",
      "----------> Creating mixture 7... \n",
      "----------> Creating mixture 8... \n",
      "----------> Creating mixture 9... \n",
      "----------> Creating mixture 10... \n",
      "----------> Creating mixture 11... \n",
      "----------> Creating mixture 12... \n",
      "----------> Creating mixture 13... \n",
      "----------> Creating mixture 14... \n",
      "----------> Creating mixture 15... \n",
      "----------> Creating mixture 16... \n",
      "----------> Creating mixture 17... \n",
      "----------> Creating mixture 18... \n",
      "----------> Creating mixture 19... \n",
      "--> PROPORTION: [0.004, 0.1992, 0.1992, 0.1992, 0.1992, 0.1992]\n",
      "----------> Creating mixture 0... \n",
      "----------> Creating mixture 1... \n",
      "----------> Creating mixture 2... \n",
      "----------> Creating mixture 3... \n",
      "----------> Creating mixture 4... \n",
      "----------> Creating mixture 5... \n",
      "----------> Creating mixture 6... \n",
      "----------> Creating mixture 7... \n",
      "----------> Creating mixture 8... \n",
      "----------> Creating mixture 9... \n",
      "----------> Creating mixture 10... \n",
      "----------> Creating mixture 11... \n",
      "----------> Creating mixture 12... \n",
      "----------> Creating mixture 13... \n",
      "----------> Creating mixture 14... \n",
      "----------> Creating mixture 15... \n",
      "----------> Creating mixture 16... \n",
      "----------> Creating mixture 17... \n",
      "----------> Creating mixture 18... \n",
      "----------> Creating mixture 19... \n",
      "--> PROPORTION: [0.002, 0.1996, 0.1996, 0.1996, 0.1996, 0.1996]\n",
      "----------> Creating mixture 0... \n",
      "----------> Creating mixture 1... \n",
      "----------> Creating mixture 2... \n",
      "----------> Creating mixture 3... \n",
      "----------> Creating mixture 4... \n",
      "----------> Creating mixture 5... \n",
      "----------> Creating mixture 6... \n",
      "----------> Creating mixture 7... \n",
      "----------> Creating mixture 8... \n",
      "----------> Creating mixture 9... \n",
      "----------> Creating mixture 10... \n",
      "----------> Creating mixture 11... \n",
      "----------> Creating mixture 12... \n",
      "----------> Creating mixture 13... \n",
      "----------> Creating mixture 14... \n",
      "----------> Creating mixture 15... \n",
      "----------> Creating mixture 16... \n",
      "----------> Creating mixture 17... \n",
      "----------> Creating mixture 18... \n",
      "----------> Creating mixture 19... \n",
      "--> PROPORTION: [0.001, 0.1998, 0.1998, 0.1998, 0.1998, 0.1998]\n",
      "----------> Creating mixture 0... \n",
      "----------> Creating mixture 1... \n",
      "----------> Creating mixture 2... \n",
      "----------> Creating mixture 3... \n",
      "----------> Creating mixture 4... \n",
      "----------> Creating mixture 5... \n",
      "----------> Creating mixture 6... \n",
      "----------> Creating mixture 7... \n",
      "----------> Creating mixture 8... \n",
      "----------> Creating mixture 9... \n",
      "----------> Creating mixture 10... \n",
      "----------> Creating mixture 11... \n",
      "----------> Creating mixture 12... \n",
      "----------> Creating mixture 13... \n",
      "----------> Creating mixture 14... \n",
      "----------> Creating mixture 15... \n",
      "----------> Creating mixture 16... \n",
      "----------> Creating mixture 17... \n",
      "----------> Creating mixture 18... \n",
      "----------> Creating mixture 19... \n",
      "--> PROPORTION: [0, 0.2, 0.2, 0.2, 0.2, 0.2]\n",
      "----------> Creating mixture 0... \n",
      "----------> Creating mixture 1... \n",
      "----------> Creating mixture 2... \n",
      "----------> Creating mixture 3... \n",
      "----------> Creating mixture 4... \n",
      "----------> Creating mixture 5... \n",
      "----------> Creating mixture 6... \n",
      "----------> Creating mixture 7... \n",
      "----------> Creating mixture 8... \n",
      "----------> Creating mixture 9... \n",
      "----------> Creating mixture 10... \n",
      "----------> Creating mixture 11... \n",
      "----------> Creating mixture 12... \n",
      "----------> Creating mixture 13... \n",
      "----------> Creating mixture 14... \n",
      "----------> Creating mixture 15... \n",
      "----------> Creating mixture 16... \n",
      "----------> Creating mixture 17... \n",
      "----------> Creating mixture 18... \n",
      "----------> Creating mixture 19... \n",
      ">>> Complete. <<< \n",
      "\n",
      "CPU times: user 1.35 s, sys: 474 ms, total: 1.83 s\n",
      "Wall time: 25min 29s\n"
     ]
    }
   ],
   "source": [
    "%%time\n",
    "# load parquet files for each celltype & count rows\n",
    "parquet_df, total_reads_per_celltype = cm.load_parquet_dataframe(parquet_path=PARQUET_PATH,\n",
    "                                                                  cell_types=CELLTYPES,\n",
    "                                                                  spark=spark,\n",
    "                                                                  verbose=True)\n",
    "\n",
    "# mix cell types for each proportion set\n",
    "cm.mix_celltypes_multiple_proportions(parquet_df=parquet_df,\n",
    "                                       total_reads_per_celltype=total_reads_per_celltype,\n",
    "                                    #    n=len(TITRATION_LIST), \n",
    "                                       n=N_REPLICATES,\n",
    "                                       cell_types=CELLTYPES, \n",
    "                                       cell_type_abridged_name=ABRIDGED_NAMES, \n",
    "                                       total_reads_to_sample=TOTAL_READS_TO_SAMPLE, \n",
    "                                       list_of_proportions=PROPORTIONS, \n",
    "                                       seed=SEED, \n",
    "                                       result_path=RESULT_PATH, \n",
    "                                       spark=spark,\n",
    "                                       verbose=False, \n",
    "                                       save=True)"
   ]
  },
  {
   "cell_type": "markdown",
   "id": "01aa9185",
   "metadata": {
    "papermill": {
     "duration": 0.018176,
     "end_time": "2023-07-31T23:40:11.762237",
     "exception": false,
     "start_time": "2023-07-31T23:40:11.744061",
     "status": "completed"
    },
    "tags": []
   },
   "source": [
    "## Compute score matrix"
   ]
  },
  {
   "cell_type": "code",
   "execution_count": 9,
   "id": "02f78c8f",
   "metadata": {
    "papermill": {
     "duration": 0.023873,
     "end_time": "2023-07-31T23:40:11.803767",
     "exception": false,
     "start_time": "2023-07-31T23:40:11.779894",
     "status": "completed"
    },
    "tags": []
   },
   "outputs": [],
   "source": [
    "############################\n",
    "#   Parameters and paths   # \n",
    "############################\n",
    "\n",
    "FILTER_CG_COUNT = 3\n",
    "FILTER_CG_COUNT_REGION = 1\n",
    "\n",
    "REGIONS = 'deconvolution_v2.v23_conv.with_cpg_index'\n",
    "REGION_BED_COLS = [\n",
    "    'region_chr', 'region_start', 'region_end', \n",
    "    'region_cpg_index_min', 'region_cpg_index_max', 'region_id'\n",
    "]\n",
    "\n",
    "# Regions\n",
    "REGION_PATH = (\n",
    "    PROJECT_DIR + '/stage/panel_data/{regions}.bed'\n",
    ").format(regions=REGIONS)\n",
    "\n",
    "# CpG map; genomic coordinate to CpG index;\n",
    "CPG_MAP_PATH = PROJECT_DIR + '/stage/cpg_loci/cpg_loci_hg19.combined_annot.tsv.gz'\n",
    "\n",
    "#--- Where to store results\n",
    "PATH_TO_MIXTURE_DIR = EXPERIMENT_CELLTYPE_DIR + 'mixture/'\n",
    "RESULT_PATH = EXPERIMENT_CELLTYPE_DIR\n"
   ]
  },
  {
   "cell_type": "code",
   "execution_count": 10,
   "id": "414e3b07",
   "metadata": {
    "execution": {
     "iopub.execute_input": "2023-07-31T23:40:11.840162Z",
     "iopub.status.busy": "2023-07-31T23:40:11.839888Z",
     "iopub.status.idle": "2023-07-31T23:40:37.387848Z",
     "shell.execute_reply": "2023-07-31T23:40:37.387264Z"
    },
    "papermill": {
     "duration": 25.567955,
     "end_time": "2023-07-31T23:40:37.389447",
     "exception": false,
     "start_time": "2023-07-31T23:40:11.821492",
     "status": "completed"
    },
    "tags": []
   },
   "outputs": [],
   "source": [
    "cpg_map = pd.read_csv(CPG_MAP_PATH, usecols=['chr', 'start', 'end', 'cpg_index', 'cpg_index_hg38'], sep='\\t')"
   ]
  },
  {
   "cell_type": "code",
   "execution_count": 11,
   "id": "2c0f6a03",
   "metadata": {
    "execution": {
     "iopub.execute_input": "2023-07-31T23:40:37.427755Z",
     "iopub.status.busy": "2023-07-31T23:40:37.427484Z",
     "iopub.status.idle": "2023-07-31T23:40:57.793993Z",
     "shell.execute_reply": "2023-07-31T23:40:57.793352Z"
    },
    "papermill": {
     "duration": 20.387034,
     "end_time": "2023-07-31T23:40:57.795317",
     "exception": false,
     "start_time": "2023-07-31T23:40:37.408283",
     "status": "completed"
    },
    "tags": []
   },
   "outputs": [
    {
     "name": "stdout",
     "output_type": "stream",
     "text": [
      "CPU times: user 15.3 s, sys: 5.17 s, total: 20.4 s\n",
      "Wall time: 20.4 s\n"
     ]
    }
   ],
   "source": [
    "%%time\n",
    "ridxs = ~cpg_map['cpg_index_hg38'].isna()\n",
    "hg19_hg38_map = dict(itertools.zip_longest(cpg_map[ridxs]['cpg_index'], cpg_map[ridxs]['cpg_index_hg38'].astype(int)))\n",
    "hg38_hg19_map = dict(itertools.zip_longest(cpg_map[ridxs]['cpg_index_hg38'].astype(int), cpg_map[ridxs]['cpg_index']))"
   ]
  },
  {
   "cell_type": "code",
   "execution_count": 12,
   "id": "5a95cdc1",
   "metadata": {
    "execution": {
     "iopub.execute_input": "2023-07-31T23:40:57.834776Z",
     "iopub.status.busy": "2023-07-31T23:40:57.834353Z",
     "iopub.status.idle": "2023-07-31T23:41:31.097213Z",
     "shell.execute_reply": "2023-07-31T23:41:31.096509Z"
    },
    "papermill": {
     "duration": 33.30227,
     "end_time": "2023-07-31T23:41:31.116801",
     "exception": false,
     "start_time": "2023-07-31T23:40:57.814531",
     "status": "completed"
    },
    "tags": []
   },
   "outputs": [
    {
     "data": {
      "text/plain": [
       "(1658, 1658)"
      ]
     },
     "execution_count": 12,
     "metadata": {},
     "output_type": "execute_result"
    }
   ],
   "source": [
    "region_df = pd.read_csv(REGION_PATH, sep='\\t', usecols=range(0, 6), names=REGION_BED_COLS)\n",
    "\n",
    "region_df['region_cpg_index_max'] -= 1\n",
    "region_df.sort_values('region_cpg_index_min', inplace=True)\n",
    "region_df['region_cpg_index_min_hg38'] = region_df['region_cpg_index_min'].map(hg19_hg38_map)\n",
    "region_df['region_cpg_index_max_hg38'] = region_df['region_cpg_index_max'].map(hg19_hg38_map)\n",
    "\n",
    "region_df.shape[0], region_df['region_id'].nunique()"
   ]
  },
  {
   "cell_type": "code",
   "execution_count": 13,
   "id": "39b73721",
   "metadata": {
    "execution": {
     "iopub.execute_input": "2023-07-31T23:41:31.155899Z",
     "iopub.status.busy": "2023-07-31T23:41:31.155611Z",
     "iopub.status.idle": "2023-07-31T23:41:31.162538Z",
     "shell.execute_reply": "2023-07-31T23:41:31.162005Z"
    },
    "papermill": {
     "duration": 0.02792,
     "end_time": "2023-07-31T23:41:31.163890",
     "exception": false,
     "start_time": "2023-07-31T23:41:31.135970",
     "status": "completed"
    },
    "tags": []
   },
   "outputs": [
    {
     "data": {
      "text/plain": [
       "(1658, 1658)"
      ]
     },
     "execution_count": 13,
     "metadata": {},
     "output_type": "execute_result"
    }
   ],
   "source": [
    "ridxs = ~region_df['region_cpg_index_min_hg38'].isna()\n",
    "ridxs &= ~region_df['region_cpg_index_max_hg38'].isna()\n",
    "region_df = region_df[ridxs].copy()\n",
    "region_df.shape[0], region_df['region_id'].nunique()"
   ]
  },
  {
   "cell_type": "code",
   "execution_count": 14,
   "id": "fe7e82cd",
   "metadata": {
    "execution": {
     "iopub.execute_input": "2023-07-31T23:41:31.201841Z",
     "iopub.status.busy": "2023-07-31T23:41:31.201564Z",
     "iopub.status.idle": "2023-07-31T23:41:31.209029Z",
     "shell.execute_reply": "2023-07-31T23:41:31.208491Z"
    },
    "papermill": {
     "duration": 0.028072,
     "end_time": "2023-07-31T23:41:31.210391",
     "exception": false,
     "start_time": "2023-07-31T23:41:31.182319",
     "status": "completed"
    },
    "tags": []
   },
   "outputs": [
    {
     "data": {
      "text/plain": [
       "(1657, 1657)"
      ]
     },
     "execution_count": 14,
     "metadata": {},
     "output_type": "execute_result"
    }
   ],
   "source": [
    "cg_count_hg19 = region_df['region_cpg_index_max']-region_df['region_cpg_index_min'] + 1\n",
    "cg_count_hg38 = region_df['region_cpg_index_max_hg38']-region_df['region_cpg_index_min_hg38'] + 1\n",
    "ridxs = (cg_count_hg19==cg_count_hg38)\n",
    "ridxs &= (cg_count_hg19>=FILTER_CG_COUNT_REGION)\n",
    "region_df = region_df[ridxs].copy()\n",
    "region_df.shape[0], region_df['region_id'].nunique()"
   ]
  },
  {
   "cell_type": "code",
   "execution_count": 15,
   "id": "54163b1a",
   "metadata": {
    "execution": {
     "iopub.execute_input": "2023-07-31T23:41:31.249012Z",
     "iopub.status.busy": "2023-07-31T23:41:31.248723Z",
     "iopub.status.idle": "2023-07-31T23:41:31.253089Z",
     "shell.execute_reply": "2023-07-31T23:41:31.252509Z"
    },
    "papermill": {
     "duration": 0.025396,
     "end_time": "2023-07-31T23:41:31.254443",
     "exception": false,
     "start_time": "2023-07-31T23:41:31.229047",
     "status": "completed"
    },
    "tags": []
   },
   "outputs": [],
   "source": [
    "region_df['region_cpg_index_min_hg38'] = region_df['region_cpg_index_min_hg38'].astype(int)\n",
    "region_df['region_cpg_index_max_hg38'] = region_df['region_cpg_index_max_hg38'].astype(int)"
   ]
  },
  {
   "cell_type": "code",
   "execution_count": 16,
   "id": "34d1de14",
   "metadata": {
    "execution": {
     "iopub.execute_input": "2023-07-31T23:41:31.293867Z",
     "iopub.status.busy": "2023-07-31T23:41:31.293472Z",
     "iopub.status.idle": "2023-07-31T23:41:31.307463Z",
     "shell.execute_reply": "2023-07-31T23:41:31.306906Z"
    },
    "papermill": {
     "duration": 0.035053,
     "end_time": "2023-07-31T23:41:31.308776",
     "exception": false,
     "start_time": "2023-07-31T23:41:31.273723",
     "status": "completed"
    },
    "tags": []
   },
   "outputs": [
    {
     "data": {
      "text/html": [
       "<div>\n",
       "<style scoped>\n",
       "    .dataframe tbody tr th:only-of-type {\n",
       "        vertical-align: middle;\n",
       "    }\n",
       "\n",
       "    .dataframe tbody tr th {\n",
       "        vertical-align: top;\n",
       "    }\n",
       "\n",
       "    .dataframe thead th {\n",
       "        text-align: right;\n",
       "    }\n",
       "</style>\n",
       "<table border=\"1\" class=\"dataframe\">\n",
       "  <thead>\n",
       "    <tr style=\"text-align: right;\">\n",
       "      <th></th>\n",
       "      <th>region_chr</th>\n",
       "      <th>region_start</th>\n",
       "      <th>region_end</th>\n",
       "      <th>region_cpg_index_min</th>\n",
       "      <th>region_cpg_index_max</th>\n",
       "      <th>region_id</th>\n",
       "      <th>region_cpg_index_min_hg38</th>\n",
       "      <th>region_cpg_index_max_hg38</th>\n",
       "    </tr>\n",
       "  </thead>\n",
       "  <tbody>\n",
       "    <tr>\n",
       "      <th>0</th>\n",
       "      <td>chr1</td>\n",
       "      <td>1114771</td>\n",
       "      <td>1114971</td>\n",
       "      <td>20117</td>\n",
       "      <td>20129</td>\n",
       "      <td>Immune_Broad_B-chr1:1114772-1114971</td>\n",
       "      <td>21119</td>\n",
       "      <td>21131</td>\n",
       "    </tr>\n",
       "    <tr>\n",
       "      <th>1</th>\n",
       "      <td>chr1</td>\n",
       "      <td>1157450</td>\n",
       "      <td>1157720</td>\n",
       "      <td>21684</td>\n",
       "      <td>21703</td>\n",
       "      <td>Immune_Broad_NK-chr1:1157451-1157720</td>\n",
       "      <td>22686</td>\n",
       "      <td>22705</td>\n",
       "    </tr>\n",
       "    <tr>\n",
       "      <th>2</th>\n",
       "      <td>chr1</td>\n",
       "      <td>1157879</td>\n",
       "      <td>1158277</td>\n",
       "      <td>21710</td>\n",
       "      <td>21726</td>\n",
       "      <td>Immune_Broad_NK-chr1:1157880-1158277</td>\n",
       "      <td>22712</td>\n",
       "      <td>22728</td>\n",
       "    </tr>\n",
       "    <tr>\n",
       "      <th>14</th>\n",
       "      <td>chr1</td>\n",
       "      <td>6341182</td>\n",
       "      <td>6341377</td>\n",
       "      <td>140667</td>\n",
       "      <td>140681</td>\n",
       "      <td>Immune_Broad_Eosi-chr1:6341183-6341377</td>\n",
       "      <td>142368</td>\n",
       "      <td>142382</td>\n",
       "    </tr>\n",
       "    <tr>\n",
       "      <th>19</th>\n",
       "      <td>chr1</td>\n",
       "      <td>9147788</td>\n",
       "      <td>9147871</td>\n",
       "      <td>188605</td>\n",
       "      <td>188608</td>\n",
       "      <td>Immune_Broad_Neutro-chr1:9147789-9147871</td>\n",
       "      <td>190307</td>\n",
       "      <td>190310</td>\n",
       "    </tr>\n",
       "  </tbody>\n",
       "</table>\n",
       "</div>"
      ],
      "text/plain": [
       "   region_chr  region_start  region_end  region_cpg_index_min  region_cpg_index_max                                 region_id  region_cpg_index_min_hg38  region_cpg_index_max_hg38\n",
       "0        chr1       1114771     1114971                 20117                 20129       Immune_Broad_B-chr1:1114772-1114971                      21119                      21131\n",
       "1        chr1       1157450     1157720                 21684                 21703      Immune_Broad_NK-chr1:1157451-1157720                      22686                      22705\n",
       "2        chr1       1157879     1158277                 21710                 21726      Immune_Broad_NK-chr1:1157880-1158277                      22712                      22728\n",
       "14       chr1       6341182     6341377                140667                140681    Immune_Broad_Eosi-chr1:6341183-6341377                     142368                     142382\n",
       "19       chr1       9147788     9147871                188605                188608  Immune_Broad_Neutro-chr1:9147789-9147871                     190307                     190310"
      ]
     },
     "execution_count": 16,
     "metadata": {},
     "output_type": "execute_result"
    }
   ],
   "source": [
    "### Restrict to immune regions\n",
    "#-------------- CHANGE HERE FOR DIFFERENT REGION SUBSET ----------------------\n",
    "# BLUEPRINT immune regions\n",
    "ATLAS_PATH = PROJECT_DIR + f'/output/reference/deconv_inhouse_v2.atlas.tsv.gz'\n",
    "atlas = pd.read_csv(ATLAS_PATH, sep='\\t')\n",
    "subset_region_set = set(atlas.region_id)\n",
    "#-----------------------------------------------------------------------------\n",
    "\n",
    "# filter regions down to regions of interest\n",
    "region_df = region_df[region_df['region_id'].isin(subset_region_set)]\n",
    "region_df.head()"
   ]
  },
  {
   "cell_type": "code",
   "execution_count": 17,
   "id": "1e8fb1c4",
   "metadata": {
    "execution": {
     "iopub.execute_input": "2023-07-31T23:41:31.347647Z",
     "iopub.status.busy": "2023-07-31T23:41:31.347367Z",
     "iopub.status.idle": "2023-08-01T00:32:32.770439Z",
     "shell.execute_reply": "2023-08-01T00:32:32.769877Z"
    },
    "papermill": {
     "duration": 3061.444083,
     "end_time": "2023-08-01T00:32:32.771795",
     "exception": false,
     "start_time": "2023-07-31T23:41:31.327712",
     "status": "completed"
    },
    "tags": []
   },
   "outputs": [
    {
     "name": "stdout",
     "output_type": "stream",
     "text": [
      ">>> Start computing score matrices <<< \n",
      "\n",
      "--> E2NEUTRO_E16CD4_E16CD8_E16B_E16NK_E16MONO\n",
      "--------> Computing score matrix for mix0_seed106375\n",
      "--------> Computing score matrix for mix1_seed803133\n",
      "--------> Computing score matrix for mix2_seed754789\n",
      "--------> Computing score matrix for mix3_seed669141\n",
      "--------> Computing score matrix for mix4_seed362477\n",
      "--------> Computing score matrix for mix5_seed956194\n",
      "--------> Computing score matrix for mix6_seed669884\n",
      "--------> Computing score matrix for mix7_seed756130\n",
      "--------> Computing score matrix for mix8_seed89737\n",
      "--------> Computing score matrix for mix9_seed704877\n",
      "--------> Computing score matrix for mix10_seed628175\n",
      "--------> Computing score matrix for mix11_seed821572\n",
      "--------> Computing score matrix for mix12_seed276913\n",
      "--------> Computing score matrix for mix13_seed963369\n",
      "--------> Computing score matrix for mix14_seed64384\n",
      "--------> Computing score matrix for mix15_seed111665\n",
      "--------> Computing score matrix for mix16_seed528725\n",
      "--------> Computing score matrix for mix17_seed715905\n",
      "--------> Computing score matrix for mix18_seed624900\n",
      "--------> Computing score matrix for mix19_seed696504\n",
      "\n",
      "\n",
      "--> E15NEUTRO_E17CD4_E17CD8_E17B_E17NK_E17MONO\n",
      "--------> Computing score matrix for mix0_seed10715\n",
      "--------> Computing score matrix for mix1_seed989127\n",
      "--------> Computing score matrix for mix2_seed976185\n",
      "--------> Computing score matrix for mix3_seed530891\n",
      "--------> Computing score matrix for mix4_seed467536\n",
      "--------> Computing score matrix for mix5_seed937830\n",
      "--------> Computing score matrix for mix6_seed127339\n",
      "--------> Computing score matrix for mix7_seed283668\n",
      "--------> Computing score matrix for mix8_seed223469\n",
      "--------> Computing score matrix for mix9_seed349266\n",
      "--------> Computing score matrix for mix10_seed78892\n",
      "--------> Computing score matrix for mix11_seed352855\n",
      "--------> Computing score matrix for mix12_seed973178\n",
      "--------> Computing score matrix for mix13_seed351195\n",
      "--------> Computing score matrix for mix14_seed94361\n",
      "--------> Computing score matrix for mix15_seed993641\n",
      "--------> Computing score matrix for mix16_seed958661\n",
      "--------> Computing score matrix for mix17_seed925941\n",
      "--------> Computing score matrix for mix18_seed209046\n",
      "--------> Computing score matrix for mix19_seed287932\n",
      "\n",
      "\n",
      "--> E1NEUTRO_E18CD4_E18CD8_E18B_E18NK_E18MONO\n",
      "--------> Computing score matrix for mix0_seed831448\n",
      "--------> Computing score matrix for mix1_seed562190\n",
      "--------> Computing score matrix for mix2_seed691467\n",
      "--------> Computing score matrix for mix3_seed201543\n",
      "--------> Computing score matrix for mix4_seed404621\n",
      "--------> Computing score matrix for mix5_seed715136\n",
      "--------> Computing score matrix for mix6_seed612261\n",
      "--------> Computing score matrix for mix7_seed705833\n",
      "--------> Computing score matrix for mix8_seed206278\n",
      "--------> Computing score matrix for mix9_seed289568\n",
      "--------> Computing score matrix for mix10_seed28997\n",
      "--------> Computing score matrix for mix11_seed920352\n",
      "--------> Computing score matrix for mix12_seed524691\n",
      "--------> Computing score matrix for mix13_seed241664\n",
      "--------> Computing score matrix for mix14_seed291776\n",
      "--------> Computing score matrix for mix15_seed254167\n",
      "--------> Computing score matrix for mix16_seed702742\n",
      "--------> Computing score matrix for mix17_seed733092\n",
      "--------> Computing score matrix for mix18_seed9761\n",
      "--------> Computing score matrix for mix19_seed625795\n",
      "\n",
      "\n",
      "--> E08NEUTRO_E184CD4_E184CD8_E184B_E184NK_E184MONO\n",
      "--------> Computing score matrix for mix0_seed573320\n",
      "--------> Computing score matrix for mix1_seed106323\n",
      "--------> Computing score matrix for mix2_seed254137\n",
      "--------> Computing score matrix for mix3_seed817970\n",
      "--------> Computing score matrix for mix4_seed881443\n",
      "--------> Computing score matrix for mix5_seed541428\n",
      "--------> Computing score matrix for mix6_seed941368\n",
      "--------> Computing score matrix for mix7_seed826437\n",
      "--------> Computing score matrix for mix8_seed480736\n",
      "--------> Computing score matrix for mix9_seed802427\n",
      "--------> Computing score matrix for mix10_seed978196\n",
      "--------> Computing score matrix for mix11_seed499021\n",
      "--------> Computing score matrix for mix12_seed665740\n",
      "--------> Computing score matrix for mix13_seed595611\n",
      "--------> Computing score matrix for mix14_seed816522\n",
      "--------> Computing score matrix for mix15_seed134638\n",
      "--------> Computing score matrix for mix16_seed731720\n",
      "--------> Computing score matrix for mix17_seed636351\n",
      "--------> Computing score matrix for mix18_seed54424\n",
      "--------> Computing score matrix for mix19_seed563414\n",
      "\n",
      "\n",
      "--> E06NEUTRO_E188CD4_E188CD8_E188B_E188NK_E188MONO\n",
      "--------> Computing score matrix for mix0_seed587905\n",
      "--------> Computing score matrix for mix1_seed195945\n",
      "--------> Computing score matrix for mix2_seed967837\n",
      "--------> Computing score matrix for mix3_seed455992\n",
      "--------> Computing score matrix for mix4_seed290186\n",
      "--------> Computing score matrix for mix5_seed437619\n",
      "--------> Computing score matrix for mix6_seed50705\n",
      "--------> Computing score matrix for mix7_seed719669\n",
      "--------> Computing score matrix for mix8_seed508939\n",
      "--------> Computing score matrix for mix9_seed286826\n",
      "--------> Computing score matrix for mix10_seed181571\n",
      "--------> Computing score matrix for mix11_seed587909\n",
      "--------> Computing score matrix for mix12_seed429164\n",
      "--------> Computing score matrix for mix13_seed850536\n",
      "--------> Computing score matrix for mix14_seed617496\n",
      "--------> Computing score matrix for mix15_seed673223\n",
      "--------> Computing score matrix for mix16_seed893897\n",
      "--------> Computing score matrix for mix17_seed390863\n",
      "--------> Computing score matrix for mix18_seed851203\n",
      "--------> Computing score matrix for mix19_seed536607\n",
      "\n",
      "\n",
      "--> E04NEUTRO_E192CD4_E192CD8_E192B_E192NK_E192MONO\n",
      "--------> Computing score matrix for mix0_seed627223\n",
      "--------> Computing score matrix for mix1_seed662222\n",
      "--------> Computing score matrix for mix2_seed790631\n",
      "--------> Computing score matrix for mix3_seed70184\n",
      "--------> Computing score matrix for mix4_seed668794\n",
      "--------> Computing score matrix for mix5_seed596259\n",
      "--------> Computing score matrix for mix6_seed748511\n",
      "--------> Computing score matrix for mix7_seed194235\n",
      "--------> Computing score matrix for mix8_seed281476\n",
      "--------> Computing score matrix for mix9_seed382353\n",
      "--------> Computing score matrix for mix10_seed986048\n",
      "--------> Computing score matrix for mix11_seed10285\n",
      "--------> Computing score matrix for mix12_seed918181\n",
      "--------> Computing score matrix for mix13_seed639922\n",
      "--------> Computing score matrix for mix14_seed887890\n",
      "--------> Computing score matrix for mix15_seed109766\n",
      "--------> Computing score matrix for mix16_seed182756\n",
      "--------> Computing score matrix for mix17_seed137914\n",
      "--------> Computing score matrix for mix18_seed211377\n",
      "--------> Computing score matrix for mix19_seed533198\n",
      "\n",
      "\n",
      "--> E02NEUTRO_E196CD4_E196CD8_E196B_E196NK_E196MONO\n",
      "--------> Computing score matrix for mix0_seed184439\n",
      "--------> Computing score matrix for mix1_seed890055\n",
      "--------> Computing score matrix for mix2_seed914035\n",
      "--------> Computing score matrix for mix3_seed749219\n",
      "--------> Computing score matrix for mix4_seed806557\n",
      "--------> Computing score matrix for mix5_seed59500\n",
      "--------> Computing score matrix for mix6_seed74832\n",
      "--------> Computing score matrix for mix7_seed893971\n",
      "--------> Computing score matrix for mix8_seed692059\n",
      "--------> Computing score matrix for mix9_seed359581\n",
      "--------> Computing score matrix for mix10_seed612356\n",
      "--------> Computing score matrix for mix11_seed58496\n",
      "--------> Computing score matrix for mix12_seed40944\n",
      "--------> Computing score matrix for mix13_seed687511\n",
      "--------> Computing score matrix for mix14_seed251586\n",
      "--------> Computing score matrix for mix15_seed657279\n",
      "--------> Computing score matrix for mix16_seed824491\n",
      "--------> Computing score matrix for mix17_seed813987\n",
      "--------> Computing score matrix for mix18_seed217102\n",
      "--------> Computing score matrix for mix19_seed712971\n",
      "\n",
      "\n",
      "--> E01NEUTRO_E198CD4_E198CD8_E198B_E198NK_E198MONO\n",
      "--------> Computing score matrix for mix0_seed335287\n",
      "--------> Computing score matrix for mix1_seed441571\n",
      "--------> Computing score matrix for mix2_seed17595\n",
      "--------> Computing score matrix for mix3_seed474533\n",
      "--------> Computing score matrix for mix4_seed185633\n",
      "--------> Computing score matrix for mix5_seed387031\n",
      "--------> Computing score matrix for mix6_seed631186\n",
      "--------> Computing score matrix for mix7_seed778032\n",
      "--------> Computing score matrix for mix8_seed268889\n",
      "--------> Computing score matrix for mix9_seed508068\n",
      "--------> Computing score matrix for mix10_seed117067\n",
      "--------> Computing score matrix for mix11_seed509633\n",
      "--------> Computing score matrix for mix12_seed749091\n",
      "--------> Computing score matrix for mix13_seed779007\n",
      "--------> Computing score matrix for mix14_seed672425\n",
      "--------> Computing score matrix for mix15_seed812913\n",
      "--------> Computing score matrix for mix16_seed588185\n",
      "--------> Computing score matrix for mix17_seed141231\n",
      "--------> Computing score matrix for mix18_seed984111\n",
      "--------> Computing score matrix for mix19_seed364776\n",
      "\n",
      "\n",
      "--> E008NEUTRO_E1984CD4_E1984CD8_E1984B_E1984NK_E1984MONO\n",
      "--------> Computing score matrix for mix0_seed74036\n",
      "--------> Computing score matrix for mix1_seed77568\n",
      "--------> Computing score matrix for mix2_seed906701\n",
      "--------> Computing score matrix for mix3_seed511159\n",
      "--------> Computing score matrix for mix4_seed571244\n",
      "--------> Computing score matrix for mix5_seed361678\n",
      "--------> Computing score matrix for mix6_seed35866\n",
      "--------> Computing score matrix for mix7_seed561576\n",
      "--------> Computing score matrix for mix8_seed186910\n",
      "--------> Computing score matrix for mix9_seed950409\n",
      "--------> Computing score matrix for mix10_seed146061\n",
      "--------> Computing score matrix for mix11_seed80832\n",
      "--------> Computing score matrix for mix12_seed843046\n",
      "--------> Computing score matrix for mix13_seed561420\n",
      "--------> Computing score matrix for mix14_seed880289\n",
      "--------> Computing score matrix for mix15_seed907918\n",
      "--------> Computing score matrix for mix16_seed739970\n",
      "--------> Computing score matrix for mix17_seed629975\n",
      "--------> Computing score matrix for mix18_seed451669\n",
      "--------> Computing score matrix for mix19_seed88694\n",
      "\n",
      "\n",
      "--> E006NEUTRO_E1988CD4_E1988CD8_E1988B_E1988NK_E1988MONO\n",
      "--------> Computing score matrix for mix0_seed262930\n",
      "--------> Computing score matrix for mix1_seed326000\n",
      "--------> Computing score matrix for mix2_seed295309\n",
      "--------> Computing score matrix for mix3_seed888906\n",
      "--------> Computing score matrix for mix4_seed640912\n",
      "--------> Computing score matrix for mix5_seed453690\n",
      "--------> Computing score matrix for mix6_seed54630\n",
      "--------> Computing score matrix for mix7_seed428844\n",
      "--------> Computing score matrix for mix8_seed653901\n",
      "--------> Computing score matrix for mix9_seed989540\n",
      "--------> Computing score matrix for mix10_seed217241\n",
      "--------> Computing score matrix for mix11_seed722015\n",
      "--------> Computing score matrix for mix12_seed320132\n",
      "--------> Computing score matrix for mix13_seed890195\n",
      "--------> Computing score matrix for mix14_seed958653\n",
      "--------> Computing score matrix for mix15_seed465001\n",
      "--------> Computing score matrix for mix16_seed512536\n",
      "--------> Computing score matrix for mix17_seed412837\n",
      "--------> Computing score matrix for mix18_seed686857\n",
      "--------> Computing score matrix for mix19_seed485859\n",
      "\n",
      "\n",
      "--> E004NEUTRO_E1992CD4_E1992CD8_E1992B_E1992NK_E1992MONO\n",
      "--------> Computing score matrix for mix0_seed256869\n",
      "--------> Computing score matrix for mix1_seed513277\n",
      "--------> Computing score matrix for mix2_seed220792\n",
      "--------> Computing score matrix for mix3_seed1964\n",
      "--------> Computing score matrix for mix4_seed864210\n",
      "--------> Computing score matrix for mix5_seed273365\n",
      "--------> Computing score matrix for mix6_seed880225\n",
      "--------> Computing score matrix for mix7_seed473665\n",
      "--------> Computing score matrix for mix8_seed586949\n",
      "--------> Computing score matrix for mix9_seed97623\n",
      "--------> Computing score matrix for mix10_seed696909\n",
      "--------> Computing score matrix for mix11_seed369255\n",
      "--------> Computing score matrix for mix12_seed260\n",
      "--------> Computing score matrix for mix13_seed759090\n",
      "--------> Computing score matrix for mix14_seed613015\n",
      "--------> Computing score matrix for mix15_seed560872\n",
      "--------> Computing score matrix for mix16_seed834650\n",
      "--------> Computing score matrix for mix17_seed634987\n",
      "--------> Computing score matrix for mix18_seed957444\n",
      "--------> Computing score matrix for mix19_seed558145\n",
      "\n",
      "\n",
      "--> E002NEUTRO_E1996CD4_E1996CD8_E1996B_E1996NK_E1996MONO\n",
      "--------> Computing score matrix for mix0_seed423442\n",
      "--------> Computing score matrix for mix1_seed757021\n",
      "--------> Computing score matrix for mix2_seed654928\n",
      "--------> Computing score matrix for mix3_seed194679\n",
      "--------> Computing score matrix for mix4_seed928086\n",
      "--------> Computing score matrix for mix5_seed341495\n",
      "--------> Computing score matrix for mix6_seed411956\n",
      "--------> Computing score matrix for mix7_seed857309\n",
      "--------> Computing score matrix for mix8_seed969530\n",
      "--------> Computing score matrix for mix9_seed229199\n",
      "--------> Computing score matrix for mix10_seed145080\n",
      "--------> Computing score matrix for mix11_seed407754\n",
      "--------> Computing score matrix for mix12_seed554097\n",
      "--------> Computing score matrix for mix13_seed724851\n",
      "--------> Computing score matrix for mix14_seed733125\n",
      "--------> Computing score matrix for mix15_seed459283\n",
      "--------> Computing score matrix for mix16_seed57329\n",
      "--------> Computing score matrix for mix17_seed904203\n",
      "--------> Computing score matrix for mix18_seed86761\n",
      "--------> Computing score matrix for mix19_seed606407\n",
      "\n",
      "\n",
      "--> E001NEUTRO_E1998CD4_E1998CD8_E1998B_E1998NK_E1998MONO\n",
      "--------> Computing score matrix for mix0_seed604775\n",
      "--------> Computing score matrix for mix1_seed825249\n",
      "--------> Computing score matrix for mix2_seed724519\n",
      "--------> Computing score matrix for mix3_seed479193\n",
      "--------> Computing score matrix for mix4_seed59330\n",
      "--------> Computing score matrix for mix5_seed193666\n",
      "--------> Computing score matrix for mix6_seed351974\n",
      "--------> Computing score matrix for mix7_seed563873\n",
      "--------> Computing score matrix for mix8_seed461717\n",
      "--------> Computing score matrix for mix9_seed438910\n",
      "--------> Computing score matrix for mix10_seed948891\n",
      "--------> Computing score matrix for mix11_seed81396\n",
      "--------> Computing score matrix for mix12_seed104664\n",
      "--------> Computing score matrix for mix13_seed358613\n",
      "--------> Computing score matrix for mix14_seed533835\n",
      "--------> Computing score matrix for mix15_seed472244\n",
      "--------> Computing score matrix for mix16_seed729872\n",
      "--------> Computing score matrix for mix17_seed163172\n",
      "--------> Computing score matrix for mix18_seed596686\n",
      "--------> Computing score matrix for mix19_seed186036\n",
      "\n",
      "\n",
      "--> ENEUTRO_E2CD4_E2CD8_E2B_E2NK_E2MONO\n",
      "--------> Computing score matrix for mix0_seed293516\n",
      "--------> Computing score matrix for mix1_seed31113\n",
      "--------> Computing score matrix for mix2_seed438495\n",
      "--------> Computing score matrix for mix3_seed958484\n",
      "--------> Computing score matrix for mix4_seed986699\n",
      "--------> Computing score matrix for mix5_seed735627\n",
      "--------> Computing score matrix for mix6_seed396553\n",
      "--------> Computing score matrix for mix7_seed984963\n",
      "--------> Computing score matrix for mix8_seed494783\n",
      "--------> Computing score matrix for mix9_seed812978\n",
      "--------> Computing score matrix for mix10_seed944104\n",
      "--------> Computing score matrix for mix11_seed223345\n",
      "--------> Computing score matrix for mix12_seed25212\n",
      "--------> Computing score matrix for mix13_seed26652\n",
      "--------> Computing score matrix for mix14_seed174018\n",
      "--------> Computing score matrix for mix15_seed943683\n",
      "--------> Computing score matrix for mix16_seed217777\n",
      "--------> Computing score matrix for mix17_seed329484\n",
      "--------> Computing score matrix for mix18_seed673924\n",
      "--------> Computing score matrix for mix19_seed354951\n",
      "\n",
      "\n",
      ">>> Complete. <<< \n",
      "\n",
      "CPU times: user 16.3 s, sys: 1.38 s, total: 17.6 s\n",
      "Wall time: 51min 1s\n"
     ]
    }
   ],
   "source": [
    "%%time\n",
    "\n",
    "PAT_COLS = [\n",
    "    'molecule_id', 'chr', 'number_molecules',\n",
    "    'cpg_index_min', 'cpg_index_max', 'pat_string', 'region_id', 'region_cpg_index_min', 'region_cpg_index_max'\n",
    "]\n",
    "\n",
    "QUANTILES = [0.1, 0.25, 0.75, 0.9]\n",
    "KMERS = [1, 3, 4]\n",
    "RATES_LEQ = [0.25]\n",
    "RATES_GEQ = [0.75]\n",
    "\n",
    "RETURN_SCHEMA = StructType()\\\n",
    "    .add('region_id', 'string')\\\n",
    "    .add('number_molecules', 'integer')\\\n",
    "    .add('meth_k1', 'integer')\\\n",
    "    .add('unmeth_k1', 'integer')\\\n",
    "    .add('total_k1', 'integer')\\\n",
    "    .add('meth_k3', 'integer')\\\n",
    "    .add('unmeth_k3', 'integer')\\\n",
    "    .add('total_k3', 'integer')\\\n",
    "    .add('meth_k4', 'integer')\\\n",
    "    .add('unmeth_k4', 'integer')\\\n",
    "    .add('total_k4', 'integer')\\\n",
    "    .add('frac_alpha_leq_25pct', 'float')\\\n",
    "    .add('frac_alpha_geq_75pct', 'float')\n",
    "\n",
    "compute_frag_scores_udf = sm.compute_frag_scores(cpg_number_cutoff=FILTER_CG_COUNT, schema=RETURN_SCHEMA, kmers=KMERS, rates_leq=RATES_LEQ, rates_geq=RATES_GEQ)\n",
    "\n",
    "\n",
    "# compute methyl score for are parquet files\n",
    "sm.score_matrix_from_mixture_directory(path_to_mixture_dir = PATH_TO_MIXTURE_DIR, \n",
    "                                       result_path = RESULT_PATH, \n",
    "                                       pat_cols = PAT_COLS, \n",
    "                                       region_df = region_df, \n",
    "                                       batch_size = 20, \n",
    "                                       schema = RETURN_SCHEMA, \n",
    "                                       spark=spark,\n",
    "                                       compute_frag_scores_udf=compute_frag_scores_udf,\n",
    "                                       save=True, \n",
    "                                       verbose=False)"
   ]
  },
  {
   "cell_type": "markdown",
   "id": "9d03d9b7",
   "metadata": {
    "papermill": {
     "duration": 0.030666,
     "end_time": "2023-08-01T00:32:32.834060",
     "exception": false,
     "start_time": "2023-08-01T00:32:32.803394",
     "status": "completed"
    },
    "tags": []
   },
   "source": [
    "## Deconvolution"
   ]
  },
  {
   "cell_type": "code",
   "execution_count": 10,
   "id": "cdb98f6c",
   "metadata": {
    "papermill": {
     "duration": 0.035178,
     "end_time": "2023-08-01T00:32:32.899282",
     "exception": false,
     "start_time": "2023-08-01T00:32:32.864104",
     "status": "completed"
    },
    "tags": []
   },
   "outputs": [],
   "source": [
    "############################\n",
    "#   Parameters and paths   # \n",
    "############################\n",
    "\n",
    "FILTER_COV = 20\n",
    "\n",
    "SCORE_VAR = 'frac_alpha_leq_25pct'\n",
    "\n",
    "# Reference matrix\n",
    "ATLAS_PATH = PROJECT_DIR + 'output/reference/deconv_inhouse_v2.atlas.tsv.gz'\n",
    "REGION_PATH = PROJECT_DIR + 'output/reference/deconv_inhouse_v2.region_to_ref_celltype.tsv.gz'\n",
    "\n",
    "# Methylation score matrix\n",
    "SCORE_DIR = EXPERIMENT_CELLTYPE_DIR + 'methyl_score/'\n"
   ]
  },
  {
   "cell_type": "code",
   "execution_count": 11,
   "id": "151e9f2a",
   "metadata": {
    "papermill": {
     "duration": 0.042232,
     "end_time": "2023-08-01T00:32:32.972279",
     "exception": false,
     "start_time": "2023-08-01T00:32:32.930047",
     "status": "completed"
    },
    "tags": []
   },
   "outputs": [
    {
     "data": {
      "text/plain": [
       "(280, 9)"
      ]
     },
     "execution_count": 11,
     "metadata": {},
     "output_type": "execute_result"
    }
   ],
   "source": [
    "atlas = pd.read_csv(ATLAS_PATH, sep='\\t',index_col=None)\n",
    "atlas = atlas.set_index('region_id')\n",
    "atlas.columns.name = 'ref_celltype'\n",
    "atlas.shape\n",
    "\n",
    "ref_region_df = pd.read_csv(REGION_PATH, sep='\\t')\n",
    "\n",
    "atlas = atlas.loc[ref_region_df['region_id'], :].copy()\n",
    "atlas.shape"
   ]
  },
  {
   "cell_type": "code",
   "execution_count": 20,
   "id": "76e6119b",
   "metadata": {
    "execution": {
     "iopub.execute_input": "2023-08-01T00:32:33.033753Z",
     "iopub.status.busy": "2023-08-01T00:32:33.033523Z",
     "iopub.status.idle": "2023-08-01T00:32:37.498402Z",
     "shell.execute_reply": "2023-08-01T00:32:37.497843Z"
    },
    "papermill": {
     "duration": 4.497249,
     "end_time": "2023-08-01T00:32:37.499682",
     "exception": false,
     "start_time": "2023-08-01T00:32:33.002433",
     "status": "completed"
    },
    "tags": []
   },
   "outputs": [
    {
     "name": "stdout",
     "output_type": "stream",
     "text": [
      "CPU times: user 4.46 s, sys: 6.18 ms, total: 4.46 s\n",
      "Wall time: 4.46 s\n"
     ]
    }
   ],
   "source": [
    "%%time\n",
    "\n",
    "deconvolution_nnls = dcnv.compute_deconvolution_from_methyl_score_dir_nnls(path_to_methyl_score_dir=SCORE_DIR, \n",
    "                                                                          score_type=SCORE_VAR, \n",
    "                                                                          atlas=atlas, \n",
    "                                                                          match=False)\n",
    "\n",
    "deconvolution_naive = dcnv.compute_deconvolution_from_methyl_score_dir_naive(path_to_methyl_score_dir=SCORE_DIR, \n",
    "                                                                             filter_cov=FILTER_COV, \n",
    "                                                                             score_var=SCORE_VAR, \n",
    "                                                                             ref_region_df=ref_region_df)\n"
   ]
  },
  {
   "cell_type": "code",
   "execution_count": 24,
   "id": "a6ce661f-f62c-487b-9e1e-425664a4623a",
   "metadata": {
    "tags": []
   },
   "outputs": [],
   "source": [
    "#SCORE_DIR = EXPERIMENT_CELLTYPE_DIR + 'methyl_score/'\n",
    "testing = '/analysis/gh-msun/projects/2023_06_26_SRT_deconvolution_MS/output/experiment/primary_immune/Blueprint-Mono-wholeblood/methyl_score/E2MONO_E1407CD4_E0615CD8_E0527B_E044NK_E5011NEUTRO/mix0_seed419876.tsv.gz'\n"
   ]
  },
  {
   "cell_type": "code",
   "execution_count": null,
   "id": "7acd2b39-6047-47fa-b7d9-e6039f974649",
   "metadata": {},
   "outputs": [],
   "source": [
    "'E2MONO_E1407CD4_E0615CD8_E0527B_E044NK_E5011NEUTRO'\n",
    "# Mono 20\n",
    "# CD4 14.7\n",
    "# CD8 6.15\n",
    "# B   5\n",
    "# NK 4.4\n",
    "# neutro 50"
   ]
  },
  {
   "cell_type": "code",
   "execution_count": 32,
   "id": "51b6c454-f1c7-42c9-bb82-0e5b45411b1f",
   "metadata": {
    "tags": []
   },
   "outputs": [
    {
     "name": "stdout",
     "output_type": "stream",
     "text": [
      "Dropped: 0 regions.\n"
     ]
    },
    {
     "data": {
      "text/plain": [
       "ref_celltype\n",
       "immune_b                            0.053139\n",
       "immune_t                            0.196661\n",
       "immune_nk                           0.044128\n",
       "immune_dend_plus_macro_plus_mono    0.212154\n",
       "immune_eosi                         0.000000\n",
       "immune_neutro                       0.484664\n",
       "immune_eryth                        0.000000\n",
       "immune_mega                         0.000000\n",
       "eryth_prog                          0.000000\n",
       "dtype: float64"
      ]
     },
     "execution_count": 32,
     "metadata": {},
     "output_type": "execute_result"
    }
   ],
   "source": [
    "dcnv.compute_deconvolution_nnls(score_df_path=testing , score_type=SCORE_VAR, atlas=atlas, match=True)"
   ]
  },
  {
   "cell_type": "code",
   "execution_count": 34,
   "id": "311ccb76-ebc7-4b45-b6aa-907738430f21",
   "metadata": {
    "tags": []
   },
   "outputs": [
    {
     "data": {
      "text/plain": [
       "ref_celltype\n",
       "eryth_prog                          0.003767\n",
       "immune_b                            0.055227\n",
       "immune_dend_plus_macro_plus_mono    0.168240\n",
       "immune_eosi                         0.011856\n",
       "immune_eryth                        0.003805\n",
       "immune_mega                         0.007631\n",
       "immune_neutro                       0.422359\n",
       "immune_nk                           0.051355\n",
       "immune_t                            0.176420\n",
       "Name: coeff, dtype: float64"
      ]
     },
     "execution_count": 34,
     "metadata": {},
     "output_type": "execute_result"
    }
   ],
   "source": [
    "dcnv.compute_deconvolution_naive(score_df_path=testing, filter_cov=0, score_var=SCORE_VAR, ref_region_df=ref_region_df)"
   ]
  },
  {
   "cell_type": "code",
   "execution_count": 21,
   "id": "50bcac90",
   "metadata": {
    "execution": {
     "iopub.execute_input": "2023-08-01T00:32:37.563411Z",
     "iopub.status.busy": "2023-08-01T00:32:37.563181Z",
     "iopub.status.idle": "2023-08-01T00:32:37.893763Z",
     "shell.execute_reply": "2023-08-01T00:32:37.893276Z"
    },
    "papermill": {
     "duration": 0.363683,
     "end_time": "2023-08-01T00:32:37.895226",
     "exception": false,
     "start_time": "2023-08-01T00:32:37.531543",
     "status": "completed"
    },
    "tags": []
   },
   "outputs": [
    {
     "data": {
      "image/png": "[encoded data removed]",
      "text/plain": [
       "<Figure size 864x576 with 1 Axes>"
      ]
     },
     "metadata": {
      "needs_background": "light"
     },
     "output_type": "display_data"
    }
   ],
   "source": [
    "dcnv.boxplot_titration(list_of_deconvolution_dfs=deconvolution_naive,\n",
    "                      cell_type=TITRATING_CELLTYPE_ATLAS,\n",
    "                      true_proportions=TITRATION_LIST,\n",
    "                      deconvolution_method_name='naive'\n",
    "                      )"
   ]
  },
  {
   "cell_type": "code",
   "execution_count": 22,
   "id": "26704bf0",
   "metadata": {
    "execution": {
     "iopub.execute_input": "2023-08-01T00:32:37.960078Z",
     "iopub.status.busy": "2023-08-01T00:32:37.959829Z",
     "iopub.status.idle": "2023-08-01T00:32:38.271861Z",
     "shell.execute_reply": "2023-08-01T00:32:38.271397Z"
    },
    "papermill": {
     "duration": 0.345433,
     "end_time": "2023-08-01T00:32:38.273017",
     "exception": false,
     "start_time": "2023-08-01T00:32:37.927584",
     "status": "completed"
    },
    "tags": []
   },
   "outputs": [
    {
     "data": {
      "image/png": "[encoded data removed]",
      "text/plain": [
       "<Figure size 864x576 with 1 Axes>"
      ]
     },
     "metadata": {
      "needs_background": "light"
     },
     "output_type": "display_data"
    }
   ],
   "source": [
    "dcnv.boxplot_titration(list_of_deconvolution_dfs=deconvolution_nnls,\n",
    "                      cell_type=TITRATING_CELLTYPE_ATLAS,\n",
    "                      true_proportions=TITRATION_LIST,\n",
    "                      deconvolution_method_name='nnls'\n",
    "                      )"
   ]
  },
  {
   "cell_type": "code",
   "execution_count": 23,
   "id": "52f9e64f",
   "metadata": {
    "execution": {
     "iopub.execute_input": "2023-08-01T00:32:38.338169Z",
     "iopub.status.busy": "2023-08-01T00:32:38.337927Z",
     "iopub.status.idle": "2023-08-01T00:32:39.398644Z",
     "shell.execute_reply": "2023-08-01T00:32:39.398115Z"
    },
    "papermill": {
     "duration": 1.095278,
     "end_time": "2023-08-01T00:32:39.400535",
     "exception": false,
     "start_time": "2023-08-01T00:32:38.305257",
     "status": "completed"
    },
    "tags": []
   },
   "outputs": [
    {
     "data": {
      "image/png": "[encoded data removed]",
      "text/plain": [
       "<Figure size 720x720 with 14 Axes>"
      ]
     },
     "metadata": {
      "needs_background": "light"
     },
     "output_type": "display_data"
    }
   ],
   "source": [
    "\n",
    "dcnv.boxplot_titration_zoom(list_of_deconvolution_dfs=deconvolution_naive,\n",
    "                      cell_type=TITRATING_CELLTYPE_ATLAS,\n",
    "                      true_proportions=TITRATION_LIST,\n",
    "                      deconvolution_method_name='naive'\n",
    "                      )"
   ]
  },
  {
   "cell_type": "code",
   "execution_count": 24,
   "id": "c07e0717",
   "metadata": {
    "execution": {
     "iopub.execute_input": "2023-08-01T00:32:39.468100Z",
     "iopub.status.busy": "2023-08-01T00:32:39.467869Z",
     "iopub.status.idle": "2023-08-01T00:32:40.465781Z",
     "shell.execute_reply": "2023-08-01T00:32:40.465262Z"
    },
    "papermill": {
     "duration": 1.033346,
     "end_time": "2023-08-01T00:32:40.467938",
     "exception": false,
     "start_time": "2023-08-01T00:32:39.434592",
     "status": "completed"
    },
    "tags": []
   },
   "outputs": [
    {
     "data": {
      "image/png": "[encoded data removed]",
      "text/plain": [
       "<Figure size 720x720 with 14 Axes>"
      ]
     },
     "metadata": {
      "needs_background": "light"
     },
     "output_type": "display_data"
    }
   ],
   "source": [
    "\n",
    "dcnv.boxplot_titration_zoom(list_of_deconvolution_dfs=deconvolution_nnls,\n",
    "                      cell_type=TITRATING_CELLTYPE_ATLAS,\n",
    "                      true_proportions=TITRATION_LIST,\n",
    "                      deconvolution_method_name='nnls'\n",
    "                      )"
   ]
  },
  {
   "cell_type": "code",
   "execution_count": null,
   "id": "d8ff79ac",
   "metadata": {
    "papermill": {
     "duration": 0.034396,
     "end_time": "2023-08-01T00:32:40.537240",
     "exception": false,
     "start_time": "2023-08-01T00:32:40.502844",
     "status": "completed"
    },
    "tags": []
   },
   "outputs": [],
   "source": []
  },
  {
   "cell_type": "code",
   "execution_count": null,
   "id": "ca10b9f4",
   "metadata": {
    "papermill": {
     "duration": 0.033082,
     "end_time": "2023-08-01T00:32:40.603817",
     "exception": false,
     "start_time": "2023-08-01T00:32:40.570735",
     "status": "completed"
    },
    "tags": []
   },
   "outputs": [],
   "source": []
  }
 ],
 "metadata": {
  "kernelspec": {
   "display_name": "Python 3",
   "language": "python",
   "name": "python3"
  },
  "language_info": {
   "codemirror_mode": {
    "name": "ipython",
    "version": 3
   },
   "file_extension": ".py",
   "mimetype": "text/x-python",
   "name": "python",
   "nbconvert_exporter": "python",
   "pygments_lexer": "ipython3",
   "version": "3.7.8"
  },
  "papermill": {
   "default_parameters": {},
   "duration": 4685.26811,
   "end_time": "2023-08-01T00:32:42.166692",
   "environment_variables": {},
   "exception": null,
   "input_path": "/analysis/gh-msun/projects/2023_06_26_SRT_deconvolution_MS//notebooks/titration/02_titration_experiment.ipynb",
   "output_path": "/analysis/gh-msun/projects/2023_06_26_SRT_deconvolution_MS//notebooks/titration/primary_immune_uniform/titration_NEUTRO.ipynb",
   "parameters": {
    "ABRIDGED_NAMES": [
     "CD4",
     "CD8",
     "B",
     "NK",
     "MONO",
     "NEUTRO"
    ],
    "BACKGROUND": "uniform",
    "CELLTYPES": [
     "Blueprint-CD4",
     "Blueprint-CD8",
     "Blueprint-B",
     "Blueprint-NK",
     "Blueprint-Mono",
     "Blueprint-Neutro"
    ],
    "EXPERIMENT": "primary_immune",
    "N_REPLICATES": 20,
    "PROJECT_SLUG": "2023_06_26_SRT_deconvolution_MS",
    "ROOT_DIR": "/analysis/gh-msun/",
    "SEED": 520710,
    "TITRATING_CELLTYPE": "Blueprint-Neutro",
    "TITRATING_CELLTYPE_ATLAS": "immune_neutro",
    "TITRATION_LIST": [
     0.2,
     0.15,
     0.1,
     0.08,
     0.06,
     0.04,
     0.02,
     0.01,
     0.008,
     0.006,
     0.004,
     0.002,
     0.001,
     0
    ],
    "TOTAL_READS_TO_SAMPLE": 1000000,
    "WHOLE_BLOOD_ABUNDANCE": {
     "Blueprint-B": 0.06,
     "Blueprint-CD4": 0.16,
     "Blueprint-CD8": 0.07,
     "Blueprint-Mono": 0.09,
     "Blueprint-NK": 0.05,
     "Blueprint-Neutro": 0.57
    }
   },
   "start_time": "2023-07-31T23:14:36.898582",
   "version": "2.4.0"
  }
 },
 "nbformat": 4,
 "nbformat_minor": 5
}
