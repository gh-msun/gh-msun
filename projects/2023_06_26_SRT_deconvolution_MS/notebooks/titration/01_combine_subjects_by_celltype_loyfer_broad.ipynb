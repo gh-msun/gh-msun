{
 "cells": [
  {
   "cell_type": "markdown",
   "metadata": {},
   "source": [
    "Notebook for taking raw parquet file reads and subsetting to regions of interest \\\n",
    "and collapsing samples by cell type. This notebook outputs parquet files by celltype."
   ]
  },
  {
   "cell_type": "markdown",
   "metadata": {},
   "source": [
    "# LOYFER"
   ]
  },
  {
   "cell_type": "code",
   "execution_count": 1,
   "metadata": {},
   "outputs": [],
   "source": [
    "import pandas as pd\n",
    "import glob\n",
    "import numpy as np\n",
    "import itertools\n",
    "import functools\n",
    "import os\n",
    "import regex as re\n",
    "import seaborn as sns\n",
    "import matplotlib.pyplot as plt\n",
    "\n",
    "from pyspark.sql import SparkSession\n",
    "from pyspark import SparkConf, SparkContext\n",
    "from pyspark.sql.types import IntegerType, LongType, ArrayType, StringType, DoubleType\n",
    "from pyspark.sql.functions import udf, explode, broadcast, count, lit, length, col, expr\n",
    "from pyspark.sql import DataFrame\n",
    "from pyspark.sql.types import StructType\n",
    "\n",
    "pd.set_option('display.max_rows', 500)\n",
    "pd.set_option('display.max_columns', 500)\n",
    "pd.set_option('display.width', 1000)\n",
    "\n"
   ]
  },
  {
   "cell_type": "code",
   "execution_count": 2,
   "metadata": {},
   "outputs": [],
   "source": [
    "#--- Local paths\n",
    "ROOT_DIR = '/analysis/gh-msun/projects'\n",
    "PROJECT_SLUG = '2023_06_26_SRT_deconvolution_MS'\n",
    "PROJECT_DIR = ROOT_DIR + f'/{PROJECT_SLUG}'\n",
    "DATA_DIR = ROOT_DIR + f'/{PROJECT_SLUG}' + '/stage'\n",
    "SAMPLE_PATH = DATA_DIR + '/metadata/samples_wgbs.20230329.tsv'\n",
    "\n",
    "#--- parquet\n",
    "PARQUET_PATH_LIST_HG38 = [\n",
    "   #  '/analysis/data/hg38_20160816.pat.db_version.parquet'\n",
    "    '/analysis/data/GSE186458_hg19.pat.parquet'\n",
    "]\n",
    "\n",
    "#--- regions\n",
    "REGIONS = 'deconvolution_v2.v23_conv.with_cpg_index'\n",
    "\n",
    "REGION_BED_COLS = [\n",
    "    'region_chr', 'region_start', 'region_end', \n",
    "    'region_cpg_index_min', 'region_cpg_index_max', 'region_id'\n",
    "]\n",
    "\n",
    "REGION_PATH = (\n",
    "    PROJECT_DIR + '/stage/panel_data/{regions}.bed'\n",
    ").format(regions=REGIONS)\n",
    "\n",
    "# CpG map; genomic coordinate to CpG index;\n",
    "CPG_MAP_PATH = PROJECT_DIR + '/stage/cpg_loci/cpg_loci_hg19.combined_annot.tsv.gz'\n",
    "\n",
    "#-- output\n",
    "RESULTS_PATH='/analysis/gh-msun/projects/2023_06_26_SRT_deconvolution_MS/output/mixture_source/'"
   ]
  },
  {
   "cell_type": "markdown",
   "metadata": {},
   "source": [
    "# Subset parquets to regions of interest"
   ]
  },
  {
   "cell_type": "markdown",
   "metadata": {},
   "source": [
    "### Load regions we want to subset\n",
    "Load regions of interest to subset. e.g. The ATLAS dataframe contains BLUEPRINT immune regions only. The regions we want to subset to should be represented as a set of region id called `subset_region_set`"
   ]
  },
  {
   "cell_type": "code",
   "execution_count": 9,
   "metadata": {},
   "outputs": [],
   "source": [
    "# #-------------- CHANGE HERE FOR DIFFERENT REGION SUBSET ----------------------\n",
    "# # BLUEPRINT immune regions\n",
    "# ATLAS_PATH = PROJECT_DIR + f'/output/deconv_inhouse_v2.atlas.tsv.gz'\n",
    "# atlas = pd.read_csv(ATLAS_PATH, sep='\\t')\n",
    "# subset_region_set = set(atlas.region_id)\n",
    "# #-----------------------------------------------------------------------------\n",
    "\n",
    "# # filter regions down to regions of interest\n",
    "# region_df = pd.read_csv(REGION_PATH, sep='\\t', usecols=range(0, 6), names=REGION_BED_COLS)\n",
    "# region_df_subset = region_df[region_df['region_id'].isin(subset_region_set)]\n",
    "# region_df_subset.shape\n"
   ]
  },
  {
   "cell_type": "code",
   "execution_count": 10,
   "metadata": {
    "tags": []
   },
   "outputs": [],
   "source": [
    "# cpg_map.head()"
   ]
  },
  {
   "cell_type": "code",
   "execution_count": 11,
   "metadata": {},
   "outputs": [],
   "source": [
    "# %%time\n",
    "# cpg_map = pd.read_csv(CPG_MAP_PATH, usecols=['chr', 'start', 'end', 'cpg_index', 'cpg_index_hg38'], sep='\\t')\n",
    "# ridxs = ~cpg_map['cpg_index_hg38'].isna()\n",
    "# hg19_hg38_map = dict(itertools.zip_longest(cpg_map[ridxs]['cpg_index'], cpg_map[ridxs]['cpg_index_hg38'].astype(int)))\n",
    "# hg38_hg19_map = dict(itertools.zip_longest(cpg_map[ridxs]['cpg_index_hg38'].astype(int), cpg_map[ridxs]['cpg_index']))"
   ]
  },
  {
   "cell_type": "code",
   "execution_count": 12,
   "metadata": {},
   "outputs": [
    {
     "data": {
      "text/plain": [
       "(1658, 6)"
      ]
     },
     "execution_count": 12,
     "metadata": {},
     "output_type": "execute_result"
    }
   ],
   "source": [
    "region_df = pd.read_csv(REGION_PATH, sep='\\t', usecols=range(0, 6), names=REGION_BED_COLS)\n",
    "region_df.shape"
   ]
  },
  {
   "cell_type": "code",
   "execution_count": 13,
   "metadata": {},
   "outputs": [
    {
     "data": {
      "text/html": [
       "<div>\n",
       "<style scoped>\n",
       "    .dataframe tbody tr th:only-of-type {\n",
       "        vertical-align: middle;\n",
       "    }\n",
       "\n",
       "    .dataframe tbody tr th {\n",
       "        vertical-align: top;\n",
       "    }\n",
       "\n",
       "    .dataframe thead th {\n",
       "        text-align: right;\n",
       "    }\n",
       "</style>\n",
       "<table border=\"1\" class=\"dataframe\">\n",
       "  <thead>\n",
       "    <tr style=\"text-align: right;\">\n",
       "      <th></th>\n",
       "      <th>region_chr</th>\n",
       "      <th>region_start</th>\n",
       "      <th>region_end</th>\n",
       "      <th>region_cpg_index_min</th>\n",
       "      <th>region_cpg_index_max</th>\n",
       "      <th>region_id</th>\n",
       "    </tr>\n",
       "  </thead>\n",
       "  <tbody>\n",
       "    <tr>\n",
       "      <th>0</th>\n",
       "      <td>chr1</td>\n",
       "      <td>1114771</td>\n",
       "      <td>1114971</td>\n",
       "      <td>20117</td>\n",
       "      <td>20130</td>\n",
       "      <td>Immune_Broad_B-chr1:1114772-1114971</td>\n",
       "    </tr>\n",
       "    <tr>\n",
       "      <th>1</th>\n",
       "      <td>chr1</td>\n",
       "      <td>1157450</td>\n",
       "      <td>1157720</td>\n",
       "      <td>21684</td>\n",
       "      <td>21704</td>\n",
       "      <td>Immune_Broad_NK-chr1:1157451-1157720</td>\n",
       "    </tr>\n",
       "    <tr>\n",
       "      <th>2</th>\n",
       "      <td>chr1</td>\n",
       "      <td>1157879</td>\n",
       "      <td>1158277</td>\n",
       "      <td>21710</td>\n",
       "      <td>21727</td>\n",
       "      <td>Immune_Broad_NK-chr1:1157880-1158277</td>\n",
       "    </tr>\n",
       "    <tr>\n",
       "      <th>3</th>\n",
       "      <td>chr1</td>\n",
       "      <td>1652503</td>\n",
       "      <td>1652793</td>\n",
       "      <td>41590</td>\n",
       "      <td>41599</td>\n",
       "      <td>Loyfer2022_Preprint_Colon-Ep:Gastric-Ep:Small-...</td>\n",
       "    </tr>\n",
       "    <tr>\n",
       "      <th>4</th>\n",
       "      <td>chr1</td>\n",
       "      <td>1849567</td>\n",
       "      <td>1849674</td>\n",
       "      <td>46692</td>\n",
       "      <td>46698</td>\n",
       "      <td>Pancreas_Acinar-chr1:1849568-1849674</td>\n",
       "    </tr>\n",
       "  </tbody>\n",
       "</table>\n",
       "</div>"
      ],
      "text/plain": [
       "  region_chr  region_start  region_end  region_cpg_index_min  region_cpg_index_max                                          region_id\n",
       "0       chr1       1114771     1114971                 20117                 20130                Immune_Broad_B-chr1:1114772-1114971\n",
       "1       chr1       1157450     1157720                 21684                 21704               Immune_Broad_NK-chr1:1157451-1157720\n",
       "2       chr1       1157879     1158277                 21710                 21727               Immune_Broad_NK-chr1:1157880-1158277\n",
       "3       chr1       1652503     1652793                 41590                 41599  Loyfer2022_Preprint_Colon-Ep:Gastric-Ep:Small-...\n",
       "4       chr1       1849567     1849674                 46692                 46698               Pancreas_Acinar-chr1:1849568-1849674"
      ]
     },
     "execution_count": 13,
     "metadata": {},
     "output_type": "execute_result"
    }
   ],
   "source": [
    "region_df.head()"
   ]
  },
  {
   "cell_type": "code",
   "execution_count": 14,
   "metadata": {},
   "outputs": [],
   "source": [
    "# %%time\n",
    "# region_df['region_cpg_index_max'] -= 1\n",
    "# region_df.sort_values('region_cpg_index_min', inplace=True)\n",
    "# region_df['region_cpg_index_min'] = region_df['region_cpg_index_min'].map(hg19_hg38_map)\n",
    "# region_df['region_cpg_index_max'] = region_df['region_cpg_index_max'].map(hg19_hg38_map)\n",
    "\n",
    "# region_df.shape[0], region_df['region_id'].nunique()"
   ]
  },
  {
   "cell_type": "markdown",
   "metadata": {},
   "source": [
    "### Load parquet file as a pyspark dataframe"
   ]
  },
  {
   "cell_type": "code",
   "execution_count": 15,
   "metadata": {},
   "outputs": [
    {
     "name": "stderr",
     "output_type": "stream",
     "text": [
      "/home/ec2-user/mambaforge/envs/2023_06_26_SRT_deconvolution_MS/lib/python3.7/site-packages/pyspark/context.py:317: FutureWarning: Python 3.7 support is deprecated in Spark 3.4.\n",
      "  warnings.warn(\"Python 3.7 support is deprecated in Spark 3.4.\", FutureWarning)\n"
     ]
    }
   ],
   "source": [
    "# UPDATE HOME!\n",
    "os.environ[\"SPARK_HOME\"] = \"/home/ec2-user/mambaforge/envs/2023_06_26_SRT_deconvolution_MS/lib/python3.7/site-packages/pyspark\"\n",
    "# THIS needs to be set-up before running the notebook\n",
    "os.environ[\"SPARK_LOCAL_DIRS\"] = \"/temp\"\n",
    "os.environ[\"PYARROW_IGNORE_TIMEZONE\"] = \"1\"\n",
    "\n",
    "spark_conf = SparkConf()\n",
    "spark_conf.set(\"spark.ui.showConsoleProgress\", \"True\")\n",
    "spark_conf.set(\"spark.executor.instances\", \"2\")\n",
    "spark_conf.set(\"spark.executor.cores\", \"2\")\n",
    "spark_conf.set(\"spark.executor.memory\", \"16g\")\n",
    "spark_conf.set(\"spark.driver.memory\", \"64g\")\n",
    "spark_conf.set(\"spark.driver.maxResultSize\", \"32g\")\n",
    "spark_conf.set(\"spark.parquet.filterPushdown\", \"true\")\n",
    "spark_conf.set(\"spark.local.dir\", \"/temp\")\n",
    "spark_conf.getAll()\n",
    "\n",
    "sc = SparkContext(conf=spark_conf)\n",
    "sc.setLogLevel(\"ERROR\")\n",
    "spark = SparkSession(sc)"
   ]
  },
  {
   "cell_type": "code",
   "execution_count": 16,
   "metadata": {},
   "outputs": [],
   "source": [
    "PAT_COLS = [\n",
    "    'sample_id', 'molecule_id', 'chr', 'number_molecules',\n",
    "    'cpg_index_min', 'cpg_index_max', 'pat_string'\n",
    "]"
   ]
  },
  {
   "cell_type": "code",
   "execution_count": 17,
   "metadata": {},
   "outputs": [
    {
     "name": "stdout",
     "output_type": "stream",
     "text": [
      "root\n",
      " |-- sample_id: string (nullable = true)\n",
      " |-- molecule_id: long (nullable = true)\n",
      " |-- chr: string (nullable = true)\n",
      " |-- number_molecules: integer (nullable = true)\n",
      " |-- cpg_index_min: long (nullable = true)\n",
      " |-- cpg_index_max: long (nullable = true)\n",
      " |-- pat_string: string (nullable = true)\n",
      "\n"
     ]
    }
   ],
   "source": [
    "pat_parquet_files = [spark.read.parquet(ifile).select(*PAT_COLS) for ifile in PARQUET_PATH_LIST_HG38]\n",
    "pat_hg38_ddf = functools.reduce(DataFrame.unionByName, pat_parquet_files)\n",
    "pat_hg38_ddf.printSchema()"
   ]
  },
  {
   "cell_type": "code",
   "execution_count": 18,
   "metadata": {
    "tags": []
   },
   "outputs": [
    {
     "name": "stdout",
     "output_type": "stream",
     "text": [
      "+----------+-----------+----+----------------+-------------+-------------+----------------+\n",
      "| sample_id|molecule_id| chr|number_molecules|cpg_index_min|cpg_index_max|      pat_string|\n",
      "+----------+-----------+----+----------------+-------------+-------------+----------------+\n",
      "|GSM5652340|          0|chr1|               1|            1|            9|       CCCCCCCCC|\n",
      "|GSM5652266|          0|chr1|               1|            1|            6|          CCCCCC|\n",
      "|GSM5652340|          1|chr1|               4|            1|           13|   CCCCCCCCCCCCC|\n",
      "|GSM5652266|          1|chr1|               1|            1|            8|        CCCCCCCC|\n",
      "|GSM5652340|          2|chr1|               2|            1|           16|CCCCCCCCCCCCCCCC|\n",
      "+----------+-----------+----+----------------+-------------+-------------+----------------+\n",
      "only showing top 5 rows\n",
      "\n"
     ]
    }
   ],
   "source": [
    "pat_hg38_ddf.show(5)"
   ]
  },
  {
   "cell_type": "code",
   "execution_count": 19,
   "metadata": {},
   "outputs": [],
   "source": [
    "# # check for duplicate molecules\n",
    "# pat_hg38_ddf.count()\n",
    "# pat_hg38_ddf.filter(col(\"number_molecules\") == 1).count()\n",
    "# pat_hg38_ddf.filter(col(\"number_molecules\") > 1).count()"
   ]
  },
  {
   "cell_type": "markdown",
   "metadata": {},
   "source": [
    "### Create a dataframe of reads that fall in the subsetted regions"
   ]
  },
  {
   "cell_type": "code",
   "execution_count": 20,
   "metadata": {},
   "outputs": [
    {
     "name": "stdout",
     "output_type": "stream",
     "text": [
      "---> Processing batch 0...\n",
      "---> Processing batch 1...\n",
      "---> Processing batch 2...\n",
      "---> Processing batch 3...\n",
      "---> Processing batch 4...\n",
      "---> Processing batch 5...\n",
      "---> Processing batch 6...\n",
      "---> Processing batch 7...\n",
      "---> Processing batch 8...\n",
      "---> Processing batch 9...\n",
      "---> Processing batch 10...\n",
      "---> Processing batch 11...\n",
      "---> Processing batch 12...\n",
      "---> Processing batch 13...\n",
      "---> Processing batch 14...\n",
      "---> Processing batch 15...\n",
      "---> Processing batch 16...\n",
      "---> Processing batch 17...\n",
      "---> Processing batch 18...\n",
      "---> Processing batch 19...\n",
      "---> Processing batch 20...\n",
      "---> Processing batch 21...\n",
      "---> Processing batch 22...\n",
      "---> Processing batch 23...\n",
      "---> Processing batch 24...\n",
      "---> Processing batch 25...\n",
      "---> Processing batch 26...\n",
      "---> Processing batch 27...\n",
      "---> Processing batch 28...\n",
      "---> Processing batch 29...\n",
      "---> Processing batch 30...\n",
      "---> Processing batch 31...\n",
      "---> Processing batch 32...\n",
      "---> Processing batch 33...\n",
      "---> Processing batch 34...\n",
      "---> Processing batch 35...\n",
      "---> Processing batch 36...\n",
      "---> Processing batch 37...\n",
      "---> Processing batch 38...\n",
      "---> Processing batch 39...\n",
      "---> Processing batch 40...\n",
      "---> Processing batch 41...\n",
      "---> Processing batch 42...\n",
      "---> Processing batch 43...\n",
      "---> Processing batch 44...\n",
      "---> Processing batch 45...\n",
      "---> Processing batch 46...\n",
      "---> Processing batch 47...\n",
      "---> Processing batch 48...\n",
      "---> Processing batch 49...\n",
      "---> Processing batch 50...\n",
      "---> Processing batch 51...\n",
      "---> Processing batch 52...\n",
      "---> Processing batch 53...\n",
      "---> Processing batch 54...\n",
      "---> Processing batch 55...\n",
      "---> Processing batch 56...\n",
      "---> Processing batch 57...\n",
      "---> Processing batch 58...\n",
      "---> Processing batch 59...\n",
      "---> Processing batch 60...\n",
      "---> Processing batch 61...\n",
      "---> Processing batch 62...\n",
      "---> Processing batch 63...\n",
      "---> Processing batch 64...\n",
      "---> Processing batch 65...\n",
      "---> Processing batch 66...\n",
      "---> Processing batch 67...\n",
      "---> Processing batch 68...\n",
      "---> Processing batch 69...\n",
      "---> Processing batch 70...\n",
      "---> Processing batch 71...\n",
      "---> Processing batch 72...\n",
      "---> Processing batch 73...\n",
      "---> Processing batch 74...\n",
      "---> Processing batch 75...\n",
      "---> Processing batch 76...\n",
      "---> Processing batch 77...\n",
      "---> Processing batch 78...\n",
      "---> Processing batch 79...\n",
      "---> Processing batch 80...\n",
      "---> Processing batch 81...\n",
      "---> Processing batch 82...\n",
      "CPU times: user 18min 26s, sys: 2.95 s, total: 18min 29s\n",
      "Wall time: 49min 5s\n"
     ]
    }
   ],
   "source": [
    "%%time\n",
    "BATCH_SIZE = 20\n",
    "region_df['batch'] = (np.arange(region_df.shape[0])/BATCH_SIZE).astype(int)\n",
    "rv_scores = list()\n",
    "for batch, batch_region_df in region_df.groupby('batch'):\n",
    "    rv_ov = list()\n",
    "    print('---> Processing batch %i...' % batch)\n",
    "    for _, row in batch_region_df.iterrows():\n",
    "        ov_ddf = pat_hg38_ddf.filter(col('cpg_index_min')<=row['region_cpg_index_max'])\\\n",
    "            .filter(col('cpg_index_max') >= row['region_cpg_index_min'])\\\n",
    "            .withColumn('region_id', lit(row['region_id']))\\\n",
    "            .withColumn('region_cpg_index_min', lit(row['region_cpg_index_min']))\\\n",
    "            .withColumn('region_cpg_index_max', lit(row['region_cpg_index_max']))\n",
    "        rv_ov.append(ov_ddf)\n",
    "        \n",
    "    scores_df = functools.reduce(DataFrame.union, rv_ov)\n",
    "    scores_df_pandas = scores_df.toPandas()\n",
    "    scores_df_spark = spark.createDataFrame(scores_df_pandas) \n",
    "    \n",
    "    rv_scores.append(scores_df_spark)"
   ]
  },
  {
   "cell_type": "code",
   "execution_count": 21,
   "metadata": {},
   "outputs": [
    {
     "name": "stdout",
     "output_type": "stream",
     "text": [
      "CPU times: user 5.83 ms, sys: 1e+03 ns, total: 5.83 ms\n",
      "Wall time: 291 ms\n"
     ]
    }
   ],
   "source": [
    "%%time\n",
    "combined_df = functools.reduce(DataFrame.union, rv_scores)"
   ]
  },
  {
   "cell_type": "code",
   "execution_count": 22,
   "metadata": {},
   "outputs": [
    {
     "name": "stdout",
     "output_type": "stream",
     "text": [
      "+----------+-----------+----+----------------+-------------+-------------+--------------------+--------------------+--------------------+--------------------+\n",
      "| sample_id|molecule_id| chr|number_molecules|cpg_index_min|cpg_index_max|          pat_string|           region_id|region_cpg_index_min|region_cpg_index_max|\n",
      "+----------+-----------+----+----------------+-------------+-------------+--------------------+--------------------+--------------------+--------------------+\n",
      "|GSM5652266|      37267|chr1|               1|        20099|        20118|TCCCCCC.........CCCC|Immune_Broad_B-ch...|               20117|               20130|\n",
      "|GSM5652266|      37271|chr1|               1|        20101|        20118|  CCCCCCCCCCT...CCCC|Immune_Broad_B-ch...|               20117|               20130|\n",
      "|GSM5652340|      43105|chr1|               1|        20102|        20117|    CCCCCCCCCCCCCCCC|Immune_Broad_B-ch...|               20117|               20130|\n",
      "|GSM5652266|      37275|chr1|               1|        20103|        20117|     CCCCCCCCCTCTCCT|Immune_Broad_B-ch...|               20117|               20130|\n",
      "|GSM5652340|      43107|chr1|               1|        20104|        20117|      CCCCCCCCCTCCCC|Immune_Broad_B-ch...|               20117|               20130|\n",
      "+----------+-----------+----+----------------+-------------+-------------+--------------------+--------------------+--------------------+--------------------+\n",
      "only showing top 5 rows\n",
      "\n"
     ]
    }
   ],
   "source": [
    "rv_scores[0].show(5)"
   ]
  },
  {
   "cell_type": "code",
   "execution_count": 23,
   "metadata": {},
   "outputs": [
    {
     "data": {
      "text/plain": [
       "106870"
      ]
     },
     "execution_count": 23,
     "metadata": {},
     "output_type": "execute_result"
    }
   ],
   "source": [
    "rv_scores[2].filter(col(\"number_molecules\") == 1).count()"
   ]
  },
  {
   "cell_type": "markdown",
   "metadata": {},
   "source": [
    "# Create parquet file for each cell type"
   ]
  },
  {
   "cell_type": "code",
   "execution_count": 59,
   "metadata": {},
   "outputs": [
    {
     "data": {
      "text/html": [
       "<div>\n",
       "<style scoped>\n",
       "    .dataframe tbody tr th:only-of-type {\n",
       "        vertical-align: middle;\n",
       "    }\n",
       "\n",
       "    .dataframe tbody tr th {\n",
       "        vertical-align: top;\n",
       "    }\n",
       "\n",
       "    .dataframe thead th {\n",
       "        text-align: right;\n",
       "    }\n",
       "</style>\n",
       "<table border=\"1\" class=\"dataframe\">\n",
       "  <thead>\n",
       "    <tr style=\"text-align: right;\">\n",
       "      <th></th>\n",
       "      <th>sample_id</th>\n",
       "      <th>patient_id</th>\n",
       "      <th>cell_type</th>\n",
       "      <th>sample_group</th>\n",
       "      <th>age</th>\n",
       "      <th>source</th>\n",
       "      <th>stage_group</th>\n",
       "      <th>tumor_purity</th>\n",
       "    </tr>\n",
       "  </thead>\n",
       "  <tbody>\n",
       "    <tr>\n",
       "      <th>101</th>\n",
       "      <td>GSM5652277</td>\n",
       "      <td>T</td>\n",
       "      <td>T (CD3+) cells</td>\n",
       "      <td>Blood-T</td>\n",
       "      <td>56.0</td>\n",
       "      <td>blueprint_loyfer2022</td>\n",
       "      <td>NaN</td>\n",
       "      <td>NaN</td>\n",
       "    </tr>\n",
       "    <tr>\n",
       "      <th>102</th>\n",
       "      <td>GSM5652278</td>\n",
       "      <td>T</td>\n",
       "      <td>T (CD3+) cells</td>\n",
       "      <td>Blood-T</td>\n",
       "      <td>55.0</td>\n",
       "      <td>blueprint_loyfer2022</td>\n",
       "      <td>NaN</td>\n",
       "      <td>NaN</td>\n",
       "    </tr>\n",
       "    <tr>\n",
       "      <th>103</th>\n",
       "      <td>GSM5652279</td>\n",
       "      <td>T</td>\n",
       "      <td>T helper(CD4+) cells</td>\n",
       "      <td>Blood-T</td>\n",
       "      <td>56.0</td>\n",
       "      <td>blueprint_loyfer2022</td>\n",
       "      <td>NaN</td>\n",
       "      <td>NaN</td>\n",
       "    </tr>\n",
       "    <tr>\n",
       "      <th>104</th>\n",
       "      <td>GSM5652280</td>\n",
       "      <td>T</td>\n",
       "      <td>T helper(CD4+) cells</td>\n",
       "      <td>Blood-T</td>\n",
       "      <td>50.0</td>\n",
       "      <td>blueprint_loyfer2022</td>\n",
       "      <td>NaN</td>\n",
       "      <td>NaN</td>\n",
       "    </tr>\n",
       "    <tr>\n",
       "      <th>105</th>\n",
       "      <td>GSM5652281</td>\n",
       "      <td>T</td>\n",
       "      <td>T helper(CD4+) cells</td>\n",
       "      <td>Blood-T</td>\n",
       "      <td>55.0</td>\n",
       "      <td>blueprint_loyfer2022</td>\n",
       "      <td>NaN</td>\n",
       "      <td>NaN</td>\n",
       "    </tr>\n",
       "  </tbody>\n",
       "</table>\n",
       "</div>"
      ],
      "text/plain": [
       "      sample_id patient_id             cell_type sample_group   age                source stage_group  tumor_purity\n",
       "101  GSM5652277          T        T (CD3+) cells      Blood-T  56.0  blueprint_loyfer2022         NaN           NaN\n",
       "102  GSM5652278          T        T (CD3+) cells      Blood-T  55.0  blueprint_loyfer2022         NaN           NaN\n",
       "103  GSM5652279          T  T helper(CD4+) cells      Blood-T  56.0  blueprint_loyfer2022         NaN           NaN\n",
       "104  GSM5652280          T  T helper(CD4+) cells      Blood-T  50.0  blueprint_loyfer2022         NaN           NaN\n",
       "105  GSM5652281          T  T helper(CD4+) cells      Blood-T  55.0  blueprint_loyfer2022         NaN           NaN"
      ]
     },
     "execution_count": 59,
     "metadata": {},
     "output_type": "execute_result"
    }
   ],
   "source": [
    "dataSource = 'blueprint_loyfer2022'\n",
    "\n",
    "cellType = [   \n",
    "    'Blood-B', \n",
    "    'Blood-Granul', \n",
    "    'Blood-Mono+Macro', \n",
    "    'Blood-NK',\n",
    "    'Blood-T'\n",
    "]\n",
    "\n",
    "# get samples that fall under these cell types of interest\n",
    "sample_df = pd.read_csv(SAMPLE_PATH, sep='\\t')\n",
    "ridxs = (sample_df['source']==dataSource)\n",
    "ridxs &= sample_df['sample_group'].isin(cellType)\n",
    "ref_sample_df = sample_df[ridxs].copy()\n",
    "ref_sample_df.head()"
   ]
  },
  {
   "cell_type": "code",
   "execution_count": 60,
   "metadata": {
    "tags": []
   },
   "outputs": [
    {
     "data": {
      "text/plain": [
       "2"
      ]
     },
     "execution_count": 60,
     "metadata": {},
     "output_type": "execute_result"
    }
   ],
   "source": [
    "sum(ref_sample_df['cell_type'] == 'T (CD3+) cells')"
   ]
  },
  {
   "cell_type": "code",
   "execution_count": 61,
   "metadata": {
    "tags": []
   },
   "outputs": [
    {
     "data": {
      "text/plain": [
       "array(['T (CD3+) cells', 'T helper(CD4+) cells',\n",
       "       'T cytotoxic (CD8+) cells', 'T central memory CD4',\n",
       "       'T effector cell CD8', 'T effector memory CD4',\n",
       "       'T effector memory CD8', 'Naive T cells CD4', 'Naive T cells CD8',\n",
       "       'NK', 'Monocytes', 'Macrophages', 'Granulocytes', 'B cells',\n",
       "       'Memory B cells'], dtype=object)"
      ]
     },
     "execution_count": 61,
     "metadata": {},
     "output_type": "execute_result"
    }
   ],
   "source": [
    "ref_sample_df.cell_type.unique()"
   ]
  },
  {
   "cell_type": "code",
   "execution_count": 62,
   "metadata": {
    "tags": []
   },
   "outputs": [
    {
     "data": {
      "text/html": [
       "<div>\n",
       "<style scoped>\n",
       "    .dataframe tbody tr th:only-of-type {\n",
       "        vertical-align: middle;\n",
       "    }\n",
       "\n",
       "    .dataframe tbody tr th {\n",
       "        vertical-align: top;\n",
       "    }\n",
       "\n",
       "    .dataframe thead th {\n",
       "        text-align: right;\n",
       "    }\n",
       "</style>\n",
       "<table border=\"1\" class=\"dataframe\">\n",
       "  <thead>\n",
       "    <tr style=\"text-align: right;\">\n",
       "      <th></th>\n",
       "      <th>sample_id</th>\n",
       "      <th>patient_id</th>\n",
       "      <th>cell_type</th>\n",
       "      <th>sample_group</th>\n",
       "      <th>age</th>\n",
       "      <th>source</th>\n",
       "      <th>stage_group</th>\n",
       "      <th>tumor_purity</th>\n",
       "    </tr>\n",
       "  </thead>\n",
       "  <tbody>\n",
       "    <tr>\n",
       "      <th>101</th>\n",
       "      <td>GSM5652277</td>\n",
       "      <td>T</td>\n",
       "      <td>T (CD3+) cells</td>\n",
       "      <td>Blood-T</td>\n",
       "      <td>56.0</td>\n",
       "      <td>blueprint_loyfer2022</td>\n",
       "      <td>NaN</td>\n",
       "      <td>NaN</td>\n",
       "    </tr>\n",
       "    <tr>\n",
       "      <th>102</th>\n",
       "      <td>GSM5652278</td>\n",
       "      <td>T</td>\n",
       "      <td>T (CD3+) cells</td>\n",
       "      <td>Blood-T</td>\n",
       "      <td>55.0</td>\n",
       "      <td>blueprint_loyfer2022</td>\n",
       "      <td>NaN</td>\n",
       "      <td>NaN</td>\n",
       "    </tr>\n",
       "    <tr>\n",
       "      <th>103</th>\n",
       "      <td>GSM5652279</td>\n",
       "      <td>T</td>\n",
       "      <td>T helper(CD4+) cells</td>\n",
       "      <td>Blood-CD4</td>\n",
       "      <td>56.0</td>\n",
       "      <td>blueprint_loyfer2022</td>\n",
       "      <td>NaN</td>\n",
       "      <td>NaN</td>\n",
       "    </tr>\n",
       "    <tr>\n",
       "      <th>104</th>\n",
       "      <td>GSM5652280</td>\n",
       "      <td>T</td>\n",
       "      <td>T helper(CD4+) cells</td>\n",
       "      <td>Blood-CD4</td>\n",
       "      <td>50.0</td>\n",
       "      <td>blueprint_loyfer2022</td>\n",
       "      <td>NaN</td>\n",
       "      <td>NaN</td>\n",
       "    </tr>\n",
       "    <tr>\n",
       "      <th>105</th>\n",
       "      <td>GSM5652281</td>\n",
       "      <td>T</td>\n",
       "      <td>T helper(CD4+) cells</td>\n",
       "      <td>Blood-CD4</td>\n",
       "      <td>55.0</td>\n",
       "      <td>blueprint_loyfer2022</td>\n",
       "      <td>NaN</td>\n",
       "      <td>NaN</td>\n",
       "    </tr>\n",
       "  </tbody>\n",
       "</table>\n",
       "</div>"
      ],
      "text/plain": [
       "      sample_id patient_id             cell_type sample_group   age                source stage_group  tumor_purity\n",
       "101  GSM5652277          T        T (CD3+) cells      Blood-T  56.0  blueprint_loyfer2022         NaN           NaN\n",
       "102  GSM5652278          T        T (CD3+) cells      Blood-T  55.0  blueprint_loyfer2022         NaN           NaN\n",
       "103  GSM5652279          T  T helper(CD4+) cells    Blood-CD4  56.0  blueprint_loyfer2022         NaN           NaN\n",
       "104  GSM5652280          T  T helper(CD4+) cells    Blood-CD4  50.0  blueprint_loyfer2022         NaN           NaN\n",
       "105  GSM5652281          T  T helper(CD4+) cells    Blood-CD4  55.0  blueprint_loyfer2022         NaN           NaN"
      ]
     },
     "execution_count": 62,
     "metadata": {},
     "output_type": "execute_result"
    }
   ],
   "source": [
    "# split Blood-T into Blood-CD4 and Blood-CD8\n",
    "mapping = {'T helper(CD4+) cells': 'Blood-CD4', \n",
    "           'T central memory CD4': 'Blood-CD4', \n",
    "           'T effector memory CD4': 'Blood-CD4', \n",
    "           'Naive T cells CD4': 'Blood-CD4', \n",
    "           \n",
    "           'T cytotoxic (CD8+) cells': 'Blood-CD8', \n",
    "           'T effector cell CD8': 'Blood-CD8',\n",
    "           'T effector memory CD8': 'Blood-CD8',\n",
    "           'Naive T cells CD8': 'Blood-CD8',\n",
    "          }\n",
    "\n",
    "ref_sample_df['sample_group'] = np.where(ref_sample_df['cell_type'].isin(mapping.keys()), \\\n",
    "                                         ref_sample_df['cell_type'].map(mapping), ref_sample_df['sample_group'] )\n",
    "ref_sample_df.head()"
   ]
  },
  {
   "cell_type": "code",
   "execution_count": 63,
   "metadata": {
    "tags": []
   },
   "outputs": [
    {
     "data": {
      "text/html": [
       "<div>\n",
       "<style scoped>\n",
       "    .dataframe tbody tr th:only-of-type {\n",
       "        vertical-align: middle;\n",
       "    }\n",
       "\n",
       "    .dataframe tbody tr th {\n",
       "        vertical-align: top;\n",
       "    }\n",
       "\n",
       "    .dataframe thead th {\n",
       "        text-align: right;\n",
       "    }\n",
       "</style>\n",
       "<table border=\"1\" class=\"dataframe\">\n",
       "  <thead>\n",
       "    <tr style=\"text-align: right;\">\n",
       "      <th></th>\n",
       "      <th>sample_id</th>\n",
       "      <th>patient_id</th>\n",
       "      <th>cell_type</th>\n",
       "      <th>sample_group</th>\n",
       "      <th>age</th>\n",
       "      <th>source</th>\n",
       "      <th>stage_group</th>\n",
       "      <th>tumor_purity</th>\n",
       "    </tr>\n",
       "  </thead>\n",
       "  <tbody>\n",
       "    <tr>\n",
       "      <th>103</th>\n",
       "      <td>GSM5652279</td>\n",
       "      <td>T</td>\n",
       "      <td>T helper(CD4+) cells</td>\n",
       "      <td>Blood-CD4</td>\n",
       "      <td>56.0</td>\n",
       "      <td>blueprint_loyfer2022</td>\n",
       "      <td>NaN</td>\n",
       "      <td>NaN</td>\n",
       "    </tr>\n",
       "    <tr>\n",
       "      <th>104</th>\n",
       "      <td>GSM5652280</td>\n",
       "      <td>T</td>\n",
       "      <td>T helper(CD4+) cells</td>\n",
       "      <td>Blood-CD4</td>\n",
       "      <td>50.0</td>\n",
       "      <td>blueprint_loyfer2022</td>\n",
       "      <td>NaN</td>\n",
       "      <td>NaN</td>\n",
       "    </tr>\n",
       "    <tr>\n",
       "      <th>105</th>\n",
       "      <td>GSM5652281</td>\n",
       "      <td>T</td>\n",
       "      <td>T helper(CD4+) cells</td>\n",
       "      <td>Blood-CD4</td>\n",
       "      <td>55.0</td>\n",
       "      <td>blueprint_loyfer2022</td>\n",
       "      <td>NaN</td>\n",
       "      <td>NaN</td>\n",
       "    </tr>\n",
       "    <tr>\n",
       "      <th>106</th>\n",
       "      <td>GSM5652282</td>\n",
       "      <td>T</td>\n",
       "      <td>T cytotoxic (CD8+) cells</td>\n",
       "      <td>Blood-CD8</td>\n",
       "      <td>56.0</td>\n",
       "      <td>blueprint_loyfer2022</td>\n",
       "      <td>NaN</td>\n",
       "      <td>NaN</td>\n",
       "    </tr>\n",
       "    <tr>\n",
       "      <th>107</th>\n",
       "      <td>GSM5652283</td>\n",
       "      <td>T</td>\n",
       "      <td>T cytotoxic (CD8+) cells</td>\n",
       "      <td>Blood-CD8</td>\n",
       "      <td>50.0</td>\n",
       "      <td>blueprint_loyfer2022</td>\n",
       "      <td>NaN</td>\n",
       "      <td>NaN</td>\n",
       "    </tr>\n",
       "  </tbody>\n",
       "</table>\n",
       "</div>"
      ],
      "text/plain": [
       "      sample_id patient_id                 cell_type sample_group   age                source stage_group  tumor_purity\n",
       "103  GSM5652279          T      T helper(CD4+) cells    Blood-CD4  56.0  blueprint_loyfer2022         NaN           NaN\n",
       "104  GSM5652280          T      T helper(CD4+) cells    Blood-CD4  50.0  blueprint_loyfer2022         NaN           NaN\n",
       "105  GSM5652281          T      T helper(CD4+) cells    Blood-CD4  55.0  blueprint_loyfer2022         NaN           NaN\n",
       "106  GSM5652282          T  T cytotoxic (CD8+) cells    Blood-CD8  56.0  blueprint_loyfer2022         NaN           NaN\n",
       "107  GSM5652283          T  T cytotoxic (CD8+) cells    Blood-CD8  50.0  blueprint_loyfer2022         NaN           NaN"
      ]
     },
     "execution_count": 63,
     "metadata": {},
     "output_type": "execute_result"
    }
   ],
   "source": [
    "# remove CD3\n",
    "ref_sample_df.drop(ref_sample_df[ref_sample_df['cell_type'] == 'T (CD3+) cells'].index, inplace=True)\n",
    "ref_sample_df.head()"
   ]
  },
  {
   "cell_type": "code",
   "execution_count": 64,
   "metadata": {},
   "outputs": [
    {
     "data": {
      "text/plain": [
       "sample_group\n",
       "Blood-B              5\n",
       "Blood-CD4           10\n",
       "Blood-CD8           10\n",
       "Blood-Granul         3\n",
       "Blood-Mono+Macro    11\n",
       "Blood-NK             3\n",
       "Name: sample_id, dtype: int64"
      ]
     },
     "execution_count": 64,
     "metadata": {},
     "output_type": "execute_result"
    }
   ],
   "source": [
    "# how many samples do each cell type have?\n",
    "ref_sample_df.groupby('sample_group').sample_id.count()"
   ]
  },
  {
   "cell_type": "code",
   "execution_count": 70,
   "metadata": {
    "tags": []
   },
   "outputs": [],
   "source": [
    "cellType = [   \n",
    "    'Blood-B', \n",
    "    'Blood-Granul', \n",
    "    'Blood-Mono+Macro', \n",
    "    'Blood-NK',\n",
    "    'Blood-CD4',\n",
    "    'Blood-CD8'\n",
    "]\n"
   ]
  },
  {
   "cell_type": "code",
   "execution_count": 66,
   "metadata": {},
   "outputs": [],
   "source": [
    "from pyspark.sql.functions import when"
   ]
  },
  {
   "cell_type": "code",
   "execution_count": 71,
   "metadata": {},
   "outputs": [
    {
     "data": {
      "text/plain": [
       "['Blood-B',\n",
       " 'Blood-Granul',\n",
       " 'Blood-Mono+Macro',\n",
       " 'Blood-NK',\n",
       " 'Blood-CD4',\n",
       " 'Blood-CD8']"
      ]
     },
     "execution_count": 71,
     "metadata": {},
     "output_type": "execute_result"
    }
   ],
   "source": [
    "cellType"
   ]
  },
  {
   "cell_type": "code",
   "execution_count": 72,
   "metadata": {},
   "outputs": [
    {
     "name": "stdout",
     "output_type": "stream",
     "text": [
      "--> Processing: ### Blood-B ###\n",
      "-------> sample size: 5\n",
      "-------> filtering reads\n",
      "-------> exploding reads\n",
      "+----------+-----------+----+----------------+-------------+-------------+------------------+--------------------+--------------------+--------------------+\n",
      "| sample_id|molecule_id| chr|number_molecules|cpg_index_min|cpg_index_max|        pat_string|           region_id|region_cpg_index_min|region_cpg_index_max|\n",
      "+----------+-----------+----+----------------+-------------+-------------+------------------+--------------------+--------------------+--------------------+\n",
      "|GSM5652316|      27747|chr1|               1|        20105|        20122|TCCCCCCCTC..TTTTTT|Immune_Broad_B-ch...|               20117|               20130|\n",
      "|GSM5652316|      27748|chr1|               1|        20107|        20118|      TCTCCCTCTCTT|Immune_Broad_B-ch...|               20117|               20130|\n",
      "|GSM5652316|      27752|chr1|               1|        20110|        20118|         CCCCCTCTT|Immune_Broad_B-ch...|               20117|               20130|\n",
      "|GSM5652316|      27753|chr1|               1|        20110|        20117|          CCCCCTTT|Immune_Broad_B-ch...|               20117|               20130|\n",
      "|GSM5652316|      27754|chr1|               1|        20110|        20118|         CCCCTCCTT|Immune_Broad_B-ch...|               20117|               20130|\n",
      "+----------+-----------+----+----------------+-------------+-------------+------------------+--------------------+--------------------+--------------------+\n",
      "only showing top 5 rows\n",
      "\n",
      "-------> saving as parquet files\n",
      "-------> counting reads per region\n",
      "--> Processing: ### Blood-Granul ###\n",
      "-------> sample size: 3\n",
      "-------> filtering reads\n",
      "-------> exploding reads\n",
      "+----------+-----------+----+----------------+-------------+-------------+--------------------+--------------------+--------------------+--------------------+\n",
      "| sample_id|molecule_id| chr|number_molecules|cpg_index_min|cpg_index_max|          pat_string|           region_id|region_cpg_index_min|region_cpg_index_max|\n",
      "+----------+-----------+----+----------------+-------------+-------------+--------------------+--------------------+--------------------+--------------------+\n",
      "|GSM5652313|      29355|chr1|               1|        20101|        20121|TCCCCCCCC.......C...|Immune_Broad_B-ch...|               20117|               20130|\n",
      "|GSM5652313|      29358|chr1|               1|        20105|        20118|      CCCCCCCCCCTCCC|Immune_Broad_B-ch...|               20117|               20130|\n",
      "|GSM5652313|      29361|chr1|               1|        20106|        20119|      CCCCCCCCCTCCCC|Immune_Broad_B-ch...|               20117|               20130|\n",
      "|GSM5652313|      29364|chr1|               1|        20109|        20118|          CCCCCCCCCC|Immune_Broad_B-ch...|               20117|               20130|\n",
      "|GSM5652313|      29367|chr1|               1|        20111|        20118|            CCCCCCCC|Immune_Broad_B-ch...|               20117|               20130|\n",
      "+----------+-----------+----+----------------+-------------+-------------+--------------------+--------------------+--------------------+--------------------+\n",
      "only showing top 5 rows\n",
      "\n",
      "-------> saving as parquet files\n",
      "-------> counting reads per region\n",
      "--> Processing: ### Blood-Mono+Macro ###\n",
      "-------> sample size: 11\n",
      "-------> filtering reads\n",
      "-------> exploding reads\n",
      "+----------+-----------+----+----------------+-------------+-------------+------------------+--------------------+--------------------+--------------------+\n",
      "| sample_id|molecule_id| chr|number_molecules|cpg_index_min|cpg_index_max|        pat_string|           region_id|region_cpg_index_min|region_cpg_index_max|\n",
      "+----------+-----------+----+----------------+-------------+-------------+------------------+--------------------+--------------------+--------------------+\n",
      "|GSM5652312|      41405|chr1|               1|        20101|        20118|CCCCCCCCCCC...CCCC|Immune_Broad_B-ch...|               20117|               20130|\n",
      "|GSM5652312|      41417|chr1|               1|        20109|        20118|        CCCCCCCCCC|Immune_Broad_B-ch...|               20117|               20130|\n",
      "|GSM5652312|      41421|chr1|               1|        20110|        20118|         CCCCCCCCC|Immune_Broad_B-ch...|               20117|               20130|\n",
      "|GSM5652312|      41422|chr1|               1|        20110|        20119|        CTCCCCCCCC|Immune_Broad_B-ch...|               20117|               20130|\n",
      "|GSM5652312|      41425|chr1|               1|        20112|        20117|            CCCCCC|Immune_Broad_B-ch...|               20117|               20130|\n",
      "+----------+-----------+----+----------------+-------------+-------------+------------------+--------------------+--------------------+--------------------+\n",
      "only showing top 5 rows\n",
      "\n",
      "-------> saving as parquet files\n",
      "-------> counting reads per region\n",
      "--> Processing: ### Blood-NK ###\n",
      "-------> sample size: 3\n",
      "-------> filtering reads\n",
      "-------> exploding reads\n",
      "+----------+-----------+----+----------------+-------------+-------------+----------------+--------------------+--------------------+--------------------+\n",
      "| sample_id|molecule_id| chr|number_molecules|cpg_index_min|cpg_index_max|      pat_string|           region_id|region_cpg_index_min|region_cpg_index_max|\n",
      "+----------+-----------+----+----------------+-------------+-------------+----------------+--------------------+--------------------+--------------------+\n",
      "|GSM5652301|      26621|chr1|               1|        20103|        20117| CCCCCCCCCCCTCCC|Immune_Broad_B-ch...|               20117|               20130|\n",
      "|GSM5652301|      26627|chr1|               1|        20106|        20120| CCCCCCCCCCCCCCC|Immune_Broad_B-ch...|               20117|               20130|\n",
      "|GSM5652301|      26629|chr1|               1|        20107|        20122|CCCCCCCCCCCCCCCC|Immune_Broad_B-ch...|               20117|               20130|\n",
      "|GSM5652301|      26634|chr1|               1|        20109|        20117|       CCCCCCCCC|Immune_Broad_B-ch...|               20117|               20130|\n",
      "|GSM5652301|      26637|chr1|               1|        20112|        20119|        CCCCCCCC|Immune_Broad_B-ch...|               20117|               20130|\n",
      "+----------+-----------+----+----------------+-------------+-------------+----------------+--------------------+--------------------+--------------------+\n",
      "only showing top 5 rows\n",
      "\n",
      "-------> saving as parquet files\n",
      "-------> counting reads per region\n",
      "--> Processing: ### Blood-CD4 ###\n",
      "-------> sample size: 10\n",
      "-------> filtering reads\n",
      "-------> exploding reads\n",
      "+----------+-----------+----+----------------+-------------+-------------+-----------------+--------------------+--------------------+--------------------+\n",
      "| sample_id|molecule_id| chr|number_molecules|cpg_index_min|cpg_index_max|       pat_string|           region_id|region_cpg_index_min|region_cpg_index_max|\n",
      "+----------+-----------+----+----------------+-------------+-------------+-----------------+--------------------+--------------------+--------------------+\n",
      "|GSM5652286|      38847|chr1|               1|        20105|        20121|CCCCCCCCCC..CCCCC|Immune_Broad_B-ch...|               20117|               20130|\n",
      "|GSM5652286|      38850|chr1|               1|        20106|        20118|    CCCCCCCCCCTCC|Immune_Broad_B-ch...|               20117|               20130|\n",
      "|GSM5652286|      38852|chr1|               1|        20106|        20118|    CCCCCCCTCCCCT|Immune_Broad_B-ch...|               20117|               20130|\n",
      "|GSM5652286|      38853|chr1|               1|        20107|        20118|     CCCCCCCCCCCC|Immune_Broad_B-ch...|               20117|               20130|\n",
      "|GSM5652286|      38855|chr1|               1|        20108|        20120|    CCCCCCCCTCCCC|Immune_Broad_B-ch...|               20117|               20130|\n",
      "+----------+-----------+----+----------------+-------------+-------------+-----------------+--------------------+--------------------+--------------------+\n",
      "only showing top 5 rows\n",
      "\n",
      "-------> saving as parquet files\n",
      "-------> counting reads per region\n",
      "--> Processing: ### Blood-CD8 ###\n",
      "-------> sample size: 10\n",
      "-------> filtering reads\n",
      "-------> exploding reads\n",
      "+----------+-----------+----+----------------+-------------+-------------+--------------------+--------------------+--------------------+--------------------+\n",
      "| sample_id|molecule_id| chr|number_molecules|cpg_index_min|cpg_index_max|          pat_string|           region_id|region_cpg_index_min|region_cpg_index_max|\n",
      "+----------+-----------+----+----------------+-------------+-------------+--------------------+--------------------+--------------------+--------------------+\n",
      "|GSM5652283|      29522|chr1|               1|        20101|        20121|CCCCCCCCCCCTCT..T...|Immune_Broad_B-ch...|               20117|               20130|\n",
      "|GSM5652283|      29532|chr1|               1|        20107|        20119|       CCCCCCCCCCCCC|Immune_Broad_B-ch...|               20117|               20130|\n",
      "|GSM5652283|      29541|chr1|               1|        20112|        20119|            CCCTTCCC|Immune_Broad_B-ch...|               20117|               20130|\n",
      "|GSM5652283|      29542|chr1|               1|        20114|        20126|       CCCCCCCCCCCCC|Immune_Broad_B-ch...|               20117|               20130|\n",
      "|GSM5652283|      29543|chr1|               1|        20114|        20129|    CCTT...CCCCCCCCT|Immune_Broad_B-ch...|               20117|               20130|\n",
      "+----------+-----------+----+----------------+-------------+-------------+--------------------+--------------------+--------------------+--------------------+\n",
      "only showing top 5 rows\n",
      "\n",
      "-------> saving as parquet files\n",
      "-------> counting reads per region\n",
      "CPU times: user 1.09 s, sys: 552 ms, total: 1.64 s\n",
      "Wall time: 2min 16s\n"
     ]
    }
   ],
   "source": [
    "%%time\n",
    "\n",
    "# ---- loop for collapsing samples by cell type\n",
    "region_read_count = []\n",
    "\n",
    "for celltype in cellType:\n",
    "    \n",
    "    print(f'--> Processing: ### {celltype} ###')\n",
    "\n",
    "    # get samples in the specified cell type\n",
    "    samples_by_celltype = list(ref_sample_df[ref_sample_df['sample_group'] == celltype]['sample_id'])\n",
    "    sample_size = len(samples_by_celltype)\n",
    "    print(f'-------> sample size: {sample_size}')\n",
    "\n",
    "    # filter reads that are from samples in samples_by_celltype\n",
    "    print(f'-------> filtering reads')\n",
    "    df_celltype = combined_df.filter((col('sample_id')).isin(samples_by_celltype))\n",
    "    \n",
    "    # explode rows by number_molecules (for random sampling in mixing)\n",
    "    print(f'-------> exploding reads')\n",
    "    df_celltype = df_celltype.withColumn('number_molecules', expr('explode(array_repeat(number_molecules,int(number_molecules)))'))\n",
    "    \n",
    "    # change 2 to 1\n",
    "    df_celltype = df_celltype.withColumn('number_molecules', when(col('number_molecules') == 2, 1).otherwise(col('number_molecules')))\n",
    "    df_celltype.show(5)\n",
    "    \n",
    "    # save parquet file\n",
    "    print(f'-------> saving as parquet files')\n",
    "    RESULT_PARQUET_PATH = RESULTS_PATH + 'collapsed_reads_' + celltype + '/'\n",
    "    df_celltype.write.mode('overwrite').parquet(RESULT_PARQUET_PATH)\n",
    "    \n",
    "    # count reads per region\n",
    "    print(f'-------> counting reads per region')\n",
    "    read_count_by_region = df_celltype.groupBy('region_id').count().toPandas()\n",
    "    \n",
    "    # append read count \n",
    "    region_read_count.append(read_count_by_region)\n",
    "    "
   ]
  },
  {
   "cell_type": "code",
   "execution_count": 73,
   "metadata": {},
   "outputs": [
    {
     "data": {
      "image/png": "[encoded data removed]",
      "text/plain": [
       "<Figure size 1440x1440 with 6 Axes>"
      ]
     },
     "metadata": {
      "needs_background": "light"
     },
     "output_type": "display_data"
    }
   ],
   "source": [
    "sns.set_context('talk')\n",
    "\n",
    "\n",
    "# celltype_subset = ['Blood-B', 'Blood-Granul', 'Blood-Mono+Macro', 'Blood-NK', 'Blood-NK', 'Blood-T']\n",
    "celltype_subset = ['Blood-B', 'Blood-Granul', 'Blood-Mono+Macro', 'Blood-NK', 'Blood-NK', 'Blood-CD4', 'Blood-CD8']\n",
    "\n",
    "matched_elements = [x for x in cellType if x in celltype_subset]\n",
    "matched_indexes = [i for i, x in enumerate(cellType) if x in celltype_subset]\n",
    "\n",
    "region_read_count_subset = [region_read_count[i] for i in matched_indexes]\n",
    "\n",
    "\n",
    "# Create a large figure\n",
    "fig = plt.figure(figsize=(20, 20))\n",
    "\n",
    "# Loop over the dataframes\n",
    "for i, (df, title) in enumerate(zip(region_read_count_subset, matched_elements), start=1):\n",
    "    # Create a subplot for each dataframe\n",
    "    ax = fig.add_subplot(4, 3, i)  \n",
    "\n",
    "    # Plot the histogram of the 'count' column using seaborn\n",
    "    sns.histplot(df['count'], bins=20, edgecolor='black', ax=ax)\n",
    "\n",
    "    # Calculate the median\n",
    "    median = df['count'].median()\n",
    "\n",
    "    # Add a vertical line for the median\n",
    "    ax.axvline(median, color='red', linestyle='dashed', linewidth=1)\n",
    "\n",
    "    # Add text in the upper right corner\n",
    "    ax.text(0.97, 0.97, f'Median: {median}', ha='right', va='top', transform=ax.transAxes, color='red') \n",
    "\n",
    "    # Set the title from the titles list\n",
    "    ax.set_title(title)\n",
    "    \n",
    "    # Set x-axis label\n",
    "    ax.set_xlabel('Read count')\n",
    "\n",
    "# Add spacing between plots\n",
    "plt.tight_layout()\n",
    "# Display the plot\n",
    "plt.show()"
   ]
  },
  {
   "cell_type": "code",
   "execution_count": null,
   "metadata": {},
   "outputs": [],
   "source": []
  },
  {
   "cell_type": "code",
   "execution_count": null,
   "metadata": {},
   "outputs": [],
   "source": []
  }
 ],
 "metadata": {
  "kernelspec": {
   "display_name": "Python 3",
   "language": "python",
   "name": "python3"
  },
  "language_info": {
   "codemirror_mode": {
    "name": "ipython",
    "version": 3
   },
   "file_extension": ".py",
   "mimetype": "text/x-python",
   "name": "python",
   "nbconvert_exporter": "python",
   "pygments_lexer": "ipython3",
   "version": "3.7.8"
  }
 },
 "nbformat": 4,
 "nbformat_minor": 4
}
