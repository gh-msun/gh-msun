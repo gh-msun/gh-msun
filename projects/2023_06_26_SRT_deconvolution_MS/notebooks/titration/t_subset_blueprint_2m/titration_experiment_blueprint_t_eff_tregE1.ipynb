{
 "cells": [
  {
   "cell_type": "markdown",
   "metadata": {},
   "source": [
    "# Titration Experiment"
   ]
  },
  {
   "cell_type": "code",
   "execution_count": 1,
   "metadata": {
    "tags": [
     "parameters"
    ]
   },
   "outputs": [],
   "source": [
    "#############################\n",
    "#   Experiment parameters   #\n",
    "#############################\n",
    "ROOT_DIR = '/analysis/gh-msun/'\n",
    "PROJECT_SLUG = '2023_06_26_SRT_deconvolution_MS'\n",
    "EXPERIMENT = 't_subset_blueprint_2m_fix'\n",
    "TITRATING_CELLTYPE = 't_effector'\n",
    "TITRATING_CELLTYPE_ATLAS = 'immune_t_effector' # cell type name in atlas different\n",
    "BACKGROUND = 'wholeblood' # background: uniform / wholeblood \n",
    "N_REPLICATES = 20 # number of replicates for each mixture\n",
    "SEED = 888 # need to change for different experiment\n",
    "TOTAL_READS_TO_SAMPLE = 2000000\n",
    "\n",
    "# make sure the orders of the two list match\n",
    "CELLTYPES = ['t_effector',\n",
    "             't_reg', \n",
    "             't_naive',\n",
    "             'Blueprint-B',\n",
    "             'Blueprint-NK',\n",
    "             'Blueprint-Mono',\n",
    "             'Blueprint-Neutro']\n",
    "ABRIDGED_NAMES = ['Teff', 'Treg', 'Tnaive', 'B', 'NK', 'MONO', 'NEUTRO'] # for directory name\n",
    "\n",
    "# TITRATION_LIST = [0.10, 0.08, 0.06, 0.04, 0.02, 0.01, \n",
    "#                   0.008, 0.006, 0.004, 0.002, 0.001, 0]\n",
    "\n",
    "\n",
    "# # proportion of cells in real whole blood (sum to 1)\n",
    "# WHOLE_BLOOD_ABUNDANCE = {'Blueprint-B':0.06,\n",
    "#                          'Blueprint-Mono':0.09,\n",
    "#                          'Blueprint-Neutro':0.57,\n",
    "#                          't_naive':0.16+0.07,\n",
    "#                          'Blueprint-NK':0.05}\n",
    "    "
   ]
  },
  {
   "cell_type": "code",
   "execution_count": 2,
   "metadata": {},
   "outputs": [
    {
     "name": "stderr",
     "output_type": "stream",
     "text": [
      "/home/ec2-user/mambaforge/envs/2023_06_26_SRT_deconvolution_MS/lib/python3.7/site-packages/pyspark/context.py:317: FutureWarning: Python 3.7 support is deprecated in Spark 3.4.\n",
      "  warnings.warn(\"Python 3.7 support is deprecated in Spark 3.4.\", FutureWarning)\n"
     ]
    }
   ],
   "source": [
    "import glob\n",
    "import numpy as np\n",
    "import pandas as pd\n",
    "import seaborn as sns\n",
    "import matplotlib.pyplot as plt\n",
    "import itertools\n",
    "import functools\n",
    "import os\n",
    "import regex as re\n",
    "import random\n",
    "import importlib\n",
    "import sys\n",
    "\n",
    "from pyspark.sql import SparkSession\n",
    "from pyspark import SparkConf, SparkContext\n",
    "from pyspark.sql.types import IntegerType, LongType, ArrayType, StringType, DoubleType\n",
    "from pyspark.sql.functions import udf, explode, broadcast, count, lit, length, col\n",
    "from pyspark.sql import DataFrame\n",
    "from pyspark.sql.types import StructType\n",
    "\n",
    "# UPDATE HOME!\n",
    "os.environ[\"SPARK_HOME\"] = \"/home/ec2-user/mambaforge/envs/2023_06_26_SRT_deconvolution_MS/lib/python3.7/site-packages/pyspark\"\n",
    "# THIS needs to be set-up before running the notebook\n",
    "os.environ[\"SPARK_LOCAL_DIRS\"] = \"/temp\"\n",
    "os.environ[\"PYARROW_IGNORE_TIMEZONE\"] = \"1\"\n",
    "\n",
    "spark_conf = SparkConf()\n",
    "spark_conf.set(\"spark.ui.showConsoleProgress\", \"True\")\n",
    "spark_conf.set(\"spark.executor.instances\", \"2\")\n",
    "spark_conf.set(\"spark.executor.cores\", \"2\")\n",
    "spark_conf.set(\"spark.executor.memory\", \"16g\")\n",
    "spark_conf.set(\"spark.driver.memory\", \"64g\")\n",
    "spark_conf.set(\"spark.driver.maxResultSize\", \"32g\")\n",
    "spark_conf.set(\"spark.parquet.filterPushdown\", \"true\")\n",
    "spark_conf.set(\"spark.local.dir\", \"/temp\")\n",
    "spark_conf.getAll()\n",
    "\n",
    "sc = SparkContext(conf=spark_conf)\n",
    "sc.setLogLevel(\"ERROR\")\n",
    "spark = SparkSession(sc)\n",
    "\n",
    "pd.set_option('display.max_rows', 500)\n",
    "pd.set_option('display.max_columns', 500)\n",
    "pd.set_option('display.width', 1000)\n",
    "sns.set_context('talk')"
   ]
  },
  {
   "cell_type": "code",
   "execution_count": 3,
   "metadata": {},
   "outputs": [],
   "source": [
    "#---Local paths---#\n",
    "PROJECT_DIR = ROOT_DIR + f'projects/{PROJECT_SLUG}/'\n",
    "\n",
    "#---Load all custom scripts---#\n",
    "SCRIPT_DIR = PROJECT_DIR + 'scripts/'\n",
    "sys.path.append(SCRIPT_DIR)\n",
    "\n",
    "import create_mixture as cm\n",
    "import score_matrix as sm\n",
    "import deconvolution as dcnv\n",
    "import helper as hlpr\n",
    "\n",
    "pd.set_option('display.max_rows', 500)\n",
    "pd.set_option('display.max_columns', 500)\n",
    "pd.set_option('display.width', 1000)"
   ]
  },
  {
   "cell_type": "code",
   "execution_count": 4,
   "metadata": {},
   "outputs": [
    {
     "data": {
      "text/plain": [
       "<module 'helper' from '/analysis/gh-msun/projects/2023_06_26_SRT_deconvolution_MS/scripts/helper.py'>"
      ]
     },
     "execution_count": 4,
     "metadata": {},
     "output_type": "execute_result"
    }
   ],
   "source": [
    "importlib.reload(cm)\n",
    "importlib.reload(sm)\n",
    "importlib.reload(dcnv)\n",
    "importlib.reload(hlpr)"
   ]
  },
  {
   "cell_type": "code",
   "execution_count": 5,
   "metadata": {
    "tags": []
   },
   "outputs": [],
   "source": [
    "CELLTYPES = ['t_effector', \n",
    "             't_reg',\n",
    "             't_naive',\n",
    "             'Blueprint-B',\n",
    "             'Blueprint-NK',\n",
    "             'Blueprint-Mono',\n",
    "             'Blueprint-Neutro']\n",
    "\n",
    "ABRIDGED_NAMES = ['Teff', 'Treg', 'Tnaive', 'B', 'NK', 'MONO', 'NEUTRO'] # for directory name\n",
    "\n",
    "TITRATION_LIST = [0.20, 0.15, 0.10, 0.08, 0.06, 0.04, 0.02, 0.01, \n",
    "                  0.008, 0.006, 0.004, 0.002, 0.001, 0] # % of total T-cells\n",
    "\n",
    "# background cell type proportion (T is 23%)\n",
    "WHOLE_BLOOD_ABUNDANCE = {'B':0.06,\n",
    "                         'Mono':0.09,\n",
    "                         'Neutro':0.57,\n",
    "                         'NK':0.05}\n",
    "\n",
    "# background: % of total T-cells (multipy with 0.2)\n",
    "WHOLE_BLOOD_ABUNDANCE_T = {'t_naive':0.90,\n",
    "                           't_reg':0.10}\n",
    "\n",
    "PROPORTIONS = []\n",
    "treg_titrating_proprotions = [] \n",
    "teff_titrating_proprotions = []\n",
    "tnai_titrating_proprotions = []\n",
    "\n",
    "for t, alpha in enumerate(TITRATION_LIST):  \n",
    "    \n",
    "    # T cell total to be 23 % \n",
    "    proportion_teff = 0.23 * alpha  # alpha is the titrating proportion\n",
    "    proportion_treg = 0.23 * (1-alpha) * WHOLE_BLOOD_ABUNDANCE_T['t_reg'] \n",
    "    proportion_tnai = 0.23 * (1-alpha) * WHOLE_BLOOD_ABUNDANCE_T['t_naive'] \n",
    "    \n",
    "    treg_titrating_proprotions.append(proportion_treg)\n",
    "    teff_titrating_proprotions.append(proportion_teff)\n",
    "    tnai_titrating_proprotions.append(proportion_tnai)\n",
    "    \n",
    "    proportion = [proportion_teff, \n",
    "                  proportion_treg, \n",
    "                  proportion_tnai,\n",
    "                  WHOLE_BLOOD_ABUNDANCE['B'],\n",
    "                  WHOLE_BLOOD_ABUNDANCE['NK'],\n",
    "                  WHOLE_BLOOD_ABUNDANCE['Mono'],\n",
    "                  WHOLE_BLOOD_ABUNDANCE['Neutro']]\n",
    "    \n",
    "    PROPORTIONS.append(proportion)\n"
   ]
  },
  {
   "cell_type": "code",
   "execution_count": 6,
   "metadata": {
    "tags": []
   },
   "outputs": [
    {
     "data": {
      "text/plain": [
       "[0.046000000000000006,\n",
       " 0.0345,\n",
       " 0.023000000000000003,\n",
       " 0.0184,\n",
       " 0.0138,\n",
       " 0.0092,\n",
       " 0.0046,\n",
       " 0.0023,\n",
       " 0.00184,\n",
       " 0.0013800000000000002,\n",
       " 0.00092,\n",
       " 0.00046,\n",
       " 0.00023,\n",
       " 0.0]"
      ]
     },
     "execution_count": 6,
     "metadata": {},
     "output_type": "execute_result"
    }
   ],
   "source": [
    "teff_titrating_proprotions"
   ]
  },
  {
   "cell_type": "markdown",
   "metadata": {},
   "source": [
    "## Create mixture"
   ]
  },
  {
   "cell_type": "code",
   "execution_count": 7,
   "metadata": {},
   "outputs": [],
   "source": [
    "############################\n",
    "#   Parameters and paths   # \n",
    "############################\n",
    "EXPERIMENT_DIR = PROJECT_DIR + f'output/experiment/{EXPERIMENT}/'\n",
    "EXPERIMENT_NAME = f'{TITRATING_CELLTYPE}-{BACKGROUND}/'\n",
    "PARQUET_PATH = PROJECT_DIR + 'output/mixture_source/t_subset_mixture_source/'\n",
    "EXPERIMENT_CELLTYPE_DIR = EXPERIMENT_DIR + f'{EXPERIMENT_NAME}/'\n",
    "RESULT_PATH = EXPERIMENT_CELLTYPE_DIR + 'mixture/'\n"
   ]
  },
  {
   "cell_type": "code",
   "execution_count": 8,
   "metadata": {},
   "outputs": [
    {
     "name": "stdout",
     "output_type": "stream",
     "text": [
      ">>> Load parquet files and count rows... <<<\n",
      "----------> Loading cell type: t_effector\n",
      "----------> Loading cell type: t_reg\n",
      "----------> Loading cell type: t_naive\n",
      "----------> Loading cell type: Blueprint-B\n",
      "----------> Loading cell type: Blueprint-NK\n",
      "----------> Loading cell type: Blueprint-Mono\n",
      "----------> Loading cell type: Blueprint-Neutro\n",
      ">>> Complete. <<< \n",
      "\n",
      ">>> Start mixing... <<<\n",
      "--> PROPORTION: [0.046000000000000006, 0.018400000000000003, 0.16560000000000002, 0.06, 0.05, 0.09, 0.57]\n",
      "----------> Creating mixture 0... \n",
      "----------> Creating mixture 1... \n",
      "----------> Creating mixture 2... \n",
      "----------> Creating mixture 3... \n",
      "----------> Creating mixture 4... \n",
      "----------> Creating mixture 5... \n",
      "----------> Creating mixture 6... \n",
      "----------> Creating mixture 7... \n",
      "----------> Creating mixture 8... \n"
     ]
    },
    {
     "name": "stderr",
     "output_type": "stream",
     "text": [
      "ERROR:root:KeyboardInterrupt while sending command.\n",
      "Traceback (most recent call last):\n",
      "  File \"/home/ec2-user/mambaforge/envs/2023_06_26_SRT_deconvolution_MS/lib/python3.7/site-packages/py4j/java_gateway.py\", line 1038, in send_command\n",
      "    response = connection.send_command(command)\n",
      "  File \"/home/ec2-user/mambaforge/envs/2023_06_26_SRT_deconvolution_MS/lib/python3.7/site-packages/py4j/clientserver.py\", line 511, in send_command\n",
      "    answer = smart_decode(self.stream.readline()[:-1])\n",
      "  File \"/home/ec2-user/mambaforge/envs/2023_06_26_SRT_deconvolution_MS/lib/python3.7/socket.py\", line 589, in readinto\n",
      "    return self._sock.recv_into(b)\n",
      "KeyboardInterrupt\n"
     ]
    },
    {
     "ename": "KeyboardInterrupt",
     "evalue": "",
     "output_type": "error",
     "traceback": [
      "\u001b[0;31m---------------------------------------------------------------------------\u001b[0m",
      "\u001b[0;31mKeyboardInterrupt\u001b[0m                         Traceback (most recent call last)",
      "\u001b[0;32m<timed exec>\u001b[0m in \u001b[0;36m<module>\u001b[0;34m\u001b[0m\n",
      "\u001b[0;32m/analysis/gh-msun/projects/2023_06_26_SRT_deconvolution_MS/scripts/create_mixture.py\u001b[0m in \u001b[0;36mmix_celltypes_multiple_proportions\u001b[0;34m(parquet_df, total_reads_per_celltype, n, cell_types, cell_type_abridged_name, total_reads_to_sample, list_of_proportions, seed, result_path, spark, verbose, save)\u001b[0m\n\u001b[1;32m    249\u001b[0m                      \u001b[0mspark\u001b[0m\u001b[0;34m=\u001b[0m\u001b[0mspark\u001b[0m\u001b[0;34m,\u001b[0m\u001b[0;34m\u001b[0m\u001b[0;34m\u001b[0m\u001b[0m\n\u001b[1;32m    250\u001b[0m                      \u001b[0msave\u001b[0m\u001b[0;34m=\u001b[0m\u001b[0msave\u001b[0m\u001b[0;34m,\u001b[0m\u001b[0;34m\u001b[0m\u001b[0;34m\u001b[0m\u001b[0m\n\u001b[0;32m--> 251\u001b[0;31m                      verbose=verbose)\n\u001b[0m\u001b[1;32m    252\u001b[0m \u001b[0;34m\u001b[0m\u001b[0m\n\u001b[1;32m    253\u001b[0m     \u001b[0mprint\u001b[0m\u001b[0;34m(\u001b[0m\u001b[0;34m\">>> Complete. <<< \\n\"\u001b[0m\u001b[0;34m)\u001b[0m\u001b[0;34m\u001b[0m\u001b[0;34m\u001b[0m\u001b[0m\n",
      "\u001b[0;32m/analysis/gh-msun/projects/2023_06_26_SRT_deconvolution_MS/scripts/create_mixture.py\u001b[0m in \u001b[0;36mmix_celltypes_n_times\u001b[0;34m(parquet_df, total_reads_per_celltype, n, cell_types, cell_type_abridged_name, total_reads_to_sample, proportions, seed, result_path, spark, verbose, save)\u001b[0m\n\u001b[1;32m    211\u001b[0m                                \u001b[0msave\u001b[0m\u001b[0;34m=\u001b[0m\u001b[0msave\u001b[0m\u001b[0;34m,\u001b[0m\u001b[0;34m\u001b[0m\u001b[0;34m\u001b[0m\u001b[0m\n\u001b[1;32m    212\u001b[0m                                \u001b[0mitr\u001b[0m\u001b[0;34m=\u001b[0m\u001b[0mi\u001b[0m\u001b[0;34m,\u001b[0m\u001b[0;34m\u001b[0m\u001b[0;34m\u001b[0m\u001b[0m\n\u001b[0;32m--> 213\u001b[0;31m                                verbose=verbose)\n\u001b[0m\u001b[1;32m    214\u001b[0m \u001b[0;34m\u001b[0m\u001b[0m\n\u001b[1;32m    215\u001b[0m \u001b[0;34m\u001b[0m\u001b[0m\n",
      "\u001b[0;32m/analysis/gh-msun/projects/2023_06_26_SRT_deconvolution_MS/scripts/create_mixture.py\u001b[0m in \u001b[0;36mmix_celltypes\u001b[0;34m(parquet_df, total_reads_per_celltype, cell_types, total_reads_to_sample, proportions, seed, result_path, spark, verbose, save, itr)\u001b[0m\n\u001b[1;32m    143\u001b[0m             \u001b[0mdf_sample\u001b[0m \u001b[0;34m=\u001b[0m \u001b[0mdf\u001b[0m\u001b[0;34m.\u001b[0m\u001b[0msample\u001b[0m\u001b[0;34m(\u001b[0m\u001b[0;32mFalse\u001b[0m\u001b[0;34m,\u001b[0m \u001b[0mfrac\u001b[0m\u001b[0;34m,\u001b[0m \u001b[0mseed\u001b[0m\u001b[0;34m)\u001b[0m\u001b[0;34m\u001b[0m\u001b[0;34m\u001b[0m\u001b[0m\n\u001b[1;32m    144\u001b[0m             \u001b[0msampled_df\u001b[0m\u001b[0;34m.\u001b[0m\u001b[0mappend\u001b[0m\u001b[0;34m(\u001b[0m\u001b[0mdf_sample\u001b[0m\u001b[0;34m)\u001b[0m\u001b[0;34m\u001b[0m\u001b[0;34m\u001b[0m\u001b[0m\n\u001b[0;32m--> 145\u001b[0;31m             \u001b[0mn_sampled\u001b[0m \u001b[0;34m=\u001b[0m \u001b[0mdf_sample\u001b[0m\u001b[0;34m.\u001b[0m\u001b[0mcount\u001b[0m\u001b[0;34m(\u001b[0m\u001b[0;34m)\u001b[0m\u001b[0;34m\u001b[0m\u001b[0;34m\u001b[0m\u001b[0m\n\u001b[0m\u001b[1;32m    146\u001b[0m \u001b[0;34m\u001b[0m\u001b[0m\n\u001b[1;32m    147\u001b[0m       \u001b[0;31m#  print(f'----------> {n_sampled}')\u001b[0m\u001b[0;34m\u001b[0m\u001b[0;34m\u001b[0m\u001b[0;34m\u001b[0m\u001b[0m\n",
      "\u001b[0;32m~/mambaforge/envs/2023_06_26_SRT_deconvolution_MS/lib/python3.7/site-packages/pyspark/sql/dataframe.py\u001b[0m in \u001b[0;36mcount\u001b[0;34m(self)\u001b[0m\n\u001b[1;32m   1191\u001b[0m         \u001b[0;36m3\u001b[0m\u001b[0;34m\u001b[0m\u001b[0;34m\u001b[0m\u001b[0m\n\u001b[1;32m   1192\u001b[0m         \"\"\"\n\u001b[0;32m-> 1193\u001b[0;31m         \u001b[0;32mreturn\u001b[0m \u001b[0mint\u001b[0m\u001b[0;34m(\u001b[0m\u001b[0mself\u001b[0m\u001b[0;34m.\u001b[0m\u001b[0m_jdf\u001b[0m\u001b[0;34m.\u001b[0m\u001b[0mcount\u001b[0m\u001b[0;34m(\u001b[0m\u001b[0;34m)\u001b[0m\u001b[0;34m)\u001b[0m\u001b[0;34m\u001b[0m\u001b[0;34m\u001b[0m\u001b[0m\n\u001b[0m\u001b[1;32m   1194\u001b[0m \u001b[0;34m\u001b[0m\u001b[0m\n\u001b[1;32m   1195\u001b[0m     \u001b[0;32mdef\u001b[0m \u001b[0mcollect\u001b[0m\u001b[0;34m(\u001b[0m\u001b[0mself\u001b[0m\u001b[0;34m)\u001b[0m \u001b[0;34m->\u001b[0m \u001b[0mList\u001b[0m\u001b[0;34m[\u001b[0m\u001b[0mRow\u001b[0m\u001b[0;34m]\u001b[0m\u001b[0;34m:\u001b[0m\u001b[0;34m\u001b[0m\u001b[0;34m\u001b[0m\u001b[0m\n",
      "\u001b[0;32m~/mambaforge/envs/2023_06_26_SRT_deconvolution_MS/lib/python3.7/site-packages/py4j/java_gateway.py\u001b[0m in \u001b[0;36m__call__\u001b[0;34m(self, *args)\u001b[0m\n\u001b[1;32m   1319\u001b[0m             \u001b[0mproto\u001b[0m\u001b[0;34m.\u001b[0m\u001b[0mEND_COMMAND_PART\u001b[0m\u001b[0;34m\u001b[0m\u001b[0;34m\u001b[0m\u001b[0m\n\u001b[1;32m   1320\u001b[0m \u001b[0;34m\u001b[0m\u001b[0m\n\u001b[0;32m-> 1321\u001b[0;31m         \u001b[0manswer\u001b[0m \u001b[0;34m=\u001b[0m \u001b[0mself\u001b[0m\u001b[0;34m.\u001b[0m\u001b[0mgateway_client\u001b[0m\u001b[0;34m.\u001b[0m\u001b[0msend_command\u001b[0m\u001b[0;34m(\u001b[0m\u001b[0mcommand\u001b[0m\u001b[0;34m)\u001b[0m\u001b[0;34m\u001b[0m\u001b[0;34m\u001b[0m\u001b[0m\n\u001b[0m\u001b[1;32m   1322\u001b[0m         return_value = get_return_value(\n\u001b[1;32m   1323\u001b[0m             answer, self.gateway_client, self.target_id, self.name)\n",
      "\u001b[0;32m~/mambaforge/envs/2023_06_26_SRT_deconvolution_MS/lib/python3.7/site-packages/py4j/java_gateway.py\u001b[0m in \u001b[0;36msend_command\u001b[0;34m(self, command, retry, binary)\u001b[0m\n\u001b[1;32m   1036\u001b[0m         \u001b[0mconnection\u001b[0m \u001b[0;34m=\u001b[0m \u001b[0mself\u001b[0m\u001b[0;34m.\u001b[0m\u001b[0m_get_connection\u001b[0m\u001b[0;34m(\u001b[0m\u001b[0;34m)\u001b[0m\u001b[0;34m\u001b[0m\u001b[0;34m\u001b[0m\u001b[0m\n\u001b[1;32m   1037\u001b[0m         \u001b[0;32mtry\u001b[0m\u001b[0;34m:\u001b[0m\u001b[0;34m\u001b[0m\u001b[0;34m\u001b[0m\u001b[0m\n\u001b[0;32m-> 1038\u001b[0;31m             \u001b[0mresponse\u001b[0m \u001b[0;34m=\u001b[0m \u001b[0mconnection\u001b[0m\u001b[0;34m.\u001b[0m\u001b[0msend_command\u001b[0m\u001b[0;34m(\u001b[0m\u001b[0mcommand\u001b[0m\u001b[0;34m)\u001b[0m\u001b[0;34m\u001b[0m\u001b[0;34m\u001b[0m\u001b[0m\n\u001b[0m\u001b[1;32m   1039\u001b[0m             \u001b[0;32mif\u001b[0m \u001b[0mbinary\u001b[0m\u001b[0;34m:\u001b[0m\u001b[0;34m\u001b[0m\u001b[0;34m\u001b[0m\u001b[0m\n\u001b[1;32m   1040\u001b[0m                 \u001b[0;32mreturn\u001b[0m \u001b[0mresponse\u001b[0m\u001b[0;34m,\u001b[0m \u001b[0mself\u001b[0m\u001b[0;34m.\u001b[0m\u001b[0m_create_connection_guard\u001b[0m\u001b[0;34m(\u001b[0m\u001b[0mconnection\u001b[0m\u001b[0;34m)\u001b[0m\u001b[0;34m\u001b[0m\u001b[0;34m\u001b[0m\u001b[0m\n",
      "\u001b[0;32m~/mambaforge/envs/2023_06_26_SRT_deconvolution_MS/lib/python3.7/site-packages/py4j/clientserver.py\u001b[0m in \u001b[0;36msend_command\u001b[0;34m(self, command)\u001b[0m\n\u001b[1;32m    509\u001b[0m         \u001b[0;32mtry\u001b[0m\u001b[0;34m:\u001b[0m\u001b[0;34m\u001b[0m\u001b[0;34m\u001b[0m\u001b[0m\n\u001b[1;32m    510\u001b[0m             \u001b[0;32mwhile\u001b[0m \u001b[0;32mTrue\u001b[0m\u001b[0;34m:\u001b[0m\u001b[0;34m\u001b[0m\u001b[0;34m\u001b[0m\u001b[0m\n\u001b[0;32m--> 511\u001b[0;31m                 \u001b[0manswer\u001b[0m \u001b[0;34m=\u001b[0m \u001b[0msmart_decode\u001b[0m\u001b[0;34m(\u001b[0m\u001b[0mself\u001b[0m\u001b[0;34m.\u001b[0m\u001b[0mstream\u001b[0m\u001b[0;34m.\u001b[0m\u001b[0mreadline\u001b[0m\u001b[0;34m(\u001b[0m\u001b[0;34m)\u001b[0m\u001b[0;34m[\u001b[0m\u001b[0;34m:\u001b[0m\u001b[0;34m-\u001b[0m\u001b[0;36m1\u001b[0m\u001b[0;34m]\u001b[0m\u001b[0;34m)\u001b[0m\u001b[0;34m\u001b[0m\u001b[0;34m\u001b[0m\u001b[0m\n\u001b[0m\u001b[1;32m    512\u001b[0m                 \u001b[0mlogger\u001b[0m\u001b[0;34m.\u001b[0m\u001b[0mdebug\u001b[0m\u001b[0;34m(\u001b[0m\u001b[0;34m\"Answer received: {0}\"\u001b[0m\u001b[0;34m.\u001b[0m\u001b[0mformat\u001b[0m\u001b[0;34m(\u001b[0m\u001b[0manswer\u001b[0m\u001b[0;34m)\u001b[0m\u001b[0;34m)\u001b[0m\u001b[0;34m\u001b[0m\u001b[0;34m\u001b[0m\u001b[0m\n\u001b[1;32m    513\u001b[0m                 \u001b[0;31m# Happens when a the other end is dead. There might be an empty\u001b[0m\u001b[0;34m\u001b[0m\u001b[0;34m\u001b[0m\u001b[0;34m\u001b[0m\u001b[0m\n",
      "\u001b[0;32m~/mambaforge/envs/2023_06_26_SRT_deconvolution_MS/lib/python3.7/socket.py\u001b[0m in \u001b[0;36mreadinto\u001b[0;34m(self, b)\u001b[0m\n\u001b[1;32m    587\u001b[0m         \u001b[0;32mwhile\u001b[0m \u001b[0;32mTrue\u001b[0m\u001b[0;34m:\u001b[0m\u001b[0;34m\u001b[0m\u001b[0;34m\u001b[0m\u001b[0m\n\u001b[1;32m    588\u001b[0m             \u001b[0;32mtry\u001b[0m\u001b[0;34m:\u001b[0m\u001b[0;34m\u001b[0m\u001b[0;34m\u001b[0m\u001b[0m\n\u001b[0;32m--> 589\u001b[0;31m                 \u001b[0;32mreturn\u001b[0m \u001b[0mself\u001b[0m\u001b[0;34m.\u001b[0m\u001b[0m_sock\u001b[0m\u001b[0;34m.\u001b[0m\u001b[0mrecv_into\u001b[0m\u001b[0;34m(\u001b[0m\u001b[0mb\u001b[0m\u001b[0;34m)\u001b[0m\u001b[0;34m\u001b[0m\u001b[0;34m\u001b[0m\u001b[0m\n\u001b[0m\u001b[1;32m    590\u001b[0m             \u001b[0;32mexcept\u001b[0m \u001b[0mtimeout\u001b[0m\u001b[0;34m:\u001b[0m\u001b[0;34m\u001b[0m\u001b[0;34m\u001b[0m\u001b[0m\n\u001b[1;32m    591\u001b[0m                 \u001b[0mself\u001b[0m\u001b[0;34m.\u001b[0m\u001b[0m_timeout_occurred\u001b[0m \u001b[0;34m=\u001b[0m \u001b[0;32mTrue\u001b[0m\u001b[0;34m\u001b[0m\u001b[0;34m\u001b[0m\u001b[0m\n",
      "\u001b[0;31mKeyboardInterrupt\u001b[0m: "
     ]
    }
   ],
   "source": [
    "%%time\n",
    "# load parquet files for each celltype & count rows\n",
    "parquet_df, total_reads_per_celltype = cm.load_parquet_dataframe(parquet_path=PARQUET_PATH,\n",
    "                                                                  cell_types=CELLTYPES,\n",
    "                                                                  spark=spark,\n",
    "                                                                  verbose=True)\n",
    "\n",
    "# mix cell types for each proportion set\n",
    "cm.mix_celltypes_multiple_proportions(parquet_df=parquet_df,\n",
    "                                       total_reads_per_celltype=total_reads_per_celltype,\n",
    "                                    #    n=len(TITRATION_LIST), \n",
    "                                       n=N_REPLICATES,\n",
    "                                       cell_types=CELLTYPES, \n",
    "                                       cell_type_abridged_name=ABRIDGED_NAMES, \n",
    "                                       total_reads_to_sample=TOTAL_READS_TO_SAMPLE, \n",
    "                                       list_of_proportions=PROPORTIONS, \n",
    "                                       seed=SEED, \n",
    "                                       result_path=RESULT_PATH, \n",
    "                                       spark=spark,\n",
    "                                       verbose=False, \n",
    "                                       save=True)"
   ]
  },
  {
   "cell_type": "markdown",
   "metadata": {},
   "source": [
    "## Compute score matrix"
   ]
  },
  {
   "cell_type": "code",
   "execution_count": null,
   "metadata": {},
   "outputs": [],
   "source": [
    "############################\n",
    "#   Parameters and paths   # \n",
    "############################\n",
    "\n",
    "FILTER_CG_COUNT = 3\n",
    "FILTER_CG_COUNT_REGION = 1\n",
    "\n",
    "REGIONS = 'deconvolution_v2.v23_conv.with_cpg_index'\n",
    "REGION_BED_COLS = [\n",
    "    'region_chr', 'region_start', 'region_end', \n",
    "    'region_cpg_index_min', 'region_cpg_index_max', 'region_id'\n",
    "]\n",
    "\n",
    "# Regions\n",
    "REGION_PATH = (\n",
    "    PROJECT_DIR + '/stage/panel_data/{regions}.bed'\n",
    ").format(regions=REGIONS)\n",
    "\n",
    "# CpG map; genomic coordinate to CpG index;\n",
    "CPG_MAP_PATH = PROJECT_DIR + '/stage/cpg_loci/cpg_loci_hg19.combined_annot.tsv.gz'\n",
    "\n",
    "#--- Where to store results\n",
    "PATH_TO_MIXTURE_DIR = EXPERIMENT_CELLTYPE_DIR + 'mixture/'\n",
    "RESULT_PATH = EXPERIMENT_CELLTYPE_DIR\n"
   ]
  },
  {
   "cell_type": "code",
   "execution_count": null,
   "metadata": {},
   "outputs": [],
   "source": [
    "# cpg_map = pd.read_csv(CPG_MAP_PATH, usecols=['chr', 'start', 'end', 'cpg_index', 'cpg_index_hg38'], sep='\\t')"
   ]
  },
  {
   "cell_type": "code",
   "execution_count": null,
   "metadata": {},
   "outputs": [],
   "source": [
    "# %%time\n",
    "# ridxs = ~cpg_map['cpg_index_hg38'].isna()\n",
    "# hg19_hg38_map = dict(itertools.zip_longest(cpg_map[ridxs]['cpg_index'], cpg_map[ridxs]['cpg_index_hg38'].astype(int)))\n",
    "# hg38_hg19_map = dict(itertools.zip_longest(cpg_map[ridxs]['cpg_index_hg38'].astype(int), cpg_map[ridxs]['cpg_index']))"
   ]
  },
  {
   "cell_type": "code",
   "execution_count": null,
   "metadata": {},
   "outputs": [],
   "source": [
    "# region_df = pd.read_csv(REGION_PATH, sep='\\t', usecols=range(0, 6), names=REGION_BED_COLS)\n",
    "\n",
    "# region_df['region_cpg_index_max'] -= 1\n",
    "# region_df.sort_values('region_cpg_index_min', inplace=True)\n",
    "# region_df['region_cpg_index_min_hg38'] = region_df['region_cpg_index_min'].map(hg19_hg38_map)\n",
    "# region_df['region_cpg_index_max_hg38'] = region_df['region_cpg_index_max'].map(hg19_hg38_map)\n",
    "\n",
    "# region_df.shape[0], region_df['region_id'].nunique()"
   ]
  },
  {
   "cell_type": "code",
   "execution_count": null,
   "metadata": {},
   "outputs": [],
   "source": [
    "# ridxs = ~region_df['region_cpg_index_min_hg38'].isna()\n",
    "# ridxs &= ~region_df['region_cpg_index_max_hg38'].isna()\n",
    "# region_df = region_df[ridxs].copy()\n",
    "# region_df.shape[0], region_df['region_id'].nunique()"
   ]
  },
  {
   "cell_type": "code",
   "execution_count": null,
   "metadata": {},
   "outputs": [],
   "source": [
    "# cg_count_hg19 = region_df['region_cpg_index_max']-region_df['region_cpg_index_min'] + 1\n",
    "# cg_count_hg38 = region_df['region_cpg_index_max_hg38']-region_df['region_cpg_index_min_hg38'] + 1\n",
    "# ridxs = (cg_count_hg19==cg_count_hg38)\n",
    "# ridxs &= (cg_count_hg19>=FILTER_CG_COUNT_REGION)\n",
    "# region_df = region_df[ridxs].copy()\n",
    "# region_df.shape[0], region_df['region_id'].nunique()"
   ]
  },
  {
   "cell_type": "code",
   "execution_count": null,
   "metadata": {},
   "outputs": [],
   "source": [
    "# region_df['region_cpg_index_min_hg38'] = region_df['region_cpg_index_min_hg38'].astype(int)\n",
    "# region_df['region_cpg_index_max_hg38'] = region_df['region_cpg_index_max_hg38'].astype(int)"
   ]
  },
  {
   "cell_type": "code",
   "execution_count": null,
   "metadata": {},
   "outputs": [],
   "source": [
    "# ### Restrict to immune regions\n",
    "# #-------------- CHANGE HERE FOR DIFFERENT REGION SUBSET ----------------------\n",
    "# # BLUEPRINT immune regions\n",
    "# ATLAS_PATH = PROJECT_DIR + f'/output/reference/deconv_inhouse_v2.t_subset_same.atlas.tsv.gz'\n",
    "# atlas = pd.read_csv(ATLAS_PATH, sep='\\t')\n",
    "# subset_region_set = set(atlas.region_id)\n",
    "# #-----------------------------------------------------------------------------\n",
    "\n",
    "# # filter regions down to regions of interest\n",
    "# region_df = region_df[region_df['region_id'].isin(subset_region_set)]\n",
    "# region_df.head()"
   ]
  },
  {
   "cell_type": "code",
   "execution_count": null,
   "metadata": {},
   "outputs": [],
   "source": [
    "%%time\n",
    "\n",
    "PAT_COLS = [\n",
    "    'molecule_id', 'chr', 'number_molecules',\n",
    "    'cpg_index_min', 'cpg_index_max', 'pat_string', 'region_id', 'region_cpg_index_min', 'region_cpg_index_max'\n",
    "]\n",
    "\n",
    "QUANTILES = [0.1, 0.25, 0.75, 0.9]\n",
    "KMERS = [1, 3, 4]\n",
    "RATES_LEQ = [0.25]\n",
    "RATES_GEQ = [0.75]\n",
    "\n",
    "RETURN_SCHEMA = StructType()\\\n",
    "    .add('region_id', 'string')\\\n",
    "    .add('number_molecules', 'integer')\\\n",
    "    .add('meth_k1', 'integer')\\\n",
    "    .add('unmeth_k1', 'integer')\\\n",
    "    .add('total_k1', 'integer')\\\n",
    "    .add('meth_k3', 'integer')\\\n",
    "    .add('unmeth_k3', 'integer')\\\n",
    "    .add('total_k3', 'integer')\\\n",
    "    .add('meth_k4', 'integer')\\\n",
    "    .add('unmeth_k4', 'integer')\\\n",
    "    .add('total_k4', 'integer')\\\n",
    "    .add('frac_alpha_leq_25pct', 'float')\\\n",
    "    .add('frac_alpha_geq_75pct', 'float')\n",
    "\n",
    "compute_frag_scores_udf = sm.compute_frag_scores(cpg_number_cutoff=FILTER_CG_COUNT, \n",
    "                                                 schema=RETURN_SCHEMA, \n",
    "                                                 kmers=KMERS, \n",
    "                                                 rates_leq=RATES_LEQ, \n",
    "                                                 rates_geq=RATES_GEQ)\n",
    "\n",
    "\n",
    "# compute methyl score for are parquet files\n",
    "sm.score_matrix_from_mixture_directory(path_to_mixture_dir = PATH_TO_MIXTURE_DIR, \n",
    "                                       result_path = RESULT_PATH, \n",
    "                                       pat_cols = PAT_COLS, \n",
    "                                       batch_size = 20, \n",
    "                                       schema = RETURN_SCHEMA, \n",
    "                                       spark=spark,\n",
    "                                       compute_frag_scores_udf=compute_frag_scores_udf,\n",
    "                                       save=True, \n",
    "                                       verbose=False)"
   ]
  },
  {
   "cell_type": "markdown",
   "metadata": {},
   "source": [
    "## Deconvolution"
   ]
  },
  {
   "cell_type": "code",
   "execution_count": 8,
   "metadata": {},
   "outputs": [],
   "source": [
    "############################\n",
    "#   Parameters and paths   # \n",
    "############################\n",
    "\n",
    "FILTER_COV = 20\n",
    "\n",
    "SCORE_VAR = 'frac_alpha_leq_25pct'\n",
    "\n",
    "# Reference matrix\n",
    "ATLAS_PATH = PROJECT_DIR + 'output/reference/tsubset_without_shared/deconv_inhouse_v2.t_subset.only_naive_wo_CM.atlas.tsv.gz'\n",
    "REGION_PATH = PROJECT_DIR + 'output/reference/tsubset_without_shared/deconv_inhouse_v2.t_subset.only_naive_wo_CM.region_to_ref_celltype.tsv.gz'\n",
    "\n",
    "# Methylation score matrix\n",
    "SCORE_DIR = EXPERIMENT_CELLTYPE_DIR + 'methyl_score/'\n"
   ]
  },
  {
   "cell_type": "code",
   "execution_count": 9,
   "metadata": {
    "tags": []
   },
   "outputs": [
    {
     "data": {
      "text/plain": [
       "'/analysis/gh-msun/projects/2023_06_26_SRT_deconvolution_MS/output/experiment/t_subset_blueprint_2m_fix/t_effector-wholeblood//methyl_score/'"
      ]
     },
     "execution_count": 9,
     "metadata": {},
     "output_type": "execute_result"
    }
   ],
   "source": [
    "SCORE_DIR"
   ]
  },
  {
   "cell_type": "code",
   "execution_count": 10,
   "metadata": {},
   "outputs": [
    {
     "data": {
      "text/plain": [
       "(292, 11)"
      ]
     },
     "execution_count": 10,
     "metadata": {},
     "output_type": "execute_result"
    }
   ],
   "source": [
    "atlas = pd.read_csv(ATLAS_PATH, sep='\\t',index_col=None)\n",
    "atlas = atlas.set_index('region_id')\n",
    "atlas.columns.name = 'ref_celltype'\n",
    "atlas.shape\n",
    "\n",
    "ref_region_df = pd.read_csv(REGION_PATH, sep='\\t')\n",
    "\n",
    "atlas = atlas.loc[ref_region_df['region_id'], :].copy()\n",
    "atlas.shape"
   ]
  },
  {
   "cell_type": "code",
   "execution_count": 11,
   "metadata": {},
   "outputs": [
    {
     "name": "stdout",
     "output_type": "stream",
     "text": [
      "CPU times: user 4.5 s, sys: 161 ms, total: 4.66 s\n",
      "Wall time: 4.67 s\n"
     ]
    }
   ],
   "source": [
    "%%time\n",
    "\n",
    "deconvolution_nnls = dcnv.compute_deconvolution_from_methyl_score_dir_nnls(path_to_methyl_score_dir=SCORE_DIR, \n",
    "                                                                          score_type=SCORE_VAR, \n",
    "                                                                          atlas=atlas, \n",
    "                                                                          match=False)\n",
    "\n",
    "deconvolution_naive = dcnv.compute_deconvolution_from_methyl_score_dir_naive(path_to_methyl_score_dir=SCORE_DIR, \n",
    "                                                                             filter_cov=FILTER_COV, \n",
    "                                                                             score_var=SCORE_VAR, \n",
    "                                                                             ref_region_df=ref_region_df)\n"
   ]
  },
  {
   "cell_type": "code",
   "execution_count": 12,
   "metadata": {
    "tags": []
   },
   "outputs": [
    {
     "data": {
      "text/plain": [
       "'/analysis/gh-msun/projects/2023_06_26_SRT_deconvolution_MS/output/experiment/t_subset_blueprint_2m_fix/t_effector-wholeblood//methyl_score/'"
      ]
     },
     "execution_count": 12,
     "metadata": {},
     "output_type": "execute_result"
    }
   ],
   "source": [
    "SCORE_DIR"
   ]
  },
  {
   "cell_type": "code",
   "execution_count": 13,
   "metadata": {},
   "outputs": [],
   "source": [
    "\n",
    "# dcnv.boxplot_titration_combined(list_of_deconvolution_dfs_naive=deconvolution_naive,\n",
    "#                        list_of_deconvolution_dfs_nnls=deconvolution_nnls,\n",
    "#                       cell_type=TITRATING_CELLTYPE_ATLAS,\n",
    "#                       true_proportions=[round(x, 4) for x in teff_titrating_proprotions]\n",
    "#                       )"
   ]
  },
  {
   "cell_type": "code",
   "execution_count": 14,
   "metadata": {},
   "outputs": [],
   "source": [
    "# dcnv.boxplot_titration_zoom_combined(list_of_deconvolution_dfs_naive=deconvolution_naive,\n",
    "#                        list_of_deconvolution_dfs_nnls=deconvolution_nnls,\n",
    "#                       cell_type=TITRATING_CELLTYPE_ATLAS,\n",
    "#                       true_proportions=[round(x, 4) for x in treg_titrating_proprotions]\n",
    "#                       )"
   ]
  },
  {
   "cell_type": "code",
   "execution_count": 15,
   "metadata": {
    "tags": []
   },
   "outputs": [
    {
     "data": {
      "text/plain": [
       "<module 'helper' from '/analysis/gh-msun/projects/2023_06_26_SRT_deconvolution_MS/scripts/helper.py'>"
      ]
     },
     "execution_count": 15,
     "metadata": {},
     "output_type": "execute_result"
    }
   ],
   "source": [
    "importlib.reload(cm)\n",
    "importlib.reload(sm)\n",
    "importlib.reload(dcnv)\n",
    "importlib.reload(hlpr)"
   ]
  },
  {
   "cell_type": "code",
   "execution_count": 16,
   "metadata": {
    "tags": []
   },
   "outputs": [
    {
     "data": {
      "text/plain": [
       "'immune_t_effector'"
      ]
     },
     "execution_count": 16,
     "metadata": {},
     "output_type": "execute_result"
    }
   ],
   "source": [
    "TITRATING_CELLTYPE_ATLAS"
   ]
  },
  {
   "cell_type": "code",
   "execution_count": 17,
   "metadata": {},
   "outputs": [
    {
     "data": {
      "image/png": "[encoded data removed]",
      "text/plain": [
       "<Figure size 864x432 with 1 Axes>"
      ]
     },
     "metadata": {
      "needs_background": "light"
     },
     "output_type": "display_data"
    }
   ],
   "source": [
    "\n",
    "dcnv.boxplot_titration(list_of_deconvolution_dfs=deconvolution_nnls,\n",
    "                      cell_type=TITRATING_CELLTYPE_ATLAS,\n",
    "                      true_proportions=[round(x, 4) for x in teff_titrating_proprotions],\n",
    "                      deconvolution_method_name='nnls'\n",
    "                      )"
   ]
  },
  {
   "cell_type": "code",
   "execution_count": 18,
   "metadata": {
    "tags": []
   },
   "outputs": [
    {
     "data": {
      "text/plain": [
       "'/analysis/gh-msun/projects/2023_06_26_SRT_deconvolution_MS/output/experiment/t_subset_blueprint_2m_fix/t_effector-wholeblood//methyl_score/'"
      ]
     },
     "execution_count": 18,
     "metadata": {},
     "output_type": "execute_result"
    }
   ],
   "source": [
    "SCORE_DIR"
   ]
  },
  {
   "cell_type": "code",
   "execution_count": 19,
   "metadata": {
    "tags": []
   },
   "outputs": [
    {
     "data": {
      "image/png": "[encoded data removed]",
      "text/plain": [
       "<Figure size 864x432 with 1 Axes>"
      ]
     },
     "metadata": {
      "needs_background": "light"
     },
     "output_type": "display_data"
    }
   ],
   "source": [
    "\n",
    "dcnv.boxplot_titration(list_of_deconvolution_dfs=deconvolution_nnls,\n",
    "                      cell_type='immune_treg',\n",
    "                      true_proportions=[round(x, 8) for x in treg_titrating_proprotions],\n",
    "                      deconvolution_method_name='nnls'\n",
    "                      )"
   ]
  },
  {
   "cell_type": "code",
   "execution_count": 20,
   "metadata": {
    "tags": []
   },
   "outputs": [
    {
     "data": {
      "text/plain": [
       "'/analysis/gh-msun/projects/2023_06_26_SRT_deconvolution_MS/output/experiment/t_subset_blueprint_2m_fix/t_effector-wholeblood//methyl_score/'"
      ]
     },
     "execution_count": 20,
     "metadata": {},
     "output_type": "execute_result"
    }
   ],
   "source": [
    "SCORE_DIR"
   ]
  },
  {
   "cell_type": "code",
   "execution_count": 21,
   "metadata": {
    "tags": []
   },
   "outputs": [
    {
     "data": {
      "image/png": "[encoded data removed]",
      "text/plain": [
       "<Figure size 864x432 with 1 Axes>"
      ]
     },
     "metadata": {
      "needs_background": "light"
     },
     "output_type": "display_data"
    }
   ],
   "source": [
    "deconvolution_nnls = dcnv.compute_deconvolution_from_methyl_score_dir_nnls(path_to_methyl_score_dir=SCORE_DIR, \n",
    "                                                                          score_type=SCORE_VAR, \n",
    "                                                                          atlas=atlas, \n",
    "                                                                          match=False)\n",
    "\n",
    "dcnv.boxplot_titration(list_of_deconvolution_dfs=deconvolution_nnls,\n",
    "                      cell_type='immune_t_naive',\n",
    "                      true_proportions=[round(x, 4) for x in tnai_titrating_proprotions],\n",
    "                      deconvolution_method_name='nnls'\n",
    "                      )"
   ]
  },
  {
   "cell_type": "code",
   "execution_count": 22,
   "metadata": {
    "tags": []
   },
   "outputs": [
    {
     "data": {
      "text/plain": [
       "'/analysis/gh-msun/projects/2023_06_26_SRT_deconvolution_MS/output/experiment/t_subset_blueprint_2m_fix/t_effector-wholeblood//methyl_score/'"
      ]
     },
     "execution_count": 22,
     "metadata": {},
     "output_type": "execute_result"
    }
   ],
   "source": [
    "SCORE_DIR"
   ]
  },
  {
   "cell_type": "code",
   "execution_count": 23,
   "metadata": {},
   "outputs": [
    {
     "data": {
      "image/png": "[encoded data removed]",
      "text/plain": [
       "<Figure size 720x720 with 14 Axes>"
      ]
     },
     "metadata": {
      "needs_background": "light"
     },
     "output_type": "display_data"
    }
   ],
   "source": [
    "dcnv.boxplot_titration_zoom(list_of_deconvolution_dfs=deconvolution_nnls,\n",
    "                      cell_type=TITRATING_CELLTYPE_ATLAS,\n",
    "                      true_proportions=[round(x, 4) for x in teff_titrating_proprotions],\n",
    "                      deconvolution_method_name='nnls')"
   ]
  },
  {
   "cell_type": "code",
   "execution_count": 24,
   "metadata": {
    "tags": []
   },
   "outputs": [
    {
     "data": {
      "text/plain": [
       "'/analysis/gh-msun/projects/2023_06_26_SRT_deconvolution_MS/output/experiment/t_subset_blueprint_2m_fix/t_effector-wholeblood//methyl_score/'"
      ]
     },
     "execution_count": 24,
     "metadata": {},
     "output_type": "execute_result"
    }
   ],
   "source": [
    "SCORE_DIR"
   ]
  },
  {
   "cell_type": "code",
   "execution_count": 25,
   "metadata": {},
   "outputs": [
    {
     "data": {
      "text/html": [
       "<div>\n",
       "<style scoped>\n",
       "    .dataframe tbody tr th:only-of-type {\n",
       "        vertical-align: middle;\n",
       "    }\n",
       "\n",
       "    .dataframe tbody tr th {\n",
       "        vertical-align: top;\n",
       "    }\n",
       "\n",
       "    .dataframe thead th {\n",
       "        text-align: right;\n",
       "    }\n",
       "</style>\n",
       "<table border=\"1\" class=\"dataframe\">\n",
       "  <thead>\n",
       "    <tr style=\"text-align: right;\">\n",
       "      <th></th>\n",
       "      <th>0</th>\n",
       "      <th>1</th>\n",
       "      <th>2</th>\n",
       "      <th>3</th>\n",
       "      <th>4</th>\n",
       "      <th>5</th>\n",
       "      <th>6</th>\n",
       "      <th>7</th>\n",
       "      <th>8</th>\n",
       "      <th>9</th>\n",
       "      <th>10</th>\n",
       "      <th>11</th>\n",
       "      <th>12</th>\n",
       "      <th>13</th>\n",
       "      <th>14</th>\n",
       "      <th>15</th>\n",
       "      <th>16</th>\n",
       "      <th>17</th>\n",
       "      <th>18</th>\n",
       "      <th>19</th>\n",
       "    </tr>\n",
       "    <tr>\n",
       "      <th>ref_celltype</th>\n",
       "      <th></th>\n",
       "      <th></th>\n",
       "      <th></th>\n",
       "      <th></th>\n",
       "      <th></th>\n",
       "      <th></th>\n",
       "      <th></th>\n",
       "      <th></th>\n",
       "      <th></th>\n",
       "      <th></th>\n",
       "      <th></th>\n",
       "      <th></th>\n",
       "      <th></th>\n",
       "      <th></th>\n",
       "      <th></th>\n",
       "      <th></th>\n",
       "      <th></th>\n",
       "      <th></th>\n",
       "      <th></th>\n",
       "      <th></th>\n",
       "    </tr>\n",
       "  </thead>\n",
       "  <tbody>\n",
       "    <tr>\n",
       "      <th>immune_b</th>\n",
       "      <td>0.059431</td>\n",
       "      <td>0.059334</td>\n",
       "      <td>0.058749</td>\n",
       "      <td>0.059659</td>\n",
       "      <td>0.058412</td>\n",
       "      <td>0.056763</td>\n",
       "      <td>0.062540</td>\n",
       "      <td>0.058095</td>\n",
       "      <td>0.059096</td>\n",
       "      <td>0.061188</td>\n",
       "      <td>0.061498</td>\n",
       "      <td>0.059252</td>\n",
       "      <td>0.062817</td>\n",
       "      <td>0.059940</td>\n",
       "      <td>0.060778</td>\n",
       "      <td>0.059042</td>\n",
       "      <td>0.057586</td>\n",
       "      <td>0.059010</td>\n",
       "      <td>0.059827</td>\n",
       "      <td>0.059880</td>\n",
       "    </tr>\n",
       "    <tr>\n",
       "      <th>immune_t_naive</th>\n",
       "      <td>0.147335</td>\n",
       "      <td>0.157610</td>\n",
       "      <td>0.143648</td>\n",
       "      <td>0.153300</td>\n",
       "      <td>0.145045</td>\n",
       "      <td>0.150982</td>\n",
       "      <td>0.149611</td>\n",
       "      <td>0.146773</td>\n",
       "      <td>0.143448</td>\n",
       "      <td>0.139334</td>\n",
       "      <td>0.145932</td>\n",
       "      <td>0.152060</td>\n",
       "      <td>0.151433</td>\n",
       "      <td>0.145761</td>\n",
       "      <td>0.144908</td>\n",
       "      <td>0.150416</td>\n",
       "      <td>0.146470</td>\n",
       "      <td>0.146701</td>\n",
       "      <td>0.156428</td>\n",
       "      <td>0.154684</td>\n",
       "    </tr>\n",
       "    <tr>\n",
       "      <th>immune_t_effector</th>\n",
       "      <td>0.043917</td>\n",
       "      <td>0.040769</td>\n",
       "      <td>0.040943</td>\n",
       "      <td>0.043841</td>\n",
       "      <td>0.051028</td>\n",
       "      <td>0.051604</td>\n",
       "      <td>0.040031</td>\n",
       "      <td>0.041324</td>\n",
       "      <td>0.043438</td>\n",
       "      <td>0.044835</td>\n",
       "      <td>0.051378</td>\n",
       "      <td>0.047542</td>\n",
       "      <td>0.041988</td>\n",
       "      <td>0.043090</td>\n",
       "      <td>0.046841</td>\n",
       "      <td>0.033554</td>\n",
       "      <td>0.048451</td>\n",
       "      <td>0.061814</td>\n",
       "      <td>0.039907</td>\n",
       "      <td>0.045601</td>\n",
       "    </tr>\n",
       "    <tr>\n",
       "      <th>immune_treg</th>\n",
       "      <td>0.020895</td>\n",
       "      <td>0.013929</td>\n",
       "      <td>0.018509</td>\n",
       "      <td>0.017620</td>\n",
       "      <td>0.017189</td>\n",
       "      <td>0.014971</td>\n",
       "      <td>0.018622</td>\n",
       "      <td>0.018034</td>\n",
       "      <td>0.018713</td>\n",
       "      <td>0.018155</td>\n",
       "      <td>0.016908</td>\n",
       "      <td>0.013534</td>\n",
       "      <td>0.017847</td>\n",
       "      <td>0.017400</td>\n",
       "      <td>0.017014</td>\n",
       "      <td>0.017163</td>\n",
       "      <td>0.017323</td>\n",
       "      <td>0.012806</td>\n",
       "      <td>0.020524</td>\n",
       "      <td>0.014905</td>\n",
       "    </tr>\n",
       "    <tr>\n",
       "      <th>immune_nk</th>\n",
       "      <td>0.047622</td>\n",
       "      <td>0.046913</td>\n",
       "      <td>0.047767</td>\n",
       "      <td>0.048128</td>\n",
       "      <td>0.047773</td>\n",
       "      <td>0.047034</td>\n",
       "      <td>0.048232</td>\n",
       "      <td>0.048190</td>\n",
       "      <td>0.049949</td>\n",
       "      <td>0.047407</td>\n",
       "      <td>0.049401</td>\n",
       "      <td>0.049212</td>\n",
       "      <td>0.047452</td>\n",
       "      <td>0.047278</td>\n",
       "      <td>0.045648</td>\n",
       "      <td>0.050645</td>\n",
       "      <td>0.047036</td>\n",
       "      <td>0.046980</td>\n",
       "      <td>0.049491</td>\n",
       "      <td>0.045351</td>\n",
       "    </tr>\n",
       "    <tr>\n",
       "      <th>immune_mono</th>\n",
       "      <td>0.097843</td>\n",
       "      <td>0.089346</td>\n",
       "      <td>0.097769</td>\n",
       "      <td>0.097290</td>\n",
       "      <td>0.094329</td>\n",
       "      <td>0.096629</td>\n",
       "      <td>0.095976</td>\n",
       "      <td>0.095283</td>\n",
       "      <td>0.101737</td>\n",
       "      <td>0.097908</td>\n",
       "      <td>0.102883</td>\n",
       "      <td>0.106456</td>\n",
       "      <td>0.104023</td>\n",
       "      <td>0.100591</td>\n",
       "      <td>0.102403</td>\n",
       "      <td>0.098980</td>\n",
       "      <td>0.103530</td>\n",
       "      <td>0.107077</td>\n",
       "      <td>0.105500</td>\n",
       "      <td>0.110661</td>\n",
       "    </tr>\n",
       "    <tr>\n",
       "      <th>immune_eosi</th>\n",
       "      <td>0.000000</td>\n",
       "      <td>0.000266</td>\n",
       "      <td>0.000000</td>\n",
       "      <td>0.000000</td>\n",
       "      <td>0.000000</td>\n",
       "      <td>0.001127</td>\n",
       "      <td>0.002232</td>\n",
       "      <td>0.000000</td>\n",
       "      <td>0.000000</td>\n",
       "      <td>0.000000</td>\n",
       "      <td>0.000000</td>\n",
       "      <td>0.000000</td>\n",
       "      <td>0.000000</td>\n",
       "      <td>0.000000</td>\n",
       "      <td>0.000000</td>\n",
       "      <td>0.000000</td>\n",
       "      <td>0.000000</td>\n",
       "      <td>0.000118</td>\n",
       "      <td>0.000000</td>\n",
       "      <td>0.000000</td>\n",
       "    </tr>\n",
       "    <tr>\n",
       "      <th>immune_neutro</th>\n",
       "      <td>0.558218</td>\n",
       "      <td>0.556919</td>\n",
       "      <td>0.561944</td>\n",
       "      <td>0.559017</td>\n",
       "      <td>0.556624</td>\n",
       "      <td>0.553033</td>\n",
       "      <td>0.557261</td>\n",
       "      <td>0.556145</td>\n",
       "      <td>0.554783</td>\n",
       "      <td>0.561868</td>\n",
       "      <td>0.558853</td>\n",
       "      <td>0.553809</td>\n",
       "      <td>0.557439</td>\n",
       "      <td>0.557406</td>\n",
       "      <td>0.555717</td>\n",
       "      <td>0.552756</td>\n",
       "      <td>0.557774</td>\n",
       "      <td>0.556037</td>\n",
       "      <td>0.556322</td>\n",
       "      <td>0.547902</td>\n",
       "    </tr>\n",
       "    <tr>\n",
       "      <th>immune_eryth</th>\n",
       "      <td>0.000953</td>\n",
       "      <td>0.000000</td>\n",
       "      <td>0.001180</td>\n",
       "      <td>0.000000</td>\n",
       "      <td>0.000210</td>\n",
       "      <td>0.000872</td>\n",
       "      <td>0.000000</td>\n",
       "      <td>0.001784</td>\n",
       "      <td>0.001658</td>\n",
       "      <td>0.000000</td>\n",
       "      <td>0.001713</td>\n",
       "      <td>0.000000</td>\n",
       "      <td>0.001242</td>\n",
       "      <td>0.000088</td>\n",
       "      <td>0.003120</td>\n",
       "      <td>0.000000</td>\n",
       "      <td>0.000444</td>\n",
       "      <td>0.000000</td>\n",
       "      <td>0.001784</td>\n",
       "      <td>0.000653</td>\n",
       "    </tr>\n",
       "    <tr>\n",
       "      <th>immune_mega</th>\n",
       "      <td>0.000000</td>\n",
       "      <td>0.000000</td>\n",
       "      <td>0.000319</td>\n",
       "      <td>0.000000</td>\n",
       "      <td>0.000000</td>\n",
       "      <td>0.000277</td>\n",
       "      <td>0.001674</td>\n",
       "      <td>0.000000</td>\n",
       "      <td>0.000000</td>\n",
       "      <td>0.000000</td>\n",
       "      <td>0.000000</td>\n",
       "      <td>0.000289</td>\n",
       "      <td>0.000000</td>\n",
       "      <td>0.000000</td>\n",
       "      <td>0.000000</td>\n",
       "      <td>0.000000</td>\n",
       "      <td>0.000000</td>\n",
       "      <td>0.000000</td>\n",
       "      <td>0.000000</td>\n",
       "      <td>0.000000</td>\n",
       "    </tr>\n",
       "    <tr>\n",
       "      <th>eryth_prog</th>\n",
       "      <td>0.000000</td>\n",
       "      <td>0.000268</td>\n",
       "      <td>0.000493</td>\n",
       "      <td>0.000000</td>\n",
       "      <td>0.000000</td>\n",
       "      <td>0.000000</td>\n",
       "      <td>0.000061</td>\n",
       "      <td>0.000000</td>\n",
       "      <td>0.000000</td>\n",
       "      <td>0.000000</td>\n",
       "      <td>0.000000</td>\n",
       "      <td>0.000000</td>\n",
       "      <td>0.000000</td>\n",
       "      <td>0.000000</td>\n",
       "      <td>0.000084</td>\n",
       "      <td>0.000256</td>\n",
       "      <td>0.000000</td>\n",
       "      <td>0.000000</td>\n",
       "      <td>0.000000</td>\n",
       "      <td>0.000000</td>\n",
       "    </tr>\n",
       "  </tbody>\n",
       "</table>\n",
       "</div>"
      ],
      "text/plain": [
       "                         0         1         2         3         4         5         6         7         8         9         10        11        12        13        14        15        16        17        18        19\n",
       "ref_celltype                                                                                                                                                                                                             \n",
       "immune_b           0.059431  0.059334  0.058749  0.059659  0.058412  0.056763  0.062540  0.058095  0.059096  0.061188  0.061498  0.059252  0.062817  0.059940  0.060778  0.059042  0.057586  0.059010  0.059827  0.059880\n",
       "immune_t_naive     0.147335  0.157610  0.143648  0.153300  0.145045  0.150982  0.149611  0.146773  0.143448  0.139334  0.145932  0.152060  0.151433  0.145761  0.144908  0.150416  0.146470  0.146701  0.156428  0.154684\n",
       "immune_t_effector  0.043917  0.040769  0.040943  0.043841  0.051028  0.051604  0.040031  0.041324  0.043438  0.044835  0.051378  0.047542  0.041988  0.043090  0.046841  0.033554  0.048451  0.061814  0.039907  0.045601\n",
       "immune_treg        0.020895  0.013929  0.018509  0.017620  0.017189  0.014971  0.018622  0.018034  0.018713  0.018155  0.016908  0.013534  0.017847  0.017400  0.017014  0.017163  0.017323  0.012806  0.020524  0.014905\n",
       "immune_nk          0.047622  0.046913  0.047767  0.048128  0.047773  0.047034  0.048232  0.048190  0.049949  0.047407  0.049401  0.049212  0.047452  0.047278  0.045648  0.050645  0.047036  0.046980  0.049491  0.045351\n",
       "immune_mono        0.097843  0.089346  0.097769  0.097290  0.094329  0.096629  0.095976  0.095283  0.101737  0.097908  0.102883  0.106456  0.104023  0.100591  0.102403  0.098980  0.103530  0.107077  0.105500  0.110661\n",
       "immune_eosi        0.000000  0.000266  0.000000  0.000000  0.000000  0.001127  0.002232  0.000000  0.000000  0.000000  0.000000  0.000000  0.000000  0.000000  0.000000  0.000000  0.000000  0.000118  0.000000  0.000000\n",
       "immune_neutro      0.558218  0.556919  0.561944  0.559017  0.556624  0.553033  0.557261  0.556145  0.554783  0.561868  0.558853  0.553809  0.557439  0.557406  0.555717  0.552756  0.557774  0.556037  0.556322  0.547902\n",
       "immune_eryth       0.000953  0.000000  0.001180  0.000000  0.000210  0.000872  0.000000  0.001784  0.001658  0.000000  0.001713  0.000000  0.001242  0.000088  0.003120  0.000000  0.000444  0.000000  0.001784  0.000653\n",
       "immune_mega        0.000000  0.000000  0.000319  0.000000  0.000000  0.000277  0.001674  0.000000  0.000000  0.000000  0.000000  0.000289  0.000000  0.000000  0.000000  0.000000  0.000000  0.000000  0.000000  0.000000\n",
       "eryth_prog         0.000000  0.000268  0.000493  0.000000  0.000000  0.000000  0.000061  0.000000  0.000000  0.000000  0.000000  0.000000  0.000000  0.000000  0.000084  0.000256  0.000000  0.000000  0.000000  0.000000"
      ]
     },
     "execution_count": 25,
     "metadata": {},
     "output_type": "execute_result"
    }
   ],
   "source": [
    "deconvolution_nnls[0]"
   ]
  },
  {
   "cell_type": "code",
   "execution_count": 33,
   "metadata": {
    "tags": []
   },
   "outputs": [
    {
     "name": "stdout",
     "output_type": "stream",
     "text": [
      "CPU times: user 13.7 s, sys: 99.5 ms, total: 13.8 s\n",
      "Wall time: 13.8 s\n"
     ]
    }
   ],
   "source": [
    "%%time\n",
    "\n",
    "CELLTYPES = ['t_effector',\n",
    "             't_reg',\n",
    "            't_naive']\n",
    "\n",
    "# load score data from all cell types\n",
    "deconvolution_nnls = []\n",
    "\n",
    "TITRATION_LIST = teff_titrating_proprotions\n",
    "SCORE_VAR = 'frac_alpha_leq_25pct'\n",
    "FILTER_COV = 20\n",
    "\n",
    "for celltype in CELLTYPES: \n",
    "    EXPERIMENT_NAME = f'{celltype}-{BACKGROUND}/'            # <-- iterate over this\n",
    "    EXPERIMENT_CELLTYPE_DIR = EXPERIMENT_DIR + f'{EXPERIMENT_NAME}/'\n",
    "    SCORE_DIR = EXPERIMENT_CELLTYPE_DIR + 'methyl_score/'\n",
    "\n",
    "    # iterate nnls deconvolition on each score_df\n",
    "    deconv_nnls = dcnv.compute_deconvolution_from_methyl_score_dir_nnls(path_to_methyl_score_dir=SCORE_DIR, \n",
    "                                                                          score_type=SCORE_VAR, \n",
    "                                                                          atlas=atlas, \n",
    "                                                                          match=False)\n",
    "    \n",
    "    deconvolution_nnls.append(deconv_nnls)"
   ]
  },
  {
   "cell_type": "code",
   "execution_count": 34,
   "metadata": {
    "tags": []
   },
   "outputs": [
    {
     "data": {
      "text/plain": [
       "'/analysis/gh-msun/projects/2023_06_26_SRT_deconvolution_MS/output/experiment/t_subset_blueprint_2m_fix/t_naive-wholeblood//methyl_score/'"
      ]
     },
     "execution_count": 34,
     "metadata": {},
     "output_type": "execute_result"
    }
   ],
   "source": [
    "SCORE_DIR"
   ]
  },
  {
   "cell_type": "code",
   "execution_count": 46,
   "metadata": {
    "tags": []
   },
   "outputs": [
    {
     "data": {
      "text/html": [
       "<div>\n",
       "<style scoped>\n",
       "    .dataframe tbody tr th:only-of-type {\n",
       "        vertical-align: middle;\n",
       "    }\n",
       "\n",
       "    .dataframe tbody tr th {\n",
       "        vertical-align: top;\n",
       "    }\n",
       "\n",
       "    .dataframe thead th {\n",
       "        text-align: right;\n",
       "    }\n",
       "</style>\n",
       "<table border=\"1\" class=\"dataframe\">\n",
       "  <thead>\n",
       "    <tr style=\"text-align: right;\">\n",
       "      <th></th>\n",
       "      <th>0</th>\n",
       "      <th>1</th>\n",
       "      <th>2</th>\n",
       "      <th>3</th>\n",
       "      <th>4</th>\n",
       "      <th>5</th>\n",
       "      <th>6</th>\n",
       "      <th>7</th>\n",
       "      <th>8</th>\n",
       "      <th>9</th>\n",
       "      <th>10</th>\n",
       "      <th>11</th>\n",
       "      <th>12</th>\n",
       "      <th>13</th>\n",
       "      <th>14</th>\n",
       "      <th>15</th>\n",
       "      <th>16</th>\n",
       "      <th>17</th>\n",
       "      <th>18</th>\n",
       "      <th>19</th>\n",
       "    </tr>\n",
       "    <tr>\n",
       "      <th>ref_celltype</th>\n",
       "      <th></th>\n",
       "      <th></th>\n",
       "      <th></th>\n",
       "      <th></th>\n",
       "      <th></th>\n",
       "      <th></th>\n",
       "      <th></th>\n",
       "      <th></th>\n",
       "      <th></th>\n",
       "      <th></th>\n",
       "      <th></th>\n",
       "      <th></th>\n",
       "      <th></th>\n",
       "      <th></th>\n",
       "      <th></th>\n",
       "      <th></th>\n",
       "      <th></th>\n",
       "      <th></th>\n",
       "      <th></th>\n",
       "      <th></th>\n",
       "    </tr>\n",
       "  </thead>\n",
       "  <tbody>\n",
       "    <tr>\n",
       "      <th>immune_b</th>\n",
       "      <td>0.059384</td>\n",
       "      <td>0.059504</td>\n",
       "      <td>0.058849</td>\n",
       "      <td>0.059645</td>\n",
       "      <td>0.058530</td>\n",
       "      <td>0.056807</td>\n",
       "      <td>0.062712</td>\n",
       "      <td>0.058413</td>\n",
       "      <td>0.058973</td>\n",
       "      <td>0.061012</td>\n",
       "      <td>0.061785</td>\n",
       "      <td>0.059327</td>\n",
       "      <td>0.062786</td>\n",
       "      <td>0.060055</td>\n",
       "      <td>6.093314e-02</td>\n",
       "      <td>0.059080</td>\n",
       "      <td>0.057668</td>\n",
       "      <td>0.059036</td>\n",
       "      <td>0.059763</td>\n",
       "      <td>0.059954</td>\n",
       "    </tr>\n",
       "    <tr>\n",
       "      <th>immune_t_naive</th>\n",
       "      <td>0.129630</td>\n",
       "      <td>0.140710</td>\n",
       "      <td>0.127208</td>\n",
       "      <td>0.133673</td>\n",
       "      <td>0.126404</td>\n",
       "      <td>0.135376</td>\n",
       "      <td>0.128846</td>\n",
       "      <td>0.131435</td>\n",
       "      <td>0.128091</td>\n",
       "      <td>0.126753</td>\n",
       "      <td>0.127985</td>\n",
       "      <td>0.138699</td>\n",
       "      <td>0.130392</td>\n",
       "      <td>0.128437</td>\n",
       "      <td>1.281850e-01</td>\n",
       "      <td>0.133435</td>\n",
       "      <td>0.131293</td>\n",
       "      <td>0.128315</td>\n",
       "      <td>0.143321</td>\n",
       "      <td>0.138119</td>\n",
       "    </tr>\n",
       "    <tr>\n",
       "      <th>immune_t_effector</th>\n",
       "      <td>0.039411</td>\n",
       "      <td>0.036046</td>\n",
       "      <td>0.035446</td>\n",
       "      <td>0.041025</td>\n",
       "      <td>0.045117</td>\n",
       "      <td>0.044658</td>\n",
       "      <td>0.039271</td>\n",
       "      <td>0.035441</td>\n",
       "      <td>0.029783</td>\n",
       "      <td>0.034032</td>\n",
       "      <td>0.045852</td>\n",
       "      <td>0.039879</td>\n",
       "      <td>0.037924</td>\n",
       "      <td>0.031846</td>\n",
       "      <td>3.694117e-02</td>\n",
       "      <td>0.023142</td>\n",
       "      <td>0.041526</td>\n",
       "      <td>0.050844</td>\n",
       "      <td>0.034668</td>\n",
       "      <td>0.036827</td>\n",
       "    </tr>\n",
       "    <tr>\n",
       "      <th>immune_treg</th>\n",
       "      <td>0.047123</td>\n",
       "      <td>0.039807</td>\n",
       "      <td>0.041431</td>\n",
       "      <td>0.043146</td>\n",
       "      <td>0.041204</td>\n",
       "      <td>0.040442</td>\n",
       "      <td>0.042672</td>\n",
       "      <td>0.042345</td>\n",
       "      <td>0.044213</td>\n",
       "      <td>0.045116</td>\n",
       "      <td>0.042378</td>\n",
       "      <td>0.037132</td>\n",
       "      <td>0.042408</td>\n",
       "      <td>0.041653</td>\n",
       "      <td>4.324076e-02</td>\n",
       "      <td>0.042431</td>\n",
       "      <td>0.041853</td>\n",
       "      <td>0.038161</td>\n",
       "      <td>0.042677</td>\n",
       "      <td>0.040269</td>\n",
       "    </tr>\n",
       "    <tr>\n",
       "      <th>immune_nk</th>\n",
       "      <td>0.047152</td>\n",
       "      <td>0.046868</td>\n",
       "      <td>0.047820</td>\n",
       "      <td>0.047721</td>\n",
       "      <td>0.047629</td>\n",
       "      <td>0.046877</td>\n",
       "      <td>0.048053</td>\n",
       "      <td>0.048017</td>\n",
       "      <td>0.050529</td>\n",
       "      <td>0.046992</td>\n",
       "      <td>0.049375</td>\n",
       "      <td>0.049155</td>\n",
       "      <td>0.047111</td>\n",
       "      <td>0.047520</td>\n",
       "      <td>4.533499e-02</td>\n",
       "      <td>0.050990</td>\n",
       "      <td>0.047398</td>\n",
       "      <td>0.047675</td>\n",
       "      <td>0.048883</td>\n",
       "      <td>0.045620</td>\n",
       "    </tr>\n",
       "    <tr>\n",
       "      <th>immune_mono</th>\n",
       "      <td>0.097194</td>\n",
       "      <td>0.089302</td>\n",
       "      <td>0.096853</td>\n",
       "      <td>0.097027</td>\n",
       "      <td>0.094128</td>\n",
       "      <td>0.095747</td>\n",
       "      <td>0.095432</td>\n",
       "      <td>0.094903</td>\n",
       "      <td>0.102822</td>\n",
       "      <td>0.096692</td>\n",
       "      <td>0.102559</td>\n",
       "      <td>0.106972</td>\n",
       "      <td>0.103995</td>\n",
       "      <td>0.100930</td>\n",
       "      <td>1.017125e-01</td>\n",
       "      <td>0.098647</td>\n",
       "      <td>0.102362</td>\n",
       "      <td>0.106168</td>\n",
       "      <td>0.105101</td>\n",
       "      <td>0.109959</td>\n",
       "    </tr>\n",
       "    <tr>\n",
       "      <th>immune_eosi</th>\n",
       "      <td>0.000000</td>\n",
       "      <td>0.000272</td>\n",
       "      <td>0.000000</td>\n",
       "      <td>0.000000</td>\n",
       "      <td>0.000000</td>\n",
       "      <td>0.001052</td>\n",
       "      <td>0.002248</td>\n",
       "      <td>0.000000</td>\n",
       "      <td>0.000000</td>\n",
       "      <td>0.000000</td>\n",
       "      <td>0.000000</td>\n",
       "      <td>0.000000</td>\n",
       "      <td>0.000000</td>\n",
       "      <td>0.000000</td>\n",
       "      <td>0.000000e+00</td>\n",
       "      <td>0.000000</td>\n",
       "      <td>0.000000</td>\n",
       "      <td>0.000193</td>\n",
       "      <td>0.000000</td>\n",
       "      <td>0.000000</td>\n",
       "    </tr>\n",
       "    <tr>\n",
       "      <th>immune_neutro</th>\n",
       "      <td>0.557328</td>\n",
       "      <td>0.555639</td>\n",
       "      <td>0.560441</td>\n",
       "      <td>0.558235</td>\n",
       "      <td>0.556974</td>\n",
       "      <td>0.552341</td>\n",
       "      <td>0.556381</td>\n",
       "      <td>0.555375</td>\n",
       "      <td>0.555650</td>\n",
       "      <td>0.562092</td>\n",
       "      <td>0.558311</td>\n",
       "      <td>0.553626</td>\n",
       "      <td>0.556273</td>\n",
       "      <td>0.556029</td>\n",
       "      <td>5.560630e-01</td>\n",
       "      <td>0.552291</td>\n",
       "      <td>0.557458</td>\n",
       "      <td>0.554998</td>\n",
       "      <td>0.556104</td>\n",
       "      <td>0.547191</td>\n",
       "    </tr>\n",
       "    <tr>\n",
       "      <th>immune_eryth</th>\n",
       "      <td>0.001752</td>\n",
       "      <td>0.000000</td>\n",
       "      <td>0.000727</td>\n",
       "      <td>0.000000</td>\n",
       "      <td>0.000716</td>\n",
       "      <td>0.000347</td>\n",
       "      <td>0.000783</td>\n",
       "      <td>0.002202</td>\n",
       "      <td>0.002249</td>\n",
       "      <td>0.000230</td>\n",
       "      <td>0.002235</td>\n",
       "      <td>0.000000</td>\n",
       "      <td>0.001481</td>\n",
       "      <td>0.000442</td>\n",
       "      <td>2.977346e-03</td>\n",
       "      <td>0.000243</td>\n",
       "      <td>0.001167</td>\n",
       "      <td>0.000000</td>\n",
       "      <td>0.002256</td>\n",
       "      <td>0.001522</td>\n",
       "    </tr>\n",
       "    <tr>\n",
       "      <th>immune_mega</th>\n",
       "      <td>0.000000</td>\n",
       "      <td>0.000000</td>\n",
       "      <td>0.000491</td>\n",
       "      <td>0.000000</td>\n",
       "      <td>0.000000</td>\n",
       "      <td>0.000068</td>\n",
       "      <td>0.002050</td>\n",
       "      <td>0.000000</td>\n",
       "      <td>0.000000</td>\n",
       "      <td>0.000000</td>\n",
       "      <td>0.000000</td>\n",
       "      <td>0.000361</td>\n",
       "      <td>0.000000</td>\n",
       "      <td>0.000461</td>\n",
       "      <td>0.000000e+00</td>\n",
       "      <td>0.000000</td>\n",
       "      <td>0.000062</td>\n",
       "      <td>0.000000</td>\n",
       "      <td>0.000000</td>\n",
       "      <td>0.000000</td>\n",
       "    </tr>\n",
       "    <tr>\n",
       "      <th>eryth_prog</th>\n",
       "      <td>0.000000</td>\n",
       "      <td>0.000128</td>\n",
       "      <td>0.000661</td>\n",
       "      <td>0.000000</td>\n",
       "      <td>0.000000</td>\n",
       "      <td>0.000000</td>\n",
       "      <td>0.000000</td>\n",
       "      <td>0.000000</td>\n",
       "      <td>0.000000</td>\n",
       "      <td>0.000000</td>\n",
       "      <td>0.000000</td>\n",
       "      <td>0.000000</td>\n",
       "      <td>0.000000</td>\n",
       "      <td>0.000000</td>\n",
       "      <td>3.065165e-07</td>\n",
       "      <td>0.000000</td>\n",
       "      <td>0.000000</td>\n",
       "      <td>0.000056</td>\n",
       "      <td>0.000000</td>\n",
       "      <td>0.000000</td>\n",
       "    </tr>\n",
       "  </tbody>\n",
       "</table>\n",
       "</div>"
      ],
      "text/plain": [
       "                         0         1         2         3         4         5         6         7         8         9         10        11        12        13            14        15        16        17        18        19\n",
       "ref_celltype                                                                                                                                                                                                                 \n",
       "immune_b           0.059384  0.059504  0.058849  0.059645  0.058530  0.056807  0.062712  0.058413  0.058973  0.061012  0.061785  0.059327  0.062786  0.060055  6.093314e-02  0.059080  0.057668  0.059036  0.059763  0.059954\n",
       "immune_t_naive     0.129630  0.140710  0.127208  0.133673  0.126404  0.135376  0.128846  0.131435  0.128091  0.126753  0.127985  0.138699  0.130392  0.128437  1.281850e-01  0.133435  0.131293  0.128315  0.143321  0.138119\n",
       "immune_t_effector  0.039411  0.036046  0.035446  0.041025  0.045117  0.044658  0.039271  0.035441  0.029783  0.034032  0.045852  0.039879  0.037924  0.031846  3.694117e-02  0.023142  0.041526  0.050844  0.034668  0.036827\n",
       "immune_treg        0.047123  0.039807  0.041431  0.043146  0.041204  0.040442  0.042672  0.042345  0.044213  0.045116  0.042378  0.037132  0.042408  0.041653  4.324076e-02  0.042431  0.041853  0.038161  0.042677  0.040269\n",
       "immune_nk          0.047152  0.046868  0.047820  0.047721  0.047629  0.046877  0.048053  0.048017  0.050529  0.046992  0.049375  0.049155  0.047111  0.047520  4.533499e-02  0.050990  0.047398  0.047675  0.048883  0.045620\n",
       "immune_mono        0.097194  0.089302  0.096853  0.097027  0.094128  0.095747  0.095432  0.094903  0.102822  0.096692  0.102559  0.106972  0.103995  0.100930  1.017125e-01  0.098647  0.102362  0.106168  0.105101  0.109959\n",
       "immune_eosi        0.000000  0.000272  0.000000  0.000000  0.000000  0.001052  0.002248  0.000000  0.000000  0.000000  0.000000  0.000000  0.000000  0.000000  0.000000e+00  0.000000  0.000000  0.000193  0.000000  0.000000\n",
       "immune_neutro      0.557328  0.555639  0.560441  0.558235  0.556974  0.552341  0.556381  0.555375  0.555650  0.562092  0.558311  0.553626  0.556273  0.556029  5.560630e-01  0.552291  0.557458  0.554998  0.556104  0.547191\n",
       "immune_eryth       0.001752  0.000000  0.000727  0.000000  0.000716  0.000347  0.000783  0.002202  0.002249  0.000230  0.002235  0.000000  0.001481  0.000442  2.977346e-03  0.000243  0.001167  0.000000  0.002256  0.001522\n",
       "immune_mega        0.000000  0.000000  0.000491  0.000000  0.000000  0.000068  0.002050  0.000000  0.000000  0.000000  0.000000  0.000361  0.000000  0.000461  0.000000e+00  0.000000  0.000062  0.000000  0.000000  0.000000\n",
       "eryth_prog         0.000000  0.000128  0.000661  0.000000  0.000000  0.000000  0.000000  0.000000  0.000000  0.000000  0.000000  0.000000  0.000000  0.000000  3.065165e-07  0.000000  0.000000  0.000056  0.000000  0.000000"
      ]
     },
     "execution_count": 46,
     "metadata": {},
     "output_type": "execute_result"
    }
   ],
   "source": [
    "deconvolution_nnls[1][0]"
   ]
  },
  {
   "cell_type": "code",
   "execution_count": 35,
   "metadata": {
    "tags": []
   },
   "outputs": [],
   "source": [
    "def lod95_detect_plot(titrating_celltypes, titrating_celltype_proportion, deconvolution_preds, detection_threshold, lod=0.95):\n",
    "    # celltype atlas, deconvolution_predictions list(s), titration list, titrating cell type proportions, decision threshold\n",
    "    # celltype atlas, deconvolution list(s), titration list, titrating cell type proportions, +/- tolerance\n",
    "    # support 1 vs all\n",
    "    # titrating_celltypes = ['immune_t_effector', 'immune_treg']\n",
    "    # titrating_celltype_proportion = TITRATION_LIST\n",
    "    # deconvolution_preds = deconvolution_nnls\n",
    "    # detection_threshold =  0.005\n",
    "    # lod = 0.95\n",
    "\n",
    "    data = []\n",
    "    lod95_value = []\n",
    "\n",
    "    # <- start loop\n",
    "    for celltype in titrating_celltypes:\n",
    "        \n",
    "        celltype_idx = titrating_celltypes.index(celltype)\n",
    "        preds_for_celltype = deconvolution_preds[celltype_idx]\n",
    "\n",
    "        p_detect = []\n",
    "\n",
    "        for df in preds_for_celltype:\n",
    "            m, n = df.shape\n",
    "            phat = df[df.index == celltype]\n",
    "            phat_boolean = phat > detection_threshold\n",
    "            p_detected = sum(phat_boolean.values.squeeze()) / n\n",
    "            p_detect.append(p_detected)\n",
    "\n",
    "        ###### ----- plotting\n",
    "\n",
    "        # Replace these with your data\n",
    "        x_values = titrating_celltype_proportion\n",
    "        y_values = p_detect \n",
    "\n",
    "        data.append((x_values, y_values))\n",
    "\n",
    "        # Sorting the x_values and y_values in the order of x_values\n",
    "        sorted_indices = np.argsort(x_values)\n",
    "        x_values_sorted = np.array(x_values)[sorted_indices]\n",
    "        y_values_sorted = np.array(y_values)[sorted_indices]\n",
    "\n",
    "        if x_values_sorted[0] == 0:\n",
    "            y_values_sorted[0] = 0\n",
    "\n",
    "        # Interpolating to find the x-value\n",
    "        y_target = lod\n",
    "        x_target = np.interp(y_target, y_values_sorted, x_values_sorted)\n",
    "        lod95_value.append(x_target)\n",
    "\n",
    "\n",
    "    for i, (x_values, y_values) in enumerate(data):\n",
    "        name = titrating_celltypes[i]\n",
    "        lod95 = round(lod95_value[i], 3)\n",
    "        label = f'{name}: {lod95}'\n",
    "        if x_values[-1] == 0:\n",
    "            y_values[-1] = 0\n",
    "        sns.scatterplot(x=x_values, y=y_values, label=label)\n",
    "        sns.lineplot(x=x_values, y=y_values)\n",
    "\n",
    "    # Set the limits and spacing of the x and y axes\n",
    "    # plt.xticks(ticks=[i/10 for i in range(11)])\n",
    "    # plt.yticks(ticks=[i/10 for i in range(11)])\n",
    "    plt.xlim(0, 0.1)\n",
    "    plt.ylim(0, 1)\n",
    "\n",
    "    plt.axhline(y=y_target, xmin=0, xmax=x_target+1, color='blue', linestyle='--', linewidth=0.8)\n",
    "\n",
    "    plt.grid(True, alpha=0.5)\n",
    "    plt.gca().set_axisbelow(True)\n",
    "\n",
    "    plt.xlabel('Cell Type Proportion')\n",
    "    plt.ylabel('% Correctly Identified (x/20)')\n",
    "    plt.legend(bbox_to_anchor=(1.05, 1), loc='upper left')\n",
    "\n",
    "    plt.show()\n",
    "    \n"
   ]
  },
  {
   "cell_type": "code",
   "execution_count": 36,
   "metadata": {
    "tags": []
   },
   "outputs": [],
   "source": [
    "def lod95_within_proportion_plot(titrating_celltypes, titrating_celltype_proportion, deconvolution_preds, tolerance=0.3, lod=0.95):\n",
    "    # celltype atlas, deconvolution_predictions list(s), titration list, titrating cell type proportions, decision threshold\n",
    "    # celltype atlas, deconvolution list(s), titration list, titrating cell type proportions, +/- tolerance\n",
    "    # support 1 vs all\n",
    "    # titrating_celltypes = ['immune_t_effector', 'immune_treg']\n",
    "    # titrating_celltype_proportion = TITRATION_LIST\n",
    "    # deconvolution_preds = deconvolution_nnls\n",
    "    # detection_threshold =  0.005\n",
    "    # lod = 0.95\n",
    "\n",
    "    data = []\n",
    "    lod95_value = []\n",
    "\n",
    "    # <- start loop\n",
    "    for celltype in titrating_celltypes:\n",
    "        \n",
    "        celltype_idx = titrating_celltypes.index(celltype)\n",
    "        preds_for_celltype = deconvolution_preds[celltype_idx]\n",
    "\n",
    "        p_correct = []\n",
    "\n",
    "        for i in range(0,len(preds_for_celltype)):\n",
    "            df = preds_for_celltype[i]\n",
    "            m, n = df.shape\n",
    "            eps = titrating_celltype_proportion[i] * tolerance\n",
    "            true_p = titrating_celltype_proportion[i]\n",
    "            true_p_min = true_p - eps \n",
    "            true_p_max = true_p + eps\n",
    "            phat = df[df.index == celltype]\n",
    "            phat = phat.values.squeeze()\n",
    "            phat_boolean = [(true_p_min <= x <= true_p_max) for x in phat]\n",
    "            p_correct.append(sum(phat_boolean) / n)\n",
    "\n",
    "        ###### ----- plotting\n",
    "\n",
    "        # Replace these with your data\n",
    "        x_values = titrating_celltype_proportion\n",
    "        y_values = p_correct\n",
    "\n",
    "        data.append((x_values, y_values))\n",
    "\n",
    "        # Sorting the x_values and y_values in the order of x_values\n",
    "        sorted_indices = np.argsort(x_values)\n",
    "        x_values_sorted = np.array(x_values)[sorted_indices]\n",
    "        y_values_sorted = np.array(y_values)[sorted_indices]\n",
    "\n",
    "        if x_values_sorted[0] == 0:\n",
    "            y_values_sorted[0] = 0\n",
    "\n",
    "        # Interpolating to find the x-value\n",
    "        y_target = lod\n",
    "        x_target = np.interp(y_target, y_values_sorted, x_values_sorted)\n",
    "        lod95_value.append(x_target)\n",
    "\n",
    "\n",
    "    for i, (x_values, y_values) in enumerate(data):\n",
    "        name = titrating_celltypes[i]\n",
    "        lod95 = round(lod95_value[i], 3)\n",
    "        label = f'{name}: {lod95}'\n",
    "        if x_values[-1] == 0:\n",
    "            y_values[-1] = 0\n",
    "        sns.scatterplot(x=x_values, y=y_values, label=label)\n",
    "        sns.lineplot(x=x_values, y=y_values)\n",
    "\n",
    "    # Set the limits and spacing of the x and y axes\n",
    "    # plt.xticks(ticks=[i/10 for i in range(11)])\n",
    "    # plt.yticks(ticks=[i/10 for i in range(11)])\n",
    "    plt.xlim(0, 0.1)\n",
    "    plt.ylim(0, 1)\n",
    "\n",
    "    plt.axhline(y=y_target, xmin=0, xmax=x_target+1, color='blue', linestyle='--', linewidth=0.8)\n",
    "\n",
    "    plt.grid(True, alpha=0.5)\n",
    "    plt.gca().set_axisbelow(True)\n",
    "\n",
    "    plt.xlabel('Cell Type Proportion')\n",
    "    plt.ylabel('% Correctly Identified (x/20)')\n",
    "    plt.legend(bbox_to_anchor=(1.05, 1), loc='upper left')\n",
    "\n",
    "    plt.show()\n",
    "    \n"
   ]
  },
  {
   "cell_type": "code",
   "execution_count": 37,
   "metadata": {
    "tags": []
   },
   "outputs": [
    {
     "data": {
      "image/png": "[encoded data removed]",
      "text/plain": [
       "<Figure size 432x288 with 1 Axes>"
      ]
     },
     "metadata": {
      "needs_background": "light"
     },
     "output_type": "display_data"
    }
   ],
   "source": [
    "# t effector, t reg order must follow the order in which the predictions were made\n",
    "lod95_detect_plot(titrating_celltypes = ['immune_t_effector', 'immune_treg', 'immune_t_naive'], \n",
    "                  titrating_celltype_proportion = TITRATION_LIST, \n",
    "                  deconvolution_preds = deconvolution_nnls , \n",
    "                  detection_threshold = 0.005, \n",
    "                  lod=0.95)"
   ]
  },
  {
   "cell_type": "code",
   "execution_count": 38,
   "metadata": {
    "tags": []
   },
   "outputs": [
    {
     "data": {
      "image/png": "[encoded data removed]",
      "text/plain": [
       "<Figure size 432x288 with 1 Axes>"
      ]
     },
     "metadata": {
      "needs_background": "light"
     },
     "output_type": "display_data"
    }
   ],
   "source": [
    "lod95_within_proportion_plot(titrating_celltypes = ['immune_t_effector', 'immune_treg', 'immune_t_naive'], \n",
    "                              titrating_celltype_proportion = TITRATION_LIST, \n",
    "                              deconvolution_preds = deconvolution_nnls, \n",
    "                              tolerance = 0.3, \n",
    "                              lod=0.95)\n"
   ]
  },
  {
   "cell_type": "code",
   "execution_count": 47,
   "metadata": {},
   "outputs": [
    {
     "data": {
      "image/png": "[encoded data removed]",
      "text/plain": [
       "<Figure size 432x288 with 1 Axes>"
      ]
     },
     "metadata": {
      "needs_background": "light"
     },
     "output_type": "display_data"
    }
   ],
   "source": [
    "# t effector, t reg order must follow the order in which the predictions were made\n",
    "dcnv.lod95_detect_plot(names=['T eff', 'T reg', 'T naive'],\n",
    "                  titrating_celltypes = ['immune_t_effector', 'immune_treg', 'immune_t_naive'], \n",
    "                  titrating_celltype_proportion = TITRATION_LIST, \n",
    "                  deconvolution_preds = deconvolution_nnls, \n",
    "                  detection_threshold = 0.005, \n",
    "                  lod=0.95)"
   ]
  },
  {
   "cell_type": "code",
   "execution_count": null,
   "metadata": {},
   "outputs": [],
   "source": []
  },
  {
   "cell_type": "code",
   "execution_count": null,
   "metadata": {},
   "outputs": [],
   "source": []
  },
  {
   "cell_type": "code",
   "execution_count": null,
   "metadata": {},
   "outputs": [],
   "source": []
  }
 ],
 "metadata": {
  "kernelspec": {
   "display_name": "Python 3",
   "language": "python",
   "name": "python3"
  },
  "language_info": {
   "codemirror_mode": {
    "name": "ipython",
    "version": 3
   },
   "file_extension": ".py",
   "mimetype": "text/x-python",
   "name": "python",
   "nbconvert_exporter": "python",
   "pygments_lexer": "ipython3",
   "version": "3.7.8"
  }
 },
 "nbformat": 4,
 "nbformat_minor": 4
}
