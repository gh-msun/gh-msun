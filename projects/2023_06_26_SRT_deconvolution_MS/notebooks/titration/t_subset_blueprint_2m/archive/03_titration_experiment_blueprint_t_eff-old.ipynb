{
 "cells": [
  {
   "cell_type": "markdown",
   "metadata": {},
   "source": [
    "# Titration Experiment"
   ]
  },
  {
   "cell_type": "code",
   "execution_count": 1,
   "metadata": {
    "tags": [
     "parameters"
    ]
   },
   "outputs": [],
   "source": [
    "#############################\n",
    "#   Experiment parameters   #\n",
    "#############################\n",
    "ROOT_DIR = '/analysis/gh-msun/'\n",
    "PROJECT_SLUG = '2023_06_26_SRT_deconvolution_MS'\n",
    "EXPERIMENT = 't_subset_blueprint_2m'\n",
    "TITRATING_CELLTYPE = 't_effector'\n",
    "TITRATING_CELLTYPE_ATLAS = 'immune_t_effector' # cell type name in atlas different\n",
    "BACKGROUND = 'wholeblood' # background: uniform / wholeblood \n",
    "N_REPLICATES = 20 # number of replicates for each mixture\n",
    "SEED = 888 # need to change for different experiment\n",
    "TOTAL_READS_TO_SAMPLE = 2000000\n",
    "\n",
    "# make sure the orders of the two list match\n",
    "CELLTYPES = ['t_effector',\n",
    "             't_reg', \n",
    "             't_naive',\n",
    "             'Blueprint-B',\n",
    "             'Blueprint-NK',\n",
    "             'Blueprint-Mono',\n",
    "             'Blueprint-Neutro']\n",
    "ABRIDGED_NAMES = ['Teff', 'Treg', 'Tnaive', 'B', 'NK', 'MONO', 'NEUTRO'] # for directory name\n",
    "\n",
    "# TITRATION_LIST = [0.10, 0.08, 0.06, 0.04, 0.02, 0.01, \n",
    "#                   0.008, 0.006, 0.004, 0.002, 0.001, 0]\n",
    "\n",
    "\n",
    "# # proportion of cells in real whole blood (sum to 1)\n",
    "# WHOLE_BLOOD_ABUNDANCE = {'Blueprint-B':0.06,\n",
    "#                          'Blueprint-Mono':0.09,\n",
    "#                          'Blueprint-Neutro':0.57,\n",
    "#                          't_naive':0.16+0.07,\n",
    "#                          'Blueprint-NK':0.05}\n",
    "    "
   ]
  },
  {
   "cell_type": "code",
   "execution_count": 2,
   "metadata": {},
   "outputs": [
    {
     "name": "stderr",
     "output_type": "stream",
     "text": [
      "/home/ec2-user/mambaforge/envs/2023_06_26_SRT_deconvolution_MS/lib/python3.7/site-packages/pyspark/context.py:317: FutureWarning: Python 3.7 support is deprecated in Spark 3.4.\n",
      "  warnings.warn(\"Python 3.7 support is deprecated in Spark 3.4.\", FutureWarning)\n"
     ]
    }
   ],
   "source": [
    "import glob\n",
    "import numpy as np\n",
    "import pandas as pd\n",
    "import seaborn as sns\n",
    "import matplotlib.pyplot as plt\n",
    "import itertools\n",
    "import functools\n",
    "import os\n",
    "import regex as re\n",
    "import random\n",
    "import importlib\n",
    "import sys\n",
    "\n",
    "from pyspark.sql import SparkSession\n",
    "from pyspark import SparkConf, SparkContext\n",
    "from pyspark.sql.types import IntegerType, LongType, ArrayType, StringType, DoubleType\n",
    "from pyspark.sql.functions import udf, explode, broadcast, count, lit, length, col\n",
    "from pyspark.sql import DataFrame\n",
    "from pyspark.sql.types import StructType\n",
    "\n",
    "# UPDATE HOME!\n",
    "os.environ[\"SPARK_HOME\"] = \"/home/ec2-user/mambaforge/envs/2023_06_26_SRT_deconvolution_MS/lib/python3.7/site-packages/pyspark\"\n",
    "# THIS needs to be set-up before running the notebook\n",
    "os.environ[\"SPARK_LOCAL_DIRS\"] = \"/temp\"\n",
    "os.environ[\"PYARROW_IGNORE_TIMEZONE\"] = \"1\"\n",
    "\n",
    "spark_conf = SparkConf()\n",
    "spark_conf.set(\"spark.ui.showConsoleProgress\", \"True\")\n",
    "spark_conf.set(\"spark.executor.instances\", \"2\")\n",
    "spark_conf.set(\"spark.executor.cores\", \"2\")\n",
    "spark_conf.set(\"spark.executor.memory\", \"16g\")\n",
    "spark_conf.set(\"spark.driver.memory\", \"64g\")\n",
    "spark_conf.set(\"spark.driver.maxResultSize\", \"32g\")\n",
    "spark_conf.set(\"spark.parquet.filterPushdown\", \"true\")\n",
    "spark_conf.set(\"spark.local.dir\", \"/temp\")\n",
    "spark_conf.getAll()\n",
    "\n",
    "sc = SparkContext(conf=spark_conf)\n",
    "sc.setLogLevel(\"ERROR\")\n",
    "spark = SparkSession(sc)\n",
    "\n",
    "pd.set_option('display.max_rows', 500)\n",
    "pd.set_option('display.max_columns', 500)\n",
    "pd.set_option('display.width', 1000)\n",
    "sns.set_context('talk')"
   ]
  },
  {
   "cell_type": "code",
   "execution_count": 3,
   "metadata": {},
   "outputs": [],
   "source": [
    "#---Local paths---#\n",
    "PROJECT_DIR = ROOT_DIR + f'projects/{PROJECT_SLUG}/'\n",
    "\n",
    "#---Load all custom scripts---#\n",
    "SCRIPT_DIR = PROJECT_DIR + 'scripts/'\n",
    "sys.path.append(SCRIPT_DIR)\n",
    "\n",
    "import create_mixture as cm\n",
    "import score_matrix as sm\n",
    "import deconvolution as dcnv\n",
    "import helper as hlpr\n",
    "\n",
    "pd.set_option('display.max_rows', 500)\n",
    "pd.set_option('display.max_columns', 500)\n",
    "pd.set_option('display.width', 1000)"
   ]
  },
  {
   "cell_type": "code",
   "execution_count": 4,
   "metadata": {},
   "outputs": [
    {
     "data": {
      "text/plain": [
       "<module 'helper' from '/analysis/gh-msun/projects/2023_06_26_SRT_deconvolution_MS/scripts/helper.py'>"
      ]
     },
     "execution_count": 4,
     "metadata": {},
     "output_type": "execute_result"
    }
   ],
   "source": [
    "importlib.reload(cm)\n",
    "importlib.reload(sm)\n",
    "importlib.reload(dcnv)\n",
    "importlib.reload(hlpr)"
   ]
  },
  {
   "cell_type": "code",
   "execution_count": 5,
   "metadata": {
    "tags": []
   },
   "outputs": [],
   "source": [
    "CELLTYPES = ['t_effector', \n",
    "             't_reg',\n",
    "             't_naive',\n",
    "             'Blueprint-B',\n",
    "             'Blueprint-NK',\n",
    "             'Blueprint-Mono',\n",
    "             'Blueprint-Neutro']\n",
    "\n",
    "ABRIDGED_NAMES = ['Teff', 'Treg', 'Tnaive', 'B', 'NK', 'MONO', 'NEUTRO'] # for directory name\n",
    "\n",
    "TITRATION_LIST = [0.20, 0.15, 0.10, 0.08, 0.06, 0.04, 0.02, 0.01, \n",
    "                  0.008, 0.006, 0.004, 0.002, 0.001, 0] # % of total T-cells\n",
    "\n",
    "# background cell type proportion (T is 23%)\n",
    "WHOLE_BLOOD_ABUNDANCE = {'B':0.06,\n",
    "                         'Mono':0.09,\n",
    "                         'Neutro':0.57,\n",
    "                         'NK':0.05}\n",
    "\n",
    "# background: % of total T-cells (multipy with 0.2)\n",
    "WHOLE_BLOOD_ABUNDANCE_T = {'t_naive':0.99,\n",
    "                           't_reg':0.01}\n",
    "\n",
    "PROPORTIONS = []\n",
    "treg_titrating_proprotions = [] \n",
    "teff_titrating_proprotions = []\n",
    "tnai_titrating_proprotions = []\n",
    "\n",
    "for t, alpha in enumerate(TITRATION_LIST):  \n",
    "    \n",
    "    # T cell total to be 23 % \n",
    "    proportion_teff = 0.23 * alpha  # alpha is the titrating proportion\n",
    "    proportion_treg = 0.23 * (1-alpha) * WHOLE_BLOOD_ABUNDANCE_T['t_reg'] \n",
    "    proportion_tnai = 0.23 * (1-alpha) * WHOLE_BLOOD_ABUNDANCE_T['t_naive'] \n",
    "    \n",
    "    treg_titrating_proprotions.append(proportion_treg)\n",
    "    teff_titrating_proprotions.append(proportion_teff)\n",
    "    tnai_titrating_proprotions.append(proportion_tnai)\n",
    "    \n",
    "    proportion = [proportion_teff, \n",
    "                  proportion_treg, \n",
    "                  proportion_tnai,\n",
    "                  WHOLE_BLOOD_ABUNDANCE['B'],\n",
    "                  WHOLE_BLOOD_ABUNDANCE['NK'],\n",
    "                  WHOLE_BLOOD_ABUNDANCE['Mono'],\n",
    "                  WHOLE_BLOOD_ABUNDANCE['Neutro']]\n",
    "    \n",
    "    PROPORTIONS.append(proportion)\n"
   ]
  },
  {
   "cell_type": "code",
   "execution_count": 6,
   "metadata": {
    "tags": []
   },
   "outputs": [
    {
     "data": {
      "text/plain": [
       "[0.046000000000000006,\n",
       " 0.0345,\n",
       " 0.023000000000000003,\n",
       " 0.0184,\n",
       " 0.0138,\n",
       " 0.0092,\n",
       " 0.0046,\n",
       " 0.0023,\n",
       " 0.00184,\n",
       " 0.0013800000000000002,\n",
       " 0.00092,\n",
       " 0.00046,\n",
       " 0.00023,\n",
       " 0.0]"
      ]
     },
     "execution_count": 6,
     "metadata": {},
     "output_type": "execute_result"
    }
   ],
   "source": [
    "teff_titrating_proprotions"
   ]
  },
  {
   "cell_type": "markdown",
   "metadata": {},
   "source": [
    "## Create mixture"
   ]
  },
  {
   "cell_type": "code",
   "execution_count": 7,
   "metadata": {},
   "outputs": [],
   "source": [
    "############################\n",
    "#   Parameters and paths   # \n",
    "############################\n",
    "EXPERIMENT_DIR = PROJECT_DIR + f'output/experiment/{EXPERIMENT}/'\n",
    "EXPERIMENT_NAME = f'{TITRATING_CELLTYPE}-{BACKGROUND}/'\n",
    "PARQUET_PATH = PROJECT_DIR + 'output/mixture_source/t_subset_mixture_source/'\n",
    "EXPERIMENT_CELLTYPE_DIR = EXPERIMENT_DIR + f'{EXPERIMENT_NAME}/'\n",
    "RESULT_PATH = EXPERIMENT_CELLTYPE_DIR + 'mixture/'\n"
   ]
  },
  {
   "cell_type": "code",
   "execution_count": null,
   "metadata": {},
   "outputs": [
    {
     "name": "stdout",
     "output_type": "stream",
     "text": [
      ">>> Load parquet files and count rows... <<<\n",
      "----------> Loading cell type: t_effector\n",
      "----------> Loading cell type: t_reg\n",
      "----------> Loading cell type: t_naive\n",
      "----------> Loading cell type: Blueprint-B\n",
      "----------> Loading cell type: Blueprint-NK\n",
      "----------> Loading cell type: Blueprint-Mono\n",
      "----------> Loading cell type: Blueprint-Neutro\n",
      ">>> Complete. <<< \n",
      "\n",
      ">>> Start mixing... <<<\n",
      "--> PROPORTION: [0.046000000000000006, 0.0018400000000000003, 0.18216000000000002, 0.06, 0.05, 0.09, 0.57]\n",
      "----------> Creating mixture 0... \n",
      "----------> Creating mixture 1... \n",
      "----------> Creating mixture 2... \n",
      "----------> Creating mixture 3... \n",
      "----------> Creating mixture 4... \n",
      "----------> Creating mixture 5... \n",
      "----------> Creating mixture 6... \n",
      "----------> Creating mixture 7... \n",
      "----------> Creating mixture 8... \n",
      "----------> Creating mixture 9... \n",
      "----------> Creating mixture 10... \n",
      "----------> Creating mixture 11... \n",
      "----------> Creating mixture 12... \n",
      "----------> Creating mixture 13... \n",
      "----------> Creating mixture 14... \n",
      "----------> Creating mixture 15... \n",
      "----------> Creating mixture 16... \n",
      "----------> Creating mixture 17... \n",
      "----------> Creating mixture 18... \n",
      "----------> Creating mixture 19... \n",
      "--> PROPORTION: [0.0345, 0.001955, 0.193545, 0.06, 0.05, 0.09, 0.57]\n",
      "----------> Creating mixture 0... \n",
      "----------> Creating mixture 1... \n",
      "----------> Creating mixture 2... \n",
      "----------> Creating mixture 3... \n",
      "----------> Creating mixture 4... \n",
      "----------> Creating mixture 5... \n",
      "----------> Creating mixture 6... \n",
      "----------> Creating mixture 7... \n",
      "----------> Creating mixture 8... \n",
      "----------> Creating mixture 9... \n",
      "----------> Creating mixture 10... \n",
      "----------> Creating mixture 11... \n",
      "----------> Creating mixture 12... \n",
      "----------> Creating mixture 13... \n",
      "----------> Creating mixture 14... \n",
      "----------> Creating mixture 15... \n",
      "----------> Creating mixture 16... \n",
      "----------> Creating mixture 17... \n",
      "----------> Creating mixture 18... \n",
      "----------> Creating mixture 19... \n",
      "--> PROPORTION: [0.023000000000000003, 0.0020700000000000002, 0.20493000000000003, 0.06, 0.05, 0.09, 0.57]\n",
      "----------> Creating mixture 0... \n",
      "----------> Creating mixture 1... \n",
      "----------> Creating mixture 2... \n",
      "----------> Creating mixture 3... \n",
      "----------> Creating mixture 4... \n",
      "----------> Creating mixture 5... \n",
      "----------> Creating mixture 6... \n",
      "----------> Creating mixture 7... \n",
      "----------> Creating mixture 8... \n",
      "----------> Creating mixture 9... \n",
      "----------> Creating mixture 10... \n",
      "----------> Creating mixture 11... \n",
      "----------> Creating mixture 12... \n",
      "----------> Creating mixture 13... \n",
      "----------> Creating mixture 14... \n",
      "----------> Creating mixture 15... \n",
      "----------> Creating mixture 16... \n",
      "----------> Creating mixture 17... \n",
      "----------> Creating mixture 18... \n",
      "----------> Creating mixture 19... \n",
      "--> PROPORTION: [0.0184, 0.0021160000000000003, 0.209484, 0.06, 0.05, 0.09, 0.57]\n",
      "----------> Creating mixture 0... \n",
      "----------> Creating mixture 1... \n",
      "----------> Creating mixture 2... \n",
      "----------> Creating mixture 3... \n",
      "----------> Creating mixture 4... \n",
      "----------> Creating mixture 5... \n",
      "----------> Creating mixture 6... \n",
      "----------> Creating mixture 7... \n",
      "----------> Creating mixture 8... \n",
      "----------> Creating mixture 9... \n",
      "----------> Creating mixture 10... \n",
      "----------> Creating mixture 11... \n",
      "----------> Creating mixture 12... \n",
      "----------> Creating mixture 13... \n",
      "----------> Creating mixture 14... \n",
      "----------> Creating mixture 15... \n",
      "----------> Creating mixture 16... \n",
      "----------> Creating mixture 17... \n",
      "----------> Creating mixture 18... \n",
      "----------> Creating mixture 19... \n"
     ]
    }
   ],
   "source": [
    "%%time\n",
    "# load parquet files for each celltype & count rows\n",
    "parquet_df, total_reads_per_celltype = cm.load_parquet_dataframe(parquet_path=PARQUET_PATH,\n",
    "                                                                  cell_types=CELLTYPES,\n",
    "                                                                  spark=spark,\n",
    "                                                                  verbose=True)\n",
    "\n",
    "# mix cell types for each proportion set\n",
    "cm.mix_celltypes_multiple_proportions(parquet_df=parquet_df,\n",
    "                                       total_reads_per_celltype=total_reads_per_celltype,\n",
    "                                    #    n=len(TITRATION_LIST), \n",
    "                                       n=N_REPLICATES,\n",
    "                                       cell_types=CELLTYPES, \n",
    "                                       cell_type_abridged_name=ABRIDGED_NAMES, \n",
    "                                       total_reads_to_sample=TOTAL_READS_TO_SAMPLE, \n",
    "                                       list_of_proportions=PROPORTIONS, \n",
    "                                       seed=SEED, \n",
    "                                       result_path=RESULT_PATH, \n",
    "                                       spark=spark,\n",
    "                                       verbose=False, \n",
    "                                       save=True)"
   ]
  },
  {
   "cell_type": "markdown",
   "metadata": {},
   "source": [
    "## Compute score matrix"
   ]
  },
  {
   "cell_type": "code",
   "execution_count": null,
   "metadata": {},
   "outputs": [],
   "source": [
    "############################\n",
    "#   Parameters and paths   # \n",
    "############################\n",
    "\n",
    "FILTER_CG_COUNT = 3\n",
    "FILTER_CG_COUNT_REGION = 1\n",
    "\n",
    "REGIONS = 'deconvolution_v2.v23_conv.with_cpg_index'\n",
    "REGION_BED_COLS = [\n",
    "    'region_chr', 'region_start', 'region_end', \n",
    "    'region_cpg_index_min', 'region_cpg_index_max', 'region_id'\n",
    "]\n",
    "\n",
    "# Regions\n",
    "REGION_PATH = (\n",
    "    PROJECT_DIR + '/stage/panel_data/{regions}.bed'\n",
    ").format(regions=REGIONS)\n",
    "\n",
    "# CpG map; genomic coordinate to CpG index;\n",
    "CPG_MAP_PATH = PROJECT_DIR + '/stage/cpg_loci/cpg_loci_hg19.combined_annot.tsv.gz'\n",
    "\n",
    "#--- Where to store results\n",
    "PATH_TO_MIXTURE_DIR = EXPERIMENT_CELLTYPE_DIR + 'mixture/'\n",
    "RESULT_PATH = EXPERIMENT_CELLTYPE_DIR\n"
   ]
  },
  {
   "cell_type": "code",
   "execution_count": null,
   "metadata": {},
   "outputs": [],
   "source": [
    "cpg_map = pd.read_csv(CPG_MAP_PATH, usecols=['chr', 'start', 'end', 'cpg_index', 'cpg_index_hg38'], sep='\\t')"
   ]
  },
  {
   "cell_type": "code",
   "execution_count": null,
   "metadata": {},
   "outputs": [],
   "source": [
    "%%time\n",
    "ridxs = ~cpg_map['cpg_index_hg38'].isna()\n",
    "hg19_hg38_map = dict(itertools.zip_longest(cpg_map[ridxs]['cpg_index'], cpg_map[ridxs]['cpg_index_hg38'].astype(int)))\n",
    "hg38_hg19_map = dict(itertools.zip_longest(cpg_map[ridxs]['cpg_index_hg38'].astype(int), cpg_map[ridxs]['cpg_index']))"
   ]
  },
  {
   "cell_type": "code",
   "execution_count": null,
   "metadata": {},
   "outputs": [],
   "source": [
    "region_df = pd.read_csv(REGION_PATH, sep='\\t', usecols=range(0, 6), names=REGION_BED_COLS)\n",
    "\n",
    "region_df['region_cpg_index_max'] -= 1\n",
    "region_df.sort_values('region_cpg_index_min', inplace=True)\n",
    "region_df['region_cpg_index_min_hg38'] = region_df['region_cpg_index_min'].map(hg19_hg38_map)\n",
    "region_df['region_cpg_index_max_hg38'] = region_df['region_cpg_index_max'].map(hg19_hg38_map)\n",
    "\n",
    "region_df.shape[0], region_df['region_id'].nunique()"
   ]
  },
  {
   "cell_type": "code",
   "execution_count": null,
   "metadata": {},
   "outputs": [],
   "source": [
    "ridxs = ~region_df['region_cpg_index_min_hg38'].isna()\n",
    "ridxs &= ~region_df['region_cpg_index_max_hg38'].isna()\n",
    "region_df = region_df[ridxs].copy()\n",
    "region_df.shape[0], region_df['region_id'].nunique()"
   ]
  },
  {
   "cell_type": "code",
   "execution_count": null,
   "metadata": {},
   "outputs": [],
   "source": [
    "cg_count_hg19 = region_df['region_cpg_index_max']-region_df['region_cpg_index_min'] + 1\n",
    "cg_count_hg38 = region_df['region_cpg_index_max_hg38']-region_df['region_cpg_index_min_hg38'] + 1\n",
    "ridxs = (cg_count_hg19==cg_count_hg38)\n",
    "ridxs &= (cg_count_hg19>=FILTER_CG_COUNT_REGION)\n",
    "region_df = region_df[ridxs].copy()\n",
    "region_df.shape[0], region_df['region_id'].nunique()"
   ]
  },
  {
   "cell_type": "code",
   "execution_count": null,
   "metadata": {},
   "outputs": [],
   "source": [
    "region_df['region_cpg_index_min_hg38'] = region_df['region_cpg_index_min_hg38'].astype(int)\n",
    "region_df['region_cpg_index_max_hg38'] = region_df['region_cpg_index_max_hg38'].astype(int)"
   ]
  },
  {
   "cell_type": "code",
   "execution_count": null,
   "metadata": {},
   "outputs": [],
   "source": [
    "### Restrict to immune regions\n",
    "#-------------- CHANGE HERE FOR DIFFERENT REGION SUBSET ----------------------\n",
    "# BLUEPRINT immune regions\n",
    "ATLAS_PATH = PROJECT_DIR + f'/output/reference/deconv_inhouse_v2.t_subset.atlas.tsv.gz'\n",
    "atlas = pd.read_csv(ATLAS_PATH, sep='\\t')\n",
    "subset_region_set = set(atlas.region_id)\n",
    "#-----------------------------------------------------------------------------\n",
    "\n",
    "# filter regions down to regions of interest\n",
    "region_df = region_df[region_df['region_id'].isin(subset_region_set)]\n",
    "region_df.head()"
   ]
  },
  {
   "cell_type": "code",
   "execution_count": null,
   "metadata": {},
   "outputs": [],
   "source": [
    "%%time\n",
    "\n",
    "PAT_COLS = [\n",
    "    'molecule_id', 'chr', 'number_molecules',\n",
    "    'cpg_index_min', 'cpg_index_max', 'pat_string', 'region_id', 'region_cpg_index_min', 'region_cpg_index_max'\n",
    "]\n",
    "\n",
    "QUANTILES = [0.1, 0.25, 0.75, 0.9]\n",
    "KMERS = [1, 3, 4]\n",
    "RATES_LEQ = [0.25]\n",
    "RATES_GEQ = [0.75]\n",
    "\n",
    "RETURN_SCHEMA = StructType()\\\n",
    "    .add('region_id', 'string')\\\n",
    "    .add('number_molecules', 'integer')\\\n",
    "    .add('meth_k1', 'integer')\\\n",
    "    .add('unmeth_k1', 'integer')\\\n",
    "    .add('total_k1', 'integer')\\\n",
    "    .add('meth_k3', 'integer')\\\n",
    "    .add('unmeth_k3', 'integer')\\\n",
    "    .add('total_k3', 'integer')\\\n",
    "    .add('meth_k4', 'integer')\\\n",
    "    .add('unmeth_k4', 'integer')\\\n",
    "    .add('total_k4', 'integer')\\\n",
    "    .add('frac_alpha_leq_25pct', 'float')\\\n",
    "    .add('frac_alpha_geq_75pct', 'float')\n",
    "\n",
    "compute_frag_scores_udf = sm.compute_frag_scores(cpg_number_cutoff=FILTER_CG_COUNT, schema=RETURN_SCHEMA, kmers=KMERS, rates_leq=RATES_LEQ, rates_geq=RATES_GEQ)\n",
    "\n",
    "\n",
    "# compute methyl score for are parquet files\n",
    "sm.score_matrix_from_mixture_directory(path_to_mixture_dir = PATH_TO_MIXTURE_DIR, \n",
    "                                       result_path = RESULT_PATH, \n",
    "                                       pat_cols = PAT_COLS, \n",
    "                                       batch_size = 20, \n",
    "                                       schema = RETURN_SCHEMA, \n",
    "                                       spark=spark,\n",
    "                                       compute_frag_scores_udf=compute_frag_scores_udf,\n",
    "                                       save=True, \n",
    "                                       verbose=False)"
   ]
  },
  {
   "cell_type": "markdown",
   "metadata": {},
   "source": [
    "## Deconvolution"
   ]
  },
  {
   "cell_type": "code",
   "execution_count": 8,
   "metadata": {},
   "outputs": [],
   "source": [
    "############################\n",
    "#   Parameters and paths   # \n",
    "############################\n",
    "\n",
    "FILTER_COV = 20\n",
    "\n",
    "SCORE_VAR = 'frac_alpha_leq_25pct'\n",
    "\n",
    "# Reference matrix\n",
    "ATLAS_PATH = PROJECT_DIR + 'output/reference/deconv_inhouse_v2.t_subset_same.atlas.tsv.gz'\n",
    "REGION_PATH = PROJECT_DIR + 'output/reference/deconv_inhouse_v2.t_subset_same.region_to_ref_celltype.tsv.gz'\n",
    "\n",
    "# Methylation score matrix\n",
    "SCORE_DIR = EXPERIMENT_CELLTYPE_DIR + 'methyl_score/'\n"
   ]
  },
  {
   "cell_type": "code",
   "execution_count": 9,
   "metadata": {
    "tags": []
   },
   "outputs": [
    {
     "data": {
      "text/plain": [
       "'/analysis/gh-msun/projects/2023_06_26_SRT_deconvolution_MS/output/experiment/t_subset_blueprint_2m/t_effector-wholeblood//methyl_score/'"
      ]
     },
     "execution_count": 9,
     "metadata": {},
     "output_type": "execute_result"
    }
   ],
   "source": [
    "SCORE_DIR"
   ]
  },
  {
   "cell_type": "code",
   "execution_count": 10,
   "metadata": {},
   "outputs": [
    {
     "data": {
      "text/plain": [
       "(324, 11)"
      ]
     },
     "execution_count": 10,
     "metadata": {},
     "output_type": "execute_result"
    }
   ],
   "source": [
    "atlas = pd.read_csv(ATLAS_PATH, sep='\\t',index_col=None)\n",
    "atlas = atlas.set_index('region_id')\n",
    "atlas.columns.name = 'ref_celltype'\n",
    "atlas.shape\n",
    "\n",
    "ref_region_df = pd.read_csv(REGION_PATH, sep='\\t')\n",
    "\n",
    "atlas = atlas.loc[ref_region_df['region_id'], :].copy()\n",
    "atlas.shape"
   ]
  },
  {
   "cell_type": "code",
   "execution_count": 11,
   "metadata": {},
   "outputs": [
    {
     "name": "stdout",
     "output_type": "stream",
     "text": [
      "CPU times: user 6.08 s, sys: 319 ms, total: 6.4 s\n",
      "Wall time: 6.43 s\n"
     ]
    }
   ],
   "source": [
    "%%time\n",
    "\n",
    "deconvolution_nnls = dcnv.compute_deconvolution_from_methyl_score_dir_nnls(path_to_methyl_score_dir=SCORE_DIR, \n",
    "                                                                          score_type=SCORE_VAR, \n",
    "                                                                          atlas=atlas, \n",
    "                                                                          match=False)\n",
    "\n",
    "deconvolution_naive = dcnv.compute_deconvolution_from_methyl_score_dir_naive(path_to_methyl_score_dir=SCORE_DIR, \n",
    "                                                                             filter_cov=FILTER_COV, \n",
    "                                                                             score_var=SCORE_VAR, \n",
    "                                                                             ref_region_df=ref_region_df)\n"
   ]
  },
  {
   "cell_type": "code",
   "execution_count": 12,
   "metadata": {
    "tags": []
   },
   "outputs": [
    {
     "data": {
      "text/plain": [
       "'/analysis/gh-msun/projects/2023_06_26_SRT_deconvolution_MS/output/experiment/t_subset_blueprint_2m/t_effector-wholeblood//methyl_score/'"
      ]
     },
     "execution_count": 12,
     "metadata": {},
     "output_type": "execute_result"
    }
   ],
   "source": [
    "SCORE_DIR"
   ]
  },
  {
   "cell_type": "code",
   "execution_count": 13,
   "metadata": {},
   "outputs": [],
   "source": [
    "\n",
    "# dcnv.boxplot_titration_combined(list_of_deconvolution_dfs_naive=deconvolution_naive,\n",
    "#                        list_of_deconvolution_dfs_nnls=deconvolution_nnls,\n",
    "#                       cell_type=TITRATING_CELLTYPE_ATLAS,\n",
    "#                       true_proportions=[round(x, 4) for x in teff_titrating_proprotions]\n",
    "#                       )"
   ]
  },
  {
   "cell_type": "code",
   "execution_count": 14,
   "metadata": {},
   "outputs": [],
   "source": [
    "# dcnv.boxplot_titration_zoom_combined(list_of_deconvolution_dfs_naive=deconvolution_naive,\n",
    "#                        list_of_deconvolution_dfs_nnls=deconvolution_nnls,\n",
    "#                       cell_type=TITRATING_CELLTYPE_ATLAS,\n",
    "#                       true_proportions=[round(x, 4) for x in treg_titrating_proprotions]\n",
    "#                       )"
   ]
  },
  {
   "cell_type": "code",
   "execution_count": 15,
   "metadata": {
    "tags": []
   },
   "outputs": [
    {
     "data": {
      "text/plain": [
       "<module 'helper' from '/analysis/gh-msun/projects/2023_06_26_SRT_deconvolution_MS/scripts/helper.py'>"
      ]
     },
     "execution_count": 15,
     "metadata": {},
     "output_type": "execute_result"
    }
   ],
   "source": [
    "importlib.reload(cm)\n",
    "importlib.reload(sm)\n",
    "importlib.reload(dcnv)\n",
    "importlib.reload(hlpr)"
   ]
  },
  {
   "cell_type": "code",
   "execution_count": 16,
   "metadata": {
    "tags": []
   },
   "outputs": [
    {
     "data": {
      "text/plain": [
       "'immune_t_effector'"
      ]
     },
     "execution_count": 16,
     "metadata": {},
     "output_type": "execute_result"
    }
   ],
   "source": [
    "TITRATING_CELLTYPE_ATLAS"
   ]
  },
  {
   "cell_type": "code",
   "execution_count": 17,
   "metadata": {},
   "outputs": [
    {
     "data": {
      "image/png": "[encoded data removed]",
      "text/plain": [
       "<Figure size 864x432 with 1 Axes>"
      ]
     },
     "metadata": {
      "needs_background": "light"
     },
     "output_type": "display_data"
    }
   ],
   "source": [
    "deconvolution_nnls = dcnv.compute_deconvolution_from_methyl_score_dir_nnls(path_to_methyl_score_dir=SCORE_DIR, \n",
    "                                                                          score_type=SCORE_VAR, \n",
    "                                                                          atlas=atlas, \n",
    "                                                                          match=False)\n",
    "\n",
    "dcnv.boxplot_titration(list_of_deconvolution_dfs=deconvolution_nnls,\n",
    "                      cell_type=TITRATING_CELLTYPE_ATLAS,\n",
    "                      true_proportions=[round(x, 4) for x in teff_titrating_proprotions],\n",
    "                      deconvolution_method_name='nnls'\n",
    "                      )"
   ]
  },
  {
   "cell_type": "code",
   "execution_count": 18,
   "metadata": {
    "tags": []
   },
   "outputs": [
    {
     "data": {
      "text/plain": [
       "'/analysis/gh-msun/projects/2023_06_26_SRT_deconvolution_MS/output/experiment/t_subset_blueprint_2m/t_effector-wholeblood//methyl_score/'"
      ]
     },
     "execution_count": 18,
     "metadata": {},
     "output_type": "execute_result"
    }
   ],
   "source": [
    "SCORE_DIR"
   ]
  },
  {
   "cell_type": "code",
   "execution_count": 19,
   "metadata": {
    "tags": []
   },
   "outputs": [
    {
     "data": {
      "image/png": "[encoded data removed]",
      "text/plain": [
       "<Figure size 864x432 with 1 Axes>"
      ]
     },
     "metadata": {
      "needs_background": "light"
     },
     "output_type": "display_data"
    }
   ],
   "source": [
    "deconvolution_nnls = dcnv.compute_deconvolution_from_methyl_score_dir_nnls(path_to_methyl_score_dir=SCORE_DIR, \n",
    "                                                                          score_type=SCORE_VAR, \n",
    "                                                                          atlas=atlas, \n",
    "                                                                          match=False)\n",
    "\n",
    "dcnv.boxplot_titration(list_of_deconvolution_dfs=deconvolution_nnls,\n",
    "                      cell_type='immune_treg',\n",
    "                      true_proportions=[round(x, 8) for x in treg_titrating_proprotions],\n",
    "                      deconvolution_method_name='nnls'\n",
    "                      )"
   ]
  },
  {
   "cell_type": "code",
   "execution_count": 20,
   "metadata": {
    "tags": []
   },
   "outputs": [
    {
     "data": {
      "text/plain": [
       "'/analysis/gh-msun/projects/2023_06_26_SRT_deconvolution_MS/output/experiment/t_subset_blueprint_2m/t_effector-wholeblood//methyl_score/'"
      ]
     },
     "execution_count": 20,
     "metadata": {},
     "output_type": "execute_result"
    }
   ],
   "source": [
    "SCORE_DIR"
   ]
  },
  {
   "cell_type": "code",
   "execution_count": 21,
   "metadata": {
    "tags": []
   },
   "outputs": [
    {
     "data": {
      "image/png": "[encoded data removed]",
      "text/plain": [
       "<Figure size 864x432 with 1 Axes>"
      ]
     },
     "metadata": {
      "needs_background": "light"
     },
     "output_type": "display_data"
    }
   ],
   "source": [
    "deconvolution_nnls = dcnv.compute_deconvolution_from_methyl_score_dir_nnls(path_to_methyl_score_dir=SCORE_DIR, \n",
    "                                                                          score_type=SCORE_VAR, \n",
    "                                                                          atlas=atlas, \n",
    "                                                                          match=False)\n",
    "\n",
    "dcnv.boxplot_titration(list_of_deconvolution_dfs=deconvolution_nnls,\n",
    "                      cell_type='immune_t_naive',\n",
    "                      true_proportions=[round(x, 4) for x in tnai_titrating_proprotions],\n",
    "                      deconvolution_method_name='nnls'\n",
    "                      )"
   ]
  },
  {
   "cell_type": "code",
   "execution_count": 22,
   "metadata": {
    "tags": []
   },
   "outputs": [
    {
     "data": {
      "text/plain": [
       "'/analysis/gh-msun/projects/2023_06_26_SRT_deconvolution_MS/output/experiment/t_subset_blueprint_2m/t_effector-wholeblood//methyl_score/'"
      ]
     },
     "execution_count": 22,
     "metadata": {},
     "output_type": "execute_result"
    }
   ],
   "source": [
    "SCORE_DIR"
   ]
  },
  {
   "cell_type": "code",
   "execution_count": 23,
   "metadata": {},
   "outputs": [
    {
     "data": {
      "image/png": "[encoded data removed]",
      "text/plain": [
       "<Figure size 720x720 with 14 Axes>"
      ]
     },
     "metadata": {
      "needs_background": "light"
     },
     "output_type": "display_data"
    }
   ],
   "source": [
    "dcnv.boxplot_titration_zoom(list_of_deconvolution_dfs=deconvolution_nnls,\n",
    "                      cell_type=TITRATING_CELLTYPE_ATLAS,\n",
    "                      true_proportions=[round(x, 4) for x in teff_titrating_proprotions],\n",
    "                      deconvolution_method_name='nnls')"
   ]
  },
  {
   "cell_type": "code",
   "execution_count": 24,
   "metadata": {
    "tags": []
   },
   "outputs": [
    {
     "data": {
      "text/plain": [
       "'/analysis/gh-msun/projects/2023_06_26_SRT_deconvolution_MS/output/experiment/t_subset_blueprint_2m/t_effector-wholeblood//methyl_score/'"
      ]
     },
     "execution_count": 24,
     "metadata": {},
     "output_type": "execute_result"
    }
   ],
   "source": [
    "SCORE_DIR"
   ]
  },
  {
   "cell_type": "code",
   "execution_count": null,
   "metadata": {},
   "outputs": [],
   "source": []
  },
  {
   "cell_type": "code",
   "execution_count": null,
   "metadata": {},
   "outputs": [],
   "source": []
  },
  {
   "cell_type": "code",
   "execution_count": null,
   "metadata": {},
   "outputs": [],
   "source": []
  },
  {
   "cell_type": "code",
   "execution_count": null,
   "metadata": {},
   "outputs": [],
   "source": []
  },
  {
   "cell_type": "code",
   "execution_count": 16,
   "metadata": {
    "tags": []
   },
   "outputs": [
    {
     "name": "stdout",
     "output_type": "stream",
     "text": [
      "CPU times: user 9.07 s, sys: 20.2 ms, total: 9.09 s\n",
      "Wall time: 9.09 s\n"
     ]
    }
   ],
   "source": [
    "%%time\n",
    "\n",
    "CELLTYPES = ['t_effector',\n",
    "             't_reg']\n",
    "\n",
    "# load score data from all cell types\n",
    "deconvolution_nnls = []\n",
    "deconvolution_naive = []\n",
    "\n",
    "TITRATION_LIST = teff_titrating_proprotions\n",
    "SCORE_VAR = 'frac_alpha_leq_25pct'\n",
    "FILTER_COV = 20\n",
    "\n",
    "for celltype in CELLTYPES: \n",
    "    EXPERIMENT_NAME = f'{celltype}-{BACKGROUND}/'            # <-- iterate over this\n",
    "    EXPERIMENT_CELLTYPE_DIR = EXPERIMENT_DIR + f'{EXPERIMENT_NAME}/'\n",
    "    SCORE_DIR = EXPERIMENT_CELLTYPE_DIR + 'methyl_score/'\n",
    "\n",
    "    # iterate nnls deconvolition on each score_df\n",
    "    deconv_nnls = dcnv.compute_deconvolution_from_methyl_score_dir_nnls(path_to_methyl_score_dir=SCORE_DIR, \n",
    "                                                                          score_type=SCORE_VAR, \n",
    "                                                                          atlas=atlas, \n",
    "                                                                          match=False)\n",
    "    \n",
    "     # iterate naive deconvolution on each score_df\n",
    "    deconv_naive = dcnv.compute_deconvolution_from_methyl_score_dir_naive(path_to_methyl_score_dir=SCORE_DIR, \n",
    "                                                                             filter_cov=FILTER_COV, \n",
    "                                                                             score_var=SCORE_VAR, \n",
    "                                                                             ref_region_df=ref_region_df)\n",
    "    \n",
    "    deconvolution_nnls.append(deconv_nnls)\n",
    "    deconvolution_naive.append(deconv_naive)"
   ]
  },
  {
   "cell_type": "code",
   "execution_count": 17,
   "metadata": {
    "tags": []
   },
   "outputs": [],
   "source": [
    "# import copy\n",
    "\n",
    "# TRUE_PROPORTIONS = copy.deepcopy(TITRATION_LIST)\n",
    "\n",
    "# for i in range(len(TITRATION_LIST )):\n",
    "#     last_item = TITRATION_LIST.pop()\n",
    "#     TITRATION_LIST.insert(i, last_item)\n",
    "\n",
    "# TITRATION_LIST"
   ]
  },
  {
   "cell_type": "code",
   "execution_count": null,
   "metadata": {
    "tags": []
   },
   "outputs": [],
   "source": [
    "TITRATION_LIST"
   ]
  },
  {
   "cell_type": "code",
   "execution_count": 20,
   "metadata": {},
   "outputs": [],
   "source": [
    "CELLTYPE_ATLAS = ['immune_t_effector', 'immune_treg']"
   ]
  },
  {
   "cell_type": "code",
   "execution_count": 21,
   "metadata": {
    "tags": []
   },
   "outputs": [
    {
     "name": "stdout",
     "output_type": "stream",
     "text": [
      "[0.      0.00023 0.00046 0.00092 0.00138 0.00184 0.0023  0.0046  0.0092\n",
      " 0.0138  0.0184  0.023   0.0345  0.046  ]\n",
      "[0.55 0.7  0.6  0.7  0.55 0.8  0.9  1.   1.   1.   1.   1.   1.   1.  ]\n",
      "[0.      0.00023 0.00046 0.00092 0.00138 0.00184 0.0023  0.0046  0.0092\n",
      " 0.0138  0.0184  0.023   0.0345  0.046  ]\n",
      "[0.   0.   0.   0.   0.   0.   0.   0.   0.5  0.95 1.   1.   1.   1.  ]\n"
     ]
    },
    {
     "data": {
      "image/png": "[encoded data removed]",
      "text/plain": [
       "<Figure size 432x288 with 1 Axes>"
      ]
     },
     "metadata": {
      "needs_background": "light"
     },
     "output_type": "display_data"
    }
   ],
   "source": [
    "CELLTYPE_ATLAS_ = CELLTYPE_ATLAS\n",
    "deconvolution_naive_ = deconvolution_naive\n",
    "deconvolution_nnls_ = deconvolution_nnls\n",
    "TRUE_PROPORTIONS = teff_titrating_proprotions\n",
    "\n",
    "data = []\n",
    "lod95_value = []\n",
    "\n",
    "# <- start loop\n",
    "for celltype in CELLTYPE_ATLAS_:\n",
    "    \n",
    "    CELL_TYPE = celltype\n",
    "\n",
    "    celltype_idx = CELLTYPE_ATLAS_.index(CELL_TYPE)\n",
    "    testing = deconvolution_nnls_[celltype_idx]\n",
    "\n",
    "    ###### ----- correct proportion\n",
    "    # detect with close to true proportion\n",
    "    EPS = TITRATION_LIST\n",
    "\n",
    "    p_correct = []\n",
    "\n",
    "    testing = deconvolution_nnls_[celltype_idx]\n",
    "\n",
    "    # for i in range(0,len(testing)):\n",
    "    #     df = testing[i]\n",
    "    #    #  print(df.head())\n",
    "    #     m, n = df.shape\n",
    "    #     eps = EPS[i] * 0.3\n",
    "    #     true_p = TRUE_PROPORTIONS[i]\n",
    "    #     true_p_min = true_p - eps \n",
    "    #     true_p_max = true_p + eps\n",
    "    #     phat = df[df.index == CELL_TYPE]\n",
    "    #     phat = phat.values.squeeze()\n",
    "    #     phat_boolean = [(true_p_min <= x <= true_p_max) for x in phat]\n",
    "    #     p_correct.append(sum(phat_boolean) / n)\n",
    "\n",
    "\n",
    "    DETECTION_THRESHOLD = 0.005\n",
    "\n",
    "    p_detect = []\n",
    "\n",
    "    for df in testing:\n",
    "        m, n = df.shape\n",
    "        phat = df[df.index == CELL_TYPE]\n",
    "        phat_boolean = phat > DETECTION_THRESHOLD\n",
    "        p_detected = sum(phat_boolean.values.squeeze()) / n\n",
    "        p_detect.append(p_detected)\n",
    "\n",
    "    p_correct = p_detect\n",
    "\n",
    "\n",
    "    ###### ----- plotting\n",
    "\n",
    "    # Replace these with your data\n",
    "    x_values = TRUE_PROPORTIONS\n",
    "    y_values = p_correct  #  p_correct #\n",
    "    \n",
    "    data.append((x_values, y_values))\n",
    "\n",
    "    # Sorting the x_values and y_values in the order of x_values\n",
    "    sorted_indices = np.argsort(x_values)\n",
    "    x_values_sorted = np.array(x_values)[sorted_indices]\n",
    "    y_values_sorted = np.array(y_values)[sorted_indices]\n",
    "    \n",
    "    print(x_values_sorted)\n",
    "    print(y_values_sorted)\n",
    "    \n",
    "    if x_values_sorted[0] == 0:\n",
    "        y_values_sorted[0] = 0\n",
    "\n",
    "    # Interpolating to find the x-value\n",
    "    y_target = 0.95\n",
    "    x_target = np.interp(y_target, y_values_sorted, x_values_sorted)\n",
    "    lod95_value.append(x_target)\n",
    "\n",
    "\n",
    "\n",
    "for i, (x_values, y_values) in enumerate(data):\n",
    "    name = CELLTYPE_ATLAS_[i]\n",
    "    lod95 = round(lod95_value[i], 3)\n",
    "    label = f'{name}: {lod95}'\n",
    "    if x_values[-1] == 0:\n",
    "        y_values[-1] = 0\n",
    "    sns.scatterplot(x=x_values, y=y_values, label=label)\n",
    "    sns.lineplot(x=x_values, y=y_values)\n",
    "\n",
    "# Set the limits and spacing of the x and y axes\n",
    "plt.xticks(ticks=[i/10 for i in range(11)])\n",
    "plt.yticks(ticks=[i/10 for i in range(11)])\n",
    "plt.xlim(0, 0.1)\n",
    "plt.ylim(0, 1)\n",
    "\n",
    "plt.axhline(y=y_target, xmin=0, xmax=x_target+1, color='blue', linestyle='--', linewidth=0.8)\n",
    "\n",
    "plt.grid(True, alpha=0.5)\n",
    "plt.gca().set_axisbelow(True)\n",
    "\n",
    "plt.xlabel('Cell Type Proportion')\n",
    "plt.ylabel('% Correctly Identified (x/20)')\n",
    "plt.legend(bbox_to_anchor=(1.05, 1), loc='upper left')\n",
    "\n",
    "plt.show()"
   ]
  },
  {
   "cell_type": "code",
   "execution_count": 22,
   "metadata": {},
   "outputs": [
    {
     "name": "stdout",
     "output_type": "stream",
     "text": [
      "[0.      0.00023 0.00046 0.00092 0.00138 0.00184 0.0023  0.0046  0.0092\n",
      " 0.0138  0.0184  0.023   0.0345  0.046  ]\n",
      "[0.   0.   0.   0.   0.05 0.   0.05 0.   0.3  0.65 0.5  0.75 0.95 1.  ]\n",
      "[0.      0.00023 0.00046 0.00092 0.00138 0.00184 0.0023  0.0046  0.0092\n",
      " 0.0138  0.0184  0.023   0.0345  0.046  ]\n",
      "[1.   0.   0.   0.   0.   0.   0.   0.   0.25 0.4  0.55 0.8  0.9  1.  ]\n"
     ]
    },
    {
     "data": {
      "image/png": "[encoded data removed]",
      "text/plain": [
       "<Figure size 432x288 with 1 Axes>"
      ]
     },
     "metadata": {
      "needs_background": "light"
     },
     "output_type": "display_data"
    }
   ],
   "source": [
    "CELLTYPE_ATLAS_ = CELLTYPE_ATLAS\n",
    "deconvolution_naive_ = deconvolution_naive\n",
    "deconvolution_nnls_ = deconvolution_nnls\n",
    "TRUE_PROPORTIONS = teff_titrating_proprotions\n",
    "\n",
    "data = []\n",
    "lod95_value = []\n",
    "\n",
    "# <- start loop\n",
    "for celltype in CELLTYPE_ATLAS_:\n",
    "    \n",
    "    CELL_TYPE = celltype\n",
    "\n",
    "    celltype_idx = CELLTYPE_ATLAS_.index(CELL_TYPE)\n",
    "    testing = deconvolution_nnls_[celltype_idx]\n",
    "\n",
    "    ###### ----- correct proportion\n",
    "    # detect with close to true proportion\n",
    "    EPS = TITRATION_LIST\n",
    "\n",
    "    p_correct = []\n",
    "\n",
    "    testing = deconvolution_nnls_[celltype_idx]\n",
    "\n",
    "    for i in range(0,len(testing)):\n",
    "        df = testing[i]\n",
    "       #  print(df.head())\n",
    "        m, n = df.shape\n",
    "        eps = EPS[i] * 0.3\n",
    "        true_p = TRUE_PROPORTIONS[i]\n",
    "        true_p_min = true_p - eps \n",
    "        true_p_max = true_p + eps\n",
    "        phat = df[df.index == CELL_TYPE]\n",
    "        phat = phat.values.squeeze()\n",
    "        phat_boolean = [(true_p_min <= x <= true_p_max) for x in phat]\n",
    "        p_correct.append(sum(phat_boolean) / n)\n",
    "\n",
    "\n",
    "#     DETECTION_THRESHOLD = 0.01\n",
    "\n",
    "#     p_detect = []\n",
    "\n",
    "#     for df in testing:\n",
    "#         m, n = df.shape\n",
    "#         phat = df[df.index == CELL_TYPE]\n",
    "#         phat_boolean = phat > DETECTION_THRESHOLD\n",
    "#         p_detected = sum(phat_boolean.values.squeeze()) / n\n",
    "#         p_detect.append(p_detected)\n",
    "\n",
    "#     p_correct = p_detect\n",
    "\n",
    "\n",
    "    ###### ----- plotting\n",
    "\n",
    "    # Replace these with your data\n",
    "    x_values = TRUE_PROPORTIONS\n",
    "    y_values = p_correct  #  p_correct #\n",
    "    \n",
    "    data.append((x_values, y_values))\n",
    "\n",
    "    # Sorting the x_values and y_values in the order of x_values\n",
    "    sorted_indices = np.argsort(x_values)\n",
    "    x_values_sorted = np.array(x_values)[sorted_indices]\n",
    "    y_values_sorted = np.array(y_values)[sorted_indices]\n",
    "    \n",
    "    print(x_values_sorted)\n",
    "    print(y_values_sorted)\n",
    "    \n",
    "    if x_values_sorted[0] == 0:\n",
    "        y_values_sorted[0] = 0\n",
    "\n",
    "    # Interpolating to find the x-value\n",
    "    y_target = 0.95\n",
    "    x_target = np.interp(y_target, y_values_sorted, x_values_sorted)\n",
    "    lod95_value.append(x_target)\n",
    "\n",
    "\n",
    "\n",
    "for i, (x_values, y_values) in enumerate(data):\n",
    "    name = CELLTYPE_ATLAS_[i]\n",
    "    lod95 = round(lod95_value[i], 3)\n",
    "    label = f'{name}: {lod95}'\n",
    "    if x_values[-1] == 0:\n",
    "        y_values[-1] = 0\n",
    "    sns.scatterplot(x=x_values, y=y_values, label=label)\n",
    "    sns.lineplot(x=x_values, y=y_values)\n",
    "\n",
    "# Set the limits and spacing of the x and y axes\n",
    "plt.xticks(ticks=[i/10 for i in range(11)])\n",
    "plt.yticks(ticks=[i/10 for i in range(11)])\n",
    "plt.xlim(0, 0.1)\n",
    "plt.ylim(0, 1)\n",
    "\n",
    "plt.axhline(y=y_target, xmin=0, xmax=x_target+1, color='blue', linestyle='--', linewidth=0.8)\n",
    "\n",
    "plt.grid(True, alpha=0.5)\n",
    "plt.gca().set_axisbelow(True)\n",
    "\n",
    "plt.xlabel('Cell Type Proportion')\n",
    "plt.ylabel('% Correctly Identified (x/20)')\n",
    "plt.legend(bbox_to_anchor=(1.05, 1), loc='upper left')\n",
    "\n",
    "plt.show()"
   ]
  },
  {
   "cell_type": "code",
   "execution_count": null,
   "metadata": {},
   "outputs": [],
   "source": []
  },
  {
   "cell_type": "code",
   "execution_count": null,
   "metadata": {},
   "outputs": [],
   "source": []
  },
  {
   "cell_type": "code",
   "execution_count": null,
   "metadata": {},
   "outputs": [],
   "source": []
  },
  {
   "cell_type": "code",
   "execution_count": null,
   "metadata": {},
   "outputs": [],
   "source": []
  }
 ],
 "metadata": {
  "kernelspec": {
   "display_name": "Python 3",
   "language": "python",
   "name": "python3"
  },
  "language_info": {
   "codemirror_mode": {
    "name": "ipython",
    "version": 3
   },
   "file_extension": ".py",
   "mimetype": "text/x-python",
   "name": "python",
   "nbconvert_exporter": "python",
   "pygments_lexer": "ipython3",
   "version": "3.7.8"
  }
 },
 "nbformat": 4,
 "nbformat_minor": 4
}
