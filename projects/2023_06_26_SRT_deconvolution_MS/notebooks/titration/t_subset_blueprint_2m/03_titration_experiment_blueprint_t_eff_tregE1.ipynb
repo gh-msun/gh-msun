{
 "cells": [
  {
   "cell_type": "markdown",
   "metadata": {},
   "source": [
    "# Titration Experiment"
   ]
  },
  {
   "cell_type": "code",
   "execution_count": 1,
   "metadata": {
    "tags": [
     "parameters"
    ]
   },
   "outputs": [],
   "source": [
    "#############################\n",
    "#   Experiment parameters   #\n",
    "#############################\n",
    "ROOT_DIR = '/analysis/gh-msun/'\n",
    "PROJECT_SLUG = '2023_06_26_SRT_deconvolution_MS'\n",
    "EXPERIMENT = 't_subset_blueprint_2m_fix'\n",
    "TITRATING_CELLTYPE = 't_effector'\n",
    "TITRATING_CELLTYPE_ATLAS = 'immune_t_effector' # cell type name in atlas different\n",
    "BACKGROUND = 'wholeblood' # background: uniform / wholeblood \n",
    "N_REPLICATES = 20 # number of replicates for each mixture\n",
    "SEED = 888 # need to change for different experiment\n",
    "TOTAL_READS_TO_SAMPLE = 2000000\n",
    "\n",
    "# make sure the orders of the two list match\n",
    "CELLTYPES = ['t_effector',\n",
    "             't_reg', \n",
    "             't_naive',\n",
    "             'Blueprint-B',\n",
    "             'Blueprint-NK',\n",
    "             'Blueprint-Mono',\n",
    "             'Blueprint-Neutro']\n",
    "ABRIDGED_NAMES = ['Teff', 'Treg', 'Tnaive', 'B', 'NK', 'MONO', 'NEUTRO'] # for directory name\n",
    "\n",
    "# TITRATION_LIST = [0.10, 0.08, 0.06, 0.04, 0.02, 0.01, \n",
    "#                   0.008, 0.006, 0.004, 0.002, 0.001, 0]\n",
    "\n",
    "\n",
    "# # proportion of cells in real whole blood (sum to 1)\n",
    "# WHOLE_BLOOD_ABUNDANCE = {'Blueprint-B':0.06,\n",
    "#                          'Blueprint-Mono':0.09,\n",
    "#                          'Blueprint-Neutro':0.57,\n",
    "#                          't_naive':0.16+0.07,\n",
    "#                          'Blueprint-NK':0.05}\n",
    "    "
   ]
  },
  {
   "cell_type": "code",
   "execution_count": 2,
   "metadata": {},
   "outputs": [
    {
     "name": "stderr",
     "output_type": "stream",
     "text": [
      "/home/ec2-user/mambaforge/envs/2023_06_26_SRT_deconvolution_MS/lib/python3.7/site-packages/pyspark/context.py:317: FutureWarning: Python 3.7 support is deprecated in Spark 3.4.\n",
      "  warnings.warn(\"Python 3.7 support is deprecated in Spark 3.4.\", FutureWarning)\n"
     ]
    }
   ],
   "source": [
    "import glob\n",
    "import numpy as np\n",
    "import pandas as pd\n",
    "import seaborn as sns\n",
    "import matplotlib.pyplot as plt\n",
    "import itertools\n",
    "import functools\n",
    "import os\n",
    "import regex as re\n",
    "import random\n",
    "import importlib\n",
    "import sys\n",
    "\n",
    "from pyspark.sql import SparkSession\n",
    "from pyspark import SparkConf, SparkContext\n",
    "from pyspark.sql.types import IntegerType, LongType, ArrayType, StringType, DoubleType\n",
    "from pyspark.sql.functions import udf, explode, broadcast, count, lit, length, col\n",
    "from pyspark.sql import DataFrame\n",
    "from pyspark.sql.types import StructType\n",
    "\n",
    "# UPDATE HOME!\n",
    "os.environ[\"SPARK_HOME\"] = \"/home/ec2-user/mambaforge/envs/2023_06_26_SRT_deconvolution_MS/lib/python3.7/site-packages/pyspark\"\n",
    "# THIS needs to be set-up before running the notebook\n",
    "os.environ[\"SPARK_LOCAL_DIRS\"] = \"/temp\"\n",
    "os.environ[\"PYARROW_IGNORE_TIMEZONE\"] = \"1\"\n",
    "\n",
    "spark_conf = SparkConf()\n",
    "spark_conf.set(\"spark.ui.showConsoleProgress\", \"True\")\n",
    "spark_conf.set(\"spark.executor.instances\", \"2\")\n",
    "spark_conf.set(\"spark.executor.cores\", \"2\")\n",
    "spark_conf.set(\"spark.executor.memory\", \"16g\")\n",
    "spark_conf.set(\"spark.driver.memory\", \"64g\")\n",
    "spark_conf.set(\"spark.driver.maxResultSize\", \"32g\")\n",
    "spark_conf.set(\"spark.parquet.filterPushdown\", \"true\")\n",
    "spark_conf.set(\"spark.local.dir\", \"/temp\")\n",
    "spark_conf.getAll()\n",
    "\n",
    "sc = SparkContext(conf=spark_conf)\n",
    "sc.setLogLevel(\"ERROR\")\n",
    "spark = SparkSession(sc)\n",
    "\n",
    "pd.set_option('display.max_rows', 500)\n",
    "pd.set_option('display.max_columns', 500)\n",
    "pd.set_option('display.width', 1000)\n",
    "sns.set_context('talk')"
   ]
  },
  {
   "cell_type": "code",
   "execution_count": 3,
   "metadata": {},
   "outputs": [],
   "source": [
    "#---Local paths---#\n",
    "PROJECT_DIR = ROOT_DIR + f'projects/{PROJECT_SLUG}/'\n",
    "\n",
    "#---Load all custom scripts---#\n",
    "SCRIPT_DIR = PROJECT_DIR + 'scripts/'\n",
    "sys.path.append(SCRIPT_DIR)\n",
    "\n",
    "import create_mixture as cm\n",
    "import score_matrix as sm\n",
    "import deconvolution as dcnv\n",
    "import helper as hlpr\n",
    "\n",
    "pd.set_option('display.max_rows', 500)\n",
    "pd.set_option('display.max_columns', 500)\n",
    "pd.set_option('display.width', 1000)"
   ]
  },
  {
   "cell_type": "code",
   "execution_count": 4,
   "metadata": {},
   "outputs": [
    {
     "data": {
      "text/plain": [
       "<module 'helper' from '/analysis/gh-msun/projects/2023_06_26_SRT_deconvolution_MS/scripts/helper.py'>"
      ]
     },
     "execution_count": 4,
     "metadata": {},
     "output_type": "execute_result"
    }
   ],
   "source": [
    "importlib.reload(cm)\n",
    "importlib.reload(sm)\n",
    "importlib.reload(dcnv)\n",
    "importlib.reload(hlpr)"
   ]
  },
  {
   "cell_type": "code",
   "execution_count": 5,
   "metadata": {
    "tags": []
   },
   "outputs": [],
   "source": [
    "CELLTYPES = ['t_effector', \n",
    "             't_reg',\n",
    "             't_naive',\n",
    "             'Blueprint-B',\n",
    "             'Blueprint-NK',\n",
    "             'Blueprint-Mono',\n",
    "             'Blueprint-Neutro']\n",
    "\n",
    "ABRIDGED_NAMES = ['Teff', 'Treg', 'Tnaive', 'B', 'NK', 'MONO', 'NEUTRO'] # for directory name\n",
    "\n",
    "TITRATION_LIST = [0.20, 0.15, 0.10, 0.08, 0.06, 0.04, 0.02, 0.01, \n",
    "                  0.008, 0.006, 0.004, 0.002, 0.001, 0] # % of total T-cells\n",
    "\n",
    "# background cell type proportion (T is 23%)\n",
    "WHOLE_BLOOD_ABUNDANCE = {'B':0.06,\n",
    "                         'Mono':0.09,\n",
    "                         'Neutro':0.57,\n",
    "                         'NK':0.05}\n",
    "\n",
    "# background: % of total T-cells (multipy with 0.2)\n",
    "WHOLE_BLOOD_ABUNDANCE_T = {'t_naive':0.90,\n",
    "                           't_reg':0.10}\n",
    "\n",
    "PROPORTIONS = []\n",
    "treg_titrating_proprotions = [] \n",
    "teff_titrating_proprotions = []\n",
    "tnai_titrating_proprotions = []\n",
    "\n",
    "for t, alpha in enumerate(TITRATION_LIST):  \n",
    "    \n",
    "    # T cell total to be 23 % \n",
    "    proportion_teff = 0.23 * alpha  # alpha is the titrating proportion\n",
    "    proportion_treg = 0.23 * (1-alpha) * WHOLE_BLOOD_ABUNDANCE_T['t_reg'] \n",
    "    proportion_tnai = 0.23 * (1-alpha) * WHOLE_BLOOD_ABUNDANCE_T['t_naive'] \n",
    "    \n",
    "    treg_titrating_proprotions.append(proportion_treg)\n",
    "    teff_titrating_proprotions.append(proportion_teff)\n",
    "    tnai_titrating_proprotions.append(proportion_tnai)\n",
    "    \n",
    "    proportion = [proportion_teff, \n",
    "                  proportion_treg, \n",
    "                  proportion_tnai,\n",
    "                  WHOLE_BLOOD_ABUNDANCE['B'],\n",
    "                  WHOLE_BLOOD_ABUNDANCE['NK'],\n",
    "                  WHOLE_BLOOD_ABUNDANCE['Mono'],\n",
    "                  WHOLE_BLOOD_ABUNDANCE['Neutro']]\n",
    "    \n",
    "    PROPORTIONS.append(proportion)\n"
   ]
  },
  {
   "cell_type": "code",
   "execution_count": 6,
   "metadata": {
    "tags": []
   },
   "outputs": [
    {
     "data": {
      "text/plain": [
       "[0.046000000000000006,\n",
       " 0.0345,\n",
       " 0.023000000000000003,\n",
       " 0.0184,\n",
       " 0.0138,\n",
       " 0.0092,\n",
       " 0.0046,\n",
       " 0.0023,\n",
       " 0.00184,\n",
       " 0.0013800000000000002,\n",
       " 0.00092,\n",
       " 0.00046,\n",
       " 0.00023,\n",
       " 0.0]"
      ]
     },
     "execution_count": 6,
     "metadata": {},
     "output_type": "execute_result"
    }
   ],
   "source": [
    "teff_titrating_proprotions"
   ]
  },
  {
   "cell_type": "markdown",
   "metadata": {},
   "source": [
    "## Create mixture"
   ]
  },
  {
   "cell_type": "code",
   "execution_count": 7,
   "metadata": {},
   "outputs": [],
   "source": [
    "############################\n",
    "#   Parameters and paths   # \n",
    "############################\n",
    "EXPERIMENT_DIR = PROJECT_DIR + f'output/experiment/{EXPERIMENT}/'\n",
    "EXPERIMENT_NAME = f'{TITRATING_CELLTYPE}-{BACKGROUND}/'\n",
    "PARQUET_PATH = PROJECT_DIR + 'output/mixture_source/t_subset_mixture_source/'\n",
    "EXPERIMENT_CELLTYPE_DIR = EXPERIMENT_DIR + f'{EXPERIMENT_NAME}/'\n",
    "RESULT_PATH = EXPERIMENT_CELLTYPE_DIR + 'mixture/'\n"
   ]
  },
  {
   "cell_type": "code",
   "execution_count": 8,
   "metadata": {},
   "outputs": [
    {
     "name": "stdout",
     "output_type": "stream",
     "text": [
      ">>> Load parquet files and count rows... <<<\n",
      "----------> Loading cell type: t_effector\n",
      "----------> Loading cell type: t_reg\n",
      "----------> Loading cell type: t_naive\n",
      "----------> Loading cell type: Blueprint-B\n",
      "----------> Loading cell type: Blueprint-NK\n",
      "----------> Loading cell type: Blueprint-Mono\n",
      "----------> Loading cell type: Blueprint-Neutro\n",
      ">>> Complete. <<< \n",
      "\n",
      ">>> Start mixing... <<<\n",
      "--> PROPORTION: [0.046000000000000006, 0.018400000000000003, 0.16560000000000002, 0.06, 0.05, 0.09, 0.57]\n",
      "----------> Creating mixture 0... \n",
      "----------> Creating mixture 1... \n",
      "----------> Creating mixture 2... \n",
      "----------> Creating mixture 3... \n",
      "----------> Creating mixture 4... \n",
      "----------> Creating mixture 5... \n",
      "----------> Creating mixture 6... \n",
      "----------> Creating mixture 7... \n",
      "----------> Creating mixture 8... \n"
     ]
    },
    {
     "name": "stderr",
     "output_type": "stream",
     "text": [
      "ERROR:root:KeyboardInterrupt while sending command.\n",
      "Traceback (most recent call last):\n",
      "  File \"/home/ec2-user/mambaforge/envs/2023_06_26_SRT_deconvolution_MS/lib/python3.7/site-packages/py4j/java_gateway.py\", line 1038, in send_command\n",
      "    response = connection.send_command(command)\n",
      "  File \"/home/ec2-user/mambaforge/envs/2023_06_26_SRT_deconvolution_MS/lib/python3.7/site-packages/py4j/clientserver.py\", line 511, in send_command\n",
      "    answer = smart_decode(self.stream.readline()[:-1])\n",
      "  File \"/home/ec2-user/mambaforge/envs/2023_06_26_SRT_deconvolution_MS/lib/python3.7/socket.py\", line 589, in readinto\n",
      "    return self._sock.recv_into(b)\n",
      "KeyboardInterrupt\n"
     ]
    },
    {
     "ename": "KeyboardInterrupt",
     "evalue": "",
     "output_type": "error",
     "traceback": [
      "\u001b[0;31m---------------------------------------------------------------------------\u001b[0m",
      "\u001b[0;31mKeyboardInterrupt\u001b[0m                         Traceback (most recent call last)",
      "\u001b[0;32m<timed exec>\u001b[0m in \u001b[0;36m<module>\u001b[0;34m\u001b[0m\n",
      "\u001b[0;32m/analysis/gh-msun/projects/2023_06_26_SRT_deconvolution_MS/scripts/create_mixture.py\u001b[0m in \u001b[0;36mmix_celltypes_multiple_proportions\u001b[0;34m(parquet_df, total_reads_per_celltype, n, cell_types, cell_type_abridged_name, total_reads_to_sample, list_of_proportions, seed, result_path, spark, verbose, save)\u001b[0m\n\u001b[1;32m    249\u001b[0m                      \u001b[0mspark\u001b[0m\u001b[0;34m=\u001b[0m\u001b[0mspark\u001b[0m\u001b[0;34m,\u001b[0m\u001b[0;34m\u001b[0m\u001b[0;34m\u001b[0m\u001b[0m\n\u001b[1;32m    250\u001b[0m                      \u001b[0msave\u001b[0m\u001b[0;34m=\u001b[0m\u001b[0msave\u001b[0m\u001b[0;34m,\u001b[0m\u001b[0;34m\u001b[0m\u001b[0;34m\u001b[0m\u001b[0m\n\u001b[0;32m--> 251\u001b[0;31m                      verbose=verbose)\n\u001b[0m\u001b[1;32m    252\u001b[0m \u001b[0;34m\u001b[0m\u001b[0m\n\u001b[1;32m    253\u001b[0m     \u001b[0mprint\u001b[0m\u001b[0;34m(\u001b[0m\u001b[0;34m\">>> Complete. <<< \\n\"\u001b[0m\u001b[0;34m)\u001b[0m\u001b[0;34m\u001b[0m\u001b[0;34m\u001b[0m\u001b[0m\n",
      "\u001b[0;32m/analysis/gh-msun/projects/2023_06_26_SRT_deconvolution_MS/scripts/create_mixture.py\u001b[0m in \u001b[0;36mmix_celltypes_n_times\u001b[0;34m(parquet_df, total_reads_per_celltype, n, cell_types, cell_type_abridged_name, total_reads_to_sample, proportions, seed, result_path, spark, verbose, save)\u001b[0m\n\u001b[1;32m    211\u001b[0m                                \u001b[0msave\u001b[0m\u001b[0;34m=\u001b[0m\u001b[0msave\u001b[0m\u001b[0;34m,\u001b[0m\u001b[0;34m\u001b[0m\u001b[0;34m\u001b[0m\u001b[0m\n\u001b[1;32m    212\u001b[0m                                \u001b[0mitr\u001b[0m\u001b[0;34m=\u001b[0m\u001b[0mi\u001b[0m\u001b[0;34m,\u001b[0m\u001b[0;34m\u001b[0m\u001b[0;34m\u001b[0m\u001b[0m\n\u001b[0;32m--> 213\u001b[0;31m                                verbose=verbose)\n\u001b[0m\u001b[1;32m    214\u001b[0m \u001b[0;34m\u001b[0m\u001b[0m\n\u001b[1;32m    215\u001b[0m \u001b[0;34m\u001b[0m\u001b[0m\n",
      "\u001b[0;32m/analysis/gh-msun/projects/2023_06_26_SRT_deconvolution_MS/scripts/create_mixture.py\u001b[0m in \u001b[0;36mmix_celltypes\u001b[0;34m(parquet_df, total_reads_per_celltype, cell_types, total_reads_to_sample, proportions, seed, result_path, spark, verbose, save, itr)\u001b[0m\n\u001b[1;32m    143\u001b[0m             \u001b[0mdf_sample\u001b[0m \u001b[0;34m=\u001b[0m \u001b[0mdf\u001b[0m\u001b[0;34m.\u001b[0m\u001b[0msample\u001b[0m\u001b[0;34m(\u001b[0m\u001b[0;32mFalse\u001b[0m\u001b[0;34m,\u001b[0m \u001b[0mfrac\u001b[0m\u001b[0;34m,\u001b[0m \u001b[0mseed\u001b[0m\u001b[0;34m)\u001b[0m\u001b[0;34m\u001b[0m\u001b[0;34m\u001b[0m\u001b[0m\n\u001b[1;32m    144\u001b[0m             \u001b[0msampled_df\u001b[0m\u001b[0;34m.\u001b[0m\u001b[0mappend\u001b[0m\u001b[0;34m(\u001b[0m\u001b[0mdf_sample\u001b[0m\u001b[0;34m)\u001b[0m\u001b[0;34m\u001b[0m\u001b[0;34m\u001b[0m\u001b[0m\n\u001b[0;32m--> 145\u001b[0;31m             \u001b[0mn_sampled\u001b[0m \u001b[0;34m=\u001b[0m \u001b[0mdf_sample\u001b[0m\u001b[0;34m.\u001b[0m\u001b[0mcount\u001b[0m\u001b[0;34m(\u001b[0m\u001b[0;34m)\u001b[0m\u001b[0;34m\u001b[0m\u001b[0;34m\u001b[0m\u001b[0m\n\u001b[0m\u001b[1;32m    146\u001b[0m \u001b[0;34m\u001b[0m\u001b[0m\n\u001b[1;32m    147\u001b[0m       \u001b[0;31m#  print(f'----------> {n_sampled}')\u001b[0m\u001b[0;34m\u001b[0m\u001b[0;34m\u001b[0m\u001b[0;34m\u001b[0m\u001b[0m\n",
      "\u001b[0;32m~/mambaforge/envs/2023_06_26_SRT_deconvolution_MS/lib/python3.7/site-packages/pyspark/sql/dataframe.py\u001b[0m in \u001b[0;36mcount\u001b[0;34m(self)\u001b[0m\n\u001b[1;32m   1191\u001b[0m         \u001b[0;36m3\u001b[0m\u001b[0;34m\u001b[0m\u001b[0;34m\u001b[0m\u001b[0m\n\u001b[1;32m   1192\u001b[0m         \"\"\"\n\u001b[0;32m-> 1193\u001b[0;31m         \u001b[0;32mreturn\u001b[0m \u001b[0mint\u001b[0m\u001b[0;34m(\u001b[0m\u001b[0mself\u001b[0m\u001b[0;34m.\u001b[0m\u001b[0m_jdf\u001b[0m\u001b[0;34m.\u001b[0m\u001b[0mcount\u001b[0m\u001b[0;34m(\u001b[0m\u001b[0;34m)\u001b[0m\u001b[0;34m)\u001b[0m\u001b[0;34m\u001b[0m\u001b[0;34m\u001b[0m\u001b[0m\n\u001b[0m\u001b[1;32m   1194\u001b[0m \u001b[0;34m\u001b[0m\u001b[0m\n\u001b[1;32m   1195\u001b[0m     \u001b[0;32mdef\u001b[0m \u001b[0mcollect\u001b[0m\u001b[0;34m(\u001b[0m\u001b[0mself\u001b[0m\u001b[0;34m)\u001b[0m \u001b[0;34m->\u001b[0m \u001b[0mList\u001b[0m\u001b[0;34m[\u001b[0m\u001b[0mRow\u001b[0m\u001b[0;34m]\u001b[0m\u001b[0;34m:\u001b[0m\u001b[0;34m\u001b[0m\u001b[0;34m\u001b[0m\u001b[0m\n",
      "\u001b[0;32m~/mambaforge/envs/2023_06_26_SRT_deconvolution_MS/lib/python3.7/site-packages/py4j/java_gateway.py\u001b[0m in \u001b[0;36m__call__\u001b[0;34m(self, *args)\u001b[0m\n\u001b[1;32m   1319\u001b[0m             \u001b[0mproto\u001b[0m\u001b[0;34m.\u001b[0m\u001b[0mEND_COMMAND_PART\u001b[0m\u001b[0;34m\u001b[0m\u001b[0;34m\u001b[0m\u001b[0m\n\u001b[1;32m   1320\u001b[0m \u001b[0;34m\u001b[0m\u001b[0m\n\u001b[0;32m-> 1321\u001b[0;31m         \u001b[0manswer\u001b[0m \u001b[0;34m=\u001b[0m \u001b[0mself\u001b[0m\u001b[0;34m.\u001b[0m\u001b[0mgateway_client\u001b[0m\u001b[0;34m.\u001b[0m\u001b[0msend_command\u001b[0m\u001b[0;34m(\u001b[0m\u001b[0mcommand\u001b[0m\u001b[0;34m)\u001b[0m\u001b[0;34m\u001b[0m\u001b[0;34m\u001b[0m\u001b[0m\n\u001b[0m\u001b[1;32m   1322\u001b[0m         return_value = get_return_value(\n\u001b[1;32m   1323\u001b[0m             answer, self.gateway_client, self.target_id, self.name)\n",
      "\u001b[0;32m~/mambaforge/envs/2023_06_26_SRT_deconvolution_MS/lib/python3.7/site-packages/py4j/java_gateway.py\u001b[0m in \u001b[0;36msend_command\u001b[0;34m(self, command, retry, binary)\u001b[0m\n\u001b[1;32m   1036\u001b[0m         \u001b[0mconnection\u001b[0m \u001b[0;34m=\u001b[0m \u001b[0mself\u001b[0m\u001b[0;34m.\u001b[0m\u001b[0m_get_connection\u001b[0m\u001b[0;34m(\u001b[0m\u001b[0;34m)\u001b[0m\u001b[0;34m\u001b[0m\u001b[0;34m\u001b[0m\u001b[0m\n\u001b[1;32m   1037\u001b[0m         \u001b[0;32mtry\u001b[0m\u001b[0;34m:\u001b[0m\u001b[0;34m\u001b[0m\u001b[0;34m\u001b[0m\u001b[0m\n\u001b[0;32m-> 1038\u001b[0;31m             \u001b[0mresponse\u001b[0m \u001b[0;34m=\u001b[0m \u001b[0mconnection\u001b[0m\u001b[0;34m.\u001b[0m\u001b[0msend_command\u001b[0m\u001b[0;34m(\u001b[0m\u001b[0mcommand\u001b[0m\u001b[0;34m)\u001b[0m\u001b[0;34m\u001b[0m\u001b[0;34m\u001b[0m\u001b[0m\n\u001b[0m\u001b[1;32m   1039\u001b[0m             \u001b[0;32mif\u001b[0m \u001b[0mbinary\u001b[0m\u001b[0;34m:\u001b[0m\u001b[0;34m\u001b[0m\u001b[0;34m\u001b[0m\u001b[0m\n\u001b[1;32m   1040\u001b[0m                 \u001b[0;32mreturn\u001b[0m \u001b[0mresponse\u001b[0m\u001b[0;34m,\u001b[0m \u001b[0mself\u001b[0m\u001b[0;34m.\u001b[0m\u001b[0m_create_connection_guard\u001b[0m\u001b[0;34m(\u001b[0m\u001b[0mconnection\u001b[0m\u001b[0;34m)\u001b[0m\u001b[0;34m\u001b[0m\u001b[0;34m\u001b[0m\u001b[0m\n",
      "\u001b[0;32m~/mambaforge/envs/2023_06_26_SRT_deconvolution_MS/lib/python3.7/site-packages/py4j/clientserver.py\u001b[0m in \u001b[0;36msend_command\u001b[0;34m(self, command)\u001b[0m\n\u001b[1;32m    509\u001b[0m         \u001b[0;32mtry\u001b[0m\u001b[0;34m:\u001b[0m\u001b[0;34m\u001b[0m\u001b[0;34m\u001b[0m\u001b[0m\n\u001b[1;32m    510\u001b[0m             \u001b[0;32mwhile\u001b[0m \u001b[0;32mTrue\u001b[0m\u001b[0;34m:\u001b[0m\u001b[0;34m\u001b[0m\u001b[0;34m\u001b[0m\u001b[0m\n\u001b[0;32m--> 511\u001b[0;31m                 \u001b[0manswer\u001b[0m \u001b[0;34m=\u001b[0m \u001b[0msmart_decode\u001b[0m\u001b[0;34m(\u001b[0m\u001b[0mself\u001b[0m\u001b[0;34m.\u001b[0m\u001b[0mstream\u001b[0m\u001b[0;34m.\u001b[0m\u001b[0mreadline\u001b[0m\u001b[0;34m(\u001b[0m\u001b[0;34m)\u001b[0m\u001b[0;34m[\u001b[0m\u001b[0;34m:\u001b[0m\u001b[0;34m-\u001b[0m\u001b[0;36m1\u001b[0m\u001b[0;34m]\u001b[0m\u001b[0;34m)\u001b[0m\u001b[0;34m\u001b[0m\u001b[0;34m\u001b[0m\u001b[0m\n\u001b[0m\u001b[1;32m    512\u001b[0m                 \u001b[0mlogger\u001b[0m\u001b[0;34m.\u001b[0m\u001b[0mdebug\u001b[0m\u001b[0;34m(\u001b[0m\u001b[0;34m\"Answer received: {0}\"\u001b[0m\u001b[0;34m.\u001b[0m\u001b[0mformat\u001b[0m\u001b[0;34m(\u001b[0m\u001b[0manswer\u001b[0m\u001b[0;34m)\u001b[0m\u001b[0;34m)\u001b[0m\u001b[0;34m\u001b[0m\u001b[0;34m\u001b[0m\u001b[0m\n\u001b[1;32m    513\u001b[0m                 \u001b[0;31m# Happens when a the other end is dead. There might be an empty\u001b[0m\u001b[0;34m\u001b[0m\u001b[0;34m\u001b[0m\u001b[0;34m\u001b[0m\u001b[0m\n",
      "\u001b[0;32m~/mambaforge/envs/2023_06_26_SRT_deconvolution_MS/lib/python3.7/socket.py\u001b[0m in \u001b[0;36mreadinto\u001b[0;34m(self, b)\u001b[0m\n\u001b[1;32m    587\u001b[0m         \u001b[0;32mwhile\u001b[0m \u001b[0;32mTrue\u001b[0m\u001b[0;34m:\u001b[0m\u001b[0;34m\u001b[0m\u001b[0;34m\u001b[0m\u001b[0m\n\u001b[1;32m    588\u001b[0m             \u001b[0;32mtry\u001b[0m\u001b[0;34m:\u001b[0m\u001b[0;34m\u001b[0m\u001b[0;34m\u001b[0m\u001b[0m\n\u001b[0;32m--> 589\u001b[0;31m                 \u001b[0;32mreturn\u001b[0m \u001b[0mself\u001b[0m\u001b[0;34m.\u001b[0m\u001b[0m_sock\u001b[0m\u001b[0;34m.\u001b[0m\u001b[0mrecv_into\u001b[0m\u001b[0;34m(\u001b[0m\u001b[0mb\u001b[0m\u001b[0;34m)\u001b[0m\u001b[0;34m\u001b[0m\u001b[0;34m\u001b[0m\u001b[0m\n\u001b[0m\u001b[1;32m    590\u001b[0m             \u001b[0;32mexcept\u001b[0m \u001b[0mtimeout\u001b[0m\u001b[0;34m:\u001b[0m\u001b[0;34m\u001b[0m\u001b[0;34m\u001b[0m\u001b[0m\n\u001b[1;32m    591\u001b[0m                 \u001b[0mself\u001b[0m\u001b[0;34m.\u001b[0m\u001b[0m_timeout_occurred\u001b[0m \u001b[0;34m=\u001b[0m \u001b[0;32mTrue\u001b[0m\u001b[0;34m\u001b[0m\u001b[0;34m\u001b[0m\u001b[0m\n",
      "\u001b[0;31mKeyboardInterrupt\u001b[0m: "
     ]
    }
   ],
   "source": [
    "%%time\n",
    "# load parquet files for each celltype & count rows\n",
    "parquet_df, total_reads_per_celltype = cm.load_parquet_dataframe(parquet_path=PARQUET_PATH,\n",
    "                                                                  cell_types=CELLTYPES,\n",
    "                                                                  spark=spark,\n",
    "                                                                  verbose=True)\n",
    "\n",
    "# mix cell types for each proportion set\n",
    "cm.mix_celltypes_multiple_proportions(parquet_df=parquet_df,\n",
    "                                       total_reads_per_celltype=total_reads_per_celltype,\n",
    "                                    #    n=len(TITRATION_LIST), \n",
    "                                       n=N_REPLICATES,\n",
    "                                       cell_types=CELLTYPES, \n",
    "                                       cell_type_abridged_name=ABRIDGED_NAMES, \n",
    "                                       total_reads_to_sample=TOTAL_READS_TO_SAMPLE, \n",
    "                                       list_of_proportions=PROPORTIONS, \n",
    "                                       seed=SEED, \n",
    "                                       result_path=RESULT_PATH, \n",
    "                                       spark=spark,\n",
    "                                       verbose=False, \n",
    "                                       save=True)"
   ]
  },
  {
   "cell_type": "markdown",
   "metadata": {},
   "source": [
    "## Compute score matrix"
   ]
  },
  {
   "cell_type": "code",
   "execution_count": null,
   "metadata": {},
   "outputs": [],
   "source": [
    "############################\n",
    "#   Parameters and paths   # \n",
    "############################\n",
    "\n",
    "FILTER_CG_COUNT = 3\n",
    "FILTER_CG_COUNT_REGION = 1\n",
    "\n",
    "REGIONS = 'deconvolution_v2.v23_conv.with_cpg_index'\n",
    "REGION_BED_COLS = [\n",
    "    'region_chr', 'region_start', 'region_end', \n",
    "    'region_cpg_index_min', 'region_cpg_index_max', 'region_id'\n",
    "]\n",
    "\n",
    "# Regions\n",
    "REGION_PATH = (\n",
    "    PROJECT_DIR + '/stage/panel_data/{regions}.bed'\n",
    ").format(regions=REGIONS)\n",
    "\n",
    "# CpG map; genomic coordinate to CpG index;\n",
    "CPG_MAP_PATH = PROJECT_DIR + '/stage/cpg_loci/cpg_loci_hg19.combined_annot.tsv.gz'\n",
    "\n",
    "#--- Where to store results\n",
    "PATH_TO_MIXTURE_DIR = EXPERIMENT_CELLTYPE_DIR + 'mixture/'\n",
    "RESULT_PATH = EXPERIMENT_CELLTYPE_DIR\n"
   ]
  },
  {
   "cell_type": "code",
   "execution_count": null,
   "metadata": {},
   "outputs": [],
   "source": [
    "# cpg_map = pd.read_csv(CPG_MAP_PATH, usecols=['chr', 'start', 'end', 'cpg_index', 'cpg_index_hg38'], sep='\\t')"
   ]
  },
  {
   "cell_type": "code",
   "execution_count": null,
   "metadata": {},
   "outputs": [],
   "source": [
    "# %%time\n",
    "# ridxs = ~cpg_map['cpg_index_hg38'].isna()\n",
    "# hg19_hg38_map = dict(itertools.zip_longest(cpg_map[ridxs]['cpg_index'], cpg_map[ridxs]['cpg_index_hg38'].astype(int)))\n",
    "# hg38_hg19_map = dict(itertools.zip_longest(cpg_map[ridxs]['cpg_index_hg38'].astype(int), cpg_map[ridxs]['cpg_index']))"
   ]
  },
  {
   "cell_type": "code",
   "execution_count": null,
   "metadata": {},
   "outputs": [],
   "source": [
    "# region_df = pd.read_csv(REGION_PATH, sep='\\t', usecols=range(0, 6), names=REGION_BED_COLS)\n",
    "\n",
    "# region_df['region_cpg_index_max'] -= 1\n",
    "# region_df.sort_values('region_cpg_index_min', inplace=True)\n",
    "# region_df['region_cpg_index_min_hg38'] = region_df['region_cpg_index_min'].map(hg19_hg38_map)\n",
    "# region_df['region_cpg_index_max_hg38'] = region_df['region_cpg_index_max'].map(hg19_hg38_map)\n",
    "\n",
    "# region_df.shape[0], region_df['region_id'].nunique()"
   ]
  },
  {
   "cell_type": "code",
   "execution_count": null,
   "metadata": {},
   "outputs": [],
   "source": [
    "# ridxs = ~region_df['region_cpg_index_min_hg38'].isna()\n",
    "# ridxs &= ~region_df['region_cpg_index_max_hg38'].isna()\n",
    "# region_df = region_df[ridxs].copy()\n",
    "# region_df.shape[0], region_df['region_id'].nunique()"
   ]
  },
  {
   "cell_type": "code",
   "execution_count": null,
   "metadata": {},
   "outputs": [],
   "source": [
    "# cg_count_hg19 = region_df['region_cpg_index_max']-region_df['region_cpg_index_min'] + 1\n",
    "# cg_count_hg38 = region_df['region_cpg_index_max_hg38']-region_df['region_cpg_index_min_hg38'] + 1\n",
    "# ridxs = (cg_count_hg19==cg_count_hg38)\n",
    "# ridxs &= (cg_count_hg19>=FILTER_CG_COUNT_REGION)\n",
    "# region_df = region_df[ridxs].copy()\n",
    "# region_df.shape[0], region_df['region_id'].nunique()"
   ]
  },
  {
   "cell_type": "code",
   "execution_count": null,
   "metadata": {},
   "outputs": [],
   "source": [
    "# region_df['region_cpg_index_min_hg38'] = region_df['region_cpg_index_min_hg38'].astype(int)\n",
    "# region_df['region_cpg_index_max_hg38'] = region_df['region_cpg_index_max_hg38'].astype(int)"
   ]
  },
  {
   "cell_type": "code",
   "execution_count": null,
   "metadata": {},
   "outputs": [],
   "source": [
    "# ### Restrict to immune regions\n",
    "# #-------------- CHANGE HERE FOR DIFFERENT REGION SUBSET ----------------------\n",
    "# # BLUEPRINT immune regions\n",
    "# ATLAS_PATH = PROJECT_DIR + f'/output/reference/deconv_inhouse_v2.t_subset_same.atlas.tsv.gz'\n",
    "# atlas = pd.read_csv(ATLAS_PATH, sep='\\t')\n",
    "# subset_region_set = set(atlas.region_id)\n",
    "# #-----------------------------------------------------------------------------\n",
    "\n",
    "# # filter regions down to regions of interest\n",
    "# region_df = region_df[region_df['region_id'].isin(subset_region_set)]\n",
    "# region_df.head()"
   ]
  },
  {
   "cell_type": "code",
   "execution_count": null,
   "metadata": {},
   "outputs": [],
   "source": [
    "%%time\n",
    "\n",
    "PAT_COLS = [\n",
    "    'molecule_id', 'chr', 'number_molecules',\n",
    "    'cpg_index_min', 'cpg_index_max', 'pat_string', 'region_id', 'region_cpg_index_min', 'region_cpg_index_max'\n",
    "]\n",
    "\n",
    "QUANTILES = [0.1, 0.25, 0.75, 0.9]\n",
    "KMERS = [1, 3, 4]\n",
    "RATES_LEQ = [0.25]\n",
    "RATES_GEQ = [0.75]\n",
    "\n",
    "RETURN_SCHEMA = StructType()\\\n",
    "    .add('region_id', 'string')\\\n",
    "    .add('number_molecules', 'integer')\\\n",
    "    .add('meth_k1', 'integer')\\\n",
    "    .add('unmeth_k1', 'integer')\\\n",
    "    .add('total_k1', 'integer')\\\n",
    "    .add('meth_k3', 'integer')\\\n",
    "    .add('unmeth_k3', 'integer')\\\n",
    "    .add('total_k3', 'integer')\\\n",
    "    .add('meth_k4', 'integer')\\\n",
    "    .add('unmeth_k4', 'integer')\\\n",
    "    .add('total_k4', 'integer')\\\n",
    "    .add('frac_alpha_leq_25pct', 'float')\\\n",
    "    .add('frac_alpha_geq_75pct', 'float')\n",
    "\n",
    "compute_frag_scores_udf = sm.compute_frag_scores(cpg_number_cutoff=FILTER_CG_COUNT, \n",
    "                                                 schema=RETURN_SCHEMA, \n",
    "                                                 kmers=KMERS, \n",
    "                                                 rates_leq=RATES_LEQ, \n",
    "                                                 rates_geq=RATES_GEQ)\n",
    "\n",
    "\n",
    "# compute methyl score for are parquet files\n",
    "sm.score_matrix_from_mixture_directory(path_to_mixture_dir = PATH_TO_MIXTURE_DIR, \n",
    "                                       result_path = RESULT_PATH, \n",
    "                                       pat_cols = PAT_COLS, \n",
    "                                       batch_size = 20, \n",
    "                                       schema = RETURN_SCHEMA, \n",
    "                                       spark=spark,\n",
    "                                       compute_frag_scores_udf=compute_frag_scores_udf,\n",
    "                                       save=True, \n",
    "                                       verbose=False)"
   ]
  },
  {
   "cell_type": "markdown",
   "metadata": {},
   "source": [
    "## Deconvolution"
   ]
  },
  {
   "cell_type": "code",
   "execution_count": 96,
   "metadata": {},
   "outputs": [],
   "source": [
    "############################\n",
    "#   Parameters and paths   # \n",
    "############################\n",
    "\n",
    "FILTER_COV = 20\n",
    "\n",
    "SCORE_VAR = 'frac_alpha_leq_25pct'\n",
    "\n",
    "# Reference matrix\n",
    "ATLAS_PATH = PROJECT_DIR + 'output/reference/tsubset_without_shared/deconv_inhouse_v2.t_subset.combined.atlas.tsv.gz'\n",
    "REGION_PATH = PROJECT_DIR + 'output/reference/tsubset_without_shared/deconv_inhouse_v2.t_subset.combined.region_to_ref_celltype.tsv.gz'\n",
    "\n",
    "# Methylation score matrix\n",
    "SCORE_DIR = EXPERIMENT_CELLTYPE_DIR + 'methyl_score/'\n"
   ]
  },
  {
   "cell_type": "code",
   "execution_count": 97,
   "metadata": {
    "tags": []
   },
   "outputs": [
    {
     "data": {
      "text/plain": [
       "'/analysis/gh-msun/projects/2023_06_26_SRT_deconvolution_MS/output/experiment/t_subset_blueprint_2m_fix/t_naive-wholeblood//methyl_score/'"
      ]
     },
     "execution_count": 97,
     "metadata": {},
     "output_type": "execute_result"
    }
   ],
   "source": [
    "SCORE_DIR"
   ]
  },
  {
   "cell_type": "code",
   "execution_count": 98,
   "metadata": {},
   "outputs": [
    {
     "data": {
      "text/plain": [
       "(333, 11)"
      ]
     },
     "execution_count": 98,
     "metadata": {},
     "output_type": "execute_result"
    }
   ],
   "source": [
    "atlas = pd.read_csv(ATLAS_PATH, sep='\\t',index_col=None)\n",
    "atlas = atlas.set_index('region_id')\n",
    "atlas.columns.name = 'ref_celltype'\n",
    "atlas.shape\n",
    "\n",
    "ref_region_df = pd.read_csv(REGION_PATH, sep='\\t')\n",
    "\n",
    "atlas = atlas.loc[ref_region_df['region_id'], :].copy()\n",
    "atlas.shape"
   ]
  },
  {
   "cell_type": "code",
   "execution_count": 99,
   "metadata": {},
   "outputs": [
    {
     "name": "stdout",
     "output_type": "stream",
     "text": [
      "CPU times: user 5.38 s, sys: 0 ns, total: 5.38 s\n",
      "Wall time: 5.38 s\n"
     ]
    }
   ],
   "source": [
    "%%time\n",
    "\n",
    "deconvolution_nnls = dcnv.compute_deconvolution_from_methyl_score_dir_nnls(path_to_methyl_score_dir=SCORE_DIR, \n",
    "                                                                          score_type=SCORE_VAR, \n",
    "                                                                          atlas=atlas, \n",
    "                                                                          match=False)\n",
    "\n",
    "deconvolution_naive = dcnv.compute_deconvolution_from_methyl_score_dir_naive(path_to_methyl_score_dir=SCORE_DIR, \n",
    "                                                                             filter_cov=FILTER_COV, \n",
    "                                                                             score_var=SCORE_VAR, \n",
    "                                                                             ref_region_df=ref_region_df)\n"
   ]
  },
  {
   "cell_type": "code",
   "execution_count": 100,
   "metadata": {
    "tags": []
   },
   "outputs": [
    {
     "data": {
      "text/plain": [
       "'/analysis/gh-msun/projects/2023_06_26_SRT_deconvolution_MS/output/experiment/t_subset_blueprint_2m_fix/t_naive-wholeblood//methyl_score/'"
      ]
     },
     "execution_count": 100,
     "metadata": {},
     "output_type": "execute_result"
    }
   ],
   "source": [
    "SCORE_DIR"
   ]
  },
  {
   "cell_type": "code",
   "execution_count": 101,
   "metadata": {},
   "outputs": [],
   "source": [
    "\n",
    "# dcnv.boxplot_titration_combined(list_of_deconvolution_dfs_naive=deconvolution_naive,\n",
    "#                        list_of_deconvolution_dfs_nnls=deconvolution_nnls,\n",
    "#                       cell_type=TITRATING_CELLTYPE_ATLAS,\n",
    "#                       true_proportions=[round(x, 4) for x in teff_titrating_proprotions]\n",
    "#                       )"
   ]
  },
  {
   "cell_type": "code",
   "execution_count": 102,
   "metadata": {},
   "outputs": [],
   "source": [
    "# dcnv.boxplot_titration_zoom_combined(list_of_deconvolution_dfs_naive=deconvolution_naive,\n",
    "#                        list_of_deconvolution_dfs_nnls=deconvolution_nnls,\n",
    "#                       cell_type=TITRATING_CELLTYPE_ATLAS,\n",
    "#                       true_proportions=[round(x, 4) for x in treg_titrating_proprotions]\n",
    "#                       )"
   ]
  },
  {
   "cell_type": "code",
   "execution_count": 103,
   "metadata": {
    "tags": []
   },
   "outputs": [
    {
     "data": {
      "text/plain": [
       "<module 'helper' from '/analysis/gh-msun/projects/2023_06_26_SRT_deconvolution_MS/scripts/helper.py'>"
      ]
     },
     "execution_count": 103,
     "metadata": {},
     "output_type": "execute_result"
    }
   ],
   "source": [
    "importlib.reload(cm)\n",
    "importlib.reload(sm)\n",
    "importlib.reload(dcnv)\n",
    "importlib.reload(hlpr)"
   ]
  },
  {
   "cell_type": "code",
   "execution_count": 104,
   "metadata": {
    "tags": []
   },
   "outputs": [
    {
     "data": {
      "text/plain": [
       "'immune_t_effector'"
      ]
     },
     "execution_count": 104,
     "metadata": {},
     "output_type": "execute_result"
    }
   ],
   "source": [
    "TITRATING_CELLTYPE_ATLAS"
   ]
  },
  {
   "cell_type": "code",
   "execution_count": 105,
   "metadata": {},
   "outputs": [
    {
     "data": {
      "image/png": "[encoded data removed]",
      "text/plain": [
       "<Figure size 864x432 with 1 Axes>"
      ]
     },
     "metadata": {
      "needs_background": "light"
     },
     "output_type": "display_data"
    }
   ],
   "source": [
    "\n",
    "dcnv.boxplot_titration(list_of_deconvolution_dfs=deconvolution_nnls,\n",
    "                      cell_type=TITRATING_CELLTYPE_ATLAS,\n",
    "                      true_proportions=[round(x, 4) for x in teff_titrating_proprotions],\n",
    "                      deconvolution_method_name='nnls'\n",
    "                      )"
   ]
  },
  {
   "cell_type": "code",
   "execution_count": 106,
   "metadata": {
    "tags": []
   },
   "outputs": [
    {
     "data": {
      "text/plain": [
       "'/analysis/gh-msun/projects/2023_06_26_SRT_deconvolution_MS/output/experiment/t_subset_blueprint_2m_fix/t_naive-wholeblood//methyl_score/'"
      ]
     },
     "execution_count": 106,
     "metadata": {},
     "output_type": "execute_result"
    }
   ],
   "source": [
    "SCORE_DIR"
   ]
  },
  {
   "cell_type": "code",
   "execution_count": 107,
   "metadata": {
    "tags": []
   },
   "outputs": [
    {
     "data": {
      "image/png": "[encoded data removed]",
      "text/plain": [
       "<Figure size 864x432 with 1 Axes>"
      ]
     },
     "metadata": {
      "needs_background": "light"
     },
     "output_type": "display_data"
    }
   ],
   "source": [
    "\n",
    "dcnv.boxplot_titration(list_of_deconvolution_dfs=deconvolution_nnls,\n",
    "                      cell_type='immune_treg',\n",
    "                      true_proportions=[round(x, 8) for x in treg_titrating_proprotions],\n",
    "                      deconvolution_method_name='nnls'\n",
    "                      )"
   ]
  },
  {
   "cell_type": "code",
   "execution_count": 108,
   "metadata": {
    "tags": []
   },
   "outputs": [
    {
     "data": {
      "text/plain": [
       "'/analysis/gh-msun/projects/2023_06_26_SRT_deconvolution_MS/output/experiment/t_subset_blueprint_2m_fix/t_naive-wholeblood//methyl_score/'"
      ]
     },
     "execution_count": 108,
     "metadata": {},
     "output_type": "execute_result"
    }
   ],
   "source": [
    "SCORE_DIR"
   ]
  },
  {
   "cell_type": "code",
   "execution_count": 109,
   "metadata": {
    "tags": []
   },
   "outputs": [
    {
     "data": {
      "image/png": "[encoded data removed]",
      "text/plain": [
       "<Figure size 864x432 with 1 Axes>"
      ]
     },
     "metadata": {
      "needs_background": "light"
     },
     "output_type": "display_data"
    }
   ],
   "source": [
    "deconvolution_nnls = dcnv.compute_deconvolution_from_methyl_score_dir_nnls(path_to_methyl_score_dir=SCORE_DIR, \n",
    "                                                                          score_type=SCORE_VAR, \n",
    "                                                                          atlas=atlas, \n",
    "                                                                          match=False)\n",
    "\n",
    "dcnv.boxplot_titration(list_of_deconvolution_dfs=deconvolution_nnls,\n",
    "                      cell_type='immune_t_naive',\n",
    "                      true_proportions=[round(x, 4) for x in tnai_titrating_proprotions],\n",
    "                      deconvolution_method_name='nnls'\n",
    "                      )"
   ]
  },
  {
   "cell_type": "code",
   "execution_count": 110,
   "metadata": {
    "tags": []
   },
   "outputs": [
    {
     "data": {
      "text/plain": [
       "'/analysis/gh-msun/projects/2023_06_26_SRT_deconvolution_MS/output/experiment/t_subset_blueprint_2m_fix/t_naive-wholeblood//methyl_score/'"
      ]
     },
     "execution_count": 110,
     "metadata": {},
     "output_type": "execute_result"
    }
   ],
   "source": [
    "SCORE_DIR"
   ]
  },
  {
   "cell_type": "code",
   "execution_count": 111,
   "metadata": {},
   "outputs": [
    {
     "data": {
      "image/png": "[encoded data removed]",
      "text/plain": [
       "<Figure size 720x720 with 14 Axes>"
      ]
     },
     "metadata": {
      "needs_background": "light"
     },
     "output_type": "display_data"
    }
   ],
   "source": [
    "dcnv.boxplot_titration_zoom(list_of_deconvolution_dfs=deconvolution_nnls,\n",
    "                      cell_type=TITRATING_CELLTYPE_ATLAS,\n",
    "                      true_proportions=[round(x, 4) for x in teff_titrating_proprotions],\n",
    "                      deconvolution_method_name='nnls')"
   ]
  },
  {
   "cell_type": "code",
   "execution_count": 112,
   "metadata": {
    "tags": []
   },
   "outputs": [
    {
     "data": {
      "text/plain": [
       "'/analysis/gh-msun/projects/2023_06_26_SRT_deconvolution_MS/output/experiment/t_subset_blueprint_2m_fix/t_naive-wholeblood//methyl_score/'"
      ]
     },
     "execution_count": 112,
     "metadata": {},
     "output_type": "execute_result"
    }
   ],
   "source": [
    "SCORE_DIR"
   ]
  },
  {
   "cell_type": "code",
   "execution_count": 113,
   "metadata": {},
   "outputs": [
    {
     "data": {
      "text/html": [
       "<div>\n",
       "<style scoped>\n",
       "    .dataframe tbody tr th:only-of-type {\n",
       "        vertical-align: middle;\n",
       "    }\n",
       "\n",
       "    .dataframe tbody tr th {\n",
       "        vertical-align: top;\n",
       "    }\n",
       "\n",
       "    .dataframe thead th {\n",
       "        text-align: right;\n",
       "    }\n",
       "</style>\n",
       "<table border=\"1\" class=\"dataframe\">\n",
       "  <thead>\n",
       "    <tr style=\"text-align: right;\">\n",
       "      <th></th>\n",
       "      <th>0</th>\n",
       "      <th>1</th>\n",
       "      <th>2</th>\n",
       "      <th>3</th>\n",
       "      <th>4</th>\n",
       "      <th>5</th>\n",
       "      <th>6</th>\n",
       "      <th>7</th>\n",
       "      <th>8</th>\n",
       "      <th>9</th>\n",
       "      <th>10</th>\n",
       "      <th>11</th>\n",
       "      <th>12</th>\n",
       "      <th>13</th>\n",
       "      <th>14</th>\n",
       "      <th>15</th>\n",
       "      <th>16</th>\n",
       "      <th>17</th>\n",
       "      <th>18</th>\n",
       "      <th>19</th>\n",
       "    </tr>\n",
       "    <tr>\n",
       "      <th>ref_celltype</th>\n",
       "      <th></th>\n",
       "      <th></th>\n",
       "      <th></th>\n",
       "      <th></th>\n",
       "      <th></th>\n",
       "      <th></th>\n",
       "      <th></th>\n",
       "      <th></th>\n",
       "      <th></th>\n",
       "      <th></th>\n",
       "      <th></th>\n",
       "      <th></th>\n",
       "      <th></th>\n",
       "      <th></th>\n",
       "      <th></th>\n",
       "      <th></th>\n",
       "      <th></th>\n",
       "      <th></th>\n",
       "      <th></th>\n",
       "      <th></th>\n",
       "    </tr>\n",
       "  </thead>\n",
       "  <tbody>\n",
       "    <tr>\n",
       "      <th>immune_b</th>\n",
       "      <td>0.059059</td>\n",
       "      <td>0.059174</td>\n",
       "      <td>0.058638</td>\n",
       "      <td>0.059655</td>\n",
       "      <td>0.058168</td>\n",
       "      <td>0.056504</td>\n",
       "      <td>0.062049</td>\n",
       "      <td>0.058237</td>\n",
       "      <td>0.058643</td>\n",
       "      <td>0.060500</td>\n",
       "      <td>0.061352</td>\n",
       "      <td>0.058935</td>\n",
       "      <td>0.062647</td>\n",
       "      <td>0.059954</td>\n",
       "      <td>0.060422</td>\n",
       "      <td>0.058436</td>\n",
       "      <td>0.057351</td>\n",
       "      <td>0.058428</td>\n",
       "      <td>0.059578</td>\n",
       "      <td>0.059902</td>\n",
       "    </tr>\n",
       "    <tr>\n",
       "      <th>immune_t_naive</th>\n",
       "      <td>0.042215</td>\n",
       "      <td>0.047319</td>\n",
       "      <td>0.051775</td>\n",
       "      <td>0.053450</td>\n",
       "      <td>0.047461</td>\n",
       "      <td>0.049323</td>\n",
       "      <td>0.042669</td>\n",
       "      <td>0.050282</td>\n",
       "      <td>0.046615</td>\n",
       "      <td>0.048083</td>\n",
       "      <td>0.042816</td>\n",
       "      <td>0.047399</td>\n",
       "      <td>0.048554</td>\n",
       "      <td>0.047519</td>\n",
       "      <td>0.048076</td>\n",
       "      <td>0.059005</td>\n",
       "      <td>0.050113</td>\n",
       "      <td>0.043659</td>\n",
       "      <td>0.050253</td>\n",
       "      <td>0.054336</td>\n",
       "    </tr>\n",
       "    <tr>\n",
       "      <th>immune_t_effector</th>\n",
       "      <td>0.148901</td>\n",
       "      <td>0.152518</td>\n",
       "      <td>0.147757</td>\n",
       "      <td>0.144400</td>\n",
       "      <td>0.153133</td>\n",
       "      <td>0.153285</td>\n",
       "      <td>0.152855</td>\n",
       "      <td>0.141482</td>\n",
       "      <td>0.139727</td>\n",
       "      <td>0.145884</td>\n",
       "      <td>0.146245</td>\n",
       "      <td>0.148693</td>\n",
       "      <td>0.143993</td>\n",
       "      <td>0.145695</td>\n",
       "      <td>0.144483</td>\n",
       "      <td>0.135293</td>\n",
       "      <td>0.149633</td>\n",
       "      <td>0.153297</td>\n",
       "      <td>0.149414</td>\n",
       "      <td>0.134367</td>\n",
       "    </tr>\n",
       "    <tr>\n",
       "      <th>immune_treg</th>\n",
       "      <td>0.034942</td>\n",
       "      <td>0.027452</td>\n",
       "      <td>0.028960</td>\n",
       "      <td>0.030848</td>\n",
       "      <td>0.028854</td>\n",
       "      <td>0.027410</td>\n",
       "      <td>0.030782</td>\n",
       "      <td>0.032916</td>\n",
       "      <td>0.034327</td>\n",
       "      <td>0.029783</td>\n",
       "      <td>0.032286</td>\n",
       "      <td>0.025389</td>\n",
       "      <td>0.030920</td>\n",
       "      <td>0.029565</td>\n",
       "      <td>0.032764</td>\n",
       "      <td>0.029672</td>\n",
       "      <td>0.031018</td>\n",
       "      <td>0.025778</td>\n",
       "      <td>0.030815</td>\n",
       "      <td>0.030908</td>\n",
       "    </tr>\n",
       "    <tr>\n",
       "      <th>immune_nk</th>\n",
       "      <td>0.046247</td>\n",
       "      <td>0.046669</td>\n",
       "      <td>0.047817</td>\n",
       "      <td>0.048372</td>\n",
       "      <td>0.046702</td>\n",
       "      <td>0.046706</td>\n",
       "      <td>0.047305</td>\n",
       "      <td>0.048075</td>\n",
       "      <td>0.049777</td>\n",
       "      <td>0.047778</td>\n",
       "      <td>0.050416</td>\n",
       "      <td>0.047938</td>\n",
       "      <td>0.046242</td>\n",
       "      <td>0.046080</td>\n",
       "      <td>0.046083</td>\n",
       "      <td>0.050214</td>\n",
       "      <td>0.047622</td>\n",
       "      <td>0.046662</td>\n",
       "      <td>0.048543</td>\n",
       "      <td>0.045518</td>\n",
       "    </tr>\n",
       "    <tr>\n",
       "      <th>immune_mono</th>\n",
       "      <td>0.097089</td>\n",
       "      <td>0.089599</td>\n",
       "      <td>0.096081</td>\n",
       "      <td>0.095853</td>\n",
       "      <td>0.094349</td>\n",
       "      <td>0.095331</td>\n",
       "      <td>0.095235</td>\n",
       "      <td>0.095486</td>\n",
       "      <td>0.100768</td>\n",
       "      <td>0.098714</td>\n",
       "      <td>0.103675</td>\n",
       "      <td>0.107196</td>\n",
       "      <td>0.102068</td>\n",
       "      <td>0.101777</td>\n",
       "      <td>0.102731</td>\n",
       "      <td>0.098751</td>\n",
       "      <td>0.103909</td>\n",
       "      <td>0.105949</td>\n",
       "      <td>0.105747</td>\n",
       "      <td>0.107589</td>\n",
       "    </tr>\n",
       "    <tr>\n",
       "      <th>immune_eosi</th>\n",
       "      <td>0.000000</td>\n",
       "      <td>0.000526</td>\n",
       "      <td>0.000000</td>\n",
       "      <td>0.000000</td>\n",
       "      <td>0.000000</td>\n",
       "      <td>0.001121</td>\n",
       "      <td>0.002531</td>\n",
       "      <td>0.000000</td>\n",
       "      <td>0.000000</td>\n",
       "      <td>0.000199</td>\n",
       "      <td>0.000000</td>\n",
       "      <td>0.000000</td>\n",
       "      <td>0.000153</td>\n",
       "      <td>0.000000</td>\n",
       "      <td>0.000000</td>\n",
       "      <td>0.000109</td>\n",
       "      <td>0.000000</td>\n",
       "      <td>0.000052</td>\n",
       "      <td>0.000000</td>\n",
       "      <td>0.000000</td>\n",
       "    </tr>\n",
       "    <tr>\n",
       "      <th>immune_neutro</th>\n",
       "      <td>0.551550</td>\n",
       "      <td>0.552586</td>\n",
       "      <td>0.557081</td>\n",
       "      <td>0.555889</td>\n",
       "      <td>0.553571</td>\n",
       "      <td>0.547518</td>\n",
       "      <td>0.549942</td>\n",
       "      <td>0.554870</td>\n",
       "      <td>0.552792</td>\n",
       "      <td>0.557989</td>\n",
       "      <td>0.552244</td>\n",
       "      <td>0.551026</td>\n",
       "      <td>0.552243</td>\n",
       "      <td>0.550570</td>\n",
       "      <td>0.551952</td>\n",
       "      <td>0.549732</td>\n",
       "      <td>0.550628</td>\n",
       "      <td>0.551135</td>\n",
       "      <td>0.554751</td>\n",
       "      <td>0.546532</td>\n",
       "    </tr>\n",
       "    <tr>\n",
       "      <th>immune_eryth</th>\n",
       "      <td>0.001941</td>\n",
       "      <td>0.000188</td>\n",
       "      <td>0.000863</td>\n",
       "      <td>0.000000</td>\n",
       "      <td>0.000263</td>\n",
       "      <td>0.000000</td>\n",
       "      <td>0.000626</td>\n",
       "      <td>0.001385</td>\n",
       "      <td>0.001954</td>\n",
       "      <td>0.000068</td>\n",
       "      <td>0.002441</td>\n",
       "      <td>0.000000</td>\n",
       "      <td>0.000775</td>\n",
       "      <td>0.000000</td>\n",
       "      <td>0.002502</td>\n",
       "      <td>0.000975</td>\n",
       "      <td>0.000320</td>\n",
       "      <td>0.000748</td>\n",
       "      <td>0.002517</td>\n",
       "      <td>0.001669</td>\n",
       "    </tr>\n",
       "    <tr>\n",
       "      <th>immune_mega</th>\n",
       "      <td>0.000000</td>\n",
       "      <td>0.000000</td>\n",
       "      <td>0.000802</td>\n",
       "      <td>0.000000</td>\n",
       "      <td>0.000000</td>\n",
       "      <td>0.000000</td>\n",
       "      <td>0.000771</td>\n",
       "      <td>0.000000</td>\n",
       "      <td>0.000000</td>\n",
       "      <td>0.000000</td>\n",
       "      <td>0.000000</td>\n",
       "      <td>0.000000</td>\n",
       "      <td>0.000000</td>\n",
       "      <td>0.000000</td>\n",
       "      <td>0.000000</td>\n",
       "      <td>0.000000</td>\n",
       "      <td>0.000000</td>\n",
       "      <td>0.000000</td>\n",
       "      <td>0.000000</td>\n",
       "      <td>0.000000</td>\n",
       "    </tr>\n",
       "    <tr>\n",
       "      <th>eryth_prog</th>\n",
       "      <td>0.000000</td>\n",
       "      <td>0.000000</td>\n",
       "      <td>0.000000</td>\n",
       "      <td>0.000000</td>\n",
       "      <td>0.000000</td>\n",
       "      <td>0.000000</td>\n",
       "      <td>0.000000</td>\n",
       "      <td>0.000000</td>\n",
       "      <td>0.000000</td>\n",
       "      <td>0.000000</td>\n",
       "      <td>0.000000</td>\n",
       "      <td>0.000000</td>\n",
       "      <td>0.000000</td>\n",
       "      <td>0.000000</td>\n",
       "      <td>0.000000</td>\n",
       "      <td>0.000000</td>\n",
       "      <td>0.000000</td>\n",
       "      <td>0.000000</td>\n",
       "      <td>0.000000</td>\n",
       "      <td>0.000000</td>\n",
       "    </tr>\n",
       "  </tbody>\n",
       "</table>\n",
       "</div>"
      ],
      "text/plain": [
       "                         0         1         2         3         4         5         6         7         8         9         10        11        12        13        14        15        16        17        18        19\n",
       "ref_celltype                                                                                                                                                                                                             \n",
       "immune_b           0.059059  0.059174  0.058638  0.059655  0.058168  0.056504  0.062049  0.058237  0.058643  0.060500  0.061352  0.058935  0.062647  0.059954  0.060422  0.058436  0.057351  0.058428  0.059578  0.059902\n",
       "immune_t_naive     0.042215  0.047319  0.051775  0.053450  0.047461  0.049323  0.042669  0.050282  0.046615  0.048083  0.042816  0.047399  0.048554  0.047519  0.048076  0.059005  0.050113  0.043659  0.050253  0.054336\n",
       "immune_t_effector  0.148901  0.152518  0.147757  0.144400  0.153133  0.153285  0.152855  0.141482  0.139727  0.145884  0.146245  0.148693  0.143993  0.145695  0.144483  0.135293  0.149633  0.153297  0.149414  0.134367\n",
       "immune_treg        0.034942  0.027452  0.028960  0.030848  0.028854  0.027410  0.030782  0.032916  0.034327  0.029783  0.032286  0.025389  0.030920  0.029565  0.032764  0.029672  0.031018  0.025778  0.030815  0.030908\n",
       "immune_nk          0.046247  0.046669  0.047817  0.048372  0.046702  0.046706  0.047305  0.048075  0.049777  0.047778  0.050416  0.047938  0.046242  0.046080  0.046083  0.050214  0.047622  0.046662  0.048543  0.045518\n",
       "immune_mono        0.097089  0.089599  0.096081  0.095853  0.094349  0.095331  0.095235  0.095486  0.100768  0.098714  0.103675  0.107196  0.102068  0.101777  0.102731  0.098751  0.103909  0.105949  0.105747  0.107589\n",
       "immune_eosi        0.000000  0.000526  0.000000  0.000000  0.000000  0.001121  0.002531  0.000000  0.000000  0.000199  0.000000  0.000000  0.000153  0.000000  0.000000  0.000109  0.000000  0.000052  0.000000  0.000000\n",
       "immune_neutro      0.551550  0.552586  0.557081  0.555889  0.553571  0.547518  0.549942  0.554870  0.552792  0.557989  0.552244  0.551026  0.552243  0.550570  0.551952  0.549732  0.550628  0.551135  0.554751  0.546532\n",
       "immune_eryth       0.001941  0.000188  0.000863  0.000000  0.000263  0.000000  0.000626  0.001385  0.001954  0.000068  0.002441  0.000000  0.000775  0.000000  0.002502  0.000975  0.000320  0.000748  0.002517  0.001669\n",
       "immune_mega        0.000000  0.000000  0.000802  0.000000  0.000000  0.000000  0.000771  0.000000  0.000000  0.000000  0.000000  0.000000  0.000000  0.000000  0.000000  0.000000  0.000000  0.000000  0.000000  0.000000\n",
       "eryth_prog         0.000000  0.000000  0.000000  0.000000  0.000000  0.000000  0.000000  0.000000  0.000000  0.000000  0.000000  0.000000  0.000000  0.000000  0.000000  0.000000  0.000000  0.000000  0.000000  0.000000"
      ]
     },
     "execution_count": 113,
     "metadata": {},
     "output_type": "execute_result"
    }
   ],
   "source": [
    "deconvolution_nnls[0]"
   ]
  },
  {
   "cell_type": "code",
   "execution_count": 114,
   "metadata": {
    "tags": []
   },
   "outputs": [
    {
     "name": "stdout",
     "output_type": "stream",
     "text": [
      "CPU times: user 10 s, sys: 0 ns, total: 10 s\n",
      "Wall time: 10 s\n"
     ]
    }
   ],
   "source": [
    "%%time\n",
    "\n",
    "CELLTYPES = ['t_effector',\n",
    "             't_reg',\n",
    "            't_naive']\n",
    "\n",
    "# load score data from all cell types\n",
    "deconvolution_nnls = []\n",
    "\n",
    "TITRATION_LIST = teff_titrating_proprotions\n",
    "SCORE_VAR = 'frac_alpha_leq_25pct'\n",
    "FILTER_COV = 20\n",
    "\n",
    "for celltype in CELLTYPES: \n",
    "    EXPERIMENT_NAME = f'{celltype}-{BACKGROUND}/'            # <-- iterate over this\n",
    "    EXPERIMENT_CELLTYPE_DIR = EXPERIMENT_DIR + f'{EXPERIMENT_NAME}/'\n",
    "    SCORE_DIR = EXPERIMENT_CELLTYPE_DIR + 'methyl_score/'\n",
    "\n",
    "    # iterate nnls deconvolition on each score_df\n",
    "    deconv_nnls = dcnv.compute_deconvolution_from_methyl_score_dir_nnls(path_to_methyl_score_dir=SCORE_DIR, \n",
    "                                                                          score_type=SCORE_VAR, \n",
    "                                                                          atlas=atlas, \n",
    "                                                                          match=False)\n",
    "    \n",
    "    deconvolution_nnls.append(deconv_nnls)"
   ]
  },
  {
   "cell_type": "code",
   "execution_count": 115,
   "metadata": {
    "tags": []
   },
   "outputs": [
    {
     "data": {
      "text/plain": [
       "'/analysis/gh-msun/projects/2023_06_26_SRT_deconvolution_MS/output/experiment/t_subset_blueprint_2m_fix/t_naive-wholeblood//methyl_score/'"
      ]
     },
     "execution_count": 115,
     "metadata": {},
     "output_type": "execute_result"
    }
   ],
   "source": [
    "SCORE_DIR"
   ]
  },
  {
   "cell_type": "code",
   "execution_count": 116,
   "metadata": {
    "tags": []
   },
   "outputs": [
    {
     "data": {
      "text/html": [
       "<div>\n",
       "<style scoped>\n",
       "    .dataframe tbody tr th:only-of-type {\n",
       "        vertical-align: middle;\n",
       "    }\n",
       "\n",
       "    .dataframe tbody tr th {\n",
       "        vertical-align: top;\n",
       "    }\n",
       "\n",
       "    .dataframe thead th {\n",
       "        text-align: right;\n",
       "    }\n",
       "</style>\n",
       "<table border=\"1\" class=\"dataframe\">\n",
       "  <thead>\n",
       "    <tr style=\"text-align: right;\">\n",
       "      <th></th>\n",
       "      <th>0</th>\n",
       "      <th>1</th>\n",
       "      <th>2</th>\n",
       "      <th>3</th>\n",
       "      <th>4</th>\n",
       "      <th>5</th>\n",
       "      <th>6</th>\n",
       "      <th>7</th>\n",
       "      <th>8</th>\n",
       "      <th>9</th>\n",
       "      <th>10</th>\n",
       "      <th>11</th>\n",
       "      <th>12</th>\n",
       "      <th>13</th>\n",
       "      <th>14</th>\n",
       "      <th>15</th>\n",
       "      <th>16</th>\n",
       "      <th>17</th>\n",
       "      <th>18</th>\n",
       "      <th>19</th>\n",
       "    </tr>\n",
       "    <tr>\n",
       "      <th>ref_celltype</th>\n",
       "      <th></th>\n",
       "      <th></th>\n",
       "      <th></th>\n",
       "      <th></th>\n",
       "      <th></th>\n",
       "      <th></th>\n",
       "      <th></th>\n",
       "      <th></th>\n",
       "      <th></th>\n",
       "      <th></th>\n",
       "      <th></th>\n",
       "      <th></th>\n",
       "      <th></th>\n",
       "      <th></th>\n",
       "      <th></th>\n",
       "      <th></th>\n",
       "      <th></th>\n",
       "      <th></th>\n",
       "      <th></th>\n",
       "      <th></th>\n",
       "    </tr>\n",
       "  </thead>\n",
       "  <tbody>\n",
       "    <tr>\n",
       "      <th>immune_b</th>\n",
       "      <td>0.059193</td>\n",
       "      <td>0.059334</td>\n",
       "      <td>0.058459</td>\n",
       "      <td>0.059394</td>\n",
       "      <td>0.058215</td>\n",
       "      <td>0.056586</td>\n",
       "      <td>0.062305</td>\n",
       "      <td>0.058181</td>\n",
       "      <td>0.058600</td>\n",
       "      <td>0.060703</td>\n",
       "      <td>0.061665</td>\n",
       "      <td>0.059193</td>\n",
       "      <td>0.062606</td>\n",
       "      <td>0.059848</td>\n",
       "      <td>0.060737</td>\n",
       "      <td>0.058679</td>\n",
       "      <td>0.057341</td>\n",
       "      <td>0.058761</td>\n",
       "      <td>0.059555</td>\n",
       "      <td>0.059740</td>\n",
       "    </tr>\n",
       "    <tr>\n",
       "      <th>immune_t_naive</th>\n",
       "      <td>0.135054</td>\n",
       "      <td>0.146640</td>\n",
       "      <td>0.142021</td>\n",
       "      <td>0.140561</td>\n",
       "      <td>0.133203</td>\n",
       "      <td>0.138351</td>\n",
       "      <td>0.138028</td>\n",
       "      <td>0.137598</td>\n",
       "      <td>0.141821</td>\n",
       "      <td>0.135965</td>\n",
       "      <td>0.130485</td>\n",
       "      <td>0.143103</td>\n",
       "      <td>0.142753</td>\n",
       "      <td>0.138472</td>\n",
       "      <td>0.138718</td>\n",
       "      <td>0.146481</td>\n",
       "      <td>0.136741</td>\n",
       "      <td>0.134570</td>\n",
       "      <td>0.149452</td>\n",
       "      <td>0.142675</td>\n",
       "    </tr>\n",
       "    <tr>\n",
       "      <th>immune_t_effector</th>\n",
       "      <td>0.044152</td>\n",
       "      <td>0.043361</td>\n",
       "      <td>0.044308</td>\n",
       "      <td>0.044813</td>\n",
       "      <td>0.050200</td>\n",
       "      <td>0.046469</td>\n",
       "      <td>0.047511</td>\n",
       "      <td>0.043178</td>\n",
       "      <td>0.032856</td>\n",
       "      <td>0.044084</td>\n",
       "      <td>0.051546</td>\n",
       "      <td>0.040403</td>\n",
       "      <td>0.039670</td>\n",
       "      <td>0.040221</td>\n",
       "      <td>0.036990</td>\n",
       "      <td>0.035970</td>\n",
       "      <td>0.050311</td>\n",
       "      <td>0.052509</td>\n",
       "      <td>0.035214</td>\n",
       "      <td>0.036292</td>\n",
       "    </tr>\n",
       "    <tr>\n",
       "      <th>immune_treg</th>\n",
       "      <td>0.042996</td>\n",
       "      <td>0.034818</td>\n",
       "      <td>0.037301</td>\n",
       "      <td>0.039460</td>\n",
       "      <td>0.037741</td>\n",
       "      <td>0.037277</td>\n",
       "      <td>0.038322</td>\n",
       "      <td>0.038672</td>\n",
       "      <td>0.042253</td>\n",
       "      <td>0.038996</td>\n",
       "      <td>0.036630</td>\n",
       "      <td>0.035004</td>\n",
       "      <td>0.040107</td>\n",
       "      <td>0.038124</td>\n",
       "      <td>0.042852</td>\n",
       "      <td>0.036939</td>\n",
       "      <td>0.036661</td>\n",
       "      <td>0.035727</td>\n",
       "      <td>0.040371</td>\n",
       "      <td>0.038151</td>\n",
       "    </tr>\n",
       "    <tr>\n",
       "      <th>immune_nk</th>\n",
       "      <td>0.046821</td>\n",
       "      <td>0.046980</td>\n",
       "      <td>0.046813</td>\n",
       "      <td>0.047784</td>\n",
       "      <td>0.047243</td>\n",
       "      <td>0.046841</td>\n",
       "      <td>0.047518</td>\n",
       "      <td>0.047523</td>\n",
       "      <td>0.049984</td>\n",
       "      <td>0.045927</td>\n",
       "      <td>0.049296</td>\n",
       "      <td>0.049396</td>\n",
       "      <td>0.047009</td>\n",
       "      <td>0.046875</td>\n",
       "      <td>0.045400</td>\n",
       "      <td>0.049809</td>\n",
       "      <td>0.046462</td>\n",
       "      <td>0.047563</td>\n",
       "      <td>0.049149</td>\n",
       "      <td>0.045719</td>\n",
       "    </tr>\n",
       "    <tr>\n",
       "      <th>immune_mono</th>\n",
       "      <td>0.097168</td>\n",
       "      <td>0.089378</td>\n",
       "      <td>0.096810</td>\n",
       "      <td>0.097001</td>\n",
       "      <td>0.093885</td>\n",
       "      <td>0.095713</td>\n",
       "      <td>0.095414</td>\n",
       "      <td>0.095107</td>\n",
       "      <td>0.102436</td>\n",
       "      <td>0.096699</td>\n",
       "      <td>0.102806</td>\n",
       "      <td>0.107151</td>\n",
       "      <td>0.104164</td>\n",
       "      <td>0.100527</td>\n",
       "      <td>0.101675</td>\n",
       "      <td>0.098647</td>\n",
       "      <td>0.102341</td>\n",
       "      <td>0.106072</td>\n",
       "      <td>0.105383</td>\n",
       "      <td>0.109840</td>\n",
       "    </tr>\n",
       "    <tr>\n",
       "      <th>immune_eosi</th>\n",
       "      <td>0.000097</td>\n",
       "      <td>0.000657</td>\n",
       "      <td>0.000000</td>\n",
       "      <td>0.000000</td>\n",
       "      <td>0.000000</td>\n",
       "      <td>0.001313</td>\n",
       "      <td>0.002283</td>\n",
       "      <td>0.000000</td>\n",
       "      <td>0.000000</td>\n",
       "      <td>0.000000</td>\n",
       "      <td>0.000000</td>\n",
       "      <td>0.000000</td>\n",
       "      <td>0.000000</td>\n",
       "      <td>0.000000</td>\n",
       "      <td>0.000000</td>\n",
       "      <td>0.000000</td>\n",
       "      <td>0.000000</td>\n",
       "      <td>0.000539</td>\n",
       "      <td>0.000000</td>\n",
       "      <td>0.000000</td>\n",
       "    </tr>\n",
       "    <tr>\n",
       "      <th>immune_neutro</th>\n",
       "      <td>0.557196</td>\n",
       "      <td>0.555492</td>\n",
       "      <td>0.560101</td>\n",
       "      <td>0.558110</td>\n",
       "      <td>0.556782</td>\n",
       "      <td>0.552287</td>\n",
       "      <td>0.556064</td>\n",
       "      <td>0.555238</td>\n",
       "      <td>0.555265</td>\n",
       "      <td>0.561822</td>\n",
       "      <td>0.558299</td>\n",
       "      <td>0.553633</td>\n",
       "      <td>0.556085</td>\n",
       "      <td>0.555698</td>\n",
       "      <td>0.555908</td>\n",
       "      <td>0.551858</td>\n",
       "      <td>0.557282</td>\n",
       "      <td>0.554878</td>\n",
       "      <td>0.556147</td>\n",
       "      <td>0.547103</td>\n",
       "    </tr>\n",
       "    <tr>\n",
       "      <th>immune_eryth</th>\n",
       "      <td>0.001887</td>\n",
       "      <td>0.000089</td>\n",
       "      <td>0.001364</td>\n",
       "      <td>0.000000</td>\n",
       "      <td>0.000745</td>\n",
       "      <td>0.000242</td>\n",
       "      <td>0.000819</td>\n",
       "      <td>0.002107</td>\n",
       "      <td>0.002009</td>\n",
       "      <td>0.000433</td>\n",
       "      <td>0.002684</td>\n",
       "      <td>0.000000</td>\n",
       "      <td>0.001642</td>\n",
       "      <td>0.000058</td>\n",
       "      <td>0.002933</td>\n",
       "      <td>0.000287</td>\n",
       "      <td>0.001375</td>\n",
       "      <td>0.000153</td>\n",
       "      <td>0.002104</td>\n",
       "      <td>0.001767</td>\n",
       "    </tr>\n",
       "    <tr>\n",
       "      <th>immune_mega</th>\n",
       "      <td>0.000000</td>\n",
       "      <td>0.000000</td>\n",
       "      <td>0.000685</td>\n",
       "      <td>0.000000</td>\n",
       "      <td>0.000000</td>\n",
       "      <td>0.000234</td>\n",
       "      <td>0.001745</td>\n",
       "      <td>0.000000</td>\n",
       "      <td>0.000000</td>\n",
       "      <td>0.000000</td>\n",
       "      <td>0.000000</td>\n",
       "      <td>0.000433</td>\n",
       "      <td>0.000000</td>\n",
       "      <td>0.000626</td>\n",
       "      <td>0.000000</td>\n",
       "      <td>0.000000</td>\n",
       "      <td>0.000331</td>\n",
       "      <td>0.000000</td>\n",
       "      <td>0.000000</td>\n",
       "      <td>0.000000</td>\n",
       "    </tr>\n",
       "    <tr>\n",
       "      <th>eryth_prog</th>\n",
       "      <td>0.000000</td>\n",
       "      <td>0.000000</td>\n",
       "      <td>0.000000</td>\n",
       "      <td>0.000000</td>\n",
       "      <td>0.000000</td>\n",
       "      <td>0.000000</td>\n",
       "      <td>0.000000</td>\n",
       "      <td>0.000000</td>\n",
       "      <td>0.000000</td>\n",
       "      <td>0.000000</td>\n",
       "      <td>0.000000</td>\n",
       "      <td>0.000000</td>\n",
       "      <td>0.000000</td>\n",
       "      <td>0.000000</td>\n",
       "      <td>0.000000</td>\n",
       "      <td>0.000000</td>\n",
       "      <td>0.000000</td>\n",
       "      <td>0.000000</td>\n",
       "      <td>0.000000</td>\n",
       "      <td>0.000000</td>\n",
       "    </tr>\n",
       "  </tbody>\n",
       "</table>\n",
       "</div>"
      ],
      "text/plain": [
       "                         0         1         2         3         4         5         6         7         8         9         10        11        12        13        14        15        16        17        18        19\n",
       "ref_celltype                                                                                                                                                                                                             \n",
       "immune_b           0.059193  0.059334  0.058459  0.059394  0.058215  0.056586  0.062305  0.058181  0.058600  0.060703  0.061665  0.059193  0.062606  0.059848  0.060737  0.058679  0.057341  0.058761  0.059555  0.059740\n",
       "immune_t_naive     0.135054  0.146640  0.142021  0.140561  0.133203  0.138351  0.138028  0.137598  0.141821  0.135965  0.130485  0.143103  0.142753  0.138472  0.138718  0.146481  0.136741  0.134570  0.149452  0.142675\n",
       "immune_t_effector  0.044152  0.043361  0.044308  0.044813  0.050200  0.046469  0.047511  0.043178  0.032856  0.044084  0.051546  0.040403  0.039670  0.040221  0.036990  0.035970  0.050311  0.052509  0.035214  0.036292\n",
       "immune_treg        0.042996  0.034818  0.037301  0.039460  0.037741  0.037277  0.038322  0.038672  0.042253  0.038996  0.036630  0.035004  0.040107  0.038124  0.042852  0.036939  0.036661  0.035727  0.040371  0.038151\n",
       "immune_nk          0.046821  0.046980  0.046813  0.047784  0.047243  0.046841  0.047518  0.047523  0.049984  0.045927  0.049296  0.049396  0.047009  0.046875  0.045400  0.049809  0.046462  0.047563  0.049149  0.045719\n",
       "immune_mono        0.097168  0.089378  0.096810  0.097001  0.093885  0.095713  0.095414  0.095107  0.102436  0.096699  0.102806  0.107151  0.104164  0.100527  0.101675  0.098647  0.102341  0.106072  0.105383  0.109840\n",
       "immune_eosi        0.000097  0.000657  0.000000  0.000000  0.000000  0.001313  0.002283  0.000000  0.000000  0.000000  0.000000  0.000000  0.000000  0.000000  0.000000  0.000000  0.000000  0.000539  0.000000  0.000000\n",
       "immune_neutro      0.557196  0.555492  0.560101  0.558110  0.556782  0.552287  0.556064  0.555238  0.555265  0.561822  0.558299  0.553633  0.556085  0.555698  0.555908  0.551858  0.557282  0.554878  0.556147  0.547103\n",
       "immune_eryth       0.001887  0.000089  0.001364  0.000000  0.000745  0.000242  0.000819  0.002107  0.002009  0.000433  0.002684  0.000000  0.001642  0.000058  0.002933  0.000287  0.001375  0.000153  0.002104  0.001767\n",
       "immune_mega        0.000000  0.000000  0.000685  0.000000  0.000000  0.000234  0.001745  0.000000  0.000000  0.000000  0.000000  0.000433  0.000000  0.000626  0.000000  0.000000  0.000331  0.000000  0.000000  0.000000\n",
       "eryth_prog         0.000000  0.000000  0.000000  0.000000  0.000000  0.000000  0.000000  0.000000  0.000000  0.000000  0.000000  0.000000  0.000000  0.000000  0.000000  0.000000  0.000000  0.000000  0.000000  0.000000"
      ]
     },
     "execution_count": 116,
     "metadata": {},
     "output_type": "execute_result"
    }
   ],
   "source": [
    "deconvolution_nnls[1][0]"
   ]
  },
  {
   "cell_type": "code",
   "execution_count": 117,
   "metadata": {
    "tags": []
   },
   "outputs": [],
   "source": [
    "def lod95_detect_plot(titrating_celltypes, titrating_celltype_proportion, deconvolution_preds, detection_threshold, lod=0.95):\n",
    "    # celltype atlas, deconvolution_predictions list(s), titration list, titrating cell type proportions, decision threshold\n",
    "    # celltype atlas, deconvolution list(s), titration list, titrating cell type proportions, +/- tolerance\n",
    "    # support 1 vs all\n",
    "    # titrating_celltypes = ['immune_t_effector', 'immune_treg']\n",
    "    # titrating_celltype_proportion = TITRATION_LIST\n",
    "    # deconvolution_preds = deconvolution_nnls\n",
    "    # detection_threshold =  0.005\n",
    "    # lod = 0.95\n",
    "\n",
    "    data = []\n",
    "    lod95_value = []\n",
    "\n",
    "    # <- start loop\n",
    "    for celltype in titrating_celltypes:\n",
    "        \n",
    "        celltype_idx = titrating_celltypes.index(celltype)\n",
    "        preds_for_celltype = deconvolution_preds[celltype_idx]\n",
    "\n",
    "        p_detect = []\n",
    "\n",
    "        for df in preds_for_celltype:\n",
    "            m, n = df.shape\n",
    "            phat = df[df.index == celltype]\n",
    "            phat_boolean = phat > detection_threshold\n",
    "            p_detected = sum(phat_boolean.values.squeeze()) / n\n",
    "            p_detect.append(p_detected)\n",
    "\n",
    "        ###### ----- plotting\n",
    "\n",
    "        # Replace these with your data\n",
    "        x_values = titrating_celltype_proportion\n",
    "        y_values = p_detect \n",
    "\n",
    "        data.append((x_values, y_values))\n",
    "\n",
    "        # Sorting the x_values and y_values in the order of x_values\n",
    "        sorted_indices = np.argsort(x_values)\n",
    "        x_values_sorted = np.array(x_values)[sorted_indices]\n",
    "        y_values_sorted = np.array(y_values)[sorted_indices]\n",
    "\n",
    "        if x_values_sorted[0] == 0:\n",
    "            y_values_sorted[0] = 0\n",
    "\n",
    "        # Interpolating to find the x-value\n",
    "        y_target = lod\n",
    "        x_target = np.interp(y_target, y_values_sorted, x_values_sorted)\n",
    "        lod95_value.append(x_target)\n",
    "\n",
    "\n",
    "    for i, (x_values, y_values) in enumerate(data):\n",
    "        name = titrating_celltypes[i]\n",
    "        lod95 = round(lod95_value[i], 3)\n",
    "        label = f'{name}: {lod95}'\n",
    "        if x_values[-1] == 0:\n",
    "            y_values[-1] = 0\n",
    "        sns.scatterplot(x=x_values, y=y_values, label=label)\n",
    "        sns.lineplot(x=x_values, y=y_values)\n",
    "\n",
    "    # Set the limits and spacing of the x and y axes\n",
    "    # plt.xticks(ticks=[i/10 for i in range(11)])\n",
    "    # plt.yticks(ticks=[i/10 for i in range(11)])\n",
    "    plt.xlim(0, 0.1)\n",
    "    plt.ylim(0, 1)\n",
    "\n",
    "    plt.axhline(y=y_target, xmin=0, xmax=x_target+1, color='blue', linestyle='--', linewidth=0.8)\n",
    "\n",
    "    plt.grid(True, alpha=0.5)\n",
    "    plt.gca().set_axisbelow(True)\n",
    "\n",
    "    plt.xlabel('Cell Type Proportion')\n",
    "    plt.ylabel('% Correctly Identified (x/20)')\n",
    "    plt.legend(bbox_to_anchor=(1.05, 1), loc='upper left')\n",
    "\n",
    "    plt.show()\n",
    "    \n"
   ]
  },
  {
   "cell_type": "code",
   "execution_count": 118,
   "metadata": {
    "tags": []
   },
   "outputs": [],
   "source": [
    "def lod95_within_proportion_plot(titrating_celltypes, titrating_celltype_proportion, deconvolution_preds, tolerance=0.3, lod=0.95):\n",
    "    # celltype atlas, deconvolution_predictions list(s), titration list, titrating cell type proportions, decision threshold\n",
    "    # celltype atlas, deconvolution list(s), titration list, titrating cell type proportions, +/- tolerance\n",
    "    # support 1 vs all\n",
    "    # titrating_celltypes = ['immune_t_effector', 'immune_treg']\n",
    "    # titrating_celltype_proportion = TITRATION_LIST\n",
    "    # deconvolution_preds = deconvolution_nnls\n",
    "    # detection_threshold =  0.005\n",
    "    # lod = 0.95\n",
    "\n",
    "    data = []\n",
    "    lod95_value = []\n",
    "\n",
    "    # <- start loop\n",
    "    for celltype in titrating_celltypes:\n",
    "        \n",
    "        celltype_idx = titrating_celltypes.index(celltype)\n",
    "        preds_for_celltype = deconvolution_preds[celltype_idx]\n",
    "\n",
    "        p_correct = []\n",
    "\n",
    "        for i in range(0,len(preds_for_celltype)):\n",
    "            df = preds_for_celltype[i]\n",
    "            m, n = df.shape\n",
    "            eps = titrating_celltype_proportion[i] * tolerance\n",
    "            true_p = titrating_celltype_proportion[i]\n",
    "            true_p_min = true_p - eps \n",
    "            true_p_max = true_p + eps\n",
    "            phat = df[df.index == celltype]\n",
    "            phat = phat.values.squeeze()\n",
    "            phat_boolean = [(true_p_min <= x <= true_p_max) for x in phat]\n",
    "            p_correct.append(sum(phat_boolean) / n)\n",
    "\n",
    "        ###### ----- plotting\n",
    "\n",
    "        # Replace these with your data\n",
    "        x_values = titrating_celltype_proportion\n",
    "        y_values = p_correct\n",
    "\n",
    "        data.append((x_values, y_values))\n",
    "\n",
    "        # Sorting the x_values and y_values in the order of x_values\n",
    "        sorted_indices = np.argsort(x_values)\n",
    "        x_values_sorted = np.array(x_values)[sorted_indices]\n",
    "        y_values_sorted = np.array(y_values)[sorted_indices]\n",
    "\n",
    "        if x_values_sorted[0] == 0:\n",
    "            y_values_sorted[0] = 0\n",
    "\n",
    "        # Interpolating to find the x-value\n",
    "        y_target = lod\n",
    "        x_target = np.interp(y_target, y_values_sorted, x_values_sorted)\n",
    "        lod95_value.append(x_target)\n",
    "\n",
    "\n",
    "    for i, (x_values, y_values) in enumerate(data):\n",
    "        name = titrating_celltypes[i]\n",
    "        lod95 = round(lod95_value[i], 3)\n",
    "        label = f'{name}: {lod95}'\n",
    "        if x_values[-1] == 0:\n",
    "            y_values[-1] = 0\n",
    "        sns.scatterplot(x=x_values, y=y_values, label=label)\n",
    "        sns.lineplot(x=x_values, y=y_values)\n",
    "\n",
    "    # Set the limits and spacing of the x and y axes\n",
    "    # plt.xticks(ticks=[i/10 for i in range(11)])\n",
    "    # plt.yticks(ticks=[i/10 for i in range(11)])\n",
    "    plt.xlim(0, 0.1)\n",
    "    plt.ylim(0, 1)\n",
    "\n",
    "    plt.axhline(y=y_target, xmin=0, xmax=x_target+1, color='blue', linestyle='--', linewidth=0.8)\n",
    "\n",
    "    plt.grid(True, alpha=0.5)\n",
    "    plt.gca().set_axisbelow(True)\n",
    "\n",
    "    plt.xlabel('Cell Type Proportion')\n",
    "    plt.ylabel('% Correctly Identified (x/20)')\n",
    "    plt.legend(bbox_to_anchor=(1.05, 1), loc='upper left')\n",
    "\n",
    "    plt.show()\n",
    "    \n"
   ]
  },
  {
   "cell_type": "code",
   "execution_count": 119,
   "metadata": {
    "tags": []
   },
   "outputs": [
    {
     "data": {
      "image/png": "[encoded data removed]",
      "text/plain": [
       "<Figure size 432x288 with 1 Axes>"
      ]
     },
     "metadata": {
      "needs_background": "light"
     },
     "output_type": "display_data"
    }
   ],
   "source": [
    "# t effector, t reg order must follow the order in which the predictions were made\n",
    "lod95_detect_plot(titrating_celltypes = ['immune_t_effector', 'immune_treg', 'immune_t_naive'], \n",
    "                  titrating_celltype_proportion = TITRATION_LIST, \n",
    "                  deconvolution_preds = deconvolution_nnls , \n",
    "                  detection_threshold = 0.00, \n",
    "                  lod=0.95)"
   ]
  },
  {
   "cell_type": "code",
   "execution_count": null,
   "metadata": {},
   "outputs": [],
   "source": []
  },
  {
   "cell_type": "code",
   "execution_count": 120,
   "metadata": {
    "tags": []
   },
   "outputs": [
    {
     "data": {
      "image/png": "[encoded data removed]",
      "text/plain": [
       "<Figure size 432x288 with 1 Axes>"
      ]
     },
     "metadata": {
      "needs_background": "light"
     },
     "output_type": "display_data"
    }
   ],
   "source": [
    "lod95_within_proportion_plot(titrating_celltypes = ['immune_t_effector', 'immune_treg', 'immune_t_naive'], \n",
    "                              titrating_celltype_proportion = TITRATION_LIST, \n",
    "                              deconvolution_preds = deconvolution_nnls, \n",
    "                              tolerance = 0.3, \n",
    "                              lod=0.95)\n"
   ]
  },
  {
   "cell_type": "code",
   "execution_count": 121,
   "metadata": {
    "tags": []
   },
   "outputs": [
    {
     "data": {
      "text/plain": [
       "<module 'helper' from '/analysis/gh-msun/projects/2023_06_26_SRT_deconvolution_MS/scripts/helper.py'>"
      ]
     },
     "execution_count": 121,
     "metadata": {},
     "output_type": "execute_result"
    }
   ],
   "source": [
    "importlib.reload(cm)\n",
    "importlib.reload(sm)\n",
    "importlib.reload(dcnv)\n",
    "importlib.reload(hlpr)"
   ]
  },
  {
   "cell_type": "code",
   "execution_count": 122,
   "metadata": {},
   "outputs": [
    {
     "data": {
      "image/png": "[encoded data removed]",
      "text/plain": [
       "<Figure size 432x288 with 1 Axes>"
      ]
     },
     "metadata": {
      "needs_background": "light"
     },
     "output_type": "display_data"
    }
   ],
   "source": [
    "# t effector, t reg order must follow the order in which the predictions were made\n",
    "dcnv.lod95_detect_plot(names=['T eff', 'T reg', 'T naive'],\n",
    "                  titrating_celltypes = ['immune_t_effector', 'immune_treg', 'immune_t_naive'], \n",
    "                  titrating_celltype_proportion = TITRATION_LIST, \n",
    "                  deconvolution_preds = deconvolution_nnls, \n",
    "                  detection_threshold = 0.005, \n",
    "                  lod=0.95,\n",
    "                  xlim=0.05)"
   ]
  },
  {
   "cell_type": "code",
   "execution_count": 123,
   "metadata": {},
   "outputs": [
    {
     "data": {
      "image/png": "[encoded data removed]",
      "text/plain": [
       "<Figure size 432x288 with 1 Axes>"
      ]
     },
     "metadata": {
      "needs_background": "light"
     },
     "output_type": "display_data"
    }
   ],
   "source": [
    "dcnv.lod95_within_proportion_plot(names=['T eff', 'T reg', 'T naive'],\n",
    "                            titrating_celltypes = ['immune_t_effector', 'immune_treg', 'immune_t_naive'], \n",
    "                              titrating_celltype_proportion = TITRATION_LIST, \n",
    "                              deconvolution_preds = deconvolution_nnls, \n",
    "                              xlim=0.05,\n",
    "                              tolerance = 0.3, \n",
    "                              lod=0.95)\n"
   ]
  },
  {
   "cell_type": "code",
   "execution_count": 64,
   "metadata": {},
   "outputs": [
    {
     "data": {
      "text/plain": [
       "[0.046000000000000006,\n",
       " 0.0345,\n",
       " 0.023000000000000003,\n",
       " 0.0184,\n",
       " 0.0138,\n",
       " 0.0092,\n",
       " 0.0046,\n",
       " 0.0023,\n",
       " 0.00184,\n",
       " 0.0013800000000000002,\n",
       " 0.00092,\n",
       " 0.00046,\n",
       " 0.00023,\n",
       " 0.0]"
      ]
     },
     "execution_count": 64,
     "metadata": {},
     "output_type": "execute_result"
    }
   ],
   "source": [
    "TITRATION_LIST"
   ]
  },
  {
   "cell_type": "code",
   "execution_count": null,
   "metadata": {},
   "outputs": [],
   "source": []
  }
 ],
 "metadata": {
  "kernelspec": {
   "display_name": "Python 3",
   "language": "python",
   "name": "python3"
  },
  "language_info": {
   "codemirror_mode": {
    "name": "ipython",
    "version": 3
   },
   "file_extension": ".py",
   "mimetype": "text/x-python",
   "name": "python",
   "nbconvert_exporter": "python",
   "pygments_lexer": "ipython3",
   "version": "3.7.8"
  }
 },
 "nbformat": 4,
 "nbformat_minor": 4
}
